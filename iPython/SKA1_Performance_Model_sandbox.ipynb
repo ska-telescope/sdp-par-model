{
 "metadata": {
  "name": "",
  "signature": "sha256:42bd770e772af712d16bd55bfd8bdfc3d0499de064da014c86b151dfb6e779f2"
 },
 "nbformat": 3,
 "nbformat_minor": 0,
 "worksheets": [
  {
   "cells": [
    {
     "cell_type": "heading",
     "level": 1,
     "metadata": {},
     "source": [
      "This notebook is provide interactive widgets to play with values for the SKA1 SDP"
     ]
    },
    {
     "cell_type": "heading",
     "level": 2,
     "metadata": {},
     "source": [
      "First, Set up some parameters"
     ]
    },
    {
     "cell_type": "code",
     "collapsed": false,
     "input": [
      "from IPython.html.widgets import interact, interactive, fixed\n",
      "from IPython.html import widgets\n",
      "from IPython.display import clear_output, display, HTML\n",
      "'''\n",
      "The following commands import the python modules, methods and code fragments that are required to run this notebook. \n",
      "Please refer to the following python files for implementation details (omitted here for readability)\n",
      "* env_setup.py -- code for setting up the python environment\n",
      "* parameter_definitions.py -- contains definitions of variables, primary telescope parameters  \n",
      "* formulae.py -- contains formulae for defiving secondary telescope-specific parameters from input parameters\n",
      "* implementation.py -- contains methods for performing computations (i.e. crunching the numbers)\n",
      "'''\n",
      "from env_setup import *\n",
      "from parameter_definitions import *\n",
      "from formulae import *\n",
      "from implementation import *\n",
      "\n",
      "def show_table(header, titles, values, units):\n",
      "    s = '<h3>%s:</h3><table>\\n' % header\n",
      "    assert len(titles) == len(values)\n",
      "    assert len(titles) == len(units)\n",
      "    for i in range(len(titles)):\n",
      "        s += '<tr><td>{0}</td><td><font color=\"blue\">{1}</font> {2}</td></tr>\\n'.format(titles[i],values[i], units[i])\n",
      "    s += '</table>'\n",
      "    display(HTML(s))"
     ],
     "language": "python",
     "metadata": {},
     "outputs": [],
     "prompt_number": 33
    },
    {
     "cell_type": "code",
     "collapsed": false,
     "input": [
      "band_lookup = {'SKA1-Low':'Low', 'SKA1-Mid (Band 1)':'Mid1', 'SKA1-Survey (Band 1)':'Sur1'}\n",
      "telescopes_pretty_print =('SKA1-Low', 'SKA1-Mid (Band 1)', 'SKA1-Survey (Band 1)')\n",
      "modes_pretty_print = ('Continuum', 'Spectral', 'SlowTrans')\n",
      "\n",
      "mode_lookup = {}\n",
      "for key in modes_pretty_print:\n",
      "    mode_lookup[key] = key\n",
      "\n",
      "def compute_flops(max_baseline, Nfacet, Tsnap, Telescope, Mode):    \n",
      "    band = band_lookup[Telescope]\n",
      "    titles = ('Max Baseline', 'Telescope', 'Band', 'Mode', 'Tsnap', 'Nfacet')\n",
      "    values = (max_baseline, Telescope, band, Mode, Tsnap, Nfacet)\n",
      "    units = ('km', '', '', '', 'sec', '')\n",
      "    show_table('Arguments', titles, values, units)\n",
      "    \n",
      "    telescope_parameters = calc_tel_params(band=band, mode=mode_lookup[Mode])\n",
      "    max_allowed_baseline = telescope_parameters.baseline_bins[-1] / u.km\n",
      "    \n",
      "    if max_baseline <= max_allowed_baseline:\n",
      "        telescope_parameters.Bmax = max_baseline * u.km\n",
      "\n",
      "        '''\n",
      "        (Tsnap_opt, Nfacet_opt) = find_optimal_Tsnap_Nfacet(telescope_parameters, verbose=True)\n",
      "        '''\n",
      "        expression = telescope_parameters.Rflop\n",
      "        expression_subst = expression.subs({telescope_parameters.Tsnap : Tsnap, telescope_parameters.Nfacet : Nfacet})\n",
      "        result = evaluate_binned_expression(expression_subst, telescope_parameters)\n",
      "\n",
      "        #show_table(title='Results', PetaFLOPS=result)\n",
      "    else :\n",
      "        print '\\n ERROR: max_baseline exceeds the maximum allowed baseline of %g km' % max_allowed_baseline\n",
      "    "
     ],
     "language": "python",
     "metadata": {},
     "outputs": [],
     "prompt_number": 34
    },
    {
     "cell_type": "heading",
     "level": 2,
     "metadata": {},
     "source": [
      "Now, we can interactively play with parameters"
     ]
    },
    {
     "cell_type": "code",
     "collapsed": false,
     "input": [
      "# Note that the allowable ranges are defined in the supplied arguments below\n",
      "\n",
      "interact(compute_flops, max_baseline=(10,200), Nfacet=(1,10,1), Tsnap=(1.2,1800), Telescope=telescopes_pretty_print, \n",
      "         Mode=modes_pretty_print);"
     ],
     "language": "python",
     "metadata": {},
     "outputs": [
      {
       "html": [
        "<h3>Arguments:</h3><table>\n",
        "<tr><td>Max Baseline</td><td><font color=\"blue\">61</font> km</td></tr>\n",
        "<tr><td>Telescope</td><td><font color=\"blue\">SKA1-Low</font> </td></tr>\n",
        "<tr><td>Band</td><td><font color=\"blue\">Low</font> </td></tr>\n",
        "<tr><td>Mode</td><td><font color=\"blue\">Continuum</font> </td></tr>\n",
        "<tr><td>Tsnap</td><td><font color=\"blue\">1488.7</font> sec</td></tr>\n",
        "<tr><td>Nfacet</td><td><font color=\"blue\">3</font> </td></tr>\n",
        "</table>"
       ],
       "metadata": {},
       "output_type": "display_data",
       "text": [
        "<IPython.core.display.HTML at 0x1531b7f0>"
       ]
      }
     ],
     "prompt_number": 35
    },
    {
     "cell_type": "heading",
     "level": 1,
     "metadata": {},
     "source": [
      "Old code:"
     ]
    },
    {
     "cell_type": "code",
     "collapsed": false,
     "input": [
      "telescope_parameters = calc_tel_params(band='Low', mode='Continuum')\n",
      "#telescope_parameters.Bmax = max_baseline * u.km\n",
      "\n",
      "(Tsnap_opt, Nfacet_opt) = find_optimal_Tsnap_Nfacet(telescope_parameters, verbose=True)\n",
      "expression = telescope_parameters.Rflop\n",
      "expression_subst = expression.subs({telescope_parameters.Tsnap : Tsnap_opt, telescope_parameters.Nfacet : Nfacet_opt})\n",
      "result = evaluate_binned_expression(expression_subst, telescope_parameters)\n"
     ],
     "language": "python",
     "metadata": {},
     "outputs": [
      {
       "output_type": "stream",
       "stream": "stdout",
       "text": [
        "Evaluating Nfacets = 1\n",
        "Tsnap has been optimized as : 36.819960, yielding a minimum value of 0.000000 Peta-units"
       ]
      },
      {
       "output_type": "stream",
       "stream": "stdout",
       "text": [
        "\n",
        "Evaluating Nfacets = 2"
       ]
      },
      {
       "output_type": "stream",
       "stream": "stdout",
       "text": [
        "\n",
        "Tsnap has been optimized as : 61.758547, yielding a minimum value of 0.000000 Peta-units"
       ]
      },
      {
       "output_type": "stream",
       "stream": "stdout",
       "text": [
        "\n",
        "Evaluating Nfacets = 3"
       ]
      },
      {
       "output_type": "stream",
       "stream": "stdout",
       "text": [
        "\n",
        "Tsnap has been optimized as : 86.900112, yielding a minimum value of 0.000000 Peta-units"
       ]
      },
      {
       "output_type": "stream",
       "stream": "stdout",
       "text": [
        "\n",
        "Evaluating Nfacets = 4\n",
        "Tsnap has been optimized as : 109.984848, yielding a minimum value of 0.000000 Peta-units"
       ]
      },
      {
       "output_type": "stream",
       "stream": "stdout",
       "text": [
        "\n",
        "\n",
        "Expression increasing with number of facets; aborting exploration of Nfacets > 4\n",
        "\n",
        "0.000000 PetaFLOPS was the lowest FLOP value, found for (Nfacet, Tsnap) = (3, 86.90)\n"
       ]
      }
     ],
     "prompt_number": 19
    },
    {
     "cell_type": "code",
     "collapsed": false,
     "input": [
      "import time\n",
      "t0 = time.time()\n",
      "band = 'Low'\n",
      "mode = 'Spectral'\n",
      "telescope_parameters = calc_tel_params(band=band, mode=mode)\n",
      "(Tsnap_opt, Nfacet_opt) = find_optimal_Tsnap_Nfacet(telescope_parameters, verbose=True)\n",
      "print (Tsnap_opt, Nfacet_opt)\n",
      "#(Tsnap_opt, Nfacet_opt) = (87.16, 3)\n",
      "t1 = time.time()\n",
      "expression = telescope_parameters.Rflop\n",
      "expression_subst = expression.subs({telescope_parameters.Tsnap : Tsnap_opt, telescope_parameters.Nfacet : Nfacet_opt})\n",
      "result = evaluate_binned_expression(expression_subst, telescope_parameters)\n",
      "print 'Result of expression = %f Peta' % (result)\n",
      "t2 = time.time()\n",
      "print 'Optimization took %f seconds' % (t1-t0)\n",
      "print 'Evaluation took %f seconds' % (t2-t1)\n",
      "print 'Total time = %f seconds' % (t2-t0)"
     ],
     "language": "python",
     "metadata": {},
     "outputs": [
      {
       "output_type": "stream",
       "stream": "stdout",
       "text": [
        "Evaluating Nfacets = 1\n",
        "Tsnap has been optimized as : 117.742556, yielding a minimum value of 0.000000 Peta-units"
       ]
      },
      {
       "output_type": "stream",
       "stream": "stdout",
       "text": [
        "\n",
        "Evaluating Nfacets = 2\n",
        "Tsnap has been optimized as : 164.551134, yielding a minimum value of 0.000000 Peta-units"
       ]
      },
      {
       "output_type": "stream",
       "stream": "stdout",
       "text": [
        "\n",
        "\n",
        "Expression increasing with number of facets; aborting exploration of Nfacets > 2\n",
        "\n",
        "0.000000 PetaFLOPS was the lowest FLOP value, found for (Nfacet, Tsnap) = (1, 117.74)\n",
        "(117.742556400779, 1)\n",
        "Result of expression = 34.255293 Peta"
       ]
      },
      {
       "output_type": "stream",
       "stream": "stdout",
       "text": [
        "\n",
        "Optimization took 11.059000 seconds\n",
        "Evaluation took 0.441000 seconds\n",
        "Total time = 11.500000 seconds\n"
       ]
      }
     ],
     "prompt_number": 5
    }
   ],
   "metadata": {}
  }
 ]
}