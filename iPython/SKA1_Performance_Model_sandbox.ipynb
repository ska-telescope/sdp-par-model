{
 "cells": [
  {
   "cell_type": "markdown",
   "metadata": {},
   "source": [
    "# This notebook provides interactive widgets to play with values for the SKA1 SDP"
   ]
  },
  {
   "cell_type": "markdown",
   "metadata": {},
   "source": [
    "## First, do the necessary set-up"
   ]
  },
  {
   "cell_type": "code",
   "execution_count": 1,
   "metadata": {
    "collapsed": false
   },
   "outputs": [
    {
     "name": "stdout",
     "output_type": "stream",
     "text": [
      "IPython console for SymPy 0.7.6 (Python 2.7.7-32-bit) (ground types: python)\n"
     ]
    },
    {
     "name": "stderr",
     "output_type": "stream",
     "text": [
      ":0: FutureWarning: IPython widgets are experimental and may change in the future.\n"
     ]
    }
   ],
   "source": [
    "'''\n",
    "The following commands import the python modules, methods and code fragments that are required to run this notebook. \n",
    "Please refer to the following python files for implementation details (omitted here for readability)\n",
    "* env_setup.py -- code for setting up the python environment\n",
    "* parameter_definitions.py -- contains definitions of variables, primary telescope parameters  \n",
    "* formulae.py -- contains formulae for defiving secondary telescope-specific parameters from input parameters\n",
    "* implementation.py -- contains methods for performing computations (i.e. crunching the numbers)\n",
    "'''\n",
    "\n",
    "from IPython.html.widgets import interact, interactive, fixed\n",
    "from IPython.html.widgets.interaction import interact_manual\n",
    "from IPython.html import widgets\n",
    "from IPython.display import clear_output, display, HTML\n",
    "\n",
    "from env_setup import *\n",
    "from parameter_definitions import *\n",
    "from formulae import *\n",
    "from implementation import *\n",
    "\n",
    "def show_table(header, titles, values, units):\n",
    "    s = '<h3>%s:</h3><table>\\n' % header\n",
    "    assert len(titles) == len(values)\n",
    "    assert len(titles) == len(units)\n",
    "    for i in range(len(titles)):\n",
    "        s += '<tr><td>{0}</td><td><font color=\"blue\">{1}</font> {2}</td></tr>\\n'.format(titles[i], values[i], units[i])\n",
    "    s += '</table>'\n",
    "    display(HTML(s))\n",
    "    \n",
    "band_lookup = {'SKA1-Low':'Low', 'SKA1-Mid (Band 1)':'Mid1', 'SKA1-Survey (Band 1)':'Sur1'}\n",
    "telescopes_pretty_print =('SKA1-Low', 'SKA1-Mid (Band 1)', 'SKA1-Survey (Band 1)')\n",
    "modes_pretty_print = ('Continuum', 'Spectral', 'SlowTrans')\n",
    "\n",
    "mode_lookup = {}\n",
    "for key in modes_pretty_print:\n",
    "    mode_lookup[key] = key\n",
    "\n",
    "def compute_results(tp, Tsnap=None, Nfacet=None):\n",
    "    \"\"\"\n",
    "    Computes the output parameters that we are interested in. Tsnap and Nfacet may either be specified, or omitted.\n",
    "    If omitted, Tsnap and Nfacet are automtically computed via numerical optimization.\n",
    "    \"\"\"\n",
    "    # NB: The line below defines the output variables to be computed\n",
    "    expressions = (tp.Mbuf_vis, tp.Mw_cache/1.0e12, tp.Npix_linear, tp.Rio*1e3, tp.Rflop)\n",
    "\n",
    "    '''\n",
    "    (Tsnap_opt, Nfacet_opt) = find_optimal_Tsnap_Nfacet(tp, verbose=True)\n",
    "    '''\n",
    "    result_value_string = []\n",
    "    for expression in expressions:\n",
    "        expression_subst = expression.subs({tp.Tsnap : Tsnap, tp.Nfacet : Nfacet})\n",
    "        result = evaluate_binned_expression(expression_subst, tp)\n",
    "        if expression is not tp.Npix_linear: \n",
    "            result_value_string.append('%.3g' % result)\n",
    "        else:\n",
    "            result_value_string.append('%d' % result)\n",
    "\n",
    "    return result_value_string\n",
    "    \n",
    "def compute_flops(max_baseline, Nfacet, Tsnap, Telescope, Mode):    \n",
    "    band = band_lookup[Telescope]\n",
    "    titles = ('Max Baseline', 'Telescope', 'Band', 'Mode', 'Tsnap', 'Nfacet')\n",
    "    values = (max_baseline, Telescope, band, Mode, Tsnap, Nfacet)\n",
    "    units = ('km', '', '', '', 'sec', '')\n",
    "    show_table('Arguments', titles, values, units)\n",
    "    \n",
    "    result_titles = ('Visibility Buffer', 'Working (cache) memory', 'Image side length', 'I/O Rate', 'Total Compute Requirement',)\n",
    "    result_units = ('PetaBytes', 'TeraBytes', 'pixels', 'TeraBytes/s','PetaFLOPS',)\n",
    "    \n",
    "    tp = calc_tel_params(band=band, mode=mode_lookup[Mode])  # Telescope parameters\n",
    "    max_allowed_baseline = tp.baseline_bins[-1] / u.km\n",
    "    \n",
    "    if max_baseline <= max_allowed_baseline:\n",
    "        tp.Bmax = max_baseline * u.km\n",
    "        result_value_string = compute_results(tp, Tsnap, Nfacet)\n",
    "        show_table('Computed SDP Estimates', result_titles, result_value_string, result_units)\n",
    "    else :\n",
    "        msg = 'ERROR: max_baseline exceeds the maximum allowed baseline of %g km for this telescope.' % max_allowed_baseline\n",
    "        s = '<font color=\"red\"><b>{0}</b>.<br>Adjust to recompute.</font>'.format(msg)\n",
    "        display(HTML(s))\n",
    "    "
   ]
  },
  {
   "cell_type": "markdown",
   "metadata": {},
   "source": [
    "## Now, we can interactively play with parameters"
   ]
  },
  {
   "cell_type": "markdown",
   "metadata": {},
   "source": [
    "### The first option is automatic updating of results as the sliders are moved. This may be sluggish"
   ]
  },
  {
   "cell_type": "code",
   "execution_count": 2,
   "metadata": {
    "collapsed": false
   },
   "outputs": [
    {
     "data": {
      "text/html": [
       "<h3>Arguments:</h3><table>\n",
       "<tr><td>Max Baseline</td><td><font color=\"blue\">44</font> km</td></tr>\n",
       "<tr><td>Telescope</td><td><font color=\"blue\">SKA1-Low</font> </td></tr>\n",
       "<tr><td>Band</td><td><font color=\"blue\">Low</font> </td></tr>\n",
       "<tr><td>Mode</td><td><font color=\"blue\">Continuum</font> </td></tr>\n",
       "<tr><td>Tsnap</td><td><font color=\"blue\">425.7</font> sec</td></tr>\n",
       "<tr><td>Nfacet</td><td><font color=\"blue\">3</font> </td></tr>\n",
       "</table>"
      ],
      "text/plain": [
       "<IPython.core.display.HTML object>"
      ]
     },
     "metadata": {},
     "output_type": "display_data"
    },
    {
     "data": {
      "text/html": [
       "<h3>Computed SDP Estimates:</h3><table>\n",
       "<tr><td>Visibility Buffer</td><td><font color=\"blue\">0.789</font> PetaBytes</td></tr>\n",
       "<tr><td>Working (cache) memory</td><td><font color=\"blue\">0.187</font> TeraBytes</td></tr>\n",
       "<tr><td>Image side length</td><td><font color=\"blue\">97530</font> pixels</td></tr>\n",
       "<tr><td>I/O Rate</td><td><font color=\"blue\">1.81</font> TeraBytes/s</td></tr>\n",
       "<tr><td>Total Compute Requirement</td><td><font color=\"blue\">5.47</font> PetaFLOPS</td></tr>\n",
       "</table>"
      ],
      "text/plain": [
       "<IPython.core.display.HTML object>"
      ]
     },
     "metadata": {},
     "output_type": "display_data"
    }
   ],
   "source": [
    "interact(compute_flops, max_baseline=(10,200), Nfacet=(1,10,1), Tsnap=(1.2,1800), Telescope=telescopes_pretty_print, \n",
    "         Mode=modes_pretty_print);"
   ]
  },
  {
   "cell_type": "markdown",
   "metadata": {},
   "source": [
    "### The second option is manual triggering of recompute events (recommended)"
   ]
  },
  {
   "cell_type": "code",
   "execution_count": 4,
   "metadata": {
    "collapsed": false
   },
   "outputs": [
    {
     "data": {
      "text/html": [
       "<h3>Arguments:</h3><table>\n",
       "<tr><td>Max Baseline</td><td><font color=\"blue\">84</font> km</td></tr>\n",
       "<tr><td>Telescope</td><td><font color=\"blue\">SKA1-Low</font> </td></tr>\n",
       "<tr><td>Band</td><td><font color=\"blue\">Low</font> </td></tr>\n",
       "<tr><td>Mode</td><td><font color=\"blue\">Continuum</font> </td></tr>\n",
       "<tr><td>Tsnap</td><td><font color=\"blue\">900.6</font> sec</td></tr>\n",
       "<tr><td>Nfacet</td><td><font color=\"blue\">64</font> </td></tr>\n",
       "</table>"
      ],
      "text/plain": [
       "<IPython.core.display.HTML object>"
      ]
     },
     "metadata": {},
     "output_type": "display_data"
    },
    {
     "data": {
      "text/html": [
       "<h3>Computed SDP Estimates:</h3><table>\n",
       "<tr><td>Visibility Buffer</td><td><font color=\"blue\">0.462</font> PetaBytes</td></tr>\n",
       "<tr><td>Working (cache) memory</td><td><font color=\"blue\">1.26e-06</font> TeraBytes</td></tr>\n",
       "<tr><td>Image side length</td><td><font color=\"blue\">5877</font> pixels</td></tr>\n",
       "<tr><td>I/O Rate</td><td><font color=\"blue\">482</font> TeraBytes/s</td></tr>\n",
       "<tr><td>Total Compute Requirement</td><td><font color=\"blue\">352</font> PetaFLOPS</td></tr>\n",
       "</table>"
      ],
      "text/plain": [
       "<IPython.core.display.HTML object>"
      ]
     },
     "metadata": {},
     "output_type": "display_data"
    }
   ],
   "source": [
    "interact_manual(compute_flops, max_baseline=(10,200), Nfacet=(1,128,1), Tsnap=(1.2,1800), Telescope=telescopes_pretty_print, \n",
    "         Mode=modes_pretty_print);"
   ]
  }
 ],
 "metadata": {
  "kernelspec": {
   "display_name": "Python 2",
   "language": "python",
   "name": "python2"
  },
  "language_info": {
   "codemirror_mode": {
    "name": "ipython",
    "version": 2
   },
   "file_extension": ".py",
   "mimetype": "text/x-python",
   "name": "python",
   "nbconvert_exporter": "python",
   "pygments_lexer": "ipython2",
   "version": "2.7.7"
  }
 },
 "nbformat": 4,
 "nbformat_minor": 0
}
