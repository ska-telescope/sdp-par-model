{
 "cells": [
  {
   "cell_type": "markdown",
   "metadata": {},
   "source": [
    "# This notebook provides interactive widgets to play with values for the SKA1 SDP"
   ]
  },
  {
   "cell_type": "markdown",
   "metadata": {},
   "source": [
    "## First, do the necessary set-up"
   ]
  },
  {
   "cell_type": "code",
   "execution_count": 1,
   "metadata": {
    "collapsed": false
   },
   "outputs": [
    {
     "name": "stdout",
     "output_type": "stream",
     "text": [
      "IPython console for SymPy 0.7.6 (Python 2.7.7-32-bit) (ground types: python)\n"
     ]
    },
    {
     "name": "stderr",
     "output_type": "stream",
     "text": [
      ":0: FutureWarning: IPython widgets are experimental and may change in the future.\n"
     ]
    }
   ],
   "source": [
    "'''\n",
    "The following commands import the python modules, methods and code fragments that are required to run this notebook. \n",
    "Please refer to the following python files for implementation details (omitted here for readability)\n",
    "* env_setup.py -- code for setting up the python environment\n",
    "* parameter_definitions.py -- contains definitions of variables, primary telescope parameters  \n",
    "* formulae.py -- contains formulae for defiving secondary telescope-specific parameters from input parameters\n",
    "* implementation.py -- contains methods for performing computations (i.e. crunching the numbers)\n",
    "'''\n",
    "\n",
    "from IPython.html.widgets import interact, interactive, fixed\n",
    "from IPython.html.widgets.interaction import interact_manual\n",
    "from IPython.html import widgets\n",
    "from IPython.display import clear_output, display, HTML\n",
    "\n",
    "from env_setup import *\n",
    "from parameter_definitions import *\n",
    "from formulae import *\n",
    "from implementation import *\n",
    "\n",
    "def show_table(header, titles, values, units):\n",
    "    s = '<h3>%s:</h3><table>\\n' % header\n",
    "    assert len(titles) == len(values)\n",
    "    assert len(titles) == len(units)\n",
    "    for i in range(len(titles)):\n",
    "        s += '<tr><td>{0}</td><td><font color=\"blue\">{1}</font> {2}</td></tr>\\n'.format(titles[i], values[i], units[i])\n",
    "    s += '</table>'\n",
    "    display(HTML(s))\n",
    "    \n",
    "band_lookup = {'SKA1-Low':'Low', 'SKA1-Mid (Band 1)':'Mid1', 'SKA1-Survey (Band 1)':'Sur1'}\n",
    "telescopes_pretty_print =('SKA1-Low', 'SKA1-Mid (Band 1)', 'SKA1-Survey (Band 1)')\n",
    "modes_pretty_print = ('Continuum', 'Spectral', 'SlowTrans')\n",
    "\n",
    "mode_lookup = {}\n",
    "for key in modes_pretty_print:\n",
    "    mode_lookup[key] = key\n",
    "\n",
    "def compute_flops(max_baseline, Nfacet, Tsnap, Telescope, Mode):    \n",
    "    band = band_lookup[Telescope]\n",
    "    titles = ('Max Baseline', 'Telescope', 'Band', 'Mode', 'Tsnap', 'Nfacet')\n",
    "\n",
    "    values = (max_baseline, Telescope, band, Mode, Tsnap, Nfacet)\n",
    "    units = ('km', '', '', '', 'sec', '')\n",
    "    show_table('Arguments', titles, values, units)\n",
    "    \n",
    "    telescope_parameters = calc_tel_params(band=band, mode=mode_lookup[Mode])\n",
    "    max_allowed_baseline = telescope_parameters.baseline_bins[-1] / u.km\n",
    "    \n",
    "    if max_baseline <= max_allowed_baseline:\n",
    "        telescope_parameters.Bmax = max_baseline * u.km\n",
    "\n",
    "        '''\n",
    "        (Tsnap_opt, Nfacet_opt) = find_optimal_Tsnap_Nfacet(telescope_parameters, verbose=True)\n",
    "        '''\n",
    "        expression = telescope_parameters.Rflop\n",
    "        expression_subst = expression.subs({telescope_parameters.Tsnap : Tsnap, telescope_parameters.Nfacet : Nfacet})\n",
    "        result_titles = ('Total Compute Requirement',)\n",
    "        result_units = ('PetaFLOPS',)\n",
    "        result = evaluate_binned_expression(expression_subst, telescope_parameters)\n",
    "        result_values = ('%g' % result,)\n",
    "        \n",
    "        show_table('Results', result_titles, result_values, result_units)\n",
    "    else :\n",
    "        msg = 'ERROR: max_baseline exceeds the maximum allowed baseline of %g km for this telescope.' % max_allowed_baseline\n",
    "        s = '<font color=\"red\"><b>{0}</b>.<br>Adjust to recompute.</font>'.format(msg)\n",
    "        display(HTML(s))\n",
    "    "
   ]
  },
  {
   "cell_type": "markdown",
   "metadata": {},
   "source": [
    "## Now, we can interactively play with parameters"
   ]
  },
  {
   "cell_type": "markdown",
   "metadata": {},
   "source": [
    "### The first option is automatic updating of results as the sliders are moved. This may be sluggish"
   ]
  },
  {
   "cell_type": "code",
   "execution_count": 2,
   "metadata": {
    "collapsed": false
   },
   "outputs": [
    {
     "data": {
      "text/html": [
       "<h3>Arguments:</h3><table>\n",
       "<tr><td>Max Baseline</td><td><font color=\"blue\">39</font> km</td></tr>\n",
       "<tr><td>Telescope</td><td><font color=\"blue\">SKA1-Mid (Band 1)</font> </td></tr>\n",
       "<tr><td>Band</td><td><font color=\"blue\">Mid1</font> </td></tr>\n",
       "<tr><td>Mode</td><td><font color=\"blue\">Continuum</font> </td></tr>\n",
       "<tr><td>Tsnap</td><td><font color=\"blue\">900.6</font> sec</td></tr>\n",
       "<tr><td>Nfacet</td><td><font color=\"blue\">5</font> </td></tr>\n",
       "</table>"
      ],
      "text/plain": [
       "<IPython.core.display.HTML object>"
      ]
     },
     "metadata": {},
     "output_type": "display_data"
    },
    {
     "data": {
      "text/html": [
       "<h3>Results:</h3><table>\n",
       "<tr><td>Total Compute Requirement</td><td><font color=\"blue\">2.06905</font> PetaFLOPS</td></tr>\n",
       "</table>"
      ],
      "text/plain": [
       "<IPython.core.display.HTML object>"
      ]
     },
     "metadata": {},
     "output_type": "display_data"
    }
   ],
   "source": [
    "interact(compute_flops, max_baseline=(10,200), Nfacet=(1,10,1), Tsnap=(1.2,1800), Telescope=telescopes_pretty_print, \n",
    "         Mode=modes_pretty_print);"
   ]
  },
  {
   "cell_type": "code",
   "execution_count": 3,
   "metadata": {
    "collapsed": true
   },
   "outputs": [],
   "source": [
    "### The second option is manual triggering of recompute events (recommended)"
   ]
  },
  {
   "cell_type": "code",
   "execution_count": 4,
   "metadata": {
    "collapsed": false
   },
   "outputs": [
    {
     "data": {
      "text/html": [
       "<h3>Arguments:</h3><table>\n",
       "<tr><td>Max Baseline</td><td><font color=\"blue\">76</font> km</td></tr>\n",
       "<tr><td>Telescope</td><td><font color=\"blue\">SKA1-Low</font> </td></tr>\n",
       "<tr><td>Band</td><td><font color=\"blue\">Low</font> </td></tr>\n",
       "<tr><td>Mode</td><td><font color=\"blue\">Continuum</font> </td></tr>\n",
       "<tr><td>Tsnap</td><td><font color=\"blue\">900.6</font> sec</td></tr>\n",
       "<tr><td>Nfacet</td><td><font color=\"blue\">64</font> </td></tr>\n",
       "</table>"
      ],
      "text/plain": [
       "<IPython.core.display.HTML object>"
      ]
     },
     "metadata": {},
     "output_type": "display_data"
    },
    {
     "data": {
      "text/html": [
       "<h3>Results:</h3><table>\n",
       "<tr><td>Total Compute Requirement</td><td><font color=\"blue\">352.201</font> PetaFLOPS</td></tr>\n",
       "</table>"
      ],
      "text/plain": [
       "<IPython.core.display.HTML object>"
      ]
     },
     "metadata": {},
     "output_type": "display_data"
    }
   ],
   "source": [
    "interact_manual(compute_flops, max_baseline=(10,200), Nfacet=(1,128,1), Tsnap=(1.2,1800), Telescope=telescopes_pretty_print, \n",
    "         Mode=modes_pretty_print);"
   ]
  },
  {
   "cell_type": "markdown",
   "metadata": {},
   "source": [
    "# Old code (to be deleted):"
   ]
  },
  {
   "cell_type": "code",
   "execution_count": 19,
   "metadata": {
    "collapsed": false
   },
   "outputs": [
    {
     "name": "stdout",
     "output_type": "stream",
     "text": [
      "Evaluating Nfacets = 1\n",
      "Tsnap has been optimized as : 36.819960, yielding a minimum value of 0.000000 Peta-units\n",
      "Evaluating Nfacets = 2\n",
      "Tsnap has been optimized as : 61.758547, yielding a minimum value of 0.000000 Peta-units\n",
      "Evaluating Nfacets = 3\n",
      "Tsnap has been optimized as : 86.900112, yielding a minimum value of 0.000000 Peta-units\n",
      "Evaluating Nfacets = 4\n",
      "Tsnap has been optimized as : 109.984848, yielding a minimum value of 0.000000 Peta-units\n",
      "\n",
      "Expression increasing with number of facets; aborting exploration of Nfacets > 4\n",
      "\n",
      "0.000000 PetaFLOPS was the lowest FLOP value, found for (Nfacet, Tsnap) = (3, 86.90)\n"
     ]
    }
   ],
   "source": [
    "telescope_parameters = calc_tel_params(band='Low', mode='Continuum')\n",
    "#telescope_parameters.Bmax = max_baseline * u.km\n",
    "\n",
    "(Tsnap_opt, Nfacet_opt) = find_optimal_Tsnap_Nfacet(telescope_parameters, verbose=True)\n",
    "expression = telescope_parameters.Rflop\n",
    "expression_subst = expression.subs({telescope_parameters.Tsnap : Tsnap_opt, telescope_parameters.Nfacet : Nfacet_opt})\n",
    "result = evaluate_binned_expression(expression_subst, telescope_parameters)\n"
   ]
  },
  {
   "cell_type": "code",
   "execution_count": 5,
   "metadata": {
    "collapsed": false
   },
   "outputs": [
    {
     "name": "stdout",
     "output_type": "stream",
     "text": [
      "Evaluating Nfacets = 1\n",
      "Tsnap has been optimized as : 117.742556, yielding a minimum value of 0.000000 Peta-units\n",
      "Evaluating Nfacets = 2\n",
      "Tsnap has been optimized as : 164.551134, yielding a minimum value of 0.000000 Peta-units\n",
      "\n",
      "Expression increasing with number of facets; aborting exploration of Nfacets > 2\n",
      "\n",
      "0.000000 PetaFLOPS was the lowest FLOP value, found for (Nfacet, Tsnap) = (1, 117.74)\n",
      "(117.742556400779, 1)\n",
      "Result of expression = 34.255293 Peta\n",
      "Optimization took 11.059000 seconds\n",
      "Evaluation took 0.441000 seconds\n",
      "Total time = 11.500000 seconds\n"
     ]
    }
   ],
   "source": [
    "import time\n",
    "t0 = time.time()\n",
    "band = 'Low'\n",
    "mode = 'Spectral'\n",
    "telescope_parameters = calc_tel_params(band=band, mode=mode)\n",
    "(Tsnap_opt, Nfacet_opt) = find_optimal_Tsnap_Nfacet(telescope_parameters, verbose=True)\n",
    "print (Tsnap_opt, Nfacet_opt)\n",
    "#(Tsnap_opt, Nfacet_opt) = (87.16, 3)\n",
    "t1 = time.time()\n",
    "expression = telescope_parameters.Rflop\n",
    "expression_subst = expression.subs({telescope_parameters.Tsnap : Tsnap_opt, telescope_parameters.Nfacet : Nfacet_opt})\n",
    "result = evaluate_binned_expression(expression_subst, telescope_parameters)\n",
    "print 'Result of expression = %f Peta' % (result)\n",
    "t2 = time.time()\n",
    "print 'Optimization took %f seconds' % (t1-t0)\n",
    "print 'Evaluation took %f seconds' % (t2-t1)\n",
    "print 'Total time = %f seconds' % (t2-t0)"
   ]
  }
 ],
 "metadata": {
  "kernelspec": {
   "display_name": "Python 2",
   "language": "python",
   "name": "python2"
  },
  "language_info": {
   "codemirror_mode": {
    "name": "ipython",
    "version": 2
   },
   "file_extension": ".py",
   "mimetype": "text/x-python",
   "name": "python",
   "nbconvert_exporter": "python",
   "pygments_lexer": "ipython2",
   "version": "2.7.7"
  }
 },
 "nbformat": 4,
 "nbformat_minor": 0
}
