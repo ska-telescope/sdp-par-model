{
 "cells": [
  {
   "cell_type": "markdown",
   "metadata": {},
   "source": [
    "# SDP Product Equations\n",
    "\n",
    "This notebook generates an overview of the formulas used to calculate product properties by the parametric model.\n",
    "\n",
    "Last run with Jupyter Notebook 5.0.0 running Python 3.5.2"
   ]
  },
  {
   "cell_type": "code",
   "execution_count": null,
   "metadata": {
    "collapsed": true,
    "scrolled": true
   },
   "outputs": [],
   "source": [
    "import sys\n",
    "\n",
    "from IPython.display import display, Math, Latex, HTML, Markdown\n",
    "from sympy import latex, Lambda, Symbol\n",
    "\n",
    "sys.path+=['..']\n",
    "from sdp_par_model import evaluate\n",
    "from sdp_par_model import reports as iapi\n",
    "from sdp_par_model.config import PipelineConfig\n",
    "from sdp_par_model.parameters.definitions import *\n",
    "from sdp_par_model.parameters.container import BLDep\n",
    "\n",
    "# Product properties to show\n",
    "exprs = [('Rflop', 'PFLOP/s', Constants.peta),\n",
    "         ('Rout', 'TB/s', Constants.tera)]"
   ]
  },
  {
   "cell_type": "markdown",
   "metadata": {},
   "source": [
    "Python code to generate formulas:"
   ]
  },
  {
   "cell_type": "code",
   "execution_count": null,
   "metadata": {
    "collapsed": true
   },
   "outputs": [],
   "source": [
    "def show_formulas(sym_defs, group=1):\n",
    "    maths = \"\"\n",
    "    for i, sym in enumerate(sorted(sym_defs)):\n",
    "        if isinstance(sym_defs[sym], BLDep):\n",
    "            maths += r'%s(%s) &= %s %s' % (\n",
    "                latex(Symbol(sym)),\n",
    "                \",\".join(sym_defs[sym].pars.keys()),\n",
    "                latex(sym_defs[sym].term),\n",
    "                r\"\\\\\" if i % group == 0 else \" & \")\n",
    "        else:\n",
    "            maths += r'%s &= %s %s' % (latex(Symbol(sym)), latex(sym_defs[sym]),\n",
    "                                      r\"\\\\\" if i % group == group-1 else \" & \")\n",
    "    display(Math(r\"\\begin{aligned}%s\\end{aligned}\" % maths))\n",
    "\n",
    "def formulas_for_configuration(telescope, band, pipeline):\n",
    "    cfg = PipelineConfig(telescope=telescope,band=band,pipeline=pipeline)\n",
    "    if not cfg.is_valid()[0]:\n",
    "        return\n",
    "\n",
    "    # Heading\n",
    "    display(Markdown(\"## Equations for %s %s:\" % (telescope, pipeline)))\n",
    "\n",
    "    # Loop through configuration to show formulas for\n",
    "    free_syms = set()\n",
    "    for expr, unit, mult  in exprs:\n",
    "\n",
    "        # Determine and show product formulas\n",
    "        values = cfg.eval_expression_products(expr)\n",
    "        formulas = cfg.eval_products_symbolic(expr)\n",
    "\n",
    "        # Show equations for products\n",
    "        maths = \"\"\n",
    "        for product in sorted(values.keys()):\n",
    "            maths += (r'%s_{%s} &= %s \\\\ &= %f\\,\\text{%s} \\\\ \\\\' %\n",
    "                (expr, product,\n",
    "                 latex(formulas.get(product, 0)),\n",
    "                 values.get(product, 0) / mult, unit))\n",
    "        maths = (r\"\\begin{aligned}%s %s &= %f\\,\\text{%s}\\end{aligned}\" % \\\n",
    "            (maths, expr, sum(values.values()) / mult, unit))\n",
    "        display(Math(maths))\n",
    "            \n",
    "        # Collect free symbols\n",
    "        free_syms = free_syms.union(evaluate.collect_free_symbols(formulas.values()))\n",
    "\n",
    "    # Look up helper equations\n",
    "    display(Markdown(\"### Intermediate equations\"))\n",
    "    sym_defs = cfg.eval_symbols(free_syms, symbolify='helper')\n",
    "    show_formulas(sym_defs)\n",
    "    free_syms2 = evaluate.collect_free_symbols(sym_defs.values()).union(free_syms).difference(sym_defs)\n",
    "    sym_defs2 = cfg.eval_symbols(free_syms2, symbolify='all')\n",
    "    show_formulas(sym_defs2)\n",
    "\n",
    "    # And finally all remaining constants\n",
    "    display(Markdown(\"### Constants\"))\n",
    "    free_syms3 = evaluate.collect_free_symbols(sym_defs2.values()).\\\n",
    "                 union(free_syms, free_syms2).difference(sym_defs, sym_defs2)\n",
    "    const_defs = cfg.eval_symbols(free_syms3, optimize_expression='Rflop')\n",
    "    show_formulas(const_defs, 3)    "
   ]
  },
  {
   "cell_type": "code",
   "execution_count": null,
   "metadata": {
    "collapsed": true,
    "scrolled": true
   },
   "outputs": [],
   "source": [
    "for telescope, band in [(Telescopes.SKA1_Low, Bands.Low),\n",
    "                        (Telescopes.SKA1_Mid, Bands.Mid1)]:\n",
    "    for pipeline in [Pipelines.Ingest, Pipelines.ICAL,Pipelines.DPrepA_Image]:\n",
    "        formulas_for_configuration(telescope, band, pipeline)"
   ]
  },
  {
   "cell_type": "code",
   "execution_count": null,
   "metadata": {
    "collapsed": true
   },
   "outputs": [],
   "source": []
  }
 ],
 "metadata": {
  "anaconda-cloud": {},
  "kernelspec": {
   "display_name": "Python [default]",
   "language": "python",
   "name": "python3"
  },
  "language_info": {
   "codemirror_mode": {
    "name": "ipython",
    "version": 3
   },
   "file_extension": ".py",
   "mimetype": "text/x-python",
   "name": "python",
   "nbconvert_exporter": "python",
   "pygments_lexer": "ipython3",
   "version": "3.5.2"
  }
 },
 "nbformat": 4,
 "nbformat_minor": 1
}
