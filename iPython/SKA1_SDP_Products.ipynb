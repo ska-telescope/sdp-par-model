{
 "cells": [
  {
   "cell_type": "markdown",
   "metadata": {
    "collapsed": false
   },
   "source": [
    "# SDP Product Equations\n",
    "\n",
    "This notebook generates an overview of the formulas used to calculate product properties by the parametric model."
   ]
  },
  {
   "cell_type": "code",
   "execution_count": null,
   "metadata": {
    "collapsed": false,
    "scrolled": true
   },
   "outputs": [],
   "source": [
    "from implementation import PipelineConfig\n",
    "from parameter_definitions import *\n",
    "from api import SkaPythonAPI as api\n",
    "from IPython.display import display, Math, Latex, HTML, Markdown\n",
    "from sympy import latex, Lambda\n",
    "\n",
    "# Product properties to show\n",
    "exprs = [('Rflop', 'PFLOP/s', Constants.peta),\n",
    "         ('Rout', 'TB/s', Constants.tera)]"
   ]
  },
  {
   "cell_type": "markdown",
   "metadata": {},
   "source": [
    "Python code to generate formulas:"
   ]
  },
  {
   "cell_type": "code",
   "execution_count": null,
   "metadata": {
    "collapsed": false
   },
   "outputs": [],
   "source": [
    "def show_formulas(sym_defs, group=1):\n",
    "    maths = \"\"\n",
    "    for i, sym in enumerate(sorted(sym_defs)):\n",
    "        if isinstance(sym_defs[sym], BLDep):\n",
    "            maths += r'%s(%s) &= %s %s' % (\n",
    "                latex(Symbol(sym)),\n",
    "                \",\".join(sym_defs[sym].pars.keys()),\n",
    "                latex(sym_defs[sym].term),\n",
    "                r\"\\\\\" if i % group == 0 else \" & \")\n",
    "        else:\n",
    "            maths += r'%s &= %s %s' % (latex(Symbol(sym)), latex(sym_defs[sym]),\n",
    "                                      r\"\\\\\" if i % group == group-1 else \" & \")\n",
    "    display(Math(r\"\\begin{aligned}%s\\end{aligned}\" % maths))\n",
    "\n",
    "def formulas_for_configuration(telescope, band, pipeline):\n",
    "    cfg = PipelineConfig(telescope=telescope,band=band,pipeline=pipeline)\n",
    "    if not cfg.is_valid()[0]:\n",
    "        return\n",
    "\n",
    "    # Heading\n",
    "    display(Markdown(\"## Equations for %s %s:\" % (telescope, pipeline)))\n",
    "\n",
    "    # Loop through configuration to show formulas for\n",
    "    free_syms = set()\n",
    "    for expr, unit, mult  in exprs:\n",
    "\n",
    "        # Determine and show product formulas\n",
    "        values = api.eval_expression_default_products(cfg, expression=expr)\n",
    "        formulas = api.eval_products_symbolic(cfg, expression=expr)\n",
    "\n",
    "        # Show equations for products\n",
    "        maths = \"\"\n",
    "        for product in sorted(values.keys()):\n",
    "            maths += (r'%s_{%s} &= %s \\\\ &= %f\\,\\text{%s} \\\\ \\\\' %\n",
    "                (expr, product,\n",
    "                 latex(formulas.get(product, 0)),\n",
    "                 values.get(product, 0) / mult, unit))\n",
    "        maths = (r\"\\begin{aligned}%s %s &= %f\\,\\text{%s}\\end{aligned}\" % \\\n",
    "            (maths, expr, sum(values.values()) / mult, unit))\n",
    "        display(Math(maths))\n",
    "            \n",
    "        # Collect free symbols\n",
    "        free_syms = free_syms.union(api.collect_free_symbols(formulas.values()))\n",
    "\n",
    "    # Look up helper equations\n",
    "    display(Markdown(\"### Intermediate equations\"))\n",
    "    sym_defs = api.eval_symbols(cfg, free_syms, symbolify='helper')\n",
    "    show_formulas(sym_defs)\n",
    "    free_syms2 = api.collect_free_symbols(sym_defs.values()).union(free_syms).difference(sym_defs)\n",
    "    sym_defs2 = api.eval_symbols(cfg, free_syms2, symbolify='all')\n",
    "    show_formulas(sym_defs2)\n",
    "\n",
    "    # And finally all remaining constants\n",
    "    display(Markdown(\"### Constants\"))\n",
    "    free_syms3 = api.collect_free_symbols(sym_defs2.values()).\\\n",
    "                 union(free_syms, free_syms2).difference(sym_defs, sym_defs2)\n",
    "    const_defs = api.eval_symbols(cfg, free_syms3, optimize_expression='Rflop')\n",
    "    show_formulas(const_defs, 3)    "
   ]
  },
  {
   "cell_type": "code",
   "execution_count": null,
   "metadata": {
    "collapsed": false
   },
   "outputs": [],
   "source": [
    "for telescope, band in [(Telescopes.SKA1_Low, Bands.Low),\n",
    "                        (Telescopes.SKA1_Mid, Bands.Mid1)]:\n",
    "    for pipeline in [Pipelines.Ingest, Pipelines.ICAL,Pipelines.DPrepA_Image]:\n",
    "        formulas_for_configuration(telescope, band, pipeline)"
   ]
  }
 ],
 "metadata": {
  "kernelspec": {
   "display_name": "Python 3",
   "language": "python",
   "name": "python3"
  },
  "language_info": {
   "codemirror_mode": {
    "name": "ipython",
    "version": 3
   },
   "file_extension": ".py",
   "mimetype": "text/x-python",
   "name": "python",
   "nbconvert_exporter": "python",
   "pygments_lexer": "ipython3",
   "version": "3.5.1"
  },
  "widgets": {
   "state": {},
   "version": "1.1.2"
  }
 },
 "nbformat": 4,
 "nbformat_minor": 0
}
