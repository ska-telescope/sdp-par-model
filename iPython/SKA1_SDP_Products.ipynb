{
 "cells": [
  {
   "cell_type": "code",
   "execution_count": null,
   "metadata": {
    "collapsed": false
   },
   "outputs": [],
   "source": [
    "from implementation import PipelineConfig\n",
    "from parameter_definitions import *\n",
    "\n",
    "from api import SkaPythonAPI as api"
   ]
  },
  {
   "cell_type": "code",
   "execution_count": null,
   "metadata": {
    "collapsed": false,
    "scrolled": false
   },
   "outputs": [],
   "source": [
    "for pipeline in Pipelines.imaging:\n",
    "    print \"Pipeline %s\" % pipeline\n",
    "    cfg = PipelineConfig(\"SKA1_Mid_rebaselined\", pipeline, band=Bands.Mid1)\n",
    "    values = api.eval_expression_default_products(cfg)\n",
    "    for product in sorted(values.iterkeys()):\n",
    "          print \"%s : %.3f Pflops\" % (product, values[product]/1.0e15)\n",
    "    \n",
    "    print \"\\n\""
   ]
  }
 ],
 "metadata": {
  "kernelspec": {
   "display_name": "Python 2",
   "language": "python",
   "name": "python2"
  },
  "language_info": {
   "codemirror_mode": {
    "name": "ipython",
    "version": 2
   },
   "file_extension": ".py",
   "mimetype": "text/x-python",
   "name": "python",
   "nbconvert_exporter": "python",
   "pygments_lexer": "ipython2",
   "version": "2.7.6"
  }
 },
 "nbformat": 4,
 "nbformat_minor": 0
}
