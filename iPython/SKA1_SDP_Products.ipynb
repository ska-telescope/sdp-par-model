{
 "cells": [
  {
   "cell_type": "markdown",
   "metadata": {
    "collapsed": false
   },
   "source": [
    "# SDP Product Equations\n",
    "\n",
    "This notebook generates an overview of the formulas used to calculate product properties by the parametric model."
   ]
  },
  {
   "cell_type": "code",
   "execution_count": null,
   "metadata": {
    "collapsed": false,
    "scrolled": false
   },
   "outputs": [],
   "source": [
    "from implementation import PipelineConfig\n",
    "from parameter_definitions import *\n",
    "from api import SkaPythonAPI as api\n",
    "from IPython.display import display, Math, Latex, HTML\n",
    "from sympy import latex, Lambda\n",
    "\n",
    "# Configuration to show formulas for\n",
    "cfg = PipelineConfig(telescope=Telescopes.SKA1_Mid,\n",
    "                     pipeline=Pipelines.ICAL,\n",
    "                     band=Bands.Mid1)\n",
    "display(HTML(\"<h3>Equations for %s:</h3>\" % cfg.pipeline))\n",
    "\n",
    "# Calculate values and formulas\n",
    "expr = 'Rflop'\n",
    "unit = 'PFLOP/s'\n",
    "mult = Constants.peta\n",
    "values = api.eval_expression_default_products(cfg, expression=expr)\n",
    "formulas = api.eval_products_symbolic(cfg, expression=expr)\n",
    "\n",
    "# Show equations for products\n",
    "maths = \"\"\n",
    "for product in sorted(values.iterkeys()):\n",
    "    maths += (r'%s_{%s} &= %s \\\\ &= %f\\,\\text{%s} \\\\ \\\\' %\n",
    "        (expr, product,\n",
    "         latex(formulas.get(product, 0)),\n",
    "         values.get(product, 0) / mult, unit))\n",
    "maths = (r\"\\begin{align}%s %s &= %f\\,\\text{%s}\\end{align}\" % \\\n",
    "    (maths, expr, sum(values.values()) / mult, unit))\n",
    "display(Math(maths))\n",
    "\n",
    "# Look up free symbols to show helpers\n",
    "display(HTML(\"<h4>Helper equations:</h4>\")); maths = \"\"\n",
    "sym_defs = api.eval_symbols(cfg, api.collect_free_symbols(formulas.values()), symbolify='all')\n",
    "for sym in sorted(sym_defs):\n",
    "    if isinstance(sym_defs[sym], Lambda):\n",
    "        maths += r'%s(%s) &= %s \\\\' % (\n",
    "            latex(Symbol(sym)),\n",
    "            ', '.join(map(latex, sym_defs[sym].variables)),\n",
    "            latex(sym_defs[sym].expr))\n",
    "    else:\n",
    "        maths += r'%s &= %s \\\\' % (latex(Symbol(sym)), latex(sym_defs[sym]))\n",
    "display(Math(r\"\\begin{align}%s\\end{align}\" % maths))\n",
    "\n",
    "# And finally all remaining constants\n",
    "display(HTML(\"<h4>Constants:</h4>\")); maths = \"\"\n",
    "consts = set(api.collect_free_symbols(sym_defs.values())).difference(sym_defs)\n",
    "const_defs = api.eval_symbols(cfg, consts)\n",
    "for sym in sorted(const_defs):\n",
    "    maths += r'%s &= %s \\\\' % (latex(Symbol(sym)), latex(const_defs[sym]))\n",
    "display(Math(r\"\\begin{align}%s\\end{align}\" % maths))\n"
   ]
  }
 ],
 "metadata": {
  "kernelspec": {
   "display_name": "Python 2",
   "language": "python",
   "name": "python2"
  },
  "language_info": {
   "codemirror_mode": {
    "name": "ipython",
    "version": 2
   },
   "file_extension": ".py",
   "mimetype": "text/x-python",
   "name": "python",
   "nbconvert_exporter": "python",
   "pygments_lexer": "ipython2",
   "version": "2.7.3"
  }
 },
 "nbformat": 4,
 "nbformat_minor": 0
}
