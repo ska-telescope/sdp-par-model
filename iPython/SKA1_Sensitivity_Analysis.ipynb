{
 "cells": [
  {
   "cell_type": "markdown",
   "metadata": {},
   "source": [
    "# Parameter sensitivity in the SKA Performance Model\n",
    "\n",
    "This notebook is originally work by Tim Cornwell, providing the plots for the TCC memo TCC-SDP-151123-1-1."
   ]
  },
  {
   "cell_type": "code",
   "execution_count": null,
   "metadata": {},
   "outputs": [],
   "source": [
    "import sys\n",
    "\n",
    "from ipywidgets import interact, interact_manual, fixed\n",
    "from IPython.display import display, HTML\n",
    "import matplotlib.pyplot as plt\n",
    "\n",
    "sys.path+=['..']\n",
    "from sdp_par_model import evaluate\n",
    "from sdp_par_model import reports as iapi\n",
    "from sdp_par_model.config import PipelineConfig\n",
    "from sdp_par_model.parameters.definitions import *\n",
    "\n",
    "# Do plotting inline since sending to a specific file in jupyter/matplotlib is fiddly\n",
    "%matplotlib inline\n",
    "\n",
    "verbose = False"
   ]
  },
  {
   "cell_type": "markdown",
   "metadata": {},
   "source": [
    "Set up routine for doing parameter sweeps"
   ]
  },
  {
   "cell_type": "code",
   "execution_count": null,
   "metadata": {},
   "outputs": [],
   "source": [
    "def make_sweep(parameter, param_val_min, param_val_max, number_steps,\n",
    "               telescope, band, immodes, expressions, stack=False):\n",
    "    for immode in immodes:\n",
    "        resultss = []\n",
    "        cfg = PipelineConfig(telescope=telescope, pipeline=immode, band=band)\n",
    "        (param_values, resultss) = cfg.eval_param_sweep_1d(expressions, parameter_string=parameter, param_val_min=param_val_min,\n",
    "                                                           param_val_max=param_val_max, number_steps=number_steps, \n",
    "                                                           verbose=verbose)\n",
    "        if stack:\n",
    "            plt.figure(figsize=(8,6))\n",
    "            plt.title('%s sweep for %s in %s mode ' % (parameter, telescope, immode))\n",
    "            plt.stackplot(param_values, *resultss, labels=expressions)\n",
    "            handles, labels = plt.gca().get_legend_handles_labels()\n",
    "            plt.legend(reversed(handles), reversed(labels), bbox_to_anchor=(1.05, 1), loc=2, borderaxespad=0.)\n",
    "            plt.show()\n",
    "        else:\n",
    "            for expression, results in zip(expressions, resultss):\n",
    "                header = '%s for %s in %s mode as a function of %s' % (expression, telescope, immode, parameter)\n",
    "                iapi.plot_line_datapoints(header, param_values, np.array(results), xlabel=parameter, ylabel=expression)"
   ]
  },
  {
   "cell_type": "markdown",
   "metadata": {},
   "source": [
    "Determine main cost drivers to show in stacked view"
   ]
  },
  {
   "cell_type": "code",
   "execution_count": null,
   "metadata": {
    "scrolled": true
   },
   "outputs": [],
   "source": [
    "tp = PipelineConfig(telescope=Telescopes.SKA1_Low, pipeline=Pipelines.ICAL, band=Bands.Low, Nfacet=5).calc_tel_params()\n",
    "main_products = list(sorted([ p for p in tp.products if tp.products[p]['Rflop'] > 1e9 ]))\n",
    "main_product_flops = list([ \"{}.Rflop\".format(prod) for prod in main_products ])"
   ]
  },
  {
   "cell_type": "markdown",
   "metadata": {},
   "source": [
    "## Evaluate scaling as a function of Q_FOV"
   ]
  },
  {
   "cell_type": "code",
   "execution_count": null,
   "metadata": {
    "scrolled": false
   },
   "outputs": [],
   "source": [
    "make_sweep('Qfov', 1.0, 3.0, 10, Telescopes.SKA1_Low, Bands.Low, [Pipelines.ICAL], main_product_flops, stack=True)\n",
    "make_sweep('Qfov', 1.0, 3.0, 10, Telescopes.SKA1_Low, Bands.Low, [Pipelines.ICAL], \n",
    "           [ 'Nfacet', 'Rio', 'Rfacet_vis', 'Rimage'])\n",
    "make_sweep('Qfov', 1.0, 3.0, 10, Telescopes.SKA1_Mid, Bands.Mid1, [Pipelines.ICAL], main_product_flops, stack=True)\n",
    "make_sweep('Qfov', 1.0, 3.0, 10, Telescopes.SKA1_Mid, Bands.Mid1, [Pipelines.ICAL],\n",
    "           [ 'Nfacet', 'Rio', 'Rfacet_vis', 'Rimage'])"
   ]
  },
  {
   "cell_type": "markdown",
   "metadata": {},
   "source": [
    "## Evaluate scaling as a function of Bmax"
   ]
  },
  {
   "cell_type": "code",
   "execution_count": null,
   "metadata": {
    "scrolled": false
   },
   "outputs": [],
   "source": [
    "make_sweep('Bmax', 10000, 65000, 9, Telescopes.SKA1_Low, Bands.Low, [Pipelines.ICAL], main_product_flops, stack=True)\n",
    "make_sweep('Bmax', 10000, 65000, 9, Telescopes.SKA1_Low, Bands.Low, [Pipelines.ICAL], [ 'Nfacet', 'Rio', 'Rfacet_vis'])\n",
    "make_sweep('Bmax', 15000, 150000, 9,Telescopes.SKA1_Mid, Bands.Mid1, [Pipelines.ICAL], main_product_flops, stack=True)\n",
    "make_sweep('Bmax', 15000, 150000, 9,Telescopes.SKA1_Mid, Bands.Mid1, [Pipelines.ICAL], [ 'Nfacet', 'Rio', 'Rfacet_vis'])"
   ]
  },
  {
   "cell_type": "markdown",
   "metadata": {},
   "source": [
    "## Evaluate scaling as a function of Tion"
   ]
  },
  {
   "cell_type": "code",
   "execution_count": null,
   "metadata": {},
   "outputs": [],
   "source": [
    "make_sweep('Tion', 1, 10, 9, Telescopes.SKA1_Low, Bands.Low, [Pipelines.ICAL], main_product_flops, stack=True)\n",
    "make_sweep('Tion', 1, 10, 9, Telescopes.SKA1_Low, Bands.Low, [Pipelines.ICAL], [ 'Rflop', 'Rfacet_vis'])"
   ]
  },
  {
   "cell_type": "markdown",
   "metadata": {},
   "source": [
    "## Evaluate scaling as a function of A-kernel size"
   ]
  },
  {
   "cell_type": "code",
   "execution_count": null,
   "metadata": {
    "scrolled": false
   },
   "outputs": [],
   "source": [
    "make_sweep('Naa_a', 5,11, 9, Telescopes.SKA1_Low, Bands.Low, [Pipelines.ICAL], [ 'Rflop', 'Nfacet' ])\n",
    "make_sweep('Naa_a', 5,11, 9, Telescopes.SKA1_Mid, Bands.Mid1, [Pipelines.ICAL], [ 'Rflop', 'Nfacet' ])"
   ]
  },
  {
   "cell_type": "markdown",
   "metadata": {},
   "source": [
    "## Evaluate scaling of image-domain gridding"
   ]
  },
  {
   "cell_type": "code",
   "execution_count": null,
   "metadata": {
    "scrolled": false
   },
   "outputs": [],
   "source": [
    "make_sweep('image_gridding', 12,24, 6, Telescopes.SKA1_Low, Bands.Low, [Pipelines.ICAL], main_product_flops, stack=True)\n",
    "make_sweep('image_gridding', -1,0, 1, Telescopes.SKA1_Low, Bands.Low, [Pipelines.ICAL], main_product_flops, stack=True)"
   ]
  },
  {
   "cell_type": "code",
   "execution_count": null,
   "metadata": {},
   "outputs": [],
   "source": [
    "make_sweep('image_gridding', 12,24, (24-12)//2, Telescopes.SKA1_Low, Bands.Low, [Pipelines.ICAL],\n",
    "           [ 'Nslack_pred', 'Nwstack' ])"
   ]
  }
 ],
 "metadata": {
  "anaconda-cloud": {},
  "kernelspec": {
   "display_name": "Python 3",
   "language": "python",
   "name": "python3"
  },
  "language_info": {
   "codemirror_mode": {
    "name": "ipython",
    "version": 3
   },
   "file_extension": ".py",
   "mimetype": "text/x-python",
   "name": "python",
   "nbconvert_exporter": "python",
   "pygments_lexer": "ipython3",
   "version": "3.5.1"
  }
 },
 "nbformat": 4,
 "nbformat_minor": 1
}
