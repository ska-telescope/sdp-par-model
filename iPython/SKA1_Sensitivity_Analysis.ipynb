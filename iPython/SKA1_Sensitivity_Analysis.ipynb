{
 "cells": [
  {
   "cell_type": "markdown",
   "metadata": {},
   "source": [
    "# Parameter sensitivity in the SKA Performance Model\n",
    "\n",
    "This notebook is originally work by Tim Cornwell, providing the plots for the TCC memo TCC-SDP-151123-1-1."
   ]
  },
  {
   "cell_type": "code",
   "execution_count": null,
   "metadata": {},
   "outputs": [],
   "source": [
    "import sys\n",
    "\n",
    "from ipywidgets import interact, interact_manual, fixed\n",
    "\n",
    "sys.path+=['..']\n",
    "from sdp_par_model import evaluate\n",
    "from sdp_par_model import reports as iapi\n",
    "from sdp_par_model.config import PipelineConfig\n",
    "from sdp_par_model.parameters.definitions import *\n",
    "\n",
    "# Do plotting inline since sending to a specific file in jupyter/matplotlib is fiddly\n",
    "%matplotlib inline\n",
    "\n",
    "# The lines below define the available telescopes, bands and modes that may be chosen.\n",
    "\n",
    "available_teles = (Telescopes.SKA1_Low, Telescopes.SKA1_Mid)\n",
    "available_bands = (Bands.Low, Bands.Mid1, Bands.Mid2, Bands.Mid5a, Bands.Mid5b,)\n",
    "available_modes     = (Pipelines.DPrepA, Pipelines.DPrepC, Pipelines.FastImg)\n",
    "verbose = False\n",
    "# Scale the predict step according to the facet size not the FOV : See TCC-SDP-151123-1-1\n",
    "scale_predict_by_facet = True\n"
   ]
  },
  {
   "cell_type": "markdown",
   "metadata": {},
   "source": [
    "## Evaluate scaling as a function of Q_FOV"
   ]
  },
  {
   "cell_type": "code",
   "execution_count": null,
   "metadata": {},
   "outputs": [],
   "source": [
    "from IPython.display import display, HTML\n",
    "\n",
    "parameter = 'Qfov'\n",
    "param_val_min =1.0\n",
    "param_val_max = 3.0\n",
    "number_steps = 20\n",
    "\n",
    "for telescope in [Telescopes.SKA1_Low, Telescopes.SKA1_Mid]:\n",
    "    if telescope==Telescopes.SKA1_Low:\n",
    "        band=Bands.Low\n",
    "    else:\n",
    "        band=Bands.Mid1\n",
    "    for immode in [Pipelines.DPrepA]:\n",
    "        for expression in [ 'Nfacet', 'Rflop', 'Rio', 'Rfacet_vis', 'Rimage', 'Mout']:\n",
    "            print(telescope, immode, expression)\n",
    "            display(HTML('<font color=\"blue\">Computing the result -- this may take several (tens of) seconds.</font>'))\n",
    "            cfg = PipelineConfig(telescope=telescope, pipeline=immode, band=band,\n",
    "                                scale_predict_by_facet=scale_predict_by_facet)\n",
    "            (param_values, results) = cfg.eval_param_sweep_1d(expression, parameter_string=parameter, param_val_min=param_val_min,\n",
    "                                                               param_val_max=param_val_max, number_steps=number_steps, \n",
    "                                                               verbose=verbose)\n",
    "            header = 'Plotting %s for %s in %s mode as a function of %s' % (expression, telescope, immode, parameter)\n",
    "            iapi.plot_line_datapoints(header, param_values, np.array(results), xlabel=parameter, ylabel=expression)"
   ]
  },
  {
   "cell_type": "markdown",
   "metadata": {},
   "source": [
    "## Evaluate scaling as a function of Bmax"
   ]
  },
  {
   "cell_type": "code",
   "execution_count": null,
   "metadata": {},
   "outputs": [],
   "source": [
    "from IPython.display import display, HTML\n",
    "\n",
    "parameter = 'Bmax'\n",
    "number_steps = 20\n",
    "\n",
    "for telescope in [Telescopes.SKA1_Mid, Telescopes.SKA1_Low]:\n",
    "    if telescope==Telescopes.SKA1_Low:\n",
    "        param_val_min =10000\n",
    "        param_val_max = 80000\n",
    "        band=Bands.Low\n",
    "    else:\n",
    "        param_val_min =15000\n",
    "        param_val_max = 150000\n",
    "        band=Bands.Mid1\n",
    "    for immode in [Pipelines.DPrepA]:\n",
    "        for expression in [ 'Rflop', 'Rio', 'Rinterfacet', 'Mw_cache']:\n",
    "            print(telescope, immode, expression)\n",
    "            display(HTML('<font color=\"blue\">Computing the result -- this may take several (tens of) seconds.</font>'))\n",
    "            cfg = PipelineConfig(telescope=telescope, pipeline=immode, band=band,\n",
    "                                scale_predict_by_facet=scale_predict_by_facet)\n",
    "            (param_values, results) = cfg.eval_param_sweep_1d(expression, parameter_string=parameter, param_val_min=param_val_min,\n",
    "                                                               param_val_max=param_val_max, number_steps=number_steps, \n",
    "                                                               verbose=verbose)\n",
    "            header = 'Plotting %s for %s in %s mode as a function of %s' % (expression, telescope, immode, parameter)\n",
    "            iapi.plot_line_datapoints(header, param_values, np.array(results), xlabel=parameter, ylabel=expression)"
   ]
  },
  {
   "cell_type": "markdown",
   "metadata": {},
   "source": [
    "## Evaluate scaling as a function of Tion"
   ]
  },
  {
   "cell_type": "code",
   "execution_count": null,
   "metadata": {},
   "outputs": [],
   "source": [
    "from IPython.display import display, HTML\n",
    "\n",
    "parameter = 'Tion'\n",
    "number_steps = 9\n",
    "param_val_min =1\n",
    "param_val_max = 10\n",
    "band=Bands.Low\n",
    "\n",
    "\n",
    "for telescope in [Telescopes.SKA1_Low]:\n",
    "   for immode in [Pipelines.DPrepA]:\n",
    "        for expression in [ 'Rflop', 'Rio', 'Rinterfacet', 'Mw_cache']:\n",
    "            print(telescope, immode, expression)\n",
    "            display(HTML('<font color=\"blue\">Computing the result -- this may take several (tens of) seconds.</font>'))\n",
    "            cfg = PipelineConfig(telescope=telescope, pipeline=immode, band=band,\n",
    "                                scale_predict_by_facet=scale_predict_by_facet)\n",
    "            (param_values, results) = cfg.eval_param_sweep_1d(expression, parameter_string=parameter, param_val_min=param_val_min,\n",
    "                                                               param_val_max=param_val_max, number_steps=number_steps, \n",
    "                                                               verbose=verbose)\n",
    "            header = 'Plotting %s for %s in %s mode as a function of %s' % (expression, telescope, immode, parameter)\n",
    "            iapi.plot_line_datapoints(header, param_values, np.array(results), xlabel=parameter, ylabel=expression)"
   ]
  }
 ],
 "metadata": {
  "anaconda-cloud": {},
  "kernelspec": {
   "display_name": "Python 3",
   "language": "python",
   "name": "python3"
  },
  "language_info": {
   "codemirror_mode": {
    "name": "ipython",
    "version": 3
   },
   "file_extension": ".py",
   "mimetype": "text/x-python",
   "name": "python",
   "nbconvert_exporter": "python",
   "pygments_lexer": "ipython3",
   "version": "3.5.1"
  }
 },
 "nbformat": 4,
 "nbformat_minor": 1
}
