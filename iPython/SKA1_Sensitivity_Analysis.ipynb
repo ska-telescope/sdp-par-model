{
 "cells": [
  {
   "cell_type": "markdown",
   "metadata": {},
   "source": [
    "# Investigation of parameter sensitivity in the SKA Performance Model\n",
    "## Tim Cornwell\n",
    "\n",
    "This notebook provides the plots for the TCC memo TCC-SDP-151123-1-1\n",
    "First, do the necessary set-up (run the code block below, first)"
   ]
  },
  {
   "cell_type": "code",
   "execution_count": null,
   "metadata": {
    "collapsed": false
   },
   "outputs": [],
   "source": [
    "\"\"\" These first few lines below import the IPython definitions and methods that we will use. \n",
    "Please Refer to ipython_api.py for the implementation \"\"\"\n",
    "from ipywidgets import interact, interact_manual, fixed\n",
    "from api_ipython import SkaIPythonAPI as iapi\n",
    "from parameter_definitions import *\n",
    "from parameter_definitions import Constants as c\n",
    "from implementation import Implementation as imp, PipelineConfig\n",
    "# Do plotting inline since sending to a specific file in jupyter/matplotlib is fiddly\n",
    "%matplotlib inline\n",
    "\n",
    "\n",
    "\"\"\"\n",
    "# NB Recent versions of IPython (4.x.x) require that ipywidgets be installed separately for the \n",
    "import lines below to work. Additionally, IPython.html has been deprecated. Only kept here for \n",
    "backward-compatibility (for the time being)\n",
    "\"\"\"\n",
    "#from IPython.html.widgets import interact, interactive, fixed\n",
    "#from IPython.html.widgets.interaction import interact_manual\n",
    "#from IPython.html import widgets\n",
    "\n",
    "# The lines below define the available telescopes, bands and modes that may be chosen.\n",
    "\n",
    "available_teles = (Telescopes.SKA1_Low, Telescopes.SKA1_Low_old, Telescopes.SKA1_Mid, Telescopes.SKA1_Mid_old, \n",
    "                   Telescopes.SKA1_Sur_old, Telescopes.SKA2_Low, Telescopes.SKA2_Mid)\n",
    "available_bands = (Bands.Low, \n",
    "                   Bands.Mid1, Bands.Mid2, Bands.Mid5A, Bands.Mid5B, \n",
    "                   Bands.Sur1)\n",
    "available_modes     = (ImagingModes.Continuum, ImagingModes.Spectral, ImagingModes.FastImg)\n",
    "available_modes_all = (ImagingModes.Continuum, ImagingModes.Spectral, ImagingModes.FastImg, ImagingModes.All)\n",
    "verbose_display = True\n",
    "# Scale the predict step according to the facet size not the FOV : See TCC-SDP-151123-1-1\n",
    "scale_predict_by_facet = True\n"
   ]
  },
  {
   "cell_type": "markdown",
   "metadata": {},
   "source": [
    "## Evaluate scaling as a function of Q_FOV"
   ]
  },
  {
   "cell_type": "code",
   "execution_count": null,
   "metadata": {
    "collapsed": false,
    "scrolled": false
   },
   "outputs": [],
   "source": [
    "from IPython.display import display, HTML\n",
    "\n",
    "parameter = 'Qfov'\n",
    "param_val_min =1.0\n",
    "param_val_max = 3.0\n",
    "number_steps = 100\n",
    "\n",
    "for telescope in [Telescopes.SKA1_Low, Telescopes.SKA1_Mid]:\n",
    "    if telescope==Telescopes.SKA1_Low:\n",
    "        band=Bands.Low\n",
    "    else:\n",
    "        band=Bands.Mid1\n",
    "    for immode in [ImagingModes.Continuum]:\n",
    "        for expression in ['Mw_cache']:\n",
    "            print telescope, immode, expression\n",
    "            display(HTML('<font color=\"blue\">Computing the result -- this may take several (tens of) seconds.</font>'))\n",
    "            cfg = PipelineConfig(telescope=telescope, mode=immode, band=band,\n",
    "                                scale_predict_by_facet=scale_predict_by_facet)\n",
    "            (param_values, results) = iapi.eval_param_sweep_1d(cfg, expression=expression, parameter=parameter, param_val_min=param_val_min,\n",
    "                                                               param_val_max=param_val_max, number_steps=number_steps, \n",
    "                                                               verbose=False)\n",
    "            header = 'Plotting %s for %s in %s mode as a function of %s' % (expression, telescope, immode, parameter)\n",
    "            iapi.plot_line_datapoints(header, param_values, np.array(results)/1e15, xlabel=parameter, ylabel=expression)"
   ]
  },
  {
   "cell_type": "markdown",
   "metadata": {},
   "source": [
    "## Evaluate scaling as a function of Bmax"
   ]
  },
  {
   "cell_type": "code",
   "execution_count": null,
   "metadata": {
    "collapsed": false,
    "scrolled": false
   },
   "outputs": [],
   "source": [
    "from IPython.display import display, HTML\n",
    "\n",
    "parameter = 'Bmax'\n",
    "number_steps = 10\n",
    "\n",
    "for telescope in [Telescopes.SKA1_Low, Telescopes.SKA1_Mid]:\n",
    "    if telescope==Telescopes.SKA1_Low:\n",
    "        param_val_min =10000\n",
    "        param_val_max = 80000\n",
    "        band=Bands.Low\n",
    "    else:\n",
    "        param_val_min =15000\n",
    "        param_val_max = 150000\n",
    "        band=Bands.Mid1\n",
    "    for immode in [ImagingModes.Continuum]:\n",
    "        for expression in [ 'Rflop', 'Rio', 'Rinterfacet', 'Mw_cache']:\n",
    "            print telescope, immode, expression\n",
    "            display(HTML('<font color=\"blue\">Computing the result -- this may take several (tens of) seconds.</font>'))\n",
    "            cfg = PipelineConfig(telescope=telescope, mode=immode, band=band,\n",
    "                                scale_predict_by_facet=scale_predict_by_facet)\n",
    "            (param_values, results) = iapi.eval_param_sweep_1d(cfg, expression=expression, parameter=parameter, param_val_min=param_val_min,\n",
    "                                                               param_val_max=param_val_max, number_steps=number_steps, \n",
    "                                                               verbose=False)\n",
    "            header = 'Plotting %s for %s in %s mode as a function of %s' % (expression, telescope, immode, parameter)\n",
    "            iapi.plot_line_datapoints(header, param_values, np.array(results)/1e15, xlabel=parameter, ylabel=expression)"
   ]
  },
  {
   "cell_type": "markdown",
   "metadata": {},
   "source": [
    "## Evaluate scaling as a function of Tion"
   ]
  },
  {
   "cell_type": "code",
   "execution_count": null,
   "metadata": {
    "collapsed": false,
    "scrolled": false
   },
   "outputs": [],
   "source": [
    "from IPython.display import display, HTML\n",
    "\n",
    "parameter = 'Tion'\n",
    "number_steps = 9\n",
    "param_val_min =1\n",
    "param_val_max = 10\n",
    "band=Bands.Low\n",
    "\n",
    "\n",
    "for telescope in [Telescopes.SKA1_Low]:\n",
    "   for immode in [ImagingModes.Continuum]:\n",
    "        for expression in [ 'Rflop', 'Rio', 'Rinterfacet', 'Mw_cache']:\n",
    "            print telescope, immode, expression\n",
    "            display(HTML('<font color=\"blue\">Computing the result -- this may take several (tens of) seconds.</font>'))\n",
    "            cfg = PipelineConfig(telescope=telescope, mode=immode, band=band,\n",
    "                                scale_predict_by_facet=scale_predict_by_facet)\n",
    "            (param_values, results) = iapi.eval_param_sweep_1d(cfg, expression=expression, parameter=parameter, param_val_min=param_val_min,\n",
    "                                                               param_val_max=param_val_max, number_steps=number_steps, \n",
    "                                                               verbose=False)\n",
    "            header = 'Plotting %s for %s in %s mode as a function of %s' % (expression, telescope, immode, parameter)\n",
    "            iapi.plot_line_datapoints(header, param_values, np.array(results)/1e15, xlabel=parameter, ylabel=expression)"
   ]
  },
  {
   "cell_type": "code",
   "execution_count": null,
   "metadata": {
    "collapsed": true
   },
   "outputs": [],
   "source": []
  }
 ],
 "metadata": {
  "kernelspec": {
   "display_name": "Python 2",
   "language": "python",
   "name": "python2"
  },
  "language_info": {
   "codemirror_mode": {
    "name": "ipython",
    "version": 2
   },
   "file_extension": ".py",
   "mimetype": "text/x-python",
   "name": "python",
   "nbconvert_exporter": "python",
   "pygments_lexer": "ipython2",
   "version": "2.7.11"
  }
 },
 "nbformat": 4,
 "nbformat_minor": 0
}
