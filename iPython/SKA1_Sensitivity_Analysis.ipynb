{
 "cells": [
  {
   "cell_type": "markdown",
   "metadata": {},
   "source": [
    "# Investigation of parameter sensitivity in the SKA Performance Model\n",
    "## Tim Cornwell\n",
    "\n",
    "This notebook provides the plots for the TCC memo TCC-SDP-151123-1-1\n",
    "First, do the necessary set-up (run the code block below, first)"
   ]
  },
  {
   "cell_type": "code",
   "execution_count": 2,
   "metadata": {
    "collapsed": false
   },
   "outputs": [],
   "source": [
    "import sys\n",
    "\n",
    "from ipywidgets import interact, interact_manual, fixed\n",
    "\n",
    "sys.path+=['..']\n",
    "from sdp_par_model import evaluate\n",
    "from sdp_par_model import reports as iapi\n",
    "from sdp_par_model.config import PipelineConfig\n",
    "from sdp_par_model.parameters.definitions import *\n",
    "\n",
    "# Do plotting inline since sending to a specific file in jupyter/matplotlib is fiddly\n",
    "%matplotlib inline\n",
    "\n",
    "# The lines below define the available telescopes, bands and modes that may be chosen.\n",
    "\n",
    "available_teles = (Telescopes.SKA1_Low, Telescopes.SKA1_Low_old, Telescopes.SKA1_Mid, Telescopes.SKA1_Mid_old, \n",
    "                   Telescopes.SKA1_Sur_old, Telescopes.SKA2_Low, Telescopes.SKA2_Mid)\n",
    "available_bands = (Bands.Low, \n",
    "                   Bands.Mid1, Bands.Mid2, Bands.Mid5A, Bands.Mid5B, \n",
    "                   Bands.Sur1)\n",
    "available_modes     = (Pipelines.DPrepA, Pipelines.DPrepC, Pipelines.Fast_Img)\n",
    "verbose = False\n",
    "# Scale the predict step according to the facet size not the FOV : See TCC-SDP-151123-1-1\n",
    "scale_predict_by_facet = True\n"
   ]
  },
  {
   "cell_type": "markdown",
   "metadata": {},
   "source": [
    "## Evaluate scaling as a function of Q_FOV"
   ]
  },
  {
   "cell_type": "code",
   "execution_count": null,
   "metadata": {
    "collapsed": false,
    "scrolled": false
   },
   "outputs": [
    {
     "name": "stdout",
     "output_type": "stream",
     "text": [
      "SKA1_Low DPrepA Tsnap\n"
     ]
    },
    {
     "data": {
      "text/html": [
       "<font color=\"blue\">Computing the result -- this may take several (tens of) seconds.</font>"
      ],
      "text/plain": [
       "<IPython.core.display.HTML object>"
      ]
     },
     "metadata": {},
     "output_type": "display_data"
    },
    {
     "name": "stdout",
     "output_type": "stream",
     "text": [
      "Starting sweep of parameter Qfov, evaluating expression Tsnap over range (1.0, 3.0) in 20 steps (i.e. 21 data points)\n",
      "> 0.0% done: Evaluating Tsnap for Qfov = 1\n",
      "> 4.8% done: Evaluating Tsnap for Qfov = 1.1\n",
      "> 9.5% done: Evaluating Tsnap for Qfov = 1.2\n",
      "> 14.3% done: Evaluating Tsnap for Qfov = 1.3\n",
      "> 19.0% done: Evaluating Tsnap for Qfov = 1.4\n",
      "> 23.8% done: Evaluating Tsnap for Qfov = 1.5\n",
      "> 28.6% done: Evaluating Tsnap for Qfov = 1.6\n",
      "> 33.3% done: Evaluating Tsnap for Qfov = 1.7\n",
      "> 38.1% done: Evaluating Tsnap for Qfov = 1.8\n",
      "> 42.9% done: Evaluating Tsnap for Qfov = 1.9\n"
     ]
    }
   ],
   "source": [
    "from IPython.display import display, HTML\n",
    "\n",
    "parameter = 'Qfov'\n",
    "param_val_min =1.0\n",
    "param_val_max = 3.0\n",
    "number_steps = 20\n",
    "\n",
    "for telescope in [Telescopes.SKA1_Low, Telescopes.SKA1_Mid]:\n",
    "    if telescope==Telescopes.SKA1_Low:\n",
    "        band=Bands.Low\n",
    "    else:\n",
    "        band=Bands.Mid1\n",
    "    for immode in [Pipelines.DPrepA]:\n",
    "        for expression in [ 'Tsnap', 'Nfacet', 'Rflop', 'Rio', 'Rinterfacet', 'Mw_cache']:\n",
    "            print(telescope, immode, expression)\n",
    "            display(HTML('<font color=\"blue\">Computing the result -- this may take several (tens of) seconds.</font>'))\n",
    "            cfg = PipelineConfig(telescope=telescope, pipeline=immode, band=band,\n",
    "                                scale_predict_by_facet=scale_predict_by_facet)\n",
    "            (param_values, results) = cfg.eval_param_sweep_1d(expression, parameter_string=parameter, param_val_min=param_val_min,\n",
    "                                                               param_val_max=param_val_max, number_steps=number_steps, \n",
    "                                                               verbose=verbose)\n",
    "            header = 'Plotting %s for %s in %s mode as a function of %s' % (expression, telescope, immode, parameter)\n",
    "            iapi.plot_line_datapoints(header, param_values, np.array(results), xlabel=parameter, ylabel=expression)"
   ]
  },
  {
   "cell_type": "markdown",
   "metadata": {},
   "source": [
    "## Evaluate scaling as a function of Bmax"
   ]
  },
  {
   "cell_type": "code",
   "execution_count": null,
   "metadata": {
    "collapsed": false,
    "scrolled": false
   },
   "outputs": [],
   "source": [
    "from IPython.display import display, HTML\n",
    "\n",
    "parameter = 'Bmax'\n",
    "number_steps = 20\n",
    "\n",
    "for telescope in [Telescopes.SKA1_Mid, Telescopes.SKA1_Low]:\n",
    "    if telescope==Telescopes.SKA1_Low:\n",
    "        param_val_min =10000\n",
    "        param_val_max = 80000\n",
    "        band=Bands.Low\n",
    "    else:\n",
    "        param_val_min =15000\n",
    "        param_val_max = 150000\n",
    "        band=Bands.Mid1\n",
    "    for immode in [Pipelines.DPrepA]:\n",
    "        for expression in [ 'Rflop', 'Rio', 'Rinterfacet', 'Mw_cache']:\n",
    "            print telescope, immode, expression\n",
    "            display(HTML('<font color=\"blue\">Computing the result -- this may take several (tens of) seconds.</font>'))\n",
    "            cfg = PipelineConfig(telescope=telescope, pipeline=immode, band=band,\n",
    "                                scale_predict_by_facet=scale_predict_by_facet)\n",
    "            (param_values, results) = iapi.eval_param_sweep_1d(cfg, expression_string=expression, parameter_string=parameter, param_val_min=param_val_min,\n",
    "                                                               param_val_max=param_val_max, number_steps=number_steps, \n",
    "                                                               verbose=verbose)\n",
    "            header = 'Plotting %s for %s in %s mode as a function of %s' % (expression, telescope, immode, parameter)\n",
    "            iapi.plot_line_datapoints(header, param_values, np.array(results), xlabel=parameter, ylabel=expression)"
   ]
  },
  {
   "cell_type": "markdown",
   "metadata": {},
   "source": [
    "## Evaluate scaling as a function of Tion"
   ]
  },
  {
   "cell_type": "code",
   "execution_count": null,
   "metadata": {
    "collapsed": false,
    "scrolled": false
   },
   "outputs": [],
   "source": [
    "from IPython.display import display, HTML\n",
    "\n",
    "parameter = 'Tion'\n",
    "number_steps = 9\n",
    "param_val_min =1\n",
    "param_val_max = 10\n",
    "band=Bands.Low\n",
    "\n",
    "\n",
    "for telescope in [Telescopes.SKA1_Low]:\n",
    "   for immode in [Pipelines.DPrepA]:\n",
    "        for expression in [ 'Rflop', 'Rio', 'Rinterfacet', 'Mw_cache']:\n",
    "            print telescope, immode, expression\n",
    "            display(HTML('<font color=\"blue\">Computing the result -- this may take several (tens of) seconds.</font>'))\n",
    "            cfg = PipelineConfig(telescope=telescope, pipeline=immode, band=band,\n",
    "                                scale_predict_by_facet=scale_predict_by_facet)\n",
    "            (param_values, results) = iapi.eval_param_sweep_1d(cfg, expression_string=expression, parameter_string=parameter, param_val_min=param_val_min,\n",
    "                                                               param_val_max=param_val_max, number_steps=number_steps, \n",
    "                                                               verbose=verbose)\n",
    "            header = 'Plotting %s for %s in %s mode as a function of %s' % (expression, telescope, immode, parameter)\n",
    "            iapi.plot_line_datapoints(header, param_values, np.array(results), xlabel=parameter, ylabel=expression)"
   ]
  },
  {
   "cell_type": "code",
   "execution_count": null,
   "metadata": {
    "collapsed": true
   },
   "outputs": [],
   "source": []
  }
 ],
 "metadata": {
  "kernelspec": {
   "display_name": "Python 3",
   "language": "python",
   "name": "python3"
  },
  "language_info": {
   "codemirror_mode": {
    "name": "ipython",
    "version": 3
   },
   "file_extension": ".py",
   "mimetype": "text/x-python",
   "name": "python",
   "nbconvert_exporter": "python",
   "pygments_lexer": "ipython3",
   "version": "3.5.1"
  },
  "widgets": {
   "state": {},
   "version": "1.1.2"
  }
 },
 "nbformat": 4,
 "nbformat_minor": 0
}
