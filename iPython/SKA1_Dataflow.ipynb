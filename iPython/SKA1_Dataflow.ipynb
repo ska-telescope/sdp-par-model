{
 "cells": [
  {
   "cell_type": "markdown",
   "metadata": {},
   "source": [
    "# SDP Data Flow Graph Generation and Analysis\n",
    "\n",
    "(Last tested with IPython 4.0.0 using Python 2.7 and GraphViz 2.36 - If you have trouble, check version compatibility)"
   ]
  },
  {
   "cell_type": "code",
   "execution_count": null,
   "metadata": {
    "collapsed": false
   },
   "outputs": [],
   "source": [
    "\"\"\" These first few lines below import the IPython definitions and methods that we will use. \n",
    "Please Refer to ipython_api.py for the implementation \"\"\"\n",
    "from ipywidgets import interact, interact_manual, fixed, SelectMultiple\n",
    "from IPython.display import display, SVG\n",
    "\n",
    "from pipeline import Pipeline, flowsToDot\n",
    "from parameter_definitions import *\n",
    "from implementation import Implementation as imp, PipelineConfig\n",
    "%matplotlib inline\n",
    "\n",
    "# Make a configuration\n",
    "cfg = PipelineConfig(telescope=Telescopes.SKA1_Mid,\n",
    "                     band=Bands.Mid1,\n",
    "                     pipeline=Pipelines.ICAL,\n",
    "                     max_baseline='default',\n",
    "                     Nf_max='default',\n",
    "                     blcoal=True,\n",
    "                     on_the_fly=False)"
   ]
  },
  {
   "cell_type": "code",
   "execution_count": null,
   "metadata": {
    "collapsed": false
   },
   "outputs": [],
   "source": [
    "# Calculate optimised parameters\n",
    "tp = imp.calc_tel_params(cfg)\n",
    "(tsnap_opt, nfacet_opt) = imp.find_optimal_Tsnap_Nfacet(tp)\n",
    "tp = imp.calc_tel_params(cfg, adjusts={ 'Nfacet': nfacet_opt, 'Tsnap': tsnap_opt })\n",
    "\n",
    "# Generate DOT and render\n",
    "Trun = tp.Tobs # s, guessed (should depend on pipeline)\n",
    "Rhardware = 17.8 * Constants.tera # FLOP/s, from cost model\n",
    "print \"Assuming a pipeline run time of %02d:%02d:\" % (Trun / 60, Trun % 60)\n",
    "dot = flowsToDot(Pipeline(tp).create_pipeline(), Trun, Rhardware,\n",
    "                 graph_attr={'size':'10,100'},\n",
    "                 node_attr={'shape':'box', 'style':'filled','color':'lightgrey'})\n",
    "display(SVG(dot._repr_svg_()))"
   ]
  },
  {
   "cell_type": "markdown",
   "metadata": {
    "collapsed": true
   },
   "source": [
    "### Reading Guide\n",
    "\n",
    "| Label | Example Value | Explanation |\n",
    "| ------------- | ------ | | \n",
    "| Grid          |        | | \n",
    "| Major Loop:   | 10 x 1 | Runs once per major loop (10x)|\n",
    "| Facet:        | 16 x 1 | Runs once per facet (16x)|\n",
    "| Polarisation: | 4 x 1  | Runs once per polarisation (4x)|\n",
    "| Time: | 444 x 48.5712 s | Runs once per 48.5 s of data (444x) |\n",
    "| Frequency: | 40681 x 48.3103 ch | Run per 48.3 channels of input data (40681 x) |\n",
    "| Baseline: | 12 x 11871.1 | Run per each of the 12 baseline bins, containing at maximum 11871.1 baselines |\n",
    "| Tasks: | 3792528 1/s | Task rate (assuming even task distribution over time) |\n",
    "| Time: | 9.1e-06 s/task | Run time for individual task (assuming no aggregation and given hardware speed) |\n",
    "| FLOPs: | 0.61 POP/s | Total floating point operation rate contribution (assuming even task distribution over time) | \n",
    "| Output: | 124971.46 TB/s | Total data output (assuming even task distribution over time) |"
   ]
  },
  {
   "cell_type": "markdown",
   "metadata": {},
   "source": [
    "## The graph can be exported"
   ]
  },
  {
   "cell_type": "code",
   "execution_count": null,
   "metadata": {
    "collapsed": false
   },
   "outputs": [],
   "source": [
    "# Export, if desired\n",
    "dot.format='pdf' # png, svg, ...\n",
    "dot.render('%s_%s_dataflow' % (cfg.pipeline, cfg.band))"
   ]
  },
  {
   "cell_type": "markdown",
   "metadata": {},
   "source": [
    "## We can also look at data flow properties symbolically\n",
    "\n",
    "This is especially useful because they should match the product formulas pretty much exactly. When a test case complains about a mismatch, this will be useful to track down differences."
   ]
  },
  {
   "cell_type": "code",
   "execution_count": null,
   "metadata": {
    "collapsed": false,
    "scrolled": false
   },
   "outputs": [],
   "source": [
    "from IPython.display import display, Math, Latex, HTML\n",
    "from sympy import latex, Lambda\n",
    "\n",
    "# Get symbolised parameters\n",
    "tp = imp.calc_tel_params(cfg, symbolify='product')\n",
    "flows = Pipeline(tp).create_imaging()\n",
    "for flow in sorted(flows, key=lambda f: f.name):\n",
    "    display(Math(latex(Symbol('R_{flop,'+flow.name+'}')) + ' = ' + latex(flow.cost('compute')/tp.Tobs)))"
   ]
  }
 ],
 "metadata": {
  "kernelspec": {
   "display_name": "Python 2",
   "language": "python",
   "name": "python2"
  },
  "language_info": {
   "codemirror_mode": {
    "name": "ipython",
    "version": 2
   },
   "file_extension": ".py",
   "mimetype": "text/x-python",
   "name": "python",
   "nbconvert_exporter": "python",
   "pygments_lexer": "ipython2",
   "version": "2.7.3"
  }
 },
 "nbformat": 4,
 "nbformat_minor": 0
}
