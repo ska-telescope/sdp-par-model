{
 "cells": [
  {
   "cell_type": "markdown",
   "metadata": {},
   "source": [
    "# SDP Data Flow Graph Generation and Analysis\n",
    "\n",
    "Previously tested with IPython 4.0.0 using Python 2.7 and GraphViz 2.36 - If you have trouble, check version compatibility\n",
    "\n",
    "Last run with Jupyter Notebook 5.0.0 running Python 3.5.2 and GraphViz 2.38"
   ]
  },
  {
   "cell_type": "code",
   "execution_count": null,
   "metadata": {
    "collapsed": true
   },
   "outputs": [],
   "source": [
    "\"\"\" These first few lines below import the IPython definitions and methods that we will use. \n",
    "Please Refer to ipython_api.py for the implementation \"\"\"\n",
    "import sys\n",
    "\n",
    "from ipywidgets import interact, interact_manual, fixed, SelectMultiple\n",
    "from IPython.display import display, FileLink, SVG\n",
    "\n",
    "sys.path+=['..']\n",
    "from sdp_par_model.config import PipelineConfig\n",
    "import sdp_par_model.dataflow.pipeline\n",
    "from sdp_par_model.dataflow.pipeline import Pipeline, flowsToDot, mergeFlows\n",
    "from sdp_par_model import evaluate as imp\n",
    "from sdp_par_model.parameters.definitions import *\n",
    "%matplotlib inline\n",
    "\n",
    "# FLOP rates from cost model (approximate)\n",
    "Rnode = 30 * Constants.tera # single GPU\n",
    "Rcluster = 14 * Constants.peta # whole cluster\n",
    "\n",
    "# Pipelines to run for batch export\n",
    "pipelines_batch = [Pipelines.Ingest, Pipelines.ICAL, Pipelines.RCAL, Pipelines.DPrepA_Image,\n",
    "                   Pipelines.DPrepB, Pipelines.DPrepC, Pipelines.Fast_Img]\n",
    "\n",
    "def makePipeline(telescope, band, pipeline,\n",
    "                 crossings='none', annotate='default', doMerges=False, granularity=800, Tobs=6*3600):\n",
    "    \n",
    "    # Create configuration & calculate telescope parameters\n",
    "    cfg = PipelineConfig(telescope=telescope,band=band,pipeline=pipeline)\n",
    "    if not cfg.is_valid()[0]:\n",
    "        print(\"Configuration invalid:\" , cfg.is_valid()[1])\n",
    "        return\n",
    "    tp = cfg.calc_tel_params(adjusts={ 'Tobs' : Tobs })\n",
    "    (tsnap_opt, nfacet_opt) = imp.find_optimal_Tsnap_Nfacet(tp)\n",
    "    tp = cfg.calc_tel_params(adjusts={ 'Nfacet': nfacet_opt, 'Tsnap': tsnap_opt,\n",
    "                                            'Nf_min_gran': granularity,\n",
    "                                            'Tobs' : Tobs })\n",
    "    pip = Pipeline(tp)\n",
    "\n",
    "    # Determine run time to expect given our total cluster compute power\n",
    "    # This can end up larger than Tobs now, as the cluster is sized for\n",
    "    # the \"average\" load. This obviously only makes sense for offline\n",
    "    # processing.\n",
    "    if pipeline not in Pipelines.realtime:\n",
    "        Trun = pip.tp.Rflop * pip.tp.Tobs / Rcluster\n",
    "    else:\n",
    "        Trun = pip.tp.Tobs\n",
    "    \n",
    "    # Determine crossings to check\n",
    "    cross_regs = {\n",
    "        'none': None,\n",
    "        'island': [pip.eachBeam, pip.islandFreqs],\n",
    "        'island_time': [pip.eachBeam, pip.snapTime],\n",
    "        'node': [pip.eachBeam, pip.islandFreqs, pip.snapTime, pip.eachFacet, pip.xyPolar],\n",
    "    }[crossings]\n",
    "    cross_names = ''\n",
    "    if not cross_regs is None:\n",
    "        cross_names = ', checking [' + ', '.join(map(lambda r: r.domain.name, cross_regs)) + \\\n",
    "            '] for crossing edges'\n",
    "            \n",
    "    # Create pipeline, merging if requested\n",
    "    root = pip.create_pipeline(performMerges=doMerges)\n",
    "\n",
    "    annotateOpts = {\n",
    "        'none': {'showRegions':False, 'showRates':False, 'showGranularity':False, 'showDegrees':False},\n",
    "        'default': {},\n",
    "        'granularity': {'showRegions':False, 'showDegrees':False, 'showRates':False, 'showTaskRates':True }\n",
    "    }[annotate]\n",
    "    \n",
    "    # Generate graph\n",
    "    dot = flowsToDot(\n",
    "        root, Trun, Rnode,\n",
    "        graph_attr={'size':'10,100', 'penwidth':'2',\n",
    "                    'label':\"%s for band %s in %d:%02d%s\" % (pipeline, band, Trun / 60, Trun % 60, cross_names)},\n",
    "        node_attr={'shape':'rounded', 'style':'filled,rounded','color':'lightgrey'},\n",
    "        edge_attr={'penwidth':'2'},\n",
    "        cross_regs=cross_regs,\n",
    "        **annotateOpts\n",
    "        )\n",
    "    return dot"
   ]
  },
  {
   "cell_type": "markdown",
   "metadata": {},
   "source": [
    "## Graphs can be requested interactively\n",
    "\n",
    "Select the appropriate telescope configuration. Explanation of the other options:\n",
    "\n",
    " * granularity - shifts the frequency splits of certain tasks that otherwise tend to have a too coarse granularity (produce overly large results).\n",
    " * annotate - how much information to show on nodes and edges\n",
    " * crossings - whether to analyse edges for crossing between the given entities\n",
    " * merges - group related products to simplify the data flow graph"
   ]
  },
  {
   "cell_type": "code",
   "execution_count": null,
   "metadata": {
    "collapsed": false
   },
   "outputs": [],
   "source": [
    "from ipywidgets import ToggleButtons\n",
    "def showPipeline(telescope, band, pipeline, *args, **kwargs):\n",
    "    display(SVG(makePipeline(telescope, band, pipeline, *args,**kwargs)._repr_svg_()))\n",
    "def toggles(opts, *args): return ToggleButtons(options=opts, *args)\n",
    "available_pips = Pipelines.pure_pipelines\n",
    "available_bands = sorted(list(Bands.low_bands) + list(Bands.mid_bands))\n",
    "available_tels = [Telescopes.SKA1_Low, Telescopes.SKA1_Mid]\n",
    "available_crossings = ['none', 'island', 'island_time', 'node']\n",
    "interact_manual(showPipeline,\n",
    "                telescope=toggles(available_tels), band=toggles(available_bands),\n",
    "                pipeline=toggles(available_pips), crossings=toggles(available_crossings),\n",
    "                doMerges=toggles([False, True]),\n",
    "                annotate=toggles(['default', 'none', 'granularity']),\n",
    "                granularity=(20,1580),\n",
    "                Tobs=(3600, 6*3600));"
   ]
  },
  {
   "cell_type": "markdown",
   "metadata": {
    "collapsed": true
   },
   "source": [
    "### Reading Guide\n",
    "\n",
    "| Label | Example Value | Explanation |\n",
    "| ------------- | ------ | | \n",
    "| Grid          |        | | \n",
    "| Major Loop:   | 10 x 1 | Runs once per major loop (10x)|\n",
    "| Facet:        | 16 x 1 | Runs once per facet (16x)|\n",
    "| Polarisation: | 4 x 1  | Runs once per polarisation (4x)|\n",
    "| Time: | 444 x 48.5712 s | Runs once per 48.5 s of data (444x) |\n",
    "| Frequency: | 40681 x 48.3103 ch | Run per 48.3 channels of input data (40681 x) |\n",
    "| Baseline: | 12 x 11871.1 | Run per each of the 12 baseline bins, containing at maximum 11871.1 baselines |\n",
    "| Tasks: | 3792528 1/s | Task rate (assuming even task distribution over time) |\n",
    "| Time: | 9.1e-06 s/task | Run time for individual task (assuming no aggregation and given hardware speed) |\n",
    "| FLOPs: | 0.61 POP/s | Total floating point operation rate contribution (assuming even task distribution over time) | \n",
    "| Output: | 124971.46 TB/s | Total data output (assuming even task distribution over time) |"
   ]
  },
  {
   "cell_type": "markdown",
   "metadata": {},
   "source": [
    "## Graphs can be (batch)-exported"
   ]
  },
  {
   "cell_type": "code",
   "execution_count": null,
   "metadata": {
    "collapsed": false
   },
   "outputs": [],
   "source": [
    "for telescope, band in [(Telescopes.SKA1_Mid, Bands.Mid1)]:\n",
    "    for pipeline in pipelines_batch:\n",
    "        for crossings in ['none', 'island']: # , 'island_time', 'node'\n",
    "            dot = makePipeline(telescope, band, pipeline, crossings, doMerges=False, annotate='default')\n",
    "            dot.format='pdf' # png, svg, ...\n",
    "            display(FileLink(dot.render('out/graphs/%s_%s_%s_dataflow' % (pipeline, band, crossings))))"
   ]
  },
  {
   "cell_type": "code",
   "execution_count": null,
   "metadata": {
    "collapsed": false
   },
   "outputs": [],
   "source": [
    "for telescope, band in [(Telescopes.SKA1_Mid, Bands.Mid1)]:\n",
    "    for pipeline in pipelines_batch:\n",
    "        dot = makePipeline(telescope, band, pipeline, annotate='granularity', doMerges=True)\n",
    "        dot.format='pdf' # png, svg, ...\n",
    "        display(FileLink(dot.render('out/graphs/%s_%s_granularity' % (pipeline, band))))"
   ]
  },
  {
   "cell_type": "markdown",
   "metadata": {},
   "source": [
    "## We can also look at data flow properties symbolically\n",
    "\n",
    "This is especially useful because they should match the product formulas pretty much exactly. When a test case complains about a mismatch, this will be useful to track down differences."
   ]
  },
  {
   "cell_type": "code",
   "execution_count": null,
   "metadata": {
    "collapsed": false,
    "scrolled": true
   },
   "outputs": [],
   "source": [
    "from IPython.display import display, Math, Latex, HTML\n",
    "from sympy import latex, Lambda, Symbol, simplify\n",
    "\n",
    "# Get symbolised parameters\n",
    "cfg = PipelineConfig(telescope=Telescopes.SKA1_Mid,band=Bands.Mid1,pipeline=Pipelines.ICAL)\n",
    "tp = cfg.calc_tel_params(symbolify='product')\n",
    "pip = Pipeline(tp)\n",
    "root = pip.create_pipeline(performMerges=True)\n",
    "\n",
    "Trun = Symbol(\"T_run\")\n",
    "Rnode = Symbol(\"R_node\")\n",
    "for flow in sorted(root.recursiveDeps(), key=lambda f: f.name):\n",
    "    print(flow.name)\n",
    "    Ttask = simplify(flow.cost('compute')/flow.count()/Rnode) # Time a single task runs\n",
    "    Mtask = simplify(flow.cost('transfer')/flow.count()) # Data a single task produces\n",
    "    Rtask = simplify(Mtask / Ttask) # Virtual output rate of a single task\n",
    "    display(Math(\n",
    "        r\"\\begin{align} n &= %s \\\\ %s &= %s \\\\ %s &= %s \\\\ %s &= %s \\\\ %s &= %s \\\\ %s &= %s \\end{align}\" %\n",
    "        (latex(flow.count()),\n",
    "         latex(Symbol('T_{task}')), latex(Ttask),\n",
    "         latex(Symbol('M_{task}')), latex(Mtask),\n",
    "         latex(Symbol('R_{task}')), latex(Rtask),\n",
    "         latex(Symbol('R_{flop}')),\n",
    "         latex(flow.cost('compute')/Trun),\n",
    "         latex(Symbol('R_{transfer}')),\n",
    "         latex(flow.cost('transfer')/Trun))))\n"
   ]
  },
  {
   "cell_type": "markdown",
   "metadata": {
    "collapsed": true
   },
   "source": [
    " "
   ]
  }
 ],
 "metadata": {
  "kernelspec": {
   "display_name": "Python 3",
   "language": "python",
   "name": "python3"
  },
  "language_info": {
   "codemirror_mode": {
    "name": "ipython",
    "version": 3
   },
   "file_extension": ".py",
   "mimetype": "text/x-python",
   "name": "python",
   "nbconvert_exporter": "python",
   "pygments_lexer": "ipython3",
   "version": "3.5.1"
  },
  "widgets": {
   "state": {},
   "version": "1.1.2"
  }
 },
 "nbformat": 4,
 "nbformat_minor": 0
}
