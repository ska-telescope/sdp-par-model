{
 "cells": [
  {
   "cell_type": "markdown",
   "metadata": {},
   "source": [
    "# SDP Data Flow Graph Generation and Analysis\n",
    "\n",
    "(Last tested with IPython 4.0.0 using Python 2.7 and GraphViz 2.36 - If you have trouble, check version compatibility)"
   ]
  },
  {
   "cell_type": "code",
   "execution_count": null,
   "metadata": {
    "collapsed": false
   },
   "outputs": [],
   "source": [
    "\"\"\" These first few lines below import the IPython definitions and methods that we will use. \n",
    "Please Refer to ipython_api.py for the implementation \"\"\"\n",
    "from ipywidgets import interact, interact_manual, fixed, SelectMultiple\n",
    "from IPython.display import display, FileLink, SVG\n",
    "\n",
    "from pipeline import Pipeline, flowsToDot, mergeFlows\n",
    "from parameter_definitions import *\n",
    "from implementation import Implementation as imp, PipelineConfig\n",
    "import unittest\n",
    "import pipeline\n",
    "%matplotlib inline\n",
    "\n",
    "# FLOP rates from cost model (approximate)\n",
    "Rnode = 30 * Constants.tera # single GPU\n",
    "Rcluster = 14 * Constants.peta # whole cluster\n",
    "\n",
    "# Pipelines to run for batch export\n",
    "pipelines_batch = [Pipelines.Ingest, Pipelines.ICAL, Pipelines.RCAL, Pipelines.DPrepA_Image,\n",
    "                   Pipelines.DPrepB, Pipelines.DPrepC, Pipelines.Fast_Img]\n",
    "\n",
    "# Flows to merge (if requested), using given granularity\n",
    "def getMerges(pip):\n",
    "    if not Products.IFFT in pip.tp.products:\n",
    "        return []\n",
    "    return [([Products.ReprojectionPredict,Products.IFFT],\n",
    "             [pip.eachBeam, pip.eachLoop, pip.xyPolar, pip.snapTime, pip.projPredFreqs, pip.eachFacet]),\n",
    "            ([Products.Degridding_Kernel_Update, Products.Degrid, Products.PhaseRotationPredict],\n",
    "             [pip.eachBeam, pip.eachLoop, pip.eachFacet, pip.xyPolar,\n",
    "              pip.snapTime, pip.granFreqs, pip.allBaselines]),\n",
    "            ([Products.DFT, \"Sum visibilities\"],\n",
    "             [pip.eachBeam, pip.eachLoop, pip.xyPolars,\n",
    "              pip.snapTime, pip.granFreqs, pip.allBaselines]),\n",
    "            ([Products.Solve],\n",
    "             [pip.eachBeam, pip.eachSelfCal, pip.solveTime, pip.allFreqs, pip.xyPolars]),\n",
    "            ([Products.Correct,Products.Subtract_Visibility,Products.Flag],\n",
    "             [pip.eachBeam, pip.snapTime, pip.granFreqs, pip.xyPolars, pip.allBaselines, pip.eachLoop]),\n",
    "            ([Products.Gridding_Kernel_Update,\n",
    "              Products.PhaseRotation,Products.Grid, Products.FFT, Products.Reprojection],\n",
    "             [pip.eachBeam, pip.eachLoop, pip.xyPolar,pip.snapTime, pip.projBackFreqs, pip.eachFacet])\n",
    "           ]\n",
    "\n",
    "def makePipeline(telescope, band, pipeline,\n",
    "                 crossings='none', annotate='default', doMerges=False, granularity=800):\n",
    "    \n",
    "    # Create configuration & calculate telescope parameters\n",
    "    cfg = PipelineConfig(telescope=telescope,\n",
    "                         band=band,\n",
    "                         pipeline=pipeline,\n",
    "                         max_baseline='default',\n",
    "                         Nf_max='default',\n",
    "                         blcoal=True,\n",
    "                         on_the_fly=False)\n",
    "    if not cfg.is_valid()[0]:\n",
    "        print(\"Configuration invalid:\" , cfg.is_valid()[1])\n",
    "        return\n",
    "    tp = imp.calc_tel_params(cfg)\n",
    "    (tsnap_opt, nfacet_opt) = imp.find_optimal_Tsnap_Nfacet(tp)\n",
    "    tp = imp.calc_tel_params(cfg, adjusts={ 'Nfacet': nfacet_opt, 'Tsnap': tsnap_opt,\n",
    "                                            'minimum_channels_gran': granularity })\n",
    "    pip = Pipeline(tp)\n",
    "\n",
    "    # Determine run time to expect given our total cluster compute power\n",
    "    # This can end up larger than Tobs now, as the cluster is sized for\n",
    "    # the \"average\" load.\n",
    "    Trun = pip.tp.Rflop * pip.tp.Tobs / Rcluster\n",
    "    \n",
    "    # Determine crossings to check\n",
    "    cross_regs = {\n",
    "        'none': None,\n",
    "        'island': [pip.eachBeam, pip.islandFreqs],\n",
    "        'island_time': [pip.eachBeam, pip.snapTime],\n",
    "        'node': [pip.eachBeam, pip.islandFreqs, pip.snapTime, pip.eachFacet, pip.xyPolar],\n",
    "    }[crossings]\n",
    "    cross_names = ''\n",
    "    if not cross_regs is None:\n",
    "        cross_names = ', checking [' + ', '.join(map(lambda r: r.domain.name, cross_regs)) + \\\n",
    "            '] for crossing edges'\n",
    "            \n",
    "    # Merge if requested\n",
    "    root = pip.create_pipeline()\n",
    "    if doMerges:\n",
    "        for flows, gran in getMerges(pip):\n",
    "            mergeFlows(root, root.getDeps(flows), gran)\n",
    "\n",
    "    annotateOpts = {\n",
    "        'none': {'showRegions':False, 'showRates':False, 'showGranularity':False, 'showDegrees':False},\n",
    "        'default': {},\n",
    "        'granularity': {'showRegions':False, 'showDegrees':False, 'showRates':False, 'showTaskRates':True }\n",
    "    }[annotate]\n",
    "    \n",
    "    # Generate graph\n",
    "    dot = flowsToDot(\n",
    "        root, Trun, Rnode,\n",
    "        graph_attr={'size':'10,100', 'penwidth':'2',\n",
    "                    'label':\"%s for band %s in %d:%02d%s\" % (pipeline, band, Trun / 60, Trun % 60, cross_names)},\n",
    "        node_attr={'shape':'rounded', 'style':'filled,rounded','color':'lightgrey'},\n",
    "        edge_attr={'penwidth':'2'},\n",
    "        cross_regs=cross_regs,\n",
    "        **annotateOpts\n",
    "        )\n",
    "    return dot"
   ]
  },
  {
   "cell_type": "code",
   "execution_count": null,
   "metadata": {
    "collapsed": false
   },
   "outputs": [],
   "source": [
    "import unittest\n",
    "import pipeline\n",
    "import sys\n",
    "unittest.defaultTestLoader.loadTestsFromModule(pipeline).run(unittest.TextTestResult(sys.stdout, '', 1))"
   ]
  },
  {
   "cell_type": "markdown",
   "metadata": {},
   "source": [
    "## Graphs can be requested interactively\n",
    "\n",
    "Select the appropriate telescope configuration. Explanation of the other options:\n",
    "\n",
    " * granularity - shifts the frequency splits of certain tasks that otherwise tend to have a too coarse granularity (produce overly large results).\n",
    " * annotate - how much information to show on nodes and edges\n",
    " * crossings - whether to analyse edges for crossing between the given entities\n",
    " * merges - group related products to simplify the data flow graph"
   ]
  },
  {
   "cell_type": "code",
   "execution_count": null,
   "metadata": {
    "collapsed": false
   },
   "outputs": [],
   "source": [
    "from ipywidgets import ToggleButtons\n",
    "def showPipeline(telescope, band, pipeline, *args, **kwargs):\n",
    "    display(SVG(makePipeline(telescope, band, pipeline, *args,**kwargs)._repr_svg_()))\n",
    "def toggles(opts, *args): return ToggleButtons(options=opts, *args)\n",
    "available_pips = Pipelines.pure_pipelines\n",
    "available_bands = sorted(list(Bands.low_bands) + list(Bands.mid_bands))\n",
    "available_tels = [Telescopes.SKA1_Low, Telescopes.SKA1_Mid]\n",
    "available_crossings = ['none', 'island', 'island_time', 'node']\n",
    "interact_manual(showPipeline,\n",
    "                telescope=toggles(available_tels), band=toggles(available_bands),\n",
    "                pipeline=toggles(available_pips), crossings=toggles(available_crossings),\n",
    "                doMerges=toggles([False, True]),\n",
    "                annotate=toggles(['default', 'none', 'granularity']),\n",
    "                granularity=(20,1580));"
   ]
  },
  {
   "cell_type": "markdown",
   "metadata": {
    "collapsed": true
   },
   "source": [
    "### Reading Guide\n",
    "\n",
    "| Label | Example Value | Explanation |\n",
    "| ------------- | ------ | | \n",
    "| Grid          |        | | \n",
    "| Major Loop:   | 10 x 1 | Runs once per major loop (10x)|\n",
    "| Facet:        | 16 x 1 | Runs once per facet (16x)|\n",
    "| Polarisation: | 4 x 1  | Runs once per polarisation (4x)|\n",
    "| Time: | 444 x 48.5712 s | Runs once per 48.5 s of data (444x) |\n",
    "| Frequency: | 40681 x 48.3103 ch | Run per 48.3 channels of input data (40681 x) |\n",
    "| Baseline: | 12 x 11871.1 | Run per each of the 12 baseline bins, containing at maximum 11871.1 baselines |\n",
    "| Tasks: | 3792528 1/s | Task rate (assuming even task distribution over time) |\n",
    "| Time: | 9.1e-06 s/task | Run time for individual task (assuming no aggregation and given hardware speed) |\n",
    "| FLOPs: | 0.61 POP/s | Total floating point operation rate contribution (assuming even task distribution over time) | \n",
    "| Output: | 124971.46 TB/s | Total data output (assuming even task distribution over time) |"
   ]
  },
  {
   "cell_type": "markdown",
   "metadata": {},
   "source": [
    "## Graphs can be (batch)-exported"
   ]
  },
  {
   "cell_type": "code",
   "execution_count": null,
   "metadata": {
    "collapsed": false
   },
   "outputs": [],
   "source": [
    "for telescope, band in [(Telescopes.SKA1_Mid, Bands.Mid1)]:\n",
    "    for pipeline in pipelines_batch:\n",
    "        for crossings in ['none', 'island']: # , 'island_time', 'node'\n",
    "            dot = makePipeline(telescope, band, pipeline, crossings, doMerges=True, annotate='granularity')\n",
    "            dot.format='pdf' # png, svg, ...\n",
    "            display(FileLink(dot.render('graphs/%s_%s_%s_dataflow' % (pipeline, band, crossings))))"
   ]
  },
  {
   "cell_type": "code",
   "execution_count": null,
   "metadata": {
    "collapsed": false
   },
   "outputs": [],
   "source": [
    "for telescope, band in [(Telescopes.SKA1_Mid, Bands.Mid1)]:\n",
    "    for pipeline in pipelines_batch:\n",
    "        dot = makePipeline(telescope, band, pipeline, annotate='granularity', doMerges=True)\n",
    "        dot.format='pdf' # png, svg, ...\n",
    "        display(FileLink(dot.render('graphs/%s_%s_granularity' % (pipeline, band))))"
   ]
  },
  {
   "cell_type": "markdown",
   "metadata": {},
   "source": [
    "## We can also look at data flow properties symbolically\n",
    "\n",
    "This is especially useful because they should match the product formulas pretty much exactly. When a test case complains about a mismatch, this will be useful to track down differences."
   ]
  },
  {
   "cell_type": "code",
   "execution_count": null,
   "metadata": {
    "collapsed": false,
    "scrolled": true
   },
   "outputs": [],
   "source": [
    "from IPython.display import display, Math, Latex, HTML\n",
    "from sympy import latex, Lambda, simplify\n",
    "\n",
    "# Get symbolised parameters\n",
    "cfg = PipelineConfig(telescope=Telescopes.SKA1_Mid,\n",
    "                     band=Bands.Mid1,\n",
    "                     pipeline=Pipelines.ICAL,\n",
    "                     max_baseline='default',\n",
    "                     Nf_max='default',\n",
    "                     blcoal=True,\n",
    "                     on_the_fly=False)\n",
    "tp = imp.calc_tel_params(cfg, symbolify='product')\n",
    "pip = Pipeline(tp)\n",
    "root = pip.create_imaging()\n",
    "\n",
    "# Comment out if you don't want merges\n",
    "for flows, gran in getMerges(pip):\n",
    "    mergeFlows(root, root.getDeps(flows), gran)\n",
    "\n",
    "Trun = Symbol(\"T_run\")\n",
    "Rnode = Symbol(\"R_node\")\n",
    "for flow in sorted(root.recursiveDeps(), key=lambda f: f.name):\n",
    "    print(flow.name)\n",
    "    Ttask = simplify(flow.cost('compute')/flow.count()/Rnode) # Time a single task runs\n",
    "    Mtask = simplify(flow.cost('transfer')/flow.count()) # Data a single task produces\n",
    "    Rtask = simplify(Mtask / Ttask) # Virtual output rate of a single task\n",
    "    display(Math(\n",
    "        r\"\\begin{align} n &= %s \\\\ %s &= %s \\\\ %s &= %s \\\\ %s &= %s \\\\ %s &= %s \\\\ %s &= %s \\end{align}\" %\n",
    "        (latex(flow.count()),\n",
    "         latex(Symbol('T_{task}')), latex(Ttask),\n",
    "         latex(Symbol('M_{task}')), latex(Mtask),\n",
    "         latex(Symbol('R_{task}')), latex(Rtask),\n",
    "         latex(Symbol('R_{flop}')),\n",
    "         latex(flow.cost('compute')/Trun),\n",
    "         latex(Symbol('R_{transfer}')),\n",
    "         latex(flow.cost('transfer')/Trun))))\n"
   ]
  },
  {
   "cell_type": "markdown",
   "metadata": {
    "collapsed": true
   },
   "source": [
    " "
   ]
  }
 ],
 "metadata": {
  "kernelspec": {
   "display_name": "Python 3",
   "language": "python",
   "name": "python3"
  },
  "language_info": {
   "codemirror_mode": {
    "name": "ipython",
    "version": 3
   },
   "file_extension": ".py",
   "mimetype": "text/x-python",
   "name": "python",
   "nbconvert_exporter": "python",
   "pygments_lexer": "ipython3",
   "version": "3.5.1"
  },
  "widgets": {
   "state": {
    "09dcac6baf50422ca6a5d23f801b288d": {
     "views": []
    },
    "1c45cf7d7cef45b2b1719dfc918710ee": {
     "views": []
    },
    "25dce5d169c345248beddf92dcd6b9b4": {
     "views": []
    },
    "2bdf00355fb143a1ba7d03c0b2e0d2bf": {
     "views": []
    },
    "2cc32dac2aaf4570b60f9cd29ca63de0": {
     "views": []
    },
    "2e11e12f341d4e16a26c0833c9b249b1": {
     "views": []
    },
    "358c5b20b74649e0a7f79a632ffe1719": {
     "views": []
    },
    "43c43d7a858844f183b6eb20a6ecfda5": {
     "views": []
    },
    "47788b116d9d409fb687686a98d0a9bd": {
     "views": []
    },
    "5050cfd75f7645d988646ce3027c56f3": {
     "views": []
    },
    "594f12c3a5764f9f844e0d6dde145d08": {
     "views": []
    },
    "5c77122d8f794a4988153abb7180b6cd": {
     "views": []
    },
    "635e23aace144bae876f3948d64d8233": {
     "views": []
    },
    "707bce3f52564c99918ce7561846d0d8": {
     "views": []
    },
    "74e5e6c280b34aa59332889e770fc9d4": {
     "views": [
      {
       "cell_index": 3
      }
     ]
    },
    "7566319164ac47e3ac6a6eaf70e23549": {
     "views": []
    },
    "773a675c6a66454c81295eb972d504dc": {
     "views": []
    },
    "7d9536001a8648969bc7af9ba23b2299": {
     "views": []
    },
    "841856b2ea6642e39cb55eaab342e819": {
     "views": []
    },
    "871155f2708e4c82b707acaabbfd34ef": {
     "views": []
    },
    "8c0c733e223b4bb0925ef927b5471aed": {
     "views": []
    },
    "93a844493df44990982c0359d9a282ca": {
     "views": []
    },
    "a037eff137b34f4e8983565add1bbdef": {
     "views": []
    },
    "adc4a6a3772249cd87962f2fe5921c8b": {
     "views": []
    },
    "af0f0625fc754a039ad4b0d93306782e": {
     "views": []
    },
    "b4940eb5122242fb9980af31b0f0e698": {
     "views": []
    },
    "b4a76c5f73e94ce0baf6b39be3be1cba": {
     "views": []
    },
    "badf7487a24d43eb9794ef3e4cd0cf9f": {
     "views": []
    },
    "bfd01b1c9c794f93ae67e76487282743": {
     "views": []
    },
    "cdfafd68e462491e9ad67f7a956dc13c": {
     "views": []
    },
    "e7e0ed8fdb0f439a862c2b972f7fdf42": {
     "views": []
    },
    "ed278a61063a44779329bc226fcfb512": {
     "views": []
    },
    "eecb692aa72d4b899f7cd82827d5e342": {
     "views": []
    },
    "f017045fe1e44900b895561e1c1b21a5": {
     "views": []
    },
    "f4e6b01e40224fed959f6b542725a73c": {
     "views": []
    },
    "fa75bc67847143cda940d5d36eef6be5": {
     "views": []
    }
   },
   "version": "1.1.2"
  }
 },
 "nbformat": 4,
 "nbformat_minor": 0
}
