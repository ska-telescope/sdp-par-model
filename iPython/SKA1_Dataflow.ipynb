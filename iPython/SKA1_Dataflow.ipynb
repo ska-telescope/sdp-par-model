{
 "cells": [
  {
   "cell_type": "markdown",
   "metadata": {},
   "source": [
    "# SDP Data Flow Graph Generation and Analysis\n",
    "\n",
    "(Last tested with IPython 4.0.0 using Python 2.7 and GraphViz 2.36 - If you have trouble, check version compatibility)"
   ]
  },
  {
   "cell_type": "code",
   "execution_count": null,
   "metadata": {
    "collapsed": false
   },
   "outputs": [],
   "source": [
    "\"\"\" These first few lines below import the IPython definitions and methods that we will use. \n",
    "Please Refer to ipython_api.py for the implementation \"\"\"\n",
    "from ipywidgets import interact, interact_manual, fixed, SelectMultiple\n",
    "from IPython.display import display, SVG\n",
    "\n",
    "from pipeline import Pipeline, flowsToDot\n",
    "from parameter_definitions import *\n",
    "from implementation import Implementation as imp, PipelineConfig\n",
    "%matplotlib inline\n",
    "\n",
    "# Make a configuration\n",
    "cfg = PipelineConfig(telescope=Telescopes.SKA1_Mid,\n",
    "                     band=Bands.Mid1,\n",
    "                     mode=ImagingModes.Continuum,\n",
    "                     max_baseline='default',\n",
    "                     Nf_max='default',\n",
    "                     bldta=True,\n",
    "                     on_the_fly=False)\n",
    "\n",
    "# Calculate optimised parameters\n",
    "tp = imp.calc_tel_params(cfg)\n",
    "(tsnap_opt, nfacet_opt) = imp.find_optimal_Tsnap_Nfacet(tp)\n",
    "tp = imp.calc_tel_params(cfg, adjusts={ 'Nfacet': nfacet_opt, 'Tsnap': tsnap_opt })\n",
    "\n",
    "# Generate DOT and render\n",
    "Trun = 4 * 3600\n",
    "print \"Assuming a pipeline run time of %02d:%02d:\" % (Trun / 60, Trun % 60)\n",
    "dot = flowsToDot(Pipeline(tp).create_continuum(), tp.Tobs,\n",
    "                 graph_attr={'size':'10,100'},\n",
    "                 node_attr={'shape':'box', 'style':'filled','color':'lightgrey'})\n",
    "display(SVG(dot._repr_svg_()))"
   ]
  },
  {
   "cell_type": "code",
   "execution_count": null,
   "metadata": {
    "collapsed": false
   },
   "outputs": [],
   "source": [
    "# Export, if desired\n",
    "dot.format='pdf' # png, svg, ...\n",
    "dot.render('out')"
   ]
  },
  {
   "cell_type": "code",
   "execution_count": null,
   "metadata": {
    "collapsed": true
   },
   "outputs": [],
   "source": []
  }
 ],
 "metadata": {
  "kernelspec": {
   "display_name": "Python 2",
   "language": "python",
   "name": "python2"
  },
  "language_info": {
   "codemirror_mode": {
    "name": "ipython",
    "version": 2
   },
   "file_extension": ".py",
   "mimetype": "text/x-python",
   "name": "python",
   "nbconvert_exporter": "python",
   "pygments_lexer": "ipython2",
   "version": "2.7.6"
  }
 },
 "nbformat": 4,
 "nbformat_minor": 0
}
