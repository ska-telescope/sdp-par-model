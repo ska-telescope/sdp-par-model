{
 "cells": [
  {
   "cell_type": "markdown",
   "metadata": {},
   "source": [
    "# The SKA SDP Parameteric Model\n",
    "\n",
    "This series of notebooks is the user interface into the SKA SDP parameteric model. The purpose of the parametric model is to parametrise SDP pipelines for the various scientific use cases.\n",
    "\n",
    "In order to do this realistically, the parametric model especially contains a significant amount of performance modelling. This is both so we can optimise parameters to be \"realistic\" with respect to our architecture (partly done automatically) as well as exploring the impact of parameters on costs.\n",
    "\n",
    "To serve this goal of exploration, the parametric model contains a lot of separate notebooks, mostly born out of specific enquiries done in the past. This notebook should act as a guide to newcomers trying to find their way around."
   ]
  },
  {
   "cell_type": "markdown",
   "metadata": {},
   "source": [
    "## [SKA1_Imaging_Performance_Model](SKA1_Imaging_Performance_Model.ipynb)\n",
    "\n",
    "The main notebook for top-level parametric model information. Contains interactive sidgets to generate parameters both for free-form telescope configurations as well as pre-defined HPSOs.\n",
    "\n",
    "Also allows generating graphs for 1D or 2D parameter scans."
   ]
  },
  {
   "cell_type": "markdown",
   "metadata": {},
   "source": [
    "## [SKA1_SDP_Performance_Dashboard](SKA1_SDP_Performance_Dashboard.ipynb)\n",
    "\n",
    "Overview of the (FLOP) performance characteristics of all pipelines. Meant as a way to identify which pipeline configurations and components cause us the most trouble at the moment."
   ]
  },
  {
   "cell_type": "markdown",
   "metadata": {},
   "source": [
    "## [SKA1_SDP_Products](SKA1_SDP_Products.ipynb), [SKA1_Document_Formulas](SKA1_Document_Formulas.ipynb)\n",
    "\n",
    "Generates $\\LaTeX$ representations of the equations used for calculating parameters and costs. Used for checking correctness as well as consistency between the parametric model implementation and the document."
   ]
  },
  {
   "cell_type": "markdown",
   "metadata": {
    "collapsed": true
   },
   "source": [
    "## [SKA1_Dataflow](SKA1_Dataflow.ipynb)\n",
    "\n",
    "Organises costs from the parametric model into a data flow form. This results in a rough model for task and data granuarlities and rates. Ouput will be generated as GraphViz graphs (requires GraphViz to be installed!)."
   ]
  },
  {
   "cell_type": "markdown",
   "metadata": {},
   "source": [
    "## [SKA1_Sensitivity_Analysis](SKA1_Sensitivity_Analysis.ipynb)\n",
    "\n",
    "A collection of parameter scancs exploring the sensitivity of parametric model outputs when certain key parameters are varied."
   ]
  },
  {
   "cell_type": "markdown",
   "metadata": {},
   "source": [
    "## [SKA1_Export](SKA1_Export.ipynb)\n",
    "\n",
    "Tools for change control within the parameteric model: Allows batch-generation of parameterisatios for all possible configurations / HPSOs as well as generating reports for changes between versions."
   ]
  },
  {
   "cell_type": "markdown",
   "metadata": {},
   "source": [
    "## [Absolute_Baseline_length_distribution](Absolute_Baseline_length_distribution.ipynb)\n",
    "\n",
    "Utility notebook for generating baseline bins. Useful primarily when the SKA station layout changes."
   ]
  },
  {
   "cell_type": "markdown",
   "metadata": {},
   "source": [
    "## Other notebooks\n",
    "\n",
    "Not that useful any more, but left over from memo investigations:\n",
    "\n",
    "* [SKA1_Gridding_Density](SKA1_Gridding_Density.ipynb): Used by Peter Wortmann for gridding density calculations for SDP Memo 028 (Gridding Computational Density)\n",
    "* [SKA1_Faceting_Model](SKA1_Faceting_Model.ipynb): Faceting model used by Tim Cornwell.\n",
    "* [SKA1_SDP_DesignEquations](SKA1_SDP_DesignEquations.ipynb): Formula collection used for PDR05."
   ]
  }
 ],
 "metadata": {
  "kernelspec": {
   "display_name": "Python 3",
   "language": "python",
   "name": "python3"
  },
  "language_info": {
   "codemirror_mode": {
    "name": "ipython",
    "version": 3
   },
   "file_extension": ".py",
   "mimetype": "text/x-python",
   "name": "python",
   "nbconvert_exporter": "python",
   "pygments_lexer": "ipython3",
   "version": "3.5.1"
  }
 },
 "nbformat": 4,
 "nbformat_minor": 2
}
