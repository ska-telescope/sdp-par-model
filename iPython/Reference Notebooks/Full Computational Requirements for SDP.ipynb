{
 "metadata": {
  "name": "",
  "signature": "sha256:471a017759cc3beea25d05c37b5e94ea7756e79bf997a633ea4ee816f86dc44a"
 },
 "nbformat": 3,
 "nbformat_minor": 0,
 "worksheets": [
  {
   "cells": [
    {
     "cell_type": "markdown",
     "metadata": {},
     "source": [
      "_This notebook started an implementation as a Python Notebook, performed by Juande Santander Vela, of Computational Requirements for SDP Rev: 0.3 (by Bojan Nikolic). It has now been updated to cover MajComputeCycle.pdf rev. 0.5_\n",
      "\n",
      "_It has been expanded to include parametrization of SDP Use Cases for review in the context of the **Year in the Life of the SKA** project._\n",
      "\n",
      "_This notebook requires sympy and astropy_"
     ]
    },
    {
     "cell_type": "heading",
     "level": 1,
     "metadata": {},
     "source": [
      "Global setup"
     ]
    },
    {
     "cell_type": "code",
     "collapsed": false,
     "input": [
      "from sympy import init_session\n",
      "init_session(\n",
      "    use_latex=True,\n",
      "    use_unicode=True,\n",
      "    pretty_print=True,\n",
      "    quiet=True,\n",
      ")\n",
      "\n",
      "import sympy.physics.units as u\n",
      "from astropy import constants as const\n",
      "import numpy as np\n",
      "\n",
      "c = const.c.value * u.m / u.s\n",
      "\n",
      "tdump, Ds, wl, Bmax = symbols(\"t_{dump} D_s \\lambda B_{max}\") \n",
      "Na, Nf, Nbeam, NAA = symbols(\"N_a N_f N_{beam} NAA\", integer=True)\n"
     ],
     "language": "python",
     "metadata": {},
     "outputs": [
      {
       "output_type": "stream",
       "stream": "stdout",
       "text": [
        "IPython console for SymPy 0.7.5 (Python 2.7.6-64-bit) (ground types: python)\n"
       ]
      },
      {
       "output_type": "stream",
       "stream": "stderr",
       "text": [
        "WARNING: Hook shutdown_hook is deprecated. Use the atexit module instead.\n"
       ]
      }
     ],
     "prompt_number": 95
    },
    {
     "cell_type": "heading",
     "level": 1,
     "metadata": {},
     "source": [
      "Computational Requirements for SDP"
     ]
    },
    {
     "cell_type": "heading",
     "level": 2,
     "metadata": {},
     "source": [
      "Scope of this document"
     ]
    },
    {
     "cell_type": "markdown",
     "metadata": {},
     "source": [
      "This document estimates the computational requirements for the SDP for each of the SKA telescopes. The estimate is made in terms of FLOPS: floating point operations per second.\n",
      "\n",
      "The estimate is currently provisional and subject to revision due to both improvements in our knowledge and inevitable discovery of errors of method or incorrect approximations in the calculations.\n",
      "\n",
      "We currently only consider the computational cost of the \u2018major cycle\u2019, i.e., the formation of dirty sky image from the visibilities and the reverse step of estimating model visibilities from a trial sky brightness distribution. We do not take into account \u2018minor-cycle\u2019 (i.e, image-plane deconvolution), flagging, calibration, point source finding or other data processing.\n",
      "\n",
      "We currently do not estimate the memory requirements or data transfer rates for the calculations."
     ]
    },
    {
     "cell_type": "heading",
     "level": 2,
     "metadata": {},
     "source": [
      "Description of Algorithms"
     ]
    },
    {
     "cell_type": "markdown",
     "metadata": {},
     "source": [
      "We proceed on assumption that the estimation of both the trial sky brightness distribution (\u2018back step\u2019) and of the model visibilities (\u2018forward step\u2019) will include correction of both A and _w_ terms by convolution in the _uv_ plane. See [Cornwell et al. (2008)](http://adsabs.harvard.edu/abs/2008ISTSP...2..647C \"T. J. Cornwell, K. Golap, and S. Bhatnagar. The non-coplanar Baselines Effect in Radio Interferometry: The W-Projection Algorithm. IEEE Journal of Selected Topics in Signal Processing, 2:647\u2013657, Nov. 2008.\"), [Humphreys & Cornwell (2011)](http://www.skatelescope.org/uploaded/59116_132_Memo_Humphreys.pdf \"B. Humphreys and T. J. Cornwell. Analysis of Convolutional Resampling Algorithm Performance. Memo 132, Square Kilometre Array, January 2011.\"), [Cornwell et al. (2012)](http://adsabs.harvard.edu/abs/2012SPIE.8500E..0LC  \"T. J. Cornwell, M. A. Voronkov, and B. Humphreys. Wide field imaging for the Square Kilometre Array. In Society of Photo-Optical Instrumentation Engineers (SPIE) Conference Series, volume 8500 of Society of Photo-Optical Instrumentation Engineers (SPIE) Conference Series, Oct. 2012.\"), [Bhatnagar et al. (2008)](http://adsabs.harvard.edu/abs/2008A%26A...487..419B \"S. Bhatnagar, T. J. Cornwell, K. Golap, and J. M. Uson. Correcting direction-dependent gains in the deconvolution of radio interferometric images. Astronomy & Astrophysics, 487:419\u2013429, Aug. 2008.\").\n",
      "\n",
      "It is shown by [Humphreys & Cornwell (2011)](http://www.skatelescope.org/uploaded/59116_132_Memo_Humphreys.pdf \"B. Humphreys and T. J. Cornwell. Analysis of Convolutional Resampling Algorithm Performance. Memo 132, Square Kilometre Array, January 2011.\") that the required size of convolution kernel to adequately correct for the _w_ term is approximately $w \\Theta_{FoV}$. In general case _w_ can be as large as $B_{max}/\\lambda$ and as usual $\\Theta_{FoV} \\sim \\lambda/D_s$ giving un-feasibly large kernels of size $B_{max}/D_s$ (see discussion in [Kogan (2012)](http://www.aoc.nrao.edu/evla/geninfo/memoseries/evlamemo164.pdf \"L. Kogan. Some comments on the W-projection algorithm. EVLA Memo 164, NRAO, October 2012.\"), which is somewhat difficult to follow\n",
      "but is along these lines). For this reason it is assumed that the snapshot technique will\n",
      "be employed.\n",
      "\n",
      "In current version of this computation each snapshot is assumed to require one FFT and one re-projection. The costs of computing PSFs etc are not accounted for. The relation for duration of snapshots is given below."
     ]
    },
    {
     "cell_type": "heading",
     "level": 2,
     "metadata": {},
     "source": [
      "Computations"
     ]
    },
    {
     "cell_type": "heading",
     "level": 3,
     "metadata": {},
     "source": [
      "Telescope information"
     ]
    },
    {
     "cell_type": "markdown",
     "metadata": {},
     "source": [
      "We use the following basic information about the telescopes. This is based on [Dewdney (2013)](http://www.skatelescope.org/wp-content/uploads/2012/07/SKA-TEL-SKO-DD-001-1_BaselineDesign1.pdf \"P. Dewdney. SKA1 System Baseline Design. SKAO Document SKA-TEL-SKO-DD-001, Square Kilometre Array, March 2013.\") with its addendum [McCool & Cornwell (2013)](http://195.143.227.114/FH/FileHold/WebClient/LibraryForm.aspx?docId=790 \"R. McCool and T. Cornwell. Miscellaneous corrections to the baseline design. SKAO Document SKA- TEL.SKO-DD-003, Square Kilometre Array, October 2013.\"). No baseline dependent averaging is assumed."
     ]
    },
    {
     "cell_type": "code",
     "collapsed": false,
     "input": [
      "telescope_list = ['SKA1Low', 'SKA1Mid', 'SKA1Survey'] # list enumeration for later calculations\n",
      "\n",
      "telescope_labels = dict(\n",
      "    zip(\n",
      "        telescope_list,\n",
      "        symbols('SKA1_{Low}, SKA1_{Mid}, SKA1_{Survey}')\n",
      "    )\n",
      ")\n",
      "\n",
      "#telescope_labels = {\n",
      "#    'SKA1Low': telescope_symbols[0],\n",
      "#    'SKA1Mid': telescope_symbols[1],\n",
      "#    'SKA1Survey': telescope_symbols[2],\n",
      "#}\n",
      "\n",
      "telescope_info = {\n",
      "    'SKA1Low': {\n",
      "        tdump: 0.6 * u.s, # seconds\n",
      "        Na: 1024,         # number of antennas\n",
      "        Nf: 262144,       # number of channels\n",
      "        Nbeam: 1,         # number of beams\n",
      "        Ds: 35 * u.m,     # station \"diameter\" in meters\n",
      "        wl: c/(100e6 * u.Hz), # lambda in meters for 100 MHz\n",
      "        Bmax: 100 * u.km, # kilometers of max baseline\n",
      "        NAA: 9,\n",
      "    },\n",
      "    'SKA1Mid': {\n",
      "        tdump: 0.08 * u.s, # seconds\n",
      "        Na: 190+64,        # number of antennas\n",
      "        Nf: 262144,        # number of channels\n",
      "        Nbeam: 1,          # number of beams\n",
      "        Ds: 15 * u.m,      # station \"diameter\" in meters\n",
      "        wl: c/(1160e6 * u.Hz), # lambda in meters for 1.16 GHz\n",
      "        Bmax: 200 * u.km,  # kilometers of max baseline\n",
      "        NAA: 9,\n",
      "    },\n",
      "    'SKA1Survey': {\n",
      "        tdump: 0.3 * u.s, # seconds\n",
      "        Na: 96,           # number of antennas\n",
      "        Nf: 262144,       # number of channels\n",
      "        Nbeam: 36,        # number of beams (36 because this is a PAF)\n",
      "        Ds: 15 * u.m,     # station \"diameter\" in meters\n",
      "        wl: c/(1160e6 * u.Hz), # lambda in meters for 1.16 GHz\n",
      "        Bmax: 50 * u.km,  # kilometers of max baseline\n",
      "        NAA: 9,\n",
      "    },\n",
      "}\n",
      "\n",
      "def calcTel(telescope=None, expr=None, late_subs={}, ev=None):\n",
      "    # Shortcut for doing it for just one telescope\n",
      "    result = {}\n",
      "    if len(late_subs) == 0:\n",
      "        if ev == None:\n",
      "            result = dict(\n",
      "                [(telescope_labels[telescope],expr.subs(telescope_info[telescope]))]\n",
      "            )\n",
      "        elif ev>0:\n",
      "            result = dict(\n",
      "                [(telescope_labels[telescope],expr.subs(telescope_info[telescope]).evalf(ev))]\n",
      "            )\n",
      "    return result \n",
      "\n",
      "def eval_for_telescopes(expr,late_subs={},ev=None):\n",
      "    # Take into account that substitutions in subs are done _after_ evaluating \n",
      "    # the telescope-dependent substitution. If you want to run them before, you'll\n",
      "    # have to do substitute them first\n",
      "    if ev == None:\n",
      "        result = {\n",
      "            telescope_labels[t]: expr.subs(telescope_info[t]).subs(late_subs)\n",
      "            for t in telescope_list\n",
      "        }\n",
      "    elif type(ev) == type(True):\n",
      "        result = {\n",
      "            telescope_labels[t]: expr.subs(telescope_info[t]).subs(late_subs).evalf()\n",
      "            for t in telescope_list\n",
      "        }\n",
      "    elif type(ev) == type(1) and ev > 0:\n",
      "        result = {\n",
      "            telescope_labels[t]: expr.subs(telescope_info[t]).subs(late_subs).evalf(ev)\n",
      "            for t in telescope_list\n",
      "        }\n",
      "\n",
      "    return result\n"
     ],
     "language": "python",
     "metadata": {},
     "outputs": [],
     "prompt_number": 96
    },
    {
     "cell_type": "markdown",
     "metadata": {},
     "source": [
      "Here $\\lambda$ is a representative wavelength for the calculation below. The calculations are made at this wavelength and not fully integrated over the bands of the telescope."
     ]
    },
    {
     "cell_type": "heading",
     "level": 3,
     "metadata": {},
     "source": [
      "Image size"
     ]
    },
    {
     "cell_type": "markdown",
     "metadata": {},
     "source": [
      "The size of images to be produced can be estimated as follows:"
     ]
    },
    {
     "cell_type": "code",
     "collapsed": false,
     "input": [
      "QPix   = 2\n",
      "Nfacet = symbols(\"N_facet\")\n",
      "NPix   = QPix * 2 * Bmax / Ds / Nfacet\n",
      "NPix"
     ],
     "language": "python",
     "metadata": {},
     "outputs": [
      {
       "latex": [
        "$$\\frac{4 B_{{max}}}{D_{s} N_{facet}}$$"
       ],
       "metadata": {},
       "output_type": "pyout",
       "png": "[encoded data removed]",
       "prompt_number": 97,
       "text": [
        " 4\u22c5B_{max} \n",
        "\u2500\u2500\u2500\u2500\u2500\u2500\u2500\u2500\u2500\u2500\u2500\n",
        "D_s\u22c5N_facet"
       ]
      }
     ],
     "prompt_number": 97
    },
    {
     "cell_type": "code",
     "collapsed": false,
     "input": [
      "eval_for_telescopes(NPix, ev=2)"
     ],
     "language": "python",
     "metadata": {},
     "outputs": [
      {
       "latex": [
        "$$\\begin{Bmatrix}SKA_{1 {Low}} : \\frac{1}{N_{facet}} 1.1 \\cdot 10^{4}, & SKA_{1 {Mid}} : \\frac{1}{N_{facet}} 5.3 \\cdot 10^{4}, & SKA_{1 {Survey}} : \\frac{1}{N_{facet}} 1.3 \\cdot 10^{4}\\end{Bmatrix}$$"
       ],
       "metadata": {},
       "output_type": "pyout",
       "png": "[encoded data removed]",
       "prompt_number": 98,
       "text": [
        "\u23a7              1.1e+4                5.3e+4                   1.3e+4\u23ab\n",
        "\u23a8SKA_1_{Low}: \u2500\u2500\u2500\u2500\u2500\u2500\u2500, SKA_1_{Mid}: \u2500\u2500\u2500\u2500\u2500\u2500\u2500, SKA_1_{Survey}: \u2500\u2500\u2500\u2500\u2500\u2500\u2500\u23ac\n",
        "\u23a9             N_facet               N_facet                  N_facet\u23ad"
       ]
      }
     ],
     "prompt_number": 98
    },
    {
     "cell_type": "markdown",
     "metadata": {},
     "source": [
      "The size of _uv_-grids is assumed to be the same."
     ]
    },
    {
     "cell_type": "heading",
     "level": 3,
     "metadata": {},
     "source": [
      "Size of w-projection kernels"
     ]
    },
    {
     "cell_type": "markdown",
     "metadata": {},
     "source": [
      "The size of support of w-projection kernels is analysed by [Mitchell et al. (2014)]( \"Mitchell D., Bernardi G., others?, 2014, Analysis of w-projection kernel size. Tech. Rep. SKA-TEL-SDP-IMG-Wkernels, SKA Science Data Processor Consortium, version 0.2 dated 4th June. Draft.\") who find that:"
     ]
    },
    {
     "cell_type": "code",
     "collapsed": false,
     "input": [
      "eta, w = symbols(\"\\eta w\")\n",
      "NGWfn = 2 * sqrt((w*(wl/Ds)/2)**2 + (w*(wl/Ds)/2)/(3.1*eta/sqrt(w)))/((Ds/wl)/2)\n",
      "NGWfn"
     ],
     "language": "python",
     "metadata": {},
     "outputs": [
      {
       "latex": [
        "$$\\frac{4 \\lambda}{D_{s}} \\sqrt{\\frac{0.161290322580645 \\lambda w^{\\frac{3}{2}}}{D_{s} \\eta} + \\frac{\\lambda^{2} w^{2}}{4 D_{s}^{2}}}$$"
       ],
       "metadata": {},
       "output_type": "pyout",
       "png": "[encoded data removed]",
       "prompt_number": 99,
       "text": [
        "                ______________________________________________\n",
        "               \u2571                            3/2          2  2 \n",
        "              \u2571  0.161290322580645\u22c5\\lambda\u22c5w      \\lambda \u22c5w  \n",
        "4\u22c5\\lambda\u22c5   \u2571   \u2500\u2500\u2500\u2500\u2500\u2500\u2500\u2500\u2500\u2500\u2500\u2500\u2500\u2500\u2500\u2500\u2500\u2500\u2500\u2500\u2500\u2500\u2500\u2500\u2500\u2500\u2500\u2500\u2500\u2500 + \u2500\u2500\u2500\u2500\u2500\u2500\u2500\u2500\u2500\u2500\u2500 \n",
        "            \u2571               D_s\u22c5\\eta                      2   \n",
        "          \u2572\u2571                                         4\u22c5D_s    \n",
        "\u2500\u2500\u2500\u2500\u2500\u2500\u2500\u2500\u2500\u2500\u2500\u2500\u2500\u2500\u2500\u2500\u2500\u2500\u2500\u2500\u2500\u2500\u2500\u2500\u2500\u2500\u2500\u2500\u2500\u2500\u2500\u2500\u2500\u2500\u2500\u2500\u2500\u2500\u2500\u2500\u2500\u2500\u2500\u2500\u2500\u2500\u2500\u2500\u2500\u2500\u2500\u2500\u2500\u2500\u2500\u2500\u2500\u2500\u2500\u2500\u2500\u2500\n",
        "                             D_s                              "
       ]
      }
     ],
     "prompt_number": 99
    },
    {
     "cell_type": "markdown",
     "metadata": {},
     "source": [
      "where $\\eta$ is the amplitude level of the kernel where we wish to cutoff, and $w$ is the w term to be corrected."
     ]
    },
    {
     "cell_type": "heading",
     "level": 3,
     "metadata": {},
     "source": [
      "Snapshot duration"
     ]
    },
    {
     "cell_type": "markdown",
     "metadata": {},
     "source": [
      "Worst case scenario is that the baseline is rotating exactly in _w_ direction, therefore the maximum _w_ rate of deviation is:"
     ]
    },
    {
     "cell_type": "code",
     "collapsed": false,
     "input": [
      "We=7.27e-5 * u.Hz\n",
      "DeltaW = Bmax * We / 2\n",
      "DeltaW"
     ],
     "language": "python",
     "metadata": {},
     "outputs": [
      {
       "latex": [
        "$$\\frac{B_{{max}}}{s} 3.635 \\cdot 10^{-5}$$"
       ],
       "metadata": {},
       "output_type": "pyout",
       "png": "[encoded data removed]",
       "prompt_number": 100,
       "text": [
        "3.635e-5\u22c5B_{max}\n",
        "\u2500\u2500\u2500\u2500\u2500\u2500\u2500\u2500\u2500\u2500\u2500\u2500\u2500\u2500\u2500\u2500\n",
        "       s        "
       ]
      }
     ],
     "prompt_number": 100
    },
    {
     "cell_type": "code",
     "collapsed": false,
     "input": [
      "eval_for_telescopes(DeltaW,ev=2)"
     ],
     "language": "python",
     "metadata": {},
     "outputs": [
      {
       "latex": [
        "$$\\begin{Bmatrix}SKA_{1 {Low}} : \\frac{3.6 m}{s}, & SKA_{1 {Mid}} : \\frac{7.3 m}{s}, & SKA_{1 {Survey}} : \\frac{1.8 m}{s}\\end{Bmatrix}$$"
       ],
       "metadata": {},
       "output_type": "pyout",
       "png": "[encoded data removed]",
       "prompt_number": 101,
       "text": [
        "\u23a7             3.6\u22c5m               7.3\u22c5m                  1.8\u22c5m\u23ab\n",
        "\u23a8SKA_1_{Low}: \u2500\u2500\u2500\u2500\u2500, SKA_1_{Mid}: \u2500\u2500\u2500\u2500\u2500, SKA_1_{Survey}: \u2500\u2500\u2500\u2500\u2500\u23ac\n",
        "\u23a9               s                   s                      s  \u23ad"
       ]
      }
     ],
     "prompt_number": 101
    },
    {
     "cell_type": "markdown",
     "metadata": {},
     "source": [
      "Using Mitchell et al. (2014) expression for w-kernel sizes above we can calculate size of convolution kernel as $N_{GW}$ given snapshot duration as below. Also shown below are kernel sizes for 2 minute snapshots:"
     ]
    },
    {
     "cell_type": "code",
     "collapsed": false,
     "input": [
      "Qw = sympify(1)\n",
      "twsnap = symbols(\"t_{wsnap}\")\n",
      "NGW = symbols(\"N_{GW}\")\n",
      "NGW = NGWfn.subs({w: DeltaW*twsnap/wl, eta: 0.01/Qw})\n",
      "NGW.subs({twsnap: 120*u.s})"
     ],
     "language": "python",
     "metadata": {},
     "outputs": [
      {
       "latex": [
        "$$\\frac{4 \\lambda}{D_{s}} \\sqrt{\\frac{B_{{max}}^{2}}{D_{s}^{2}} 4.756761 \\cdot 10^{-6} + \\frac{0.0008483521698931 \\lambda}{D_{s}} \\sqrt{30} \\left(\\frac{B_{{max}}}{\\lambda}\\right)^{\\frac{3}{2}}}$$"
       ],
       "metadata": {},
       "output_type": "pyout",
       "png": "[encoded data removed]",
       "prompt_number": 102,
       "text": [
        "                  ____________________________________________________________\n",
        "                 \u2571                                                            \n",
        "                \u2571                                              ____         \u239bB\n",
        "               \u2571                      2   0.0008483521698931\u22c5\u2572\u2571 30 \u22c5\\lambda\u22c5\u239c\u2500\n",
        "              \u2571    4.756761e-6\u22c5B_{max}                                      \u239d\\\n",
        "4\u22c5\\lambda\u22c5   \u2571     \u2500\u2500\u2500\u2500\u2500\u2500\u2500\u2500\u2500\u2500\u2500\u2500\u2500\u2500\u2500\u2500\u2500\u2500\u2500\u2500 + \u2500\u2500\u2500\u2500\u2500\u2500\u2500\u2500\u2500\u2500\u2500\u2500\u2500\u2500\u2500\u2500\u2500\u2500\u2500\u2500\u2500\u2500\u2500\u2500\u2500\u2500\u2500\u2500\u2500\u2500\u2500\u2500\u2500\u2500\u2500\u2500\n",
        "            \u2571                 2                                D_s            \n",
        "          \u2572\u2571               D_s                                                \n",
        "\u2500\u2500\u2500\u2500\u2500\u2500\u2500\u2500\u2500\u2500\u2500\u2500\u2500\u2500\u2500\u2500\u2500\u2500\u2500\u2500\u2500\u2500\u2500\u2500\u2500\u2500\u2500\u2500\u2500\u2500\u2500\u2500\u2500\u2500\u2500\u2500\u2500\u2500\u2500\u2500\u2500\u2500\u2500\u2500\u2500\u2500\u2500\u2500\u2500\u2500\u2500\u2500\u2500\u2500\u2500\u2500\u2500\u2500\u2500\u2500\u2500\u2500\u2500\u2500\u2500\u2500\u2500\u2500\u2500\u2500\u2500\u2500\u2500\u2500\u2500\u2500\u2500\u2500\n",
        "                                           D_s                                \n",
        "\n",
        "___________\n",
        "       3/2 \n",
        "_{max}\u239e    \n",
        "\u2500\u2500\u2500\u2500\u2500\u2500\u239f    \n",
        "lambda\u23a0    \n",
        "\u2500\u2500\u2500\u2500\u2500\u2500\u2500\u2500\u2500\u2500 \n",
        "           \n",
        "           \n",
        "\u2500\u2500\u2500\u2500\u2500\u2500\u2500\u2500\u2500\u2500\u2500\n",
        "           "
       ]
      }
     ],
     "prompt_number": 102
    },
    {
     "cell_type": "code",
     "collapsed": false,
     "input": [
      "eval_for_telescopes(NGW.subs({twsnap: 120 * u.s}), ev=3)"
     ],
     "language": "python",
     "metadata": {},
     "outputs": [
      {
       "latex": [
        "$$\\begin{Bmatrix}SKA_{1 {Low}} : 17.0, & SKA_{1 {Mid}} : 16.2, & SKA_{1 {Survey}} : 5.71\\end{Bmatrix}$$"
       ],
       "metadata": {},
       "output_type": "pyout",
       "png": "[encoded data removed]",
       "prompt_number": 103,
       "text": [
        "{SKA_1_{Low}: 17.0, SKA_1_{Mid}: 16.2, SKA_1_{Survey}: 5.71}"
       ]
      }
     ],
     "prompt_number": 103
    },
    {
     "cell_type": "heading",
     "level": 3,
     "metadata": {},
     "source": [
      "Visibility rate"
     ]
    },
    {
     "cell_type": "markdown",
     "metadata": {},
     "source": [
      "The rate at which the SDP receives visibilities is given by:"
     ]
    },
    {
     "cell_type": "code",
     "collapsed": false,
     "input": [
      "Npol = Rational(4)\n",
      "Nbl = Na * (Na-1)/2 \n",
      "Nbl * Nf * Nbeam * Npol"
     ],
     "language": "python",
     "metadata": {},
     "outputs": [
      {
       "latex": [
        "$$2 N_{a} N_{f} N_{{beam}} \\left(N_{a} - 1\\right)$$"
       ],
       "metadata": {},
       "output_type": "pyout",
       "png": "[encoded data removed]",
       "prompt_number": 104,
       "text": [
        "2\u22c5N\u2090\u22c5N_f\u22c5N_{beam}\u22c5(N\u2090 - 1)"
       ]
      }
     ],
     "prompt_number": 104
    },
    {
     "cell_type": "code",
     "collapsed": false,
     "input": [
      "VisInRate = Nbl * Nf * Nbeam * Npol / tdump\n",
      "VisInRate"
     ],
     "language": "python",
     "metadata": {},
     "outputs": [
      {
       "latex": [
        "$$\\frac{2 N_{a}}{t_{{dump}}} N_{f} N_{{beam}} \\left(N_{a} - 1\\right)$$"
       ],
       "metadata": {},
       "output_type": "pyout",
       "png": "[encoded data removed]",
       "prompt_number": 105,
       "text": [
        "2\u22c5N\u2090\u22c5N_f\u22c5N_{beam}\u22c5(N\u2090 - 1)\n",
        "\u2500\u2500\u2500\u2500\u2500\u2500\u2500\u2500\u2500\u2500\u2500\u2500\u2500\u2500\u2500\u2500\u2500\u2500\u2500\u2500\u2500\u2500\u2500\u2500\u2500\u2500\n",
        "         t_{dump}         "
       ]
      }
     ],
     "prompt_number": 105
    },
    {
     "cell_type": "code",
     "collapsed": false,
     "input": [
      "eval_for_telescopes(VisInRate,ev=3)"
     ],
     "language": "python",
     "metadata": {},
     "outputs": [
      {
       "latex": [
        "$$\\begin{Bmatrix}SKA_{1 {Low}} : \\frac{915364904960.0}{s}, & SKA_{1 {Mid}} : \\frac{1}{s} 4.21 \\cdot 10^{11}, & SKA_{1 {Survey}} : \\frac{573780787200.0}{s}\\end{Bmatrix}$$"
       ],
       "metadata": {},
       "output_type": "pyout",
       "png": "[encoded data removed]",
       "prompt_number": 106,
       "text": [
        "\u23a7             915364904960.0               4.21e+11                  573780787\n",
        "\u23a8SKA_1_{Low}: \u2500\u2500\u2500\u2500\u2500\u2500\u2500\u2500\u2500\u2500\u2500\u2500\u2500\u2500, SKA_1_{Mid}: \u2500\u2500\u2500\u2500\u2500\u2500\u2500\u2500, SKA_1_{Survey}: \u2500\u2500\u2500\u2500\u2500\u2500\u2500\u2500\u2500\n",
        "\u23a9                   s                         s                            s  \n",
        "\n",
        "200.0\u23ab\n",
        "\u2500\u2500\u2500\u2500\u2500\u23ac\n",
        "     \u23ad"
       ]
      }
     ],
     "prompt_number": 106
    },
    {
     "cell_type": "markdown",
     "metadata": {},
     "source": [
      "This takes into account 4 polarisation products and the multiple beams for SKA1 Survey."
     ]
    },
    {
     "cell_type": "heading",
     "level": 3,
     "metadata": {},
     "source": [
      "FFT Rate"
     ]
    },
    {
     "cell_type": "markdown",
     "metadata": {},
     "source": [
      "Assuming 1 FFT per snapshot per polarisation product per frequency channel per beam we can get the FLOP rate for FFTs."
     ]
    },
    {
     "cell_type": "code",
     "collapsed": false,
     "input": [
      "def log2(x): return log(x)/log(2)\n",
      "\n",
      "Ops = u.Unit(\"Ops\", \"Ops\")\n",
      "FFTOpsPerPixel = 5*Ops\n",
      "FFTRate = FFTOpsPerPixel *  NPix**2 * log2(NPix **2) * Nf * Nbeam * 4 * Nfacet**2 / twsnap\n",
      "FFTRate"
     ],
     "language": "python",
     "metadata": {},
     "outputs": [
      {
       "latex": [
        "$$\\frac{320 B_{{max}}^{2} N_{f} N_{{beam}} Ops \\log{\\left (\\frac{16 B_{{max}}^{2}}{D_{s}^{2} N_{facet}^{2}} \\right )}}{D_{s}^{2} t_{{wsnap}} \\log{\\left (2 \\right )}}$$"
       ],
       "metadata": {},
       "output_type": "pyout",
       "png": "[encoded data removed]",
       "prompt_number": 107,
       "text": [
        "                                 \u239b           2 \u239e\n",
        "           2                     \u239c 16\u22c5B_{max}  \u239f\n",
        "320\u22c5B_{max} \u22c5N_f\u22c5N_{beam}\u22c5Ops\u22c5log\u239c\u2500\u2500\u2500\u2500\u2500\u2500\u2500\u2500\u2500\u2500\u2500\u2500\u2500\u239f\n",
        "                                 \u239c   2        2\u239f\n",
        "                                 \u239dD_s \u22c5N_facet \u23a0\n",
        "\u2500\u2500\u2500\u2500\u2500\u2500\u2500\u2500\u2500\u2500\u2500\u2500\u2500\u2500\u2500\u2500\u2500\u2500\u2500\u2500\u2500\u2500\u2500\u2500\u2500\u2500\u2500\u2500\u2500\u2500\u2500\u2500\u2500\u2500\u2500\u2500\u2500\u2500\u2500\u2500\u2500\u2500\u2500\u2500\u2500\u2500\u2500\u2500\n",
        "                2                               \n",
        "             D_s \u22c5t_{wsnap}\u22c5log(2)              "
       ]
      }
     ],
     "prompt_number": 107
    },
    {
     "cell_type": "code",
     "collapsed": false,
     "input": [
      "calcTel('SKA1Low', FFTRate, ev=3)"
     ],
     "language": "python",
     "metadata": {},
     "outputs": [
      {
       "latex": [
        "$$\\begin{Bmatrix}SKA_{1 {Low}} : \\frac{Ops}{t_{{wsnap}}} 9.88 \\cdot 10^{14} \\log{\\left (\\frac{6400000000}{49 N_{facet}^{2}} \\right )}\\end{Bmatrix}$$"
       ],
       "metadata": {},
       "output_type": "pyout",
       "png": "[encoded data removed]",
       "prompt_number": 108,
       "text": [
        "\u23a7                             \u239b 6400000000\u239e\u23ab\n",
        "\u23aa             9.88e+14\u22c5Ops\u22c5log\u239c\u2500\u2500\u2500\u2500\u2500\u2500\u2500\u2500\u2500\u2500\u2500\u239f\u23aa\n",
        "\u23aa                             \u239c          2\u239f\u23aa\n",
        "\u23a8                             \u239d49\u22c5N_facet \u23a0\u23ac\n",
        "\u23aaSKA_1_{Low}: \u2500\u2500\u2500\u2500\u2500\u2500\u2500\u2500\u2500\u2500\u2500\u2500\u2500\u2500\u2500\u2500\u2500\u2500\u2500\u2500\u2500\u2500\u2500\u2500\u2500\u2500\u2500\u2500\u2500\u23aa\n",
        "\u23aa                       t_{wsnap}          \u23aa\n",
        "\u23a9                                          \u23ad"
       ]
      }
     ],
     "prompt_number": 108
    },
    {
     "cell_type": "code",
     "collapsed": false,
     "input": [
      "calcTel('SKA1Mid', FFTRate, ev=3)"
     ],
     "language": "python",
     "metadata": {},
     "outputs": [
      {
       "latex": [
        "$$\\begin{Bmatrix}SKA_{1 {Mid}} : \\frac{Ops}{t_{{wsnap}}} 2.15 \\cdot 10^{16} \\log{\\left (\\frac{25600000000}{9 N_{facet}^{2}} \\right )}\\end{Bmatrix}$$"
       ],
       "metadata": {},
       "output_type": "pyout",
       "png": "[encoded data removed]",
       "prompt_number": 109,
       "text": [
        "\u23a7                             \u239b25600000000\u239e\u23ab\n",
        "\u23aa             2.15e+16\u22c5Ops\u22c5log\u239c\u2500\u2500\u2500\u2500\u2500\u2500\u2500\u2500\u2500\u2500\u2500\u239f\u23aa\n",
        "\u23aa                             \u239c          2\u239f\u23aa\n",
        "\u23a8                             \u239d 9\u22c5N_facet \u23a0\u23ac\n",
        "\u23aaSKA_1_{Mid}: \u2500\u2500\u2500\u2500\u2500\u2500\u2500\u2500\u2500\u2500\u2500\u2500\u2500\u2500\u2500\u2500\u2500\u2500\u2500\u2500\u2500\u2500\u2500\u2500\u2500\u2500\u2500\u2500\u2500\u23aa\n",
        "\u23aa                       t_{wsnap}          \u23aa\n",
        "\u23a9                                          \u23ad"
       ]
      }
     ],
     "prompt_number": 109
    },
    {
     "cell_type": "code",
     "collapsed": false,
     "input": [
      "calcTel('SKA1Survey', FFTRate, ev=3)"
     ],
     "language": "python",
     "metadata": {},
     "outputs": [
      {
       "latex": [
        "$$\\begin{Bmatrix}SKA_{1 {Survey}} : \\frac{Ops}{t_{{wsnap}}} 4.84 \\cdot 10^{16} \\log{\\left (\\frac{1600000000}{9 N_{facet}^{2}} \\right )}\\end{Bmatrix}$$"
       ],
       "metadata": {},
       "output_type": "pyout",
       "png": "[encoded data removed]",
       "prompt_number": 110,
       "text": [
        "\u23a7                                \u239b1600000000\u239e\u23ab\n",
        "\u23aa                4.84e+16\u22c5Ops\u22c5log\u239c\u2500\u2500\u2500\u2500\u2500\u2500\u2500\u2500\u2500\u2500\u239f\u23aa\n",
        "\u23aa                                \u239c         2\u239f\u23aa\n",
        "\u23a8                                \u239d9\u22c5N_facet \u23a0\u23ac\n",
        "\u23aaSKA_1_{Survey}: \u2500\u2500\u2500\u2500\u2500\u2500\u2500\u2500\u2500\u2500\u2500\u2500\u2500\u2500\u2500\u2500\u2500\u2500\u2500\u2500\u2500\u2500\u2500\u2500\u2500\u2500\u2500\u2500\u23aa\n",
        "\u23aa                         t_{wsnap}          \u23aa\n",
        "\u23a9                                            \u23ad"
       ]
      }
     ],
     "prompt_number": 110
    },
    {
     "cell_type": "code",
     "collapsed": false,
     "input": [
      "eval_for_telescopes(FFTRate, late_subs={Nfacet:1}, ev=4)"
     ],
     "language": "python",
     "metadata": {},
     "outputs": [
      {
       "latex": [
        "$$\\begin{Bmatrix}SKA_{1 {Low}} : \\frac{Ops}{t_{{wsnap}}} 1.846 \\cdot 10^{16}, & SKA_{1 {Mid}} : \\frac{Ops}{t_{{wsnap}}} 4.684 \\cdot 10^{17}, & SKA_{1 {Survey}} : \\frac{Ops}{t_{{wsnap}}} 9.196 \\cdot 10^{17}\\end{Bmatrix}$$"
       ],
       "metadata": {},
       "output_type": "pyout",
       "png": "[encoded data removed]",
       "prompt_number": 111,
       "text": [
        "\u23a7             1.846e+16\u22c5Ops               4.684e+17\u22c5Ops                  9.196\n",
        "\u23a8SKA_1_{Low}: \u2500\u2500\u2500\u2500\u2500\u2500\u2500\u2500\u2500\u2500\u2500\u2500\u2500, SKA_1_{Mid}: \u2500\u2500\u2500\u2500\u2500\u2500\u2500\u2500\u2500\u2500\u2500\u2500\u2500, SKA_1_{Survey}: \u2500\u2500\u2500\u2500\u2500\n",
        "\u23a9               t_{wsnap}                   t_{wsnap}                      t_{\n",
        "\n",
        "e+17\u22c5Ops\u23ab\n",
        "\u2500\u2500\u2500\u2500\u2500\u2500\u2500\u2500\u23ac\n",
        "wsnap}  \u23ad"
       ]
      }
     ],
     "prompt_number": 111
    },
    {
     "cell_type": "heading",
     "level": 3,
     "metadata": {},
     "source": [
      "Reprojection rate"
     ]
    },
    {
     "cell_type": "markdown",
     "metadata": {},
     "source": [
      "In the snapshot technique each snapshot has to be re-projected to a common coordinate\n",
      "system. If it is assumed that 50 FLOP are required per pixel to reproject we can get\n",
      "following required rate:"
     ]
    },
    {
     "cell_type": "code",
     "collapsed": false,
     "input": [
      "ReProjOpsPerPixel = 50 * Ops\n",
      "ReProjRate = ReProjOpsPerPixel * NPix**2 * Nf * Nbeam * 4 * Nfacet**2 / twsnap\n",
      "ReProjRate"
     ],
     "language": "python",
     "metadata": {},
     "outputs": [
      {
       "latex": [
        "$$\\frac{3200 B_{{max}}^{2} N_{f} N_{{beam}}}{D_{s}^{2} t_{{wsnap}}} Ops$$"
       ],
       "metadata": {},
       "output_type": "pyout",
       "png": "[encoded data removed]",
       "prompt_number": 112,
       "text": [
        "            2                 \n",
        "3200\u22c5B_{max} \u22c5N_f\u22c5N_{beam}\u22c5Ops\n",
        "\u2500\u2500\u2500\u2500\u2500\u2500\u2500\u2500\u2500\u2500\u2500\u2500\u2500\u2500\u2500\u2500\u2500\u2500\u2500\u2500\u2500\u2500\u2500\u2500\u2500\u2500\u2500\u2500\u2500\u2500\n",
        "           2                  \n",
        "        D_s \u22c5t_{wsnap}        "
       ]
      }
     ],
     "prompt_number": 112
    },
    {
     "cell_type": "code",
     "collapsed": false,
     "input": [
      "ReprojRateSKA1 = eval_for_telescopes(ReProjRate,ev=3)\n",
      "ReprojRateSKA1"
     ],
     "language": "python",
     "metadata": {},
     "outputs": [
      {
       "latex": [
        "$$\\begin{Bmatrix}SKA_{1 {Low}} : \\frac{Ops}{t_{{wsnap}}} 6.85 \\cdot 10^{15}, & SKA_{1 {Mid}} : \\frac{Ops}{t_{{wsnap}}} 1.49 \\cdot 10^{17}, & SKA_{1 {Survey}} : \\frac{Ops}{t_{{wsnap}}} 3.36 \\cdot 10^{17}\\end{Bmatrix}$$"
       ],
       "metadata": {},
       "output_type": "pyout",
       "png": "[encoded data removed]",
       "prompt_number": 113,
       "text": [
        "\u23a7             6.85e+15\u22c5Ops               1.49e+17\u22c5Ops                  3.36e+1\n",
        "\u23a8SKA_1_{Low}: \u2500\u2500\u2500\u2500\u2500\u2500\u2500\u2500\u2500\u2500\u2500\u2500, SKA_1_{Mid}: \u2500\u2500\u2500\u2500\u2500\u2500\u2500\u2500\u2500\u2500\u2500\u2500, SKA_1_{Survey}: \u2500\u2500\u2500\u2500\u2500\u2500\u2500\n",
        "\u23a9              t_{wsnap}                  t_{wsnap}                     t_{wsn\n",
        "\n",
        "7\u22c5Ops\u23ab\n",
        "\u2500\u2500\u2500\u2500\u2500\u23ac\n",
        "ap}  \u23ad"
       ]
      }
     ],
     "prompt_number": 113
    },
    {
     "cell_type": "heading",
     "level": 3,
     "metadata": {},
     "source": [
      "Gridding rate"
     ]
    },
    {
     "cell_type": "markdown",
     "metadata": {},
     "source": [
      "Gridding rate, expressed as function of snaphsot duration"
     ]
    },
    {
     "cell_type": "code",
     "collapsed": false,
     "input": [
      "GridOpsPerVisPerFacet = 8 * Ops\n",
      "GridRate = GridOpsPerVisPerFacet *  (NAA ** 2  + NGW ** 2) * VisInRate *  Nfacet ** 2\n",
      "GridRate"
     ],
     "language": "python",
     "metadata": {},
     "outputs": [
      {
       "latex": [
        "$$\\frac{16 N_{a}}{t_{{dump}}} N_{f} N_{facet}^{2} N_{{beam}} Ops \\left(NAA^{2} + \\frac{16 \\lambda^{2}}{D_{s}^{2}} \\left(\\frac{3.30330625 \\cdot 10^{-10} B_{{max}}^{2}}{D_{s}^{2} s^{2}} t_{{wsnap}}^{2} + \\frac{3.53480070788792 \\cdot 10^{-6} \\lambda}{D_{s} s^{\\frac{3}{2}}} \\left(\\frac{B_{{max}} t_{{wsnap}}}{\\lambda}\\right)^{\\frac{3}{2}}\\right)\\right) \\left(N_{a} - 1\\right)$$"
       ],
       "metadata": {},
       "output_type": "pyout",
       "png": "[encoded data removed]",
       "prompt_number": 114,
       "text": [
        "                                \u239b                   \u239b                         \n",
        "                                \u239c                   \u239c                         \n",
        "                                \u239c                   \u239c                      2  \n",
        "                                \u239c                 2 \u239c3.30330625e-10\u22c5B_{max} \u22c5t\n",
        "                                \u239c       16\u22c5\\lambda \u22c5\u239c\u2500\u2500\u2500\u2500\u2500\u2500\u2500\u2500\u2500\u2500\u2500\u2500\u2500\u2500\u2500\u2500\u2500\u2500\u2500\u2500\u2500\u2500\u2500\u2500\u2500\n",
        "                                \u239c                   \u239c                2  2     \n",
        "                 2              \u239c   2               \u239d             D_s \u22c5s      \n",
        "16\u22c5N\u2090\u22c5N_f\u22c5N_facet \u22c5N_{beam}\u22c5Ops\u22c5\u239cNAA  + \u2500\u2500\u2500\u2500\u2500\u2500\u2500\u2500\u2500\u2500\u2500\u2500\u2500\u2500\u2500\u2500\u2500\u2500\u2500\u2500\u2500\u2500\u2500\u2500\u2500\u2500\u2500\u2500\u2500\u2500\u2500\u2500\u2500\u2500\u2500\u2500\u2500\u2500\n",
        "                                \u239c                                             \n",
        "                                \u239d                                             \n",
        "\u2500\u2500\u2500\u2500\u2500\u2500\u2500\u2500\u2500\u2500\u2500\u2500\u2500\u2500\u2500\u2500\u2500\u2500\u2500\u2500\u2500\u2500\u2500\u2500\u2500\u2500\u2500\u2500\u2500\u2500\u2500\u2500\u2500\u2500\u2500\u2500\u2500\u2500\u2500\u2500\u2500\u2500\u2500\u2500\u2500\u2500\u2500\u2500\u2500\u2500\u2500\u2500\u2500\u2500\u2500\u2500\u2500\u2500\u2500\u2500\u2500\u2500\u2500\u2500\u2500\u2500\u2500\u2500\u2500\u2500\u2500\u2500\u2500\u2500\u2500\u2500\u2500\u2500\n",
        "                                                                        t_{dum\n",
        "\n",
        "                                                           3/2\u239e\u239e         \n",
        "                                        \u239bB_{max}\u22c5t_{wsnap}\u239e   \u239f\u239f         \n",
        "        2   3.53480070788792e-6\u22c5\\lambda\u22c5\u239c\u2500\u2500\u2500\u2500\u2500\u2500\u2500\u2500\u2500\u2500\u2500\u2500\u2500\u2500\u2500\u2500\u2500\u239f   \u239f\u239f         \n",
        "_{wsnap}                                \u239d     \\lambda     \u23a0   \u239f\u239f         \n",
        "\u2500\u2500\u2500\u2500\u2500\u2500\u2500\u2500\u2500 + \u2500\u2500\u2500\u2500\u2500\u2500\u2500\u2500\u2500\u2500\u2500\u2500\u2500\u2500\u2500\u2500\u2500\u2500\u2500\u2500\u2500\u2500\u2500\u2500\u2500\u2500\u2500\u2500\u2500\u2500\u2500\u2500\u2500\u2500\u2500\u2500\u2500\u2500\u2500\u2500\u2500\u2500\u2500\u2500\u2500\u2500\u2500\u2500\u2500\u2500\u239f\u239f         \n",
        "                                      3/2                     \u239f\u239f         \n",
        "                                 D_s\u22c5s                        \u23a0\u239f         \n",
        "\u2500\u2500\u2500\u2500\u2500\u2500\u2500\u2500\u2500\u2500\u2500\u2500\u2500\u2500\u2500\u2500\u2500\u2500\u2500\u2500\u2500\u2500\u2500\u2500\u2500\u2500\u2500\u2500\u2500\u2500\u2500\u2500\u2500\u2500\u2500\u2500\u2500\u2500\u2500\u2500\u2500\u2500\u2500\u2500\u2500\u2500\u2500\u2500\u2500\u2500\u2500\u2500\u2500\u2500\u2500\u2500\u2500\u2500\u2500\u2500\u2500\u2500\u2500\u239f\u22c5(N\u2090 - 1)\n",
        "              2                                                \u239f         \n",
        "           D_s                                                 \u23a0         \n",
        "\u2500\u2500\u2500\u2500\u2500\u2500\u2500\u2500\u2500\u2500\u2500\u2500\u2500\u2500\u2500\u2500\u2500\u2500\u2500\u2500\u2500\u2500\u2500\u2500\u2500\u2500\u2500\u2500\u2500\u2500\u2500\u2500\u2500\u2500\u2500\u2500\u2500\u2500\u2500\u2500\u2500\u2500\u2500\u2500\u2500\u2500\u2500\u2500\u2500\u2500\u2500\u2500\u2500\u2500\u2500\u2500\u2500\u2500\u2500\u2500\u2500\u2500\u2500\u2500\u2500\u2500\u2500\u2500\u2500\u2500\u2500\u2500\u2500\n",
        "p}                                                                       "
       ]
      }
     ],
     "prompt_number": 114
    },
    {
     "cell_type": "code",
     "collapsed": false,
     "input": [
      "calcTel('SKA1Low',GridRate,ev=2)"
     ],
     "language": "python",
     "metadata": {},
     "outputs": [
      {
       "latex": [
        "$$\\begin{Bmatrix}SKA_{1 {Low}} : \\frac{N_{facet}^{2} Ops}{s} \\left(\\frac{t_{{wsnap}}^{2}}{s^{2}} 2.3 \\cdot 10^{9} + \\frac{t_{{wsnap}}^{1.5}}{s^{1.5}} 1.6 \\cdot 10^{12} + 5.9 \\cdot 10^{14}\\right)\\end{Bmatrix}$$"
       ],
       "metadata": {},
       "output_type": "pyout",
       "png": "[encoded data removed]",
       "prompt_number": 115,
       "text": [
        "\u23a7                                  \u239b                 2                        \n",
        "\u23aa                            2     \u239c0.00032\u22c5t_{wsnap}                  1.5  -1\n",
        "\u23aa             7.3e+12\u22c5N_facet \u22c5Ops\u22c5\u239c\u2500\u2500\u2500\u2500\u2500\u2500\u2500\u2500\u2500\u2500\u2500\u2500\u2500\u2500\u2500\u2500\u2500\u2500 + 0.22\u22c5t_{wsnap}   \u22c5s  \n",
        "\u23a8                                  \u239c         2                                \n",
        "\u23aa                                  \u239d        s                                 \n",
        "\u23aaSKA_1_{Low}: \u2500\u2500\u2500\u2500\u2500\u2500\u2500\u2500\u2500\u2500\u2500\u2500\u2500\u2500\u2500\u2500\u2500\u2500\u2500\u2500\u2500\u2500\u2500\u2500\u2500\u2500\u2500\u2500\u2500\u2500\u2500\u2500\u2500\u2500\u2500\u2500\u2500\u2500\u2500\u2500\u2500\u2500\u2500\u2500\u2500\u2500\u2500\u2500\u2500\u2500\u2500\u2500\u2500\u2500\u2500\u2500\u2500\u2500\u2500\u2500\u2500\u2500\u2500\u2500\n",
        "\u23a9                                                 s                           \n",
        "\n",
        "         \u239e\u23ab\n",
        ".5       \u239f\u23aa\n",
        "   + 81.0\u239f\u23aa\n",
        "         \u239f\u23ac\n",
        "         \u23a0\u23aa\n",
        "\u2500\u2500\u2500\u2500\u2500\u2500\u2500\u2500\u2500\u2500\u23aa\n",
        "          \u23ad"
       ]
      }
     ],
     "prompt_number": 115
    },
    {
     "cell_type": "code",
     "collapsed": false,
     "input": [
      "calcTel('SKA1Mid', GridRate, ev=4)"
     ],
     "language": "python",
     "metadata": {},
     "outputs": [
      {
       "latex": [
        "$$\\begin{Bmatrix}SKA_{1 {Mid}} : \\frac{N_{facet}^{2} Ops}{s} \\left(\\frac{t_{{wsnap}}^{2}}{s^{2}} 9.398 \\cdot 10^{8} + \\frac{t_{{wsnap}}^{1.5}}{s^{1.5}} 6.635 \\cdot 10^{11} + 2.729 \\cdot 10^{14}\\right)\\end{Bmatrix}$$"
       ],
       "metadata": {},
       "output_type": "pyout",
       "png": "[encoded data removed]",
       "prompt_number": 116,
       "text": [
        "\u23a7                                    \u239b                   2                    \n",
        "\u23aa                              2     \u239c0.0002789\u22c5t_{wsnap}                    1\n",
        "\u23aa             3.369e+12\u22c5N_facet \u22c5Ops\u22c5\u239c\u2500\u2500\u2500\u2500\u2500\u2500\u2500\u2500\u2500\u2500\u2500\u2500\u2500\u2500\u2500\u2500\u2500\u2500\u2500\u2500 + 0.1969\u22c5t_{wsnap} \n",
        "\u23a8                                    \u239c          2                             \n",
        "\u23aa                                    \u239d         s                              \n",
        "\u23aaSKA_1_{Mid}: \u2500\u2500\u2500\u2500\u2500\u2500\u2500\u2500\u2500\u2500\u2500\u2500\u2500\u2500\u2500\u2500\u2500\u2500\u2500\u2500\u2500\u2500\u2500\u2500\u2500\u2500\u2500\u2500\u2500\u2500\u2500\u2500\u2500\u2500\u2500\u2500\u2500\u2500\u2500\u2500\u2500\u2500\u2500\u2500\u2500\u2500\u2500\u2500\u2500\u2500\u2500\u2500\u2500\u2500\u2500\u2500\u2500\u2500\u2500\u2500\u2500\u2500\u2500\u2500\n",
        "\u23a9                                                    s                        \n",
        "\n",
        "               \u239e\u23ab\n",
        ".5  -1.5       \u239f\u23aa\n",
        "  \u22c5s     + 81.0\u239f\u23aa\n",
        "               \u239f\u23ac\n",
        "               \u23a0\u23aa\n",
        "\u2500\u2500\u2500\u2500\u2500\u2500\u2500\u2500\u2500\u2500\u2500\u2500\u2500\u2500\u2500\u2500\u23aa\n",
        "                \u23ad"
       ]
      }
     ],
     "prompt_number": 116
    },
    {
     "cell_type": "code",
     "collapsed": false,
     "input": [
      "calcTel('SKA1Survey', GridRate,ev=4)"
     ],
     "language": "python",
     "metadata": {},
     "outputs": [
      {
       "latex": [
        "$$\\begin{Bmatrix}SKA_{1 {Survey}} : \\frac{4590246297600.0 N_{facet}^{2}}{s} Ops \\left(\\frac{t_{{wsnap}}^{2}}{s^{2}} 1.743 \\cdot 10^{-5} + \\frac{0.02462 t_{{wsnap}}^{1.5}}{s^{1.5}} + 81.0\\right)\\end{Bmatrix}$$"
       ],
       "metadata": {},
       "output_type": "pyout",
       "png": "[encoded data removed]",
       "prompt_number": 117,
       "text": [
        "\u23a7                                             \u239b                  2            \n",
        "\u23aa                                       2     \u239c1.743e-5\u22c5t_{wsnap}             \n",
        "\u23aa                4590246297600.0\u22c5N_facet \u22c5Ops\u22c5\u239c\u2500\u2500\u2500\u2500\u2500\u2500\u2500\u2500\u2500\u2500\u2500\u2500\u2500\u2500\u2500\u2500\u2500\u2500\u2500 + 0.02462\u22c5t\n",
        "\u23a8                                             \u239c          2                    \n",
        "\u23aa                                             \u239d         s                     \n",
        "\u23aaSKA_1_{Survey}: \u2500\u2500\u2500\u2500\u2500\u2500\u2500\u2500\u2500\u2500\u2500\u2500\u2500\u2500\u2500\u2500\u2500\u2500\u2500\u2500\u2500\u2500\u2500\u2500\u2500\u2500\u2500\u2500\u2500\u2500\u2500\u2500\u2500\u2500\u2500\u2500\u2500\u2500\u2500\u2500\u2500\u2500\u2500\u2500\u2500\u2500\u2500\u2500\u2500\u2500\u2500\u2500\u2500\u2500\u2500\u2500\u2500\u2500\u2500\u2500\u2500\n",
        "\u23a9                                                          s                  \n",
        "\n",
        "                        \u239e\u23ab\n",
        "        1.5  -1.5       \u239f\u23aa\n",
        "_{wsnap}   \u22c5s     + 81.0\u239f\u23aa\n",
        "                        \u239f\u23ac\n",
        "                        \u23a0\u23aa\n",
        "\u2500\u2500\u2500\u2500\u2500\u2500\u2500\u2500\u2500\u2500\u2500\u2500\u2500\u2500\u2500\u2500\u2500\u2500\u2500\u2500\u2500\u2500\u2500\u2500\u2500\u23aa\n",
        "                         \u23ad"
       ]
      }
     ],
     "prompt_number": 117
    },
    {
     "cell_type": "markdown",
     "metadata": {},
     "source": [
      "For easier comparison with MajCycleModel.pdf, we factor the values:"
     ]
    },
    {
     "cell_type": "code",
     "collapsed": false,
     "input": [
      "factor(GridRate.subs(telescope_info['SKA1Low']).evalf(2),deep=True)"
     ],
     "language": "python",
     "metadata": {},
     "outputs": [
      {
       "latex": [
        "$$\\frac{7318624272384.0 N_{facet}^{2}}{s^{3}} Ops \\left(0.000316619873046875 t_{{wsnap}}^{2} + 0.216796875 t_{{wsnap}}^{1.5} s^{0.5} + 81.0 s^{2}\\right)$$"
       ],
       "metadata": {},
       "output_type": "pyout",
       "png": "[encoded data removed]",
       "prompt_number": 118,
       "text": [
        "                       2     \u239b                              2                 \n",
        "7318624272384.0\u22c5N_facet \u22c5Ops\u22c5\u239d0.000316619873046875\u22c5t_{wsnap}  + 0.216796875\u22c5t_\n",
        "\u2500\u2500\u2500\u2500\u2500\u2500\u2500\u2500\u2500\u2500\u2500\u2500\u2500\u2500\u2500\u2500\u2500\u2500\u2500\u2500\u2500\u2500\u2500\u2500\u2500\u2500\u2500\u2500\u2500\u2500\u2500\u2500\u2500\u2500\u2500\u2500\u2500\u2500\u2500\u2500\u2500\u2500\u2500\u2500\u2500\u2500\u2500\u2500\u2500\u2500\u2500\u2500\u2500\u2500\u2500\u2500\u2500\u2500\u2500\u2500\u2500\u2500\u2500\u2500\u2500\u2500\u2500\u2500\u2500\u2500\u2500\u2500\u2500\u2500\u2500\u2500\u2500\u2500\n",
        "                                                    3                         \n",
        "                                                   s                          \n",
        "\n",
        "       1.5  0.5         2\u239e\n",
        "{wsnap}   \u22c5s    + 81.0\u22c5s \u23a0\n",
        "\u2500\u2500\u2500\u2500\u2500\u2500\u2500\u2500\u2500\u2500\u2500\u2500\u2500\u2500\u2500\u2500\u2500\u2500\u2500\u2500\u2500\u2500\u2500\u2500\u2500\u2500\n",
        "                          \n",
        "                          "
       ]
      }
     ],
     "prompt_number": 118
    },
    {
     "cell_type": "code",
     "collapsed": false,
     "input": [
      "factor(GridRate.subs(telescope_info['SKA1Mid']).evalf(2),deep=True)"
     ],
     "language": "python",
     "metadata": {},
     "outputs": [
      {
       "latex": [
        "$$\\frac{3367254360064.0 N_{facet}^{2}}{s^{3}} Ops \\left(0.000278949754175529 t_{{wsnap}}^{2} + 0.196533203125 t_{{wsnap}}^{1.5} s^{0.5} + 81.0 s^{2}\\right)$$"
       ],
       "metadata": {},
       "output_type": "pyout",
       "png": "[encoded data removed]",
       "prompt_number": 119,
       "text": [
        "                       2     \u239b                              2                 \n",
        "3367254360064.0\u22c5N_facet \u22c5Ops\u22c5\u239d0.000278949754175529\u22c5t_{wsnap}  + 0.196533203125\n",
        "\u2500\u2500\u2500\u2500\u2500\u2500\u2500\u2500\u2500\u2500\u2500\u2500\u2500\u2500\u2500\u2500\u2500\u2500\u2500\u2500\u2500\u2500\u2500\u2500\u2500\u2500\u2500\u2500\u2500\u2500\u2500\u2500\u2500\u2500\u2500\u2500\u2500\u2500\u2500\u2500\u2500\u2500\u2500\u2500\u2500\u2500\u2500\u2500\u2500\u2500\u2500\u2500\u2500\u2500\u2500\u2500\u2500\u2500\u2500\u2500\u2500\u2500\u2500\u2500\u2500\u2500\u2500\u2500\u2500\u2500\u2500\u2500\u2500\u2500\u2500\u2500\u2500\u2500\n",
        "                                                      3                       \n",
        "                                                     s                        \n",
        "\n",
        "          1.5  0.5         2\u239e\n",
        "\u22c5t_{wsnap}   \u22c5s    + 81.0\u22c5s \u23a0\n",
        "\u2500\u2500\u2500\u2500\u2500\u2500\u2500\u2500\u2500\u2500\u2500\u2500\u2500\u2500\u2500\u2500\u2500\u2500\u2500\u2500\u2500\u2500\u2500\u2500\u2500\u2500\u2500\u2500\u2500\n",
        "                             \n",
        "                             "
       ]
      }
     ],
     "prompt_number": 119
    },
    {
     "cell_type": "code",
     "collapsed": false,
     "input": [
      "factor(GridRate.subs(telescope_info['SKA1Survey']).evalf(2),deep=True)"
     ],
     "language": "python",
     "metadata": {},
     "outputs": [
      {
       "latex": [
        "$$\\frac{4587025072128.0 N_{facet}^{2}}{s^{3}} Ops \\left(1.74343596359706 \\cdot 10^{-5} t_{{wsnap}}^{2} + 0.024566650390625 t_{{wsnap}}^{1.5} s^{0.5} + 81.0 s^{2}\\right)$$"
       ],
       "metadata": {},
       "output_type": "pyout",
       "png": "[encoded data removed]",
       "prompt_number": 120,
       "text": [
        "                       2     \u239b                             2                  \n",
        "4587025072128.0\u22c5N_facet \u22c5Ops\u22c5\u239d1.74343596359706e-5\u22c5t_{wsnap}  + 0.0245666503906\n",
        "\u2500\u2500\u2500\u2500\u2500\u2500\u2500\u2500\u2500\u2500\u2500\u2500\u2500\u2500\u2500\u2500\u2500\u2500\u2500\u2500\u2500\u2500\u2500\u2500\u2500\u2500\u2500\u2500\u2500\u2500\u2500\u2500\u2500\u2500\u2500\u2500\u2500\u2500\u2500\u2500\u2500\u2500\u2500\u2500\u2500\u2500\u2500\u2500\u2500\u2500\u2500\u2500\u2500\u2500\u2500\u2500\u2500\u2500\u2500\u2500\u2500\u2500\u2500\u2500\u2500\u2500\u2500\u2500\u2500\u2500\u2500\u2500\u2500\u2500\u2500\u2500\u2500\u2500\n",
        "                                                       3                      \n",
        "                                                      s                       \n",
        "\n",
        "            1.5  0.5         2\u239e\n",
        "25\u22c5t_{wsnap}   \u22c5s    + 81.0\u22c5s \u23a0\n",
        "\u2500\u2500\u2500\u2500\u2500\u2500\u2500\u2500\u2500\u2500\u2500\u2500\u2500\u2500\u2500\u2500\u2500\u2500\u2500\u2500\u2500\u2500\u2500\u2500\u2500\u2500\u2500\u2500\u2500\u2500\u2500\n",
        "                               \n",
        "                               "
       ]
      }
     ],
     "prompt_number": 120
    },
    {
     "cell_type": "heading",
     "level": 3,
     "metadata": {},
     "source": [
      "Phase Rotation \u2013 preliminary"
     ]
    },
    {
     "cell_type": "markdown",
     "metadata": {},
     "source": [
      "In the case of multi-facet imaging, it is necessary to phase-rotate visibilities to each new\n",
      "imaging plane. A first estimate of this can be made as:"
     ]
    },
    {
     "cell_type": "code",
     "collapsed": false,
     "input": [
      "opsPerRotation = 20 * Ops\n",
      "PhaseRotateRate = VisInRate * opsPerRotation * Nfacet ** 2\n",
      "PhaseRotateRate"
     ],
     "language": "python",
     "metadata": {},
     "outputs": [
      {
       "latex": [
        "$$\\frac{40 N_{a}}{t_{{dump}}} N_{f} N_{facet}^{2} N_{{beam}} Ops \\left(N_{a} - 1\\right)$$"
       ],
       "metadata": {},
       "output_type": "pyout",
       "png": "[encoded data removed]",
       "prompt_number": 121,
       "text": [
        "                 2                      \n",
        "40\u22c5N\u2090\u22c5N_f\u22c5N_facet \u22c5N_{beam}\u22c5Ops\u22c5(N\u2090 - 1)\n",
        "\u2500\u2500\u2500\u2500\u2500\u2500\u2500\u2500\u2500\u2500\u2500\u2500\u2500\u2500\u2500\u2500\u2500\u2500\u2500\u2500\u2500\u2500\u2500\u2500\u2500\u2500\u2500\u2500\u2500\u2500\u2500\u2500\u2500\u2500\u2500\u2500\u2500\u2500\u2500\u2500\n",
        "                t_{dump}                "
       ]
      }
     ],
     "prompt_number": 121
    },
    {
     "cell_type": "markdown",
     "metadata": {},
     "source": [
      "Allowing for 20 operations to compute the sine/cosine and do the multiplication."
     ]
    },
    {
     "cell_type": "code",
     "collapsed": false,
     "input": [
      "eval_for_telescopes(PhaseRotateRate.subs({Nfacet: 2*Bmax/Ds}),ev=3)"
     ],
     "language": "python",
     "metadata": {},
     "outputs": [
      {
       "latex": [
        "$$\\begin{Bmatrix}SKA_{1 {Low}} : \\frac{Ops}{s} 5.98 \\cdot 10^{20}, & SKA_{1 {Mid}} : \\frac{Ops}{s} 5.99 \\cdot 10^{21}, & SKA_{1 {Survey}} : \\frac{Ops}{s} 5.1 \\cdot 10^{20}\\end{Bmatrix}$$"
       ],
       "metadata": {},
       "output_type": "pyout",
       "png": "[encoded data removed]",
       "prompt_number": 122,
       "text": [
        "\u23a7             5.98e+20\u22c5Ops               5.99e+21\u22c5Ops                  5.1e+20\n",
        "\u23a8SKA_1_{Low}: \u2500\u2500\u2500\u2500\u2500\u2500\u2500\u2500\u2500\u2500\u2500\u2500, SKA_1_{Mid}: \u2500\u2500\u2500\u2500\u2500\u2500\u2500\u2500\u2500\u2500\u2500\u2500, SKA_1_{Survey}: \u2500\u2500\u2500\u2500\u2500\u2500\u2500\n",
        "\u23a9                  s                          s                             s \n",
        "\n",
        "\u22c5Ops\u23ab\n",
        "\u2500\u2500\u2500\u2500\u23ac\n",
        "    \u23ad"
       ]
      }
     ],
     "prompt_number": 122
    },
    {
     "cell_type": "code",
     "collapsed": false,
     "input": [
      "# You need to substitute in the expression first, because the substitution\n",
      "# uses parameters that are updated afterwards.\n",
      "eval_for_telescopes(PhaseRotateRate.subs({Nfacet: 2*Bmax/Ds}), ev=4)"
     ],
     "language": "python",
     "metadata": {},
     "outputs": [
      {
       "latex": [
        "$$\\begin{Bmatrix}SKA_{1 {Low}} : \\frac{Ops}{s} 5.978 \\cdot 10^{20}, & SKA_{1 {Mid}} : \\frac{Ops}{s} 5.99 \\cdot 10^{21}, & SKA_{1 {Survey}} : \\frac{Ops}{s} 5.1 \\cdot 10^{20}\\end{Bmatrix}$$"
       ],
       "metadata": {},
       "output_type": "pyout",
       "png": "[encoded data removed]",
       "prompt_number": 123,
       "text": [
        "\u23a7             5.978e+20\u22c5Ops               5.99e+21\u22c5Ops                  5.1e+2\n",
        "\u23a8SKA_1_{Low}: \u2500\u2500\u2500\u2500\u2500\u2500\u2500\u2500\u2500\u2500\u2500\u2500\u2500, SKA_1_{Mid}: \u2500\u2500\u2500\u2500\u2500\u2500\u2500\u2500\u2500\u2500\u2500\u2500, SKA_1_{Survey}: \u2500\u2500\u2500\u2500\u2500\u2500\n",
        "\u23a9                   s                          s                             s\n",
        "\n",
        "0\u22c5Ops\u23ab\n",
        "\u2500\u2500\u2500\u2500\u2500\u23ac\n",
        "     \u23ad"
       ]
      }
     ],
     "prompt_number": 123
    },
    {
     "cell_type": "heading",
     "level": 3,
     "metadata": {},
     "source": [
      "Computing requirement"
     ]
    },
    {
     "cell_type": "markdown",
     "metadata": {},
     "source": [
      "Total compute rate is then given by:"
     ]
    },
    {
     "cell_type": "code",
     "collapsed": false,
     "input": [
      "CompRate = FFTRate + ReProjRate + GridRate\n",
      "CompRate"
     ],
     "language": "python",
     "metadata": {},
     "outputs": [
      {
       "latex": [
        "$$\\frac{320 B_{{max}}^{2} N_{f} N_{{beam}} Ops \\log{\\left (\\frac{16 B_{{max}}^{2}}{D_{s}^{2} N_{facet}^{2}} \\right )}}{D_{s}^{2} t_{{wsnap}} \\log{\\left (2 \\right )}} + \\frac{3200 B_{{max}}^{2} N_{f} N_{{beam}}}{D_{s}^{2} t_{{wsnap}}} Ops + \\frac{16 N_{a}}{t_{{dump}}} N_{f} N_{facet}^{2} N_{{beam}} Ops \\left(NAA^{2} + \\frac{16 \\lambda^{2}}{D_{s}^{2}} \\left(\\frac{3.30330625 \\cdot 10^{-10} B_{{max}}^{2}}{D_{s}^{2} s^{2}} t_{{wsnap}}^{2} + \\frac{3.53480070788792 \\cdot 10^{-6} \\lambda}{D_{s} s^{\\frac{3}{2}}} \\left(\\frac{B_{{max}} t_{{wsnap}}}{\\lambda}\\right)^{\\frac{3}{2}}\\right)\\right) \\left(N_{a} - 1\\right)$$"
       ],
       "metadata": {},
       "output_type": "pyout",
       "png": "[encoded data removed]",
       "prompt_number": 124,
       "text": [
        "                                                                              \n",
        "                                                                              \n",
        "                                                                              \n",
        "                                                                              \n",
        "                                                                              \n",
        "                                 \u239b           2 \u239e                              \n",
        "           2                     \u239c 16\u22c5B_{max}  \u239f                              \n",
        "320\u22c5B_{max} \u22c5N_f\u22c5N_{beam}\u22c5Ops\u22c5log\u239c\u2500\u2500\u2500\u2500\u2500\u2500\u2500\u2500\u2500\u2500\u2500\u2500\u2500\u239f                              \n",
        "                                 \u239c   2        2\u239f               2              \n",
        "                                 \u239dD_s \u22c5N_facet \u23a0   3200\u22c5B_{max} \u22c5N_f\u22c5N_{beam}\u22c5\n",
        "\u2500\u2500\u2500\u2500\u2500\u2500\u2500\u2500\u2500\u2500\u2500\u2500\u2500\u2500\u2500\u2500\u2500\u2500\u2500\u2500\u2500\u2500\u2500\u2500\u2500\u2500\u2500\u2500\u2500\u2500\u2500\u2500\u2500\u2500\u2500\u2500\u2500\u2500\u2500\u2500\u2500\u2500\u2500\u2500\u2500\u2500\u2500\u2500 + \u2500\u2500\u2500\u2500\u2500\u2500\u2500\u2500\u2500\u2500\u2500\u2500\u2500\u2500\u2500\u2500\u2500\u2500\u2500\u2500\u2500\u2500\u2500\u2500\u2500\u2500\u2500\n",
        "                2                                             2               \n",
        "             D_s \u22c5t_{wsnap}\u22c5log(2)                         D_s \u22c5t_{wsnap}     \n",
        "\n",
        "                                      \u239b                   \u239b                   \n",
        "                                      \u239c                   \u239c                   \n",
        "                                      \u239c                   \u239c                   \n",
        "                                      \u239c                 2 \u239c3.30330625e-10\u22c5B_{m\n",
        "                                      \u239c       16\u22c5\\lambda \u22c5\u239c\u2500\u2500\u2500\u2500\u2500\u2500\u2500\u2500\u2500\u2500\u2500\u2500\u2500\u2500\u2500\u2500\u2500\u2500\u2500\n",
        "                                      \u239c                   \u239c                2  \n",
        "                       2              \u239c   2               \u239d             D_s \u22c5s\n",
        "      16\u22c5N\u2090\u22c5N_f\u22c5N_facet \u22c5N_{beam}\u22c5Ops\u22c5\u239cNAA  + \u2500\u2500\u2500\u2500\u2500\u2500\u2500\u2500\u2500\u2500\u2500\u2500\u2500\u2500\u2500\u2500\u2500\u2500\u2500\u2500\u2500\u2500\u2500\u2500\u2500\u2500\u2500\u2500\u2500\u2500\u2500\u2500\n",
        "                                      \u239c                                       \n",
        "Ops                                   \u239d                                       \n",
        "\u2500\u2500\u2500 + \u2500\u2500\u2500\u2500\u2500\u2500\u2500\u2500\u2500\u2500\u2500\u2500\u2500\u2500\u2500\u2500\u2500\u2500\u2500\u2500\u2500\u2500\u2500\u2500\u2500\u2500\u2500\u2500\u2500\u2500\u2500\u2500\u2500\u2500\u2500\u2500\u2500\u2500\u2500\u2500\u2500\u2500\u2500\u2500\u2500\u2500\u2500\u2500\u2500\u2500\u2500\u2500\u2500\u2500\u2500\u2500\u2500\u2500\u2500\u2500\u2500\u2500\u2500\u2500\u2500\u2500\u2500\u2500\u2500\u2500\u2500\u2500\n",
        "                                                                              \n",
        "                                                                              \n",
        "\n",
        "                                                                 3/2\u239e\u239e        \n",
        "                                              \u239bB_{max}\u22c5t_{wsnap}\u239e   \u239f\u239f        \n",
        "   2          2   3.53480070788792e-6\u22c5\\lambda\u22c5\u239c\u2500\u2500\u2500\u2500\u2500\u2500\u2500\u2500\u2500\u2500\u2500\u2500\u2500\u2500\u2500\u2500\u2500\u239f   \u239f\u239f        \n",
        "ax} \u22c5t_{wsnap}                                \u239d     \\lambda     \u23a0   \u239f\u239f        \n",
        "\u2500\u2500\u2500\u2500\u2500\u2500\u2500\u2500\u2500\u2500\u2500\u2500\u2500\u2500\u2500 + \u2500\u2500\u2500\u2500\u2500\u2500\u2500\u2500\u2500\u2500\u2500\u2500\u2500\u2500\u2500\u2500\u2500\u2500\u2500\u2500\u2500\u2500\u2500\u2500\u2500\u2500\u2500\u2500\u2500\u2500\u2500\u2500\u2500\u2500\u2500\u2500\u2500\u2500\u2500\u2500\u2500\u2500\u2500\u2500\u2500\u2500\u2500\u2500\u2500\u2500\u239f\u239f        \n",
        "2                                           3/2                     \u239f\u239f        \n",
        "                                       D_s\u22c5s                        \u23a0\u239f        \n",
        "\u2500\u2500\u2500\u2500\u2500\u2500\u2500\u2500\u2500\u2500\u2500\u2500\u2500\u2500\u2500\u2500\u2500\u2500\u2500\u2500\u2500\u2500\u2500\u2500\u2500\u2500\u2500\u2500\u2500\u2500\u2500\u2500\u2500\u2500\u2500\u2500\u2500\u2500\u2500\u2500\u2500\u2500\u2500\u2500\u2500\u2500\u2500\u2500\u2500\u2500\u2500\u2500\u2500\u2500\u2500\u2500\u2500\u2500\u2500\u2500\u2500\u2500\u2500\u2500\u2500\u2500\u2500\u2500\u2500\u239f\u22c5(N\u2090 - 1\n",
        "                    2                                                \u239f        \n",
        "                 D_s                                                 \u23a0        \n",
        "\u2500\u2500\u2500\u2500\u2500\u2500\u2500\u2500\u2500\u2500\u2500\u2500\u2500\u2500\u2500\u2500\u2500\u2500\u2500\u2500\u2500\u2500\u2500\u2500\u2500\u2500\u2500\u2500\u2500\u2500\u2500\u2500\u2500\u2500\u2500\u2500\u2500\u2500\u2500\u2500\u2500\u2500\u2500\u2500\u2500\u2500\u2500\u2500\u2500\u2500\u2500\u2500\u2500\u2500\u2500\u2500\u2500\u2500\u2500\u2500\u2500\u2500\u2500\u2500\u2500\u2500\u2500\u2500\u2500\u2500\u2500\u2500\u2500\u2500\u2500\u2500\u2500\u2500\n",
        "t_{dump}                                                                      \n",
        "                                                                              \n",
        "\n",
        " \n",
        " \n",
        " \n",
        " \n",
        " \n",
        " \n",
        " \n",
        ")\n",
        " \n",
        " \n",
        "\u2500\n",
        " \n",
        " "
       ]
      }
     ],
     "prompt_number": 124
    },
    {
     "cell_type": "markdown",
     "metadata": {},
     "source": [
      "For each telescope (we use the `calcTel` command to evaluate just for one telescope) we get:"
     ]
    },
    {
     "cell_type": "code",
     "collapsed": false,
     "input": [
      "calcTel('SKA1Low', CompRate)"
     ],
     "language": "python",
     "metadata": {},
     "outputs": [
      {
       "latex": [
        "$$\\begin{Bmatrix}SKA_{1 {Low}} : \\frac{7322919239680.0 N_{facet}^{2}}{s} Ops \\left(\\frac{0.0684718145768287 \\sqrt{10}}{s^{\\frac{3}{2}}} t_{{wsnap}}^{\\frac{3}{2}} + \\frac{0.000316546889371156 t_{{wsnap}}^{2}}{s^{2}} + 81\\right) + \\frac{33554432000000000 Ops \\log{\\left (\\frac{6400000000}{49 N_{facet}^{2}} \\right )}}{49 t_{{wsnap}} \\log{\\left (2 \\right )}} + \\frac{335544320000000000 Ops}{49 t_{{wsnap}}}\\end{Bmatrix}$$"
       ],
       "metadata": {},
       "output_type": "pyout",
       "png": "[encoded data removed]",
       "prompt_number": 125,
       "text": [
        "\u23a7                                          \u239b                     ____         \n",
        "\u23aa                                    2     \u239c0.0684718145768287\u22c5\u2572\u2571 10 \u22c5t_{wsnap\n",
        "\u23aa             7322919239680.0\u22c5N_facet \u22c5Ops\u22c5\u239c\u2500\u2500\u2500\u2500\u2500\u2500\u2500\u2500\u2500\u2500\u2500\u2500\u2500\u2500\u2500\u2500\u2500\u2500\u2500\u2500\u2500\u2500\u2500\u2500\u2500\u2500\u2500\u2500\u2500\u2500\u2500\u2500\u2500\u2500\n",
        "\u23a8                                          \u239c                  3/2             \n",
        "\u23aa                                          \u239d                 s                \n",
        "\u23aaSKA_1_{Low}: \u2500\u2500\u2500\u2500\u2500\u2500\u2500\u2500\u2500\u2500\u2500\u2500\u2500\u2500\u2500\u2500\u2500\u2500\u2500\u2500\u2500\u2500\u2500\u2500\u2500\u2500\u2500\u2500\u2500\u2500\u2500\u2500\u2500\u2500\u2500\u2500\u2500\u2500\u2500\u2500\u2500\u2500\u2500\u2500\u2500\u2500\u2500\u2500\u2500\u2500\u2500\u2500\u2500\u2500\u2500\u2500\u2500\u2500\u2500\u2500\u2500\u2500\u2500\u2500\n",
        "\u23a9                                                                  s          \n",
        "\n",
        " 3/2                                 2     \u239e                                  \n",
        "}      0.000316546889371156\u22c5t_{wsnap}      \u239f                            \u239b 6400\n",
        "\u2500\u2500\u2500\u2500 + \u2500\u2500\u2500\u2500\u2500\u2500\u2500\u2500\u2500\u2500\u2500\u2500\u2500\u2500\u2500\u2500\u2500\u2500\u2500\u2500\u2500\u2500\u2500\u2500\u2500\u2500\u2500\u2500\u2500\u2500\u2500 + 81\u239f   33554432000000000\u22c5Ops\u22c5log\u239c\u2500\u2500\u2500\u2500\u2500\n",
        "                       2                   \u239f                            \u239c     \n",
        "                      s                    \u23a0                            \u239d49\u22c5N_\n",
        "\u2500\u2500\u2500\u2500\u2500\u2500\u2500\u2500\u2500\u2500\u2500\u2500\u2500\u2500\u2500\u2500\u2500\u2500\u2500\u2500\u2500\u2500\u2500\u2500\u2500\u2500\u2500\u2500\u2500\u2500\u2500\u2500\u2500\u2500\u2500\u2500\u2500\u2500\u2500\u2500\u2500\u2500\u2500\u2500 + \u2500\u2500\u2500\u2500\u2500\u2500\u2500\u2500\u2500\u2500\u2500\u2500\u2500\u2500\u2500\u2500\u2500\u2500\u2500\u2500\u2500\u2500\u2500\u2500\u2500\u2500\u2500\u2500\u2500\u2500\u2500\n",
        "                                                        49\u22c5t_{wsnap}\u22c5log(2)   \n",
        "\n",
        "                                \u23ab\n",
        "000000\u239e                         \u23aa\n",
        "\u2500\u2500\u2500\u2500\u2500\u2500\u239f                         \u23aa\n",
        "     2\u239f                         \u23ac\n",
        "facet \u23a0   335544320000000000\u22c5Ops\u23aa\n",
        "\u2500\u2500\u2500\u2500\u2500\u2500\u2500 + \u2500\u2500\u2500\u2500\u2500\u2500\u2500\u2500\u2500\u2500\u2500\u2500\u2500\u2500\u2500\u2500\u2500\u2500\u2500\u2500\u2500\u2500\u23aa\n",
        "               49\u22c5t_{wsnap}     \u23ad"
       ]
      }
     ],
     "prompt_number": 125
    },
    {
     "cell_type": "code",
     "collapsed": false,
     "input": [
      "calcTel('SKA1Mid', CompRate)"
     ],
     "language": "python",
     "metadata": {},
     "outputs": [
      {
       "latex": [
        "$$\\begin{Bmatrix}SKA_{1 {Mid}} : \\frac{3369179545600.0 N_{facet}^{2}}{s} Ops \\left(\\frac{0.0880674052192003 \\sqrt{5}}{s^{\\frac{3}{2}}} t_{{wsnap}}^{\\frac{3}{2}} + \\frac{0.000278926131949086 t_{{wsnap}}^{2}}{s^{2}} + 81\\right) + \\frac{134217728000000000 Ops \\log{\\left (\\frac{25600000000}{9 N_{facet}^{2}} \\right )}}{9 t_{{wsnap}} \\log{\\left (2 \\right )}} + \\frac{1342177280000000000 Ops}{9 t_{{wsnap}}}\\end{Bmatrix}$$"
       ],
       "metadata": {},
       "output_type": "pyout",
       "png": "[encoded data removed]",
       "prompt_number": 126,
       "text": [
        "\u23a7                                          \u239b                     ___          \n",
        "\u23aa                                    2     \u239c0.0880674052192003\u22c5\u2572\u2571 5 \u22c5t_{wsnap}\n",
        "\u23aa             3369179545600.0\u22c5N_facet \u22c5Ops\u22c5\u239c\u2500\u2500\u2500\u2500\u2500\u2500\u2500\u2500\u2500\u2500\u2500\u2500\u2500\u2500\u2500\u2500\u2500\u2500\u2500\u2500\u2500\u2500\u2500\u2500\u2500\u2500\u2500\u2500\u2500\u2500\u2500\u2500\u2500\u2500\n",
        "\u23a8                                          \u239c                  3/2             \n",
        "\u23aa                                          \u239d                 s                \n",
        "\u23aaSKA_1_{Mid}: \u2500\u2500\u2500\u2500\u2500\u2500\u2500\u2500\u2500\u2500\u2500\u2500\u2500\u2500\u2500\u2500\u2500\u2500\u2500\u2500\u2500\u2500\u2500\u2500\u2500\u2500\u2500\u2500\u2500\u2500\u2500\u2500\u2500\u2500\u2500\u2500\u2500\u2500\u2500\u2500\u2500\u2500\u2500\u2500\u2500\u2500\u2500\u2500\u2500\u2500\u2500\u2500\u2500\u2500\u2500\u2500\u2500\u2500\u2500\u2500\u2500\u2500\u2500\u2500\n",
        "\u23a9                                                                  s          \n",
        "\n",
        "3/2                                 2     \u239e                                   \n",
        "      0.000278926131949086\u22c5t_{wsnap}      \u239f                             \u239b25600\n",
        "\u2500\u2500\u2500 + \u2500\u2500\u2500\u2500\u2500\u2500\u2500\u2500\u2500\u2500\u2500\u2500\u2500\u2500\u2500\u2500\u2500\u2500\u2500\u2500\u2500\u2500\u2500\u2500\u2500\u2500\u2500\u2500\u2500\u2500\u2500 + 81\u239f   134217728000000000\u22c5Ops\u22c5log\u239c\u2500\u2500\u2500\u2500\u2500\n",
        "                      2                   \u239f                             \u239c     \n",
        "                     s                    \u23a0                             \u239d 9\u22c5N_\n",
        "\u2500\u2500\u2500\u2500\u2500\u2500\u2500\u2500\u2500\u2500\u2500\u2500\u2500\u2500\u2500\u2500\u2500\u2500\u2500\u2500\u2500\u2500\u2500\u2500\u2500\u2500\u2500\u2500\u2500\u2500\u2500\u2500\u2500\u2500\u2500\u2500\u2500\u2500\u2500\u2500\u2500\u2500\u2500 + \u2500\u2500\u2500\u2500\u2500\u2500\u2500\u2500\u2500\u2500\u2500\u2500\u2500\u2500\u2500\u2500\u2500\u2500\u2500\u2500\u2500\u2500\u2500\u2500\u2500\u2500\u2500\u2500\u2500\u2500\u2500\u2500\n",
        "                                                         9\u22c5t_{wsnap}\u22c5log(2)   \n",
        "\n",
        "                                 \u23ab\n",
        "000000\u239e                          \u23aa\n",
        "\u2500\u2500\u2500\u2500\u2500\u2500\u239f                          \u23aa\n",
        "     2\u239f                          \u23ac\n",
        "facet \u23a0   1342177280000000000\u22c5Ops\u23aa\n",
        "\u2500\u2500\u2500\u2500\u2500\u2500\u2500 + \u2500\u2500\u2500\u2500\u2500\u2500\u2500\u2500\u2500\u2500\u2500\u2500\u2500\u2500\u2500\u2500\u2500\u2500\u2500\u2500\u2500\u2500\u2500\u23aa\n",
        "                9\u22c5t_{wsnap}      \u23ad"
       ]
      }
     ],
     "prompt_number": 126
    },
    {
     "cell_type": "code",
     "collapsed": false,
     "input": [
      "calcTel('SKA1Survey', CompRate)"
     ],
     "language": "python",
     "metadata": {},
     "outputs": [
      {
       "latex": [
        "$$\\begin{Bmatrix}SKA_{1 {Survey}} : \\frac{4590246297600.0 N_{facet}^{2}}{s} Ops \\left(\\frac{0.0110084256524 \\sqrt{5}}{s^{\\frac{3}{2}}} t_{{wsnap}}^{\\frac{3}{2}} + \\frac{t_{{wsnap}}^{2}}{s^{2}} 1.74328832468178 \\cdot 10^{-5} + 81\\right) + \\frac{33554432000000000 Ops \\log{\\left (\\frac{1600000000}{9 N_{facet}^{2}} \\right )}}{t_{{wsnap}} \\log{\\left (2 \\right )}} + \\frac{335544320000000000 Ops}{t_{{wsnap}}}\\end{Bmatrix}$$"
       ],
       "metadata": {},
       "output_type": "pyout",
       "png": "[encoded data removed]",
       "prompt_number": 127,
       "text": [
        "\u23a7                                             \u239b                  ___          \n",
        "\u23aa                                       2     \u239c0.0110084256524\u22c5\u2572\u2571 5 \u22c5t_{wsnap}\n",
        "\u23aa                4590246297600.0\u22c5N_facet \u22c5Ops\u22c5\u239c\u2500\u2500\u2500\u2500\u2500\u2500\u2500\u2500\u2500\u2500\u2500\u2500\u2500\u2500\u2500\u2500\u2500\u2500\u2500\u2500\u2500\u2500\u2500\u2500\u2500\u2500\u2500\u2500\u2500\u2500\u2500\n",
        "\u23a8                                             \u239c                3/2            \n",
        "\u23aa                                             \u239d               s               \n",
        "\u23aaSKA_1_{Survey}: \u2500\u2500\u2500\u2500\u2500\u2500\u2500\u2500\u2500\u2500\u2500\u2500\u2500\u2500\u2500\u2500\u2500\u2500\u2500\u2500\u2500\u2500\u2500\u2500\u2500\u2500\u2500\u2500\u2500\u2500\u2500\u2500\u2500\u2500\u2500\u2500\u2500\u2500\u2500\u2500\u2500\u2500\u2500\u2500\u2500\u2500\u2500\u2500\u2500\u2500\u2500\u2500\u2500\u2500\u2500\u2500\u2500\u2500\u2500\u2500\u2500\n",
        "\u23a9                                                                   s         \n",
        "\n",
        "3/2                                2     \u239e                                    \n",
        "      1.74328832468178e-5\u22c5t_{wsnap}      \u239f                            \u239b1600000\n",
        "\u2500\u2500\u2500 + \u2500\u2500\u2500\u2500\u2500\u2500\u2500\u2500\u2500\u2500\u2500\u2500\u2500\u2500\u2500\u2500\u2500\u2500\u2500\u2500\u2500\u2500\u2500\u2500\u2500\u2500\u2500\u2500\u2500\u2500 + 81\u239f   33554432000000000\u22c5Ops\u22c5log\u239c\u2500\u2500\u2500\u2500\u2500\u2500\u2500\n",
        "                     2                   \u239f                            \u239c       \n",
        "                    s                    \u23a0                            \u239d9\u22c5N_fac\n",
        "\u2500\u2500\u2500\u2500\u2500\u2500\u2500\u2500\u2500\u2500\u2500\u2500\u2500\u2500\u2500\u2500\u2500\u2500\u2500\u2500\u2500\u2500\u2500\u2500\u2500\u2500\u2500\u2500\u2500\u2500\u2500\u2500\u2500\u2500\u2500\u2500\u2500\u2500\u2500\u2500\u2500\u2500 + \u2500\u2500\u2500\u2500\u2500\u2500\u2500\u2500\u2500\u2500\u2500\u2500\u2500\u2500\u2500\u2500\u2500\u2500\u2500\u2500\u2500\u2500\u2500\u2500\u2500\u2500\u2500\u2500\u2500\u2500\u2500\u2500\u2500\n",
        "                                                        t_{wsnap}\u22c5log(2)      \n",
        "\n",
        "                             \u23ab\n",
        "000\u239e                         \u23aa\n",
        "\u2500\u2500\u2500\u239f                         \u23aa\n",
        "  2\u239f                         \u23ac\n",
        "et \u23a0   335544320000000000\u22c5Ops\u23aa\n",
        "\u2500\u2500\u2500\u2500 + \u2500\u2500\u2500\u2500\u2500\u2500\u2500\u2500\u2500\u2500\u2500\u2500\u2500\u2500\u2500\u2500\u2500\u2500\u2500\u2500\u2500\u2500\u23aa\n",
        "             t_{wsnap}       \u23ad"
       ]
      }
     ],
     "prompt_number": 127
    },
    {
     "cell_type": "markdown",
     "metadata": {},
     "source": [
      "This is the compute rate per half-major cycle (i.e., per forward step or backward step)."
     ]
    },
    {
     "cell_type": "heading",
     "level": 3,
     "metadata": {},
     "source": [
      "Optimal w-snapshot duration time"
     ]
    },
    {
     "cell_type": "markdown",
     "metadata": {},
     "source": [
      "We can find the optimal w-snapshot duration time by minimising the total compute rate\n",
      "with respect to this variable:"
     ]
    },
    {
     "cell_type": "code",
     "collapsed": false,
     "input": [
      "CompRateDerivLow = diff(CompRate.subs({Nfacet: 1}).subs(telescope_info['SKA1Low']), twsnap).subs({twsnap: t})\n",
      "CompRateDerivLow"
     ],
     "language": "python",
     "metadata": {},
     "outputs": [
      {
       "latex": [
        "$$\\frac{7322919239680.0 Ops}{s} \\left(\\frac{0.102707721865243 \\sqrt{10}}{s^{\\frac{3}{2}}} \\sqrt{t} + \\frac{0.000633093778742313 t}{s^{2}}\\right) - \\frac{33554432000000000 Ops \\left(- \\log{\\left (49 \\right )} + \\log{\\left (6400000000 \\right )}\\right)}{49 t^{2} \\log{\\left (2 \\right )}} - \\frac{335544320000000000 Ops}{49 t^{2}}$$"
       ],
       "metadata": {},
       "output_type": "pyout",
       "png": "[encoded data removed]",
       "prompt_number": 128,
       "text": [
        "                    \u239b                    ____   ___                         \u239e \n",
        "                    \u239c0.102707721865243\u22c5\u2572\u2571 10 \u22c5\u2572\u2571 t    0.000633093778742313\u22c5t\u239f \n",
        "7322919239680.0\u22c5Ops\u22c5\u239c\u2500\u2500\u2500\u2500\u2500\u2500\u2500\u2500\u2500\u2500\u2500\u2500\u2500\u2500\u2500\u2500\u2500\u2500\u2500\u2500\u2500\u2500\u2500\u2500\u2500\u2500\u2500\u2500\u2500\u2500 + \u2500\u2500\u2500\u2500\u2500\u2500\u2500\u2500\u2500\u2500\u2500\u2500\u2500\u2500\u2500\u2500\u2500\u2500\u2500\u2500\u2500\u2500\u239f \n",
        "                    \u239c              3/2                           2          \u239f \n",
        "                    \u239d             s                             s           \u23a0 \n",
        "\u2500\u2500\u2500\u2500\u2500\u2500\u2500\u2500\u2500\u2500\u2500\u2500\u2500\u2500\u2500\u2500\u2500\u2500\u2500\u2500\u2500\u2500\u2500\u2500\u2500\u2500\u2500\u2500\u2500\u2500\u2500\u2500\u2500\u2500\u2500\u2500\u2500\u2500\u2500\u2500\u2500\u2500\u2500\u2500\u2500\u2500\u2500\u2500\u2500\u2500\u2500\u2500\u2500\u2500\u2500\u2500\u2500\u2500\u2500\u2500\u2500\u2500\u2500\u2500\u2500\u2500\u2500\u2500\u2500\u2500\u2500\u2500\u2500\u2500\u2500\u2500\u2500 \n",
        "                                      s                                       \n",
        "                                                                              \n",
        "\n",
        "                                                                             \n",
        "                                                                             \n",
        "                                                                             \n",
        "                                                                             \n",
        "  33554432000000000\u22c5Ops\u22c5(-log(49) + log(6400000000))   335544320000000000\u22c5Ops\n",
        "- \u2500\u2500\u2500\u2500\u2500\u2500\u2500\u2500\u2500\u2500\u2500\u2500\u2500\u2500\u2500\u2500\u2500\u2500\u2500\u2500\u2500\u2500\u2500\u2500\u2500\u2500\u2500\u2500\u2500\u2500\u2500\u2500\u2500\u2500\u2500\u2500\u2500\u2500\u2500\u2500\u2500\u2500\u2500\u2500\u2500\u2500\u2500\u2500\u2500\u2500 - \u2500\u2500\u2500\u2500\u2500\u2500\u2500\u2500\u2500\u2500\u2500\u2500\u2500\u2500\u2500\u2500\u2500\u2500\u2500\u2500\u2500\u2500\n",
        "                         2                                         2         \n",
        "                     49\u22c5t \u22c5log(2)                              49\u22c5t          "
       ]
      }
     ],
     "prompt_number": 128
    },
    {
     "cell_type": "code",
     "collapsed": false,
     "input": [
      "SKA1Low_twsnap = int(nsolve(CompRateDerivLow.subs({Ops: 1, u.s: 1}),t,10,tol=1e-6)+0.5) * u.s\n",
      "SKA1Low_twsnap"
     ],
     "language": "python",
     "metadata": {},
     "outputs": [
      {
       "latex": [
        "$$41 s$$"
       ],
       "metadata": {},
       "output_type": "pyout",
       "png": "[encoded data removed]",
       "prompt_number": 129,
       "text": [
        "41\u22c5s"
       ]
      }
     ],
     "prompt_number": 129
    },
    {
     "cell_type": "code",
     "collapsed": false,
     "input": [
      "CompRateDerivMid = diff(CompRate.subs({Nfacet: 1}).subs(telescope_info['SKA1Mid']), twsnap).subs({twsnap: t})\n",
      "SKA1Mid_twsnap = int(nsolve(CompRateDerivMid.subs({Ops: 1, u.s: 1}),t,200,tol=1e-6)+0.5)*u.s\n",
      "SKA1Mid_twsnap"
     ],
     "language": "python",
     "metadata": {},
     "outputs": [
      {
       "latex": [
        "$$205 s$$"
       ],
       "metadata": {},
       "output_type": "pyout",
       "png": "[encoded data removed]",
       "prompt_number": 130,
       "text": [
        "205\u22c5s"
       ]
      }
     ],
     "prompt_number": 130
    },
    {
     "cell_type": "code",
     "collapsed": false,
     "input": [
      "CompRateDerivSurvey = diff(CompRate.subs({Nfacet: 1}).subs(telescope_info['SKA1Survey']), twsnap).subs({twsnap: t})\n",
      "SKA1Survey_twsnap = int(nsolve(CompRateDerivSurvey.subs({Ops: 1, u.s: 1}),t,200,tol=1e-5)+0.5)*u.s\n",
      "SKA1Survey_twsnap"
     ],
     "language": "python",
     "metadata": {},
     "outputs": [
      {
       "latex": [
        "$$555 s$$"
       ],
       "metadata": {},
       "output_type": "pyout",
       "png": "[encoded data removed]",
       "prompt_number": 131,
       "text": [
        "555\u22c5s"
       ]
      }
     ],
     "prompt_number": 131
    },
    {
     "cell_type": "markdown",
     "metadata": {},
     "source": [
      "We select the real solutions are the only ones with physical meaning."
     ]
    },
    {
     "cell_type": "heading",
     "level": 3,
     "metadata": {},
     "source": [
      "Compute rate at optimal w-snapshot size"
     ]
    },
    {
     "cell_type": "markdown",
     "metadata": {},
     "source": [
      "If we take the optimised snapshot times from the section above we get total compute rates as:"
     ]
    },
    {
     "cell_type": "code",
     "collapsed": false,
     "input": [
      "ComputeRateSKA1Low    = CompRate.subs(telescope_info['SKA1Low']).subs(\n",
      "                            {twsnap: SKA1Low_twsnap, Nfacet: 1}\n",
      "                        ).evalf(4)\n",
      "ComputeRateSKA1Mid    = CompRate.subs(telescope_info['SKA1Mid']).subs(\n",
      "                            {twsnap: SKA1Mid_twsnap, Nfacet: 1}\n",
      "                        ).evalf(4)\n",
      "ComputeRateSKA1Survey = CompRate.subs(telescope_info['SKA1Survey']).subs(\n",
      "                            {twsnap: SKA1Survey_twsnap, Nfacet: 1}\n",
      "                        ).evalf(4)\n",
      "print('Compute rate at Optimal snapshot times:')\n",
      "ComputeRateSKA1 = {label:value\n",
      "  for label,value in zip(\n",
      "                [telescope_labels[t] for t in telescope_list],\n",
      "                [ComputeRateSKA1Low, ComputeRateSKA1Mid, ComputeRateSKA1Survey]\n",
      "  )\n",
      "}\n",
      "ComputeRateSKA1"
     ],
     "language": "python",
     "metadata": {},
     "outputs": [
      {
       "output_type": "stream",
       "stream": "stdout",
       "text": [
        "Compute rate at Optimal snapshot times:\n"
       ]
      },
      {
       "latex": [
        "$$\\begin{Bmatrix}SKA_{1 {Low}} : \\frac{Ops}{s} 1.631 \\cdot 10^{15}, & SKA_{1 {Mid}} : \\frac{Ops}{s} 5.272 \\cdot 10^{15}, & SKA_{1 {Survey}} : \\frac{Ops}{s} 4.135 \\cdot 10^{15}\\end{Bmatrix}$$"
       ],
       "metadata": {},
       "output_type": "pyout",
       "png": "[encoded data removed]",
       "prompt_number": 132,
       "text": [
        "\u23a7             1.631e+15\u22c5Ops               5.272e+15\u22c5Ops                  4.135\n",
        "\u23a8SKA_1_{Low}: \u2500\u2500\u2500\u2500\u2500\u2500\u2500\u2500\u2500\u2500\u2500\u2500\u2500, SKA_1_{Mid}: \u2500\u2500\u2500\u2500\u2500\u2500\u2500\u2500\u2500\u2500\u2500\u2500\u2500, SKA_1_{Survey}: \u2500\u2500\u2500\u2500\u2500\n",
        "\u23a9                   s                           s                             \n",
        "\n",
        "e+15\u22c5Ops\u23ab\n",
        "\u2500\u2500\u2500\u2500\u2500\u2500\u2500\u2500\u23ac\n",
        " s      \u23ad"
       ]
      }
     ],
     "prompt_number": 132
    },
    {
     "cell_type": "markdown",
     "metadata": {},
     "source": [
      "again this is per half-major cycle.\n",
      "\n",
      "One thing to note is that kernel size of $\\sqrt{9^2 + 7^2} \\approx 11$ will likely not be enough to\n",
      "capture the A term for SKA1 Low. It may therefore be necessary to use kernels which\n",
      "are larger than this for SKA1 Low, leading to higher computational load."
     ]
    },
    {
     "cell_type": "heading",
     "level": 2,
     "metadata": {},
     "source": [
      "Working memory and computational intensity"
     ]
    },
    {
     "cell_type": "heading",
     "level": 3,
     "metadata": {},
     "source": [
      "Computational intensity"
     ]
    },
    {
     "cell_type": "markdown",
     "metadata": {},
     "source": [
      "A crude first estimate of the computational intensity can be estimated as the ratio of the\n",
      "largest data set (the visibilities) and the processing computing requirements computed\n",
      "estimated above.\n",
      "\n",
      "Note that:\n",
      "\n",
      "  - Here I assume 8 bytes per visibility which assumes a very efficient data format; a\n",
      "    conservative estimate would be at least 16 bytes\n",
      "  - The division is of the visibility rate vs half-cycle compute requirements. This\n",
      "    number is therefore independent of the number of cycles"
     ]
    },
    {
     "cell_type": "code",
     "collapsed": false,
     "input": [
      "byte = symbols(\"byte\")"
     ],
     "language": "python",
     "metadata": {},
     "outputs": [],
     "prompt_number": 133
    },
    {
     "cell_type": "code",
     "collapsed": false,
     "input": [
      "CompIntensity = CompRate/(VisInRate * 8 * byte)\n",
      "calcTel('SKA1Low',CompIntensity.subs({Nfacet:1,twsnap: 41*u.s}),ev=3)"
     ],
     "language": "python",
     "metadata": {},
     "outputs": [
      {
       "latex": [
        "$$\\begin{Bmatrix}SKA_{1 {Low}} : \\frac{223.0 Ops}{byte}\\end{Bmatrix}$$"
       ],
       "metadata": {},
       "output_type": "pyout",
       "png": "[encoded data removed]",
       "prompt_number": 134,
       "text": [
        "\u23a7             223.0\u22c5Ops\u23ab\n",
        "\u23a8SKA_1_{Low}: \u2500\u2500\u2500\u2500\u2500\u2500\u2500\u2500\u2500\u23ac\n",
        "\u23a9                byte  \u23ad"
       ]
      }
     ],
     "prompt_number": 134
    },
    {
     "cell_type": "code",
     "collapsed": false,
     "input": [
      "CompIntensity = CompRate/(VisInRate * 8 * byte)\n",
      "calcTel('SKA1Mid',CompIntensity.subs({Nfacet:1,twsnap: 205*u.s}),ev=4)"
     ],
     "language": "python",
     "metadata": {},
     "outputs": [
      {
       "latex": [
        "$$\\begin{Bmatrix}SKA_{1 {Mid}} : \\frac{1565.0 Ops}{byte}\\end{Bmatrix}$$"
       ],
       "metadata": {},
       "output_type": "pyout",
       "png": "[encoded data removed]",
       "prompt_number": 135,
       "text": [
        "\u23a7             1565.0\u22c5Ops\u23ab\n",
        "\u23a8SKA_1_{Mid}: \u2500\u2500\u2500\u2500\u2500\u2500\u2500\u2500\u2500\u2500\u23ac\n",
        "\u23a9                byte   \u23ad"
       ]
      }
     ],
     "prompt_number": 135
    },
    {
     "cell_type": "code",
     "collapsed": false,
     "input": [
      "CompIntensity = CompRate/(VisInRate * 8 * byte)\n",
      "calcTel('SKA1Survey',CompIntensity.subs({Nfacet:1,twsnap: 555*u.s}),ev=3)"
     ],
     "language": "python",
     "metadata": {},
     "outputs": [
      {
       "latex": [
        "$$\\begin{Bmatrix}SKA_{1 {Survey}} : \\frac{901.0 Ops}{byte}\\end{Bmatrix}$$"
       ],
       "metadata": {},
       "output_type": "pyout",
       "png": "[encoded data removed]",
       "prompt_number": 136,
       "text": [
        "\u23a7                901.0\u22c5Ops\u23ab\n",
        "\u23a8SKA_1_{Survey}: \u2500\u2500\u2500\u2500\u2500\u2500\u2500\u2500\u2500\u23ac\n",
        "\u23a9                   byte  \u23ad"
       ]
      }
     ],
     "prompt_number": 136
    },
    {
     "cell_type": "markdown",
     "metadata": {},
     "source": [
      "Note that if faceting is done in the simplest way, i.e., if the entire visibility set is\n",
      "iterated for each facet from the beginning, then the computational intensity _decreases_\n",
      "in rough proportion to the number of facets. The logical approach would therefore be\n",
      "phase rotate to each facet, average the data in time, and record the averaged data."
     ]
    },
    {
     "cell_type": "heading",
     "level": 3,
     "metadata": {},
     "source": [
      "Working memory requirements"
     ]
    },
    {
     "cell_type": "markdown",
     "metadata": {},
     "source": [
      "The working random access memory required to process each channel comprises of the\n",
      "target grid in _uv_ plane and potentially the cached convolution functions. The target grid\n",
      "size is double precision complex number with a double precision weight; therefore:"
     ]
    },
    {
     "cell_type": "code",
     "collapsed": false,
     "input": [
      "TargetGridSize= NPix**2 * (16+8) * byte\n",
      "TargetGridSize"
     ],
     "language": "python",
     "metadata": {},
     "outputs": [
      {
       "latex": [
        "$$\\frac{384 B_{{max}}^{2} byte}{D_{s}^{2} N_{facet}^{2}}$$"
       ],
       "metadata": {},
       "output_type": "pyout",
       "png": "[encoded data removed]",
       "prompt_number": 137,
       "text": [
        "           2     \n",
        "384\u22c5B_{max} \u22c5byte\n",
        "\u2500\u2500\u2500\u2500\u2500\u2500\u2500\u2500\u2500\u2500\u2500\u2500\u2500\u2500\u2500\u2500\u2500\n",
        "     2        2  \n",
        "  D_s \u22c5N_facet   "
       ]
      }
     ],
     "prompt_number": 137
    },
    {
     "cell_type": "code",
     "collapsed": false,
     "input": [
      "calcTel('SKA1Low', TargetGridSize.subs({Nfacet: 1}).subs({byte: 1/u.giga*S('Gbyte')}),ev=2)"
     ],
     "language": "python",
     "metadata": {},
     "outputs": [
      {
       "latex": [
        "$$\\begin{Bmatrix}SKA_{1 {Low}} : 3.1 Gbyte\\end{Bmatrix}$$"
       ],
       "metadata": {},
       "output_type": "pyout",
       "png": "[encoded data removed]",
       "prompt_number": 138,
       "text": [
        "{SKA_1_{Low}: 3.1\u22c5Gbyte}"
       ]
      }
     ],
     "prompt_number": 138
    },
    {
     "cell_type": "code",
     "collapsed": false,
     "input": [
      "calcTel('SKA1Mid', TargetGridSize.subs({Nfacet: 1}).subs({byte: 1/u.giga*S('Gbyte')}),ev=2)"
     ],
     "language": "python",
     "metadata": {},
     "outputs": [
      {
       "latex": [
        "$$\\begin{Bmatrix}SKA_{1 {Mid}} : 68.0 Gbyte\\end{Bmatrix}$$"
       ],
       "metadata": {},
       "output_type": "pyout",
       "png": "[encoded data removed]",
       "prompt_number": 139,
       "text": [
        "{SKA_1_{Mid}: 68.0\u22c5Gbyte}"
       ]
      }
     ],
     "prompt_number": 139
    },
    {
     "cell_type": "code",
     "collapsed": false,
     "input": [
      "calcTel('SKA1Survey', TargetGridSize.subs({Nfacet: 1}).subs({byte: 1/u.giga*S('Gbyte')}),ev=2)"
     ],
     "language": "python",
     "metadata": {},
     "outputs": [
      {
       "latex": [
        "$$\\begin{Bmatrix}SKA_{1 {Survey}} : 4.3 Gbyte\\end{Bmatrix}$$"
       ],
       "metadata": {},
       "output_type": "pyout",
       "png": "[encoded data removed]",
       "prompt_number": 140,
       "text": [
        "{SKA_1_{Survey}: 4.3\u22c5Gbyte}"
       ]
      }
     ],
     "prompt_number": 140
    },
    {
     "cell_type": "markdown",
     "metadata": {},
     "source": [
      "Keeping all of the target grids in memory for the most challenging case would\n",
      "require (factor of four to account for four polarisation products) the following amount of Random Access Memory:"
     ]
    },
    {
     "cell_type": "code",
     "collapsed": false,
     "input": [
      "MaximalGridSize = (TargetGridSize * Nf * Npol * Nbeam)\n",
      "MaximalGridSize"
     ],
     "language": "python",
     "metadata": {},
     "outputs": [
      {
       "latex": [
        "$$\\frac{1536 N_{f} N_{{beam}} byte}{D_{s}^{2} N_{facet}^{2}} B_{{max}}^{2}$$"
       ],
       "metadata": {},
       "output_type": "pyout",
       "png": "[encoded data removed]",
       "prompt_number": 141,
       "text": [
        "            2                  \n",
        "1536\u22c5B_{max} \u22c5N_f\u22c5N_{beam}\u22c5byte\n",
        "\u2500\u2500\u2500\u2500\u2500\u2500\u2500\u2500\u2500\u2500\u2500\u2500\u2500\u2500\u2500\u2500\u2500\u2500\u2500\u2500\u2500\u2500\u2500\u2500\u2500\u2500\u2500\u2500\u2500\u2500\u2500\n",
        "            2        2         \n",
        "         D_s \u22c5N_facet          "
       ]
      }
     ],
     "prompt_number": 141
    },
    {
     "cell_type": "code",
     "collapsed": false,
     "input": [
      "calcTel('SKA1Low', MaximalGridSize.subs({Nfacet:1, byte: 1/u.peta*S('PB')}), ev=3)"
     ],
     "language": "python",
     "metadata": {},
     "outputs": [
      {
       "latex": [
        "$$\\begin{Bmatrix}SKA_{1 {Low}} : 3.29 PB\\end{Bmatrix}$$"
       ],
       "metadata": {},
       "output_type": "pyout",
       "png": "[encoded data removed]",
       "prompt_number": 142,
       "text": [
        "{SKA_1_{Low}: 3.29\u22c5PB}"
       ]
      }
     ],
     "prompt_number": 142
    },
    {
     "cell_type": "code",
     "collapsed": false,
     "input": [
      "calcTel('SKA1Mid', MaximalGridSize.subs({Nfacet:1, byte: 1/u.peta*S('PB')}), ev=3)"
     ],
     "language": "python",
     "metadata": {},
     "outputs": [
      {
       "latex": [
        "$$\\begin{Bmatrix}SKA_{1 {Mid}} : 71.6 PB\\end{Bmatrix}$$"
       ],
       "metadata": {},
       "output_type": "pyout",
       "png": "[encoded data removed]",
       "prompt_number": 143,
       "text": [
        "{SKA_1_{Mid}: 71.6\u22c5PB}"
       ]
      }
     ],
     "prompt_number": 143
    },
    {
     "cell_type": "code",
     "collapsed": false,
     "input": [
      "calcTel('SKA1Survey', MaximalGridSize.subs({Nfacet:1, byte: 1/u.peta*S('PB')}), ev=3)"
     ],
     "language": "python",
     "metadata": {},
     "outputs": [
      {
       "latex": [
        "$$\\begin{Bmatrix}SKA_{1 {Survey}} : 161.0 PB\\end{Bmatrix}$$"
       ],
       "metadata": {},
       "output_type": "pyout",
       "png": "[encoded data removed]",
       "prompt_number": 144,
       "text": [
        "{SKA_1_{Survey}: 161.0\u22c5PB}"
       ]
      }
     ],
     "prompt_number": 144
    },
    {
     "cell_type": "markdown",
     "metadata": {},
     "source": [
      "It should be noted that current top supercomputers have around 1 PB of RAM.\n",
      "\n",
      "The RAM requirement can be, however, be reduced both sequentially processing the channels rather than keeping all of them going at the same time, or by employing faceting [SKAO SE note: i.e., making $N_{facet} > 1$]."
     ]
    },
    {
     "cell_type": "heading",
     "level": 3,
     "metadata": {},
     "source": [
      "Computation intensity in respect of working memory"
     ]
    },
    {
     "cell_type": "heading",
     "level": 4,
     "metadata": {},
     "source": [
      "Keeping all target grids in memory"
     ]
    },
    {
     "cell_type": "markdown",
     "metadata": {},
     "source": [
      "If we wanted to keep all target grids in memory we would need the following balance\n",
      "between ops and memory:"
     ]
    },
    {
     "cell_type": "code",
     "collapsed": false,
     "input": [
      "FiWorkingMem = ( (CompRate * 20 ) ) / MaximalGridSize;\n",
      "FiWorkingMem"
     ],
     "language": "python",
     "metadata": {},
     "outputs": [
      {
       "latex": [
        "$$\\frac{D_{s}^{2} N_{facet}^{2}}{1536 B_{{max}}^{2} N_{f} N_{{beam}} byte} \\left(\\frac{6400 B_{{max}}^{2} N_{f} N_{{beam}} Ops \\log{\\left (\\frac{16 B_{{max}}^{2}}{D_{s}^{2} N_{facet}^{2}} \\right )}}{D_{s}^{2} t_{{wsnap}} \\log{\\left (2 \\right )}} + \\frac{64000 B_{{max}}^{2} N_{f} N_{{beam}}}{D_{s}^{2} t_{{wsnap}}} Ops + \\frac{320 N_{a}}{t_{{dump}}} N_{f} N_{facet}^{2} N_{{beam}} Ops \\left(NAA^{2} + \\frac{16 \\lambda^{2}}{D_{s}^{2}} \\left(\\frac{3.30330625 \\cdot 10^{-10} B_{{max}}^{2}}{D_{s}^{2} s^{2}} t_{{wsnap}}^{2} + \\frac{3.53480070788792 \\cdot 10^{-6} \\lambda}{D_{s} s^{\\frac{3}{2}}} \\left(\\frac{B_{{max}} t_{{wsnap}}}{\\lambda}\\right)^{\\frac{3}{2}}\\right)\\right) \\left(N_{a} - 1\\right)\\right)$$"
       ],
       "metadata": {},
       "output_type": "pyout",
       "png": "[encoded data removed]",
       "prompt_number": 145,
       "text": [
        "              \u239b                                                               \n",
        "              \u239c                                                               \n",
        "              \u239c                                                               \n",
        "              \u239c                                                               \n",
        "              \u239c                                                               \n",
        "              \u239c                                  \u239b           2 \u239e              \n",
        "              \u239c            2                     \u239c 16\u22c5B_{max}  \u239f              \n",
        "              \u239c6400\u22c5B_{max} \u22c5N_f\u22c5N_{beam}\u22c5Ops\u22c5log\u239c\u2500\u2500\u2500\u2500\u2500\u2500\u2500\u2500\u2500\u2500\u2500\u2500\u2500\u239f              \n",
        "              \u239c                                  \u239c   2        2\u239f              \n",
        "   2        2 \u239c                                  \u239dD_s \u22c5N_facet \u23a0   64000\u22c5B_{ma\n",
        "D_s \u22c5N_facet \u22c5\u239c\u2500\u2500\u2500\u2500\u2500\u2500\u2500\u2500\u2500\u2500\u2500\u2500\u2500\u2500\u2500\u2500\u2500\u2500\u2500\u2500\u2500\u2500\u2500\u2500\u2500\u2500\u2500\u2500\u2500\u2500\u2500\u2500\u2500\u2500\u2500\u2500\u2500\u2500\u2500\u2500\u2500\u2500\u2500\u2500\u2500\u2500\u2500\u2500\u2500 + \u2500\u2500\u2500\u2500\u2500\u2500\u2500\u2500\u2500\u2500\u2500\n",
        "              \u239c                 2                                             \n",
        "              \u239d              D_s \u22c5t_{wsnap}\u22c5log(2)                          D_\n",
        "\u2500\u2500\u2500\u2500\u2500\u2500\u2500\u2500\u2500\u2500\u2500\u2500\u2500\u2500\u2500\u2500\u2500\u2500\u2500\u2500\u2500\u2500\u2500\u2500\u2500\u2500\u2500\u2500\u2500\u2500\u2500\u2500\u2500\u2500\u2500\u2500\u2500\u2500\u2500\u2500\u2500\u2500\u2500\u2500\u2500\u2500\u2500\u2500\u2500\u2500\u2500\u2500\u2500\u2500\u2500\u2500\u2500\u2500\u2500\u2500\u2500\u2500\u2500\u2500\u2500\u2500\u2500\u2500\u2500\u2500\u2500\u2500\u2500\u2500\u2500\u2500\u2500\u2500\n",
        "                                                                              \n",
        "                                                                              \n",
        "\n",
        "                                                        \u239b                   \u239b \n",
        "                                                        \u239c                   \u239c \n",
        "                                                        \u239c                   \u239c \n",
        "                                                        \u239c                 2 \u239c3\n",
        "                                                        \u239c       16\u22c5\\lambda \u22c5\u239c\u2500\n",
        "                                                        \u239c                   \u239c \n",
        "                                         2              \u239c   2               \u239d \n",
        "                       320\u22c5N\u2090\u22c5N_f\u22c5N_facet \u22c5N_{beam}\u22c5Ops\u22c5\u239cNAA  + \u2500\u2500\u2500\u2500\u2500\u2500\u2500\u2500\u2500\u2500\u2500\u2500\u2500\u2500\n",
        "  2                                                     \u239c                     \n",
        "x} \u22c5N_f\u22c5N_{beam}\u22c5Ops                                    \u239d                     \n",
        "\u2500\u2500\u2500\u2500\u2500\u2500\u2500\u2500\u2500\u2500\u2500\u2500\u2500\u2500\u2500\u2500\u2500\u2500\u2500\u2500 + \u2500\u2500\u2500\u2500\u2500\u2500\u2500\u2500\u2500\u2500\u2500\u2500\u2500\u2500\u2500\u2500\u2500\u2500\u2500\u2500\u2500\u2500\u2500\u2500\u2500\u2500\u2500\u2500\u2500\u2500\u2500\u2500\u2500\u2500\u2500\u2500\u2500\u2500\u2500\u2500\u2500\u2500\u2500\u2500\u2500\u2500\u2500\u2500\u2500\u2500\u2500\u2500\u2500\u2500\u2500\n",
        " 2                                                                            \n",
        "s \u22c5t_{wsnap}                                                                  \n",
        "\u2500\u2500\u2500\u2500\u2500\u2500\u2500\u2500\u2500\u2500\u2500\u2500\u2500\u2500\u2500\u2500\u2500\u2500\u2500\u2500\u2500\u2500\u2500\u2500\u2500\u2500\u2500\u2500\u2500\u2500\u2500\u2500\u2500\u2500\u2500\u2500\u2500\u2500\u2500\u2500\u2500\u2500\u2500\u2500\u2500\u2500\u2500\u2500\u2500\u2500\u2500\u2500\u2500\u2500\u2500\u2500\u2500\u2500\u2500\u2500\u2500\u2500\u2500\u2500\u2500\u2500\u2500\u2500\u2500\u2500\u2500\u2500\u2500\u2500\u2500\u2500\u2500\u2500\n",
        "                                             2                                \n",
        "                                 1536\u22c5B_{max} \u22c5N_f\u22c5N_{beam}\u22c5byte              \n",
        "\n",
        "                                                                              \n",
        "                                                                \u239bB_{max}\u22c5t_{ws\n",
        "                     2          2   3.53480070788792e-6\u22c5\\lambda\u22c5\u239c\u2500\u2500\u2500\u2500\u2500\u2500\u2500\u2500\u2500\u2500\u2500\u2500\u2500\n",
        ".30330625e-10\u22c5B_{max} \u22c5t_{wsnap}                                \u239d     \\lambda \n",
        "\u2500\u2500\u2500\u2500\u2500\u2500\u2500\u2500\u2500\u2500\u2500\u2500\u2500\u2500\u2500\u2500\u2500\u2500\u2500\u2500\u2500\u2500\u2500\u2500\u2500\u2500\u2500\u2500\u2500\u2500\u2500\u2500\u2500 + \u2500\u2500\u2500\u2500\u2500\u2500\u2500\u2500\u2500\u2500\u2500\u2500\u2500\u2500\u2500\u2500\u2500\u2500\u2500\u2500\u2500\u2500\u2500\u2500\u2500\u2500\u2500\u2500\u2500\u2500\u2500\u2500\u2500\u2500\u2500\u2500\u2500\u2500\u2500\u2500\u2500\u2500\n",
        "               2  2                                           3/2             \n",
        "            D_s \u22c5s                                       D_s\u22c5s                \n",
        "\u2500\u2500\u2500\u2500\u2500\u2500\u2500\u2500\u2500\u2500\u2500\u2500\u2500\u2500\u2500\u2500\u2500\u2500\u2500\u2500\u2500\u2500\u2500\u2500\u2500\u2500\u2500\u2500\u2500\u2500\u2500\u2500\u2500\u2500\u2500\u2500\u2500\u2500\u2500\u2500\u2500\u2500\u2500\u2500\u2500\u2500\u2500\u2500\u2500\u2500\u2500\u2500\u2500\u2500\u2500\u2500\u2500\u2500\u2500\u2500\u2500\u2500\u2500\u2500\u2500\u2500\u2500\u2500\u2500\u2500\u2500\u2500\u2500\u2500\u2500\u2500\u2500\u2500\n",
        "                                      2                                       \n",
        "                                   D_s                                        \n",
        "\u2500\u2500\u2500\u2500\u2500\u2500\u2500\u2500\u2500\u2500\u2500\u2500\u2500\u2500\u2500\u2500\u2500\u2500\u2500\u2500\u2500\u2500\u2500\u2500\u2500\u2500\u2500\u2500\u2500\u2500\u2500\u2500\u2500\u2500\u2500\u2500\u2500\u2500\u2500\u2500\u2500\u2500\u2500\u2500\u2500\u2500\u2500\u2500\u2500\u2500\u2500\u2500\u2500\u2500\u2500\u2500\u2500\u2500\u2500\u2500\u2500\u2500\u2500\u2500\u2500\u2500\u2500\u2500\u2500\u2500\u2500\u2500\u2500\u2500\u2500\u2500\u2500\u2500\n",
        "                 t_{dump}                                                     \n",
        "                                                                              \n",
        "\u2500\u2500\u2500\u2500\u2500\u2500\u2500\u2500\u2500\u2500\u2500\u2500\u2500\u2500\u2500\u2500\u2500\u2500\u2500\u2500\u2500\u2500\u2500\u2500\u2500\u2500\u2500\u2500\u2500\u2500\u2500\u2500\u2500\u2500\u2500\u2500\u2500\u2500\u2500\u2500\u2500\u2500\u2500\u2500\u2500\u2500\u2500\u2500\u2500\u2500\u2500\u2500\u2500\u2500\u2500\u2500\u2500\u2500\u2500\u2500\u2500\u2500\u2500\u2500\u2500\u2500\u2500\u2500\u2500\u2500\u2500\u2500\u2500\u2500\u2500\u2500\u2500\u2500\n",
        "                                                                              \n",
        "                                                                              \n",
        "\n",
        "     3/2\u239e\u239e         \u239e\n",
        "nap}\u239e   \u239f\u239f         \u239f\n",
        "\u2500\u2500\u2500\u2500\u239f   \u239f\u239f         \u239f\n",
        "    \u23a0   \u239f\u239f         \u239f\n",
        "\u2500\u2500\u2500\u2500\u2500\u2500\u2500\u2500\u239f\u239f         \u239f\n",
        "        \u239f\u239f         \u239f\n",
        "        \u23a0\u239f         \u239f\n",
        "\u2500\u2500\u2500\u2500\u2500\u2500\u2500\u2500\u2500\u239f\u22c5(N\u2090 - 1)\u239f\n",
        "         \u239f         \u239f\n",
        "         \u23a0         \u239f\n",
        "\u2500\u2500\u2500\u2500\u2500\u2500\u2500\u2500\u2500\u2500\u2500\u2500\u2500\u2500\u2500\u2500\u2500\u2500\u2500\u239f\n",
        "                   \u239f\n",
        "                   \u23a0\n",
        "\u2500\u2500\u2500\u2500\u2500\u2500\u2500\u2500\u2500\u2500\u2500\u2500\u2500\u2500\u2500\u2500\u2500\u2500\u2500\u2500\n",
        "                    \n",
        "                    "
       ]
      }
     ],
     "prompt_number": 145
    },
    {
     "cell_type": "code",
     "collapsed": false,
     "input": [
      "# The backslash (\\) indicates that the line is continued in the next line\n",
      "FiWorkingMem\\\n",
      ".subs(telescope_info['SKA1Low'])\\\n",
      ".subs({Nfacet: 1, twsnap: SKA1Low_twsnap})\\\n",
      ".subs({byte: 1/u.giga*S('Gbyte')}).evalf(3)"
     ],
     "language": "python",
     "metadata": {},
     "outputs": [
      {
       "latex": [
        "$$\\frac{9.92 \\cdot 10^{9} Ops}{Gbyte s}$$"
       ],
       "metadata": {},
       "output_type": "pyout",
       "png": "[encoded data removed]",
       "prompt_number": 146,
       "text": [
        "9.92e+9\u22c5Ops\n",
        "\u2500\u2500\u2500\u2500\u2500\u2500\u2500\u2500\u2500\u2500\u2500\n",
        "  Gbyte\u22c5s  "
       ]
      }
     ],
     "prompt_number": 146
    },
    {
     "cell_type": "code",
     "collapsed": false,
     "input": [
      "# The backslash (\\) indicates that the line is continued in the next line\n",
      "FiWorkingMem\\\n",
      ".subs(telescope_info['SKA1Mid'])\\\n",
      ".subs({Nfacet: 1, twsnap: SKA1Mid_twsnap})\\\n",
      ".subs({byte: 1/u.giga*S('Gbyte')}).evalf(3)\n"
     ],
     "language": "python",
     "metadata": {},
     "outputs": [
      {
       "latex": [
        "$$\\frac{1.47 \\cdot 10^{9} Ops}{Gbyte s}$$"
       ],
       "metadata": {},
       "output_type": "pyout",
       "png": "[encoded data removed]",
       "prompt_number": 147,
       "text": [
        "1.47e+9\u22c5Ops\n",
        "\u2500\u2500\u2500\u2500\u2500\u2500\u2500\u2500\u2500\u2500\u2500\n",
        "  Gbyte\u22c5s  "
       ]
      }
     ],
     "prompt_number": 147
    },
    {
     "cell_type": "code",
     "collapsed": false,
     "input": [
      "# The backslash (\\) indicates that the line is continued in the next line\n",
      "FiWorkingMem\\\n",
      ".subs(telescope_info['SKA1Survey'])\\\n",
      ".subs({Nfacet: 1, twsnap: SKA1Survey_twsnap})\\\n",
      ".subs({byte: 1/u.giga*S('Gbyte')}).evalf(3)\n"
     ],
     "language": "python",
     "metadata": {},
     "outputs": [
      {
       "latex": [
        "$$\\frac{5.14 \\cdot 10^{8} Ops}{Gbyte s}$$"
       ],
       "metadata": {},
       "output_type": "pyout",
       "png": "[encoded data removed]",
       "prompt_number": 148,
       "text": [
        "5.14e+8\u22c5Ops\n",
        "\u2500\u2500\u2500\u2500\u2500\u2500\u2500\u2500\u2500\u2500\u2500\n",
        "  Gbyte\u22c5s  "
       ]
      }
     ],
     "prompt_number": 148
    },
    {
     "cell_type": "markdown",
     "metadata": {},
     "source": [
      "This is lower than the expected ratio of typical machines at deployment time. The assumption therefore should be that not all grids are kept in memory."
     ]
    },
    {
     "cell_type": "heading",
     "level": 4,
     "metadata": {},
     "source": [
      "Suffling target grids: I/O intensity"
     ]
    },
    {
     "cell_type": "markdown",
     "metadata": {},
     "source": [
      "If we assume target grids are shuffled out of main memory each snapshot once to account for sequential processing, the the I/O intensity is:"
     ]
    },
    {
     "cell_type": "code",
     "collapsed": false,
     "input": [
      "CiWorkingMem = ( (CompRate*20) * twsnap ) / (MaximalGridSize)\n",
      "CiWorkingMem"
     ],
     "language": "python",
     "metadata": {},
     "outputs": [
      {
       "latex": [
        "$$\\frac{D_{s}^{2} N_{facet}^{2} t_{{wsnap}}}{1536 B_{{max}}^{2} N_{f} N_{{beam}} byte} \\left(\\frac{6400 B_{{max}}^{2} N_{f} N_{{beam}} Ops \\log{\\left (\\frac{16 B_{{max}}^{2}}{D_{s}^{2} N_{facet}^{2}} \\right )}}{D_{s}^{2} t_{{wsnap}} \\log{\\left (2 \\right )}} + \\frac{64000 B_{{max}}^{2} N_{f} N_{{beam}}}{D_{s}^{2} t_{{wsnap}}} Ops + \\frac{320 N_{a}}{t_{{dump}}} N_{f} N_{facet}^{2} N_{{beam}} Ops \\left(NAA^{2} + \\frac{16 \\lambda^{2}}{D_{s}^{2}} \\left(\\frac{3.30330625 \\cdot 10^{-10} B_{{max}}^{2}}{D_{s}^{2} s^{2}} t_{{wsnap}}^{2} + \\frac{3.53480070788792 \\cdot 10^{-6} \\lambda}{D_{s} s^{\\frac{3}{2}}} \\left(\\frac{B_{{max}} t_{{wsnap}}}{\\lambda}\\right)^{\\frac{3}{2}}\\right)\\right) \\left(N_{a} - 1\\right)\\right)$$"
       ],
       "metadata": {},
       "output_type": "pyout",
       "png": "[encoded data removed]",
       "prompt_number": 149,
       "text": [
        "                        \u239b                                                     \n",
        "                        \u239c                                                     \n",
        "                        \u239c                                                     \n",
        "                        \u239c                                                     \n",
        "                        \u239c                                                     \n",
        "                        \u239c                                  \u239b           2 \u239e    \n",
        "                        \u239c            2                     \u239c 16\u22c5B_{max}  \u239f    \n",
        "                        \u239c6400\u22c5B_{max} \u22c5N_f\u22c5N_{beam}\u22c5Ops\u22c5log\u239c\u2500\u2500\u2500\u2500\u2500\u2500\u2500\u2500\u2500\u2500\u2500\u2500\u2500\u239f    \n",
        "                        \u239c                                  \u239c   2        2\u239f    \n",
        "   2        2           \u239c                                  \u239dD_s \u22c5N_facet \u23a0   6\n",
        "D_s \u22c5N_facet \u22c5t_{wsnap}\u22c5\u239c\u2500\u2500\u2500\u2500\u2500\u2500\u2500\u2500\u2500\u2500\u2500\u2500\u2500\u2500\u2500\u2500\u2500\u2500\u2500\u2500\u2500\u2500\u2500\u2500\u2500\u2500\u2500\u2500\u2500\u2500\u2500\u2500\u2500\u2500\u2500\u2500\u2500\u2500\u2500\u2500\u2500\u2500\u2500\u2500\u2500\u2500\u2500\u2500\u2500 + \u2500\n",
        "                        \u239c                 2                                   \n",
        "                        \u239d              D_s \u22c5t_{wsnap}\u22c5log(2)                  \n",
        "\u2500\u2500\u2500\u2500\u2500\u2500\u2500\u2500\u2500\u2500\u2500\u2500\u2500\u2500\u2500\u2500\u2500\u2500\u2500\u2500\u2500\u2500\u2500\u2500\u2500\u2500\u2500\u2500\u2500\u2500\u2500\u2500\u2500\u2500\u2500\u2500\u2500\u2500\u2500\u2500\u2500\u2500\u2500\u2500\u2500\u2500\u2500\u2500\u2500\u2500\u2500\u2500\u2500\u2500\u2500\u2500\u2500\u2500\u2500\u2500\u2500\u2500\u2500\u2500\u2500\u2500\u2500\u2500\u2500\u2500\u2500\u2500\u2500\u2500\u2500\u2500\u2500\u2500\n",
        "                                                                              \n",
        "                                                                              \n",
        "\n",
        "                                                                  \u239b           \n",
        "                                                                  \u239c           \n",
        "                                                                  \u239c           \n",
        "                                                                  \u239c           \n",
        "                                                                  \u239c       16\u22c5\\\n",
        "                                                                  \u239c           \n",
        "                                                   2              \u239c   2       \n",
        "                                 320\u22c5N\u2090\u22c5N_f\u22c5N_facet \u22c5N_{beam}\u22c5Ops\u22c5\u239cNAA  + \u2500\u2500\u2500\u2500\n",
        "            2                                                     \u239c           \n",
        "4000\u22c5B_{max} \u22c5N_f\u22c5N_{beam}\u22c5Ops                                    \u239d           \n",
        "\u2500\u2500\u2500\u2500\u2500\u2500\u2500\u2500\u2500\u2500\u2500\u2500\u2500\u2500\u2500\u2500\u2500\u2500\u2500\u2500\u2500\u2500\u2500\u2500\u2500\u2500\u2500\u2500\u2500\u2500 + \u2500\u2500\u2500\u2500\u2500\u2500\u2500\u2500\u2500\u2500\u2500\u2500\u2500\u2500\u2500\u2500\u2500\u2500\u2500\u2500\u2500\u2500\u2500\u2500\u2500\u2500\u2500\u2500\u2500\u2500\u2500\u2500\u2500\u2500\u2500\u2500\u2500\u2500\u2500\u2500\u2500\u2500\u2500\u2500\u2500\n",
        "           2                                                                  \n",
        "        D_s \u22c5t_{wsnap}                                                        \n",
        "\u2500\u2500\u2500\u2500\u2500\u2500\u2500\u2500\u2500\u2500\u2500\u2500\u2500\u2500\u2500\u2500\u2500\u2500\u2500\u2500\u2500\u2500\u2500\u2500\u2500\u2500\u2500\u2500\u2500\u2500\u2500\u2500\u2500\u2500\u2500\u2500\u2500\u2500\u2500\u2500\u2500\u2500\u2500\u2500\u2500\u2500\u2500\u2500\u2500\u2500\u2500\u2500\u2500\u2500\u2500\u2500\u2500\u2500\u2500\u2500\u2500\u2500\u2500\u2500\u2500\u2500\u2500\u2500\u2500\u2500\u2500\u2500\u2500\u2500\u2500\u2500\u2500\u2500\n",
        "                                                  2                           \n",
        "                                      1536\u22c5B_{max} \u22c5N_f\u22c5N_{beam}\u22c5byte         \n",
        "\n",
        "        \u239b                                                                     \n",
        "        \u239c                                                                 \u239bB_{\n",
        "        \u239c                      2          2   3.53480070788792e-6\u22c5\\lambda\u22c5\u239c\u2500\u2500\u2500\n",
        "      2 \u239c3.30330625e-10\u22c5B_{max} \u22c5t_{wsnap}                                \u239d   \n",
        "lambda \u22c5\u239c\u2500\u2500\u2500\u2500\u2500\u2500\u2500\u2500\u2500\u2500\u2500\u2500\u2500\u2500\u2500\u2500\u2500\u2500\u2500\u2500\u2500\u2500\u2500\u2500\u2500\u2500\u2500\u2500\u2500\u2500\u2500\u2500\u2500\u2500 + \u2500\u2500\u2500\u2500\u2500\u2500\u2500\u2500\u2500\u2500\u2500\u2500\u2500\u2500\u2500\u2500\u2500\u2500\u2500\u2500\u2500\u2500\u2500\u2500\u2500\u2500\u2500\u2500\u2500\u2500\u2500\u2500\n",
        "        \u239c                2  2                                           3/2   \n",
        "        \u239d             D_s \u22c5s                                       D_s\u22c5s      \n",
        "\u2500\u2500\u2500\u2500\u2500\u2500\u2500\u2500\u2500\u2500\u2500\u2500\u2500\u2500\u2500\u2500\u2500\u2500\u2500\u2500\u2500\u2500\u2500\u2500\u2500\u2500\u2500\u2500\u2500\u2500\u2500\u2500\u2500\u2500\u2500\u2500\u2500\u2500\u2500\u2500\u2500\u2500\u2500\u2500\u2500\u2500\u2500\u2500\u2500\u2500\u2500\u2500\u2500\u2500\u2500\u2500\u2500\u2500\u2500\u2500\u2500\u2500\u2500\u2500\u2500\u2500\u2500\u2500\u2500\u2500\u2500\u2500\u2500\u2500\u2500\u2500\u2500\u2500\n",
        "                                                2                             \n",
        "                                             D_s                              \n",
        "\u2500\u2500\u2500\u2500\u2500\u2500\u2500\u2500\u2500\u2500\u2500\u2500\u2500\u2500\u2500\u2500\u2500\u2500\u2500\u2500\u2500\u2500\u2500\u2500\u2500\u2500\u2500\u2500\u2500\u2500\u2500\u2500\u2500\u2500\u2500\u2500\u2500\u2500\u2500\u2500\u2500\u2500\u2500\u2500\u2500\u2500\u2500\u2500\u2500\u2500\u2500\u2500\u2500\u2500\u2500\u2500\u2500\u2500\u2500\u2500\u2500\u2500\u2500\u2500\u2500\u2500\u2500\u2500\u2500\u2500\u2500\u2500\u2500\u2500\u2500\u2500\u2500\u2500\n",
        "                           t_{dump}                                           \n",
        "                                                                              \n",
        "\u2500\u2500\u2500\u2500\u2500\u2500\u2500\u2500\u2500\u2500\u2500\u2500\u2500\u2500\u2500\u2500\u2500\u2500\u2500\u2500\u2500\u2500\u2500\u2500\u2500\u2500\u2500\u2500\u2500\u2500\u2500\u2500\u2500\u2500\u2500\u2500\u2500\u2500\u2500\u2500\u2500\u2500\u2500\u2500\u2500\u2500\u2500\u2500\u2500\u2500\u2500\u2500\u2500\u2500\u2500\u2500\u2500\u2500\u2500\u2500\u2500\u2500\u2500\u2500\u2500\u2500\u2500\u2500\u2500\u2500\u2500\u2500\u2500\u2500\u2500\u2500\u2500\u2500\n",
        "                                                                              \n",
        "                                                                              \n",
        "\n",
        "               3/2\u239e\u239e         \u239e\n",
        "max}\u22c5t_{wsnap}\u239e   \u239f\u239f         \u239f\n",
        "\u2500\u2500\u2500\u2500\u2500\u2500\u2500\u2500\u2500\u2500\u2500\u2500\u2500\u2500\u239f   \u239f\u239f         \u239f\n",
        "  \\lambda     \u23a0   \u239f\u239f         \u239f\n",
        "\u2500\u2500\u2500\u2500\u2500\u2500\u2500\u2500\u2500\u2500\u2500\u2500\u2500\u2500\u2500\u2500\u2500\u2500\u239f\u239f         \u239f\n",
        "                  \u239f\u239f         \u239f\n",
        "                  \u23a0\u239f         \u239f\n",
        "\u2500\u2500\u2500\u2500\u2500\u2500\u2500\u2500\u2500\u2500\u2500\u2500\u2500\u2500\u2500\u2500\u2500\u2500\u2500\u239f\u22c5(N\u2090 - 1)\u239f\n",
        "                   \u239f         \u239f\n",
        "                   \u23a0         \u239f\n",
        "\u2500\u2500\u2500\u2500\u2500\u2500\u2500\u2500\u2500\u2500\u2500\u2500\u2500\u2500\u2500\u2500\u2500\u2500\u2500\u2500\u2500\u2500\u2500\u2500\u2500\u2500\u2500\u2500\u2500\u239f\n",
        "                             \u239f\n",
        "                             \u23a0\n",
        "\u2500\u2500\u2500\u2500\u2500\u2500\u2500\u2500\u2500\u2500\u2500\u2500\u2500\u2500\u2500\u2500\u2500\u2500\u2500\u2500\u2500\u2500\u2500\u2500\u2500\u2500\u2500\u2500\u2500\u2500\n",
        "                              \n",
        "                              "
       ]
      }
     ],
     "prompt_number": 149
    },
    {
     "cell_type": "code",
     "collapsed": false,
     "input": [
      "calcTel('SKA1Low', CiWorkingMem.subs({Nfacet: 1, twsnap: SKA1Low_twsnap}), ev=3)"
     ],
     "language": "python",
     "metadata": {},
     "outputs": [
      {
       "latex": [
        "$$\\begin{Bmatrix}SKA_{1 {Low}} : \\frac{407.0 Ops}{byte}\\end{Bmatrix}$$"
       ],
       "metadata": {},
       "output_type": "pyout",
       "png": "[encoded data removed]",
       "prompt_number": 150,
       "text": [
        "\u23a7             407.0\u22c5Ops\u23ab\n",
        "\u23a8SKA_1_{Low}: \u2500\u2500\u2500\u2500\u2500\u2500\u2500\u2500\u2500\u23ac\n",
        "\u23a9                byte  \u23ad"
       ]
      }
     ],
     "prompt_number": 150
    },
    {
     "cell_type": "code",
     "collapsed": false,
     "input": [
      "calcTel('SKA1Mid', CiWorkingMem.subs({Nfacet: 1, twsnap: SKA1Mid_twsnap}), ev=3)"
     ],
     "language": "python",
     "metadata": {},
     "outputs": [
      {
       "latex": [
        "$$\\begin{Bmatrix}SKA_{1 {Mid}} : \\frac{302.0 Ops}{byte}\\end{Bmatrix}$$"
       ],
       "metadata": {},
       "output_type": "pyout",
       "png": "[encoded data removed]",
       "prompt_number": 151,
       "text": [
        "\u23a7             302.0\u22c5Ops\u23ab\n",
        "\u23a8SKA_1_{Mid}: \u2500\u2500\u2500\u2500\u2500\u2500\u2500\u2500\u2500\u23ac\n",
        "\u23a9                byte  \u23ad"
       ]
      }
     ],
     "prompt_number": 151
    },
    {
     "cell_type": "code",
     "collapsed": false,
     "input": [
      "calcTel('SKA1Survey', CiWorkingMem.subs({Nfacet: 1, twsnap: SKA1Survey_twsnap}), ev=3)"
     ],
     "language": "python",
     "metadata": {},
     "outputs": [
      {
       "latex": [
        "$$\\begin{Bmatrix}SKA_{1 {Survey}} : \\frac{285.0 Ops}{byte}\\end{Bmatrix}$$"
       ],
       "metadata": {},
       "output_type": "pyout",
       "png": "[encoded data removed]",
       "prompt_number": 152,
       "text": [
        "\u23a7                285.0\u22c5Ops\u23ab\n",
        "\u23a8SKA_1_{Survey}: \u2500\u2500\u2500\u2500\u2500\u2500\u2500\u2500\u2500\u23ac\n",
        "\u23a9                   byte  \u23ad"
       ]
      }
     ],
     "prompt_number": 152
    },
    {
     "cell_type": "markdown",
     "metadata": {},
     "source": [
      "These are relatively small numbers. This amount of shuffling can be avoided by processing all snapshots of a single frequency channel in sequence and accumulating the result. In this case these numbers are increased by the number of snapshots in observation (usually 60 of more)."
     ]
    },
    {
     "cell_type": "heading",
     "level": 3,
     "metadata": {},
     "source": [
      "Working memory limited machine"
     ]
    },
    {
     "cell_type": "markdown",
     "metadata": {},
     "source": [
      "Say we have 1PByte of working memory for target grids. We can get the following number of traget grids and fraction of total:"
     ]
    },
    {
     "cell_type": "code",
     "collapsed": false,
     "input": [
      "TargetMemBudget = 1*u.peta*byte\n",
      "Ngrids = TargetMemBudget/TargetGridSize\n",
      "Ngrids"
     ],
     "language": "python",
     "metadata": {},
     "outputs": [
      {
       "latex": [
        "$$\\frac{7812500000000 D_{s}^{2} N_{facet}^{2}}{3 B_{{max}}^{2}}$$"
       ],
       "metadata": {},
       "output_type": "pyout",
       "png": "[encoded data removed]",
       "prompt_number": 153,
       "text": [
        "                 2        2\n",
        "7812500000000\u22c5D_s \u22c5N_facet \n",
        "\u2500\u2500\u2500\u2500\u2500\u2500\u2500\u2500\u2500\u2500\u2500\u2500\u2500\u2500\u2500\u2500\u2500\u2500\u2500\u2500\u2500\u2500\u2500\u2500\u2500\u2500\u2500\n",
        "                  2        \n",
        "         3\u22c5B_{max}         "
       ]
      }
     ],
     "prompt_number": 153
    },
    {
     "cell_type": "code",
     "collapsed": false,
     "input": [
      "eval_for_telescopes(Ngrids.subs({Nfacet:1}), ev=3)"
     ],
     "language": "python",
     "metadata": {},
     "outputs": [
      {
       "latex": [
        "$$\\begin{Bmatrix}SKA_{1 {Low}} : 3.19 \\cdot 10^{5}, & SKA_{1 {Mid}} : 1.46 \\cdot 10^{4}, & SKA_{1 {Survey}} : 2.34 \\cdot 10^{5}\\end{Bmatrix}$$"
       ],
       "metadata": {},
       "output_type": "pyout",
       "png": "[encoded data removed]",
       "prompt_number": 154,
       "text": [
        "{SKA_1_{Low}: 3.19e+5, SKA_1_{Mid}: 1.46e+4, SKA_1_{Survey}: 2.34e+5}"
       ]
      }
     ],
     "prompt_number": 154
    },
    {
     "cell_type": "code",
     "collapsed": false,
     "input": [
      "eval_for_telescopes((MaximalGridSize/TargetMemBudget ).subs({Nfacet:1}), ev=3)"
     ],
     "language": "python",
     "metadata": {},
     "outputs": [
      {
       "latex": [
        "$$\\begin{Bmatrix}SKA_{1 {Low}} : 3.29, & SKA_{1 {Mid}} : 71.6, & SKA_{1 {Survey}} : 161.0\\end{Bmatrix}$$"
       ],
       "metadata": {},
       "output_type": "pyout",
       "png": "[encoded data removed]",
       "prompt_number": 155,
       "text": [
        "{SKA_1_{Low}: 3.29, SKA_1_{Mid}: 71.6, SKA_1_{Survey}: 161.0}"
       ]
      }
     ],
     "prompt_number": 155
    },
    {
     "cell_type": "markdown",
     "metadata": {},
     "source": [
      "We can then calculate the number of FLOPs needed to work on each target grid:"
     ]
    },
    {
     "cell_type": "code",
     "collapsed": false,
     "input": [
      "FlopsPerGrid = ((CompRate * 20)/Ngrids)\n",
      "FlopsPerGrid"
     ],
     "language": "python",
     "metadata": {},
     "outputs": [
      {
       "latex": [
        "$$\\frac{3 B_{{max}}^{2}}{7812500000000 D_{s}^{2} N_{facet}^{2}} \\left(\\frac{6400 B_{{max}}^{2} N_{f} N_{{beam}} Ops \\log{\\left (\\frac{16 B_{{max}}^{2}}{D_{s}^{2} N_{facet}^{2}} \\right )}}{D_{s}^{2} t_{{wsnap}} \\log{\\left (2 \\right )}} + \\frac{64000 B_{{max}}^{2} N_{f} N_{{beam}}}{D_{s}^{2} t_{{wsnap}}} Ops + \\frac{320 N_{a}}{t_{{dump}}} N_{f} N_{facet}^{2} N_{{beam}} Ops \\left(NAA^{2} + \\frac{16 \\lambda^{2}}{D_{s}^{2}} \\left(\\frac{3.30330625 \\cdot 10^{-10} B_{{max}}^{2}}{D_{s}^{2} s^{2}} t_{{wsnap}}^{2} + \\frac{3.53480070788792 \\cdot 10^{-6} \\lambda}{D_{s} s^{\\frac{3}{2}}} \\left(\\frac{B_{{max}} t_{{wsnap}}}{\\lambda}\\right)^{\\frac{3}{2}}\\right)\\right) \\left(N_{a} - 1\\right)\\right)$$"
       ],
       "metadata": {},
       "output_type": "pyout",
       "png": "[encoded data removed]",
       "prompt_number": 156,
       "text": [
        "           \u239b                                                                  \n",
        "           \u239c                                                                  \n",
        "           \u239c                                                                  \n",
        "           \u239c                                                                  \n",
        "           \u239c                                                                  \n",
        "           \u239c                                  \u239b           2 \u239e                 \n",
        "           \u239c            2                     \u239c 16\u22c5B_{max}  \u239f                 \n",
        "           \u239c6400\u22c5B_{max} \u22c5N_f\u22c5N_{beam}\u22c5Ops\u22c5log\u239c\u2500\u2500\u2500\u2500\u2500\u2500\u2500\u2500\u2500\u2500\u2500\u2500\u2500\u239f                 \n",
        "           \u239c                                  \u239c   2        2\u239f                2\n",
        "         2 \u239c                                  \u239dD_s \u22c5N_facet \u23a0   64000\u22c5B_{max} \n",
        "3\u22c5B_{max} \u22c5\u239c\u2500\u2500\u2500\u2500\u2500\u2500\u2500\u2500\u2500\u2500\u2500\u2500\u2500\u2500\u2500\u2500\u2500\u2500\u2500\u2500\u2500\u2500\u2500\u2500\u2500\u2500\u2500\u2500\u2500\u2500\u2500\u2500\u2500\u2500\u2500\u2500\u2500\u2500\u2500\u2500\u2500\u2500\u2500\u2500\u2500\u2500\u2500\u2500\u2500 + \u2500\u2500\u2500\u2500\u2500\u2500\u2500\u2500\u2500\u2500\u2500\u2500\u2500\u2500\n",
        "           \u239c                 2                                              2 \n",
        "           \u239d              D_s \u22c5t_{wsnap}\u22c5log(2)                          D_s \u22c5\n",
        "\u2500\u2500\u2500\u2500\u2500\u2500\u2500\u2500\u2500\u2500\u2500\u2500\u2500\u2500\u2500\u2500\u2500\u2500\u2500\u2500\u2500\u2500\u2500\u2500\u2500\u2500\u2500\u2500\u2500\u2500\u2500\u2500\u2500\u2500\u2500\u2500\u2500\u2500\u2500\u2500\u2500\u2500\u2500\u2500\u2500\u2500\u2500\u2500\u2500\u2500\u2500\u2500\u2500\u2500\u2500\u2500\u2500\u2500\u2500\u2500\u2500\u2500\u2500\u2500\u2500\u2500\u2500\u2500\u2500\u2500\u2500\u2500\u2500\u2500\u2500\u2500\u2500\u2500\n",
        "                                                                              \n",
        "                                                                              \n",
        "\n",
        "                                                     \u239b                   \u239b    \n",
        "                                                     \u239c                   \u239c    \n",
        "                                                     \u239c                   \u239c    \n",
        "                                                     \u239c                 2 \u239c3.30\n",
        "                                                     \u239c       16\u22c5\\lambda \u22c5\u239c\u2500\u2500\u2500\u2500\n",
        "                                                     \u239c                   \u239c    \n",
        "                                      2              \u239c   2               \u239d    \n",
        "                    320\u22c5N\u2090\u22c5N_f\u22c5N_facet \u22c5N_{beam}\u22c5Ops\u22c5\u239cNAA  + \u2500\u2500\u2500\u2500\u2500\u2500\u2500\u2500\u2500\u2500\u2500\u2500\u2500\u2500\u2500\u2500\u2500\n",
        "                                                     \u239c                        \n",
        "\u22c5N_f\u22c5N_{beam}\u22c5Ops                                    \u239d                        \n",
        "\u2500\u2500\u2500\u2500\u2500\u2500\u2500\u2500\u2500\u2500\u2500\u2500\u2500\u2500\u2500\u2500\u2500 + \u2500\u2500\u2500\u2500\u2500\u2500\u2500\u2500\u2500\u2500\u2500\u2500\u2500\u2500\u2500\u2500\u2500\u2500\u2500\u2500\u2500\u2500\u2500\u2500\u2500\u2500\u2500\u2500\u2500\u2500\u2500\u2500\u2500\u2500\u2500\u2500\u2500\u2500\u2500\u2500\u2500\u2500\u2500\u2500\u2500\u2500\u2500\u2500\u2500\u2500\u2500\u2500\u2500\u2500\u2500\u2500\u2500\u2500\n",
        "                                                                              \n",
        "t_{wsnap}                                                                     \n",
        "\u2500\u2500\u2500\u2500\u2500\u2500\u2500\u2500\u2500\u2500\u2500\u2500\u2500\u2500\u2500\u2500\u2500\u2500\u2500\u2500\u2500\u2500\u2500\u2500\u2500\u2500\u2500\u2500\u2500\u2500\u2500\u2500\u2500\u2500\u2500\u2500\u2500\u2500\u2500\u2500\u2500\u2500\u2500\u2500\u2500\u2500\u2500\u2500\u2500\u2500\u2500\u2500\u2500\u2500\u2500\u2500\u2500\u2500\u2500\u2500\u2500\u2500\u2500\u2500\u2500\u2500\u2500\u2500\u2500\u2500\u2500\u2500\u2500\u2500\u2500\u2500\u2500\u2500\n",
        "                                                   2        2                 \n",
        "                                  7812500000000\u22c5D_s \u22c5N_facet                  \n",
        "\n",
        "                                                                              \n",
        "                                                             \u239bB_{max}\u22c5t_{wsnap\n",
        "                  2          2   3.53480070788792e-6\u22c5\\lambda\u22c5\u239c\u2500\u2500\u2500\u2500\u2500\u2500\u2500\u2500\u2500\u2500\u2500\u2500\u2500\u2500\u2500\u2500\n",
        "330625e-10\u22c5B_{max} \u22c5t_{wsnap}                                \u239d     \\lambda    \n",
        "\u2500\u2500\u2500\u2500\u2500\u2500\u2500\u2500\u2500\u2500\u2500\u2500\u2500\u2500\u2500\u2500\u2500\u2500\u2500\u2500\u2500\u2500\u2500\u2500\u2500\u2500\u2500\u2500\u2500\u2500 + \u2500\u2500\u2500\u2500\u2500\u2500\u2500\u2500\u2500\u2500\u2500\u2500\u2500\u2500\u2500\u2500\u2500\u2500\u2500\u2500\u2500\u2500\u2500\u2500\u2500\u2500\u2500\u2500\u2500\u2500\u2500\u2500\u2500\u2500\u2500\u2500\u2500\u2500\u2500\u2500\u2500\u2500\u2500\u2500\u2500\n",
        "            2  2                                           3/2                \n",
        "         D_s \u22c5s                                       D_s\u22c5s                   \n",
        "\u2500\u2500\u2500\u2500\u2500\u2500\u2500\u2500\u2500\u2500\u2500\u2500\u2500\u2500\u2500\u2500\u2500\u2500\u2500\u2500\u2500\u2500\u2500\u2500\u2500\u2500\u2500\u2500\u2500\u2500\u2500\u2500\u2500\u2500\u2500\u2500\u2500\u2500\u2500\u2500\u2500\u2500\u2500\u2500\u2500\u2500\u2500\u2500\u2500\u2500\u2500\u2500\u2500\u2500\u2500\u2500\u2500\u2500\u2500\u2500\u2500\u2500\u2500\u2500\u2500\u2500\u2500\u2500\u2500\u2500\u2500\u2500\u2500\u2500\u2500\u2500\u2500\u2500\n",
        "                                   2                                          \n",
        "                                D_s                                           \n",
        "\u2500\u2500\u2500\u2500\u2500\u2500\u2500\u2500\u2500\u2500\u2500\u2500\u2500\u2500\u2500\u2500\u2500\u2500\u2500\u2500\u2500\u2500\u2500\u2500\u2500\u2500\u2500\u2500\u2500\u2500\u2500\u2500\u2500\u2500\u2500\u2500\u2500\u2500\u2500\u2500\u2500\u2500\u2500\u2500\u2500\u2500\u2500\u2500\u2500\u2500\u2500\u2500\u2500\u2500\u2500\u2500\u2500\u2500\u2500\u2500\u2500\u2500\u2500\u2500\u2500\u2500\u2500\u2500\u2500\u2500\u2500\u2500\u2500\u2500\u2500\u2500\u2500\u2500\n",
        "              t_{dump}                                                        \n",
        "                                                                              \n",
        "\u2500\u2500\u2500\u2500\u2500\u2500\u2500\u2500\u2500\u2500\u2500\u2500\u2500\u2500\u2500\u2500\u2500\u2500\u2500\u2500\u2500\u2500\u2500\u2500\u2500\u2500\u2500\u2500\u2500\u2500\u2500\u2500\u2500\u2500\u2500\u2500\u2500\u2500\u2500\u2500\u2500\u2500\u2500\u2500\u2500\u2500\u2500\u2500\u2500\u2500\u2500\u2500\u2500\u2500\u2500\u2500\u2500\u2500\u2500\u2500\u2500\u2500\u2500\u2500\u2500\u2500\u2500\u2500\u2500\u2500\u2500\u2500\u2500\u2500\u2500\u2500\u2500\u2500\n",
        "                                                                              \n",
        "                                                                              \n",
        "\n",
        "  3/2\u239e\u239e         \u239e\n",
        "}\u239e   \u239f\u239f         \u239f\n",
        "\u2500\u239f   \u239f\u239f         \u239f\n",
        " \u23a0   \u239f\u239f         \u239f\n",
        "\u2500\u2500\u2500\u2500\u2500\u239f\u239f         \u239f\n",
        "     \u239f\u239f         \u239f\n",
        "     \u23a0\u239f         \u239f\n",
        "\u2500\u2500\u2500\u2500\u2500\u2500\u239f\u22c5(N\u2090 - 1)\u239f\n",
        "      \u239f         \u239f\n",
        "      \u23a0         \u239f\n",
        "\u2500\u2500\u2500\u2500\u2500\u2500\u2500\u2500\u2500\u2500\u2500\u2500\u2500\u2500\u2500\u2500\u239f\n",
        "                \u239f\n",
        "                \u23a0\n",
        "\u2500\u2500\u2500\u2500\u2500\u2500\u2500\u2500\u2500\u2500\u2500\u2500\u2500\u2500\u2500\u2500\u2500\n",
        "                 \n",
        "                 "
       ]
      }
     ],
     "prompt_number": 156
    },
    {
     "cell_type": "code",
     "collapsed": false,
     "input": [
      "calcTel('SKA1Low', FlopsPerGrid.subs({Nfacet: 1, twsnap: SKA1Low_twsnap}) , ev=3)"
     ],
     "language": "python",
     "metadata": {},
     "outputs": [
      {
       "latex": [
        "$$\\begin{Bmatrix}SKA_{1 {Low}} : \\frac{Ops}{s} 1.02 \\cdot 10^{11}\\end{Bmatrix}$$"
       ],
       "metadata": {},
       "output_type": "pyout",
       "png": "[encoded data removed]",
       "prompt_number": 157,
       "text": [
        "\u23a7             1.02e+11\u22c5Ops\u23ab\n",
        "\u23a8SKA_1_{Low}: \u2500\u2500\u2500\u2500\u2500\u2500\u2500\u2500\u2500\u2500\u2500\u2500\u23ac\n",
        "\u23a9                  s      \u23ad"
       ]
      }
     ],
     "prompt_number": 157
    },
    {
     "cell_type": "code",
     "collapsed": false,
     "input": [
      "calcTel('SKA1Mid', FlopsPerGrid.subs({Nfacet: 1, twsnap: SKA1Mid_twsnap}) , ev=3)"
     ],
     "language": "python",
     "metadata": {},
     "outputs": [
      {
       "latex": [
        "$$\\begin{Bmatrix}SKA_{1 {Mid}} : \\frac{Ops}{s} 7.2 \\cdot 10^{12}\\end{Bmatrix}$$"
       ],
       "metadata": {},
       "output_type": "pyout",
       "png": "[encoded data removed]",
       "prompt_number": 158,
       "text": [
        "\u23a7             7.2e+12\u22c5Ops\u23ab\n",
        "\u23a8SKA_1_{Mid}: \u2500\u2500\u2500\u2500\u2500\u2500\u2500\u2500\u2500\u2500\u2500\u23ac\n",
        "\u23a9                  s     \u23ad"
       ]
      }
     ],
     "prompt_number": 158
    },
    {
     "cell_type": "code",
     "collapsed": false,
     "input": [
      "calcTel('SKA1Survey', FlopsPerGrid.subs({Nfacet: 1, twsnap: SKA1Survey_twsnap}) , ev=3)"
     ],
     "language": "python",
     "metadata": {},
     "outputs": [
      {
       "latex": [
        "$$\\begin{Bmatrix}SKA_{1 {Survey}} : \\frac{Ops}{s} 3.53 \\cdot 10^{11}\\end{Bmatrix}$$"
       ],
       "metadata": {},
       "output_type": "pyout",
       "png": "[encoded data removed]",
       "prompt_number": 159,
       "text": [
        "\u23a7                3.53e+11\u22c5Ops\u23ab\n",
        "\u23a8SKA_1_{Survey}: \u2500\u2500\u2500\u2500\u2500\u2500\u2500\u2500\u2500\u2500\u2500\u2500\u23ac\n",
        "\u23a9                     s      \u23ad"
       ]
      }
     ],
     "prompt_number": 159
    },
    {
     "cell_type": "heading",
     "level": 2,
     "metadata": {},
     "source": [
      "Computing the convolution kernels"
     ]
    },
    {
     "cell_type": "markdown",
     "metadata": {},
     "source": [
      "Computing the convolution functions is a fairly complex process which in detail depends\n",
      "on the effects that are corrected for using the convolution function in the _uv_-plane.\n",
      "However, the major computational complexity arises if the convolution functions need\n",
      "to be computed on a baseline-by-baseline basis to account for the different A responses\n",
      "of the two receiving elements forming the baseline. In this case the major computational\n",
      "cost is the FFT between the image plane where combination of effects is done by\n",
      "multiplication. The computational cost can therefore be estimated as:"
     ]
    },
    {
     "cell_type": "code",
     "collapsed": false,
     "input": [
      "NGCF, FNGCF, Qgcf = symbols(\"N_{GCF} F_{NGCF} Q_{gcf}\")"
     ],
     "language": "python",
     "metadata": {},
     "outputs": [],
     "prompt_number": 160
    },
    {
     "cell_type": "code",
     "collapsed": false,
     "input": [
      "gcfc1 = {\n",
      "    NGCF: sqrt(NAA**2 + NGW**2),\n",
      "    FNGCF: Qgcf * NGCF\n",
      "}\n",
      "gcfc1"
     ],
     "language": "python",
     "metadata": {},
     "outputs": [
      {
       "latex": [
        "$$\\begin{Bmatrix}F_{{NGCF}} : N_{{GCF}} Q_{{gcf}}, & N_{{GCF}} : \\sqrt{NAA^{2} + \\frac{16 \\lambda^{2}}{D_{s}^{2}} \\left(\\frac{3.30330625 \\cdot 10^{-10} B_{{max}}^{2}}{D_{s}^{2} s^{2}} t_{{wsnap}}^{2} + \\frac{3.53480070788792 \\cdot 10^{-6} \\lambda}{D_{s} s^{\\frac{3}{2}}} \\left(\\frac{B_{{max}} t_{{wsnap}}}{\\lambda}\\right)^{\\frac{3}{2}}\\right)}\\end{Bmatrix}$$"
       ],
       "metadata": {},
       "output_type": "pyout",
       "png": "[encoded data removed]",
       "prompt_number": 161,
       "text": [
        "\u23a7                                               ______________________________\n",
        "\u23aa                                              \u2571                    \u239b         \n",
        "\u23aa                                             \u2571                     \u239c         \n",
        "\u23aa                                            \u2571                      \u239c         \n",
        "\u23aa                                           \u2571                     2 \u239c3.3033062\n",
        "\u23a8                                          \u2571            16\u22c5\\lambda \u22c5\u239c\u2500\u2500\u2500\u2500\u2500\u2500\u2500\u2500\u2500\n",
        "\u23aa                                         \u2571                         \u239c         \n",
        "\u23aa                                        \u2571          2               \u239d         \n",
        "\u23aaF_{NGCF}: N_{GCF}\u22c5Q_{gcf}, N_{GCF}:    \u2571        NAA  + \u2500\u2500\u2500\u2500\u2500\u2500\u2500\u2500\u2500\u2500\u2500\u2500\u2500\u2500\u2500\u2500\u2500\u2500\u2500\u2500\u2500\u2500\n",
        "\u23aa                                      \u2571                                      \n",
        "\u23a9                                    \u2572\u2571                                       \n",
        "\n",
        "______________________________________________________________________________\n",
        "                                                                           3/2\n",
        "                                                        \u239bB_{max}\u22c5t_{wsnap}\u239e   \n",
        "             2          2   3.53480070788792e-6\u22c5\\lambda\u22c5\u239c\u2500\u2500\u2500\u2500\u2500\u2500\u2500\u2500\u2500\u2500\u2500\u2500\u2500\u2500\u2500\u2500\u2500\u239f   \n",
        "5e-10\u22c5B_{max} \u22c5t_{wsnap}                                \u239d     \\lambda     \u23a0   \n",
        "\u2500\u2500\u2500\u2500\u2500\u2500\u2500\u2500\u2500\u2500\u2500\u2500\u2500\u2500\u2500\u2500\u2500\u2500\u2500\u2500\u2500\u2500\u2500\u2500\u2500 + \u2500\u2500\u2500\u2500\u2500\u2500\u2500\u2500\u2500\u2500\u2500\u2500\u2500\u2500\u2500\u2500\u2500\u2500\u2500\u2500\u2500\u2500\u2500\u2500\u2500\u2500\u2500\u2500\u2500\u2500\u2500\u2500\u2500\u2500\u2500\u2500\u2500\u2500\u2500\u2500\u2500\u2500\u2500\u2500\u2500\u2500\u2500\u2500\u2500\u2500\n",
        "       2  2                                           3/2                     \n",
        "    D_s \u22c5s                                       D_s\u22c5s                        \n",
        "\u2500\u2500\u2500\u2500\u2500\u2500\u2500\u2500\u2500\u2500\u2500\u2500\u2500\u2500\u2500\u2500\u2500\u2500\u2500\u2500\u2500\u2500\u2500\u2500\u2500\u2500\u2500\u2500\u2500\u2500\u2500\u2500\u2500\u2500\u2500\u2500\u2500\u2500\u2500\u2500\u2500\u2500\u2500\u2500\u2500\u2500\u2500\u2500\u2500\u2500\u2500\u2500\u2500\u2500\u2500\u2500\u2500\u2500\u2500\u2500\u2500\u2500\u2500\u2500\u2500\u2500\u2500\u2500\u2500\u2500\u2500\u2500\u2500\u2500\u2500\u2500\u2500\u2500\n",
        "                              2                                               \n",
        "                           D_s                                                \n",
        "\n",
        "__\u23ab\n",
        "\u239e \u23aa\n",
        "\u239f \u23aa\n",
        "\u239f \u23aa\n",
        "\u239f \u23aa\n",
        "\u239f \u23ac\n",
        "\u239f \u23aa\n",
        "\u23a0 \u23aa\n",
        "\u2500 \u23aa\n",
        "  \u23aa\n",
        "  \u23ad"
       ]
      }
     ],
     "prompt_number": 161
    },
    {
     "cell_type": "code",
     "collapsed": false,
     "input": [
      "Tion, Qfcv = symbols(\"T_{ionsph} Q_{fcv}\")\n",
      "gcfrate = FFTOpsPerPixel * (FNGCF ** 2) * log2(FNGCF ** 2) / Tion * Nbl * Qfcv / 10 * Nfacet ** 2\n",
      "gcfrate"
     ],
     "language": "python",
     "metadata": {},
     "outputs": [
      {
       "latex": [
        "$$\\frac{F_{{NGCF}}^{2} N_{a} N_{facet}^{2} Q_{{fcv}} Ops \\left(N_{a} - 1\\right) \\log{\\left (F_{{NGCF}}^{2} \\right )}}{4 T_{{ionsph}} \\log{\\left (2 \\right )}}$$"
       ],
       "metadata": {},
       "output_type": "pyout",
       "png": "[encoded data removed]",
       "prompt_number": 162,
       "text": [
        "        2           2                         \u239b        2\u239e\n",
        "F_{NGCF} \u22c5N\u2090\u22c5N_facet \u22c5Q_{fcv}\u22c5Ops\u22c5(N\u2090 - 1)\u22c5log\u239dF_{NGCF} \u23a0\n",
        "\u2500\u2500\u2500\u2500\u2500\u2500\u2500\u2500\u2500\u2500\u2500\u2500\u2500\u2500\u2500\u2500\u2500\u2500\u2500\u2500\u2500\u2500\u2500\u2500\u2500\u2500\u2500\u2500\u2500\u2500\u2500\u2500\u2500\u2500\u2500\u2500\u2500\u2500\u2500\u2500\u2500\u2500\u2500\u2500\u2500\u2500\u2500\u2500\u2500\u2500\u2500\u2500\u2500\u2500\u2500\u2500\u2500\n",
        "                   4\u22c5T_{ionsph}\u22c5log(2)                   "
       ]
      }
     ],
     "prompt_number": 162
    },
    {
     "cell_type": "markdown",
     "metadata": {},
     "source": [
      "The ratio of operation count for imaging (FFT+Reprojection+Gridding) to operation count for the convolution kernel can be expresed as a function of the inospheric timescale:"
     ]
    },
    {
     "cell_type": "code",
     "collapsed": false,
     "input": [
      "ConvToGridRatio = gcfrate/GridRate\n",
      "ConvToGridRatio.subs(gcfc1)"
     ],
     "language": "python",
     "metadata": {},
     "outputs": [
      {
       "latex": [
        "$$\\frac{Q_{{fcv}} Q_{{gcf}}^{2} t_{{dump}}}{64 N_{f} N_{{beam}} T_{{ionsph}} \\log{\\left (2 \\right )}} \\log{\\left (Q_{{gcf}}^{2} \\left(NAA^{2} + \\frac{16 \\lambda^{2}}{D_{s}^{2}} \\left(\\frac{3.30330625 \\cdot 10^{-10} B_{{max}}^{2}}{D_{s}^{2} s^{2}} t_{{wsnap}}^{2} + \\frac{3.53480070788792 \\cdot 10^{-6} \\lambda}{D_{s} s^{\\frac{3}{2}}} \\left(\\frac{B_{{max}} t_{{wsnap}}}{\\lambda}\\right)^{\\frac{3}{2}}\\right)\\right) \\right )}$$"
       ],
       "metadata": {},
       "output_type": "pyout",
       "png": "[encoded data removed]",
       "prompt_number": 163,
       "text": [
        "                             \u239b         \u239b                   \u239b                  \n",
        "                             \u239c         \u239c                   \u239c                  \n",
        "                             \u239c         \u239c                   \u239c                  \n",
        "                             \u239c         \u239c                 2 \u239c3.30330625e-10\u22c5B_{\n",
        "                             \u239c         \u239c       16\u22c5\\lambda \u22c5\u239c\u2500\u2500\u2500\u2500\u2500\u2500\u2500\u2500\u2500\u2500\u2500\u2500\u2500\u2500\u2500\u2500\u2500\u2500\n",
        "                             \u239c         \u239c                   \u239c                2 \n",
        "               2             \u239c       2 \u239c   2               \u239d             D_s \u22c5\n",
        "Q_{fcv}\u22c5Q_{gcf} \u22c5t_{dump}\u22c5   \u239cQ_{gcf} \u22c5\u239cNAA  + \u2500\u2500\u2500\u2500\u2500\u2500\u2500\u2500\u2500\u2500\u2500\u2500\u2500\u2500\u2500\u2500\u2500\u2500\u2500\u2500\u2500\u2500\u2500\u2500\u2500\u2500\u2500\u2500\u2500\u2500\u2500\n",
        "                             \u239c         \u239c                                      \n",
        "                             \u239d         \u239d                                      \n",
        "                                                                              \n",
        "                          log                                                 \n",
        "\u2500\u2500\u2500\u2500\u2500\u2500\u2500\u2500\u2500\u2500\u2500\u2500\u2500\u2500\u2500\u2500\u2500\u2500\u2500\u2500\u2500\u2500\u2500\u2500\u2500\u2500\u2500\u2500\u2500\u2500\u2500\u2500\u2500\u2500\u2500\u2500\u2500\u2500\u2500\u2500\u2500\u2500\u2500\u2500\u2500\u2500\u2500\u2500\u2500\u2500\u2500\u2500\u2500\u2500\u2500\u2500\u2500\u2500\u2500\u2500\u2500\u2500\u2500\u2500\u2500\u2500\u2500\u2500\u2500\u2500\u2500\u2500\u2500\u2500\u2500\u2500\u2500\u2500\n",
        "                                                          64\u22c5N_f\u22c5N_{beam}\u22c5T_{i\n",
        "\n",
        "                                                                  3/2\u239e\u239e\u239e\n",
        "                                               \u239bB_{max}\u22c5t_{wsnap}\u239e   \u239f\u239f\u239f\n",
        "    2          2   3.53480070788792e-6\u22c5\\lambda\u22c5\u239c\u2500\u2500\u2500\u2500\u2500\u2500\u2500\u2500\u2500\u2500\u2500\u2500\u2500\u2500\u2500\u2500\u2500\u239f   \u239f\u239f\u239f\n",
        "max} \u22c5t_{wsnap}                                \u239d     \\lambda     \u23a0   \u239f\u239f\u239f\n",
        "\u2500\u2500\u2500\u2500\u2500\u2500\u2500\u2500\u2500\u2500\u2500\u2500\u2500\u2500\u2500\u2500 + \u2500\u2500\u2500\u2500\u2500\u2500\u2500\u2500\u2500\u2500\u2500\u2500\u2500\u2500\u2500\u2500\u2500\u2500\u2500\u2500\u2500\u2500\u2500\u2500\u2500\u2500\u2500\u2500\u2500\u2500\u2500\u2500\u2500\u2500\u2500\u2500\u2500\u2500\u2500\u2500\u2500\u2500\u2500\u2500\u2500\u2500\u2500\u2500\u2500\u2500\u239f\u239f\u239f\n",
        " 2                                           3/2                     \u239f\u239f\u239f\n",
        "s                                       D_s\u22c5s                        \u23a0\u239f\u239f\n",
        "\u2500\u2500\u2500\u2500\u2500\u2500\u2500\u2500\u2500\u2500\u2500\u2500\u2500\u2500\u2500\u2500\u2500\u2500\u2500\u2500\u2500\u2500\u2500\u2500\u2500\u2500\u2500\u2500\u2500\u2500\u2500\u2500\u2500\u2500\u2500\u2500\u2500\u2500\u2500\u2500\u2500\u2500\u2500\u2500\u2500\u2500\u2500\u2500\u2500\u2500\u2500\u2500\u2500\u2500\u2500\u2500\u2500\u2500\u2500\u2500\u2500\u2500\u2500\u2500\u2500\u2500\u2500\u2500\u2500\u2500\u239f\u239f\n",
        "                     2                                                \u239f\u239f\n",
        "                  D_s                                                 \u23a0\u23a0\n",
        "                                                                        \n",
        "                                                                        \n",
        "\u2500\u2500\u2500\u2500\u2500\u2500\u2500\u2500\u2500\u2500\u2500\u2500\u2500\u2500\u2500\u2500\u2500\u2500\u2500\u2500\u2500\u2500\u2500\u2500\u2500\u2500\u2500\u2500\u2500\u2500\u2500\u2500\u2500\u2500\u2500\u2500\u2500\u2500\u2500\u2500\u2500\u2500\u2500\u2500\u2500\u2500\u2500\u2500\u2500\u2500\u2500\u2500\u2500\u2500\u2500\u2500\u2500\u2500\u2500\u2500\u2500\u2500\u2500\u2500\u2500\u2500\u2500\u2500\u2500\u2500\u2500\u2500\n",
        "onsph}\u22c5log(2)                                                           "
       ]
      }
     ],
     "prompt_number": 163
    },
    {
     "cell_type": "code",
     "collapsed": false,
     "input": [
      "calcTel('SKA1Low', ConvToGridRatio.subs(gcfc1).subs(\n",
      "    {twsnap: SKA1Low_twsnap, Nfacet: 1, Qfcv: 1, Qgcf: 8}\n",
      "), ev=3)"
     ],
     "language": "python",
     "metadata": {},
     "outputs": [
      {
       "latex": [
        "$$\\begin{Bmatrix}SKA_{1 {Low}} : \\frac{s}{T_{{ionsph}}} 3.0 \\cdot 10^{-5}\\end{Bmatrix}$$"
       ],
       "metadata": {},
       "output_type": "pyout",
       "png": "[encoded data removed]",
       "prompt_number": 164,
       "text": [
        "\u23a7              3.0e-5\u22c5s \u23ab\n",
        "\u23a8SKA_1_{Low}: \u2500\u2500\u2500\u2500\u2500\u2500\u2500\u2500\u2500\u2500\u23ac\n",
        "\u23a9             T_{ionsph}\u23ad"
       ]
      }
     ],
     "prompt_number": 164
    },
    {
     "cell_type": "code",
     "collapsed": false,
     "input": [
      "calcTel('SKA1Mid', ConvToGridRatio.subs(gcfc1).subs(\n",
      "    {twsnap: SKA1Mid_twsnap, Nfacet: 1, Qfcv: 1, Qgcf: 8}\n",
      "), ev=3)"
     ],
     "language": "python",
     "metadata": {},
     "outputs": [
      {
       "latex": [
        "$$\\begin{Bmatrix}SKA_{1 {Mid}} : \\frac{s}{T_{{ionsph}}} 4.7 \\cdot 10^{-6}\\end{Bmatrix}$$"
       ],
       "metadata": {},
       "output_type": "pyout",
       "png": "[encoded data removed]",
       "prompt_number": 165,
       "text": [
        "\u23a7              4.7e-6\u22c5s \u23ab\n",
        "\u23a8SKA_1_{Mid}: \u2500\u2500\u2500\u2500\u2500\u2500\u2500\u2500\u2500\u2500\u23ac\n",
        "\u23a9             T_{ionsph}\u23ad"
       ]
      }
     ],
     "prompt_number": 165
    },
    {
     "cell_type": "code",
     "collapsed": false,
     "input": [
      "calcTel('SKA1Survey', ConvToGridRatio.subs(gcfc1).subs(\n",
      "    {twsnap: SKA1Survey_twsnap, Nfacet: 1, Qfcv: 1, Qgcf: 8}\n",
      "), ev=3)"
     ],
     "language": "python",
     "metadata": {},
     "outputs": [
      {
       "latex": [
        "$$\\begin{Bmatrix}SKA_{1 {Survey}} : \\frac{s}{T_{{ionsph}}} 4.66 \\cdot 10^{-7}\\end{Bmatrix}$$"
       ],
       "metadata": {},
       "output_type": "pyout",
       "png": "[encoded data removed]",
       "prompt_number": 166,
       "text": [
        "\u23a7                4.66e-7\u22c5s \u23ab\n",
        "\u23a8SKA_1_{Survey}: \u2500\u2500\u2500\u2500\u2500\u2500\u2500\u2500\u2500\u2500\u23ac\n",
        "\u23a9                T_{ionsph}\u23ad"
       ]
      }
     ],
     "prompt_number": 166
    },
    {
     "cell_type": "markdown",
     "metadata": {},
     "source": [
      "If we assume 60 second ionospheric time, we get the following operation rates (per half-major-cycle):"
     ]
    },
    {
     "cell_type": "code",
     "collapsed": false,
     "input": [
      "calcTel('SKA1Low', ConvToGridRatio.subs(gcfc1).subs(\n",
      "    {twsnap: SKA1Low_twsnap, Nfacet: 1, Qfcv: 1, Qgcf: 8, Tion: 60*u.s}\n",
      "), ev=3)"
     ],
     "language": "python",
     "metadata": {},
     "outputs": [
      {
       "latex": [
        "$$\\begin{Bmatrix}SKA_{1 {Low}} : 5.0 \\cdot 10^{-7}\\end{Bmatrix}$$"
       ],
       "metadata": {},
       "output_type": "pyout",
       "png": "[encoded data removed]",
       "prompt_number": 167,
       "text": [
        "{SKA_1_{Low}: 5.0e-7}"
       ]
      }
     ],
     "prompt_number": 167
    },
    {
     "cell_type": "code",
     "collapsed": false,
     "input": [
      "calcTel('SKA1Mid', ConvToGridRatio.subs(gcfc1).subs(\n",
      "    {twsnap: SKA1Mid_twsnap, Nfacet: 1, Qfcv: 1, Qgcf: 8, Tion: 60*u.s}\n",
      "), ev=3)"
     ],
     "language": "python",
     "metadata": {},
     "outputs": [
      {
       "latex": [
        "$$\\begin{Bmatrix}SKA_{1 {Mid}} : 7.83 \\cdot 10^{-8}\\end{Bmatrix}$$"
       ],
       "metadata": {},
       "output_type": "pyout",
       "png": "[encoded data removed]",
       "prompt_number": 168,
       "text": [
        "{SKA_1_{Mid}: 7.83e-8}"
       ]
      }
     ],
     "prompt_number": 168
    },
    {
     "cell_type": "code",
     "collapsed": false,
     "input": [
      "calcTel('SKA1Survey', ConvToGridRatio.subs(gcfc1).subs(\n",
      "    {twsnap: SKA1Survey_twsnap, Nfacet: 1, Qfcv: 1, Qgcf: 8, Tion: 60*u.s}\n",
      "), ev=3)"
     ],
     "language": "python",
     "metadata": {},
     "outputs": [
      {
       "latex": [
        "$$\\begin{Bmatrix}SKA_{1 {Survey}} : 7.77 \\cdot 10^{-9}\\end{Bmatrix}$$"
       ],
       "metadata": {},
       "output_type": "pyout",
       "png": "[encoded data removed]",
       "prompt_number": 169,
       "text": [
        "{SKA_1_{Survey}: 7.77e-9}"
       ]
      }
     ],
     "prompt_number": 169
    },
    {
     "cell_type": "heading",
     "level": 2,
     "metadata": {},
     "source": [
      "Scenario: SKA1-Mid with 120km Baselines"
     ]
    },
    {
     "cell_type": "markdown",
     "metadata": {},
     "source": [
      "In-prep ECP: SKA1-Mid to have 120\u00a0km maximum baseline and proportionally longer dump time:"
     ]
    },
    {
     "cell_type": "code",
     "collapsed": false,
     "input": [
      "SKA1MidECP = telescope_info['SKA1Mid'].copy()\n",
      "SKA1MidECP[tdump] = 0.08*200/120*u.s\n",
      "SKA1MidECP[Bmax] = 120*u.km\n",
      "SKA1MidECP"
     ],
     "language": "python",
     "metadata": {},
     "outputs": [
      {
       "latex": [
        "$$\\begin{Bmatrix}B_{{max}} : 120000 m, & D_{s} : 15 m, & NAA : 9, & N_{a} : 254, & N_{f} : 262144, & N_{{beam}} : 1, & \\lambda : 0.258441774137931 m, & t_{{dump}} : 0.133333333333333 s\\end{Bmatrix}$$"
       ],
       "metadata": {},
       "output_type": "pyout",
       "png": "[encoded data removed]",
       "prompt_number": 203,
       "text": [
        "{B_{max}: 120000\u22c5m, D_s: 15\u22c5m, NAA: 9, N\u2090: 254, N_f: 262144, N_{beam}: 1, \\lam\n",
        "bda: 0.258441774137931\u22c5m, t_{dump}: 0.133333333333333\u22c5s}"
       ]
      }
     ],
     "prompt_number": 203
    },
    {
     "cell_type": "markdown",
     "metadata": {},
     "source": [
      "The optimal _w_-kernel/snapshot duration changes to:"
     ]
    },
    {
     "cell_type": "code",
     "collapsed": false,
     "input": [
      "CompRateDerivMidECP = diff(CompRate.subs(SKA1MidECP).subs({Nfacet: 1}), twsnap).subs({twsnap: x})\n",
      "SKA1MidECP_twsnap = int(nsolve(CompRateDerivMidECP.subs({Ops: 1, u.s: 1}),x,200,tol=1e-6)+0.5)*u.s\n",
      "SKA1MidECP_twsnap"
     ],
     "language": "python",
     "metadata": {},
     "outputs": [
      {
       "latex": [
        "$$225 s$$"
       ],
       "metadata": {},
       "output_type": "pyout",
       "png": "[encoded data removed]",
       "prompt_number": 184,
       "text": [
        "225\u22c5s"
       ]
      }
     ],
     "prompt_number": 184
    },
    {
     "cell_type": "markdown",
     "metadata": {},
     "source": [
      "At optimal _w_-snapshot duration the compute FLOP count for gridding, FFT and coordinate projection according to the model is:"
     ]
    },
    {
     "cell_type": "code",
     "collapsed": false,
     "input": [
      "CompRate.subs(SKA1MidECP).subs({Nfacet: 1, twsnap: SKA1MidECP_twsnap}).evalf(3)"
     ],
     "language": "python",
     "metadata": {},
     "outputs": [
      {
       "latex": [
        "$$\\frac{Ops}{s} 1.75 \\cdot 10^{15}$$"
       ],
       "metadata": {},
       "output_type": "pyout",
       "png": "[encoded data removed]",
       "prompt_number": 204,
       "text": [
        "1.75e+15\u22c5Ops\n",
        "\u2500\u2500\u2500\u2500\u2500\u2500\u2500\u2500\u2500\u2500\u2500\u2500\n",
        "     s      "
       ]
      }
     ],
     "prompt_number": 204
    },
    {
     "cell_type": "heading",
     "level": 2,
     "metadata": {},
     "source": [
      "Alternative to snapshots: W-stacking (to be revised)"
     ]
    },
    {
     "cell_type": "markdown",
     "metadata": {},
     "source": [
      "For outline on \"w-stacking\" see also Voronkov & Cornwell (2010), and  Tasse et al. (2013).  The concept of this technique is that \n",
      "visibilities with different values of the _w_ coordinate are not combined in the _uv_ domain but rather gridded separately and \n",
      "transformed into the image (maybe we should be calling it the _lm_?) domain, corrected for the _w_ term and then combined. This obviously requires a degree of sorting of the data in the _w_ dimensions.\n",
      "\n",
      "Compared to snapshots:\n",
      "\n",
      "  1. The input visibility rate is the same. The cost of sorting the \n",
      "     data is not considered in this section.\n",
      "  2. The whole observation is processed together. The largest _w_ that\n",
      "     needs to be corrected is controlled by (half) the separation of\n",
      "     the _w_ planes.\n",
      "  3. No re-projection like in _w_-snapshots is needed, but instead a \n",
      "     correction of the _w_ term is required for each plane after the\n",
      "     FFT to image plane.\n",
      "  4. Number of FFTs is the same as number _w_ planes.\n"
     ]
    },
    {
     "cell_type": "heading",
     "level": 3,
     "metadata": {},
     "source": [
      "Computational load calculation"
     ]
    },
    {
     "cell_type": "heading",
     "level": 4,
     "metadata": {},
     "source": [
      "Size of convolution kernel"
     ]
    },
    {
     "cell_type": "markdown",
     "metadata": {},
     "source": [
      "The size of the required convolution is controlled by the largest \n",
      "residual w-term after assigning each visibility to the nearest \n",
      "_w_ plane. To be consistent with previous sections, we asume \n",
      "_w_ plane are equidistant and the largest _w_ is simply half the\n",
      "distance between the planes. This fives the relationship between the\n",
      "size of the kernel and the number of _w_-planes.\n"
     ]
    },
    {
     "cell_type": "code",
     "collapsed": false,
     "input": [
      "wsNWPlanes = symbols(\"wsN_{WPlanes}\")\n",
      "wsDeltaW = Bmax / 2 / wsNWPlanes\n",
      "wsDeltaW"
     ],
     "language": "python",
     "metadata": {},
     "outputs": [
      {
       "latex": [
        "$$\\frac{B_{{max}}}{2 wsN_{{WPlanes}}}$$"
       ],
       "metadata": {},
       "output_type": "pyout",
       "png": "[encoded data removed]",
       "prompt_number": 205,
       "text": [
        "    B_{max}    \n",
        "\u2500\u2500\u2500\u2500\u2500\u2500\u2500\u2500\u2500\u2500\u2500\u2500\u2500\u2500\u2500\n",
        "2\u22c5wsN_{WPlanes}"
       ]
      }
     ],
     "prompt_number": 205
    },
    {
     "cell_type": "code",
     "collapsed": false,
     "input": [
      "wsNGW = (Qw * wsDeltaW) / Ds / Nfacet\n",
      "wsNGW"
     ],
     "language": "python",
     "metadata": {},
     "outputs": [
      {
       "latex": [
        "$$\\frac{B_{{max}}}{2 D_{s} N_{facet} wsN_{{WPlanes}}}$$"
       ],
       "metadata": {},
       "output_type": "pyout",
       "png": "[encoded data removed]",
       "prompt_number": 212,
       "text": [
        "          B_{max}          \n",
        "\u2500\u2500\u2500\u2500\u2500\u2500\u2500\u2500\u2500\u2500\u2500\u2500\u2500\u2500\u2500\u2500\u2500\u2500\u2500\u2500\u2500\u2500\u2500\u2500\u2500\u2500\u2500\n",
        "2\u22c5D_s\u22c5N_facet\u22c5wsN_{WPlanes}"
       ]
      }
     ],
     "prompt_number": 212
    },
    {
     "cell_type": "code",
     "collapsed": false,
     "input": [
      "eval_for_telescopes(wsNGW, ev=5)"
     ],
     "language": "python",
     "metadata": {},
     "outputs": [
      {
       "latex": [
        "$$\\begin{Bmatrix}SKA_{1 {Low}} : \\frac{1428.6}{N_{facet} wsN_{{WPlanes}}}, & SKA_{1 {Mid}} : \\frac{6666.7}{N_{facet} wsN_{{WPlanes}}}, & SKA_{1 {Survey}} : \\frac{1666.7}{N_{facet} wsN_{{WPlanes}}}\\end{Bmatrix}$$"
       ],
       "metadata": {},
       "output_type": "pyout",
       "png": "[encoded data removed]",
       "prompt_number": 213,
       "text": [
        "\u23a7                     1428.6                              6666.7              \n",
        "\u23a8SKA_1_{Low}: \u2500\u2500\u2500\u2500\u2500\u2500\u2500\u2500\u2500\u2500\u2500\u2500\u2500\u2500\u2500\u2500\u2500\u2500\u2500\u2500\u2500, SKA_1_{Mid}: \u2500\u2500\u2500\u2500\u2500\u2500\u2500\u2500\u2500\u2500\u2500\u2500\u2500\u2500\u2500\u2500\u2500\u2500\u2500\u2500\u2500, SKA_1\n",
        "\u23a9             N_facet\u22c5wsN_{WPlanes}               N_facet\u22c5wsN_{WPlanes}       \n",
        "\n",
        "                   1666.7       \u23ab\n",
        "_{Survey}: \u2500\u2500\u2500\u2500\u2500\u2500\u2500\u2500\u2500\u2500\u2500\u2500\u2500\u2500\u2500\u2500\u2500\u2500\u2500\u2500\u2500\u23ac\n",
        "           N_facet\u22c5wsN_{WPlanes}\u23ad"
       ]
      }
     ],
     "prompt_number": 213
    },
    {
     "cell_type": "heading",
     "level": 4,
     "metadata": {},
     "source": [
      "Gridding"
     ]
    },
    {
     "cell_type": "markdown",
     "metadata": {},
     "source": [
      "The gridding rate is as before controlled simply by the size of the convolution kernel\n",
      "and the input data rate, plus any faceting."
     ]
    },
    {
     "cell_type": "code",
     "collapsed": false,
     "input": [
      "wsGridRate = VisInRate * (NAA**2+wsNGW**2) * (4 * Ops) * Nfacet**2\n",
      "wsGridRate"
     ],
     "language": "python",
     "metadata": {},
     "outputs": [
      {
       "latex": [
        "$$\\frac{8 N_{a}}{t_{{dump}}} N_{f} N_{facet}^{2} N_{{beam}} Ops \\left(N_{a} - 1\\right) \\left(\\frac{B_{{max}}^{2}}{4 D_{s}^{2} N_{facet}^{2} wsN_{{WPlanes}}^{2}} + NAA^{2}\\right)$$"
       ],
       "metadata": {},
       "output_type": "pyout",
       "png": "[encoded data removed]",
       "prompt_number": 215,
       "text": [
        "                                        \u239b                  2                  \n",
        "                2                       \u239c           B_{max}                  2\n",
        "8\u22c5N\u2090\u22c5N_f\u22c5N_facet \u22c5N_{beam}\u22c5Ops\u22c5(N\u2090 - 1)\u22c5\u239c\u2500\u2500\u2500\u2500\u2500\u2500\u2500\u2500\u2500\u2500\u2500\u2500\u2500\u2500\u2500\u2500\u2500\u2500\u2500\u2500\u2500\u2500\u2500\u2500\u2500\u2500\u2500\u2500\u2500\u2500 + NAA \n",
        "                                        \u239c     2        2              2       \n",
        "                                        \u239d4\u22c5D_s \u22c5N_facet \u22c5wsN_{WPlanes}        \n",
        "\u2500\u2500\u2500\u2500\u2500\u2500\u2500\u2500\u2500\u2500\u2500\u2500\u2500\u2500\u2500\u2500\u2500\u2500\u2500\u2500\u2500\u2500\u2500\u2500\u2500\u2500\u2500\u2500\u2500\u2500\u2500\u2500\u2500\u2500\u2500\u2500\u2500\u2500\u2500\u2500\u2500\u2500\u2500\u2500\u2500\u2500\u2500\u2500\u2500\u2500\u2500\u2500\u2500\u2500\u2500\u2500\u2500\u2500\u2500\u2500\u2500\u2500\u2500\u2500\u2500\u2500\u2500\u2500\u2500\u2500\u2500\u2500\u2500\u2500\u2500\u2500\u2500\u2500\n",
        "                                    t_{dump}                                  \n",
        "\n",
        "\u239e\n",
        "\u239f\n",
        "\u239f\n",
        "\u239f\n",
        "\u23a0\n",
        "\u2500\n",
        " "
       ]
      }
     ],
     "prompt_number": 215
    },
    {
     "cell_type": "code",
     "collapsed": false,
     "input": [
      "calcTel('SKA1Low',wsGridRate, ev=3)"
     ],
     "language": "python",
     "metadata": {},
     "outputs": [
      {
       "latex": [
        "$$\\begin{Bmatrix}SKA_{1 {Low}} : \\frac{3661459619840.0 N_{facet}^{2}}{s} Ops \\left(81.0 + \\frac{2.04 \\cdot 10^{6}}{N_{facet}^{2} wsN_{{WPlanes}}^{2}}\\right)\\end{Bmatrix}$$"
       ],
       "metadata": {},
       "output_type": "pyout",
       "png": "[encoded data removed]",
       "prompt_number": 219,
       "text": [
        "\u23a7                                    2     \u239b               2.04e+6        \u239e\u23ab\n",
        "\u23aa             3661459619840.0\u22c5N_facet \u22c5Ops\u22c5\u239c81.0 + \u2500\u2500\u2500\u2500\u2500\u2500\u2500\u2500\u2500\u2500\u2500\u2500\u2500\u2500\u2500\u2500\u2500\u2500\u2500\u2500\u2500\u2500\u2500\u239f\u23aa\n",
        "\u23aa                                          \u239c              2              2\u239f\u23aa\n",
        "\u23a8                                          \u239d       N_facet \u22c5wsN_{WPlanes} \u23a0\u23ac\n",
        "\u23aaSKA_1_{Low}: \u2500\u2500\u2500\u2500\u2500\u2500\u2500\u2500\u2500\u2500\u2500\u2500\u2500\u2500\u2500\u2500\u2500\u2500\u2500\u2500\u2500\u2500\u2500\u2500\u2500\u2500\u2500\u2500\u2500\u2500\u2500\u2500\u2500\u2500\u2500\u2500\u2500\u2500\u2500\u2500\u2500\u2500\u2500\u2500\u2500\u2500\u2500\u2500\u2500\u2500\u2500\u2500\u2500\u2500\u2500\u2500\u2500\u2500\u2500\u2500\u2500\u23aa\n",
        "\u23aa                                           s                              \u23aa\n",
        "\u23a9                                                                          \u23ad"
       ]
      }
     ],
     "prompt_number": 219
    },
    {
     "cell_type": "code",
     "collapsed": false,
     "input": [
      "calcTel('SKA1Mid',wsGridRate, ev=3)"
     ],
     "language": "python",
     "metadata": {},
     "outputs": [
      {
       "latex": [
        "$$\\begin{Bmatrix}SKA_{1 {Mid}} : \\frac{N_{facet}^{2} Ops}{s} \\left(1.36 \\cdot 10^{14} + \\frac{7.49 \\cdot 10^{19}}{N_{facet}^{2} wsN_{{WPlanes}}^{2}}\\right)\\end{Bmatrix}$$"
       ],
       "metadata": {},
       "output_type": "pyout",
       "png": "[encoded data removed]",
       "prompt_number": 220,
       "text": [
        "\u23a7                             2     \u239b               4.44e+7        \u239e\u23ab\n",
        "\u23aa             1.68e+12\u22c5N_facet \u22c5Ops\u22c5\u239c81.0 + \u2500\u2500\u2500\u2500\u2500\u2500\u2500\u2500\u2500\u2500\u2500\u2500\u2500\u2500\u2500\u2500\u2500\u2500\u2500\u2500\u2500\u2500\u2500\u239f\u23aa\n",
        "\u23aa                                   \u239c              2              2\u239f\u23aa\n",
        "\u23a8                                   \u239d       N_facet \u22c5wsN_{WPlanes} \u23a0\u23ac\n",
        "\u23aaSKA_1_{Mid}: \u2500\u2500\u2500\u2500\u2500\u2500\u2500\u2500\u2500\u2500\u2500\u2500\u2500\u2500\u2500\u2500\u2500\u2500\u2500\u2500\u2500\u2500\u2500\u2500\u2500\u2500\u2500\u2500\u2500\u2500\u2500\u2500\u2500\u2500\u2500\u2500\u2500\u2500\u2500\u2500\u2500\u2500\u2500\u2500\u2500\u2500\u2500\u2500\u2500\u2500\u2500\u2500\u2500\u2500\u23aa\n",
        "\u23aa                                       s                           \u23aa\n",
        "\u23a9                                                                   \u23ad"
       ]
      }
     ],
     "prompt_number": 220
    },
    {
     "cell_type": "code",
     "collapsed": false,
     "input": [
      "calcTel('SKA1Survey',wsGridRate, ev=3)"
     ],
     "language": "python",
     "metadata": {},
     "outputs": [
      {
       "latex": [
        "$$\\begin{Bmatrix}SKA_{1 {Survey}} : \\frac{2295123148800.0 N_{facet}^{2}}{s} Ops \\left(81.0 + \\frac{2.78 \\cdot 10^{6}}{N_{facet}^{2} wsN_{{WPlanes}}^{2}}\\right)\\end{Bmatrix}$$"
       ],
       "metadata": {},
       "output_type": "pyout",
       "png": "[encoded data removed]",
       "prompt_number": 221,
       "text": [
        "\u23a7                                       2     \u239b               2.78e+6        \u239e\n",
        "\u23aa                2295123148800.0\u22c5N_facet \u22c5Ops\u22c5\u239c81.0 + \u2500\u2500\u2500\u2500\u2500\u2500\u2500\u2500\u2500\u2500\u2500\u2500\u2500\u2500\u2500\u2500\u2500\u2500\u2500\u2500\u2500\u2500\u2500\u239f\n",
        "\u23aa                                             \u239c              2              2\u239f\n",
        "\u23a8                                             \u239d       N_facet \u22c5wsN_{WPlanes} \u23a0\n",
        "\u23aaSKA_1_{Survey}: \u2500\u2500\u2500\u2500\u2500\u2500\u2500\u2500\u2500\u2500\u2500\u2500\u2500\u2500\u2500\u2500\u2500\u2500\u2500\u2500\u2500\u2500\u2500\u2500\u2500\u2500\u2500\u2500\u2500\u2500\u2500\u2500\u2500\u2500\u2500\u2500\u2500\u2500\u2500\u2500\u2500\u2500\u2500\u2500\u2500\u2500\u2500\u2500\u2500\u2500\u2500\u2500\u2500\u2500\u2500\u2500\u2500\u2500\u2500\u2500\u2500\n",
        "\u23aa                                              s                              \n",
        "\u23a9                                                                             \n",
        "\n",
        "\u23ab\n",
        "\u23aa\n",
        "\u23aa\n",
        "\u23ac\n",
        "\u23aa\n",
        "\u23aa\n",
        "\u23ad"
       ]
      }
     ],
     "prompt_number": 221
    },
    {
     "cell_type": "heading",
     "level": 4,
     "metadata": {},
     "source": [
      "Image-plane correction"
     ]
    },
    {
     "cell_type": "markdown",
     "metadata": {},
     "source": [
      "The image plane correction is the multiplication by the term:\n",
      "\n",
      "$$\\exp \\left[ i2\\pi{}w \\left( 1 - \\sqrt{ 1 - l^2 - m^2 } \\right) \\right]$$\n",
      "\n",
      "This requires computation one square root and one exponential. As a very rough guess\n",
      "we assume this is about the same computational complexity as the re-projection, i.e., 50\n",
      "operations."
     ]
    },
    {
     "cell_type": "code",
     "collapsed": false,
     "input": [
      "wsImCorrectTot = (50 * Ops ) * NPix**2 * Nf * Nbeam * Npol * wsNWPlanes * Nfacet**2\n",
      "wsImCorrectTot"
     ],
     "language": "python",
     "metadata": {},
     "outputs": [
      {
       "latex": [
        "$$\\frac{3200 wsN_{{WPlanes}}}{D_{s}^{2}} B_{{max}}^{2} N_{f} N_{{beam}} Ops$$"
       ],
       "metadata": {},
       "output_type": "pyout",
       "png": "[encoded data removed]",
       "prompt_number": 223,
       "text": [
        "            2                               \n",
        "3200\u22c5B_{max} \u22c5N_f\u22c5N_{beam}\u22c5wsN_{WPlanes}\u22c5Ops\n",
        "\u2500\u2500\u2500\u2500\u2500\u2500\u2500\u2500\u2500\u2500\u2500\u2500\u2500\u2500\u2500\u2500\u2500\u2500\u2500\u2500\u2500\u2500\u2500\u2500\u2500\u2500\u2500\u2500\u2500\u2500\u2500\u2500\u2500\u2500\u2500\u2500\u2500\u2500\u2500\u2500\u2500\u2500\u2500\u2500\n",
        "                       2                    \n",
        "                    D_s                     "
       ]
      }
     ],
     "prompt_number": 223
    },
    {
     "cell_type": "code",
     "collapsed": false,
     "input": [
      "eval_for_telescopes(wsImCorrectTot, ev=3)"
     ],
     "language": "python",
     "metadata": {},
     "outputs": [
      {
       "latex": [
        "$$\\begin{Bmatrix}SKA_{1 {Low}} : 6.85 \\cdot 10^{15} wsN_{{WPlanes}} Ops, & SKA_{1 {Mid}} : 1.49 \\cdot 10^{17} wsN_{{WPlanes}} Ops, & SKA_{1 {Survey}} : 3.36 \\cdot 10^{17} wsN_{{WPlanes}} Ops\\end{Bmatrix}$$"
       ],
       "metadata": {},
       "output_type": "pyout",
       "png": "[encoded data removed]",
       "prompt_number": 225,
       "text": [
        "{SKA_1_{Low}: 6.85e+15\u22c5wsN_{WPlanes}\u22c5Ops, SKA_1_{Mid}: 1.49e+17\u22c5wsN_{WPlanes}\u22c5\n",
        "Ops, SKA_1_{Survey}: 3.36e+17\u22c5wsN_{WPlanes}\u22c5Ops}"
       ]
      }
     ],
     "prompt_number": 225
    },
    {
     "cell_type": "heading",
     "level": 4,
     "metadata": {},
     "source": [
      "FFT compute requirement"
     ]
    },
    {
     "cell_type": "markdown",
     "metadata": {},
     "source": [
      "The number of FFTs is simply the number of _w_-planes times the usual number of images\n",
      "and facets. Since the in _w_-stacking the whole observation is processed together the\n",
      "calculation here is for the total observation (and is not a rate)."
     ]
    },
    {
     "cell_type": "code",
     "collapsed": false,
     "input": [
      "wsFFTTot = 5*Ops * NPix **2 * log2(NPix **2) * Nf * Nbeam * 4 * Nfacet**2 * wsNWPlanes\n",
      "wsFFTTot"
     ],
     "language": "python",
     "metadata": {},
     "outputs": [
      {
       "latex": [
        "$$\\frac{320 B_{{max}}^{2} N_{f} N_{{beam}} wsN_{{WPlanes}} Ops}{D_{s}^{2} \\log{\\left (2 \\right )}} \\log{\\left (\\frac{16 B_{{max}}^{2}}{D_{s}^{2} N_{facet}^{2}} \\right )}$$"
       ],
       "metadata": {},
       "output_type": "pyout",
       "png": "[encoded data removed]",
       "prompt_number": 227,
       "text": [
        "                                               \u239b           2 \u239e\n",
        "           2                                   \u239c 16\u22c5B_{max}  \u239f\n",
        "320\u22c5B_{max} \u22c5N_f\u22c5N_{beam}\u22c5wsN_{WPlanes}\u22c5Ops\u22c5log\u239c\u2500\u2500\u2500\u2500\u2500\u2500\u2500\u2500\u2500\u2500\u2500\u2500\u2500\u239f\n",
        "                                               \u239c   2        2\u239f\n",
        "                                               \u239dD_s \u22c5N_facet \u23a0\n",
        "\u2500\u2500\u2500\u2500\u2500\u2500\u2500\u2500\u2500\u2500\u2500\u2500\u2500\u2500\u2500\u2500\u2500\u2500\u2500\u2500\u2500\u2500\u2500\u2500\u2500\u2500\u2500\u2500\u2500\u2500\u2500\u2500\u2500\u2500\u2500\u2500\u2500\u2500\u2500\u2500\u2500\u2500\u2500\u2500\u2500\u2500\u2500\u2500\u2500\u2500\u2500\u2500\u2500\u2500\u2500\u2500\u2500\u2500\u2500\u2500\u2500\u2500\n",
        "                            2                                 \n",
        "                         D_s \u22c5log(2)                          "
       ]
      }
     ],
     "prompt_number": 227
    },
    {
     "cell_type": "heading",
     "level": 4,
     "metadata": {},
     "source": [
      "Total compute requirement"
     ]
    },
    {
     "cell_type": "markdown",
     "metadata": {},
     "source": [
      "This is the computation of the total compute required (per half-cycle) after optimising the\n",
      "number of w-planes. These numbers can be compared directly to those in the [Compute rate at optimal _w_-snapshot](#Compute-rate-at-optimal-w-snapshot-size) section.\n",
      "it can be seen for the 6 hour observation the raw compute loads are very similar."
     ]
    },
    {
     "cell_type": "markdown",
     "metadata": {},
     "source": [
      "--------------------------"
     ]
    },
    {
     "cell_type": "markdown",
     "metadata": {},
     "source": [
      "In this case the input data rate in the UV buffer is just the maximum data rate given above. Assuming maximum 12 hour duration of data accumulation, the storage requirement is:"
     ]
    },
    {
     "cell_type": "code",
     "collapsed": false,
     "input": [
      "SDPUVBufSize = SDPInRate * 12 * u.hour\n",
      "SDPUVBufSize"
     ],
     "language": "python",
     "metadata": {},
     "outputs": [
      {
       "latex": [
        "$$\\frac{691200 N_{a}}{t_{{dump}}} N_{f} N_{{beam}} B s \\left(N_{a} - 1\\right)$$"
       ],
       "metadata": {},
       "output_type": "pyout",
       "png": "[encoded data removed]",
       "prompt_number": 59,
       "text": [
        "691200\u22c5N\u2090\u22c5N_f\u22c5N_{beam}\u22c5B\u22c5s\u22c5(N\u2090 - 1)\n",
        "\u2500\u2500\u2500\u2500\u2500\u2500\u2500\u2500\u2500\u2500\u2500\u2500\u2500\u2500\u2500\u2500\u2500\u2500\u2500\u2500\u2500\u2500\u2500\u2500\u2500\u2500\u2500\u2500\u2500\u2500\u2500\u2500\u2500\u2500\u2500\n",
        "              t_{dump}             "
       ]
      }
     ],
     "prompt_number": 59
    },
    {
     "cell_type": "code",
     "collapsed": false,
     "input": [
      "eval_for_telescopes(SDPUVBufSize, late_subs={byte: 1/u.tera*S('TB')}, ev=6)"
     ],
     "language": "python",
     "metadata": {},
     "outputs": [
      {
       "latex": [
        "$$\\begin{Bmatrix}SKA_{1 {Low}} : 308936.0 TB, & SKA_{1 {Mid}} : 142137.0 TB, & SKA_{1 {Survey}} : 193651.0 TB\\end{Bmatrix}$$"
       ],
       "metadata": {},
       "output_type": "pyout",
       "png": "[encoded data removed]",
       "prompt_number": 60,
       "text": [
        "{SKA_1_{Low}: 308936.0\u22c5TB, SKA_1_{Mid}: 142137.0\u22c5TB, SKA_1_{Survey}: 193651.0\u22c5\n",
        "TB}"
       ]
      }
     ],
     "prompt_number": 60
    },
    {
     "cell_type": "code",
     "collapsed": false,
     "input": [
      "eval_for_telescopes(SDPUVBufSize, late_subs={byte: 1/u.peta*S('PB')}, ev=4)"
     ],
     "language": "python",
     "metadata": {},
     "outputs": [
      {
       "latex": [
        "$$\\begin{Bmatrix}SKA_{1 {Low}} : 308.9 PB, & SKA_{1 {Mid}} : 142.1 PB, & SKA_{1 {Survey}} : 193.7 PB\\end{Bmatrix}$$"
       ],
       "metadata": {},
       "output_type": "pyout",
       "png": "[encoded data removed]",
       "prompt_number": 61,
       "text": [
        "{SKA_1_{Low}: 308.9\u22c5PB, SKA_1_{Mid}: 142.1\u22c5PB, SKA_1_{Survey}: 193.7\u22c5PB}"
       ]
      }
     ],
     "prompt_number": 61
    },
    {
     "cell_type": "heading",
     "level": 3,
     "metadata": {},
     "source": [
      "Organisation of input data"
     ]
    },
    {
     "cell_type": "markdown",
     "metadata": {},
     "source": [
      "Data coming out of the correlator are assumed to be organised according to following order:\n",
      "\n",
      "1. Beam\n",
      "2. Polarisation\n",
      "3. Frequency channel\n",
      "4. Time\n",
      "5. Baseline\n",
      "\n",
      "Dimensions further down the list show data which are closer in proximity in the input data stream."
     ]
    },
    {
     "cell_type": "heading",
     "level": 3,
     "metadata": {},
     "source": [
      "Natural chunks of data for imaging assuming snapshots"
     ]
    },
    {
     "cell_type": "markdown",
     "metadata": {},
     "source": [
      "If we assume the snapshot imaging technique is used, then the natural chunk of data iscombination of all baselines and shapshot interval for one beam/polarisation/frequency channel.\n",
      "\n",
      "Initial analysis in document Nikolic (2014) shows that likely snapshot duration is of order 100-200s for each of the telescopes. Assuming 100 seconds for each, we get the following for the size of basic units of data:"
     ]
    },
    {
     "cell_type": "code",
     "collapsed": false,
     "input": [
      "SDPInRatePerStrm = Nbl / tdump * BytesPerVisibility\n",
      "SDPInRatePerStrm"
     ],
     "language": "python",
     "metadata": {},
     "outputs": [
      {
       "latex": [
        "$$\\frac{4 N_{a}}{t_{{dump}}} B \\left(N_{a} - 1\\right)$$"
       ],
       "metadata": {},
       "output_type": "pyout",
       "png": "[encoded data removed]",
       "prompt_number": 62,
       "text": [
        "4\u22c5N\u2090\u22c5B\u22c5(N\u2090 - 1)\n",
        "\u2500\u2500\u2500\u2500\u2500\u2500\u2500\u2500\u2500\u2500\u2500\u2500\u2500\u2500\u2500\n",
        "    t_{dump}   "
       ]
      }
     ],
     "prompt_number": 62
    },
    {
     "cell_type": "code",
     "collapsed": false,
     "input": [
      "SnapshotDuration = 100 * u.s\n",
      "SDPInUnit = SDPInRatePerStrm * SnapshotDuration\n",
      "SDPInUnit"
     ],
     "language": "python",
     "metadata": {},
     "outputs": [
      {
       "latex": [
        "$$\\frac{400 N_{a}}{t_{{dump}}} B s \\left(N_{a} - 1\\right)$$"
       ],
       "metadata": {},
       "output_type": "pyout",
       "png": "[encoded data removed]",
       "prompt_number": 63,
       "text": [
        "400\u22c5N\u2090\u22c5B\u22c5s\u22c5(N\u2090 - 1)\n",
        "\u2500\u2500\u2500\u2500\u2500\u2500\u2500\u2500\u2500\u2500\u2500\u2500\u2500\u2500\u2500\u2500\u2500\u2500\u2500\n",
        "      t_{dump}     "
       ]
      }
     ],
     "prompt_number": 63
    },
    {
     "cell_type": "code",
     "collapsed": false,
     "input": [
      "eval_for_telescopes(SDPInUnit, late_subs={byte: 1/u.mega*S('MB')})"
     ],
     "language": "python",
     "metadata": {},
     "outputs": [
      {
       "latex": [
        "$$\\begin{Bmatrix}SKA_{1 {Low}} : 698.368 MB, & SKA_{1 {Mid}} : 321.31 MB, & SKA_{1 {Survey}} : 12.16 MB\\end{Bmatrix}$$"
       ],
       "metadata": {},
       "output_type": "pyout",
       "png": "[encoded data removed]",
       "prompt_number": 64,
       "text": [
        "{SKA_1_{Low}: 698.368\u22c5MB, SKA_1_{Mid}: 321.31\u22c5MB, SKA_1_{Survey}: 12.16\u22c5MB}"
       ]
      }
     ],
     "prompt_number": 64
    },
    {
     "cell_type": "markdown",
     "metadata": {},
     "source": [
      "It is, however, extremely likely that in the ingest we will:\n",
      "\n",
      "1. Re-organise data so that at least about 10 frequency channels are organised together\n",
      "1. The 4 polarization products will be similarly grouped\n",
      "\n",
      "Organising 10 frequency channels together still leaves ample data-parallellism for the processing.\n",
      "\n",
      "Therefore, it is likely that the basic chunks of UV data will be:"
     ]
    },
    {
     "cell_type": "code",
     "collapsed": false,
     "input": [
      "# NgroupChannels = symbols(\"N_{chanGroup}\")\n",
      "NgroupChannels = Rational(10)\n",
      "SDPUVChunk = SDPInUnit * Npol * NgroupChannels\n",
      "SDPUVChunk"
     ],
     "language": "python",
     "metadata": {},
     "outputs": [
      {
       "latex": [
        "$$\\frac{16000 N_{a}}{t_{{dump}}} B s \\left(N_{a} - 1\\right)$$"
       ],
       "metadata": {},
       "output_type": "pyout",
       "png": "[encoded data removed]",
       "prompt_number": 65,
       "text": [
        "16000\u22c5N\u2090\u22c5B\u22c5s\u22c5(N\u2090 - 1)\n",
        "\u2500\u2500\u2500\u2500\u2500\u2500\u2500\u2500\u2500\u2500\u2500\u2500\u2500\u2500\u2500\u2500\u2500\u2500\u2500\u2500\u2500\n",
        "       t_{dump}      "
       ]
      }
     ],
     "prompt_number": 65
    },
    {
     "cell_type": "code",
     "collapsed": false,
     "input": [
      "eval_for_telescopes(SDPUVChunk, ev=3)"
     ],
     "language": "python",
     "metadata": {},
     "outputs": [
      {
       "latex": [
        "$$\\begin{Bmatrix}SKA_{1 {Low}} : 2.79 \\cdot 10^{10} B, & SKA_{1 {Mid}} : 1.29 \\cdot 10^{10} B, & SKA_{1 {Survey}} : 4.86 \\cdot 10^{8} B\\end{Bmatrix}$$"
       ],
       "metadata": {},
       "output_type": "pyout",
       "png": "[encoded data removed]",
       "prompt_number": 66,
       "text": [
        "{SKA_1_{Low}: 2.79e+10\u22c5B, SKA_1_{Mid}: 1.29e+10\u22c5B, SKA_1_{Survey}: 4.86e+8\u22c5B}"
       ]
      }
     ],
     "prompt_number": 66
    },
    {
     "cell_type": "code",
     "collapsed": false,
     "input": [
      "SDPUVChunk.subs({byte: 1/u.giga*S('Gbyte')})"
     ],
     "language": "python",
     "metadata": {},
     "outputs": [
      {
       "latex": [
        "$$\\frac{Gbyte N_{a} s}{62500 t_{{dump}}} \\left(N_{a} - 1\\right)$$"
       ],
       "metadata": {},
       "output_type": "pyout",
       "png": "[encoded data removed]",
       "prompt_number": 67,
       "text": [
        "Gbyte\u22c5N\u2090\u22c5s\u22c5(N\u2090 - 1)\n",
        "\u2500\u2500\u2500\u2500\u2500\u2500\u2500\u2500\u2500\u2500\u2500\u2500\u2500\u2500\u2500\u2500\u2500\u2500\u2500\n",
        "   62500\u22c5t_{dump}  "
       ]
      }
     ],
     "prompt_number": 67
    },
    {
     "cell_type": "code",
     "collapsed": false,
     "input": [
      "eval_for_telescopes(SDPUVChunk, ev=3, late_subs={byte: 1/u.giga*S('GB')})"
     ],
     "language": "python",
     "metadata": {},
     "outputs": [
      {
       "latex": [
        "$$\\begin{Bmatrix}SKA_{1 {Low}} : 27.9 GB, & SKA_{1 {Mid}} : 12.9 GB, & SKA_{1 {Survey}} : 0.486 GB\\end{Bmatrix}$$"
       ],
       "metadata": {},
       "output_type": "pyout",
       "png": "[encoded data removed]",
       "prompt_number": 68,
       "text": [
        "{SKA_1_{Low}: 27.9\u22c5GB, SKA_1_{Mid}: 12.9\u22c5GB, SKA_1_{Survey}: 0.486\u22c5GB}"
       ]
      }
     ],
     "prompt_number": 68
    },
    {
     "cell_type": "heading",
     "level": 3,
     "metadata": {},
     "source": [
      "Shared filesystem \u2014 number of files"
     ]
    },
    {
     "cell_type": "markdown",
     "metadata": {},
     "source": [
      "For discussion we will hypothesize:\n",
      "\n",
      "1. The UV buffer is implemented as a global shared filesystem\n",
      "1. For maximum flexibility each UV chuck is represented as an individual file\n",
      "\n",
      "then we can get the maximal number of files:"
     ]
    },
    {
     "cell_type": "code",
     "collapsed": false,
     "input": [
      "SDPNumFilesHyp = (SDPUVBufSize/SDPUVChunk)\n",
      "SDPNumFilesHyp"
     ],
     "language": "python",
     "metadata": {},
     "outputs": [
      {
       "latex": [
        "$$\\frac{216 N_{f}}{5} N_{{beam}}$$"
       ],
       "metadata": {},
       "output_type": "pyout",
       "png": "[encoded data removed]",
       "prompt_number": 69,
       "text": [
        "216\u22c5N_f\u22c5N_{beam}\n",
        "\u2500\u2500\u2500\u2500\u2500\u2500\u2500\u2500\u2500\u2500\u2500\u2500\u2500\u2500\u2500\u2500\n",
        "       5        "
       ]
      }
     ],
     "prompt_number": 69
    },
    {
     "cell_type": "code",
     "collapsed": false,
     "input": [
      "eval_for_telescopes(SDPNumFilesHyp)"
     ],
     "language": "python",
     "metadata": {},
     "outputs": [
      {
       "latex": [
        "$$\\begin{Bmatrix}SKA_{1 {Low}} : 11059200, & SKA_{1 {Mid}} : 11059200, & SKA_{1 {Survey}} : 398131200\\end{Bmatrix}$$"
       ],
       "metadata": {},
       "output_type": "pyout",
       "png": "[encoded data removed]",
       "prompt_number": 70,
       "text": [
        "{SKA_1_{Low}: 11059200, SKA_1_{Mid}: 11059200, SKA_1_{Survey}: 398131200}"
       ]
      }
     ],
     "prompt_number": 70
    },
    {
     "cell_type": "heading",
     "level": 2,
     "metadata": {},
     "source": [
      "Power Models for Compute Hardware"
     ]
    },
    {
     "cell_type": "heading",
     "level": 2,
     "metadata": {},
     "source": [
      "Scope of this document"
     ]
    },
    {
     "cell_type": "markdown",
     "metadata": {},
     "source": [
      "This document summarises the current power budget calculations for\n",
      "SDP. It is currently presents only the option for *baseline\n",
      "  design* with, i.e., full spectral resolution, full resolution, no\n",
      "baseline-dependent averaging, and _2017 technology_. The scaling\n",
      "of power requirements can be found by in reference document\n",
      "\\cite{MajCycleModel}.\n",
      "\n",
      "Important caveats:\n",
      "\n",
      "  * Only diagonal Muller matrix elements are considered. We are \n",
      "    currently analysing which telescopes will require the off-diagonal\n",
      "    elements.\n",
      "  * Flat efficiency of about 0.25 (more precisely 50\\% of LINPACK)\n",
      "    is assumed for all operations. Ongoing analysis will provide\n",
      "    figures on a firmer basis."
     ]
    },
    {
     "cell_type": "heading",
     "level": 2,
     "metadata": {},
     "source": [
      "Considerations in the last version"
     ]
    },
    {
     "cell_type": "markdown",
     "metadata": {},
     "source": [
      "  * For consistency with other computations gridding is taken to\n",
      "    take 8 FLOP rather than 4 FAM operations. This has the greatest\n",
      "    proportional effect on the gridding intensive telescopes (SKA1-low)\n",
      "  * A first approximation of the computation of convolution kernels\n",
      "    is included in the estimate. It is assumed that all kernels are\n",
      "    baseline-dependent.\n",
      "  * Mistake in number of SKA1-Survey antennas has been corrected. \n"
     ]
    },
    {
     "cell_type": "heading",
     "level": 2,
     "metadata": {},
     "source": [
      "Floating point operation power requirements"
     ]
    },
    {
     "cell_type": "markdown",
     "metadata": {},
     "source": [
      "Non-immersed systems currently get about $\\sim 3.6\\times 10^9$\n",
      "double-precision FLOPS per W (e.g., Wilkes cluster in Cambridge,\n",
      "\\cite{Green500Nov2013}). This is for the whole system, actual\n",
      "performance with (close-to-best-case) LINPACK tests. \n",
      "\n",
      "They are generally based on Kepler, 2012 technology. Assuming two year\n",
      "doubling time scale, we can model efficiency approximately as:"
     ]
    },
    {
     "cell_type": "code",
     "collapsed": false,
     "input": [
      "t = symbols(\"t\", real=True)\n",
      "W = S('W') # To have watts as a symbol; we can later convert it into other units\n",
      "\n",
      "from sympy import Function\n",
      "class DPP(Function):\n",
      "    @classmethod\n",
      "    def eval(self, t):\n",
      "        if t.is_Number:\n",
      "            # Careful: this assumption implies 5.1GOps/s/W/s in 2013;\n",
      "            # real numbers are 4.5e9 for late 2013 in the Green500\n",
      "            return 3.6e9 * 2**(( t - 2012)/2) * Ops/u.s/W\n",
      "            #return 4.5e9 * 2**(( t - (2013+Rational(11,12)))/2) * Ops/u.s/W\n",
      "    \n",
      "    def _eval_is_real(self):\n",
      "        return self.args[0].is_real\n",
      "\n",
      "# DPP = 4.5e9 * 2**(( t - (2013+Rational(11,12))/2) * Ops/u.s/W\n",
      "DPP(2017).subs({Ops: Rational(1,1000000000)*S('GOps')}).evalf(2)"
     ],
     "language": "python",
     "metadata": {},
     "outputs": [
      {
       "latex": [
        "$$\\frac{20.0 GOps}{W s}$$"
       ],
       "metadata": {},
       "output_type": "pyout",
       "png": "[encoded data removed]",
       "prompt_number": 71,
       "text": [
        "20.0\u22c5GOps\n",
        "\u2500\u2500\u2500\u2500\u2500\u2500\u2500\u2500\u2500\n",
        "   W\u22c5s   "
       ]
      }
     ],
     "prompt_number": 71
    },
    {
     "cell_type": "markdown",
     "metadata": {},
     "source": [
      "Again note this is efficiency for the system as a whole but for a\n",
      "best-case type of processing."
     ]
    },
    {
     "cell_type": "markdown",
     "metadata": {},
     "source": [
      "We use the calculations from the Major Cycle Model section above for the compute rate\n",
      "major cycle and the computation of the convolution kernel:"
     ]
    },
    {
     "cell_type": "code",
     "collapsed": false,
     "input": [
      "Nmajor, epsilon = symbols(\"N_{major} \\epsilon\")\n",
      "HCSKA1Low    = (ComputeRateSKA1Low    + ConvolutionKernelRateSKA1Low   ) * 2 * Nmajor / epsilon\n",
      "HCSKA1Mid    = (ComputeRateSKA1Mid    + ConvolutionKernelRateSKA1Mid   ) * 2 * Nmajor / epsilon\n",
      "HCSKA1Survey = (ComputeRateSKA1Survey + ConvolutionKernelRateSKA1Survey) * 2 * Nmajor / epsilon\n",
      "HCSKA1 = {\n",
      "    label: value\n",
      "    for label,value in zip (\n",
      "        [telescope_labels[telescope] for telescope in telescope_list],\n",
      "        [HCSKA1Low, HCSKA1Mid, HCSKA1Survey]\n",
      "    )\n",
      "}\n",
      "HCSKA1"
     ],
     "language": "python",
     "metadata": {},
     "outputs": [
      {
       "latex": [
        "$$\\begin{Bmatrix}SKA_{1 {Low}} : \\frac{2.529 \\cdot 10^{15} N_{{major}}}{\\epsilon s} Ops, & SKA_{1 {Mid}} : \\frac{2.529 \\cdot 10^{16} N_{{major}}}{\\epsilon s} Ops, & SKA_{1 {Survey}} : \\frac{1.821 \\cdot 10^{16} N_{{major}}}{\\epsilon s} Ops\\end{Bmatrix}$$"
       ],
       "metadata": {},
       "output_type": "pyout",
       "png": "[encoded data removed]",
       "prompt_number": 72,
       "text": [
        "\u23a7             2.529e+15\u22c5N_{major}\u22c5Ops               2.529e+16\u22c5N_{major}\u22c5Ops   \n",
        "\u23a8SKA_1_{Low}: \u2500\u2500\u2500\u2500\u2500\u2500\u2500\u2500\u2500\u2500\u2500\u2500\u2500\u2500\u2500\u2500\u2500\u2500\u2500\u2500\u2500\u2500\u2500, SKA_1_{Mid}: \u2500\u2500\u2500\u2500\u2500\u2500\u2500\u2500\u2500\u2500\u2500\u2500\u2500\u2500\u2500\u2500\u2500\u2500\u2500\u2500\u2500\u2500\u2500, S\n",
        "\u23a9                    \\epsilon\u22c5s                            \\epsilon\u22c5s         \n",
        "\n",
        "               1.821e+16\u22c5N_{major}\u22c5Ops\u23ab\n",
        "KA_1_{Survey}: \u2500\u2500\u2500\u2500\u2500\u2500\u2500\u2500\u2500\u2500\u2500\u2500\u2500\u2500\u2500\u2500\u2500\u2500\u2500\u2500\u2500\u2500\u2500\u23ac\n",
        "                      \\epsilon\u22c5s      \u23ad"
       ]
      }
     ],
     "prompt_number": 72
    },
    {
     "cell_type": "markdown",
     "metadata": {},
     "source": [
      "Here:\n",
      "\n",
      "  * $N_{major}$ is the number of major cycles \n",
      "  * $\\epsilon$ is a further efficiency factor. In current version\n",
      "    of this document we assume this is same for all operations. This\n",
      "    is probably a poor approximation which needs to be revisited. "
     ]
    },
    {
     "cell_type": "code",
     "collapsed": false,
     "input": [
      "SKA1LowPower = (HCSKA1Low/DPP(2017)).subs({epsilon: 0.5, Nmajor: 10, W: 1/u.mega*S('MW')}).evalf(3)\n",
      "SKA1LowPower"
     ],
     "language": "python",
     "metadata": {},
     "outputs": [
      {
       "latex": [
        "$$2.48 MW$$"
       ],
       "metadata": {},
       "output_type": "pyout",
       "png": "[encoded data removed]",
       "prompt_number": 73,
       "text": [
        "2.48\u22c5MW"
       ]
      }
     ],
     "prompt_number": 73
    },
    {
     "cell_type": "code",
     "collapsed": false,
     "input": [
      "SKA1MidPower = (HCSKA1Mid/DPP(2017)).subs({epsilon: 0.5, Nmajor: 10, W: 1/u.mega*S('MW')}).evalf(3)\n",
      "SKA1MidPower"
     ],
     "language": "python",
     "metadata": {},
     "outputs": [
      {
       "latex": [
        "$$24.8 MW$$"
       ],
       "metadata": {},
       "output_type": "pyout",
       "png": "[encoded data removed]",
       "prompt_number": 74,
       "text": [
        "24.8\u22c5MW"
       ]
      }
     ],
     "prompt_number": 74
    },
    {
     "cell_type": "code",
     "collapsed": false,
     "input": [
      "SKA1SurveyPower = (HCSKA1Survey/DPP(2017)).subs({epsilon: 0.5, Nmajor: 10, W: 1/u.mega*S('MW')}).evalf(3)\n",
      "SKA1SurveyPower"
     ],
     "language": "python",
     "metadata": {},
     "outputs": [
      {
       "latex": [
        "$$17.9 MW$$"
       ],
       "metadata": {},
       "output_type": "pyout",
       "png": "[encoded data removed]",
       "prompt_number": 75,
       "text": [
        "17.9\u22c5MW"
       ]
      }
     ],
     "prompt_number": 75
    },
    {
     "cell_type": "markdown",
     "metadata": {},
     "source": [
      "If we estimate 40 kW per rack, we can obtain an approximate amount of racks:"
     ]
    },
    {
     "cell_type": "code",
     "collapsed": false,
     "input": [
      "PowerPerRack = 40 * u.kilo * W \n",
      "PowerPerRack"
     ],
     "language": "python",
     "metadata": {},
     "outputs": [
      {
       "latex": [
        "$$40000 W$$"
       ],
       "metadata": {},
       "output_type": "pyout",
       "png": "[encoded data removed]",
       "prompt_number": 76,
       "text": [
        "40000\u22c5W"
       ]
      }
     ],
     "prompt_number": 76
    },
    {
     "cell_type": "code",
     "collapsed": false,
     "input": [
      "ceiling( (SKA1LowPower / PowerPerRack).subs({W: 1/u.mega*S('MW')}) )"
     ],
     "language": "python",
     "metadata": {},
     "outputs": [
      {
       "latex": [
        "$$63$$"
       ],
       "metadata": {},
       "output_type": "pyout",
       "png": "[encoded data removed]",
       "prompt_number": 77,
       "text": [
        "63"
       ]
      }
     ],
     "prompt_number": 77
    },
    {
     "cell_type": "code",
     "collapsed": false,
     "input": [
      "ceiling( (SKA1MidPower / PowerPerRack).subs({W: 1/u.mega*S('MW')}) )"
     ],
     "language": "python",
     "metadata": {},
     "outputs": [
      {
       "latex": [
        "$$621$$"
       ],
       "metadata": {},
       "output_type": "pyout",
       "png": "[encoded data removed]",
       "prompt_number": 78,
       "text": [
        "621"
       ]
      }
     ],
     "prompt_number": 78
    },
    {
     "cell_type": "code",
     "collapsed": false,
     "input": [
      "ceiling( (SKA1SurveyPower / PowerPerRack).subs({W: 1/u.mega*S('MW')}) )"
     ],
     "language": "python",
     "metadata": {},
     "outputs": [
      {
       "latex": [
        "$$448$$"
       ],
       "metadata": {},
       "output_type": "pyout",
       "png": "[encoded data removed]",
       "prompt_number": 79,
       "text": [
        "448"
       ]
      }
     ],
     "prompt_number": 79
    },
    {
     "cell_type": "heading",
     "level": 1,
     "metadata": {},
     "source": [
      "Computational Tests"
     ]
    },
    {
     "cell_type": "heading",
     "level": 2,
     "metadata": {},
     "source": [
      "Core snapshots for transient testing"
     ]
    },
    {
     "cell_type": "code",
     "collapsed": false,
     "input": [
      "SKA1MidCoreInfo = telescope_info['SKA1Mid'].copy()\n",
      "SKA1MidCoreInfo[Bmax]=2*u.km # 1 Km radius\n",
      "SKA1MidCoreInfo[Na]=76+26 # Core antennas per baseline design + half MeerKAT\n",
      "SKA1MidCoreInfo[tdump] = Rational(1,1000)*u.s\n",
      "SKA1MidCoreInfo"
     ],
     "language": "python",
     "metadata": {},
     "outputs": [
      {
       "latex": [
        "$$\\begin{Bmatrix}B_{{max}} : 2000 m, & D_{s} : 15 m, & NAA : 9, & N_{a} : 102, & N_{f} : 256000, & N_{{beam}} : 1, & \\lambda : 0.258441774137931 m, & t_{{dump}} : \\frac{s}{1000}\\end{Bmatrix}$$"
       ],
       "metadata": {},
       "output_type": "pyout",
       "png": "[encoded data removed]",
       "prompt_number": 80,
       "text": [
        "\u23a7                                                                             \n",
        "\u23a8B_{max}: 2000\u22c5m, D_s: 15\u22c5m, NAA: 9, N\u2090: 102, N_f: 256000, N_{beam}: 1, \\lambd\n",
        "\u23a9                                                                             \n",
        "\n",
        "                                   s  \u23ab\n",
        "a: 0.258441774137931\u22c5m, t_{dump}: \u2500\u2500\u2500\u2500\u23ac\n",
        "                                  1000\u23ad"
       ]
      }
     ],
     "prompt_number": 80
    },
    {
     "cell_type": "code",
     "collapsed": false,
     "input": [
      "#SKA1MidCoreTransientRate = CompRate.subs(SKA1MidCoreInfo).subs({NGW: NGW_SKA1Mid, Nfacet: 1}).evalf(4)\n",
      "#SKA1MidCoreTransientRate.subs({Ops: Rational(1,1000000000000)*S('TFLOPS')*u.s})"
     ],
     "language": "python",
     "metadata": {},
     "outputs": [],
     "prompt_number": 81
    },
    {
     "cell_type": "code",
     "collapsed": false,
     "input": [
      "SKA1MidCoreTransientRate = CompRate.subs(SKA1MidCoreInfo).subs({NGW: NGW_SKA1Mid, Nfacet: 1}).evalf()\n",
      "SKA1MidCoreTransientRate.subs({Ops: Rational(1,1000000000000)*S('TFLOPS')*u.s}).evalf(2)"
     ],
     "language": "python",
     "metadata": {},
     "outputs": [
      {
       "latex": [
        "$$5.5 \\cdot 10^{4} TFLOPS$$"
       ],
       "metadata": {},
       "output_type": "pyout",
       "png": "[encoded data removed]",
       "prompt_number": 82,
       "text": [
        "5.5e+4\u22c5TFLOPS"
       ]
      }
     ],
     "prompt_number": 82
    },
    {
     "cell_type": "code",
     "collapsed": false,
     "input": [
      "SKA1MidCoreInfo[Na] = 76+26+31+21+18 # All except half of those beyond 4km\n",
      "SKA1MidCoreInfo[Bmax]= 20*u.km\n",
      "SKA1MidCoreInfo[NGW]= NGW_SKA1Mid\n",
      "SKA1MidCoreInfo\n"
     ],
     "language": "python",
     "metadata": {},
     "outputs": [
      {
       "latex": [
        "$$\\begin{Bmatrix}B_{{max}} : 20000 m, & D_{s} : 15 m, & NAA : 9, & N_{a} : 172, & N_{f} : 256000, & N_{{GW}} : 35, & N_{{beam}} : 1, & \\lambda : 0.258441774137931 m, & t_{{dump}} : \\frac{s}{1000}\\end{Bmatrix}$$"
       ],
       "metadata": {},
       "output_type": "pyout",
       "png": "[encoded data removed]",
       "prompt_number": 83,
       "text": [
        "\u23a7                                                                             \n",
        "\u23a8B_{max}: 20000\u22c5m, D_s: 15\u22c5m, NAA: 9, N\u2090: 172, N_f: 256000, N_{GW}: 35, N_{bea\n",
        "\u23a9                                                                             \n",
        "\n",
        "                                                s  \u23ab\n",
        "m}: 1, \\lambda: 0.258441774137931\u22c5m, t_{dump}: \u2500\u2500\u2500\u2500\u23ac\n",
        "                                               1000\u23ad"
       ]
      }
     ],
     "prompt_number": 83
    },
    {
     "cell_type": "code",
     "collapsed": true,
     "input": [
      "SKA1MidCoreTransientRate2 = CompRate.subs(SKA1MidCoreInfo).subs({Nfacet: 1}).evalf(4)\n",
      "SKA1MidCoreTransientRate2.subs({Ops: Rational(1,1000000000000)*S('TFLOPS')*u.s})"
     ],
     "language": "python",
     "metadata": {},
     "outputs": [
      {
       "latex": [
        "$$1.573 \\cdot 10^{5} TFLOPS$$"
       ],
       "metadata": {},
       "output_type": "pyout",
       "png": "[encoded data removed]",
       "prompt_number": 84,
       "text": [
        "1.573e+5\u22c5TFLOPS"
       ]
      }
     ],
     "prompt_number": 84
    },
    {
     "cell_type": "markdown",
     "metadata": {},
     "source": [
      "The increase in number of operations from snapshots in the core to snapshots up to 20 km is given by"
     ]
    },
    {
     "cell_type": "code",
     "collapsed": false,
     "input": [
      "SKA1MidCoreTransientRate2/SKA1MidCoreTransientRate"
     ],
     "language": "python",
     "metadata": {},
     "outputs": [
      {
       "latex": [
        "$$2.85509665319427$$"
       ],
       "metadata": {},
       "output_type": "pyout",
       "png": "[encoded data removed]",
       "prompt_number": 85,
       "text": [
        "2.85509665319427"
       ]
      }
     ],
     "prompt_number": 85
    },
    {
     "cell_type": "heading",
     "level": 1,
     "metadata": {},
     "source": [
      "Calculating power consumption and storage needs per Science Use Case"
     ]
    },
    {
     "cell_type": "markdown",
     "metadata": {},
     "source": [
      "Setting up for plotting afterwards:"
     ]
    },
    {
     "cell_type": "code",
     "collapsed": false,
     "input": [
      "import matplotlib\n",
      "%matplotlib inline\n",
      "%config InlineBackend.figure_format='svg'\n",
      "from matplotlib import pyplot as plt\n",
      "\n",
      "# To help calculate the number of antennas\n",
      "telescope_layout = {\n",
      "    'SKA1Low' : [\n",
      "        ( 600*u.m, 433),\n",
      "        (1000*u.m, 650-433),\n",
      "        ( 100*u.kilo*u.m,45)\n",
      "    ],\n",
      "    'SKA1Mid': [\n",
      "        ( 400*u.m,76),\n",
      "        (1000*u.m,26),\n",
      "        (2500*u.m,31),\n",
      "        (4000*u.m,21),\n",
      "        ( 100*u.kilo*u.m,36)\n",
      "    ],\n",
      "    'SKA1Survey': [\n",
      "        ( 400*u.m,11),\n",
      "        (1000*u.m,18),\n",
      "        (2500*u.m,31),\n",
      "        (4000*u.m,15),\n",
      "        (  50*u.kilo*u.m,21)\n",
      "    ],\n",
      "}\n",
      "\n",
      "def antennas_in_radius(radius,telescope):\n",
      "    antennas = 0\n",
      "    last_radius = 0*u.m\n",
      "    if telescope not in telescope_list:\n",
      "        raise ValueError(\"telescope %s not one of %s\" % (telescope, telescope_list))\n",
      "    for layout_radius,layout_antennas in telescope_layout[telescope]:\n",
      "        # Careful, assumes tuples are ordered in growing number of radius\n",
      "        if radius >= layout_radius:\n",
      "            antennas += layout_antennas\n",
      "            last_radius = layout_radius\n",
      "            continue\n",
      "        else:\n",
      "            antennas += int(layout_antennas*(radius-last_radius)/(layout_radius-last_radius)+0.5)\n",
      "            break\n",
      "    return antennas\n",
      "\n",
      "def antennas_in_baseline(baseline,telescope):\n",
      "    return antennas_in_radius(baseline/2, telescope)"
     ],
     "language": "python",
     "metadata": {},
     "outputs": [],
     "prompt_number": 86
    },
    {
     "cell_type": "code",
     "collapsed": false,
     "input": [
      "ComputationalNeedsList = []\n",
      "SKA1_construction = 2018 # Year of construction for power projections\n",
      "# We will store the different use cases in a list\n",
      "# of dictionaries with entries with keys:\n",
      "def build_use_case_result(\n",
      "        telescope=None,\n",
      "        use_case=None,\n",
      "        row_suffix=None,\n",
      "        sdp_rate=SDPInRate,\n",
      "        comp_rate=CompRate,\n",
      "        subs_values={},\n",
      "        year=SKA1_construction):\n",
      "    result = {\n",
      "       'rowId':     use_case + '-' + row_suffix, # unique ID of the result\n",
      "       'useCaseId': use_case, # ID of the use case\n",
      "       'telescope': telescope, # telescope configuration used\n",
      "       'sdpInRate': sdp_rate.subs(telescope).subs(subs_values).evalf(3), # Visibility ingest data rate\n",
      "       'compRate':  comp_rate.subs(telescope).subs(subs_values).evalf(3), # Computational rate for the use case\n",
      "       'powerRate': (comp_rate.subs(telescope).subs(subs_values)/DPP(year)).evalf(3), # Power conversion of CompRate\n",
      "    }\n",
      "\n",
      "    return result\n",
      "\n"
     ],
     "language": "python",
     "metadata": {},
     "outputs": [],
     "prompt_number": 87
    },
    {
     "cell_type": "code",
     "collapsed": false,
     "input": [
      "Npix, Nstokes = symbols('N_{pix} N_{stokes}')\n",
      "Npix = 3*Bmax/Ds\n",
      "DataCubeSize = Npix**2 * Nstokes * (4*byte) * Nf\n",
      "DataCubeSize"
     ],
     "language": "python",
     "metadata": {},
     "outputs": [
      {
       "latex": [
        "$$\\frac{36 N_{{stokes}}}{D_{s}^{2}} B_{{max}}^{2} N_{f} B$$"
       ],
       "metadata": {},
       "output_type": "pyout",
       "png": "[encoded data removed]",
       "prompt_number": 88,
       "text": [
        "          2                 \n",
        "36\u22c5B_{max} \u22c5N_f\u22c5N_{stokes}\u22c5B\n",
        "\u2500\u2500\u2500\u2500\u2500\u2500\u2500\u2500\u2500\u2500\u2500\u2500\u2500\u2500\u2500\u2500\u2500\u2500\u2500\u2500\u2500\u2500\u2500\u2500\u2500\u2500\u2500\u2500\n",
        "               2            \n",
        "            D_s             "
       ]
      }
     ],
     "prompt_number": 88
    },
    {
     "cell_type": "code",
     "collapsed": false,
     "input": [
      "UseCasesPerTelescope = {\n",
      "    'SKA1Low': [],\n",
      "    'SKA1Mid': [],\n",
      "    'SKA1Survey': []\n",
      "}"
     ],
     "language": "python",
     "metadata": {},
     "outputs": [],
     "prompt_number": 89
    },
    {
     "cell_type": "heading",
     "level": 2,
     "metadata": {},
     "source": [
      "Science Use Case 1: Epoch of Reionization "
     ]
    },
    {
     "cell_type": "markdown",
     "metadata": {},
     "source": [
      "**Telescope**: SKA1-Low\n",
      "\n",
      "**Total time**: 1000h toward each of two fields with LOW   (2000h total)\n",
      "\n",
      "**FoV**: ~25 square degrees each\n",
      "\n",
      "**Bandwidth**: 250 MHz between 50 and 300 MHz\n",
      "\n",
      "**Spectral resolution**: ~10 kHz after resampling (25000 channels)\n",
      "\n",
      "**Correlator dump time**: 0.6s\n",
      "\n",
      "**Target(s)**:\n",
      "\n",
      "  - two ~25 square deg. fields centered at RA = 0h51m26.0,\n",
      "    DEC = -27d07m42.0  and RA = 4h51m00.0, DEC = -27d07m42.0  (J2000)\n",
      "            \n",
      "\n",
      "**Assumed scheduling block duration**: 1h \n",
      "\n",
      "Observing frequency: assume that each day 3 to 4 scheduling blocks are\n",
      "observed toward each field every night for a total of 6 to 8 hours\n",
      "total observing time per day (survey then takes about 250 days)\n",
      "\n",
      "**Scheduling block content**:\n",
      "\n",
      "  - first scheduling block toward each new\n",
      "    target field should have a flux calibration\n",
      "    observation, possibly PicA (assume 30deg offset from target)\n",
      "         \n",
      "**Quality assessment**: At the end of each 1h observing block, a quality\n",
      "assessment check should be performed, including imaging of the\n",
      "spectral line cube at 10 arcsecond resolution and a calculation of the rms versus frequency. \n",
      "\n",
      "**Required operations**: station beamforming, correlator\n",
      "\n",
      "**SDP operations**:\n",
      "\n",
      "   1. calibrated visibility data at ~10kHz resolution\n",
      "    (some time averaging might also be done) to be stored throughout\n",
      "    the duration of the survey. This will likely be provided by the survey\n",
      "    team. \n",
      "   2. A spectral line cube with 0.1 MHz spectral resolution \n",
      "   3. a two-dimensional power spectrum\n",
      "\n",
      "**Additional data products requested by the observer**: None"
     ]
    },
    {
     "cell_type": "code",
     "collapsed": false,
     "input": [
      "total_time = 2 * 1000 * u.hour\n",
      "fov = 2 * 25 * u.degrees**2\n",
      "field_size = 300 * u.degrees**2\n",
      "num_pointings = field_size / fov\n",
      "\n",
      "min_frequency = 50*u.mega*u.Hz\n",
      "max_frequency = 350*u.mega*u.Hz\n",
      "bandwidth     = max_frequency - min_frequency\n",
      "\n",
      "central_frequency = (max_frequency+min_frequency)/2\n",
      "frequency_resolutions = [ 10 * u.kilo * u.Hz, 0.1 * u.mega * u.Hz]\n",
      "\n",
      "from math import ceil\n",
      "num_channels_list = [\n",
      "    int(2**ceil(log(bandwidth / frequency_resolution)/log(2)))\n",
      "    for frequency_resolution in frequency_resolutions\n",
      "]\n",
      "\n",
      "central_wavelength = c/central_frequency\n",
      "(\n",
      "    num_channels_list,\n",
      "    [(bandwidth/num_channels).evalf(3) for num_channels in num_channels_list],\n",
      "    central_wavelength\n",
      ")"
     ],
     "language": "python",
     "metadata": {},
     "outputs": [
      {
       "latex": [
        "$$\\begin{pmatrix}\\begin{bmatrix}32768, & 4096\\end{bmatrix}, & \\begin{bmatrix}\\frac{1}{s} 9.16 \\cdot 10^{3}, & \\frac{1}{s} 7.32 \\cdot 10^{4}\\end{bmatrix}, & 1.49896229 m\\end{pmatrix}$$"
       ],
       "metadata": {},
       "output_type": "pyout",
       "png": "[encoded data removed]",
       "prompt_number": 90,
       "text": [
        "\u239b               \u23a19.16e+3  7.32e+4\u23a4              \u239e\n",
        "\u239c[32768, 4096], \u23a2\u2500\u2500\u2500\u2500\u2500\u2500\u2500, \u2500\u2500\u2500\u2500\u2500\u2500\u2500\u23a5, 1.49896229\u22c5m\u239f\n",
        "\u239d               \u23a3   s        s   \u23a6              \u23a0"
       ]
      }
     ],
     "prompt_number": 90
    },
    {
     "cell_type": "code",
     "collapsed": false,
     "input": [
      "for i in range(0,len(num_channels_list)):\n",
      "    result = {}\n",
      "    telescope = telescope_info['SKA1Low'].copy()\n",
      "    telescope[wl]=central_frequency\n",
      "    telescope[Nf]=num_channels_list[i]\n",
      "    result = build_use_case_result(\n",
      "                telescope=telescope,\n",
      "                use_case='UseCase-1',\n",
      "                row_suffix=str(i),\n",
      "                subs_values = {Nfacet: 1, NGW: NGW_SKA1Low},\n",
      "                year = SKA1_construction\n",
      "    )\n",
      "    result['storageRate'] = (\n",
      "        DataCubeSize.subs(telescope).subs({Nstokes: 1})*num_pointings/total_time\n",
      "    ).evalf(3)\n",
      "    result['duration']=total_time\n",
      "    display(result)\n",
      "    ComputationalNeedsList.append(result)\n",
      "    UseCasesPerTelescope['SKA1Low'].append(result['useCaseId'])"
     ],
     "language": "python",
     "metadata": {},
     "outputs": [
      {
       "metadata": {},
       "output_type": "display_data",
       "text": [
        "{'compRate': 1.62e+14*Ops/s,\n",
        " 'duration': 7200000*s,\n",
        " 'powerRate': 5.62e+3*W,\n",
        " 'rowId': 'UseCase-1-0',\n",
        " 'sdpInRate': 915364904960.0*B/s,\n",
        " 'storageRate': 8.03e+6*B/s,\n",
        " 'telescope': {N_{beam}: 1,\n",
        "  N_a: 1024,\n",
        "  t_{dump}: 0.6*s,\n",
        "  \\lambda: 200000000/s,\n",
        "  D_s: 35*m,\n",
        "  NAA: 9,\n",
        "  N_f: 32768,\n",
        "  B_{max}: 100000*m},\n",
        " 'useCaseId': 'UseCase-1'}"
       ]
      },
      {
       "metadata": {},
       "output_type": "display_data",
       "text": [
        "{'compRate': 2.02e+13*Ops/s,\n",
        " 'duration': 7200000*s,\n",
        " 'powerRate': 703.0*W,\n",
        " 'rowId': 'UseCase-1-1',\n",
        " 'sdpInRate': 114420613120.0*B/s,\n",
        " 'storageRate': 1.0e+6*B/s,\n",
        " 'telescope': {N_{beam}: 1,\n",
        "  N_a: 1024,\n",
        "  t_{dump}: 0.6*s,\n",
        "  \\lambda: 200000000/s,\n",
        "  D_s: 35*m,\n",
        "  NAA: 9,\n",
        "  N_f: 4096,\n",
        "  B_{max}: 100000*m},\n",
        " 'useCaseId': 'UseCase-1'}"
       ]
      }
     ],
     "prompt_number": 91
    },
    {
     "cell_type": "code",
     "collapsed": false,
     "input": [
      "max_angular_resolution = (\n",
      "    # frequency in Hertz => c/central_frequency in m => \n",
      "    # need to convert to degrees => *3600 in seconds\n",
      "    (0.98*(c/central_frequency) / telescope[Bmax])/pi*180\n",
      ").evalf()*3600\n",
      "max_angular_resolution*S('arcsec')"
     ],
     "language": "python",
     "metadata": {},
     "outputs": [
      {
       "latex": [
        "$$3.02999502992183 arcsec$$"
       ],
       "metadata": {},
       "output_type": "pyout",
       "png": "[encoded data removed]",
       "prompt_number": 92,
       "text": [
        "3.02999502992183\u22c5arcsec"
       ]
      }
     ],
     "prompt_number": 92
    },
    {
     "cell_type": "heading",
     "level": 2,
     "metadata": {},
     "source": [
      "Science Use Case 2: An All-sky pulsar survey"
     ]
    },
    {
     "cell_type": "markdown",
     "metadata": {},
     "source": [
      "**Telescope**: SKA1-Mid, but only the core dishes within 475m radius\n",
      "\n",
      "**Total time**: 8400h  (8000h with MID band 1 and 400h with band 2)\n",
      "\n",
      "**FoV**: 2222 tied array beams covering a total FoV of 1 square degree\n",
      "(80% of the primary beam)\n",
      "\n",
      "**Frequency and Bandwidth**: 800 MHz for outside the Galactic plane,\n",
      "1400 MHz in the plane (+/-5 degrees). Total bandwidth 300 MHz in \n",
      "both cases \n",
      "\n",
      "**Spectral resolution**: 20 to 75 kHz\n",
      "\n",
      "**Correlator dump time**: N/A \n",
      "\n",
      "**Non-imaging processor to be used, dump time**: 50 microsec \n",
      "\n",
      "**Target(s)**: whole sky visible with SKA1-Mid  (36000 sq. degrees)\n",
      "            \n",
      "**Assumed scheduling block duration**: 1h. \n",
      "Each of 16 scheduling blocks requests observations of 3 to 4 pulsars for 15mins\n",
      "each with the 16 different sub-arrays.  \n",
      "\n",
      "**Observing strategy**: Each scheduling block observes 4 different\n",
      "pulsars, and we have a different different scheduling block for each sub-array\n",
      "\n",
      "**Observing frequency**: Twice a week for one hour each session \n",
      "\n",
      "**Scheduling block content**: four changes of target \n",
      "         \n",
      "**Quality assessment**: regular checks on amplitudes, phase, polarisation,\n",
      "dispersion measure, period and acceleration, flag tables, candidate\n",
      "statistics and RFI statistics\n",
      "\n",
      "**Required operations**: Non-imaging processor and beamformer\n",
      "\n",
      "**SDP operations**: Most of the operations will be done by the pulsar\n",
      "search engine. Data products include a  candidate list, and for each candidate:\n",
      "the sky position, pulse, average, total intensity, flux density,\n",
      "period, dispersion measure, pulse archive, DM SNR data, and three 3\n",
      "dimensional data cubes \n",
      "\n",
      "**Additional data products requested by the observer**: None"
     ]
    },
    {
     "cell_type": "code",
     "collapsed": false,
     "input": [
      "total_time = (8000 + 400) * u.hour\n",
      "fov = 1 * u.degrees**2\n",
      "field_size = 1 * u.degrees**2\n",
      "num_pointings = field_size / fov\n",
      "\n",
      "bandwidth     = 300 * u.mega * u.Hz\n",
      "min_frequencies = [800*u.mega*u.Hz-bandwidth/2, 1400*u.mega*u.Hz-bandwidth/2]\n",
      "max_frequencies = [800*u.mega*u.Hz-bandwidth/2, 1400*u.mega*u.Hz-bandwidth/2]\n",
      "\n",
      "central_frequencies = [(max_frequencies[i]+min_frequencies[i])/2 for i in range(len(min_frequencies))]\n",
      "\n",
      "frequency_resolutions = [20 * u.kilo * u.Hz, 75 * u.kilo * u.Hz]\n",
      "frequency_resolution2 = 0.1 * u.mega * u.Hz\n",
      "\n",
      "from math import ceil\n",
      "num_channels_list = [\n",
      "    int(2**ceil(log(bandwidth / frequency_resolution)/log(2)))\n",
      "    for frequency_resolution in frequency_resolutions\n",
      "]\n",
      "central_wavelengths = [c/central_frequency for central_frequency in central_frequencies]\n",
      "bandwidths = [(bandwidth/num_channels_list[i]).evalf(3) for i in range(0,len(central_wavelengths))]\n",
      "\n",
      "{\n",
      "    'number of channels': num_channels,\n",
      "    'bandwidths': bandwidths,\n",
      "    'central wavelengths': central_wavelengths\n",
      "}"
     ],
     "language": "python",
     "metadata": {},
     "outputs": [
      {
       "metadata": {},
       "output_type": "pyout",
       "prompt_number": 93,
       "text": [
        "{'bandwidths': [1.83e+4/s, 7.32e+4/s],\n",
        " 'central wavelengths': [0.461219166153846*m, 0.2398339664*m],\n",
        " 'number of channels': 4096}"
       ]
      }
     ],
     "prompt_number": 93
    },
    {
     "cell_type": "code",
     "collapsed": false,
     "input": [
      "radius = 475*u.m\n",
      "for i in range(0,len(num_channels_list)):\n",
      "    telescope = telescope_info['SKA1Mid'].copy()\n",
      "    telescope[wl]=central_frequencies[i]\n",
      "    telescope[Nf]=num_channels_list[i]\n",
      "    telescope[Na]= antennas_in_radius(radius,'SKA1Mid')\n",
      "    telescope[Bmax]=2*radius\n",
      "    telescope[NGW]=NGW_SKA1Mid\n",
      "    telescope[tdump]=50*u.micro*u.s\n",
      "    result = build_use_case_result(\n",
      "        telescope = telescope,\n",
      "        use_case = 'UseCase-2',\n",
      "        row_suffix = str(i),\n",
      "        subs_values = {NGW: NGW_SKA1Mid, Nfacet: 1},\n",
      "        year = SKA1_construction\n",
      "    )\n",
      "    result['storageRate'] = (DataCubeSize.subs(telescope).subs({Nstokes: 4})*num_pointings*2222/total_time).evalf(3)\n",
      "    result['duration'] = total_time\n",
      "    ComputationalNeedsList.append(result)\n",
      "    display(result)\n",
      "    UseCasesPerTelescope['SKA1Mid'].append(result['useCaseId'])"
     ],
     "language": "python",
     "metadata": {},
     "outputs": [
      {
       "metadata": {},
       "output_type": "display_data",
       "text": [
        "{'compRate': 2.45e+16*Ops/s,\n",
        " 'duration': 30240000*s,\n",
        " 'powerRate': 8.49e+5*W,\n",
        " 'rowId': 'UseCase-2-0',\n",
        " 'sdpInRate': 3.23e+13*B/s,\n",
        " 'storageRate': 6.95e+5*B/s,\n",
        " 'telescope': {N_{beam}: 1,\n",
        "  N_a: 79,\n",
        "  t_{dump}: s/20000,\n",
        "  N_{GW}: 26,\n",
        "  \\lambda: 650000000/s,\n",
        "  D_s: 15*m,\n",
        "  NAA: 9,\n",
        "  N_f: 16384,\n",
        "  B_{max}: 950*m},\n",
        " 'useCaseId': 'UseCase-2'}"
       ]
      },
      {
       "metadata": {},
       "output_type": "display_data",
       "text": [
        "{'compRate': 6.11e+15*Ops/s,\n",
        " 'duration': 30240000*s,\n",
        " 'powerRate': 2.12e+5*W,\n",
        " 'rowId': 'UseCase-2-1',\n",
        " 'sdpInRate': 8.08e+12*B/s,\n",
        " 'storageRate': 1.74e+5*B/s,\n",
        " 'telescope': {N_{beam}: 1,\n",
        "  N_a: 79,\n",
        "  t_{dump}: s/20000,\n",
        "  N_{GW}: 26,\n",
        "  \\lambda: 1250000000/s,\n",
        "  D_s: 15*m,\n",
        "  NAA: 9,\n",
        "  N_f: 4096,\n",
        "  B_{max}: 950*m},\n",
        " 'useCaseId': 'UseCase-2'}"
       ]
      }
     ],
     "prompt_number": 94
    },
    {
     "cell_type": "markdown",
     "metadata": {},
     "source": [
      "**Note** that these estimates are _very high_ due to the very small dump time. "
     ]
    },
    {
     "cell_type": "heading",
     "level": 2,
     "metadata": {},
     "source": [
      "Science Use Case 3: pulsar timing of millisecond pulsars "
     ]
    },
    {
     "cell_type": "markdown",
     "metadata": {},
     "source": [
      "**Telescope**: SKA1-Mid, but only the core dishes within 475m radius\n",
      "(bands 2 and 3)\n",
      "\n",
      "**Total time**: unknown\n",
      "\n",
      "**Frequency and Bandwidth**: 1.35 GHz and 2.35 GHz. Full bandwidth 300 MHz in both cases \n",
      "\n",
      "**Spectral resolution**: 10 MHz\n",
      "\n",
      "**Correlator dump time**: N/A \n",
      "\n",
      "**Non-imaging processor to be used, dump time**: 100ns \n",
      "\n",
      "**Target(s)**: 50 pulsars observed twice each week\n",
      "            \n",
      "**Assumed scheduling block duration**: 1h.  \n",
      "Each scheduling block requests 16 sub-arrays to survey simultaneously\n",
      "\n",
      "**Observing strategy**: 200 seconds per target\n",
      "\n",
      "**Scheduling block content**: \n",
      "         \n",
      "**Quality assessment**: regular checks on amplitudes, phase, polarisation,\n",
      "dispersion measure, period and acceleration, flag tables, candidate\n",
      "statistics and RFI statistics\n",
      "\n",
      "**Required operations**: Non-imaging processor and beamformer\n",
      "\n",
      "**SDP operations**: Most of the operations will be done by the pulsar\n",
      "search engine. Data products include:\n",
      "\n",
      "- pulse profiles\n",
      "- 3-dimensional data cubes of subintegrations\n",
      "- frequency profile in PSRFITS format\n",
      "- estimates of cyclic spectra\n",
      "- spectral kurtosis\n",
      "\n",
      "**Additional data products requested by the observer**: None\n",
      "   "
     ]
    },
    {
     "cell_type": "code",
     "collapsed": false,
     "input": [
      "num_pointings = 50 * 2 * 52 * 25  # asuming 25 years pulsar search: 50*2*52*25*200/3600 = 7222h\n",
      "total_time = (200*u.s) * num_pointings\n",
      "bandwidth     = 300 * u.mega * u.Hz\n",
      "min_frequencies = [1350*u.mega*u.Hz-bandwidth/2, 2350*u.mega*u.Hz-bandwidth/2]\n",
      "max_frequencies = [1350*u.mega*u.Hz-bandwidth/2, 2350*u.mega*u.Hz-bandwidth/2]\n",
      "\n",
      "central_frequencies = [(max_frequencies[i]+min_frequencies[i])/2 for i in range(len(min_frequencies))]\n",
      "\n",
      "frequency_resolution = 10 * u.mega * u.Hz\n",
      "\n",
      "from math import ceil\n",
      "num_channels = int(2**ceil(log(bandwidth / frequency_resolution)/log(2)))\n",
      "\n",
      "central_wavelengths = [c/central_frequency for central_frequency in central_frequencies]"
     ],
     "language": "python",
     "metadata": {},
     "outputs": [],
     "prompt_number": 95
    },
    {
     "cell_type": "code",
     "collapsed": false,
     "input": [
      "num_sub_arrays = 16\n",
      "for i in range(0,len(central_frequencies)):\n",
      "    telescope = telescope_info['SKA1Mid'].copy()\n",
      "    telescope[wl]=central_frequencies[i]\n",
      "    telescope[Nf]=num_channels\n",
      "    telescope[Na]= int(antennas_in_baseline(telescope[Bmax],'SKA1Mid') / num_sub_arrays)\n",
      "    telescope[NGW]=NGW_SKA1Mid\n",
      "    telescope[tdump]=100*u.nano*u.s\n",
      "    result = build_use_case_result(\n",
      "        telescope = telescope,\n",
      "        use_case = 'UseCase-3',\n",
      "        row_suffix = str(i),\n",
      "        subs_values = {NGW: NGW_SKA1Mid, Nfacet: 1},\n",
      "        year = SKA1_construction\n",
      "    )\n",
      "    result['sdpInRate'] *= num_sub_arrays\n",
      "    result['compRate'] *= num_sub_arrays\n",
      "    result['powerRate'] *= num_sub_arrays\n",
      "    result['storageRate'] = (DataCubeSize.subs(telescope).subs({Nstokes: 4})*num_pointings/total_time).evalf(3)\n",
      "    result['duration'] = total_time\n",
      "    ComputationalNeedsList.append(result)\n",
      "    display(result)\n",
      "    UseCasesPerTelescope['SKA1Mid'].append(result['useCaseId'])"
     ],
     "language": "python",
     "metadata": {},
     "outputs": [
      {
       "metadata": {},
       "output_type": "display_data",
       "text": [
        "{'compRate': 6.83e+15*Ops/s,\n",
        " 'duration': 26000000*s,\n",
        " 'powerRate': 2.37e+5*W,\n",
        " 'rowId': 'UseCase-3-0',\n",
        " 'sdpInRate': 9.01e+12*B/s,\n",
        " 'storageRate': 2.3e+9*B/s,\n",
        " 'telescope': {N_{beam}: 1,\n",
        "  N_a: 11,\n",
        "  t_{dump}: s/10000000,\n",
        "  N_{GW}: 26,\n",
        "  \\lambda: 1200000000/s,\n",
        "  D_s: 15*m,\n",
        "  NAA: 9,\n",
        "  N_f: 32,\n",
        "  B_{max}: 150000*m},\n",
        " 'useCaseId': 'UseCase-3'}"
       ]
      },
      {
       "metadata": {},
       "output_type": "display_data",
       "text": [
        "{'compRate': 6.83e+15*Ops/s,\n",
        " 'duration': 26000000*s,\n",
        " 'powerRate': 2.37e+5*W,\n",
        " 'rowId': 'UseCase-3-1',\n",
        " 'sdpInRate': 9.01e+12*B/s,\n",
        " 'storageRate': 2.3e+9*B/s,\n",
        " 'telescope': {N_{beam}: 1,\n",
        "  N_a: 11,\n",
        "  t_{dump}: s/10000000,\n",
        "  N_{GW}: 26,\n",
        "  \\lambda: 2200000000/s,\n",
        "  D_s: 15*m,\n",
        "  NAA: 9,\n",
        "  N_f: 32,\n",
        "  B_{max}: 150000*m},\n",
        " 'useCaseId': 'UseCase-3'}"
       ]
      }
     ],
     "prompt_number": 96
    },
    {
     "cell_type": "heading",
     "level": 2,
     "metadata": {},
     "source": [
      "Science Use Case 4: Deep HI line and continuum "
     ]
    },
    {
     "cell_type": "markdown",
     "metadata": {},
     "source": [
      "**Telescope**: SKA1 MID band 1 (350 to 1050 MHz)\n",
      "\n",
      "**Total time**: 1000h toward one field over \n",
      "\n",
      "**FoV**: ~1.4 degrees diameter\n",
      "\n",
      "**Bandwidth**: 700 MHz between 350 and 1050 MHz\n",
      "\n",
      "**Spectral resolution**: 10km/s (12 to 35kHz)\n",
      "\n",
      "**Correlator dump time**: 0.08s for 200km baselines, 1.6s for 10 km baselines\n",
      "\n",
      "**Target(s)**: one fields centered at RA = 3h32m39.0, DEC = -27d47m29.1  \n",
      "            \n",
      "**Assumed scheduling block duration**: 1h \n",
      "\n",
      "**Observing frequency**: assume that each day 3 to 8 scheduling blocks are\n",
      "observed toward each field every night for a total of 3 to 8 hours\n",
      "total observing time per day (survey then takes about 125 to 330 days)\n",
      "\n",
      "**Scheduling block content**:\n",
      "\n",
      "- first scheduling block toward each new target field should have a flux calibration observation (assume 30deg offset from target)\n",
      "         \n",
      "**Quality assessment**: At the end of each 1h observing block, a quality\n",
      "assessment check should be performed, including imaging of the\n",
      "spectral line cube at 20 arcsecond resolution and a calculation of the rms versus frequency. \n",
      "\n",
      "**Required operations**: correlator\n",
      "\n",
      "**SDP operations**:\n",
      "\n",
      "1. Four spectral line data cubes with 10km/s spectral resolution across the full 700 MHz of bandwidth, smoothed to resolutions of 0.5\u201d, 2.0\u201d, 10.0\u201d and 20.0\u201d.\n",
      "2. Seven continuum images generated using multi-frequency synthesis imaging over 100 MHz of bandwidth.\n",
      "3. Source catalogue generated from the continuum images at the end of each observing run and from the final (combined) images\n",
      "4. Source catalogue and 60\u2019\u2019x60\u2019\u2019x2000 km/s postage stamp _cube_ of each HI line candidate identified in the final (combined) spectral line cube.\n",
      "\n",
      "**Additional data products requested by the observer**:\n",
      "\n",
      "- Stacked spectra or continuum images based on user-defined input catalogue. The pipeline should also be able to generate a stacked absorption line spectrum. "
     ]
    },
    {
     "cell_type": "code",
     "collapsed": false,
     "input": [
      "total_time = 1000 * u.hour\n",
      "fov = 1 * u.degrees**2\n",
      "field_size = 1.4 * u.degrees**2\n",
      "num_pointings = field_size / fov\n",
      "\n",
      "min_frequency = 350*u.mega*u.Hz\n",
      "max_frequency = 1050*u.mega*u.Hz\n",
      "bandwidth     = max_frequency - min_frequency\n",
      "\n",
      "central_frequency = (max_frequency+min_frequency)/2\n",
      "\n",
      "frequency_resolution = 12 * u.kilo * u.Hz\n",
      "\n",
      "from math import ceil\n",
      "num_channels = int(2**ceil(log(bandwidth / frequency_resolution)/log(2)))\n",
      "central_wavelength = c/central_frequency\n",
      "\n",
      "{\n",
      "    'number of channels': num_channels,\n",
      "    'bandwidth': bandwidth,\n",
      "    'central wavelength': central_wavelength\n",
      "}"
     ],
     "language": "python",
     "metadata": {},
     "outputs": [
      {
       "metadata": {},
       "output_type": "pyout",
       "prompt_number": 97,
       "text": [
        "{'bandwidth': 700000000/s,\n",
        " 'central wavelength': 0.42827494*m,\n",
        " 'number of channels': 65536}"
       ]
      }
     ],
     "prompt_number": 97
    },
    {
     "cell_type": "code",
     "collapsed": false,
     "input": [
      "Bmax_list = [10*u.km, 200*u.km]\n",
      "tdump_list = [1.6*u.s, 0.08*u.s]\n",
      "telescopes_to_evaluate = []\n",
      "for i in range(0,len(Bmax_list)):\n",
      "    telescope        = telescope_info['SKA1Mid'].copy()\n",
      "    telescope[Nf]    = num_channels\n",
      "    telescope[wl]    = central_wavelength\n",
      "    telescope[tdump] = tdump_list[i]\n",
      "    telescope[Bmax]  = Bmax_list[i]\n",
      "    telescope[Na]    = antennas_in_baseline(Bmax_list[i], 'SKA1Mid')\n",
      "    telescopes_to_evaluate.append(telescope)\n",
      "from sympy import pprint"
     ],
     "language": "python",
     "metadata": {},
     "outputs": [],
     "prompt_number": 98
    },
    {
     "cell_type": "code",
     "collapsed": false,
     "input": [
      "for telescope in telescopes_to_evaluate:\n",
      "    result = build_use_case_result(\n",
      "        telescope = telescope,\n",
      "        use_case = 'UseCase-4',\n",
      "        row_suffix = \"%s-%s\" % (telescope[Bmax], telescope[tdump] ),\n",
      "        year = SKA1_construction,\n",
      "        subs_values = {NGW: NGW_SKA1Mid, Nfacet: 1},\n",
      "    )\n",
      "    result['duration'] = total_time\n",
      "    result['storageRate'] = (DataCubeSize.subs(telescope).subs({Nstokes: 1})*num_pointings/total_time)\n",
      "    display(result)\n",
      "    ComputationalNeedsList.append(result)\n",
      "    UseCasesPerTelescope['SKA1Mid'].append(result['useCaseId'])"
     ],
     "language": "python",
     "metadata": {},
     "outputs": [
      {
       "metadata": {},
       "output_type": "display_data",
       "text": [
        "{'compRate': 1.2e+13*Ops/s,\n",
        " 'duration': 3600000*s,\n",
        " 'powerRate': 416.0*W,\n",
        " 'rowId': 'UseCase-4-10000*m-1.6*s',\n",
        " 'sdpInRate': 1.54e+10*B/s,\n",
        " 'storageRate': 407779.555555556*B/s,\n",
        " 'telescope': {N_{beam}: 1,\n",
        "  N_a: 154,\n",
        "  t_{dump}: 1.6*s,\n",
        "  \\lambda: 0.42827494*m,\n",
        "  D_s: 15*m,\n",
        "  NAA: 9,\n",
        "  N_f: 65536,\n",
        "  B_{max}: 10000*m},\n",
        " 'useCaseId': 'UseCase-4'}"
       ]
      },
      {
       "metadata": {},
       "output_type": "display_data",
       "text": [
        "{'compRate': 3.23e+15*Ops/s,\n",
        " 'duration': 3600000*s,\n",
        " 'powerRate': 1.12e+5*W,\n",
        " 'rowId': 'UseCase-4-200000*m-0.08*s',\n",
        " 'sdpInRate': 4.71e+11*B/s,\n",
        " 'storageRate': 163111822.222222*B/s,\n",
        " 'telescope': {N_{beam}: 1,\n",
        "  N_a: 190,\n",
        "  t_{dump}: 0.08*s,\n",
        "  \\lambda: 0.42827494*m,\n",
        "  D_s: 15*m,\n",
        "  NAA: 9,\n",
        "  N_f: 65536,\n",
        "  B_{max}: 200000*m},\n",
        " 'useCaseId': 'UseCase-4'}"
       ]
      }
     ],
     "prompt_number": 99
    },
    {
     "cell_type": "heading",
     "level": 2,
     "metadata": {},
     "source": [
      "Science Use Case 5: An All-sky polarisation, HI and continuum commensal survey"
     ]
    },
    {
     "cell_type": "markdown",
     "metadata": {},
     "source": [
      "**Telescope**: SKA1-Survey band 2 (650 to 1670 MHz)\n",
      "\n",
      "**Total time**: 16000h  for the whole sky\n",
      "\n",
      "**FoV**: 18 square degrees\n",
      "\n",
      "**Bandwidth**: one 500 MHz tuning between 920 and 1420 MHz (note that the\n",
      "use case requests 1000 MHz, but that would require two tunings)\n",
      "\n",
      "**Spectral resolution**: 10 kHz\n",
      "\n",
      "**Correlator dump time**: 0.5s \n",
      "\n",
      "**Target(s)**: one fields centered at RA = 3h32m39.0, DEC = -27d47m29.1  \n",
      "            \n",
      "**Assumed scheduling block duration**: 1h \n",
      "\n",
      "**Observing frequency**: assume that each day 4 or 8 scheduling blocks are\n",
      "observed with four hours spent on each pointing for a total of 3 to 8 hours\n",
      "total observing time per day (survey then takes more than 4.4 years)\n",
      "\n",
      "**Scheduling block content**: first scheduling block toward each new\n",
      "target field should have a flux calibration observation (assume 30deg offset from target)\n",
      "         \n",
      "**Quality assessment**: At the end of each 1h observing block, a quality\n",
      "assessment check should be performed, including imaging of the\n",
      "spectral line cube at 2 arcsec resolution and a calculation of the rms versus frequency. \n",
      "\n",
      "**Required operations**: correlator, beamformer\n",
      "\n",
      "**SDP operations**:\n",
      "\n",
      "1. continuum pipeline generating a 2arcsec beamsize image\n",
      "2. spectral line pipeline generating a 2arcsec beamsize cube\n",
      "4. RM synthesis pipeline\n",
      "3. source identification algorithm (continuum and spetral line)\n",
      "4. Source catalogue and 60\u2019\u2019x60\u2019\u2019x2000 km/s postage stamp *cube* of each HI line candidate identified in the final (combined) spectral line cube.\n",
      "5. slow transient pipeline \n",
      "\n",
      "**Additional data products requested by the observer**: None"
     ]
    },
    {
     "cell_type": "heading",
     "level": 2,
     "metadata": {},
     "source": [
      "Science Use Case 6: Exoplanet characterization with SKA1-LOW"
     ]
    },
    {
     "cell_type": "markdown",
     "metadata": {},
     "source": [
      "**Telescope**: SKA1 LOW (50 to 350 MHz)\n",
      "\n",
      "**Total time**: 250h  total\n",
      "\n",
      "**FoV**: 1 square degree  \n",
      "\n",
      "_**NOTE**: Rather than multi-beaming which is not part of the baseline\n",
      "design, we will assume five sub-arrays. Also, we change the observing\n",
      "strategy to one where the maximum bandwith is 50MHz but with 1.2 kHz channels_\n",
      "\n",
      "**Bandwidth**: 50 MHz bandwidth tuning between 50 and 100 MHz (use case\n",
      "states 250MHz, but for this purpose we will divide it into 5 tunings) \n",
      "\n",
      "**Spectral resolution**: 1.2 kHz out of the correlator, and then a\n",
      "final continuum image is created from the full 50 MHz cube\n",
      "\n",
      "**Correlator dump time**: 1s \n",
      "\n",
      "**Target(s)**:\n",
      "\n",
      "- fifty targets spread out over sky\n",
      "            \n",
      "**Assumed scheduling block duration**: 1h, each one for a different\n",
      "exoplanet target\n",
      "\n",
      "**Observing frequency**: assume that each day 2 or 3 scheduling blocks (targets) are\n",
      "observed, so that the survey takes a total of 83 to 125 days\n",
      "\n",
      "**Scheduling block content**:\n",
      "\n",
      "- first scheduling block toward each new target field should have a short, 1 minute flux calibration observation (assume 30deg offset from target)\n",
      "         \n",
      "**Quality assessment**: At the end of each 1h observing block, a quality assessment check should be performed, including imaging of the spectral line cube at 10arcsec spatial resolution and a calculation of the rms versus frequency. \n",
      "\n",
      "**Required operations**: correlator, station beamformer\n",
      "\n",
      "**SDP operations**: _**NOTE** That use case calls for dedispersion, but this requires pulsar processing_\n",
      "\n",
      "1. continuum pipeline run for each 1 second of data to search for flares, and then averaged over 1hour. 10arcsec beamsize  \n",
      "2. slow transient pipeline running in parallel\n",
      "\n",
      "**Additional data products requested by the observer**: None"
     ]
    },
    {
     "cell_type": "code",
     "collapsed": false,
     "input": [
      "num_pointings = 250  # asuming 25 years pulsar search: 50*2*52*25*200/3600 = 7222h\n",
      "total_time = (3600*u.s) * num_pointings\n",
      "\n",
      "bandwidth = 50*u.mega*u.Hz\n",
      "min_frequencies = [bandwidth*i for i in range(1,6)]\n",
      "max_frequencies = [min_f+bandwidth for min_f in min_frequencies]\n",
      "\n",
      "central_frequencies = [(max_frequencies[i]+min_frequencies[i])/2 for i in range(len(min_frequencies))]\n",
      "\n",
      "frequency_resolution = 1.2 * u.kilo * u.Hz\n",
      "\n",
      "from math import ceil\n",
      "num_channels = int(2**ceil(log(bandwidth / frequency_resolution)/log(2)))\n",
      "\n",
      "central_wavelengths = [c/central_frequency for central_frequency in central_frequencies]"
     ],
     "language": "python",
     "metadata": {},
     "outputs": [],
     "prompt_number": 100
    },
    {
     "cell_type": "code",
     "collapsed": false,
     "input": [
      "num_sub_arrays = 5\n",
      "for i in range(0,len(central_frequencies)):\n",
      "    telescope = telescope_info['SKA1Low'].copy()\n",
      "    telescope[wl]=central_frequencies[i]\n",
      "    telescope[Nf]=num_channels\n",
      "    telescope[Na]= int(antennas_in_baseline(telescope[Bmax],'SKA1Mid') / num_sub_arrays)\n",
      "    telescope[NGW]=NGW_SKA1Mid\n",
      "    telescope[tdump]=1*u.s\n",
      "    result = build_use_case_result(\n",
      "        telescope = telescope,\n",
      "        use_case = 'UseCase-6',\n",
      "        row_suffix = str(i),\n",
      "        subs_values = {NGW: NGW_SKA1Low, Nfacet: 1},\n",
      "        year = SKA1_construction\n",
      "    )\n",
      "    result['sdpInRate'] *= num_sub_arrays\n",
      "    result['compRate'] *= num_sub_arrays\n",
      "    result['powerRate'] *= num_sub_arrays\n",
      "    result['storageRate'] = (DataCubeSize.subs(telescope).subs({Nstokes: 4})*num_pointings/total_time).evalf(3)\n",
      "    result['duration'] = total_time\n",
      "    ComputationalNeedsList.append(result)\n",
      "    display(result)\n",
      "    UseCasesPerTelescope['SKA1Low'].append(result['useCaseId'])"
     ],
     "language": "python",
     "metadata": {},
     "outputs": [
      {
       "metadata": {},
       "output_type": "display_data",
       "text": [
        "{'compRate': 1.31e+14*Ops/s,\n",
        " 'duration': 900000*s,\n",
        " 'powerRate': 4.54e+3*W,\n",
        " 'rowId': 'UseCase-6-0',\n",
        " 'sdpInRate': 5.88e+9*B/s,\n",
        " 'storageRate': 2.14e+10*B/s,\n",
        " 'telescope': {N_{beam}: 1,\n",
        "  N_a: 34,\n",
        "  t_{dump}: s,\n",
        "  N_{GW}: 26,\n",
        "  \\lambda: 75000000/s,\n",
        "  D_s: 35*m,\n",
        "  NAA: 9,\n",
        "  N_f: 65536,\n",
        "  B_{max}: 100000*m},\n",
        " 'useCaseId': 'UseCase-6'}"
       ]
      },
      {
       "metadata": {},
       "output_type": "display_data",
       "text": [
        "{'compRate': 1.31e+14*Ops/s,\n",
        " 'duration': 900000*s,\n",
        " 'powerRate': 4.54e+3*W,\n",
        " 'rowId': 'UseCase-6-1',\n",
        " 'sdpInRate': 5.88e+9*B/s,\n",
        " 'storageRate': 2.14e+10*B/s,\n",
        " 'telescope': {N_{beam}: 1,\n",
        "  N_a: 34,\n",
        "  t_{dump}: s,\n",
        "  N_{GW}: 26,\n",
        "  \\lambda: 125000000/s,\n",
        "  D_s: 35*m,\n",
        "  NAA: 9,\n",
        "  N_f: 65536,\n",
        "  B_{max}: 100000*m},\n",
        " 'useCaseId': 'UseCase-6'}"
       ]
      },
      {
       "metadata": {},
       "output_type": "display_data",
       "text": [
        "{'compRate': 1.31e+14*Ops/s,\n",
        " 'duration': 900000*s,\n",
        " 'powerRate': 4.54e+3*W,\n",
        " 'rowId': 'UseCase-6-2',\n",
        " 'sdpInRate': 5.88e+9*B/s,\n",
        " 'storageRate': 2.14e+10*B/s,\n",
        " 'telescope': {N_{beam}: 1,\n",
        "  N_a: 34,\n",
        "  t_{dump}: s,\n",
        "  N_{GW}: 26,\n",
        "  \\lambda: 175000000/s,\n",
        "  D_s: 35*m,\n",
        "  NAA: 9,\n",
        "  N_f: 65536,\n",
        "  B_{max}: 100000*m},\n",
        " 'useCaseId': 'UseCase-6'}"
       ]
      },
      {
       "metadata": {},
       "output_type": "display_data",
       "text": [
        "{'compRate': 1.31e+14*Ops/s,\n",
        " 'duration': 900000*s,\n",
        " 'powerRate': 4.54e+3*W,\n",
        " 'rowId': 'UseCase-6-3',\n",
        " 'sdpInRate': 5.88e+9*B/s,\n",
        " 'storageRate': 2.14e+10*B/s,\n",
        " 'telescope': {N_{beam}: 1,\n",
        "  N_a: 34,\n",
        "  t_{dump}: s,\n",
        "  N_{GW}: 26,\n",
        "  \\lambda: 225000000/s,\n",
        "  D_s: 35*m,\n",
        "  NAA: 9,\n",
        "  N_f: 65536,\n",
        "  B_{max}: 100000*m},\n",
        " 'useCaseId': 'UseCase-6'}"
       ]
      },
      {
       "metadata": {},
       "output_type": "display_data",
       "text": [
        "{'compRate': 1.31e+14*Ops/s,\n",
        " 'duration': 900000*s,\n",
        " 'powerRate': 4.54e+3*W,\n",
        " 'rowId': 'UseCase-6-4',\n",
        " 'sdpInRate': 5.88e+9*B/s,\n",
        " 'storageRate': 2.14e+10*B/s,\n",
        " 'telescope': {N_{beam}: 1,\n",
        "  N_a: 34,\n",
        "  t_{dump}: s,\n",
        "  N_{GW}: 26,\n",
        "  \\lambda: 275000000/s,\n",
        "  D_s: 35*m,\n",
        "  NAA: 9,\n",
        "  N_f: 65536,\n",
        "  B_{max}: 100000*m},\n",
        " 'useCaseId': 'UseCase-6'}"
       ]
      }
     ],
     "prompt_number": 101
    },
    {
     "cell_type": "heading",
     "level": 2,
     "metadata": {},
     "source": [
      "Science Use Case 7: Imaging the dense molecular gas in quasar host galaxies during EoR"
     ]
    },
    {
     "cell_type": "markdown",
     "metadata": {},
     "source": [
      "**Telescope**: SKA1-Mid band 5  (4.6 to 13.8 GHz)\n",
      "\n",
      "**Total time**: 100h \n",
      "\n",
      "**FoV**:  1 square arcminute \n",
      "\n",
      "**Bandwidth**: one 2.5 GHz bandwidth centered on 13.0 GHz\n",
      "\n",
      "**Spectral resolution**: 4.4 MHz\n",
      "\n",
      "**Correlator dump time**: 0.5s \n",
      "\n",
      "**Target(s)**:\n",
      "\n",
      "- one fields centered at RA = 20h54m06.5, DEC = -00d05m14.8  \n",
      "            \n",
      "**Assumed scheduling block duration**: 1h \n",
      "\n",
      "**Observing frequency**: assume that each day 4 to 8 scheduling blocks are\n",
      "observed for a total of 4 to 8 hours observing time per day (survey\n",
      "then takes 12.5 to 25 nights)\n",
      "\n",
      "**Scheduling block content**:\n",
      "\n",
      "- first scheduling block toward each new target field should have a flux calibration observation (assume 30deg\n",
      "    offset from target). Phase calibration should be performed by\n",
      "    observing a nearby (1 degree separation) calibrator at the start,\n",
      "    beginning and end of each 1h block\n",
      "         \n",
      "**Quality assessment**: At the end of each 1h observing block, a quality\n",
      "assessment check should be performed, including imaging of the\n",
      "spectral line cube at 0.3 arcsec resolution and a calculation of the rms versus frequency. \n",
      "\n",
      "**Required operations**: correlator\n",
      "\n",
      "**SDP operations**:\n",
      "\n",
      "1. continuum pipeline generating a 0.3 arcsec beamsize image\n",
      "1. slow transient pipeline \n",
      "\n",
      "**Additional data products requested by the observer**: None"
     ]
    },
    {
     "cell_type": "heading",
     "level": 2,
     "metadata": {},
     "source": [
      "Science Use Case 8: Pulsar astronometry through VLBI"
     ]
    },
    {
     "cell_type": "markdown",
     "metadata": {},
     "source": [
      "Telescope: SKA1 SURVEY and SKA1 MID \n",
      "Total time: 600 hours (50 targets observed for 12h each)\n",
      "FoV: 0.025 square degree (0.017 sq. deg. for VLBI image off-site)\n",
      "\n",
      "Bandwidth: 500 MHz at a frequency of 1.6 GHz\n",
      "Spectral resolution: 128 MHz for final image\n",
      "Correlator dump time 0.5s \n",
      "\n",
      "Target(s): - 50 target fields spread throughout the \n",
      "            \n",
      "Assumed scheduling block duration: 1.5h with one target source\n",
      "Observing frequency: assume that 5 scheduling blocks are observed per\n",
      "night for a ten night run (7.5h per night). This should be repeated\n",
      "every 2.25 months.   \n",
      "\n",
      "Scheduling block content: - first scheduling block toward each new\n",
      "target field should have a flux calibration observation (assume 30deg\n",
      "offset from target). \n",
      "         \n",
      "Quality assessment: At the end of each 1h observing block, a quality assessment check should be performed, including imaging of the spectral line cube at the lowest spatial resolution and a calculation of the rms versus frequency. \n",
      "\n",
      "Required operations: correlator, beamformer (4 tied array beams per telescope)\n",
      "\n",
      "SDP operations:\n",
      "\n",
      "  1. continuum image of larger (0.025 square degree\n",
      "     field) at 3 arcsec resolution \n",
      "  2. slow transient pipeline \n",
      "\n",
      "Additional data products requested by the observer:\n",
      "\n",
      "  - VLBI data will be stored on disk and shipped to Perth or JIVE to be combined\n",
      "    with the other datasets"
     ]
    },
    {
     "cell_type": "heading",
     "level": 2,
     "metadata": {},
     "source": [
      "Science Use Case 9: An SKA1 widea area HI Survey "
     ]
    },
    {
     "cell_type": "markdown",
     "metadata": {},
     "source": [
      "Telescope: SKA1 SURVEY  \n",
      "Total time: 8160 hours \n",
      "FoV: 18 square degrees at 1180 MHz, full survey covers 3000 square degrees\n",
      "(NOTE that use case says 5x5 sq. degree, but this should be 18sq. deg.)\n",
      "\n",
      "Bandwidth: 500 MHz at a frequency of 1180 MHz\n",
      "Spectral resolution: 15 kHz for final spectral line data cube\n",
      "Correlator dump time 0.5s \n",
      "\n",
      "Target(s):\n",
      "\n",
      "- one contiguous 3000 square degree field \n",
      "            \n",
      "Assumed scheduling block duration: 1h with one target field\n",
      "Observing frequency: assume that 8 scheduling blocks are observed per\n",
      "night for a six night run on each target field. After six nights,\n",
      "change to the next target field\n",
      "\n",
      "Scheduling block content:\n",
      "\n",
      "- first scheduling block at the beginning of each night should have a flux calibration observation (assume 30deg offset from target). \n",
      "         \n",
      "Quality assessment: At the end of each 1h observing block, a quality\n",
      "assessment check should be performed, including imaging of the\n",
      "spectral line cube at the lowest spatial resolution (10 arcsec) and a calculation of the rms versus frequency. \n",
      "\n",
      "Required operations: correlator, beamformer \n",
      "\n",
      "SDP operations:\n",
      "\n",
      "1. continuum image with 3 to 10\" resolution (assume 3, 5, 7, and 10\")\n",
      "2. spectral line pipeline\n",
      "3. continuum and spectral line source-finding algorithms \n",
      "4. slow transient pipeline \n",
      "  \n",
      "\n",
      "Additional data products requested by the observer:\n",
      "\n",
      "- HI spectrum generated by stacking on an input catalogue of known\n",
      "  source positions with redshifts"
     ]
    },
    {
     "cell_type": "heading",
     "level": 2,
     "metadata": {},
     "source": [
      "Science Use Case 10: A Deep Multi-frequency VLBI Polarimetric Survey of AGN  "
     ]
    },
    {
     "cell_type": "markdown",
     "metadata": {},
     "source": [
      "(note - total bandwidths stated exceed the maximum allowed of 500 MHz)\n",
      "\n",
      "Telescope: SKA1 MID band 3, 4, 5\n",
      "Total time: 563 hours \n",
      "FoV: diameter of 33, 21, 9 arcminutes at 2530, 3990, 9200 MHz\n",
      "\n",
      "Bandwidth: 1408, 2380 and 9200 MHz at observing frequencies of  2530,\n",
      "3990, and 9200 MHz\n",
      "Spectral resolution: 1 MHz\n",
      "Correlator dump time 1.6s \n",
      "\n",
      "Target(s): - several targets spread out over 100 square degrees\n",
      "            \n",
      "Assumed scheduling block duration: 1h with 24 targets observed in\n",
      "each block at a single frequency (4 tied array beams, one for each\n",
      "target, changed 6 times)\n",
      "Observing frequency: assume that 8 scheduling blocks are observed per\n",
      "night at the same frequency\n",
      "\n",
      "Scheduling block content: - first scheduling block at the beginning of\n",
      "each night should have a flux calibration observation (assume 30deg\n",
      "offset from target). \n",
      "         \n",
      "Quality assessment: At the end of each 1h observing block, a quality\n",
      "assessment check should be performed, including imaging of the cube at\n",
      "1MHz resolution and 1 arcsec beamsize and a calculation of the rms versus frequency\n",
      "\n",
      "Required operations: correlator, beamformer \n",
      "\n",
      "SDP operations:\n",
      "\n",
      "1. continuum images with 1\" resolution over the full FoV specified above\n",
      "2. RM synthesis pipeline                   \n",
      "                  \n",
      "Additional data products requested by the observer:\n",
      "\n",
      "-  VLBI beamformed data will be produced either after the correlator or SDP "
     ]
    },
    {
     "cell_type": "heading",
     "level": 2,
     "metadata": {},
     "source": [
      "Science Use Case 11: Polarised emission in cosmic-web filaments "
     ]
    },
    {
     "cell_type": "markdown",
     "metadata": {},
     "source": [
      "Telescope: SKA1 SURVEY PAF band 1\n",
      "Total time: 2000 hours \n",
      "FoV: 61 square degrees but only 7deg x7deg field should be imaged \n",
      "\n",
      "Bandwidth: 500 MHz at an observing frequency of 600 MHz\n",
      "Spectral resolution: 2 MHz\n",
      "Correlator dump time 1.4s for 10km baselines, 0.3s for 50km baselines  \n",
      "\n",
      "Target(s):\n",
      "\n",
      "- two targets at 13h47m30.6s -11d45m10s and 22h14m57.4s  -14d00m11s \n",
      "            \n",
      "Assumed scheduling block duration: 1h with one target field\n",
      "Observing frequency: assume 6 to 8 scheduling blocks observed each\n",
      "night, for a total of 250 to 330 nights for completion \n",
      "\n",
      "Scheduling block content:\n",
      "\n",
      "- first scheduling block at the beginning of each night should have a flux calibration observation (assume 30deg offset from target). \n",
      "         \n",
      "Quality assessment: At the end of each 1h observing block, a quality\n",
      "assessment check should be performed, including imaging of the cube at\n",
      "2MHz resolution and 30 arcsec beamsize and a calculation of the rms versus frequency\n",
      "\n",
      "Required operations: correlator, beamformer \n",
      "\n",
      "SDP operations:\n",
      "\n",
      "1. three continuum images with beamsizes of 3, 10, and 30\" beamsize\n",
      "2. rm synthesis pipeline  \n",
      "3. slow transient pipeline \n",
      "                       \n",
      "\n",
      "Additional data products requested by the observer:\n",
      "\n",
      "- A faraday dispersion image cube "
     ]
    },
    {
     "cell_type": "heading",
     "level": 2,
     "metadata": {},
     "source": [
      "3.12 Grain Growth and pre-biotic molecules in protoplanetary disks  "
     ]
    },
    {
     "cell_type": "markdown",
     "metadata": {},
     "source": [
      "Telescope: SKA1 MID band 5 \n",
      "Total time: 1000 hours \n",
      "FoV: 5 arcminute diameter \n",
      "\n",
      "Bandwidth: 2x2.5 GHz centered at 7.55 and 12.55 GHz\n",
      "Spectral resolution: 9.7 kHz\n",
      "Correlator dump time 1.6s for 10km baselines, 0.08s for larger \n",
      "\n",
      "Target(s): - one target field with multiple sources, center: 16h26m24s -24d23m \n",
      "                                                  \n",
      "Assumed scheduling block duration: 1h with one target field\n",
      "Observing frequency: assume 6 to 8 scheduling blocks observed each\n",
      "night, for a total of 125 to 167 nights for completion \n",
      "\n",
      "Scheduling block content: - first scheduling block at the beginning of\n",
      "each night should have a flux calibration observation (assume 30deg\n",
      "offset from target). Also, each scheduling block should observe a\n",
      "phase calibrator 10degrees away from the target every 30minutes \n",
      "         \n",
      "Quality assessment: At the end of each 1h observing block, a quality\n",
      "assessment check should be performed, including imaging of the cube at\n",
      "9.7 kHz resolution and 3 arcsec beamsize and a calculation of the rms versus frequency\n",
      "\n",
      "Required operations: correlator\n",
      "\n",
      "SDP operations: i) continuum images with beamsize of 0.035\" beamsize\n",
      "                         (20 facets)\n",
      "                         ii) spectral line cube with 3arcsec beamsize\n",
      "                       \n",
      "Additional data products requested by the observer:"
     ]
    },
    {
     "cell_type": "heading",
     "level": 2,
     "metadata": {},
     "source": [
      "Science Use Case 13: High frequency polarised emission of nearby galaxies   "
     ]
    },
    {
     "cell_type": "markdown",
     "metadata": {},
     "source": [
      "**Telescope**: SKA1 MID band 4 \n",
      "\n",
      "**Total time**: 1000 hours \n",
      "\n",
      "**FoV**:  varies between 16 and 30 arcminute diameter\n",
      "\n",
      "**Bandwidth**:  2.5 GHz centered at an observing frequency 4 GHz\n",
      "\n",
      "**Spectral resolution**: 1 MHz\n",
      "\n",
      "**Correlator dump time**: 1.6s for 10km baselines, 0.08s for larger \n",
      "\n",
      "**Target(s)**:\n",
      "\n",
      "- twenty-three targets spread throughout the sky\n",
      "                                                  \n",
      "**Assumed scheduling block duration**: 1h each target, assume a seven\n",
      "point mosaic for each target so that you jump by 8 arcminutes seven\n",
      "times every 30 minutes)\n",
      "\n",
      "**Observing frequency**: assume 6 to 8 scheduling blocks observed each\n",
      "night, for a total of 125 to 167 nights for completion \n",
      "\n",
      "**Scheduling block content**:\n",
      "\n",
      "   - first scheduling block at the beginning of\n",
      "     each night should have a flux calibration observation (assume 30deg\n",
      "     offset from target). Also, each scheduling block should observe a\n",
      "     phase calibrator 10degrees away from the target every 30 minutes,\n",
      "     Seven point mosaic on target between each phase cal observation\n",
      "         \n",
      "**Quality assessment**: At the end of each 1h observing block, a quality\n",
      "assessment check should be performed, including imaging of the cube at\n",
      "2MHz resolution and 1 arcsec beamsize and a calculation of the rms versus frequency\n",
      "\n",
      "**Required operations**: correlator\n",
      "\n",
      "**SDP operations**:\n",
      "\n",
      "1. continuum image with 1, 3 or 5\" beamsizes \n",
      "2. RM synthesis pipeline \n",
      "3. slow transient pipeline (not in use case, added by JW to check feasibility)   \n",
      "                  \n",
      "Additional data products requested by the observer:\n",
      "\n",
      "- Stokes Q, U and V data cubes should be stored for reprocessing "
     ]
    },
    {
     "cell_type": "heading",
     "level": 2,
     "metadata": {},
     "source": [
      "Science Use Case 14: Deep fields and cosmic magnetism   "
     ]
    },
    {
     "cell_type": "markdown",
     "metadata": {},
     "source": [
      "**Telescope**: SKA1 MID bands 2 and 3\n",
      "\n",
      "**Total time**: 8210 hours  (4360 band 2 and 3850 band 3)\n",
      "\n",
      "**FoV**:   60 and 30 arcminute diameter (bands 2 and 3, repectively)\n",
      "\n",
      "**Bandwidth**:  808 and 1403 MHz centered at observing bands 2 and 3\n",
      "\n",
      "**Spectral resolution**: 1 MHz\n",
      "\n",
      "**Correlator dump time**: 1.6s for 10km baselines, 0.08s for larger \n",
      "\n",
      "**Target(s)**:\n",
      "\n",
      "- 40 mosaic pointings each observed with bands 2 and 3\n",
      "                                                  \n",
      "**Assumed scheduling block duration**: 1h each band\n",
      "\n",
      "**Observing frequency**: 6 to 8 scheduling blocks observed each\n",
      "night, for a total of 2.8 to 3.7 years for completion. Switch between\n",
      "bands every night \n",
      "\n",
      "**Scheduling block content**:\n",
      "\n",
      "  - first scheduling block at the beginning of\n",
      "    each night should have a flux calibration observation\n",
      "    (assume 30deg offset from target, 5mins total).\n",
      "    JW: assume that each scheduling block is a 40\n",
      "    point mosaic where each pointing is observed once per hour for\n",
      "    1.375 mins each. No phase cal should be required \n",
      "  \n",
      "**Quality assessment**: At the end of each 1h observing block, a quality\n",
      "assessment check should be performed, including imaging of the cube at\n",
      "1 MHz resolution and 1 arcsec beamsize and a calculation of the rms versus frequency\n",
      "\n",
      "**Required operations**: correlator\n",
      "\n",
      "**SDP operations**:\n",
      "\n",
      "1. spectral line pipeline for I, Q, U and V data with 1\" beamsize \n",
      "2. RM synthesis pipeline (generate RM cubes)\n",
      "3. slow transient pipeline (not in use case, added by JW to check feasibility)   \n",
      "                  \n",
      "**Additional data products requested by the observer**:\n",
      "\n",
      "- Stokes Q, U and V data cubes could be stored for reprocessing "
     ]
    },
    {
     "cell_type": "heading",
     "level": 2,
     "metadata": {},
     "source": [
      "Science Use Case 15: Resolving ultra-relativistic outflows in Gamma-Ray bursts"
     ]
    },
    {
     "cell_type": "markdown",
     "metadata": {},
     "source": [
      "**Telescope**: SKA1 MID band 4\n",
      "\n",
      "**Total time**: 15 hours  (5 epochs with 3h per epoch)\n",
      "\n",
      "**FoV**:  5x5 arcsec (band 4)\n",
      "\n",
      "**Bandwidth**: 512  MHz centered at an observing frequency of 5 GHz\n",
      "\n",
      "**Spectral resolution**: 500 kHz\n",
      "\n",
      "**Correlator dump time**: 10s \n",
      " \n",
      "**beamformer dump time**: 1s \n",
      "\n",
      "**Target(s)**:\n",
      "\n",
      "- one primary target with three extra calibration beams\n",
      "                                                  \n",
      "**Assumed scheduling block duration**: 1h each band\n",
      "\n",
      "**Observing frequency**: 3 scheduling blocks observed in a single night in\n",
      "five epochs\n",
      "\n",
      "**Scheduling block content**:\n",
      "\n",
      "   - first scheduling block at the beginning of\n",
      "    each night should have a flux calibration observation (assume 30deg\n",
      "    offset from target, 5mins total). \n",
      "\n",
      "**Quality assessment**: At the end of each 1h observing block, a quality\n",
      "assessment check should be performed, including imaging of the cube at\n",
      "500 kHz resolution and 1 arcsec beamsize and a calculation of the rms versus frequency\n",
      "\n",
      "**Required operations**: correlator, beamformer\n",
      "\n",
      "**SDP operations**:\n",
      "\n",
      "1. continuum pipeline 0.2\" beamsize \n",
      "                  \n",
      "Additional data products requested by the observer:\n",
      "\n",
      "- beamformed VLBI data "
     ]
    },
    {
     "cell_type": "code",
     "collapsed": false,
     "input": [
      "total_time = 15 * u.hour\n",
      "fov = (5 * (u.degrees/3600))**2\n",
      "field_size = fov\n",
      "num_pointings = field_size / fov\n",
      "\n",
      "bandwidth = 512*u.mega*u.Hz\n",
      "central_frequency = 5*u.giga*u.Hz\n",
      "min_frequency = central_frequency-bandwidth/2\n",
      "max_frequency = central_frequency+bandwidth/2\n",
      "\n",
      "frequency_resolution = 500*u.kilo*u.Hz\n",
      "\n",
      "dump_time          = 1*u.s\n",
      "num_channels       = int(2**ceil(log(bandwidth / frequency_resolution)/log(2)))\n",
      "central_wavelength = c/central_frequency"
     ],
     "language": "python",
     "metadata": {},
     "outputs": [],
     "prompt_number": 102
    },
    {
     "cell_type": "code",
     "collapsed": false,
     "input": [
      "# set telescope parameters for SKA1-Mid\n",
      "telescope        = telescope_info['SKA1Mid'].copy()\n",
      "telescope[tdump] = dump_time\n",
      "telescope[Nf]    = num_channels\n",
      "telescope[wl]    = central_wavelength\n",
      "result = build_use_case_result(\n",
      "    telescope = telescope,\n",
      "    use_case = 'UseCase-15',\n",
      "    row_suffix = '',\n",
      "    year = SKA1_construction,\n",
      "    subs_values = {Nfacet: 1, NGW: NGW_SKA1Mid}\n",
      ")\n",
      "result['storageRate'] = (\n",
      "    DataCubeSize.subs(telescope).subs({Nstokes: 1})*6*125/total_time\n",
      ")\n",
      "result['duration'] = total_time\n",
      "display(result)\n",
      "ComputationalNeedsList.append(result)\n",
      "UseCasesPerTelescope['SKA1Mid'].append(result['useCaseId'])\n"
     ],
     "language": "python",
     "metadata": {},
     "outputs": [
      {
       "metadata": {},
       "output_type": "display_data",
       "text": [
        "{'compRate': 1.94e+13*Ops/s,\n",
        " 'duration': 54000*s,\n",
        " 'powerRate': 673.0*W,\n",
        " 'rowId': 'UseCase-15-',\n",
        " 'sdpInRate': 1.05e+9*B/s,\n",
        " 'storageRate': 51200000000*B/s,\n",
        " 'telescope': {N_{beam}: 1,\n",
        "  N_a: 254,\n",
        "  t_{dump}: s,\n",
        "  \\lambda: 0.0599584916*m,\n",
        "  D_s: 15*m,\n",
        "  NAA: 9,\n",
        "  N_f: 1024,\n",
        "  B_{max}: 150000*m},\n",
        " 'useCaseId': 'UseCase-15'}"
       ]
      }
     ],
     "prompt_number": 103
    },
    {
     "cell_type": "heading",
     "level": 2,
     "metadata": {},
     "source": [
      "3.16: The SKA medium-deep HI and continuum survey"
     ]
    },
    {
     "cell_type": "markdown",
     "metadata": {},
     "source": [
      "Telescope: SKA1 SURVEY\n",
      "Total time: 8700h with SURVEY PAF band 2.\n",
      "FoV: 18 square degrees\n",
      "\n",
      "Bandwidth: 500MHz between 950 and 1450 MHz\n",
      "Spectral resolution: 3.9 kHz  (128000 channels)\n",
      "Correlator dump time 0.5s\n",
      "\n",
      "Target: - one ~300 square deg. field centered at RA = 10h00m00, DEC = -40d00m00 (J2000)\n",
      "             - covered in 17 mosaic pointings\n",
      "\n",
      "Assumed scheduling block duration: 1h\n",
      "Observing frequency: assume that each day 3 to 8 scheduling blocks are observed  (survey then takes 3 to 8 years)\n",
      "\n",
      "Scheduling block content: - first run should have a flux calibration observation (assume 90deg offset from target)\n",
      "         - two possible observing strategies i) each 1hour block contains all 17 mosaic pointings, ii) each 1h block contains only one pointing, where the pointing is changed each day.\n",
      "\n",
      "Quality assessment: At the end of each observing 1h block, a quality\n",
      "assessment check should be performed, including imaging of the\n",
      "spectral line cube at the lowest spatial resolution (60 arcsec) and a calculation of the rms versus frequency. \n",
      "\n",
      "Required operations: beamforming, correlator\n",
      "\n",
      "SDP operations:  Both continuum and spectral line pipelines required. Spectral line data cubes at 2\", 4\", 15\", 30\" and 60\" requested.\n",
      "\n",
      "Additional data products requested by the observer:\n",
      "\n",
      "- beam cubes for each image cube, as the shape of the beam varies as a result of flagging\n",
      "- source catalogues with properties of every detection\n",
      "- cubelets for every detection (300\u2019\u2018x300\u2019\u2018x2000 km/s)\n",
      "- spectra of detected sources\n",
      "- moment maps\n",
      "- position-velocity maps\n",
      "   \n",
      "Finally, the observer requests that the data be combined in a UV-grid where the visibility of every observation is gridded. We suggest that it would be more practical from the point of view of data storage to only keep images and spectral line cubes. "
     ]
    },
    {
     "cell_type": "code",
     "collapsed": false,
     "input": [
      "total_time = 9700 * u.hour\n",
      "fov = 18 * u.degrees**2\n",
      "field_size = 300 * u.degrees**2\n",
      "num_pointings = field_size / fov\n",
      "\n",
      "bandwidth = 500*u.mega*u.Hz\n",
      "min_frequency = 950*u.mega*u.Hz\n",
      "max_frequency = 1450*u.mega*u.Hz\n",
      "\n",
      "central_frequency = (max_frequency+min_frequency)/2\n",
      "frequency_resolution = bandwidth / (2**17) # 131072 channels\n",
      "\n",
      "dump_time          = 0.5*u.s\n",
      "num_channels       = bandwidth / frequency_resolution\n",
      "central_wavelength = c/central_frequency"
     ],
     "language": "python",
     "metadata": {},
     "outputs": [],
     "prompt_number": 104
    },
    {
     "cell_type": "code",
     "collapsed": false,
     "input": [
      "# set telescope parameters for SKA1-Survey\n",
      "telescope        = telescope_info['SKA1Survey'].copy()\n",
      "telescope[tdump] = dump_time\n",
      "telescope[Nf]    = num_channels\n",
      "telescope[wl]    = central_wavelength"
     ],
     "language": "python",
     "metadata": {},
     "outputs": [],
     "prompt_number": 105
    },
    {
     "cell_type": "code",
     "collapsed": false,
     "input": [
      "max_angular_resolution = (\n",
      "    # frequency in Hertz => c/central_frequency in m => \n",
      "    # need to convert to degrees => *3600 in seconds\n",
      "    (0.98*(c/central_frequency) / telescope[Bmax])/pi*180\n",
      ").evalf()*3600\n",
      "max_angular_resolution*S('arcsec')"
     ],
     "language": "python",
     "metadata": {},
     "outputs": [
      {
       "latex": [
        "$$0.504999171653638 arcsec$$"
       ],
       "metadata": {},
       "output_type": "pyout",
       "png": "[encoded data removed]",
       "prompt_number": 106,
       "text": [
        "0.504999171653638\u22c5arcsec"
       ]
      }
     ],
     "prompt_number": 106
    },
    {
     "cell_type": "code",
     "collapsed": false,
     "input": [
      "nfacet_list = [1, 2*telescope[Bmax]/telescope[Ds]]\n",
      "for nfacet in nfacet_list:\n",
      "    result = build_use_case_result(\n",
      "        telescope = telescope,\n",
      "        use_case = 'UseCase-16',\n",
      "        row_suffix = str(nfacet),\n",
      "        comp_rate = CompRate,\n",
      "        sdp_rate = SDPInRate,\n",
      "        subs_values = {Nfacet: nfacet, NGW: NGW_SKA1Survey},\n",
      "        year = SKA1_construction\n",
      "    )\n",
      "    result['duration'] = total_time\n",
      "    result['storageRate'] = (\n",
      "        DataCubeSize.subs(telescope).subs({Nstokes: 1})*num_pointings/total_time\n",
      "    ).evalf(3)\n",
      "    ComputationalNeedsList.append(result)\n",
      "    display(result)\n",
      "    UseCasesPerTelescope['SKA1Survey'].append(result['useCaseId'])"
     ],
     "language": "python",
     "metadata": {},
     "outputs": [
      {
       "metadata": {},
       "output_type": "display_data",
       "text": [
        "{'compRate': 1.62e+16*Ops/s,\n",
        " 'duration': 34920000*s,\n",
        " 'powerRate': 5.61e+5*W,\n",
        " 'rowId': 'UseCase-16-1',\n",
        " 'sdpInRate': 1377073889280.0*B/s,\n",
        " 'storageRate': 1.0e+8*B/s,\n",
        " 'telescope': {N_{beam}: 36,\n",
        "  N_a: 96,\n",
        "  t_{dump}: 0.5*s,\n",
        "  \\lambda: 0.249827048333333*m,\n",
        "  D_s: 15*m,\n",
        "  NAA: 9,\n",
        "  N_f: 131072,\n",
        "  B_{max}: 100000*m},\n",
        " 'useCaseId': 'UseCase-16'}"
       ]
      },
      {
       "metadata": {},
       "output_type": "display_data",
       "text": [
        "{'compRate': 6.82e+23*Ops/s,\n",
        " 'duration': 34920000*s,\n",
        " 'powerRate': 2.37e+13*W,\n",
        " 'rowId': 'UseCase-16-40000/3',\n",
        " 'sdpInRate': 1377073889280.0*B/s,\n",
        " 'storageRate': 1.0e+8*B/s,\n",
        " 'telescope': {N_{beam}: 36,\n",
        "  N_a: 96,\n",
        "  t_{dump}: 0.5*s,\n",
        "  \\lambda: 0.249827048333333*m,\n",
        "  D_s: 15*m,\n",
        "  NAA: 9,\n",
        "  N_f: 131072,\n",
        "  B_{max}: 100000*m},\n",
        " 'useCaseId': 'UseCase-16'}"
       ]
      }
     ],
     "prompt_number": 107
    },
    {
     "cell_type": "code",
     "collapsed": false,
     "input": [
      "Nfacet_max = (2*Bmax/Ds).subs(telescope)\n",
      "Nfacet_max.evalf(4)\n"
     ],
     "language": "python",
     "metadata": {},
     "outputs": [
      {
       "latex": [
        "$$1.333 \\cdot 10^{4}$$"
       ],
       "metadata": {},
       "output_type": "pyout",
       "png": "[encoded data removed]",
       "prompt_number": 108,
       "text": [
        "1.333e+4"
       ]
      }
     ],
     "prompt_number": 108
    },
    {
     "cell_type": "code",
     "collapsed": false,
     "input": [
      "Nfacet_list = np.arange(1,2**6)"
     ],
     "language": "python",
     "metadata": {},
     "outputs": [],
     "prompt_number": 109
    },
    {
     "cell_type": "code",
     "collapsed": false,
     "input": [
      "CompRateList = [\n",
      "    CompRate.subs({Nfacet: n}).subs(telescope).subs({NGW: NGW_SKA1Survey}).evalf(3)\n",
      "    for n in Nfacet_list\n",
      "]"
     ],
     "language": "python",
     "metadata": {},
     "outputs": [],
     "prompt_number": 110
    },
    {
     "cell_type": "code",
     "collapsed": false,
     "input": [
      "Power2018 = [(x/DPP(2018)).evalf(4)   for x in CompRateList]\n",
      "Power2018inWatts = map(lambda x: x/S('W'), Power2018)"
     ],
     "language": "python",
     "metadata": {},
     "outputs": [],
     "prompt_number": 111
    },
    {
     "cell_type": "code",
     "collapsed": false,
     "input": [
      "fig1 = plt.figure(figsize=(8,4.5), dpi=360)\n",
      "axes = fig1.gca()\n",
      "\n",
      "Nfacet_range = np.arange(1,2**6+2**3,2**3)\n",
      "xlabel1 = axes.set_xlabel(Nfacet, ha='left', va='top', )\n",
      "ylabel1 = axes.set_ylabel('Power (W)', ha='center', va='center')\n",
      "axes.set_yscale('log', basey=10)\n",
      "axes.set_xscale('linear')\n",
      "axes.set_xticks([10,20,30,40,50,60],minor=False)\n",
      "axes.set_xticks(np.arange(1,65,1),minor=True)\n",
      "\n",
      "p = axes.plot(Nfacet_list,Power2018inWatts,'x')"
     ],
     "language": "python",
     "metadata": {},
     "outputs": [
      {
       "metadata": {},
       "output_type": "display_data",
       "svg": [
        "<?xml version=\"1.0\" encoding=\"utf-8\" standalone=\"no\"?>\n",
        "<!DOCTYPE svg PUBLIC \"-//W3C//DTD SVG 1.1//EN\"\n",
        "  \"http://www.w3.org/Graphics/SVG/1.1/DTD/svg11.dtd\">\n",
        "<!-- Created with matplotlib (http://matplotlib.org/) -->\n",
        "<svg height=\"299pt\" version=\"1.1\" viewBox=\"0 0 493 299\" width=\"493pt\" xmlns=\"http://www.w3.org/2000/svg\" xmlns:xlink=\"http://www.w3.org/1999/xlink\">\n",
        " <defs>\n",
        "  <style type=\"text/css\">\n",
        "*{stroke-linecap:butt;stroke-linejoin:round;}\n",
        "  </style>\n",
        " </defs>\n",
        " <g id=\"figure_1\">\n",
        "  <g id=\"patch_1\">\n",
        "   <path d=\"\n",
        "M0 299.484\n",
        "L493.939 299.484\n",
        "L493.939 0\n",
        "L0 0\n",
        "z\n",
        "\" style=\"fill:none;\"/>\n",
        "  </g>\n",
        "  <g id=\"axes_1\">\n",
        "   <g id=\"patch_2\">\n",
        "    <path d=\"\n",
        "M40.3391 263.65\n",
        "L486.739 263.65\n",
        "L486.739 12.55\n",
        "L40.3391 12.55\n",
        "z\n",
        "\" style=\"fill:#ffffff;\"/>\n",
        "   </g>\n",
        "   <g id=\"line2d_1\">\n",
        "    <defs>\n",
        "     <path d=\"\n",
        "M-3 3\n",
        "L3 -3\n",
        "M-3 -3\n",
        "L3 3\" id=\"m4c3fbd2283\" style=\"stroke:#0000ff;stroke-width:0.5;\"/>\n",
        "    </defs>\n",
        "    <g clip-path=\"url(#p144ab534e6)\">\n",
        "     <use style=\"fill:#0000ff;stroke:#0000ff;stroke-width:0.5;\" x=\"40.3390625\" xlink:href=\"#m4c3fbd2283\" y=\"216.627248013\"/>\n",
        "     <use style=\"fill:#0000ff;stroke:#0000ff;stroke-width:0.5;\" x=\"47.5390625\" xlink:href=\"#m4c3fbd2283\" y=\"209.24063671\"/>\n",
        "     <use style=\"fill:#0000ff;stroke:#0000ff;stroke-width:0.5;\" x=\"54.7390625\" xlink:href=\"#m4c3fbd2283\" y=\"193.110710426\"/>\n",
        "     <use style=\"fill:#0000ff;stroke:#0000ff;stroke-width:0.5;\" x=\"61.9390625\" xlink:href=\"#m4c3fbd2283\" y=\"179.049115989\"/>\n",
        "     <use style=\"fill:#0000ff;stroke:#0000ff;stroke-width:0.5;\" x=\"69.1390625\" xlink:href=\"#m4c3fbd2283\" y=\"167.472693187\"/>\n",
        "     <use style=\"fill:#0000ff;stroke:#0000ff;stroke-width:0.5;\" x=\"76.3390625\" xlink:href=\"#m4c3fbd2283\" y=\"157.792778068\"/>\n",
        "     <use style=\"fill:#0000ff;stroke:#0000ff;stroke-width:0.5;\" x=\"83.5390625\" xlink:href=\"#m4c3fbd2283\" y=\"149.521080502\"/>\n",
        "     <use style=\"fill:#0000ff;stroke:#0000ff;stroke-width:0.5;\" x=\"90.7390625\" xlink:href=\"#m4c3fbd2283\" y=\"142.314510274\"/>\n",
        "     <use style=\"fill:#0000ff;stroke:#0000ff;stroke-width:0.5;\" x=\"97.9390625\" xlink:href=\"#m4c3fbd2283\" y=\"135.935020836\"/>\n",
        "     <use style=\"fill:#0000ff;stroke:#0000ff;stroke-width:0.5;\" x=\"105.1390625\" xlink:href=\"#m4c3fbd2283\" y=\"130.216869422\"/>\n",
        "     <use style=\"fill:#0000ff;stroke:#0000ff;stroke-width:0.5;\" x=\"112.3390625\" xlink:href=\"#m4c3fbd2283\" y=\"125.039290229\"/>\n",
        "     <use style=\"fill:#0000ff;stroke:#0000ff;stroke-width:0.5;\" x=\"119.5390625\" xlink:href=\"#m4c3fbd2283\" y=\"120.308859658\"/>\n",
        "     <use style=\"fill:#0000ff;stroke:#0000ff;stroke-width:0.5;\" x=\"126.7390625\" xlink:href=\"#m4c3fbd2283\" y=\"115.952260514\"/>\n",
        "     <use style=\"fill:#0000ff;stroke:#0000ff;stroke-width:0.5;\" x=\"133.9390625\" xlink:href=\"#m4c3fbd2283\" y=\"111.920033843\"/>\n",
        "     <use style=\"fill:#0000ff;stroke:#0000ff;stroke-width:0.5;\" x=\"141.1390625\" xlink:href=\"#m4c3fbd2283\" y=\"108.162326241\"/>\n",
        "     <use style=\"fill:#0000ff;stroke:#0000ff;stroke-width:0.5;\" x=\"148.3390625\" xlink:href=\"#m4c3fbd2283\" y=\"104.648797655\"/>\n",
        "     <use style=\"fill:#0000ff;stroke:#0000ff;stroke-width:0.5;\" x=\"155.5390625\" xlink:href=\"#m4c3fbd2283\" y=\"101.34237812\"/>\n",
        "     <use style=\"fill:#0000ff;stroke:#0000ff;stroke-width:0.5;\" x=\"162.7390625\" xlink:href=\"#m4c3fbd2283\" y=\"98.2330458436\"/>\n",
        "     <use style=\"fill:#0000ff;stroke:#0000ff;stroke-width:0.5;\" x=\"169.9390625\" xlink:href=\"#m4c3fbd2283\" y=\"95.2865603283\"/>\n",
        "     <use style=\"fill:#0000ff;stroke:#0000ff;stroke-width:0.5;\" x=\"177.1390625\" xlink:href=\"#m4c3fbd2283\" y=\"92.4874425845\"/>\n",
        "     <use style=\"fill:#0000ff;stroke:#0000ff;stroke-width:0.5;\" x=\"184.3390625\" xlink:href=\"#m4c3fbd2283\" y=\"89.8310183605\"/>\n",
        "     <use style=\"fill:#0000ff;stroke:#0000ff;stroke-width:0.5;\" x=\"191.5390625\" xlink:href=\"#m4c3fbd2283\" y=\"87.2945141697\"/>\n",
        "     <use style=\"fill:#0000ff;stroke:#0000ff;stroke-width:0.5;\" x=\"198.7390625\" xlink:href=\"#m4c3fbd2283\" y=\"84.8718247729\"/>\n",
        "     <use style=\"fill:#0000ff;stroke:#0000ff;stroke-width:0.5;\" x=\"205.9390625\" xlink:href=\"#m4c3fbd2283\" y=\"82.5494536355\"/>\n",
        "     <use style=\"fill:#0000ff;stroke:#0000ff;stroke-width:0.5;\" x=\"213.1390625\" xlink:href=\"#m4c3fbd2283\" y=\"80.3291937721\"/>\n",
        "     <use style=\"fill:#0000ff;stroke:#0000ff;stroke-width:0.5;\" x=\"220.3390625\" xlink:href=\"#m4c3fbd2283\" y=\"78.1873859019\"/>\n",
        "     <use style=\"fill:#0000ff;stroke:#0000ff;stroke-width:0.5;\" x=\"227.5390625\" xlink:href=\"#m4c3fbd2283\" y=\"76.1302509856\"/>\n",
        "     <use style=\"fill:#0000ff;stroke:#0000ff;stroke-width:0.5;\" x=\"234.7390625\" xlink:href=\"#m4c3fbd2283\" y=\"74.1511096219\"/>\n",
        "     <use style=\"fill:#0000ff;stroke:#0000ff;stroke-width:0.5;\" x=\"241.9390625\" xlink:href=\"#m4c3fbd2283\" y=\"72.2343416042\"/>\n",
        "     <use style=\"fill:#0000ff;stroke:#0000ff;stroke-width:0.5;\" x=\"249.1390625\" xlink:href=\"#m4c3fbd2283\" y=\"70.3859386266\"/>\n",
        "     <use style=\"fill:#0000ff;stroke:#0000ff;stroke-width:0.5;\" x=\"256.3390625\" xlink:href=\"#m4c3fbd2283\" y=\"68.6005654151\"/>\n",
        "     <use style=\"fill:#0000ff;stroke:#0000ff;stroke-width:0.5;\" x=\"263.5390625\" xlink:href=\"#m4c3fbd2283\" y=\"66.8700368379\"/>\n",
        "     <use style=\"fill:#0000ff;stroke:#0000ff;stroke-width:0.5;\" x=\"270.7390625\" xlink:href=\"#m4c3fbd2283\" y=\"65.1915740815\"/>\n",
        "     <use style=\"fill:#0000ff;stroke:#0000ff;stroke-width:0.5;\" x=\"277.9390625\" xlink:href=\"#m4c3fbd2283\" y=\"63.5622029224\"/>\n",
        "     <use style=\"fill:#0000ff;stroke:#0000ff;stroke-width:0.5;\" x=\"285.1390625\" xlink:href=\"#m4c3fbd2283\" y=\"61.9819290207\"/>\n",
        "     <use style=\"fill:#0000ff;stroke:#0000ff;stroke-width:0.5;\" x=\"292.3390625\" xlink:href=\"#m4c3fbd2283\" y=\"60.4448755209\"/>\n",
        "     <use style=\"fill:#0000ff;stroke:#0000ff;stroke-width:0.5;\" x=\"299.5390625\" xlink:href=\"#m4c3fbd2283\" y=\"58.9549352212\"/>\n",
        "     <use style=\"fill:#0000ff;stroke:#0000ff;stroke-width:0.5;\" x=\"306.7390625\" xlink:href=\"#m4c3fbd2283\" y=\"57.4977603739\"/>\n",
        "     <use style=\"fill:#0000ff;stroke:#0000ff;stroke-width:0.5;\" x=\"313.9390625\" xlink:href=\"#m4c3fbd2283\" y=\"56.0830907011\"/>\n",
        "     <use style=\"fill:#0000ff;stroke:#0000ff;stroke-width:0.5;\" x=\"321.1390625\" xlink:href=\"#m4c3fbd2283\" y=\"54.703082976\"/>\n",
        "     <use style=\"fill:#0000ff;stroke:#0000ff;stroke-width:0.5;\" x=\"328.3390625\" xlink:href=\"#m4c3fbd2283\" y=\"53.3563827198\"/>\n",
        "     <use style=\"fill:#0000ff;stroke:#0000ff;stroke-width:0.5;\" x=\"335.5390625\" xlink:href=\"#m4c3fbd2283\" y=\"52.0412179492\"/>\n",
        "     <use style=\"fill:#0000ff;stroke:#0000ff;stroke-width:0.5;\" x=\"342.7390625\" xlink:href=\"#m4c3fbd2283\" y=\"50.7604966445\"/>\n",
        "     <use style=\"fill:#0000ff;stroke:#0000ff;stroke-width:0.5;\" x=\"349.9390625\" xlink:href=\"#m4c3fbd2283\" y=\"49.5043125584\"/>\n",
        "     <use style=\"fill:#0000ff;stroke:#0000ff;stroke-width:0.5;\" x=\"357.1390625\" xlink:href=\"#m4c3fbd2283\" y=\"48.279647937\"/>\n",
        "     <use style=\"fill:#0000ff;stroke:#0000ff;stroke-width:0.5;\" x=\"364.3390625\" xlink:href=\"#m4c3fbd2283\" y=\"47.0810751508\"/>\n",
        "     <use style=\"fill:#0000ff;stroke:#0000ff;stroke-width:0.5;\" x=\"371.5390625\" xlink:href=\"#m4c3fbd2283\" y=\"45.9079196349\"/>\n",
        "     <use style=\"fill:#0000ff;stroke:#0000ff;stroke-width:0.5;\" x=\"378.7390625\" xlink:href=\"#m4c3fbd2283\" y=\"44.7620522399\"/>\n",
        "     <use style=\"fill:#0000ff;stroke:#0000ff;stroke-width:0.5;\" x=\"385.9390625\" xlink:href=\"#m4c3fbd2283\" y=\"43.6358544873\"/>\n",
        "     <use style=\"fill:#0000ff;stroke:#0000ff;stroke-width:0.5;\" x=\"393.1390625\" xlink:href=\"#m4c3fbd2283\" y=\"42.5348778165\"/>\n",
        "     <use style=\"fill:#0000ff;stroke:#0000ff;stroke-width:0.5;\" x=\"400.3390625\" xlink:href=\"#m4c3fbd2283\" y=\"41.4553557973\"/>\n",
        "     <use style=\"fill:#0000ff;stroke:#0000ff;stroke-width:0.5;\" x=\"407.5390625\" xlink:href=\"#m4c3fbd2283\" y=\"40.3989620322\"/>\n",
        "     <use style=\"fill:#0000ff;stroke:#0000ff;stroke-width:0.5;\" x=\"414.7390625\" xlink:href=\"#m4c3fbd2283\" y=\"39.3592811768\"/>\n",
        "     <use style=\"fill:#0000ff;stroke:#0000ff;stroke-width:0.5;\" x=\"421.9390625\" xlink:href=\"#m4c3fbd2283\" y=\"38.3413988411\"/>\n",
        "     <use style=\"fill:#0000ff;stroke:#0000ff;stroke-width:0.5;\" x=\"429.1390625\" xlink:href=\"#m4c3fbd2283\" y=\"37.3390795964\"/>\n",
        "     <use style=\"fill:#0000ff;stroke:#0000ff;stroke-width:0.5;\" x=\"436.3390625\" xlink:href=\"#m4c3fbd2283\" y=\"36.3567936663\"/>\n",
        "     <use style=\"fill:#0000ff;stroke:#0000ff;stroke-width:0.5;\" x=\"443.5390625\" xlink:href=\"#m4c3fbd2283\" y=\"35.3890511551\"/>\n",
        "     <use style=\"fill:#0000ff;stroke:#0000ff;stroke-width:0.5;\" x=\"450.7390625\" xlink:href=\"#m4c3fbd2283\" y=\"34.4450111265\"/>\n",
        "     <use style=\"fill:#0000ff;stroke:#0000ff;stroke-width:0.5;\" x=\"457.9390625\" xlink:href=\"#m4c3fbd2283\" y=\"33.5094346523\"/>\n",
        "     <use style=\"fill:#0000ff;stroke:#0000ff;stroke-width:0.5;\" x=\"465.1390625\" xlink:href=\"#m4c3fbd2283\" y=\"32.5960483615\"/>\n",
        "     <use style=\"fill:#0000ff;stroke:#0000ff;stroke-width:0.5;\" x=\"472.3390625\" xlink:href=\"#m4c3fbd2283\" y=\"31.6951397298\"/>\n",
        "     <use style=\"fill:#0000ff;stroke:#0000ff;stroke-width:0.5;\" x=\"479.5390625\" xlink:href=\"#m4c3fbd2283\" y=\"30.8062494595\"/>\n",
        "     <use style=\"fill:#0000ff;stroke:#0000ff;stroke-width:0.5;\" x=\"486.7390625\" xlink:href=\"#m4c3fbd2283\" y=\"29.9333829201\"/>\n",
        "    </g>\n",
        "   </g>\n",
        "   <g id=\"matplotlib.axis_1\">\n",
        "    <g id=\"xtick_1\">\n",
        "     <g id=\"line2d_2\">\n",
        "      <defs>\n",
        "       <path d=\"\n",
        "M0 0\n",
        "L0 -4\" id=\"m93b0483c22\" style=\"stroke:#000000;stroke-width:0.5;\"/>\n",
        "      </defs>\n",
        "      <g>\n",
        "       <use style=\"stroke:#000000;stroke-width:0.5;\" x=\"105.1390625\" xlink:href=\"#m93b0483c22\" y=\"263.65\"/>\n",
        "      </g>\n",
        "     </g>\n",
        "     <g id=\"line2d_3\">\n",
        "      <defs>\n",
        "       <path d=\"\n",
        "M0 0\n",
        "L0 4\" id=\"m741efc42ff\" style=\"stroke:#000000;stroke-width:0.5;\"/>\n",
        "      </defs>\n",
        "      <g>\n",
        "       <use style=\"stroke:#000000;stroke-width:0.5;\" x=\"105.1390625\" xlink:href=\"#m741efc42ff\" y=\"12.55\"/>\n",
        "      </g>\n",
        "     </g>\n",
        "     <g id=\"text_1\">\n",
        "      <!-- 10 -->\n",
        "      <defs>\n",
        "       <path d=\"\n",
        "M31.7812 66.4062\n",
        "Q24.1719 66.4062 20.3281 58.9062\n",
        "Q16.5 51.4219 16.5 36.375\n",
        "Q16.5 21.3906 20.3281 13.8906\n",
        "Q24.1719 6.39062 31.7812 6.39062\n",
        "Q39.4531 6.39062 43.2812 13.8906\n",
        "Q47.125 21.3906 47.125 36.375\n",
        "Q47.125 51.4219 43.2812 58.9062\n",
        "Q39.4531 66.4062 31.7812 66.4062\n",
        "M31.7812 74.2188\n",
        "Q44.0469 74.2188 50.5156 64.5156\n",
        "Q56.9844 54.8281 56.9844 36.375\n",
        "Q56.9844 17.9688 50.5156 8.26562\n",
        "Q44.0469 -1.42188 31.7812 -1.42188\n",
        "Q19.5312 -1.42188 13.0625 8.26562\n",
        "Q6.59375 17.9688 6.59375 36.375\n",
        "Q6.59375 54.8281 13.0625 64.5156\n",
        "Q19.5312 74.2188 31.7812 74.2188\" id=\"BitstreamVeraSans-Roman-30\"/>\n",
        "       <path d=\"\n",
        "M12.4062 8.29688\n",
        "L28.5156 8.29688\n",
        "L28.5156 63.9219\n",
        "L10.9844 60.4062\n",
        "L10.9844 69.3906\n",
        "L28.4219 72.9062\n",
        "L38.2812 72.9062\n",
        "L38.2812 8.29688\n",
        "L54.3906 8.29688\n",
        "L54.3906 0\n",
        "L12.4062 0\n",
        "z\n",
        "\" id=\"BitstreamVeraSans-Roman-31\"/>\n",
        "      </defs>\n",
        "      <g transform=\"translate(99.6578125 275.2484375)scale(0.1 -0.1)\">\n",
        "       <use xlink:href=\"#BitstreamVeraSans-Roman-31\"/>\n",
        "       <use x=\"63.623046875\" xlink:href=\"#BitstreamVeraSans-Roman-30\"/>\n",
        "      </g>\n",
        "     </g>\n",
        "    </g>\n",
        "    <g id=\"xtick_2\">\n",
        "     <g id=\"line2d_4\">\n",
        "      <g>\n",
        "       <use style=\"stroke:#000000;stroke-width:0.5;\" x=\"177.1390625\" xlink:href=\"#m93b0483c22\" y=\"263.65\"/>\n",
        "      </g>\n",
        "     </g>\n",
        "     <g id=\"line2d_5\">\n",
        "      <g>\n",
        "       <use style=\"stroke:#000000;stroke-width:0.5;\" x=\"177.1390625\" xlink:href=\"#m741efc42ff\" y=\"12.55\"/>\n",
        "      </g>\n",
        "     </g>\n",
        "     <g id=\"text_2\">\n",
        "      <!-- 20 -->\n",
        "      <defs>\n",
        "       <path d=\"\n",
        "M19.1875 8.29688\n",
        "L53.6094 8.29688\n",
        "L53.6094 0\n",
        "L7.32812 0\n",
        "L7.32812 8.29688\n",
        "Q12.9375 14.1094 22.625 23.8906\n",
        "Q32.3281 33.6875 34.8125 36.5312\n",
        "Q39.5469 41.8438 41.4219 45.5312\n",
        "Q43.3125 49.2188 43.3125 52.7812\n",
        "Q43.3125 58.5938 39.2344 62.25\n",
        "Q35.1562 65.9219 28.6094 65.9219\n",
        "Q23.9688 65.9219 18.8125 64.3125\n",
        "Q13.6719 62.7031 7.8125 59.4219\n",
        "L7.8125 69.3906\n",
        "Q13.7656 71.7812 18.9375 73\n",
        "Q24.125 74.2188 28.4219 74.2188\n",
        "Q39.75 74.2188 46.4844 68.5469\n",
        "Q53.2188 62.8906 53.2188 53.4219\n",
        "Q53.2188 48.9219 51.5312 44.8906\n",
        "Q49.8594 40.875 45.4062 35.4062\n",
        "Q44.1875 33.9844 37.6406 27.2188\n",
        "Q31.1094 20.4531 19.1875 8.29688\" id=\"BitstreamVeraSans-Roman-32\"/>\n",
        "      </defs>\n",
        "      <g transform=\"translate(171.475 275.2484375)scale(0.1 -0.1)\">\n",
        "       <use xlink:href=\"#BitstreamVeraSans-Roman-32\"/>\n",
        "       <use x=\"63.623046875\" xlink:href=\"#BitstreamVeraSans-Roman-30\"/>\n",
        "      </g>\n",
        "     </g>\n",
        "    </g>\n",
        "    <g id=\"xtick_3\">\n",
        "     <g id=\"line2d_6\">\n",
        "      <g>\n",
        "       <use style=\"stroke:#000000;stroke-width:0.5;\" x=\"249.1390625\" xlink:href=\"#m93b0483c22\" y=\"263.65\"/>\n",
        "      </g>\n",
        "     </g>\n",
        "     <g id=\"line2d_7\">\n",
        "      <g>\n",
        "       <use style=\"stroke:#000000;stroke-width:0.5;\" x=\"249.1390625\" xlink:href=\"#m741efc42ff\" y=\"12.55\"/>\n",
        "      </g>\n",
        "     </g>\n",
        "     <g id=\"text_3\">\n",
        "      <!-- 30 -->\n",
        "      <defs>\n",
        "       <path d=\"\n",
        "M40.5781 39.3125\n",
        "Q47.6562 37.7969 51.625 33\n",
        "Q55.6094 28.2188 55.6094 21.1875\n",
        "Q55.6094 10.4062 48.1875 4.48438\n",
        "Q40.7656 -1.42188 27.0938 -1.42188\n",
        "Q22.5156 -1.42188 17.6562 -0.515625\n",
        "Q12.7969 0.390625 7.625 2.20312\n",
        "L7.625 11.7188\n",
        "Q11.7188 9.32812 16.5938 8.10938\n",
        "Q21.4844 6.89062 26.8125 6.89062\n",
        "Q36.0781 6.89062 40.9375 10.5469\n",
        "Q45.7969 14.2031 45.7969 21.1875\n",
        "Q45.7969 27.6406 41.2812 31.2656\n",
        "Q36.7656 34.9062 28.7188 34.9062\n",
        "L20.2188 34.9062\n",
        "L20.2188 43.0156\n",
        "L29.1094 43.0156\n",
        "Q36.375 43.0156 40.2344 45.9219\n",
        "Q44.0938 48.8281 44.0938 54.2969\n",
        "Q44.0938 59.9062 40.1094 62.9062\n",
        "Q36.1406 65.9219 28.7188 65.9219\n",
        "Q24.6562 65.9219 20.0156 65.0312\n",
        "Q15.375 64.1562 9.8125 62.3125\n",
        "L9.8125 71.0938\n",
        "Q15.4375 72.6562 20.3438 73.4375\n",
        "Q25.25 74.2188 29.5938 74.2188\n",
        "Q40.8281 74.2188 47.3594 69.1094\n",
        "Q53.9062 64.0156 53.9062 55.3281\n",
        "Q53.9062 49.2656 50.4375 45.0938\n",
        "Q46.9688 40.9219 40.5781 39.3125\" id=\"BitstreamVeraSans-Roman-33\"/>\n",
        "      </defs>\n",
        "      <g transform=\"translate(243.48984375 275.2484375)scale(0.1 -0.1)\">\n",
        "       <use xlink:href=\"#BitstreamVeraSans-Roman-33\"/>\n",
        "       <use x=\"63.623046875\" xlink:href=\"#BitstreamVeraSans-Roman-30\"/>\n",
        "      </g>\n",
        "     </g>\n",
        "    </g>\n",
        "    <g id=\"xtick_4\">\n",
        "     <g id=\"line2d_8\">\n",
        "      <g>\n",
        "       <use style=\"stroke:#000000;stroke-width:0.5;\" x=\"321.1390625\" xlink:href=\"#m93b0483c22\" y=\"263.65\"/>\n",
        "      </g>\n",
        "     </g>\n",
        "     <g id=\"line2d_9\">\n",
        "      <g>\n",
        "       <use style=\"stroke:#000000;stroke-width:0.5;\" x=\"321.1390625\" xlink:href=\"#m741efc42ff\" y=\"12.55\"/>\n",
        "      </g>\n",
        "     </g>\n",
        "     <g id=\"text_4\">\n",
        "      <!-- 40 -->\n",
        "      <defs>\n",
        "       <path d=\"\n",
        "M37.7969 64.3125\n",
        "L12.8906 25.3906\n",
        "L37.7969 25.3906\n",
        "z\n",
        "\n",
        "M35.2031 72.9062\n",
        "L47.6094 72.9062\n",
        "L47.6094 25.3906\n",
        "L58.0156 25.3906\n",
        "L58.0156 17.1875\n",
        "L47.6094 17.1875\n",
        "L47.6094 0\n",
        "L37.7969 0\n",
        "L37.7969 17.1875\n",
        "L4.89062 17.1875\n",
        "L4.89062 26.7031\n",
        "z\n",
        "\" id=\"BitstreamVeraSans-Roman-34\"/>\n",
        "      </defs>\n",
        "      <g transform=\"translate(315.353125 275.2484375)scale(0.1 -0.1)\">\n",
        "       <use xlink:href=\"#BitstreamVeraSans-Roman-34\"/>\n",
        "       <use x=\"63.623046875\" xlink:href=\"#BitstreamVeraSans-Roman-30\"/>\n",
        "      </g>\n",
        "     </g>\n",
        "    </g>\n",
        "    <g id=\"xtick_5\">\n",
        "     <g id=\"line2d_10\">\n",
        "      <g>\n",
        "       <use style=\"stroke:#000000;stroke-width:0.5;\" x=\"393.1390625\" xlink:href=\"#m93b0483c22\" y=\"263.65\"/>\n",
        "      </g>\n",
        "     </g>\n",
        "     <g id=\"line2d_11\">\n",
        "      <g>\n",
        "       <use style=\"stroke:#000000;stroke-width:0.5;\" x=\"393.1390625\" xlink:href=\"#m741efc42ff\" y=\"12.55\"/>\n",
        "      </g>\n",
        "     </g>\n",
        "     <g id=\"text_5\">\n",
        "      <!-- 50 -->\n",
        "      <defs>\n",
        "       <path d=\"\n",
        "M10.7969 72.9062\n",
        "L49.5156 72.9062\n",
        "L49.5156 64.5938\n",
        "L19.8281 64.5938\n",
        "L19.8281 46.7344\n",
        "Q21.9688 47.4688 24.1094 47.8281\n",
        "Q26.2656 48.1875 28.4219 48.1875\n",
        "Q40.625 48.1875 47.75 41.5\n",
        "Q54.8906 34.8125 54.8906 23.3906\n",
        "Q54.8906 11.625 47.5625 5.09375\n",
        "Q40.2344 -1.42188 26.9062 -1.42188\n",
        "Q22.3125 -1.42188 17.5469 -0.640625\n",
        "Q12.7969 0.140625 7.71875 1.70312\n",
        "L7.71875 11.625\n",
        "Q12.1094 9.23438 16.7969 8.0625\n",
        "Q21.4844 6.89062 26.7031 6.89062\n",
        "Q35.1562 6.89062 40.0781 11.3281\n",
        "Q45.0156 15.7656 45.0156 23.3906\n",
        "Q45.0156 31 40.0781 35.4375\n",
        "Q35.1562 39.8906 26.7031 39.8906\n",
        "Q22.75 39.8906 18.8125 39.0156\n",
        "Q14.8906 38.1406 10.7969 36.2812\n",
        "z\n",
        "\" id=\"BitstreamVeraSans-Roman-35\"/>\n",
        "      </defs>\n",
        "      <g transform=\"translate(387.49453125 275.2484375)scale(0.1 -0.1)\">\n",
        "       <use xlink:href=\"#BitstreamVeraSans-Roman-35\"/>\n",
        "       <use x=\"63.623046875\" xlink:href=\"#BitstreamVeraSans-Roman-30\"/>\n",
        "      </g>\n",
        "     </g>\n",
        "    </g>\n",
        "    <g id=\"xtick_6\">\n",
        "     <g id=\"line2d_12\">\n",
        "      <g>\n",
        "       <use style=\"stroke:#000000;stroke-width:0.5;\" x=\"465.1390625\" xlink:href=\"#m93b0483c22\" y=\"263.65\"/>\n",
        "      </g>\n",
        "     </g>\n",
        "     <g id=\"line2d_13\">\n",
        "      <g>\n",
        "       <use style=\"stroke:#000000;stroke-width:0.5;\" x=\"465.1390625\" xlink:href=\"#m741efc42ff\" y=\"12.55\"/>\n",
        "      </g>\n",
        "     </g>\n",
        "     <g id=\"text_6\">\n",
        "      <!-- 60 -->\n",
        "      <defs>\n",
        "       <path d=\"\n",
        "M33.0156 40.375\n",
        "Q26.375 40.375 22.4844 35.8281\n",
        "Q18.6094 31.2969 18.6094 23.3906\n",
        "Q18.6094 15.5312 22.4844 10.9531\n",
        "Q26.375 6.39062 33.0156 6.39062\n",
        "Q39.6562 6.39062 43.5312 10.9531\n",
        "Q47.4062 15.5312 47.4062 23.3906\n",
        "Q47.4062 31.2969 43.5312 35.8281\n",
        "Q39.6562 40.375 33.0156 40.375\n",
        "M52.5938 71.2969\n",
        "L52.5938 62.3125\n",
        "Q48.875 64.0625 45.0938 64.9844\n",
        "Q41.3125 65.9219 37.5938 65.9219\n",
        "Q27.8281 65.9219 22.6719 59.3281\n",
        "Q17.5312 52.7344 16.7969 39.4062\n",
        "Q19.6719 43.6562 24.0156 45.9219\n",
        "Q28.375 48.1875 33.5938 48.1875\n",
        "Q44.5781 48.1875 50.9531 41.5156\n",
        "Q57.3281 34.8594 57.3281 23.3906\n",
        "Q57.3281 12.1562 50.6875 5.35938\n",
        "Q44.0469 -1.42188 33.0156 -1.42188\n",
        "Q20.3594 -1.42188 13.6719 8.26562\n",
        "Q6.98438 17.9688 6.98438 36.375\n",
        "Q6.98438 53.6562 15.1875 63.9375\n",
        "Q23.3906 74.2188 37.2031 74.2188\n",
        "Q40.9219 74.2188 44.7031 73.4844\n",
        "Q48.4844 72.75 52.5938 71.2969\" id=\"BitstreamVeraSans-Roman-36\"/>\n",
        "      </defs>\n",
        "      <g transform=\"translate(459.4578125 275.2484375)scale(0.1 -0.1)\">\n",
        "       <use xlink:href=\"#BitstreamVeraSans-Roman-36\"/>\n",
        "       <use x=\"63.623046875\" xlink:href=\"#BitstreamVeraSans-Roman-30\"/>\n",
        "      </g>\n",
        "     </g>\n",
        "    </g>\n",
        "    <g id=\"xtick_7\">\n",
        "     <g id=\"line2d_14\">\n",
        "      <defs>\n",
        "       <path d=\"\n",
        "M0 0\n",
        "L0 -2\" id=\"m177f7580d0\" style=\"stroke:#000000;stroke-width:0.5;\"/>\n",
        "      </defs>\n",
        "      <g>\n",
        "       <use style=\"stroke:#000000;stroke-width:0.5;\" x=\"40.3390625\" xlink:href=\"#m177f7580d0\" y=\"263.65\"/>\n",
        "      </g>\n",
        "     </g>\n",
        "     <g id=\"line2d_15\">\n",
        "      <defs>\n",
        "       <path d=\"\n",
        "M0 0\n",
        "L0 2\" id=\"m5284c7e2a0\" style=\"stroke:#000000;stroke-width:0.5;\"/>\n",
        "      </defs>\n",
        "      <g>\n",
        "       <use style=\"stroke:#000000;stroke-width:0.5;\" x=\"40.3390625\" xlink:href=\"#m5284c7e2a0\" y=\"12.55\"/>\n",
        "      </g>\n",
        "     </g>\n",
        "    </g>\n",
        "    <g id=\"xtick_8\">\n",
        "     <g id=\"line2d_16\">\n",
        "      <g>\n",
        "       <use style=\"stroke:#000000;stroke-width:0.5;\" x=\"47.5390625\" xlink:href=\"#m177f7580d0\" y=\"263.65\"/>\n",
        "      </g>\n",
        "     </g>\n",
        "     <g id=\"line2d_17\">\n",
        "      <g>\n",
        "       <use style=\"stroke:#000000;stroke-width:0.5;\" x=\"47.5390625\" xlink:href=\"#m5284c7e2a0\" y=\"12.55\"/>\n",
        "      </g>\n",
        "     </g>\n",
        "    </g>\n",
        "    <g id=\"xtick_9\">\n",
        "     <g id=\"line2d_18\">\n",
        "      <g>\n",
        "       <use style=\"stroke:#000000;stroke-width:0.5;\" x=\"54.7390625\" xlink:href=\"#m177f7580d0\" y=\"263.65\"/>\n",
        "      </g>\n",
        "     </g>\n",
        "     <g id=\"line2d_19\">\n",
        "      <g>\n",
        "       <use style=\"stroke:#000000;stroke-width:0.5;\" x=\"54.7390625\" xlink:href=\"#m5284c7e2a0\" y=\"12.55\"/>\n",
        "      </g>\n",
        "     </g>\n",
        "    </g>\n",
        "    <g id=\"xtick_10\">\n",
        "     <g id=\"line2d_20\">\n",
        "      <g>\n",
        "       <use style=\"stroke:#000000;stroke-width:0.5;\" x=\"61.9390625\" xlink:href=\"#m177f7580d0\" y=\"263.65\"/>\n",
        "      </g>\n",
        "     </g>\n",
        "     <g id=\"line2d_21\">\n",
        "      <g>\n",
        "       <use style=\"stroke:#000000;stroke-width:0.5;\" x=\"61.9390625\" xlink:href=\"#m5284c7e2a0\" y=\"12.55\"/>\n",
        "      </g>\n",
        "     </g>\n",
        "    </g>\n",
        "    <g id=\"xtick_11\">\n",
        "     <g id=\"line2d_22\">\n",
        "      <g>\n",
        "       <use style=\"stroke:#000000;stroke-width:0.5;\" x=\"69.1390625\" xlink:href=\"#m177f7580d0\" y=\"263.65\"/>\n",
        "      </g>\n",
        "     </g>\n",
        "     <g id=\"line2d_23\">\n",
        "      <g>\n",
        "       <use style=\"stroke:#000000;stroke-width:0.5;\" x=\"69.1390625\" xlink:href=\"#m5284c7e2a0\" y=\"12.55\"/>\n",
        "      </g>\n",
        "     </g>\n",
        "    </g>\n",
        "    <g id=\"xtick_12\">\n",
        "     <g id=\"line2d_24\">\n",
        "      <g>\n",
        "       <use style=\"stroke:#000000;stroke-width:0.5;\" x=\"76.3390625\" xlink:href=\"#m177f7580d0\" y=\"263.65\"/>\n",
        "      </g>\n",
        "     </g>\n",
        "     <g id=\"line2d_25\">\n",
        "      <g>\n",
        "       <use style=\"stroke:#000000;stroke-width:0.5;\" x=\"76.3390625\" xlink:href=\"#m5284c7e2a0\" y=\"12.55\"/>\n",
        "      </g>\n",
        "     </g>\n",
        "    </g>\n",
        "    <g id=\"xtick_13\">\n",
        "     <g id=\"line2d_26\">\n",
        "      <g>\n",
        "       <use style=\"stroke:#000000;stroke-width:0.5;\" x=\"83.5390625\" xlink:href=\"#m177f7580d0\" y=\"263.65\"/>\n",
        "      </g>\n",
        "     </g>\n",
        "     <g id=\"line2d_27\">\n",
        "      <g>\n",
        "       <use style=\"stroke:#000000;stroke-width:0.5;\" x=\"83.5390625\" xlink:href=\"#m5284c7e2a0\" y=\"12.55\"/>\n",
        "      </g>\n",
        "     </g>\n",
        "    </g>\n",
        "    <g id=\"xtick_14\">\n",
        "     <g id=\"line2d_28\">\n",
        "      <g>\n",
        "       <use style=\"stroke:#000000;stroke-width:0.5;\" x=\"90.7390625\" xlink:href=\"#m177f7580d0\" y=\"263.65\"/>\n",
        "      </g>\n",
        "     </g>\n",
        "     <g id=\"line2d_29\">\n",
        "      <g>\n",
        "       <use style=\"stroke:#000000;stroke-width:0.5;\" x=\"90.7390625\" xlink:href=\"#m5284c7e2a0\" y=\"12.55\"/>\n",
        "      </g>\n",
        "     </g>\n",
        "    </g>\n",
        "    <g id=\"xtick_15\">\n",
        "     <g id=\"line2d_30\">\n",
        "      <g>\n",
        "       <use style=\"stroke:#000000;stroke-width:0.5;\" x=\"97.9390625\" xlink:href=\"#m177f7580d0\" y=\"263.65\"/>\n",
        "      </g>\n",
        "     </g>\n",
        "     <g id=\"line2d_31\">\n",
        "      <g>\n",
        "       <use style=\"stroke:#000000;stroke-width:0.5;\" x=\"97.9390625\" xlink:href=\"#m5284c7e2a0\" y=\"12.55\"/>\n",
        "      </g>\n",
        "     </g>\n",
        "    </g>\n",
        "    <g id=\"xtick_16\">\n",
        "     <g id=\"line2d_32\">\n",
        "      <g>\n",
        "       <use style=\"stroke:#000000;stroke-width:0.5;\" x=\"105.1390625\" xlink:href=\"#m177f7580d0\" y=\"263.65\"/>\n",
        "      </g>\n",
        "     </g>\n",
        "     <g id=\"line2d_33\">\n",
        "      <g>\n",
        "       <use style=\"stroke:#000000;stroke-width:0.5;\" x=\"105.1390625\" xlink:href=\"#m5284c7e2a0\" y=\"12.55\"/>\n",
        "      </g>\n",
        "     </g>\n",
        "    </g>\n",
        "    <g id=\"xtick_17\">\n",
        "     <g id=\"line2d_34\">\n",
        "      <g>\n",
        "       <use style=\"stroke:#000000;stroke-width:0.5;\" x=\"112.3390625\" xlink:href=\"#m177f7580d0\" y=\"263.65\"/>\n",
        "      </g>\n",
        "     </g>\n",
        "     <g id=\"line2d_35\">\n",
        "      <g>\n",
        "       <use style=\"stroke:#000000;stroke-width:0.5;\" x=\"112.3390625\" xlink:href=\"#m5284c7e2a0\" y=\"12.55\"/>\n",
        "      </g>\n",
        "     </g>\n",
        "    </g>\n",
        "    <g id=\"xtick_18\">\n",
        "     <g id=\"line2d_36\">\n",
        "      <g>\n",
        "       <use style=\"stroke:#000000;stroke-width:0.5;\" x=\"119.5390625\" xlink:href=\"#m177f7580d0\" y=\"263.65\"/>\n",
        "      </g>\n",
        "     </g>\n",
        "     <g id=\"line2d_37\">\n",
        "      <g>\n",
        "       <use style=\"stroke:#000000;stroke-width:0.5;\" x=\"119.5390625\" xlink:href=\"#m5284c7e2a0\" y=\"12.55\"/>\n",
        "      </g>\n",
        "     </g>\n",
        "    </g>\n",
        "    <g id=\"xtick_19\">\n",
        "     <g id=\"line2d_38\">\n",
        "      <g>\n",
        "       <use style=\"stroke:#000000;stroke-width:0.5;\" x=\"126.7390625\" xlink:href=\"#m177f7580d0\" y=\"263.65\"/>\n",
        "      </g>\n",
        "     </g>\n",
        "     <g id=\"line2d_39\">\n",
        "      <g>\n",
        "       <use style=\"stroke:#000000;stroke-width:0.5;\" x=\"126.7390625\" xlink:href=\"#m5284c7e2a0\" y=\"12.55\"/>\n",
        "      </g>\n",
        "     </g>\n",
        "    </g>\n",
        "    <g id=\"xtick_20\">\n",
        "     <g id=\"line2d_40\">\n",
        "      <g>\n",
        "       <use style=\"stroke:#000000;stroke-width:0.5;\" x=\"133.9390625\" xlink:href=\"#m177f7580d0\" y=\"263.65\"/>\n",
        "      </g>\n",
        "     </g>\n",
        "     <g id=\"line2d_41\">\n",
        "      <g>\n",
        "       <use style=\"stroke:#000000;stroke-width:0.5;\" x=\"133.9390625\" xlink:href=\"#m5284c7e2a0\" y=\"12.55\"/>\n",
        "      </g>\n",
        "     </g>\n",
        "    </g>\n",
        "    <g id=\"xtick_21\">\n",
        "     <g id=\"line2d_42\">\n",
        "      <g>\n",
        "       <use style=\"stroke:#000000;stroke-width:0.5;\" x=\"141.1390625\" xlink:href=\"#m177f7580d0\" y=\"263.65\"/>\n",
        "      </g>\n",
        "     </g>\n",
        "     <g id=\"line2d_43\">\n",
        "      <g>\n",
        "       <use style=\"stroke:#000000;stroke-width:0.5;\" x=\"141.1390625\" xlink:href=\"#m5284c7e2a0\" y=\"12.55\"/>\n",
        "      </g>\n",
        "     </g>\n",
        "    </g>\n",
        "    <g id=\"xtick_22\">\n",
        "     <g id=\"line2d_44\">\n",
        "      <g>\n",
        "       <use style=\"stroke:#000000;stroke-width:0.5;\" x=\"148.3390625\" xlink:href=\"#m177f7580d0\" y=\"263.65\"/>\n",
        "      </g>\n",
        "     </g>\n",
        "     <g id=\"line2d_45\">\n",
        "      <g>\n",
        "       <use style=\"stroke:#000000;stroke-width:0.5;\" x=\"148.3390625\" xlink:href=\"#m5284c7e2a0\" y=\"12.55\"/>\n",
        "      </g>\n",
        "     </g>\n",
        "    </g>\n",
        "    <g id=\"xtick_23\">\n",
        "     <g id=\"line2d_46\">\n",
        "      <g>\n",
        "       <use style=\"stroke:#000000;stroke-width:0.5;\" x=\"155.5390625\" xlink:href=\"#m177f7580d0\" y=\"263.65\"/>\n",
        "      </g>\n",
        "     </g>\n",
        "     <g id=\"line2d_47\">\n",
        "      <g>\n",
        "       <use style=\"stroke:#000000;stroke-width:0.5;\" x=\"155.5390625\" xlink:href=\"#m5284c7e2a0\" y=\"12.55\"/>\n",
        "      </g>\n",
        "     </g>\n",
        "    </g>\n",
        "    <g id=\"xtick_24\">\n",
        "     <g id=\"line2d_48\">\n",
        "      <g>\n",
        "       <use style=\"stroke:#000000;stroke-width:0.5;\" x=\"162.7390625\" xlink:href=\"#m177f7580d0\" y=\"263.65\"/>\n",
        "      </g>\n",
        "     </g>\n",
        "     <g id=\"line2d_49\">\n",
        "      <g>\n",
        "       <use style=\"stroke:#000000;stroke-width:0.5;\" x=\"162.7390625\" xlink:href=\"#m5284c7e2a0\" y=\"12.55\"/>\n",
        "      </g>\n",
        "     </g>\n",
        "    </g>\n",
        "    <g id=\"xtick_25\">\n",
        "     <g id=\"line2d_50\">\n",
        "      <g>\n",
        "       <use style=\"stroke:#000000;stroke-width:0.5;\" x=\"169.9390625\" xlink:href=\"#m177f7580d0\" y=\"263.65\"/>\n",
        "      </g>\n",
        "     </g>\n",
        "     <g id=\"line2d_51\">\n",
        "      <g>\n",
        "       <use style=\"stroke:#000000;stroke-width:0.5;\" x=\"169.9390625\" xlink:href=\"#m5284c7e2a0\" y=\"12.55\"/>\n",
        "      </g>\n",
        "     </g>\n",
        "    </g>\n",
        "    <g id=\"xtick_26\">\n",
        "     <g id=\"line2d_52\">\n",
        "      <g>\n",
        "       <use style=\"stroke:#000000;stroke-width:0.5;\" x=\"177.1390625\" xlink:href=\"#m177f7580d0\" y=\"263.65\"/>\n",
        "      </g>\n",
        "     </g>\n",
        "     <g id=\"line2d_53\">\n",
        "      <g>\n",
        "       <use style=\"stroke:#000000;stroke-width:0.5;\" x=\"177.1390625\" xlink:href=\"#m5284c7e2a0\" y=\"12.55\"/>\n",
        "      </g>\n",
        "     </g>\n",
        "    </g>\n",
        "    <g id=\"xtick_27\">\n",
        "     <g id=\"line2d_54\">\n",
        "      <g>\n",
        "       <use style=\"stroke:#000000;stroke-width:0.5;\" x=\"184.3390625\" xlink:href=\"#m177f7580d0\" y=\"263.65\"/>\n",
        "      </g>\n",
        "     </g>\n",
        "     <g id=\"line2d_55\">\n",
        "      <g>\n",
        "       <use style=\"stroke:#000000;stroke-width:0.5;\" x=\"184.3390625\" xlink:href=\"#m5284c7e2a0\" y=\"12.55\"/>\n",
        "      </g>\n",
        "     </g>\n",
        "    </g>\n",
        "    <g id=\"xtick_28\">\n",
        "     <g id=\"line2d_56\">\n",
        "      <g>\n",
        "       <use style=\"stroke:#000000;stroke-width:0.5;\" x=\"191.5390625\" xlink:href=\"#m177f7580d0\" y=\"263.65\"/>\n",
        "      </g>\n",
        "     </g>\n",
        "     <g id=\"line2d_57\">\n",
        "      <g>\n",
        "       <use style=\"stroke:#000000;stroke-width:0.5;\" x=\"191.5390625\" xlink:href=\"#m5284c7e2a0\" y=\"12.55\"/>\n",
        "      </g>\n",
        "     </g>\n",
        "    </g>\n",
        "    <g id=\"xtick_29\">\n",
        "     <g id=\"line2d_58\">\n",
        "      <g>\n",
        "       <use style=\"stroke:#000000;stroke-width:0.5;\" x=\"198.7390625\" xlink:href=\"#m177f7580d0\" y=\"263.65\"/>\n",
        "      </g>\n",
        "     </g>\n",
        "     <g id=\"line2d_59\">\n",
        "      <g>\n",
        "       <use style=\"stroke:#000000;stroke-width:0.5;\" x=\"198.7390625\" xlink:href=\"#m5284c7e2a0\" y=\"12.55\"/>\n",
        "      </g>\n",
        "     </g>\n",
        "    </g>\n",
        "    <g id=\"xtick_30\">\n",
        "     <g id=\"line2d_60\">\n",
        "      <g>\n",
        "       <use style=\"stroke:#000000;stroke-width:0.5;\" x=\"205.9390625\" xlink:href=\"#m177f7580d0\" y=\"263.65\"/>\n",
        "      </g>\n",
        "     </g>\n",
        "     <g id=\"line2d_61\">\n",
        "      <g>\n",
        "       <use style=\"stroke:#000000;stroke-width:0.5;\" x=\"205.9390625\" xlink:href=\"#m5284c7e2a0\" y=\"12.55\"/>\n",
        "      </g>\n",
        "     </g>\n",
        "    </g>\n",
        "    <g id=\"xtick_31\">\n",
        "     <g id=\"line2d_62\">\n",
        "      <g>\n",
        "       <use style=\"stroke:#000000;stroke-width:0.5;\" x=\"213.1390625\" xlink:href=\"#m177f7580d0\" y=\"263.65\"/>\n",
        "      </g>\n",
        "     </g>\n",
        "     <g id=\"line2d_63\">\n",
        "      <g>\n",
        "       <use style=\"stroke:#000000;stroke-width:0.5;\" x=\"213.1390625\" xlink:href=\"#m5284c7e2a0\" y=\"12.55\"/>\n",
        "      </g>\n",
        "     </g>\n",
        "    </g>\n",
        "    <g id=\"xtick_32\">\n",
        "     <g id=\"line2d_64\">\n",
        "      <g>\n",
        "       <use style=\"stroke:#000000;stroke-width:0.5;\" x=\"220.3390625\" xlink:href=\"#m177f7580d0\" y=\"263.65\"/>\n",
        "      </g>\n",
        "     </g>\n",
        "     <g id=\"line2d_65\">\n",
        "      <g>\n",
        "       <use style=\"stroke:#000000;stroke-width:0.5;\" x=\"220.3390625\" xlink:href=\"#m5284c7e2a0\" y=\"12.55\"/>\n",
        "      </g>\n",
        "     </g>\n",
        "    </g>\n",
        "    <g id=\"xtick_33\">\n",
        "     <g id=\"line2d_66\">\n",
        "      <g>\n",
        "       <use style=\"stroke:#000000;stroke-width:0.5;\" x=\"227.5390625\" xlink:href=\"#m177f7580d0\" y=\"263.65\"/>\n",
        "      </g>\n",
        "     </g>\n",
        "     <g id=\"line2d_67\">\n",
        "      <g>\n",
        "       <use style=\"stroke:#000000;stroke-width:0.5;\" x=\"227.5390625\" xlink:href=\"#m5284c7e2a0\" y=\"12.55\"/>\n",
        "      </g>\n",
        "     </g>\n",
        "    </g>\n",
        "    <g id=\"xtick_34\">\n",
        "     <g id=\"line2d_68\">\n",
        "      <g>\n",
        "       <use style=\"stroke:#000000;stroke-width:0.5;\" x=\"234.7390625\" xlink:href=\"#m177f7580d0\" y=\"263.65\"/>\n",
        "      </g>\n",
        "     </g>\n",
        "     <g id=\"line2d_69\">\n",
        "      <g>\n",
        "       <use style=\"stroke:#000000;stroke-width:0.5;\" x=\"234.7390625\" xlink:href=\"#m5284c7e2a0\" y=\"12.55\"/>\n",
        "      </g>\n",
        "     </g>\n",
        "    </g>\n",
        "    <g id=\"xtick_35\">\n",
        "     <g id=\"line2d_70\">\n",
        "      <g>\n",
        "       <use style=\"stroke:#000000;stroke-width:0.5;\" x=\"241.9390625\" xlink:href=\"#m177f7580d0\" y=\"263.65\"/>\n",
        "      </g>\n",
        "     </g>\n",
        "     <g id=\"line2d_71\">\n",
        "      <g>\n",
        "       <use style=\"stroke:#000000;stroke-width:0.5;\" x=\"241.9390625\" xlink:href=\"#m5284c7e2a0\" y=\"12.55\"/>\n",
        "      </g>\n",
        "     </g>\n",
        "    </g>\n",
        "    <g id=\"xtick_36\">\n",
        "     <g id=\"line2d_72\">\n",
        "      <g>\n",
        "       <use style=\"stroke:#000000;stroke-width:0.5;\" x=\"249.1390625\" xlink:href=\"#m177f7580d0\" y=\"263.65\"/>\n",
        "      </g>\n",
        "     </g>\n",
        "     <g id=\"line2d_73\">\n",
        "      <g>\n",
        "       <use style=\"stroke:#000000;stroke-width:0.5;\" x=\"249.1390625\" xlink:href=\"#m5284c7e2a0\" y=\"12.55\"/>\n",
        "      </g>\n",
        "     </g>\n",
        "    </g>\n",
        "    <g id=\"xtick_37\">\n",
        "     <g id=\"line2d_74\">\n",
        "      <g>\n",
        "       <use style=\"stroke:#000000;stroke-width:0.5;\" x=\"256.3390625\" xlink:href=\"#m177f7580d0\" y=\"263.65\"/>\n",
        "      </g>\n",
        "     </g>\n",
        "     <g id=\"line2d_75\">\n",
        "      <g>\n",
        "       <use style=\"stroke:#000000;stroke-width:0.5;\" x=\"256.3390625\" xlink:href=\"#m5284c7e2a0\" y=\"12.55\"/>\n",
        "      </g>\n",
        "     </g>\n",
        "    </g>\n",
        "    <g id=\"xtick_38\">\n",
        "     <g id=\"line2d_76\">\n",
        "      <g>\n",
        "       <use style=\"stroke:#000000;stroke-width:0.5;\" x=\"263.5390625\" xlink:href=\"#m177f7580d0\" y=\"263.65\"/>\n",
        "      </g>\n",
        "     </g>\n",
        "     <g id=\"line2d_77\">\n",
        "      <g>\n",
        "       <use style=\"stroke:#000000;stroke-width:0.5;\" x=\"263.5390625\" xlink:href=\"#m5284c7e2a0\" y=\"12.55\"/>\n",
        "      </g>\n",
        "     </g>\n",
        "    </g>\n",
        "    <g id=\"xtick_39\">\n",
        "     <g id=\"line2d_78\">\n",
        "      <g>\n",
        "       <use style=\"stroke:#000000;stroke-width:0.5;\" x=\"270.7390625\" xlink:href=\"#m177f7580d0\" y=\"263.65\"/>\n",
        "      </g>\n",
        "     </g>\n",
        "     <g id=\"line2d_79\">\n",
        "      <g>\n",
        "       <use style=\"stroke:#000000;stroke-width:0.5;\" x=\"270.7390625\" xlink:href=\"#m5284c7e2a0\" y=\"12.55\"/>\n",
        "      </g>\n",
        "     </g>\n",
        "    </g>\n",
        "    <g id=\"xtick_40\">\n",
        "     <g id=\"line2d_80\">\n",
        "      <g>\n",
        "       <use style=\"stroke:#000000;stroke-width:0.5;\" x=\"277.9390625\" xlink:href=\"#m177f7580d0\" y=\"263.65\"/>\n",
        "      </g>\n",
        "     </g>\n",
        "     <g id=\"line2d_81\">\n",
        "      <g>\n",
        "       <use style=\"stroke:#000000;stroke-width:0.5;\" x=\"277.9390625\" xlink:href=\"#m5284c7e2a0\" y=\"12.55\"/>\n",
        "      </g>\n",
        "     </g>\n",
        "    </g>\n",
        "    <g id=\"xtick_41\">\n",
        "     <g id=\"line2d_82\">\n",
        "      <g>\n",
        "       <use style=\"stroke:#000000;stroke-width:0.5;\" x=\"285.1390625\" xlink:href=\"#m177f7580d0\" y=\"263.65\"/>\n",
        "      </g>\n",
        "     </g>\n",
        "     <g id=\"line2d_83\">\n",
        "      <g>\n",
        "       <use style=\"stroke:#000000;stroke-width:0.5;\" x=\"285.1390625\" xlink:href=\"#m5284c7e2a0\" y=\"12.55\"/>\n",
        "      </g>\n",
        "     </g>\n",
        "    </g>\n",
        "    <g id=\"xtick_42\">\n",
        "     <g id=\"line2d_84\">\n",
        "      <g>\n",
        "       <use style=\"stroke:#000000;stroke-width:0.5;\" x=\"292.3390625\" xlink:href=\"#m177f7580d0\" y=\"263.65\"/>\n",
        "      </g>\n",
        "     </g>\n",
        "     <g id=\"line2d_85\">\n",
        "      <g>\n",
        "       <use style=\"stroke:#000000;stroke-width:0.5;\" x=\"292.3390625\" xlink:href=\"#m5284c7e2a0\" y=\"12.55\"/>\n",
        "      </g>\n",
        "     </g>\n",
        "    </g>\n",
        "    <g id=\"xtick_43\">\n",
        "     <g id=\"line2d_86\">\n",
        "      <g>\n",
        "       <use style=\"stroke:#000000;stroke-width:0.5;\" x=\"299.5390625\" xlink:href=\"#m177f7580d0\" y=\"263.65\"/>\n",
        "      </g>\n",
        "     </g>\n",
        "     <g id=\"line2d_87\">\n",
        "      <g>\n",
        "       <use style=\"stroke:#000000;stroke-width:0.5;\" x=\"299.5390625\" xlink:href=\"#m5284c7e2a0\" y=\"12.55\"/>\n",
        "      </g>\n",
        "     </g>\n",
        "    </g>\n",
        "    <g id=\"xtick_44\">\n",
        "     <g id=\"line2d_88\">\n",
        "      <g>\n",
        "       <use style=\"stroke:#000000;stroke-width:0.5;\" x=\"306.7390625\" xlink:href=\"#m177f7580d0\" y=\"263.65\"/>\n",
        "      </g>\n",
        "     </g>\n",
        "     <g id=\"line2d_89\">\n",
        "      <g>\n",
        "       <use style=\"stroke:#000000;stroke-width:0.5;\" x=\"306.7390625\" xlink:href=\"#m5284c7e2a0\" y=\"12.55\"/>\n",
        "      </g>\n",
        "     </g>\n",
        "    </g>\n",
        "    <g id=\"xtick_45\">\n",
        "     <g id=\"line2d_90\">\n",
        "      <g>\n",
        "       <use style=\"stroke:#000000;stroke-width:0.5;\" x=\"313.9390625\" xlink:href=\"#m177f7580d0\" y=\"263.65\"/>\n",
        "      </g>\n",
        "     </g>\n",
        "     <g id=\"line2d_91\">\n",
        "      <g>\n",
        "       <use style=\"stroke:#000000;stroke-width:0.5;\" x=\"313.9390625\" xlink:href=\"#m5284c7e2a0\" y=\"12.55\"/>\n",
        "      </g>\n",
        "     </g>\n",
        "    </g>\n",
        "    <g id=\"xtick_46\">\n",
        "     <g id=\"line2d_92\">\n",
        "      <g>\n",
        "       <use style=\"stroke:#000000;stroke-width:0.5;\" x=\"321.1390625\" xlink:href=\"#m177f7580d0\" y=\"263.65\"/>\n",
        "      </g>\n",
        "     </g>\n",
        "     <g id=\"line2d_93\">\n",
        "      <g>\n",
        "       <use style=\"stroke:#000000;stroke-width:0.5;\" x=\"321.1390625\" xlink:href=\"#m5284c7e2a0\" y=\"12.55\"/>\n",
        "      </g>\n",
        "     </g>\n",
        "    </g>\n",
        "    <g id=\"xtick_47\">\n",
        "     <g id=\"line2d_94\">\n",
        "      <g>\n",
        "       <use style=\"stroke:#000000;stroke-width:0.5;\" x=\"328.3390625\" xlink:href=\"#m177f7580d0\" y=\"263.65\"/>\n",
        "      </g>\n",
        "     </g>\n",
        "     <g id=\"line2d_95\">\n",
        "      <g>\n",
        "       <use style=\"stroke:#000000;stroke-width:0.5;\" x=\"328.3390625\" xlink:href=\"#m5284c7e2a0\" y=\"12.55\"/>\n",
        "      </g>\n",
        "     </g>\n",
        "    </g>\n",
        "    <g id=\"xtick_48\">\n",
        "     <g id=\"line2d_96\">\n",
        "      <g>\n",
        "       <use style=\"stroke:#000000;stroke-width:0.5;\" x=\"335.5390625\" xlink:href=\"#m177f7580d0\" y=\"263.65\"/>\n",
        "      </g>\n",
        "     </g>\n",
        "     <g id=\"line2d_97\">\n",
        "      <g>\n",
        "       <use style=\"stroke:#000000;stroke-width:0.5;\" x=\"335.5390625\" xlink:href=\"#m5284c7e2a0\" y=\"12.55\"/>\n",
        "      </g>\n",
        "     </g>\n",
        "    </g>\n",
        "    <g id=\"xtick_49\">\n",
        "     <g id=\"line2d_98\">\n",
        "      <g>\n",
        "       <use style=\"stroke:#000000;stroke-width:0.5;\" x=\"342.7390625\" xlink:href=\"#m177f7580d0\" y=\"263.65\"/>\n",
        "      </g>\n",
        "     </g>\n",
        "     <g id=\"line2d_99\">\n",
        "      <g>\n",
        "       <use style=\"stroke:#000000;stroke-width:0.5;\" x=\"342.7390625\" xlink:href=\"#m5284c7e2a0\" y=\"12.55\"/>\n",
        "      </g>\n",
        "     </g>\n",
        "    </g>\n",
        "    <g id=\"xtick_50\">\n",
        "     <g id=\"line2d_100\">\n",
        "      <g>\n",
        "       <use style=\"stroke:#000000;stroke-width:0.5;\" x=\"349.9390625\" xlink:href=\"#m177f7580d0\" y=\"263.65\"/>\n",
        "      </g>\n",
        "     </g>\n",
        "     <g id=\"line2d_101\">\n",
        "      <g>\n",
        "       <use style=\"stroke:#000000;stroke-width:0.5;\" x=\"349.9390625\" xlink:href=\"#m5284c7e2a0\" y=\"12.55\"/>\n",
        "      </g>\n",
        "     </g>\n",
        "    </g>\n",
        "    <g id=\"xtick_51\">\n",
        "     <g id=\"line2d_102\">\n",
        "      <g>\n",
        "       <use style=\"stroke:#000000;stroke-width:0.5;\" x=\"357.1390625\" xlink:href=\"#m177f7580d0\" y=\"263.65\"/>\n",
        "      </g>\n",
        "     </g>\n",
        "     <g id=\"line2d_103\">\n",
        "      <g>\n",
        "       <use style=\"stroke:#000000;stroke-width:0.5;\" x=\"357.1390625\" xlink:href=\"#m5284c7e2a0\" y=\"12.55\"/>\n",
        "      </g>\n",
        "     </g>\n",
        "    </g>\n",
        "    <g id=\"xtick_52\">\n",
        "     <g id=\"line2d_104\">\n",
        "      <g>\n",
        "       <use style=\"stroke:#000000;stroke-width:0.5;\" x=\"364.3390625\" xlink:href=\"#m177f7580d0\" y=\"263.65\"/>\n",
        "      </g>\n",
        "     </g>\n",
        "     <g id=\"line2d_105\">\n",
        "      <g>\n",
        "       <use style=\"stroke:#000000;stroke-width:0.5;\" x=\"364.3390625\" xlink:href=\"#m5284c7e2a0\" y=\"12.55\"/>\n",
        "      </g>\n",
        "     </g>\n",
        "    </g>\n",
        "    <g id=\"xtick_53\">\n",
        "     <g id=\"line2d_106\">\n",
        "      <g>\n",
        "       <use style=\"stroke:#000000;stroke-width:0.5;\" x=\"371.5390625\" xlink:href=\"#m177f7580d0\" y=\"263.65\"/>\n",
        "      </g>\n",
        "     </g>\n",
        "     <g id=\"line2d_107\">\n",
        "      <g>\n",
        "       <use style=\"stroke:#000000;stroke-width:0.5;\" x=\"371.5390625\" xlink:href=\"#m5284c7e2a0\" y=\"12.55\"/>\n",
        "      </g>\n",
        "     </g>\n",
        "    </g>\n",
        "    <g id=\"xtick_54\">\n",
        "     <g id=\"line2d_108\">\n",
        "      <g>\n",
        "       <use style=\"stroke:#000000;stroke-width:0.5;\" x=\"378.7390625\" xlink:href=\"#m177f7580d0\" y=\"263.65\"/>\n",
        "      </g>\n",
        "     </g>\n",
        "     <g id=\"line2d_109\">\n",
        "      <g>\n",
        "       <use style=\"stroke:#000000;stroke-width:0.5;\" x=\"378.7390625\" xlink:href=\"#m5284c7e2a0\" y=\"12.55\"/>\n",
        "      </g>\n",
        "     </g>\n",
        "    </g>\n",
        "    <g id=\"xtick_55\">\n",
        "     <g id=\"line2d_110\">\n",
        "      <g>\n",
        "       <use style=\"stroke:#000000;stroke-width:0.5;\" x=\"385.9390625\" xlink:href=\"#m177f7580d0\" y=\"263.65\"/>\n",
        "      </g>\n",
        "     </g>\n",
        "     <g id=\"line2d_111\">\n",
        "      <g>\n",
        "       <use style=\"stroke:#000000;stroke-width:0.5;\" x=\"385.9390625\" xlink:href=\"#m5284c7e2a0\" y=\"12.55\"/>\n",
        "      </g>\n",
        "     </g>\n",
        "    </g>\n",
        "    <g id=\"xtick_56\">\n",
        "     <g id=\"line2d_112\">\n",
        "      <g>\n",
        "       <use style=\"stroke:#000000;stroke-width:0.5;\" x=\"393.1390625\" xlink:href=\"#m177f7580d0\" y=\"263.65\"/>\n",
        "      </g>\n",
        "     </g>\n",
        "     <g id=\"line2d_113\">\n",
        "      <g>\n",
        "       <use style=\"stroke:#000000;stroke-width:0.5;\" x=\"393.1390625\" xlink:href=\"#m5284c7e2a0\" y=\"12.55\"/>\n",
        "      </g>\n",
        "     </g>\n",
        "    </g>\n",
        "    <g id=\"xtick_57\">\n",
        "     <g id=\"line2d_114\">\n",
        "      <g>\n",
        "       <use style=\"stroke:#000000;stroke-width:0.5;\" x=\"400.3390625\" xlink:href=\"#m177f7580d0\" y=\"263.65\"/>\n",
        "      </g>\n",
        "     </g>\n",
        "     <g id=\"line2d_115\">\n",
        "      <g>\n",
        "       <use style=\"stroke:#000000;stroke-width:0.5;\" x=\"400.3390625\" xlink:href=\"#m5284c7e2a0\" y=\"12.55\"/>\n",
        "      </g>\n",
        "     </g>\n",
        "    </g>\n",
        "    <g id=\"xtick_58\">\n",
        "     <g id=\"line2d_116\">\n",
        "      <g>\n",
        "       <use style=\"stroke:#000000;stroke-width:0.5;\" x=\"407.5390625\" xlink:href=\"#m177f7580d0\" y=\"263.65\"/>\n",
        "      </g>\n",
        "     </g>\n",
        "     <g id=\"line2d_117\">\n",
        "      <g>\n",
        "       <use style=\"stroke:#000000;stroke-width:0.5;\" x=\"407.5390625\" xlink:href=\"#m5284c7e2a0\" y=\"12.55\"/>\n",
        "      </g>\n",
        "     </g>\n",
        "    </g>\n",
        "    <g id=\"xtick_59\">\n",
        "     <g id=\"line2d_118\">\n",
        "      <g>\n",
        "       <use style=\"stroke:#000000;stroke-width:0.5;\" x=\"414.7390625\" xlink:href=\"#m177f7580d0\" y=\"263.65\"/>\n",
        "      </g>\n",
        "     </g>\n",
        "     <g id=\"line2d_119\">\n",
        "      <g>\n",
        "       <use style=\"stroke:#000000;stroke-width:0.5;\" x=\"414.7390625\" xlink:href=\"#m5284c7e2a0\" y=\"12.55\"/>\n",
        "      </g>\n",
        "     </g>\n",
        "    </g>\n",
        "    <g id=\"xtick_60\">\n",
        "     <g id=\"line2d_120\">\n",
        "      <g>\n",
        "       <use style=\"stroke:#000000;stroke-width:0.5;\" x=\"421.9390625\" xlink:href=\"#m177f7580d0\" y=\"263.65\"/>\n",
        "      </g>\n",
        "     </g>\n",
        "     <g id=\"line2d_121\">\n",
        "      <g>\n",
        "       <use style=\"stroke:#000000;stroke-width:0.5;\" x=\"421.9390625\" xlink:href=\"#m5284c7e2a0\" y=\"12.55\"/>\n",
        "      </g>\n",
        "     </g>\n",
        "    </g>\n",
        "    <g id=\"xtick_61\">\n",
        "     <g id=\"line2d_122\">\n",
        "      <g>\n",
        "       <use style=\"stroke:#000000;stroke-width:0.5;\" x=\"429.1390625\" xlink:href=\"#m177f7580d0\" y=\"263.65\"/>\n",
        "      </g>\n",
        "     </g>\n",
        "     <g id=\"line2d_123\">\n",
        "      <g>\n",
        "       <use style=\"stroke:#000000;stroke-width:0.5;\" x=\"429.1390625\" xlink:href=\"#m5284c7e2a0\" y=\"12.55\"/>\n",
        "      </g>\n",
        "     </g>\n",
        "    </g>\n",
        "    <g id=\"xtick_62\">\n",
        "     <g id=\"line2d_124\">\n",
        "      <g>\n",
        "       <use style=\"stroke:#000000;stroke-width:0.5;\" x=\"436.3390625\" xlink:href=\"#m177f7580d0\" y=\"263.65\"/>\n",
        "      </g>\n",
        "     </g>\n",
        "     <g id=\"line2d_125\">\n",
        "      <g>\n",
        "       <use style=\"stroke:#000000;stroke-width:0.5;\" x=\"436.3390625\" xlink:href=\"#m5284c7e2a0\" y=\"12.55\"/>\n",
        "      </g>\n",
        "     </g>\n",
        "    </g>\n",
        "    <g id=\"xtick_63\">\n",
        "     <g id=\"line2d_126\">\n",
        "      <g>\n",
        "       <use style=\"stroke:#000000;stroke-width:0.5;\" x=\"443.5390625\" xlink:href=\"#m177f7580d0\" y=\"263.65\"/>\n",
        "      </g>\n",
        "     </g>\n",
        "     <g id=\"line2d_127\">\n",
        "      <g>\n",
        "       <use style=\"stroke:#000000;stroke-width:0.5;\" x=\"443.5390625\" xlink:href=\"#m5284c7e2a0\" y=\"12.55\"/>\n",
        "      </g>\n",
        "     </g>\n",
        "    </g>\n",
        "    <g id=\"xtick_64\">\n",
        "     <g id=\"line2d_128\">\n",
        "      <g>\n",
        "       <use style=\"stroke:#000000;stroke-width:0.5;\" x=\"450.7390625\" xlink:href=\"#m177f7580d0\" y=\"263.65\"/>\n",
        "      </g>\n",
        "     </g>\n",
        "     <g id=\"line2d_129\">\n",
        "      <g>\n",
        "       <use style=\"stroke:#000000;stroke-width:0.5;\" x=\"450.7390625\" xlink:href=\"#m5284c7e2a0\" y=\"12.55\"/>\n",
        "      </g>\n",
        "     </g>\n",
        "    </g>\n",
        "    <g id=\"xtick_65\">\n",
        "     <g id=\"line2d_130\">\n",
        "      <g>\n",
        "       <use style=\"stroke:#000000;stroke-width:0.5;\" x=\"457.9390625\" xlink:href=\"#m177f7580d0\" y=\"263.65\"/>\n",
        "      </g>\n",
        "     </g>\n",
        "     <g id=\"line2d_131\">\n",
        "      <g>\n",
        "       <use style=\"stroke:#000000;stroke-width:0.5;\" x=\"457.9390625\" xlink:href=\"#m5284c7e2a0\" y=\"12.55\"/>\n",
        "      </g>\n",
        "     </g>\n",
        "    </g>\n",
        "    <g id=\"xtick_66\">\n",
        "     <g id=\"line2d_132\">\n",
        "      <g>\n",
        "       <use style=\"stroke:#000000;stroke-width:0.5;\" x=\"465.1390625\" xlink:href=\"#m177f7580d0\" y=\"263.65\"/>\n",
        "      </g>\n",
        "     </g>\n",
        "     <g id=\"line2d_133\">\n",
        "      <g>\n",
        "       <use style=\"stroke:#000000;stroke-width:0.5;\" x=\"465.1390625\" xlink:href=\"#m5284c7e2a0\" y=\"12.55\"/>\n",
        "      </g>\n",
        "     </g>\n",
        "    </g>\n",
        "    <g id=\"xtick_67\">\n",
        "     <g id=\"line2d_134\">\n",
        "      <g>\n",
        "       <use style=\"stroke:#000000;stroke-width:0.5;\" x=\"472.3390625\" xlink:href=\"#m177f7580d0\" y=\"263.65\"/>\n",
        "      </g>\n",
        "     </g>\n",
        "     <g id=\"line2d_135\">\n",
        "      <g>\n",
        "       <use style=\"stroke:#000000;stroke-width:0.5;\" x=\"472.3390625\" xlink:href=\"#m5284c7e2a0\" y=\"12.55\"/>\n",
        "      </g>\n",
        "     </g>\n",
        "    </g>\n",
        "    <g id=\"xtick_68\">\n",
        "     <g id=\"line2d_136\">\n",
        "      <g>\n",
        "       <use style=\"stroke:#000000;stroke-width:0.5;\" x=\"479.5390625\" xlink:href=\"#m177f7580d0\" y=\"263.65\"/>\n",
        "      </g>\n",
        "     </g>\n",
        "     <g id=\"line2d_137\">\n",
        "      <g>\n",
        "       <use style=\"stroke:#000000;stroke-width:0.5;\" x=\"479.5390625\" xlink:href=\"#m5284c7e2a0\" y=\"12.55\"/>\n",
        "      </g>\n",
        "     </g>\n",
        "    </g>\n",
        "    <g id=\"xtick_69\">\n",
        "     <g id=\"line2d_138\">\n",
        "      <g>\n",
        "       <use style=\"stroke:#000000;stroke-width:0.5;\" x=\"486.7390625\" xlink:href=\"#m177f7580d0\" y=\"263.65\"/>\n",
        "      </g>\n",
        "     </g>\n",
        "     <g id=\"line2d_139\">\n",
        "      <g>\n",
        "       <use style=\"stroke:#000000;stroke-width:0.5;\" x=\"486.7390625\" xlink:href=\"#m5284c7e2a0\" y=\"12.55\"/>\n",
        "      </g>\n",
        "     </g>\n",
        "    </g>\n",
        "    <g id=\"text_7\">\n",
        "     <!-- N_facet -->\n",
        "     <defs>\n",
        "      <path d=\"\n",
        "M9.8125 72.9062\n",
        "L23.0938 72.9062\n",
        "L55.4219 11.9219\n",
        "L55.4219 72.9062\n",
        "L64.9844 72.9062\n",
        "L64.9844 0\n",
        "L51.7031 0\n",
        "L19.3906 60.9844\n",
        "L19.3906 0\n",
        "L9.8125 0\n",
        "z\n",
        "\" id=\"BitstreamVeraSans-Roman-4e\"/>\n",
        "      <path d=\"\n",
        "M50.9844 -16.6094\n",
        "L50.9844 -23.5781\n",
        "L-0.984375 -23.5781\n",
        "L-0.984375 -16.6094\n",
        "z\n",
        "\" id=\"BitstreamVeraSans-Roman-5f\"/>\n",
        "      <path d=\"\n",
        "M56.2031 29.5938\n",
        "L56.2031 25.2031\n",
        "L14.8906 25.2031\n",
        "Q15.4844 15.9219 20.4844 11.0625\n",
        "Q25.4844 6.20312 34.4219 6.20312\n",
        "Q39.5938 6.20312 44.4531 7.46875\n",
        "Q49.3125 8.73438 54.1094 11.2812\n",
        "L54.1094 2.78125\n",
        "Q49.2656 0.734375 44.1875 -0.34375\n",
        "Q39.1094 -1.42188 33.8906 -1.42188\n",
        "Q20.7969 -1.42188 13.1562 6.1875\n",
        "Q5.51562 13.8125 5.51562 26.8125\n",
        "Q5.51562 40.2344 12.7656 48.1094\n",
        "Q20.0156 56 32.3281 56\n",
        "Q43.3594 56 49.7812 48.8906\n",
        "Q56.2031 41.7969 56.2031 29.5938\n",
        "M47.2188 32.2344\n",
        "Q47.125 39.5938 43.0938 43.9844\n",
        "Q39.0625 48.3906 32.4219 48.3906\n",
        "Q24.9062 48.3906 20.3906 44.1406\n",
        "Q15.875 39.8906 15.1875 32.1719\n",
        "z\n",
        "\" id=\"BitstreamVeraSans-Roman-65\"/>\n",
        "      <path d=\"\n",
        "M18.3125 70.2188\n",
        "L18.3125 54.6875\n",
        "L36.8125 54.6875\n",
        "L36.8125 47.7031\n",
        "L18.3125 47.7031\n",
        "L18.3125 18.0156\n",
        "Q18.3125 11.3281 20.1406 9.42188\n",
        "Q21.9688 7.51562 27.5938 7.51562\n",
        "L36.8125 7.51562\n",
        "L36.8125 0\n",
        "L27.5938 0\n",
        "Q17.1875 0 13.2344 3.875\n",
        "Q9.28125 7.76562 9.28125 18.0156\n",
        "L9.28125 47.7031\n",
        "L2.6875 47.7031\n",
        "L2.6875 54.6875\n",
        "L9.28125 54.6875\n",
        "L9.28125 70.2188\n",
        "z\n",
        "\" id=\"BitstreamVeraSans-Roman-74\"/>\n",
        "      <path d=\"\n",
        "M37.1094 75.9844\n",
        "L37.1094 68.5\n",
        "L28.5156 68.5\n",
        "Q23.6875 68.5 21.7969 66.5469\n",
        "Q19.9219 64.5938 19.9219 59.5156\n",
        "L19.9219 54.6875\n",
        "L34.7188 54.6875\n",
        "L34.7188 47.7031\n",
        "L19.9219 47.7031\n",
        "L19.9219 0\n",
        "L10.8906 0\n",
        "L10.8906 47.7031\n",
        "L2.29688 47.7031\n",
        "L2.29688 54.6875\n",
        "L10.8906 54.6875\n",
        "L10.8906 58.5\n",
        "Q10.8906 67.625 15.1406 71.7969\n",
        "Q19.3906 75.9844 28.6094 75.9844\n",
        "z\n",
        "\" id=\"BitstreamVeraSans-Roman-66\"/>\n",
        "      <path d=\"\n",
        "M34.2812 27.4844\n",
        "Q23.3906 27.4844 19.1875 25\n",
        "Q14.9844 22.5156 14.9844 16.5\n",
        "Q14.9844 11.7188 18.1406 8.90625\n",
        "Q21.2969 6.10938 26.7031 6.10938\n",
        "Q34.1875 6.10938 38.7031 11.4062\n",
        "Q43.2188 16.7031 43.2188 25.4844\n",
        "L43.2188 27.4844\n",
        "z\n",
        "\n",
        "M52.2031 31.2031\n",
        "L52.2031 0\n",
        "L43.2188 0\n",
        "L43.2188 8.29688\n",
        "Q40.1406 3.32812 35.5469 0.953125\n",
        "Q30.9531 -1.42188 24.3125 -1.42188\n",
        "Q15.9219 -1.42188 10.9531 3.29688\n",
        "Q6 8.01562 6 15.9219\n",
        "Q6 25.1406 12.1719 29.8281\n",
        "Q18.3594 34.5156 30.6094 34.5156\n",
        "L43.2188 34.5156\n",
        "L43.2188 35.4062\n",
        "Q43.2188 41.6094 39.1406 45\n",
        "Q35.0625 48.3906 27.6875 48.3906\n",
        "Q23 48.3906 18.5469 47.2656\n",
        "Q14.1094 46.1406 10.0156 43.8906\n",
        "L10.0156 52.2031\n",
        "Q14.9375 54.1094 19.5781 55.0469\n",
        "Q24.2188 56 28.6094 56\n",
        "Q40.4844 56 46.3438 49.8438\n",
        "Q52.2031 43.7031 52.2031 31.2031\" id=\"BitstreamVeraSans-Roman-61\"/>\n",
        "      <path d=\"\n",
        "M48.7812 52.5938\n",
        "L48.7812 44.1875\n",
        "Q44.9688 46.2969 41.1406 47.3438\n",
        "Q37.3125 48.3906 33.4062 48.3906\n",
        "Q24.6562 48.3906 19.8125 42.8438\n",
        "Q14.9844 37.3125 14.9844 27.2969\n",
        "Q14.9844 17.2812 19.8125 11.7344\n",
        "Q24.6562 6.20312 33.4062 6.20312\n",
        "Q37.3125 6.20312 41.1406 7.25\n",
        "Q44.9688 8.29688 48.7812 10.4062\n",
        "L48.7812 2.09375\n",
        "Q45.0156 0.34375 40.9844 -0.53125\n",
        "Q36.9688 -1.42188 32.4219 -1.42188\n",
        "Q20.0625 -1.42188 12.7812 6.34375\n",
        "Q5.51562 14.1094 5.51562 27.2969\n",
        "Q5.51562 40.6719 12.8594 48.3281\n",
        "Q20.2188 56 33.0156 56\n",
        "Q37.1562 56 41.1094 55.1406\n",
        "Q45.0625 54.2969 48.7812 52.5938\" id=\"BitstreamVeraSans-Roman-63\"/>\n",
        "     </defs>\n",
        "     <g transform=\"translate(263.5390625 289.9265625)scale(0.1 -0.1)\">\n",
        "      <use xlink:href=\"#BitstreamVeraSans-Roman-4e\"/>\n",
        "      <use x=\"74.8046875\" xlink:href=\"#BitstreamVeraSans-Roman-5f\"/>\n",
        "      <use x=\"124.8046875\" xlink:href=\"#BitstreamVeraSans-Roman-66\"/>\n",
        "      <use x=\"160.009765625\" xlink:href=\"#BitstreamVeraSans-Roman-61\"/>\n",
        "      <use x=\"221.2890625\" xlink:href=\"#BitstreamVeraSans-Roman-63\"/>\n",
        "      <use x=\"276.26953125\" xlink:href=\"#BitstreamVeraSans-Roman-65\"/>\n",
        "      <use x=\"337.79296875\" xlink:href=\"#BitstreamVeraSans-Roman-74\"/>\n",
        "     </g>\n",
        "    </g>\n",
        "   </g>\n",
        "   <g id=\"matplotlib.axis_2\">\n",
        "    <g id=\"ytick_1\">\n",
        "     <g id=\"line2d_140\">\n",
        "      <defs>\n",
        "       <path d=\"\n",
        "M0 0\n",
        "L4 0\" id=\"m728421d6d4\" style=\"stroke:#000000;stroke-width:0.5;\"/>\n",
        "      </defs>\n",
        "      <g>\n",
        "       <use style=\"stroke:#000000;stroke-width:0.5;\" x=\"40.3390625\" xlink:href=\"#m728421d6d4\" y=\"263.65\"/>\n",
        "      </g>\n",
        "     </g>\n",
        "     <g id=\"line2d_141\">\n",
        "      <defs>\n",
        "       <path d=\"\n",
        "M0 0\n",
        "L-4 0\" id=\"mcb0005524f\" style=\"stroke:#000000;stroke-width:0.5;\"/>\n",
        "      </defs>\n",
        "      <g>\n",
        "       <use style=\"stroke:#000000;stroke-width:0.5;\" x=\"486.7390625\" xlink:href=\"#mcb0005524f\" y=\"263.65\"/>\n",
        "      </g>\n",
        "     </g>\n",
        "     <g id=\"text_8\">\n",
        "      <!-- $\\mathdefault{10^{5}}$ -->\n",
        "      <g transform=\"translate(17.0390625 266.8703125)scale(0.1 -0.1)\">\n",
        "       <use transform=\"translate(0.0 0.465625)\" xlink:href=\"#BitstreamVeraSans-Roman-31\"/>\n",
        "       <use transform=\"translate(63.623046875 0.465625)\" xlink:href=\"#BitstreamVeraSans-Roman-30\"/>\n",
        "       <use transform=\"translate(127.24609375 52.965625)scale(0.7)\" xlink:href=\"#BitstreamVeraSans-Roman-35\"/>\n",
        "      </g>\n",
        "     </g>\n",
        "    </g>\n",
        "    <g id=\"ytick_2\">\n",
        "     <g id=\"line2d_142\">\n",
        "      <g>\n",
        "       <use style=\"stroke:#000000;stroke-width:0.5;\" x=\"40.3390625\" xlink:href=\"#m728421d6d4\" y=\"200.875\"/>\n",
        "      </g>\n",
        "     </g>\n",
        "     <g id=\"line2d_143\">\n",
        "      <g>\n",
        "       <use style=\"stroke:#000000;stroke-width:0.5;\" x=\"486.7390625\" xlink:href=\"#mcb0005524f\" y=\"200.875\"/>\n",
        "      </g>\n",
        "     </g>\n",
        "     <g id=\"text_9\">\n",
        "      <!-- $\\mathdefault{10^{6}}$ -->\n",
        "      <g transform=\"translate(17.0390625 204.1453125)scale(0.1 -0.1)\">\n",
        "       <use transform=\"translate(0.0 0.546875)\" xlink:href=\"#BitstreamVeraSans-Roman-31\"/>\n",
        "       <use transform=\"translate(63.623046875 0.546875)\" xlink:href=\"#BitstreamVeraSans-Roman-30\"/>\n",
        "       <use transform=\"translate(127.24609375 53.046875)scale(0.7)\" xlink:href=\"#BitstreamVeraSans-Roman-36\"/>\n",
        "      </g>\n",
        "     </g>\n",
        "    </g>\n",
        "    <g id=\"ytick_3\">\n",
        "     <g id=\"line2d_144\">\n",
        "      <g>\n",
        "       <use style=\"stroke:#000000;stroke-width:0.5;\" x=\"40.3390625\" xlink:href=\"#m728421d6d4\" y=\"138.1\"/>\n",
        "      </g>\n",
        "     </g>\n",
        "     <g id=\"line2d_145\">\n",
        "      <g>\n",
        "       <use style=\"stroke:#000000;stroke-width:0.5;\" x=\"486.7390625\" xlink:href=\"#mcb0005524f\" y=\"138.1\"/>\n",
        "      </g>\n",
        "     </g>\n",
        "     <g id=\"text_10\">\n",
        "      <!-- $\\mathdefault{10^{7}}$ -->\n",
        "      <defs>\n",
        "       <path d=\"\n",
        "M8.20312 72.9062\n",
        "L55.0781 72.9062\n",
        "L55.0781 68.7031\n",
        "L28.6094 0\n",
        "L18.3125 0\n",
        "L43.2188 64.5938\n",
        "L8.20312 64.5938\n",
        "z\n",
        "\" id=\"BitstreamVeraSans-Roman-37\"/>\n",
        "      </defs>\n",
        "      <g transform=\"translate(17.0390625 141.3203125)scale(0.1 -0.1)\">\n",
        "       <use transform=\"translate(0.0 0.465625)\" xlink:href=\"#BitstreamVeraSans-Roman-31\"/>\n",
        "       <use transform=\"translate(63.623046875 0.465625)\" xlink:href=\"#BitstreamVeraSans-Roman-30\"/>\n",
        "       <use transform=\"translate(127.24609375 52.965625)scale(0.7)\" xlink:href=\"#BitstreamVeraSans-Roman-37\"/>\n",
        "      </g>\n",
        "     </g>\n",
        "    </g>\n",
        "    <g id=\"ytick_4\">\n",
        "     <g id=\"line2d_146\">\n",
        "      <g>\n",
        "       <use style=\"stroke:#000000;stroke-width:0.5;\" x=\"40.3390625\" xlink:href=\"#m728421d6d4\" y=\"75.325\"/>\n",
        "      </g>\n",
        "     </g>\n",
        "     <g id=\"line2d_147\">\n",
        "      <g>\n",
        "       <use style=\"stroke:#000000;stroke-width:0.5;\" x=\"486.7390625\" xlink:href=\"#mcb0005524f\" y=\"75.325\"/>\n",
        "      </g>\n",
        "     </g>\n",
        "     <g id=\"text_11\">\n",
        "      <!-- $\\mathdefault{10^{8}}$ -->\n",
        "      <defs>\n",
        "       <path d=\"\n",
        "M31.7812 34.625\n",
        "Q24.75 34.625 20.7188 30.8594\n",
        "Q16.7031 27.0938 16.7031 20.5156\n",
        "Q16.7031 13.9219 20.7188 10.1562\n",
        "Q24.75 6.39062 31.7812 6.39062\n",
        "Q38.8125 6.39062 42.8594 10.1719\n",
        "Q46.9219 13.9688 46.9219 20.5156\n",
        "Q46.9219 27.0938 42.8906 30.8594\n",
        "Q38.875 34.625 31.7812 34.625\n",
        "M21.9219 38.8125\n",
        "Q15.5781 40.375 12.0312 44.7188\n",
        "Q8.5 49.0781 8.5 55.3281\n",
        "Q8.5 64.0625 14.7188 69.1406\n",
        "Q20.9531 74.2188 31.7812 74.2188\n",
        "Q42.6719 74.2188 48.875 69.1406\n",
        "Q55.0781 64.0625 55.0781 55.3281\n",
        "Q55.0781 49.0781 51.5312 44.7188\n",
        "Q48 40.375 41.7031 38.8125\n",
        "Q48.8281 37.1562 52.7969 32.3125\n",
        "Q56.7812 27.4844 56.7812 20.5156\n",
        "Q56.7812 9.90625 50.3125 4.23438\n",
        "Q43.8438 -1.42188 31.7812 -1.42188\n",
        "Q19.7344 -1.42188 13.25 4.23438\n",
        "Q6.78125 9.90625 6.78125 20.5156\n",
        "Q6.78125 27.4844 10.7812 32.3125\n",
        "Q14.7969 37.1562 21.9219 38.8125\n",
        "M18.3125 54.3906\n",
        "Q18.3125 48.7344 21.8438 45.5625\n",
        "Q25.3906 42.3906 31.7812 42.3906\n",
        "Q38.1406 42.3906 41.7188 45.5625\n",
        "Q45.3125 48.7344 45.3125 54.3906\n",
        "Q45.3125 60.0625 41.7188 63.2344\n",
        "Q38.1406 66.4062 31.7812 66.4062\n",
        "Q25.3906 66.4062 21.8438 63.2344\n",
        "Q18.3125 60.0625 18.3125 54.3906\" id=\"BitstreamVeraSans-Roman-38\"/>\n",
        "      </defs>\n",
        "      <g transform=\"translate(17.0390625 78.5953125)scale(0.1 -0.1)\">\n",
        "       <use transform=\"translate(0.0 0.546875)\" xlink:href=\"#BitstreamVeraSans-Roman-31\"/>\n",
        "       <use transform=\"translate(63.623046875 0.546875)\" xlink:href=\"#BitstreamVeraSans-Roman-30\"/>\n",
        "       <use transform=\"translate(127.24609375 53.046875)scale(0.7)\" xlink:href=\"#BitstreamVeraSans-Roman-38\"/>\n",
        "      </g>\n",
        "     </g>\n",
        "    </g>\n",
        "    <g id=\"ytick_5\">\n",
        "     <g id=\"line2d_148\">\n",
        "      <g>\n",
        "       <use style=\"stroke:#000000;stroke-width:0.5;\" x=\"40.3390625\" xlink:href=\"#m728421d6d4\" y=\"12.55\"/>\n",
        "      </g>\n",
        "     </g>\n",
        "     <g id=\"line2d_149\">\n",
        "      <g>\n",
        "       <use style=\"stroke:#000000;stroke-width:0.5;\" x=\"486.7390625\" xlink:href=\"#mcb0005524f\" y=\"12.55\"/>\n",
        "      </g>\n",
        "     </g>\n",
        "     <g id=\"text_12\">\n",
        "      <!-- $\\mathdefault{10^{9}}$ -->\n",
        "      <defs>\n",
        "       <path d=\"\n",
        "M10.9844 1.51562\n",
        "L10.9844 10.5\n",
        "Q14.7031 8.73438 18.5 7.8125\n",
        "Q22.3125 6.89062 25.9844 6.89062\n",
        "Q35.75 6.89062 40.8906 13.4531\n",
        "Q46.0469 20.0156 46.7812 33.4062\n",
        "Q43.9531 29.2031 39.5938 26.9531\n",
        "Q35.25 24.7031 29.9844 24.7031\n",
        "Q19.0469 24.7031 12.6719 31.3125\n",
        "Q6.29688 37.9375 6.29688 49.4219\n",
        "Q6.29688 60.6406 12.9375 67.4219\n",
        "Q19.5781 74.2188 30.6094 74.2188\n",
        "Q43.2656 74.2188 49.9219 64.5156\n",
        "Q56.5938 54.8281 56.5938 36.375\n",
        "Q56.5938 19.1406 48.4062 8.85938\n",
        "Q40.2344 -1.42188 26.4219 -1.42188\n",
        "Q22.7031 -1.42188 18.8906 -0.6875\n",
        "Q15.0938 0.046875 10.9844 1.51562\n",
        "M30.6094 32.4219\n",
        "Q37.25 32.4219 41.125 36.9531\n",
        "Q45.0156 41.5 45.0156 49.4219\n",
        "Q45.0156 57.2812 41.125 61.8438\n",
        "Q37.25 66.4062 30.6094 66.4062\n",
        "Q23.9688 66.4062 20.0938 61.8438\n",
        "Q16.2188 57.2812 16.2188 49.4219\n",
        "Q16.2188 41.5 20.0938 36.9531\n",
        "Q23.9688 32.4219 30.6094 32.4219\" id=\"BitstreamVeraSans-Roman-39\"/>\n",
        "      </defs>\n",
        "      <g transform=\"translate(17.0390625 15.8203125)scale(0.1 -0.1)\">\n",
        "       <use transform=\"translate(0.0 0.546875)\" xlink:href=\"#BitstreamVeraSans-Roman-31\"/>\n",
        "       <use transform=\"translate(63.623046875 0.546875)\" xlink:href=\"#BitstreamVeraSans-Roman-30\"/>\n",
        "       <use transform=\"translate(127.24609375 53.046875)scale(0.7)\" xlink:href=\"#BitstreamVeraSans-Roman-39\"/>\n",
        "      </g>\n",
        "     </g>\n",
        "    </g>\n",
        "    <g id=\"ytick_6\">\n",
        "     <g id=\"line2d_150\">\n",
        "      <defs>\n",
        "       <path d=\"\n",
        "M0 0\n",
        "L2 0\" id=\"mf0c55a9a47\" style=\"stroke:#000000;stroke-width:0.5;\"/>\n",
        "      </defs>\n",
        "      <g>\n",
        "       <use style=\"stroke:#000000;stroke-width:0.5;\" x=\"40.3390625\" xlink:href=\"#mf0c55a9a47\" y=\"244.752842022\"/>\n",
        "      </g>\n",
        "     </g>\n",
        "     <g id=\"line2d_151\">\n",
        "      <defs>\n",
        "       <path d=\"\n",
        "M0 0\n",
        "L-2 0\" id=\"ma4f294b3af\" style=\"stroke:#000000;stroke-width:0.5;\"/>\n",
        "      </defs>\n",
        "      <g>\n",
        "       <use style=\"stroke:#000000;stroke-width:0.5;\" x=\"486.7390625\" xlink:href=\"#ma4f294b3af\" y=\"244.752842022\"/>\n",
        "      </g>\n",
        "     </g>\n",
        "    </g>\n",
        "    <g id=\"ytick_7\">\n",
        "     <g id=\"line2d_152\">\n",
        "      <g>\n",
        "       <use style=\"stroke:#000000;stroke-width:0.5;\" x=\"40.3390625\" xlink:href=\"#mf0c55a9a47\" y=\"233.698713235\"/>\n",
        "      </g>\n",
        "     </g>\n",
        "     <g id=\"line2d_153\">\n",
        "      <g>\n",
        "       <use style=\"stroke:#000000;stroke-width:0.5;\" x=\"486.7390625\" xlink:href=\"#ma4f294b3af\" y=\"233.698713235\"/>\n",
        "      </g>\n",
        "     </g>\n",
        "    </g>\n",
        "    <g id=\"ytick_8\">\n",
        "     <g id=\"line2d_154\">\n",
        "      <g>\n",
        "       <use style=\"stroke:#000000;stroke-width:0.5;\" x=\"40.3390625\" xlink:href=\"#mf0c55a9a47\" y=\"225.855684044\"/>\n",
        "      </g>\n",
        "     </g>\n",
        "     <g id=\"line2d_155\">\n",
        "      <g>\n",
        "       <use style=\"stroke:#000000;stroke-width:0.5;\" x=\"486.7390625\" xlink:href=\"#ma4f294b3af\" y=\"225.855684044\"/>\n",
        "      </g>\n",
        "     </g>\n",
        "    </g>\n",
        "    <g id=\"ytick_9\">\n",
        "     <g id=\"line2d_156\">\n",
        "      <g>\n",
        "       <use style=\"stroke:#000000;stroke-width:0.5;\" x=\"40.3390625\" xlink:href=\"#mf0c55a9a47\" y=\"219.772157978\"/>\n",
        "      </g>\n",
        "     </g>\n",
        "     <g id=\"line2d_157\">\n",
        "      <g>\n",
        "       <use style=\"stroke:#000000;stroke-width:0.5;\" x=\"486.7390625\" xlink:href=\"#ma4f294b3af\" y=\"219.772157978\"/>\n",
        "      </g>\n",
        "     </g>\n",
        "    </g>\n",
        "    <g id=\"ytick_10\">\n",
        "     <g id=\"line2d_158\">\n",
        "      <g>\n",
        "       <use style=\"stroke:#000000;stroke-width:0.5;\" x=\"40.3390625\" xlink:href=\"#mf0c55a9a47\" y=\"214.801555257\"/>\n",
        "      </g>\n",
        "     </g>\n",
        "     <g id=\"line2d_159\">\n",
        "      <g>\n",
        "       <use style=\"stroke:#000000;stroke-width:0.5;\" x=\"486.7390625\" xlink:href=\"#ma4f294b3af\" y=\"214.801555257\"/>\n",
        "      </g>\n",
        "     </g>\n",
        "    </g>\n",
        "    <g id=\"ytick_11\">\n",
        "     <g id=\"line2d_160\">\n",
        "      <g>\n",
        "       <use style=\"stroke:#000000;stroke-width:0.5;\" x=\"40.3390625\" xlink:href=\"#mf0c55a9a47\" y=\"210.598970538\"/>\n",
        "      </g>\n",
        "     </g>\n",
        "     <g id=\"line2d_161\">\n",
        "      <g>\n",
        "       <use style=\"stroke:#000000;stroke-width:0.5;\" x=\"486.7390625\" xlink:href=\"#ma4f294b3af\" y=\"210.598970538\"/>\n",
        "      </g>\n",
        "     </g>\n",
        "    </g>\n",
        "    <g id=\"ytick_12\">\n",
        "     <g id=\"line2d_162\">\n",
        "      <g>\n",
        "       <use style=\"stroke:#000000;stroke-width:0.5;\" x=\"40.3390625\" xlink:href=\"#mf0c55a9a47\" y=\"206.958526067\"/>\n",
        "      </g>\n",
        "     </g>\n",
        "     <g id=\"line2d_163\">\n",
        "      <g>\n",
        "       <use style=\"stroke:#000000;stroke-width:0.5;\" x=\"486.7390625\" xlink:href=\"#ma4f294b3af\" y=\"206.958526067\"/>\n",
        "      </g>\n",
        "     </g>\n",
        "    </g>\n",
        "    <g id=\"ytick_13\">\n",
        "     <g id=\"line2d_164\">\n",
        "      <g>\n",
        "       <use style=\"stroke:#000000;stroke-width:0.5;\" x=\"40.3390625\" xlink:href=\"#mf0c55a9a47\" y=\"203.74742647\"/>\n",
        "      </g>\n",
        "     </g>\n",
        "     <g id=\"line2d_165\">\n",
        "      <g>\n",
        "       <use style=\"stroke:#000000;stroke-width:0.5;\" x=\"486.7390625\" xlink:href=\"#ma4f294b3af\" y=\"203.74742647\"/>\n",
        "      </g>\n",
        "     </g>\n",
        "    </g>\n",
        "    <g id=\"ytick_14\">\n",
        "     <g id=\"line2d_166\">\n",
        "      <g>\n",
        "       <use style=\"stroke:#000000;stroke-width:0.5;\" x=\"40.3390625\" xlink:href=\"#mf0c55a9a47\" y=\"181.977842022\"/>\n",
        "      </g>\n",
        "     </g>\n",
        "     <g id=\"line2d_167\">\n",
        "      <g>\n",
        "       <use style=\"stroke:#000000;stroke-width:0.5;\" x=\"486.7390625\" xlink:href=\"#ma4f294b3af\" y=\"181.977842022\"/>\n",
        "      </g>\n",
        "     </g>\n",
        "    </g>\n",
        "    <g id=\"ytick_15\">\n",
        "     <g id=\"line2d_168\">\n",
        "      <g>\n",
        "       <use style=\"stroke:#000000;stroke-width:0.5;\" x=\"40.3390625\" xlink:href=\"#mf0c55a9a47\" y=\"170.923713235\"/>\n",
        "      </g>\n",
        "     </g>\n",
        "     <g id=\"line2d_169\">\n",
        "      <g>\n",
        "       <use style=\"stroke:#000000;stroke-width:0.5;\" x=\"486.7390625\" xlink:href=\"#ma4f294b3af\" y=\"170.923713235\"/>\n",
        "      </g>\n",
        "     </g>\n",
        "    </g>\n",
        "    <g id=\"ytick_16\">\n",
        "     <g id=\"line2d_170\">\n",
        "      <g>\n",
        "       <use style=\"stroke:#000000;stroke-width:0.5;\" x=\"40.3390625\" xlink:href=\"#mf0c55a9a47\" y=\"163.080684044\"/>\n",
        "      </g>\n",
        "     </g>\n",
        "     <g id=\"line2d_171\">\n",
        "      <g>\n",
        "       <use style=\"stroke:#000000;stroke-width:0.5;\" x=\"486.7390625\" xlink:href=\"#ma4f294b3af\" y=\"163.080684044\"/>\n",
        "      </g>\n",
        "     </g>\n",
        "    </g>\n",
        "    <g id=\"ytick_17\">\n",
        "     <g id=\"line2d_172\">\n",
        "      <g>\n",
        "       <use style=\"stroke:#000000;stroke-width:0.5;\" x=\"40.3390625\" xlink:href=\"#mf0c55a9a47\" y=\"156.997157978\"/>\n",
        "      </g>\n",
        "     </g>\n",
        "     <g id=\"line2d_173\">\n",
        "      <g>\n",
        "       <use style=\"stroke:#000000;stroke-width:0.5;\" x=\"486.7390625\" xlink:href=\"#ma4f294b3af\" y=\"156.997157978\"/>\n",
        "      </g>\n",
        "     </g>\n",
        "    </g>\n",
        "    <g id=\"ytick_18\">\n",
        "     <g id=\"line2d_174\">\n",
        "      <g>\n",
        "       <use style=\"stroke:#000000;stroke-width:0.5;\" x=\"40.3390625\" xlink:href=\"#mf0c55a9a47\" y=\"152.026555257\"/>\n",
        "      </g>\n",
        "     </g>\n",
        "     <g id=\"line2d_175\">\n",
        "      <g>\n",
        "       <use style=\"stroke:#000000;stroke-width:0.5;\" x=\"486.7390625\" xlink:href=\"#ma4f294b3af\" y=\"152.026555257\"/>\n",
        "      </g>\n",
        "     </g>\n",
        "    </g>\n",
        "    <g id=\"ytick_19\">\n",
        "     <g id=\"line2d_176\">\n",
        "      <g>\n",
        "       <use style=\"stroke:#000000;stroke-width:0.5;\" x=\"40.3390625\" xlink:href=\"#mf0c55a9a47\" y=\"147.823970538\"/>\n",
        "      </g>\n",
        "     </g>\n",
        "     <g id=\"line2d_177\">\n",
        "      <g>\n",
        "       <use style=\"stroke:#000000;stroke-width:0.5;\" x=\"486.7390625\" xlink:href=\"#ma4f294b3af\" y=\"147.823970538\"/>\n",
        "      </g>\n",
        "     </g>\n",
        "    </g>\n",
        "    <g id=\"ytick_20\">\n",
        "     <g id=\"line2d_178\">\n",
        "      <g>\n",
        "       <use style=\"stroke:#000000;stroke-width:0.5;\" x=\"40.3390625\" xlink:href=\"#mf0c55a9a47\" y=\"144.183526067\"/>\n",
        "      </g>\n",
        "     </g>\n",
        "     <g id=\"line2d_179\">\n",
        "      <g>\n",
        "       <use style=\"stroke:#000000;stroke-width:0.5;\" x=\"486.7390625\" xlink:href=\"#ma4f294b3af\" y=\"144.183526067\"/>\n",
        "      </g>\n",
        "     </g>\n",
        "    </g>\n",
        "    <g id=\"ytick_21\">\n",
        "     <g id=\"line2d_180\">\n",
        "      <g>\n",
        "       <use style=\"stroke:#000000;stroke-width:0.5;\" x=\"40.3390625\" xlink:href=\"#mf0c55a9a47\" y=\"140.97242647\"/>\n",
        "      </g>\n",
        "     </g>\n",
        "     <g id=\"line2d_181\">\n",
        "      <g>\n",
        "       <use style=\"stroke:#000000;stroke-width:0.5;\" x=\"486.7390625\" xlink:href=\"#ma4f294b3af\" y=\"140.97242647\"/>\n",
        "      </g>\n",
        "     </g>\n",
        "    </g>\n",
        "    <g id=\"ytick_22\">\n",
        "     <g id=\"line2d_182\">\n",
        "      <g>\n",
        "       <use style=\"stroke:#000000;stroke-width:0.5;\" x=\"40.3390625\" xlink:href=\"#mf0c55a9a47\" y=\"119.202842022\"/>\n",
        "      </g>\n",
        "     </g>\n",
        "     <g id=\"line2d_183\">\n",
        "      <g>\n",
        "       <use style=\"stroke:#000000;stroke-width:0.5;\" x=\"486.7390625\" xlink:href=\"#ma4f294b3af\" y=\"119.202842022\"/>\n",
        "      </g>\n",
        "     </g>\n",
        "    </g>\n",
        "    <g id=\"ytick_23\">\n",
        "     <g id=\"line2d_184\">\n",
        "      <g>\n",
        "       <use style=\"stroke:#000000;stroke-width:0.5;\" x=\"40.3390625\" xlink:href=\"#mf0c55a9a47\" y=\"108.148713235\"/>\n",
        "      </g>\n",
        "     </g>\n",
        "     <g id=\"line2d_185\">\n",
        "      <g>\n",
        "       <use style=\"stroke:#000000;stroke-width:0.5;\" x=\"486.7390625\" xlink:href=\"#ma4f294b3af\" y=\"108.148713235\"/>\n",
        "      </g>\n",
        "     </g>\n",
        "    </g>\n",
        "    <g id=\"ytick_24\">\n",
        "     <g id=\"line2d_186\">\n",
        "      <g>\n",
        "       <use style=\"stroke:#000000;stroke-width:0.5;\" x=\"40.3390625\" xlink:href=\"#mf0c55a9a47\" y=\"100.305684044\"/>\n",
        "      </g>\n",
        "     </g>\n",
        "     <g id=\"line2d_187\">\n",
        "      <g>\n",
        "       <use style=\"stroke:#000000;stroke-width:0.5;\" x=\"486.7390625\" xlink:href=\"#ma4f294b3af\" y=\"100.305684044\"/>\n",
        "      </g>\n",
        "     </g>\n",
        "    </g>\n",
        "    <g id=\"ytick_25\">\n",
        "     <g id=\"line2d_188\">\n",
        "      <g>\n",
        "       <use style=\"stroke:#000000;stroke-width:0.5;\" x=\"40.3390625\" xlink:href=\"#mf0c55a9a47\" y=\"94.2221579778\"/>\n",
        "      </g>\n",
        "     </g>\n",
        "     <g id=\"line2d_189\">\n",
        "      <g>\n",
        "       <use style=\"stroke:#000000;stroke-width:0.5;\" x=\"486.7390625\" xlink:href=\"#ma4f294b3af\" y=\"94.2221579778\"/>\n",
        "      </g>\n",
        "     </g>\n",
        "    </g>\n",
        "    <g id=\"ytick_26\">\n",
        "     <g id=\"line2d_190\">\n",
        "      <g>\n",
        "       <use style=\"stroke:#000000;stroke-width:0.5;\" x=\"40.3390625\" xlink:href=\"#mf0c55a9a47\" y=\"89.2515552572\"/>\n",
        "      </g>\n",
        "     </g>\n",
        "     <g id=\"line2d_191\">\n",
        "      <g>\n",
        "       <use style=\"stroke:#000000;stroke-width:0.5;\" x=\"486.7390625\" xlink:href=\"#ma4f294b3af\" y=\"89.2515552572\"/>\n",
        "      </g>\n",
        "     </g>\n",
        "    </g>\n",
        "    <g id=\"ytick_27\">\n",
        "     <g id=\"line2d_192\">\n",
        "      <g>\n",
        "       <use style=\"stroke:#000000;stroke-width:0.5;\" x=\"40.3390625\" xlink:href=\"#mf0c55a9a47\" y=\"85.0489705381\"/>\n",
        "      </g>\n",
        "     </g>\n",
        "     <g id=\"line2d_193\">\n",
        "      <g>\n",
        "       <use style=\"stroke:#000000;stroke-width:0.5;\" x=\"486.7390625\" xlink:href=\"#ma4f294b3af\" y=\"85.0489705381\"/>\n",
        "      </g>\n",
        "     </g>\n",
        "    </g>\n",
        "    <g id=\"ytick_28\">\n",
        "     <g id=\"line2d_194\">\n",
        "      <g>\n",
        "       <use style=\"stroke:#000000;stroke-width:0.5;\" x=\"40.3390625\" xlink:href=\"#mf0c55a9a47\" y=\"81.4085260666\"/>\n",
        "      </g>\n",
        "     </g>\n",
        "     <g id=\"line2d_195\">\n",
        "      <g>\n",
        "       <use style=\"stroke:#000000;stroke-width:0.5;\" x=\"486.7390625\" xlink:href=\"#ma4f294b3af\" y=\"81.4085260666\"/>\n",
        "      </g>\n",
        "     </g>\n",
        "    </g>\n",
        "    <g id=\"ytick_29\">\n",
        "     <g id=\"line2d_196\">\n",
        "      <g>\n",
        "       <use style=\"stroke:#000000;stroke-width:0.5;\" x=\"40.3390625\" xlink:href=\"#mf0c55a9a47\" y=\"78.1974264699\"/>\n",
        "      </g>\n",
        "     </g>\n",
        "     <g id=\"line2d_197\">\n",
        "      <g>\n",
        "       <use style=\"stroke:#000000;stroke-width:0.5;\" x=\"486.7390625\" xlink:href=\"#ma4f294b3af\" y=\"78.1974264699\"/>\n",
        "      </g>\n",
        "     </g>\n",
        "    </g>\n",
        "    <g id=\"ytick_30\">\n",
        "     <g id=\"line2d_198\">\n",
        "      <g>\n",
        "       <use style=\"stroke:#000000;stroke-width:0.5;\" x=\"40.3390625\" xlink:href=\"#mf0c55a9a47\" y=\"56.4278420222\"/>\n",
        "      </g>\n",
        "     </g>\n",
        "     <g id=\"line2d_199\">\n",
        "      <g>\n",
        "       <use style=\"stroke:#000000;stroke-width:0.5;\" x=\"486.7390625\" xlink:href=\"#ma4f294b3af\" y=\"56.4278420222\"/>\n",
        "      </g>\n",
        "     </g>\n",
        "    </g>\n",
        "    <g id=\"ytick_31\">\n",
        "     <g id=\"line2d_200\">\n",
        "      <g>\n",
        "       <use style=\"stroke:#000000;stroke-width:0.5;\" x=\"40.3390625\" xlink:href=\"#mf0c55a9a47\" y=\"45.373713235\"/>\n",
        "      </g>\n",
        "     </g>\n",
        "     <g id=\"line2d_201\">\n",
        "      <g>\n",
        "       <use style=\"stroke:#000000;stroke-width:0.5;\" x=\"486.7390625\" xlink:href=\"#ma4f294b3af\" y=\"45.373713235\"/>\n",
        "      </g>\n",
        "     </g>\n",
        "    </g>\n",
        "    <g id=\"ytick_32\">\n",
        "     <g id=\"line2d_202\">\n",
        "      <g>\n",
        "       <use style=\"stroke:#000000;stroke-width:0.5;\" x=\"40.3390625\" xlink:href=\"#mf0c55a9a47\" y=\"37.5306840444\"/>\n",
        "      </g>\n",
        "     </g>\n",
        "     <g id=\"line2d_203\">\n",
        "      <g>\n",
        "       <use style=\"stroke:#000000;stroke-width:0.5;\" x=\"486.7390625\" xlink:href=\"#ma4f294b3af\" y=\"37.5306840444\"/>\n",
        "      </g>\n",
        "     </g>\n",
        "    </g>\n",
        "    <g id=\"ytick_33\">\n",
        "     <g id=\"line2d_204\">\n",
        "      <g>\n",
        "       <use style=\"stroke:#000000;stroke-width:0.5;\" x=\"40.3390625\" xlink:href=\"#mf0c55a9a47\" y=\"31.4471579778\"/>\n",
        "      </g>\n",
        "     </g>\n",
        "     <g id=\"line2d_205\">\n",
        "      <g>\n",
        "       <use style=\"stroke:#000000;stroke-width:0.5;\" x=\"486.7390625\" xlink:href=\"#ma4f294b3af\" y=\"31.4471579778\"/>\n",
        "      </g>\n",
        "     </g>\n",
        "    </g>\n",
        "    <g id=\"ytick_34\">\n",
        "     <g id=\"line2d_206\">\n",
        "      <g>\n",
        "       <use style=\"stroke:#000000;stroke-width:0.5;\" x=\"40.3390625\" xlink:href=\"#mf0c55a9a47\" y=\"26.4765552572\"/>\n",
        "      </g>\n",
        "     </g>\n",
        "     <g id=\"line2d_207\">\n",
        "      <g>\n",
        "       <use style=\"stroke:#000000;stroke-width:0.5;\" x=\"486.7390625\" xlink:href=\"#ma4f294b3af\" y=\"26.4765552572\"/>\n",
        "      </g>\n",
        "     </g>\n",
        "    </g>\n",
        "    <g id=\"ytick_35\">\n",
        "     <g id=\"line2d_208\">\n",
        "      <g>\n",
        "       <use style=\"stroke:#000000;stroke-width:0.5;\" x=\"40.3390625\" xlink:href=\"#mf0c55a9a47\" y=\"22.2739705381\"/>\n",
        "      </g>\n",
        "     </g>\n",
        "     <g id=\"line2d_209\">\n",
        "      <g>\n",
        "       <use style=\"stroke:#000000;stroke-width:0.5;\" x=\"486.7390625\" xlink:href=\"#ma4f294b3af\" y=\"22.2739705381\"/>\n",
        "      </g>\n",
        "     </g>\n",
        "    </g>\n",
        "    <g id=\"ytick_36\">\n",
        "     <g id=\"line2d_210\">\n",
        "      <g>\n",
        "       <use style=\"stroke:#000000;stroke-width:0.5;\" x=\"40.3390625\" xlink:href=\"#mf0c55a9a47\" y=\"18.6335260666\"/>\n",
        "      </g>\n",
        "     </g>\n",
        "     <g id=\"line2d_211\">\n",
        "      <g>\n",
        "       <use style=\"stroke:#000000;stroke-width:0.5;\" x=\"486.7390625\" xlink:href=\"#ma4f294b3af\" y=\"18.6335260666\"/>\n",
        "      </g>\n",
        "     </g>\n",
        "    </g>\n",
        "    <g id=\"ytick_37\">\n",
        "     <g id=\"line2d_212\">\n",
        "      <g>\n",
        "       <use style=\"stroke:#000000;stroke-width:0.5;\" x=\"40.3390625\" xlink:href=\"#mf0c55a9a47\" y=\"15.4224264699\"/>\n",
        "      </g>\n",
        "     </g>\n",
        "     <g id=\"line2d_213\">\n",
        "      <g>\n",
        "       <use style=\"stroke:#000000;stroke-width:0.5;\" x=\"486.7390625\" xlink:href=\"#ma4f294b3af\" y=\"15.4224264699\"/>\n",
        "      </g>\n",
        "     </g>\n",
        "    </g>\n",
        "    <g id=\"text_13\">\n",
        "     <!-- Power (W) -->\n",
        "     <defs>\n",
        "      <path id=\"BitstreamVeraSans-Roman-20\"/>\n",
        "      <path d=\"\n",
        "M8.01562 75.875\n",
        "L15.8281 75.875\n",
        "Q23.1406 64.3594 26.7812 53.3125\n",
        "Q30.4219 42.2812 30.4219 31.3906\n",
        "Q30.4219 20.4531 26.7812 9.375\n",
        "Q23.1406 -1.70312 15.8281 -13.1875\n",
        "L8.01562 -13.1875\n",
        "Q14.5 -2 17.7031 9.0625\n",
        "Q20.9062 20.125 20.9062 31.3906\n",
        "Q20.9062 42.6719 17.7031 53.6562\n",
        "Q14.5 64.6562 8.01562 75.875\" id=\"BitstreamVeraSans-Roman-29\"/>\n",
        "      <path d=\"\n",
        "M31 75.875\n",
        "Q24.4688 64.6562 21.2812 53.6562\n",
        "Q18.1094 42.6719 18.1094 31.3906\n",
        "Q18.1094 20.125 21.3125 9.0625\n",
        "Q24.5156 -2 31 -13.1875\n",
        "L23.1875 -13.1875\n",
        "Q15.875 -1.70312 12.2344 9.375\n",
        "Q8.59375 20.4531 8.59375 31.3906\n",
        "Q8.59375 42.2812 12.2031 53.3125\n",
        "Q15.8281 64.3594 23.1875 75.875\n",
        "z\n",
        "\" id=\"BitstreamVeraSans-Roman-28\"/>\n",
        "      <path d=\"\n",
        "M30.6094 48.3906\n",
        "Q23.3906 48.3906 19.1875 42.75\n",
        "Q14.9844 37.1094 14.9844 27.2969\n",
        "Q14.9844 17.4844 19.1562 11.8438\n",
        "Q23.3438 6.20312 30.6094 6.20312\n",
        "Q37.7969 6.20312 41.9844 11.8594\n",
        "Q46.1875 17.5312 46.1875 27.2969\n",
        "Q46.1875 37.0156 41.9844 42.7031\n",
        "Q37.7969 48.3906 30.6094 48.3906\n",
        "M30.6094 56\n",
        "Q42.3281 56 49.0156 48.375\n",
        "Q55.7188 40.7656 55.7188 27.2969\n",
        "Q55.7188 13.875 49.0156 6.21875\n",
        "Q42.3281 -1.42188 30.6094 -1.42188\n",
        "Q18.8438 -1.42188 12.1719 6.21875\n",
        "Q5.51562 13.875 5.51562 27.2969\n",
        "Q5.51562 40.7656 12.1719 48.375\n",
        "Q18.8438 56 30.6094 56\" id=\"BitstreamVeraSans-Roman-6f\"/>\n",
        "      <path d=\"\n",
        "M19.6719 64.7969\n",
        "L19.6719 37.4062\n",
        "L32.0781 37.4062\n",
        "Q38.9688 37.4062 42.7188 40.9688\n",
        "Q46.4844 44.5312 46.4844 51.125\n",
        "Q46.4844 57.6719 42.7188 61.2344\n",
        "Q38.9688 64.7969 32.0781 64.7969\n",
        "z\n",
        "\n",
        "M9.8125 72.9062\n",
        "L32.0781 72.9062\n",
        "Q44.3438 72.9062 50.6094 67.3594\n",
        "Q56.8906 61.8125 56.8906 51.125\n",
        "Q56.8906 40.3281 50.6094 34.8125\n",
        "Q44.3438 29.2969 32.0781 29.2969\n",
        "L19.6719 29.2969\n",
        "L19.6719 0\n",
        "L9.8125 0\n",
        "z\n",
        "\" id=\"BitstreamVeraSans-Roman-50\"/>\n",
        "      <path d=\"\n",
        "M3.32812 72.9062\n",
        "L13.2812 72.9062\n",
        "L28.6094 11.2812\n",
        "L43.8906 72.9062\n",
        "L54.9844 72.9062\n",
        "L70.3125 11.2812\n",
        "L85.5938 72.9062\n",
        "L95.6094 72.9062\n",
        "L77.2969 0\n",
        "L64.8906 0\n",
        "L49.5156 63.2812\n",
        "L33.9844 0\n",
        "L21.5781 0\n",
        "z\n",
        "\" id=\"BitstreamVeraSans-Roman-57\"/>\n",
        "      <path d=\"\n",
        "M4.20312 54.6875\n",
        "L13.1875 54.6875\n",
        "L24.4219 12.0156\n",
        "L35.5938 54.6875\n",
        "L46.1875 54.6875\n",
        "L57.4219 12.0156\n",
        "L68.6094 54.6875\n",
        "L77.5938 54.6875\n",
        "L63.2812 0\n",
        "L52.6875 0\n",
        "L40.9219 44.8281\n",
        "L29.1094 0\n",
        "L18.5 0\n",
        "z\n",
        "\" id=\"BitstreamVeraSans-Roman-77\"/>\n",
        "      <path d=\"\n",
        "M41.1094 46.2969\n",
        "Q39.5938 47.1719 37.8125 47.5781\n",
        "Q36.0312 48 33.8906 48\n",
        "Q26.2656 48 22.1875 43.0469\n",
        "Q18.1094 38.0938 18.1094 28.8125\n",
        "L18.1094 0\n",
        "L9.07812 0\n",
        "L9.07812 54.6875\n",
        "L18.1094 54.6875\n",
        "L18.1094 46.1875\n",
        "Q20.9531 51.1719 25.4844 53.5781\n",
        "Q30.0312 56 36.5312 56\n",
        "Q37.4531 56 38.5781 55.875\n",
        "Q39.7031 55.7656 41.0625 55.5156\n",
        "z\n",
        "\" id=\"BitstreamVeraSans-Roman-72\"/>\n",
        "     </defs>\n",
        "     <g transform=\"translate(14.7984375 163.21875)rotate(-90.0)scale(0.1 -0.1)\">\n",
        "      <use xlink:href=\"#BitstreamVeraSans-Roman-50\"/>\n",
        "      <use x=\"56.677734375\" xlink:href=\"#BitstreamVeraSans-Roman-6f\"/>\n",
        "      <use x=\"117.859375\" xlink:href=\"#BitstreamVeraSans-Roman-77\"/>\n",
        "      <use x=\"199.646484375\" xlink:href=\"#BitstreamVeraSans-Roman-65\"/>\n",
        "      <use x=\"261.169921875\" xlink:href=\"#BitstreamVeraSans-Roman-72\"/>\n",
        "      <use x=\"302.283203125\" xlink:href=\"#BitstreamVeraSans-Roman-20\"/>\n",
        "      <use x=\"334.0703125\" xlink:href=\"#BitstreamVeraSans-Roman-28\"/>\n",
        "      <use x=\"373.083984375\" xlink:href=\"#BitstreamVeraSans-Roman-57\"/>\n",
        "      <use x=\"471.9609375\" xlink:href=\"#BitstreamVeraSans-Roman-29\"/>\n",
        "     </g>\n",
        "    </g>\n",
        "   </g>\n",
        "   <g id=\"patch_3\">\n",
        "    <path d=\"\n",
        "M40.3391 12.55\n",
        "L486.739 12.55\" style=\"fill:none;stroke:#000000;\"/>\n",
        "   </g>\n",
        "   <g id=\"patch_4\">\n",
        "    <path d=\"\n",
        "M486.739 263.65\n",
        "L486.739 12.55\" style=\"fill:none;stroke:#000000;\"/>\n",
        "   </g>\n",
        "   <g id=\"patch_5\">\n",
        "    <path d=\"\n",
        "M40.3391 263.65\n",
        "L486.739 263.65\" style=\"fill:none;stroke:#000000;\"/>\n",
        "   </g>\n",
        "   <g id=\"patch_6\">\n",
        "    <path d=\"\n",
        "M40.3391 263.65\n",
        "L40.3391 12.55\" style=\"fill:none;stroke:#000000;\"/>\n",
        "   </g>\n",
        "  </g>\n",
        " </g>\n",
        " <defs>\n",
        "  <clipPath id=\"p144ab534e6\">\n",
        "   <rect height=\"251.1\" width=\"446.4\" x=\"40.3390625\" y=\"12.55\"/>\n",
        "  </clipPath>\n",
        " </defs>\n",
        "</svg>\n"
       ],
       "text": [
        "<matplotlib.figure.Figure at 0x10f0eac90>"
       ]
      }
     ],
     "prompt_number": 112
    },
    {
     "cell_type": "heading",
     "level": 2,
     "metadata": {},
     "source": [
      "Science Use Case 17: Low surface density HI: Linking M83 to the cosmic web"
     ]
    },
    {
     "cell_type": "markdown",
     "metadata": {},
     "source": [
      "**Telescope**: SKA1 MID band 2\n",
      "\n",
      "**Total time**: 1000 hours\n",
      "\n",
      "**FoV**:   0.75 square degrees (band 2)\n",
      "\n",
      "**Bandwidth** : 200  MHz centered at an observing frequency of 1418 MHz\n",
      "\n",
      "**Spectral resolution**: 24.4 kHz\n",
      "\n",
      "**Correlator dump time**: 1.6s at 10km baseline\n",
      "\n",
      "**Target(s)**: one primary target with a five point mosaic \n",
      "      13h37m01s   -29d51m56s\n",
      "                                                  \n",
      "**Assumed scheduling block duration**: 1h each band\n",
      "\n",
      "**Observing frequency**: 4 to 8 scheduling blocks observed each night for\n",
      "125 to 250 nights\n",
      "\n",
      "**Scheduling block content**:\n",
      "\n",
      "  * first scheduling block at the beginning of\n",
      "    each night should have a flux calibration observation (assume 30deg\n",
      "    offset from target, 5mins total).\n",
      "  * The remainder of the scheduling\n",
      "    block is a five point mosaic observing each point for 11 minutes \n",
      "\n",
      "**Quality assessment**: At the end of each 1h observing block, a quality\n",
      "assessment check should be performed, including imaging of the cube at\n",
      "24.5 kHz resolution and 1 arcminute beamsize and a calculation of the rms versus frequency\n",
      "\n",
      "**Required operations**: correlator\n",
      "\n",
      "**SDP operations**:\n",
      "\n",
      "1. continuum pipeline with a 1 arcminute beamsize and a final images size of 1.5x1.5 degrees\n",
      "2. spectral line pipeline with a 1 arcminute beamsize and a final images size of 1.5x1.5 degrees\n",
      "\n",
      "\n",
      "**Additional data products requested by the observer**:\n",
      "\n",
      "  - final spectral line data cube will be combined with a single-dish\n",
      "    data cube"
     ]
    },
    {
     "cell_type": "code",
     "collapsed": false,
     "input": [
      "total_time = 1000 * u.hour\n",
      "fov = 0.75 * u.degrees**2\n",
      "bandwidth = 200*u.mega*u.Hz\n",
      "num_channels = 2**ceil(log(bandwidth/(24.4*u.kilo*u.Hz))/log(2))\n",
      "central_frequency = 1418*u.mega*u.Hz\n",
      "central_wavelength = c/central_frequency\n",
      "min_frequency = 950*u.mega*u.Hz\n",
      "max_frequencies = min_frequency + bandwidth\n",
      "\n",
      "frequency_resolution = bandwidth / num_channels\n",
      "dump_time            = 1.6*u.s\n",
      "baseline             = 10*u.km\n",
      "\n",
      "num_antennas = antennas_in_baseline(baseline, 'SKA1Mid')"
     ],
     "language": "python",
     "metadata": {},
     "outputs": [],
     "prompt_number": 113
    },
    {
     "cell_type": "code",
     "collapsed": false,
     "input": [
      "telescope = telescope_info['SKA1Mid'].copy()\n",
      "telescope[Na]    = num_antennas\n",
      "telescope[Bmax]  = baseline\n",
      "telescope[tdump] = dump_time\n",
      "telescope[Nf]    = num_channels\n",
      "telescope[wl]    = central_wavelength\n",
      "result = build_use_case_result(\n",
      "    telescope = telescope,\n",
      "    use_case = 'UseCase-17',\n",
      "    row_suffix = '',\n",
      "    year = SKA1_construction,\n",
      "    subs_values = {Nfacet: 1, NGW: NGW_SKA1Mid}\n",
      ")\n",
      "result['storageRate'] = (\n",
      "    DataCubeSize.subs(telescope).subs({Nstokes: 1})*6*125/total_time\n",
      ")\n",
      "result['duration'] = total_time\n",
      "display(result)\n",
      "ComputationalNeedsList.append(result)\n",
      "UseCasesPerTelescope['SKA1Mid'].append(result['useCaseId'])\n"
     ],
     "language": "python",
     "metadata": {},
     "outputs": [
      {
       "metadata": {},
       "output_type": "display_data",
       "text": [
        "{'compRate': 2.99e+12*Ops/s,\n",
        " 'duration': 3600000*s,\n",
        " 'powerRate': 104.0*W,\n",
        " 'rowId': 'UseCase-17-',\n",
        " 'sdpInRate': 3.86e+9*B/s,\n",
        " 'storageRate': 54613333.3333333*B/s,\n",
        " 'telescope': {N_{beam}: 1,\n",
        "  N_a: 154,\n",
        "  t_{dump}: 1.6*s,\n",
        "  \\lambda: 0.211419222849083*m,\n",
        "  D_s: 15*m,\n",
        "  NAA: 9,\n",
        "  N_f: 16384.0,\n",
        "  B_{max}: 10000*m},\n",
        " 'useCaseId': 'UseCase-17'}"
       ]
      }
     ],
     "prompt_number": 114
    },
    {
     "cell_type": "heading",
     "level": 2,
     "metadata": {},
     "source": [
      "Science Use Case 18: Rotation measure synthesis in targeted fields "
     ]
    },
    {
     "cell_type": "markdown",
     "metadata": {},
     "source": [
      "**Telescope**: SKA1 MID bands 1 and 2\n",
      "\n",
      "**Total time**: 40 hours\n",
      "\n",
      "**FoV**:   2.8 and 0.75 square degrees (bands 1 and 2, respectively)\n",
      "\n",
      "**Bandwidth**: 700  MHz (band 1) and 808 MHz (band 2)\n",
      "\n",
      "**Spectral resolution**: 400 kHz\n",
      "\n",
      "**Correlator dump time**: 1.6s at 10km baseline, 0.08s at maximum baseline \n",
      "\n",
      "**Target(s)**:\n",
      "\n",
      "- More than 10 targets spread throughout the sky\n",
      "                                                  \n",
      "**Assumed scheduling block duration**: 1h each band\n",
      "\n",
      "**Observing frequency**: 4 to 8 scheduling blocks observed each night\n",
      "for five to 10 nights. One new target per night\n",
      "\n",
      "**Scheduling block content**:\n",
      "\n",
      "  - first scheduling block at the beginning of \n",
      "    each night should have a flux calibration observation\n",
      "    (assume 30deg offset from target, 5mins total). \n",
      "\n",
      "**Quality assessment**: At the end of each 1h observing block, a quality\n",
      "assessment check should be performed, including imaging of the cube at\n",
      "400 kHz resolution and 5 arcsec beamsize and a calculation of the rms versus frequency\n",
      "\n",
      "**Required operations**: correlator\n",
      "\n",
      "**SDP operations**:\n",
      "\n",
      "1. spectral line pipeline with 1, 3 and 5 arcsec beamsizes \n",
      "2. RM synthesis pipeline \n",
      "\n",
      "**Additional data products requested by the observer**:\n",
      "\n",
      "- Cubes of Stokes Q, U  and V at full spectral resolution "
     ]
    },
    {
     "cell_type": "code",
     "collapsed": false,
     "input": [
      "total_time = 40 * u.hour\n",
      "fov = 2.8 * u.degrees**2\n",
      "bandwidths = [700*u.mega*u.Hz, 808*u.mega*u.Hz]\n",
      "num_channels = [2**ceil(log(bandwidth/(400*u.kilo*u.Hz))/log(2)) for bandwidth in bandwidths]\n",
      "min_frequencies = [350*u.mega*u.Hz, 950*u.mega*u.Hz]\n",
      "max_frequencies = [min_freq + bandwidth  for min_freq, bandwidth in zip(min_frequencies, bandwidths)]\n",
      "central_frequencies = [\n",
      "    (max_frequency+min_frequency)/2\n",
      "    for min_frequency, max_frequency in zip(min_frequencies,max_frequencies)\n",
      "]\n",
      "\n",
      "frequency_resolutions = [bandwidth / channel_num for bandwidth, channel_num in zip(bandwidths, num_channels)]\n",
      "\n",
      "dump_times          = [1.6*u.s, 0.08*u.s]\n",
      "baselines           = [10*u.km, 100*u.km]\n",
      "central_wavelengths = [c/central_frequency for central_frequency in central_frequencies]\n",
      "\n",
      "num_antennas        = [antennas_in_baseline(baseline, 'SKA1Mid') for baseline in baselines]\n",
      "\n",
      "(bandwidths, num_channels, min_frequencies, max_frequencies, central_frequencies, frequency_resolutions, dump_times, baselines, central_wavelengths, num_antennas)"
     ],
     "language": "python",
     "metadata": {},
     "outputs": [
      {
       "latex": [
        "$$\\begin{pmatrix}\\begin{bmatrix}\\frac{700000000}{s}, & \\frac{808000000}{s}\\end{bmatrix}, & \\begin{bmatrix}2048.0, & 2048.0\\end{bmatrix}, & \\begin{bmatrix}\\frac{350000000}{s}, & \\frac{950000000}{s}\\end{bmatrix}, & \\begin{bmatrix}\\frac{1050000000}{s}, & \\frac{1758000000}{s}\\end{bmatrix}, & \\begin{bmatrix}\\frac{700000000}{s}, & \\frac{1354000000}{s}\\end{bmatrix}, & \\begin{bmatrix}\\frac{341796.875}{s}, & \\frac{394531.25}{s}\\end{bmatrix}, & \\begin{bmatrix}1.6 s, & 0.08 s\\end{bmatrix}, & \\begin{bmatrix}10000 m, & 100000 m\\end{bmatrix}, & \\begin{bmatrix}0.42827494 m, & 0.221412450516987 m\\end{bmatrix}, & \\begin{bmatrix}154, & 171\\end{bmatrix}\\end{pmatrix}$$"
       ],
       "metadata": {},
       "output_type": "pyout",
       "png": "[encoded data removed]",
       "prompt_number": 115,
       "text": [
        "\u239b\u23a1700000000  808000000\u23a4                    \u23a1350000000  950000000\u23a4  \u23a11050000000\n",
        "\u239c\u23a2\u2500\u2500\u2500\u2500\u2500\u2500\u2500\u2500\u2500, \u2500\u2500\u2500\u2500\u2500\u2500\u2500\u2500\u2500\u23a5, [2048.0, 2048.0], \u23a2\u2500\u2500\u2500\u2500\u2500\u2500\u2500\u2500\u2500, \u2500\u2500\u2500\u2500\u2500\u2500\u2500\u2500\u2500\u23a5, \u23a2\u2500\u2500\u2500\u2500\u2500\u2500\u2500\u2500\u2500\u2500\n",
        "\u239d\u23a3    s          s    \u23a6                    \u23a3    s          s    \u23a6  \u23a3    s     \n",
        "\n",
        "  1758000000\u23a4  \u23a1700000000  1354000000\u23a4  \u23a1341796.875  394531.25\u23a4               \n",
        ", \u2500\u2500\u2500\u2500\u2500\u2500\u2500\u2500\u2500\u2500\u23a5, \u23a2\u2500\u2500\u2500\u2500\u2500\u2500\u2500\u2500\u2500, \u2500\u2500\u2500\u2500\u2500\u2500\u2500\u2500\u2500\u2500\u23a5, \u23a2\u2500\u2500\u2500\u2500\u2500\u2500\u2500\u2500\u2500\u2500, \u2500\u2500\u2500\u2500\u2500\u2500\u2500\u2500\u2500\u23a5, [1.6\u22c5s, 0.08\u22c5\n",
        "      s     \u23a6  \u23a3    s          s     \u23a6  \u23a3    s           s    \u23a6               \n",
        "\n",
        "                                                                        \u239e\n",
        "s], [10000\u22c5m, 100000\u22c5m], [0.42827494\u22c5m, 0.221412450516987\u22c5m], [154, 171]\u239f\n",
        "                                                                        \u23a0"
       ]
      }
     ],
     "prompt_number": 115
    },
    {
     "cell_type": "code",
     "collapsed": false,
     "input": [
      "for n_antenna, baseline, dump_time in zip(num_antennas, baselines, dump_times):\n",
      "    for central_wavelength, channels in zip(central_wavelengths, num_channels):\n",
      "        telescope = telescope_info['SKA1Mid'].copy()\n",
      "        telescope[Bmax]  = baseline\n",
      "        telescope[Nf]    = channels\n",
      "        telescope[Na]    = n_antenna\n",
      "        telescope[tdump] = dump_time\n",
      "        telescope[wl]    = central_wavelength\n",
      "        result = build_use_case_result(\n",
      "            telescope = telescope,\n",
      "            subs_values = {NGW: NGW_SKA1Mid, Nfacet: 1},\n",
      "            use_case = 'UseCase-18',\n",
      "            row_suffix = \"%s-%s\"%(central_wavelength, channels)\n",
      "        )\n",
      "        result['duration'] = total_time\n",
      "        result['storageRate'] = (\n",
      "            DataCubeSize.subs(telescope).subs({Nstokes: 4})*10/result['duration']\n",
      "        ).evalf(3)\n",
      "        display(result)\n",
      "        ComputationalNeedsList.append(result)\n",
      "        UseCasesPerTelescope['SKA1Mid'].append(result['useCaseId'])"
     ],
     "language": "python",
     "metadata": {},
     "outputs": [
      {
       "metadata": {},
       "output_type": "display_data",
       "text": [
        "{'compRate': 3.74e+11*Ops/s,\n",
        " 'duration': 144000*s,\n",
        " 'powerRate': 13.0*W,\n",
        " 'rowId': 'UseCase-18-0.42827494*m-2048.0',\n",
        " 'sdpInRate': 4.83e+8*B/s,\n",
        " 'storageRate': 9.1e+6*B/s,\n",
        " 'telescope': {N_{beam}: 1,\n",
        "  N_a: 154,\n",
        "  t_{dump}: 1.6*s,\n",
        "  \\lambda: 0.42827494*m,\n",
        "  D_s: 15*m,\n",
        "  NAA: 9,\n",
        "  N_f: 2048.0,\n",
        "  B_{max}: 10000*m},\n",
        " 'useCaseId': 'UseCase-18'}"
       ]
      },
      {
       "metadata": {},
       "output_type": "display_data",
       "text": [
        "{'compRate': 3.74e+11*Ops/s,\n",
        " 'duration': 144000*s,\n",
        " 'powerRate': 13.0*W,\n",
        " 'rowId': 'UseCase-18-0.221412450516987*m-2048.0',\n",
        " 'sdpInRate': 4.83e+8*B/s,\n",
        " 'storageRate': 9.1e+6*B/s,\n",
        " 'telescope': {N_{beam}: 1,\n",
        "  N_a: 154,\n",
        "  t_{dump}: 1.6*s,\n",
        "  \\lambda: 0.221412450516987*m,\n",
        "  D_s: 15*m,\n",
        "  NAA: 9,\n",
        "  N_f: 2048.0,\n",
        "  B_{max}: 10000*m},\n",
        " 'useCaseId': 'UseCase-18'}"
       ]
      },
      {
       "metadata": {},
       "output_type": "display_data",
       "text": [
        "{'compRate': 1.97e+13*Ops/s,\n",
        " 'duration': 144000*s,\n",
        " 'powerRate': 685.0*W,\n",
        " 'rowId': 'UseCase-18-0.42827494*m-2048.0',\n",
        " 'sdpInRate': 1.19e+10*B/s,\n",
        " 'storageRate': 9.1e+8*B/s,\n",
        " 'telescope': {N_{beam}: 1,\n",
        "  N_a: 171,\n",
        "  t_{dump}: 0.08*s,\n",
        "  \\lambda: 0.42827494*m,\n",
        "  D_s: 15*m,\n",
        "  NAA: 9,\n",
        "  N_f: 2048.0,\n",
        "  B_{max}: 100000*m},\n",
        " 'useCaseId': 'UseCase-18'}"
       ]
      },
      {
       "metadata": {},
       "output_type": "display_data",
       "text": [
        "{'compRate': 1.97e+13*Ops/s,\n",
        " 'duration': 144000*s,\n",
        " 'powerRate': 685.0*W,\n",
        " 'rowId': 'UseCase-18-0.221412450516987*m-2048.0',\n",
        " 'sdpInRate': 1.19e+10*B/s,\n",
        " 'storageRate': 9.1e+8*B/s,\n",
        " 'telescope': {N_{beam}: 1,\n",
        "  N_a: 171,\n",
        "  t_{dump}: 0.08*s,\n",
        "  \\lambda: 0.221412450516987*m,\n",
        "  D_s: 15*m,\n",
        "  NAA: 9,\n",
        "  N_f: 2048.0,\n",
        "  B_{max}: 100000*m},\n",
        " 'useCaseId': 'UseCase-18'}"
       ]
      }
     ],
     "prompt_number": 116
    },
    {
     "cell_type": "markdown",
     "metadata": {},
     "source": [
      "**Note:** we don't have reliable models for the RM pipeline, but it could be assumed a similar amount of processing. Notice the low values are due to the extremely low number of channels, and coarser gridding in the smaller baselines.\n",
      "\n",
      "---"
     ]
    },
    {
     "cell_type": "heading",
     "level": 2,
     "metadata": {},
     "source": [
      "Data Reduction Storage Needs for the Science Use Cases"
     ]
    },
    {
     "cell_type": "markdown",
     "metadata": {},
     "source": [
      "The reduced data that needs to be stored yearly can be calculated by multiplying the data storage rate stored in `storageRate` by a whole year, and calculating it in PB/year:"
     ]
    },
    {
     "cell_type": "code",
     "collapsed": false,
     "input": [
      "import numpy as np\n",
      "yearly_storage_needs_petabyte_year = np.array([\n",
      "        float((x['storageRate']*u.year).subs({byte: 1/u.peta}))\n",
      "        for x in ComputationalNeedsList\n",
      "])\n",
      "\n",
      "[\n",
      "    (value*S('PB/year')).evalf(3)\n",
      "    for value in [\n",
      "        fn(yearly_storage_needs_petabyte_year)\n",
      "        for fn in (np.sum, np.max, np.average, np.median)\n",
      "    ]\n",
      "]"
     ],
     "language": "python",
     "metadata": {},
     "outputs": [
      {
       "latex": [
        "$$\\begin{bmatrix}\\frac{PB}{year} 5.21 \\cdot 10^{3}, & \\frac{PB}{year} 1.62 \\cdot 10^{3}, & \\frac{248.0 PB}{year}, & \\frac{5.15 PB}{year}\\end{bmatrix}$$"
       ],
       "metadata": {},
       "output_type": "pyout",
       "png": "[encoded data removed]",
       "prompt_number": 117,
       "text": [
        "\u23a15.21e+3\u22c5PB  1.62e+3\u22c5PB  248.0\u22c5PB  5.15\u22c5PB\u23a4\n",
        "\u23a2\u2500\u2500\u2500\u2500\u2500\u2500\u2500\u2500\u2500\u2500, \u2500\u2500\u2500\u2500\u2500\u2500\u2500\u2500\u2500\u2500, \u2500\u2500\u2500\u2500\u2500\u2500\u2500\u2500, \u2500\u2500\u2500\u2500\u2500\u2500\u2500\u23a5\n",
        "\u23a3   year        year       year      year \u23a6"
       ]
      }
     ],
     "prompt_number": 117
    },
    {
     "cell_type": "markdown",
     "metadata": {},
     "source": [
      "However, that sum, average, median, and maximum yearly data rates are computed across the three telescopes, and are not weighted for program duration."
     ]
    },
    {
     "cell_type": "markdown",
     "metadata": {},
     "source": [
      "Let's calculate first how much observing time do the evaluated observing programs include:"
     ]
    },
    {
     "cell_type": "code",
     "collapsed": false,
     "input": [
      "import numpy as np\n",
      "total_program_time = sum(\n",
      "    [\n",
      "        x['duration']\n",
      "        for x in ComputationalNeedsList\n",
      "        if x.has_key('duration')\n",
      "    ]\n",
      ")\n",
      "(total_program_time/u.year).evalf(3)*S('years')"
     ],
     "language": "python",
     "metadata": {},
     "outputs": [
      {
       "latex": [
        "$$6.74 years$$"
       ],
       "metadata": {},
       "output_type": "pyout",
       "png": "[encoded data removed]",
       "prompt_number": 118,
       "text": [
        "6.74\u22c5years"
       ]
      }
     ],
     "prompt_number": 118
    },
    {
     "cell_type": "markdown",
     "metadata": {},
     "source": [
      "The total yearly storage needs (again, combining the three telescopes) can be calculated\n",
      "by multiplying the program duration fraction with respect to the total duration by the\n",
      "`storageRate`, and then by a year duration."
     ]
    },
    {
     "cell_type": "code",
     "collapsed": false,
     "input": [
      "weighed_yearly_storage_needs_petabyte_year = np.array([\n",
      "        float((x['duration']/total_program_time*x['storageRate']*u.year).subs({byte: 1/u.peta}))\n",
      "        for x in ComputationalNeedsList\n",
      "        if x.has_key('duration') and x.has_key('storageRate')\n",
      "])\n",
      "(sum(weighed_yearly_storage_needs_petabyte_year)*S('PB/year')).evalf(3)"
     ],
     "language": "python",
     "metadata": {},
     "outputs": [
      {
       "latex": [
        "$$\\frac{33.7 PB}{year}$$"
       ],
       "metadata": {},
       "output_type": "pyout",
       "png": "[encoded data removed]",
       "prompt_number": 119,
       "text": [
        "33.7\u22c5PB\n",
        "\u2500\u2500\u2500\u2500\u2500\u2500\u2500\n",
        "  year "
       ]
      }
     ],
     "prompt_number": 119
    },
    {
     "cell_type": "markdown",
     "metadata": {},
     "source": [
      "That is a conservative estimate. If we want to get a maximal estimate of yearly data rates, we can assume full resolution datacubes with 4 polarisations. Running daily, 6 datacubes will be produced by SKA1-Low (as sources can only be realiably tracked around 4 hours), and 3 for SKA1-Mid and Survey, where sources can be tracked for up to 8h."
     ]
    },
    {
     "cell_type": "code",
     "collapsed": false,
     "input": [
      "DataCubeSize.subs(telescope_info['SKA1Low']).subs({Nstokes: 4, byte:1/u.peta*S('PB/year')}).evalf(3)*6*u.year/u.day"
     ],
     "language": "python",
     "metadata": {},
     "outputs": [
      {
       "latex": [
        "$$\\frac{659.0 PB}{year}$$"
       ],
       "metadata": {},
       "output_type": "pyout",
       "png": "[encoded data removed]",
       "prompt_number": 120,
       "text": [
        "659.0\u22c5PB\n",
        "\u2500\u2500\u2500\u2500\u2500\u2500\u2500\u2500\n",
        "  year  "
       ]
      }
     ],
     "prompt_number": 120
    },
    {
     "cell_type": "code",
     "collapsed": false,
     "input": [
      "DataCubeSize.subs(telescope_info['SKA1Mid']).subs({Nstokes: 4, byte:1/u.peta*S('PB/year')}).evalf(3)*3*u.year/u.day"
     ],
     "language": "python",
     "metadata": {},
     "outputs": [
      {
       "latex": [
        "$$\\frac{PB}{year} 4.04 \\cdot 10^{3}$$"
       ],
       "metadata": {},
       "output_type": "pyout",
       "png": "[encoded data removed]",
       "prompt_number": 121,
       "text": [
        "4.04e+3\u22c5PB\n",
        "\u2500\u2500\u2500\u2500\u2500\u2500\u2500\u2500\u2500\u2500\n",
        "   year   "
       ]
      }
     ],
     "prompt_number": 121
    },
    {
     "cell_type": "code",
     "collapsed": false,
     "input": [
      "DataCubeSize.subs(telescope_info['SKA1Survey']).subs({Nstokes: 4, byte:1/u.peta*S('PB/year')}).evalf(3)*3*u.year/u.day"
     ],
     "language": "python",
     "metadata": {},
     "outputs": [
      {
       "latex": [
        "$$\\frac{PB}{year} 1.8 \\cdot 10^{3}$$"
       ],
       "metadata": {},
       "output_type": "pyout",
       "png": "[encoded data removed]",
       "prompt_number": 122,
       "text": [
        "1.8e+3\u22c5PB\n",
        "\u2500\u2500\u2500\u2500\u2500\u2500\u2500\u2500\u2500\n",
        "   year  "
       ]
      }
     ],
     "prompt_number": 122
    },
    {
     "cell_type": "markdown",
     "metadata": {},
     "source": [
      "Finally, let's calculate the yearly amount of data that will enter the SDP in a steady state, by summing over the program-averaged data input rates:"
     ]
    },
    {
     "cell_type": "code",
     "collapsed": false,
     "input": [
      "weighed_visibility_rates = np.array([\n",
      "        float((x['duration']/total_program_time*x['sdpInRate']*u.year).subs({byte: 1/u.exa}))\n",
      "        for x in ComputationalNeedsList\n",
      "        if x.has_key('duration') and x.has_key('sdpInRate')\n",
      "])\n",
      "(sum(weighed_visibility_rates)*S('EB/year')).evalf(3)"
     ],
     "language": "python",
     "metadata": {},
     "outputs": [
      {
       "latex": [
        "$$\\frac{266.0 EB}{year}$$"
       ],
       "metadata": {},
       "output_type": "pyout",
       "png": "[encoded data removed]",
       "prompt_number": 123,
       "text": [
        "266.0\u22c5EB\n",
        "\u2500\u2500\u2500\u2500\u2500\u2500\u2500\u2500\n",
        "  year  "
       ]
      }
     ],
     "prompt_number": 123
    }
   ],
   "metadata": {}
  }
 ]
}