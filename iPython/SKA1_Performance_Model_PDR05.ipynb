{
 "metadata": {
  "name": "",
  "signature": "sha256:9dfc75065e67c99ab77864369ca775f12da24625ffa718d0511ae05b51cdc4b4"
 },
 "nbformat": 3,
 "nbformat_minor": 0,
 "worksheets": [
  {
   "cells": [
    {
     "cell_type": "markdown",
     "metadata": {},
     "source": [
      "_This notebook started out as a direct iPython translation of the **M7 PDR05 Excel Spreadsheet**, implemented in a similar way as originally done by **Juande Santander-Vela** in his separate analysis of the M7 Milestone PDR05 (MS Word) document._\n",
      "\n",
      "_This is an interactive document. **sympy** and **astropy** are required to evaluate some of the blocks of code. While overlapping in scope with \"Full Computational Requirements for SDP.ipynb\" and \"Parametric Models of SDP Compute Requirements.ipynb\", this document was independently derived._ \n",
      "\n",
      "_Equations may be evaluated for the different telescopes and imaging modes, either numerically or symbolically_ \n",
      "\n",
      "_The owner of this notebook document is **Francois Malan** of Space Advisory Company._"
     ]
    },
    {
     "cell_type": "heading",
     "level": 1,
     "metadata": {},
     "source": [
      "1. Definitions:"
     ]
    },
    {
     "cell_type": "markdown",
     "metadata": {},
     "source": [
      "_If any of these values need to be changed, this should be done in the \"Implementation\" section lower down. The display-formatted text in this \"Definitions\" section is (as you may have guessed) just for display purposes._ "
     ]
    },
    {
     "cell_type": "markdown",
     "metadata": {},
     "source": [
      "**Output Parameters we are interested in:**\n",
      "\n",
      "|**Symbol**|**Python**|**Description**|\n",
      "|-|-|-|\n",
      "| $M_{buf,vis}$ | Mbuf_vis | Buffer size (bytes) |\n",
      "| $M_{w,cache}$ | Mw_cache | w-convolution kernel cache size |\n",
      "| $N_{pix,linear}$ | Npix_linear | The linear number of pixels along the image's side (assumed to be square)|\n",
      "| $R_{FLOP}$ | Rflop | Overall flop rate |\n",
      "| $R_{IO}$ | Rio | Overall I/O rate, (bytes/s) |\n",
      "\n",
      "** Physical constants **\n",
      "\n",
      "|**Symbol**|**Python**|**Value**|**Description**|\n",
      "|-|-|-|-|\n",
      "| $c$ | u.c | $2.99792458 \\times 10^8$ (m/s) | Speed of light in a vacuum |\n",
      "| $\\Omega_E$ | Omega_E | $7.292115 \\times 10^{-5}$ (rad/s) | Angular rotational velocity of the Earth relative to the fixed stars |\n",
      "| $R_{Earth}$ | R_Earth | $6.378136 \\times 10^6$ (m) | Radius of the Earth |\n",
      "\n",
      "**Global parameters - used for all telescopes**\n",
      "\n",
      "*May need global tweaking*\n",
      "\n",
      "|**Symbol**|**Python**|**Value**|**Description**|\n",
      "|-|-|-|-|\n",
      "| $\\epsilon_{w}$ | epsilon_w | 0.01 | Amplitude level of w-kernels to include. Value 0.01 is used in [RD6] where it is shown to give kernel sizes in rough agreement with CASA package.|\n",
      "| $M_{vis}$| Mvis | 12 | Size of visibility datum in the buffer (in bytes?) |\n",
      "| $N_{kernel}$ | Naa | 9 | Linear size of the combined $A$ and $W$ kernels (pixels). This size is at the low end of the range 9-15 given by [RD11] in Section 4.4.2 of their paper. |\n",
      "| $N_{mm}$ | Nmm | 4| |\n",
      "| $N_{pp}$ | Npp | 4| Number of polarisation products that are processed |\n",
      "| $N_{w}$ | Nw | 2| Bytes per value |\n",
      "|$Q_{bw}$|Qbw|1 |Bandwidth quality factor, determining how well bandwidth smearing can be controlled|\n",
      "|$Q_{fcw}$|Qfcw|10|Number of adjacent frequency channels for which baseline dependent kernels can be reused|\n",
      "|$Q_{GCF}$|Qgcf|8|Oversampling factor of w-convolution kernels|\n",
      "|$Q_{w}$|Qw|1 | Quality factor for w-projection correction. Value 1 corresponds to correction of maximal w values.  For comparison [RD7] uses values 0.1\u20140.3 |\n",
      "| $T_{ion}$ | T_ion | 60 | Ionospheric timescale |\n",
      "\n",
      "** Telescope-dependent parameters **\n",
      "\n",
      "*Subject to change*\n",
      "\n",
      "|***Telescope parameters***\n",
      "|-|-|-|-|-|-|\n",
      "| | Symbol | Python | **SKA1-Low** | **SKA1-Mid** | **SKA1-Survey** |\n",
      "| Maximum baseline according to SKAO (km)     | $B_{max}$|Bmax| $100$|$200$|$50$|\n",
      "| Antenna/Station Diameter (m)                                   |$D_{s}$|Ds|$35$|$15$|$15$|\n",
      "| Minimum frequency (of the chosen band) | $f_{min}$ | freq_min | 50 Mhz | depends on band | depends on band |\n",
      "| Maximum frequency (of the chosen band) | $f_{max}$ | freq_max | 350 Mhz | depends on band | depends on band |\n",
      "| Number of stations/antennas                                    |$N_{a}$|Na|$1024$|$256$|$96$|\n",
      "| Number of beams                                                |$N_{beam}$|Nbeam|$1$|$1$|$36$|\n",
      "| Number of frequency channels from corellator                   |$N_{f,max}$|Nf_max|$256000$|$256000$|$256000$|\n",
      "| Correlator dump time appropriate for $B_{max,ref}$ (seconds) |$T_{dump,ref}$|Tdump_ref|$0.6$|$0.08$|$0.3$|\n",
      "| Bins (upper bounds) used for discretizing baseline distribution in computations (km) | - | baseline_bins | $(4.9, 7.1, 10.4, 15.1, 22.1, 32.2, 47.0, 68.5, 100)$ | $(4.4, 6.7, 10.3, 15.7, 24.0, 36.7, 56.0, 85.6, 130.8, 200)$ | $(3.8, 5.5, 8.0, 11.5, 16.6, 24.0, 34.6, 50)$ \n",
      "| Number of baselines in each bin | - | baseline_bin_counts | $(5031193, 732481, 796973, 586849, 1070483, 939054, 820834, 202366, 12375)$ | $(669822, 61039, 64851, 66222, 70838, 68024, 74060, 68736, 21523, 745)$ | $(81109, 15605, 15777, 16671, 16849, 17999, 3282, 324)$ \n",
      "\n",
      "** Spectral vs Continuum vs Fast Imaging (i.e. slow transients) **\n",
      "\n",
      "*This is the same for all telescopes and bands*, but may be overwritten by HPSOs\n",
      "\n",
      "|***Imaging-mode telescope parameters***\n",
      "|-|-|-|-|-|-|\n",
      "| | Symbol | Python | **Continuum** | **Spectral** | **SlowTrans** |\n",
      "| Baseline length that (Fbshort+Fbmid), i.e. 90% of baselines are shorter than | $B_{lim,mid}$ | Blim_mid | $20000$ | n/a | $20000$\n",
      "| Number of output map channels | $N_{f, out}$ | Nf_out | $500$ | *computed* | $500$ |\n",
      "| Number of channels for gridding at longest baseline | $N_{f, used}$ | Nf_used | *computed* | *computed* | *computed*|\n",
      "| Number of major CLEAN cycles to be done | $N_{major}$ | Nmajor | $10$ | $1$ | $1$ |\n",
      "| Field of view factor | $Q_{FoV}$| Qfov | $1.8$ | $1$ | $0.9$ |\n",
      "| Quality factor defining the oversampling of synthesised beam | $Q_{pix}$ | Qpix | $2.5$ | $2.5$ | $1.5$|\n",
      "| Observation length |$T_{obs}$ | Tobs  | $6\\ {\\rm h}$  | $6\\ {\\rm h}$ | $1.2\\ {\\rm sec}$  |\n",
      "| Snapshot timescale implemented (sec) | $T_{snap}$ | Tsnap | *optimized* | *optimized* | *optimized* |\n",
      "| Minimum Snapshot timescale - equals $T_{obs}$ for slow transients | $T_{snap, min}$ | Tsnap_min | $1.2\\ {\\rm sec}$ | $1.2\\ {\\rm sec}$ | $1.2\\ {\\rm sec}$"
     ]
    },
    {
     "cell_type": "heading",
     "level": 1,
     "metadata": {},
     "source": [
      "2. Load Implementation & Environment (refer to .py source files):"
     ]
    },
    {
     "cell_type": "code",
     "collapsed": false,
     "input": [
      "'''\n",
      "The following command imports the python modules, methods and code fragments that are required to run this notebook. \n",
      "Please refer to the following python files for implementation details (omitted here for readability)\n",
      "* env_setup.py -- code for setting up the python environment\n",
      "* parameter_definitions.py -- contains definitions of variables, primary telescope parameters  \n",
      "* formulae.py -- contains formulae for defiving secondary telescope-specific parameters from input parameters\n",
      "* implementation.py -- contains methods for performing computations (i.e. crunching the numbers)\n",
      "'''\n",
      "from env_setup import *\n",
      "from parameter_definitions import *\n",
      "from formulae import *\n",
      "from implementation import *"
     ],
     "language": "python",
     "metadata": {},
     "outputs": [
      {
       "output_type": "stream",
       "stream": "stdout",
       "text": [
        "IPython console for SymPy 0.7.6 (Python 2.7.7-32-bit) (ground types: python)\n"
       ]
      }
     ],
     "prompt_number": 1
    },
    {
     "cell_type": "code",
     "collapsed": false,
     "input": [
      "import time\n",
      "t0 = time.time()\n",
      "band = 'Low'\n",
      "mode = 'Spectral'\n",
      "telescope_parameters = calc_tel_params(band=band, mode=mode)\n",
      "(Tsnap_opt, Nfacet_opt) = find_optimal_Tsnap_Nfacet(telescope_parameters, verbose=True)\n",
      "print (Tsnap_opt, Nfacet_opt)\n",
      "#(Tsnap_opt, Nfacet_opt) = (87.16, 3)\n",
      "t1 = time.time()\n",
      "expression = telescope_parameters.Rflop\n",
      "expression_subst = expression.subs({telescope_parameters.Tsnap : Tsnap_opt, telescope_parameters.Nfacet : Nfacet_opt})\n",
      "result = evaluate_binned_expression(expression_subst, telescope_parameters)\n",
      "print 'Result of expression = %f Peta' % (result)\n",
      "t2 = time.time()\n",
      "print 'Optimization took %f seconds' % (t1-t0)\n",
      "print 'Evaluation took %f seconds' % (t2-t1)\n",
      "print 'Total time = %f seconds' % (t2-t0)"
     ],
     "language": "python",
     "metadata": {},
     "outputs": [
      {
       "output_type": "stream",
       "stream": "stdout",
       "text": [
        "Evaluating Nfacets = 1\n",
        "Tsnap has been optimized as : 117.885805, yielding a minimum value of 0.000000 Peta-units"
       ]
      },
      {
       "output_type": "stream",
       "stream": "stdout",
       "text": [
        "\n",
        "Evaluating Nfacets = 2\n",
        "Tsnap has been optimized as : 165.034371, yielding a minimum value of 0.000000 Peta-units"
       ]
      },
      {
       "output_type": "stream",
       "stream": "stdout",
       "text": [
        "\n",
        "\n",
        "Expression increasing with number of facets; aborting exploration of Nfacets > 2"
       ]
      },
      {
       "output_type": "stream",
       "stream": "stdout",
       "text": [
        "\n",
        "\n",
        "0.000000 PetaFLOPS was the lowest FLOP value, found for (Nfacet, Tsnap) = (1, 117.89)"
       ]
      },
      {
       "output_type": "stream",
       "stream": "stdout",
       "text": [
        "\n",
        "(117.885805242379, 1)\n",
        "Result of expression = 21.641924 Peta"
       ]
      },
      {
       "output_type": "stream",
       "stream": "stdout",
       "text": [
        "\n",
        "Optimization took 15.558000 seconds\n",
        "Evaluation took 0.645000 seconds\n",
        "Total time = 16.203000 seconds\n"
       ]
      }
     ],
     "prompt_number": 2
    },
    {
     "cell_type": "heading",
     "level": 1,
     "metadata": {},
     "source": [
      "3. Computations:"
     ]
    },
    {
     "cell_type": "heading",
     "level": 2,
     "metadata": {},
     "source": [
      "Optimizing Tsnap and Nfacet for a given band and mode:"
     ]
    },
    {
     "cell_type": "heading",
     "level": 2,
     "metadata": {},
     "source": [
      "Looping through a list of (standard) bands -- this may take several minutes:"
     ]
    },
    {
     "cell_type": "code",
     "collapsed": false,
     "input": [
      "selected_bands = ('Low', 'Mid1', 'Sur1')  # Only loop over the first bands for each telescope (assumed to be the most demanding)\n",
      "selected_modes = ('Continuum', 'Spectral', 'SlowTrans')\n",
      "\n",
      "non_peta_values = ('Npix_linear')\n",
      "values_to_take_max = ('Npix_linear')\n",
      "\n",
      "results = {}\n",
      "\n",
      "for band in selected_bands:\n",
      "    for mode in selected_modes:\n",
      "        tp = calc_tel_params(band=band, mode=mode)\n",
      "        print '.'\n",
      "        print '>> Evaluating %s band %s in %s mode' % (tp.telescope, band, mode)\n",
      "        \n",
      "        (Tsnap_opt, Nfacet_opt) = find_optimal_Tsnap_Nfacet(tp)\n",
      "        print 'Optimal (Tsnap, Nfacet) values = (%.2f sec, %d)' % (Tsnap_opt, Nfacet_opt)\n",
      "        \n",
      "        parameters = calc_tel_params(band=band, mode=mode)\n",
      "        substitution = {parameters.Tsnap : Tsnap_opt, parameters.Nfacet : Nfacet_opt}\n",
      "        \n",
      "        expressions = (tp.Rflop_conv, tp.Rflop_fft, tp.Rflop_grid, tp.Rflop_proj, tp.Rflop_phrot, tp.Rflop, tp.Mbuf_vis, tp.Mw_cache, tp.Npix_linear, tp.Rio)\n",
      "        expression_strings = ('Rflop_conv', 'Rflop_fft', 'Rflop_grid', 'Rflop_proj', 'Rflop_phrot', 'Rflop','Mbuf_vis', 'Mw_cache', 'Npix_linear', 'Rio')\n",
      "        key_expressions = zip(expression_strings, expressions)\n",
      "        \n",
      "        for key_expression in key_expressions: \n",
      "            key = key_expression[0]\n",
      "            expression = key_expression[1]\n",
      "            expression_subst = expression.subs(substitution)\n",
      "            take_max = (key in values_to_take_max)                \n",
      "            result = evaluate_binned_expression(expression_subst, parameters, take_max=take_max)\n",
      "            results[(band, mode, key)] = result\n",
      "            \n",
      "            if key in non_peta_values:\n",
      "                print '-> %s : %s = %g' % (mode, key, result)\n",
      "            else:    \n",
      "                print '-> %s : %s = %.3g Peta' % (mode, key, result)\n",
      "                \n",
      "        #flops_total = 0\n",
      "        #for key in expression_strings:\n",
      "            #flops_total += results[(band, mode, key)]\n",
      "        #results[(band, mode, 'Rflop')] = flops_total #This is incorrect - it is including Mbuf_vis (and likely Mw_cache too). Use explicit Rflop intead.\n",
      "        #print '-> %s : %s = %.3g PetaFLOPS' % (mode, 'Rflop', flops_total/1e15)\n",
      "        #print '-> %s : %s = %.3g PetaFLOPS' % (mode, 'Rflop', Rflop)\n",
      "print '\\n>>> Done!'"
     ],
     "language": "python",
     "metadata": {},
     "outputs": [
      {
       "output_type": "stream",
       "stream": "stdout",
       "text": [
        ".\n",
        ">> Evaluating SKA1_Low band Low in Continuum mode\n",
        "Optimal (Tsnap, Nfacet) values = (87.16 sec, 3)"
       ]
      },
      {
       "output_type": "stream",
       "stream": "stdout",
       "text": [
        "\n",
        "-> Continuum : Rflop_conv = 1.08 Peta"
       ]
      },
      {
       "output_type": "stream",
       "stream": "stdout",
       "text": [
        "\n",
        "-> Continuum : Rflop_fft = 0.497 Peta\n",
        "-> Continuum : Rflop_grid = 0.8 Peta"
       ]
      },
      {
       "output_type": "stream",
       "stream": "stdout",
       "text": [
        "\n",
        "-> Continuum : Rflop_proj = 0.361 Peta\n",
        "-> Continuum : Rflop_phrot = 0.00807 Peta"
       ]
      },
      {
       "output_type": "stream",
       "stream": "stdout",
       "text": [
        "\n",
        "-> Continuum : Rflop = 2.75 Peta"
       ]
      },
      {
       "output_type": "stream",
       "stream": "stdout",
       "text": [
        "\n",
        "-> Continuum : Mbuf_vis = 0.93 Peta\n",
        "-> Continuum : Mw_cache = 6.99e+10 Peta"
       ]
      },
      {
       "output_type": "stream",
       "stream": "stdout",
       "text": [
        "\n",
        "-> Continuum : Npix_linear = 13932.9\n",
        "-> Continuum : Rio = 0.00194 Peta\n",
        "."
       ]
      },
      {
       "output_type": "stream",
       "stream": "stdout",
       "text": [
        "\n",
        ">> Evaluating SKA1_Low band Low in Spectral mode\n",
        "Optimal (Tsnap, Nfacet) values = (117.89 sec, 1)"
       ]
      },
      {
       "output_type": "stream",
       "stream": "stdout",
       "text": [
        "\n",
        "-> Spectral : Rflop_conv = 5.68 Peta"
       ]
      },
      {
       "output_type": "stream",
       "stream": "stdout",
       "text": [
        "\n",
        "-> Spectral : Rflop_fft = 6.11 Peta\n",
        "-> Spectral : Rflop_grid = 5.63 Peta"
       ]
      },
      {
       "output_type": "stream",
       "stream": "stdout",
       "text": [
        "\n",
        "-> Spectral : Rflop_proj = 4.22 Peta\n",
        "-> Spectral : Rflop_phrot = 0 Peta\n",
        "-> Spectral : Rflop = 21.6 Peta"
       ]
      },
      {
       "output_type": "stream",
       "stream": "stdout",
       "text": [
        "\n",
        "-> Spectral : Mbuf_vis = 237 Peta\n",
        "-> Spectral : Mw_cache = 8.2e+13 Peta"
       ]
      },
      {
       "output_type": "stream",
       "stream": "stdout",
       "text": [
        "\n",
        "-> Spectral : Npix_linear = 23221.5\n",
        "-> Spectral : Rio = 0.00548 Peta\n",
        "."
       ]
      },
      {
       "output_type": "stream",
       "stream": "stdout",
       "text": [
        "\n",
        ">> Evaluating SKA1_Low band Low in SlowTrans mode\n",
        "Optimal (Tsnap, Nfacet) values = (1.20 sec, 2)"
       ]
      },
      {
       "output_type": "stream",
       "stream": "stdout",
       "text": [
        "\n",
        "-> SlowTrans : Rflop_conv = 0.0289 Peta"
       ]
      },
      {
       "output_type": "stream",
       "stream": "stdout",
       "text": [
        "\n",
        "-> SlowTrans : Rflop_fft = 0.298 Peta\n",
        "-> SlowTrans : Rflop_grid = 0.0238 Peta"
       ]
      },
      {
       "output_type": "stream",
       "stream": "stdout",
       "text": [
        "\n",
        "-> SlowTrans : Rflop_proj = 0 Peta\n",
        "-> SlowTrans : Rflop_phrot = 0.000296 Peta\n",
        "-> SlowTrans : Rflop = 0.35 Peta"
       ]
      },
      {
       "output_type": "stream",
       "stream": "stdout",
       "text": [
        "\n",
        "-> SlowTrans : Mbuf_vis = 4.26e-05 Peta\n",
        "-> SlowTrans : Mw_cache = 3.87e+09 Peta"
       ]
      },
      {
       "output_type": "stream",
       "stream": "stdout",
       "text": [
        "\n",
        "-> SlowTrans : Npix_linear = 6269.8\n",
        "-> SlowTrans : Rio = 7.1e-05 Peta"
       ]
      },
      {
       "output_type": "stream",
       "stream": "stdout",
       "text": [
        "\n",
        "."
       ]
      },
      {
       "output_type": "stream",
       "stream": "stdout",
       "text": [
        "\n",
        ">> Evaluating SKA1_Mid band Mid1 in Continuum mode\n",
        "Optimal (Tsnap, Nfacet) values = (1132.39 sec, 13)"
       ]
      },
      {
       "output_type": "stream",
       "stream": "stdout",
       "text": [
        "\n",
        "-> Continuum : Rflop_conv = 0.768 Peta"
       ]
      },
      {
       "output_type": "stream",
       "stream": "stdout",
       "text": [
        "\n",
        "-> Continuum : Rflop_fft = 0.932 Peta\n",
        "-> Continuum : Rflop_grid = 1.92 Peta"
       ]
      },
      {
       "output_type": "stream",
       "stream": "stdout",
       "text": [
        "\n",
        "-> Continuum : Rflop_proj = 0.672 Peta\n",
        "-> Continuum : Rflop_phrot = 0.0189 Peta"
       ]
      },
      {
       "output_type": "stream",
       "stream": "stdout",
       "text": [
        "\n",
        "-> Continuum : Rflop = 4.31 Peta"
       ]
      },
      {
       "output_type": "stream",
       "stream": "stdout",
       "text": [
        "\n",
        "-> Continuum : Mbuf_vis = 0.116 Peta\n",
        "-> Continuum : Mw_cache = 6.73e+10 Peta"
       ]
      },
      {
       "output_type": "stream",
       "stream": "stdout",
       "text": [
        "\n",
        "-> Continuum : Npix_linear = 15004.6\n",
        "-> Continuum : Rio = 0.00453 Peta\n",
        "."
       ]
      },
      {
       "output_type": "stream",
       "stream": "stdout",
       "text": [
        "\n",
        ">> Evaluating SKA1_Mid band Mid1 in Spectral mode\n",
        "Optimal (Tsnap, Nfacet) values = (1491.35 sec, 5)"
       ]
      },
      {
       "output_type": "stream",
       "stream": "stdout",
       "text": [
        "\n",
        "-> Spectral : Rflop_conv = 6.25 Peta"
       ]
      },
      {
       "output_type": "stream",
       "stream": "stdout",
       "text": [
        "\n",
        "-> Spectral : Rflop_fft = 11.6 Peta\n",
        "-> Spectral : Rflop_grid = 14.6 Peta"
       ]
      },
      {
       "output_type": "stream",
       "stream": "stdout",
       "text": [
        "\n",
        "-> Spectral : Rflop_proj = 8.06 Peta\n",
        "-> Spectral : Rflop_phrot = 0.0716 Peta\n",
        "-> Spectral : Rflop = 40.6 Peta"
       ]
      },
      {
       "output_type": "stream",
       "stream": "stdout",
       "text": [
        "\n",
        "-> Spectral : Mbuf_vis = 29.7 Peta\n",
        "-> Spectral : Mw_cache = 6.29e+13 Peta"
       ]
      },
      {
       "output_type": "stream",
       "stream": "stdout",
       "text": [
        "\n",
        "-> Spectral : Npix_linear = 21673.4\n",
        "-> Spectral : Rio = 0.0172 Peta\n",
        "."
       ]
      },
      {
       "output_type": "stream",
       "stream": "stdout",
       "text": [
        "\n",
        ">> Evaluating SKA1_Mid band Mid1 in SlowTrans mode\n",
        "Searching for minimum Rflop with nfacets > 20... this is a bit odd (and may take long)"
       ]
      },
      {
       "output_type": "stream",
       "stream": "stdout",
       "text": [
        "\n",
        "Optimal (Tsnap, Nfacet) values = (1.20 sec, 27)"
       ]
      },
      {
       "output_type": "stream",
       "stream": "stdout",
       "text": [
        "\n",
        "-> SlowTrans : Rflop_conv = 0.2 Peta"
       ]
      },
      {
       "output_type": "stream",
       "stream": "stdout",
       "text": [
        "\n",
        "-> SlowTrans : Rflop_fft = 6.32 Peta\n",
        "-> SlowTrans : Rflop_grid = 0.221 Peta"
       ]
      },
      {
       "output_type": "stream",
       "stream": "stdout",
       "text": [
        "\n",
        "-> SlowTrans : Rflop_proj = 0 Peta\n",
        "-> SlowTrans : Rflop_phrot = 0.00411 Peta\n",
        "-> SlowTrans : Rflop = 6.75 Peta"
       ]
      },
      {
       "output_type": "stream",
       "stream": "stdout",
       "text": [
        "\n",
        "-> SlowTrans : Mbuf_vis = 3.25e-06 Peta\n",
        "-> SlowTrans : Mw_cache = 1.08e+05 Peta"
       ]
      },
      {
       "output_type": "stream",
       "stream": "stdout",
       "text": [
        "\n",
        "-> SlowTrans : Npix_linear = 2167.34\n",
        "-> SlowTrans : Rio = 0.000986 Peta\n",
        "."
       ]
      },
      {
       "output_type": "stream",
       "stream": "stdout",
       "text": [
        "\n",
        ">> Evaluating SKA1_Survey band Sur1 in Continuum mode\n",
        "Optimal (Tsnap, Nfacet) values = (1907.71 sec, 7)"
       ]
      },
      {
       "output_type": "stream",
       "stream": "stdout",
       "text": [
        "\n",
        "-> Continuum : Rflop_conv = 1.24 Peta"
       ]
      },
      {
       "output_type": "stream",
       "stream": "stdout",
       "text": [
        "\n",
        "-> Continuum : Rflop_fft = 0.917 Peta\n",
        "-> Continuum : Rflop_grid = 1.05 Peta"
       ]
      },
      {
       "output_type": "stream",
       "stream": "stdout",
       "text": [
        "\n",
        "-> Continuum : Rflop_proj = 0.718 Peta\n",
        "-> Continuum : Rflop_phrot = 0.0088 Peta"
       ]
      },
      {
       "output_type": "stream",
       "stream": "stdout",
       "text": [
        "\n",
        "-> Continuum : Rflop = 3.94 Peta"
       ]
      },
      {
       "output_type": "stream",
       "stream": "stdout",
       "text": [
        "\n",
        "-> Continuum : Mbuf_vis = 0.186 Peta\n",
        "-> Continuum : Mw_cache = 2.62e+12 Peta"
       ]
      },
      {
       "output_type": "stream",
       "stream": "stdout",
       "text": [
        "\n",
        "-> Continuum : Npix_linear = 6966.44"
       ]
      },
      {
       "output_type": "stream",
       "stream": "stdout",
       "text": [
        "\n",
        "-> Continuum : Rio = 0.00211 Peta\n",
        "."
       ]
      },
      {
       "output_type": "stream",
       "stream": "stdout",
       "text": [
        "\n",
        ">> Evaluating SKA1_Survey band Sur1 in Spectral mode\n",
        "Optimal (Tsnap, Nfacet) values = (1816.77 sec, 3)"
       ]
      },
      {
       "output_type": "stream",
       "stream": "stdout",
       "text": [
        "\n",
        "-> Spectral : Rflop_conv = 15.3 Peta"
       ]
      },
      {
       "output_type": "stream",
       "stream": "stdout",
       "text": [
        "\n",
        "-> Spectral : Rflop_fft = 15.7 Peta\n",
        "-> Spectral : Rflop_grid = 14.3 Peta"
       ]
      },
      {
       "output_type": "stream",
       "stream": "stdout",
       "text": [
        "\n",
        "-> Spectral : Rflop_proj = 11.9 Peta\n",
        "-> Spectral : Rflop_phrot = 0.076 Peta\n",
        "-> Spectral : Rflop = 57.2 Peta"
       ]
      },
      {
       "output_type": "stream",
       "stream": "stdout",
       "text": [
        "\n",
        "-> Spectral : Mbuf_vis = 87.5 Peta\n",
        "-> Spectral : Mw_cache = 1.93e+15 Peta"
       ]
      },
      {
       "output_type": "stream",
       "stream": "stdout",
       "text": [
        "\n",
        "-> Spectral : Npix_linear = 9030.57\n",
        "-> Spectral : Rio = 0.0182 Peta\n",
        "."
       ]
      },
      {
       "output_type": "stream",
       "stream": "stdout",
       "text": [
        "\n",
        ">> Evaluating SKA1_Survey band Sur1 in SlowTrans mode\n",
        "Optimal (Tsnap, Nfacet) values = (1.20 sec, 18)"
       ]
      },
      {
       "output_type": "stream",
       "stream": "stdout",
       "text": [
        "\n",
        "-> SlowTrans : Rflop_conv = 0.454 Peta"
       ]
      },
      {
       "output_type": "stream",
       "stream": "stdout",
       "text": [
        "\n",
        "-> SlowTrans : Rflop_fft = 9.93 Peta\n",
        "-> SlowTrans : Rflop_grid = 0.292 Peta"
       ]
      },
      {
       "output_type": "stream",
       "stream": "stdout",
       "text": [
        "\n",
        "-> SlowTrans : Rflop_proj = 0 Peta\n",
        "-> SlowTrans : Rflop_phrot = 0.00534 Peta\n",
        "-> SlowTrans : Rflop = 10.7 Peta"
       ]
      },
      {
       "output_type": "stream",
       "stream": "stdout",
       "text": [
        "\n",
        "-> SlowTrans : Mbuf_vis = 9.5e-06 Peta\n",
        "-> SlowTrans : Mw_cache = 3.73e+04 Peta"
       ]
      },
      {
       "output_type": "stream",
       "stream": "stdout",
       "text": [
        "\n",
        "-> SlowTrans : Npix_linear = 812.751\n",
        "-> SlowTrans : Rio = 0.00128 Peta\n",
        "\n",
        ">>> Done!\n"
       ]
      }
     ],
     "prompt_number": 3
    },
    {
     "cell_type": "heading",
     "level": 2,
     "metadata": {},
     "source": [
      "Because it takes a little while to compute all results, let's just dump them out to screen:"
     ]
    },
    {
     "cell_type": "code",
     "collapsed": false,
     "input": [
      "results"
     ],
     "language": "python",
     "metadata": {},
     "outputs": [
      {
       "metadata": {},
       "output_type": "pyout",
       "prompt_number": 4,
       "text": [
        "{('Low', 'Continuum', 'Mbuf_vis'): 0.929555137445799,\n",
        " ('Low', 'Continuum', 'Mw_cache'): 69875805069.90825,\n",
        " ('Low', 'Continuum', 'Npix_linear'): 13932.87844667335,\n",
        " ('Low', 'Continuum', 'Rflop'): 2.7458119646914656,\n",
        " ('Low', 'Continuum', 'Rflop_conv'): 1.080174877870046,\n",
        " ('Low', 'Continuum', 'Rflop_fft'): 0.49671278489485066,\n",
        " ('Low', 'Continuum', 'Rflop_grid'): 0.8000348473124896,\n",
        " ('Low', 'Continuum', 'Rflop_phrot'): 0.00806905501255034,\n",
        " ('Low', 'Continuum', 'Rflop_proj'): 0.36082039960152895,\n",
        " ('Low', 'Continuum', 'Rio'): 0.0019365732030120813,\n",
        " ('Low', 'SlowTrans', 'Mbuf_vis'): 4.259033946235144e-05,\n",
        " ('Low', 'SlowTrans', 'Mw_cache'): 3865819320.1559477,\n",
        " ('Low', 'SlowTrans', 'Npix_linear'): 6269.795301003009,\n",
        " ('Low', 'SlowTrans', 'Rflop'): 0.35045268337077573,\n",
        " ('Low', 'SlowTrans', 'Rflop_conv'): 0.02886775058722354,\n",
        " ('Low', 'SlowTrans', 'Rflop_fft'): 0.29752110435319074,\n",
        " ('Low', 'SlowTrans', 'Rflop_grid'): 0.023768062184095134,\n",
        " ('Low', 'SlowTrans', 'Rflop_phrot'): 0.0002957662462663295,\n",
        " ('Low', 'SlowTrans', 'Rflop_proj'): 0.0,\n",
        " ('Low', 'SlowTrans', 'Rio'): 7.098389910391909e-05,\n",
        " ('Low', 'Spectral', 'Mbuf_vis'): 236.58330511739322,\n",
        " ('Low', 'Spectral', 'Mw_cache'): 82018854200388.9,\n",
        " ('Low', 'Spectral', 'Npix_linear'): 23221.464077788918,\n",
        " ('Low', 'Spectral', 'Rflop'): 21.641924359291338,\n",
        " ('Low', 'Spectral', 'Rflop_conv'): 5.68449021599351,\n",
        " ('Low', 'Spectral', 'Rflop_fft'): 6.113967480273641,\n",
        " ('Low', 'Spectral', 'Rflop_grid'): 5.627859367376951,\n",
        " ('Low', 'Spectral', 'Rflop_phrot'): 0.0,\n",
        " ('Low', 'Spectral', 'Rflop_proj'): 4.215607295647237,\n",
        " ('Low', 'Spectral', 'Rio'): 0.005476465396235956,\n",
        " ('Mid1', 'Continuum', 'Mbuf_vis'): 0.11582499862689419,\n",
        " ('Mid1', 'Continuum', 'Mw_cache'): 67301530756.91438,\n",
        " ('Mid1', 'Continuum', 'Npix_linear'): 15004.638327186687,\n",
        " ('Mid1', 'Continuum', 'Rflop'): 4.30843902884486,\n",
        " ('Mid1', 'Continuum', 'Rflop_conv'): 0.7677648236847494,\n",
        " ('Mid1', 'Continuum', 'Rflop_fft'): 0.9322822813060775,\n",
        " ('Mid1', 'Continuum', 'Rflop_grid'): 1.9175061035851104,\n",
        " ('Mid1', 'Continuum', 'Rflop_phrot'): 0.01887965351846559,\n",
        " ('Mid1', 'Continuum', 'Rflop_proj'): 0.6720061667504569,\n",
        " ('Mid1', 'Continuum', 'Rio'): 0.00453111684443174,\n",
        " ('Mid1', 'SlowTrans', 'Mbuf_vis'): 3.24695620161372e-06,\n",
        " ('Mid1', 'SlowTrans', 'Mw_cache'): 107836.87669961096,\n",
        " ('Mid1', 'SlowTrans', 'Npix_linear'): 2167.3366472602993,\n",
        " ('Mid1', 'SlowTrans', 'Rflop'): 6.749697568828675,\n",
        " ('Mid1', 'SlowTrans', 'Rflop_conv'): 0.20000942633180438,\n",
        " ('Mid1', 'SlowTrans', 'Rflop_fft'): 6.324638560386206,\n",
        " ('Mid1', 'SlowTrans', 'Rflop_grid'): 0.2209401531679969,\n",
        " ('Mid1', 'SlowTrans', 'Rflop_phrot'): 0.004109428942667364,\n",
        " ('Mid1', 'SlowTrans', 'Rflop_proj'): 0.0,\n",
        " ('Mid1', 'SlowTrans', 'Rio'): 0.0009862629462401673,\n",
        " ('Mid1', 'Spectral', 'Mbuf_vis'): 29.689318978258825,\n",
        " ('Mid1', 'Spectral', 'Mw_cache'): 62945705718017.32,\n",
        " ('Mid1', 'Spectral', 'Npix_linear'): 21673.366472602993,\n",
        " ('Mid1', 'Spectral', 'Rflop'): 40.58324432736278,\n",
        " ('Mid1', 'Spectral', 'Rflop_conv'): 6.2493251095669144,\n",
        " ('Mid1', 'Spectral', 'Rflop_fft'): 11.614123757885471,\n",
        " ('Mid1', 'Spectral', 'Rflop_grid'): 14.584878699760871,\n",
        " ('Mid1', 'Spectral', 'Rflop_phrot'): 0.07158882855482936,\n",
        " ('Mid1', 'Spectral', 'Rflop_proj'): 8.06332793159468,\n",
        " ('Mid1', 'Spectral', 'Rio'): 0.017181318853159044,\n",
        " ('Sur1', 'Continuum', 'Mbuf_vis'): 0.18621286597163794,\n",
        " ('Sur1', 'Continuum', 'Mw_cache'): 2621913653234.6265,\n",
        " ('Sur1', 'Continuum', 'Npix_linear'): 6966.439223336677,\n",
        " ('Sur1', 'Continuum', 'Rflop'): 3.9394418522508854,\n",
        " ('Sur1', 'Continuum', 'Rflop_conv'): 1.2419064970086797,\n",
        " ('Sur1', 'Continuum', 'Rflop_fft'): 0.9166192820550613,\n",
        " ('Sur1', 'Continuum', 'Rflop_grid'): 1.05411102990987,\n",
        " ('Sur1', 'Continuum', 'Rflop_phrot'): 0.00880056947589724,\n",
        " ('Sur1', 'Continuum', 'Rflop_proj'): 0.7180044738013769,\n",
        " ('Sur1', 'Continuum', 'Rio'): 0.0021121366742153378,\n",
        " ('Sur1', 'SlowTrans', 'Mbuf_vis'): 9.498401649484537e-06,\n",
        " ('Sur1', 'SlowTrans', 'Mw_cache'): 37321.911038030354,\n",
        " ('Sur1', 'SlowTrans', 'Npix_linear'): 812.7512427226122,\n",
        " ('Sur1', 'SlowTrans', 'Rflop'): 10.682028062183358,\n",
        " ('Sur1', 'SlowTrans', 'Rflop_conv'): 0.453656167023494,\n",
        " ('Sur1', 'SlowTrans', 'Rflop_fft'): 9.930667180439647,\n",
        " ('Sur1', 'SlowTrans', 'Rflop_grid'): 0.2923618637923801,\n",
        " ('Sur1', 'SlowTrans', 'Rflop_phrot'): 0.005342850927835052,\n",
        " ('Sur1', 'SlowTrans', 'Rflop_proj'): 0.0,\n",
        " ('Sur1', 'SlowTrans', 'Rio'): 0.0012822842226804128,\n",
        " ('Sur1', 'Spectral', 'Mbuf_vis'): 87.53726960164948,\n",
        " ('Sur1', 'Spectral', 'Mw_cache'): 1925255740489930.5,\n",
        " ('Sur1', 'Spectral', 'Npix_linear'): 9030.56936358458,\n",
        " ('Sur1', 'Spectral', 'Rflop'): 57.18480368726511,\n",
        " ('Sur1', 'Spectral', 'Rflop_conv'): 15.254420439567816,\n",
        " ('Sur1', 'Spectral', 'Rflop_fft'): 15.655986482420955,\n",
        " ('Sur1', 'Spectral', 'Rflop_grid'): 14.28420090782201,\n",
        " ('Sur1', 'Spectral', 'Rflop_phrot'): 0.0759872131958763,\n",
        " ('Sur1', 'Spectral', 'Rflop_proj'): 11.914208644258453,\n",
        " ('Sur1', 'Spectral', 'Rio'): 0.018236931167010313}"
       ]
      }
     ],
     "prompt_number": 4
    },
    {
     "cell_type": "heading",
     "level": 2,
     "metadata": {},
     "source": [
      "Now we can summarize (by summing) them for the three telescopes:"
     ]
    },
    {
     "cell_type": "code",
     "collapsed": false,
     "input": [
      "summable_expressions = {'Rflop_conv', 'Rflop_fft', 'Rflop_grid', 'Rflop_proj', 'Mbuf_vis', 'Rflop', 'Mw_cache', 'Rio'}\n",
      "imaging_modes = {'Spectral', 'Continuum', 'SlowTrans'}\n",
      "\n",
      "results_per_band = {}\n",
      "for band in selected_bands:\n",
      "    #tel = band_info[band]['telescope']\n",
      "    if not band in results_per_band:\n",
      "        results_per_band[band] = {}\n",
      "    for expression in summable_expressions:\n",
      "        if not expression in results_per_band[band]:\n",
      "            results_per_band[band][expression] = 0\n",
      "        for mode in imaging_modes:\n",
      "            assert (band, mode, expression) in results\n",
      "            results_per_band[band][expression] += results[(band, mode, expression)]\n",
      "\n",
      "results_per_band"
     ],
     "language": "python",
     "metadata": {},
     "outputs": [
      {
       "metadata": {},
       "output_type": "pyout",
       "prompt_number": 5,
       "text": [
        "{'Low': {'Mbuf_vis': 237.51290284517847,\n",
        "  'Mw_cache': 82092595824778.97,\n",
        "  'Rflop': 24.73818900735358,\n",
        "  'Rflop_conv': 6.7935328444507785,\n",
        "  'Rflop_fft': 6.908201369521683,\n",
        "  'Rflop_grid': 6.451662276873535,\n",
        "  'Rflop_proj': 4.576427695248766,\n",
        "  'Rio': 0.007484022498351957},\n",
        " 'Mid1': {'Mbuf_vis': 29.80514722384192,\n",
        "  'Mw_cache': 63013007356611.11,\n",
        "  'Rflop': 51.64138092503631,\n",
        "  'Rflop_conv': 7.217099359583468,\n",
        "  'Rflop_fft': 18.871044599577754,\n",
        "  'Rflop_grid': 16.723324956513977,\n",
        "  'Rflop_proj': 8.735334098345136,\n",
        "  'Rio': 0.02269869864383095},\n",
        " 'Sur1': {'Mbuf_vis': 87.72349196602278,\n",
        "  'Mw_cache': 1927877654180487.2,\n",
        "  'Rflop': 71.80627360169935,\n",
        "  'Rflop_conv': 16.94998310359999,\n",
        "  'Rflop_fft': 26.503272944915665,\n",
        "  'Rflop_grid': 15.63067380152426,\n",
        "  'Rflop_proj': 12.63221311805983,\n",
        "  'Rio': 0.021631352063906064}}"
       ]
      }
     ],
     "prompt_number": 5
    },
    {
     "cell_type": "heading",
     "level": 2,
     "metadata": {},
     "source": [
      "Let's plot the FLOP values"
     ]
    },
    {
     "cell_type": "code",
     "collapsed": false,
     "input": [
      "import matplotlib.pyplot as plt\n",
      "%matplotlib inline\n",
      "\n",
      "import matplotlib.pylab as pylab\n",
      "pylab.rcParams['figure.figsize'] = 8, 6  # that's default image size for this interactive session\n",
      "\n",
      "results_per_tel = results_per_band\n",
      "t = results_per_tel.keys()\n",
      "t.sort()\n",
      "for tel in t:\n",
      "    values = results_per_tel[tel]\n",
      "\n",
      "    # The slices will be ordered and plotted counter-clockwise.\n",
      "    labels = '(de)Gridding', '(i)FFT', '(Re)Projection', 'Convolution'\n",
      "    sizes = [values['Rflop_grid'], values['Rflop_fft'], values['Rflop_proj'], values['Rflop_conv']]\n",
      "    colors = ['yellowgreen', 'gold', 'lightskyblue', 'lightcoral']\n",
      "    explode = (0.05, 0.05, 0.05, 0.05) # Radial offset of the slices\n",
      "\n",
      "    plt.pie(sizes, explode=explode, labels=labels, colors=colors,\n",
      "            autopct='%1.1f%%', shadow=True, startangle=90)\n",
      "    # Set aspect ratio to be equal so that pie is drawn as a circle.\n",
      "    plt.axis('equal')\n",
      "    plt.title('%s\\n' % tel)\n",
      "\n",
      "    plt.show()\n",
      "    \n",
      "results_per_param = {}\n",
      "for tel in t:\n",
      "    for param in results_per_tel[tel]:\n",
      "        if not param in results_per_param:\n",
      "            results_per_param[param] = []\n",
      "        results_per_param[param].append(results_per_tel[tel][param])\n",
      "\n",
      "#print results_per_param\n",
      "ind = np.arange(3)\n",
      "\n",
      "p = 'Rflop_grid'\n",
      "res_grid = (results_per_tel[t[0]][p], results_per_tel[t[1]][p], results_per_tel[t[2]][p])\n",
      "p = 'Rflop_fft'\n",
      "res_fft = (results_per_tel[t[0]][p], results_per_tel[t[1]][p], results_per_tel[t[2]][p])\n",
      "p = 'Rflop_proj'\n",
      "res_proj = (results_per_tel[t[0]][p], results_per_tel[t[1]][p], results_per_tel[t[2]][p])\n",
      "p = 'Rflop_conv'\n",
      "res_conv = (results_per_tel[t[0]][p], results_per_tel[t[1]][p], results_per_tel[t[2]][p])\n",
      "\n",
      "#Plot a stacked bar chart\n",
      "width = 0.35\n",
      "val = np.array(res_grid)\n",
      "p1 = plt.bar(ind, val, width, color=colors[0])\n",
      "bottoms = val\n",
      "val = np.array(res_fft)\n",
      "p2 = plt.bar(ind, val, width, color=colors[1],\n",
      "             bottom=bottoms)\n",
      "bottoms += val\n",
      "val = np.array(res_proj)\n",
      "p3 = plt.bar(ind, val, width, color=colors[2],\n",
      "             bottom=bottoms)\n",
      "bottoms += val\n",
      "val = np.array(res_conv)\n",
      "p4 = plt.bar(ind, val, width, color=colors[3],\n",
      "             bottom=bottoms)\n",
      "\n",
      "plt.xticks(ind+width/2., t )\n",
      "plt.title('PetaFLOPS')\n",
      "plt.legend(labels, loc=2) # legend upper-left"
     ],
     "language": "python",
     "metadata": {},
     "outputs": [
      {
       "metadata": {},
       "output_type": "display_data",
       "png": "[encoded data removed]",
       "text": [
        "<matplotlib.figure.Figure at 0xbf3e9b0>"
       ]
      },
      {
       "metadata": {},
       "output_type": "display_data",
       "png": "[encoded data removed]",
       "text": [
        "<matplotlib.figure.Figure at 0x1628f978>"
       ]
      },
      {
       "metadata": {},
       "output_type": "display_data",
       "png": "[encoded data removed]",
       "text": [
        "<matplotlib.figure.Figure at 0x15f225f8>"
       ]
      },
      {
       "metadata": {},
       "output_type": "pyout",
       "prompt_number": 6,
       "text": [
        "<matplotlib.legend.Legend at 0x15a84cf8>"
       ]
      },
      {
       "metadata": {},
       "output_type": "display_data",
       "png": "[encoded data removed]",
       "text": [
        "<matplotlib.figure.Figure at 0xc525588>"
       ]
      }
     ],
     "prompt_number": 6
    },
    {
     "cell_type": "heading",
     "level": 1,
     "metadata": {},
     "source": [
      "Doing the same for the HPSOs:"
     ]
    },
    {
     "cell_type": "code",
     "collapsed": false,
     "input": [
      "from env_setup import *\n",
      "from variable_definitions import *\n",
      "from telescope_parameters import *\n",
      "from formulae import *\n",
      "from implementation import *\n",
      "\n",
      "from parameter_definitions import *\n",
      "\n",
      "#hpso_keys = ['01','02A','02B','14', '14c', '14s','22','37a','37b','38a','38b','13', '13c','13s','15','15c', '15s','27','33','37c']\n",
      "#hpso_keys.sort()\n",
      "hpso_keys = ['01','02A','02B','14', '14c', '14s', '14sfull', '22','37a','37b','38a','38b','13', '13c','13s','15','15c', '15s','27','33','37c']\n",
      "hpso_keys.sort()\n",
      "\n",
      "non_peta_values = ('Npix_linear')\n",
      "values_to_take_max = ('Npix_linear')\n",
      "\n",
      "results = {}\n",
      "temp = parameter_container()\n",
      "for hpso_key in hpso_keys:\n",
      "    print '.\\n>> Evaluating HPSO %s' % hpso_key\n",
      "    parameter_definitions.apply_hpso_parameters(temp, hpso_key)\n",
      "    if temp.mode == 'CS':\n",
      "        tpc = calc_tel_params(mode='Continuum', hpso_key=hpso_key)\n",
      "        tps = calc_tel_params(mode='Spectral', hpso_key=hpso_key)\n",
      "        (Tsnap_opt_C, Nfacet_opt_C) = find_optimal_Tsnap_Nfacet(tpc)\n",
      "        (Tsnap_opt_S, Nfacet_opt_S) = find_optimal_Tsnap_Nfacet(tps)\n",
      "        \n",
      "        print 'Optimal (Tsnap, Nfacet) values = (%.2f sec, %d) for C and (%.2f sec, %d) for S' \\\n",
      "            % (Tsnap_opt_C, Nfacet_opt_C, Tsnap_opt_S, Nfacet_opt_S)\n",
      "        substitution_c = {tpc.Tsnap : Tsnap_opt, tpc.Nfacet : Nfacet_opt}\n",
      "        substitution_s = {tps.Tsnap : Tsnap_opt, tps.Nfacet : Nfacet_opt}\n",
      "\n",
      "        expressions_c = (tpc.Rflop_conv, tpc.Rflop_fft, tpc.Rflop_grid, tpc.Rflop_proj, tpc.Rflop_phrot, tpc.Rflop, tpc.Mbuf_vis, tpc.Mw_cache, tpc.Npix_linear, tpc.Rio)\n",
      "        expressions_s = (tps.Rflop_conv, tps.Rflop_fft, tps.Rflop_grid, tps.Rflop_proj, tps.Rflop_phrot, tps.Rflop, tps.Mbuf_vis, tps.Mw_cache, tps.Npix_linear, tps.Rio)\n",
      "        expression_strings = ('Rflop_conv', 'Rflop_fft', 'Rflop_grid', 'Rflop_proj', 'Rflop_phrot', 'Rflop', 'Mbuf_vis', 'Mw_cache', 'Npix_linear', 'Rio')\n",
      "        key_expressions_c = zip(expression_strings, expressions_c)\n",
      "        key_expressions_s = zip(expression_strings, expressions_s)\n",
      "\n",
      "        for i in range(len(key_expressions)):\n",
      "            key_expression_c = key_expressions_c[i]\n",
      "            key_expression_s = key_expressions_s[i]\n",
      "            key = key_expression_c[0]\n",
      "            take_max = (key in values_to_take_max)\n",
      "            \n",
      "            expression_c = key_expression_c[1]\n",
      "            expression_s = key_expression_s[1]\n",
      "            expression_subst_c = expression_c.subs(substitution_c)\n",
      "            expression_subst_s = expression_s.subs(substitution_s)\n",
      "            if take_max:\n",
      "                result = Max(evaluate_binned_expression(expression_subst_c, tpc, take_max=True),\n",
      "                             evaluate_binned_expression(expression_subst_s, tps, take_max=True))\n",
      "            else:\n",
      "                result = evaluate_binned_expression(expression_subst_c, tpc) + evaluate_binned_expression(expression_subst_s, tps) \n",
      "                \n",
      "            results[(hpso_key, temp.mode, key)] = result\n",
      "            \n",
      "            if key in non_peta_values:\n",
      "                print '-> hpso %s : %s = %g' % (hpso_key, key, result)\n",
      "            else:    \n",
      "                print '-> hpso %s : %s = %.3g Peta' % (hpso_key, key, result)        \n",
      "    else:\n",
      "        tp = calc_tel_params(mode=temp.mode, hpso_key=hpso_key)\n",
      "        (Tsnap_opt, Nfacet_opt) = find_optimal_Tsnap_Nfacet(tp)\n",
      "        print 'Optimal (Tsnap, Nfacet) values = (%.2f sec, %d)' % (Tsnap_opt, Nfacet_opt)\n",
      "        substitution = {tp.Tsnap : Tsnap_opt, tp.Nfacet : Nfacet_opt}\n",
      "\n",
      "        expressions = (tp.Rflop_conv, tp.Rflop_fft, tp.Rflop_grid, tp.Rflop_proj, tp.Rflop_phrot, tp.Rflop, tp.Mbuf_vis, tp.Mw_cache, tp.Npix_linear, tp.Rio)\n",
      "        expression_strings = ('Rflop_conv', 'Rflop_fft', 'Rflop_grid', 'Rflop_proj', 'Rflop_phrot', 'Rflop', 'Mbuf_vis', 'Mw_cache', 'Npix_linear', 'Rio')\n",
      "        key_expressions = zip(expression_strings, expressions)\n",
      "        \n",
      "        for key_expression in key_expressions: \n",
      "            key = key_expression[0]\n",
      "            expression = key_expression[1]\n",
      "            expression_subst = expression.subs(substitution)\n",
      "            result = evaluate_binned_expression(expression_subst, tp)\n",
      "            results[(hpso_key, temp.mode, key)] = result\n",
      "            \n",
      "            if key in non_peta_values:\n",
      "                print '-> hpso %s : %s = %g' % (hpso_key, key, result)\n",
      "            else:    \n",
      "                print '-> hpso %s : %s = %.3g Peta' % (hpso_key, key, result)\n",
      "\n",
      "print '\\n>>> Done!'"
     ],
     "language": "python",
     "metadata": {},
     "outputs": [
      {
       "output_type": "stream",
       "stream": "stdout",
       "text": [
        ".\n",
        ">> Evaluating HPSO 01\n",
        "Optimal (Tsnap, Nfacet) values = (135.72 sec, 3)"
       ]
      },
      {
       "output_type": "stream",
       "stream": "stdout",
       "text": [
        "\n",
        "-> hpso 01 : Rflop_conv = 3.75 Peta\n",
        "-> hpso 01 : Rflop_fft = 1.91 Peta\n",
        "-> hpso 01 : Rflop_grid = 2.64 Peta\n",
        "-> hpso 01 : Rflop_proj = 1.39 Peta\n",
        "-> hpso 01 : Rflop_phrot = 0.0253 Peta"
       ]
      },
      {
       "output_type": "stream",
       "stream": "stdout",
       "text": [
        "\n",
        "-> hpso 01 : Rflop = 9.72 Peta\n",
        "-> hpso 01 : Mbuf_vis = 2.91 Peta"
       ]
      },
      {
       "output_type": "stream",
       "stream": "stdout",
       "text": [
        "\n",
        "-> hpso 01 : Mw_cache = 3.37e+11 Peta\n",
        "-> hpso 01 : Npix_linear = 125396\n",
        "-> hpso 01 : Rio = 0.00607 Peta\n",
        ".\n",
        ">> Evaluating HPSO 02A\n",
        "Optimal (Tsnap, Nfacet) values = (135.72 sec, 3)"
       ]
      },
      {
       "output_type": "stream",
       "stream": "stdout",
       "text": [
        "\n",
        "-> hpso 02A : Rflop_conv = 3.75 Peta\n",
        "-> hpso 02A : Rflop_fft = 1.91 Peta\n",
        "-> hpso 02A : Rflop_grid = 2.64 Peta\n",
        "-> hpso 02A : Rflop_proj = 1.39 Peta\n",
        "-> hpso 02A : Rflop_phrot = 0.0253 Peta"
       ]
      },
      {
       "output_type": "stream",
       "stream": "stdout",
       "text": [
        "\n",
        "-> hpso 02A : Rflop = 9.72 Peta\n",
        "-> hpso 02A : Mbuf_vis = 2.91 Peta"
       ]
      },
      {
       "output_type": "stream",
       "stream": "stdout",
       "text": [
        "\n",
        "-> hpso 02A : Mw_cache = 3.37e+11 Peta\n",
        "-> hpso 02A : Npix_linear = 125396\n",
        "-> hpso 02A : Rio = 0.00607 Peta\n",
        ".\n",
        ">> Evaluating HPSO 02B\n",
        "Optimal (Tsnap, Nfacet) values = (135.72 sec, 3)"
       ]
      },
      {
       "output_type": "stream",
       "stream": "stdout",
       "text": [
        "\n",
        "-> hpso 02B : Rflop_conv = 3.75 Peta\n",
        "-> hpso 02B : Rflop_fft = 1.91 Peta\n",
        "-> hpso 02B : Rflop_grid = 2.64 Peta\n",
        "-> hpso 02B : Rflop_proj = 1.39 Peta\n",
        "-> hpso 02B : Rflop_phrot = 0.0253 Peta"
       ]
      },
      {
       "output_type": "stream",
       "stream": "stdout",
       "text": [
        "\n",
        "-> hpso 02B : Rflop = 9.72 Peta\n",
        "-> hpso 02B : Mbuf_vis = 2.91 Peta"
       ]
      },
      {
       "output_type": "stream",
       "stream": "stdout",
       "text": [
        "\n",
        "-> hpso 02B : Mw_cache = 3.37e+11 Peta\n",
        "-> hpso 02B : Npix_linear = 125396\n",
        "-> hpso 02B : Rio = 0.00607 Peta\n",
        ".\n",
        ">> Evaluating HPSO 13\n",
        "Optimal (Tsnap, Nfacet) values = (1757.93 sec, 4) for C and (1613.32 sec, 2) for S"
       ]
      },
      {
       "output_type": "stream",
       "stream": "stdout",
       "text": [
        "\n",
        "-> hpso 13 : Rflop_conv = 6.66 Peta"
       ]
      },
      {
       "output_type": "stream",
       "stream": "stdout",
       "text": [
        "\n",
        "-> hpso 13 : Rflop_fft = 140 Peta\n",
        "-> hpso 13 : Rflop_grid = 6.88 Peta\n",
        "-> hpso 13 : Rflop_proj = 109 Peta\n",
        "-> hpso 13 : Rflop_phrot = 0.0977 Peta\n",
        "-> hpso 13 : Rflop = 262 Peta"
       ]
      },
      {
       "output_type": "stream",
       "stream": "stdout",
       "text": [
        "\n",
        "-> hpso 13 : Mbuf_vis = 111 Peta\n",
        "-> hpso 13 : Mw_cache = 1.24e+12 Peta\n",
        "-> hpso 13 : Npix_linear = 13004\n",
        "-> hpso 13 : Rio = 0.0235 Peta\n",
        ".\n",
        ">> Evaluating HPSO 13c\n",
        "Optimal (Tsnap, Nfacet) values = (1757.93 sec, 4)"
       ]
      },
      {
       "output_type": "stream",
       "stream": "stdout",
       "text": [
        "\n",
        "-> hpso 13c : Rflop_conv = 0.534 Peta\n",
        "-> hpso 13c : Rflop_fft = 0.661 Peta\n",
        "-> hpso 13c : Rflop_grid = 0.658 Peta\n",
        "-> hpso 13c : Rflop_proj = 0.499 Peta\n",
        "-> hpso 13c : Rflop_phrot = 0.00333 Peta\n",
        "-> hpso 13c : Rflop = 2.36 Peta"
       ]
      },
      {
       "output_type": "stream",
       "stream": "stdout",
       "text": [
        "\n",
        "-> hpso 13c : Mbuf_vis = 0.216 Peta\n",
        "-> hpso 13c : Mw_cache = 3e+12 Peta\n",
        "-> hpso 13c : Npix_linear = 78024.1\n",
        "-> hpso 13c : Rio = 0.000799 Peta\n",
        ".\n",
        ">> Evaluating HPSO 13s\n",
        "Optimal (Tsnap, Nfacet) values = (1613.32 sec, 2)"
       ]
      },
      {
       "output_type": "stream",
       "stream": "stdout",
       "text": [
        "\n",
        "-> hpso 13s : Rflop_conv = 7.71 Peta\n",
        "-> hpso 13s : Rflop_fft = 11.5 Peta\n",
        "-> hpso 13s : Rflop_grid = 11.5 Peta\n",
        "-> hpso 13s : Rflop_proj = 8.59 Peta\n",
        "-> hpso 13s : Rflop_phrot = 0.0426 Peta\n",
        "-> hpso 13s : Rflop = 39.4 Peta"
       ]
      },
      {
       "output_type": "stream",
       "stream": "stdout",
       "text": [
        "\n",
        "-> hpso 13s : Mbuf_vis = 110 Peta\n",
        "-> hpso 13s : Mw_cache = 2.04e+15 Peta\n",
        "-> hpso 13s : Npix_linear = 86693.5\n",
        "-> hpso 13s : Rio = 0.0102 Peta\n",
        ".\n",
        ">> Evaluating HPSO 14\n",
        "Optimal (Tsnap, Nfacet) values = (2423.76 sec, 7) for C and (2384.87 sec, 4) for S"
       ]
      },
      {
       "output_type": "stream",
       "stream": "stdout",
       "text": [
        "\n",
        "-> hpso 14 : Rflop_conv = 3 Peta"
       ]
      },
      {
       "output_type": "stream",
       "stream": "stdout",
       "text": [
        "\n",
        "-> hpso 14 : Rflop_fft = 12.5 Peta\n",
        "-> hpso 14 : Rflop_grid = 11.3 Peta\n",
        "-> hpso 14 : Rflop_proj = 7.93 Peta\n",
        "-> hpso 14 : Rflop_phrot = 0.0117 Peta\n",
        "-> hpso 14 : Rflop = 34.7 Peta"
       ]
      },
      {
       "output_type": "stream",
       "stream": "stdout",
       "text": [
        "\n",
        "-> hpso 14 : Mbuf_vis = 29.8 Peta\n",
        "-> hpso 14 : Mw_cache = 6.15e+14 Peta\n",
        "-> hpso 14 : Npix_linear = 97530.1\n",
        "-> hpso 14 : Rio = 0.00281 Peta\n",
        ".\n",
        ">> Evaluating HPSO 14c\n",
        "Optimal (Tsnap, Nfacet) values = (2423.76 sec, 7)"
       ]
      },
      {
       "output_type": "stream",
       "stream": "stdout",
       "text": [
        "\n",
        "-> hpso 14c : Rflop_conv = 0.247 Peta\n",
        "-> hpso 14c : Rflop_fft = 0.464 Peta\n",
        "-> hpso 14c : Rflop_grid = 0.558 Peta\n",
        "-> hpso 14c : Rflop_proj = 0.314 Peta\n",
        "-> hpso 14c : Rflop_phrot = 0.00274 Peta\n",
        "-> hpso 14c : Rflop = 1.59 Peta"
       ]
      },
      {
       "output_type": "stream",
       "stream": "stdout",
       "text": [
        "\n",
        "-> hpso 14c : Mbuf_vis = 0.058 Peta\n",
        "-> hpso 14c : Mw_cache = 1.36e+11 Peta\n",
        "-> hpso 14c : Npix_linear = 278658\n",
        "-> hpso 14c : Rio = 0.000658 Peta\n",
        ".\n",
        ">> Evaluating HPSO 14s\n",
        "Optimal (Tsnap, Nfacet) values = (2384.87 sec, 4)"
       ]
      },
      {
       "output_type": "stream",
       "stream": "stdout",
       "text": [
        "\n",
        "-> hpso 14s : Rflop_conv = 3.93 Peta\n",
        "-> hpso 14s : Rflop_fft = 7.43 Peta\n",
        "-> hpso 14s : Rflop_grid = 9.45 Peta\n",
        "-> hpso 14s : Rflop_proj = 5.04 Peta\n",
        "-> hpso 14s : Rflop_phrot = 0.0458 Peta\n",
        "-> hpso 14s : Rflop = 25.9 Peta"
       ]
      },
      {
       "output_type": "stream",
       "stream": "stdout",
       "text": [
        "\n",
        "-> hpso 14s : Mbuf_vis = 29.7 Peta\n",
        "-> hpso 14s : Mw_cache = 5.91e+13 Peta\n",
        "-> hpso 14s : Npix_linear = 270917\n",
        "-> hpso 14s : Rio = 0.011 Peta\n",
        ".\n",
        ">> Evaluating HPSO 14sfull\n",
        "Optimal (Tsnap, Nfacet) values = (2384.87 sec, 4)"
       ]
      },
      {
       "output_type": "stream",
       "stream": "stdout",
       "text": [
        "\n",
        "-> hpso 14sfull : Rflop_conv = 3.93 Peta\n",
        "-> hpso 14sfull : Rflop_fft = 7.43 Peta\n",
        "-> hpso 14sfull : Rflop_grid = 9.45 Peta\n",
        "-> hpso 14sfull : Rflop_proj = 5.04 Peta\n",
        "-> hpso 14sfull : Rflop_phrot = 0.0458 Peta\n",
        "-> hpso 14sfull : Rflop = 25.9 Peta"
       ]
      },
      {
       "output_type": "stream",
       "stream": "stdout",
       "text": [
        "\n",
        "-> hpso 14sfull : Mbuf_vis = 29.7 Peta\n",
        "-> hpso 14sfull : Mw_cache = 5.91e+13 Peta\n",
        "-> hpso 14sfull : Npix_linear = 270917\n",
        "-> hpso 14sfull : Rio = 0.011 Peta\n",
        ".\n",
        ">> Evaluating HPSO 15\n",
        "Optimal (Tsnap, Nfacet) values = (724.67 sec, 2) for C and (641.75 sec, 1) for S"
       ]
      },
      {
       "output_type": "stream",
       "stream": "stdout",
       "text": [
        "\n",
        "-> hpso 15 : Rflop_conv = 12.8 Peta\n",
        "-> hpso 15 : Rflop_fft = 0.442 Peta\n",
        "-> hpso 15 : Rflop_grid = 19 Peta\n",
        "-> hpso 15 : Rflop_proj = 0.408 Peta\n",
        "-> hpso 15 : Rflop_phrot = 0.263 Peta\n",
        "-> hpso 15 : Rflop = 32.9 Peta"
       ]
      },
      {
       "output_type": "stream",
       "stream": "stdout",
       "text": [
        "\n",
        "-> hpso 15 : Mbuf_vis = 168 Peta\n",
        "-> hpso 15 : Mw_cache = 5.66e+12 Peta\n",
        "-> hpso 15 : Npix_linear = 3169.73\n",
        "-> hpso 15 : Rio = 0.0632 Peta\n",
        ".\n",
        ">> Evaluating HPSO 15c\n",
        "Optimal (Tsnap, Nfacet) values = (724.67 sec, 2)"
       ]
      },
      {
       "output_type": "stream",
       "stream": "stdout",
       "text": [
        "\n",
        "-> hpso 15c : Rflop_conv = 0.0941 Peta\n",
        "-> hpso 15c : Rflop_fft = 0.101 Peta\n",
        "-> hpso 15c : Rflop_grid = 0.179 Peta\n",
        "-> hpso 15c : Rflop_proj = 0.0799 Peta\n",
        "-> hpso 15c : Rflop_phrot = 0.00126 Peta\n",
        "-> hpso 15c : Rflop = 0.455 Peta\n",
        "-> hpso 15c : Mbuf_vis = 0.327 Peta\n",
        "-> hpso 15c : Mw_cache = 2.38e+11 Peta\n",
        "-> hpso 15c : Npix_linear = 31697.3\n",
        "-> hpso 15c : Rio = 0.000303 Peta\n",
        ".\n",
        ">> Evaluating HPSO 15s\n",
        "Optimal (Tsnap, Nfacet) values = (641.75 sec, 1)"
       ]
      },
      {
       "output_type": "stream",
       "stream": "stdout",
       "text": [
        "\n",
        "-> hpso 15s : Rflop_conv = 1.28 Peta\n",
        "-> hpso 15s : Rflop_fft = 1.82 Peta\n",
        "-> hpso 15s : Rflop_grid = 3.25 Peta\n",
        "-> hpso 15s : Rflop_proj = 1.43 Peta\n",
        "-> hpso 15s : Rflop_phrot = 0 Peta\n",
        "-> hpso 15s : Rflop = 7.77 Peta\n",
        "-> hpso 15s : Mbuf_vis = 167 Peta\n",
        "-> hpso 15s : Mw_cache = 1.49e+14 Peta\n",
        "-> hpso 15s : Npix_linear = 35219.2\n",
        "-> hpso 15s : Rio = 0.00387 Peta\n",
        ".\n",
        ">> Evaluating HPSO 22\n",
        "Optimal (Tsnap, Nfacet) values = (6687.71 sec, 4)"
       ]
      },
      {
       "output_type": "stream",
       "stream": "stdout",
       "text": [
        "\n",
        "-> hpso 22 : Rflop_conv = 0.666 Peta\n",
        "-> hpso 22 : Rflop_fft = 1.42 Peta\n",
        "-> hpso 22 : Rflop_grid = 1.67 Peta\n",
        "-> hpso 22 : Rflop_proj = 0.91 Peta\n",
        "-> hpso 22 : Rflop_phrot = 0.00716 Peta\n",
        "-> hpso 22 : Rflop = 4.67 Peta"
       ]
      },
      {
       "output_type": "stream",
       "stream": "stdout",
       "text": [
        "\n",
        "-> hpso 22 : Mbuf_vis = 0.464 Peta\n",
        "-> hpso 22 : Mw_cache = 1.2e+12 Peta\n",
        "-> hpso 22 : Npix_linear = 487651\n",
        "-> hpso 22 : Rio = 0.00172 Peta\n",
        ".\n",
        ">> Evaluating HPSO 27\n",
        "Optimal (Tsnap, Nfacet) values = (3034.09 sec, 5)"
       ]
      },
      {
       "output_type": "stream",
       "stream": "stdout",
       "text": [
        "\n",
        "-> hpso 27 : Rflop_conv = 0.698 Peta\n",
        "-> hpso 27 : Rflop_fft = 0.598 Peta\n",
        "-> hpso 27 : Rflop_grid = 0.592 Peta\n",
        "-> hpso 27 : Rflop_proj = 0.451 Peta\n",
        "-> hpso 27 : Rflop_phrot = 0.00416 Peta\n",
        "-> hpso 27 : Rflop = 2.34 Peta"
       ]
      },
      {
       "output_type": "stream",
       "stream": "stdout",
       "text": [
        "\n",
        "-> hpso 27 : Mbuf_vis = 0.173 Peta\n",
        "-> hpso 27 : Mw_cache = 3.11e+12 Peta\n",
        "-> hpso 27 : Npix_linear = 78024.1\n",
        "-> hpso 27 : Rio = 0.000999 Peta\n",
        ".\n",
        ">> Evaluating HPSO 33\n",
        "Optimal (Tsnap, Nfacet) values = (3034.09 sec, 5)"
       ]
      },
      {
       "output_type": "stream",
       "stream": "stdout",
       "text": [
        "\n",
        "-> hpso 33 : Rflop_conv = 0.698 Peta\n",
        "-> hpso 33 : Rflop_fft = 0.598 Peta\n",
        "-> hpso 33 : Rflop_grid = 0.592 Peta\n",
        "-> hpso 33 : Rflop_proj = 0.451 Peta\n",
        "-> hpso 33 : Rflop_phrot = 0.00416 Peta\n",
        "-> hpso 33 : Rflop = 2.34 Peta"
       ]
      },
      {
       "output_type": "stream",
       "stream": "stdout",
       "text": [
        "\n",
        "-> hpso 33 : Mbuf_vis = 0.173 Peta\n",
        "-> hpso 33 : Mw_cache = 3.11e+12 Peta\n",
        "-> hpso 33 : Npix_linear = 78024.1\n",
        "-> hpso 33 : Rio = 0.000999 Peta\n",
        ".\n",
        ">> Evaluating HPSO 37a\n",
        "Optimal (Tsnap, Nfacet) values = (2315.78 sec, 10)"
       ]
      },
      {
       "output_type": "stream",
       "stream": "stdout",
       "text": [
        "\n",
        "-> hpso 37a : Rflop_conv = 0.541 Peta\n",
        "-> hpso 37a : Rflop_fft = 0.656 Peta\n",
        "-> hpso 37a : Rflop_grid = 1.12 Peta"
       ]
      },
      {
       "output_type": "stream",
       "stream": "stdout",
       "text": [
        "\n",
        "-> hpso 37a : Rflop_proj = 0.46 Peta\n",
        "-> hpso 37a : Rflop_phrot = 0.00931 Peta\n",
        "-> hpso 37a : Rflop = 2.79 Peta"
       ]
      },
      {
       "output_type": "stream",
       "stream": "stdout",
       "text": [
        "\n",
        "-> hpso 37a : Mbuf_vis = 0.0965 Peta\n",
        "-> hpso 37a : Mw_cache = 9.74e+10 Peta\n",
        "-> hpso 37a : Npix_linear = 195060\n",
        "-> hpso 37a : Rio = 0.00223 Peta\n",
        ".\n",
        ">> Evaluating HPSO 37b\n",
        "Optimal (Tsnap, Nfacet) values = (2315.78 sec, 10)"
       ]
      },
      {
       "output_type": "stream",
       "stream": "stdout",
       "text": [
        "\n",
        "-> hpso 37b : Rflop_conv = 0.541 Peta\n",
        "-> hpso 37b : Rflop_fft = 0.656 Peta\n",
        "-> hpso 37b : Rflop_grid = 1.12 Peta"
       ]
      },
      {
       "output_type": "stream",
       "stream": "stdout",
       "text": [
        "\n",
        "-> hpso 37b : Rflop_proj = 0.46 Peta\n",
        "-> hpso 37b : Rflop_phrot = 0.00931 Peta\n",
        "-> hpso 37b : Rflop = 2.79 Peta"
       ]
      },
      {
       "output_type": "stream",
       "stream": "stdout",
       "text": [
        "\n",
        "-> hpso 37b : Mbuf_vis = 0.0965 Peta\n",
        "-> hpso 37b : Mw_cache = 9.74e+10 Peta\n",
        "-> hpso 37b : Npix_linear = 195060\n",
        "-> hpso 37b : Rio = 0.00223 Peta\n",
        ".\n",
        ">> Evaluating HPSO 37c\n",
        "Optimal (Tsnap, Nfacet) values = (3034.09 sec, 5)"
       ]
      },
      {
       "output_type": "stream",
       "stream": "stdout",
       "text": [
        "\n",
        "-> hpso 37c : Rflop_conv = 0.698 Peta\n",
        "-> hpso 37c : Rflop_fft = 0.598 Peta\n",
        "-> hpso 37c : Rflop_grid = 0.592 Peta\n",
        "-> hpso 37c : Rflop_proj = 0.451 Peta\n",
        "-> hpso 37c : Rflop_phrot = 0.00416 Peta\n",
        "-> hpso 37c : Rflop = 2.34 Peta"
       ]
      },
      {
       "output_type": "stream",
       "stream": "stdout",
       "text": [
        "\n",
        "-> hpso 37c : Mbuf_vis = 0.173 Peta\n",
        "-> hpso 37c : Mw_cache = 3.11e+12 Peta\n",
        "-> hpso 37c : Npix_linear = 78024.1\n",
        "-> hpso 37c : Rio = 0.000999 Peta\n",
        ".\n",
        ">> Evaluating HPSO 38a\n",
        "Optimal (Tsnap, Nfacet) values = (5928.19 sec, 6)"
       ]
      },
      {
       "output_type": "stream",
       "stream": "stdout",
       "text": [
        "\n",
        "-> hpso 38a : Rflop_conv = 0.283 Peta\n",
        "-> hpso 38a : Rflop_fft = 0.385 Peta\n",
        "-> hpso 38a : Rflop_grid = 0.632 Peta"
       ]
      },
      {
       "output_type": "stream",
       "stream": "stdout",
       "text": [
        "\n",
        "-> hpso 38a : Rflop_proj = 0.257 Peta\n",
        "-> hpso 38a : Rflop_phrot = 0.00477 Peta\n",
        "-> hpso 38a : Rflop = 1.56 Peta"
       ]
      },
      {
       "output_type": "stream",
       "stream": "stdout",
       "text": [
        "\n",
        "-> hpso 38a : Mbuf_vis = 0.138 Peta\n",
        "-> hpso 38a : Mw_cache = 1.53e+11 Peta\n",
        "-> hpso 38a : Npix_linear = 325100\n",
        "-> hpso 38a : Rio = 0.00115 Peta\n",
        ".\n",
        ">> Evaluating HPSO 38b\n",
        "Optimal (Tsnap, Nfacet) values = (5928.19 sec, 6)"
       ]
      },
      {
       "output_type": "stream",
       "stream": "stdout",
       "text": [
        "\n",
        "-> hpso 38b : Rflop_conv = 0.283 Peta\n",
        "-> hpso 38b : Rflop_fft = 0.385 Peta\n",
        "-> hpso 38b : Rflop_grid = 0.632 Peta"
       ]
      },
      {
       "output_type": "stream",
       "stream": "stdout",
       "text": [
        "\n",
        "-> hpso 38b : Rflop_proj = 0.257 Peta\n",
        "-> hpso 38b : Rflop_phrot = 0.00477 Peta\n",
        "-> hpso 38b : Rflop = 1.56 Peta"
       ]
      },
      {
       "output_type": "stream",
       "stream": "stdout",
       "text": [
        "\n",
        "-> hpso 38b : Mbuf_vis = 0.138 Peta\n",
        "-> hpso 38b : Mw_cache = 1.53e+11 Peta\n",
        "-> hpso 38b : Npix_linear = 325100\n",
        "-> hpso 38b : Rio = 0.00115 Peta\n",
        "\n",
        ">>> Done!\n"
       ]
      }
     ],
     "prompt_number": 12
    },
    {
     "cell_type": "heading",
     "level": 2,
     "metadata": {},
     "source": [
      "Compute the SDP's power usage for the three telescopes:"
     ]
    },
    {
     "cell_type": "heading",
     "level": 2,
     "metadata": {},
     "source": [
      "Does not yet account for the archive's power usage (currently set to zero)"
     ]
    },
    {
     "cell_type": "code",
     "collapsed": false,
     "input": [
      "'''\n",
      "Power usage.\n",
      "(don't be alarmed by all the kg*m^2/s^3 symbols -- that is just the SI definition of Watt. - can be fixed by calling\n",
      "simplify(... / u.W))\n",
      "'''\n",
      "# The following three lines were taken from the old (maximum baseline) estimates. \n",
      "# Should be re-computed on the fly, but for testing we'll go with these in the mean time\n",
      "# Rflop_low =   24.7298 PetaFLOPS for Low\n",
      "# Rflop_mid =   51.5468 PetaFLOPS (compare Mid_5A_SlowTrans which may be larger)\n",
      "# Rflop_sur =   71.71614 PetaFLOPS for Survey\n",
      "\n",
      "'''\n",
      "The derivations below are at times somewhat simplified from their full definitions in PDR05.\n",
      "Where simplification took place, this is commented as '# simplification'\n",
      "Results are vectorized as sympy Matrices in the following order: [Low, Mid, Survey]'\n",
      "'''\n",
      "# Rflops = Matrix((24.7298, 51.5468, 71.71614)) * 1e15  # Replace by explicitly computed Rflop values\n",
      "# Mbuf_viss = Matrix((237.5, 29.8, 87.7)) * 1e15 # Replace by explicitly computed Mbuf_vis values\n",
      "\n",
      "# Define vectors to represent the flop rates and visibility buffer sizes (can be used as dynamically specified arguments, using lambdify)\n",
      "Rflop_low, Rflop_mid, Rflop_sur = symbols(\"R_{flop\\,low} R_{flop\\,mid} R_{flop\\,sur}\", positive=True) # Reprojection Flop rate, per telescope\n",
      "Mbuf_low, Mbuf_mid, Mbuf_sur = symbols(\"M_{vbuf\\,low} M_{vbuf\\,mid} M_{vbuf\\,sur}\", positive=True)    # Visibility buffer size, per telescope\n",
      "Rflops = Matrix((Rflop_low, Rflop_mid, Rflop_sur))\n",
      "Mbuf_viss = Matrix((Mbuf_low, Mbuf_mid, Mbuf_sur))\n",
      "\n",
      "Tobss = Matrix((6, 6, 6)) * u.hours  # The observation time\n",
      "ingest_rate = divide_elementwise(Mbuf_viss, Tobss)\n",
      "\n",
      "###### COMPUTE NODES #############################\n",
      "\n",
      "# The composition of nodes and islands are assumed identical for all three telescopes.\n",
      "flops_per_gpu = 22.4 * 1e12   # Peak FLOPS per node GPU in 2020 (Depends on Moore's law.)\n",
      "gpus_per_node = 2\n",
      "compute_efficiency = 0.25  # computing efficiency per node; 100% = 1.0\n",
      "n_nodes_per_compute_island = 56  # number of compute nodes per compute island\n",
      "P_compute_node = 810 * u.W  # Power in Watts for a single compute node. Assumed identical for all three telescopes\n",
      "P_compute_island_overhead = 3800 * u.W  # per-island non-compute overheads. # simplification\n",
      "\n",
      "n_cmp_nodes = ceiling_elementwise(Rflops / (flops_per_gpu * gpus_per_node * compute_efficiency))\n",
      "n_cmp_islands = ceiling_elementwise(n_cmp_nodes / n_nodes_per_compute_island)\n",
      "\n",
      "P_cmp_islnds = (P_compute_node * n_cmp_nodes) + (P_compute_island_overhead * n_cmp_islands)\n",
      "\n",
      "###### NETWORKING ################################\n",
      "ingest_data_rate = divide_elementwise(Mbuf_viss, 2*Tobss) # Factor of 1/2 because we're working with a double buffer, only half of which needs to be read out.\n",
      "\n",
      "network_speed = 40e9 / (8.0 * u.s) # 40 GbE, expressed as bytes per second\n",
      "P_ToR = 240 * u.W  # For a single Top-of-Rack network switch\n",
      "network_protocol_overhead = 0.25 # 100% = 1.0\n",
      "network_occupancy = 1  # 100% = 1.0\n",
      "tor_links_up = Matrix((4, 4, 4))\n",
      "tor_links_down = Matrix((56, 56, 56))\n",
      "stage2_links_up = Matrix((18, 8, 8))\n",
      "stage2_links_down = Matrix((18, 28, 28))\n",
      "stage3_links_down = Matrix((18, 18, 18))\n",
      "\n",
      "n_2nd_stages = n_cmp_islands.multiply_elementwise(divide_elementwise(tor_links_up, stage2_links_down))\n",
      "n_2nd_stages[0] *= 2  # Due to extra set of ToR switches for Low (why?)\n",
      "n_2nd_stages = ceiling_elementwise(n_2nd_stages)\n",
      "\n",
      "n_ports = ceiling_elementwise((ingest_data_rate * (1+network_protocol_overhead) * network_occupancy / network_speed))\n",
      "\n",
      "n_3rd_stages = ceiling_elementwise(divide_elementwise(max_elementwise(n_2nd_stages.multiply_elementwise(stage2_links_up), n_ports),stage3_links_down))\n",
      "\n",
      "P_network = (n_cmp_islands + n_2nd_stages + n_3rd_stages) * P_ToR\n",
      "\n",
      "###### BUFFER ##########################################\n",
      "# LOW uses SAS, MID & SUR use SSD. Power per unit, divided by unit size (in Bytes)\n",
      "buffer_P_per_byte_sata = 5 / 8e12 * u.W\n",
      "buffer_P_per_byte_sas  = 3 / 4e12 * u.W\n",
      "buffer_P_per_byte_ssd  = 1 / 1e12 * u.W\n",
      "buffer_P_per_byte_dram = 4 / 16e9 * u.W\n",
      "P_buffer = Mbuf_viss.multiply_elementwise(Matrix((buffer_P_per_byte_sas, buffer_P_per_byte_ssd, buffer_P_per_byte_ssd)))\n",
      "\n",
      "###### ISLAND MANAGEMENT ##############################\n",
      "P_mgmt_node = 600 * u.W  # Power in Watts for a single compute node. Assumed identical for all three telescopes\n",
      "P_mgmt_island_overhead = 4240 * u.W  # simplification\n",
      "n_mgmt_units = Matrix((2, 2, 2))\n",
      "P_mgmt = n_mgmt_units * (P_mgmt_node * n_nodes_per_compute_island + P_mgmt_island_overhead)\n",
      "\n",
      "###### ARCHIVE ##############################\n",
      "archive_volume = Matrix((0, 0, 0))\n",
      "P_2nd_stage = P_ToR\n",
      "n_1st_stage_arch_sw = ceiling_elementwise(n_cmp_islands * 3 / 24.0)\n",
      "n_2nd_stage_arch_sw = ceiling_elementwise(n_1st_stage_arch_sw * 12 / 36.0)\n",
      "n_arch_coresw = n_1st_stage_arch_sw + n_2nd_stage_arch_sw\n",
      "P_arch_coresw = n_arch_coresw * P_2nd_stage  # simplification\n",
      "\n",
      "P_ll_coresw = P_arch_coresw  # simplification\n",
      "P_archive_unit = Matrix((0, 0, 0)) * u.W  # simplification\n",
      "P_archive_store = Matrix((0, 0, 0)) * u.W\n",
      "\n",
      "###### COMBINING IT ALL ################################\n",
      "P_sdp = P_cmp_islnds + P_network + P_mgmt + P_arch_coresw + P_ll_coresw + P_archive_unit + P_buffer + P_archive_store"
     ],
     "language": "python",
     "metadata": {},
     "outputs": [],
     "prompt_number": 13
    },
    {
     "cell_type": "code",
     "collapsed": false,
     "input": [
      "P_sdp_eval = lambdify((Rflop_low, Rflop_mid, Rflop_sur, Mbuf_low, Mbuf_mid, Mbuf_sur), remove_units(P_sdp),modules=\"sympy\")\n",
      "P_netw_eval = lambdify((Rflop_low, Rflop_mid, Rflop_sur, Mbuf_low, Mbuf_mid, Mbuf_sur), remove_units(n_cmp_islands),modules=\"sympy\")\n",
      "\n",
      "rfl = np.array((24.7298, 51.5468, 71.71614)) * 1e15\n",
      "mbf = np.array((237.5, 29.8, 87.7)) * 1e15\n",
      "\n",
      "print 'The SDP uses the following amounts of MegaWatt for Low, Mid and Survey:' \n",
      "P_sdp_eval(rfl[0],rfl[1],rfl[2],mbf[0],mbf[1],mbf[2])/1e6"
     ],
     "language": "python",
     "metadata": {},
     "outputs": [
      {
       "ename": "SyntaxError",
       "evalue": "invalid syntax (<string>, line 1)",
       "output_type": "pyerr",
       "traceback": [
        "\u001b[0;36m  File \u001b[0;32m\"<string>\"\u001b[0;36m, line \u001b[0;32m1\u001b[0m\n\u001b[0;31m    lambda R_{flop,low},R_{flop,mid},R_{flop,sur},M_{vbuf,low},M_{vbuf,mid},M_{vbuf,sur}: (ImmutableMatrix([[7.5e-13*M_{vbuf,low} + 810*ceiling(8.92857142857143e-14*R_{flop,low}) + 4120.0*ceiling(ceiling(8.92857142857143e-14*R_{flop,low})/56) + 240*ceiling(4*ceiling(ceiling(8.92857142857143e-14*R_{flop,low})/56)/9) + 240*ceiling(Max(ceiling(5.78703703703704e-15*M_{vbuf,low}), 18*ceiling(4*ceiling(ceiling(8.92857142857143e-14*R_{flop,low})/56)/9))/18) + 75680], [1.0e-12*M_{vbuf,mid} + 810*ceiling(8.92857142857143e-14*R_{flop,mid}) + 4120.0*ceiling(ceiling(8.92857142857143e-14*R_{flop,mid})/56) + 240*ceiling(ceiling(ceiling(8.92857142857143e-14*R_{flop,mid})/56)/7) + 240*ceiling(Max(ceiling(5.78703703703704e-15*M_{vbuf,mid}), 8*ceiling(ceiling(ceiling(8.92857142857143e-14*R_{flop,mid})/56)/7))/18) + 75680], [1.0e-12*M_{vbuf,sur} + 810*ceiling(8.92857142857143e-14*R_{flop,sur}) + 4120.0*ceiling(ceiling(8.92857142857143e-14*R_{flop,sur})/56) + 240*ceiling(ceiling(ceiling(8.92857142857143e-14*R_{flop,sur})/56)/7) + 240*ceiling(Max(ceiling(5.78703703703704e-15*M_{vbuf,sur}), 8*ceiling(ceiling(ceiling(8.92857142857143e-14*R_{flop,sur})/56)/7))/18) + 75680]]))\u001b[0m\n\u001b[0m             ^\u001b[0m\n\u001b[0;31mSyntaxError\u001b[0m\u001b[0;31m:\u001b[0m invalid syntax\n"
       ]
      }
     ],
     "prompt_number": 14
    },
    {
     "cell_type": "heading",
     "level": 1,
     "metadata": {},
     "source": [
      "Optimize the SDP to meet power constraints"
     ]
    },
    {
     "cell_type": "code",
     "collapsed": false,
     "input": [
      "# The power contraints for [Low, Mid, Survey], in Watts, are:\n",
      "\n",
      "power_limit_bestcase = [1.5e6  * u.W, 5e6 * u.W, 4e6 * u.W]\n",
      "power_limit_likely   = [0.75e6 * u.W, 2.5e6 * u.W, 2e6 * u.W]"
     ],
     "language": "python",
     "metadata": {},
     "outputs": []
    },
    {
     "cell_type": "code",
     "collapsed": false,
     "input": [
      "P_mid = P_sdp[1]\n",
      "P_target = remove_units(power_limit_likely[1])\n",
      "expression_to_minimise = abs(P_mid - P_target)\n",
      "\n",
      "expr_eval = lambdify((Rflop_mid, Mbuf_mid), remove_units(expression_to_minimise),modules=\"sympy\")  # Define Lambda expression in two variables\n",
      "expr_eval_float = lambda x: float(expr_eval(x, mbf[1]))  # Define Power of MID as a function of one free variable: Rflop_mid"
     ],
     "language": "python",
     "metadata": {},
     "outputs": []
    },
    {
     "cell_type": "code",
     "collapsed": false,
     "input": [
      "# We now minimize the desired expression (which equals absolute deviation from our target power Wattage) by varying the free \n",
      "# parameter - which in this case is Rflop_mid\n",
      "result = opt.minimize_scalar(expr_eval_float, bounds=(0, rfl[1]), method='bounded')\n",
      "print result"
     ],
     "language": "python",
     "metadata": {},
     "outputs": []
    },
    {
     "cell_type": "raw",
     "metadata": {},
     "source": [
      "In this case the target value was not exactly reached (maybe impossible?), but the residual error is only 180 Watts, achieved by\n",
      "setting Rflop_mid to the value of x displayed above."
     ]
    },
    {
     "cell_type": "code",
     "collapsed": false,
     "input": [
      "# We can verify this (look at the middle value, when substituting Rflop_mid with result.x)\n",
      "P_sdp_eval(rfl[0],result.x,rfl[2],mbf[0],mbf[1],mbf[2])/1e6"
     ],
     "language": "python",
     "metadata": {},
     "outputs": []
    },
    {
     "cell_type": "raw",
     "metadata": {},
     "source": [
      "Now that we know the desired FLOP count, the trick will be to scale the telescope appropriately to achieve that FLOP value. One could use a similar approach as above, and compute the maximum baseline length (keeping all parameters the same).\n",
      "I demonstrate the principle here, by only looking at "
     ]
    },
    {
     "cell_type": "heading",
     "level": 1,
     "metadata": {},
     "source": [
      "All lines of code below this line are from previous versions of the notebook, and might not run in current form"
     ]
    },
    {
     "cell_type": "code",
     "collapsed": false,
     "input": [
      "Rflop_target = result.x\n",
      "print 'FLOP target (in this example) for Mid = %g' % Rflop_target\n",
      "chosen_band = 'Mid1'\n",
      "chosen_mode = 'Spectral'\n",
      "(Tsnap_opt, Nfacet_opt) = find_optimal_Tsnap_Nfacet(band=chosen_band, mode=chosen_mode)\n",
      "telescope_parameters = calc_tel_params(band=chosen_band, mode=chosen_mode)\n",
      "telescope_parameters[Tsnap] = Tsnap_opt\n",
      "telescope_parameters[Nfacet] = Nfacet_opt\n",
      "result_flops = evaluate_expression(Rflop, telescope_parameters)"
     ],
     "language": "python",
     "metadata": {},
     "outputs": []
    },
    {
     "cell_type": "code",
     "collapsed": false,
     "input": [
      "print 'Using the maximum baseline specs, band %s (%s) requires %g FLOPS.' % (chosen_band, chosen_mode, result_flops)"
     ],
     "language": "python",
     "metadata": {},
     "outputs": []
    },
    {
     "cell_type": "code",
     "collapsed": false,
     "input": [
      "# We now make Bmax a free (undefined) parameter\n",
      "telescope_parameters.pop(Bmax)\n",
      "\n",
      "# And from here on we do the same type of optimization as before\n",
      "expression_to_minimise = abs(Rflop - Rflop_target).subs(telescope_parameters).subs(telescope_parameters)\n",
      "expr_eval = lambdify(Bmax, remove_units(expression_to_minimise),modules=\"sympy\")  # Define Lambda expression in one variable\n",
      "expr_eval_float = lambda x: float(expr_eval(x))  # Define deviation of RFlop from the set target as a function of one free variable: Bmax\n",
      "# We now minimize the desired expression (which equals absolute deviation from our target FLOP rate) by varying the free \n",
      "# parameter - which in this case is Bmax\n",
      "result = opt.minimize_scalar(expr_eval_float, bounds=(0, remove_units(telescope_params[Bmax_ref])), method='bounded')\n",
      "print result"
     ],
     "language": "python",
     "metadata": {},
     "outputs": []
    },
    {
     "cell_type": "raw",
     "metadata": {},
     "source": [
      "Voila - there we have it. A baseline of ~ 157.2 km will give us the desired FLOP rate that will result in a power consumption of 2.5 MW"
     ]
    }
   ],
   "metadata": {}
  }
 ]
}