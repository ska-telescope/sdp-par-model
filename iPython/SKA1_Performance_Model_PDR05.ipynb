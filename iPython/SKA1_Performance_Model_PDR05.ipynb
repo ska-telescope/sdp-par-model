{
 "metadata": {
  "name": "",
  "signature": "sha256:402cc0a9f4321a05c86496f23bcc7fa5de20a6cce250d96f5925775e7e9a9921"
 },
 "nbformat": 3,
 "nbformat_minor": 0,
 "worksheets": [
  {
   "cells": [
    {
     "cell_type": "markdown",
     "metadata": {},
     "source": [
      "_This notebook started out as a direct iPython translation of the **M7 PDR05 Excel Spreadsheet**, implemented in a similar way as originally done by **Juande Santander-Vela** in his separate analysis of the M7 Milestone PDR05 (MS Word) document._\n",
      "\n",
      "_This is an interactive document. **sympy** and **astropy** are required to evaluate some of the blocks of code. While overlapping in scope with \"Full Computational Requirements for SDP.ipynb\" and \"Parametric Models of SDP Compute Requirements.ipynb\", this document was independently derived._ \n",
      "\n",
      "_Equations may be evaluated for the different telescopes and imaging modes, either numerically or symbolically_ \n",
      "\n",
      "_The owner of this notebook document is **Francois Malan** of Space Advisory Company._"
     ]
    },
    {
     "cell_type": "heading",
     "level": 1,
     "metadata": {},
     "source": [
      "1. Definitions:"
     ]
    },
    {
     "cell_type": "markdown",
     "metadata": {},
     "source": [
      "_If any of these values need to be changed, this should be done in the \"Implementation\" section lower down. The display-formatted text in this \"Definitions\" section is (as you may have guessed) just for display purposes._ "
     ]
    },
    {
     "cell_type": "markdown",
     "metadata": {},
     "source": [
      "**Output Parameters we are interested in:**\n",
      "\n",
      "|**Symbol**|**Python**|**Description**|\n",
      "|-|-|-|\n",
      "| $M_{buf,vis}$ | Mbuf_vis | Buffer size (bytes) |\n",
      "| $M_{w,cache}$ | Mw_cache | w-convolution kernel cache size |\n",
      "| $N_{pix,linear}$ | Npix_linear | The linear number of pixels along the image's side (assumed to be square)|\n",
      "| $R_{FLOP}$ | Rflop | Overall flop rate |\n",
      "| $R_{IO}$ | Rio | Overall I/O rate, (bytes/s) |\n",
      "\n",
      "** Physical constants **\n",
      "\n",
      "|**Symbol**|**Python**|**Value**|**Description**|\n",
      "|-|-|-|-|\n",
      "| $c$ | u.c | $2.99792458 \\times 10^8$ (m/s) | Speed of light in a vacuum |\n",
      "| $\\Omega_E$ | Omega_E | $7.292115 \\times 10^{-5}$ (rad/s) | Angular rotational velocity of the Earth relative to the fixed stars |\n",
      "| $R_{Earth}$ | R_Earth | $6.378136 \\times 10^6$ (m) | Radius of the Earth |\n",
      "\n",
      "**Global parameters - used for all telescopes**\n",
      "\n",
      "*May need global tweaking*\n",
      "\n",
      "|**Symbol**|**Python**|**Value**|**Description**|\n",
      "|-|-|-|-|\n",
      "| $\\epsilon_{w}$ | epsilon_w | 0.01 | Amplitude level of w-kernels to include. Value 0.01 is used in [RD6] where it is shown to give kernel sizes in rough agreement with CASA package.|\n",
      "| $M_{vis}$| Mvis | 12 | Size of visibility datum in the buffer |\n",
      "| $N_{kernel}$ | Naa | 9 | Linear size of the combined $A$ and $W$ kernels (pixels). This size is at the low end of the range 9-15 given by [RD11] in Section 4.4.2 of their paper. |\n",
      "| $N_{mm}$ | Nmm | 4| |\n",
      "| $N_{pp}$ | Npp | 4| Number of polarisation products that are processed |\n",
      "| $N_{w}$ | Nw | 2| Bytes per value |\n",
      "|$Q_{bw}$|Qbw|1 |Bandwidth quality factor, determining how well bandwidth smearing can be controlled|\n",
      "|$Q_{fcw}$|Qfcw|10|Number of adjacent frequency channels for which baseline dependent kernels can be reused|\n",
      "|$Q_{GCF}$|Qgcf|8|Oversampling factor of w-convolution kernels|\n",
      "|$Q_{w}$|Qw|1 | Quality factor for w-projection correction. Value 1 corresponds to correction of maximal w values.  For comparison [RD7] uses values 0.1\u20140.3 |\n",
      "| $T_{ion}$ | T_ion | 60 | Ionospheric timescale |\n",
      "\n",
      "** Telescope-dependent parameters **\n",
      "\n",
      "*Subject to change*\n",
      "\n",
      "|***Telescope parameters***\n",
      "|-|-|-|-|-|-|\n",
      "| | Symbol | Python | **SKA1-Low** | **SKA1-Mid** | **SKA1-Survey** |\n",
      "| Maximum baseline according to SKAO (km)     | $B_{max}$|Bmax| $100$|$200$|$50$|\n",
      "| Antenna/Station Diameter (m)                                   |$D_{s}$|Ds|$35$|$15$|$15$|\n",
      "| Minimum frequency (of the chosen band) | $f_{min}$ | freq_min | 50 Mhz | depends on band | depends on band |\n",
      "| Maximum frequency (of the chosen band) | $f_{max}$ | freq_max | 350 Mhz | depends on band | depends on band |\n",
      "| Number of stations/antennas                                    |$N_{a}$|Na|$1024$|$256$|$96$|\n",
      "| Number of beams                                                |$N_{beam}$|Nbeam|$1$|$1$|$36$|\n",
      "| Number of frequency channels from corellator                   |$N_{f,max}$|Nf_max|$256000$|$256000$|$256000$|\n",
      "| Correlator dump time appropriate for $B_{max,ref}$ (seconds) |$T_{dump,ref}$|Tdump_ref|$0.6$|$0.08$|$0.3$|\n",
      "| Bins (upper bounds) used for discretizing baseline distribution in computations (km) | - | baseline_bins | $(4.9, 7.1, 10.4, 15.1, 22.1, 32.2, 47.0, 68.5, 100)$ | $(4.4, 6.7, 10.3, 15.7, 24.0, 36.7, 56.0, 85.6, 130.8, 200)$ | $(3.8, 5.5, 8.0, 11.5, 16.6, 24.0, 34.6, 50)$ \n",
      "| Number of baselines in each bin | - | baseline_bin_counts | $(5031193, 732481, 796973, 586849, 1070483, 939054, 820834, 202366, 12375)$ | $(669822, 61039, 64851, 66222, 70838, 68024, 74060, 68736, 21523, 745)$ | $(81109, 15605, 15777, 16671, 16849, 17999, 3282, 324)$ \n",
      "\n",
      "** Spectral vs Continuum vs Fast Imaging (i.e. slow transients) **\n",
      "\n",
      "*This is the same for all telescopes and bands*, but may be overwritten by HPSOs\n",
      "\n",
      "|***Imaging-mode telescope parameters***\n",
      "|-|-|-|-|-|-|\n",
      "| | Symbol | Python | **Continuum** | **Spectral** | **SlowTrans** |\n",
      "| Baseline length that (Fbshort+Fbmid), i.e. 90% of baselines are shorter than | $B_{lim,mid}$ | Blim_mid | $20000$ | n/a | $20000$\n",
      "| Field of view factor | $Q_{FoV}$| Qfov | $1.8$ | $1$ | $0.9$ |\n",
      "| Number of output map channels | $N_{f, out}$ | Nf_out | $500$ | *computed* | $500$ |\n",
      "| Number of channels for gridding at longest baseline | $N_{f, used}$ | Nf_used | *computed* | *computed* | *computed*|\n",
      "| Number of major CLEAN cycles to be done | $N_{major}$ | Nmajor | $10$ | $1$ | $1$ |\n",
      "| Quality factor defining the oversampling of synthesised beam | $Q_{pix}$ | Qpix | $2.5$ | $2.5$ | $1.5$|\n",
      "| Observation length |$T_{obs}$ | Tobs  | $6\\ {\\rm h}$  | $6\\ {\\rm h}$ | $1.2\\ {\\rm sec}$  |\n",
      "| Snapshot timescale implemented (sec) | $T_{snap}$ | Tsnap | *optimized* | *optimized* | *optimized* |\n",
      "| Minimum Snapshot timescale - equals $T_{obs}$ for slow transients | $T_{snap, min}$ | Tsnap_min | $1.2\\ {\\rm sec}$ | $1.2\\ {\\rm sec}$ | $1.2\\ {\\rm sec}$"
     ]
    },
    {
     "cell_type": "heading",
     "level": 1,
     "metadata": {},
     "source": [
      "2. Load Implementation & Environment (refer to .py source files):"
     ]
    },
    {
     "cell_type": "code",
     "collapsed": false,
     "input": [
      "'''\n",
      "The following command imports implementation.py, that in turn imports all the other code fragments, methods and/or modules that\n",
      "are required to run all the code. Please refer to the following python files for implementation details (omitted here for readability)\n",
      "* env_setup.py -- code for setting up the python environment\n",
      "* definitions_derivations.py -- contains definitions of variables and derived telescope parameters \n",
      "* telescope_parameters.py -- contains numerical values for telescope-specific parameters\n",
      "* implementation.py -- contains code for performing evaluations\n",
      "'''\n",
      "import sys\n",
      "from implementation import *"
     ],
     "language": "python",
     "metadata": {},
     "outputs": [
      {
       "output_type": "stream",
       "stream": "stdout",
       "text": [
        "IPython console for SymPy 0.7.6 (Python 2.7.7-32-bit) (ground types: python)\n"
       ]
      }
     ],
     "prompt_number": 1
    },
    {
     "cell_type": "heading",
     "level": 1,
     "metadata": {},
     "source": [
      "3. Computations:"
     ]
    },
    {
     "cell_type": "heading",
     "level": 2,
     "metadata": {},
     "source": [
      "For a specific telescope & mode, with binned baselines:"
     ]
    },
    {
     "cell_type": "code",
     "collapsed": false,
     "input": [
      "chosen_band = 'Low'\n",
      "chosen_mode = 'Continuum'\n",
      "expression_to_minimize=Rflop\n",
      "max_number_nfacets = 10\n",
      "\n",
      "# Any verbose variables in this list will be printed to the command line at every evaluation. For debug purposes.\n",
      "# vvariables = (Nf_vis)\n",
      "vvariables = ()\n",
      "\n",
      "flop_results = {} # Maps nfacet values to flops\n",
      "optimal_results = {}\n",
      "flop_array = []\n",
      "Tsnap_array = []\n",
      "minimum_val = sys.float_info.max\n",
      "for nfacets in range(1, max_number_nfacets+1):  # Loop over the different integer values of NFacet (typically 1..10)\n",
      "    i = nfacets-1 # zero-based index\n",
      "    print 'Evaluating Nfacets = %d' % nfacets\n",
      "    universal[Nfacet] = nfacets\n",
      "    pp = calc_tel_params(band=chosen_band, mode=chosen_mode)\n",
      "    answer = minimize_expression(expression=expression_to_minimize, telescope_parameters=pp, mode=chosen_mode, verbose=True, verbose_variables=vvariables)\n",
      "    flop_array.append(float(answer['value']))\n",
      "    Tsnap_array.append(answer[Tsnap])\n",
      "    flop_results[nfacets] = flop_array[i]/1e15\n",
      "    if nfacets >= 3:\n",
      "        if (flop_array[i] > flop_array[i-1]) and  (flop_array[i-1] > flop_array[i-2]):\n",
      "            print '\\nExpression is increasing with number of facets; aborting exploration of Nfacets > %d' % nfacets\n",
      "            break\n",
      "print '\\nNfacets vs PetaFLOPS = '\n",
      "print flop_results\n",
      "i = np.argmin(np.array(flop_array))\n",
      "nfacets = i + 1\n",
      "print '\\n%f PetaFLOPS was the lowest FLOP value, found for (Nfacet, Tsnap) = (%d, %.2f)' % (flop_array[i]/1e15, nfacets,  Tsnap_array[i])"
     ],
     "language": "python",
     "metadata": {},
     "outputs": [
      {
       "output_type": "stream",
       "stream": "stdout",
       "text": [
        "Evaluating Nfacets = 1\n",
        "Bin with Bmax 4.90 km contains 49.361 % of the baselines for this telescope\n",
        "Verbose variable printout:\n",
        "[5000.0, 798.069169189401]"
       ]
      },
      {
       "output_type": "stream",
       "stream": "stdout",
       "text": [
        "\n",
        "Bin with Bmax 7.10 km contains 7.186 % of the baselines for this telescope"
       ]
      },
      {
       "output_type": "stream",
       "stream": "stdout",
       "text": [
        "\n",
        "Verbose variable printout:\n",
        "[5000.0, 1155.9494019901538]"
       ]
      },
      {
       "output_type": "stream",
       "stream": "stdout",
       "text": [
        "\n",
        "Bin with Bmax 10.40 km contains 7.819 % of the baselines for this telescope"
       ]
      },
      {
       "output_type": "stream",
       "stream": "stdout",
       "text": [
        "\n",
        "Verbose variable printout:\n",
        "[5000.0, 1692.7696541417004]"
       ]
      },
      {
       "output_type": "stream",
       "stream": "stdout",
       "text": [
        "\n",
        "Bin with Bmax 15.10 km contains 5.758 % of the baselines for this telescope"
       ]
      },
      {
       "output_type": "stream",
       "stream": "stdout",
       "text": [
        "\n",
        "Verbose variable printout:\n",
        "[5000.0, 2457.331766153207]"
       ]
      },
      {
       "output_type": "stream",
       "stream": "stdout",
       "text": [
        "\n",
        "Bin with Bmax 22.10 km contains 10.503 % of the baselines for this telescope"
       ]
      },
      {
       "output_type": "stream",
       "stream": "stdout",
       "text": [
        "\n",
        "Verbose variable printout:\n",
        "[5000.0, 3596.041248962511]"
       ]
      },
      {
       "output_type": "stream",
       "stream": "stdout",
       "text": [
        "\n",
        "Bin with Bmax 32.20 km contains 9.213 % of the baselines for this telescope"
       ]
      },
      {
       "output_type": "stream",
       "stream": "stdout",
       "text": [
        "\n",
        "Verbose variable printout:\n",
        "[5239.0363287221, 5239.0363287221]"
       ]
      },
      {
       "output_type": "stream",
       "stream": "stdout",
       "text": [
        "\n",
        "Bin with Bmax 47.00 km contains 8.053 % of the baselines for this telescope"
       ]
      },
      {
       "output_type": "stream",
       "stream": "stdout",
       "text": [
        "\n",
        "Verbose variable printout:\n",
        "[7646.59345394002, 7646.59345394002]"
       ]
      },
      {
       "output_type": "stream",
       "stream": "stdout",
       "text": [
        "\n",
        "Bin with Bmax 68.50 km contains 1.985 % of the baselines for this telescope"
       ]
      },
      {
       "output_type": "stream",
       "stream": "stdout",
       "text": [
        "\n",
        "Verbose variable printout:\n",
        "[11144.058182057814, 11144.058182057814]"
       ]
      },
      {
       "output_type": "stream",
       "stream": "stdout",
       "text": [
        "\n",
        "Bin with Bmax 100.00 km contains 0.121 % of the baselines for this telescope"
       ]
      },
      {
       "output_type": "stream",
       "stream": "stdout",
       "text": [
        "\n",
        "Verbose variable printout:\n",
        "[16268.250680639445, 16268.250680639445]"
       ]
      },
      {
       "output_type": "stream",
       "stream": "stdout",
       "text": [
        "\n",
        "Tsnap has been optimized as : 79.012620, yielding a minimum value of 17.499524 Peta-units"
       ]
      },
      {
       "output_type": "stream",
       "stream": "stdout",
       "text": [
        "\n",
        "Evaluating Nfacets = 2\n",
        "Bin with Bmax 4.90 km contains 49.361 % of the baselines for this telescope"
       ]
      },
      {
       "output_type": "stream",
       "stream": "stdout",
       "text": [
        "\n",
        "Verbose variable printout:\n",
        "[5000.0, 399.52047001156404]"
       ]
      },
      {
       "output_type": "stream",
       "stream": "stdout",
       "text": [
        "\n",
        "Bin with Bmax 7.10 km contains 7.186 % of the baselines for this telescope"
       ]
      },
      {
       "output_type": "stream",
       "stream": "stdout",
       "text": [
        "\n",
        "Verbose variable printout:\n",
        "[5000.0, 578.4607695262192]"
       ]
      },
      {
       "output_type": "stream",
       "stream": "stdout",
       "text": [
        "\n",
        "Bin with Bmax 10.40 km contains 7.819 % of the baselines for this telescope"
       ]
      },
      {
       "output_type": "stream",
       "stream": "stdout",
       "text": [
        "\n",
        "Verbose variable printout:\n",
        "[5000.0, 846.8710252089547]"
       ]
      },
      {
       "output_type": "stream",
       "stream": "stdout",
       "text": [
        "\n",
        "Bin with Bmax 15.10 km contains 5.758 % of the baselines for this telescope"
       ]
      },
      {
       "output_type": "stream",
       "stream": "stdout",
       "text": [
        "\n",
        "Verbose variable printout:\n",
        "[5000.0, 1229.1521680997375]"
       ]
      },
      {
       "output_type": "stream",
       "stream": "stdout",
       "text": [
        "\n",
        "Bin with Bmax 22.10 km contains 10.503 % of the baselines for this telescope"
       ]
      },
      {
       "output_type": "stream",
       "stream": "stdout",
       "text": [
        "\n",
        "Verbose variable printout:\n",
        "[5000.0, 1798.5069704432435]"
       ]
      },
      {
       "output_type": "stream",
       "stream": "stdout",
       "text": [
        "\n",
        "Bin with Bmax 32.20 km contains 9.213 % of the baselines for this telescope"
       ]
      },
      {
       "output_type": "stream",
       "stream": "stdout",
       "text": [
        "\n",
        "Verbose variable printout:\n",
        "[5000.0, 2620.0045515756674]"
       ]
      },
      {
       "output_type": "stream",
       "stream": "stdout",
       "text": [
        "\n",
        "Bin with Bmax 47.00 km contains 8.053 % of the baselines for this telescope"
       ]
      },
      {
       "output_type": "stream",
       "stream": "stdout",
       "text": [
        "\n",
        "Verbose variable printout:\n",
        "[5000.0, 3823.78314261821]"
       ]
      },
      {
       "output_type": "stream",
       "stream": "stdout",
       "text": [
        "\n",
        "Bin with Bmax 68.50 km contains 1.985 % of the baselines for this telescope"
       ]
      },
      {
       "output_type": "stream",
       "stream": "stdout",
       "text": [
        "\n",
        "Verbose variable printout:\n",
        "[5572.515526098186, 5572.515526098186]"
       ]
      },
      {
       "output_type": "stream",
       "stream": "stdout",
       "text": [
        "\n",
        "Bin with Bmax 100.00 km contains 0.121 % of the baselines for this telescope"
       ]
      },
      {
       "output_type": "stream",
       "stream": "stdout",
       "text": [
        "\n",
        "Verbose variable printout:\n",
        "[8134.61178876455, 8134.61178876455]"
       ]
      },
      {
       "output_type": "stream",
       "stream": "stdout",
       "text": [
        "\n",
        "Tsnap has been optimized as : 135.304957, yielding a minimum value of 12.023650 Peta-units"
       ]
      },
      {
       "output_type": "stream",
       "stream": "stdout",
       "text": [
        "\n",
        "Evaluating Nfacets = 3\n",
        "Bin with Bmax 4.90 km contains 49.361 % of the baselines for this telescope"
       ]
      },
      {
       "output_type": "stream",
       "stream": "stdout",
       "text": [
        "\n",
        "Verbose variable printout:\n",
        "[5000.0, 266.67064162561445]"
       ]
      },
      {
       "output_type": "stream",
       "stream": "stdout",
       "text": [
        "\n",
        "Bin with Bmax 7.10 km contains 7.186 % of the baselines for this telescope"
       ]
      },
      {
       "output_type": "stream",
       "stream": "stdout",
       "text": [
        "\n",
        "Verbose variable printout:\n",
        "[5000.0, 385.9643774837389]"
       ]
      },
      {
       "output_type": "stream",
       "stream": "stdout",
       "text": [
        "\n",
        "Bin with Bmax 10.40 km contains 7.819 % of the baselines for this telescope"
       ]
      },
      {
       "output_type": "stream",
       "stream": "stdout",
       "text": [
        "\n",
        "Verbose variable printout:\n",
        "[5000.0, 564.9046916484685]"
       ]
      },
      {
       "output_type": "stream",
       "stream": "stdout",
       "text": [
        "\n",
        "Bin with Bmax 15.10 km contains 5.758 % of the baselines for this telescope"
       ]
      },
      {
       "output_type": "stream",
       "stream": "stdout",
       "text": [
        "\n",
        "Verbose variable printout:\n",
        "[5000.0, 819.758883310787]"
       ]
      },
      {
       "output_type": "stream",
       "stream": "stdout",
       "text": [
        "\n",
        "Bin with Bmax 22.10 km contains 10.503 % of the baselines for this telescope"
       ]
      },
      {
       "output_type": "stream",
       "stream": "stdout",
       "text": [
        "\n",
        "Verbose variable printout:\n",
        "[5000.0, 1199.3288191835454]"
       ]
      },
      {
       "output_type": "stream",
       "stream": "stdout",
       "text": [
        "\n",
        "Bin with Bmax 32.20 km contains 9.213 % of the baselines for this telescope"
       ]
      },
      {
       "output_type": "stream",
       "stream": "stdout",
       "text": [
        "\n",
        "Verbose variable printout:\n",
        "[5000.0, 1746.9939190774423]"
       ]
      },
      {
       "output_type": "stream",
       "stream": "stdout",
       "text": [
        "\n",
        "Bin with Bmax 47.00 km contains 8.053 % of the baselines for this telescope"
       ]
      },
      {
       "output_type": "stream",
       "stream": "stdout",
       "text": [
        "\n",
        "Verbose variable printout:\n",
        "[5000.0, 2549.513011350851]"
       ]
      },
      {
       "output_type": "stream",
       "stream": "stdout",
       "text": [
        "\n",
        "Bin with Bmax 68.50 km contains 1.985 % of the baselines for this telescope"
       ]
      },
      {
       "output_type": "stream",
       "stream": "stdout",
       "text": [
        "\n",
        "Verbose variable printout:\n",
        "[5000.0, 3715.3346219096898]"
       ]
      },
      {
       "output_type": "stream",
       "stream": "stdout",
       "text": [
        "\n",
        "Bin with Bmax 100.00 km contains 0.121 % of the baselines for this telescope"
       ]
      },
      {
       "output_type": "stream",
       "stream": "stdout",
       "text": [
        "\n",
        "Verbose variable printout:\n",
        "[5423.398811879114, 5423.398811879114]"
       ]
      },
      {
       "output_type": "stream",
       "stream": "stdout",
       "text": [
        "\n",
        "Tsnap has been optimized as : 169.974053, yielding a minimum value of 12.686291 Peta-units"
       ]
      },
      {
       "output_type": "stream",
       "stream": "stdout",
       "text": [
        "\n",
        "Evaluating Nfacets = 4\n",
        "Bin with Bmax 4.90 km contains 49.361 % of the baselines for this telescope\n",
        "Verbose variable printout:\n",
        "[5000.0, 200.245531651369]"
       ]
      },
      {
       "output_type": "stream",
       "stream": "stdout",
       "text": [
        "\n",
        "Bin with Bmax 7.10 km contains 7.186 % of the baselines for this telescope"
       ]
      },
      {
       "output_type": "stream",
       "stream": "stdout",
       "text": [
        "\n",
        "Verbose variable printout:\n",
        "[5000.0, 289.7160458881915]"
       ]
      },
      {
       "output_type": "stream",
       "stream": "stdout",
       "text": [
        "\n",
        "Bin with Bmax 10.40 km contains 7.819 % of the baselines for this telescope"
       ]
      },
      {
       "output_type": "stream",
       "stream": "stdout",
       "text": [
        "\n",
        "Verbose variable printout:\n",
        "[5000.0, 423.92143209077983]"
       ]
      },
      {
       "output_type": "stream",
       "stream": "stdout",
       "text": [
        "\n",
        "Bin with Bmax 15.10 km contains 5.758 % of the baselines for this telescope"
       ]
      },
      {
       "output_type": "stream",
       "stream": "stdout",
       "text": [
        "\n",
        "Verbose variable printout:\n",
        "[5000.0, 615.0621769139092]"
       ]
      },
      {
       "output_type": "stream",
       "stream": "stdout",
       "text": [
        "\n",
        "Bin with Bmax 22.10 km contains 10.503 % of the baselines for this telescope"
       ]
      },
      {
       "output_type": "stream",
       "stream": "stdout",
       "text": [
        "\n",
        "Verbose variable printout:\n",
        "[5000.0, 899.7396997742488]"
       ]
      },
      {
       "output_type": "stream",
       "stream": "stdout",
       "text": [
        "\n",
        "Bin with Bmax 32.20 km contains 9.213 % of the baselines for this telescope"
       ]
      },
      {
       "output_type": "stream",
       "stream": "stdout",
       "text": [
        "\n",
        "Verbose variable printout:\n",
        "[5000.0, 1310.4885727580145]"
       ]
      },
      {
       "output_type": "stream",
       "stream": "stdout",
       "text": [
        "\n",
        "Bin with Bmax 47.00 km contains 8.053 % of the baselines for this telescope"
       ]
      },
      {
       "output_type": "stream",
       "stream": "stdout",
       "text": [
        "\n",
        "Verbose variable printout:\n",
        "[5000.0, 1912.377925104969]"
       ]
      },
      {
       "output_type": "stream",
       "stream": "stdout",
       "text": [
        "\n",
        "Bin with Bmax 68.50 km contains 1.985 % of the baselines for this telescope"
       ]
      },
      {
       "output_type": "stream",
       "stream": "stdout",
       "text": [
        "\n",
        "Verbose variable printout:\n",
        "[5000.0, 2786.7441556676818]"
       ]
      },
      {
       "output_type": "stream",
       "stream": "stdout",
       "text": [
        "\n",
        "Bin with Bmax 100.00 km contains 0.121 % of the baselines for this telescope"
       ]
      },
      {
       "output_type": "stream",
       "stream": "stdout",
       "text": [
        "\n",
        "Verbose variable printout:\n",
        "[5000.0, 4067.792313742783]"
       ]
      },
      {
       "output_type": "stream",
       "stream": "stdout",
       "text": [
        "\n",
        "Tsnap has been optimized as : 196.481410, yielding a minimum value of 15.238631 Peta-units"
       ]
      },
      {
       "output_type": "stream",
       "stream": "stdout",
       "text": [
        "\n",
        "\n",
        "Expression is increasing with number of facets; aborting exploration of Nfacets > 4\n",
        "\n",
        "Nfacets vs PetaFLOPS = \n",
        "{1: 17.499523650850936, 2: 12.023650390446186, 3: 12.68629069222873, 4: 15.238631101258916}\n",
        "\n",
        "15.238631 PetaFLOPS was the lowest FLOP value, found for (Nfacet, Tsnap) = (1, 196.48)\n"
       ]
      }
     ],
     "prompt_number": 5
    },
    {
     "cell_type": "heading",
     "level": 2,
     "metadata": {},
     "source": [
      "Optimizing Tsnap and Nfacet for a given band and mode:"
     ]
    },
    {
     "cell_type": "code",
     "collapsed": false,
     "input": [
      "(Tsnap_opt, Nfacet_opt) = find_optimal_Tsnap_Nfacet('Low', 'Continuum', verbose=True)"
     ],
     "language": "python",
     "metadata": {},
     "outputs": [
      {
       "output_type": "stream",
       "stream": "stdout",
       "text": [
        "Finding optimal values for Tsnap and Nfacet for (Low, Continuum)\n",
        "Evaluating Nfacets = 1\n",
        "Evaluating Nfacets = 2"
       ]
      },
      {
       "output_type": "stream",
       "stream": "stdout",
       "text": [
        "\n",
        "Evaluating Nfacets = 3"
       ]
      },
      {
       "output_type": "stream",
       "stream": "stdout",
       "text": [
        "\n",
        "Evaluating Nfacets = 4"
       ]
      },
      {
       "output_type": "stream",
       "stream": "stdout",
       "text": [
        "\n",
        "\n",
        "Expression increasing with number of facets; aborting exploration of Nfacets > 4"
       ]
      },
      {
       "output_type": "stream",
       "stream": "stdout",
       "text": [
        "\n",
        "\n",
        "12.023650 PetaFLOPS was the lowest FLOP value, found for (Nfacet, Tsnap) = (2, 135.30)\n"
       ]
      }
     ],
     "prompt_number": 2
    },
    {
     "cell_type": "code",
     "collapsed": false,
     "input": [
      "Nfacet_opt"
     ],
     "language": "python",
     "metadata": {},
     "outputs": [
      {
       "metadata": {},
       "output_type": "pyout",
       "prompt_number": 3,
       "text": [
        "2"
       ]
      }
     ],
     "prompt_number": 3
    },
    {
     "cell_type": "heading",
     "level": 2,
     "metadata": {},
     "source": [
      "Looping through a list of (standard) bands -- this may take several minutes:"
     ]
    },
    {
     "cell_type": "code",
     "collapsed": false,
     "input": [
      "all_bands = band_info.keys()\n",
      "all_bands.sort()\n",
      "selected_bands = ('Low', 'Mid1', 'Sur1')  # Only loop over the first bands for each telescope (assumed to be the most demanding)\n",
      "selected_modes = ('Continuum', 'Spectral', 'SlowTrans')\n",
      "\n",
      "expressions = {'Rflop_conv' : Rflop_conv, \n",
      "               'Rflop_fft'  : Rflop_fft, \n",
      "               'Rflop_grid' : Rflop_grid, \n",
      "               'Rflop_proj' : Rflop_proj,\n",
      "               'Mbuf_vis'   : Mbuf_vis,\n",
      "               'Mw_cache'   : Mw_cache,\n",
      "               'Npix_linear': Npix_linear,\n",
      "               'Rio'        : Rio,\n",
      "               }\n",
      "\n",
      "non_peta_values = ('Npix_linear')\n",
      "flops_expressions = ('Rflop_grid', 'Rflop_conv', 'Rflop_fft', 'Rflop_proj')\n",
      "\n",
      "results = {}\n",
      "\n",
      "for band in selected_bands:\n",
      "    for mode in selected_modes:\n",
      "        tel = band_info[band]['telescope']\n",
      "        print '.'\n",
      "        print '>> Evaluating %s band %s in %s mode' % (tel, band, mode)\n",
      "        (Tsnap_opt, Nfacet_opt) = find_optimal_Tsnap_Nfacet(band, mode)\n",
      "        print 'Optimal (Tsnap, Nfacet) values = (%.2f sec, %d)' % (Tsnap_opt, Nfacet_opt)\n",
      "        for expression in expressions.keys():\n",
      "            # Calculate parameters, and substiture the calculated optimal values for Tsnap and Nfacet\n",
      "            pp = calc_tel_params(band, mode)\n",
      "            pp[Tsnap] = Tsnap_opt\n",
      "            pp[Nfacet] = Nfacet_opt\n",
      "            result = evaluate_expression(expressions[expression], pp, mode)\n",
      "            results[(band, mode, expression)] = result\n",
      "            if expression in non_peta_values:\n",
      "                print '-> %s : %s = %.3g' % (mode, expression, result)\n",
      "            else:    \n",
      "                print '-> %s : %s = %.3g Peta' % (mode, expression, result/1e15)\n",
      "        flops_total = 0\n",
      "        for expression in flops_expressions:\n",
      "            flops_total += results[(band, mode, expression)]\n",
      "        results[(band, mode, 'Rflop')] = flops_total\n",
      "        print '-> %s : %s = %.3g PetaFLOPS' % (mode, 'Rflop', flops_total/1e15)\n",
      "print '\\n>>> Done!'"
     ],
     "language": "python",
     "metadata": {},
     "outputs": [
      {
       "output_type": "stream",
       "stream": "stdout",
       "text": [
        ".\n",
        ">> Evaluating SKA1_Low band Low in Continuum mode\n",
        "Optimal (Tsnap, Nfacet) values = (87.16 sec, 3)"
       ]
      },
      {
       "output_type": "stream",
       "stream": "stdout",
       "text": [
        "\n",
        "-> Continuum : Npix_linear = 1.25e+05"
       ]
      },
      {
       "output_type": "stream",
       "stream": "stdout",
       "text": [
        "\n",
        "-> Continuum : Rio = 0.00194 Peta"
       ]
      },
      {
       "output_type": "stream",
       "stream": "stdout",
       "text": [
        "\n",
        "-> Continuum : Rflop_grid = 0.8 Peta"
       ]
      },
      {
       "output_type": "stream",
       "stream": "stdout",
       "text": [
        "\n",
        "-> Continuum : Mw_cache = 6.99e-05 Peta"
       ]
      },
      {
       "output_type": "stream",
       "stream": "stdout",
       "text": [
        "\n",
        "-> Continuum : Mbuf_vis = 0.93 Peta"
       ]
      },
      {
       "output_type": "stream",
       "stream": "stdout",
       "text": [
        "\n",
        "-> Continuum : Rflop_conv = 1.08 Peta"
       ]
      },
      {
       "output_type": "stream",
       "stream": "stdout",
       "text": [
        "\n",
        "-> Continuum : Rflop_fft = 0.497 Peta"
       ]
      },
      {
       "output_type": "stream",
       "stream": "stdout",
       "text": [
        "\n",
        "-> Continuum : Rflop_proj = 0.361 Peta"
       ]
      },
      {
       "output_type": "stream",
       "stream": "stdout",
       "text": [
        "\n",
        "-> Continuum : Rflop = 2.74 PetaFLOPS\n",
        ".\n",
        ">> Evaluating SKA1_Low band Low in Spectral mode\n",
        "Optimal (Tsnap, Nfacet) values = (117.89 sec, 1)"
       ]
      },
      {
       "output_type": "stream",
       "stream": "stdout",
       "text": [
        "\n",
        "-> Spectral : Npix_linear = 2.09e+05"
       ]
      },
      {
       "output_type": "stream",
       "stream": "stdout",
       "text": [
        "\n",
        "-> Spectral : Rio = 0.00548 Peta"
       ]
      },
      {
       "output_type": "stream",
       "stream": "stdout",
       "text": [
        "\n",
        "-> Spectral : Rflop_grid = 5.63 Peta"
       ]
      },
      {
       "output_type": "stream",
       "stream": "stdout",
       "text": [
        "\n",
        "-> Spectral : Mw_cache = 0.082 Peta"
       ]
      },
      {
       "output_type": "stream",
       "stream": "stdout",
       "text": [
        "\n",
        "-> Spectral : Mbuf_vis = 237 Peta"
       ]
      },
      {
       "output_type": "stream",
       "stream": "stdout",
       "text": [
        "\n",
        "-> Spectral : Rflop_conv = 5.68 Peta"
       ]
      },
      {
       "output_type": "stream",
       "stream": "stdout",
       "text": [
        "\n",
        "-> Spectral : Rflop_fft = 6.11 Peta"
       ]
      },
      {
       "output_type": "stream",
       "stream": "stdout",
       "text": [
        "\n",
        "-> Spectral : Rflop_proj = 4.22 Peta"
       ]
      },
      {
       "output_type": "stream",
       "stream": "stdout",
       "text": [
        "\n",
        "-> Spectral : Rflop = 21.6 PetaFLOPS\n",
        ".\n",
        ">> Evaluating SKA1_Low band Low in SlowTrans mode\n",
        "Optimal (Tsnap, Nfacet) values = (1.20 sec, 2)"
       ]
      },
      {
       "output_type": "stream",
       "stream": "stdout",
       "text": [
        "\n",
        "-> SlowTrans : Npix_linear = 5.64e+04"
       ]
      },
      {
       "output_type": "stream",
       "stream": "stdout",
       "text": [
        "\n",
        "-> SlowTrans : Rio = 7.1e-05 Peta"
       ]
      },
      {
       "output_type": "stream",
       "stream": "stdout",
       "text": [
        "\n",
        "-> SlowTrans : Rflop_grid = 0.0238 Peta"
       ]
      },
      {
       "output_type": "stream",
       "stream": "stdout",
       "text": [
        "\n",
        "-> SlowTrans : Mw_cache = 3.87e-06 Peta"
       ]
      },
      {
       "output_type": "stream",
       "stream": "stdout",
       "text": [
        "\n",
        "-> SlowTrans : Mbuf_vis = 4.26e-05 Peta"
       ]
      },
      {
       "output_type": "stream",
       "stream": "stdout",
       "text": [
        "\n",
        "-> SlowTrans : Rflop_conv = 0.0289 Peta"
       ]
      },
      {
       "output_type": "stream",
       "stream": "stdout",
       "text": [
        "\n",
        "-> SlowTrans : Rflop_fft = 0.298 Peta"
       ]
      },
      {
       "output_type": "stream",
       "stream": "stdout",
       "text": [
        "\n",
        "-> SlowTrans : Rflop_proj = 0 Peta"
       ]
      },
      {
       "output_type": "stream",
       "stream": "stdout",
       "text": [
        "\n",
        "-> SlowTrans : Rflop = 0.35 PetaFLOPS\n",
        ".\n",
        ">> Evaluating SKA1_Mid band Mid1 in Continuum mode\n",
        "Optimal (Tsnap, Nfacet) values = (1132.39 sec, 13)"
       ]
      },
      {
       "output_type": "stream",
       "stream": "stdout",
       "text": [
        "\n",
        "-> Continuum : Npix_linear = 1.5e+05"
       ]
      },
      {
       "output_type": "stream",
       "stream": "stdout",
       "text": [
        "\n",
        "-> Continuum : Rio = 0.00453 Peta"
       ]
      },
      {
       "output_type": "stream",
       "stream": "stdout",
       "text": [
        "\n",
        "-> Continuum : Rflop_grid = 1.92 Peta"
       ]
      },
      {
       "output_type": "stream",
       "stream": "stdout",
       "text": [
        "\n",
        "-> Continuum : Mw_cache = 6.73e-05 Peta"
       ]
      },
      {
       "output_type": "stream",
       "stream": "stdout",
       "text": [
        "\n",
        "-> Continuum : Mbuf_vis = 0.116 Peta"
       ]
      },
      {
       "output_type": "stream",
       "stream": "stdout",
       "text": [
        "\n",
        "-> Continuum : Rflop_conv = 0.768 Peta"
       ]
      },
      {
       "output_type": "stream",
       "stream": "stdout",
       "text": [
        "\n",
        "-> Continuum : Rflop_fft = 0.932 Peta"
       ]
      },
      {
       "output_type": "stream",
       "stream": "stdout",
       "text": [
        "\n",
        "-> Continuum : Rflop_proj = 0.672 Peta"
       ]
      },
      {
       "output_type": "stream",
       "stream": "stdout",
       "text": [
        "\n",
        "-> Continuum : Rflop = 4.29 PetaFLOPS\n",
        ".\n",
        ">> Evaluating SKA1_Mid band Mid1 in Spectral mode\n",
        "Optimal (Tsnap, Nfacet) values = (1491.35 sec, 5)"
       ]
      },
      {
       "output_type": "stream",
       "stream": "stdout",
       "text": [
        "\n",
        "-> Spectral : Npix_linear = 2.17e+05"
       ]
      },
      {
       "output_type": "stream",
       "stream": "stdout",
       "text": [
        "\n",
        "-> Spectral : Rio = 0.0172 Peta"
       ]
      },
      {
       "output_type": "stream",
       "stream": "stdout",
       "text": [
        "\n",
        "-> Spectral : Rflop_grid = 14.6 Peta"
       ]
      },
      {
       "output_type": "stream",
       "stream": "stdout",
       "text": [
        "\n",
        "-> Spectral : Mw_cache = 0.0629 Peta"
       ]
      },
      {
       "output_type": "stream",
       "stream": "stdout",
       "text": [
        "\n",
        "-> Spectral : Mbuf_vis = 29.7 Peta"
       ]
      },
      {
       "output_type": "stream",
       "stream": "stdout",
       "text": [
        "\n",
        "-> Spectral : Rflop_conv = 6.25 Peta"
       ]
      },
      {
       "output_type": "stream",
       "stream": "stdout",
       "text": [
        "\n",
        "-> Spectral : Rflop_fft = 11.6 Peta"
       ]
      },
      {
       "output_type": "stream",
       "stream": "stdout",
       "text": [
        "\n",
        "-> Spectral : Rflop_proj = 8.06 Peta"
       ]
      },
      {
       "output_type": "stream",
       "stream": "stdout",
       "text": [
        "\n",
        "-> Spectral : Rflop = 40.5 PetaFLOPS\n",
        ".\n",
        ">> Evaluating SKA1_Mid band Mid1 in SlowTrans mode\n",
        "Searching for minimum Rflop with nfacets > 20... this is a bit odd (and may take long)"
       ]
      },
      {
       "output_type": "stream",
       "stream": "stdout",
       "text": [
        "\n",
        "Optimal (Tsnap, Nfacet) values = (1.20 sec, 27)"
       ]
      },
      {
       "output_type": "stream",
       "stream": "stdout",
       "text": [
        "\n",
        "-> SlowTrans : Npix_linear = 2.17e+04"
       ]
      },
      {
       "output_type": "stream",
       "stream": "stdout",
       "text": [
        "\n",
        "-> SlowTrans : Rio = 0.000986 Peta"
       ]
      },
      {
       "output_type": "stream",
       "stream": "stdout",
       "text": [
        "\n",
        "-> SlowTrans : Rflop_grid = 0.221 Peta"
       ]
      },
      {
       "output_type": "stream",
       "stream": "stdout",
       "text": [
        "\n",
        "-> SlowTrans : Mw_cache = 1.08e-10 Peta"
       ]
      },
      {
       "output_type": "stream",
       "stream": "stdout",
       "text": [
        "\n",
        "-> SlowTrans : Mbuf_vis = 3.25e-06 Peta"
       ]
      },
      {
       "output_type": "stream",
       "stream": "stdout",
       "text": [
        "\n",
        "-> SlowTrans : Rflop_conv = 0.2 Peta"
       ]
      },
      {
       "output_type": "stream",
       "stream": "stdout",
       "text": [
        "\n",
        "-> SlowTrans : Rflop_fft = 6.32 Peta"
       ]
      },
      {
       "output_type": "stream",
       "stream": "stdout",
       "text": [
        "\n",
        "-> SlowTrans : Rflop_proj = 0 Peta"
       ]
      },
      {
       "output_type": "stream",
       "stream": "stdout",
       "text": [
        "\n",
        "-> SlowTrans : Rflop = 6.75 PetaFLOPS\n",
        ".\n",
        ">> Evaluating SKA1_Survey band Sur1 in Continuum mode\n",
        "Optimal (Tsnap, Nfacet) values = (1907.71 sec, 7)"
       ]
      },
      {
       "output_type": "stream",
       "stream": "stdout",
       "text": [
        "\n",
        "-> Continuum : Npix_linear = 5.57e+04"
       ]
      },
      {
       "output_type": "stream",
       "stream": "stdout",
       "text": [
        "\n",
        "-> Continuum : Rio = 0.00211 Peta"
       ]
      },
      {
       "output_type": "stream",
       "stream": "stdout",
       "text": [
        "\n",
        "-> Continuum : Rflop_grid = 1.05 Peta"
       ]
      },
      {
       "output_type": "stream",
       "stream": "stdout",
       "text": [
        "\n",
        "-> Continuum : Mw_cache = 0.00262 Peta"
       ]
      },
      {
       "output_type": "stream",
       "stream": "stdout",
       "text": [
        "\n",
        "-> Continuum : Mbuf_vis = 0.186 Peta"
       ]
      },
      {
       "output_type": "stream",
       "stream": "stdout",
       "text": [
        "\n",
        "-> Continuum : Rflop_conv = 1.24 Peta"
       ]
      },
      {
       "output_type": "stream",
       "stream": "stdout",
       "text": [
        "\n",
        "-> Continuum : Rflop_fft = 0.917 Peta"
       ]
      },
      {
       "output_type": "stream",
       "stream": "stdout",
       "text": [
        "\n",
        "-> Continuum : Rflop_proj = 0.718 Peta"
       ]
      },
      {
       "output_type": "stream",
       "stream": "stdout",
       "text": [
        "\n",
        "-> Continuum : Rflop = 3.93 PetaFLOPS\n",
        ".\n",
        ">> Evaluating SKA1_Survey band Sur1 in Spectral mode\n",
        "Optimal (Tsnap, Nfacet) values = (1816.77 sec, 3)"
       ]
      },
      {
       "output_type": "stream",
       "stream": "stdout",
       "text": [
        "\n",
        "-> Spectral : Npix_linear = 7.22e+04"
       ]
      },
      {
       "output_type": "stream",
       "stream": "stdout",
       "text": [
        "\n",
        "-> Spectral : Rio = 0.0182 Peta"
       ]
      },
      {
       "output_type": "stream",
       "stream": "stdout",
       "text": [
        "\n",
        "-> Spectral : Rflop_grid = 14.3 Peta"
       ]
      },
      {
       "output_type": "stream",
       "stream": "stdout",
       "text": [
        "\n",
        "-> Spectral : Mw_cache = 1.93 Peta"
       ]
      },
      {
       "output_type": "stream",
       "stream": "stdout",
       "text": [
        "\n",
        "-> Spectral : Mbuf_vis = 87.5 Peta"
       ]
      },
      {
       "output_type": "stream",
       "stream": "stdout",
       "text": [
        "\n",
        "-> Spectral : Rflop_conv = 15.3 Peta"
       ]
      },
      {
       "output_type": "stream",
       "stream": "stdout",
       "text": [
        "\n",
        "-> Spectral : Rflop_fft = 15.7 Peta"
       ]
      },
      {
       "output_type": "stream",
       "stream": "stdout",
       "text": [
        "\n",
        "-> Spectral : Rflop_proj = 11.9 Peta"
       ]
      },
      {
       "output_type": "stream",
       "stream": "stdout",
       "text": [
        "\n",
        "-> Spectral : Rflop = 57.1 PetaFLOPS\n",
        ".\n",
        ">> Evaluating SKA1_Survey band Sur1 in SlowTrans mode\n",
        "Optimal (Tsnap, Nfacet) values = (1.20 sec, 18)"
       ]
      },
      {
       "output_type": "stream",
       "stream": "stdout",
       "text": [
        "\n",
        "-> SlowTrans : Npix_linear = 6.5e+03"
       ]
      },
      {
       "output_type": "stream",
       "stream": "stdout",
       "text": [
        "\n",
        "-> SlowTrans : Rio = 0.00128 Peta"
       ]
      },
      {
       "output_type": "stream",
       "stream": "stdout",
       "text": [
        "\n",
        "-> SlowTrans : Rflop_grid = 0.292 Peta"
       ]
      },
      {
       "output_type": "stream",
       "stream": "stdout",
       "text": [
        "\n",
        "-> SlowTrans : Mw_cache = 3.73e-11 Peta"
       ]
      },
      {
       "output_type": "stream",
       "stream": "stdout",
       "text": [
        "\n",
        "-> SlowTrans : Mbuf_vis = 9.5e-06 Peta"
       ]
      },
      {
       "output_type": "stream",
       "stream": "stdout",
       "text": [
        "\n",
        "-> SlowTrans : Rflop_conv = 0.454 Peta"
       ]
      },
      {
       "output_type": "stream",
       "stream": "stdout",
       "text": [
        "\n",
        "-> SlowTrans : Rflop_fft = 9.93 Peta"
       ]
      },
      {
       "output_type": "stream",
       "stream": "stdout",
       "text": [
        "\n",
        "-> SlowTrans : Rflop_proj = 0 Peta"
       ]
      },
      {
       "output_type": "stream",
       "stream": "stdout",
       "text": [
        "\n",
        "-> SlowTrans : Rflop = 10.7 PetaFLOPS\n",
        "\n",
        ">>> Done!\n"
       ]
      }
     ],
     "prompt_number": 2
    },
    {
     "cell_type": "heading",
     "level": 2,
     "metadata": {},
     "source": [
      "Because it takes very long to compute all results, let's just dump them out to screen (for future re-use):"
     ]
    },
    {
     "cell_type": "code",
     "collapsed": false,
     "input": [
      "results"
     ],
     "language": "python",
     "metadata": {},
     "outputs": [
      {
       "metadata": {},
       "output_type": "pyout",
       "prompt_number": 3,
       "text": [
        "{('Low', 'Continuum', 'Mbuf_vis'): 929555137445798.8,\n",
        " ('Low', 'Continuum', 'Mw_cache'): 69875805069.89983,\n",
        " ('Low', 'Continuum', 'Npix_linear'): 125395.90602006018,\n",
        " ('Low', 'Continuum', 'Rflop'): 2737742909678915.0,\n",
        " ('Low', 'Continuum', 'Rflop_conv'): 1080174877870019.2,\n",
        " ('Low', 'Continuum', 'Rflop_fft'): 496712784894877.1,\n",
        " ('Low', 'Continuum', 'Rflop_grid'): 800034847312470.1,\n",
        " ('Low', 'Continuum', 'Rflop_proj'): 360820399601548.25,\n",
        " ('Low', 'Continuum', 'Rio'): 1936573203012.0808,\n",
        " ('Low', 'SlowTrans', 'Mbuf_vis'): 42590339462.35143,\n",
        " ('Low', 'SlowTrans', 'Mw_cache'): 3865819320.155947,\n",
        " ('Low', 'SlowTrans', 'Npix_linear'): 56428.15770902708,\n",
        " ('Low', 'SlowTrans', 'Rflop'): 350156917124509.4,\n",
        " ('Low', 'SlowTrans', 'Rflop_conv'): 28867750587223.535,\n",
        " ('Low', 'SlowTrans', 'Rflop_fft'): 297521104353190.7,\n",
        " ('Low', 'SlowTrans', 'Rflop_grid'): 23768062184095.13,\n",
        " ('Low', 'SlowTrans', 'Rflop_proj'): 0.0,\n",
        " ('Low', 'SlowTrans', 'Rio'): 70983899103.91905,\n",
        " ('Low', 'Spectral', 'Mbuf_vis'): 2.365833051173932e+17,\n",
        " ('Low', 'Spectral', 'Mw_cache'): 82018854199938.88,\n",
        " ('Low', 'Spectral', 'Npix_linear'): 208993.1767001003,\n",
        " ('Low', 'Spectral', 'Rflop'): 2.1641924359291344e+16,\n",
        " ('Low', 'Spectral', 'Rflop_conv'): 5684490215980509.0,\n",
        " ('Low', 'Spectral', 'Rflop_fft'): 6113967480288378.0,\n",
        " ('Low', 'Spectral', 'Rflop_grid'): 5627859367365060.0,\n",
        " ('Low', 'Spectral', 'Rflop_proj'): 4215607295657397.0,\n",
        " ('Low', 'Spectral', 'Rio'): 5476465396235.954,\n",
        " ('Mid1', 'Continuum', 'Mbuf_vis'): 115824998626894.22,\n",
        " ('Mid1', 'Continuum', 'Mw_cache'): 67301530755.72946,\n",
        " ('Mid1', 'Continuum', 'Npix_linear'): 150046.38327186691,\n",
        " ('Mid1', 'Continuum', 'Rflop'): 4289559375326396.0,\n",
        " ('Mid1', 'Continuum', 'Rflop_conv'): 767764823682408.4,\n",
        " ('Mid1', 'Continuum', 'Rflop_fft'): 932282281313319.8,\n",
        " ('Mid1', 'Continuum', 'Rflop_grid'): 1917506103574991.0,\n",
        " ('Mid1', 'Continuum', 'Rflop_proj'): 672006166755677.2,\n",
        " ('Mid1', 'Continuum', 'Rio'): 4531116844431.741,\n",
        " ('Mid1', 'SlowTrans', 'Mbuf_vis'): 3246956201.6137195,\n",
        " ('Mid1', 'SlowTrans', 'Mw_cache'): 107836.87669961105,\n",
        " ('Mid1', 'SlowTrans', 'Npix_linear'): 21673.366472602997,\n",
        " ('Mid1', 'SlowTrans', 'Rflop'): 6745588139886006.0,\n",
        " ('Mid1', 'SlowTrans', 'Rflop_conv'): 200009426331804.4,\n",
        " ('Mid1', 'SlowTrans', 'Rflop_fft'): 6324638560386205.0,\n",
        " ('Mid1', 'SlowTrans', 'Rflop_grid'): 220940153167996.9,\n",
        " ('Mid1', 'SlowTrans', 'Rflop_proj'): 0.0,\n",
        " ('Mid1', 'SlowTrans', 'Rio'): 986262946240.1672,\n",
        " ('Mid1', 'Spectral', 'Mbuf_vis'): 2.968931897825882e+16,\n",
        " ('Mid1', 'Spectral', 'Mw_cache'): 62945705717620.46,\n",
        " ('Mid1', 'Spectral', 'Npix_linear'): 216733.66472603,\n",
        " ('Mid1', 'Spectral', 'Rflop'): 4.051165549880795e+16,\n",
        " ('Mid1', 'Spectral', 'Rflop_conv'): 6249325109554884.0,\n",
        " ('Mid1', 'Spectral', 'Rflop_fft'): 1.1614123757917654e+16,\n",
        " ('Mid1', 'Spectral', 'Rflop_grid'): 1.458487869971839e+16,\n",
        " ('Mid1', 'Spectral', 'Rflop_proj'): 8063327931617020.0,\n",
        " ('Mid1', 'Spectral', 'Rio'): 17181318853159.04,\n",
        " ('Sur1', 'Continuum', 'Mbuf_vis'): 186212865971637.9,\n",
        " ('Sur1', 'Continuum', 'Mw_cache'): 2621913653171.4414,\n",
        " ('Sur1', 'Continuum', 'Npix_linear'): 55731.513786693424,\n",
        " ('Sur1', 'Continuum', 'Rflop'): 3930641282774987.5,\n",
        " ('Sur1', 'Continuum', 'Rflop_conv'): 1241906496999869.8,\n",
        " ('Sur1', 'Continuum', 'Rflop_fft'): 916619282064790.9,\n",
        " ('Sur1', 'Continuum', 'Rflop_grid'): 1054111029901328.8,\n",
        " ('Sur1', 'Continuum', 'Rflop_proj'): 718004473808998.0,\n",
        " ('Sur1', 'Continuum', 'Rio'): 2112136674215.3376,\n",
        " ('Sur1', 'SlowTrans', 'Mbuf_vis'): 9498401649.484537,\n",
        " ('Sur1', 'SlowTrans', 'Mw_cache'): 37321.91103803035,\n",
        " ('Sur1', 'SlowTrans', 'Npix_linear'): 6502.0099417809,\n",
        " ('Sur1', 'SlowTrans', 'Rflop'): 1.0676685211255524e+16,\n",
        " ('Sur1', 'SlowTrans', 'Rflop_conv'): 453656167023494.0,\n",
        " ('Sur1', 'SlowTrans', 'Rflop_fft'): 9930667180439650.0,\n",
        " ('Sur1', 'SlowTrans', 'Rflop_grid'): 292361863792380.1,\n",
        " ('Sur1', 'SlowTrans', 'Rflop_proj'): 0.0,\n",
        " ('Sur1', 'SlowTrans', 'Rio'): 1282284222680.4124,\n",
        " ('Sur1', 'Spectral', 'Mbuf_vis'): 8.753726960164949e+16,\n",
        " ('Sur1', 'Spectral', 'Mw_cache'): 1925255740383543.0,\n",
        " ('Sur1', 'Spectral', 'Npix_linear'): 72244.55490867664,\n",
        " ('Sur1', 'Spectral', 'Rflop'): 5.710881647406924e+16,\n",
        " ('Sur1', 'Spectral', 'Rflop_conv'): 1.5254420439229876e+16,\n",
        " ('Sur1', 'Spectral', 'Rflop_fft'): 1.5655986482801326e+16,\n",
        " ('Sur1', 'Spectral', 'Rflop_grid'): 1.4284200907490124e+16,\n",
        " ('Sur1', 'Spectral', 'Rflop_proj'): 1.1914208644547914e+16,\n",
        " ('Sur1', 'Spectral', 'Rio'): 18236931167010.31}"
       ]
      }
     ],
     "prompt_number": 3
    },
    {
     "cell_type": "heading",
     "level": 2,
     "metadata": {},
     "source": [
      "Now we can summarize (by summing) them for the three telescopes:"
     ]
    },
    {
     "cell_type": "code",
     "collapsed": false,
     "input": [
      "results_per_tel = {}\n",
      "for band in selected_bands:\n",
      "    tel = band_info[band]['telescope']\n",
      "    if not tel in results_per_tel:\n",
      "        results_per_tel[tel] = {}\n",
      "    \n"
     ],
     "language": "python",
     "metadata": {},
     "outputs": []
    },
    {
     "cell_type": "heading",
     "level": 1,
     "metadata": {},
     "source": [
      "-=-=-=-=-=-=-"
     ]
    },
    {
     "cell_type": "heading",
     "level": 1,
     "metadata": {},
     "source": [
      "All lines of code below this line are from previous versions of the notebook, and probably won't run in current form (need to be updated)"
     ]
    },
    {
     "cell_type": "heading",
     "level": 2,
     "metadata": {},
     "source": [
      "Compute the SDP's power usage for the three telescopes:"
     ]
    },
    {
     "cell_type": "code",
     "collapsed": false,
     "input": [
      "'''\n",
      "Power usage.\n",
      "(don't be alarmed by all the kg*m^2/s^3 symbols -- that is just the SI definition of Watt. - can be fixed by calling\n",
      "simplify(... / u.W))\n",
      "'''\n",
      "# The following three lines were taken from the old (maximum baseline) estimates. \n",
      "# Should be re-computed on the fly, but for testing we'll go with these in the mean time\n",
      "# Rflop_low =   14.482 PetaFLOPS for Low_Spectral\n",
      "# Rflop_mid =  135.6 PetaFLOPS for Mid_5A_SlowTrans\n",
      "# Rflop_sur =   40.85 PetaFLOPS for Sur_1_Spectral\n",
      "\n",
      "'''\n",
      "The derivations below are at times somewhat simplified from their full definitions in PDR05.\n",
      "Where simplification took place, this is commented as '# simplification'\n",
      "Results are vectorized as sympy Matrices in the following order: [Low, Mid, Survey]'\n",
      "'''\n",
      "# Rflops = Matrix((104.48271074, 374.72051424, 135.03976765)) * 1e15  # Replace by explicitly computed Rflop values\n",
      "# Mbuf_viss = Matrix((470, 220, 295)) * 1e15 # Replace by explicitly computed Mbuf_vis values\n",
      "\n",
      "# Define vectors to represent the flop rates and visibility buffer sizes (can be used as dynamically specified arguments, using lambdify)\n",
      "Rflop_low, Rflop_mid, Rflop_sur = symbols(\"R_{flop\\,low} R_{flop\\,mid} R_{flop\\,sur}\", positive=True) # Reprojection Flop rate, per telescope\n",
      "Mbuf_low, Mbuf_mid, Mbuf_sur = symbols(\"M_{vbuf\\,low} M_{vbuf\\,mid} M_{vbuf\\,sur}\", positive=True)    # Visibility buffer size, per telescope\n",
      "Rflops = Matrix((Rflop_low, Rflop_mid, Rflop_sur))\n",
      "Mbuf_viss = Matrix((Mbuf_low, Mbuf_mid, Mbuf_sur))\n",
      "\n",
      "Tobss = Matrix((6, 6, 6)) * u.hours  # The observation time\n",
      "ingest_rate = divide_elementwise(Mbuf_viss, Tobss)\n",
      "\n",
      "###### COMPUTE NODES #############################\n",
      "\n",
      "# The composition of nodes and islands are assumed identical for all three telescopes.\n",
      "flops_per_gpu = 22.4 * 1e12   # Peak FLOPS per node GPU in 2020 (Depends on Moore's law.)\n",
      "gpus_per_node = 2\n",
      "compute_efficiency = 0.25  # computing efficiency per node; 100% = 1.0\n",
      "n_nodes_per_compute_island = 56  # number of compute nodes per compute island\n",
      "P_compute_node = 810 * u.W  # Power in Watts for a single compute node. Assumed identical for all three telescopes\n",
      "P_compute_island_overhead = 3800 * u.W  # per-island non-compute overheads. # simplification\n",
      "\n",
      "n_cmp_nodes = ceiling_elementwise(Rflops / (flops_per_gpu * gpus_per_node * compute_efficiency))\n",
      "n_cmp_islands = ceiling_elementwise(n_cmp_nodes / n_nodes_per_compute_island)\n",
      "\n",
      "P_cmp_islnds = (P_compute_node * n_cmp_nodes) + (P_compute_island_overhead * n_cmp_islands)\n",
      "\n",
      "###### NETWORKING ################################\n",
      "ingest_data_rate = divide_elementwise(Mbuf_viss, 2*Tobss) # Factor of 1/2 because we're working with a double buffer, only half of which needs to be read out.\n",
      "\n",
      "network_speed = 40e9 / (8.0 * u.s) # 40 GbE, expressed as bytes per second\n",
      "P_ToR = 240 * u.W  # For a single Top-of-Rack network switch\n",
      "network_protocol_overhead = 0.25 # 100% = 1.0\n",
      "network_occupancy = 1  # 100% = 1.0\n",
      "tor_links_up = Matrix((4, 4, 4))\n",
      "tor_links_down = Matrix((56, 56, 56))\n",
      "stage2_links_up = Matrix((18, 8, 8))\n",
      "stage2_links_down = Matrix((18, 28, 28))\n",
      "stage3_links_down = Matrix((18, 18, 18))\n",
      "\n",
      "n_2nd_stages = n_cmp_islands.multiply_elementwise(divide_elementwise(tor_links_up, stage2_links_down))\n",
      "n_2nd_stages[0] *= 2  # Due to extra set of ToR switches for Low (why?)\n",
      "n_2nd_stages = ceiling_elementwise(n_2nd_stages)\n",
      "\n",
      "n_ports = ceiling_elementwise((ingest_data_rate * (1+network_protocol_overhead) * network_occupancy / network_speed))\n",
      "\n",
      "n_3rd_stages = ceiling_elementwise(divide_elementwise(max_elementwise(n_2nd_stages.multiply_elementwise(stage2_links_up), n_ports),stage3_links_down))\n",
      "\n",
      "P_network = (n_cmp_islands + n_2nd_stages + n_3rd_stages) * P_ToR\n",
      "\n",
      "###### BUFFER ##########################################\n",
      "# LOW uses SAS, MID & SUR use SSD. Power per unit, divided by unit size (in Bytes)\n",
      "buffer_P_per_byte_sata = 5 / 8e12 * u.W\n",
      "buffer_P_per_byte_sas  = 3 / 4e12 * u.W\n",
      "buffer_P_per_byte_ssd  = 1 / 1e12 * u.W\n",
      "buffer_P_per_byte_dram = 4 / 16e9 * u.W\n",
      "P_buffer = Mbuf_viss.multiply_elementwise(Matrix((buffer_P_per_byte_sas, buffer_P_per_byte_ssd, buffer_P_per_byte_ssd)))\n",
      "\n",
      "###### ISLAND MANAGEMENT ##############################\n",
      "P_mgmt_node = 600 * u.W  # Power in Watts for a single compute node. Assumed identical for all three telescopes\n",
      "P_mgmt_island_overhead = 4240 * u.W  # simplification\n",
      "n_mgmt_units = Matrix((2, 2, 2))\n",
      "P_mgmt = n_mgmt_units * (P_mgmt_node * n_nodes_per_compute_island + P_mgmt_island_overhead)\n",
      "\n",
      "###### ARCHIVE ##############################\n",
      "archive_volume = Matrix((0, 0, 0))\n",
      "P_2nd_stage = P_ToR\n",
      "n_1st_stage_arch_sw = ceiling_elementwise(n_cmp_islands * 3 / 24.0)\n",
      "n_2nd_stage_arch_sw = ceiling_elementwise(n_1st_stage_arch_sw * 12 / 36.0)\n",
      "n_arch_coresw = n_1st_stage_arch_sw + n_2nd_stage_arch_sw\n",
      "P_arch_coresw = n_arch_coresw * P_2nd_stage  # simplification\n",
      "\n",
      "P_ll_coresw = P_arch_coresw  # simplification\n",
      "P_archive_unit = Matrix((0, 0, 0)) * u.W  # simplification\n",
      "P_archive_store = Matrix((0, 0, 0)) * u.W\n",
      "\n",
      "###### COMBINING IT ALL ################################\n",
      "P_sdp = P_cmp_islnds + P_network + P_buffer + P_mgmt + P_arch_coresw + P_ll_coresw + P_archive_unit + P_buffer + P_archive_store"
     ],
     "language": "python",
     "metadata": {},
     "outputs": [
      {
       "ename": "NameError",
       "evalue": "global name 'ceiling' is not defined",
       "output_type": "pyerr",
       "traceback": [
        "\u001b[1;31m---------------------------------------------------------------------------\u001b[0m\n\u001b[1;31mNameError\u001b[0m                                 Traceback (most recent call last)",
        "\u001b[1;32m<ipython-input-10-e906868cb01a>\u001b[0m in \u001b[0;36m<module>\u001b[1;34m()\u001b[0m\n\u001b[0;32m     37\u001b[0m \u001b[0mP_compute_island_overhead\u001b[0m \u001b[1;33m=\u001b[0m \u001b[1;36m3800\u001b[0m \u001b[1;33m*\u001b[0m \u001b[0mu\u001b[0m\u001b[1;33m.\u001b[0m\u001b[0mW\u001b[0m  \u001b[1;31m# per-island non-compute overheads. # simplification\u001b[0m\u001b[1;33m\u001b[0m\u001b[0m\n\u001b[0;32m     38\u001b[0m \u001b[1;33m\u001b[0m\u001b[0m\n\u001b[1;32m---> 39\u001b[1;33m \u001b[0mn_cmp_nodes\u001b[0m \u001b[1;33m=\u001b[0m \u001b[0mceiling_elementwise\u001b[0m\u001b[1;33m(\u001b[0m\u001b[0mRflops\u001b[0m \u001b[1;33m/\u001b[0m \u001b[1;33m(\u001b[0m\u001b[0mflops_per_gpu\u001b[0m \u001b[1;33m*\u001b[0m \u001b[0mgpus_per_node\u001b[0m \u001b[1;33m*\u001b[0m \u001b[0mcompute_efficiency\u001b[0m\u001b[1;33m)\u001b[0m\u001b[1;33m)\u001b[0m\u001b[1;33m\u001b[0m\u001b[0m\n\u001b[0m\u001b[0;32m     40\u001b[0m \u001b[0mn_cmp_islands\u001b[0m \u001b[1;33m=\u001b[0m \u001b[0mceiling_elementwise\u001b[0m\u001b[1;33m(\u001b[0m\u001b[0mn_cmp_nodes\u001b[0m \u001b[1;33m/\u001b[0m \u001b[0mn_nodes_per_compute_island\u001b[0m\u001b[1;33m)\u001b[0m\u001b[1;33m\u001b[0m\u001b[0m\n\u001b[0;32m     41\u001b[0m \u001b[1;33m\u001b[0m\u001b[0m\n",
        "\u001b[1;32mW:\\SKA\\Parametric Models\\sdp-par-model\\iPython\\env_setup.pyc\u001b[0m in \u001b[0;36mceiling_elementwise\u001b[1;34m(A)\u001b[0m\n\u001b[0;32m     44\u001b[0m     \u001b[1;32mfor\u001b[0m \u001b[0mi\u001b[0m \u001b[1;32min\u001b[0m \u001b[0mrange\u001b[0m\u001b[1;33m(\u001b[0m\u001b[0mm\u001b[0m\u001b[1;33m)\u001b[0m\u001b[1;33m:\u001b[0m\u001b[1;33m\u001b[0m\u001b[0m\n\u001b[0;32m     45\u001b[0m         \u001b[1;32mfor\u001b[0m \u001b[0mj\u001b[0m \u001b[1;32min\u001b[0m \u001b[0mrange\u001b[0m\u001b[1;33m(\u001b[0m\u001b[0mn\u001b[0m\u001b[1;33m)\u001b[0m\u001b[1;33m:\u001b[0m\u001b[1;33m\u001b[0m\u001b[0m\n\u001b[1;32m---> 46\u001b[1;33m             \u001b[0mB\u001b[0m\u001b[1;33m[\u001b[0m\u001b[0mi\u001b[0m\u001b[1;33m,\u001b[0m\u001b[0mj\u001b[0m\u001b[1;33m]\u001b[0m \u001b[1;33m=\u001b[0m \u001b[0mceiling\u001b[0m\u001b[1;33m(\u001b[0m\u001b[0mA\u001b[0m\u001b[1;33m[\u001b[0m\u001b[0mi\u001b[0m\u001b[1;33m,\u001b[0m\u001b[0mj\u001b[0m\u001b[1;33m]\u001b[0m\u001b[1;33m)\u001b[0m\u001b[1;33m\u001b[0m\u001b[0m\n\u001b[0m\u001b[0;32m     47\u001b[0m     \u001b[1;32mreturn\u001b[0m \u001b[0mB\u001b[0m\u001b[1;33m\u001b[0m\u001b[0m\n\u001b[0;32m     48\u001b[0m \u001b[1;33m\u001b[0m\u001b[0m\n",
        "\u001b[1;31mNameError\u001b[0m: global name 'ceiling' is not defined"
       ]
      }
     ],
     "prompt_number": 10
    },
    {
     "cell_type": "code",
     "collapsed": false,
     "input": [
      "P_sdp_eval = lambdify((Rflop_low, Rflop_mid, Rflop_sur, Mbuf_low, Mbuf_mid, Mbuf_sur), remove_units(P_sdp),modules=\"sympy\")\n",
      "P_netw_eval = lambdify((Rflop_low, Rflop_mid, Rflop_sur, Mbuf_low, Mbuf_mid, Mbuf_sur), remove_units(n_cmp_islands),modules=\"sympy\")\n",
      "\n",
      "rfl = np.array((26, 81, 56)) * 1e15\n",
      "mbf = np.array((493, 249, 300)) * 1e15\n",
      "\n",
      "print 'The SDP uses the following amounts of MegaWatt for Low, Mid and Survey:' \n",
      "P_sdp_eval(rfl[0],rfl[1],rfl[2],mbf[0],mbf[1],mbf[2])/1e6"
     ],
     "language": "python",
     "metadata": {},
     "outputs": [
      {
       "output_type": "stream",
       "stream": "stdout",
       "text": [
        "The SDP uses the following amounts of MegaWatt for Low, Mid and Survey:\n"
       ]
      },
      {
       "latex": [
        "$$\\left[\\begin{matrix}3.1581\\\\7.75744\\\\5.6512\\end{matrix}\\right]$$"
       ],
       "metadata": {},
       "output_type": "pyout",
       "png": "[encoded data removed]",
       "prompt_number": 15,
       "text": [
        "\u23a13.1581 \u23a4\n",
        "\u23a2       \u23a5\n",
        "\u23a27.75744\u23a5\n",
        "\u23a2       \u23a5\n",
        "\u23a35.6512 \u23a6"
       ]
      }
     ],
     "prompt_number": 15
    },
    {
     "cell_type": "heading",
     "level": 1,
     "metadata": {},
     "source": [
      "Optimize the SDP to meet power constraints"
     ]
    },
    {
     "cell_type": "code",
     "collapsed": false,
     "input": [
      "# The power contraints for [Low, Mid, Survey], in Watts, are:\n",
      "\n",
      "power_limit_bestcase = [1.5e6  * u.W, 5e6 * u.W, 4e6 * u.W]\n",
      "power_limit_likely   = [0.75e6 * u.W, 2.5e6 * u.W, 2e6 * u.W]"
     ],
     "language": "python",
     "metadata": {},
     "outputs": [],
     "prompt_number": 16
    },
    {
     "cell_type": "code",
     "collapsed": false,
     "input": [
      "expr_eval = lambdify((Rflop_mid, Mbuf_mid), remove_units(expression_to_minimise),modules=\"sympy\")  # Define Lambda expression in two variables\n",
      "expr_eval_float = lambda x: float(expr_eval(x, mbf[1]))  # Define Power of MID as a function of one free variable: Rflop_mid"
     ],
     "language": "python",
     "metadata": {},
     "outputs": [],
     "prompt_number": 18
    },
    {
     "cell_type": "code",
     "collapsed": false,
     "input": [
      "# We now minimize the desired expression (which equals absolute deviation from our target power Wattage) by varying the free \n",
      "# parameter - which in this case is Rflop_mid\n",
      "result = opt.minimize_scalar(expr_eval_float, bounds=(0, rfl[1]), method='bounded')\n",
      "print result"
     ],
     "language": "python",
     "metadata": {},
     "outputs": [
      {
       "output_type": "stream",
       "stream": "stdout",
       "text": [
        "  status: 0\n",
        "    nfev: 31\n",
        " success: True\n",
        "     fun: 220.0\n",
        "       x: 21536007489075944.0\n",
        " message: 'Solution found.'\n"
       ]
      }
     ],
     "prompt_number": 19
    },
    {
     "cell_type": "raw",
     "metadata": {},
     "source": [
      "In this case the target value was not exactly reached (maybe impossible?), but the residual error is only 220 Watts, achieved by\n",
      "setting Rflop_mid to the value of x displayed above.\n",
      "We can verify this (look at the middle value, when substituting Rflop_mid with result.x)"
     ]
    },
    {
     "cell_type": "code",
     "collapsed": false,
     "input": [
      "P_sdp_eval(rfl[0],result.x,rfl[2],mbf[0],mbf[1],mbf[2])/1e6"
     ],
     "language": "python",
     "metadata": {},
     "outputs": [
      {
       "latex": [
        "$$\\left[\\begin{matrix}3.1581\\\\2.50022\\\\5.6512\\end{matrix}\\right]$$"
       ],
       "metadata": {},
       "output_type": "pyout",
       "png": "[encoded data removed]",
       "prompt_number": 20,
       "text": [
        "\u23a13.1581 \u23a4\n",
        "\u23a2       \u23a5\n",
        "\u23a22.50022\u23a5\n",
        "\u23a2       \u23a5\n",
        "\u23a35.6512 \u23a6"
       ]
      }
     ],
     "prompt_number": 20
    },
    {
     "cell_type": "raw",
     "metadata": {},
     "source": [
      "Now that we know the desired FLOP count, the trick will be to scale the telescope appropriately to achieve that FLOP value. One could use a similar approach as above, and compute the maximum baseline length (keeping all parameters the same)"
     ]
    },
    {
     "cell_type": "code",
     "collapsed": false,
     "input": [
      "Rflop_target = result.x\n",
      "print 'FLOP target (in this example) for Mid = %g' % Rflop_target\n",
      "chosen_band = 'Mid1'\n",
      "chosen_mode = 'Spectral'\n",
      "result_flops = calc_tel(band=chosen_band, mode=chosen_mode, expr=Rflop)\n",
      "print 'Using the maximum baseline specs, band %s (%s) requires %g FLOPS.' % (chosen_band, chosen_mode, result_flops[chosen_mode])"
     ],
     "language": "python",
     "metadata": {},
     "outputs": [
      {
       "output_type": "stream",
       "stream": "stdout",
       "text": [
        "FLOP target (in this example) for Mid = 2.1536e+16\n",
        "Using the maximum baseline specs, band Mid1 (Spectral) requires 3.58475e+16 FLOPS."
       ]
      },
      {
       "output_type": "stream",
       "stream": "stdout",
       "text": [
        "\n"
       ]
      }
     ],
     "prompt_number": 21
    },
    {
     "cell_type": "code",
     "collapsed": false,
     "input": [
      "# Get the default parameters for this telescope\n",
      "telescope_params = calc_tel_params(chosen_band, chosen_mode)\n",
      "# Compute the optimal value for Tsnap to match these default parameters\n",
      "Tsnap_opt = optimize_Tsnap(telescope_params)\n",
      "print 'Tsnap has been computed to be, optimally, %s' % str(Tsnap_opt)\n",
      "\n",
      "# We now make Bmax a free (undefined) parameter, and fix Tsnap\n",
      "telescope_params.pop(Bmax)\n",
      "telescope_params[Tsnap] = Tsnap_opt\n",
      "\n",
      "# And from here on we do the same optimization Spiel as before\n",
      "expression_to_minimise = abs(Rflop - Rflop_target).subs(telescope_params).subs(telescope_params)\n",
      "expr_eval = lambdify(Bmax, remove_units(expression_to_minimise),modules=\"sympy\")  # Define Lambda expression in one variable\n",
      "expr_eval_float = lambda x: float(expr_eval(x))  # Define deviation of RFlop from the set target as a function of one free variable: Bmax\n",
      "# We now minimize the desired expression (which equals absolute deviation from our target FLOP rate) by varying the free \n",
      "# parameter - which in this case is Bmax\n",
      "result = opt.minimize_scalar(expr_eval_float, bounds=(0, remove_units(telescope_params[Bmax_ref])), method='bounded')\n",
      "print result"
     ],
     "language": "python",
     "metadata": {},
     "outputs": [
      {
       "output_type": "stream",
       "stream": "stdout",
       "text": [
        "Tsnap has been computed to be, optimally, 257.260596252280\n",
        "  status: 0\n",
        "    nfev: 28\n",
        " success: True\n",
        "     fun: 6373488.577499871\n",
        "       x: 157239.207710068\n",
        " message: 'Solution found.'"
       ]
      },
      {
       "output_type": "stream",
       "stream": "stdout",
       "text": [
        "\n"
       ]
      }
     ],
     "prompt_number": 22
    },
    {
     "cell_type": "raw",
     "metadata": {},
     "source": [
      "Voila - there we have it. A baseline of ~ 157.2 km will give us the desired FLOP rate that will result in a power consumption of 2.5 MW"
     ]
    },
    {
     "cell_type": "heading",
     "level": 2,
     "metadata": {},
     "source": [
      "Let's plot the FLOP values"
     ]
    },
    {
     "cell_type": "code",
     "collapsed": false,
     "input": [
      "import matplotlib.pyplot as plt\n",
      "%matplotlib inline\n",
      "\n",
      "import matplotlib.pylab as pylab\n",
      "pylab.rcParams['figure.figsize'] = 8, 6  # that's default image size for this interactive session\n",
      "\n",
      "t = results_per_tel.keys()\n",
      "t.reverse()\n",
      "for tel in t:\n",
      "    values = results_per_tel[tel]\n",
      "\n",
      "    # The slices will be ordered and plotted counter-clockwise.\n",
      "    labels = '(de)Gridding', '(i)FFT', '(Re)Projection', 'Convolution'\n",
      "    sizes = [values['Rflop_grid'], values['Rflop_fft'], values['Rflop_proj'], values['Rflop_conv']]\n",
      "    colors = ['yellowgreen', 'gold', 'lightskyblue', 'lightcoral']\n",
      "    explode = (0.05, 0.05, 0.05, 0.05) # Radial offset of the slices\n",
      "\n",
      "    plt.pie(sizes, explode=explode, labels=labels, colors=colors,\n",
      "            autopct='%1.1f%%', shadow=True, startangle=90)\n",
      "    # Set aspect ratio to be equal so that pie is drawn as a circle.\n",
      "    plt.axis('equal')\n",
      "    plt.title('%s\\n' % tel)\n",
      "\n",
      "    plt.show()\n",
      "    \n",
      "results_per_param = {}\n",
      "for tel in t:\n",
      "    for param in results_per_tel[tel]:\n",
      "        if not param in results_per_param:\n",
      "            results_per_param[param] = []\n",
      "        results_per_param[param].append(results_per_tel[tel][param])\n",
      "\n",
      "#print results_per_param\n",
      "ind = np.arange(3)\n",
      "\n",
      "p = 'Rflop_grid'\n",
      "res_grid = (results_per_tel[t[0]][p], results_per_tel[t[1]][p], results_per_tel[t[2]][p])\n",
      "p = 'Rflop_fft'\n",
      "res_fft = (results_per_tel[t[0]][p], results_per_tel[t[1]][p], results_per_tel[t[2]][p])\n",
      "p = 'Rflop_proj'\n",
      "res_proj = (results_per_tel[t[0]][p], results_per_tel[t[1]][p], results_per_tel[t[2]][p])\n",
      "p = 'Rflop_conv'\n",
      "res_conv = (results_per_tel[t[0]][p], results_per_tel[t[1]][p], results_per_tel[t[2]][p])\n",
      "\n",
      "#Plot a stacked bar chart\n",
      "width = 0.35\n",
      "val = np.array(res_grid)\n",
      "p1 = plt.bar(ind, val, width, color=colors[0])\n",
      "bottoms = val\n",
      "val = np.array(res_fft)\n",
      "p2 = plt.bar(ind, val, width, color=colors[1],\n",
      "             bottom=bottoms)\n",
      "bottoms += val\n",
      "val = np.array(res_proj)\n",
      "p3 = plt.bar(ind, val, width, color=colors[2],\n",
      "             bottom=bottoms)\n",
      "bottoms += val\n",
      "val = np.array(res_conv)\n",
      "p4 = plt.bar(ind, val, width, color=colors[3],\n",
      "             bottom=bottoms)\n",
      "\n",
      "plt.xticks(ind+width/2., t )\n",
      "plt.title('PetaFLOPS')\n",
      "plt.legend(labels, loc=2) # legend upper-left"
     ],
     "language": "python",
     "metadata": {},
     "outputs": [
      {
       "ename": "TypeError",
       "evalue": "'float' object has no attribute '__getitem__'",
       "output_type": "pyerr",
       "traceback": [
        "\u001b[1;31m---------------------------------------------------------------------------\u001b[0m\n\u001b[1;31mTypeError\u001b[0m                                 Traceback (most recent call last)",
        "\u001b[1;32m<ipython-input-14-73bc11d9b9f5>\u001b[0m in \u001b[0;36m<module>\u001b[1;34m()\u001b[0m\n\u001b[0;32m     12\u001b[0m     \u001b[1;31m# The slices will be ordered and plotted counter-clockwise.\u001b[0m\u001b[1;33m\u001b[0m\u001b[1;33m\u001b[0m\u001b[0m\n\u001b[0;32m     13\u001b[0m     \u001b[0mlabels\u001b[0m \u001b[1;33m=\u001b[0m \u001b[1;34m'(de)Gridding'\u001b[0m\u001b[1;33m,\u001b[0m \u001b[1;34m'(i)FFT'\u001b[0m\u001b[1;33m,\u001b[0m \u001b[1;34m'(Re)Projection'\u001b[0m\u001b[1;33m,\u001b[0m \u001b[1;34m'Convolution'\u001b[0m\u001b[1;33m\u001b[0m\u001b[0m\n\u001b[1;32m---> 14\u001b[1;33m     \u001b[0msizes\u001b[0m \u001b[1;33m=\u001b[0m \u001b[1;33m[\u001b[0m\u001b[0mvalues\u001b[0m\u001b[1;33m[\u001b[0m\u001b[1;34m'Rflop_grid'\u001b[0m\u001b[1;33m]\u001b[0m\u001b[1;33m,\u001b[0m \u001b[0mvalues\u001b[0m\u001b[1;33m[\u001b[0m\u001b[1;34m'Rflop_fft'\u001b[0m\u001b[1;33m]\u001b[0m\u001b[1;33m,\u001b[0m \u001b[0mvalues\u001b[0m\u001b[1;33m[\u001b[0m\u001b[1;34m'Rflop_proj'\u001b[0m\u001b[1;33m]\u001b[0m\u001b[1;33m,\u001b[0m \u001b[0mvalues\u001b[0m\u001b[1;33m[\u001b[0m\u001b[1;34m'Rflop_conv'\u001b[0m\u001b[1;33m]\u001b[0m\u001b[1;33m]\u001b[0m\u001b[1;33m\u001b[0m\u001b[0m\n\u001b[0m\u001b[0;32m     15\u001b[0m     \u001b[0mcolors\u001b[0m \u001b[1;33m=\u001b[0m \u001b[1;33m[\u001b[0m\u001b[1;34m'yellowgreen'\u001b[0m\u001b[1;33m,\u001b[0m \u001b[1;34m'gold'\u001b[0m\u001b[1;33m,\u001b[0m \u001b[1;34m'lightskyblue'\u001b[0m\u001b[1;33m,\u001b[0m \u001b[1;34m'lightcoral'\u001b[0m\u001b[1;33m]\u001b[0m\u001b[1;33m\u001b[0m\u001b[0m\n\u001b[0;32m     16\u001b[0m     \u001b[0mexplode\u001b[0m \u001b[1;33m=\u001b[0m \u001b[1;33m(\u001b[0m\u001b[1;36m0.05\u001b[0m\u001b[1;33m,\u001b[0m \u001b[1;36m0.05\u001b[0m\u001b[1;33m,\u001b[0m \u001b[1;36m0.05\u001b[0m\u001b[1;33m,\u001b[0m \u001b[1;36m0.05\u001b[0m\u001b[1;33m)\u001b[0m \u001b[1;31m# Radial offset of the slices\u001b[0m\u001b[1;33m\u001b[0m\u001b[0m\n",
        "\u001b[1;31mTypeError\u001b[0m: 'float' object has no attribute '__getitem__'"
       ]
      }
     ],
     "prompt_number": 14
    },
    {
     "cell_type": "code",
     "collapsed": false,
     "input": [],
     "language": "python",
     "metadata": {},
     "outputs": []
    }
   ],
   "metadata": {}
  }
 ]
}