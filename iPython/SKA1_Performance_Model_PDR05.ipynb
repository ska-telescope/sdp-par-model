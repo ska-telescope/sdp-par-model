{
 "metadata": {
  "name": "",
  "signature": "sha256:402cc0a9f4321a05c86496f23bcc7fa5de20a6cce250d96f5925775e7e9a9921"
 },
 "nbformat": 3,
 "nbformat_minor": 0,
 "worksheets": [
  {
   "cells": [
    {
     "cell_type": "markdown",
     "metadata": {},
     "source": [
      "_This notebook started out as a direct iPython translation of the **M7 PDR05 Excel Spreadsheet**, implemented in a similar way as originally done by **Juande Santander-Vela** in his separate analysis of the M7 Milestone PDR05 (MS Word) document._\n",
      "\n",
      "_This is an interactive document. **sympy** and **astropy** are required to evaluate some of the blocks of code. While overlapping in scope with \"Full Computational Requirements for SDP.ipynb\" and \"Parametric Models of SDP Compute Requirements.ipynb\", this document was independently derived._ \n",
      "\n",
      "_Equations may be evaluated for the different telescopes and imaging modes, either numerically or symbolically_ \n",
      "\n",
      "_The owner of this notebook document is **Francois Malan** of Space Advisory Company._"
     ]
    },
    {
     "cell_type": "heading",
     "level": 1,
     "metadata": {},
     "source": [
      "1. Definitions:"
     ]
    },
    {
     "cell_type": "markdown",
     "metadata": {},
     "source": [
      "_If any of these values need to be changed, this should be done in the \"Implementation\" section lower down. The display-formatted text in this \"Definitions\" section is (as you may have guessed) just for display purposes._ "
     ]
    },
    {
     "cell_type": "markdown",
     "metadata": {},
     "source": [
      "**Output Parameters we are interested in:**\n",
      "\n",
      "|**Symbol**|**Python**|**Description**|\n",
      "|-|-|-|\n",
      "| $R_{FLOP}$ | Rflop | Overall flop rate |\n",
      "| $M_{buf,vis}$ | Mbuf_vis | Buffer size (bytes) |\n",
      "| $R_{IO}$ | Rio | Overall I/O rate, (bytes/s) |\n",
      "| $G_{corr}$ | Gcorr | Minimum correlator output data rate, after baseline dependent averaging (bytes/s) |\n",
      "\n",
      "** Physical constants **\n",
      "\n",
      "|**Symbol**|**Python**|**Value**|**Description**|\n",
      "|-|-|-|-|\n",
      "| $c$ | u.c | $2.99792458 \\times 10^8$ (m/s) | Speed of light in a vacuum |\n",
      "| $\\Omega_E$ | Omega_E | $7.292115 \\times 10^{-5}$ (rad/s) | Angular rotational velocity of the Earth relative to the fixed stars |\n",
      "| $R_{Earth}$ | R_Earth | $6.378136 \\times 10^6$ (m) | Radius of the Earth |\n",
      "\n",
      "**Global parameters - used for all telescopes**\n",
      "\n",
      "*May need global tweaking*\n",
      "\n",
      "|**Symbol**|**Python**|**Value**|**Description**|\n",
      "|-|-|-|-|\n",
      "| $N_{kernel}$ | Naa | 9 | Linear size of the combined $A$ and $W$ kernels (pixels). This size is at the low end of the range 9-15 given by [RD11] in Section 4.4.2 of their paper. |\n",
      "| $N_{mm}$ | Nmm | 4| |\n",
      "| $N_{pp}$ | Npp | 4| Number of polarisation products that are processed |\n",
      "| $N_{w}$ | Nw | 2| Bytes per value |\n",
      "| $T_{ion}$ | T_ion | 60 | Ionospheric timescale |\n",
      "| $\\epsilon_{w}$ | epsilon_w | 0.01 | Amplitude level of w-kernels to include. Value 0.01 is used in [RD6] where it is shown to give kernel sizes in rough agreement with CASA package.|\n",
      "|$M_{vis}$| Mvis | 12 | Size of visibility datum in the buffer |\n",
      "|$W_{curve}$|Wcurve||Minimum deviation of the W coordinate due to Earth\u2019s curvature|\n",
      "|$Q_{bw}$|Qbw|1 |Bandwidth quality factor, determining how well bandwidth smearing can be controlled|\n",
      "|$Q_{w}$|Qw|1 | Quality factor for w-projection correction. Value 1 corresponds to correction of maximal w values.  For comparison [RD7] uses values 0.1\u20140.3 |\n",
      "|$Q_{GCF}$|Qgcf|8|Oversampling factor of w-convolution kernels|\n",
      "|$Q_{fcw}$|Qfcw|10|Number of adjacent frequency channels for which baseline dependent kernels can be reused|\n",
      "\n",
      "** Telescope-dependent parameters **\n",
      "\n",
      "*Subject to change*\n",
      "\n",
      "|***Telescope parameters***\n",
      "|-|-|-|-|-|-|\n",
      "| | Symbol | Python | SKA1-Low | SKA1-Mid | SKA1-Survey |\n",
      "| Originally specified maximum baseline according to SKAO (km)     | $B_{max,ref}$|Bmax_ref| $100$|$200$|$50$|\n",
      "| Actually implemented maximum baseline chosen for calculations (km) | $B_{max}$|Bmax| $100$|$120$|$50$|\n",
      "| Antenna/Station Diameter (m)                                   |$D_{s}$|Ds|$35$|$15$|$15$|\n",
      "| Fraction of baselines short enough for data to be averaged to frequency resolution of output prior to gridding. (Only relevant for continuum modes) | $F_{b,short}$ | Fb_short | $0.5$ | $0.5$ | $0.1$ |\n",
      "| Minimum frequency (of the chosen band) | $f_{min}$ | freq_min | 50 Mhz | depends on band | depends on band |\n",
      "| Maximum frequency (of the chosen band) | $f_{max}$ | freq_max | 350 Mhz | depends on band | depends on band |\n",
      "| Originally specified number of frequency channels from corellator    |$N_{f,max}$||$256000$|$256000$|$256000$|\n",
      "| Number of frequency channels from corellator                   |$N_{f,max}$|Nf_max|$64000$|$96000$|$64000$|\n",
      "| Number of stations/antennas                                    |$N_{a}$|Na|$1024$|$256$|$96$|\n",
      "| Number of beams                                                |$N_{beam}$|Nbeam|$1$|$1$|$36$|\n",
      "| *Baseline length distribution-dependent value (ask Rosie) -- obsolete* | $Q_{w2}$ | Qw2 | $0.0458053$ | $0.0278115$ | $0.0569392$ |\n",
      "| *Baseline length distribution-dependent value (ask Rosie) -- obsolete* | $Q_{w32}$ | Qw32 | $0.0750938$ | $0.0462109$ | $0.0929806$  \n",
      "| Correlator dump time appropriate for $B_{max,ref}$ (seconds) |$T_{dump,ref}$|Tdump_ref|$0.6$|$0.08$|$0.3$|\n",
      "\n",
      "** Spectral vs Continuum vs Fast Imaging (i.e. slow transients) **\n",
      "\n",
      "*This is the same for all telescopes and bands*, but may be overwritten by HPSOs\n",
      "\n",
      "|***Imaging-mode telescope parameters***\n",
      "|-|-|-|-|-|-|\n",
      "| | Symbol | Python | Continuum | Spectral | SlowTrans |\n",
      "| Baseline length that (Fbshort+Fbmid), i.e. 90% of baselines are shorter than | $B_{lim,mid}$ | Blim_mid | $20000$ | n/a | $20000$\n",
      "| Field of view factor | $Q_{FoV}$| Qfov | $1.8$ | $1$ | $0.9$ |\n",
      "| Number of output map channels | $N_{f, out}$ | Nf_out | $500$ | *computed* | $500$ |\n",
      "| Number of channels for gridding at longest baseline | $N_{f, used}$ | Nf_used | *computed* | *computed* | *computed*|\n",
      "| Number of major CLEAN cycles to be done | $N_{major}$ | Nmajor | $10$ | $1$ | $1$ |\n",
      "| Quality factor defining the oversampling of synthesised beam | $Q_{pix}$ | Qpix | $2.5$ | $2.5$ | $1.5$|\n",
      "| Observation length |$T_{obs}$ | Tobs  | $6\\ {\\rm h}$  | $6\\ {\\rm h}$ | $1.2\\ {\\rm sec}$  |\n",
      "| Snapshot timescale implemented (sec) | $T_{snap}$ | Tsnap | *optimized* | *optimized* | *optimized* |\n",
      "| Minimum Snapshot timescale - equals $T_{obs}$ for slow transients | $T_{snap, min}$ | Tsnap_min | $1.2\\ {\\rm sec}$ | $1.2\\ {\\rm sec}$ | $1.2\\ {\\rm sec}$"
     ]
    },
    {
     "cell_type": "heading",
     "level": 1,
     "metadata": {},
     "source": [
      "2. Implementation (refer to accompanying Python source files):"
     ]
    },
    {
     "cell_type": "code",
     "collapsed": false,
     "input": [
      "'''\n",
      "The following command imports implementation.py, that in turn imports all the other code fragments, methods and/or modules that\n",
      "are required to run all the code. Please refer to the following python files for implementation details (omitted here for readability)\n",
      "* env_setup.py -- code for setting up the python environment\n",
      "* definitions_derivations.py -- contains definitions of variables and derived telescope parameters \n",
      "* telescope_parameters.py -- contains numerical values for telescope-specific parameters\n",
      "* implementation.py -- contains code for performing evaluations\n",
      "'''\n",
      "from implementation import *"
     ],
     "language": "python",
     "metadata": {},
     "outputs": [
      {
       "output_type": "stream",
       "stream": "stdout",
       "text": [
        "IPython console for SymPy 0.7.6 (Python 2.7.7-32-bit) (ground types: python)\n"
       ]
      }
     ],
     "prompt_number": 1
    },
    {
     "cell_type": "heading",
     "level": 1,
     "metadata": {},
     "source": [
      "3. Results:"
     ]
    },
    {
     "cell_type": "heading",
     "level": 2,
     "metadata": {},
     "source": [
      "For a specific telescope & mode, with binned baselines:"
     ]
    },
    {
     "cell_type": "code",
     "collapsed": false,
     "input": [
      "chosen_band = 'Low'\n",
      "chosen_mode = 'Spectral'\n",
      "number_nfacets = 10\n",
      "Nfacet_values = range(1,number_nfacets+1)\n",
      "flop_results = np.zeros(number_nfacets)\n",
      "for i in range(number_nfacets):  # Loop over the different integer values of NFacet (typically 1..10)\n",
      "    nfacets = Nfacet_values[i]\n",
      "    print 'Evaluating Nfacets = %d' % nfacets\n",
      "    universal[Nfacet] = nfacets\n",
      "    pp = calc_tel_params(band=chosen_band, mode=chosen_mode)\n",
      "    answer = calc_tel_expression_binned(expression=Rflop, telescope_parameters=pp, mode=chosen_mode) # Compute binnes result\n",
      "    flop_results[i] = float(answer[chosen_mode])\n",
      "print 'PetaFLOPS = '\n",
      "print flop_results/1e15\n",
      "i = np.argmin(flop_results)\n",
      "print 'Lowest Flop rate was found for Nfacet = %d, resulting in a value of %f PetaFLOPS' % (i+1, flop_results[i]/1e15)"
     ],
     "language": "python",
     "metadata": {},
     "outputs": [
      {
       "output_type": "stream",
       "stream": "stdout",
       "text": [
        "Tsnap has been optimized as : 10799.999740 (for the binned case)\n",
        "Tsnap has been optimized as : 10799.999740 (for the binned case)"
       ]
      },
      {
       "output_type": "stream",
       "stream": "stdout",
       "text": [
        "\n",
        "Tsnap has been optimized as : 10799.999740 (for the binned case)"
       ]
      },
      {
       "output_type": "stream",
       "stream": "stdout",
       "text": [
        "\n",
        "Tsnap has been optimized as : 10799.999740 (for the binned case)"
       ]
      },
      {
       "output_type": "stream",
       "stream": "stdout",
       "text": [
        "\n",
        "Tsnap has been optimized as : 10799.999740 (for the binned case)"
       ]
      },
      {
       "output_type": "stream",
       "stream": "stdout",
       "text": [
        "\n",
        "Tsnap has been optimized as : 10799.999740 (for the binned case)"
       ]
      },
      {
       "output_type": "stream",
       "stream": "stdout",
       "text": [
        "\n",
        "Tsnap has been optimized as : 10799.999740 (for the binned case)"
       ]
      },
      {
       "output_type": "stream",
       "stream": "stdout",
       "text": [
        "\n",
        "Tsnap has been optimized as : 10799.999740 (for the binned case)"
       ]
      },
      {
       "output_type": "stream",
       "stream": "stdout",
       "text": [
        "\n",
        "Tsnap has been optimized as : 10799.999740 (for the binned case)"
       ]
      },
      {
       "output_type": "stream",
       "stream": "stdout",
       "text": [
        "\n",
        "Tsnap has been optimized as : 10799.999740 (for the binned case)"
       ]
      },
      {
       "output_type": "stream",
       "stream": "stdout",
       "text": [
        "\n",
        "PetaFLOPS = \n",
        "[ 0.17948706  0.13577296  0.12399862  0.11794221  0.11394419  0.11096108\n",
        "  0.1085753   0.1065823   0.10486759  0.10336077]\n",
        "Lowest Flop rate was found for Nfacet = 10, resulting in a value of 0.103361 PetaFLOPS\n"
       ]
      }
     ],
     "prompt_number": 2
    },
    {
     "cell_type": "heading",
     "level": 1,
     "metadata": {},
     "source": [
      "All lines of code below this line are from previous notebooks, and probably won't run in current form (need to be updated)"
     ]
    },
    {
     "cell_type": "heading",
     "level": 2,
     "metadata": {},
     "source": [
      "For all standard bands (this may take several minutes) -- obsolete:"
     ]
    },
    {
     "cell_type": "code",
     "collapsed": false,
     "input": [
      "expressions = {'Rflop_grid' : Rflop_grid, \n",
      "               'Rflop_conv' : Rflop_conv, \n",
      "               'Rflop_fft'  : Rflop_fft, \n",
      "               'Rflop_proj' : Rflop_proj,\n",
      "               'Mbuf_vis'   : Mbuf_vis}\n",
      "\n",
      "flops_expressions = {'Rflop_grid', 'Rflop_conv', 'Rflop_fft', 'Rflop_proj'}\n",
      "\n",
      "bands = band_info.keys()\n",
      "bands.sort()\n",
      "results = {}\n",
      "\n",
      "for band in bands:\n",
      "    tel = band_info[band]['telescope']\n",
      "    print '%s %s:' % (band, tel)\n",
      "    for imaging_mode in imaging_mode_info:\n",
      "        for expression in expressions.keys():\n",
      "            result = calc_tel(band=band, mode=imaging_mode, expr=expressions[expression])\n",
      "            results[(band, imaging_mode, expression)] = result[imaging_mode]\n",
      "            print '-> %s : %s = %.3g Peta' % (imaging_mode, expression, (result[imaging_mode])/1e15)\n",
      "        print '.'"
     ],
     "language": "python",
     "metadata": {},
     "outputs": [
      {
       "output_type": "stream",
       "stream": "stdout",
       "text": [
        "Low SKA1_Low:\n",
        "-> Spectral : Mbuf_vis = 463 Peta"
       ]
      },
      {
       "output_type": "stream",
       "stream": "stdout",
       "text": [
        "\n",
        "-> Spectral : Rflop_conv = 3.22 Peta"
       ]
      },
      {
       "output_type": "stream",
       "stream": "stdout",
       "text": [
        "\n",
        "-> Spectral : Rflop_fft = 2.94 Peta"
       ]
      },
      {
       "output_type": "stream",
       "stream": "stdout",
       "text": [
        "\n",
        "-> Spectral : Rflop_grid = 6.3 Peta"
       ]
      },
      {
       "output_type": "stream",
       "stream": "stdout",
       "text": [
        "\n",
        "-> Spectral : Rflop_proj = 1.01 Peta"
       ]
      },
      {
       "output_type": "stream",
       "stream": "stdout",
       "text": [
        "\n",
        ".\n",
        "-> SlowTrans : Mbuf_vis = 0.000229 Peta"
       ]
      },
      {
       "output_type": "stream",
       "stream": "stdout",
       "text": [
        "\n",
        "-> SlowTrans : Rflop_conv = 0.0938 Peta"
       ]
      },
      {
       "output_type": "stream",
       "stream": "stdout",
       "text": [
        "\n",
        "-> SlowTrans : Rflop_fft = 0.0714 Peta"
       ]
      },
      {
       "output_type": "stream",
       "stream": "stdout",
       "text": [
        "\n",
        "-> SlowTrans : Rflop_grid = 0.0518 Peta"
       ]
      },
      {
       "output_type": "stream",
       "stream": "stdout",
       "text": [
        "\n",
        "-> SlowTrans : Rflop_proj = 0 Peta"
       ]
      },
      {
       "output_type": "stream",
       "stream": "stdout",
       "text": [
        "\n",
        ".\n",
        "-> Continuum : Mbuf_vis = 5.89 Peta"
       ]
      },
      {
       "output_type": "stream",
       "stream": "stdout",
       "text": [
        "\n",
        "-> Continuum : Rflop_conv = 1.02 Peta"
       ]
      },
      {
       "output_type": "stream",
       "stream": "stdout",
       "text": [
        "\n",
        "-> Continuum : Rflop_fft = 0.2 Peta"
       ]
      },
      {
       "output_type": "stream",
       "stream": "stdout",
       "text": [
        "\n",
        "-> Continuum : Rflop_grid = 1.82 Peta"
       ]
      },
      {
       "output_type": "stream",
       "stream": "stdout",
       "text": [
        "\n",
        "-> Continuum : Rflop_proj = 0.065 Peta"
       ]
      },
      {
       "output_type": "stream",
       "stream": "stdout",
       "text": [
        "\n",
        ".\n",
        "Mid1 SKA1_Mid:\n",
        "-> Spectral : Mbuf_vis = 213 Peta"
       ]
      },
      {
       "output_type": "stream",
       "stream": "stdout",
       "text": [
        "\n",
        "-> Spectral : Rflop_conv = 1.16 Peta"
       ]
      },
      {
       "output_type": "stream",
       "stream": "stdout",
       "text": [
        "\n",
        "-> Spectral : Rflop_fft = 15.6 Peta"
       ]
      },
      {
       "output_type": "stream",
       "stream": "stdout",
       "text": [
        "\n",
        "-> Spectral : Rflop_grid = 14.4 Peta"
       ]
      },
      {
       "output_type": "stream",
       "stream": "stdout",
       "text": [
        "\n",
        "-> Spectral : Rflop_proj = 4.67 Peta"
       ]
      },
      {
       "output_type": "stream",
       "stream": "stdout",
       "text": [
        "\n",
        ".\n",
        "-> SlowTrans : Mbuf_vis = 0.000188 Peta"
       ]
      },
      {
       "output_type": "stream",
       "stream": "stdout",
       "text": [
        "\n",
        "-> SlowTrans : Rflop_conv = 0.0269 Peta"
       ]
      },
      {
       "output_type": "stream",
       "stream": "stdout",
       "text": [
        "\n",
        "-> SlowTrans : Rflop_fft = 1.81 Peta"
       ]
      },
      {
       "output_type": "stream",
       "stream": "stdout",
       "text": [
        "\n",
        "-> SlowTrans : Rflop_grid = 0.0715 Peta"
       ]
      },
      {
       "output_type": "stream",
       "stream": "stdout",
       "text": [
        "\n",
        "-> SlowTrans : Rflop_proj = 0 Peta"
       ]
      },
      {
       "output_type": "stream",
       "stream": "stdout",
       "text": [
        "\n",
        ".\n",
        "-> Continuum : Mbuf_vis = 3.57 Peta"
       ]
      },
      {
       "output_type": "stream",
       "stream": "stdout",
       "text": [
        "\n",
        "-> Continuum : Rflop_conv = 0.302 Peta"
       ]
      },
      {
       "output_type": "stream",
       "stream": "stdout",
       "text": [
        "\n",
        "-> Continuum : Rflop_fft = 2.49 Peta"
       ]
      },
      {
       "output_type": "stream",
       "stream": "stdout",
       "text": [
        "\n",
        "-> Continuum : Rflop_grid = 3.61 Peta"
       ]
      },
      {
       "output_type": "stream",
       "stream": "stdout",
       "text": [
        "\n",
        "-> Continuum : Rflop_proj = 0.708 Peta"
       ]
      },
      {
       "output_type": "stream",
       "stream": "stdout",
       "text": [
        "\n",
        ".\n",
        "Mid2 SKA1_Mid:\n",
        "-> Spectral : Mbuf_vis = 213 Peta"
       ]
      },
      {
       "output_type": "stream",
       "stream": "stdout",
       "text": [
        "\n",
        "-> Spectral : Rflop_conv = 0.732 Peta"
       ]
      },
      {
       "output_type": "stream",
       "stream": "stdout",
       "text": [
        "\n",
        "-> Spectral : Rflop_fft = 9.31 Peta"
       ]
      },
      {
       "output_type": "stream",
       "stream": "stdout",
       "text": [
        "\n",
        "-> Spectral : Rflop_grid = 9.47 Peta"
       ]
      },
      {
       "output_type": "stream",
       "stream": "stdout",
       "text": [
        "\n",
        "-> Spectral : Rflop_proj = 2.78 Peta"
       ]
      },
      {
       "output_type": "stream",
       "stream": "stdout",
       "text": [
        "\n",
        ".\n",
        "-> SlowTrans : Mbuf_vis = 0.000106 Peta"
       ]
      },
      {
       "output_type": "stream",
       "stream": "stdout",
       "text": [
        "\n",
        "-> SlowTrans : Rflop_conv = 0.00891 Peta"
       ]
      },
      {
       "output_type": "stream",
       "stream": "stdout",
       "text": [
        "\n",
        "-> SlowTrans : Rflop_fft = 1.81 Peta"
       ]
      },
      {
       "output_type": "stream",
       "stream": "stdout",
       "text": [
        "\n",
        "-> SlowTrans : Rflop_grid = 0.025 Peta"
       ]
      },
      {
       "output_type": "stream",
       "stream": "stdout",
       "text": [
        "\n",
        "-> SlowTrans : Rflop_proj = 0 Peta"
       ]
      },
      {
       "output_type": "stream",
       "stream": "stdout",
       "text": [
        "\n",
        ".\n",
        "-> Continuum : Mbuf_vis = 2.01 Peta"
       ]
      },
      {
       "output_type": "stream",
       "stream": "stdout",
       "text": [
        "\n",
        "-> Continuum : Rflop_conv = 0.107 Peta"
       ]
      },
      {
       "output_type": "stream",
       "stream": "stdout",
       "text": [
        "\n",
        "-> Continuum : Rflop_fft = 1.46 Peta"
       ]
      },
      {
       "output_type": "stream",
       "stream": "stdout",
       "text": [
        "\n",
        "-> Continuum : Rflop_grid = 1.33 Peta"
       ]
      },
      {
       "output_type": "stream",
       "stream": "stdout",
       "text": [
        "\n",
        "-> Continuum : Rflop_proj = 0.414 Peta"
       ]
      },
      {
       "output_type": "stream",
       "stream": "stdout",
       "text": [
        "\n",
        ".\n",
        "Mid3 SKA1_Mid:\n",
        "-> Spectral : Mbuf_vis = 213 Peta"
       ]
      },
      {
       "output_type": "stream",
       "stream": "stdout",
       "text": [
        "\n",
        "-> Spectral : Rflop_conv = 0.558 Peta"
       ]
      },
      {
       "output_type": "stream",
       "stream": "stdout",
       "text": [
        "\n",
        "-> Spectral : Rflop_fft = 6.67 Peta"
       ]
      },
      {
       "output_type": "stream",
       "stream": "stdout",
       "text": [
        "\n",
        "-> Spectral : Rflop_grid = 7.4 Peta"
       ]
      },
      {
       "output_type": "stream",
       "stream": "stdout",
       "text": [
        "\n",
        "-> Spectral : Rflop_proj = 1.99 Peta"
       ]
      },
      {
       "output_type": "stream",
       "stream": "stdout",
       "text": [
        "\n",
        ".\n",
        "-> SlowTrans : Mbuf_vis = 0.000105 Peta"
       ]
      },
      {
       "output_type": "stream",
       "stream": "stdout",
       "text": [
        "\n",
        "-> SlowTrans : Rflop_conv = 0.00755 Peta"
       ]
      },
      {
       "output_type": "stream",
       "stream": "stdout",
       "text": [
        "\n",
        "-> SlowTrans : Rflop_fft = 1.81 Peta"
       ]
      },
      {
       "output_type": "stream",
       "stream": "stdout",
       "text": [
        "\n",
        "-> SlowTrans : Rflop_grid = 0.0215 Peta"
       ]
      },
      {
       "output_type": "stream",
       "stream": "stdout",
       "text": [
        "\n",
        "-> SlowTrans : Rflop_proj = 0 Peta"
       ]
      },
      {
       "output_type": "stream",
       "stream": "stdout",
       "text": [
        "\n",
        ".\n",
        "-> Continuum : Mbuf_vis = 2 Peta"
       ]
      },
      {
       "output_type": "stream",
       "stream": "stdout",
       "text": [
        "\n",
        "-> Continuum : Rflop_conv = 0.0789 Peta"
       ]
      },
      {
       "output_type": "stream",
       "stream": "stdout",
       "text": [
        "\n",
        "-> Continuum : Rflop_fft = 1.04 Peta"
       ]
      },
      {
       "output_type": "stream",
       "stream": "stdout",
       "text": [
        "\n",
        "-> Continuum : Rflop_grid = 1.01 Peta"
       ]
      },
      {
       "output_type": "stream",
       "stream": "stdout",
       "text": [
        "\n",
        "-> Continuum : Rflop_proj = 0.296 Peta"
       ]
      },
      {
       "output_type": "stream",
       "stream": "stdout",
       "text": [
        "\n",
        ".\n",
        "Mid4 SKA1_Mid:\n",
        "-> Spectral : Mbuf_vis = 213 Peta"
       ]
      },
      {
       "output_type": "stream",
       "stream": "stdout",
       "text": [
        "\n",
        "-> Spectral : Rflop_conv = 0.44 Peta"
       ]
      },
      {
       "output_type": "stream",
       "stream": "stdout",
       "text": [
        "\n",
        "-> Spectral : Rflop_fft = 4.85 Peta"
       ]
      },
      {
       "output_type": "stream",
       "stream": "stdout",
       "text": [
        "\n",
        "-> Spectral : Rflop_grid = 5.97 Peta"
       ]
      },
      {
       "output_type": "stream",
       "stream": "stdout",
       "text": [
        "\n",
        "-> Spectral : Rflop_proj = 1.45 Peta"
       ]
      },
      {
       "output_type": "stream",
       "stream": "stdout",
       "text": [
        "\n",
        ".\n",
        "-> SlowTrans : Mbuf_vis = 0.000106 Peta"
       ]
      },
      {
       "output_type": "stream",
       "stream": "stdout",
       "text": [
        "\n",
        "-> SlowTrans : Rflop_conv = 0.00702 Peta"
       ]
      },
      {
       "output_type": "stream",
       "stream": "stdout",
       "text": [
        "\n",
        "-> SlowTrans : Rflop_fft = 1.81 Peta"
       ]
      },
      {
       "output_type": "stream",
       "stream": "stdout",
       "text": [
        "\n",
        "-> SlowTrans : Rflop_grid = 0.0201 Peta"
       ]
      },
      {
       "output_type": "stream",
       "stream": "stdout",
       "text": [
        "\n",
        "-> SlowTrans : Rflop_proj = 0 Peta"
       ]
      },
      {
       "output_type": "stream",
       "stream": "stdout",
       "text": [
        "\n",
        ".\n",
        "-> Continuum : Mbuf_vis = 2 Peta"
       ]
      },
      {
       "output_type": "stream",
       "stream": "stdout",
       "text": [
        "\n",
        "-> Continuum : Rflop_conv = 0.0602 Peta"
       ]
      },
      {
       "output_type": "stream",
       "stream": "stdout",
       "text": [
        "\n",
        "-> Continuum : Rflop_fft = 0.755 Peta"
       ]
      },
      {
       "output_type": "stream",
       "stream": "stdout",
       "text": [
        "\n",
        "-> Continuum : Rflop_grid = 0.789 Peta"
       ]
      },
      {
       "output_type": "stream",
       "stream": "stdout",
       "text": [
        "\n",
        "-> Continuum : Rflop_proj = 0.215 Peta"
       ]
      },
      {
       "output_type": "stream",
       "stream": "stdout",
       "text": [
        "\n",
        ".\n",
        "Mid5A SKA1_Mid:\n",
        "-> Spectral : Mbuf_vis = 213 Peta"
       ]
      },
      {
       "output_type": "stream",
       "stream": "stdout",
       "text": [
        "\n",
        "-> Spectral : Rflop_conv = 0.37 Peta"
       ]
      },
      {
       "output_type": "stream",
       "stream": "stdout",
       "text": [
        "\n",
        "-> Spectral : Rflop_fft = 3.74 Peta"
       ]
      },
      {
       "output_type": "stream",
       "stream": "stdout",
       "text": [
        "\n",
        "-> Spectral : Rflop_grid = 5.1 Peta"
       ]
      },
      {
       "output_type": "stream",
       "stream": "stdout",
       "text": [
        "\n",
        "-> Spectral : Rflop_proj = 1.12 Peta"
       ]
      },
      {
       "output_type": "stream",
       "stream": "stdout",
       "text": [
        "\n",
        ".\n",
        "-> SlowTrans : Mbuf_vis = 7.44e-05 Peta"
       ]
      },
      {
       "output_type": "stream",
       "stream": "stdout",
       "text": [
        "\n",
        "-> SlowTrans : Rflop_conv = 0.0048 Peta"
       ]
      },
      {
       "output_type": "stream",
       "stream": "stdout",
       "text": [
        "\n",
        "-> SlowTrans : Rflop_fft = 1.81 Peta"
       ]
      },
      {
       "output_type": "stream",
       "stream": "stdout",
       "text": [
        "\n",
        "-> SlowTrans : Rflop_grid = 0.0138 Peta"
       ]
      },
      {
       "output_type": "stream",
       "stream": "stdout",
       "text": [
        "\n",
        "-> SlowTrans : Rflop_proj = 0 Peta"
       ]
      },
      {
       "output_type": "stream",
       "stream": "stdout",
       "text": [
        "\n",
        ".\n",
        "-> Continuum : Mbuf_vis = 1.41 Peta"
       ]
      },
      {
       "output_type": "stream",
       "stream": "stdout",
       "text": [
        "\n",
        "-> Continuum : Rflop_conv = 0.0408 Peta"
       ]
      },
      {
       "output_type": "stream",
       "stream": "stdout",
       "text": [
        "\n",
        "-> Continuum : Rflop_fft = 0.507 Peta"
       ]
      },
      {
       "output_type": "stream",
       "stream": "stdout",
       "text": [
        "\n",
        "-> Continuum : Rflop_grid = 0.537 Peta"
       ]
      },
      {
       "output_type": "stream",
       "stream": "stdout",
       "text": [
        "\n",
        "-> Continuum : Rflop_proj = 0.144 Peta"
       ]
      },
      {
       "output_type": "stream",
       "stream": "stdout",
       "text": [
        "\n",
        ".\n",
        "Mid5B SKA1_Mid:\n",
        "-> Spectral : Mbuf_vis = 213 Peta"
       ]
      },
      {
       "output_type": "stream",
       "stream": "stdout",
       "text": [
        "\n",
        "-> Spectral : Rflop_conv = 0.28 Peta"
       ]
      },
      {
       "output_type": "stream",
       "stream": "stdout",
       "text": [
        "\n",
        "-> Spectral : Rflop_fft = 2.31 Peta"
       ]
      },
      {
       "output_type": "stream",
       "stream": "stdout",
       "text": [
        "\n",
        "-> Spectral : Rflop_grid = 3.97 Peta"
       ]
      },
      {
       "output_type": "stream",
       "stream": "stdout",
       "text": [
        "\n",
        "-> Spectral : Rflop_proj = 0.689 Peta"
       ]
      },
      {
       "output_type": "stream",
       "stream": "stdout",
       "text": [
        "\n",
        ".\n",
        "-> SlowTrans : Mbuf_vis = 3.43e-05 Peta"
       ]
      },
      {
       "output_type": "stream",
       "stream": "stdout",
       "text": [
        "\n",
        "-> SlowTrans : Rflop_conv = 0.00216 Peta"
       ]
      },
      {
       "output_type": "stream",
       "stream": "stdout",
       "text": [
        "\n",
        "-> SlowTrans : Rflop_fft = 1.81 Peta"
       ]
      },
      {
       "output_type": "stream",
       "stream": "stdout",
       "text": [
        "\n",
        "-> SlowTrans : Rflop_grid = 0.00623 Peta"
       ]
      },
      {
       "output_type": "stream",
       "stream": "stdout",
       "text": [
        "\n",
        "-> SlowTrans : Rflop_proj = 0 Peta"
       ]
      },
      {
       "output_type": "stream",
       "stream": "stdout",
       "text": [
        "\n",
        ".\n",
        "-> Continuum : Mbuf_vis = 0.649 Peta"
       ]
      },
      {
       "output_type": "stream",
       "stream": "stdout",
       "text": [
        "\n",
        "-> Continuum : Rflop_conv = 0.0186 Peta"
       ]
      },
      {
       "output_type": "stream",
       "stream": "stdout",
       "text": [
        "\n",
        "-> Continuum : Rflop_fft = 0.23 Peta"
       ]
      },
      {
       "output_type": "stream",
       "stream": "stdout",
       "text": [
        "\n",
        "-> Continuum : Rflop_grid = 0.245 Peta"
       ]
      },
      {
       "output_type": "stream",
       "stream": "stdout",
       "text": [
        "\n",
        "-> Continuum : Rflop_proj = 0.0655 Peta"
       ]
      },
      {
       "output_type": "stream",
       "stream": "stdout",
       "text": [
        "\n",
        ".\n",
        "Sur1 SKA1_Survey:\n",
        "-> Spectral : Mbuf_vis = 290 Peta"
       ]
      },
      {
       "output_type": "stream",
       "stream": "stdout",
       "text": [
        "\n",
        "-> Spectral : Rflop_conv = 4.14 Peta"
       ]
      },
      {
       "output_type": "stream",
       "stream": "stdout",
       "text": [
        "\n",
        "-> Spectral : Rflop_fft = 16.8 Peta"
       ]
      },
      {
       "output_type": "stream",
       "stream": "stdout",
       "text": [
        "\n",
        "-> Spectral : Rflop_grid = 14.2 Peta"
       ]
      },
      {
       "output_type": "stream",
       "stream": "stdout",
       "text": [
        "\n",
        "-> Spectral : Rflop_proj = 5.72 Peta"
       ]
      },
      {
       "output_type": "stream",
       "stream": "stdout",
       "text": [
        "\n",
        ".\n",
        "-> SlowTrans : Mbuf_vis = 0.000125 Peta"
       ]
      },
      {
       "output_type": "stream",
       "stream": "stdout",
       "text": [
        "\n",
        "-> SlowTrans : Rflop_conv = 0.0126 Peta"
       ]
      },
      {
       "output_type": "stream",
       "stream": "stdout",
       "text": [
        "\n",
        "-> SlowTrans : Rflop_fft = 3.55 Peta"
       ]
      },
      {
       "output_type": "stream",
       "stream": "stdout",
       "text": [
        "\n",
        "-> SlowTrans : Rflop_grid = 0.0234 Peta"
       ]
      },
      {
       "output_type": "stream",
       "stream": "stdout",
       "text": [
        "\n",
        "-> SlowTrans : Rflop_proj = 0 Peta"
       ]
      },
      {
       "output_type": "stream",
       "stream": "stdout",
       "text": [
        "\n",
        ".\n",
        "-> Continuum : Mbuf_vis = 3.93 Peta"
       ]
      },
      {
       "output_type": "stream",
       "stream": "stdout",
       "text": [
        "\n",
        "-> Continuum : Rflop_conv = 0.715 Peta"
       ]
      },
      {
       "output_type": "stream",
       "stream": "stdout",
       "text": [
        "\n",
        "-> Continuum : Rflop_fft = 3.05 Peta"
       ]
      },
      {
       "output_type": "stream",
       "stream": "stdout",
       "text": [
        "\n",
        "-> Continuum : Rflop_grid = 2.39 Peta"
       ]
      },
      {
       "output_type": "stream",
       "stream": "stdout",
       "text": [
        "\n",
        "-> Continuum : Rflop_proj = 0.979 Peta"
       ]
      },
      {
       "output_type": "stream",
       "stream": "stdout",
       "text": [
        "\n",
        ".\n",
        "Sur2A SKA1_Survey:\n",
        "-> Spectral : Mbuf_vis = 290 Peta"
       ]
      },
      {
       "output_type": "stream",
       "stream": "stdout",
       "text": [
        "\n",
        "-> Spectral : Rflop_conv = 3.11 Peta"
       ]
      },
      {
       "output_type": "stream",
       "stream": "stdout",
       "text": [
        "\n",
        "-> Spectral : Rflop_fft = 11.9 Peta"
       ]
      },
      {
       "output_type": "stream",
       "stream": "stdout",
       "text": [
        "\n",
        "-> Spectral : Rflop_grid = 10.9 Peta"
       ]
      },
      {
       "output_type": "stream",
       "stream": "stdout",
       "text": [
        "\n",
        "-> Spectral : Rflop_proj = 4.04 Peta"
       ]
      },
      {
       "output_type": "stream",
       "stream": "stdout",
       "text": [
        "\n",
        ".\n",
        "-> SlowTrans : Mbuf_vis = 0.000103 Peta"
       ]
      },
      {
       "output_type": "stream",
       "stream": "stdout",
       "text": [
        "\n",
        "-> SlowTrans : Rflop_conv = 0.0102 Peta"
       ]
      },
      {
       "output_type": "stream",
       "stream": "stdout",
       "text": [
        "\n",
        "-> SlowTrans : Rflop_fft = 3.55 Peta"
       ]
      },
      {
       "output_type": "stream",
       "stream": "stdout",
       "text": [
        "\n",
        "-> SlowTrans : Rflop_grid = 0.0189 Peta"
       ]
      },
      {
       "output_type": "stream",
       "stream": "stdout",
       "text": [
        "\n",
        "-> SlowTrans : Rflop_proj = 0 Peta"
       ]
      },
      {
       "output_type": "stream",
       "stream": "stdout",
       "text": [
        "\n",
        ".\n",
        "-> Continuum : Mbuf_vis = 3.24 Peta"
       ]
      },
      {
       "output_type": "stream",
       "stream": "stdout",
       "text": [
        "\n",
        "-> Continuum : Rflop_conv = 0.481 Peta"
       ]
      },
      {
       "output_type": "stream",
       "stream": "stdout",
       "text": [
        "\n",
        "-> Continuum : Rflop_fft = 2 Peta"
       ]
      },
      {
       "output_type": "stream",
       "stream": "stdout",
       "text": [
        "\n",
        "-> Continuum : Rflop_grid = 1.64 Peta"
       ]
      },
      {
       "output_type": "stream",
       "stream": "stdout",
       "text": [
        "\n",
        "-> Continuum : Rflop_proj = 0.642 Peta"
       ]
      },
      {
       "output_type": "stream",
       "stream": "stdout",
       "text": [
        "\n",
        ".\n",
        "Sur2B SKA1_Survey:\n",
        "-> Spectral : Mbuf_vis = 290 Peta"
       ]
      },
      {
       "output_type": "stream",
       "stream": "stdout",
       "text": [
        "\n",
        "-> Spectral : Rflop_conv = 2.52 Peta"
       ]
      },
      {
       "output_type": "stream",
       "stream": "stdout",
       "text": [
        "\n",
        "-> Spectral : Rflop_fft = 9.06 Peta"
       ]
      },
      {
       "output_type": "stream",
       "stream": "stdout",
       "text": [
        "\n",
        "-> Spectral : Rflop_grid = 9.03 Peta"
       ]
      },
      {
       "output_type": "stream",
       "stream": "stdout",
       "text": [
        "\n",
        "-> Spectral : Rflop_proj = 3.08 Peta"
       ]
      },
      {
       "output_type": "stream",
       "stream": "stdout",
       "text": [
        "\n",
        ".\n",
        "-> SlowTrans : Mbuf_vis = 5.03e-05 Peta"
       ]
      },
      {
       "output_type": "stream",
       "stream": "stdout",
       "text": [
        "\n",
        "-> SlowTrans : Rflop_conv = 0.0049 Peta"
       ]
      },
      {
       "output_type": "stream",
       "stream": "stdout",
       "text": [
        "\n",
        "-> SlowTrans : Rflop_fft = 3.55 Peta"
       ]
      },
      {
       "output_type": "stream",
       "stream": "stdout",
       "text": [
        "\n",
        "-> SlowTrans : Rflop_grid = 0.00913 Peta"
       ]
      },
      {
       "output_type": "stream",
       "stream": "stdout",
       "text": [
        "\n",
        "-> SlowTrans : Rflop_proj = 0 Peta"
       ]
      },
      {
       "output_type": "stream",
       "stream": "stdout",
       "text": [
        "\n",
        ".\n",
        "-> Continuum : Mbuf_vis = 1.58 Peta"
       ]
      },
      {
       "output_type": "stream",
       "stream": "stdout",
       "text": [
        "\n",
        "-> Continuum : Rflop_conv = 0.27 Peta"
       ]
      },
      {
       "output_type": "stream",
       "stream": "stdout",
       "text": [
        "\n",
        "-> Continuum : Rflop_fft = 1.15 Peta"
       ]
      },
      {
       "output_type": "stream",
       "stream": "stdout",
       "text": [
        "\n",
        "-> Continuum : Rflop_grid = 0.91 Peta"
       ]
      },
      {
       "output_type": "stream",
       "stream": "stdout",
       "text": [
        "\n",
        "-> Continuum : Rflop_proj = 0.368 Peta"
       ]
      },
      {
       "output_type": "stream",
       "stream": "stdout",
       "text": [
        "\n",
        ".\n",
        "Sur3A SKA1_Survey:\n",
        "-> Spectral : Mbuf_vis = 290 Peta"
       ]
      },
      {
       "output_type": "stream",
       "stream": "stdout",
       "text": [
        "\n",
        "-> Spectral : Rflop_conv = 2.29 Peta"
       ]
      },
      {
       "output_type": "stream",
       "stream": "stdout",
       "text": [
        "\n",
        "-> Spectral : Rflop_fft = 7.93 Peta"
       ]
      },
      {
       "output_type": "stream",
       "stream": "stdout",
       "text": [
        "\n",
        "-> Spectral : Rflop_grid = 8.28 Peta"
       ]
      },
      {
       "output_type": "stream",
       "stream": "stdout",
       "text": [
        "\n",
        "-> Spectral : Rflop_proj = 2.69 Peta"
       ]
      },
      {
       "output_type": "stream",
       "stream": "stdout",
       "text": [
        "\n",
        ".\n",
        "-> SlowTrans : Mbuf_vis = 4.07e-05 Peta"
       ]
      },
      {
       "output_type": "stream",
       "stream": "stdout",
       "text": [
        "\n",
        "-> SlowTrans : Rflop_conv = 0.00395 Peta"
       ]
      },
      {
       "output_type": "stream",
       "stream": "stdout",
       "text": [
        "\n",
        "-> SlowTrans : Rflop_fft = 3.55 Peta"
       ]
      },
      {
       "output_type": "stream",
       "stream": "stdout",
       "text": [
        "\n",
        "-> SlowTrans : Rflop_grid = 0.00737 Peta"
       ]
      },
      {
       "output_type": "stream",
       "stream": "stdout",
       "text": [
        "\n",
        "-> SlowTrans : Rflop_proj = 0 Peta"
       ]
      },
      {
       "output_type": "stream",
       "stream": "stdout",
       "text": [
        "\n",
        ".\n",
        "-> Continuum : Mbuf_vis = 1.27 Peta"
       ]
      },
      {
       "output_type": "stream",
       "stream": "stdout",
       "text": [
        "\n",
        "-> Continuum : Rflop_conv = 0.218 Peta"
       ]
      },
      {
       "output_type": "stream",
       "stream": "stdout",
       "text": [
        "\n",
        "-> Continuum : Rflop_fft = 0.923 Peta"
       ]
      },
      {
       "output_type": "stream",
       "stream": "stdout",
       "text": [
        "\n",
        "-> Continuum : Rflop_grid = 0.733 Peta"
       ]
      },
      {
       "output_type": "stream",
       "stream": "stdout",
       "text": [
        "\n",
        "-> Continuum : Rflop_proj = 0.296 Peta"
       ]
      },
      {
       "output_type": "stream",
       "stream": "stdout",
       "text": [
        "\n",
        ".\n",
        "Sur3B SKA1_Survey:\n",
        "-> Spectral : Mbuf_vis = 290 Peta"
       ]
      },
      {
       "output_type": "stream",
       "stream": "stdout",
       "text": [
        "\n",
        "-> Spectral : Rflop_conv = 1.69 Peta"
       ]
      },
      {
       "output_type": "stream",
       "stream": "stdout",
       "text": [
        "\n",
        "-> Spectral : Rflop_fft = 4.95 Peta"
       ]
      },
      {
       "output_type": "stream",
       "stream": "stdout",
       "text": [
        "\n",
        "-> Spectral : Rflop_grid = 6.28 Peta"
       ]
      },
      {
       "output_type": "stream",
       "stream": "stdout",
       "text": [
        "\n",
        "-> Spectral : Rflop_proj = 1.68 Peta"
       ]
      },
      {
       "output_type": "stream",
       "stream": "stdout",
       "text": [
        "\n",
        ".\n",
        "-> SlowTrans : Mbuf_vis = 1.89e-05 Peta"
       ]
      },
      {
       "output_type": "stream",
       "stream": "stdout",
       "text": [
        "\n",
        "-> SlowTrans : Rflop_conv = 0.00183 Peta"
       ]
      },
      {
       "output_type": "stream",
       "stream": "stdout",
       "text": [
        "\n",
        "-> SlowTrans : Rflop_fft = 3.55 Peta"
       ]
      },
      {
       "output_type": "stream",
       "stream": "stdout",
       "text": [
        "\n",
        "-> SlowTrans : Rflop_grid = 0.00341 Peta"
       ]
      },
      {
       "output_type": "stream",
       "stream": "stdout",
       "text": [
        "\n",
        "-> SlowTrans : Rflop_proj = 0 Peta"
       ]
      },
      {
       "output_type": "stream",
       "stream": "stdout",
       "text": [
        "\n",
        ".\n",
        "-> Continuum : Mbuf_vis = 0.591 Peta"
       ]
      },
      {
       "output_type": "stream",
       "stream": "stdout",
       "text": [
        "\n",
        "-> Continuum : Rflop_conv = 0.101 Peta"
       ]
      },
      {
       "output_type": "stream",
       "stream": "stdout",
       "text": [
        "\n",
        "-> Continuum : Rflop_fft = 0.425 Peta"
       ]
      },
      {
       "output_type": "stream",
       "stream": "stdout",
       "text": [
        "\n",
        "-> Continuum : Rflop_grid = 0.338 Peta"
       ]
      },
      {
       "output_type": "stream",
       "stream": "stdout",
       "text": [
        "\n",
        "-> Continuum : Rflop_proj = 0.137 Peta"
       ]
      },
      {
       "output_type": "stream",
       "stream": "stdout",
       "text": [
        "\n",
        ".\n"
       ]
      }
     ],
     "prompt_number": 6
    },
    {
     "cell_type": "heading",
     "level": 2,
     "metadata": {},
     "source": [
      "Compute the SDP's power usage for the three telescopes:"
     ]
    },
    {
     "cell_type": "code",
     "collapsed": false,
     "input": [
      "'''\n",
      "Power usage.\n",
      "(don't be alarmed by all the kg*m^2/s^3 symbols -- that is just the SI definition of Watt. - can be fixed by calling\n",
      "simplify(... / u.W))\n",
      "'''\n",
      "# The following three lines were taken from the old (maximum baseline) estimates. \n",
      "# Should be re-computed on the fly, but for testing we'll go with these in the mean time\n",
      "# Rflop_low =   14.482 PetaFLOPS for Low_Spectral\n",
      "# Rflop_mid =  135.6 PetaFLOPS for Mid_5A_SlowTrans\n",
      "# Rflop_sur =   40.85 PetaFLOPS for Sur_1_Spectral\n",
      "\n",
      "'''\n",
      "The derivations below are at times somewhat simplified from their full definitions in PDR05.\n",
      "Where simplification took place, this is commented as '# simplification'\n",
      "Results are vectorized as sympy Matrices in the following order: [Low, Mid, Survey]'\n",
      "'''\n",
      "# Rflops = Matrix((104.48271074, 374.72051424, 135.03976765)) * 1e15  # Replace by explicitly computed Rflop values\n",
      "# Mbuf_viss = Matrix((470, 220, 295)) * 1e15 # Replace by explicitly computed Mbuf_vis values\n",
      "\n",
      "# Define vectors to represent the flop rates and visibility buffer sizes (can be used as dynamically specified arguments, using lambdify)\n",
      "Rflop_low, Rflop_mid, Rflop_sur = symbols(\"R_{flop\\,low} R_{flop\\,mid} R_{flop\\,sur}\", positive=True) # Reprojection Flop rate, per telescope\n",
      "Mbuf_low, Mbuf_mid, Mbuf_sur = symbols(\"M_{vbuf\\,low} M_{vbuf\\,mid} M_{vbuf\\,sur}\", positive=True)    # Visibility buffer size, per telescope\n",
      "Rflops = Matrix((Rflop_low, Rflop_mid, Rflop_sur))\n",
      "Mbuf_viss = Matrix((Mbuf_low, Mbuf_mid, Mbuf_sur))\n",
      "\n",
      "Tobss = Matrix((6, 6, 6)) * u.hours  # The observation time\n",
      "ingest_rate = divide_elementwise(Mbuf_viss, Tobss)\n",
      "\n",
      "###### COMPUTE NODES #############################\n",
      "\n",
      "# The composition of nodes and islands are assumed identical for all three telescopes.\n",
      "flops_per_gpu = 20 * 1e12   # Peak FLOPS per node GPU in 2020 (Depends on Moore's law.)\n",
      "gpus_per_node = 2\n",
      "compute_efficiency = 0.25  # computing efficiency per node; 100% = 1.0\n",
      "n_nodes_per_compute_island = 56  # number of compute nodes per compute island\n",
      "P_compute_node = 810 * u.W  # Power in Watts for a single compute node. Assumed identical for all three telescopes\n",
      "P_compute_island_overhead = 3800 * u.W  # per-island non-compute overheads. # simplification\n",
      "\n",
      "n_cmp_nodes = ceiling_elementwise(Rflops / (flops_per_gpu * gpus_per_node * compute_efficiency))\n",
      "n_cmp_islands = ceiling_elementwise(n_cmp_nodes / n_nodes_per_compute_island)\n",
      "\n",
      "P_cmp_islnds = (P_compute_node * n_cmp_nodes) + (P_compute_island_overhead * n_cmp_islands)\n",
      "\n",
      "###### NETWORKING ################################\n",
      "ingest_data_rate = divide_elementwise(Mbuf_viss, 2*Tobss) # Factor of 1/2 because we're working with a double buffer, only half of which needs to be read out.\n",
      "\n",
      "network_speed = 40e9 / (8.0 * u.s) # 40 GbE, expressed as bytes per second\n",
      "P_ToR = 240 * u.W  # For a single Top-of-Rack network switch\n",
      "network_protocol_overhead = 0.25 # 100% = 1.0\n",
      "network_occupancy = 1  # 100% = 1.0\n",
      "tor_links_up = Matrix((4, 4, 4))\n",
      "tor_links_down = Matrix((56, 56, 56))\n",
      "stage2_links_up = Matrix((18, 8, 8))\n",
      "stage2_links_down = Matrix((18, 28, 28))\n",
      "stage3_links_down = Matrix((18, 18, 18))\n",
      "\n",
      "n_2nd_stages = n_cmp_islands.multiply_elementwise(divide_elementwise(tor_links_up, stage2_links_down))\n",
      "n_2nd_stages[0] *= 2  # Due to extra set of ToR switches for Low (why?)\n",
      "n_2nd_stages = ceiling_elementwise(n_2nd_stages)\n",
      "\n",
      "n_ports = ceiling_elementwise((ingest_data_rate * (1+network_protocol_overhead) * network_occupancy / network_speed))\n",
      "\n",
      "n_3rd_stages = ceiling_elementwise(divide_elementwise(max_elementwise(n_2nd_stages.multiply_elementwise(stage2_links_up), n_ports),stage3_links_down))\n",
      "\n",
      "P_network = (n_cmp_islands + n_2nd_stages + n_3rd_stages) * P_ToR\n",
      "\n",
      "###### BUFFER ##########################################\n",
      "# LOW uses SAS, MID & SUR use SSD. Power per unit, divided by unit size (in Bytes)\n",
      "buffer_P_per_byte_sata = 5 / 8e12 * u.W\n",
      "buffer_P_per_byte_sas  = 3 / 4e12 * u.W\n",
      "buffer_P_per_byte_ssd  = 1 / 1e12 * u.W\n",
      "buffer_P_per_byte_dram = 4 / 16e9 * u.W\n",
      "P_buffer = Mbuf_viss.multiply_elementwise(Matrix((buffer_P_per_byte_sas, buffer_P_per_byte_ssd, buffer_P_per_byte_ssd)))\n",
      "\n",
      "###### ISLAND MANAGEMENT ##############################\n",
      "P_mgmt_node = 600 * u.W  # Power in Watts for a single compute node. Assumed identical for all three telescopes\n",
      "P_mgmt_island_overhead = 4240 * u.W  # simplification\n",
      "n_mgmt_units = Matrix((2, 2, 2))\n",
      "P_mgmt = n_mgmt_units * (P_mgmt_node * n_nodes_per_compute_island + P_mgmt_island_overhead)\n",
      "\n",
      "###### ARCHIVE ##############################\n",
      "archive_volume = Matrix((0, 0, 0))\n",
      "P_2nd_stage = P_ToR\n",
      "n_1st_stage_arch_sw = ceiling_elementwise(n_cmp_islands * 3 / 24.0)\n",
      "n_2nd_stage_arch_sw = ceiling_elementwise(n_1st_stage_arch_sw * 12 / 36.0)\n",
      "n_arch_coresw = n_1st_stage_arch_sw + n_2nd_stage_arch_sw\n",
      "P_arch_coresw = n_arch_coresw * P_2nd_stage  # simplification\n",
      "\n",
      "P_ll_coresw = P_arch_coresw  # simplification\n",
      "P_archive_unit = Matrix((0, 0, 0)) * u.W  # simplification\n",
      "P_archive_store = Matrix((0, 0, 0)) * u.W\n",
      "\n",
      "###### COMBINING IT ALL ################################\n",
      "P_sdp = P_cmp_islnds + P_network + P_buffer + P_mgmt + P_arch_coresw + P_ll_coresw + P_archive_unit + P_buffer + P_archive_store"
     ],
     "language": "python",
     "metadata": {},
     "outputs": [],
     "prompt_number": 14
    },
    {
     "cell_type": "code",
     "collapsed": false,
     "input": [
      "P_sdp_eval = lambdify((Rflop_low, Rflop_mid, Rflop_sur, Mbuf_low, Mbuf_mid, Mbuf_sur), remove_units(P_sdp),modules=\"sympy\")\n",
      "P_netw_eval = lambdify((Rflop_low, Rflop_mid, Rflop_sur, Mbuf_low, Mbuf_mid, Mbuf_sur), remove_units(n_cmp_islands),modules=\"sympy\")\n",
      "\n",
      "\n",
      "rfl = np.array((26, 81, 56)) * 1e15\n",
      "mbf = np.array((493, 249, 300)) * 1e15\n",
      "\n",
      "print 'The SDP uses the following amounts of MegaWatt for Low, Mid and Survey:' \n",
      "P_sdp_eval(rfl[0],rfl[1],rfl[2],mbf[0],mbf[1],mbf[2])/1e6"
     ],
     "language": "python",
     "metadata": {},
     "outputs": [
      {
       "output_type": "stream",
       "stream": "stdout",
       "text": [
        "The SDP uses the following amounts of MegaWatt for Low, Mid and Survey:\n"
       ]
      },
      {
       "latex": [
        "$$\\left[\\begin{matrix}3.1581\\\\7.75744\\\\5.6512\\end{matrix}\\right]$$"
       ],
       "metadata": {},
       "output_type": "pyout",
       "png": "[encoded data removed]",
       "prompt_number": 15,
       "text": [
        "\u23a13.1581 \u23a4\n",
        "\u23a2       \u23a5\n",
        "\u23a27.75744\u23a5\n",
        "\u23a2       \u23a5\n",
        "\u23a35.6512 \u23a6"
       ]
      }
     ],
     "prompt_number": 15
    },
    {
     "cell_type": "heading",
     "level": 1,
     "metadata": {},
     "source": [
      "Optimize the SDP to meet power constraints"
     ]
    },
    {
     "cell_type": "code",
     "collapsed": false,
     "input": [
      "# The power contraints for [Low, Mid, Survey], in Watts, are:\n",
      "\n",
      "power_limit_bestcase = [1.5e6  * u.W, 5e6 * u.W, 4e6 * u.W]\n",
      "power_limit_likely   = [0.75e6 * u.W, 2.5e6 * u.W, 2e6 * u.W]"
     ],
     "language": "python",
     "metadata": {},
     "outputs": [],
     "prompt_number": 16
    },
    {
     "cell_type": "code",
     "collapsed": false,
     "input": [
      "expr_eval = lambdify((Rflop_mid, Mbuf_mid), remove_units(expression_to_minimise),modules=\"sympy\")  # Define Lambda expression in two variables\n",
      "expr_eval_float = lambda x: float(expr_eval(x, mbf[1]))  # Define Power of MID as a function of one free variable: Rflop_mid"
     ],
     "language": "python",
     "metadata": {},
     "outputs": [],
     "prompt_number": 18
    },
    {
     "cell_type": "code",
     "collapsed": false,
     "input": [
      "# We now minimize the desired expression (which equals absolute deviation from our target power Wattage) by varying the free \n",
      "# parameter - which in this case is Rflop_mid\n",
      "result = opt.minimize_scalar(expr_eval_float, bounds=(0, rfl[1]), method='bounded')\n",
      "print result"
     ],
     "language": "python",
     "metadata": {},
     "outputs": [
      {
       "output_type": "stream",
       "stream": "stdout",
       "text": [
        "  status: 0\n",
        "    nfev: 31\n",
        " success: True\n",
        "     fun: 220.0\n",
        "       x: 21536007489075944.0\n",
        " message: 'Solution found.'\n"
       ]
      }
     ],
     "prompt_number": 19
    },
    {
     "cell_type": "raw",
     "metadata": {},
     "source": [
      "In this case the target value was not exactly reached (maybe impossible?), but the residual error is only 220 Watts, achieved by\n",
      "setting Rflop_mid to the value of x displayed above.\n",
      "We can verify this (look at the middle value, when substituting Rflop_mid with result.x)"
     ]
    },
    {
     "cell_type": "code",
     "collapsed": false,
     "input": [
      "P_sdp_eval(rfl[0],result.x,rfl[2],mbf[0],mbf[1],mbf[2])/1e6"
     ],
     "language": "python",
     "metadata": {},
     "outputs": [
      {
       "latex": [
        "$$\\left[\\begin{matrix}3.1581\\\\2.50022\\\\5.6512\\end{matrix}\\right]$$"
       ],
       "metadata": {},
       "output_type": "pyout",
       "png": "[encoded data removed]",
       "prompt_number": 20,
       "text": [
        "\u23a13.1581 \u23a4\n",
        "\u23a2       \u23a5\n",
        "\u23a22.50022\u23a5\n",
        "\u23a2       \u23a5\n",
        "\u23a35.6512 \u23a6"
       ]
      }
     ],
     "prompt_number": 20
    },
    {
     "cell_type": "raw",
     "metadata": {},
     "source": [
      "Now that we know the desired FLOP count, the trick will be to scale the telescope appropriately to achieve that FLOP value. One could use a similar approach as above, and compute the maximum baseline length (keeping all parameters the same)"
     ]
    },
    {
     "cell_type": "code",
     "collapsed": false,
     "input": [
      "Rflop_target = result.x\n",
      "print 'FLOP target (in this example) for Mid = %g' % Rflop_target\n",
      "chosen_band = 'Mid1'\n",
      "chosen_mode = 'Spectral'\n",
      "result_flops = calc_tel(band=chosen_band, mode=chosen_mode, expr=Rflop)\n",
      "print 'Using the maximum baseline specs, band %s (%s) requires %g FLOPS.' % (chosen_band, chosen_mode, result_flops[chosen_mode])"
     ],
     "language": "python",
     "metadata": {},
     "outputs": [
      {
       "output_type": "stream",
       "stream": "stdout",
       "text": [
        "FLOP target (in this example) for Mid = 2.1536e+16\n",
        "Using the maximum baseline specs, band Mid1 (Spectral) requires 3.58475e+16 FLOPS."
       ]
      },
      {
       "output_type": "stream",
       "stream": "stdout",
       "text": [
        "\n"
       ]
      }
     ],
     "prompt_number": 21
    },
    {
     "cell_type": "code",
     "collapsed": false,
     "input": [
      "# Get the default parameters for this telescope\n",
      "telescope_params = calc_tel_params(chosen_band, chosen_mode)\n",
      "# Compute the optimal value for Tsnap to match these default parameters\n",
      "Tsnap_opt = optimize_Tsnap(telescope_params)\n",
      "print 'Tsnap has been computed to be, optimally, %s' % str(Tsnap_opt)\n",
      "\n",
      "# We now make Bmax a free (undefined) parameter, and fix Tsnap\n",
      "telescope_params.pop(Bmax)\n",
      "telescope_params[Tsnap] = Tsnap_opt\n",
      "\n",
      "# And from here on we do the same optimization Spiel as before\n",
      "expression_to_minimise = abs(Rflop - Rflop_target).subs(telescope_params).subs(telescope_params)\n",
      "expr_eval = lambdify(Bmax, remove_units(expression_to_minimise),modules=\"sympy\")  # Define Lambda expression in one variable\n",
      "expr_eval_float = lambda x: float(expr_eval(x))  # Define deviation of RFlop from the set target as a function of one free variable: Bmax\n",
      "# We now minimize the desired expression (which equals absolute deviation from our target FLOP rate) by varying the free \n",
      "# parameter - which in this case is Bmax\n",
      "result = opt.minimize_scalar(expr_eval_float, bounds=(0, remove_units(telescope_params[Bmax_ref])), method='bounded')\n",
      "print result"
     ],
     "language": "python",
     "metadata": {},
     "outputs": [
      {
       "output_type": "stream",
       "stream": "stdout",
       "text": [
        "Tsnap has been computed to be, optimally, 257.260596252280\n",
        "  status: 0\n",
        "    nfev: 28\n",
        " success: True\n",
        "     fun: 6373488.577499871\n",
        "       x: 157239.207710068\n",
        " message: 'Solution found.'"
       ]
      },
      {
       "output_type": "stream",
       "stream": "stdout",
       "text": [
        "\n"
       ]
      }
     ],
     "prompt_number": 22
    },
    {
     "cell_type": "raw",
     "metadata": {},
     "source": [
      "Voila - there we have it. A baseline of ~ 157.2 km will give us the desired FLOP rate that will result in a power consumption of 2.5 MW"
     ]
    },
    {
     "cell_type": "heading",
     "level": 2,
     "metadata": {},
     "source": [
      "Let's plot the FLOP values"
     ]
    },
    {
     "cell_type": "code",
     "collapsed": false,
     "input": [
      "import matplotlib.pyplot as plt\n",
      "%matplotlib inline\n",
      "\n",
      "import matplotlib.pylab as pylab\n",
      "pylab.rcParams['figure.figsize'] = 8, 6  # that's default image size for this interactive session\n",
      "\n",
      "t = results_per_tel.keys()\n",
      "t.reverse()\n",
      "for tel in t:\n",
      "    values = results_per_tel[tel]\n",
      "\n",
      "    # The slices will be ordered and plotted counter-clockwise.\n",
      "    labels = '(de)Gridding', '(i)FFT', '(Re)Projection', 'Convolution'\n",
      "    sizes = [values['Rflop_grid'], values['Rflop_fft'], values['Rflop_proj'], values['Rflop_conv']]\n",
      "    colors = ['yellowgreen', 'gold', 'lightskyblue', 'lightcoral']\n",
      "    explode = (0.05, 0.05, 0.05, 0.05) # Radial offset of the slices\n",
      "\n",
      "    plt.pie(sizes, explode=explode, labels=labels, colors=colors,\n",
      "            autopct='%1.1f%%', shadow=True, startangle=90)\n",
      "    # Set aspect ratio to be equal so that pie is drawn as a circle.\n",
      "    plt.axis('equal')\n",
      "    plt.title('%s\\n' % tel)\n",
      "\n",
      "    plt.show()\n",
      "    \n",
      "results_per_param = {}\n",
      "for tel in t:\n",
      "    for param in results_per_tel[tel]:\n",
      "        if not param in results_per_param:\n",
      "            results_per_param[param] = []\n",
      "        results_per_param[param].append(results_per_tel[tel][param])\n",
      "\n",
      "#print results_per_param\n",
      "ind = np.arange(3)\n",
      "\n",
      "p = 'Rflop_grid'\n",
      "res_grid = (results_per_tel[t[0]][p], results_per_tel[t[1]][p], results_per_tel[t[2]][p])\n",
      "p = 'Rflop_fft'\n",
      "res_fft = (results_per_tel[t[0]][p], results_per_tel[t[1]][p], results_per_tel[t[2]][p])\n",
      "p = 'Rflop_proj'\n",
      "res_proj = (results_per_tel[t[0]][p], results_per_tel[t[1]][p], results_per_tel[t[2]][p])\n",
      "p = 'Rflop_conv'\n",
      "res_conv = (results_per_tel[t[0]][p], results_per_tel[t[1]][p], results_per_tel[t[2]][p])\n",
      "\n",
      "#Plot a stacked bar chart\n",
      "width = 0.35\n",
      "val = np.array(res_grid)\n",
      "p1 = plt.bar(ind, val, width, color=colors[0])\n",
      "bottoms = val\n",
      "val = np.array(res_fft)\n",
      "p2 = plt.bar(ind, val, width, color=colors[1],\n",
      "             bottom=bottoms)\n",
      "bottoms += val\n",
      "val = np.array(res_proj)\n",
      "p3 = plt.bar(ind, val, width, color=colors[2],\n",
      "             bottom=bottoms)\n",
      "bottoms += val\n",
      "val = np.array(res_conv)\n",
      "p4 = plt.bar(ind, val, width, color=colors[3],\n",
      "             bottom=bottoms)\n",
      "\n",
      "plt.xticks(ind+width/2., t )\n",
      "plt.title('PetaFLOPS')\n",
      "plt.legend(labels, loc=2) # legend upper-left"
     ],
     "language": "python",
     "metadata": {},
     "outputs": [
      {
       "metadata": {},
       "output_type": "display_data",
       "png": "[encoded data removed]",
       "text": [
        "<matplotlib.figure.Figure at 0x155aaf28>"
       ]
      },
      {
       "metadata": {},
       "output_type": "display_data",
       "png": "[encoded data removed]",
       "text": [
        "<matplotlib.figure.Figure at 0x15dfa390>"
       ]
      },
      {
       "metadata": {},
       "output_type": "display_data",
       "png": "[encoded data removed]",
       "text": [
        "<matplotlib.figure.Figure at 0x15bad668>"
       ]
      },
      {
       "metadata": {},
       "output_type": "pyout",
       "prompt_number": 23,
       "text": [
        "<matplotlib.legend.Legend at 0x1694e6d8>"
       ]
      },
      {
       "metadata": {},
       "output_type": "display_data",
       "png": "[encoded data removed]",
       "text": [
        "<matplotlib.figure.Figure at 0x155aa0b8>"
       ]
      }
     ],
     "prompt_number": 23
    }
   ],
   "metadata": {}
  }
 ]
}