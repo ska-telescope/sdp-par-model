{
 "metadata": {
  "name": "",
  "signature": "sha256:9647790139ffb986ad02ceaee078c4ce0f6dcee9cd27fe9480effb5309cc75af"
 },
 "nbformat": 3,
 "nbformat_minor": 0,
 "worksheets": [
  {
   "cells": [
    {
     "cell_type": "markdown",
     "metadata": {},
     "source": [
      "_This notebook started out as a direct iPython translation of the **M7 PDR05 Excel Spreadsheet**, implemented in a similar way as originally done by **Juande Santander-Vela** in his separate analysis of the M7 Milestone PDR05 (MS Word) document._\n",
      "\n",
      "_This is an interactive document. **sympy** and **astropy** are required to evaluate some of the blocks of code. While overlapping in scope with \"Full Computational Requirements for SDP.ipynb\" and \"Parametric Models of SDP Compute Requirements.ipynb\", this document was independently derived._ \n",
      "\n",
      "_Equations may be evaluated for the different telescopes and imaging modes, either numerically or symbolically_ \n",
      "\n",
      "_The owner of this notebook document is **Francois Malan** of Space Advisory Company._"
     ]
    },
    {
     "cell_type": "heading",
     "level": 1,
     "metadata": {},
     "source": [
      "0. Setting up the computational environment"
     ]
    },
    {
     "cell_type": "code",
     "collapsed": true,
     "input": [
      "'''\n",
      "When running this code block, make sure that it finishes *before* running any of the subsequent blocks. \n",
      "The Cell nr is shown as \"In [*]\" (in the left-hand margin) when it is executing and updates to \"In [1]\" when done.\n",
      "Only then should you run subsequent code block. \n",
      "Selecting Cell -> \"Run All Below\" from the iPy Notebook menu, you can run all of the later code blocks in a single command.\n",
      "'''\n",
      "\n",
      "from sympy import init_session\n",
      "init_session(\n",
      "    use_latex=True,\n",
      "    use_unicode=True,\n",
      "    pretty_print=True,\n",
      "    quiet=True,\n",
      ")\n",
      "import copy\n",
      "import sympy.physics.units as u\n",
      "from astropy import constants as const\n",
      "import numpy as np\n",
      "from scipy import optimize as opt\n",
      "\n",
      "def remove_units(expression):\n",
      "    return expression.replace(lambda el: hasattr(u, str(el)), lambda el: 1)\n",
      "\n",
      "def divide_elementwise(A,B): \n",
      "    '''\n",
      "    Does an element-wise division A/B between two sympy matrices A and B\n",
      "    '''\n",
      "    m, n = A.shape\n",
      "    m2, n2 = B.shape\n",
      "    C = A.copy()\n",
      "    assert (m, n) == (m2, n2)\n",
      "    for i in range(m):\n",
      "        for j in range(n):\n",
      "            C[i,j] = A[i,j] / B[i,j]\n",
      "    return C\n",
      "\n",
      "def ceiling_elementwise(A): \n",
      "    '''\n",
      "    Does an element-wise division A/B between two sympy matrices A and B\n",
      "    '''\n",
      "    m, n = A.shape\n",
      "    B = A.copy()\n",
      "    for i in range(m):\n",
      "        for j in range(n):\n",
      "            B[i,j] = ceiling(A[i,j])\n",
      "    return B\n",
      "\n",
      "def max_elementwise(A, B): \n",
      "    '''\n",
      "    Does an element-wise division A/B between two sympy matrices A and B\n",
      "    '''\n",
      "    m, n = A.shape\n",
      "    m2, n2 = B.shape\n",
      "    C = A.copy()\n",
      "    assert (m, n) == (m2, n2)\n",
      "    for i in range(m):\n",
      "        for j in range(n):\n",
      "            C[i,j] = Max(A[i,j], B[i,j])\n",
      "    return C"
     ],
     "language": "python",
     "metadata": {},
     "outputs": [
      {
       "output_type": "stream",
       "stream": "stdout",
       "text": [
        "IPython console for SymPy 0.7.5 (Python 2.7.9-64-bit) (ground types: python)\n"
       ]
      },
      {
       "output_type": "stream",
       "stream": "stderr",
       "text": [
        "WARNING: Hook shutdown_hook is deprecated. Use the atexit module instead.\n"
       ]
      }
     ],
     "prompt_number": 1
    },
    {
     "cell_type": "heading",
     "level": 1,
     "metadata": {},
     "source": [
      "1. Definitions:"
     ]
    },
    {
     "cell_type": "markdown",
     "metadata": {},
     "source": [
      "_If any of these values need to be changed, this should be done in the \"Implementation\" section lower down. The display-formatted text in this \"Definitions\" section is (as you may have guessed) just for display purposes._ "
     ]
    },
    {
     "cell_type": "markdown",
     "metadata": {},
     "source": [
      "**Output Parameters we are interested in:**\n",
      "\n",
      "|**Symbol**|**Python**|**Description**|\n",
      "|-|-|-|\n",
      "| $R_{FLOP}$ | Rflop | Overall flop rate |\n",
      "| $M_{buf,vis}$ | Mbuf_vis | Buffer size (bytes) |\n",
      "| $R_{IO}$ | Rio | Overall I/O rate, (bytes/s) |\n",
      "| $G_{corr}$ | Gcorr | Minimum correlator output data rate, after baseline dependent averaging (bytes/s) |\n",
      "\n",
      "** Physical constants **\n",
      "\n",
      "|**Symbol**|**Python**|**Value**|**Description**|\n",
      "|-|-|-|-|\n",
      "| $c$ | u.c | $2.99792458 \\times 10^8$ (m/s) | Speed of light in a vacuum |\n",
      "| $\\Omega_E$ | Omega_E | $7.292115 \\times 10^{-5}$ (rad/s) | Angular rotational velocity of the Earth relative to the fixed stars |\n",
      "| $R_{Earth}$ | R_Earth | $6.378136 \\times 10^6$ (m) | Radius of the Earth |\n",
      "\n",
      "**Global parameters - used for all telescopes**\n",
      "\n",
      "*May need global tweaking*\n",
      "\n",
      "|**Symbol**|**Python**|**Value**|**Description**|\n",
      "|-|-|-|-|\n",
      "| $N_{kernel}$ | Naa | 9 | Linear size of the combined $A$ and $W$ kernels (pixels). This size is at the low end of the range 9-15 given by [RD11] in Section 4.4.2 of their paper. |\n",
      "| $N_{mm}$ | Nmm | 4| |\n",
      "| $N_{pp}$ | Npp | 4| Number of polarisation products that are processed |\n",
      "| $N_{w}$ | Nw | 2| Bytes per value |\n",
      "| $T_{ion}$ | T_ion | 60 | Ionospheric timescale |\n",
      "| $\\epsilon_{w}$ | epsilon_w | 0.01 | Amplitude level of w-kernels to include. Value 0.01 is used in [RD6] where it is shown to give kernel sizes in rough agreement with CASA package.|\n",
      "|$M_{vis}$| Mvis | 12 | Size of visibility datum in the buffer |\n",
      "|$W_{curve}$|Wcurve||Minimum deviation of the W coordinate due to Earth\u2019s curvature|\n",
      "|$Q_{bw}$|Qbw|1 |Bandwidth quality factor, determining how well bandwidth smearing can be controlled|\n",
      "|$Q_{w}$|Qw|1 | Quality factor for w-projection correction. Value 1 corresponds to correction of maximal w values.  For comparison [RD7] uses values 0.1\u20140.3 |\n",
      "|$Q_{GCF}$|Qgcf|8|Oversampling factor of w-convolution kernels|\n",
      "|$Q_{fcw}$|Qfcw|10|Number of adjacent frequency channels for which baseline dependent kernels can be reused|\n",
      "\n",
      "** Telescope-dependent parameters **\n",
      "\n",
      "*Subject to change*\n",
      "\n",
      "|***Telescope parameters***\n",
      "|-|-|-|-|-|-|\n",
      "| | Symbol | Python | SKA1-Low | SKA1-Mid | SKA1-Survey |\n",
      "| Originally specified maximum baseline according to SKAO (km)     | $B_{max,ref}$|Bmax_ref| $100$|$200$|$50$|\n",
      "| Actually implemented maximum baseline chosen for calculations (km) | $B_{max}$|Bmax| $100$|$120$|$50$|\n",
      "| Antenna/Station Diameter (m)                                   |$D_{s}$|Ds|$35$|$15$|$15$|\n",
      "| Fraction of baselines short enough for data to be averaged to frequency resolution of output prior to gridding. (Only relevant for continuum modes) | $F_{b,short}$ | Fb_short | $0.5$ | $0.5$ | $0.1$ |\n",
      "| Minimum frequency (of the chosen band) | $f_{min}$ | freq_min | 50 Mhz | depends on band | depends on band |\n",
      "| Maximum frequency (of the chosen band) | $f_{max}$ | freq_max | 350 Mhz | depends on band | depends on band |\n",
      "| Originally specified number of frequency channels from corellator    |$N_{f,max}$||$256000$|$256000$|$256000$|\n",
      "| Number of frequency channels from corellator                   |$N_{f,max}$|Nf_max|$64000$|$96000$|$64000$|\n",
      "| Number of stations/antennas                                    |$N_{a}$|Na|$1024$|$256$|$96$|\n",
      "| Number of beams                                                |$N_{beam}$|Nbeam|$1$|$1$|$36$|\n",
      "| Baseline length distribution-dependent value (ask Rosie) | $Q_{w2}$ | Qw2 | $0.0458053$ | $0.0278115$ | $0.0569392$ |\n",
      "| Baseline length distribution-dependent value (ask Rosie) | $Q_{w32}$ | Qw32 | $0.0750938$ | $0.0462109$ | $0.0929806$  \n",
      "| Correlator dump time appropriate for $B_{max,ref}$ (seconds) |$T_{dump,ref}$|Tdump_ref|$0.6$|$0.08$|$0.3$|\n",
      "\n",
      "** Spectral vs Continuum vs Fast Imaging (i.e. slow transients) **\n",
      "\n",
      "*This is the same for all telescopes and bands*, but may be overwritten by HPSOs\n",
      "\n",
      "|***Imaging-mode telescope parameters***\n",
      "|-|-|-|-|-|-|\n",
      "| | Symbol | Python | Continuum | Spectral | SlowTrans |\n",
      "| Baseline length that (Fbshort+Fbmid), i.e. 90% of baselines are shorter than | $B_{lim,mid}$ | Blim_mid | $20000$ | n/a | $20000$\n",
      "| Field of view factor | $Q_{FoV}$| Qfov | $1.8$ | $1$ | $0.9$ |\n",
      "| Number of output map channels | $N_{f, out}$ | Nf_out | $500$ | *computed* | $500$ |\n",
      "| Number of channels for gridding at longest baseline | $N_{f, used}$ | Nf_used | *computed* | *computed* | *computed*|\n",
      "| Number of major CLEAN cycles to be done | $N_{major}$ | Nmajor | $10$ | $1$ | $1$ |\n",
      "| Quality factor defining the oversampling of synthesised beam | $Q_{pix}$ | Qpix | $2.5$ | $2.5$ | $1.5$|\n",
      "| Observation length |$T_{obs}$ | Tobs  | $6\\ {\\rm h}$  | $6\\ {\\rm h}$ | $1.2\\ {\\rm sec}$  |\n",
      "| Snapshot timescale implemented (sec) | $T_{snap}$ | Tsnap | *optimized* | *optimized* | *optimized* |\n",
      "| Minimum Snapshot timescale - equals $T_{obs}$ for slow transients | $T_{snap, min}$ | Tsnap_min | $1.2\\ {\\rm sec}$ | $1.2\\ {\\rm sec}$ | $1.2\\ {\\rm sec}$"
     ]
    },
    {
     "cell_type": "heading",
     "level": 1,
     "metadata": {},
     "source": [
      "2. Implementation:"
     ]
    },
    {
     "cell_type": "heading",
     "level": 2,
     "metadata": {},
     "source": [
      "Definitions & derivations"
     ]
    },
    {
     "cell_type": "code",
     "collapsed": false,
     "input": [
      "Rflop, Mbuf_vis, Rio, Gcorr = symbols(\"R_flop, M_buf\\,vis, R_io G_corr\", positive=True)\n",
      "\n",
      "Omega_E, R_Earth = symbols(\"Omega_E, R_Earth\", positive=True)\n",
      "\n",
      "Naa, Nmm, Npp = symbols(\"N_k N_mm N_pp\", integer=True, positive=True)\n",
      "Tion = symbols(\"T_ion\", positive=True)\n",
      "epsilon_w = symbols(\"\\epsilon_w\", positive=True)\n",
      "Mvis = symbols(\"M_vis\", positive=True)\n",
      "Wcurve = symbols(\"W_curve\", positive=True)\n",
      "Qbw, Qw, Qgcf, Qfcv = symbols(\"Q_bw, Q_w, Q_GCF, Q_fcv\", positive=True)\n",
      "\n",
      "Blim_mid = symbols(\"B_lim\\,mid\", positive=True)\n",
      "B_lim = symbols(\"B_lim\", positive=True) #added to test bug...\n",
      "Qfov = symbols(\"Q_FoV\", positive=True)\n",
      "Nf_out, Nf_used, Nmajor = symbols(\"N_f\\,out N_f\\,used N_major\", integer=True, positive=True)\n",
      "Tobs = symbols(\"T_obs\", positive=True)\n",
      "Tsnap_min = symbols(\"T_snap\\,min\", positive=True)\n",
      "Qpix = symbols(\"Q_pix\", positive=True)\n",
      "\n",
      "Ds = symbols(\"D_s\", positive=True)\n",
      "Bmax_ref, Bmax = symbols(\"B_max\\,ref B_max\", positive=True)\n",
      "Fb_short, Fb_short_tel, Fb_mid = symbols(\"F_b\\,short F_b\\,short\\,tel F_b\\,mid\") #_short_tel and #mid needed for intermediate computations\n",
      "freq_min, freq_max = symbols(\"f_min f_max\")\n",
      "Nf_max, Nf_used, Nf_no_smear = symbols(\"N_{f\\,max} N_{f\\,used} N_{f\\,no-smear}\")\n",
      "Na, Nbeam = symbols(\"N_a N_beam\", integer=True, positive=True)\n",
      "Tdump_ref = symbols(\"T_dump\\,ref\", positive=True)\n",
      "Qw2, Qw32 = symbols(\"Q_w2 Q_w32\", positive=True)\n",
      "\n",
      "# Wavelength variables, not (yet) enumerated in the table above\n",
      "wl, wl_max, wl_min, wl_sub_max, wl_sub_min = symbols(\"\\lambda \\lambda_max \\lambda_max \\lambda_{sub\\,max} \\lambda_{sub\\,min}\", positive=True)\n",
      "\n",
      "# Variables unique to the HPSO experiments\n",
      "Texp, Tpoint = symbols(\"T_exp T_point\", positive=True)\n",
      "\n",
      "# Other variables (may be needed later on)\n",
      "Tsnap, Tsnap_min = symbols(\"T_snap T_{snap\\,min}\", positive=True)  # Snapshot timescale implemented\n",
      "Tdump = symbols(\"T_dump\", positive=True)  # Correlator dump time (s)\n",
      "psf_angle= symbols(r\"\\theta_{PSF}\", positive=True)\n",
      "pix_angle  = symbols(r\"\\theta_{pix}\", positive=True)\n",
      "Npix, Nminor = symbols(\"N_pix N_minor\", integer=True, positive=True)\n",
      "Ngw = symbols(\"N_gw\", positive=True)\n",
      "Theta_beam = symbols(r\"\\theta_{beam}\", positive=True)\n",
      "Theta_fov = symbols(r\"\\theta_{FoV}\", positive=True)\n",
      "Rrp = symbols(\"R_rp\", positive=True) # Reprojection Flop rate, per output channel\n",
      "\n",
      "\n",
      "'''\n",
      "Parameters derived in terms of those above:\n",
      "'''\n",
      "Tdump = Tdump_ref * Bmax_ref / Bmax # Correlator dump time\n",
      "wl_max = u.c / freq_min             # Maximum Wavelength\n",
      "wl_min = u.c / freq_max             # Minimum Wavelength\n",
      "wl = 0.5*(wl_max + wl_min)          # Representative Wavelength\n",
      "Theta_fov = 7.66 * wl * Qfov / (pi * Ds)\n",
      "Theta_beam = 3 * wl/(2*Bmax)\n",
      "Theta_pix = Theta_beam/(2*Qpix)\n",
      "Npix = Theta_fov / Theta_pix\n",
      "Nw = 2  # Bytes per value\n",
      "Rfft = 10 * Npix**2 * log(Npix,2) / Tsnap\n",
      "\n",
      "DeltaW_max = Qw * Max(Bmax*Tsnap*Omega_E/(2*wl), Bmax**2/(8*R_Earth*wl)) #W deviation catered for by W kernel, in units of typical wavelength\n",
      "Ngw = 2*Theta_fov * sqrt((Qw2 * DeltaW_max**2 * Theta_fov**2/4.0)+(Qw32 * DeltaW_max**1.5 * Theta_fov/(epsilon_w*2*pi)))\n",
      "Ncvff = Qgcf*sqrt(Naa**2+Ngw**2)\n",
      "\n",
      "Nf_vis=(Nf_out*Fb_short)+(Nf_used*(1-Fb_short-Fb_mid))+(Nf_no_smear*Fb_mid)\n",
      "Cr=Nf_used/Nf_vis\n",
      "Nvis = Na*(Na-1)*Nf_used/(2*Tdump)/Cr * u.s # Number of visibilities per second to be gridded (after averaging short baselines to coarser freq resolution). Note multiplication by u.s to get rid of /s\n",
      "Rgrid = 8*Nmm*Nvis*(Ngw**2+Naa**2)\n",
      "\n",
      "Rccf = 5 *(Na-1)*Na*Nmm*Ncvff**2 * log(Ncvff,2)/(Tion*Qfcv)\n",
      "\n",
      "Rflop = 2 * Nmajor*Nbeam*Npp*(Nf_out*(Rrp + Rfft) + (Nf_used*Rccf) + Rgrid) # Overall flop rate\n",
      "Mbuf_vis = 2 * Mvis * Nbeam * Npp * Nvis * Tobs / u.s # Note the division by u.s to get rid of pesky SI unit. Also note the factor 2 -- we have a double buffer (allowing storage of a full observation while simultaneously capturing the next)\n",
      "Rio = Mvis * Nmajor * Nbeam * Npp * Nvis\n",
      "\n",
      "Gcorr = Na * (Na - 1) * Nf_max * Nbeam * Nw * Npp / Tdump  # Minimum correlator output data rate, after baseline dependent averaging \n",
      "\n",
      "# Split the FLOP rate into constituent parts, for plotting\n",
      "Rflop_common_factor = 2 * Nmajor * Nbeam * Npp\n",
      "Rflop_grid = Rflop_common_factor * Rgrid\n",
      "Rflop_conv = Rflop_common_factor * Nf_used * Rccf\n",
      "Rflop_fft  = Rflop_common_factor * Nf_out  * Rfft\n",
      "Rflop_proj = Rflop_common_factor * Nf_out  * Rrp"
     ],
     "language": "python",
     "metadata": {},
     "outputs": [],
     "prompt_number": 20
    },
    {
     "cell_type": "heading",
     "level": 2,
     "metadata": {},
     "source": [
      "Telescope parameters"
     ]
    },
    {
     "cell_type": "code",
     "collapsed": false,
     "input": [
      "universal = {Omega_E : 7.292115e-5,  # In PDR05 Excel sheet a value of 0.0000727 was used. This value based on rotation relative to the fixed stars,\n",
      "             R_Earth : const.R_earth.value * u.m, # In PDR05 Excel sheet a value of 6400000 was used,\n",
      "             Naa   : 9,\n",
      "             Npp  : 4,\n",
      "             Nmm  : 4,\n",
      "             Nf_max: 256000,        # maximum number of channels (not actually universal, as can be lower depending on spectral line requirements)\n",
      "             Tion : 60.0,\n",
      "             epsilon_w : 0.01,\n",
      "             Mvis : 12.0,\n",
      "             Qbw  : 1.0,\n",
      "             Qw   : 1.0,\n",
      "             Qgcf : 8.0,\n",
      "             Qfcv : 10.0,\n",
      "             Tsnap_min : 1.2,\n",
      "             Blim_mid : 20000 # Baseline length that(Fbshort+Fbmid, i.e. 90%) of baselines are shorter than.\n",
      "             # ** Is this value valid ?? Especially for all telescopes, as they have different baselines ** ??? \n",
      "             }  \n",
      "\n",
      "# The three telescopes, along with their unique characteristics\n",
      "telescope_info = {\n",
      "    'SKA1_Low': {\n",
      "        Qw2  : 0.0458053,  # Weighing value for baseline length distribution (Ask Rosie Bolton for interpretation)\n",
      "        Qw32 : 0.0750938,  # Weighing value for baseline length distribution (Ask Rosie Bolton for interpretation)\n",
      "        Tdump_ref: 0.6* u.s, # Correlator dump time in reference design\n",
      "        Na: 1024,            # number of antennas\n",
      "        Nbeam: 1,            # number of beams\n",
      "        Ds: 35 * u.m,        # station \"diameter\" in meters\n",
      "        Bmax: 100 * u.km,     # Actually constructed kilometers of max baseline\n",
      "        Bmax_ref: 100 * u.km, # kilometers of max baseline in reference design\n",
      "        Fb_short_tel : 0.5,   # Fraction of baselines short enough for data to be averaged to frequency\n",
      "                              # resolution of output prior to gridding. Only relevant for continuum modes\n",
      "    },\n",
      "    'SKA1_Mid': {  # Assuming band 1, for the moment. TODO: allow all bands to be computed.\n",
      "        Qw2  : 0.0278115,  # Weighing value for baseline length distribution (Ask Rosie Bolton for interpretation)\n",
      "        Qw32 : 0.0462109,  # Weighing value for baseline length distribution (Ask Rosie Bolton for interpretation)\n",
      "        Tdump_ref: 0.08 * u.s, # Correlator dump time in reference design\n",
      "        Na: 190+64,            # number of antennas\n",
      "        Nbeam: 1,          # number of beams\n",
      "        Ds: 15 * u.m,      # station \"diameter\" in meters\n",
      "        Bmax: 200 * u.km,     # Actually constructed kilometers of max baseline\n",
      "        Bmax_ref: 200 * u.km, # kilometers of max baseline in reference design\n",
      "        Fb_short_tel : 0.5, # Fraction of baselines short enough for data to be averaged to frequency\n",
      "                            # resolution of output prior to gridding. Only relevant for continuum modes\n",
      "    },\n",
      "    'SKA1_Survey': { # Assuming band 1, for the moment. TODO: allow all bands to be computed.\n",
      "        Qw2  : 0.0569392,  # Weighing value for baseline length distribution (Ask Rosie Bolton for interpretation)\n",
      "        Qw32 : 0.0929806,  # Weighing value for baseline length distribution (Ask Rosie Bolton for interpretation)\n",
      "        Tdump_ref: 0.3 * u.s, # Correlator dump time in reference design\n",
      "        Na: 96,               # number of antennas\n",
      "        Nbeam: 36,            # number of beams (36 because this is a PAF)\n",
      "        Ds: 15 * u.m,         # station \"diameter\" in meters\n",
      "        Bmax: 50 * u.km,     # Actually constructed kilometers of max baseline\n",
      "        Bmax_ref: 50 * u.km, # kilometers of max baseline in reference design\n",
      "        Fb_short_tel : 0.1,  # Fraction of baselines short enough for data to be averaged to frequency\n",
      "                             # resolution of output prior to gridding. Only relevant for continuum modes\n",
      "    },\n",
      "}\n",
      "\n",
      "# The 'standard' bands\n",
      "band_info = {\n",
      "    'Low' : {\n",
      "        'telescope' : 'SKA1_Low',\n",
      "        freq_min :  50e6 * u.Hz,\n",
      "        freq_max : 350e6 * u.Hz,\n",
      "    },\n",
      "    'Mid1' : {\n",
      "        'telescope' : 'SKA1_Mid',\n",
      "        freq_min :  350e6 * u.Hz,\n",
      "        freq_max : 1.05e9 * u.Hz,\n",
      "    },\n",
      "    'Mid2' : {\n",
      "        'telescope' : 'SKA1_Mid',\n",
      "        freq_min : 949.367e6 * u.Hz,\n",
      "        freq_max : 1.7647e9 * u.Hz,\n",
      "    },\n",
      "    'Mid3' : {\n",
      "        'telescope' : 'SKA1_Mid',\n",
      "        freq_min : 1.65e9 * u.Hz,\n",
      "        freq_max : 3.05e9 * u.Hz,\n",
      "    },\n",
      "    'Mid4' : {\n",
      "        'telescope' : 'SKA1_Mid',\n",
      "        freq_min : 2.80e9 * u.Hz,\n",
      "        freq_max : 5.18e9 * u.Hz,\n",
      "    },\n",
      "    'Mid5A' : {\n",
      "        'telescope' : 'SKA1_Mid',\n",
      "        freq_min : 4.60e9 * u.Hz,\n",
      "        freq_max : 7.10e9 * u.Hz,\n",
      "    },\n",
      "    'Mid5B' : {\n",
      "        'telescope' : 'SKA1_Mid',\n",
      "        freq_min : 11.3e9 * u.Hz,\n",
      "        freq_max : 13.8e9 * u.Hz,\n",
      "    },\n",
      "    'Sur1' : {\n",
      "        'telescope' : 'SKA1_Survey',\n",
      "        freq_min : 350e6 * u.Hz,\n",
      "        freq_max : 850e6 * u.Hz,\n",
      "    },\n",
      "    'Sur2A' : {\n",
      "        'telescope' : 'SKA1_Survey',\n",
      "        freq_min :  650e6 * u.Hz,\n",
      "        freq_max : 1.35e9 * u.Hz,\n",
      "    },\n",
      "    'Sur2B' : {\n",
      "        'telescope' : 'SKA1_Survey',\n",
      "        freq_min : 1.17e9 * u.Hz,\n",
      "        freq_max : 1.67e9 * u.Hz,\n",
      "    },\n",
      "    'Sur3A' : {\n",
      "        'telescope' : 'SKA1_Survey',\n",
      "        freq_min : 1.5e9 * u.Hz,\n",
      "        freq_max : 2.0e9 * u.Hz,\n",
      "    },\n",
      "    'Sur3B' : {\n",
      "        'telescope' : 'SKA1_Survey',\n",
      "        freq_min : 3.5e9 * u.Hz,\n",
      "        freq_max : 4.0e9 * u.Hz,\n",
      "    },\n",
      "}\n",
      "\n",
      "# Imaging Modes\n",
      "imaging_mode_info = {\n",
      "    'Continuum': {\n",
      "        Qfov:  1.8, # Field of view factor\n",
      "        Nmajor: 10, # Number of major CLEAN cycles to be done\n",
      "        Qpix:  2.5, # Quality factor of synthesised beam oversampling\n",
      "        Nf_max: 256000, \n",
      "        Nf_out : 500,\n",
      "        Fb_short : 0* Fb_short_tel,\n",
      "        Tobs : 6 * u.hours,\n",
      "        Fb_mid  : 1-0.1-Fb_short,\n",
      "        Nf_no_smear : log(wl_max/wl_min) / log(3*(wl/u.m) /(2*Blim_mid)/(Theta_fov*Qbw)+1) ,\n",
      "        Rrp : 50 * Npix**2 / Tsnap,\n",
      "        Nf_used : log(wl_max/wl_min) / log(3*(wl/u.m) /(2*Blim_mid)/(Theta_fov*Qbw)+1), #Number of channels for gridding at longest baseline\n",
      "\n",
      "    }, \n",
      "    'Spectral': {\n",
      "        Qfov: 1.0, # Field of view factor\n",
      "        Nmajor: 1, # Number of major CLEAN cycles to be done        \n",
      "        Qpix: 2.5, # Quality factor of synthesised beam oversampling\n",
      "        Nf_out : Nf_max, #The same as the number of channels\n",
      "        Nf_no_smear : log(wl_max/wl_min) / log(3*(wl/u.m) /(2*Blim_mid)/(Theta_fov*Qbw)+1) ,\n",
      "        Nf_used : Nf_max,\n",
      "        Fb_short : 0 * Fb_short_tel, # Need a symbolic expression to be able to be substuted; hence multiply by 0 \n",
      "        Tobs : 6 * u.hours,\n",
      "        Fb_mid : Fb_short,\n",
      "        Rrp : 50 * Npix**2 / Tsnap,\n",
      "    },\n",
      "    'SlowTrans': {\n",
      "        Qfov: 0.9, # Field of view factor\n",
      "        Nmajor: 1, # Number of major CLEAN cycles to be done\n",
      "        Qpix: 1.5, # Quality factor of synthesised beam oversampling\n",
      "        Nf_out : 500,  # Initially this value was computed (see line above), but Rosie has since specified that it should just be set to 500.\n",
      "        Nf_used : ln(wl_max / wl_min) / ln((Theta_beam/(Theta_fov*Qbw)+1)), #Number of bands for gridding at longest baseline\n",
      "        Fb_short : 0 * Fb_short_tel,\n",
      "        Tobs : 1.2 * u.s,  # Used to be equal to Tdump, but after talking to Rosie set this to 1.2 sec\n",
      "        Fb_mid  : 1-0.1-Fb_short,\n",
      "        Nf_no_smear : log(wl_max/wl_min) / log(3*(wl/u.m)/(2*Blim_mid)/(Theta_fov*Qbw)+1),\n",
      "        Rrp : 0 * Tsnap,\n",
      "    },\n",
      "}\n",
      "\n",
      "## High Priority Science Objectives (overwrite any previously defined settings)\n",
      "hpsos = {\n",
      "    '01' : {\n",
      "        'telescope' : 'SKA1_Low',\n",
      "        'mode'      : 'Continuum',\n",
      "        freq_min  :  50e6 * u.Hz,\n",
      "        freq_max  : 200e6 * u.Hz,\n",
      "        Nbeam     : 2, #using 2 beams as per HPSO request...\n",
      "        Nf_out    : 1500, # 1500 channels in output - simpler to just run as a continuum experiment - though an alternative would be to run as CS mode with 500+1500 channels\n",
      "        Tobs      : 6 * u.hours,\n",
      "        Nf_max    : 256000,\n",
      "        Bmax      : 100 * u.kilometer,\n",
      "        Fb_mid    : 0, # Check\n",
      "        Texp      : 2500 * u.hours,\n",
      "        Tpoint    : 1000 * u.hours,\n",
      "    },\n",
      "    '02A' : {\n",
      "        'telescope' : 'SKA1_Low',\n",
      "        'mode'      : 'Continuum',\n",
      "        freq_min  :  50e6 * u.Hz,\n",
      "        freq_max  : 200e6 * u.Hz,\n",
      "        Nbeam     : 2, #using 2 beams as per HPSO request...\n",
      "        Tobs      : 6 * u.hours,\n",
      "        Nf_max    : 256000,\n",
      "        Nf_out    : 1500, # 1500 channels in output - simpler to just run as a continuum experiment - though an alternative would be to run as CS mode with 500+1500 channels\n",
      "        Bmax      : 100 * u.kilometer,\n",
      "        Fb_mid    : 0, # Check\n",
      "        Texp      : 2500 * u.hours,\n",
      "        Tpoint    : 100 * u.hours,\n",
      "    },\n",
      "    '02B' : {\n",
      "        'telescope' : 'SKA1_Low',\n",
      "        'mode'      : 'Continuum',\n",
      "        freq_min  :  50e6 * u.Hz,\n",
      "        freq_max  : 200e6 * u.Hz,\n",
      "        Nbeam     : 2, #using 2 beams as per HPSO request...\n",
      "        Tobs      : 6 * u.hours,\n",
      "        Nf_max    : 256000,\n",
      "        Nf_out    : 1500, # 1500 channels in output - simpler to just run as a continuum experiment - though an alternative would be to run as CS mode with 500+1500 channels\n",
      "        Bmax      : 100 * u.kilometer,\n",
      "        Fb_mid    : 0, # Check\n",
      "        Texp      : 2500 * u.hours,\n",
      "        Tpoint    : 10 * u.hours,\n",
      "    },\n",
      "    '03A' : {\n",
      "        'telescope' : 'SKA1_Low',\n",
      "        'mode'      : 'SlowTrans',\n",
      "        'comment' : 'Pulsar Search. Real time calibration loading; assume this is like SlowTrans FLOP rate',\n",
      "        freq_min  : 150e6 * u.Hz,\n",
      "        freq_max  : 350e6 * u.Hz,\n",
      "        Tobs      : 0 * u.hours,\n",
      "        Nf_max    : 256000,\n",
      "        Bmax      : 100 * u.kilometer,\n",
      "        Fb_mid    : 0, # Check\n",
      "        Texp      : 12800 * u.hours,\n",
      "        Tpoint    : 0.17 * u.hours,\n",
      "        Nmajor    : 10,\n",
      "    },\n",
      "    '03B' : {\n",
      "        'telescope' : 'SKA1_Low',\n",
      "        'mode'      : 'SlowTrans',\n",
      "        'comment' : 'Pulsar Search. Real time calibration loading; assume this is like SlowTrans FLOP rate',\n",
      "        freq_min  : 150e6 * u.Hz,\n",
      "        freq_max  : 350e6 * u.Hz,\n",
      "        Tobs      : 0 * u.hours,\n",
      "        Nf_max    : 256000,\n",
      "        Bmax      : 100 * u.kilometer,\n",
      "        Fb_mid    : 0, # Check\n",
      "        Texp      : 4300 * u.hours,\n",
      "        Tpoint    : 0.17 * u.hours,\n",
      "        Nmajor    : 10,\n",
      "    },\n",
      "    '04A' : {\n",
      "        'telescope' : 'SKA1_Mid',\n",
      "        'mode'      : 'SlowTrans',\n",
      "        'comment' : 'Pulsar Search. Real time calibration loading; assume this is like SlowTrans FLOP rate. Assuming using only baselines out to 10km for real time calibration, allowing 10 major cycles.',\n",
      "        freq_min  : 650e6 * u.Hz,\n",
      "        freq_max  : 950e6 * u.Hz,\n",
      "        Tobs      : 0 * u.hours,\n",
      "        Nf_max    : 256000,\n",
      "        Bmax      : 10 * u.kilometer,\n",
      "        Fb_mid    : 0, # Check\n",
      "        Texp      : 800 * u.hours,\n",
      "        Tpoint    : (10/60.0) * u.hours,\n",
      "        Nmajor    : 10,\n",
      "    },\n",
      "    '04B' : {\n",
      "        'telescope' : 'SKA1_Mid',\n",
      "        'mode'      : 'SlowTrans',\n",
      "        'comment' : 'Pulsar Search. Real time calibration loading; assume this is like SlowTrans FLOP rate. Assuming using only baselines out to 10km for real time calibration, allowing 10 major cycles.',\n",
      "        freq_min  : 1.25e9 * u.Hz,\n",
      "        freq_max  : 1.55e9 * u.Hz,\n",
      "        Tobs      : 0 * u.hours,\n",
      "        Nf_max    : 256000,\n",
      "        Bmax      : 10 * u.kilometer,\n",
      "        Fb_mid    : 0, # Check\n",
      "        Texp      : 800 * u.hours,\n",
      "        Tpoint    : (10/60.0) * u.hours,\n",
      "        Nmajor    : 10,\n",
      "    },\n",
      "    '05A' : {\n",
      "        'telescope' : 'SKA1_Mid',\n",
      "        'mode'      : 'SlowTrans',\n",
      "        'comment' : 'Pulsar Timing. Real time calibration loading; assume this is like SlowTrans FLOP rate. Assuming using only baselines out to 15km for real time calibration, allowing 10 major cycles.',\n",
      "        freq_min  : 0.95e9 * u.Hz,\n",
      "        freq_max  : 1.76e9 * u.Hz,\n",
      "        Tobs      : 0 * u.hours,\n",
      "        Nf_max    : 256000,\n",
      "        Bmax      : 15 * u.kilometer,\n",
      "        Fb_mid    : 0, # Check\n",
      "        Texp      : 1600 * u.hours,\n",
      "        Tpoint    : (10/60.0) * u.hours,\n",
      "        Nmajor    : 10,\n",
      "    },\n",
      "    '05B' : {\n",
      "        'telescope' : 'SKA1_Mid',\n",
      "        'mode'      : 'SlowTrans',\n",
      "        'comment' : 'Pulsar Timing. Real time calibration loading; assume this is like SlowTrans FLOP rate. Assuming using only baselines out to 15km for real time calibration, allowing 10 major cycles.',\n",
      "        freq_min  : 1.65e9 * u.Hz,\n",
      "        freq_max  : 3.05e9 * u.Hz,\n",
      "        Tobs      : 0 * u.hours,\n",
      "        Nf_max    : 256000,\n",
      "        Bmax      : 15 * u.kilometer,\n",
      "        Fb_mid    : 0, # Check\n",
      "        Texp      : 1600 * u.hours,\n",
      "        Tpoint    : (10/60.0) * u.hours,\n",
      "        Nmajor    : 10,\n",
      "    },\n",
      "    '13' : {\n",
      "        'telescope' : 'SKA1_Survey',\n",
      "        'mode'      : 'CS',\n",
      "        'comment' : 'HI, limited BW',\n",
      "        freq_min  : 790e6 * u.Hz,\n",
      "        freq_max  : 950e6 * u.Hz,\n",
      "        Tobs      : 6 * u.hours,\n",
      "        Nf_max    : 3200, #Assume 500 in continuum as well - defualt.\n",
      "        Bmax      : 40 * u.kilometer,\n",
      "        Fb_mid    : 0, # Check\n",
      "        Texp      : 5000 * u.hours,\n",
      "        Tpoint    : 2500 * u.hours,\n",
      "    },\n",
      "    '14' : {\n",
      "        'telescope' : 'SKA1_Mid',\n",
      "        'mode'      : 'CS',\n",
      "        'comment' : 'HI',\n",
      "        freq_min  :  1.3e9 * u.Hz,\n",
      "        freq_max  :  1.4e9 * u.Hz,\n",
      "        Tobs      : 6 * u.hours,\n",
      "        Nf_max    : 5000, #Only 5,000 spectral line channels. Assume 500 - default - for continuum as well.\n",
      "        Bmax      : 200 * u.kilometer,\n",
      "        Fb_mid    : 0, # Check\n",
      "        Texp      : 2000 * u.hours,\n",
      "        Tpoint    : 10 * u.hours,\n",
      "    },\n",
      "    '15' : {\n",
      "        'telescope' : 'SKA1_Survey',\n",
      "        'mode'      : 'CS',\n",
      "        'comment' : 'HI, limited spatial resolution',\n",
      "        freq_min  :  1.415e9 * u.Hz,\n",
      "        freq_max  :  1.425e9 * u.Hz,\n",
      "        Tobs      : 6 * u.hours,\n",
      "        Nf_max    : 2500, #Only 2,500 spectral line channels. Assume 500 - default - for continuum as well.\n",
      "        Bmax      : 13 * u.kilometer,\n",
      "        Fb_mid    : 0, # Check\n",
      "        Texp      : 2000 * u.hours,\n",
      "        Tpoint    : 10 * u.hours,\n",
      "    },\n",
      "    '19' : {\n",
      "        'telescope' : 'SKA1_Mid',\n",
      "        'mode'      : 'SlowTrans',\n",
      "        'comment' : 'Transients. Real time calibration loading; assume this is like SlowTrans FLOP rate. Assuming using only baselines out to 10km for real time calibration, allowing 10 major cycles.',\n",
      "        freq_min  : 650e6 * u.Hz,\n",
      "        freq_max  : 950e6 * u.Hz,\n",
      "        Tobs      : 0 * u.hours,\n",
      "        Nf_max    : 256000,\n",
      "        Bmax      : 10 * u.kilometer,\n",
      "        Fb_mid    : 0, # Check\n",
      "        Texp      : 10000 * u.hours,\n",
      "        Tpoint    : (10/60.0) * u.hours,\n",
      "        Nmajor    : 10,\n",
      "    },\n",
      "    '22' : {\n",
      "        'telescope' : 'SKA1_Mid',\n",
      "        'mode'      : 'Continuum',\n",
      "        'comment' : 'Cradle of life',\n",
      "        freq_min  :  10e9 * u.Hz,\n",
      "        freq_max  :  12e9 * u.Hz,\n",
      "        Tobs      : 6 * u.hours,\n",
      "        Nf_max    : 4000,\n",
      "        Nf_out    : 4000, #4000 channel continuum observation - band 5.\n",
      "        Bmax      : 200 * u.kilometer,\n",
      "        Fb_mid    : 0, # Check\n",
      "        Texp      : 6000 * u.hours,\n",
      "        Tpoint    : 600 * u.hours,\n",
      "    },\n",
      "    '27' : {\n",
      "        'telescope' : 'SKA1_Survey',\n",
      "        'mode'      : 'Continuum',\n",
      "        freq_min  :  1.0e9 * u.Hz,\n",
      "        freq_max  :  1.5e9 * u.Hz,\n",
      "        Tobs      : 6 * u.hours,\n",
      "        Nf_max    : 256000,\n",
      "        Nf_out    : 500, #continuum experiment with 500 output channels\n",
      "        Bmax      : 50 * u.kilometer,\n",
      "        Fb_mid    : 0, # Check\n",
      "        Texp      : 17500 * u.hours,\n",
      "        Tpoint    : 10 * u.hours,\n",
      "    },\n",
      "    '33' : {\n",
      "        'telescope' : 'SKA1_Survey',\n",
      "        'mode'      : 'Continuum',\n",
      "        freq_min  :  1.0e9 * u.Hz,\n",
      "        freq_max  :  1.5e9 * u.Hz,\n",
      "        Tobs      : 6 * u.hours,\n",
      "        Nf_out    : 500, #continuum experiment with 500 output channels\n",
      "        Bmax      : 50 * u.kilometer,\n",
      "        Fb_mid    : 0, # Check\n",
      "        Texp      : 17500 * u.hours,\n",
      "        Tpoint    : 10 * u.hours,\n",
      "    },\n",
      "    '35' : {\n",
      "        'telescope' : 'SKA1_Survey',\n",
      "        'mode'      : 'SlowTrans',\n",
      "        'comment' : 'Autocorrelation',\n",
      "        freq_min  :   650e6 * u.Hz,\n",
      "        freq_max  :  1.15e9 * u.Hz,\n",
      "        Tobs      : 0 * u.hours,\n",
      "        Nf_max    : 256000,\n",
      "        Nf_out    : 500,\n",
      "        Bmax      : 10 * u.kilometer,\n",
      "        Fb_mid    : 0, # Check\n",
      "        Texp      : 5500 * u.hours,\n",
      "        Tpoint    : 3.3 * u.hours,\n",
      "    },\n",
      "    '37a' : {\n",
      "        'telescope' : 'SKA1_Mid',\n",
      "        'mode'      : 'Continuum',\n",
      "        freq_min  :  1e9 * u.Hz,\n",
      "        freq_max  :  1.7e9 * u.Hz,\n",
      "        Tobs      : 6 * u.hours,\n",
      "        Nf_out    : 700, #700 channels required in output continuum cubes\n",
      "        Bmax      : 200 * u.kilometer,\n",
      "        Fb_mid    : 0, # Check\n",
      "        Texp      : 2000 * u.hours,\n",
      "        Tpoint    : 95 * u.hours,\n",
      "    },\n",
      "    '37b' : {\n",
      "        'telescope' : 'SKA1_Mid',\n",
      "        'mode'      : 'Continuum',\n",
      "        freq_min  :  1e9 * u.Hz,\n",
      "        freq_max  :  1.7e9 * u.Hz,\n",
      "        Tobs      : 6 * u.hours,\n",
      "        Nf_out    : 700, #700 channels required in output continuum cubes\n",
      "        Bmax      : 200 * u.kilometer,\n",
      "        Fb_mid    : 0, # Check\n",
      "        Texp      : 2000 * u.hours,\n",
      "        Tpoint    : 2000 * u.hours,\n",
      "    },\n",
      "    '37c' : {\n",
      "        'telescope' : 'SKA1_Survey',\n",
      "        'mode'      : 'Continuum',\n",
      "        freq_min  :  1e9 * u.Hz,\n",
      "        freq_max  :  1.5e9 * u.Hz,\n",
      "        Tobs      : 6 * u.hours,\n",
      "        Nf_out    : 500, #500 channels in output cube\n",
      "        Bmax      : 50 * u.kilometer,\n",
      "        Fb_mid    : 0, # Check\n",
      "        Texp      : 5300 * u.hours,\n",
      "        Tpoint    : 95 * u.hours,\n",
      "    },\n",
      "    '38a' : {\n",
      "        'telescope' : 'SKA1_Mid',\n",
      "        'mode'      : 'Continuum',\n",
      "        freq_min  :  7e9 * u.Hz,\n",
      "        freq_max  :  11e9 * u.Hz,\n",
      "        Tobs      : 6 * u.hours,\n",
      "        Nf_out    : 1000,\n",
      "        Bmax      : 200 * u.kilometer,\n",
      "        Fb_mid    : 0, # Check\n",
      "        Texp      : 1000 * u.hours,\n",
      "        Tpoint    : 16.4 * u.hours,\n",
      "    },\n",
      "    '38b' : {\n",
      "        'telescope' : 'SKA1_Mid',\n",
      "        'mode'      : 'Continuum',\n",
      "        freq_min  :  7e9 * u.Hz,\n",
      "        freq_max  :  11e9 * u.Hz,\n",
      "        Tobs      : 6 * u.hours,\n",
      "        Nf_out    : 1000,\n",
      "        Bmax      : 200 * u.kilometer,\n",
      "        Fb_mid    : 0, # Check\n",
      "        Texp      : 1000 * u.hours,\n",
      "        Tpoint    : 1000 * u.hours,\n",
      "    }\n",
      "}"
     ],
     "language": "python",
     "metadata": {},
     "outputs": [],
     "prompt_number": 95
    },
    {
     "cell_type": "heading",
     "level": 2,
     "metadata": {},
     "source": [
      "Code to perform evaluations"
     ]
    },
    {
     "cell_type": "code",
     "collapsed": false,
     "input": [
      "telescope_list = ['SKA1_Low', 'SKA1_Mid', 'SKA1_Survey'] \n",
      "imaging_modes = ['Continuum', 'Spectral', 'SlowTrans', 'CS']   # CS = Continuum, followed by spectral\n",
      "\n",
      "telescope_labels = dict(\n",
      "    zip(\n",
      "        telescope_list,\n",
      "        symbols('Low, Mid, Sur')\n",
      "    )\n",
      ")\n",
      "\n",
      "mode_labels = dict(\n",
      "    zip(\n",
      "        imaging_modes,\n",
      "        symbols('C, S, ST, C+S')\n",
      "    )\n",
      ")\n",
      "\n",
      "def optimize_Tsnap(telescope_params):\n",
      "    '''\n",
      "    Optimized Tsnap so that Rflop is minimized for the provided set of telescope parameters\n",
      "    '''\n",
      "    telescope_params = copy.copy(telescope_params)\n",
      "    for token in ('mode', 'band', 'telescope', 'comment'):\n",
      "        if token in telescope_params:\n",
      "            telescope_params.pop(token)\n",
      "\n",
      "    rflop_expression = Rflop.subs(telescope_params).subs(telescope_params)\n",
      "    Rflop_eval = lambdify(Tsnap, rflop_expression, modules=(\"sympy\",))\n",
      "    Rflop_eval_f = lambda x: float(Rflop_eval(x))\n",
      "    \n",
      "    # Remove the string literals from the telescope_params, as they can't be evaluated by lambdify\n",
      "    Tobs_val = remove_units(Tobs.subs(telescope_params).subs(telescope_params))\n",
      "    Tsnap_min_val = remove_units(Tsnap_min.subs(telescope_params).subs(telescope_params))\n",
      "    \n",
      "    # Lower bound cannot be higher than the uppper bound.\n",
      "    if 0.5 * Tobs_val <= Tsnap_min_val:\n",
      "        # print 'Unable to optimize T_snap as 0.5*Tobs_val <= Tsnap_min (%f <= %f). Using Tsnap_min.' % (0.5*Tobs_val, Tsnap_min_val)\n",
      "        return Tsnap_min_val\n",
      "    else:\n",
      "        result = opt.minimize_scalar(Rflop_eval_f, bounds=(Tsnap_min_val, 0.5 * Tobs_val), method='bounded')\n",
      "        if not result.success:\n",
      "            print 'WARNING! : Was unable to optimize Tsnap. Using a value of: %f' % result.x \n",
      "        else:\n",
      "            # print 'Optimized T_snap = %f' % result.x\n",
      "            pass\n",
      "        return result.x\n",
      "\n",
      "def calc_tel_params(band=None, mode=None, hpso=None):\n",
      "    '''\n",
      "    Calculate telescope parameters for a supplied band, mode or hpso\n",
      "    '''\n",
      "    freq_range = {}\n",
      "    hpso_params = None\n",
      "    if hpso is not None:\n",
      "        assert hpso in hpsos\n",
      "        hpso_params = hpsos[hpso]\n",
      "        assert hpso_params is not None\n",
      "        assert 'telescope' in hpso_params\n",
      "        telescope = hpso_params['telescope']\n",
      "        if 'comment' in hpso_params:\n",
      "            hpso_params.pop('comment')\n",
      "    else:\n",
      "        freq_range = copy.copy(band_info[band])\n",
      "        telescope = freq_range['telescope']\n",
      "        freq_range.pop('telescope')  # This key currently is not a defined variable, so we need to lose it for evaluations.\n",
      "        \n",
      "    #######################################################################################################################\n",
      "    # Concatenate all relevant dicionaries to make a unified dictionary of all parameters to use (for this evaluation run)\n",
      "    # The sequence of concatenation is important - each added parameter set overwrites \n",
      "    # any existing parameters that have duplicate keys.\n",
      "    #\n",
      "    # Concatenations are done with the following syntax: extended_params = dict(base_params, **additional_params)\n",
      "    #\n",
      "    # First, universal (default) parameters. These will most probably not be overwritten as they relate to physical constants.\n",
      "    # Then, the telescope-specific parameters.\n",
      "    # Then, the frequency range that was explicitly specified (if any).\n",
      "    # Then, the parameters belonging to the selected imaging mode\n",
      "    # Lastly, if specified, the parameters of the specific high priority science objective (HPSO)\n",
      "    #######################################################################################################################\n",
      "\n",
      "    telescope_params = dict(universal, **telescope_info[telescope])  # universal and telescope parameters\n",
      "    telescope_params = dict(telescope_params, **freq_range)  # Overwrite specific frequency range information\n",
      "        \n",
      "    answer = {}\n",
      "    if mode == 'CS':\n",
      "        telescope_params = dict(telescope_params, **imaging_mode_info['Continuum'])\n",
      "        telescope_params_C = telescope_params.copy()\n",
      "        if hpso_params is not None:\n",
      "            telescope_params_C = dict(telescope_params_C, **hpso_params)\n",
      "                    \n",
      "        telescope_params = dict(telescope_params, **imaging_mode_info['Spectral'])\n",
      "        telescope_params_S = telescope_params.copy()\n",
      "        if hpso_params is not None:\n",
      "            telescope_params_S = dict(telescope_params_S, **hpso_params)\n",
      "\n",
      "        telescope_params = {'C'  : telescope_params_C, \n",
      "                            'S'  : telescope_params_S}\n",
      "    else:\n",
      "        telescope_params = dict(telescope_params, **imaging_mode_info[mode])\n",
      "        if hpso_params is not None:\n",
      "            telescope_params = dict(telescope_params, **hpso_params)\n",
      "                \n",
      "    return telescope_params\n",
      "\n",
      "def calc_tel_expression(expr, telescope_parameters, mode=None):\n",
      "    '''\n",
      "    Calculates the answer to an expression by substituting the supplied telescope parameters into the expression.\n",
      "    '''        \n",
      "    Tsnap_optimal = optimize_Tsnap(telescope_parameters)  # Solution to Tsnap has to be bounded \n",
      "    telescope_parameters[Tsnap] = Tsnap_optimal\n",
      "    answer = expr.subs(telescope_parameters).subs(telescope_parameters)\n",
      "    if (mode is not None) and (mode != 'CS'):\n",
      "        answer = {mode : answer}\n",
      "    telescope_parameters.pop(Tsnap) # for safety: forgets the value of Tsnap again for subsequent evaluations\n",
      "    return answer\n",
      "\n",
      "def calc_tel(band=None, mode=None, hpso=None, expr=None):\n",
      "    '''\n",
      "    Evaluate an expression for a single telescope.\n",
      "    This method is no longer strictly necessary in this form, but is provided for backward compatibility\n",
      "    '''\n",
      "    answer = None\n",
      "    \n",
      "    if hpso is not None: # Get the 'mode' that corresponds to the hpso\n",
      "        assert hpso in hpsos\n",
      "        hpso_params = hpsos[hpso]\n",
      "        assert hpso_params is not None\n",
      "        assert 'mode' in hpso_params\n",
      "        if mode is not None:\n",
      "            assert mode == hpso_params['mode']\n",
      "        mode = hpso_params['mode']\n",
      "    \n",
      "    params = calc_tel_params(band, mode, hpso)\n",
      "    if mode == 'CS':\n",
      "        answer_C = calc_tel_expression(expr, params['C'], mode)\n",
      "        answer_S = calc_tel_expression(expr, params['S'], mode)\n",
      "        answer = {'Continuum' : answer_C, \n",
      "                  'Spectral'  : answer_S}\n",
      "    else:\n",
      "        answer = calc_tel_expression(expr, params, mode)\n",
      "    return answer"
     ],
     "language": "python",
     "metadata": {},
     "outputs": [],
     "prompt_number": 96
    },
    {
     "cell_type": "heading",
     "level": 1,
     "metadata": {},
     "source": [
      "3. Results:"
     ]
    },
    {
     "cell_type": "heading",
     "level": 2,
     "metadata": {},
     "source": [
      "For a specific telescope & mode:"
     ]
    },
    {
     "cell_type": "code",
     "collapsed": false,
     "input": [
      "chosen_band = 'Low'\n",
      "chosen_mode = 'Spectral'\n",
      "result_flops = calc_tel(band=chosen_band, mode=chosen_mode, expr=Rflop)\n",
      "result_mbuf = calc_tel(band=chosen_band, mode=chosen_mode, expr=Mbuf_vis)\n",
      "result_rio = calc_tel(band=chosen_band, mode=chosen_mode, expr=Rio)\n",
      "result_Gcorr = calc_tel(band=chosen_band, mode=chosen_mode, expr=Gcorr)\n",
      "#result_custom = calc_tel(band=chosen_band, mode=chosen_mode, expr=Nf_out)\n",
      "result_Nfout = calc_tel(band=chosen_band, mode=chosen_mode, expr=Nf_out)\n",
      "for mode in result_flops:\n",
      "    print '%s in %s mode:' % (chosen_band, chosen_mode) \n",
      "    print '=> %.3g PetaFLOPS' % (float(result_flops[mode])/1e15)\n",
      "    print '=> %.3g PetaBytes required for the visibilities buffer' % (float(result_mbuf[mode])/1e15)\n",
      "    print '=> %.3g TeraBytes/s required for IO' % (float(result_rio[mode])/1e12)\n",
      "    print '=> %.3g TeraBytes/s bda correlator output' % (float(result_Gcorr[mode] * u.s)/1e12)\n",
      "    print '=> Frequency channels output : %.5g' % (float(result_Nfout[mode]))\n",
      "    #print '=> Custom parameter : %.5g' % (float(result_custom[mode]))\n",
      "    "
     ],
     "language": "python",
     "metadata": {},
     "outputs": [
      {
       "output_type": "stream",
       "stream": "stdout",
       "text": [
        "Low in Spectral mode:\n",
        "=> 13.5 PetaFLOPS\n",
        "=> 463 PetaBytes required for the visibilities buffer\n",
        "=> 10.7 TeraBytes/s required for IO\n",
        "=> 3.58 TeraBytes/s bda correlator output\n",
        "=> Frequency channels output : 2.56e+05\n"
       ]
      }
     ],
     "prompt_number": 97
    },
    {
     "cell_type": "heading",
     "level": 2,
     "metadata": {},
     "source": [
      "For all standard bands:"
     ]
    },
    {
     "cell_type": "code",
     "collapsed": false,
     "input": [
      "expressions = {'Rflop_grid' : Rflop_grid, \n",
      "               'Rflop_conv' : Rflop_conv, \n",
      "               'Rflop_fft'  : Rflop_fft, \n",
      "               'Rflop_proj' : Rflop_proj,\n",
      "               'Mbuf_vis'   : Mbuf_vis}\n",
      "\n",
      "flops_expressions = {'Rflop_grid', 'Rflop_conv', 'Rflop_fft', 'Rflop_proj'}\n",
      "\n",
      "bands = band_info.keys()\n",
      "bands.sort()\n",
      "results = {}\n",
      "\n",
      "for band in bands:\n",
      "    tel = band_info[band]['telescope']\n",
      "    print '%s %s:' % (band, tel)\n",
      "    for imaging_mode in imaging_mode_info:\n",
      "        for expression in expressions.keys():\n",
      "            result = calc_tel(band=band, mode=imaging_mode, expr=expressions[expression])\n",
      "            results[(band, imaging_mode, expression)] = result[imaging_mode]\n",
      "            print '-> %s : %s = %.3g Peta' % (imaging_mode, expression, (result[imaging_mode])/1e15)\n",
      "        print '.'"
     ],
     "language": "python",
     "metadata": {},
     "outputs": [
      {
       "output_type": "stream",
       "stream": "stdout",
       "text": [
        "Low SKA1_Low:\n",
        "-> Spectral : Mbuf_vis = 463 Peta"
       ]
      },
      {
       "output_type": "stream",
       "stream": "stdout",
       "text": [
        "\n",
        "-> Spectral : Rflop_conv = 3.22 Peta"
       ]
      },
      {
       "output_type": "stream",
       "stream": "stdout",
       "text": [
        "\n",
        "-> Spectral : Rflop_fft = 2.94 Peta"
       ]
      },
      {
       "output_type": "stream",
       "stream": "stdout",
       "text": [
        "\n",
        "-> Spectral : Rflop_grid = 6.3 Peta"
       ]
      },
      {
       "output_type": "stream",
       "stream": "stdout",
       "text": [
        "\n",
        "-> Spectral : Rflop_proj = 1.01 Peta"
       ]
      },
      {
       "output_type": "stream",
       "stream": "stdout",
       "text": [
        "\n",
        ".\n",
        "-> SlowTrans : Mbuf_vis = 0.000229 Peta\n",
        "-> SlowTrans : Rflop_conv = 0.0938 Peta"
       ]
      },
      {
       "output_type": "stream",
       "stream": "stdout",
       "text": [
        "\n",
        "-> SlowTrans : Rflop_fft = 0.0714 Peta\n",
        "-> SlowTrans : Rflop_grid = 0.0518 Peta"
       ]
      },
      {
       "output_type": "stream",
       "stream": "stdout",
       "text": [
        "\n",
        "-> SlowTrans : Rflop_proj = 0 Peta\n",
        ".\n",
        "-> Continuum : Mbuf_vis = 5.89 Peta"
       ]
      },
      {
       "output_type": "stream",
       "stream": "stdout",
       "text": [
        "\n",
        "-> Continuum : Rflop_conv = 1.02 Peta"
       ]
      },
      {
       "output_type": "stream",
       "stream": "stdout",
       "text": [
        "\n",
        "-> Continuum : Rflop_fft = 0.2 Peta"
       ]
      },
      {
       "output_type": "stream",
       "stream": "stdout",
       "text": [
        "\n",
        "-> Continuum : Rflop_grid = 1.82 Peta"
       ]
      },
      {
       "output_type": "stream",
       "stream": "stdout",
       "text": [
        "\n",
        "-> Continuum : Rflop_proj = 0.065 Peta"
       ]
      },
      {
       "output_type": "stream",
       "stream": "stdout",
       "text": [
        "\n",
        ".\n",
        "Mid1 SKA1_Mid:\n",
        "-> Spectral : Mbuf_vis = 213 Peta"
       ]
      },
      {
       "output_type": "stream",
       "stream": "stdout",
       "text": [
        "\n",
        "-> Spectral : Rflop_conv = 1.16 Peta"
       ]
      },
      {
       "output_type": "stream",
       "stream": "stdout",
       "text": [
        "\n",
        "-> Spectral : Rflop_fft = 15.6 Peta"
       ]
      },
      {
       "output_type": "stream",
       "stream": "stdout",
       "text": [
        "\n",
        "-> Spectral : Rflop_grid = 14.4 Peta"
       ]
      },
      {
       "output_type": "stream",
       "stream": "stdout",
       "text": [
        "\n",
        "-> Spectral : Rflop_proj = 4.67 Peta"
       ]
      },
      {
       "output_type": "stream",
       "stream": "stdout",
       "text": [
        "\n",
        ".\n",
        "-> SlowTrans : Mbuf_vis = 0.000188 Peta\n",
        "-> SlowTrans : Rflop_conv = 0.0269 Peta"
       ]
      },
      {
       "output_type": "stream",
       "stream": "stdout",
       "text": [
        "\n",
        "-> SlowTrans : Rflop_fft = 1.81 Peta\n",
        "-> SlowTrans : Rflop_grid = 0.0715 Peta"
       ]
      },
      {
       "output_type": "stream",
       "stream": "stdout",
       "text": [
        "\n",
        "-> SlowTrans : Rflop_proj = 0 Peta\n",
        ".\n",
        "-> Continuum : Mbuf_vis = 3.57 Peta"
       ]
      },
      {
       "output_type": "stream",
       "stream": "stdout",
       "text": [
        "\n",
        "-> Continuum : Rflop_conv = 0.302 Peta"
       ]
      },
      {
       "output_type": "stream",
       "stream": "stdout",
       "text": [
        "\n",
        "-> Continuum : Rflop_fft = 2.49 Peta"
       ]
      },
      {
       "output_type": "stream",
       "stream": "stdout",
       "text": [
        "\n",
        "-> Continuum : Rflop_grid = 3.61 Peta"
       ]
      },
      {
       "output_type": "stream",
       "stream": "stdout",
       "text": [
        "\n",
        "-> Continuum : Rflop_proj = 0.708 Peta"
       ]
      },
      {
       "output_type": "stream",
       "stream": "stdout",
       "text": [
        "\n",
        ".\n",
        "Mid2 SKA1_Mid:\n",
        "-> Spectral : Mbuf_vis = 213 Peta"
       ]
      },
      {
       "output_type": "stream",
       "stream": "stdout",
       "text": [
        "\n",
        "-> Spectral : Rflop_conv = 0.732 Peta"
       ]
      },
      {
       "output_type": "stream",
       "stream": "stdout",
       "text": [
        "\n",
        "-> Spectral : Rflop_fft = 9.31 Peta"
       ]
      },
      {
       "output_type": "stream",
       "stream": "stdout",
       "text": [
        "\n",
        "-> Spectral : Rflop_grid = 9.47 Peta"
       ]
      },
      {
       "output_type": "stream",
       "stream": "stdout",
       "text": [
        "\n",
        "-> Spectral : Rflop_proj = 2.78 Peta"
       ]
      },
      {
       "output_type": "stream",
       "stream": "stdout",
       "text": [
        "\n",
        ".\n",
        "-> SlowTrans : Mbuf_vis = 0.000106 Peta\n",
        "-> SlowTrans : Rflop_conv = 0.00891 Peta"
       ]
      },
      {
       "output_type": "stream",
       "stream": "stdout",
       "text": [
        "\n",
        "-> SlowTrans : Rflop_fft = 1.81 Peta\n",
        "-> SlowTrans : Rflop_grid = 0.025 Peta"
       ]
      },
      {
       "output_type": "stream",
       "stream": "stdout",
       "text": [
        "\n",
        "-> SlowTrans : Rflop_proj = 0 Peta\n",
        ".\n",
        "-> Continuum : Mbuf_vis = 2.01 Peta"
       ]
      },
      {
       "output_type": "stream",
       "stream": "stdout",
       "text": [
        "\n",
        "-> Continuum : Rflop_conv = 0.107 Peta"
       ]
      },
      {
       "output_type": "stream",
       "stream": "stdout",
       "text": [
        "\n",
        "-> Continuum : Rflop_fft = 1.46 Peta"
       ]
      },
      {
       "output_type": "stream",
       "stream": "stdout",
       "text": [
        "\n",
        "-> Continuum : Rflop_grid = 1.33 Peta"
       ]
      },
      {
       "output_type": "stream",
       "stream": "stdout",
       "text": [
        "\n",
        "-> Continuum : Rflop_proj = 0.414 Peta"
       ]
      },
      {
       "output_type": "stream",
       "stream": "stdout",
       "text": [
        "\n",
        ".\n",
        "Mid3 SKA1_Mid:\n",
        "-> Spectral : Mbuf_vis = 213 Peta"
       ]
      },
      {
       "output_type": "stream",
       "stream": "stdout",
       "text": [
        "\n",
        "-> Spectral : Rflop_conv = 0.558 Peta"
       ]
      },
      {
       "output_type": "stream",
       "stream": "stdout",
       "text": [
        "\n",
        "-> Spectral : Rflop_fft = 6.67 Peta"
       ]
      },
      {
       "output_type": "stream",
       "stream": "stdout",
       "text": [
        "\n",
        "-> Spectral : Rflop_grid = 7.4 Peta"
       ]
      },
      {
       "output_type": "stream",
       "stream": "stdout",
       "text": [
        "\n",
        "-> Spectral : Rflop_proj = 1.99 Peta"
       ]
      },
      {
       "output_type": "stream",
       "stream": "stdout",
       "text": [
        "\n",
        ".\n",
        "-> SlowTrans : Mbuf_vis = 0.000105 Peta\n",
        "-> SlowTrans : Rflop_conv = 0.00755 Peta"
       ]
      },
      {
       "output_type": "stream",
       "stream": "stdout",
       "text": [
        "\n",
        "-> SlowTrans : Rflop_fft = 1.81 Peta\n",
        "-> SlowTrans : Rflop_grid = 0.0215 Peta"
       ]
      },
      {
       "output_type": "stream",
       "stream": "stdout",
       "text": [
        "\n",
        "-> SlowTrans : Rflop_proj = 0 Peta\n",
        ".\n",
        "-> Continuum : Mbuf_vis = 2 Peta"
       ]
      },
      {
       "output_type": "stream",
       "stream": "stdout",
       "text": [
        "\n",
        "-> Continuum : Rflop_conv = 0.0789 Peta"
       ]
      },
      {
       "output_type": "stream",
       "stream": "stdout",
       "text": [
        "\n",
        "-> Continuum : Rflop_fft = 1.04 Peta"
       ]
      },
      {
       "output_type": "stream",
       "stream": "stdout",
       "text": [
        "\n",
        "-> Continuum : Rflop_grid = 1.01 Peta"
       ]
      },
      {
       "output_type": "stream",
       "stream": "stdout",
       "text": [
        "\n",
        "-> Continuum : Rflop_proj = 0.296 Peta"
       ]
      },
      {
       "output_type": "stream",
       "stream": "stdout",
       "text": [
        "\n",
        ".\n",
        "Mid4 SKA1_Mid:\n",
        "-> Spectral : Mbuf_vis = 213 Peta"
       ]
      },
      {
       "output_type": "stream",
       "stream": "stdout",
       "text": [
        "\n",
        "-> Spectral : Rflop_conv = 0.44 Peta"
       ]
      },
      {
       "output_type": "stream",
       "stream": "stdout",
       "text": [
        "\n",
        "-> Spectral : Rflop_fft = 4.85 Peta"
       ]
      },
      {
       "output_type": "stream",
       "stream": "stdout",
       "text": [
        "\n",
        "-> Spectral : Rflop_grid = 5.97 Peta"
       ]
      },
      {
       "output_type": "stream",
       "stream": "stdout",
       "text": [
        "\n",
        "-> Spectral : Rflop_proj = 1.45 Peta"
       ]
      },
      {
       "output_type": "stream",
       "stream": "stdout",
       "text": [
        "\n",
        ".\n",
        "-> SlowTrans : Mbuf_vis = 0.000106 Peta\n",
        "-> SlowTrans : Rflop_conv = 0.00702 Peta"
       ]
      },
      {
       "output_type": "stream",
       "stream": "stdout",
       "text": [
        "\n",
        "-> SlowTrans : Rflop_fft = 1.81 Peta\n",
        "-> SlowTrans : Rflop_grid = 0.0201 Peta"
       ]
      },
      {
       "output_type": "stream",
       "stream": "stdout",
       "text": [
        "\n",
        "-> SlowTrans : Rflop_proj = 0 Peta\n",
        ".\n",
        "-> Continuum : Mbuf_vis = 2 Peta"
       ]
      },
      {
       "output_type": "stream",
       "stream": "stdout",
       "text": [
        "\n",
        "-> Continuum : Rflop_conv = 0.0602 Peta"
       ]
      },
      {
       "output_type": "stream",
       "stream": "stdout",
       "text": [
        "\n",
        "-> Continuum : Rflop_fft = 0.755 Peta"
       ]
      },
      {
       "output_type": "stream",
       "stream": "stdout",
       "text": [
        "\n",
        "-> Continuum : Rflop_grid = 0.789 Peta"
       ]
      },
      {
       "output_type": "stream",
       "stream": "stdout",
       "text": [
        "\n",
        "-> Continuum : Rflop_proj = 0.215 Peta"
       ]
      },
      {
       "output_type": "stream",
       "stream": "stdout",
       "text": [
        "\n",
        ".\n",
        "Mid5A SKA1_Mid:\n",
        "-> Spectral : Mbuf_vis = 213 Peta"
       ]
      },
      {
       "output_type": "stream",
       "stream": "stdout",
       "text": [
        "\n",
        "-> Spectral : Rflop_conv = 0.37 Peta"
       ]
      },
      {
       "output_type": "stream",
       "stream": "stdout",
       "text": [
        "\n",
        "-> Spectral : Rflop_fft = 3.74 Peta"
       ]
      },
      {
       "output_type": "stream",
       "stream": "stdout",
       "text": [
        "\n",
        "-> Spectral : Rflop_grid = 5.1 Peta"
       ]
      },
      {
       "output_type": "stream",
       "stream": "stdout",
       "text": [
        "\n",
        "-> Spectral : Rflop_proj = 1.12 Peta"
       ]
      },
      {
       "output_type": "stream",
       "stream": "stdout",
       "text": [
        "\n",
        ".\n",
        "-> SlowTrans : Mbuf_vis = 7.44e-05 Peta\n",
        "-> SlowTrans : Rflop_conv = 0.0048 Peta"
       ]
      },
      {
       "output_type": "stream",
       "stream": "stdout",
       "text": [
        "\n",
        "-> SlowTrans : Rflop_fft = 1.81 Peta\n",
        "-> SlowTrans : Rflop_grid = 0.0138 Peta"
       ]
      },
      {
       "output_type": "stream",
       "stream": "stdout",
       "text": [
        "\n",
        "-> SlowTrans : Rflop_proj = 0 Peta\n",
        ".\n",
        "-> Continuum : Mbuf_vis = 1.41 Peta"
       ]
      },
      {
       "output_type": "stream",
       "stream": "stdout",
       "text": [
        "\n",
        "-> Continuum : Rflop_conv = 0.0408 Peta"
       ]
      },
      {
       "output_type": "stream",
       "stream": "stdout",
       "text": [
        "\n",
        "-> Continuum : Rflop_fft = 0.507 Peta"
       ]
      },
      {
       "output_type": "stream",
       "stream": "stdout",
       "text": [
        "\n",
        "-> Continuum : Rflop_grid = 0.537 Peta"
       ]
      },
      {
       "output_type": "stream",
       "stream": "stdout",
       "text": [
        "\n",
        "-> Continuum : Rflop_proj = 0.144 Peta"
       ]
      },
      {
       "output_type": "stream",
       "stream": "stdout",
       "text": [
        "\n",
        ".\n",
        "Mid5B SKA1_Mid:\n",
        "-> Spectral : Mbuf_vis = 213 Peta"
       ]
      },
      {
       "output_type": "stream",
       "stream": "stdout",
       "text": [
        "\n",
        "-> Spectral : Rflop_conv = 0.28 Peta"
       ]
      },
      {
       "output_type": "stream",
       "stream": "stdout",
       "text": [
        "\n",
        "-> Spectral : Rflop_fft = 2.31 Peta"
       ]
      },
      {
       "output_type": "stream",
       "stream": "stdout",
       "text": [
        "\n",
        "-> Spectral : Rflop_grid = 3.97 Peta"
       ]
      },
      {
       "output_type": "stream",
       "stream": "stdout",
       "text": [
        "\n",
        "-> Spectral : Rflop_proj = 0.689 Peta"
       ]
      },
      {
       "output_type": "stream",
       "stream": "stdout",
       "text": [
        "\n",
        ".\n",
        "-> SlowTrans : Mbuf_vis = 3.43e-05 Peta\n",
        "-> SlowTrans : Rflop_conv = 0.00216 Peta"
       ]
      },
      {
       "output_type": "stream",
       "stream": "stdout",
       "text": [
        "\n",
        "-> SlowTrans : Rflop_fft = 1.81 Peta\n",
        "-> SlowTrans : Rflop_grid = 0.00623 Peta"
       ]
      },
      {
       "output_type": "stream",
       "stream": "stdout",
       "text": [
        "\n",
        "-> SlowTrans : Rflop_proj = 0 Peta\n",
        ".\n",
        "-> Continuum : Mbuf_vis = 0.649 Peta"
       ]
      },
      {
       "output_type": "stream",
       "stream": "stdout",
       "text": [
        "\n",
        "-> Continuum : Rflop_conv = 0.0186 Peta"
       ]
      },
      {
       "output_type": "stream",
       "stream": "stdout",
       "text": [
        "\n",
        "-> Continuum : Rflop_fft = 0.23 Peta"
       ]
      },
      {
       "output_type": "stream",
       "stream": "stdout",
       "text": [
        "\n",
        "-> Continuum : Rflop_grid = 0.245 Peta"
       ]
      },
      {
       "output_type": "stream",
       "stream": "stdout",
       "text": [
        "\n",
        "-> Continuum : Rflop_proj = 0.0655 Peta"
       ]
      },
      {
       "output_type": "stream",
       "stream": "stdout",
       "text": [
        "\n",
        ".\n",
        "Sur1 SKA1_Survey:\n",
        "-> Spectral : Mbuf_vis = 290 Peta"
       ]
      },
      {
       "output_type": "stream",
       "stream": "stdout",
       "text": [
        "\n",
        "-> Spectral : Rflop_conv = 4.14 Peta"
       ]
      },
      {
       "output_type": "stream",
       "stream": "stdout",
       "text": [
        "\n",
        "-> Spectral : Rflop_fft = 16.8 Peta"
       ]
      },
      {
       "output_type": "stream",
       "stream": "stdout",
       "text": [
        "\n",
        "-> Spectral : Rflop_grid = 14.2 Peta"
       ]
      },
      {
       "output_type": "stream",
       "stream": "stdout",
       "text": [
        "\n",
        "-> Spectral : Rflop_proj = 5.72 Peta"
       ]
      },
      {
       "output_type": "stream",
       "stream": "stdout",
       "text": [
        "\n",
        ".\n",
        "-> SlowTrans : Mbuf_vis = 0.000125 Peta\n",
        "-> SlowTrans : Rflop_conv = 0.0126 Peta"
       ]
      },
      {
       "output_type": "stream",
       "stream": "stdout",
       "text": [
        "\n",
        "-> SlowTrans : Rflop_fft = 3.55 Peta\n",
        "-> SlowTrans : Rflop_grid = 0.0234 Peta"
       ]
      },
      {
       "output_type": "stream",
       "stream": "stdout",
       "text": [
        "\n",
        "-> SlowTrans : Rflop_proj = 0 Peta\n",
        ".\n",
        "-> Continuum : Mbuf_vis = 3.93 Peta"
       ]
      },
      {
       "output_type": "stream",
       "stream": "stdout",
       "text": [
        "\n",
        "-> Continuum : Rflop_conv = 0.715 Peta"
       ]
      },
      {
       "output_type": "stream",
       "stream": "stdout",
       "text": [
        "\n",
        "-> Continuum : Rflop_fft = 3.05 Peta"
       ]
      },
      {
       "output_type": "stream",
       "stream": "stdout",
       "text": [
        "\n",
        "-> Continuum : Rflop_grid = 2.39 Peta"
       ]
      },
      {
       "output_type": "stream",
       "stream": "stdout",
       "text": [
        "\n",
        "-> Continuum : Rflop_proj = 0.979 Peta"
       ]
      },
      {
       "output_type": "stream",
       "stream": "stdout",
       "text": [
        "\n",
        ".\n",
        "Sur2A SKA1_Survey:\n",
        "-> Spectral : Mbuf_vis = 290 Peta"
       ]
      },
      {
       "output_type": "stream",
       "stream": "stdout",
       "text": [
        "\n",
        "-> Spectral : Rflop_conv = 3.11 Peta"
       ]
      },
      {
       "output_type": "stream",
       "stream": "stdout",
       "text": [
        "\n",
        "-> Spectral : Rflop_fft = 11.9 Peta"
       ]
      },
      {
       "output_type": "stream",
       "stream": "stdout",
       "text": [
        "\n",
        "-> Spectral : Rflop_grid = 10.9 Peta"
       ]
      },
      {
       "output_type": "stream",
       "stream": "stdout",
       "text": [
        "\n",
        "-> Spectral : Rflop_proj = 4.04 Peta"
       ]
      },
      {
       "output_type": "stream",
       "stream": "stdout",
       "text": [
        "\n",
        ".\n",
        "-> SlowTrans : Mbuf_vis = 0.000103 Peta\n",
        "-> SlowTrans : Rflop_conv = 0.0102 Peta"
       ]
      },
      {
       "output_type": "stream",
       "stream": "stdout",
       "text": [
        "\n",
        "-> SlowTrans : Rflop_fft = 3.55 Peta\n",
        "-> SlowTrans : Rflop_grid = 0.0189 Peta"
       ]
      },
      {
       "output_type": "stream",
       "stream": "stdout",
       "text": [
        "\n",
        "-> SlowTrans : Rflop_proj = 0 Peta\n",
        ".\n",
        "-> Continuum : Mbuf_vis = 3.24 Peta"
       ]
      },
      {
       "output_type": "stream",
       "stream": "stdout",
       "text": [
        "\n",
        "-> Continuum : Rflop_conv = 0.481 Peta"
       ]
      },
      {
       "output_type": "stream",
       "stream": "stdout",
       "text": [
        "\n",
        "-> Continuum : Rflop_fft = 2 Peta"
       ]
      },
      {
       "output_type": "stream",
       "stream": "stdout",
       "text": [
        "\n",
        "-> Continuum : Rflop_grid = 1.64 Peta"
       ]
      },
      {
       "output_type": "stream",
       "stream": "stdout",
       "text": [
        "\n",
        "-> Continuum : Rflop_proj = 0.642 Peta"
       ]
      },
      {
       "output_type": "stream",
       "stream": "stdout",
       "text": [
        "\n",
        ".\n",
        "Sur2B SKA1_Survey:\n",
        "-> Spectral : Mbuf_vis = 290 Peta"
       ]
      },
      {
       "output_type": "stream",
       "stream": "stdout",
       "text": [
        "\n",
        "-> Spectral : Rflop_conv = 2.52 Peta"
       ]
      },
      {
       "output_type": "stream",
       "stream": "stdout",
       "text": [
        "\n",
        "-> Spectral : Rflop_fft = 9.06 Peta"
       ]
      },
      {
       "output_type": "stream",
       "stream": "stdout",
       "text": [
        "\n",
        "-> Spectral : Rflop_grid = 9.03 Peta"
       ]
      },
      {
       "output_type": "stream",
       "stream": "stdout",
       "text": [
        "\n",
        "-> Spectral : Rflop_proj = 3.08 Peta"
       ]
      },
      {
       "output_type": "stream",
       "stream": "stdout",
       "text": [
        "\n",
        ".\n",
        "-> SlowTrans : Mbuf_vis = 5.03e-05 Peta\n",
        "-> SlowTrans : Rflop_conv = 0.0049 Peta"
       ]
      },
      {
       "output_type": "stream",
       "stream": "stdout",
       "text": [
        "\n",
        "-> SlowTrans : Rflop_fft = 3.55 Peta\n",
        "-> SlowTrans : Rflop_grid = 0.00913 Peta"
       ]
      },
      {
       "output_type": "stream",
       "stream": "stdout",
       "text": [
        "\n",
        "-> SlowTrans : Rflop_proj = 0 Peta\n",
        ".\n",
        "-> Continuum : Mbuf_vis = 1.58 Peta"
       ]
      },
      {
       "output_type": "stream",
       "stream": "stdout",
       "text": [
        "\n",
        "-> Continuum : Rflop_conv = 0.27 Peta"
       ]
      },
      {
       "output_type": "stream",
       "stream": "stdout",
       "text": [
        "\n",
        "-> Continuum : Rflop_fft = 1.15 Peta"
       ]
      },
      {
       "output_type": "stream",
       "stream": "stdout",
       "text": [
        "\n",
        "-> Continuum : Rflop_grid = 0.91 Peta"
       ]
      },
      {
       "output_type": "stream",
       "stream": "stdout",
       "text": [
        "\n",
        "-> Continuum : Rflop_proj = 0.368 Peta"
       ]
      },
      {
       "output_type": "stream",
       "stream": "stdout",
       "text": [
        "\n",
        ".\n",
        "Sur3A SKA1_Survey:\n",
        "-> Spectral : Mbuf_vis = 290 Peta"
       ]
      },
      {
       "output_type": "stream",
       "stream": "stdout",
       "text": [
        "\n",
        "-> Spectral : Rflop_conv = 2.29 Peta"
       ]
      },
      {
       "output_type": "stream",
       "stream": "stdout",
       "text": [
        "\n",
        "-> Spectral : Rflop_fft = 7.93 Peta"
       ]
      },
      {
       "output_type": "stream",
       "stream": "stdout",
       "text": [
        "\n",
        "-> Spectral : Rflop_grid = 8.28 Peta"
       ]
      },
      {
       "output_type": "stream",
       "stream": "stdout",
       "text": [
        "\n",
        "-> Spectral : Rflop_proj = 2.69 Peta"
       ]
      },
      {
       "output_type": "stream",
       "stream": "stdout",
       "text": [
        "\n",
        ".\n",
        "-> SlowTrans : Mbuf_vis = 4.07e-05 Peta\n",
        "-> SlowTrans : Rflop_conv = 0.00395 Peta"
       ]
      },
      {
       "output_type": "stream",
       "stream": "stdout",
       "text": [
        "\n",
        "-> SlowTrans : Rflop_fft = 3.55 Peta\n",
        "-> SlowTrans : Rflop_grid = 0.00737 Peta"
       ]
      },
      {
       "output_type": "stream",
       "stream": "stdout",
       "text": [
        "\n",
        "-> SlowTrans : Rflop_proj = 0 Peta\n",
        ".\n",
        "-> Continuum : Mbuf_vis = 1.27 Peta"
       ]
      },
      {
       "output_type": "stream",
       "stream": "stdout",
       "text": [
        "\n",
        "-> Continuum : Rflop_conv = 0.218 Peta"
       ]
      },
      {
       "output_type": "stream",
       "stream": "stdout",
       "text": [
        "\n",
        "-> Continuum : Rflop_fft = 0.923 Peta"
       ]
      },
      {
       "output_type": "stream",
       "stream": "stdout",
       "text": [
        "\n",
        "-> Continuum : Rflop_grid = 0.733 Peta"
       ]
      },
      {
       "output_type": "stream",
       "stream": "stdout",
       "text": [
        "\n",
        "-> Continuum : Rflop_proj = 0.296 Peta"
       ]
      },
      {
       "output_type": "stream",
       "stream": "stdout",
       "text": [
        "\n",
        ".\n",
        "Sur3B SKA1_Survey:\n",
        "-> Spectral : Mbuf_vis = 290 Peta"
       ]
      },
      {
       "output_type": "stream",
       "stream": "stdout",
       "text": [
        "\n",
        "-> Spectral : Rflop_conv = 1.69 Peta"
       ]
      },
      {
       "output_type": "stream",
       "stream": "stdout",
       "text": [
        "\n",
        "-> Spectral : Rflop_fft = 4.95 Peta"
       ]
      },
      {
       "output_type": "stream",
       "stream": "stdout",
       "text": [
        "\n",
        "-> Spectral : Rflop_grid = 6.28 Peta"
       ]
      },
      {
       "output_type": "stream",
       "stream": "stdout",
       "text": [
        "\n",
        "-> Spectral : Rflop_proj = 1.68 Peta"
       ]
      },
      {
       "output_type": "stream",
       "stream": "stdout",
       "text": [
        "\n",
        ".\n",
        "-> SlowTrans : Mbuf_vis = 1.89e-05 Peta\n",
        "-> SlowTrans : Rflop_conv = 0.00183 Peta"
       ]
      },
      {
       "output_type": "stream",
       "stream": "stdout",
       "text": [
        "\n",
        "-> SlowTrans : Rflop_fft = 3.55 Peta\n",
        "-> SlowTrans : Rflop_grid = 0.00341 Peta"
       ]
      },
      {
       "output_type": "stream",
       "stream": "stdout",
       "text": [
        "\n",
        "-> SlowTrans : Rflop_proj = 0 Peta\n",
        ".\n",
        "-> Continuum : Mbuf_vis = 0.591 Peta"
       ]
      },
      {
       "output_type": "stream",
       "stream": "stdout",
       "text": [
        "\n",
        "-> Continuum : Rflop_conv = 0.101 Peta"
       ]
      },
      {
       "output_type": "stream",
       "stream": "stdout",
       "text": [
        "\n",
        "-> Continuum : Rflop_fft = 0.425 Peta"
       ]
      },
      {
       "output_type": "stream",
       "stream": "stdout",
       "text": [
        "\n",
        "-> Continuum : Rflop_grid = 0.338 Peta"
       ]
      },
      {
       "output_type": "stream",
       "stream": "stdout",
       "text": [
        "\n",
        "-> Continuum : Rflop_proj = 0.137 Peta"
       ]
      },
      {
       "output_type": "stream",
       "stream": "stdout",
       "text": [
        "\n",
        ".\n"
       ]
      }
     ],
     "prompt_number": 86
    },
    {
     "cell_type": "code",
     "collapsed": false,
     "input": [
      "# Calculate the breakdown of the most expensive FLOPS requirement for each telescope \n",
      "\n",
      "results_per_tel = {}\n",
      "for band in bands:\n",
      "    tel = band_info[band]['telescope']\n",
      "    if not tel in results_per_tel:\n",
      "        # For each telescope: the highest total flop count for any of this telescope's modes\n",
      "        results_per_tel[tel] = {'flops_total' : -1.0, 'buffer_total' : -1.0}\n",
      "        \n",
      "# Add the breakdown of the highest total flop value to each telescope\n",
      "for tel in results_per_tel:\n",
      "    for expression in expressions.keys():\n",
      "        results_per_tel[tel][expression] = -1.0\n",
      "        \n",
      "# Temporary variable\n",
      "flops_breakdown_zero = {}\n",
      "for expression in expressions.keys():\n",
      "    flops_breakdown_zero[expression] = 0.0\n",
      "    \n",
      "for band in bands:\n",
      "    '''\n",
      "    For each band, the required number of flops are the sum of the Spectral, Continuum and SlowTrans modes.\n",
      "    For each of those modes in turn, the flops are the sum of the convolution, fft, gridding and projection.\n",
      "    We therefore sum all of these for each band, and then take the maximum for each telescope.\n",
      "    '''\n",
      "    tel = band_info[band]['telescope']  # Identify the relevant telescope\n",
      "    max_flops = results_per_tel[tel]['flops_total']\n",
      "    max_buffer = results_per_tel[tel]['buffer_total']\n",
      "    flops = 0  # a temporary counter\n",
      "    buffer = 0 # a temporary counter\n",
      "    flops_breakdown = flops_breakdown_zero.copy() # a temporary counter\n",
      "    for expression in expressions.keys():  # Either convolution, fft, gridding or projection\n",
      "        for imaging_mode in imaging_mode_info: # Either continuum, spectral or slow transient\n",
      "            key = (band, imaging_mode, expression)\n",
      "            if expression in flops_expressions: # We only sum the FLOPS breakdown\n",
      "                flops += (float(results[key]) / 1e15)\n",
      "            elif expression == 'Mbuf_vis':\n",
      "                buffer += (float(results[key]) / 1e15)\n",
      "            flops_breakdown[expression] += (float(results[key]) / 1e15)\n",
      "    if flops > max_flops:\n",
      "        results_per_tel[tel]['flops_total'] = flops\n",
      "        for expression in flops_breakdown:\n",
      "            results_per_tel[tel][expression] = flops_breakdown[expression]\n",
      "    if buffer > max_buffer:\n",
      "        results_per_tel[tel]['buffer_total'] = buffer\n",
      "results_per_tel"
     ],
     "language": "python",
     "metadata": {},
     "outputs": [
      {
       "metadata": {},
       "output_type": "pyout",
       "prompt_number": 87,
       "text": [
        "{'SKA1_Low': {'Mbuf_vis': 469.29478046349516,\n",
        "  'Rflop_conv': 4.3338056180356155,\n",
        "  'Rflop_fft': 3.210925075040206,\n",
        "  'Rflop_grid': 8.17523566285567,\n",
        "  'Rflop_proj': 1.0785719365749429,\n",
        "  'buffer_total': 469.29478046349516,\n",
        "  'flops_total': 16.798538292506436},\n",
        " 'SKA1_Mid': {'Mbuf_vis': 216.77599942272641,\n",
        "  'Rflop_conv': 1.4865871851713082,\n",
        "  'Rflop_fft': 19.931751245887966,\n",
        "  'Rflop_grid': 18.064012894332265,\n",
        "  'Rflop_proj': 5.38218697731874,\n",
        "  'buffer_total': 216.77599942272641,\n",
        "  'flops_total': 44.86453830271028},\n",
        " 'SKA1_Survey': {'Mbuf_vis': 294.4048857595524,\n",
        "  'Rflop_conv': 4.867677130072622,\n",
        "  'Rflop_fft': 23.441826682419194,\n",
        "  'Rflop_grid': 16.569787927255508,\n",
        "  'Rflop_proj': 6.696550875726501,\n",
        "  'buffer_total': 294.4048857595524,\n",
        "  'flops_total': 51.575842615473825}}"
       ]
      }
     ],
     "prompt_number": 87
    },
    {
     "cell_type": "heading",
     "level": 2,
     "metadata": {},
     "source": [
      "For all High Priority Science Objectives (HPSOs):"
     ]
    },
    {
     "cell_type": "code",
     "collapsed": false,
     "input": [
      "results = {}\n",
      "result_flops = {}\n",
      "hpso_keys = hpsos.keys()\n",
      "hpso_keys.sort()\n",
      "for hpso_key in hpso_keys:\n",
      "    results[hpso_key] = calc_tel(hpso=hpso_key, expr=Rflop)\n",
      "    result = results[hpso_key]\n",
      "    flops = 0\n",
      "    for r in results[hpso_key]:\n",
      "        flops += float(result[r])\n",
      "        # print 'Rflop = %.5g' % result[r]\n",
      "    result_flops[hpso_key] = flops\n",
      "    print 'HPSO %s => %.3g PetaFLOPS' % (hpso_key, float(flops)/1e15)    "
     ],
     "language": "python",
     "metadata": {},
     "outputs": [
      {
       "output_type": "stream",
       "stream": "stdout",
       "text": [
        "HPSO 01 => 6.04 PetaFLOPS\n",
        "HPSO 02A => 6.04 PetaFLOPS"
       ]
      },
      {
       "output_type": "stream",
       "stream": "stdout",
       "text": [
        "\n",
        "HPSO 02B => 6.04 PetaFLOPS"
       ]
      },
      {
       "output_type": "stream",
       "stream": "stdout",
       "text": [
        "\n",
        "HPSO 03A => 1.74 PetaFLOPS\n",
        "HPSO 03B => 1.74 PetaFLOPS"
       ]
      },
      {
       "output_type": "stream",
       "stream": "stdout",
       "text": [
        "\n",
        "HPSO 04A => 0.0364 PetaFLOPS\n",
        "HPSO 04B => 0.0349 PetaFLOPS"
       ]
      },
      {
       "output_type": "stream",
       "stream": "stdout",
       "text": [
        "\n",
        "HPSO 05A => 0.0883 PetaFLOPS\n",
        "HPSO 05B => 0.0882 PetaFLOPS"
       ]
      },
      {
       "output_type": "stream",
       "stream": "stdout",
       "text": [
        "\n",
        "HPSO 13 => 1.91 PetaFLOPS"
       ]
      },
      {
       "output_type": "stream",
       "stream": "stdout",
       "text": [
        "\n",
        "HPSO 14 => 1.71 PetaFLOPS"
       ]
      },
      {
       "output_type": "stream",
       "stream": "stdout",
       "text": [
        "\n",
        "HPSO 15 => 0.0578 PetaFLOPS"
       ]
      },
      {
       "output_type": "stream",
       "stream": "stdout",
       "text": [
        "\n",
        "HPSO 19 => 0.0364 PetaFLOPS\n",
        "HPSO 22 => 1.86 PetaFLOPS"
       ]
      },
      {
       "output_type": "stream",
       "stream": "stdout",
       "text": [
        "\n",
        "HPSO 27 => 3.08 PetaFLOPS"
       ]
      },
      {
       "output_type": "stream",
       "stream": "stdout",
       "text": [
        "\n",
        "HPSO 33 => 3.08 PetaFLOPS"
       ]
      },
      {
       "output_type": "stream",
       "stream": "stdout",
       "text": [
        "\n",
        "HPSO 35 => 0.121 PetaFLOPS\n",
        "HPSO 37a => 3.71 PetaFLOPS"
       ]
      },
      {
       "output_type": "stream",
       "stream": "stdout",
       "text": [
        "\n",
        "HPSO 37b => 3.71 PetaFLOPS"
       ]
      },
      {
       "output_type": "stream",
       "stream": "stdout",
       "text": [
        "\n",
        "HPSO 37c => 3.08 PetaFLOPS"
       ]
      },
      {
       "output_type": "stream",
       "stream": "stdout",
       "text": [
        "\n",
        "HPSO 38a => 1.44 PetaFLOPS"
       ]
      },
      {
       "output_type": "stream",
       "stream": "stdout",
       "text": [
        "\n",
        "HPSO 38b => 1.44 PetaFLOPS"
       ]
      },
      {
       "output_type": "stream",
       "stream": "stdout",
       "text": [
        "\n"
       ]
      }
     ],
     "prompt_number": 105
    },
    {
     "cell_type": "heading",
     "level": 3,
     "metadata": {},
     "source": [
      "Weigh the individual HPSOs by the amount of time that each is allocated"
     ]
    },
    {
     "cell_type": "code",
     "collapsed": false,
     "input": [
      "average_flops = {}\n",
      "average_flops['SKA1_Low'] = {}\n",
      "average_flops['SKA1_Mid'] = {}\n",
      "average_flops['SKA1_Survey'] = {}\n",
      "temp = 0\n",
      "\n",
      "for tel in average_flops:\n",
      "    average_flops[tel]['Ttotal'] = 0\n",
      "    average_flops[tel]['FLOPtotal'] = 0\n",
      "    average_flops[tel]['FLOPmax'] = 0\n",
      "\n",
      "for hpso in hpsos:\n",
      "    print \n",
      "    tel = hpsos[hpso]['telescope']\n",
      "    time_exp = hpsos[hpso][Texp]\n",
      "    average_flops[tel]['Ttotal'] += time_exp\n",
      "    average_flops[tel]['FLOPtotal'] += time_exp * result_flops[hpso]\n",
      "    temp=average_flops[tel]['FLOPmax']\n",
      "    average_flops[tel]['FLOPmax'] = max(result_flops[hpso],temp)\n",
      "\n",
      "\n",
      "print '\\nTaking all the known HPSOs into account, the time-weighted average FLOPS required per telescope are:\\n ' \n",
      "for tel in average_flops:\n",
      "    Ttotal = average_flops[tel]['Ttotal']\n",
      "    FLOPtotal = average_flops[tel]['FLOPtotal']\n",
      "    print '%s => %.3g PetaFLOPS' % (tel, (FLOPtotal/Ttotal)/1e15)\n",
      "print '\\nTaking all the known HPSOs into account, the maximum FLOP requirements are:\\n ' #added report of Rflop_max for each telescope\n",
      "for tel in average_flops:\n",
      "    FLOPmax = average_flops[tel]['FLOPmax']\n",
      "    print '%s => %.3g PetaFLOPS' % (tel, (FLOPmax)/1e15)\n",
      "    \n"
     ],
     "language": "python",
     "metadata": {},
     "outputs": [
      {
       "output_type": "stream",
       "stream": "stdout",
       "text": [
        "\n",
        "\n",
        "\n",
        "\n",
        "\n",
        "\n",
        "\n",
        "\n",
        "\n",
        "\n",
        "\n",
        "\n",
        "\n",
        "\n",
        "\n",
        "\n",
        "\n",
        "\n",
        "\n",
        "\n",
        "\n",
        "\n",
        "\n",
        "Taking all the known HPSOs into account, the time-weighted average FLOPS required per telescope are:\n",
        " \n",
        "SKA1_Survey => 2.55 PetaFLOPS\n",
        "SKA1_Mid => 1.15 PetaFLOPS\n",
        "SKA1_Low => 3.05 PetaFLOPS\n",
        "\n",
        "Taking all the known HPSOs into account, the maximum FLOP requirements are:\n",
        " \n",
        "SKA1_Survey => 3.08 PetaFLOPS\n",
        "SKA1_Mid => 3.71 PetaFLOPS\n",
        "SKA1_Low => 6.04 PetaFLOPS\n"
       ]
      }
     ],
     "prompt_number": 109
    },
    {
     "cell_type": "heading",
     "level": 2,
     "metadata": {},
     "source": [
      "Compute the SDP's power usage for the three telescopes:"
     ]
    },
    {
     "cell_type": "code",
     "collapsed": false,
     "input": [
      "'''\n",
      "Power usage.\n",
      "(don't be alarmed by all the kg*m^2/s^3 symbols -- that is just the SI definition of Watt. - can be fixed by calling\n",
      "simplify(... / u.W))\n",
      "'''\n",
      "# The following three lines were taken from the old (maximum baseline) estimates. \n",
      "# Should be re-computed on the fly, but for testing we'll go with these in the mean time\n",
      "# Rflop_low =   14.482 PetaFLOPS for Low_Spectral\n",
      "# Rflop_mid =  135.6 PetaFLOPS for Mid_5A_SlowTrans\n",
      "# Rflop_sur =   40.85 PetaFLOPS for Sur_1_Spectral\n",
      "\n",
      "'''\n",
      "The derivations below are at times somewhat simplified from their full definitions in PDR05.\n",
      "Where simplification took place, this is commented as '# simplification'\n",
      "Results are vectorized as sympy Matrices in the following order: [Low, Mid, Survey]'\n",
      "'''\n",
      "# Rflops = Matrix((104.48271074, 374.72051424, 135.03976765)) * 1e15  # Replace by explicitly computed Rflop values\n",
      "# Mbuf_viss = Matrix((470, 220, 295)) * 1e15 # Replace by explicitly computed Mbuf_vis values\n",
      "\n",
      "# Define vectors to represent the flop rates and visibility buffer sizes (can be used as dynamically specified arguments, using lambdify)\n",
      "Rflop_low, Rflop_mid, Rflop_sur = symbols(\"R_{flop\\,low} R_{flop\\,mid} R_{flop\\,sur}\", positive=True) # Reprojection Flop rate, per telescope\n",
      "Mbuf_low, Mbuf_mid, Mbuf_sur = symbols(\"M_{vbuf\\,low} M_{vbuf\\,mid} M_{vbuf\\,sur}\", positive=True)    # Visibility buffer size, per telescope\n",
      "Rflops = Matrix((Rflop_low, Rflop_mid, Rflop_sur))\n",
      "Mbuf_viss = Matrix((Mbuf_low, Mbuf_mid, Mbuf_sur))\n",
      "\n",
      "Tobss = Matrix((6, 6, 6)) * u.hours  # The observation time\n",
      "ingest_rate = divide_elementwise(Mbuf_viss, Tobss)\n",
      "\n",
      "###### COMPUTE NODES #############################\n",
      "\n",
      "# The composition of nodes and islands are assumed identical for all three telescopes.\n",
      "flops_per_gpu = 20 * 1e12   # Peak FLOPS per node GPU in 2020 (Depends on Moore's law.)\n",
      "gpus_per_node = 2\n",
      "compute_efficiency = 0.25  # computing efficiency per node; 100% = 1.0\n",
      "n_nodes_per_compute_island = 56  # number of compute nodes per compute island\n",
      "P_compute_node = 810 * u.W  # Power in Watts for a single compute node. Assumed identical for all three telescopes\n",
      "P_compute_island_overhead = 3800 * u.W  # per-island non-compute overheads. # simplification\n",
      "\n",
      "n_cmp_nodes = ceiling_elementwise(Rflops / (flops_per_gpu * gpus_per_node * compute_efficiency))\n",
      "n_cmp_islands = ceiling_elementwise(n_cmp_nodes / n_nodes_per_compute_island)\n",
      "\n",
      "P_cmp_islnds = (P_compute_node * n_cmp_nodes) + (P_compute_island_overhead * n_cmp_islands)\n",
      "\n",
      "###### NETWORKING ################################\n",
      "ingest_data_rate = divide_elementwise(Mbuf_viss, 2*Tobss) # Factor of 1/2 because we're working with a double buffer, only half of which needs to be read out.\n",
      "\n",
      "network_speed = 40e9 / (8.0 * u.s) # 40 GbE, expressed as bytes per second\n",
      "P_ToR = 240 * u.W  # For a single Top-of-Rack network switch\n",
      "network_protocol_overhead = 0.25 # 100% = 1.0\n",
      "network_occupancy = 1  # 100% = 1.0\n",
      "tor_links_up = Matrix((4, 4, 4))\n",
      "tor_links_down = Matrix((56, 56, 56))\n",
      "stage2_links_up = Matrix((18, 8, 8))\n",
      "stage2_links_down = Matrix((18, 28, 28))\n",
      "stage3_links_down = Matrix((18, 18, 18))\n",
      "\n",
      "n_2nd_stages = n_cmp_islands.multiply_elementwise(divide_elementwise(tor_links_up, stage2_links_down))\n",
      "n_2nd_stages[0] *= 2  # Due to extra set of ToR switches for Low (why?)\n",
      "n_2nd_stages = ceiling_elementwise(n_2nd_stages)\n",
      "\n",
      "n_ports = ceiling_elementwise((ingest_data_rate * (1+network_protocol_overhead) * network_occupancy / network_speed))\n",
      "\n",
      "n_3rd_stages = ceiling_elementwise(divide_elementwise(max_elementwise(n_2nd_stages.multiply_elementwise(stage2_links_up), n_ports),stage3_links_down))\n",
      "\n",
      "P_network = (n_cmp_islands + n_2nd_stages + n_3rd_stages) * P_ToR\n",
      "\n",
      "###### BUFFER ##########################################\n",
      "# LOW uses SAS, MID & SUR use SSD. Power per unit, divided by unit size (in Bytes)\n",
      "buffer_P_per_byte_sata = 5 / 8e12 * u.W\n",
      "buffer_P_per_byte_sas  = 3 / 4e12 * u.W\n",
      "buffer_P_per_byte_ssd  = 1 / 1e12 * u.W\n",
      "buffer_P_per_byte_dram = 4 / 16e9 * u.W\n",
      "P_buffer = Mbuf_viss.multiply_elementwise(Matrix((buffer_P_per_byte_sas, buffer_P_per_byte_ssd, buffer_P_per_byte_ssd)))\n",
      "\n",
      "###### ISLAND MANAGEMENT ##############################\n",
      "P_mgmt_node = 600 * u.W  # Power in Watts for a single compute node. Assumed identical for all three telescopes\n",
      "P_mgmt_island_overhead = 4240 * u.W  # simplification\n",
      "n_mgmt_units = Matrix((2, 2, 2))\n",
      "P_mgmt = n_mgmt_units * (P_mgmt_node * n_nodes_per_compute_island + P_mgmt_island_overhead)\n",
      "\n",
      "###### ARCHIVE ##############################\n",
      "archive_volume = Matrix((0, 0, 0))\n",
      "P_2nd_stage = P_ToR\n",
      "n_1st_stage_arch_sw = ceiling_elementwise(n_cmp_islands * 3 / 24.0)\n",
      "n_2nd_stage_arch_sw = ceiling_elementwise(n_1st_stage_arch_sw * 12 / 36.0)\n",
      "n_arch_coresw = n_1st_stage_arch_sw + n_2nd_stage_arch_sw\n",
      "P_arch_coresw = n_arch_coresw * P_2nd_stage  # simplification\n",
      "\n",
      "P_ll_coresw = P_arch_coresw  # simplification\n",
      "P_archive_unit = Matrix((0, 0, 0)) * u.W  # simplification\n",
      "P_archive_store = Matrix((0, 0, 0)) * u.W\n",
      "\n",
      "###### COMBINING IT ALL ################################\n",
      "P_sdp = P_cmp_islnds + P_network + P_buffer + P_mgmt + P_arch_coresw + P_ll_coresw + P_archive_unit + P_buffer + P_archive_store"
     ],
     "language": "python",
     "metadata": {},
     "outputs": [],
     "prompt_number": 90
    },
    {
     "cell_type": "code",
     "collapsed": false,
     "input": [
      "P_sdp_eval = lambdify((Rflop_low, Rflop_mid, Rflop_sur, Mbuf_low, Mbuf_mid, Mbuf_sur), remove_units(P_sdp),modules=\"sympy\")\n",
      "P_netw_eval = lambdify((Rflop_low, Rflop_mid, Rflop_sur, Mbuf_low, Mbuf_mid, Mbuf_sur), remove_units(n_cmp_islands),modules=\"sympy\")\n",
      "\n",
      "\n",
      "rfl = np.array((26, 81, 56)) * 1e15\n",
      "mbf = np.array((493, 249, 300)) * 1e15\n",
      "\n",
      "print 'The SDP uses the following amounts of MegaWatt for Low, Mid and Survey:' \n",
      "P_sdp_eval(rfl[0],rfl[1],rfl[2],mbf[0],mbf[1],mbf[2])/1e6"
     ],
     "language": "python",
     "metadata": {},
     "outputs": [
      {
       "ename": "SyntaxError",
       "evalue": "invalid syntax (<string>, line 1)",
       "output_type": "pyerr",
       "traceback": [
        "\u001b[0;36m  File \u001b[0;32m\"<string>\"\u001b[0;36m, line \u001b[0;32m1\u001b[0m\n\u001b[0;31m    lambda R_{flop,low},R_{flop,mid},R_{flop,sur},M_{vbuf,low},M_{vbuf,mid},M_{vbuf,sur}: (ImmutableMatrix([[1.5e-12*M_{vbuf,low} + 810*ceiling(1.0e-13*R_{flop,low}) + 4120.0*ceiling(ceiling(1.0e-13*R_{flop,low})/56) + 240*ceiling(4*ceiling(ceiling(1.0e-13*R_{flop,low})/56)/9) + 240*ceiling(Max(ceiling(5.78703703703704e-15*M_{vbuf,low}), 18*ceiling(4*ceiling(ceiling(1.0e-13*R_{flop,low})/56)/9))/18) + 75680], [2.0e-12*M_{vbuf,mid} + 810*ceiling(1.0e-13*R_{flop,mid}) + 4120.0*ceiling(ceiling(1.0e-13*R_{flop,mid})/56) + 240*ceiling(ceiling(ceiling(1.0e-13*R_{flop,mid})/56)/7) + 240*ceiling(Max(ceiling(5.78703703703704e-15*M_{vbuf,mid}), 8*ceiling(ceiling(ceiling(1.0e-13*R_{flop,mid})/56)/7))/18) + 75680], [2.0e-12*M_{vbuf,sur} + 810*ceiling(1.0e-13*R_{flop,sur}) + 4120.0*ceiling(ceiling(1.0e-13*R_{flop,sur})/56) + 240*ceiling(ceiling(ceiling(1.0e-13*R_{flop,sur})/56)/7) + 240*ceiling(Max(ceiling(5.78703703703704e-15*M_{vbuf,sur}), 8*ceiling(ceiling(ceiling(1.0e-13*R_{flop,sur})/56)/7))/18) + 75680]]))\u001b[0m\n\u001b[0m             ^\u001b[0m\n\u001b[0;31mSyntaxError\u001b[0m\u001b[0;31m:\u001b[0m invalid syntax\n"
       ]
      }
     ],
     "prompt_number": 91
    },
    {
     "cell_type": "heading",
     "level": 1,
     "metadata": {},
     "source": [
      "Optimize the SDP to meet power constraints"
     ]
    },
    {
     "cell_type": "code",
     "collapsed": false,
     "input": [
      "# The power contraints for [Low, Mid, Survey], in Watts, are:\n",
      "\n",
      "power_limit_bestcase = [1.5e6  * u.W, 5e6 * u.W, 4e6 * u.W]\n",
      "power_limit_likely   = [0.75e6 * u.W, 2.5e6 * u.W, 2e6 * u.W]"
     ],
     "language": "python",
     "metadata": {},
     "outputs": []
    },
    {
     "cell_type": "code",
     "collapsed": false,
     "input": [
      "P_mid = P_sdp[1]  # The power for 'MID', as a symbolic expression in several variables\n",
      "P_target = remove_units(power_limit_likely[1])\n",
      "expression_to_minimise = abs(P_mid - P_target)\n",
      "expression_to_minimise"
     ],
     "language": "python",
     "metadata": {},
     "outputs": []
    },
    {
     "cell_type": "code",
     "collapsed": false,
     "input": [
      "expr_eval = lambdify((Rflop_mid, Mbuf_mid), remove_units(expression_to_minimise),modules=\"sympy\")  # Define Lambda expression in two variables\n",
      "expr_eval_float = lambda x: float(expr_eval(x, mbf[1]))  # Define Power of MID as a function of one free variable: Rflop_mid"
     ],
     "language": "python",
     "metadata": {},
     "outputs": []
    },
    {
     "cell_type": "code",
     "collapsed": false,
     "input": [
      "# We now minimize the desired expression (which equals absolute deviation from our target power Wattage) by varying the free \n",
      "# parameter - which in this case is Rflop_mid\n",
      "result = opt.minimize_scalar(expr_eval_float, bounds=(0, rfl[1]), method='bounded')\n",
      "print result"
     ],
     "language": "python",
     "metadata": {},
     "outputs": []
    },
    {
     "cell_type": "raw",
     "metadata": {},
     "source": [
      "In this case the target value was not exactly reached (maybe impossible?), but the residual error is only 220 Watts, achieved by\n",
      "setting Rflop_mid to the value of x displayed above.\n",
      "We can verify this (look at the middle value, when substituting Rflop_mid with result.x)"
     ]
    },
    {
     "cell_type": "code",
     "collapsed": false,
     "input": [
      "P_sdp_eval(rfl[0],result.x,rfl[2],mbf[0],mbf[1],mbf[2])/1e6"
     ],
     "language": "python",
     "metadata": {},
     "outputs": []
    },
    {
     "cell_type": "raw",
     "metadata": {},
     "source": [
      "Now that we know the desired FLOP count, the trick will be to scale the telescope appropriately to achieve that FLOP value. One could use a similar approach as above, and compute the maximum baseline length (keeping all parameters the same)"
     ]
    },
    {
     "cell_type": "code",
     "collapsed": false,
     "input": [
      "Rflop_target = result.x\n",
      "print 'FLOP target (in this example) for Mid = %g' % Rflop_target\n",
      "chosen_band = 'Mid1'\n",
      "chosen_mode = 'Spectral'\n",
      "result_flops = calc_tel(band=chosen_band, mode=chosen_mode, expr=Rflop)\n",
      "print 'Using the maximum baseline specs, band %s (%s) requires %g FLOPS.' % (chosen_band, chosen_mode, result_flops[chosen_mode])"
     ],
     "language": "python",
     "metadata": {},
     "outputs": []
    },
    {
     "cell_type": "code",
     "collapsed": false,
     "input": [
      "# Get the default parameters for this telescope\n",
      "telescope_params = calc_tel_params(chosen_band, chosen_mode)\n",
      "# Compute the optimal value for Tsnap to match these default parameters\n",
      "Tsnap_opt = optimize_Tsnap(telescope_params)\n",
      "print 'Tsnap has been computed to be, optimally, %s' % str(Tsnap_opt)\n",
      "\n",
      "# We now make Bmax a free (undefined) parameter, and fix Tsnap\n",
      "telescope_params.pop(Bmax)\n",
      "telescope_params[Tsnap] = Tsnap_opt\n",
      "\n",
      "# And from here on we do the same optimization Spiel as before\n",
      "expression_to_minimise = abs(Rflop - Rflop_target).subs(telescope_params).subs(telescope_params)\n",
      "expr_eval = lambdify(Bmax, remove_units(expression_to_minimise),modules=\"sympy\")  # Define Lambda expression in one variable\n",
      "expr_eval_float = lambda x: float(expr_eval(x))  # Define deviation of RFlop from the set target as a function of one free variable: Bmax\n",
      "# We now minimize the desired expression (which equals absolute deviation from our target FLOP rate) by varying the free \n",
      "# parameter - which in this case is Bmax\n",
      "result = opt.minimize_scalar(expr_eval_float, bounds=(0, remove_units(telescope_params[Bmax_ref])), method='bounded')\n",
      "print result"
     ],
     "language": "python",
     "metadata": {},
     "outputs": []
    },
    {
     "cell_type": "raw",
     "metadata": {},
     "source": [
      "Voila - there we have it. A baseline of ~ 157.2 km will give us the desired FLOP rate that will result in a power consumption of 2.5 MW"
     ]
    },
    {
     "cell_type": "heading",
     "level": 2,
     "metadata": {},
     "source": [
      "Let's plot the FLOP values"
     ]
    },
    {
     "cell_type": "code",
     "collapsed": false,
     "input": [
      "import matplotlib.pyplot as plt\n",
      "%matplotlib inline\n",
      "\n",
      "import matplotlib.pylab as pylab\n",
      "pylab.rcParams['figure.figsize'] = 8, 6  # that's default image size for this interactive session\n",
      "\n",
      "t = results_per_tel.keys()\n",
      "t.reverse()\n",
      "for tel in t:\n",
      "    values = results_per_tel[tel]\n",
      "\n",
      "    # The slices will be ordered and plotted counter-clockwise.\n",
      "    labels = '(de)Gridding', '(i)FFT', '(Re)Projection', 'Convolution'\n",
      "    sizes = [values['Rflop_grid'], values['Rflop_fft'], values['Rflop_proj'], values['Rflop_conv']]\n",
      "    colors = ['yellowgreen', 'gold', 'lightskyblue', 'lightcoral']\n",
      "    explode = (0.05, 0.05, 0.05, 0.05) # Radial offset of the slices\n",
      "\n",
      "    plt.pie(sizes, explode=explode, labels=labels, colors=colors,\n",
      "            autopct='%1.1f%%', shadow=True, startangle=90)\n",
      "    # Set aspect ratio to be equal so that pie is drawn as a circle.\n",
      "    plt.axis('equal')\n",
      "    plt.title('%s\\n' % tel)\n",
      "\n",
      "    plt.show()\n",
      "    \n",
      "results_per_param = {}\n",
      "for tel in t:\n",
      "    for param in results_per_tel[tel]:\n",
      "        if not param in results_per_param:\n",
      "            results_per_param[param] = []\n",
      "        results_per_param[param].append(results_per_tel[tel][param])\n",
      "\n",
      "#print results_per_param\n",
      "ind = np.arange(3)\n",
      "\n",
      "p = 'Rflop_grid'\n",
      "res_grid = (results_per_tel[t[0]][p], results_per_tel[t[1]][p], results_per_tel[t[2]][p])\n",
      "p = 'Rflop_fft'\n",
      "res_fft = (results_per_tel[t[0]][p], results_per_tel[t[1]][p], results_per_tel[t[2]][p])\n",
      "p = 'Rflop_proj'\n",
      "res_proj = (results_per_tel[t[0]][p], results_per_tel[t[1]][p], results_per_tel[t[2]][p])\n",
      "p = 'Rflop_conv'\n",
      "res_conv = (results_per_tel[t[0]][p], results_per_tel[t[1]][p], results_per_tel[t[2]][p])\n",
      "\n",
      "#Plot a stacked bar chart\n",
      "width = 0.35\n",
      "val = np.array(res_grid)\n",
      "p1 = plt.bar(ind, val, width, color=colors[0])\n",
      "bottoms = val\n",
      "val = np.array(res_fft)\n",
      "p2 = plt.bar(ind, val, width, color=colors[1],\n",
      "             bottom=bottoms)\n",
      "bottoms += val\n",
      "val = np.array(res_proj)\n",
      "p3 = plt.bar(ind, val, width, color=colors[2],\n",
      "             bottom=bottoms)\n",
      "bottoms += val\n",
      "val = np.array(res_conv)\n",
      "p4 = plt.bar(ind, val, width, color=colors[3],\n",
      "             bottom=bottoms)\n",
      "\n",
      "plt.xticks(ind+width/2., t )\n",
      "plt.title('PetaFLOPS')\n",
      "plt.legend(labels, loc=2) # legend upper-left"
     ],
     "language": "python",
     "metadata": {},
     "outputs": []
    },
    {
     "cell_type": "heading",
     "level": 3,
     "metadata": {},
     "source": [
      "For the HPSOs"
     ]
    },
    {
     "cell_type": "code",
     "collapsed": false,
     "input": [
      "import matplotlib.pyplot as plt\n",
      "%matplotlib inline\n",
      "\n",
      "hpsos_flops = []\n",
      "hpsos_names = hpsos.keys()\n",
      "hpsos_names.sort()\n",
      "for hpso in hpsos_names:\n",
      "    hpsos_flops.append(result_flops[hpso]/1e15)\n",
      "\n",
      "N = len(hpsos)\n",
      "ind = np.arange(N)  # the x locations for the groups\n",
      "width = 0.6       # the width of the bars\n",
      "\n",
      "fig, ax = plt.subplots()\n",
      "rects1 = ax.bar(ind, hpsos_flops, width, color='b')\n",
      "\n",
      "# add some text for labels, title and axes ticks\n",
      "ax.set_ylabel('PetaFLOPS')\n",
      "ax.set_title('FLOPS for each HPSO')\n",
      "ax.set_xticks(ind+width);\n",
      "ax.set_xticklabels(hpsos_names);\n",
      "#ax.legend( (rects1[0]), ('HPSOS') )"
     ],
     "language": "python",
     "metadata": {},
     "outputs": []
    },
    {
     "cell_type": "code",
     "collapsed": false,
     "input": [
      "import numpy as np\n",
      "import matplotlib.pyplot as plt\n",
      "%matplotlib inline\n",
      "%config InlineBackend.figure_format='svg'\n",
      "\n",
      "N = len(hpsos)\n",
      "\n",
      "hpsos_flops = np.zeros(N)\n",
      "hpos_pos_start = np.zeros(N)  # Start of the pie segment\n",
      "hpos_pos_mid = np.zeros(N)    # Middle of the pie segment\n",
      "hpos_durations = np.zeros(N)\n",
      "hpsos_names = hpsos.keys()\n",
      "hpsos_names.sort()\n",
      "Ttotal = 0\n",
      "i = -1\n",
      "\n",
      "for hpso in hpsos_names:\n",
      "    i += 1\n",
      "    hpos_durations[i] = float(hpsos[hpso][Texp] / u.s)\n",
      "    Ttotal_old = Ttotal\n",
      "    Ttotal += hpos_durations[i]\n",
      "    hpos_pos_start[i] = Ttotal_old\n",
      "    hpos_pos_mid[i] = 0.5* (Ttotal + Ttotal_old)\n",
      "    hpsos_flops[i] = result_flops[hpso] / 1e15\n",
      "\n",
      "thetas_start = hpos_pos_start * 2 * np.pi / Ttotal\n",
      "thetas_mid = hpos_pos_mid * 2 * np.pi / Ttotal\n",
      "radii = hpsos_flops\n",
      "widths = hpos_durations * 2 * np.pi / Ttotal\n",
      "\n",
      "ax = plt.subplot(111, polar=True)\n",
      "bars = ax.bar(thetas_start, radii, width=widths, bottom=0.0)\n",
      "\n",
      "ax.set_title('Rflop (radius) and duration (width) for all HPSOs\\n')\n",
      "ax.set_xticks(thetas_mid);\n",
      "ax.set_xticklabels(hpsos_names);\n",
      "\n",
      "# Use custom colors and opacity\n",
      "for r, bar in zip(radii, bars):\n",
      "    bar.set_facecolor(plt.cm.jet(r / 10.))\n",
      "    bar.set_alpha(0.8)\n",
      "\n",
      "plt.show()"
     ],
     "language": "python",
     "metadata": {},
     "outputs": []
    },
    {
     "cell_type": "heading",
     "level": 2,
     "metadata": {},
     "source": [
      "Computing a symbolic expression for a given variable"
     ]
    },
    {
     "cell_type": "code",
     "collapsed": false,
     "input": [
      "simplify(P_sdp/u.W) # the optional 'simplify' command slows things down, but sometimes does as its name implies"
     ],
     "language": "python",
     "metadata": {},
     "outputs": []
    }
   ],
   "metadata": {}
  }
 ]
}