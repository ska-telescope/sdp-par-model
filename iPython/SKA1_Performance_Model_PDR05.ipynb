{
 "metadata": {
  "name": "",
  "signature": "sha256:159e2342d9ccf112091f72491fe65abe03b71dd3ed316b835f85f77966dc6b04"
 },
 "nbformat": 3,
 "nbformat_minor": 0,
 "worksheets": [
  {
   "cells": [
    {
     "cell_type": "markdown",
     "metadata": {},
     "source": [
      "_This notebook started out as a direct iPython translation of the **M7 PDR05 Excel Spreadsheet**, implemented in a similar way as originally done by **Juande Santander-Vela** in his separate analysis of the M7 Milestone PDR05 (MS Word) document._\n",
      "\n",
      "_This is an interactive document. **sympy** and **astropy** are required to evaluate some of the blocks of code. While overlapping in scope with \"Full Computational Requirements for SDP.ipynb\" and \"Parametric Models of SDP Compute Requirements.ipynb\", this document was independently derived._ \n",
      "\n",
      "_Equations may be evaluated for the different telescopes and imaging modes, either numerically or symbolically_ \n",
      "\n",
      "_The owner of this notebook document is **Francois Malan** of Space Advisory Company._"
     ]
    },
    {
     "cell_type": "heading",
     "level": 1,
     "metadata": {},
     "source": [
      "1. Definitions:"
     ]
    },
    {
     "cell_type": "markdown",
     "metadata": {},
     "source": [
      "_If any of these values need to be changed, this should be done in the \"Implementation\" section lower down. The display-formatted text in this \"Definitions\" section is (as you may have guessed) just for display purposes._ "
     ]
    },
    {
     "cell_type": "markdown",
     "metadata": {},
     "source": [
      "**Output Parameters we are interested in:**\n",
      "\n",
      "|**Symbol**|**Python**|**Description**|\n",
      "|-|-|-|\n",
      "| $M_{buf,vis}$ | Mbuf_vis | Buffer size (bytes) |\n",
      "| $M_{w,cache}$ | Mw_cache | w-convolution kernel cache size |\n",
      "| $N_{pix,linear}$ | Npix_linear | The linear number of pixels along the image's side (assumed to be square)|\n",
      "| $R_{FLOP}$ | Rflop | Overall flop rate |\n",
      "| $R_{IO}$ | Rio | Overall I/O rate, (bytes/s) |\n",
      "\n",
      "** Physical constants **\n",
      "\n",
      "|**Symbol**|**Python**|**Value**|**Description**|\n",
      "|-|-|-|-|\n",
      "| $c$ | u.c | $2.99792458 \\times 10^8$ (m/s) | Speed of light in a vacuum |\n",
      "| $\\Omega_E$ | Omega_E | $7.292115 \\times 10^{-5}$ (rad/s) | Angular rotational velocity of the Earth relative to the fixed stars |\n",
      "| $R_{Earth}$ | R_Earth | $6.378136 \\times 10^6$ (m) | Radius of the Earth |\n",
      "\n",
      "**Global parameters - used for all telescopes**\n",
      "\n",
      "*May need global tweaking*\n",
      "\n",
      "|**Symbol**|**Python**|**Value**|**Description**|\n",
      "|-|-|-|-|\n",
      "| $\\epsilon_{w}$ | epsilon_w | 0.01 | Amplitude level of w-kernels to include. Value 0.01 is used in [RD6] where it is shown to give kernel sizes in rough agreement with CASA package.|\n",
      "| $M_{vis}$| Mvis | 12 | Size of visibility datum in the buffer (in bytes?) |\n",
      "| $N_{kernel}$ | Naa | 9 | Linear size of the combined $A$ and $W$ kernels (pixels). This size is at the low end of the range 9-15 given by [RD11] in Section 4.4.2 of their paper. |\n",
      "| $N_{mm}$ | Nmm | 4| |\n",
      "| $N_{pp}$ | Npp | 4| Number of polarisation products that are processed |\n",
      "| $N_{w}$ | Nw | 2| Bytes per value |\n",
      "|$Q_{bw}$|Qbw|1 |Bandwidth quality factor, determining how well bandwidth smearing can be controlled|\n",
      "|$Q_{fcw}$|Qfcw|10|Number of adjacent frequency channels for which baseline dependent kernels can be reused|\n",
      "|$Q_{GCF}$|Qgcf|8|Oversampling factor of w-convolution kernels|\n",
      "|$Q_{w}$|Qw|1 | Quality factor for w-projection correction. Value 1 corresponds to correction of maximal w values.  For comparison [RD7] uses values 0.1\u20140.3 |\n",
      "| $T_{ion}$ | T_ion | 60 | Ionospheric timescale |\n",
      "\n",
      "** Telescope-dependent parameters **\n",
      "\n",
      "*Subject to change*\n",
      "\n",
      "|***Telescope parameters***\n",
      "|-|-|-|-|-|-|\n",
      "| | Symbol | Python | **SKA1-Low** | **SKA1-Mid** | **SKA1-Survey** |\n",
      "| Maximum baseline according to SKAO (km)     | $B_{max}$|Bmax| $100$|$200$|$50$|\n",
      "| Antenna/Station Diameter (m)                                   |$D_{s}$|Ds|$35$|$15$|$15$|\n",
      "| Minimum frequency (of the chosen band) | $f_{min}$ | freq_min | 50 Mhz | depends on band | depends on band |\n",
      "| Maximum frequency (of the chosen band) | $f_{max}$ | freq_max | 350 Mhz | depends on band | depends on band |\n",
      "| Number of stations/antennas                                    |$N_{a}$|Na|$1024$|$256$|$96$|\n",
      "| Number of beams                                                |$N_{beam}$|Nbeam|$1$|$1$|$36$|\n",
      "| Number of frequency channels from corellator                   |$N_{f,max}$|Nf_max|$256000$|$256000$|$256000$|\n",
      "| Correlator dump time appropriate for $B_{max,ref}$ (seconds) |$T_{dump,ref}$|Tdump_ref|$0.6$|$0.08$|$0.3$|\n",
      "| Bins (upper bounds) used for discretizing baseline distribution in computations (km) | - | baseline_bins | $(4.9, 7.1, 10.4, 15.1, 22.1, 32.2, 47.0, 68.5, 100)$ | $(4.4, 6.7, 10.3, 15.7, 24.0, 36.7, 56.0, 85.6, 130.8, 200)$ | $(3.8, 5.5, 8.0, 11.5, 16.6, 24.0, 34.6, 50)$ \n",
      "| Number of baselines in each bin | - | baseline_bin_counts | $(5031193, 732481, 796973, 586849, 1070483, 939054, 820834, 202366, 12375)$ | $(669822, 61039, 64851, 66222, 70838, 68024, 74060, 68736, 21523, 745)$ | $(81109, 15605, 15777, 16671, 16849, 17999, 3282, 324)$ \n",
      "\n",
      "** Spectral vs Continuum vs Fast Imaging (i.e. slow transients) **\n",
      "\n",
      "*This is the same for all telescopes and bands*, but may be overwritten by HPSOs\n",
      "\n",
      "|***Imaging-mode telescope parameters***\n",
      "|-|-|-|-|-|-|\n",
      "| | Symbol | Python | **Continuum** | **Spectral** | **SlowTrans** |\n",
      "| Baseline length that (Fbshort+Fbmid), i.e. 90% of baselines are shorter than | $B_{lim,mid}$ | Blim_mid | $20000$ | n/a | $20000$\n",
      "| Number of output map channels | $N_{f, out}$ | Nf_out | $500$ | *computed* | $500$ |\n",
      "| Number of channels for gridding at longest baseline | $N_{f, used}$ | Nf_used | *computed* | *computed* | *computed*|\n",
      "| Number of major CLEAN cycles to be done | $N_{major}$ | Nmajor | $10$ | $1$ | $1$ |\n",
      "| Field of view factor | $Q_{FoV}$| Qfov | $1.8$ | $1$ | $0.9$ |\n",
      "| Quality factor defining the oversampling of synthesised beam | $Q_{pix}$ | Qpix | $2.5$ | $2.5$ | $1.5$|\n",
      "| Observation length |$T_{obs}$ | Tobs  | $6\\ {\\rm h}$  | $6\\ {\\rm h}$ | $1.2\\ {\\rm sec}$  |\n",
      "| Snapshot timescale implemented (sec) | $T_{snap}$ | Tsnap | *optimized* | *optimized* | *optimized* |\n",
      "| Minimum Snapshot timescale - equals $T_{obs}$ for slow transients | $T_{snap, min}$ | Tsnap_min | $1.2\\ {\\rm sec}$ | $1.2\\ {\\rm sec}$ | $1.2\\ {\\rm sec}$"
     ]
    },
    {
     "cell_type": "heading",
     "level": 1,
     "metadata": {},
     "source": [
      "2. Load Implementation & Environment (refer to .py source files):"
     ]
    },
    {
     "cell_type": "code",
     "collapsed": false,
     "input": [
      "'''\n",
      "The following command imports the python modules, methods and code fragments that are required to run this notebook. \n",
      "Please refer to the following python files for implementation details (omitted here for readability)\n",
      "* env_setup.py -- code for setting up the python environment\n",
      "* parameter_definitions.py -- contains definitions of variables, primary telescope parameters  \n",
      "* formulae.py -- contains formulae for defiving secondary telescope-specific parameters from input parameters\n",
      "* implementation.py -- contains methods for performing computations (i.e. crunching the numbers)\n",
      "'''\n",
      "from env_setup import *\n",
      "from parameter_definitions import *\n",
      "from formulae import *\n",
      "from implementation import *"
     ],
     "language": "python",
     "metadata": {},
     "outputs": [
      {
       "output_type": "stream",
       "stream": "stdout",
       "text": [
        "IPython console for SymPy 0.7.6 (Python 2.7.7-32-bit) (ground types: python)\n"
       ]
      }
     ],
     "prompt_number": 1
    },
    {
     "cell_type": "code",
     "collapsed": false,
     "input": [
      "import time\n",
      "t0 = time.time()\n",
      "band = 'Low'\n",
      "mode = 'Spectral'\n",
      "telescope_parameters = calc_tel_params(band=band, mode=mode)\n",
      "(Tsnap_opt, Nfacet_opt) = find_optimal_Tsnap_Nfacet(telescope_parameters, verbose=True)\n",
      "print (Tsnap_opt, Nfacet_opt)\n",
      "#(Tsnap_opt, Nfacet_opt) = (87.16, 3)\n",
      "t1 = time.time()\n",
      "expression = telescope_parameters.Rflop\n",
      "expression_subst = expression.subs({telescope_parameters.Tsnap : Tsnap_opt, telescope_parameters.Nfacet : Nfacet_opt})\n",
      "result = evaluate_binned_expression(expression_subst, telescope_parameters)\n",
      "print 'Result of expression = %f Peta' % (result)\n",
      "t2 = time.time()\n",
      "print 'Optimization took %f seconds' % (t1-t0)\n",
      "print 'Evaluation took %f seconds' % (t2-t1)\n",
      "print 'Total time = %f seconds' % (t2-t0)"
     ],
     "language": "python",
     "metadata": {},
     "outputs": [
      {
       "output_type": "stream",
       "stream": "stdout",
       "text": [
        "Evaluating Nfacets = 1\n",
        "Tsnap has been optimized as : 117.742556, yielding a minimum value of 0.000000 Peta-units"
       ]
      },
      {
       "output_type": "stream",
       "stream": "stdout",
       "text": [
        "\n",
        "Evaluating Nfacets = 2\n",
        "Tsnap has been optimized as : 164.551134, yielding a minimum value of 0.000000 Peta-units"
       ]
      },
      {
       "output_type": "stream",
       "stream": "stdout",
       "text": [
        "\n",
        "\n",
        "Expression increasing with number of facets; aborting exploration of Nfacets > 2\n",
        "\n",
        "0.000000 PetaFLOPS was the lowest FLOP value, found for (Nfacet, Tsnap) = (1, 117.74)\n",
        "(117.742556400779, 1)\n",
        "Result of expression = 34.255293 Peta"
       ]
      },
      {
       "output_type": "stream",
       "stream": "stdout",
       "text": [
        "\n",
        "Optimization took 8.821000 seconds\n",
        "Evaluation took 0.342000 seconds\n",
        "Total time = 9.163000 seconds\n"
       ]
      }
     ],
     "prompt_number": 2
    },
    {
     "cell_type": "heading",
     "level": 1,
     "metadata": {},
     "source": [
      "3. Computations:"
     ]
    },
    {
     "cell_type": "heading",
     "level": 2,
     "metadata": {},
     "source": [
      "Optimizing Tsnap and Nfacet for a given band and mode:"
     ]
    },
    {
     "cell_type": "heading",
     "level": 2,
     "metadata": {},
     "source": [
      "Looping through a list of (standard) bands -- this may take several minutes:"
     ]
    },
    {
     "cell_type": "code",
     "collapsed": false,
     "input": [
      "selected_bands = ('Low', 'Mid1', 'Sur1')  # Only loop over the first bands for each telescope (assumed to be the most demanding)\n",
      "selected_modes = ('Continuum', 'Spectral', 'SlowTrans')\n",
      "\n",
      "non_peta_values = ('Npix_linear')\n",
      "values_to_take_max = ('Npix_linear')\n",
      "\n",
      "results = {}\n",
      "\n",
      "for band in selected_bands:\n",
      "    for mode in selected_modes:\n",
      "        tp = calc_tel_params(band=band, mode=mode)\n",
      "        print '.'\n",
      "        print '>> Evaluating %s band %s in %s mode' % (tp.telescope, band, mode)\n",
      "        \n",
      "        (Tsnap_opt, Nfacet_opt) = find_optimal_Tsnap_Nfacet(tp)\n",
      "        print 'Optimal (Tsnap, Nfacet) values = (%.2f sec, %d)' % (Tsnap_opt, Nfacet_opt)\n",
      "        \n",
      "        parameters = calc_tel_params(band=band, mode=mode)\n",
      "        substitution = {parameters.Tsnap : Tsnap_opt, parameters.Nfacet : Nfacet_opt}\n",
      "        \n",
      "        expressions = (tp.Rflop_conv, tp.Rflop_fft, tp.Rflop_grid, tp.Rflop_proj, tp.Rflop_phrot, tp.Rflop, tp.Mbuf_vis, tp.Mw_cache, tp.Npix_linear, tp.Rio)\n",
      "        expression_strings = ('Rflop_conv', 'Rflop_fft', 'Rflop_grid', 'Rflop_proj', 'Rflop_phrot', 'Rflop','Mbuf_vis', 'Mw_cache', 'Npix_linear', 'Rio')\n",
      "        key_expressions = zip(expression_strings, expressions)\n",
      "        \n",
      "        for key_expression in key_expressions: \n",
      "            key = key_expression[0]\n",
      "            expression = key_expression[1]\n",
      "            expression_subst = expression.subs(substitution)\n",
      "            take_max = (key in values_to_take_max)                \n",
      "            result = evaluate_binned_expression(expression_subst, parameters, take_max=take_max)\n",
      "            results[(band, mode, key)] = result\n",
      "            \n",
      "            if key in non_peta_values:\n",
      "                print '-> %s : %s = %g' % (mode, key, result)\n",
      "            else:    \n",
      "                print '-> %s : %s = %.3g Peta' % (mode, key, result)\n",
      "                \n",
      "        #flops_total = 0\n",
      "        #for key in expression_strings:\n",
      "            #flops_total += results[(band, mode, key)]\n",
      "        #results[(band, mode, 'Rflop')] = flops_total #This is incorrect - it is including Mbuf_vis (and likely Mw_cache too). Use explicit Rflop intead.\n",
      "        #print '-> %s : %s = %.3g PetaFLOPS' % (mode, 'Rflop', flops_total/1e15)\n",
      "        #print '-> %s : %s = %.3g PetaFLOPS' % (mode, 'Rflop', Rflop)\n",
      "print '\\n>>> Done!'"
     ],
     "language": "python",
     "metadata": {},
     "outputs": [
      {
       "output_type": "stream",
       "stream": "stdout",
       "text": [
        ".\n",
        ">> Evaluating SKA1_Low band Low in Continuum mode\n",
        "Optimal (Tsnap, Nfacet) values = (86.90 sec, 3)"
       ]
      },
      {
       "output_type": "stream",
       "stream": "stdout",
       "text": [
        "\n",
        "-> Continuum : Rflop_conv = 1.29 Peta"
       ]
      },
      {
       "output_type": "stream",
       "stream": "stdout",
       "text": [
        "\n",
        "-> Continuum : Rflop_fft = 0.498 Peta\n",
        "-> Continuum : Rflop_grid = 0.93 Peta"
       ]
      },
      {
       "output_type": "stream",
       "stream": "stdout",
       "text": [
        "\n",
        "-> Continuum : Rflop_proj = 0.362 Peta\n",
        "-> Continuum : Rflop_phrot = 0.00807 Peta\n",
        "-> Continuum : Rflop = 3.08 Peta"
       ]
      },
      {
       "output_type": "stream",
       "stream": "stdout",
       "text": [
        "\n",
        "-> Continuum : Mbuf_vis = 0.93 Peta\n",
        "-> Continuum : Mw_cache = 6.94e+10 Peta"
       ]
      },
      {
       "output_type": "stream",
       "stream": "stdout",
       "text": [
        "\n",
        "-> Continuum : Npix_linear = 13932.9\n",
        "-> Continuum : Rio = 0.00213 Peta\n",
        "."
       ]
      },
      {
       "output_type": "stream",
       "stream": "stdout",
       "text": [
        "\n",
        ">> Evaluating SKA1_Low band Low in Spectral mode\n",
        "Optimal (Tsnap, Nfacet) values = (117.74 sec, 1)"
       ]
      },
      {
       "output_type": "stream",
       "stream": "stdout",
       "text": [
        "\n",
        "-> Spectral : Rflop_conv = 9.48 Peta"
       ]
      },
      {
       "output_type": "stream",
       "stream": "stdout",
       "text": [
        "\n",
        "-> Spectral : Rflop_fft = 9.18 Peta\n",
        "-> Spectral : Rflop_grid = 9.27 Peta"
       ]
      },
      {
       "output_type": "stream",
       "stream": "stdout",
       "text": [
        "\n",
        "-> Spectral : Rflop_proj = 6.33 Peta\n",
        "-> Spectral : Rflop_phrot = 0 Peta\n",
        "-> Spectral : Rflop = 34.3 Peta"
       ]
      },
      {
       "output_type": "stream",
       "stream": "stdout",
       "text": [
        "\n",
        "-> Spectral : Mbuf_vis = 237 Peta\n",
        "-> Spectral : Mw_cache = 8.18e+13 Peta\n",
        "-> Spectral : Npix_linear = 23221.5"
       ]
      },
      {
       "output_type": "stream",
       "stream": "stdout",
       "text": [
        "\n",
        "-> Spectral : Rio = 0.0137 Peta\n",
        "."
       ]
      },
      {
       "output_type": "stream",
       "stream": "stdout",
       "text": [
        "\n",
        ">> Evaluating SKA1_Low band Low in SlowTrans mode\n",
        "Optimal (Tsnap, Nfacet) values = (1.20 sec, 1)"
       ]
      },
      {
       "output_type": "stream",
       "stream": "stdout",
       "text": [
        "\n",
        "-> SlowTrans : Rflop_conv = 0.0177 Peta"
       ]
      },
      {
       "output_type": "stream",
       "stream": "stdout",
       "text": [
        "\n",
        "-> SlowTrans : Rflop_fft = 0.321 Peta\n",
        "-> SlowTrans : Rflop_grid = 0.0198 Peta"
       ]
      },
      {
       "output_type": "stream",
       "stream": "stdout",
       "text": [
        "\n",
        "-> SlowTrans : Rflop_proj = 0 Peta\n",
        "-> SlowTrans : Rflop_phrot = 0 Peta\n",
        "-> SlowTrans : Rflop = 0.359 Peta"
       ]
      },
      {
       "output_type": "stream",
       "stream": "stdout",
       "text": [
        "\n",
        "-> SlowTrans : Mbuf_vis = 7.06e-05 Peta\n",
        "-> SlowTrans : Mw_cache = 1.78e+11 Peta"
       ]
      },
      {
       "output_type": "stream",
       "stream": "stdout",
       "text": [
        "\n",
        "-> SlowTrans : Npix_linear = 12539.6\n",
        "-> SlowTrans : Rio = 5.89e-05 Peta\n",
        "."
       ]
      },
      {
       "output_type": "stream",
       "stream": "stdout",
       "text": [
        "\n",
        ">> Evaluating SKA1_Mid band Mid1 in Continuum mode\n",
        "Optimal (Tsnap, Nfacet) values = (1060.81 sec, 12)"
       ]
      },
      {
       "output_type": "stream",
       "stream": "stdout",
       "text": [
        "\n",
        "-> Continuum : Rflop_conv = 0.846 Peta"
       ]
      },
      {
       "output_type": "stream",
       "stream": "stdout",
       "text": [
        "\n",
        "-> Continuum : Rflop_fft = 1 Peta\n",
        "-> Continuum : Rflop_grid = 2.11 Peta"
       ]
      },
      {
       "output_type": "stream",
       "stream": "stdout",
       "text": [
        "\n",
        "-> Continuum : Rflop_proj = 0.717 Peta\n",
        "-> Continuum : Rflop_phrot = 0.0171 Peta\n",
        "-> Continuum : Rflop = 4.7 Peta"
       ]
      },
      {
       "output_type": "stream",
       "stream": "stdout",
       "text": [
        "\n",
        "-> Continuum : Mbuf_vis = 0.123 Peta\n",
        "-> Continuum : Mw_cache = 9.04e+10 Peta"
       ]
      },
      {
       "output_type": "stream",
       "stream": "stdout",
       "text": [
        "\n",
        "-> Continuum : Npix_linear = 16255\n",
        "-> Continuum : Rio = 0.00453 Peta\n",
        "."
       ]
      },
      {
       "output_type": "stream",
       "stream": "stdout",
       "text": [
        "\n",
        ">> Evaluating SKA1_Mid band Mid1 in Spectral mode\n",
        "Optimal (Tsnap, Nfacet) values = (1490.50 sec, 5)"
       ]
      },
      {
       "output_type": "stream",
       "stream": "stdout",
       "text": [
        "\n",
        "-> Spectral : Rflop_conv = 10.8 Peta"
       ]
      },
      {
       "output_type": "stream",
       "stream": "stdout",
       "text": [
        "\n",
        "-> Spectral : Rflop_fft = 17.4 Peta\n",
        "-> Spectral : Rflop_grid = 23.4 Peta"
       ]
      },
      {
       "output_type": "stream",
       "stream": "stdout",
       "text": [
        "\n",
        "-> Spectral : Rflop_proj = 12.1 Peta\n",
        "-> Spectral : Rflop_phrot = 0.107 Peta\n",
        "-> Spectral : Rflop = 63.9 Peta"
       ]
      },
      {
       "output_type": "stream",
       "stream": "stdout",
       "text": [
        "\n",
        "-> Spectral : Mbuf_vis = 29.7 Peta\n",
        "-> Spectral : Mw_cache = 6.29e+13 Peta\n",
        "-> Spectral : Npix_linear = 21673.4\n",
        "-> Spectral : Rio = 0.043 Peta"
       ]
      },
      {
       "output_type": "stream",
       "stream": "stdout",
       "text": [
        "\n",
        "."
       ]
      },
      {
       "output_type": "stream",
       "stream": "stdout",
       "text": [
        "\n",
        ">> Evaluating SKA1_Mid band Mid1 in SlowTrans mode\n",
        "Searching for minimum Rflop with nfacets > 20... this is a bit odd (and may take long)"
       ]
      },
      {
       "output_type": "stream",
       "stream": "stdout",
       "text": [
        "\n",
        "Optimal (Tsnap, Nfacet) values = (1.20 sec, 24)"
       ]
      },
      {
       "output_type": "stream",
       "stream": "stdout",
       "text": [
        "\n",
        "-> SlowTrans : Rflop_conv = 0.2 Peta"
       ]
      },
      {
       "output_type": "stream",
       "stream": "stdout",
       "text": [
        "\n",
        "-> SlowTrans : Rflop_fft = 6.42 Peta\n",
        "-> SlowTrans : Rflop_grid = 0.22 Peta"
       ]
      },
      {
       "output_type": "stream",
       "stream": "stdout",
       "text": [
        "\n",
        "-> SlowTrans : Rflop_proj = 0 Peta\n",
        "-> SlowTrans : Rflop_phrot = 0.00331 Peta\n",
        "-> SlowTrans : Rflop = 6.85 Peta"
       ]
      },
      {
       "output_type": "stream",
       "stream": "stdout",
       "text": [
        "\n",
        "-> SlowTrans : Mbuf_vis = 3.31e-06 Peta\n",
        "-> SlowTrans : Mw_cache = 2.06e+05 Peta\n",
        "-> SlowTrans : Npix_linear = 2438.25\n",
        "-> SlowTrans : Rio = 0.00159 Peta"
       ]
      },
      {
       "output_type": "stream",
       "stream": "stdout",
       "text": [
        "\n",
        "."
       ]
      },
      {
       "output_type": "stream",
       "stream": "stdout",
       "text": [
        "\n",
        ">> Evaluating SKA1_Survey band Sur1 in Continuum mode\n",
        "Optimal (Tsnap, Nfacet) values = (1707.78 sec, 6)"
       ]
      },
      {
       "output_type": "stream",
       "stream": "stdout",
       "text": [
        "\n",
        "-> Continuum : Rflop_conv = 1.27 Peta"
       ]
      },
      {
       "output_type": "stream",
       "stream": "stdout",
       "text": [
        "\n",
        "-> Continuum : Rflop_fft = 1.04 Peta\n",
        "-> Continuum : Rflop_grid = 1.11 Peta"
       ]
      },
      {
       "output_type": "stream",
       "stream": "stdout",
       "text": [
        "\n",
        "-> Continuum : Rflop_proj = 0.802 Peta\n",
        "-> Continuum : Rflop_phrot = 0.0068 Peta\n",
        "-> Continuum : Rflop = 4.23 Peta"
       ]
      },
      {
       "output_type": "stream",
       "stream": "stdout",
       "text": [
        "\n",
        "-> Continuum : Mbuf_vis = 0.196 Peta\n",
        "-> Continuum : Mw_cache = 4.76e+12 Peta"
       ]
      },
      {
       "output_type": "stream",
       "stream": "stdout",
       "text": [
        "\n",
        "-> Continuum : Npix_linear = 8127.51\n",
        "-> Continuum : Rio = 0.0018 Peta\n",
        "."
       ]
      },
      {
       "output_type": "stream",
       "stream": "stdout",
       "text": [
        "\n",
        ">> Evaluating SKA1_Survey band Sur1 in Spectral mode\n",
        "Optimal (Tsnap, Nfacet) values = (1814.24 sec, 3)"
       ]
      },
      {
       "output_type": "stream",
       "stream": "stdout",
       "text": [
        "\n",
        "-> Spectral : Rflop_conv = 25.6 Peta"
       ]
      },
      {
       "output_type": "stream",
       "stream": "stdout",
       "text": [
        "\n",
        "-> Spectral : Rflop_fft = 23.5 Peta\n",
        "-> Spectral : Rflop_grid = 23.2 Peta"
       ]
      },
      {
       "output_type": "stream",
       "stream": "stdout",
       "text": [
        "\n",
        "-> Spectral : Rflop_proj = 17.9 Peta\n",
        "-> Spectral : Rflop_phrot = 0.114 Peta\n",
        "-> Spectral : Rflop = 90.3 Peta"
       ]
      },
      {
       "output_type": "stream",
       "stream": "stdout",
       "text": [
        "\n",
        "-> Spectral : Mbuf_vis = 87.5 Peta\n",
        "-> Spectral : Mw_cache = 1.92e+15 Peta\n",
        "-> Spectral : Npix_linear = 9030.57\n",
        "-> Spectral : Rio = 0.0456 Peta"
       ]
      },
      {
       "output_type": "stream",
       "stream": "stdout",
       "text": [
        "\n",
        "."
       ]
      },
      {
       "output_type": "stream",
       "stream": "stdout",
       "text": [
        "\n",
        ">> Evaluating SKA1_Survey band Sur1 in SlowTrans mode\n",
        "Optimal (Tsnap, Nfacet) values = (1.20 sec, 16)"
       ]
      },
      {
       "output_type": "stream",
       "stream": "stdout",
       "text": [
        "\n",
        "-> SlowTrans : Rflop_conv = 0.453 Peta"
       ]
      },
      {
       "output_type": "stream",
       "stream": "stdout",
       "text": [
        "\n",
        "-> SlowTrans : Rflop_fft = 10.1 Peta\n",
        "-> SlowTrans : Rflop_grid = 0.287 Peta"
       ]
      },
      {
       "output_type": "stream",
       "stream": "stdout",
       "text": [
        "\n",
        "-> SlowTrans : Rflop_proj = 0 Peta\n",
        "-> SlowTrans : Rflop_phrot = 0.00422 Peta\n",
        "-> SlowTrans : Rflop = 10.8 Peta"
       ]
      },
      {
       "output_type": "stream",
       "stream": "stdout",
       "text": [
        "\n",
        "-> SlowTrans : Mbuf_vis = 9.5e-06 Peta\n",
        "-> SlowTrans : Mw_cache = 6.34e+04 Peta\n",
        "-> SlowTrans : Npix_linear = 914.345"
       ]
      },
      {
       "output_type": "stream",
       "stream": "stdout",
       "text": [
        "\n",
        "-> SlowTrans : Rio = 0.00203 Peta\n",
        "\n",
        ">>> Done!\n"
       ]
      }
     ],
     "prompt_number": 4
    },
    {
     "cell_type": "heading",
     "level": 2,
     "metadata": {},
     "source": [
      "Because it takes a little while to compute all results, let's just dump them out to screen:"
     ]
    },
    {
     "cell_type": "code",
     "collapsed": false,
     "input": [
      "results"
     ],
     "language": "python",
     "metadata": {},
     "outputs": [
      {
       "metadata": {},
       "output_type": "pyout",
       "prompt_number": 5,
       "text": [
        "{('Low', 'Continuum', 'Mbuf_vis'): 0.929555137445799,\n",
        " ('Low', 'Continuum', 'Mw_cache'): 69409005685.25136,\n",
        " ('Low', 'Continuum', 'Npix_linear'): 13932.87844667335,\n",
        " ('Low', 'Continuum', 'Rflop'): 3.0836733186417877,\n",
        " ('Low', 'Continuum', 'Rflop_conv'): 1.2857470428849205,\n",
        " ('Low', 'Continuum', 'Rflop_fft'): 0.4981849807745445,\n",
        " ('Low', 'Continuum', 'Rflop_grid'): 0.9297824128806559,\n",
        " ('Low', 'Continuum', 'Rflop_phrot'): 0.00806905501255034,\n",
        " ('Low', 'Continuum', 'Rflop_proj'): 0.36188982708911666,\n",
        " ('Low', 'Continuum', 'Rio'): 0.0021302305233132893,\n",
        " ('Low', 'SlowTrans', 'Mbuf_vis'): 7.062692208434753e-05,\n",
        " ('Low', 'SlowTrans', 'Mw_cache'): 178099695113.17557,\n",
        " ('Low', 'SlowTrans', 'Npix_linear'): 12539.590602006017,\n",
        " ('Low', 'SlowTrans', 'Rflop'): 0.35860654787082386,\n",
        " ('Low', 'SlowTrans', 'Rflop_conv'): 0.017670309505055836,\n",
        " ('Low', 'SlowTrans', 'Rflop_fft'): 0.32110730422307837,\n",
        " ('Low', 'SlowTrans', 'Rflop_grid'): 0.01982893414268961,\n",
        " ('Low', 'SlowTrans', 'Rflop_phrot'): 0.0,\n",
        " ('Low', 'SlowTrans', 'Rflop_proj'): 0.0,\n",
        " ('Low', 'SlowTrans', 'Rio'): 5.885576840362295e-05,\n",
        " ('Low', 'Spectral', 'Mbuf_vis'): 236.58330511739322,\n",
        " ('Low', 'Spectral', 'Mw_cache'): 81792100444590.38,\n",
        " ('Low', 'Spectral', 'Npix_linear'): 23221.464077788918,\n",
        " ('Low', 'Spectral', 'Rflop'): 34.25529254168077,\n",
        " ('Low', 'Spectral', 'Rflop_conv'): 9.476859770034599,\n",
        " ('Low', 'Spectral', 'Rflop_fft'): 9.18210885261119,\n",
        " ('Low', 'Spectral', 'Rflop_grid'): 9.26521973940293,\n",
        " ('Low', 'Spectral', 'Rflop_phrot'): 0.0,\n",
        " ('Low', 'Spectral', 'Rflop_proj'): 6.33110417963204,\n",
        " ('Low', 'Spectral', 'Rio'): 0.013691163490589887,\n",
        " ('Mid1', 'Continuum', 'Mbuf_vis'): 0.12346722089190273,\n",
        " ('Mid1', 'Continuum', 'Mw_cache'): 90377176948.56789,\n",
        " ('Mid1', 'Continuum', 'Npix_linear'): 16255.024854452244,\n",
        " ('Mid1', 'Continuum', 'Rflop'): 4.697858240540812,\n",
        " ('Mid1', 'Continuum', 'Rflop_conv'): 0.8464005909205617,\n",
        " ('Mid1', 'Continuum', 'Rflop_fft'): 1.003471988656587,\n",
        " ('Mid1', 'Continuum', 'Rflop_grid'): 2.113487506629126,\n",
        " ('Mid1', 'Continuum', 'Rflop_phrot'): 0.01714822512387538,\n",
        " ('Mid1', 'Continuum', 'Rflop_proj'): 0.7173499292106618,\n",
        " ('Mid1', 'Continuum', 'Rio'): 0.0045271314327031,\n",
        " ('Mid1', 'SlowTrans', 'Mbuf_vis'): 3.3053112985856213e-06,\n",
        " ('Mid1', 'SlowTrans', 'Mw_cache'): 205830.39985189945,\n",
        " ('Mid1', 'SlowTrans', 'Npix_linear'): 2438.2537281678365,\n",
        " ('Mid1', 'SlowTrans', 'Rflop'): 6.845712461731896,\n",
        " ('Mid1', 'SlowTrans', 'Rflop_conv'): 0.20041240123430595,\n",
        " ('Mid1', 'SlowTrans', 'Rflop_fft'): 6.421619482508951,\n",
        " ('Mid1', 'SlowTrans', 'Rflop_grid'): 0.2203752666900544,\n",
        " ('Mid1', 'SlowTrans', 'Rflop_phrot'): 0.003305311298585621,\n",
        " ('Mid1', 'SlowTrans', 'Rflop_proj'): 0.0,\n",
        " ('Mid1', 'SlowTrans', 'Rio'): 0.0015865494233210978,\n",
        " ('Mid1', 'Spectral', 'Mbuf_vis'): 29.689318978258825,\n",
        " ('Mid1', 'Spectral', 'Mw_cache'): 62864411799396.05,\n",
        " ('Mid1', 'Spectral', 'Npix_linear'): 21673.366472602993,\n",
        " ('Mid1', 'Spectral', 'Rflop'): 63.87957475735869,\n",
        " ('Mid1', 'Spectral', 'Rflop_conv'): 10.808050502728527,\n",
        " ('Mid1', 'Spectral', 'Rflop_fft'): 17.431080169315152,\n",
        " ('Mid1', 'Spectral', 'Rflop_grid'): 23.4311994763443,\n",
        " ('Mid1', 'Spectral', 'Rflop_phrot'): 0.10738324283224401,\n",
        " ('Mid1', 'Spectral', 'Rflop_proj'): 12.101861366138456,\n",
        " ('Mid1', 'Spectral', 'Rio'): 0.042953297132897604,\n",
        " ('Sur1', 'Continuum', 'Mbuf_vis'): 0.19585789310659021,\n",
        " ('Sur1', 'Continuum', 'Mw_cache'): 4763937761150.266,\n",
        " ('Sur1', 'Continuum', 'Npix_linear'): 8127.512427226123,\n",
        " ('Sur1', 'Continuum', 'Rflop'): 4.234836923483258,\n",
        " ('Sur1', 'Continuum', 'Rflop_conv'): 1.2692525381356157,\n",
        " ('Sur1', 'Continuum', 'Rflop_fft'): 1.0417663228062815,\n",
        " ('Sur1', 'Continuum', 'Rflop_grid'): 1.1149552699111154,\n",
        " ('Sur1', 'Continuum', 'Rflop_phrot'): 0.006800621288423272,\n",
        " ('Sur1', 'Continuum', 'Rflop_proj'): 0.8020621713418217,\n",
        " ('Sur1', 'Continuum', 'Rio'): 0.0017953640201437441,\n",
        " ('Sur1', 'SlowTrans', 'Mbuf_vis'): 9.498401649484537e-06,\n",
        " ('Sur1', 'SlowTrans', 'Mw_cache'): 63416.59689082295,\n",
        " ('Sur1', 'SlowTrans', 'Npix_linear'): 914.3451480629388,\n",
        " ('Sur1', 'SlowTrans', 'Rflop'): 10.849944496270687,\n",
        " ('Sur1', 'SlowTrans', 'Rflop_conv'): 0.45342613719394065,\n",
        " ('Sur1', 'SlowTrans', 'Rflop_fft'): 10.105232840260587,\n",
        " ('Sur1', 'SlowTrans', 'Rflop_grid'): 0.2870640069719427,\n",
        " ('Sur1', 'SlowTrans', 'Rflop_phrot'): 0.00422151184421535,\n",
        " ('Sur1', 'SlowTrans', 'Rflop_proj'): 0.0,\n",
        " ('Sur1', 'SlowTrans', 'Rio'): 0.002026325685223368,\n",
        " ('Sur1', 'Spectral', 'Mbuf_vis'): 87.53726960164948,\n",
        " ('Sur1', 'Spectral', 'Mw_cache'): 1919171628461397.0,\n",
        " ('Sur1', 'Spectral', 'Npix_linear'): 9030.56936358458,\n",
        " ('Sur1', 'Spectral', 'Rflop'): 90.33749592925146,\n",
        " ('Sur1', 'Spectral', 'Rflop_conv'): 25.564806743151156,\n",
        " ('Sur1', 'Spectral', 'Rflop_fft'): 23.51668287668494,\n",
        " ('Sur1', 'Spectral', 'Rflop_grid'): 23.245825417637406,\n",
        " ('Sur1', 'Spectral', 'Rflop_phrot'): 0.11398081979381446,\n",
        " ('Sur1', 'Spectral', 'Rflop_proj'): 17.896200071984133,\n",
        " ('Sur1', 'Spectral', 'Rio'): 0.045592327917525786}"
       ]
      }
     ],
     "prompt_number": 5
    },
    {
     "cell_type": "heading",
     "level": 2,
     "metadata": {},
     "source": [
      "Now we can summarize (by summing) them for the three telescopes:"
     ]
    },
    {
     "cell_type": "code",
     "collapsed": false,
     "input": [
      "summable_expressions = {'Rflop_conv', 'Rflop_fft', 'Rflop_grid', 'Rflop_proj', 'Mbuf_vis', 'Rflop', 'Mw_cache', 'Rio'}\n",
      "imaging_modes = {'Spectral', 'Continuum', 'SlowTrans'}\n",
      "\n",
      "results_per_band = {}\n",
      "for band in selected_bands:\n",
      "    #tel = band_info[band]['telescope']\n",
      "    if not band in results_per_band:\n",
      "        results_per_band[band] = {}\n",
      "    for expression in summable_expressions:\n",
      "        if not expression in results_per_band[band]:\n",
      "            results_per_band[band][expression] = 0\n",
      "        for mode in imaging_modes:\n",
      "            assert (band, mode, expression) in results\n",
      "            results_per_band[band][expression] += results[(band, mode, expression)]\n",
      "\n",
      "results_per_band"
     ],
     "language": "python",
     "metadata": {},
     "outputs": [
      {
       "metadata": {},
       "output_type": "pyout",
       "prompt_number": 6,
       "text": [
        "{'Low': {'Mbuf_vis': 237.5129308817611,\n",
        "  'Mw_cache': 82039609145388.8,\n",
        "  'Rflop': 37.69757240819337,\n",
        "  'Rflop_conv': 10.780277122424575,\n",
        "  'Rflop_fft': 10.001401137608813,\n",
        "  'Rflop_grid': 10.214831086426274,\n",
        "  'Rflop_proj': 6.692994006721157,\n",
        "  'Rio': 0.0158802497823068},\n",
        " 'Mid1': {'Mbuf_vis': 29.812789504462028,\n",
        "  'Mw_cache': 62954789182175.016,\n",
        "  'Rflop': 75.4231454596314,\n",
        "  'Rflop_conv': 11.854863494883395,\n",
        "  'Rflop_fft': 24.85617164048069,\n",
        "  'Rflop_grid': 25.765062249663483,\n",
        "  'Rflop_proj': 12.819211295349117,\n",
        "  'Rio': 0.0490669779889218},\n",
        " 'Sur1': {'Mbuf_vis': 87.73313699315773,\n",
        "  'Mw_cache': 1923935566285963.8,\n",
        "  'Rflop': 105.4222773490054,\n",
        "  'Rflop_conv': 27.28748541848071,\n",
        "  'Rflop_fft': 34.663682039751805,\n",
        "  'Rflop_grid': 24.64784469452046,\n",
        "  'Rflop_proj': 18.698262243325953,\n",
        "  'Rio': 0.049414017622892895}}"
       ]
      }
     ],
     "prompt_number": 6
    },
    {
     "cell_type": "heading",
     "level": 2,
     "metadata": {},
     "source": [
      "Let's plot the FLOP values"
     ]
    },
    {
     "cell_type": "code",
     "collapsed": false,
     "input": [
      "import matplotlib.pyplot as plt\n",
      "%matplotlib inline\n",
      "\n",
      "import matplotlib.pylab as pylab\n",
      "pylab.rcParams['figure.figsize'] = 8, 6  # that's default image size for this interactive session\n",
      "\n",
      "results_per_tel = results_per_band\n",
      "t = results_per_tel.keys()\n",
      "t.sort()\n",
      "for tel in t:\n",
      "    values = results_per_tel[tel]\n",
      "\n",
      "    # The slices will be ordered and plotted counter-clockwise.\n",
      "    labels = '(de)Gridding', '(i)FFT', '(Re)Projection', 'Convolution'\n",
      "    sizes = [values['Rflop_grid'], values['Rflop_fft'], values['Rflop_proj'], values['Rflop_conv']]\n",
      "    colors = ['yellowgreen', 'gold', 'lightskyblue', 'lightcoral']\n",
      "    explode = (0.05, 0.05, 0.05, 0.05) # Radial offset of the slices\n",
      "\n",
      "    plt.pie(sizes, explode=explode, labels=labels, colors=colors,\n",
      "            autopct='%1.1f%%', shadow=True, startangle=90)\n",
      "    # Set aspect ratio to be equal so that pie is drawn as a circle.\n",
      "    plt.axis('equal')\n",
      "    plt.title('%s\\n' % tel)\n",
      "\n",
      "    plt.show()\n",
      "    \n",
      "results_per_param = {}\n",
      "for tel in t:\n",
      "    for param in results_per_tel[tel]:\n",
      "        if not param in results_per_param:\n",
      "            results_per_param[param] = []\n",
      "        results_per_param[param].append(results_per_tel[tel][param])\n",
      "\n",
      "#print results_per_param\n",
      "ind = np.arange(3)\n",
      "\n",
      "p = 'Rflop_grid'\n",
      "res_grid = (results_per_tel[t[0]][p], results_per_tel[t[1]][p], results_per_tel[t[2]][p])\n",
      "p = 'Rflop_fft'\n",
      "res_fft = (results_per_tel[t[0]][p], results_per_tel[t[1]][p], results_per_tel[t[2]][p])\n",
      "p = 'Rflop_proj'\n",
      "res_proj = (results_per_tel[t[0]][p], results_per_tel[t[1]][p], results_per_tel[t[2]][p])\n",
      "p = 'Rflop_conv'\n",
      "res_conv = (results_per_tel[t[0]][p], results_per_tel[t[1]][p], results_per_tel[t[2]][p])\n",
      "\n",
      "#Plot a stacked bar chart\n",
      "width = 0.35\n",
      "val = np.array(res_grid)\n",
      "p1 = plt.bar(ind, val, width, color=colors[0])\n",
      "bottoms = val\n",
      "val = np.array(res_fft)\n",
      "p2 = plt.bar(ind, val, width, color=colors[1],\n",
      "             bottom=bottoms)\n",
      "bottoms += val\n",
      "val = np.array(res_proj)\n",
      "p3 = plt.bar(ind, val, width, color=colors[2],\n",
      "             bottom=bottoms)\n",
      "bottoms += val\n",
      "val = np.array(res_conv)\n",
      "p4 = plt.bar(ind, val, width, color=colors[3],\n",
      "             bottom=bottoms)\n",
      "\n",
      "plt.xticks(ind+width/2., t )\n",
      "plt.title('PetaFLOPS')\n",
      "plt.legend(labels, loc=2) # legend upper-left"
     ],
     "language": "python",
     "metadata": {},
     "outputs": [
      {
       "metadata": {},
       "output_type": "display_data",
       "png": "[encoded data removed]",
       "text": [
        "<matplotlib.figure.Figure at 0xc475a90>"
       ]
      },
      {
       "metadata": {},
       "output_type": "display_data",
       "png": "[encoded data removed]",
       "text": [
        "<matplotlib.figure.Figure at 0x5c76e10>"
       ]
      },
      {
       "metadata": {},
       "output_type": "display_data",
       "png": "[encoded data removed]",
       "text": [
        "<matplotlib.figure.Figure at 0x165a33c8>"
       ]
      },
      {
       "metadata": {},
       "output_type": "pyout",
       "prompt_number": 7,
       "text": [
        "<matplotlib.legend.Legend at 0x1684d358>"
       ]
      },
      {
       "metadata": {},
       "output_type": "display_data",
       "png": "[encoded data removed]",
       "text": [
        "<matplotlib.figure.Figure at 0xc232240>"
       ]
      }
     ],
     "prompt_number": 7
    },
    {
     "cell_type": "heading",
     "level": 1,
     "metadata": {},
     "source": [
      "Doing the same for the HPSOs:"
     ]
    },
    {
     "cell_type": "code",
     "collapsed": false,
     "input": [
      "from env_setup import *\n",
      "from parameter_definitions import *\n",
      "from formulae import *\n",
      "from implementation import *\n",
      "\n",
      "#hpso_keys = ['01','02A','02B','14', '14c', '14s','22','37a','37b','38a','38b','13', '13c','13s','15','15c', '15s','27','33','37c']\n",
      "#hpso_keys.sort()\n",
      "hpso_keys = ['01','02A','02B','14', '14c', '14s', '14sfull', '22','37a','37b','38a','38b','13', '13c','13s','15','15c', '15s','27','33','37c']\n",
      "hpso_keys.sort()\n",
      "\n",
      "non_peta_values = ('Npix_linear')\n",
      "values_to_take_max = ('Npix_linear')\n",
      "\n",
      "results = {}\n",
      "temp = parameter_container()\n",
      "for hpso_key in hpso_keys:\n",
      "    print '.\\n>> Evaluating HPSO %s' % hpso_key\n",
      "    parameter_definitions.apply_hpso_parameters(temp, hpso_key)\n",
      "    if temp.mode == 'CS':\n",
      "        tpc = calc_tel_params(mode='Continuum', hpso_key=hpso_key)\n",
      "        tps = calc_tel_params(mode='Spectral', hpso_key=hpso_key)\n",
      "        (Tsnap_opt_C, Nfacet_opt_C) = find_optimal_Tsnap_Nfacet(tpc)\n",
      "        (Tsnap_opt_S, Nfacet_opt_S) = find_optimal_Tsnap_Nfacet(tps)\n",
      "        \n",
      "        print 'Optimal (Tsnap, Nfacet) values = (%.2f sec, %d) for C and (%.2f sec, %d) for S' \\\n",
      "            % (Tsnap_opt_C, Nfacet_opt_C, Tsnap_opt_S, Nfacet_opt_S)\n",
      "        substitution_c = {tpc.Tsnap : Tsnap_opt, tpc.Nfacet : Nfacet_opt}\n",
      "        substitution_s = {tps.Tsnap : Tsnap_opt, tps.Nfacet : Nfacet_opt}\n",
      "\n",
      "        expressions_c = (tpc.Rflop_conv, tpc.Rflop_fft, tpc.Rflop_grid, tpc.Rflop_proj, tpc.Rflop_phrot, tpc.Rflop, tpc.Mbuf_vis, tpc.Mw_cache, tpc.Npix_linear, tpc.Rio)\n",
      "        expressions_s = (tps.Rflop_conv, tps.Rflop_fft, tps.Rflop_grid, tps.Rflop_proj, tps.Rflop_phrot, tps.Rflop, tps.Mbuf_vis, tps.Mw_cache, tps.Npix_linear, tps.Rio)\n",
      "        expression_strings = ('Rflop_conv', 'Rflop_fft', 'Rflop_grid', 'Rflop_proj', 'Rflop_phrot', 'Rflop', 'Mbuf_vis', 'Mw_cache', 'Npix_linear', 'Rio')\n",
      "        key_expressions_c = zip(expression_strings, expressions_c)\n",
      "        key_expressions_s = zip(expression_strings, expressions_s)\n",
      "\n",
      "        for i in range(len(key_expressions)):\n",
      "            key_expression_c = key_expressions_c[i]\n",
      "            key_expression_s = key_expressions_s[i]\n",
      "            key = key_expression_c[0]\n",
      "            take_max = (key in values_to_take_max)\n",
      "            \n",
      "            expression_c = key_expression_c[1]\n",
      "            expression_s = key_expression_s[1]\n",
      "            expression_subst_c = expression_c.subs(substitution_c)\n",
      "            expression_subst_s = expression_s.subs(substitution_s)\n",
      "            if take_max:\n",
      "                result = Max(evaluate_binned_expression(expression_subst_c, tpc, take_max=True),\n",
      "                             evaluate_binned_expression(expression_subst_s, tps, take_max=True))\n",
      "            else:\n",
      "                result = evaluate_binned_expression(expression_subst_c, tpc) + evaluate_binned_expression(expression_subst_s, tps) \n",
      "                \n",
      "            results[(hpso_key, temp.mode, key)] = result\n",
      "            \n",
      "            if key in non_peta_values:\n",
      "                print '-> hpso %s : %s = %g' % (hpso_key, key, result)\n",
      "            else:    \n",
      "                print '-> hpso %s : %s = %.3g Peta' % (hpso_key, key, result)        \n",
      "    else:\n",
      "        tp = calc_tel_params(mode=temp.mode, hpso_key=hpso_key)\n",
      "        (Tsnap_opt, Nfacet_opt) = find_optimal_Tsnap_Nfacet(tp)\n",
      "        print 'Optimal (Tsnap, Nfacet) values = (%.2f sec, %d)' % (Tsnap_opt, Nfacet_opt)\n",
      "        substitution = {tp.Tsnap : Tsnap_opt, tp.Nfacet : Nfacet_opt}\n",
      "\n",
      "        expressions = (tp.Rflop_conv, tp.Rflop_fft, tp.Rflop_grid, tp.Rflop_proj, tp.Rflop_phrot, tp.Rflop, tp.Mbuf_vis, tp.Mw_cache, tp.Npix_linear, tp.Rio)\n",
      "        expression_strings = ('Rflop_conv', 'Rflop_fft', 'Rflop_grid', 'Rflop_proj', 'Rflop_phrot', 'Rflop', 'Mbuf_vis', 'Mw_cache', 'Npix_linear', 'Rio')\n",
      "        key_expressions = zip(expression_strings, expressions)\n",
      "        \n",
      "        for key_expression in key_expressions: \n",
      "            key = key_expression[0]\n",
      "            expression = key_expression[1]\n",
      "            expression_subst = expression.subs(substitution)\n",
      "            result = evaluate_binned_expression(expression_subst, tp)\n",
      "            results[(hpso_key, temp.mode, key)] = result\n",
      "            \n",
      "            if key in non_peta_values:\n",
      "                print '-> hpso %s : %s = %g' % (hpso_key, key, result)\n",
      "            else:    \n",
      "                print '-> hpso %s : %s = %.3g Peta' % (hpso_key, key, result)\n",
      "\n",
      "print '\\n>>> Done!'"
     ],
     "language": "python",
     "metadata": {},
     "outputs": [
      {
       "output_type": "stream",
       "stream": "stdout",
       "text": [
        ".\n",
        ">> Evaluating HPSO 01\n",
        "Optimal (Tsnap, Nfacet) values = (99.87 sec, 2)"
       ]
      },
      {
       "output_type": "stream",
       "stream": "stdout",
       "text": [
        "\n",
        "-> hpso 01 : Rflop_conv = 3.18 Peta"
       ]
      },
      {
       "output_type": "stream",
       "stream": "stdout",
       "text": [
        "\n",
        "-> hpso 01 : Rflop_fft = 2.71 Peta\n",
        "-> hpso 01 : Rflop_grid = 2.5 Peta"
       ]
      },
      {
       "output_type": "stream",
       "stream": "stdout",
       "text": [
        "\n",
        "-> hpso 01 : Rflop_proj = 1.89 Peta\n",
        "-> hpso 01 : Rflop_phrot = 0.0124 Peta\n",
        "-> hpso 01 : Rflop = 10.3 Peta"
       ]
      },
      {
       "output_type": "stream",
       "stream": "stdout",
       "text": [
        "\n",
        "-> hpso 01 : Mbuf_vis = 3.21 Peta\n",
        "-> hpso 01 : Mw_cache = 1.57e+12 Peta\n",
        "-> hpso 01 : Npix_linear = 188094"
       ]
      },
      {
       "output_type": "stream",
       "stream": "stdout",
       "text": [
        "\n",
        "-> hpso 01 : Rio = 0.00327 Peta\n",
        ".\n",
        ">> Evaluating HPSO 02A\n",
        "Optimal (Tsnap, Nfacet) values = (99.87 sec, 2)"
       ]
      },
      {
       "output_type": "stream",
       "stream": "stdout",
       "text": [
        "\n",
        "-> hpso 02A : Rflop_conv = 3.18 Peta"
       ]
      },
      {
       "output_type": "stream",
       "stream": "stdout",
       "text": [
        "\n",
        "-> hpso 02A : Rflop_fft = 2.71 Peta\n",
        "-> hpso 02A : Rflop_grid = 2.5 Peta"
       ]
      },
      {
       "output_type": "stream",
       "stream": "stdout",
       "text": [
        "\n",
        "-> hpso 02A : Rflop_proj = 1.89 Peta\n",
        "-> hpso 02A : Rflop_phrot = 0.0124 Peta\n",
        "-> hpso 02A : Rflop = 10.3 Peta"
       ]
      },
      {
       "output_type": "stream",
       "stream": "stdout",
       "text": [
        "\n",
        "-> hpso 02A : Mbuf_vis = 3.21 Peta\n",
        "-> hpso 02A : Mw_cache = 1.57e+12 Peta\n",
        "-> hpso 02A : Npix_linear = 188094"
       ]
      },
      {
       "output_type": "stream",
       "stream": "stdout",
       "text": [
        "\n",
        "-> hpso 02A : Rio = 0.00327 Peta\n",
        ".\n",
        ">> Evaluating HPSO 02B\n",
        "Optimal (Tsnap, Nfacet) values = (99.87 sec, 2)"
       ]
      },
      {
       "output_type": "stream",
       "stream": "stdout",
       "text": [
        "\n",
        "-> hpso 02B : Rflop_conv = 3.18 Peta"
       ]
      },
      {
       "output_type": "stream",
       "stream": "stdout",
       "text": [
        "\n",
        "-> hpso 02B : Rflop_fft = 2.71 Peta\n",
        "-> hpso 02B : Rflop_grid = 2.5 Peta"
       ]
      },
      {
       "output_type": "stream",
       "stream": "stdout",
       "text": [
        "\n",
        "-> hpso 02B : Rflop_proj = 1.89 Peta\n",
        "-> hpso 02B : Rflop_phrot = 0.0124 Peta\n",
        "-> hpso 02B : Rflop = 10.3 Peta"
       ]
      },
      {
       "output_type": "stream",
       "stream": "stdout",
       "text": [
        "\n",
        "-> hpso 02B : Mbuf_vis = 3.21 Peta\n",
        "-> hpso 02B : Mw_cache = 1.57e+12 Peta"
       ]
      },
      {
       "output_type": "stream",
       "stream": "stdout",
       "text": [
        "\n",
        "-> hpso 02B : Npix_linear = 188094\n",
        "-> hpso 02B : Rio = 0.00327 Peta\n",
        ".\n",
        ">> Evaluating HPSO 13\n",
        "Optimal (Tsnap, Nfacet) values = (1755.89 sec, 4) for C and (1611.81 sec, 2) for S"
       ]
      },
      {
       "output_type": "stream",
       "stream": "stdout",
       "text": [
        "\n",
        "-> hpso 13 : Rflop_conv = 5.62 Peta"
       ]
      },
      {
       "output_type": "stream",
       "stream": "stdout",
       "text": [
        "\n",
        "-> hpso 13 : Rflop_fft = 291 Peta\n",
        "-> hpso 13 : Rflop_grid = 6.42 Peta"
       ]
      },
      {
       "output_type": "stream",
       "stream": "stdout",
       "text": [
        "\n",
        "-> hpso 13 : Rflop_proj = 217 Peta\n",
        "-> hpso 13 : Rflop_phrot = 0.0647 Peta\n",
        "-> hpso 13 : Rflop = 520 Peta"
       ]
      },
      {
       "output_type": "stream",
       "stream": "stdout",
       "text": [
        "\n",
        "-> hpso 13 : Mbuf_vis = 111 Peta\n",
        "-> hpso 13 : Mw_cache = 3.9e+12 Peta"
       ]
      },
      {
       "output_type": "stream",
       "stream": "stdout",
       "text": [
        "\n",
        "-> hpso 13 : Npix_linear = 19506\n",
        "-> hpso 13 : Rio = 0.0258 Peta\n",
        ".\n",
        ">> Evaluating HPSO 13c\n",
        "Optimal (Tsnap, Nfacet) values = (1755.89 sec, 4)"
       ]
      },
      {
       "output_type": "stream",
       "stream": "stdout",
       "text": [
        "\n",
        "-> hpso 13c : Rflop_conv = 0.596 Peta"
       ]
      },
      {
       "output_type": "stream",
       "stream": "stdout",
       "text": [
        "\n",
        "-> hpso 13c : Rflop_fft = 0.662 Peta\n",
        "-> hpso 13c : Rflop_grid = 0.708 Peta"
       ]
      },
      {
       "output_type": "stream",
       "stream": "stdout",
       "text": [
        "\n",
        "-> hpso 13c : Rflop_proj = 0.499 Peta\n",
        "-> hpso 13c : Rflop_phrot = 0.00333 Peta\n",
        "-> hpso 13c : Rflop = 2.47 Peta"
       ]
      },
      {
       "output_type": "stream",
       "stream": "stdout",
       "text": [
        "\n",
        "-> hpso 13c : Mbuf_vis = 0.216 Peta\n",
        "-> hpso 13c : Mw_cache = 2.99e+12 Peta\n",
        "-> hpso 13c : Npix_linear = 78024.1\n",
        "-> hpso 13c : Rio = 0.000879 Peta"
       ]
      },
      {
       "output_type": "stream",
       "stream": "stdout",
       "text": [
        "\n",
        ".\n",
        ">> Evaluating HPSO 13s\n",
        "Optimal (Tsnap, Nfacet) values = (1611.81 sec, 2)"
       ]
      },
      {
       "output_type": "stream",
       "stream": "stdout",
       "text": [
        "\n",
        "-> hpso 13s : Rflop_conv = 12.8 Peta"
       ]
      },
      {
       "output_type": "stream",
       "stream": "stdout",
       "text": [
        "\n",
        "-> hpso 13s : Rflop_fft = 17.3 Peta\n",
        "-> hpso 13s : Rflop_grid = 18.4 Peta"
       ]
      },
      {
       "output_type": "stream",
       "stream": "stdout",
       "text": [
        "\n",
        "-> hpso 13s : Rflop_proj = 12.9 Peta\n",
        "-> hpso 13s : Rflop_phrot = 0.0639 Peta\n",
        "-> hpso 13s : Rflop = 61.4 Peta"
       ]
      },
      {
       "output_type": "stream",
       "stream": "stdout",
       "text": [
        "\n",
        "-> hpso 13s : Mbuf_vis = 110 Peta\n",
        "-> hpso 13s : Mw_cache = 2.04e+15 Peta\n",
        "-> hpso 13s : Npix_linear = 86693.5\n",
        "-> hpso 13s : Rio = 0.0256 Peta"
       ]
      },
      {
       "output_type": "stream",
       "stream": "stdout",
       "text": [
        "\n",
        ".\n",
        ">> Evaluating HPSO 14\n",
        "Optimal (Tsnap, Nfacet) values = (2422.38 sec, 7) for C and (2383.53 sec, 4) for S"
       ]
      },
      {
       "output_type": "stream",
       "stream": "stdout",
       "text": [
        "\n",
        "-> hpso 14 : Rflop_conv = 4.56 Peta"
       ]
      },
      {
       "output_type": "stream",
       "stream": "stdout",
       "text": [
        "\n",
        "-> hpso 14 : Rflop_fft = 18.4 Peta\n",
        "-> hpso 14 : Rflop_grid = 16.4 Peta"
       ]
      },
      {
       "output_type": "stream",
       "stream": "stdout",
       "text": [
        "\n",
        "-> hpso 14 : Rflop_proj = 11.7 Peta\n",
        "-> hpso 14 : Rflop_phrot = 0.0174 Peta"
       ]
      },
      {
       "output_type": "stream",
       "stream": "stdout",
       "text": [
        "\n",
        "-> hpso 14 : Rflop = 51 Peta"
       ]
      },
      {
       "output_type": "stream",
       "stream": "stdout",
       "text": [
        "\n",
        "-> hpso 14 : Mbuf_vis = 29.8 Peta"
       ]
      },
      {
       "output_type": "stream",
       "stream": "stdout",
       "text": [
        "\n",
        "-> hpso 14 : Mw_cache = 6.13e+14 Peta"
       ]
      },
      {
       "output_type": "stream",
       "stream": "stdout",
       "text": [
        "\n",
        "-> hpso 14 : Npix_linear = 97530.1\n",
        "-> hpso 14 : Rio = 0.00694 Peta"
       ]
      },
      {
       "output_type": "stream",
       "stream": "stdout",
       "text": [
        "\n",
        ".\n",
        ">> Evaluating HPSO 14c\n",
        "Optimal (Tsnap, Nfacet) values = (2422.38 sec, 7)"
       ]
      },
      {
       "output_type": "stream",
       "stream": "stdout",
       "text": [
        "\n",
        "-> hpso 14c : Rflop_conv = 0.284 Peta"
       ]
      },
      {
       "output_type": "stream",
       "stream": "stdout",
       "text": [
        "\n",
        "-> hpso 14c : Rflop_fft = 0.464 Peta\n",
        "-> hpso 14c : Rflop_grid = 0.596 Peta"
       ]
      },
      {
       "output_type": "stream",
       "stream": "stdout",
       "text": [
        "\n",
        "-> hpso 14c : Rflop_proj = 0.314 Peta\n",
        "-> hpso 14c : Rflop_phrot = 0.00274 Peta\n",
        "-> hpso 14c : Rflop = 1.66 Peta"
       ]
      },
      {
       "output_type": "stream",
       "stream": "stdout",
       "text": [
        "\n",
        "-> hpso 14c : Mbuf_vis = 0.058 Peta\n",
        "-> hpso 14c : Mw_cache = 1.36e+11 Peta\n",
        "-> hpso 14c : Npix_linear = 278658"
       ]
      },
      {
       "output_type": "stream",
       "stream": "stdout",
       "text": [
        "\n",
        "-> hpso 14c : Rio = 0.000723 Peta\n",
        ".\n",
        ">> Evaluating HPSO 14s\n",
        "Optimal (Tsnap, Nfacet) values = (2383.53 sec, 4)"
       ]
      },
      {
       "output_type": "stream",
       "stream": "stdout",
       "text": [
        "\n",
        "-> hpso 14s : Rflop_conv = 6.81 Peta"
       ]
      },
      {
       "output_type": "stream",
       "stream": "stdout",
       "text": [
        "\n",
        "-> hpso 14s : Rflop_fft = 11.1 Peta\n",
        "-> hpso 14s : Rflop_grid = 15.2 Peta"
       ]
      },
      {
       "output_type": "stream",
       "stream": "stdout",
       "text": [
        "\n",
        "-> hpso 14s : Rflop_proj = 7.57 Peta\n",
        "-> hpso 14s : Rflop_phrot = 0.0687 Peta\n",
        "-> hpso 14s : Rflop = 40.8 Peta"
       ]
      },
      {
       "output_type": "stream",
       "stream": "stdout",
       "text": [
        "\n",
        "-> hpso 14s : Mbuf_vis = 29.7 Peta\n",
        "-> hpso 14s : Mw_cache = 5.91e+13 Peta\n",
        "-> hpso 14s : Npix_linear = 270917"
       ]
      },
      {
       "output_type": "stream",
       "stream": "stdout",
       "text": [
        "\n",
        "-> hpso 14s : Rio = 0.0275 Peta\n",
        ".\n",
        ">> Evaluating HPSO 14sfull\n",
        "Optimal (Tsnap, Nfacet) values = (2383.53 sec, 4)"
       ]
      },
      {
       "output_type": "stream",
       "stream": "stdout",
       "text": [
        "\n",
        "-> hpso 14sfull : Rflop_conv = 6.81 Peta"
       ]
      },
      {
       "output_type": "stream",
       "stream": "stdout",
       "text": [
        "\n",
        "-> hpso 14sfull : Rflop_fft = 11.1 Peta\n",
        "-> hpso 14sfull : Rflop_grid = 15.2 Peta"
       ]
      },
      {
       "output_type": "stream",
       "stream": "stdout",
       "text": [
        "\n",
        "-> hpso 14sfull : Rflop_proj = 7.57 Peta\n",
        "-> hpso 14sfull : Rflop_phrot = 0.0687 Peta\n",
        "-> hpso 14sfull : Rflop = 40.8 Peta"
       ]
      },
      {
       "output_type": "stream",
       "stream": "stdout",
       "text": [
        "\n",
        "-> hpso 14sfull : Mbuf_vis = 29.7 Peta\n",
        "-> hpso 14sfull : Mw_cache = 5.91e+13 Peta\n",
        "-> hpso 14sfull : Npix_linear = 270917\n",
        "-> hpso 14sfull : Rio = 0.0275 Peta"
       ]
      },
      {
       "output_type": "stream",
       "stream": "stdout",
       "text": [
        "\n",
        ".\n",
        ">> Evaluating HPSO 15\n",
        "Optimal (Tsnap, Nfacet) values = (723.57 sec, 2) for C and (641.00 sec, 1) for S"
       ]
      },
      {
       "output_type": "stream",
       "stream": "stdout",
       "text": [
        "\n",
        "-> hpso 15 : Rflop_conv = 23.6 Peta"
       ]
      },
      {
       "output_type": "stream",
       "stream": "stdout",
       "text": [
        "\n",
        "-> hpso 15 : Rflop_fft = 0.649 Peta\n",
        "-> hpso 15 : Rflop_grid = 34.2 Peta"
       ]
      },
      {
       "output_type": "stream",
       "stream": "stdout",
       "text": [
        "\n",
        "-> hpso 15 : Rflop_proj = 0.6 Peta\n",
        "-> hpso 15 : Rflop_phrot = 0.393 Peta\n",
        "-> hpso 15 : Rflop = 59.5 Peta"
       ]
      },
      {
       "output_type": "stream",
       "stream": "stdout",
       "text": [
        "\n",
        "-> hpso 15 : Mbuf_vis = 168 Peta\n",
        "-> hpso 15 : Mw_cache = 5.65e+12 Peta\n",
        "-> hpso 15 : Npix_linear = 3169.73"
       ]
      },
      {
       "output_type": "stream",
       "stream": "stdout",
       "text": [
        "\n",
        "-> hpso 15 : Rio = 0.156 Peta\n",
        ".\n",
        ">> Evaluating HPSO 15c\n",
        "Optimal (Tsnap, Nfacet) values = (723.57 sec, 2)"
       ]
      },
      {
       "output_type": "stream",
       "stream": "stdout",
       "text": [
        "\n",
        "-> hpso 15c : Rflop_conv = 0.109 Peta"
       ]
      },
      {
       "output_type": "stream",
       "stream": "stdout",
       "text": [
        "\n",
        "-> hpso 15c : Rflop_fft = 0.101 Peta\n",
        "-> hpso 15c : Rflop_grid = 0.202 Peta\n",
        "-> hpso 15c : Rflop_proj = 0.08 Peta"
       ]
      },
      {
       "output_type": "stream",
       "stream": "stdout",
       "text": [
        "\n",
        "-> hpso 15c : Rflop_phrot = 0.00126 Peta\n",
        "-> hpso 15c : Rflop = 0.493 Peta\n",
        "-> hpso 15c : Mbuf_vis = 0.327 Peta\n",
        "-> hpso 15c : Mw_cache = 2.37e+11 Peta"
       ]
      },
      {
       "output_type": "stream",
       "stream": "stdout",
       "text": [
        "\n",
        "-> hpso 15c : Npix_linear = 31697.3\n",
        "-> hpso 15c : Rio = 0.000333 Peta\n",
        ".\n",
        ">> Evaluating HPSO 15s\n",
        "Optimal (Tsnap, Nfacet) values = (641.00 sec, 1)"
       ]
      },
      {
       "output_type": "stream",
       "stream": "stdout",
       "text": [
        "\n",
        "-> hpso 15s : Rflop_conv = 2.21 Peta"
       ]
      },
      {
       "output_type": "stream",
       "stream": "stdout",
       "text": [
        "\n",
        "-> hpso 15s : Rflop_fft = 2.74 Peta\n",
        "-> hpso 15s : Rflop_grid = 5.46 Peta\n",
        "-> hpso 15s : Rflop_proj = 2.14 Peta\n",
        "-> hpso 15s : Rflop_phrot = 0 Peta\n",
        "-> hpso 15s : Rflop = 12.5 Peta"
       ]
      },
      {
       "output_type": "stream",
       "stream": "stdout",
       "text": [
        "\n",
        "-> hpso 15s : Mbuf_vis = 167 Peta\n",
        "-> hpso 15s : Mw_cache = 1.49e+14 Peta\n",
        "-> hpso 15s : Npix_linear = 35219.2\n",
        "-> hpso 15s : Rio = 0.00969 Peta\n",
        ".\n",
        ">> Evaluating HPSO 22\n",
        "Optimal (Tsnap, Nfacet) values = (6684.29 sec, 4)"
       ]
      },
      {
       "output_type": "stream",
       "stream": "stdout",
       "text": [
        "\n",
        "-> hpso 22 : Rflop_conv = 0.762 Peta"
       ]
      },
      {
       "output_type": "stream",
       "stream": "stdout",
       "text": [
        "\n",
        "-> hpso 22 : Rflop_fft = 1.42 Peta\n",
        "-> hpso 22 : Rflop_grid = 1.78 Peta"
       ]
      },
      {
       "output_type": "stream",
       "stream": "stdout",
       "text": [
        "\n",
        "-> hpso 22 : Rflop_proj = 0.911 Peta\n",
        "-> hpso 22 : Rflop_phrot = 0.00716 Peta\n",
        "-> hpso 22 : Rflop = 4.88 Peta"
       ]
      },
      {
       "output_type": "stream",
       "stream": "stdout",
       "text": [
        "\n",
        "-> hpso 22 : Mbuf_vis = 0.464 Peta\n",
        "-> hpso 22 : Mw_cache = 1.2e+12 Peta\n",
        "-> hpso 22 : Npix_linear = 487651"
       ]
      },
      {
       "output_type": "stream",
       "stream": "stdout",
       "text": [
        "\n",
        "-> hpso 22 : Rio = 0.00189 Peta\n",
        ".\n",
        ">> Evaluating HPSO 27\n",
        "Optimal (Tsnap, Nfacet) values = (2678.33 sec, 4)"
       ]
      },
      {
       "output_type": "stream",
       "stream": "stdout",
       "text": [
        "\n",
        "-> hpso 27 : Rflop_conv = 0.674 Peta"
       ]
      },
      {
       "output_type": "stream",
       "stream": "stdout",
       "text": [
        "\n",
        "-> hpso 27 : Rflop_fft = 0.694 Peta\n",
        "-> hpso 27 : Rflop_grid = 0.608 Peta"
       ]
      },
      {
       "output_type": "stream",
       "stream": "stdout",
       "text": [
        "\n",
        "-> hpso 27 : Rflop_proj = 0.511 Peta\n",
        "-> hpso 27 : Rflop_phrot = 0.00272 Peta\n",
        "-> hpso 27 : Rflop = 2.49 Peta"
       ]
      },
      {
       "output_type": "stream",
       "stream": "stdout",
       "text": [
        "\n",
        "-> hpso 27 : Mbuf_vis = 0.176 Peta\n",
        "-> hpso 27 : Mw_cache = 7.85e+12 Peta\n",
        "-> hpso 27 : Npix_linear = 97530.1"
       ]
      },
      {
       "output_type": "stream",
       "stream": "stdout",
       "text": [
        "\n",
        "-> hpso 27 : Rio = 0.000718 Peta\n",
        ".\n",
        ">> Evaluating HPSO 33\n",
        "Optimal (Tsnap, Nfacet) values = (2678.33 sec, 4)"
       ]
      },
      {
       "output_type": "stream",
       "stream": "stdout",
       "text": [
        "\n",
        "-> hpso 33 : Rflop_conv = 0.674 Peta"
       ]
      },
      {
       "output_type": "stream",
       "stream": "stdout",
       "text": [
        "\n",
        "-> hpso 33 : Rflop_fft = 0.694 Peta\n",
        "-> hpso 33 : Rflop_grid = 0.608 Peta"
       ]
      },
      {
       "output_type": "stream",
       "stream": "stdout",
       "text": [
        "\n",
        "-> hpso 33 : Rflop_proj = 0.511 Peta\n",
        "-> hpso 33 : Rflop_phrot = 0.00272 Peta\n",
        "-> hpso 33 : Rflop = 2.49 Peta"
       ]
      },
      {
       "output_type": "stream",
       "stream": "stdout",
       "text": [
        "\n",
        "-> hpso 33 : Mbuf_vis = 0.176 Peta\n",
        "-> hpso 33 : Mw_cache = 7.85e+12 Peta\n",
        "-> hpso 33 : Npix_linear = 97530.1"
       ]
      },
      {
       "output_type": "stream",
       "stream": "stdout",
       "text": [
        "\n",
        "-> hpso 33 : Rio = 0.000718 Peta\n",
        ".\n",
        ">> Evaluating HPSO 37a\n",
        "Optimal (Tsnap, Nfacet) values = (2136.50 sec, 9)"
       ]
      },
      {
       "output_type": "stream",
       "stream": "stdout",
       "text": [
        "\n",
        "-> hpso 37a : Rflop_conv = 0.567 Peta"
       ]
      },
      {
       "output_type": "stream",
       "stream": "stdout",
       "text": [
        "\n",
        "-> hpso 37a : Rflop_fft = 0.718 Peta\n",
        "-> hpso 37a : Rflop_grid = 1.21 Peta"
       ]
      },
      {
       "output_type": "stream",
       "stream": "stdout",
       "text": [
        "\n",
        "-> hpso 37a : Rflop_proj = 0.499 Peta\n",
        "-> hpso 37a : Rflop_phrot = 0.00792 Peta\n",
        "-> hpso 37a : Rflop = 3 Peta"
       ]
      },
      {
       "output_type": "stream",
       "stream": "stdout",
       "text": [
        "\n",
        "-> hpso 37a : Mbuf_vis = 0.101 Peta\n",
        "-> hpso 37a : Mw_cache = 1.45e+11 Peta"
       ]
      },
      {
       "output_type": "stream",
       "stream": "stdout",
       "text": [
        "\n",
        "-> hpso 37a : Npix_linear = 216734\n",
        "-> hpso 37a : Rio = 0.00209 Peta\n",
        ".\n",
        ">> Evaluating HPSO 37b\n",
        "Optimal (Tsnap, Nfacet) values = (2136.50 sec, 9)"
       ]
      },
      {
       "output_type": "stream",
       "stream": "stdout",
       "text": [
        "\n",
        "-> hpso 37b : Rflop_conv = 0.567 Peta"
       ]
      },
      {
       "output_type": "stream",
       "stream": "stdout",
       "text": [
        "\n",
        "-> hpso 37b : Rflop_fft = 0.718 Peta\n",
        "-> hpso 37b : Rflop_grid = 1.21 Peta"
       ]
      },
      {
       "output_type": "stream",
       "stream": "stdout",
       "text": [
        "\n",
        "-> hpso 37b : Rflop_proj = 0.499 Peta\n",
        "-> hpso 37b : Rflop_phrot = 0.00792 Peta\n",
        "-> hpso 37b : Rflop = 3 Peta"
       ]
      },
      {
       "output_type": "stream",
       "stream": "stdout",
       "text": [
        "\n",
        "-> hpso 37b : Mbuf_vis = 0.101 Peta\n",
        "-> hpso 37b : Mw_cache = 1.45e+11 Peta"
       ]
      },
      {
       "output_type": "stream",
       "stream": "stdout",
       "text": [
        "\n",
        "-> hpso 37b : Npix_linear = 216734\n",
        "-> hpso 37b : Rio = 0.00209 Peta\n",
        ".\n",
        ">> Evaluating HPSO 37c\n",
        "Optimal (Tsnap, Nfacet) values = (2678.33 sec, 4)"
       ]
      },
      {
       "output_type": "stream",
       "stream": "stdout",
       "text": [
        "\n",
        "-> hpso 37c : Rflop_conv = 0.674 Peta"
       ]
      },
      {
       "output_type": "stream",
       "stream": "stdout",
       "text": [
        "\n",
        "-> hpso 37c : Rflop_fft = 0.694 Peta\n",
        "-> hpso 37c : Rflop_grid = 0.608 Peta"
       ]
      },
      {
       "output_type": "stream",
       "stream": "stdout",
       "text": [
        "\n",
        "-> hpso 37c : Rflop_proj = 0.511 Peta\n",
        "-> hpso 37c : Rflop_phrot = 0.00272 Peta\n",
        "-> hpso 37c : Rflop = 2.49 Peta"
       ]
      },
      {
       "output_type": "stream",
       "stream": "stdout",
       "text": [
        "\n",
        "-> hpso 37c : Mbuf_vis = 0.176 Peta\n",
        "-> hpso 37c : Mw_cache = 7.85e+12 Peta"
       ]
      },
      {
       "output_type": "stream",
       "stream": "stdout",
       "text": [
        "\n",
        "-> hpso 37c : Npix_linear = 97530.1\n",
        "-> hpso 37c : Rio = 0.000718 Peta\n",
        ".\n",
        ">> Evaluating HPSO 38a\n",
        "Optimal (Tsnap, Nfacet) values = (5923.95 sec, 6)"
       ]
      },
      {
       "output_type": "stream",
       "stream": "stdout",
       "text": [
        "\n",
        "-> hpso 38a : Rflop_conv = 0.338 Peta"
       ]
      },
      {
       "output_type": "stream",
       "stream": "stdout",
       "text": [
        "\n",
        "-> hpso 38a : Rflop_fft = 0.385 Peta\n",
        "-> hpso 38a : Rflop_grid = 0.699 Peta"
       ]
      },
      {
       "output_type": "stream",
       "stream": "stdout",
       "text": [
        "\n",
        "-> hpso 38a : Rflop_proj = 0.257 Peta\n",
        "-> hpso 38a : Rflop_phrot = 0.00477 Peta\n",
        "-> hpso 38a : Rflop = 1.68 Peta"
       ]
      },
      {
       "output_type": "stream",
       "stream": "stdout",
       "text": [
        "\n",
        "-> hpso 38a : Mbuf_vis = 0.138 Peta\n",
        "-> hpso 38a : Mw_cache = 1.53e+11 Peta"
       ]
      },
      {
       "output_type": "stream",
       "stream": "stdout",
       "text": [
        "\n",
        "-> hpso 38a : Npix_linear = 325100\n",
        "-> hpso 38a : Rio = 0.00126 Peta\n",
        ".\n",
        ">> Evaluating HPSO 38b\n",
        "Optimal (Tsnap, Nfacet) values = (5923.95 sec, 6)"
       ]
      },
      {
       "output_type": "stream",
       "stream": "stdout",
       "text": [
        "\n",
        "-> hpso 38b : Rflop_conv = 0.338 Peta"
       ]
      },
      {
       "output_type": "stream",
       "stream": "stdout",
       "text": [
        "\n",
        "-> hpso 38b : Rflop_fft = 0.385 Peta\n",
        "-> hpso 38b : Rflop_grid = 0.699 Peta"
       ]
      },
      {
       "output_type": "stream",
       "stream": "stdout",
       "text": [
        "\n",
        "-> hpso 38b : Rflop_proj = 0.257 Peta\n",
        "-> hpso 38b : Rflop_phrot = 0.00477 Peta\n",
        "-> hpso 38b : Rflop = 1.68 Peta"
       ]
      },
      {
       "output_type": "stream",
       "stream": "stdout",
       "text": [
        "\n",
        "-> hpso 38b : Mbuf_vis = 0.138 Peta\n",
        "-> hpso 38b : Mw_cache = 1.53e+11 Peta"
       ]
      },
      {
       "output_type": "stream",
       "stream": "stdout",
       "text": [
        "\n",
        "-> hpso 38b : Npix_linear = 325100\n",
        "-> hpso 38b : Rio = 0.00126 Peta\n",
        "\n",
        ">>> Done!\n"
       ]
      }
     ],
     "prompt_number": 8
    },
    {
     "cell_type": "heading",
     "level": 2,
     "metadata": {},
     "source": [
      "Compute the SDP's power usage for the three telescopes:"
     ]
    },
    {
     "cell_type": "raw",
     "metadata": {},
     "source": [
      "This code block contains simple arithmetic that (for a large part) currently does NOT read its values automatically from the computations above, but are manually entered. Some of this is required because power usage values are listed in the Cost Model, and there currently exists no programmatic link between the cost model and this notebook."
     ]
    },
    {
     "cell_type": "code",
     "collapsed": false,
     "input": [
      "# First, let us just repeat the SDP computational & storage results from earlier:\n",
      "results_per_band"
     ],
     "language": "python",
     "metadata": {},
     "outputs": [
      {
       "metadata": {},
       "output_type": "pyout",
       "prompt_number": 25,
       "text": [
        "{'Low': {'Mbuf_vis': 237.51290284517847,\n",
        "  'Mw_cache': 82092595824778.97,\n",
        "  'Rflop': 24.73818900735358,\n",
        "  'Rflop_conv': 6.7935328444507785,\n",
        "  'Rflop_fft': 6.908201369521683,\n",
        "  'Rflop_grid': 6.451662276873535,\n",
        "  'Rflop_proj': 4.576427695248766,\n",
        "  'Rio': 0.007484022498351957},\n",
        " 'Mid1': {'Mbuf_vis': 29.80514722384192,\n",
        "  'Mw_cache': 63013007356611.11,\n",
        "  'Rflop': 51.64138092503631,\n",
        "  'Rflop_conv': 7.217099359583468,\n",
        "  'Rflop_fft': 18.871044599577754,\n",
        "  'Rflop_grid': 16.723324956513977,\n",
        "  'Rflop_proj': 8.735334098345136,\n",
        "  'Rio': 0.02269869864383095},\n",
        " 'Sur1': {'Mbuf_vis': 87.72349196602278,\n",
        "  'Mw_cache': 1927877654180487.2,\n",
        "  'Rflop': 71.80627360169935,\n",
        "  'Rflop_conv': 16.94998310359999,\n",
        "  'Rflop_fft': 26.503272944915665,\n",
        "  'Rflop_grid': 15.63067380152426,\n",
        "  'Rflop_proj': 12.63221311805983,\n",
        "  'Rio': 0.021631352063906064}}"
       ]
      }
     ],
     "prompt_number": 25
    },
    {
     "cell_type": "code",
     "collapsed": false,
     "input": [
      "'''\n",
      "Power usage.\n",
      "(don't be alarmed by all the kg*m^2/s^3 symbols -- that is just the SI definition of Watt. - can be fixed by calling\n",
      "simplify(... / u.W))\n",
      "'''\n",
      "\n",
      "'''\n",
      "The derivations below are at times somewhat simplified from their full definitions in PDR05.\n",
      "Where simplification took place, this is commented as '# simplification'\n",
      "Results are vectorized as sympy Matrices in the following order: [Low, Mid, Survey]'\n",
      "'''\n",
      "Rflops = Matrix((24.73, 51.64, 71.8)) * 1e15  # Replace by explicitly computed Rflop values\n",
      "Mbuf_viss = Matrix((237.5, 29.8, 87.7)) * 1e15 # Replace by explicitly computed Mbuf_vis values\n",
      "\n",
      "# OR Define vectors to represent the flop rates and visibility buffer sizes (can be used as dynamically specified arguments, using lambdify)\n",
      "'''\n",
      "Rflop_low, Rflop_mid, Rflop_sur = symbols(\"R_{flop\\,low} R_{flop\\,mid} R_{flop\\,sur}\", positive=True) # Reprojection Flop rate, per telescope\n",
      "Mbuf_low, Mbuf_mid, Mbuf_sur = symbols(\"M_{vbuf\\,low} M_{vbuf\\,mid} M_{vbuf\\,sur}\", positive=True)    # Visibility buffer size, per telescope\n",
      "Rflops = Matrix((Rflop_low, Rflop_mid, Rflop_sur))\n",
      "Mbuf_viss = Matrix((Mbuf_low, Mbuf_mid, Mbuf_sur))\n",
      "'''\n",
      "\n",
      "Tobss = Matrix((6, 6, 6)) * u.hours  # The observation time for Continuum and Spectral modes (1.2 seconds for SlowTrans)\n",
      "ingest_rate = divide_elementwise(Mbuf_viss, Tobss)\n",
      "\n",
      "#\"Koomey's Law\" power efficiency increase in 2022, compared to 2014\n",
      "Moore_pre_2020 = 24 # months\n",
      "Moore_post_2020 = 36 # months\n",
      "Moore_factor = np.power(np.power(2,(12.0/Moore_pre_2020)),(2020-2014)) * np.power(np.power(2,(12/Moore_post_2020)),(2022-2020))\n",
      "magnetic_density_increase = 1.3 # growth factor per year\n",
      "magnetic_factor = np.power(magnetic_density_increase, (2022-2014))\n",
      "\n",
      "###### COMPUTE NODES #############################\n",
      "\n",
      "# The composition of nodes and islands are assumed identical for all three telescopes.\n",
      "flops_per_gpu = 22.4 * 1e12   # Peak FLOPS per node GPU in 2022 (Depends on Moore's law.)\n",
      "gpus_per_node = 2\n",
      "compute_efficiency = 0.25  # computing efficiency per node, in 2022; 100% = 1.0\n",
      "n_nodes_per_compute_island = 56  # number of compute nodes per compute island\n",
      "P_gpu = 300 * u.W # Power required by a single GPU\n",
      "underclock_rate = 0.85 # where 1.0 = 100%\n",
      "P_compute_node = 300 * u.W + P_gpu * gpus_per_node * underclock_rate  # Power required by computations for each note\n",
      "P_compute_island_overhead = 4000 * u.W  # non-compute overheads for each island = simplification from cost model's \"Compute Island Hardware\" sheet \n",
      "\n",
      "n_cmp_nodes = ceiling_elementwise(Rflops / (flops_per_gpu * gpus_per_node * compute_efficiency))\n",
      "n_cmp_islands = ceiling_elementwise(n_cmp_nodes / n_nodes_per_compute_island)\n",
      "\n",
      "P_cmp_islnds = (P_compute_node * n_cmp_nodes) + (P_compute_island_overhead * n_cmp_islands)\n",
      "\n",
      "###### NETWORKING ################################\n",
      "ingest_data_rate = divide_elementwise(Mbuf_viss, 2*Tobss) # Factor of 1/2 because we're working with a double buffer, only half of which needs to be read out.\n",
      "\n",
      "network_speed = 40e9 / (8.0 * u.s) # 40 GbE, expressed as bytes per second\n",
      "P_ToR = 240 * u.W  # For a single Top-of-Rack network switch\n",
      "network_protocol_overhead = 0.25 # 100% = 1.0\n",
      "network_occupancy = 1.0  # 100% = 1.0\n",
      "tor_links_up = Matrix((4, 4, 4))\n",
      "tor_links_down = Matrix((n_nodes_per_compute_island, n_nodes_per_compute_island, n_nodes_per_compute_island))\n",
      "stage2_links_up = Matrix((18, 8, 8))\n",
      "stage2_links_down = Matrix((18, 28, 28))\n",
      "stage3_links_down = Matrix((18, 18, 18))\n",
      "\n",
      "n_2nd_stages = n_cmp_islands.multiply_elementwise(divide_elementwise(tor_links_up, stage2_links_down))\n",
      "n_2nd_stages[0] *= 2  # Due to extra set of ToR switches for Low (why?)\n",
      "n_2nd_stages = ceiling_elementwise(n_2nd_stages)\n",
      "\n",
      "n_ports = ceiling_elementwise((ingest_data_rate * (1+network_protocol_overhead) * network_occupancy / network_speed))\n",
      "\n",
      "n_3rd_stages = ceiling_elementwise(divide_elementwise(max_elementwise(n_2nd_stages.multiply_elementwise(stage2_links_up), n_ports),stage3_links_down))\n",
      "\n",
      "P_network = (n_cmp_islands + n_2nd_stages + n_3rd_stages) * P_ToR\n",
      "\n",
      "###### BUFFER ##########################################\n",
      "# LOW uses SAS, MID & SUR use SSD. Power per unit, divided by unit size (in Bytes)\n",
      "buffer_P_per_byte_sata = (1.5 / 1e12) / magnetic_factor * u.W\n",
      "buffer_P_per_byte_maid = (0.1 / 1e12) / magnetic_factor * u.W  # Would Koomey's law also hold for MAID?\n",
      "buffer_P_per_byte_sas  = (5.5 / 1e12) / magnetic_factor * u.W\n",
      "buffer_P_per_byte_ssd  = (3.2 / 1e12) / Moore_factor * u.W\n",
      "buffer_P_per_byte_dram = (4   / 16e9) / Moore_factor * u.W\n",
      "buffer_power_per_byte = 0.1*buffer_P_per_byte_ssd + 0.9*buffer_P_per_byte_sata\n",
      "P_buffer = Mbuf_viss * buffer_power_per_byte \n",
      "\n",
      "###### ISLAND MANAGEMENT ##############################\n",
      "P_mgmt_node = 600 * u.W  # Power in Watts for a single compute node. Assumed identical for all three telescopes\n",
      "P_mgmt_island_overhead = 4240 * u.W  # simplification\n",
      "n_mgmt_units = Matrix((2, 2, 2))\n",
      "P_mgmt = n_mgmt_units * (P_mgmt_node * n_nodes_per_compute_island + P_mgmt_island_overhead)\n",
      "\n",
      "###### Hierarchical Storage ##############################\n",
      "medium_performance_buffer = Matrix((30, 100, 70))*1e15         # PetaBytes. From Cost model (hard coded values)\n",
      "science_archive_data_vol = Matrix((575, 1150, 575))*1e15       # PetaBytes. For HPSOs from Cost model (hard coded values)\n",
      "discovery_archive_data_vol = Matrix((6500, 27000, 19000))*1e15 # PetaBytes per year. From Cost model (hard coded values)\n",
      "Long_term_storage_vol = 2 * science_archive_data_vol\n",
      "\n",
      "P_discovery = discovery_archive_data_vol * buffer_P_per_byte_maid\n",
      "P_archive_store = medium_performance_buffer*buffer_P_per_byte_sata + Long_term_storage_vol*buffer_P_per_byte_maid\n",
      "\n",
      "### Hierarchival Storage network switching (currently assumed to be zero) ###\n",
      "hpso_archive_volume = Matrix((0, 0, 0))\n",
      "P_2nd_stage = P_ToR\n",
      "n_1st_stage_arch_sw = ceiling_elementwise(n_cmp_islands * 3 / 24.0)\n",
      "n_2nd_stage_arch_sw = ceiling_elementwise(n_1st_stage_arch_sw * 12 / 36.0)\n",
      "n_arch_coresw = n_1st_stage_arch_sw + n_2nd_stage_arch_sw\n",
      "P_arch_coresw = n_arch_coresw * P_2nd_stage  # simplification\n",
      "\n",
      "P_ll_coresw = P_arch_coresw  # simplification\n",
      "P_archive_unit = Matrix((0, 0, 0)) * u.W  # simplification\n",
      "\n",
      "###### COMBINING IT ALL ################################\n",
      "P_sdp = P_cmp_islnds + P_network + P_mgmt + P_arch_coresw + P_ll_coresw + P_archive_unit + P_buffer + P_archive_store"
     ],
     "language": "python",
     "metadata": {},
     "outputs": [],
     "prompt_number": 41
    },
    {
     "cell_type": "code",
     "collapsed": false,
     "input": [
      "# The archive store (medium performance buffer + hierarchical archive) uses the following amount of kW (LOW, MID, SURVEY)\n",
      "P_archive_store / (1e3*u.W)"
     ],
     "language": "python",
     "metadata": {},
     "outputs": [
      {
       "latex": [
        "$$\\left[\\begin{matrix}19.6143158374441\\\\46.5840001139297\\\\26.9696842764856\\end{matrix}\\right]$$"
       ],
       "metadata": {},
       "output_type": "pyout",
       "png": "[encoded data removed]",
       "prompt_number": 40,
       "text": [
        "\u23a119.6143158374441\u23a4\n",
        "\u23a2                \u23a5\n",
        "\u23a246.5840001139297\u23a5\n",
        "\u23a2                \u23a5\n",
        "\u23a326.9696842764856\u23a6"
       ]
      }
     ],
     "prompt_number": 40
    },
    {
     "cell_type": "code",
     "collapsed": false,
     "input": [
      "# The (fast) buffer uses the following amount of kW (LOW, MID, SURVEY)\n",
      "P_buffer / (1e3*u.W)"
     ],
     "language": "python",
     "metadata": {},
     "outputs": [
      {
       "latex": [
        "$$\\left[\\begin{matrix}45.2898750831289\\\\5.6826874841147\\\\16.7238822938543\\end{matrix}\\right]$$"
       ],
       "metadata": {},
       "output_type": "pyout",
       "png": "[encoded data removed]",
       "prompt_number": 39,
       "text": [
        "\u23a145.2898750831289\u23a4\n",
        "\u23a2                \u23a5\n",
        "\u23a25.6826874841147 \u23a5\n",
        "\u23a2                \u23a5\n",
        "\u23a316.7238822938543\u23a6"
       ]
      }
     ],
     "prompt_number": 39
    },
    {
     "cell_type": "code",
     "collapsed": false,
     "input": [
      "# The discovery archive's power usage grows by the following amount of kW per year (LOW, MID, SURVEY)\n",
      "P_discovery / (1e3*u.W)"
     ],
     "language": "python",
     "metadata": {},
     "outputs": [
      {
       "latex": [
        "$$\\left[\\begin{matrix}79.6831580896167\\\\330.991579756869\\\\232.920000569649\\end{matrix}\\right]$$"
       ],
       "metadata": {},
       "output_type": "pyout",
       "png": "[encoded data removed]",
       "prompt_number": 42,
       "text": [
        "\u23a179.6831580896167\u23a4\n",
        "\u23a2                \u23a5\n",
        "\u23a2330.991579756869\u23a5\n",
        "\u23a2                \u23a5\n",
        "\u23a3232.920000569649\u23a6"
       ]
      }
     ],
     "prompt_number": 42
    },
    {
     "cell_type": "code",
     "collapsed": false,
     "input": [
      "# The complete SDP uses the following amount of kW (LOW, MID, SURVEY). Note that it is dominated by the compute nodes.\n",
      "P_sdp / (1e3*u.W)"
     ],
     "language": "python",
     "metadata": {},
     "outputs": [
      {
       "latex": [
        "$$\\left[\\begin{matrix}2125.63419092057\\\\4227.25668759804\\\\5820.52356657034\\end{matrix}\\right]$$"
       ],
       "metadata": {},
       "output_type": "pyout",
       "png": "[encoded data removed]",
       "prompt_number": 38,
       "text": [
        "\u23a12125.63419092057\u23a4\n",
        "\u23a2                \u23a5\n",
        "\u23a24227.25668759804\u23a5\n",
        "\u23a2                \u23a5\n",
        "\u23a35820.52356657034\u23a6"
       ]
      }
     ],
     "prompt_number": 38
    },
    {
     "cell_type": "heading",
     "level": 1,
     "metadata": {},
     "source": [
      "All code blocks below this line is slightly outdated and may need slight adjustments to run (todo)"
     ]
    },
    {
     "cell_type": "heading",
     "level": 2,
     "metadata": {},
     "source": [
      "The code block below was used to parametrize the total power as a function of its inputs."
     ]
    },
    {
     "cell_type": "raw",
     "metadata": {},
     "source": [
      "P_sdp_eval = lambdify((Rflop_low, Rflop_mid, Rflop_sur, Mbuf_low, Mbuf_mid, Mbuf_sur), remove_units(P_sdp),modules=\"sympy\")\n",
      "P_netw_eval = lambdify((Rflop_low, Rflop_mid, Rflop_sur, Mbuf_low, Mbuf_mid, Mbuf_sur), remove_units(n_cmp_islands),modules=\"sympy\")\n",
      "\n",
      "rfl = np.array((24.7298, 51.5468, 71.71614)) * 1e15\n",
      "mbf = np.array((237.5, 29.8, 87.7)) * 1e15\n",
      "\n",
      "print 'The SDP uses the following amounts of MegaWatt for Low, Mid and Survey:' \n",
      "P_sdp_eval(rfl[0],rfl[1],rfl[2],mbf[0],mbf[1],mbf[2])/1e6"
     ]
    },
    {
     "cell_type": "heading",
     "level": 1,
     "metadata": {},
     "source": [
      "Optimize the SDP to meet power constraints"
     ]
    },
    {
     "cell_type": "code",
     "collapsed": false,
     "input": [
      "# The power contraints for [Low, Mid, Survey], in Watts, are:\n",
      "\n",
      "power_limit_bestcase = [1.5e6  * u.W, 5e6 * u.W, 4e6 * u.W]\n",
      "power_limit_likely   = [0.75e6 * u.W, 2.5e6 * u.W, 2e6 * u.W]"
     ],
     "language": "python",
     "metadata": {},
     "outputs": []
    },
    {
     "cell_type": "code",
     "collapsed": false,
     "input": [
      "P_mid = P_sdp[1]\n",
      "P_target = remove_units(power_limit_likely[1])\n",
      "expression_to_minimise = abs(P_mid - P_target)\n",
      "\n",
      "expr_eval = lambdify((Rflop_mid, Mbuf_mid), remove_units(expression_to_minimise),modules=\"sympy\")  # Define Lambda expression in two variables\n",
      "expr_eval_float = lambda x: float(expr_eval(x, mbf[1]))  # Define Power of MID as a function of one free variable: Rflop_mid"
     ],
     "language": "python",
     "metadata": {},
     "outputs": []
    },
    {
     "cell_type": "code",
     "collapsed": false,
     "input": [
      "# We now minimize the desired expression (which equals absolute deviation from our target power Wattage) by varying the free \n",
      "# parameter - which in this case is Rflop_mid\n",
      "result = opt.minimize_scalar(expr_eval_float, bounds=(0, rfl[1]), method='bounded')\n",
      "print result"
     ],
     "language": "python",
     "metadata": {},
     "outputs": []
    },
    {
     "cell_type": "raw",
     "metadata": {},
     "source": [
      "In this case the target value was not exactly reached (maybe impossible?), but the residual error is only 180 Watts, achieved by\n",
      "setting Rflop_mid to the value of x displayed above."
     ]
    },
    {
     "cell_type": "code",
     "collapsed": false,
     "input": [
      "# We can verify this (look at the middle value, when substituting Rflop_mid with result.x)\n",
      "P_sdp_eval(rfl[0],result.x,rfl[2],mbf[0],mbf[1],mbf[2])/1e6"
     ],
     "language": "python",
     "metadata": {},
     "outputs": []
    },
    {
     "cell_type": "raw",
     "metadata": {},
     "source": [
      "Now that we know the desired FLOP count, the trick will be to scale the telescope appropriately to achieve that FLOP value. One could use a similar approach as above, and compute the maximum baseline length (keeping all parameters the same).\n",
      "I demonstrate the principle here, by only looking at "
     ]
    },
    {
     "cell_type": "heading",
     "level": 1,
     "metadata": {},
     "source": [
      "All lines of code below this line are from previous versions of the notebook, and might not run in current form"
     ]
    },
    {
     "cell_type": "code",
     "collapsed": false,
     "input": [
      "Rflop_target = result.x\n",
      "print 'FLOP target (in this example) for Mid = %g' % Rflop_target\n",
      "chosen_band = 'Mid1'\n",
      "chosen_mode = 'Spectral'\n",
      "(Tsnap_opt, Nfacet_opt) = find_optimal_Tsnap_Nfacet(band=chosen_band, mode=chosen_mode)\n",
      "telescope_parameters = calc_tel_params(band=chosen_band, mode=chosen_mode)\n",
      "telescope_parameters[Tsnap] = Tsnap_opt\n",
      "telescope_parameters[Nfacet] = Nfacet_opt\n",
      "result_flops = evaluate_expression(Rflop, telescope_parameters)"
     ],
     "language": "python",
     "metadata": {},
     "outputs": []
    },
    {
     "cell_type": "code",
     "collapsed": false,
     "input": [
      "print 'Using the maximum baseline specs, band %s (%s) requires %g FLOPS.' % (chosen_band, chosen_mode, result_flops)"
     ],
     "language": "python",
     "metadata": {},
     "outputs": []
    },
    {
     "cell_type": "code",
     "collapsed": false,
     "input": [
      "# We now make Bmax a free (undefined) parameter\n",
      "telescope_parameters.pop(Bmax)\n",
      "\n",
      "# And from here on we do the same type of optimization as before\n",
      "expression_to_minimise = abs(Rflop - Rflop_target).subs(telescope_parameters).subs(telescope_parameters)\n",
      "expr_eval = lambdify(Bmax, remove_units(expression_to_minimise),modules=\"sympy\")  # Define Lambda expression in one variable\n",
      "expr_eval_float = lambda x: float(expr_eval(x))  # Define deviation of RFlop from the set target as a function of one free variable: Bmax\n",
      "# We now minimize the desired expression (which equals absolute deviation from our target FLOP rate) by varying the free \n",
      "# parameter - which in this case is Bmax\n",
      "result = opt.minimize_scalar(expr_eval_float, bounds=(0, remove_units(telescope_params[Bmax_ref])), method='bounded')\n",
      "print result"
     ],
     "language": "python",
     "metadata": {},
     "outputs": []
    },
    {
     "cell_type": "raw",
     "metadata": {},
     "source": [
      "Voila - there we have it. A baseline of ~ 157.2 km will give us the desired FLOP rate that will result in a power consumption of 2.5 MW"
     ]
    }
   ],
   "metadata": {}
  }
 ]
}