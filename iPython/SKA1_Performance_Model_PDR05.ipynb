{
 "cells": [
  {
   "cell_type": "markdown",
   "metadata": {},
   "source": [
    "_This notebook started out as a direct iPython translation of the **M7 PDR05 Excel Spreadsheet**, implemented in a similar way as originally done by **Juande Santander-Vela** in his separate analysis of the M7 Milestone PDR05 (MS Word) document._\n",
    "\n",
    "_This is an interactive document. **sympy** and **astropy** are required to evaluate some of the blocks of code. While overlapping in scope with \"Full Computational Requirements for SDP.ipynb\" and \"Parametric Models of SDP Compute Requirements.ipynb\", this document was independently derived._ \n",
    "\n",
    "_Equations may be evaluated for the different telescopes and imaging modes, either numerically or symbolically_ \n",
    "\n",
    "_The owner of this notebook document is **Francois Malan** of Space Advisory Company._\n",
    "\n",
    "***Since PDR, this notebook has been largely superceded by the more graphically interactive and update \"SKA1_Imaging_Performance_Model.ipynb\"***"
   ]
  },
  {
   "cell_type": "markdown",
   "metadata": {},
   "source": [
    "# 1. Definitions:"
   ]
  },
  {
   "cell_type": "markdown",
   "metadata": {},
   "source": [
    "_If any of these values need to be changed, this should be done in the \"Implementation\" section lower down. The display-formatted text in this \"Definitions\" section is (as you may have guessed) just for display purposes._ "
   ]
  },
  {
   "cell_type": "markdown",
   "metadata": {},
   "source": [
    "**Output Parameters we are interested in:**\n",
    "\n",
    "|**Symbol**|**Python**|**Description**|\n",
    "|-|-|-|\n",
    "| $M_{buf,vis}$ | Mbuf_vis | Buffer size (bytes) |\n",
    "| $M_{w,cache}$ | Mw_cache | w-convolution kernel cache size |\n",
    "| $N_{pix,linear}$ | Npix_linear | The linear number of pixels along the image's side (assumed to be square)|\n",
    "| $R_{FLOP}$ | Rflop | Overall flop rate |\n",
    "| $R_{IO}$ | Rio | Overall I/O rate, (bytes/s) |\n",
    "\n",
    "** Physical constants **\n",
    "\n",
    "|**Symbol**|**Python**|**Value**|**Description**|\n",
    "|-|-|-|-|\n",
    "| $c$ | u.c | $2.99792458 \\times 10^8$ (m/s) | Speed of light in a vacuum |\n",
    "| $\\Omega_E$ | Omega_E | $7.292115 \\times 10^{-5}$ (rad/s) | Angular rotational velocity of the Earth relative to the fixed stars |\n",
    "| $R_{Earth}$ | R_Earth | $6.378136 \\times 10^6$ (m) | Radius of the Earth |\n",
    "\n",
    "**Global parameters - used for all telescopes**\n",
    "\n",
    "*May need global tweaking*\n",
    "\n",
    "|**Symbol**|**Python**|**Value**|**Description**|\n",
    "|-|-|-|-|\n",
    "| $\\epsilon_{w}$ | epsilon_w | 0.01 | Amplitude level of w-kernels to include. Value 0.01 is used in [RD6] where it is shown to give kernel sizes in rough agreement with CASA package.|\n",
    "| $M_{vis}$| Mvis | 12 | Size of visibility datum in the buffer (in bytes?) |\n",
    "| $N_{kernel}$ | Naa | 9 | Linear size of the combined $A$ and $W$ kernels (pixels). This size is at the low end of the range 9-15 given by [RD11] in Section 4.4.2 of their paper. |\n",
    "| $N_{mm}$ | Nmm | 4| |\n",
    "| $N_{pp}$ | Npp | 4| Number of polarisation products that are processed |\n",
    "| $N_{w}$ | Nw | 2| Bytes per value |\n",
    "|$Q_{bw}$|Qbw|1 |Bandwidth quality factor, determining how well bandwidth smearing can be controlled|\n",
    "|$Q_{fcw}$|Qfcw|10|Number of adjacent frequency channels for which baseline dependent kernels can be reused|\n",
    "|$Q_{GCF}$|Qgcf|8|Oversampling factor of w-convolution kernels|\n",
    "|$Q_{w}$|Qw|1 | Quality factor for w-projection correction. Value 1 corresponds to correction of maximal w values.  For comparison [RD7] uses values 0.1—0.3 |\n",
    "| $T_{ion}$ | T_ion | 60 | Ionospheric timescale |\n",
    "\n",
    "** Telescope-dependent parameters **\n",
    "\n",
    "*Subject to change*\n",
    "\n",
    "|***Telescope parameters***\n",
    "|-|-|-|-|-|-|\n",
    "| | Symbol | Python | **SKA1-Low** | **SKA1-Mid** | **SKA1-Survey** |\n",
    "| Maximum baseline according to SKAO (km)     | $B_{max}$|Bmax| $100$|$200$|$50$|\n",
    "| Antenna/Station Diameter (m)                                   |$D_{s}$|Ds|$35$|$15$|$15$|\n",
    "| Minimum frequency (of the chosen band) | $f_{min}$ | freq_min | 50 Mhz | depends on band | depends on band |\n",
    "| Maximum frequency (of the chosen band) | $f_{max}$ | freq_max | 350 Mhz | depends on band | depends on band |\n",
    "| Number of stations/antennas                                    |$N_{a}$|Na|$1024$|$256$|$96$|\n",
    "| Number of beams                                                |$N_{beam}$|Nbeam|$1$|$1$|$36$|\n",
    "| Number of frequency channels from corellator                   |$N_{f,max}$|Nf_max|$256000$|$256000$|$256000$|\n",
    "| Correlator dump time appropriate for $B_{max,ref}$ (seconds) |$T_{dump,ref}$|Tdump_ref|$0.6$|$0.08$|$0.3$|\n",
    "| Bins (upper bounds) used for discretizing baseline distribution in computations (km) | - | baseline_bins | $(4.9, 7.1, 10.4, 15.1, 22.1, 32.2, 47.0, 68.5, 100)$ | $(4.4, 6.7, 10.3, 15.7, 24.0, 36.7, 56.0, 85.6, 130.8, 200)$ | $(3.8, 5.5, 8.0, 11.5, 16.6, 24.0, 34.6, 50)$ \n",
    "| Number of baselines in each bin | - | baseline_bin_counts | $(5031193, 732481, 796973, 586849, 1070483, 939054, 820834, 202366, 12375)$ | $(669822, 61039, 64851, 66222, 70838, 68024, 74060, 68736, 21523, 745)$ | $(81109, 15605, 15777, 16671, 16849, 17999, 3282, 324)$ \n",
    "\n",
    "** Spectral vs Continuum vs Fast Imaging (i.e. slow transients) **\n",
    "\n",
    "*This is the same for all telescopes and bands*, but may be overwritten by HPSOs\n",
    "\n",
    "|***Imaging-mode telescope parameters***\n",
    "|-|-|-|-|-|-|\n",
    "| | Symbol | Python | **Continuum** | **Spectral** | **SlowTrans** |\n",
    "| Baseline length that (Fbshort+Fbmid), i.e. 90% of baselines are shorter than | $B_{lim,mid}$ | Blim_mid | $20000$ | n/a | $20000$\n",
    "| Number of output map channels | $N_{f, out}$ | Nf_out | $500$ | *computed* | $500$ |\n",
    "| Number of channels for gridding at longest baseline | $N_{f, used}$ | Nf_used | *computed* | *computed* | *computed*|\n",
    "| Number of major CLEAN cycles to be done | $N_{major}$ | Nmajor | $10$ | $1$ | $1$ |\n",
    "| Field of view factor | $Q_{FoV}$| Qfov | $1.8$ | $1$ | $0.9$ |\n",
    "| Quality factor defining the oversampling of synthesised beam | $Q_{pix}$ | Qpix | $2.5$ | $2.5$ | $1.5$|\n",
    "| Observation length |$T_{obs}$ | Tobs  | $6\\ {\\rm h}$  | $6\\ {\\rm h}$ | $1.2\\ {\\rm sec}$  |\n",
    "| Snapshot timescale implemented (sec) | $T_{snap}$ | Tsnap | *optimized* | *optimized* | *optimized* |\n",
    "| Minimum Snapshot timescale - equals $T_{obs}$ for slow transients | $T_{snap, min}$ | Tsnap_min | $1.2\\ {\\rm sec}$ | $1.2\\ {\\rm sec}$ | $1.2\\ {\\rm sec}$"
   ]
  },
  {
   "cell_type": "markdown",
   "metadata": {},
   "source": [
    "# 2. Load Implementation & Environment (refer to .py source files):"
   ]
  },
  {
   "cell_type": "code",
   "execution_count": 3,
   "metadata": {
    "collapsed": false
   },
   "outputs": [],
   "source": [
    "'''\n",
    "The following command imports the python modules, methods and code fragments that are required to run this notebook. \n",
    "Please refer to the following python files for implementation details\n",
    "* api.py -- contains several convenience / interface methods for interacting with the parametric model in Python\n",
    "* api_ipython.py -- extends api.py with functionality specific to the iPython notebook, such as plotting\n",
    "* equations.py -- contains equations for computing secondary telescope-specific parameters from input parameters\n",
    "* parameter_definitions.py -- contains definitions of variables, primary telescope parameters  \n",
    "* implementation.py -- contains methods for performing computations (i.e. crunching the numbers)\n",
    "'''\n",
    "from api import SkaPythonAPI as api\n",
    "from equations import Equations as f  # Letter f is used because class used to be called \"Formulae\"\n",
    "from parameter_definitions import *\n",
    "from parameter_definitions import ParameterDefinitions as p\n",
    "from parameter_definitions import Constants as c\n",
    "from implementation import Implementation as i\n",
    "import time"
   ]
  },
  {
   "cell_type": "code",
   "execution_count": 4,
   "metadata": {
    "collapsed": false
   },
   "outputs": [
    {
     "name": "stdout",
     "output_type": "stream",
     "text": [
      "Evaluating Nfacets = 1\n",
      "Tsnap has been optimized as : 70.317799. (Cost function = 1.291635)\n",
      "Evaluating Nfacets = 2\n",
      "Tsnap has been optimized as : 134.945782. (Cost function = 1.191866)\n",
      "Evaluating Nfacets = 3\n",
      "Tsnap has been optimized as : 183.795390. (Cost function = 1.480561)\n",
      "\n",
      "Expression increasing with number of facets; aborting exploration of Nfacets > 3\n",
      "\n",
      "1.191866 PetaFLOPS was the lowest FLOP value, found for (Nfacet, Tsnap) = (2, 134.95)\n",
      "(134.94578231160489, 2)\n",
      "Result of expression = 1.191866 Peta\n",
      "Optimization took 7.792000 seconds\n",
      "Evaluation took 0.215000 seconds\n",
      "Total time = 8.007000 seconds\n"
     ]
    }
   ],
   "source": [
    "t0 = time.time()\n",
    "tel = Telescopes.SKA1_Low\n",
    "band = Bands.Low\n",
    "mode = ImagingModes.Spectral\n",
    "if not i.telescope_and_band_are_compatible(tel, band):\n",
    "    raise AssertionError(\"The supplied telescope and band are not compatible with each other!\")\n",
    "telescope_parameters = i.calc_tel_params(tel, mode, band=band)\n",
    "(Tsnap_opt, Nfacet_opt) = i.find_optimal_Tsnap_Nfacet(telescope_parameters, verbose=True)\n",
    "print (Tsnap_opt, Nfacet_opt)\n",
    "#(Tsnap_opt, Nfacet_opt) = (87.16, 3)\n",
    "t1 = time.time()\n",
    "expression = telescope_parameters.Rflop\n",
    "expression_subst = expression.subs({telescope_parameters.Tsnap : Tsnap_opt, telescope_parameters.Nfacet : Nfacet_opt})\n",
    "result = i.evaluate_binned_expression(expression_subst, telescope_parameters)\n",
    "print 'Result of expression = %f Peta' % (result / c.peta)\n",
    "t2 = time.time()\n",
    "print 'Optimization took %f seconds' % (t1-t0)\n",
    "print 'Evaluation took %f seconds' % (t2-t1)\n",
    "print 'Total time = %f seconds' % (t2-t0)"
   ]
  },
  {
   "cell_type": "markdown",
   "metadata": {},
   "source": [
    "# 3. Computations:"
   ]
  },
  {
   "cell_type": "markdown",
   "metadata": {},
   "source": [
    "## Optimizing Tsnap and Nfacet for a given band and mode:"
   ]
  },
  {
   "cell_type": "markdown",
   "metadata": {},
   "source": [
    "## Looping through a list of (standard) bands -- this may take several minutes:"
   ]
  },
  {
   "cell_type": "code",
   "execution_count": 5,
   "metadata": {
    "collapsed": false
   },
   "outputs": [
    {
     "name": "stdout",
     "output_type": "stream",
     "text": [
      ".\n",
      ">> Evaluating SKA1_Low_old, Low band in Continuum mode\n",
      "Optimal (Tsnap, Nfacet) values = (154.37 sec, 3)\n",
      "-> Continuum : Rflop_conv = 28.6 Peta\n",
      "-> Continuum : Rflop_fft = 24.4 Peta\n",
      "-> Continuum : Rflop_grid = 11 Peta\n",
      "-> Continuum : Rflop_proj = 1.8e-10 Peta\n",
      "-> Continuum : Rflop_phrot = 0.575 Peta\n",
      "-> Continuum : Rflop = 64.5 Peta\n",
      "-> Continuum : Mbuf_vis = 126 Peta\n",
      "-> Continuum : Mw_cache = 0.00404 Peta\n",
      "-> Continuum : Npix_linear = 6877.41\n",
      "-> Continuum : Rio = 0.289 Peta\n",
      ".\n",
      ">> Evaluating SKA1_Low_old, Low band in Spectral mode\n",
      "Optimal (Tsnap, Nfacet) values = (104.97 sec, 2)\n",
      "-> Spectral : Rflop_conv = 1.36 Peta\n",
      "-> Spectral : Rflop_fft = 1.66 Peta\n",
      "-> Spectral : Rflop_grid = 9.46 Peta\n",
      "-> Spectral : Rflop_proj = 1.38e-08 Peta\n",
      "-> Spectral : Rflop_phrot = 0.268 Peta\n",
      "-> Spectral : Rflop = 12.7 Peta\n",
      "-> Spectral : Mbuf_vis = 463 Peta\n",
      "-> Spectral : Mw_cache = 0.00271 Peta\n",
      "-> Spectral : Npix_linear = 5731.17\n",
      "-> Spectral : Rio = 0.107 Peta\n",
      ".\n",
      ">> Evaluating SKA1_Low_old, Low band in SlowTrans mode\n",
      "Optimal (Tsnap, Nfacet) values = (1.00 sec, 1)\n",
      "-> SlowTrans : Rflop_conv = 0.213 Peta\n",
      "-> SlowTrans : Rflop_fft = 1.51 Peta\n",
      "-> SlowTrans : Rflop_grid = 0.482 Peta\n",
      "-> SlowTrans : Rflop_proj = 1.8e-11 Peta\n",
      "-> SlowTrans : Rflop_phrot = 0 Peta\n",
      "-> SlowTrans : Rflop = 2.21 Peta\n",
      "-> SlowTrans : Mbuf_vis = 0.00292 Peta\n",
      "-> SlowTrans : Mw_cache = 0.000816 Peta\n",
      "-> SlowTrans : Npix_linear = 6189.67\n",
      "-> SlowTrans : Rio = 0.00292 Peta\n",
      ".\n",
      ">> Evaluating SKA1_Mid_old, Mid1 band in Continuum mode\n",
      "Optimal (Tsnap, Nfacet) values = (4197.43 sec, 14)\n",
      "-> Continuum : Rflop_conv = 43.6 Peta\n",
      "-> Continuum : Rflop_fft = 58.6 Peta\n",
      "-> Continuum : Rflop_grid = 15.9 Peta\n",
      "-> Continuum : Rflop_proj = 2e-10 Peta\n",
      "-> Continuum : Rflop_phrot = 14.6 Peta\n",
      "-> Continuum : Rflop = 133 Peta\n",
      "-> Continuum : Mbuf_vis = 153 Peta\n",
      "-> Continuum : Mw_cache = 0.0637 Peta\n",
      "-> Continuum : Npix_linear = 8004.86\n",
      "-> Continuum : Rio = 7.63 Peta\n",
      ".\n",
      ">> Evaluating SKA1_Mid_old, Mid1 band in Spectral mode\n",
      "Optimal (Tsnap, Nfacet) values = (1912.02 sec, 7)\n",
      "-> Spectral : Rflop_conv = 1.04 Peta\n",
      "-> Spectral : Rflop_fft = 2.17 Peta\n",
      "-> Spectral : Rflop_grid = 5.03 Peta\n",
      "-> Spectral : Rflop_proj = 1.54e-08 Peta\n",
      "-> Spectral : Rflop_phrot = 1.51 Peta\n",
      "-> Spectral : Rflop = 9.75 Peta\n",
      "-> Spectral : Mbuf_vis = 213 Peta\n",
      "-> Spectral : Mw_cache = 0.024 Peta\n",
      "-> Spectral : Npix_linear = 8894.29\n",
      "-> Spectral : Rio = 0.605 Peta\n",
      ".\n",
      ">> Evaluating SKA1_Mid_old, Mid1 band in SlowTrans mode\n",
      "Optimal (Tsnap, Nfacet) values = (1.00 sec, 2)\n",
      "-> SlowTrans : Rflop_conv = 0.043 Peta\n",
      "-> SlowTrans : Rflop_fft = 100 Peta\n",
      "-> SlowTrans : Rflop_grid = 0.512 Peta\n",
      "-> SlowTrans : Rflop_proj = 2e-11 Peta\n",
      "-> SlowTrans : Rflop_phrot = 0.0155 Peta\n",
      "-> SlowTrans : Rflop = 101 Peta\n",
      "-> SlowTrans : Mbuf_vis = 0.00354 Peta\n",
      "-> SlowTrans : Mw_cache = 0.00166 Peta\n",
      "-> SlowTrans : Npix_linear = 16810.2\n",
      "-> SlowTrans : Rio = 0.0142 Peta\n",
      ".\n",
      ">> Evaluating SKA1_Survey_old, Sur1 band in Continuum mode\n",
      "Optimal (Tsnap, Nfacet) values = (2190.32 sec, 6)\n",
      "-> Continuum : Rflop_conv = 40.7 Peta\n",
      "-> Continuum : Rflop_fft = 45.7 Peta\n",
      "-> Continuum : Rflop_grid = 5.12 Peta\n",
      "-> Continuum : Rflop_proj = 5.76e-09 Peta\n",
      "-> Continuum : Rflop_phrot = 0.753 Peta\n",
      "-> Continuum : Rflop = 92.2 Peta\n",
      "-> Continuum : Mbuf_vis = 42.1 Peta\n",
      "-> Continuum : Mw_cache = 0.264 Peta\n",
      "-> Continuum : Npix_linear = 3932.9\n",
      "-> Continuum : Rio = 0.386 Peta\n",
      ".\n",
      ">> Evaluating SKA1_Survey_old, Sur1 band in Spectral mode\n",
      "Optimal (Tsnap, Nfacet) values = (2388.22 sec, 5)\n",
      "-> Spectral : Rflop_conv = 2.67 Peta\n",
      "-> Spectral : Rflop_fft = 3.46 Peta\n",
      "-> Spectral : Rflop_grid = 6.97 Peta\n",
      "-> Spectral : Rflop_proj = 4.42e-07 Peta\n",
      "-> Spectral : Rflop_phrot = 1.05 Peta\n",
      "-> Spectral : Rflop = 14.2 Peta\n",
      "-> Spectral : Mbuf_vis = 290 Peta\n",
      "-> Spectral : Mw_cache = 0.352 Peta\n",
      "-> Spectral : Npix_linear = 2621.94\n",
      "-> Spectral : Rio = 0.42 Peta\n",
      ".\n",
      ">> Evaluating SKA1_Survey_old, Sur1 band in SlowTrans mode\n",
      "Optimal (Tsnap, Nfacet) values = (1.00 sec, 1)\n",
      "-> SlowTrans : Rflop_conv = 0.0536 Peta\n",
      "-> SlowTrans : Rflop_fft = 40.6 Peta\n",
      "-> SlowTrans : Rflop_grid = 0.156 Peta\n",
      "-> SlowTrans : Rflop_proj = 5.76e-10 Peta\n",
      "-> SlowTrans : Rflop_phrot = 0 Peta\n",
      "-> SlowTrans : Rflop = 40.8 Peta\n",
      "-> SlowTrans : Mbuf_vis = 0.000974 Peta\n",
      "-> SlowTrans : Mw_cache = 0.000627 Peta\n",
      "-> SlowTrans : Npix_linear = 7079.23\n",
      "-> SlowTrans : Rio = 0.000974 Peta\n",
      "\n",
      ">>> Done!\n"
     ]
    }
   ],
   "source": [
    "# Only loop over the first bands for each telescope (assumed to be the most demanding)\n",
    "selected_bands = (Bands.Low, Bands.Mid1, Bands.Sur1)  \n",
    "selected_modes = (ImagingModes.Continuum, ImagingModes.Spectral, ImagingModes.SlowTrans)\n",
    "\n",
    "non_peta_values = ('Npix_linear')\n",
    "values_to_take_max = ('Npix_linear')\n",
    "\n",
    "results = {}\n",
    "\n",
    "for telescope in (Telescopes.SKA1_Low_old, Telescopes.SKA1_Mid_old, Telescopes.SKA1_Sur_old):\n",
    "    for band in selected_bands:\n",
    "        for mode in selected_modes:\n",
    "            if not i.telescope_and_band_are_compatible(telescope, band):\n",
    "                continue # This combination of telescope and band is not allowed. Skip.\n",
    "            \n",
    "            tp = i.calc_tel_params(telescope, mode, band=band)\n",
    "            print '.'\n",
    "            print '>> Evaluating %s, %s band in %s mode' % (telescope, band, mode)\n",
    "\n",
    "            (Tsnap_opt, Nfacet_opt) = i.find_optimal_Tsnap_Nfacet(tp)\n",
    "            print 'Optimal (Tsnap, Nfacet) values = (%.2f sec, %d)' % (Tsnap_opt, Nfacet_opt)\n",
    "\n",
    "            substitution = {tp.Tsnap : Tsnap_opt, tp.Nfacet : Nfacet_opt}\n",
    "\n",
    "            expressions = (tp.Rflop_conv, tp.Rflop_fft, tp.Rflop_grid, tp.Rflop_proj, tp.Rflop_phrot, tp.Rflop, tp.Mbuf_vis, tp.Mw_cache, tp.Npix_linear, tp.Rio)\n",
    "            expression_strings = ('Rflop_conv', 'Rflop_fft', 'Rflop_grid', 'Rflop_proj', 'Rflop_phrot', 'Rflop','Mbuf_vis', 'Mw_cache', 'Npix_linear', 'Rio')\n",
    "            key_expressions = zip(expression_strings, expressions)\n",
    "\n",
    "            for key_expression in key_expressions: \n",
    "                key = key_expression[0]\n",
    "                expression = key_expression[1]\n",
    "                if not (isinstance( expression, ( int, long )) or isinstance(expression, float)):\n",
    "                    expression_subst = expression.subs(substitution)\n",
    "                else:\n",
    "                    expression_subst = expression\n",
    "                take_max = (key in values_to_take_max)                \n",
    "                result = i.evaluate_binned_expression(expression_subst, tp, take_max=take_max)\n",
    "                \n",
    "                # Results are listed by band, mode and evaluated expression.\n",
    "                # In this case the band unqiuely identifies the telescope, therefore the telescope is not recorded separately.\n",
    "                results[(band, mode, key)] = result\n",
    "\n",
    "                if key in non_peta_values:\n",
    "                    print '-> %s : %s = %g' % (mode, key, result)\n",
    "                else:    \n",
    "                    print '-> %s : %s = %.3g Peta' % (mode, key, result / c.peta)\n",
    "print '\\n>>> Done!'"
   ]
  },
  {
   "cell_type": "markdown",
   "metadata": {},
   "source": [
    "## Because it takes a little while to compute all results, let's just dump them out to screen:"
   ]
  },
  {
   "cell_type": "code",
   "execution_count": 6,
   "metadata": {
    "collapsed": false
   },
   "outputs": [
    {
     "data": {
      "text/plain": [
       "{('Low', 'Continuum', 'Mbuf_vis'): 1.2620224154565941e+17,\n",
       " ('Low', 'Continuum', 'Mw_cache'): 4044212744856.6445,\n",
       " ('Low', 'Continuum', 'Npix_linear'): 6877.408130062434,\n",
       " ('Low', 'Continuum', 'Rflop'): 6.4504044064415224e+16,\n",
       " ('Low', 'Continuum', 'Rflop_conv'): 2.8589209027458e+16,\n",
       " ('Low', 'Continuum', 'Rflop_fft'): 2.4381099512781476e+16,\n",
       " ('Low', 'Continuum', 'Rflop_grid'): 1.095828660912445e+16,\n",
       " ('Low', 'Continuum', 'Rflop_phrot'): 575448914871299.9,\n",
       " ('Low', 'Continuum', 'Rflop_proj'): 180000.0,\n",
       " ('Low', 'Continuum', 'Rio'): 289213470208802.8,\n",
       " ('Low', 'SlowTrans', 'Mbuf_vis'): 2921388952199.7314,\n",
       " ('Low', 'SlowTrans', 'Mw_cache'): 816188990315.0602,\n",
       " ('Low', 'SlowTrans', 'Npix_linear'): 6189.667317056192,\n",
       " ('Low', 'SlowTrans', 'Rflop'): 2209365165162632.5,\n",
       " ('Low', 'SlowTrans', 'Rflop_conv'): 213085092581244.56,\n",
       " ('Low', 'SlowTrans', 'Rflop_fft'): 1513901608986283.5,\n",
       " ('Low', 'SlowTrans', 'Rflop_grid'): 482378463577104.2,\n",
       " ('Low', 'SlowTrans', 'Rflop_phrot'): 0.0,\n",
       " ('Low', 'SlowTrans', 'Rflop_proj'): 18000.0,\n",
       " ('Low', 'SlowTrans', 'Rio'): 2921388952199.7314,\n",
       " ('Low', 'Spectral', 'Mbuf_vis'): 4.63403483136e+17,\n",
       " ('Low', 'Spectral', 'Mw_cache'): 2712806390935.6167,\n",
       " ('Low', 'Spectral', 'Npix_linear'): 5731.173441718695,\n",
       " ('Low', 'Spectral', 'Rflop'): 1.2746568798269044e+16,\n",
       " ('Low', 'Spectral', 'Rflop_conv'): 1364624939671465.8,\n",
       " ('Low', 'Spectral', 'Rflop_fft'): 1657376858935829.0,\n",
       " ('Low', 'Spectral', 'Rflop_grid'): 9456393673837750.0,\n",
       " ('Low', 'Spectral', 'Rflop_phrot'): 268173312000000.03,\n",
       " ('Low', 'Spectral', 'Rflop_proj'): 13824000.0,\n",
       " ('Low', 'Spectral', 'Rio'): 107269324800000.02,\n",
       " ('Mid1', 'Continuum', 'Mbuf_vis'): 1.5297859497851754e+17,\n",
       " ('Mid1', 'Continuum', 'Mw_cache'): 63715743159188.766,\n",
       " ('Mid1', 'Continuum', 'Npix_linear'): 8004.856653967243,\n",
       " ('Mid1', 'Continuum', 'Rflop'): 1.327122992798461e+17,\n",
       " ('Mid1', 'Continuum', 'Rflop_conv'): 4.36337398449319e+16,\n",
       " ('Mid1', 'Continuum', 'Rflop_fft'): 5.864629205752582e+16,\n",
       " ('Mid1', 'Continuum', 'Rflop_grid'): 1.5864075040264988e+16,\n",
       " ('Mid1', 'Continuum', 'Rflop_phrot'): 1.4568192336923402e+16,\n",
       " ('Mid1', 'Continuum', 'Rflop_proj'): 200000.0,\n",
       " ('Mid1', 'Continuum', 'Rio'): 7634765064205647.0,\n",
       " ('Mid1', 'SlowTrans', 'Mbuf_vis'): 3541181769880.042,\n",
       " ('Mid1', 'SlowTrans', 'Mw_cache'): 1656035461473.0176,\n",
       " ('Mid1', 'SlowTrans', 'Npix_linear'): 16810.19897333121,\n",
       " ('Mid1', 'SlowTrans', 'Rflop'): 1.0069151783260443e+17,\n",
       " ('Mid1', 'SlowTrans', 'Rflop_conv'): 43012789799384.25,\n",
       " ('Mid1', 'SlowTrans', 'Rflop_fft'): 1.0012078339147074e+17,\n",
       " ('Mid1', 'SlowTrans', 'Rflop_grid'): 512262455939169.1,\n",
       " ('Mid1', 'SlowTrans', 'Rflop_phrot'): 15459195375150.527,\n",
       " ('Mid1', 'SlowTrans', 'Rflop_proj'): 20000.0,\n",
       " ('Mid1', 'SlowTrans', 'Rio'): 14164727079520.168,\n",
       " ('Mid1', 'Spectral', 'Mbuf_vis'): 2.1320589312e+17,\n",
       " ('Mid1', 'Spectral', 'Mw_cache'): 23980359043873.344,\n",
       " ('Mid1', 'Spectral', 'Npix_linear'): 8894.285171074715,\n",
       " ('Mid1', 'Spectral', 'Rflop'): 9748051190667020.0,\n",
       " ('Mid1', 'Spectral', 'Rflop_conv'): 1036988280502699.8,\n",
       " ('Mid1', 'Spectral', 'Rflop_fft'): 2168183724386644.5,\n",
       " ('Mid1', 'Spectral', 'Rflop_grid'): 5031436930417677.0,\n",
       " ('Mid1', 'Spectral', 'Rflop_phrot'): 1511442240000000.0,\n",
       " ('Mid1', 'Spectral', 'Rflop_proj'): 15360000.0,\n",
       " ('Mid1', 'Spectral', 'Rio'): 604576896000000.0,\n",
       " ('Sur1', 'Continuum', 'Mbuf_vis'): 4.2083708050905704e+16,\n",
       " ('Sur1', 'Continuum', 'Mw_cache'): 264270726089092.53,\n",
       " ('Sur1', 'Continuum', 'Npix_linear'): 3932.9032635347207,\n",
       " ('Sur1', 'Continuum', 'Rflop'): 9.219748461309294e+16,\n",
       " ('Sur1', 'Continuum', 'Rflop_conv'): 4.06630543832308e+16,\n",
       " ('Sur1', 'Continuum', 'Rflop_fft'): 4.565929368064272e+16,\n",
       " ('Sur1', 'Continuum', 'Rflop_grid'): 5121654486255037.0,\n",
       " ('Sur1', 'Continuum', 'Rflop_phrot'): 753482057204385.9,\n",
       " ('Sur1', 'Continuum', 'Rflop_proj'): 5760000.0,\n",
       " ('Sur1', 'Continuum', 'Rio'): 385767323799969.0,\n",
       " ('Sur1', 'SlowTrans', 'Mbuf_vis'): 974171561217.272,\n",
       " ('Sur1', 'SlowTrans', 'Mw_cache'): 626712321595.8972,\n",
       " ('Sur1', 'SlowTrans', 'Npix_linear'): 7079.225874362498,\n",
       " ('Sur1', 'SlowTrans', 'Rflop'): 4.081566818465756e+16,\n",
       " ('Sur1', 'SlowTrans', 'Rflop_conv'): 53633548870770.05,\n",
       " ('Sur1', 'SlowTrans', 'Rflop_fft'): 4.0606402514184264e+16,\n",
       " ('Sur1', 'SlowTrans', 'Rflop_grid'): 155632121026528.1,\n",
       " ('Sur1', 'SlowTrans', 'Rflop_phrot'): 0.0,\n",
       " ('Sur1', 'SlowTrans', 'Rflop_proj'): 576000.0,\n",
       " ('Sur1', 'SlowTrans', 'Rio'): 974171561217.272,\n",
       " ('Sur1', 'Spectral', 'Mbuf_vis'): 2.9047652352e+17,\n",
       " ('Sur1', 'Spectral', 'Mw_cache'): 352160445138704.9,\n",
       " ('Sur1', 'Spectral', 'Npix_linear'): 2621.935509023147,\n",
       " ('Sur1', 'Spectral', 'Rflop'): 1.415071089178112e+16,\n",
       " ('Sur1', 'Spectral', 'Rflop_conv'): 2670643780753536.5,\n",
       " ('Sur1', 'Spectral', 'Rflop_fft'): 3457731316480663.5,\n",
       " ('Sur1', 'Spectral', 'Rflop_grid'): 6971711352178919.0,\n",
       " ('Sur1', 'Spectral', 'Rflop_phrot'): 1050624000000000.0,\n",
       " ('Sur1', 'Spectral', 'Rflop_proj'): 442368000.0,\n",
       " ('Sur1', 'Spectral', 'Rio'): 420249600000000.0}"
      ]
     },
     "execution_count": 6,
     "metadata": {},
     "output_type": "execute_result"
    }
   ],
   "source": [
    "results"
   ]
  },
  {
   "cell_type": "markdown",
   "metadata": {},
   "source": [
    "## Summarize results (by summing for each selected band) the different modes' values:"
   ]
  },
  {
   "cell_type": "code",
   "execution_count": 7,
   "metadata": {
    "collapsed": false
   },
   "outputs": [
    {
     "data": {
      "text/plain": [
       "{'Low': {'Mbuf_vis': 5.896086460706116e+17,\n",
       "  'Mw_cache': 7573208126107.321,\n",
       "  'Rflop': 7.94599780278469e+16,\n",
       "  'Rflop_conv': 3.016691905971071e+16,\n",
       "  'Rflop_fft': 2.7552377980703588e+16,\n",
       "  'Rflop_grid': 2.0897058746539304e+16,\n",
       "  'Rflop_phrot': 843622226871299.9,\n",
       "  'Rflop_proj': 14022000.0,\n",
       "  'Rio': 399404183961002.56},\n",
       " 'Mid1': {'Mbuf_vis': 3.661880292802874e+17,\n",
       "  'Mw_cache': 89352137664535.12,\n",
       "  'Rflop': 2.4315186830311757e+17,\n",
       "  'Rflop_conv': 4.471374091523398e+16,\n",
       "  'Rflop_fft': 1.609352591733832e+17,\n",
       "  'Rflop_grid': 2.140777442662183e+16,\n",
       "  'Rflop_phrot': 1.6095093772298552e+16,\n",
       "  'Rflop_proj': 15580000.0,\n",
       "  'Rio': 8253506687285167.0},\n",
       " 'Sur1': {'Mbuf_vis': 3.3256120574246694e+17,\n",
       "  'Mw_cache': 617057883549393.2,\n",
       "  'Rflop': 1.4716386368953162e+17,\n",
       "  'Rflop_conv': 4.33873317128551e+16,\n",
       "  'Rflop_fft': 8.972342751130765e+16,\n",
       "  'Rflop_grid': 1.2248997959460484e+16,\n",
       "  'Rflop_phrot': 1804106057204386.0,\n",
       "  'Rflop_proj': 448704000.0,\n",
       "  'Rio': 806991095361186.2}}"
      ]
     },
     "execution_count": 7,
     "metadata": {},
     "output_type": "execute_result"
    }
   ],
   "source": [
    "summable_expressions = {'Rflop_conv', 'Rflop_fft', 'Rflop_grid', 'Rflop_proj', 'Rflop_phrot', 'Mbuf_vis', 'Rflop', 'Mw_cache', 'Rio'}\n",
    "imaging_modes = {ImagingModes.Spectral, ImagingModes.Continuum, ImagingModes.SlowTrans}\n",
    "\n",
    "results_per_band = {}\n",
    "for band in selected_bands:\n",
    "    #tel = band_info[band]['telescope']\n",
    "    if not band in results_per_band:\n",
    "        results_per_band[band] = {}\n",
    "    for expression in summable_expressions:\n",
    "        if not expression in results_per_band[band]:\n",
    "            results_per_band[band][expression] = 0\n",
    "        for mode in imaging_modes:\n",
    "            assert (band, mode, expression) in results\n",
    "            results_per_band[band][expression] += results[(band, mode, expression)]\n",
    "\n",
    "results_per_band"
   ]
  },
  {
   "cell_type": "markdown",
   "metadata": {},
   "source": [
    "## Let's plot the FLOP values"
   ]
  },
  {
   "cell_type": "code",
   "execution_count": 8,
   "metadata": {
    "collapsed": false
   },
   "outputs": [
    {
     "data": {
      "image/png": "[encoded data removed]",
      "text/plain": [
       "<matplotlib.figure.Figure at 0x1835e860>"
      ]
     },
     "metadata": {},
     "output_type": "display_data"
    },
    {
     "data": {
      "image/png": "[encoded data removed]",
      "text/plain": [
       "<matplotlib.figure.Figure at 0x184788d0>"
      ]
     },
     "metadata": {},
     "output_type": "display_data"
    },
    {
     "data": {
      "image/png": "[encoded data removed]",
      "text/plain": [
       "<matplotlib.figure.Figure at 0x187d9b00>"
      ]
     },
     "metadata": {},
     "output_type": "display_data"
    },
    {
     "data": {
      "text/plain": [
       "<matplotlib.legend.Legend at 0x188c0d68>"
      ]
     },
     "execution_count": 8,
     "metadata": {},
     "output_type": "execute_result"
    },
    {
     "data": {
      "image/png": "[encoded data removed]",
      "text/plain": [
       "<matplotlib.figure.Figure at 0x18310748>"
      ]
     },
     "metadata": {},
     "output_type": "display_data"
    }
   ],
   "source": [
    "import matplotlib.pyplot as plt\n",
    "%matplotlib inline\n",
    "\n",
    "import matplotlib.pylab as pylab\n",
    "pylab.rcParams['figure.figsize'] = 8, 6  # that's default image size for this interactive session\n",
    "\n",
    "results_per_tel = results_per_band\n",
    "t = results_per_tel.keys()\n",
    "t.sort()\n",
    "for tel in t:\n",
    "    values = results_per_tel[tel]\n",
    "\n",
    "    # The slices will be ordered and plotted counter-clockwise.\n",
    "    labels = '(de)Gridding', '(i)FFT', '(Re)Projection', 'Convolution', 'Phase Rotation'\n",
    "    sizes = [values['Rflop_grid'], values['Rflop_fft'], values['Rflop_proj'], values['Rflop_conv'], values['Rflop_phrot']]\n",
    "    colors = ['yellowgreen', 'gold', 'lightskyblue', 'lightcoral', 'darkgreen']\n",
    "    explode = (0.05, 0.05, 0.05, 0.05, 0.05) # Radial offset of the slices\n",
    "\n",
    "    plt.pie(sizes, explode=explode, labels=labels, colors=colors,\n",
    "            autopct='%1.1f%%', shadow=True, startangle=90)\n",
    "    # Set aspect ratio to be equal so that pie is drawn as a circle.\n",
    "    plt.axis('equal')\n",
    "    plt.title('%s\\n' % tel)\n",
    "\n",
    "    plt.show()\n",
    "    \n",
    "results_per_param = {}\n",
    "for tel in t:\n",
    "    for param in results_per_tel[tel]:\n",
    "        if not param in results_per_param:\n",
    "            results_per_param[param] = []\n",
    "        results_per_param[param].append(results_per_tel[tel][param])\n",
    "\n",
    "#print results_per_param\n",
    "ind = np.arange(3)\n",
    "\n",
    "p = 'Rflop_grid'\n",
    "res_grid = (results_per_tel[t[0]][p], results_per_tel[t[1]][p], results_per_tel[t[2]][p])\n",
    "p = 'Rflop_fft'\n",
    "res_fft = (results_per_tel[t[0]][p], results_per_tel[t[1]][p], results_per_tel[t[2]][p])\n",
    "p = 'Rflop_proj'\n",
    "res_proj = (results_per_tel[t[0]][p], results_per_tel[t[1]][p], results_per_tel[t[2]][p])\n",
    "p = 'Rflop_conv'\n",
    "res_conv = (results_per_tel[t[0]][p], results_per_tel[t[1]][p], results_per_tel[t[2]][p])\n",
    "p = 'Rflop_phrot'\n",
    "res_conv = (results_per_tel[t[0]][p], results_per_tel[t[1]][p], results_per_tel[t[2]][p])\n",
    "\n",
    "#Plot a stacked bar chart\n",
    "width = 0.35\n",
    "val = np.array(res_grid)/1e15\n",
    "p1 = plt.bar(ind, val, width, color=colors[0])\n",
    "bottoms = val\n",
    "val = np.array(res_fft)/1e15\n",
    "p2 = plt.bar(ind, val, width, color=colors[1],\n",
    "             bottom=bottoms)\n",
    "bottoms += val\n",
    "val = np.array(res_proj)/1e15\n",
    "p3 = plt.bar(ind, val, width, color=colors[2],\n",
    "             bottom=bottoms)\n",
    "bottoms += val\n",
    "val = np.array(res_conv)/1e15\n",
    "p4 = plt.bar(ind, val, width, color=colors[3],\n",
    "             bottom=bottoms)\n",
    "bottoms += val\n",
    "val = np.array(res_conv)/1e15\n",
    "p5 = plt.bar(ind, val, width, color=colors[4],\n",
    "             bottom=bottoms)\n",
    "\n",
    "plt.xticks(ind+width/2., t )\n",
    "plt.title('PetaFLOPS')\n",
    "plt.legend(labels, bbox_to_anchor=(1.05, 1), loc=2) # legend to the right of the plot"
   ]
  },
  {
   "cell_type": "markdown",
   "metadata": {},
   "source": [
    "# Doing the same for the HPSOs:"
   ]
  },
  {
   "cell_type": "code",
   "execution_count": 9,
   "metadata": {
    "collapsed": false
   },
   "outputs": [
    {
     "name": "stdout",
     "output_type": "stream",
     "text": [
      ".\n",
      ">> Evaluating HPSO 01\n",
      "Optimal (Tsnap, Nfacet) values = (148.16 sec, 3)\n",
      "-> hpso 01 : Rflop_conv = 46 Peta\n",
      "-> hpso 01 : Rflop_fft = 36.4 Peta\n",
      "-> hpso 01 : Rflop_grid = 16 Peta\n",
      "-> hpso 01 : Rflop_proj = 4.32e-10 Peta\n",
      "-> hpso 01 : Rflop_phrot = 0.826 Peta\n",
      "-> hpso 01 : Rflop = 99.2 Peta\n",
      "-> hpso 01 : Mbuf_vis = 180 Peta\n",
      "-> hpso 01 : Mw_cache = 0.00643 Peta\n",
      "-> hpso 01 : Npix_linear = 13932.9\n",
      "-> hpso 01 : Rio = 0.412 Peta\n",
      ".\n",
      ">> Evaluating HPSO 02A\n",
      "Optimal (Tsnap, Nfacet) values = (148.16 sec, 3)\n",
      "-> hpso 02A : Rflop_conv = 46 Peta\n",
      "-> hpso 02A : Rflop_fft = 36.4 Peta\n",
      "-> hpso 02A : Rflop_grid = 16 Peta\n",
      "-> hpso 02A : Rflop_proj = 4.32e-10 Peta\n",
      "-> hpso 02A : Rflop_phrot = 0.826 Peta\n",
      "-> hpso 02A : Rflop = 99.2 Peta\n",
      "-> hpso 02A : Mbuf_vis = 180 Peta\n",
      "-> hpso 02A : Mw_cache = 0.00643 Peta\n",
      "-> hpso 02A : Npix_linear = 13932.9\n",
      "-> hpso 02A : Rio = 0.412 Peta\n",
      ".\n",
      ">> Evaluating HPSO 02B\n",
      "Optimal (Tsnap, Nfacet) values = (148.16 sec, 3)\n",
      "-> hpso 02B : Rflop_conv = 46 Peta\n",
      "-> hpso 02B : Rflop_fft = 36.4 Peta\n",
      "-> hpso 02B : Rflop_grid = 16 Peta\n",
      "-> hpso 02B : Rflop_proj = 4.32e-10 Peta\n",
      "-> hpso 02B : Rflop_phrot = 0.826 Peta\n",
      "-> hpso 02B : Rflop = 99.2 Peta\n",
      "-> hpso 02B : Mbuf_vis = 180 Peta\n",
      "-> hpso 02B : Mw_cache = 0.00643 Peta\n",
      "-> hpso 02B : Npix_linear = 13932.9\n",
      "-> hpso 02B : Rio = 0.412 Peta\n",
      ".\n",
      ">> Evaluating HPSO 13\n",
      "Optimal (Tsnap, Nfacet) values = (1079.83 sec, 3) for Continuum and (1874.98 sec, 4) for Spectral\n",
      "-> hpso 13 : Rflop_conv = 5.79 Peta\n",
      "-> hpso 13 : Rflop_fft = 93.8 Peta\n",
      "-> hpso 13 : Rflop_grid = 4.75 Peta\n",
      "-> hpso 13 : Rflop_proj = 1.13e-08 Peta\n",
      "-> hpso 13 : Rflop_phrot = 0.329 Peta\n",
      "-> hpso 13 : Rflop = 105 Peta\n",
      "-> hpso 13 : Mbuf_vis = 238 Peta\n",
      "-> hpso 13 : Mw_cache = 0.00197 Peta\n",
      "-> hpso 13 : Npix_linear = 6292.65\n",
      "-> hpso 13 : Rio = 0.134 Peta\n",
      ".\n",
      ">> Evaluating HPSO 13c\n",
      "Optimal (Tsnap, Nfacet) values = (1079.83 sec, 3)\n",
      "-> hpso 13c : Rflop_conv = 10.9 Peta\n",
      "-> hpso 13c : Rflop_fft = 10.2 Peta\n",
      "-> hpso 13c : Rflop_grid = 0.809 Peta\n",
      "-> hpso 13c : Rflop_proj = 5.76e-09 Peta\n",
      "-> hpso 13c : Rflop_phrot = 0.0269 Peta\n",
      "-> hpso 13c : Rflop = 21.9 Peta\n",
      "-> hpso 13c : Mbuf_vis = 5.6 Peta\n",
      "-> hpso 13c : Mw_cache = 0.0452 Peta\n",
      "-> hpso 13c : Npix_linear = 13004\n",
      "-> hpso 13c : Rio = 0.0128 Peta\n",
      ".\n",
      ">> Evaluating HPSO 13s\n",
      "Optimal (Tsnap, Nfacet) values = (1874.98 sec, 4)\n",
      "-> hpso 13s : Rflop_conv = 1.53 Peta\n",
      "-> hpso 13s : Rflop_fft = 1.51 Peta\n",
      "-> hpso 13s : Rflop_grid = 5.05 Peta\n",
      "-> hpso 13s : Rflop_proj = 5.53e-09 Peta\n",
      "-> hpso 13s : Rflop_phrot = 0.538 Peta\n",
      "-> hpso 13s : Rflop = 8.63 Peta\n",
      "-> hpso 13s : Mbuf_vis = 232 Peta\n",
      "-> hpso 13s : Mw_cache = 0.124 Peta\n",
      "-> hpso 13s : Npix_linear = 5418.34\n",
      "-> hpso 13s : Rio = 0.215 Peta\n",
      ".\n",
      ">> Evaluating HPSO 14\n",
      "Optimal (Tsnap, Nfacet) values = (2377.76 sec, 6) for Continuum and (1905.22 sec, 5) for Spectral\n",
      "-> hpso 14 : Rflop_conv = 6.44 Peta\n",
      "-> hpso 14 : Rflop_fft = 10.4 Peta\n",
      "-> hpso 14 : Rflop_grid = 7.43 Peta\n",
      "-> hpso 14 : Rflop_proj = 5e-10 Peta\n",
      "-> hpso 14 : Rflop_phrot = 0.577 Peta\n",
      "-> hpso 14 : Rflop = 24.8 Peta\n",
      "-> hpso 14 : Mbuf_vis = 224 Peta\n",
      "-> hpso 14 : Mw_cache = 0.0584 Peta\n",
      "-> hpso 14 : Npix_linear = 28017\n",
      "-> hpso 14 : Rio = 0.239 Peta\n",
      ".\n",
      ">> Evaluating HPSO 14c\n",
      "Optimal (Tsnap, Nfacet) values = (2377.76 sec, 6)\n",
      "-> hpso 14c : Rflop_conv = 7.71 Peta\n",
      "-> hpso 14c : Rflop_fft = 7.21 Peta\n",
      "-> hpso 14c : Rflop_grid = 1.25 Peta\n",
      "-> hpso 14c : Rflop_proj = 2e-10 Peta\n",
      "-> hpso 14c : Rflop_phrot = 0.187 Peta\n",
      "-> hpso 14c : Rflop = 16.4 Peta\n",
      "-> hpso 14c : Mbuf_vis = 10.3 Peta\n",
      "-> hpso 14c : Mw_cache = 0.00653 Peta\n",
      "-> hpso 14c : Npix_linear = 32510\n",
      "-> hpso 14c : Rio = 0.0946 Peta\n",
      ".\n",
      ">> Evaluating HPSO 14s\n",
      "Optimal (Tsnap, Nfacet) values = (1905.22 sec, 5)\n",
      "-> hpso 14s : Rflop_conv = 0.472 Peta\n",
      "-> hpso 14s : Rflop_fft = 1.21 Peta\n",
      "-> hpso 14s : Rflop_grid = 4.66 Peta\n",
      "-> hpso 14s : Rflop_proj = 3e-10 Peta\n",
      "-> hpso 14s : Rflop_phrot = 0.771 Peta\n",
      "-> hpso 14s : Rflop = 7.12 Peta\n",
      "-> hpso 14s : Mbuf_vis = 213 Peta\n",
      "-> hpso 14s : Mw_cache = 0.0129 Peta\n",
      "-> hpso 14s : Npix_linear = 21673.4\n",
      "-> hpso 14s : Rio = 0.308 Peta\n",
      ".\n",
      ">> Evaluating HPSO 14sfull\n",
      "Optimal (Tsnap, Nfacet) values = (2013.18 sec, 5)\n",
      "-> hpso 14sfull : Rflop_conv = 0.479 Peta\n",
      "-> hpso 14sfull : Rflop_fft = 1.31 Peta\n",
      "-> hpso 14sfull : Rflop_grid = 4.73 Peta\n",
      "-> hpso 14sfull : Rflop_proj = 3e-09 Peta\n",
      "-> hpso 14sfull : Rflop_phrot = 0.771 Peta\n",
      "-> hpso 14sfull : Rflop = 7.29 Peta\n",
      "-> hpso 14sfull : Mbuf_vis = 213 Peta\n",
      "-> hpso 14sfull : Mw_cache = 0.0146 Peta\n",
      "-> hpso 14sfull : Npix_linear = 21673.4\n",
      "-> hpso 14sfull : Rio = 0.308 Peta\n",
      ".\n",
      ">> Evaluating HPSO 15\n",
      "Optimal (Tsnap, Nfacet) values = (231.90 sec, 1) for Continuum and (897.72 sec, 2) for Spectral\n",
      "-> hpso 15 : Rflop_conv = 17.4 Peta\n",
      "-> hpso 15 : Rflop_fft = 0.203 Peta\n",
      "-> hpso 15 : Rflop_grid = 1.45 Peta\n",
      "-> hpso 15 : Rflop_proj = 6.3e-09 Peta\n",
      "-> hpso 15 : Rflop_phrot = 0.277 Peta\n",
      "-> hpso 15 : Rflop = 19.4 Peta\n",
      "-> hpso 15 : Mbuf_vis = 75.7 Peta\n",
      "-> hpso 15 : Mw_cache = 0.00141 Peta\n",
      "-> hpso 15 : Npix_linear = 1408.62\n",
      "-> hpso 15 : Rio = 0.11 Peta\n",
      ".\n",
      ">> Evaluating HPSO 15c\n",
      "Optimal (Tsnap, Nfacet) values = (231.90 sec, 1)\n",
      "-> hpso 15c : Rflop_conv = 0.957 Peta\n",
      "-> hpso 15c : Rflop_fft = 0.68 Peta\n",
      "-> hpso 15c : Rflop_grid = 0.0308 Peta\n",
      "-> hpso 15c : Rflop_proj = 3.6e-09 Peta\n",
      "-> hpso 15c : Rflop_phrot = 0 Peta\n",
      "-> hpso 15c : Rflop = 1.67 Peta\n",
      "-> hpso 15c : Mbuf_vis = 0.148 Peta\n",
      "-> hpso 15c : Mw_cache = 0.000416 Peta\n",
      "-> hpso 15c : Npix_linear = 12678.9\n",
      "-> hpso 15c : Rio = 3.76e-05 Peta\n",
      ".\n",
      ">> Evaluating HPSO 15s\n",
      "Optimal (Tsnap, Nfacet) values = (897.72 sec, 2)\n",
      "-> hpso 15s : Rflop_conv = 0.359 Peta\n",
      "-> hpso 15s : Rflop_fft = 0.296 Peta\n",
      "-> hpso 15s : Rflop_grid = 1.55 Peta\n",
      "-> hpso 15s : Rflop_proj = 2.7e-09 Peta\n",
      "-> hpso 15s : Rflop_phrot = 0.0437 Peta\n",
      "-> hpso 15s : Rflop = 2.25 Peta\n",
      "-> hpso 15s : Mbuf_vis = 75.5 Peta\n",
      "-> hpso 15s : Mw_cache = 0.0139 Peta\n",
      "-> hpso 15s : Npix_linear = 3521.92\n",
      "-> hpso 15s : Rio = 0.0175 Peta\n",
      ".\n",
      ">> Evaluating HPSO 22\n",
      "Optimal (Tsnap, Nfacet) values = (9935.24 sec, 5)\n",
      "-> hpso 22 : Rflop_conv = 4.32 Peta\n",
      "-> hpso 22 : Rflop_fft = 4.2 Peta\n",
      "-> hpso 22 : Rflop_grid = 2.75 Peta\n",
      "-> hpso 22 : Rflop_proj = 3.4e-10 Peta\n",
      "-> hpso 22 : Rflop_phrot = 0.346 Peta\n",
      "-> hpso 22 : Rflop = 11.6 Peta\n",
      "-> hpso 22 : Mbuf_vis = 25.4 Peta\n",
      "-> hpso 22 : Mw_cache = 0.00817 Peta\n",
      "-> hpso 22 : Npix_linear = 39012.1\n",
      "-> hpso 22 : Rio = 0.162 Peta\n",
      ".\n",
      ">> Evaluating HPSO 27\n",
      "Optimal (Tsnap, Nfacet) values = (2564.87 sec, 4)\n",
      "-> hpso 27 : Rflop_conv = 18.7 Peta\n",
      "-> hpso 27 : Rflop_fft = 18.1 Peta\n",
      "-> hpso 27 : Rflop_grid = 2.56 Peta\n",
      "-> hpso 27 : Rflop_proj = 5.76e-09 Peta\n",
      "-> hpso 27 : Rflop_phrot = 0.156 Peta\n",
      "-> hpso 27 : Rflop = 39.5 Peta\n",
      "-> hpso 27 : Mbuf_vis = 19.2 Peta\n",
      "-> hpso 27 : Mw_cache = 0.147 Peta\n",
      "-> hpso 27 : Npix_linear = 12191.3\n",
      "-> hpso 27 : Rio = 0.0783 Peta\n",
      ".\n",
      ">> Evaluating HPSO 33\n",
      "Optimal (Tsnap, Nfacet) values = (2564.87 sec, 4)\n",
      "-> hpso 33 : Rflop_conv = 18.7 Peta\n",
      "-> hpso 33 : Rflop_fft = 18.1 Peta\n",
      "-> hpso 33 : Rflop_grid = 2.56 Peta\n",
      "-> hpso 33 : Rflop_proj = 5.76e-09 Peta\n",
      "-> hpso 33 : Rflop_phrot = 0.156 Peta\n",
      "-> hpso 33 : Rflop = 39.5 Peta\n",
      "-> hpso 33 : Mbuf_vis = 19.2 Peta\n",
      "-> hpso 33 : Mw_cache = 0.147 Peta\n",
      "-> hpso 33 : Npix_linear = 12191.3\n",
      "-> hpso 33 : Rio = 0.0783 Peta\n",
      ".\n",
      ">> Evaluating HPSO 37a\n",
      "Optimal (Tsnap, Nfacet) values = (5132.01 sec, 9)\n",
      "-> hpso 37a : Rflop_conv = 17.9 Peta\n",
      "-> hpso 37a : Rflop_fft = 23.2 Peta\n",
      "-> hpso 37a : Rflop_grid = 8.9 Peta\n",
      "-> hpso 37a : Rflop_proj = 2.08e-10 Peta\n",
      "-> hpso 37a : Rflop_phrot = 2.93 Peta\n",
      "-> hpso 37a : Rflop = 52.9 Peta\n",
      "-> hpso 37a : Mbuf_vis = 73.9 Peta\n",
      "-> hpso 37a : Mw_cache = 0.0496 Peta\n",
      "-> hpso 37a : Npix_linear = 21673.4\n",
      "-> hpso 37a : Rio = 1.52 Peta\n",
      ".\n",
      ">> Evaluating HPSO 37b\n",
      "Optimal (Tsnap, Nfacet) values = (5132.01 sec, 9)\n",
      "-> hpso 37b : Rflop_conv = 17.9 Peta\n",
      "-> hpso 37b : Rflop_fft = 23.2 Peta\n",
      "-> hpso 37b : Rflop_grid = 8.9 Peta\n",
      "-> hpso 37b : Rflop_proj = 2.08e-10 Peta\n",
      "-> hpso 37b : Rflop_phrot = 2.93 Peta\n",
      "-> hpso 37b : Rflop = 52.9 Peta\n",
      "-> hpso 37b : Mbuf_vis = 73.9 Peta\n",
      "-> hpso 37b : Mw_cache = 0.0496 Peta\n",
      "-> hpso 37b : Npix_linear = 21673.4\n",
      "-> hpso 37b : Rio = 1.52 Peta\n",
      ".\n",
      ">> Evaluating HPSO 37c\n",
      "Optimal (Tsnap, Nfacet) values = (2564.87 sec, 4)\n",
      "-> hpso 37c : Rflop_conv = 18.7 Peta\n",
      "-> hpso 37c : Rflop_fft = 18.1 Peta\n",
      "-> hpso 37c : Rflop_grid = 2.56 Peta\n",
      "-> hpso 37c : Rflop_proj = 5.76e-09 Peta\n",
      "-> hpso 37c : Rflop_phrot = 0.156 Peta\n",
      "-> hpso 37c : Rflop = 39.5 Peta\n",
      "-> hpso 37c : Mbuf_vis = 19.2 Peta\n",
      "-> hpso 37c : Mw_cache = 0.147 Peta\n",
      "-> hpso 37c : Npix_linear = 12191.3\n",
      "-> hpso 37c : Rio = 0.0783 Peta\n",
      ".\n",
      ">> Evaluating HPSO 38a\n",
      "Optimal (Tsnap, Nfacet) values = (10800.00 sec, 6)\n",
      "-> hpso 38a : Rflop_conv = 6.08 Peta\n",
      "-> hpso 38a : Rflop_fft = 9.42 Peta\n",
      "-> hpso 38a : Rflop_grid = 6.12 Peta\n",
      "-> hpso 38a : Rflop_proj = 2.2e-10 Peta\n",
      "-> hpso 38a : Rflop_phrot = 1.12 Peta\n",
      "-> hpso 38a : Rflop = 22.7 Peta\n",
      "-> hpso 38a : Mbuf_vis = 62.9 Peta\n",
      "-> hpso 38a : Mw_cache = 0.0186 Peta\n",
      "-> hpso 38a : Npix_linear = 32510\n",
      "-> hpso 38a : Rio = 0.577 Peta\n",
      ".\n",
      ">> Evaluating HPSO 38b\n",
      "Optimal (Tsnap, Nfacet) values = (10800.00 sec, 6)\n",
      "-> hpso 38b : Rflop_conv = 6.08 Peta\n",
      "-> hpso 38b : Rflop_fft = 9.42 Peta\n",
      "-> hpso 38b : Rflop_grid = 6.12 Peta\n",
      "-> hpso 38b : Rflop_proj = 2.2e-10 Peta\n",
      "-> hpso 38b : Rflop_phrot = 1.12 Peta\n",
      "-> hpso 38b : Rflop = 22.7 Peta\n",
      "-> hpso 38b : Mbuf_vis = 62.9 Peta\n",
      "-> hpso 38b : Mw_cache = 0.0186 Peta\n",
      "-> hpso 38b : Npix_linear = 32510\n",
      "-> hpso 38b : Rio = 0.577 Peta\n",
      "\n",
      ">>> Done!\n"
     ]
    }
   ],
   "source": [
    "from equations import Equations as f  # Letter f is used because class used to be called \"Formulae\"\n",
    "from parameter_definitions import ParameterDefinitions as p\n",
    "from implementation import Implementation as i\n",
    "from implementation import ParameterContainer\n",
    "from sympy import Max, ceiling\n",
    "\n",
    "#hpso_keys = ['01','02A','02B','14', '14c', '14s','22','37a','37b','38a','38b','13', '13c','13s','15','15c', '15s','27','33','37c']\n",
    "#hpso_keys.sort()\n",
    "hpso_keys = [HPSOs.hpso01, HPSOs.hpso02A, HPSOs.hpso02B, HPSOs.hpso14, HPSOs.hpso14c, HPSOs.hpso14s, HPSOs.hpso14sfull, \n",
    "             HPSOs.hpso22, HPSOs.hpso37a, HPSOs.hpso37b, HPSOs.hpso38a, HPSOs.hpso38b, HPSOs.hpso13, HPSOs.hpso13c,\n",
    "             HPSOs.hpso13s, HPSOs.hpso15, HPSOs.hpso15c, HPSOs.hpso15s, HPSOs.hpso27, HPSOs.hpso33, HPSOs.hpso37c]\n",
    "hpso_keys.sort()\n",
    "HPSOs.hpso01\n",
    "\n",
    "non_peta_values = ('Npix_linear')\n",
    "values_to_take_max = ('Npix_linear')\n",
    "\n",
    "results = {}\n",
    "temp = ParameterContainer()\n",
    "for hpso_key in hpso_keys:\n",
    "    print '.\\n>> Evaluating HPSO %s' % hpso_key\n",
    "    p.apply_hpso_parameters(temp, hpso_key)\n",
    "    tel = temp.telescope\n",
    "    if temp.mode == ImagingModes.ContAndSpectral:\n",
    "        tpc = i.calc_tel_params(tel, ImagingModes.Continuum, hpso=hpso_key)\n",
    "        tps = i.calc_tel_params(tel, ImagingModes.Spectral, hpso=hpso_key)\n",
    "        (Tsnap_opt_C, Nfacet_opt_C) = i.find_optimal_Tsnap_Nfacet(tpc)\n",
    "        (Tsnap_opt_S, Nfacet_opt_S) = i.find_optimal_Tsnap_Nfacet(tps)\n",
    "        \n",
    "        print 'Optimal (Tsnap, Nfacet) values = (%.2f sec, %d) for Continuum and (%.2f sec, %d) for Spectral' \\\n",
    "            % (Tsnap_opt_C, Nfacet_opt_C, Tsnap_opt_S, Nfacet_opt_S)\n",
    "        substitution_c = {tpc.Tsnap : Tsnap_opt, tpc.Nfacet : Nfacet_opt}\n",
    "        substitution_s = {tps.Tsnap : Tsnap_opt, tps.Nfacet : Nfacet_opt}\n",
    "\n",
    "        expressions_c = (tpc.Rflop_conv, tpc.Rflop_fft, tpc.Rflop_grid, tpc.Rflop_proj, tpc.Rflop_phrot, tpc.Rflop, tpc.Mbuf_vis, tpc.Mw_cache, tpc.Npix_linear, tpc.Rio)\n",
    "        expressions_s = (tps.Rflop_conv, tps.Rflop_fft, tps.Rflop_grid, tps.Rflop_proj, tps.Rflop_phrot, tps.Rflop, tps.Mbuf_vis, tps.Mw_cache, tps.Npix_linear, tps.Rio)\n",
    "        expression_strings = ('Rflop_conv', 'Rflop_fft', 'Rflop_grid', 'Rflop_proj', 'Rflop_phrot', 'Rflop', 'Mbuf_vis', 'Mw_cache', 'Npix_linear', 'Rio')\n",
    "        key_expressions_c = zip(expression_strings, expressions_c)\n",
    "        key_expressions_s = zip(expression_strings, expressions_s)\n",
    "\n",
    "        for index in range(len(key_expressions)):\n",
    "            key_expression_c = key_expressions_c[index]\n",
    "            key_expression_s = key_expressions_s[index]\n",
    "            key = key_expression_c[0]\n",
    "            take_max = (key in values_to_take_max)\n",
    "            \n",
    "            expression_c = key_expression_c[1]\n",
    "            expression_s = key_expression_s[1]\n",
    "            if not (isinstance(expression_c, (int, long)) or isinstance(expression_c, float)):\n",
    "                expression_subst_c = expression_c.subs(substitution_c)\n",
    "            else:\n",
    "                expression_subst_c = expression_c\n",
    "            if not (isinstance(expression_s, (int, long)) or isinstance(expression_s, float)):\n",
    "                expression_subst_s = expression_s.subs(substitution_s)\n",
    "            else:\n",
    "                expression_subst_s = expression_s\n",
    "                \n",
    "            if take_max:\n",
    "                result = Max(i.evaluate_binned_expression(expression_subst_c, tpc, take_max=True),\n",
    "                             i.evaluate_binned_expression(expression_subst_s, tps, take_max=True))\n",
    "            else:\n",
    "                result = i.evaluate_binned_expression(expression_subst_c, tpc) + \\\n",
    "                         i.evaluate_binned_expression(expression_subst_s, tps) \n",
    "                \n",
    "            results[(hpso_key, temp.mode, key)] = result\n",
    "            \n",
    "            if key in non_peta_values:\n",
    "                print '-> hpso %s : %s = %g' % (hpso_key, key, result)\n",
    "            else:    \n",
    "                print '-> hpso %s : %s = %.3g Peta' % (hpso_key, key, result/1e15)        \n",
    "    else:\n",
    "        tp = i.calc_tel_params(tel, temp.mode, hpso=hpso_key)\n",
    "        (Tsnap_opt, Nfacet_opt) = i.find_optimal_Tsnap_Nfacet(tp)\n",
    "        print 'Optimal (Tsnap, Nfacet) values = (%.2f sec, %d)' % (Tsnap_opt, Nfacet_opt)\n",
    "        substitution = {tp.Tsnap : Tsnap_opt, tp.Nfacet : Nfacet_opt}\n",
    "\n",
    "        expressions = (tp.Rflop_conv, tp.Rflop_fft, tp.Rflop_grid, tp.Rflop_proj, tp.Rflop_phrot, tp.Rflop, tp.Mbuf_vis, tp.Mw_cache, tp.Npix_linear, tp.Rio)\n",
    "        expression_strings = ('Rflop_conv', 'Rflop_fft', 'Rflop_grid', 'Rflop_proj', 'Rflop_phrot', 'Rflop', 'Mbuf_vis', 'Mw_cache', 'Npix_linear', 'Rio')\n",
    "        key_expressions = zip(expression_strings, expressions)\n",
    "        \n",
    "        for key_expression in key_expressions: \n",
    "            key = key_expression[0]\n",
    "            expression = key_expression[1]\n",
    "            if not (isinstance( expression, ( int, long )) or isinstance(expression, float)):\n",
    "                expression_subst = expression.subs(substitution)\n",
    "            else:\n",
    "                expression_subst = expression\n",
    "            result = i.evaluate_binned_expression(expression_subst, tp)\n",
    "            results[(hpso_key, temp.mode, key)] = result\n",
    "            \n",
    "            if key in non_peta_values:\n",
    "                print '-> hpso %s : %s = %g' % (hpso_key, key, result)\n",
    "            else:    \n",
    "                print '-> hpso %s : %s = %.3g Peta' % (hpso_key, key, result/1e15)\n",
    "\n",
    "print '\\n>>> Done!'"
   ]
  },
  {
   "cell_type": "markdown",
   "metadata": {},
   "source": [
    "## Compute the SDP's power usage for the three telescopes:"
   ]
  },
  {
   "cell_type": "markdown",
   "metadata": {},
   "source": [
    "This code block contains simple arithmetic that (for a large part) currently does NOT read its values automatically from the computations above, but are manually entered. Some of this is required because power usage values are listed in the Cost Model, and there currently exists no programmatic link between the cost model and this notebook.\n",
    "\n",
    "### Note that this is a slightly crude approximation. We can do better by directly linking to the Google Sheets Cost model using the Coode Sheets Python API (To be done)"
   ]
  },
  {
   "cell_type": "code",
   "execution_count": 10,
   "metadata": {
    "collapsed": false
   },
   "outputs": [
    {
     "name": "stdout",
     "output_type": "stream",
     "text": [
      "IPython console for SymPy 0.7.6 (Python 2.7.7-32-bit) (ground types: python)\n"
     ]
    }
   ],
   "source": [
    "import sympy.physics.units as u\n",
    "from sympy import init_session\n",
    "init_session(\n",
    "    use_latex=True,\n",
    "    use_unicode=True,\n",
    "    pretty_print=True,\n",
    "    quiet=True,\n",
    ")\n",
    "from sympy import Matrix, Max, ceiling\n",
    "\n",
    "def divide_elementwise(A,B):\n",
    "    '''\n",
    "    Does an element-wise division A/B between two sympy matrices A and B\n",
    "    '''\n",
    "    m, n = A.shape\n",
    "    m2, n2 = B.shape\n",
    "    C = A.copy()\n",
    "    assert (m, n) == (m2, n2)\n",
    "    for i in range(m):\n",
    "        for j in range(n):\n",
    "            C[i,j] = A[i,j] / B[i,j]\n",
    "    return C\n",
    "\n",
    "def ceiling_elementwise(A): \n",
    "    '''\n",
    "    Does an element-wise division A/B between two sympy matrices A and B\n",
    "    '''\n",
    "    m, n = A.shape\n",
    "    B = A.copy()\n",
    "    for i in range(m):\n",
    "        for j in range(n):\n",
    "            B[i,j] = ceiling(A[i,j])\n",
    "    return B\n",
    "\n",
    "def max_elementwise(A, B): \n",
    "    '''\n",
    "    Does an element-wise division A/B between two sympy matrices A and B\n",
    "    '''\n",
    "    m, n = A.shape\n",
    "    m2, n2 = B.shape\n",
    "    C = A.copy()\n",
    "    assert (m, n) == (m2, n2)\n",
    "    for i in range(m):\n",
    "        for j in range(n):\n",
    "            C[i,j] = Max(A[i,j], B[i,j])\n",
    "    return C\n",
    "\n",
    "\n",
    "'''\n",
    "Power usage.\n",
    "(don't be alarmed by all the kg*m^2/s^3 symbols -- that is just the SI definition of Watt. - can be fixed by calling\n",
    "simplify(... / u.W))\n",
    "'''\n",
    "\n",
    "'''\n",
    "The derivations below are at times somewhat simplified from their full definitions in PDR05.\n",
    "Where simplification took place, this is commented as '# simplification'\n",
    "Results are vectorized as sympy Matrices in the following order: [Low, Mid, Survey]'\n",
    "'''\n",
    "Rflops = Matrix((24.73, 51.64, 71.8)) * 1e15  # Replace by explicitly computed Rflop values\n",
    "Mbuf_viss = Matrix((237.5, 29.8, 87.7)) * 1e15 # Replace by explicitly computed Mbuf_vis values\n",
    "\n",
    "# OR Define vectors to represent the flop rates and visibility buffer sizes (can be used as dynamically specified arguments, using lambdify)\n",
    "'''\n",
    "Rflop_low, Rflop_mid, Rflop_sur = symbols(\"R_{flop\\,low} R_{flop\\,mid} R_{flop\\,sur}\", positive=True) # Reprojection Flop rate, per telescope\n",
    "Mbuf_low, Mbuf_mid, Mbuf_sur = symbols(\"M_{vbuf\\,low} M_{vbuf\\,mid} M_{vbuf\\,sur}\", positive=True)    # Visibility buffer size, per telescope\n",
    "Rflops = Matrix((Rflop_low, Rflop_mid, Rflop_sur))\n",
    "Mbuf_viss = Matrix((Mbuf_low, Mbuf_mid, Mbuf_sur))\n",
    "'''\n",
    "\n",
    "Tobss = Matrix((6, 6, 6)) * u.hours  # The observation time for Continuum and Spectral modes (1.2 seconds for SlowTrans)\n",
    "ingest_rate = divide_elementwise(Mbuf_viss, Tobss)\n",
    "\n",
    "#\"Koomey's Law\" power efficiency increase in 2022, compared to 2014\n",
    "Moore_pre_2020 = 24 # months\n",
    "Moore_post_2020 = 36 # months\n",
    "Moore_factor = np.power(np.power(2,(12.0/Moore_pre_2020)),(2020-2014)) * np.power(np.power(2,(12/Moore_post_2020)),(2022-2020))\n",
    "magnetic_density_increase = 1.3 # growth factor per year\n",
    "magnetic_factor = np.power(magnetic_density_increase, (2022-2014))\n",
    "\n",
    "###### COMPUTE NODES #############################\n",
    "\n",
    "# The composition of nodes and islands are assumed identical for all three telescopes.\n",
    "flops_per_gpu = 22.4 * 1e12   # Peak FLOPS per node GPU in 2022 (Depends on Moore's law.)\n",
    "gpus_per_node = 2\n",
    "compute_efficiency = 0.25  # computing efficiency per node, in 2022; 100% = 1.0\n",
    "n_nodes_per_compute_island = 56  # number of compute nodes per compute island\n",
    "P_gpu = 300 * u.W # Power required by a single GPU\n",
    "underclock_rate = 0.85 # where 1.0 = 100%\n",
    "P_compute_node = 300 * u.W + P_gpu * gpus_per_node * underclock_rate  # Power required by computations for each note\n",
    "P_compute_island_overhead = 4000 * u.W  # non-compute overheads for each island = simplification from cost model's \"Compute Island Hardware\" sheet \n",
    "\n",
    "n_cmp_nodes = ceiling_elementwise(Rflops / (flops_per_gpu * gpus_per_node * compute_efficiency))\n",
    "n_cmp_islands = ceiling_elementwise(n_cmp_nodes / n_nodes_per_compute_island)\n",
    "\n",
    "P_cmp_islnds = (P_compute_node * n_cmp_nodes) + (P_compute_island_overhead * n_cmp_islands)\n",
    "\n",
    "###### NETWORKING ################################\n",
    "ingest_data_rate = divide_elementwise(Mbuf_viss, 2*Tobss) # Factor of 1/2 because we're working with a double buffer, only half of which needs to be read out.\n",
    "\n",
    "network_speed = 40e9 / (8.0 * u.s) # 40 GbE, expressed as bytes per second\n",
    "P_ToR = 240 * u.W  # For a single Top-of-Rack network switch\n",
    "network_protocol_overhead = 0.25 # 100% = 1.0\n",
    "network_occupancy = 1.0  # 100% = 1.0\n",
    "tor_links_up = Matrix((4, 4, 4))\n",
    "tor_links_down = Matrix((n_nodes_per_compute_island, n_nodes_per_compute_island, n_nodes_per_compute_island))\n",
    "stage2_links_up = Matrix((18, 8, 8))\n",
    "stage2_links_down = Matrix((18, 28, 28))\n",
    "stage3_links_down = Matrix((18, 18, 18))\n",
    "\n",
    "n_2nd_stages = n_cmp_islands.multiply_elementwise(divide_elementwise(tor_links_up, stage2_links_down))\n",
    "n_2nd_stages[0] *= 2  # Due to extra set of ToR switches for Low (why?)\n",
    "n_2nd_stages = ceiling_elementwise(n_2nd_stages)\n",
    "\n",
    "n_ports = ceiling_elementwise((ingest_data_rate * (1+network_protocol_overhead) * network_occupancy / network_speed))\n",
    "\n",
    "n_3rd_stages = ceiling_elementwise(divide_elementwise(max_elementwise(n_2nd_stages.multiply_elementwise(stage2_links_up), n_ports),stage3_links_down))\n",
    "\n",
    "P_network = (n_cmp_islands + n_2nd_stages + n_3rd_stages) * P_ToR\n",
    "\n",
    "###### BUFFER ##########################################\n",
    "# LOW uses SAS, MID & SUR use SSD. Power per unit, divided by unit size (in Bytes)\n",
    "buffer_P_per_byte_sata = (1.5 / 1e12) / magnetic_factor * u.W\n",
    "buffer_P_per_byte_maid = (0.1 / 1e12) / magnetic_factor * u.W  # Would Koomey's law also hold for MAID?\n",
    "buffer_P_per_byte_sas  = (5.5 / 1e12) / magnetic_factor * u.W\n",
    "buffer_P_per_byte_ssd  = (3.2 / 1e12) / Moore_factor * u.W\n",
    "buffer_P_per_byte_dram = (4   / 16e9) / Moore_factor * u.W\n",
    "buffer_power_per_byte = 0.1*buffer_P_per_byte_ssd + 0.9*buffer_P_per_byte_sata\n",
    "P_buffer = Mbuf_viss * buffer_power_per_byte \n",
    "\n",
    "###### ISLAND MANAGEMENT ##############################\n",
    "P_mgmt_node = 600 * u.W  # Power in Watts for a single compute node. Assumed identical for all three telescopes\n",
    "P_mgmt_island_overhead = 4240 * u.W  # simplification\n",
    "n_mgmt_units = Matrix((2, 2, 2))\n",
    "P_mgmt = n_mgmt_units * (P_mgmt_node * n_nodes_per_compute_island + P_mgmt_island_overhead)\n",
    "\n",
    "###### Hierarchical Storage ##############################\n",
    "medium_performance_buffer = Matrix((30, 100, 70))*1e15         # PetaBytes. From Cost model (hard coded values)\n",
    "science_archive_data_vol = Matrix((575, 1150, 575))*1e15       # PetaBytes. For HPSOs from Cost model (hard coded values)\n",
    "discovery_archive_data_vol = Matrix((6500, 27000, 19000))*1e15 # PetaBytes per year. From Cost model (hard coded values)\n",
    "Long_term_storage_vol = 2 * science_archive_data_vol\n",
    "\n",
    "P_discovery = discovery_archive_data_vol * buffer_P_per_byte_maid\n",
    "P_archive_store = medium_performance_buffer*buffer_P_per_byte_sata + Long_term_storage_vol*buffer_P_per_byte_maid\n",
    "\n",
    "### Hierarchival Storage network switching (currently assumed to be zero) ###\n",
    "hpso_archive_volume = Matrix((0, 0, 0))\n",
    "P_2nd_stage = P_ToR\n",
    "n_1st_stage_arch_sw = ceiling_elementwise(n_cmp_islands * 3 / 24.0)\n",
    "n_2nd_stage_arch_sw = ceiling_elementwise(n_1st_stage_arch_sw * 12 / 36.0)\n",
    "n_arch_coresw = n_1st_stage_arch_sw + n_2nd_stage_arch_sw\n",
    "P_arch_coresw = n_arch_coresw * P_2nd_stage  # simplification\n",
    "\n",
    "P_ll_coresw = P_arch_coresw  # simplification\n",
    "P_archive_unit = Matrix((0, 0, 0)) * u.W  # simplification\n",
    "\n",
    "###### COMBINING IT ALL ################################\n",
    "P_sdp = P_cmp_islnds + P_network + P_mgmt + P_arch_coresw + P_ll_coresw + P_archive_unit + P_buffer + P_archive_store"
   ]
  },
  {
   "cell_type": "code",
   "execution_count": 11,
   "metadata": {
    "collapsed": false
   },
   "outputs": [
    {
     "name": "stdout",
     "output_type": "stream",
     "text": [
      "IPython console for SymPy 0.7.6 (Python 2.7.7-32-bit) (ground types: python)\n"
     ]
    }
   ],
   "source": [
    "init_session(\n",
    "    use_latex=False,\n",
    "    use_unicode=True,\n",
    "    pretty_print=True,\n",
    "    quiet=True,\n",
    ")"
   ]
  },
  {
   "cell_type": "code",
   "execution_count": 12,
   "metadata": {
    "collapsed": false
   },
   "outputs": [
    {
     "data": {
      "text/plain": [
       "⎡19.6143158374441⎤\n",
       "⎢                ⎥\n",
       "⎢46.5840001139297⎥\n",
       "⎢                ⎥\n",
       "⎣26.9696842764856⎦"
      ]
     },
     "execution_count": 12,
     "metadata": {},
     "output_type": "execute_result"
    }
   ],
   "source": [
    "# The archive store (medium performance buffer + hierarchical archive) uses the following amount of kW (LOW, MID, SURVEY)\n",
    "P_archive_store / (1e3*u.W)"
   ]
  },
  {
   "cell_type": "code",
   "execution_count": 13,
   "metadata": {
    "collapsed": false
   },
   "outputs": [
    {
     "data": {
      "text/plain": [
       "⎡45.2898750831289⎤\n",
       "⎢                ⎥\n",
       "⎢5.6826874841147 ⎥\n",
       "⎢                ⎥\n",
       "⎣16.7238822938543⎦"
      ]
     },
     "execution_count": 13,
     "metadata": {},
     "output_type": "execute_result"
    }
   ],
   "source": [
    "# The (fast) buffer uses the following amount of kW (LOW, MID, SURVEY)\n",
    "P_buffer / (1e3*u.W)"
   ]
  },
  {
   "cell_type": "code",
   "execution_count": 14,
   "metadata": {
    "collapsed": false
   },
   "outputs": [
    {
     "data": {
      "text/plain": [
       "⎡79.6831580896167⎤\n",
       "⎢                ⎥\n",
       "⎢330.991579756869⎥\n",
       "⎢                ⎥\n",
       "⎣232.920000569649⎦"
      ]
     },
     "execution_count": 14,
     "metadata": {},
     "output_type": "execute_result"
    }
   ],
   "source": [
    "# The discovery archive's power usage grows by the following amount of kW per year (LOW, MID, SURVEY)\n",
    "P_discovery / (1e3*u.W)"
   ]
  },
  {
   "cell_type": "code",
   "execution_count": 15,
   "metadata": {
    "collapsed": false
   },
   "outputs": [
    {
     "data": {
      "text/plain": [
       "⎡2125.63419092057⎤\n",
       "⎢                ⎥\n",
       "⎢4227.25668759804⎥\n",
       "⎢                ⎥\n",
       "⎣5820.52356657034⎦"
      ]
     },
     "execution_count": 15,
     "metadata": {},
     "output_type": "execute_result"
    }
   ],
   "source": [
    "# The complete SDP uses the following amount of kW (LOW, MID, SURVEY). Note that it is dominated by the compute nodes.\n",
    "P_sdp / (1e3*u.W)"
   ]
  },
  {
   "cell_type": "markdown",
   "metadata": {},
   "source": [
    "# Code blocks below this line are  outdated and currently don't run"
   ]
  },
  {
   "cell_type": "markdown",
   "metadata": {},
   "source": [
    "## The code block below was used to parametrize the total power as a function of its inputs."
   ]
  },
  {
   "cell_type": "raw",
   "metadata": {},
   "source": []
  },
  {
   "cell_type": "markdown",
   "metadata": {},
   "source": [
    "# Optimize the SDP to meet power constraints"
   ]
  },
  {
   "cell_type": "code",
   "execution_count": 17,
   "metadata": {
    "collapsed": true
   },
   "outputs": [],
   "source": [
    "# The power contraints for [Low, Mid, Survey], in Watts, are:\n",
    "\n",
    "power_limit_bestcase = [1.5e6  * u.W, 5e6 * u.W, 4e6 * u.W]\n",
    "power_limit_likely   = [0.75e6 * u.W, 2.5e6 * u.W, 2e6 * u.W]"
   ]
  },
  {
   "cell_type": "code",
   "execution_count": 29,
   "metadata": {
    "collapsed": true
   },
   "outputs": [],
   "source": [
    "tp = i.calc_tel_params(Telescopes.SKA1_Mid, ImagingModes.Spectral, band=Bands.Mid1)"
   ]
  },
  {
   "cell_type": "code",
   "execution_count": 30,
   "metadata": {
    "collapsed": false
   },
   "outputs": [
    {
     "data": {
      "text/plain": [
       "<implementation.ParameterContainer instance at 0x000000000C3C4848>"
      ]
     },
     "execution_count": 30,
     "metadata": {},
     "output_type": "execute_result"
    }
   ],
   "source": [
    "tp"
   ]
  },
  {
   "cell_type": "code",
   "execution_count": 31,
   "metadata": {
    "collapsed": true
   },
   "outputs": [],
   "source": [
    "f.compute_derived_parameters(tp, ImagingModes.Spectral)"
   ]
  },
  {
   "cell_type": "code",
   "execution_count": 32,
   "metadata": {
    "collapsed": false
   },
   "outputs": [
    {
     "data": {
      "image/png": "[encoded data removed]"
     },
     "metadata": {},
     "output_type": "display_data"
    }
   ],
   "source": [
    "tp.wl_max"
   ]
  },
  {
   "cell_type": "code",
   "execution_count": 19,
   "metadata": {
    "collapsed": false
   },
   "outputs": [
    {
     "ename": "NameError",
     "evalue": "name 'Rflop_mid' is not defined",
     "output_type": "error",
     "traceback": [
      "\u001b[1;31m---------------------------------------------------------------------------\u001b[0m",
      "\u001b[1;31mNameError\u001b[0m                                 Traceback (most recent call last)",
      "\u001b[1;32m<ipython-input-19-dc5bb46af4b0>\u001b[0m in \u001b[0;36m<module>\u001b[1;34m()\u001b[0m\n\u001b[0;32m      3\u001b[0m \u001b[0mexpression_to_minimise\u001b[0m \u001b[1;33m=\u001b[0m \u001b[0mabs\u001b[0m\u001b[1;33m(\u001b[0m\u001b[0mP_mid\u001b[0m \u001b[1;33m-\u001b[0m \u001b[0mP_target\u001b[0m\u001b[1;33m)\u001b[0m\u001b[1;33m\u001b[0m\u001b[0m\n\u001b[0;32m      4\u001b[0m \u001b[1;33m\u001b[0m\u001b[0m\n\u001b[1;32m----> 5\u001b[1;33m \u001b[0mexpr_eval\u001b[0m \u001b[1;33m=\u001b[0m \u001b[0mlambdify\u001b[0m\u001b[1;33m(\u001b[0m\u001b[1;33m(\u001b[0m\u001b[0mRflop_mid\u001b[0m\u001b[1;33m,\u001b[0m \u001b[0mMbuf_mid\u001b[0m\u001b[1;33m)\u001b[0m\u001b[1;33m,\u001b[0m \u001b[0mremove_units\u001b[0m\u001b[1;33m(\u001b[0m\u001b[0mexpression_to_minimise\u001b[0m\u001b[1;33m)\u001b[0m\u001b[1;33m,\u001b[0m\u001b[0mmodules\u001b[0m\u001b[1;33m=\u001b[0m\u001b[1;34m\"sympy\"\u001b[0m\u001b[1;33m)\u001b[0m  \u001b[1;31m# Define Lambda expression in two variables\u001b[0m\u001b[1;33m\u001b[0m\u001b[0m\n\u001b[0m\u001b[0;32m      6\u001b[0m \u001b[0mexpr_eval_float\u001b[0m \u001b[1;33m=\u001b[0m \u001b[1;32mlambda\u001b[0m \u001b[0mx\u001b[0m\u001b[1;33m:\u001b[0m \u001b[0mfloat\u001b[0m\u001b[1;33m(\u001b[0m\u001b[0mexpr_eval\u001b[0m\u001b[1;33m(\u001b[0m\u001b[0mx\u001b[0m\u001b[1;33m,\u001b[0m \u001b[0mmbf\u001b[0m\u001b[1;33m[\u001b[0m\u001b[1;36m1\u001b[0m\u001b[1;33m]\u001b[0m\u001b[1;33m)\u001b[0m\u001b[1;33m)\u001b[0m  \u001b[1;31m# Define Power of MID as a function of one free variable: Rflop_mid\u001b[0m\u001b[1;33m\u001b[0m\u001b[0m\n",
      "\u001b[1;31mNameError\u001b[0m: name 'Rflop_mid' is not defined"
     ]
    }
   ],
   "source": [
    "P_mid = P_sdp[1]\n",
    "P_target = i.remove_units(power_limit_likely[1])\n",
    "expression_to_minimise = abs(P_mid - P_target)\n",
    "\n",
    "expr_eval = lambdify((Rflop_mid, Mbuf_mid), remove_units(expression_to_minimise),modules=\"sympy\")  # Define Lambda expression in two variables\n",
    "expr_eval_float = lambda x: float(expr_eval(x, mbf[1]))  # Define Power of MID as a function of one free variable: Rflop_mid"
   ]
  },
  {
   "cell_type": "code",
   "execution_count": null,
   "metadata": {
    "collapsed": true
   },
   "outputs": [],
   "source": [
    "# We now minimize the desired expression (which equals absolute deviation from our target power Wattage) by varying the free \n",
    "# parameter - which in this case is Rflop_mid\n",
    "result = opt.minimize_scalar(expr_eval_float, bounds=(0, rfl[1]), method='bounded')\n",
    "print result"
   ]
  },
  {
   "cell_type": "raw",
   "metadata": {},
   "source": []
  },
  {
   "cell_type": "code",
   "execution_count": null,
   "metadata": {
    "collapsed": true
   },
   "outputs": [],
   "source": [
    "# We can verify this (look at the middle value, when substituting Rflop_mid with result.x)\n",
    "P_sdp_eval(rfl[0],result.x,rfl[2],mbf[0],mbf[1],mbf[2])/1e6"
   ]
  },
  {
   "cell_type": "raw",
   "metadata": {},
   "source": []
  },
  {
   "cell_type": "markdown",
   "metadata": {},
   "source": [
    "# All lines of code below this line are from previous versions of the notebook, and might not run in current form"
   ]
  },
  {
   "cell_type": "code",
   "execution_count": null,
   "metadata": {
    "collapsed": true
   },
   "outputs": [],
   "source": [
    "Rflop_target = result.x\n",
    "print 'FLOP target (in this example) for Mid = %g' % Rflop_target\n",
    "chosen_band = 'Mid1'\n",
    "chosen_mode = 'Spectral'\n",
    "(Tsnap_opt, Nfacet_opt) = find_optimal_Tsnap_Nfacet(band=chosen_band, mode=chosen_mode)\n",
    "telescope_parameters = calc_tel_params(band=chosen_band, mode=chosen_mode)\n",
    "telescope_parameters[Tsnap] = Tsnap_opt\n",
    "telescope_parameters[Nfacet] = Nfacet_opt\n",
    "result_flops = evaluate_expression(Rflop, telescope_parameters)"
   ]
  },
  {
   "cell_type": "code",
   "execution_count": null,
   "metadata": {
    "collapsed": true
   },
   "outputs": [],
   "source": [
    "print 'Using the maximum baseline specs, band %s (%s) requires %g FLOPS.' % (chosen_band, chosen_mode, result_flops)"
   ]
  },
  {
   "cell_type": "code",
   "execution_count": null,
   "metadata": {
    "collapsed": true
   },
   "outputs": [],
   "source": [
    "# We now make Bmax a free (undefined) parameter\n",
    "telescope_parameters.pop(Bmax)\n",
    "\n",
    "# And from here on we do the same type of optimization as before\n",
    "expression_to_minimise = abs(Rflop - Rflop_target).subs(telescope_parameters).subs(telescope_parameters)\n",
    "expr_eval = lambdify(Bmax, remove_units(expression_to_minimise),modules=\"sympy\")  # Define Lambda expression in one variable\n",
    "expr_eval_float = lambda x: float(expr_eval(x))  # Define deviation of RFlop from the set target as a function of one free variable: Bmax\n",
    "# We now minimize the desired expression (which equals absolute deviation from our target FLOP rate) by varying the free \n",
    "# parameter - which in this case is Bmax\n",
    "result = opt.minimize_scalar(expr_eval_float, bounds=(0, remove_units(telescope_params[Bmax_ref])), method='bounded')\n",
    "print result"
   ]
  },
  {
   "cell_type": "raw",
   "metadata": {},
   "source": []
  }
 ],
 "metadata": {
  "kernelspec": {
   "display_name": "Python 2",
   "language": "python",
   "name": "python2"
  },
  "language_info": {
   "codemirror_mode": {
    "name": "ipython",
    "version": 2
   },
   "file_extension": ".py",
   "mimetype": "text/x-python",
   "name": "python",
   "nbconvert_exporter": "python",
   "pygments_lexer": "ipython2",
   "version": "2.7.7"
  }
 },
 "nbformat": 4,
 "nbformat_minor": 0
}
