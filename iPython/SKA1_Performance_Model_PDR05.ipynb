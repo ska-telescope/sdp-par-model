{
 "metadata": {
  "name": "",
  "signature": "sha256:611a58e7b229df89f3075dcf0194baf6b7c664e0dcf7f6e10f159635a2715f26"
 },
 "nbformat": 3,
 "nbformat_minor": 0,
 "worksheets": [
  {
   "cells": [
    {
     "cell_type": "markdown",
     "metadata": {},
     "source": [
      "_This notebook started out as a direct iPython translation of the **M7 PDR05 Excel Spreadsheet**, implemented in a similar way as originally done by **Juande Santander-Vela** in his separate analysis of the M7 Milestone PDR05 (MS Word) document._\n",
      "\n",
      "_This is an interactive document. **sympy** and **astropy** are required to evaluate some of the blocks of code. While overlapping in scope with \"Full Computational Requirements for SDP.ipynb\" and \"Parametric Models of SDP Compute Requirements.ipynb\", this document was independently derived._ \n",
      "\n",
      "_Equations may be evaluated for the different telescopes and imaging modes, either numerically or symbolically_ \n",
      "\n",
      "_The owner of this notebook document is **Francois Malan** of Space Advisory Company._"
     ]
    },
    {
     "cell_type": "heading",
     "level": 1,
     "metadata": {},
     "source": [
      "1. Definitions:"
     ]
    },
    {
     "cell_type": "markdown",
     "metadata": {},
     "source": [
      "_If any of these values need to be changed, this should be done in the \"Implementation\" section lower down. The display-formatted text in this \"Definitions\" section is (as you may have guessed) just for display purposes._ "
     ]
    },
    {
     "cell_type": "markdown",
     "metadata": {},
     "source": [
      "**Output Parameters we are interested in:**\n",
      "\n",
      "|**Symbol**|**Python**|**Description**|\n",
      "|-|-|-|\n",
      "| $M_{buf,vis}$ | Mbuf_vis | Buffer size (bytes) |\n",
      "| $M_{w,cache}$ | Mw_cache | w-convolution kernel cache size |\n",
      "| $N_{pix,linear}$ | Npix_linear | The linear number of pixels along the image's side (assumed to be square)|\n",
      "| $R_{FLOP}$ | Rflop | Overall flop rate |\n",
      "| $R_{IO}$ | Rio | Overall I/O rate, (bytes/s) |\n",
      "\n",
      "** Physical constants **\n",
      "\n",
      "|**Symbol**|**Python**|**Value**|**Description**|\n",
      "|-|-|-|-|\n",
      "| $c$ | u.c | $2.99792458 \\times 10^8$ (m/s) | Speed of light in a vacuum |\n",
      "| $\\Omega_E$ | Omega_E | $7.292115 \\times 10^{-5}$ (rad/s) | Angular rotational velocity of the Earth relative to the fixed stars |\n",
      "| $R_{Earth}$ | R_Earth | $6.378136 \\times 10^6$ (m) | Radius of the Earth |\n",
      "\n",
      "**Global parameters - used for all telescopes**\n",
      "\n",
      "*May need global tweaking*\n",
      "\n",
      "|**Symbol**|**Python**|**Value**|**Description**|\n",
      "|-|-|-|-|\n",
      "| $\\epsilon_{w}$ | epsilon_w | 0.01 | Amplitude level of w-kernels to include. Value 0.01 is used in [RD6] where it is shown to give kernel sizes in rough agreement with CASA package.|\n",
      "| $M_{vis}$| Mvis | 12 | Size of visibility datum in the buffer (in bytes?) |\n",
      "| $N_{kernel}$ | Naa | 9 | Linear size of the combined $A$ and $W$ kernels (pixels). This size is at the low end of the range 9-15 given by [RD11] in Section 4.4.2 of their paper. |\n",
      "| $N_{mm}$ | Nmm | 4| |\n",
      "| $N_{pp}$ | Npp | 4| Number of polarisation products that are processed |\n",
      "| $N_{w}$ | Nw | 2| Bytes per value |\n",
      "|$Q_{bw}$|Qbw|1 |Bandwidth quality factor, determining how well bandwidth smearing can be controlled|\n",
      "|$Q_{fcw}$|Qfcw|10|Number of adjacent frequency channels for which baseline dependent kernels can be reused|\n",
      "|$Q_{GCF}$|Qgcf|8|Oversampling factor of w-convolution kernels|\n",
      "|$Q_{w}$|Qw|1 | Quality factor for w-projection correction. Value 1 corresponds to correction of maximal w values.  For comparison [RD7] uses values 0.1\u20140.3 |\n",
      "| $T_{ion}$ | T_ion | 60 | Ionospheric timescale |\n",
      "\n",
      "** Telescope-dependent parameters **\n",
      "\n",
      "*Subject to change*\n",
      "\n",
      "|***Telescope parameters***\n",
      "|-|-|-|-|-|-|\n",
      "| | Symbol | Python | **SKA1-Low** | **SKA1-Mid** | **SKA1-Survey** |\n",
      "| Maximum baseline according to SKAO (km)     | $B_{max}$|Bmax| $100$|$200$|$50$|\n",
      "| Antenna/Station Diameter (m)                                   |$D_{s}$|Ds|$35$|$15$|$15$|\n",
      "| Minimum frequency (of the chosen band) | $f_{min}$ | freq_min | 50 Mhz | depends on band | depends on band |\n",
      "| Maximum frequency (of the chosen band) | $f_{max}$ | freq_max | 350 Mhz | depends on band | depends on band |\n",
      "| Number of stations/antennas                                    |$N_{a}$|Na|$1024$|$256$|$96$|\n",
      "| Number of beams                                                |$N_{beam}$|Nbeam|$1$|$1$|$36$|\n",
      "| Number of frequency channels from corellator                   |$N_{f,max}$|Nf_max|$256000$|$256000$|$256000$|\n",
      "| Correlator dump time appropriate for $B_{max,ref}$ (seconds) |$T_{dump,ref}$|Tdump_ref|$0.6$|$0.08$|$0.3$|\n",
      "| Bins (upper bounds) used for discretizing baseline distribution in computations (km) | - | baseline_bins | $(4.9, 7.1, 10.4, 15.1, 22.1, 32.2, 47.0, 68.5, 100)$ | $(4.4, 6.7, 10.3, 15.7, 24.0, 36.7, 56.0, 85.6, 130.8, 200)$ | $(3.8, 5.5, 8.0, 11.5, 16.6, 24.0, 34.6, 50)$ \n",
      "| Number of baselines in each bin | - | baseline_bin_counts | $(5031193, 732481, 796973, 586849, 1070483, 939054, 820834, 202366, 12375)$ | $(669822, 61039, 64851, 66222, 70838, 68024, 74060, 68736, 21523, 745)$ | $(81109, 15605, 15777, 16671, 16849, 17999, 3282, 324)$ \n",
      "\n",
      "** Spectral vs Continuum vs Fast Imaging (i.e. slow transients) **\n",
      "\n",
      "*This is the same for all telescopes and bands*, but may be overwritten by HPSOs\n",
      "\n",
      "|***Imaging-mode telescope parameters***\n",
      "|-|-|-|-|-|-|\n",
      "| | Symbol | Python | **Continuum** | **Spectral** | **SlowTrans** |\n",
      "| Baseline length that (Fbshort+Fbmid), i.e. 90% of baselines are shorter than | $B_{lim,mid}$ | Blim_mid | $20000$ | n/a | $20000$\n",
      "| Number of output map channels | $N_{f, out}$ | Nf_out | $500$ | *computed* | $500$ |\n",
      "| Number of channels for gridding at longest baseline | $N_{f, used}$ | Nf_used | *computed* | *computed* | *computed*|\n",
      "| Number of major CLEAN cycles to be done | $N_{major}$ | Nmajor | $10$ | $1$ | $1$ |\n",
      "| Field of view factor | $Q_{FoV}$| Qfov | $1.8$ | $1$ | $0.9$ |\n",
      "| Quality factor defining the oversampling of synthesised beam | $Q_{pix}$ | Qpix | $2.5$ | $2.5$ | $1.5$|\n",
      "| Observation length |$T_{obs}$ | Tobs  | $6\\ {\\rm h}$  | $6\\ {\\rm h}$ | $1.2\\ {\\rm sec}$  |\n",
      "| Snapshot timescale implemented (sec) | $T_{snap}$ | Tsnap | *optimized* | *optimized* | *optimized* |\n",
      "| Minimum Snapshot timescale - equals $T_{obs}$ for slow transients | $T_{snap, min}$ | Tsnap_min | $1.2\\ {\\rm sec}$ | $1.2\\ {\\rm sec}$ | $1.2\\ {\\rm sec}$"
     ]
    },
    {
     "cell_type": "heading",
     "level": 1,
     "metadata": {},
     "source": [
      "2. Load Implementation & Environment (refer to .py source files):"
     ]
    },
    {
     "cell_type": "code",
     "collapsed": false,
     "input": [
      "'''\n",
      "The following command imports implementation.py, that in turn imports all the other code fragments, methods and/or modules that\n",
      "are required to run all the code. Please refer to the following python files for implementation details (omitted here for readability)\n",
      "* env_setup.py -- code for setting up the python environment\n",
      "* definitions_derivations.py -- contains definitions of variables and derived telescope parameters \n",
      "* telescope_parameters.py -- contains numerical values for telescope-specific parameters\n",
      "* implementation.py -- contains code for performing evaluations\n",
      "'''\n",
      "import sys\n",
      "import time\n",
      "from implementation import *"
     ],
     "language": "python",
     "metadata": {},
     "outputs": [
      {
       "output_type": "stream",
       "stream": "stdout",
       "text": [
        "IPython console for SymPy 0.7.6 (Python 2.7.7-32-bit) (ground types: python)\n"
       ]
      }
     ],
     "prompt_number": 1
    },
    {
     "cell_type": "heading",
     "level": 1,
     "metadata": {},
     "source": [
      "3. Computations:"
     ]
    },
    {
     "cell_type": "heading",
     "level": 2,
     "metadata": {},
     "source": [
      "Optimizing Tsnap and Nfacet for a given band and mode:"
     ]
    },
    {
     "cell_type": "raw",
     "metadata": {},
     "source": [
      "2.745812 PetaFLOPS was the lowest FLOP value, found for (Nfacet, Tsnap) = (3, 87.16)\n",
      "Optimization took 107.495000 seconds\n",
      "Evaluation took 20.372000 seconds\n",
      "Total time = 127.867000 seconds"
     ]
    },
    {
     "cell_type": "raw",
     "metadata": {},
     "source": [
      "2.745812 PetaFLOPS was the lowest FLOP value, found for (Nfacet, Tsnap) = (3, 87.16)\n",
      "Optimization took 71.758000 seconds\n",
      "Evaluation took 11.391000 seconds\n",
      "Total time = 83.149000 seconds"
     ]
    },
    {
     "cell_type": "code",
     "collapsed": false,
     "input": [
      "t0 = time.time()\n",
      "band = 'Low'\n",
      "mode = 'Continuum'\n",
      "(Tsnap_opt, Nfacet_opt) = find_optimal_Tsnap_Nfacet(band=band, mode=mode, verbose=True)\n",
      "t1 = time.time()\n",
      "pp = calc_tel_params(band=band, mode=mode)\n",
      "pp[Tsnap] = Tsnap_opt\n",
      "pp[Nfacet] = Nfacet_opt\n",
      "result = evaluate_expression(Rflop, pp)\n",
      "t2 = time.time()\n",
      "print 'Optimization took %f seconds' % (t1-t0)\n",
      "print 'Evaluation took %f seconds' % (t2-t1)\n",
      "print 'Total time = %f seconds' % (t2-t0)"
     ],
     "language": "python",
     "metadata": {},
     "outputs": [
      {
       "output_type": "stream",
       "stream": "stdout",
       "text": [
        "Finding optimal values for Tsnap and Nfacet for (band = Low, mode = Continuum)\n",
        "Evaluating Nfacets = 1\n",
        "Evaluating Nfacets = 2"
       ]
      },
      {
       "output_type": "stream",
       "stream": "stdout",
       "text": [
        "\n",
        "Evaluating Nfacets = 3"
       ]
      },
      {
       "output_type": "stream",
       "stream": "stdout",
       "text": [
        "\n",
        "Evaluating Nfacets = 4"
       ]
      },
      {
       "output_type": "stream",
       "stream": "stdout",
       "text": [
        "\n",
        "\n",
        "Expression increasing with number of facets; aborting exploration of Nfacets > 4"
       ]
      },
      {
       "output_type": "stream",
       "stream": "stdout",
       "text": [
        "\n",
        "\n",
        "2.745812 PetaFLOPS was the lowest FLOP value, found for (Nfacet, Tsnap) = (3, 87.16)\n",
        "Optimization took 71.758000 seconds"
       ]
      },
      {
       "output_type": "stream",
       "stream": "stdout",
       "text": [
        "\n",
        "Evaluation took 11.391000 seconds\n",
        "Total time = 83.149000 seconds\n"
       ]
      }
     ],
     "prompt_number": 2
    },
    {
     "cell_type": "heading",
     "level": 2,
     "metadata": {},
     "source": [
      "Looping through a list of (standard) bands -- this may take several minutes:"
     ]
    },
    {
     "cell_type": "code",
     "collapsed": false,
     "input": [
      "all_bands = band_info.keys()\n",
      "all_bands.sort()\n",
      "selected_bands = ('Low', 'Mid1', 'Sur1')  # Only loop over the first bands for each telescope (assumed to be the most demanding)\n",
      "selected_modes = ('Continuum', 'Spectral', 'SlowTrans')\n",
      "\n",
      "expressions = {'Rflop_conv' : Rflop_conv, \n",
      "               'Rflop_fft'  : Rflop_fft, \n",
      "               'Rflop_grid' : Rflop_grid, \n",
      "               'Rflop_proj' : Rflop_proj,\n",
      "               'Mbuf_vis'   : Mbuf_vis,\n",
      "               'Mw_cache'   : Mw_cache,\n",
      "               'Npix_linear': Npix_linear,\n",
      "               'Rio'        : Rio,\n",
      "               }\n",
      "\n",
      "non_peta_values = ('Npix_linear')\n",
      "flops_expressions = ('Rflop_grid', 'Rflop_conv', 'Rflop_fft', 'Rflop_proj')\n",
      "\n",
      "results = {}\n",
      "\n",
      "for band in selected_bands:\n",
      "    for mode in selected_modes:\n",
      "        tel = band_info[band]['telescope']\n",
      "        print '.'\n",
      "        print '>> Evaluating %s band %s in %s mode' % (tel, band, mode)\n",
      "        (Tsnap_opt, Nfacet_opt) = find_optimal_Tsnap_Nfacet(band, mode)\n",
      "        print 'Optimal (Tsnap, Nfacet) values = (%.2f sec, %d)' % (Tsnap_opt, Nfacet_opt)\n",
      "        for expression in expressions.keys():\n",
      "            # Calculate parameters, and substiture the calculated optimal values for Tsnap and Nfacet\n",
      "            pp = calc_tel_params(band=band, mode=mode)\n",
      "            pp[Tsnap] = Tsnap_opt\n",
      "            pp[Nfacet] = Nfacet_opt\n",
      "            result = evaluate_expression(expressions[expression], pp)\n",
      "            results[(band, mode, expression)] = result\n",
      "            if expression in non_peta_values:\n",
      "                print '-> %s : %s = %.3g' % (mode, expression, result)\n",
      "            else:    \n",
      "                print '-> %s : %s = %.3g Peta' % (mode, expression, result/1e15)\n",
      "        flops_total = 0\n",
      "        for expression in flops_expressions:\n",
      "            flops_total += results[(band, mode, expression)]\n",
      "        results[(band, mode, 'Rflop')] = flops_total\n",
      "        print '-> %s : %s = %.3g PetaFLOPS' % (mode, 'Rflop', flops_total/1e15)\n",
      "print '\\n>>> Done!'"
     ],
     "language": "python",
     "metadata": {},
     "outputs": [
      {
       "output_type": "stream",
       "stream": "stdout",
       "text": [
        ".\n",
        ">> Evaluating SKA1_Low band Low in Continuum mode\n",
        "Optimal (Tsnap, Nfacet) values = (87.16 sec, 3)"
       ]
      },
      {
       "output_type": "stream",
       "stream": "stdout",
       "text": [
        "\n",
        "-> Continuum : Npix_linear = 1.25e+05"
       ]
      },
      {
       "output_type": "stream",
       "stream": "stdout",
       "text": [
        "\n",
        "-> Continuum : Rio = 0.00194 Peta"
       ]
      },
      {
       "output_type": "stream",
       "stream": "stdout",
       "text": [
        "\n",
        "-> Continuum : Rflop_grid = 0.8 Peta"
       ]
      },
      {
       "output_type": "stream",
       "stream": "stdout",
       "text": [
        "\n",
        "-> Continuum : Mw_cache = 6.99e-05 Peta"
       ]
      },
      {
       "output_type": "stream",
       "stream": "stdout",
       "text": [
        "\n",
        "-> Continuum : Mbuf_vis = 0.93 Peta"
       ]
      },
      {
       "output_type": "stream",
       "stream": "stdout",
       "text": [
        "\n",
        "-> Continuum : Rflop_conv = 1.08 Peta"
       ]
      },
      {
       "output_type": "stream",
       "stream": "stdout",
       "text": [
        "\n",
        "-> Continuum : Rflop_fft = 0.497 Peta"
       ]
      },
      {
       "output_type": "stream",
       "stream": "stdout",
       "text": [
        "\n",
        "-> Continuum : Rflop_proj = 0.361 Peta"
       ]
      },
      {
       "output_type": "stream",
       "stream": "stdout",
       "text": [
        "\n",
        "-> Continuum : Rflop = 2.74 PetaFLOPS\n",
        ".\n",
        ">> Evaluating SKA1_Low band Low in Spectral mode\n",
        "Optimal (Tsnap, Nfacet) values = (117.89 sec, 1)"
       ]
      },
      {
       "output_type": "stream",
       "stream": "stdout",
       "text": [
        "\n",
        "-> Spectral : Npix_linear = 2.09e+05"
       ]
      },
      {
       "output_type": "stream",
       "stream": "stdout",
       "text": [
        "\n",
        "-> Spectral : Rio = 0.00548 Peta"
       ]
      },
      {
       "output_type": "stream",
       "stream": "stdout",
       "text": [
        "\n",
        "-> Spectral : Rflop_grid = 5.63 Peta"
       ]
      },
      {
       "output_type": "stream",
       "stream": "stdout",
       "text": [
        "\n",
        "-> Spectral : Mw_cache = 0.082 Peta"
       ]
      },
      {
       "output_type": "stream",
       "stream": "stdout",
       "text": [
        "\n",
        "-> Spectral : Mbuf_vis = 237 Peta"
       ]
      },
      {
       "output_type": "stream",
       "stream": "stdout",
       "text": [
        "\n",
        "-> Spectral : Rflop_conv = 5.68 Peta"
       ]
      },
      {
       "output_type": "stream",
       "stream": "stdout",
       "text": [
        "\n",
        "-> Spectral : Rflop_fft = 6.11 Peta"
       ]
      },
      {
       "output_type": "stream",
       "stream": "stdout",
       "text": [
        "\n",
        "-> Spectral : Rflop_proj = 4.22 Peta"
       ]
      },
      {
       "output_type": "stream",
       "stream": "stdout",
       "text": [
        "\n",
        "-> Spectral : Rflop = 21.6 PetaFLOPS\n",
        ".\n",
        ">> Evaluating SKA1_Low band Low in SlowTrans mode\n",
        "Optimal (Tsnap, Nfacet) values = (1.20 sec, 2)"
       ]
      },
      {
       "output_type": "stream",
       "stream": "stdout",
       "text": [
        "\n",
        "-> SlowTrans : Npix_linear = 5.64e+04"
       ]
      },
      {
       "output_type": "stream",
       "stream": "stdout",
       "text": [
        "\n",
        "-> SlowTrans : Rio = 7.1e-05 Peta"
       ]
      },
      {
       "output_type": "stream",
       "stream": "stdout",
       "text": [
        "\n",
        "-> SlowTrans : Rflop_grid = 0.0238 Peta"
       ]
      },
      {
       "output_type": "stream",
       "stream": "stdout",
       "text": [
        "\n",
        "-> SlowTrans : Mw_cache = 3.87e-06 Peta"
       ]
      },
      {
       "output_type": "stream",
       "stream": "stdout",
       "text": [
        "\n",
        "-> SlowTrans : Mbuf_vis = 4.26e-05 Peta"
       ]
      },
      {
       "output_type": "stream",
       "stream": "stdout",
       "text": [
        "\n",
        "-> SlowTrans : Rflop_conv = 0.0289 Peta"
       ]
      },
      {
       "output_type": "stream",
       "stream": "stdout",
       "text": [
        "\n",
        "-> SlowTrans : Rflop_fft = 0.298 Peta"
       ]
      },
      {
       "output_type": "stream",
       "stream": "stdout",
       "text": [
        "\n",
        "-> SlowTrans : Rflop_proj = 0 Peta"
       ]
      },
      {
       "output_type": "stream",
       "stream": "stdout",
       "text": [
        "\n",
        "-> SlowTrans : Rflop = 0.35 PetaFLOPS\n",
        ".\n",
        ">> Evaluating SKA1_Mid band Mid1 in Continuum mode\n",
        "Optimal (Tsnap, Nfacet) values = (1132.39 sec, 13)"
       ]
      },
      {
       "output_type": "stream",
       "stream": "stdout",
       "text": [
        "\n",
        "-> Continuum : Npix_linear = 1.5e+05"
       ]
      },
      {
       "output_type": "stream",
       "stream": "stdout",
       "text": [
        "\n",
        "-> Continuum : Rio = 0.00453 Peta"
       ]
      },
      {
       "output_type": "stream",
       "stream": "stdout",
       "text": [
        "\n",
        "-> Continuum : Rflop_grid = 1.92 Peta"
       ]
      },
      {
       "output_type": "stream",
       "stream": "stdout",
       "text": [
        "\n",
        "-> Continuum : Mw_cache = 6.73e-05 Peta"
       ]
      },
      {
       "output_type": "stream",
       "stream": "stdout",
       "text": [
        "\n",
        "-> Continuum : Mbuf_vis = 0.116 Peta"
       ]
      },
      {
       "output_type": "stream",
       "stream": "stdout",
       "text": [
        "\n",
        "-> Continuum : Rflop_conv = 0.768 Peta"
       ]
      },
      {
       "output_type": "stream",
       "stream": "stdout",
       "text": [
        "\n",
        "-> Continuum : Rflop_fft = 0.932 Peta"
       ]
      },
      {
       "output_type": "stream",
       "stream": "stdout",
       "text": [
        "\n",
        "-> Continuum : Rflop_proj = 0.672 Peta"
       ]
      },
      {
       "output_type": "stream",
       "stream": "stdout",
       "text": [
        "\n",
        "-> Continuum : Rflop = 4.29 PetaFLOPS\n",
        ".\n",
        ">> Evaluating SKA1_Mid band Mid1 in Spectral mode\n",
        "Optimal (Tsnap, Nfacet) values = (1491.35 sec, 5)"
       ]
      },
      {
       "output_type": "stream",
       "stream": "stdout",
       "text": [
        "\n",
        "-> Spectral : Npix_linear = 2.17e+05"
       ]
      },
      {
       "output_type": "stream",
       "stream": "stdout",
       "text": [
        "\n",
        "-> Spectral : Rio = 0.0172 Peta"
       ]
      },
      {
       "output_type": "stream",
       "stream": "stdout",
       "text": [
        "\n",
        "-> Spectral : Rflop_grid = 14.6 Peta"
       ]
      },
      {
       "output_type": "stream",
       "stream": "stdout",
       "text": [
        "\n",
        "-> Spectral : Mw_cache = 0.0629 Peta"
       ]
      },
      {
       "output_type": "stream",
       "stream": "stdout",
       "text": [
        "\n",
        "-> Spectral : Mbuf_vis = 29.7 Peta"
       ]
      },
      {
       "output_type": "stream",
       "stream": "stdout",
       "text": [
        "\n",
        "-> Spectral : Rflop_conv = 6.25 Peta"
       ]
      },
      {
       "output_type": "stream",
       "stream": "stdout",
       "text": [
        "\n",
        "-> Spectral : Rflop_fft = 11.6 Peta"
       ]
      },
      {
       "output_type": "stream",
       "stream": "stdout",
       "text": [
        "\n",
        "-> Spectral : Rflop_proj = 8.06 Peta"
       ]
      },
      {
       "output_type": "stream",
       "stream": "stdout",
       "text": [
        "\n",
        "-> Spectral : Rflop = 40.5 PetaFLOPS\n",
        ".\n",
        ">> Evaluating SKA1_Mid band Mid1 in SlowTrans mode\n",
        "Searching for minimum Rflop with nfacets > 20... this is a bit odd (and may take long)"
       ]
      },
      {
       "output_type": "stream",
       "stream": "stdout",
       "text": [
        "\n",
        "Optimal (Tsnap, Nfacet) values = (1.20 sec, 27)"
       ]
      },
      {
       "output_type": "stream",
       "stream": "stdout",
       "text": [
        "\n",
        "-> SlowTrans : Npix_linear = 2.17e+04"
       ]
      },
      {
       "output_type": "stream",
       "stream": "stdout",
       "text": [
        "\n",
        "-> SlowTrans : Rio = 0.000986 Peta"
       ]
      },
      {
       "output_type": "stream",
       "stream": "stdout",
       "text": [
        "\n",
        "-> SlowTrans : Rflop_grid = 0.221 Peta"
       ]
      },
      {
       "output_type": "stream",
       "stream": "stdout",
       "text": [
        "\n",
        "-> SlowTrans : Mw_cache = 1.08e-10 Peta"
       ]
      },
      {
       "output_type": "stream",
       "stream": "stdout",
       "text": [
        "\n",
        "-> SlowTrans : Mbuf_vis = 3.25e-06 Peta"
       ]
      },
      {
       "output_type": "stream",
       "stream": "stdout",
       "text": [
        "\n",
        "-> SlowTrans : Rflop_conv = 0.2 Peta"
       ]
      },
      {
       "output_type": "stream",
       "stream": "stdout",
       "text": [
        "\n",
        "-> SlowTrans : Rflop_fft = 6.32 Peta"
       ]
      },
      {
       "output_type": "stream",
       "stream": "stdout",
       "text": [
        "\n",
        "-> SlowTrans : Rflop_proj = 0 Peta"
       ]
      },
      {
       "output_type": "stream",
       "stream": "stdout",
       "text": [
        "\n",
        "-> SlowTrans : Rflop = 6.75 PetaFLOPS\n",
        ".\n",
        ">> Evaluating SKA1_Survey band Sur1 in Continuum mode\n",
        "Optimal (Tsnap, Nfacet) values = (1907.71 sec, 7)"
       ]
      },
      {
       "output_type": "stream",
       "stream": "stdout",
       "text": [
        "\n",
        "-> Continuum : Npix_linear = 5.57e+04"
       ]
      },
      {
       "output_type": "stream",
       "stream": "stdout",
       "text": [
        "\n",
        "-> Continuum : Rio = 0.00211 Peta"
       ]
      },
      {
       "output_type": "stream",
       "stream": "stdout",
       "text": [
        "\n",
        "-> Continuum : Rflop_grid = 1.05 Peta"
       ]
      },
      {
       "output_type": "stream",
       "stream": "stdout",
       "text": [
        "\n",
        "-> Continuum : Mw_cache = 0.00262 Peta"
       ]
      },
      {
       "output_type": "stream",
       "stream": "stdout",
       "text": [
        "\n",
        "-> Continuum : Mbuf_vis = 0.186 Peta"
       ]
      },
      {
       "output_type": "stream",
       "stream": "stdout",
       "text": [
        "\n",
        "-> Continuum : Rflop_conv = 1.24 Peta"
       ]
      },
      {
       "output_type": "stream",
       "stream": "stdout",
       "text": [
        "\n",
        "-> Continuum : Rflop_fft = 0.917 Peta"
       ]
      },
      {
       "output_type": "stream",
       "stream": "stdout",
       "text": [
        "\n",
        "-> Continuum : Rflop_proj = 0.718 Peta"
       ]
      },
      {
       "output_type": "stream",
       "stream": "stdout",
       "text": [
        "\n",
        "-> Continuum : Rflop = 3.93 PetaFLOPS\n",
        ".\n",
        ">> Evaluating SKA1_Survey band Sur1 in Spectral mode\n",
        "Optimal (Tsnap, Nfacet) values = (1816.77 sec, 3)"
       ]
      },
      {
       "output_type": "stream",
       "stream": "stdout",
       "text": [
        "\n",
        "-> Spectral : Npix_linear = 7.22e+04"
       ]
      },
      {
       "output_type": "stream",
       "stream": "stdout",
       "text": [
        "\n",
        "-> Spectral : Rio = 0.0182 Peta"
       ]
      },
      {
       "output_type": "stream",
       "stream": "stdout",
       "text": [
        "\n",
        "-> Spectral : Rflop_grid = 14.3 Peta"
       ]
      },
      {
       "output_type": "stream",
       "stream": "stdout",
       "text": [
        "\n",
        "-> Spectral : Mw_cache = 1.93 Peta"
       ]
      },
      {
       "output_type": "stream",
       "stream": "stdout",
       "text": [
        "\n",
        "-> Spectral : Mbuf_vis = 87.5 Peta"
       ]
      },
      {
       "output_type": "stream",
       "stream": "stdout",
       "text": [
        "\n",
        "-> Spectral : Rflop_conv = 15.3 Peta"
       ]
      },
      {
       "output_type": "stream",
       "stream": "stdout",
       "text": [
        "\n",
        "-> Spectral : Rflop_fft = 15.7 Peta"
       ]
      },
      {
       "output_type": "stream",
       "stream": "stdout",
       "text": [
        "\n",
        "-> Spectral : Rflop_proj = 11.9 Peta"
       ]
      },
      {
       "output_type": "stream",
       "stream": "stdout",
       "text": [
        "\n",
        "-> Spectral : Rflop = 57.1 PetaFLOPS\n",
        ".\n",
        ">> Evaluating SKA1_Survey band Sur1 in SlowTrans mode\n",
        "Optimal (Tsnap, Nfacet) values = (1.20 sec, 18)"
       ]
      },
      {
       "output_type": "stream",
       "stream": "stdout",
       "text": [
        "\n",
        "-> SlowTrans : Npix_linear = 6.5e+03"
       ]
      },
      {
       "output_type": "stream",
       "stream": "stdout",
       "text": [
        "\n",
        "-> SlowTrans : Rio = 0.00128 Peta"
       ]
      },
      {
       "output_type": "stream",
       "stream": "stdout",
       "text": [
        "\n",
        "-> SlowTrans : Rflop_grid = 0.292 Peta"
       ]
      },
      {
       "output_type": "stream",
       "stream": "stdout",
       "text": [
        "\n",
        "-> SlowTrans : Mw_cache = 3.73e-11 Peta"
       ]
      },
      {
       "output_type": "stream",
       "stream": "stdout",
       "text": [
        "\n",
        "-> SlowTrans : Mbuf_vis = 9.5e-06 Peta"
       ]
      },
      {
       "output_type": "stream",
       "stream": "stdout",
       "text": [
        "\n",
        "-> SlowTrans : Rflop_conv = 0.454 Peta"
       ]
      },
      {
       "output_type": "stream",
       "stream": "stdout",
       "text": [
        "\n",
        "-> SlowTrans : Rflop_fft = 9.93 Peta"
       ]
      },
      {
       "output_type": "stream",
       "stream": "stdout",
       "text": [
        "\n",
        "-> SlowTrans : Rflop_proj = 0 Peta"
       ]
      },
      {
       "output_type": "stream",
       "stream": "stdout",
       "text": [
        "\n",
        "-> SlowTrans : Rflop = 10.7 PetaFLOPS\n",
        "\n",
        ">>> Done!\n"
       ]
      }
     ],
     "prompt_number": 2
    },
    {
     "cell_type": "heading",
     "level": 2,
     "metadata": {},
     "source": [
      "Because it takes very long to compute all results, let's just dump them out to screen (for future re-use):"
     ]
    },
    {
     "cell_type": "code",
     "collapsed": false,
     "input": [
      "results"
     ],
     "language": "python",
     "metadata": {},
     "outputs": [
      {
       "metadata": {},
       "output_type": "pyout",
       "prompt_number": 3,
       "text": [
        "{('Low', 'Continuum', 'Mbuf_vis'): 929555137445798.8,\n",
        " ('Low', 'Continuum', 'Mw_cache'): 69875805069.89983,\n",
        " ('Low', 'Continuum', 'Npix_linear'): 125395.90602006018,\n",
        " ('Low', 'Continuum', 'Rflop'): 2737742909678915.0,\n",
        " ('Low', 'Continuum', 'Rflop_conv'): 1080174877870019.2,\n",
        " ('Low', 'Continuum', 'Rflop_fft'): 496712784894877.1,\n",
        " ('Low', 'Continuum', 'Rflop_grid'): 800034847312470.1,\n",
        " ('Low', 'Continuum', 'Rflop_proj'): 360820399601548.25,\n",
        " ('Low', 'Continuum', 'Rio'): 1936573203012.0808,\n",
        " ('Low', 'SlowTrans', 'Mbuf_vis'): 42590339462.35143,\n",
        " ('Low', 'SlowTrans', 'Mw_cache'): 3865819320.155947,\n",
        " ('Low', 'SlowTrans', 'Npix_linear'): 56428.15770902708,\n",
        " ('Low', 'SlowTrans', 'Rflop'): 350156917124509.4,\n",
        " ('Low', 'SlowTrans', 'Rflop_conv'): 28867750587223.535,\n",
        " ('Low', 'SlowTrans', 'Rflop_fft'): 297521104353190.7,\n",
        " ('Low', 'SlowTrans', 'Rflop_grid'): 23768062184095.13,\n",
        " ('Low', 'SlowTrans', 'Rflop_proj'): 0.0,\n",
        " ('Low', 'SlowTrans', 'Rio'): 70983899103.91905,\n",
        " ('Low', 'Spectral', 'Mbuf_vis'): 2.365833051173932e+17,\n",
        " ('Low', 'Spectral', 'Mw_cache'): 82018854199938.88,\n",
        " ('Low', 'Spectral', 'Npix_linear'): 208993.1767001003,\n",
        " ('Low', 'Spectral', 'Rflop'): 2.1641924359291344e+16,\n",
        " ('Low', 'Spectral', 'Rflop_conv'): 5684490215980509.0,\n",
        " ('Low', 'Spectral', 'Rflop_fft'): 6113967480288378.0,\n",
        " ('Low', 'Spectral', 'Rflop_grid'): 5627859367365060.0,\n",
        " ('Low', 'Spectral', 'Rflop_proj'): 4215607295657397.0,\n",
        " ('Low', 'Spectral', 'Rio'): 5476465396235.954,\n",
        " ('Mid1', 'Continuum', 'Mbuf_vis'): 115824998626894.22,\n",
        " ('Mid1', 'Continuum', 'Mw_cache'): 67301530755.72946,\n",
        " ('Mid1', 'Continuum', 'Npix_linear'): 150046.38327186691,\n",
        " ('Mid1', 'Continuum', 'Rflop'): 4289559375326396.0,\n",
        " ('Mid1', 'Continuum', 'Rflop_conv'): 767764823682408.4,\n",
        " ('Mid1', 'Continuum', 'Rflop_fft'): 932282281313319.8,\n",
        " ('Mid1', 'Continuum', 'Rflop_grid'): 1917506103574991.0,\n",
        " ('Mid1', 'Continuum', 'Rflop_proj'): 672006166755677.2,\n",
        " ('Mid1', 'Continuum', 'Rio'): 4531116844431.741,\n",
        " ('Mid1', 'SlowTrans', 'Mbuf_vis'): 3246956201.6137195,\n",
        " ('Mid1', 'SlowTrans', 'Mw_cache'): 107836.87669961105,\n",
        " ('Mid1', 'SlowTrans', 'Npix_linear'): 21673.366472602997,\n",
        " ('Mid1', 'SlowTrans', 'Rflop'): 6745588139886006.0,\n",
        " ('Mid1', 'SlowTrans', 'Rflop_conv'): 200009426331804.4,\n",
        " ('Mid1', 'SlowTrans', 'Rflop_fft'): 6324638560386205.0,\n",
        " ('Mid1', 'SlowTrans', 'Rflop_grid'): 220940153167996.9,\n",
        " ('Mid1', 'SlowTrans', 'Rflop_proj'): 0.0,\n",
        " ('Mid1', 'SlowTrans', 'Rio'): 986262946240.1672,\n",
        " ('Mid1', 'Spectral', 'Mbuf_vis'): 2.968931897825882e+16,\n",
        " ('Mid1', 'Spectral', 'Mw_cache'): 62945705717620.46,\n",
        " ('Mid1', 'Spectral', 'Npix_linear'): 216733.66472603,\n",
        " ('Mid1', 'Spectral', 'Rflop'): 4.051165549880795e+16,\n",
        " ('Mid1', 'Spectral', 'Rflop_conv'): 6249325109554884.0,\n",
        " ('Mid1', 'Spectral', 'Rflop_fft'): 1.1614123757917654e+16,\n",
        " ('Mid1', 'Spectral', 'Rflop_grid'): 1.458487869971839e+16,\n",
        " ('Mid1', 'Spectral', 'Rflop_proj'): 8063327931617020.0,\n",
        " ('Mid1', 'Spectral', 'Rio'): 17181318853159.04,\n",
        " ('Sur1', 'Continuum', 'Mbuf_vis'): 186212865971637.9,\n",
        " ('Sur1', 'Continuum', 'Mw_cache'): 2621913653171.4414,\n",
        " ('Sur1', 'Continuum', 'Npix_linear'): 55731.513786693424,\n",
        " ('Sur1', 'Continuum', 'Rflop'): 3930641282774987.5,\n",
        " ('Sur1', 'Continuum', 'Rflop_conv'): 1241906496999869.8,\n",
        " ('Sur1', 'Continuum', 'Rflop_fft'): 916619282064790.9,\n",
        " ('Sur1', 'Continuum', 'Rflop_grid'): 1054111029901328.8,\n",
        " ('Sur1', 'Continuum', 'Rflop_proj'): 718004473808998.0,\n",
        " ('Sur1', 'Continuum', 'Rio'): 2112136674215.3376,\n",
        " ('Sur1', 'SlowTrans', 'Mbuf_vis'): 9498401649.484537,\n",
        " ('Sur1', 'SlowTrans', 'Mw_cache'): 37321.91103803035,\n",
        " ('Sur1', 'SlowTrans', 'Npix_linear'): 6502.0099417809,\n",
        " ('Sur1', 'SlowTrans', 'Rflop'): 1.0676685211255524e+16,\n",
        " ('Sur1', 'SlowTrans', 'Rflop_conv'): 453656167023494.0,\n",
        " ('Sur1', 'SlowTrans', 'Rflop_fft'): 9930667180439650.0,\n",
        " ('Sur1', 'SlowTrans', 'Rflop_grid'): 292361863792380.1,\n",
        " ('Sur1', 'SlowTrans', 'Rflop_proj'): 0.0,\n",
        " ('Sur1', 'SlowTrans', 'Rio'): 1282284222680.4124,\n",
        " ('Sur1', 'Spectral', 'Mbuf_vis'): 8.753726960164949e+16,\n",
        " ('Sur1', 'Spectral', 'Mw_cache'): 1925255740383543.0,\n",
        " ('Sur1', 'Spectral', 'Npix_linear'): 72244.55490867664,\n",
        " ('Sur1', 'Spectral', 'Rflop'): 5.710881647406924e+16,\n",
        " ('Sur1', 'Spectral', 'Rflop_conv'): 1.5254420439229876e+16,\n",
        " ('Sur1', 'Spectral', 'Rflop_fft'): 1.5655986482801326e+16,\n",
        " ('Sur1', 'Spectral', 'Rflop_grid'): 1.4284200907490124e+16,\n",
        " ('Sur1', 'Spectral', 'Rflop_proj'): 1.1914208644547914e+16,\n",
        " ('Sur1', 'Spectral', 'Rio'): 18236931167010.31}"
       ]
      }
     ],
     "prompt_number": 3
    },
    {
     "cell_type": "heading",
     "level": 2,
     "metadata": {},
     "source": [
      "Now we can summarize (by summing) them for the three telescopes:"
     ]
    },
    {
     "cell_type": "code",
     "collapsed": false,
     "input": [
      "summable_expressions = {'Rflop_conv' : Rflop_conv, \n",
      "               'Rflop_fft'  : Rflop_fft, \n",
      "               'Rflop_grid' : Rflop_grid, \n",
      "               'Rflop_proj' : Rflop_proj,\n",
      "               'Mbuf_vis'   : Mbuf_vis,\n",
      "               'Rflop'      : Rflop,\n",
      "               'Mw_cache'   : Mw_cache,\n",
      "               'Rio'        : Rio,\n",
      "               }\n",
      "\n",
      "results_per_band = {}\n",
      "for band in selected_bands:\n",
      "    #tel = band_info[band]['telescope']\n",
      "    if not band in results_per_band:\n",
      "        results_per_band[band] = {}\n",
      "    for expression in summable_expressions:\n",
      "        if not expression in results_per_band[band]:\n",
      "            results_per_band[band][expression] = 0\n",
      "        for mode in imaging_mode_info.keys():\n",
      "            assert (band, mode, expression) in results\n",
      "            results_per_band[band][expression] += results[(band, mode, expression)]\n",
      "\n",
      "results_per_band"
     ],
     "language": "python",
     "metadata": {},
     "outputs": [
      {
       "metadata": {},
       "output_type": "pyout",
       "prompt_number": 3,
       "text": [
        "{'Low': {'Mbuf_vis': 2.3751290284517846e+17,\n",
        "  'Mw_cache': 82092595824328.94,\n",
        "  'Rflop': 2.472982418609477e+16,\n",
        "  'Rflop_conv': 6793532844437752.0,\n",
        "  'Rflop_fft': 6908201369536446.0,\n",
        "  'Rflop_grid': 6451662276861625.0,\n",
        "  'Rflop_proj': 4576427695258945.0,\n",
        "  'Rio': 7484022498351.954},\n",
        " 'Mid1': {'Mbuf_vis': 2.9805147223841916e+16,\n",
        "  'Mw_cache': 63013007356213.06,\n",
        "  'Rflop': 5.154680301402035e+16,\n",
        "  'Rflop_conv': 7217099359569096.0,\n",
        "  'Rflop_fft': 1.887104459961718e+16,\n",
        "  'Rflop_grid': 1.6723324956461376e+16,\n",
        "  'Rflop_proj': 8735334098372697.0,\n",
        "  'Rio': 22698698643830.95},\n",
        " 'Sur1': {'Mbuf_vis': 8.772349196602277e+16,\n",
        "  'Mw_cache': 1927877654074036.5,\n",
        "  'Rflop': 7.171614296809975e+16,\n",
        "  'Rflop_conv': 1.694998310325324e+16,\n",
        "  'Rflop_fft': 2.650327294530577e+16,\n",
        "  'Rflop_grid': 1.5630673801183832e+16,\n",
        "  'Rflop_proj': 1.2632213118356912e+16,\n",
        "  'Rio': 21631352063906.06}}"
       ]
      }
     ],
     "prompt_number": 3
    },
    {
     "cell_type": "heading",
     "level": 2,
     "metadata": {},
     "source": [
      "Let's plot the FLOP values"
     ]
    },
    {
     "cell_type": "code",
     "collapsed": false,
     "input": [
      "import matplotlib.pyplot as plt\n",
      "%matplotlib inline\n",
      "\n",
      "import matplotlib.pylab as pylab\n",
      "pylab.rcParams['figure.figsize'] = 8, 6  # that's default image size for this interactive session\n",
      "\n",
      "results_per_tel = results_per_band\n",
      "t = results_per_tel.keys()\n",
      "t.sort()\n",
      "for tel in t:\n",
      "    values = results_per_tel[tel]\n",
      "\n",
      "    # The slices will be ordered and plotted counter-clockwise.\n",
      "    labels = '(de)Gridding', '(i)FFT', '(Re)Projection', 'Convolution'\n",
      "    sizes = [values['Rflop_grid'], values['Rflop_fft'], values['Rflop_proj'], values['Rflop_conv']]\n",
      "    colors = ['yellowgreen', 'gold', 'lightskyblue', 'lightcoral']\n",
      "    explode = (0.05, 0.05, 0.05, 0.05) # Radial offset of the slices\n",
      "\n",
      "    plt.pie(sizes, explode=explode, labels=labels, colors=colors,\n",
      "            autopct='%1.1f%%', shadow=True, startangle=90)\n",
      "    # Set aspect ratio to be equal so that pie is drawn as a circle.\n",
      "    plt.axis('equal')\n",
      "    plt.title('%s\\n' % tel)\n",
      "\n",
      "    plt.show()\n",
      "    \n",
      "results_per_param = {}\n",
      "for tel in t:\n",
      "    for param in results_per_tel[tel]:\n",
      "        if not param in results_per_param:\n",
      "            results_per_param[param] = []\n",
      "        results_per_param[param].append(results_per_tel[tel][param])\n",
      "\n",
      "#print results_per_param\n",
      "ind = np.arange(3)\n",
      "\n",
      "p = 'Rflop_grid'\n",
      "res_grid = (results_per_tel[t[0]][p], results_per_tel[t[1]][p], results_per_tel[t[2]][p])\n",
      "p = 'Rflop_fft'\n",
      "res_fft = (results_per_tel[t[0]][p], results_per_tel[t[1]][p], results_per_tel[t[2]][p])\n",
      "p = 'Rflop_proj'\n",
      "res_proj = (results_per_tel[t[0]][p], results_per_tel[t[1]][p], results_per_tel[t[2]][p])\n",
      "p = 'Rflop_conv'\n",
      "res_conv = (results_per_tel[t[0]][p], results_per_tel[t[1]][p], results_per_tel[t[2]][p])\n",
      "\n",
      "#Plot a stacked bar chart\n",
      "width = 0.35\n",
      "val = np.array(res_grid)\n",
      "p1 = plt.bar(ind, val, width, color=colors[0])\n",
      "bottoms = val\n",
      "val = np.array(res_fft)\n",
      "p2 = plt.bar(ind, val, width, color=colors[1],\n",
      "             bottom=bottoms)\n",
      "bottoms += val\n",
      "val = np.array(res_proj)\n",
      "p3 = plt.bar(ind, val, width, color=colors[2],\n",
      "             bottom=bottoms)\n",
      "bottoms += val\n",
      "val = np.array(res_conv)\n",
      "p4 = plt.bar(ind, val, width, color=colors[3],\n",
      "             bottom=bottoms)\n",
      "\n",
      "plt.xticks(ind+width/2., t )\n",
      "plt.title('PetaFLOPS')\n",
      "plt.legend(labels, loc=2) # legend upper-left"
     ],
     "language": "python",
     "metadata": {},
     "outputs": [
      {
       "metadata": {},
       "output_type": "display_data",
       "png": "[encoded data removed]",
       "text": [
        "<matplotlib.figure.Figure at 0x15c37390>"
       ]
      },
      {
       "metadata": {},
       "output_type": "display_data",
       "png": "[encoded data removed]",
       "text": [
        "<matplotlib.figure.Figure at 0x15de1b00>"
       ]
      },
      {
       "metadata": {},
       "output_type": "display_data",
       "png": "[encoded data removed]",
       "text": [
        "<matplotlib.figure.Figure at 0x1604d2b0>"
       ]
      },
      {
       "metadata": {},
       "output_type": "pyout",
       "prompt_number": 9,
       "text": [
        "<matplotlib.legend.Legend at 0x15c3bdd8>"
       ]
      },
      {
       "metadata": {},
       "output_type": "display_data",
       "png": "[encoded data removed]",
       "text": [
        "<matplotlib.figure.Figure at 0xbbc53c8>"
       ]
      }
     ],
     "prompt_number": 9
    },
    {
     "cell_type": "heading",
     "level": 2,
     "metadata": {},
     "source": [
      "Looping over all HPSOs"
     ]
    },
    {
     "cell_type": "code",
     "collapsed": false,
     "input": [
      "expressions = {'Rflop_conv' : Rflop_conv, \n",
      "               'Rflop_fft'  : Rflop_fft, \n",
      "               'Rflop_grid' : Rflop_grid, \n",
      "               'Rflop_proj' : Rflop_proj,\n",
      "               'Mbuf_vis'   : Mbuf_vis,\n",
      "               'Mw_cache'   : Mw_cache,\n",
      "               'Npix_linear': Npix_linear,\n",
      "               'Rio'        : Rio,\n",
      "               }\n",
      "\n",
      "non_peta_values = ('Npix_linear')\n",
      "flops_expressions = ('Rflop_grid', 'Rflop_conv', 'Rflop_fft', 'Rflop_proj')\n",
      "hpsos_to_ignore = ('03A', '03B', '04A', '04B', '05A', '05B', '19')  # Per request of Rosie, ignore these for now.\n",
      "\n",
      "results = {}\n",
      "\n",
      "hpso_keys = hpsos.keys()\n",
      "hpso_keys.sort()\n",
      "for hpso in hpsos_to_ignore:\n",
      "    assert hpso in hpso_keys\n",
      "    i = hpso_keys.index(hpso)\n",
      "    hpso_keys.pop(i)\n",
      "print hpso_keys\n",
      "\n",
      "for hpso in hpso_keys:\n",
      "    print '.\\n>> Evaluating HPSO %s' % hpso\n",
      "    hpso_params = hpsos[hpso]\n",
      "    tel = hpso_params['telescope']\n",
      "    mode = hpso_params['mode']\n",
      "    parameters = calc_tel_params(mode=mode, hpso_key=hpso)\n",
      "    if mode == 'CS':\n",
      "        (Tsnap_opt_C, Nfacet_opt_C) = find_optimal_Tsnap_Nfacet(mode='Continuum', hpso=hpso)\n",
      "        (Tsnap_opt_S, Nfacet_opt_S) = find_optimal_Tsnap_Nfacet(mode='Spectral', hpso=hpso)\n",
      "        print 'Optimal (Tsnap, Nfacet) values = (%.2f sec, %d) for C and (%.2f sec, %d) for S' \\\n",
      "            % (Tsnap_opt_C, Nfacet_opt_C, Tsnap_opt_S, Nfacet_opt_S)\n",
      "            \n",
      "        # First compute for Continuum...\n",
      "        parameters[Tsnap] = Tsnap_opt_C\n",
      "        parameters[Nfacet] = Nfacet_opt_C\n",
      "        for expression in expressions.keys():\n",
      "            results[(hpso, expression)] = evaluate_expression(expressions[expression], parameters)\n",
      "        # ...  and then add for Spectral\n",
      "        parameters = calc_tel_params(mode=mode, hpso_key=hpso) # we have to recompute this\n",
      "        parameters[Tsnap] = Tsnap_opt_S\n",
      "        parameters[Nfacet] = Nfacet_opt_S\n",
      "        for expression in expressions.keys():\n",
      "            results[(hpso, expression)] += evaluate_expression(expressions[expression], parameters)\n",
      "            result = results[(hpso, expression)]\n",
      "            if expression in non_peta_values:\n",
      "                print '-> hpso %s : %s = %.3g' % (hpso, expression, result)\n",
      "            else:    \n",
      "                print '-> hpso %s : %s = %.3g Peta' % (hpso, expression, result/1e15)            \n",
      "    else:\n",
      "        (Tsnap_opt, Nfacet_opt) = find_optimal_Tsnap_Nfacet(mode=mode, hpso=hpso)\n",
      "        print 'Optimal (Tsnap, Nfacet) values = (%.2f sec, %d)' % (Tsnap_opt, Nfacet_opt)\n",
      "        parameters[Tsnap] = Tsnap_opt\n",
      "        parameters[Nfacet] = Nfacet_opt\n",
      "        for expression in expressions.keys():\n",
      "            result = evaluate_expression(expressions[expression], parameters)\n",
      "            results[(hpso, expression)] = result\n",
      "            if expression in non_peta_values:\n",
      "                print '-> hpso %s : %s = %.3g' % (hpso, expression, result)\n",
      "            else:    \n",
      "                print '-> hpso %s : %s = %.3g Peta' % (hpso, expression, result/1e15)\n",
      "    \n",
      "    flops_total = 0\n",
      "    for expression in flops_expressions:\n",
      "        flops_total += results[(hpso, expression)]\n",
      "    results[(hpso, 'Rflop')] = flops_total\n",
      "    print '-> hpso %s : %s = %.3g PetaFLOPS' % (hpso, 'Rflop', flops_total/1e15)\n",
      "    \n",
      "print '\\n>>> Done!\\n'\n",
      "results"
     ],
     "language": "python",
     "metadata": {},
     "outputs": [
      {
       "output_type": "stream",
       "stream": "stdout",
       "text": [
        "['01', '02A', '02B', '13', '14', '15', '22', '27', '33', '35', '37a', '37b', '37c', '38a', '38b']\n",
        ".\n",
        ">> Evaluating HPSO 01\n",
        "Optimal (Tsnap, Nfacet) values = (135.72 sec, 3)"
       ]
      },
      {
       "output_type": "stream",
       "stream": "stdout",
       "text": [
        "\n",
        "-> hpso 01 : Npix_linear = 1.25e+05"
       ]
      },
      {
       "output_type": "stream",
       "stream": "stdout",
       "text": [
        "\n",
        "-> hpso 01 : Rio = 0.00607 Peta"
       ]
      },
      {
       "output_type": "stream",
       "stream": "stdout",
       "text": [
        "\n",
        "-> hpso 01 : Rflop_grid = 2.64 Peta"
       ]
      },
      {
       "output_type": "stream",
       "stream": "stdout",
       "text": [
        "\n",
        "-> hpso 01 : Mw_cache = 0.000337 Peta"
       ]
      },
      {
       "output_type": "stream",
       "stream": "stdout",
       "text": [
        "\n",
        "-> hpso 01 : Mbuf_vis = 2.91 Peta"
       ]
      },
      {
       "output_type": "stream",
       "stream": "stdout",
       "text": [
        "\n",
        "-> hpso 01 : Rflop_conv = 3.75 Peta"
       ]
      },
      {
       "output_type": "stream",
       "stream": "stdout",
       "text": [
        "\n",
        "-> hpso 01 : Rflop_fft = 1.91 Peta"
       ]
      },
      {
       "output_type": "stream",
       "stream": "stdout",
       "text": [
        "\n",
        "-> hpso 01 : Rflop_proj = 1.39 Peta"
       ]
      },
      {
       "output_type": "stream",
       "stream": "stdout",
       "text": [
        "\n",
        "-> hpso 01 : Rflop = 9.69 PetaFLOPS\n",
        ".\n",
        ">> Evaluating HPSO 02A\n",
        "Optimal (Tsnap, Nfacet) values = (135.72 sec, 3)"
       ]
      },
      {
       "output_type": "stream",
       "stream": "stdout",
       "text": [
        "\n",
        "-> hpso 02A : Npix_linear = 1.25e+05"
       ]
      },
      {
       "output_type": "stream",
       "stream": "stdout",
       "text": [
        "\n",
        "-> hpso 02A : Rio = 0.00607 Peta"
       ]
      },
      {
       "output_type": "stream",
       "stream": "stdout",
       "text": [
        "\n",
        "-> hpso 02A : Rflop_grid = 2.64 Peta"
       ]
      },
      {
       "output_type": "stream",
       "stream": "stdout",
       "text": [
        "\n",
        "-> hpso 02A : Mw_cache = 0.000337 Peta"
       ]
      },
      {
       "output_type": "stream",
       "stream": "stdout",
       "text": [
        "\n",
        "-> hpso 02A : Mbuf_vis = 2.91 Peta"
       ]
      },
      {
       "output_type": "stream",
       "stream": "stdout",
       "text": [
        "\n",
        "-> hpso 02A : Rflop_conv = 3.75 Peta"
       ]
      },
      {
       "output_type": "stream",
       "stream": "stdout",
       "text": [
        "\n",
        "-> hpso 02A : Rflop_fft = 1.91 Peta"
       ]
      },
      {
       "output_type": "stream",
       "stream": "stdout",
       "text": [
        "\n",
        "-> hpso 02A : Rflop_proj = 1.39 Peta"
       ]
      },
      {
       "output_type": "stream",
       "stream": "stdout",
       "text": [
        "\n",
        "-> hpso 02A : Rflop = 9.69 PetaFLOPS\n",
        ".\n",
        ">> Evaluating HPSO 02B\n",
        "Optimal (Tsnap, Nfacet) values = (135.72 sec, 3)"
       ]
      },
      {
       "output_type": "stream",
       "stream": "stdout",
       "text": [
        "\n",
        "-> hpso 02B : Npix_linear = 1.25e+05"
       ]
      },
      {
       "output_type": "stream",
       "stream": "stdout",
       "text": [
        "\n",
        "-> hpso 02B : Rio = 0.00607 Peta"
       ]
      },
      {
       "output_type": "stream",
       "stream": "stdout",
       "text": [
        "\n",
        "-> hpso 02B : Rflop_grid = 2.64 Peta"
       ]
      },
      {
       "output_type": "stream",
       "stream": "stdout",
       "text": [
        "\n",
        "-> hpso 02B : Mw_cache = 0.000337 Peta"
       ]
      },
      {
       "output_type": "stream",
       "stream": "stdout",
       "text": [
        "\n",
        "-> hpso 02B : Mbuf_vis = 2.91 Peta"
       ]
      },
      {
       "output_type": "stream",
       "stream": "stdout",
       "text": [
        "\n",
        "-> hpso 02B : Rflop_conv = 3.75 Peta"
       ]
      },
      {
       "output_type": "stream",
       "stream": "stdout",
       "text": [
        "\n",
        "-> hpso 02B : Rflop_fft = 1.91 Peta"
       ]
      },
      {
       "output_type": "stream",
       "stream": "stdout",
       "text": [
        "\n",
        "-> hpso 02B : Rflop_proj = 1.39 Peta"
       ]
      },
      {
       "output_type": "stream",
       "stream": "stdout",
       "text": [
        "\n",
        "-> hpso 02B : Rflop = 9.69 PetaFLOPS\n",
        ".\n",
        ">> Evaluating HPSO 13\n",
        "Searching for minimum Rflop with nfacets > 20... this is a bit odd (and may take long)"
       ]
      },
      {
       "output_type": "stream",
       "stream": "stdout",
       "text": [
        "\n"
       ]
      },
      {
       "ename": "KeyboardInterrupt",
       "evalue": "",
       "output_type": "pyerr",
       "traceback": [
        "\u001b[1;31m---------------------------------------------------------------------------\u001b[0m\n\u001b[1;31mKeyboardInterrupt\u001b[0m                         Traceback (most recent call last)",
        "\u001b[1;32m<ipython-input-15-047e85fb8b90>\u001b[0m in \u001b[0;36m<module>\u001b[1;34m()\u001b[0m\n\u001b[0;32m     30\u001b[0m     \u001b[0mparameters\u001b[0m \u001b[1;33m=\u001b[0m \u001b[0mcalc_tel_params\u001b[0m\u001b[1;33m(\u001b[0m\u001b[0mmode\u001b[0m\u001b[1;33m=\u001b[0m\u001b[0mmode\u001b[0m\u001b[1;33m,\u001b[0m \u001b[0mhpso_key\u001b[0m\u001b[1;33m=\u001b[0m\u001b[0mhpso\u001b[0m\u001b[1;33m)\u001b[0m\u001b[1;33m\u001b[0m\u001b[0m\n\u001b[0;32m     31\u001b[0m     \u001b[1;32mif\u001b[0m \u001b[0mmode\u001b[0m \u001b[1;33m==\u001b[0m \u001b[1;34m'CS'\u001b[0m\u001b[1;33m:\u001b[0m\u001b[1;33m\u001b[0m\u001b[0m\n\u001b[1;32m---> 32\u001b[1;33m         \u001b[1;33m(\u001b[0m\u001b[0mTsnap_opt_C\u001b[0m\u001b[1;33m,\u001b[0m \u001b[0mNfacet_opt_C\u001b[0m\u001b[1;33m)\u001b[0m \u001b[1;33m=\u001b[0m \u001b[0mfind_optimal_Tsnap_Nfacet\u001b[0m\u001b[1;33m(\u001b[0m\u001b[0mmode\u001b[0m\u001b[1;33m=\u001b[0m\u001b[1;34m'Continuum'\u001b[0m\u001b[1;33m,\u001b[0m \u001b[0mhpso\u001b[0m\u001b[1;33m=\u001b[0m\u001b[0mhpso\u001b[0m\u001b[1;33m)\u001b[0m\u001b[1;33m\u001b[0m\u001b[0m\n\u001b[0m\u001b[0;32m     33\u001b[0m         \u001b[1;33m(\u001b[0m\u001b[0mTsnap_opt_S\u001b[0m\u001b[1;33m,\u001b[0m \u001b[0mNfacet_opt_S\u001b[0m\u001b[1;33m)\u001b[0m \u001b[1;33m=\u001b[0m \u001b[0mfind_optimal_Tsnap_Nfacet\u001b[0m\u001b[1;33m(\u001b[0m\u001b[0mmode\u001b[0m\u001b[1;33m=\u001b[0m\u001b[1;34m'Spectral'\u001b[0m\u001b[1;33m,\u001b[0m \u001b[0mhpso\u001b[0m\u001b[1;33m=\u001b[0m\u001b[0mhpso\u001b[0m\u001b[1;33m)\u001b[0m\u001b[1;33m\u001b[0m\u001b[0m\n\u001b[0;32m     34\u001b[0m         \u001b[1;32mprint\u001b[0m \u001b[1;34m'Optimal (Tsnap, Nfacet) values = (%.2f sec, %d) for C and (%.2f sec, %d) for S'\u001b[0m             \u001b[1;33m%\u001b[0m \u001b[1;33m(\u001b[0m\u001b[0mTsnap_opt_C\u001b[0m\u001b[1;33m,\u001b[0m \u001b[0mNfacet_opt_C\u001b[0m\u001b[1;33m,\u001b[0m \u001b[0mTsnap_opt_S\u001b[0m\u001b[1;33m,\u001b[0m \u001b[0mNfacet_opt_S\u001b[0m\u001b[1;33m)\u001b[0m\u001b[1;33m\u001b[0m\u001b[0m\n",
        "\u001b[1;32mW:\\SKA\\Parametric Models\\sdp-par-model\\iPython\\implementation.py\u001b[0m in \u001b[0;36mfind_optimal_Tsnap_Nfacet\u001b[1;34m(band, mode, hpso, max_number_nfacets, verbose)\u001b[0m\n\u001b[0;32m    184\u001b[0m         \u001b[0muniversal\u001b[0m\u001b[1;33m[\u001b[0m\u001b[0mNfacet\u001b[0m\u001b[1;33m]\u001b[0m \u001b[1;33m=\u001b[0m \u001b[0mnfacets\u001b[0m\u001b[1;33m\u001b[0m\u001b[0m\n\u001b[0;32m    185\u001b[0m         \u001b[0mparameters\u001b[0m \u001b[1;33m=\u001b[0m \u001b[0mcalc_tel_params\u001b[0m\u001b[1;33m(\u001b[0m\u001b[0mband\u001b[0m\u001b[1;33m=\u001b[0m\u001b[0mband\u001b[0m\u001b[1;33m,\u001b[0m \u001b[0mmode\u001b[0m\u001b[1;33m=\u001b[0m\u001b[0mmode\u001b[0m\u001b[1;33m,\u001b[0m \u001b[0mhpso_key\u001b[0m\u001b[1;33m=\u001b[0m\u001b[0mhpso\u001b[0m\u001b[1;33m)\u001b[0m\u001b[1;33m\u001b[0m\u001b[0m\n\u001b[1;32m--> 186\u001b[1;33m         \u001b[0manswer\u001b[0m \u001b[1;33m=\u001b[0m \u001b[0mminimize_expression\u001b[0m\u001b[1;33m(\u001b[0m\u001b[0mexpression\u001b[0m\u001b[1;33m=\u001b[0m\u001b[0mRflop\u001b[0m\u001b[1;33m,\u001b[0m \u001b[0mtelescope_parameters\u001b[0m\u001b[1;33m=\u001b[0m\u001b[0mparameters\u001b[0m\u001b[1;33m,\u001b[0m \u001b[0mmode\u001b[0m\u001b[1;33m=\u001b[0m\u001b[0mmode\u001b[0m\u001b[1;33m)\u001b[0m\u001b[1;33m\u001b[0m\u001b[0m\n\u001b[0m\u001b[0;32m    187\u001b[0m         \u001b[0mflop_array\u001b[0m\u001b[1;33m.\u001b[0m\u001b[0mappend\u001b[0m\u001b[1;33m(\u001b[0m\u001b[0mfloat\u001b[0m\u001b[1;33m(\u001b[0m\u001b[0manswer\u001b[0m\u001b[1;33m[\u001b[0m\u001b[1;34m'value'\u001b[0m\u001b[1;33m]\u001b[0m\u001b[1;33m)\u001b[0m\u001b[1;33m)\u001b[0m\u001b[1;33m\u001b[0m\u001b[0m\n\u001b[0;32m    188\u001b[0m         \u001b[0mTsnap_array\u001b[0m\u001b[1;33m.\u001b[0m\u001b[0mappend\u001b[0m\u001b[1;33m(\u001b[0m\u001b[0manswer\u001b[0m\u001b[1;33m[\u001b[0m\u001b[0mTsnap\u001b[0m\u001b[1;33m]\u001b[0m\u001b[1;33m)\u001b[0m\u001b[1;33m\u001b[0m\u001b[0m\n",
        "\u001b[1;32mW:\\SKA\\Parametric Models\\sdp-par-model\\iPython\\implementation.py\u001b[0m in \u001b[0;36mminimize_expression\u001b[1;34m(expression, telescope_parameters, mode, verbose, verbose_variables)\u001b[0m\n\u001b[0;32m    147\u001b[0m     \u001b[0mcounts\u001b[0m \u001b[1;33m=\u001b[0m \u001b[0mcounts\u001b[0m\u001b[1;33m[\u001b[0m\u001b[1;33m:\u001b[0m\u001b[0mnbins_used\u001b[0m\u001b[1;33m]\u001b[0m  \u001b[1;31m# Restrict the bins counts used to only those bins that are used\u001b[0m\u001b[1;33m\u001b[0m\u001b[0m\n\u001b[0;32m    148\u001b[0m \u001b[1;33m\u001b[0m\u001b[0m\n\u001b[1;32m--> 149\u001b[1;33m     \u001b[0mresult\u001b[0m \u001b[1;33m=\u001b[0m \u001b[0msubstitute_parameters_binned\u001b[0m\u001b[1;33m(\u001b[0m\u001b[0mexpression\u001b[0m\u001b[1;33m,\u001b[0m \u001b[0mtp\u001b[0m\u001b[1;33m,\u001b[0m \u001b[0mbins\u001b[0m\u001b[1;33m,\u001b[0m \u001b[0mcounts\u001b[0m\u001b[1;33m,\u001b[0m \u001b[0mnbins_used\u001b[0m\u001b[1;33m,\u001b[0m \u001b[0mverbose_variables\u001b[0m\u001b[1;33m)\u001b[0m\u001b[1;33m\u001b[0m\u001b[0m\n\u001b[0m\u001b[0;32m    150\u001b[0m \u001b[1;33m\u001b[0m\u001b[0m\n\u001b[0;32m    151\u001b[0m     \u001b[1;31m# Remove string literals from the telescope_params, as they can't be evaluated by lambdify\u001b[0m\u001b[1;33m\u001b[0m\u001b[1;33m\u001b[0m\u001b[0m\n",
        "\u001b[1;32mW:\\SKA\\Parametric Models\\sdp-par-model\\iPython\\implementation.py\u001b[0m in \u001b[0;36msubstitute_parameters_binned\u001b[1;34m(expression, tp, bins, counts, nbins_used, verbose_variables)\u001b[0m\n\u001b[0;32m    111\u001b[0m             \u001b[1;32mprint\u001b[0m \u001b[0mverbose_output\u001b[0m\u001b[1;33m\u001b[0m\u001b[0m\n\u001b[0;32m    112\u001b[0m         \u001b[1;31m# Compute the actual result\u001b[0m\u001b[1;33m\u001b[0m\u001b[1;33m\u001b[0m\u001b[0m\n\u001b[1;32m--> 113\u001b[1;33m         \u001b[0mtemp_result\u001b[0m \u001b[1;33m+=\u001b[0m \u001b[0mexpression\u001b[0m\u001b[1;33m.\u001b[0m\u001b[0msubs\u001b[0m\u001b[1;33m(\u001b[0m\u001b[0mtp\u001b[0m\u001b[1;33m)\u001b[0m\u001b[1;33m.\u001b[0m\u001b[0msubs\u001b[0m\u001b[1;33m(\u001b[0m\u001b[0mtp\u001b[0m\u001b[1;33m)\u001b[0m\u001b[1;33m\u001b[0m\u001b[0m\n\u001b[0m\u001b[0;32m    114\u001b[0m     \u001b[1;32mreturn\u001b[0m \u001b[0mtemp_result\u001b[0m\u001b[1;33m\u001b[0m\u001b[0m\n\u001b[0;32m    115\u001b[0m \u001b[1;33m\u001b[0m\u001b[0m\n",
        "\u001b[1;32mC:\\Anaconda\\lib\\site-packages\\sympy\\core\\basic.pyc\u001b[0m in \u001b[0;36msubs\u001b[1;34m(self, *args, **kwargs)\u001b[0m\n\u001b[0;32m    890\u001b[0m             \u001b[0mrv\u001b[0m \u001b[1;33m=\u001b[0m \u001b[0mself\u001b[0m\u001b[1;33m\u001b[0m\u001b[0m\n\u001b[0;32m    891\u001b[0m             \u001b[1;32mfor\u001b[0m \u001b[0mold\u001b[0m\u001b[1;33m,\u001b[0m \u001b[0mnew\u001b[0m \u001b[1;32min\u001b[0m \u001b[0msequence\u001b[0m\u001b[1;33m:\u001b[0m\u001b[1;33m\u001b[0m\u001b[0m\n\u001b[1;32m--> 892\u001b[1;33m                 \u001b[0mrv\u001b[0m \u001b[1;33m=\u001b[0m \u001b[0mrv\u001b[0m\u001b[1;33m.\u001b[0m\u001b[0m_subs\u001b[0m\u001b[1;33m(\u001b[0m\u001b[0mold\u001b[0m\u001b[1;33m,\u001b[0m \u001b[0mnew\u001b[0m\u001b[1;33m,\u001b[0m \u001b[1;33m**\u001b[0m\u001b[0mkwargs\u001b[0m\u001b[1;33m)\u001b[0m\u001b[1;33m\u001b[0m\u001b[0m\n\u001b[0m\u001b[0;32m    893\u001b[0m                 \u001b[1;32mif\u001b[0m \u001b[1;32mnot\u001b[0m \u001b[0misinstance\u001b[0m\u001b[1;33m(\u001b[0m\u001b[0mrv\u001b[0m\u001b[1;33m,\u001b[0m \u001b[0mBasic\u001b[0m\u001b[1;33m)\u001b[0m\u001b[1;33m:\u001b[0m\u001b[1;33m\u001b[0m\u001b[0m\n\u001b[0;32m    894\u001b[0m                     \u001b[1;32mbreak\u001b[0m\u001b[1;33m\u001b[0m\u001b[0m\n",
        "\u001b[1;32mC:\\Anaconda\\lib\\site-packages\\sympy\\core\\cache.pyc\u001b[0m in \u001b[0;36mwrapper\u001b[1;34m(*args, **kwargs)\u001b[0m\n\u001b[0;32m     89\u001b[0m             \u001b[1;32mdef\u001b[0m \u001b[0mwrapper\u001b[0m\u001b[1;33m(\u001b[0m\u001b[1;33m*\u001b[0m\u001b[0margs\u001b[0m\u001b[1;33m,\u001b[0m \u001b[1;33m**\u001b[0m\u001b[0mkwargs\u001b[0m\u001b[1;33m)\u001b[0m\u001b[1;33m:\u001b[0m\u001b[1;33m\u001b[0m\u001b[0m\n\u001b[0;32m     90\u001b[0m                 \u001b[1;32mtry\u001b[0m\u001b[1;33m:\u001b[0m\u001b[1;33m\u001b[0m\u001b[0m\n\u001b[1;32m---> 91\u001b[1;33m                     \u001b[0mretval\u001b[0m \u001b[1;33m=\u001b[0m \u001b[0mcfunc\u001b[0m\u001b[1;33m(\u001b[0m\u001b[1;33m*\u001b[0m\u001b[0margs\u001b[0m\u001b[1;33m,\u001b[0m \u001b[1;33m**\u001b[0m\u001b[0mkwargs\u001b[0m\u001b[1;33m)\u001b[0m\u001b[1;33m\u001b[0m\u001b[0m\n\u001b[0m\u001b[0;32m     92\u001b[0m                 \u001b[1;32mexcept\u001b[0m \u001b[0mTypeError\u001b[0m\u001b[1;33m:\u001b[0m\u001b[1;33m\u001b[0m\u001b[0m\n\u001b[0;32m     93\u001b[0m                     \u001b[0mretval\u001b[0m \u001b[1;33m=\u001b[0m \u001b[0mfunc\u001b[0m\u001b[1;33m(\u001b[0m\u001b[1;33m*\u001b[0m\u001b[0margs\u001b[0m\u001b[1;33m,\u001b[0m \u001b[1;33m**\u001b[0m\u001b[0mkwargs\u001b[0m\u001b[1;33m)\u001b[0m\u001b[1;33m\u001b[0m\u001b[0m\n",
        "\u001b[1;32mC:\\Anaconda\\lib\\site-packages\\sympy\\core\\compatibility.pyc\u001b[0m in \u001b[0;36mwrapper\u001b[1;34m(*args, **kwds)\u001b[0m\n\u001b[0;32m    870\u001b[0m                         \u001b[0mstats\u001b[0m\u001b[1;33m[\u001b[0m\u001b[0mHITS\u001b[0m\u001b[1;33m]\u001b[0m \u001b[1;33m+=\u001b[0m \u001b[1;36m1\u001b[0m\u001b[1;33m\u001b[0m\u001b[0m\n\u001b[0;32m    871\u001b[0m                         \u001b[1;32mreturn\u001b[0m \u001b[0mresult\u001b[0m\u001b[1;33m\u001b[0m\u001b[0m\n\u001b[1;32m--> 872\u001b[1;33m                 \u001b[0mresult\u001b[0m \u001b[1;33m=\u001b[0m \u001b[0muser_function\u001b[0m\u001b[1;33m(\u001b[0m\u001b[1;33m*\u001b[0m\u001b[0margs\u001b[0m\u001b[1;33m,\u001b[0m \u001b[1;33m**\u001b[0m\u001b[0mkwds\u001b[0m\u001b[1;33m)\u001b[0m\u001b[1;33m\u001b[0m\u001b[0m\n\u001b[0m\u001b[0;32m    873\u001b[0m                 \u001b[1;32mwith\u001b[0m \u001b[0mlock\u001b[0m\u001b[1;33m:\u001b[0m\u001b[1;33m\u001b[0m\u001b[0m\n\u001b[0;32m    874\u001b[0m                     \u001b[0mroot\u001b[0m\u001b[1;33m,\u001b[0m \u001b[1;33m=\u001b[0m \u001b[0mnonlocal_root\u001b[0m\u001b[1;33m\u001b[0m\u001b[0m\n",
        "\u001b[1;32mC:\\Anaconda\\lib\\site-packages\\sympy\\core\\basic.pyc\u001b[0m in \u001b[0;36m_subs\u001b[1;34m(self, old, new, **hints)\u001b[0m\n\u001b[0;32m   1004\u001b[0m         \u001b[0mrv\u001b[0m \u001b[1;33m=\u001b[0m \u001b[0mself\u001b[0m\u001b[1;33m.\u001b[0m\u001b[0m_eval_subs\u001b[0m\u001b[1;33m(\u001b[0m\u001b[0mold\u001b[0m\u001b[1;33m,\u001b[0m \u001b[0mnew\u001b[0m\u001b[1;33m)\u001b[0m\u001b[1;33m\u001b[0m\u001b[0m\n\u001b[0;32m   1005\u001b[0m         \u001b[1;32mif\u001b[0m \u001b[0mrv\u001b[0m \u001b[1;32mis\u001b[0m \u001b[0mNone\u001b[0m\u001b[1;33m:\u001b[0m\u001b[1;33m\u001b[0m\u001b[0m\n\u001b[1;32m-> 1006\u001b[1;33m             \u001b[0mrv\u001b[0m \u001b[1;33m=\u001b[0m \u001b[0mfallback\u001b[0m\u001b[1;33m(\u001b[0m\u001b[0mself\u001b[0m\u001b[1;33m,\u001b[0m \u001b[0mold\u001b[0m\u001b[1;33m,\u001b[0m \u001b[0mnew\u001b[0m\u001b[1;33m)\u001b[0m\u001b[1;33m\u001b[0m\u001b[0m\n\u001b[0m\u001b[0;32m   1007\u001b[0m         \u001b[1;32mreturn\u001b[0m \u001b[0mrv\u001b[0m\u001b[1;33m\u001b[0m\u001b[0m\n\u001b[0;32m   1008\u001b[0m \u001b[1;33m\u001b[0m\u001b[0m\n",
        "\u001b[1;32mC:\\Anaconda\\lib\\site-packages\\sympy\\core\\basic.pyc\u001b[0m in \u001b[0;36mfallback\u001b[1;34m(self, old, new)\u001b[0m\n\u001b[0;32m    976\u001b[0m                 \u001b[1;32mif\u001b[0m \u001b[1;32mnot\u001b[0m \u001b[0mhasattr\u001b[0m\u001b[1;33m(\u001b[0m\u001b[0marg\u001b[0m\u001b[1;33m,\u001b[0m \u001b[1;34m'_eval_subs'\u001b[0m\u001b[1;33m)\u001b[0m\u001b[1;33m:\u001b[0m\u001b[1;33m\u001b[0m\u001b[0m\n\u001b[0;32m    977\u001b[0m                     \u001b[1;32mcontinue\u001b[0m\u001b[1;33m\u001b[0m\u001b[0m\n\u001b[1;32m--> 978\u001b[1;33m                 \u001b[0marg\u001b[0m \u001b[1;33m=\u001b[0m \u001b[0marg\u001b[0m\u001b[1;33m.\u001b[0m\u001b[0m_subs\u001b[0m\u001b[1;33m(\u001b[0m\u001b[0mold\u001b[0m\u001b[1;33m,\u001b[0m \u001b[0mnew\u001b[0m\u001b[1;33m,\u001b[0m \u001b[1;33m**\u001b[0m\u001b[0mhints\u001b[0m\u001b[1;33m)\u001b[0m\u001b[1;33m\u001b[0m\u001b[0m\n\u001b[0m\u001b[0;32m    979\u001b[0m                 \u001b[1;32mif\u001b[0m \u001b[1;32mnot\u001b[0m \u001b[0m_aresame\u001b[0m\u001b[1;33m(\u001b[0m\u001b[0marg\u001b[0m\u001b[1;33m,\u001b[0m \u001b[0margs\u001b[0m\u001b[1;33m[\u001b[0m\u001b[0mi\u001b[0m\u001b[1;33m]\u001b[0m\u001b[1;33m)\u001b[0m\u001b[1;33m:\u001b[0m\u001b[1;33m\u001b[0m\u001b[0m\n\u001b[0;32m    980\u001b[0m                     \u001b[0mhit\u001b[0m \u001b[1;33m=\u001b[0m \u001b[0mTrue\u001b[0m\u001b[1;33m\u001b[0m\u001b[0m\n",
        "\u001b[1;32mC:\\Anaconda\\lib\\site-packages\\sympy\\core\\cache.pyc\u001b[0m in \u001b[0;36mwrapper\u001b[1;34m(*args, **kwargs)\u001b[0m\n\u001b[0;32m     89\u001b[0m             \u001b[1;32mdef\u001b[0m \u001b[0mwrapper\u001b[0m\u001b[1;33m(\u001b[0m\u001b[1;33m*\u001b[0m\u001b[0margs\u001b[0m\u001b[1;33m,\u001b[0m \u001b[1;33m**\u001b[0m\u001b[0mkwargs\u001b[0m\u001b[1;33m)\u001b[0m\u001b[1;33m:\u001b[0m\u001b[1;33m\u001b[0m\u001b[0m\n\u001b[0;32m     90\u001b[0m                 \u001b[1;32mtry\u001b[0m\u001b[1;33m:\u001b[0m\u001b[1;33m\u001b[0m\u001b[0m\n\u001b[1;32m---> 91\u001b[1;33m                     \u001b[0mretval\u001b[0m \u001b[1;33m=\u001b[0m \u001b[0mcfunc\u001b[0m\u001b[1;33m(\u001b[0m\u001b[1;33m*\u001b[0m\u001b[0margs\u001b[0m\u001b[1;33m,\u001b[0m \u001b[1;33m**\u001b[0m\u001b[0mkwargs\u001b[0m\u001b[1;33m)\u001b[0m\u001b[1;33m\u001b[0m\u001b[0m\n\u001b[0m\u001b[0;32m     92\u001b[0m                 \u001b[1;32mexcept\u001b[0m \u001b[0mTypeError\u001b[0m\u001b[1;33m:\u001b[0m\u001b[1;33m\u001b[0m\u001b[0m\n\u001b[0;32m     93\u001b[0m                     \u001b[0mretval\u001b[0m \u001b[1;33m=\u001b[0m \u001b[0mfunc\u001b[0m\u001b[1;33m(\u001b[0m\u001b[1;33m*\u001b[0m\u001b[0margs\u001b[0m\u001b[1;33m,\u001b[0m \u001b[1;33m**\u001b[0m\u001b[0mkwargs\u001b[0m\u001b[1;33m)\u001b[0m\u001b[1;33m\u001b[0m\u001b[0m\n",
        "\u001b[1;32mC:\\Anaconda\\lib\\site-packages\\sympy\\core\\compatibility.pyc\u001b[0m in \u001b[0;36mwrapper\u001b[1;34m(*args, **kwds)\u001b[0m\n\u001b[0;32m    870\u001b[0m                         \u001b[0mstats\u001b[0m\u001b[1;33m[\u001b[0m\u001b[0mHITS\u001b[0m\u001b[1;33m]\u001b[0m \u001b[1;33m+=\u001b[0m \u001b[1;36m1\u001b[0m\u001b[1;33m\u001b[0m\u001b[0m\n\u001b[0;32m    871\u001b[0m                         \u001b[1;32mreturn\u001b[0m \u001b[0mresult\u001b[0m\u001b[1;33m\u001b[0m\u001b[0m\n\u001b[1;32m--> 872\u001b[1;33m                 \u001b[0mresult\u001b[0m \u001b[1;33m=\u001b[0m \u001b[0muser_function\u001b[0m\u001b[1;33m(\u001b[0m\u001b[1;33m*\u001b[0m\u001b[0margs\u001b[0m\u001b[1;33m,\u001b[0m \u001b[1;33m**\u001b[0m\u001b[0mkwds\u001b[0m\u001b[1;33m)\u001b[0m\u001b[1;33m\u001b[0m\u001b[0m\n\u001b[0m\u001b[0;32m    873\u001b[0m                 \u001b[1;32mwith\u001b[0m \u001b[0mlock\u001b[0m\u001b[1;33m:\u001b[0m\u001b[1;33m\u001b[0m\u001b[0m\n\u001b[0;32m    874\u001b[0m                     \u001b[0mroot\u001b[0m\u001b[1;33m,\u001b[0m \u001b[1;33m=\u001b[0m \u001b[0mnonlocal_root\u001b[0m\u001b[1;33m\u001b[0m\u001b[0m\n",
        "\u001b[1;32mC:\\Anaconda\\lib\\site-packages\\sympy\\core\\basic.pyc\u001b[0m in \u001b[0;36m_subs\u001b[1;34m(self, old, new, **hints)\u001b[0m\n\u001b[0;32m   1004\u001b[0m         \u001b[0mrv\u001b[0m \u001b[1;33m=\u001b[0m \u001b[0mself\u001b[0m\u001b[1;33m.\u001b[0m\u001b[0m_eval_subs\u001b[0m\u001b[1;33m(\u001b[0m\u001b[0mold\u001b[0m\u001b[1;33m,\u001b[0m \u001b[0mnew\u001b[0m\u001b[1;33m)\u001b[0m\u001b[1;33m\u001b[0m\u001b[0m\n\u001b[0;32m   1005\u001b[0m         \u001b[1;32mif\u001b[0m \u001b[0mrv\u001b[0m \u001b[1;32mis\u001b[0m \u001b[0mNone\u001b[0m\u001b[1;33m:\u001b[0m\u001b[1;33m\u001b[0m\u001b[0m\n\u001b[1;32m-> 1006\u001b[1;33m             \u001b[0mrv\u001b[0m \u001b[1;33m=\u001b[0m \u001b[0mfallback\u001b[0m\u001b[1;33m(\u001b[0m\u001b[0mself\u001b[0m\u001b[1;33m,\u001b[0m \u001b[0mold\u001b[0m\u001b[1;33m,\u001b[0m \u001b[0mnew\u001b[0m\u001b[1;33m)\u001b[0m\u001b[1;33m\u001b[0m\u001b[0m\n\u001b[0m\u001b[0;32m   1007\u001b[0m         \u001b[1;32mreturn\u001b[0m \u001b[0mrv\u001b[0m\u001b[1;33m\u001b[0m\u001b[0m\n\u001b[0;32m   1008\u001b[0m \u001b[1;33m\u001b[0m\u001b[0m\n",
        "\u001b[1;32mC:\\Anaconda\\lib\\site-packages\\sympy\\core\\basic.pyc\u001b[0m in \u001b[0;36mfallback\u001b[1;34m(self, old, new)\u001b[0m\n\u001b[0;32m    976\u001b[0m                 \u001b[1;32mif\u001b[0m \u001b[1;32mnot\u001b[0m \u001b[0mhasattr\u001b[0m\u001b[1;33m(\u001b[0m\u001b[0marg\u001b[0m\u001b[1;33m,\u001b[0m \u001b[1;34m'_eval_subs'\u001b[0m\u001b[1;33m)\u001b[0m\u001b[1;33m:\u001b[0m\u001b[1;33m\u001b[0m\u001b[0m\n\u001b[0;32m    977\u001b[0m                     \u001b[1;32mcontinue\u001b[0m\u001b[1;33m\u001b[0m\u001b[0m\n\u001b[1;32m--> 978\u001b[1;33m                 \u001b[0marg\u001b[0m \u001b[1;33m=\u001b[0m \u001b[0marg\u001b[0m\u001b[1;33m.\u001b[0m\u001b[0m_subs\u001b[0m\u001b[1;33m(\u001b[0m\u001b[0mold\u001b[0m\u001b[1;33m,\u001b[0m \u001b[0mnew\u001b[0m\u001b[1;33m,\u001b[0m \u001b[1;33m**\u001b[0m\u001b[0mhints\u001b[0m\u001b[1;33m)\u001b[0m\u001b[1;33m\u001b[0m\u001b[0m\n\u001b[0m\u001b[0;32m    979\u001b[0m                 \u001b[1;32mif\u001b[0m \u001b[1;32mnot\u001b[0m \u001b[0m_aresame\u001b[0m\u001b[1;33m(\u001b[0m\u001b[0marg\u001b[0m\u001b[1;33m,\u001b[0m \u001b[0margs\u001b[0m\u001b[1;33m[\u001b[0m\u001b[0mi\u001b[0m\u001b[1;33m]\u001b[0m\u001b[1;33m)\u001b[0m\u001b[1;33m:\u001b[0m\u001b[1;33m\u001b[0m\u001b[0m\n\u001b[0;32m    980\u001b[0m                     \u001b[0mhit\u001b[0m \u001b[1;33m=\u001b[0m \u001b[0mTrue\u001b[0m\u001b[1;33m\u001b[0m\u001b[0m\n",
        "\u001b[1;32mC:\\Anaconda\\lib\\site-packages\\sympy\\core\\cache.pyc\u001b[0m in \u001b[0;36mwrapper\u001b[1;34m(*args, **kwargs)\u001b[0m\n\u001b[0;32m     89\u001b[0m             \u001b[1;32mdef\u001b[0m \u001b[0mwrapper\u001b[0m\u001b[1;33m(\u001b[0m\u001b[1;33m*\u001b[0m\u001b[0margs\u001b[0m\u001b[1;33m,\u001b[0m \u001b[1;33m**\u001b[0m\u001b[0mkwargs\u001b[0m\u001b[1;33m)\u001b[0m\u001b[1;33m:\u001b[0m\u001b[1;33m\u001b[0m\u001b[0m\n\u001b[0;32m     90\u001b[0m                 \u001b[1;32mtry\u001b[0m\u001b[1;33m:\u001b[0m\u001b[1;33m\u001b[0m\u001b[0m\n\u001b[1;32m---> 91\u001b[1;33m                     \u001b[0mretval\u001b[0m \u001b[1;33m=\u001b[0m \u001b[0mcfunc\u001b[0m\u001b[1;33m(\u001b[0m\u001b[1;33m*\u001b[0m\u001b[0margs\u001b[0m\u001b[1;33m,\u001b[0m \u001b[1;33m**\u001b[0m\u001b[0mkwargs\u001b[0m\u001b[1;33m)\u001b[0m\u001b[1;33m\u001b[0m\u001b[0m\n\u001b[0m\u001b[0;32m     92\u001b[0m                 \u001b[1;32mexcept\u001b[0m \u001b[0mTypeError\u001b[0m\u001b[1;33m:\u001b[0m\u001b[1;33m\u001b[0m\u001b[0m\n\u001b[0;32m     93\u001b[0m                     \u001b[0mretval\u001b[0m \u001b[1;33m=\u001b[0m \u001b[0mfunc\u001b[0m\u001b[1;33m(\u001b[0m\u001b[1;33m*\u001b[0m\u001b[0margs\u001b[0m\u001b[1;33m,\u001b[0m \u001b[1;33m**\u001b[0m\u001b[0mkwargs\u001b[0m\u001b[1;33m)\u001b[0m\u001b[1;33m\u001b[0m\u001b[0m\n",
        "\u001b[1;32mC:\\Anaconda\\lib\\site-packages\\sympy\\core\\compatibility.pyc\u001b[0m in \u001b[0;36mwrapper\u001b[1;34m(*args, **kwds)\u001b[0m\n\u001b[0;32m    870\u001b[0m                         \u001b[0mstats\u001b[0m\u001b[1;33m[\u001b[0m\u001b[0mHITS\u001b[0m\u001b[1;33m]\u001b[0m \u001b[1;33m+=\u001b[0m \u001b[1;36m1\u001b[0m\u001b[1;33m\u001b[0m\u001b[0m\n\u001b[0;32m    871\u001b[0m                         \u001b[1;32mreturn\u001b[0m \u001b[0mresult\u001b[0m\u001b[1;33m\u001b[0m\u001b[0m\n\u001b[1;32m--> 872\u001b[1;33m                 \u001b[0mresult\u001b[0m \u001b[1;33m=\u001b[0m \u001b[0muser_function\u001b[0m\u001b[1;33m(\u001b[0m\u001b[1;33m*\u001b[0m\u001b[0margs\u001b[0m\u001b[1;33m,\u001b[0m \u001b[1;33m**\u001b[0m\u001b[0mkwds\u001b[0m\u001b[1;33m)\u001b[0m\u001b[1;33m\u001b[0m\u001b[0m\n\u001b[0m\u001b[0;32m    873\u001b[0m                 \u001b[1;32mwith\u001b[0m \u001b[0mlock\u001b[0m\u001b[1;33m:\u001b[0m\u001b[1;33m\u001b[0m\u001b[0m\n\u001b[0;32m    874\u001b[0m                     \u001b[0mroot\u001b[0m\u001b[1;33m,\u001b[0m \u001b[1;33m=\u001b[0m \u001b[0mnonlocal_root\u001b[0m\u001b[1;33m\u001b[0m\u001b[0m\n",
        "\u001b[1;32mC:\\Anaconda\\lib\\site-packages\\sympy\\core\\basic.pyc\u001b[0m in \u001b[0;36m_subs\u001b[1;34m(self, old, new, **hints)\u001b[0m\n\u001b[0;32m   1004\u001b[0m         \u001b[0mrv\u001b[0m \u001b[1;33m=\u001b[0m \u001b[0mself\u001b[0m\u001b[1;33m.\u001b[0m\u001b[0m_eval_subs\u001b[0m\u001b[1;33m(\u001b[0m\u001b[0mold\u001b[0m\u001b[1;33m,\u001b[0m \u001b[0mnew\u001b[0m\u001b[1;33m)\u001b[0m\u001b[1;33m\u001b[0m\u001b[0m\n\u001b[0;32m   1005\u001b[0m         \u001b[1;32mif\u001b[0m \u001b[0mrv\u001b[0m \u001b[1;32mis\u001b[0m \u001b[0mNone\u001b[0m\u001b[1;33m:\u001b[0m\u001b[1;33m\u001b[0m\u001b[0m\n\u001b[1;32m-> 1006\u001b[1;33m             \u001b[0mrv\u001b[0m \u001b[1;33m=\u001b[0m \u001b[0mfallback\u001b[0m\u001b[1;33m(\u001b[0m\u001b[0mself\u001b[0m\u001b[1;33m,\u001b[0m \u001b[0mold\u001b[0m\u001b[1;33m,\u001b[0m \u001b[0mnew\u001b[0m\u001b[1;33m)\u001b[0m\u001b[1;33m\u001b[0m\u001b[0m\n\u001b[0m\u001b[0;32m   1007\u001b[0m         \u001b[1;32mreturn\u001b[0m \u001b[0mrv\u001b[0m\u001b[1;33m\u001b[0m\u001b[0m\n\u001b[0;32m   1008\u001b[0m \u001b[1;33m\u001b[0m\u001b[0m\n",
        "\u001b[1;32mC:\\Anaconda\\lib\\site-packages\\sympy\\core\\basic.pyc\u001b[0m in \u001b[0;36mfallback\u001b[1;34m(self, old, new)\u001b[0m\n\u001b[0;32m    976\u001b[0m                 \u001b[1;32mif\u001b[0m \u001b[1;32mnot\u001b[0m \u001b[0mhasattr\u001b[0m\u001b[1;33m(\u001b[0m\u001b[0marg\u001b[0m\u001b[1;33m,\u001b[0m \u001b[1;34m'_eval_subs'\u001b[0m\u001b[1;33m)\u001b[0m\u001b[1;33m:\u001b[0m\u001b[1;33m\u001b[0m\u001b[0m\n\u001b[0;32m    977\u001b[0m                     \u001b[1;32mcontinue\u001b[0m\u001b[1;33m\u001b[0m\u001b[0m\n\u001b[1;32m--> 978\u001b[1;33m                 \u001b[0marg\u001b[0m \u001b[1;33m=\u001b[0m \u001b[0marg\u001b[0m\u001b[1;33m.\u001b[0m\u001b[0m_subs\u001b[0m\u001b[1;33m(\u001b[0m\u001b[0mold\u001b[0m\u001b[1;33m,\u001b[0m \u001b[0mnew\u001b[0m\u001b[1;33m,\u001b[0m \u001b[1;33m**\u001b[0m\u001b[0mhints\u001b[0m\u001b[1;33m)\u001b[0m\u001b[1;33m\u001b[0m\u001b[0m\n\u001b[0m\u001b[0;32m    979\u001b[0m                 \u001b[1;32mif\u001b[0m \u001b[1;32mnot\u001b[0m \u001b[0m_aresame\u001b[0m\u001b[1;33m(\u001b[0m\u001b[0marg\u001b[0m\u001b[1;33m,\u001b[0m \u001b[0margs\u001b[0m\u001b[1;33m[\u001b[0m\u001b[0mi\u001b[0m\u001b[1;33m]\u001b[0m\u001b[1;33m)\u001b[0m\u001b[1;33m:\u001b[0m\u001b[1;33m\u001b[0m\u001b[0m\n\u001b[0;32m    980\u001b[0m                     \u001b[0mhit\u001b[0m \u001b[1;33m=\u001b[0m \u001b[0mTrue\u001b[0m\u001b[1;33m\u001b[0m\u001b[0m\n",
        "\u001b[1;32mC:\\Anaconda\\lib\\site-packages\\sympy\\core\\cache.pyc\u001b[0m in \u001b[0;36mwrapper\u001b[1;34m(*args, **kwargs)\u001b[0m\n\u001b[0;32m     89\u001b[0m             \u001b[1;32mdef\u001b[0m \u001b[0mwrapper\u001b[0m\u001b[1;33m(\u001b[0m\u001b[1;33m*\u001b[0m\u001b[0margs\u001b[0m\u001b[1;33m,\u001b[0m \u001b[1;33m**\u001b[0m\u001b[0mkwargs\u001b[0m\u001b[1;33m)\u001b[0m\u001b[1;33m:\u001b[0m\u001b[1;33m\u001b[0m\u001b[0m\n\u001b[0;32m     90\u001b[0m                 \u001b[1;32mtry\u001b[0m\u001b[1;33m:\u001b[0m\u001b[1;33m\u001b[0m\u001b[0m\n\u001b[1;32m---> 91\u001b[1;33m                     \u001b[0mretval\u001b[0m \u001b[1;33m=\u001b[0m \u001b[0mcfunc\u001b[0m\u001b[1;33m(\u001b[0m\u001b[1;33m*\u001b[0m\u001b[0margs\u001b[0m\u001b[1;33m,\u001b[0m \u001b[1;33m**\u001b[0m\u001b[0mkwargs\u001b[0m\u001b[1;33m)\u001b[0m\u001b[1;33m\u001b[0m\u001b[0m\n\u001b[0m\u001b[0;32m     92\u001b[0m                 \u001b[1;32mexcept\u001b[0m \u001b[0mTypeError\u001b[0m\u001b[1;33m:\u001b[0m\u001b[1;33m\u001b[0m\u001b[0m\n\u001b[0;32m     93\u001b[0m                     \u001b[0mretval\u001b[0m \u001b[1;33m=\u001b[0m \u001b[0mfunc\u001b[0m\u001b[1;33m(\u001b[0m\u001b[1;33m*\u001b[0m\u001b[0margs\u001b[0m\u001b[1;33m,\u001b[0m \u001b[1;33m**\u001b[0m\u001b[0mkwargs\u001b[0m\u001b[1;33m)\u001b[0m\u001b[1;33m\u001b[0m\u001b[0m\n",
        "\u001b[1;32mC:\\Anaconda\\lib\\site-packages\\sympy\\core\\compatibility.pyc\u001b[0m in \u001b[0;36mwrapper\u001b[1;34m(*args, **kwds)\u001b[0m\n\u001b[0;32m    870\u001b[0m                         \u001b[0mstats\u001b[0m\u001b[1;33m[\u001b[0m\u001b[0mHITS\u001b[0m\u001b[1;33m]\u001b[0m \u001b[1;33m+=\u001b[0m \u001b[1;36m1\u001b[0m\u001b[1;33m\u001b[0m\u001b[0m\n\u001b[0;32m    871\u001b[0m                         \u001b[1;32mreturn\u001b[0m \u001b[0mresult\u001b[0m\u001b[1;33m\u001b[0m\u001b[0m\n\u001b[1;32m--> 872\u001b[1;33m                 \u001b[0mresult\u001b[0m \u001b[1;33m=\u001b[0m \u001b[0muser_function\u001b[0m\u001b[1;33m(\u001b[0m\u001b[1;33m*\u001b[0m\u001b[0margs\u001b[0m\u001b[1;33m,\u001b[0m \u001b[1;33m**\u001b[0m\u001b[0mkwds\u001b[0m\u001b[1;33m)\u001b[0m\u001b[1;33m\u001b[0m\u001b[0m\n\u001b[0m\u001b[0;32m    873\u001b[0m                 \u001b[1;32mwith\u001b[0m \u001b[0mlock\u001b[0m\u001b[1;33m:\u001b[0m\u001b[1;33m\u001b[0m\u001b[0m\n\u001b[0;32m    874\u001b[0m                     \u001b[0mroot\u001b[0m\u001b[1;33m,\u001b[0m \u001b[1;33m=\u001b[0m \u001b[0mnonlocal_root\u001b[0m\u001b[1;33m\u001b[0m\u001b[0m\n",
        "\u001b[1;32mC:\\Anaconda\\lib\\site-packages\\sympy\\core\\basic.pyc\u001b[0m in \u001b[0;36m_subs\u001b[1;34m(self, old, new, **hints)\u001b[0m\n\u001b[0;32m   1004\u001b[0m         \u001b[0mrv\u001b[0m \u001b[1;33m=\u001b[0m \u001b[0mself\u001b[0m\u001b[1;33m.\u001b[0m\u001b[0m_eval_subs\u001b[0m\u001b[1;33m(\u001b[0m\u001b[0mold\u001b[0m\u001b[1;33m,\u001b[0m \u001b[0mnew\u001b[0m\u001b[1;33m)\u001b[0m\u001b[1;33m\u001b[0m\u001b[0m\n\u001b[0;32m   1005\u001b[0m         \u001b[1;32mif\u001b[0m \u001b[0mrv\u001b[0m \u001b[1;32mis\u001b[0m \u001b[0mNone\u001b[0m\u001b[1;33m:\u001b[0m\u001b[1;33m\u001b[0m\u001b[0m\n\u001b[1;32m-> 1006\u001b[1;33m             \u001b[0mrv\u001b[0m \u001b[1;33m=\u001b[0m \u001b[0mfallback\u001b[0m\u001b[1;33m(\u001b[0m\u001b[0mself\u001b[0m\u001b[1;33m,\u001b[0m \u001b[0mold\u001b[0m\u001b[1;33m,\u001b[0m \u001b[0mnew\u001b[0m\u001b[1;33m)\u001b[0m\u001b[1;33m\u001b[0m\u001b[0m\n\u001b[0m\u001b[0;32m   1007\u001b[0m         \u001b[1;32mreturn\u001b[0m \u001b[0mrv\u001b[0m\u001b[1;33m\u001b[0m\u001b[0m\n\u001b[0;32m   1008\u001b[0m \u001b[1;33m\u001b[0m\u001b[0m\n",
        "\u001b[1;32mC:\\Anaconda\\lib\\site-packages\\sympy\\core\\basic.pyc\u001b[0m in \u001b[0;36mfallback\u001b[1;34m(self, old, new)\u001b[0m\n\u001b[0;32m    977\u001b[0m                     \u001b[1;32mcontinue\u001b[0m\u001b[1;33m\u001b[0m\u001b[0m\n\u001b[0;32m    978\u001b[0m                 \u001b[0marg\u001b[0m \u001b[1;33m=\u001b[0m \u001b[0marg\u001b[0m\u001b[1;33m.\u001b[0m\u001b[0m_subs\u001b[0m\u001b[1;33m(\u001b[0m\u001b[0mold\u001b[0m\u001b[1;33m,\u001b[0m \u001b[0mnew\u001b[0m\u001b[1;33m,\u001b[0m \u001b[1;33m**\u001b[0m\u001b[0mhints\u001b[0m\u001b[1;33m)\u001b[0m\u001b[1;33m\u001b[0m\u001b[0m\n\u001b[1;32m--> 979\u001b[1;33m                 \u001b[1;32mif\u001b[0m \u001b[1;32mnot\u001b[0m \u001b[0m_aresame\u001b[0m\u001b[1;33m(\u001b[0m\u001b[0marg\u001b[0m\u001b[1;33m,\u001b[0m \u001b[0margs\u001b[0m\u001b[1;33m[\u001b[0m\u001b[0mi\u001b[0m\u001b[1;33m]\u001b[0m\u001b[1;33m)\u001b[0m\u001b[1;33m:\u001b[0m\u001b[1;33m\u001b[0m\u001b[0m\n\u001b[0m\u001b[0;32m    980\u001b[0m                     \u001b[0mhit\u001b[0m \u001b[1;33m=\u001b[0m \u001b[0mTrue\u001b[0m\u001b[1;33m\u001b[0m\u001b[0m\n\u001b[0;32m    981\u001b[0m                     \u001b[0margs\u001b[0m\u001b[1;33m[\u001b[0m\u001b[0mi\u001b[0m\u001b[1;33m]\u001b[0m \u001b[1;33m=\u001b[0m \u001b[0marg\u001b[0m\u001b[1;33m\u001b[0m\u001b[0m\n",
        "\u001b[1;32mC:\\Anaconda\\lib\\site-packages\\sympy\\core\\basic.pyc\u001b[0m in \u001b[0;36m_aresame\u001b[1;34m(a, b)\u001b[0m\n\u001b[0;32m   1672\u001b[0m     \"\"\"\n\u001b[0;32m   1673\u001b[0m     \u001b[1;32mfrom\u001b[0m \u001b[1;33m.\u001b[0m\u001b[0mfunction\u001b[0m \u001b[1;32mimport\u001b[0m \u001b[0mAppliedUndef\u001b[0m\u001b[1;33m,\u001b[0m \u001b[0mUndefinedFunction\u001b[0m \u001b[1;32mas\u001b[0m \u001b[0mUndefFunc\u001b[0m\u001b[1;33m\u001b[0m\u001b[0m\n\u001b[1;32m-> 1674\u001b[1;33m     \u001b[1;32mfor\u001b[0m \u001b[0mi\u001b[0m\u001b[1;33m,\u001b[0m \u001b[0mj\u001b[0m \u001b[1;32min\u001b[0m \u001b[0mzip_longest\u001b[0m\u001b[1;33m(\u001b[0m\u001b[0mpreorder_traversal\u001b[0m\u001b[1;33m(\u001b[0m\u001b[0ma\u001b[0m\u001b[1;33m)\u001b[0m\u001b[1;33m,\u001b[0m \u001b[0mpreorder_traversal\u001b[0m\u001b[1;33m(\u001b[0m\u001b[0mb\u001b[0m\u001b[1;33m)\u001b[0m\u001b[1;33m)\u001b[0m\u001b[1;33m:\u001b[0m\u001b[1;33m\u001b[0m\u001b[0m\n\u001b[0m\u001b[0;32m   1675\u001b[0m         \u001b[1;32mif\u001b[0m \u001b[0mi\u001b[0m \u001b[1;33m!=\u001b[0m \u001b[0mj\u001b[0m \u001b[1;32mor\u001b[0m \u001b[0mtype\u001b[0m\u001b[1;33m(\u001b[0m\u001b[0mi\u001b[0m\u001b[1;33m)\u001b[0m \u001b[1;33m!=\u001b[0m \u001b[0mtype\u001b[0m\u001b[1;33m(\u001b[0m\u001b[0mj\u001b[0m\u001b[1;33m)\u001b[0m\u001b[1;33m:\u001b[0m\u001b[1;33m\u001b[0m\u001b[0m\n\u001b[0;32m   1676\u001b[0m             if ((isinstance(i, UndefFunc) and isinstance(j, UndefFunc)) or\n",
        "\u001b[1;32mC:\\Anaconda\\lib\\site-packages\\sympy\\core\\compatibility.pyc\u001b[0m in \u001b[0;36mnext\u001b[1;34m(self)\u001b[0m\n\u001b[0;32m    113\u001b[0m     \u001b[1;32mclass\u001b[0m \u001b[0mIterator\u001b[0m\u001b[1;33m(\u001b[0m\u001b[0mobject\u001b[0m\u001b[1;33m)\u001b[0m\u001b[1;33m:\u001b[0m\u001b[1;33m\u001b[0m\u001b[0m\n\u001b[0;32m    114\u001b[0m         \u001b[1;32mdef\u001b[0m \u001b[0mnext\u001b[0m\u001b[1;33m(\u001b[0m\u001b[0mself\u001b[0m\u001b[1;33m)\u001b[0m\u001b[1;33m:\u001b[0m\u001b[1;33m\u001b[0m\u001b[0m\n\u001b[1;32m--> 115\u001b[1;33m             \u001b[1;32mreturn\u001b[0m \u001b[0mtype\u001b[0m\u001b[1;33m(\u001b[0m\u001b[0mself\u001b[0m\u001b[1;33m)\u001b[0m\u001b[1;33m.\u001b[0m\u001b[0m__next__\u001b[0m\u001b[1;33m(\u001b[0m\u001b[0mself\u001b[0m\u001b[1;33m)\u001b[0m\u001b[1;33m\u001b[0m\u001b[0m\n\u001b[0m\u001b[0;32m    116\u001b[0m \u001b[1;33m\u001b[0m\u001b[0m\n\u001b[0;32m    117\u001b[0m     \u001b[1;31m# Moved definitions\u001b[0m\u001b[1;33m\u001b[0m\u001b[1;33m\u001b[0m\u001b[0m\n",
        "\u001b[1;31mKeyboardInterrupt\u001b[0m: "
       ]
      }
     ],
     "prompt_number": 15
    },
    {
     "cell_type": "heading",
     "level": 2,
     "metadata": {},
     "source": [
      "Compute the SDP's power usage for the three telescopes:"
     ]
    },
    {
     "cell_type": "code",
     "collapsed": false,
     "input": [
      "'''\n",
      "Power usage.\n",
      "(don't be alarmed by all the kg*m^2/s^3 symbols -- that is just the SI definition of Watt. - can be fixed by calling\n",
      "simplify(... / u.W))\n",
      "'''\n",
      "# The following three lines were taken from the old (maximum baseline) estimates. \n",
      "# Should be re-computed on the fly, but for testing we'll go with these in the mean time\n",
      "# Rflop_low =   24.7298 PetaFLOPS for Low\n",
      "# Rflop_mid =   51.5468 PetaFLOPS (compare Mid_5A_SlowTrans which may be larger)\n",
      "# Rflop_sur =   71.71614 PetaFLOPS for Survey\n",
      "\n",
      "'''\n",
      "The derivations below are at times somewhat simplified from their full definitions in PDR05.\n",
      "Where simplification took place, this is commented as '# simplification'\n",
      "Results are vectorized as sympy Matrices in the following order: [Low, Mid, Survey]'\n",
      "'''\n",
      "# Rflops = Matrix((24.7298, 51.5468, 71.71614)) * 1e15  # Replace by explicitly computed Rflop values\n",
      "# Mbuf_viss = Matrix((237.5, 29.8, 87.7)) * 1e15 # Replace by explicitly computed Mbuf_vis values\n",
      "\n",
      "# Define vectors to represent the flop rates and visibility buffer sizes (can be used as dynamically specified arguments, using lambdify)\n",
      "Rflop_low, Rflop_mid, Rflop_sur = symbols(\"R_{flop\\,low} R_{flop\\,mid} R_{flop\\,sur}\", positive=True) # Reprojection Flop rate, per telescope\n",
      "Mbuf_low, Mbuf_mid, Mbuf_sur = symbols(\"M_{vbuf\\,low} M_{vbuf\\,mid} M_{vbuf\\,sur}\", positive=True)    # Visibility buffer size, per telescope\n",
      "Rflops = Matrix((Rflop_low, Rflop_mid, Rflop_sur))\n",
      "Mbuf_viss = Matrix((Mbuf_low, Mbuf_mid, Mbuf_sur))\n",
      "\n",
      "Tobss = Matrix((6, 6, 6)) * u.hours  # The observation time\n",
      "ingest_rate = divide_elementwise(Mbuf_viss, Tobss)\n",
      "\n",
      "###### COMPUTE NODES #############################\n",
      "\n",
      "# The composition of nodes and islands are assumed identical for all three telescopes.\n",
      "flops_per_gpu = 22.4 * 1e12   # Peak FLOPS per node GPU in 2020 (Depends on Moore's law.)\n",
      "gpus_per_node = 2\n",
      "compute_efficiency = 0.25  # computing efficiency per node; 100% = 1.0\n",
      "n_nodes_per_compute_island = 56  # number of compute nodes per compute island\n",
      "P_compute_node = 810 * u.W  # Power in Watts for a single compute node. Assumed identical for all three telescopes\n",
      "P_compute_island_overhead = 3800 * u.W  # per-island non-compute overheads. # simplification\n",
      "\n",
      "n_cmp_nodes = ceiling_elementwise(Rflops / (flops_per_gpu * gpus_per_node * compute_efficiency))\n",
      "n_cmp_islands = ceiling_elementwise(n_cmp_nodes / n_nodes_per_compute_island)\n",
      "\n",
      "P_cmp_islnds = (P_compute_node * n_cmp_nodes) + (P_compute_island_overhead * n_cmp_islands)\n",
      "\n",
      "###### NETWORKING ################################\n",
      "ingest_data_rate = divide_elementwise(Mbuf_viss, 2*Tobss) # Factor of 1/2 because we're working with a double buffer, only half of which needs to be read out.\n",
      "\n",
      "network_speed = 40e9 / (8.0 * u.s) # 40 GbE, expressed as bytes per second\n",
      "P_ToR = 240 * u.W  # For a single Top-of-Rack network switch\n",
      "network_protocol_overhead = 0.25 # 100% = 1.0\n",
      "network_occupancy = 1  # 100% = 1.0\n",
      "tor_links_up = Matrix((4, 4, 4))\n",
      "tor_links_down = Matrix((56, 56, 56))\n",
      "stage2_links_up = Matrix((18, 8, 8))\n",
      "stage2_links_down = Matrix((18, 28, 28))\n",
      "stage3_links_down = Matrix((18, 18, 18))\n",
      "\n",
      "n_2nd_stages = n_cmp_islands.multiply_elementwise(divide_elementwise(tor_links_up, stage2_links_down))\n",
      "n_2nd_stages[0] *= 2  # Due to extra set of ToR switches for Low (why?)\n",
      "n_2nd_stages = ceiling_elementwise(n_2nd_stages)\n",
      "\n",
      "n_ports = ceiling_elementwise((ingest_data_rate * (1+network_protocol_overhead) * network_occupancy / network_speed))\n",
      "\n",
      "n_3rd_stages = ceiling_elementwise(divide_elementwise(max_elementwise(n_2nd_stages.multiply_elementwise(stage2_links_up), n_ports),stage3_links_down))\n",
      "\n",
      "P_network = (n_cmp_islands + n_2nd_stages + n_3rd_stages) * P_ToR\n",
      "\n",
      "###### BUFFER ##########################################\n",
      "# LOW uses SAS, MID & SUR use SSD. Power per unit, divided by unit size (in Bytes)\n",
      "buffer_P_per_byte_sata = 5 / 8e12 * u.W\n",
      "buffer_P_per_byte_sas  = 3 / 4e12 * u.W\n",
      "buffer_P_per_byte_ssd  = 1 / 1e12 * u.W\n",
      "buffer_P_per_byte_dram = 4 / 16e9 * u.W\n",
      "P_buffer = Mbuf_viss.multiply_elementwise(Matrix((buffer_P_per_byte_sas, buffer_P_per_byte_ssd, buffer_P_per_byte_ssd)))\n",
      "\n",
      "###### ISLAND MANAGEMENT ##############################\n",
      "P_mgmt_node = 600 * u.W  # Power in Watts for a single compute node. Assumed identical for all three telescopes\n",
      "P_mgmt_island_overhead = 4240 * u.W  # simplification\n",
      "n_mgmt_units = Matrix((2, 2, 2))\n",
      "P_mgmt = n_mgmt_units * (P_mgmt_node * n_nodes_per_compute_island + P_mgmt_island_overhead)\n",
      "\n",
      "###### ARCHIVE ##############################\n",
      "archive_volume = Matrix((0, 0, 0))\n",
      "P_2nd_stage = P_ToR\n",
      "n_1st_stage_arch_sw = ceiling_elementwise(n_cmp_islands * 3 / 24.0)\n",
      "n_2nd_stage_arch_sw = ceiling_elementwise(n_1st_stage_arch_sw * 12 / 36.0)\n",
      "n_arch_coresw = n_1st_stage_arch_sw + n_2nd_stage_arch_sw\n",
      "P_arch_coresw = n_arch_coresw * P_2nd_stage  # simplification\n",
      "\n",
      "P_ll_coresw = P_arch_coresw  # simplification\n",
      "P_archive_unit = Matrix((0, 0, 0)) * u.W  # simplification\n",
      "P_archive_store = Matrix((0, 0, 0)) * u.W\n",
      "\n",
      "###### COMBINING IT ALL ################################\n",
      "P_sdp = P_cmp_islnds + P_network + P_mgmt + P_arch_coresw + P_ll_coresw + P_archive_unit + P_buffer + P_archive_store"
     ],
     "language": "python",
     "metadata": {},
     "outputs": [],
     "prompt_number": 4
    },
    {
     "cell_type": "code",
     "collapsed": false,
     "input": [
      "P_sdp_eval = lambdify((Rflop_low, Rflop_mid, Rflop_sur, Mbuf_low, Mbuf_mid, Mbuf_sur), remove_units(P_sdp),modules=\"sympy\")\n",
      "P_netw_eval = lambdify((Rflop_low, Rflop_mid, Rflop_sur, Mbuf_low, Mbuf_mid, Mbuf_sur), remove_units(n_cmp_islands),modules=\"sympy\")\n",
      "\n",
      "rfl = np.array((24.7298, 51.5468, 71.71614)) * 1e15\n",
      "mbf = np.array((237.5, 29.8, 87.7)) * 1e15\n",
      "\n",
      "print 'The SDP uses the following amounts of MegaWatt for Low, Mid and Survey:' \n",
      "P_sdp_eval(rfl[0],rfl[1],rfl[2],mbf[0],mbf[1],mbf[2])/1e6"
     ],
     "language": "python",
     "metadata": {},
     "outputs": [
      {
       "output_type": "stream",
       "stream": "stdout",
       "text": [
        "The SDP uses the following amounts of MegaWatt for Low, Mid and Survey:\n"
       ]
      },
      {
       "latex": [
        "$$\\left[\\begin{matrix}2.230855\\\\4.18171\\\\5.83586\\end{matrix}\\right]$$"
       ],
       "metadata": {},
       "output_type": "pyout",
       "png": "[encoded data removed]",
       "prompt_number": 5,
       "text": [
        "\u23a12.230855\u23a4\n",
        "\u23a2        \u23a5\n",
        "\u23a24.18171 \u23a5\n",
        "\u23a2        \u23a5\n",
        "\u23a35.83586 \u23a6"
       ]
      }
     ],
     "prompt_number": 5
    },
    {
     "cell_type": "heading",
     "level": 1,
     "metadata": {},
     "source": [
      "Optimize the SDP to meet power constraints"
     ]
    },
    {
     "cell_type": "code",
     "collapsed": false,
     "input": [
      "# The power contraints for [Low, Mid, Survey], in Watts, are:\n",
      "\n",
      "power_limit_bestcase = [1.5e6  * u.W, 5e6 * u.W, 4e6 * u.W]\n",
      "power_limit_likely   = [0.75e6 * u.W, 2.5e6 * u.W, 2e6 * u.W]"
     ],
     "language": "python",
     "metadata": {},
     "outputs": [],
     "prompt_number": 5
    },
    {
     "cell_type": "code",
     "collapsed": false,
     "input": [
      "P_mid = P_sdp[1]\n",
      "P_target = remove_units(power_limit_likely[1])\n",
      "expression_to_minimise = abs(P_mid - P_target)\n",
      "\n",
      "expr_eval = lambdify((Rflop_mid, Mbuf_mid), remove_units(expression_to_minimise),modules=\"sympy\")  # Define Lambda expression in two variables\n",
      "expr_eval_float = lambda x: float(expr_eval(x, mbf[1]))  # Define Power of MID as a function of one free variable: Rflop_mid"
     ],
     "language": "python",
     "metadata": {},
     "outputs": [],
     "prompt_number": 6
    },
    {
     "cell_type": "code",
     "collapsed": false,
     "input": [
      "# We now minimize the desired expression (which equals absolute deviation from our target power Wattage) by varying the free \n",
      "# parameter - which in this case is Rflop_mid\n",
      "result = opt.minimize_scalar(expr_eval_float, bounds=(0, rfl[1]), method='bounded')\n",
      "print result"
     ],
     "language": "python",
     "metadata": {},
     "outputs": [
      {
       "output_type": "stream",
       "stream": "stdout",
       "text": [
        "  status: 0\n",
        "    nfev: 29\n",
        " success: True\n",
        "     fun: 180.0\n",
        "       x: 29896443282431724.0\n",
        " message: 'Solution found.'\n"
       ]
      }
     ],
     "prompt_number": 7
    },
    {
     "cell_type": "raw",
     "metadata": {},
     "source": [
      "In this case the target value was not exactly reached (maybe impossible?), but the residual error is only 180 Watts, achieved by\n",
      "setting Rflop_mid to the value of x displayed above."
     ]
    },
    {
     "cell_type": "code",
     "collapsed": false,
     "input": [
      "# We can verify this (look at the middle value, when substituting Rflop_mid with result.x)\n",
      "P_sdp_eval(rfl[0],result.x,rfl[2],mbf[0],mbf[1],mbf[2])/1e6"
     ],
     "language": "python",
     "metadata": {},
     "outputs": [
      {
       "latex": [
        "$$\\left[\\begin{matrix}2.40898\\\\2.49982\\\\5.92356\\end{matrix}\\right]$$"
       ],
       "metadata": {},
       "output_type": "pyout",
       "png": "[encoded data removed]",
       "prompt_number": 8,
       "text": [
        "\u23a12.40898\u23a4\n",
        "\u23a2       \u23a5\n",
        "\u23a22.49982\u23a5\n",
        "\u23a2       \u23a5\n",
        "\u23a35.92356\u23a6"
       ]
      }
     ],
     "prompt_number": 8
    },
    {
     "cell_type": "raw",
     "metadata": {},
     "source": [
      "Now that we know the desired FLOP count, the trick will be to scale the telescope appropriately to achieve that FLOP value. One could use a similar approach as above, and compute the maximum baseline length (keeping all parameters the same).\n",
      "I demonstrate the principle here, by only looking at "
     ]
    },
    {
     "cell_type": "heading",
     "level": 1,
     "metadata": {},
     "source": [
      "All lines of code below this line are from previous versions of the notebook, and might not run in current form"
     ]
    },
    {
     "cell_type": "code",
     "collapsed": false,
     "input": [
      "Rflop_target = result.x\n",
      "print 'FLOP target (in this example) for Mid = %g' % Rflop_target\n",
      "chosen_band = 'Mid1'\n",
      "chosen_mode = 'Spectral'\n",
      "(Tsnap_opt, Nfacet_opt) = find_optimal_Tsnap_Nfacet(band=chosen_band, mode=chosen_mode)\n",
      "telescope_parameters = calc_tel_params(band=chosen_band, mode=chosen_mode)\n",
      "telescope_parameters[Tsnap] = Tsnap_opt\n",
      "telescope_parameters[Nfacet] = Nfacet_opt\n",
      "result_flops = evaluate_expression(Rflop, telescope_parameters)"
     ],
     "language": "python",
     "metadata": {},
     "outputs": [
      {
       "output_type": "stream",
       "stream": "stdout",
       "text": [
        "FLOP target (in this example) for Mid = 2.98964e+16\n"
       ]
      },
      {
       "ename": "TypeError",
       "evalue": "'float' object has no attribute '__getitem__'",
       "output_type": "pyerr",
       "traceback": [
        "\u001b[1;31m---------------------------------------------------------------------------\u001b[0m\n\u001b[1;31mTypeError\u001b[0m                                 Traceback (most recent call last)",
        "\u001b[1;32m<ipython-input-11-4e6e53bf72a5>\u001b[0m in \u001b[0;36m<module>\u001b[1;34m()\u001b[0m\n\u001b[0;32m      8\u001b[0m \u001b[0mtelescope_parameters\u001b[0m\u001b[1;33m[\u001b[0m\u001b[0mNfacet\u001b[0m\u001b[1;33m]\u001b[0m \u001b[1;33m=\u001b[0m \u001b[0mNfacet_opt\u001b[0m\u001b[1;33m\u001b[0m\u001b[0m\n\u001b[0;32m      9\u001b[0m \u001b[0mresult_flops\u001b[0m \u001b[1;33m=\u001b[0m \u001b[0mevaluate_expression\u001b[0m\u001b[1;33m(\u001b[0m\u001b[0mRflop\u001b[0m\u001b[1;33m,\u001b[0m \u001b[0mtelescope_parameters\u001b[0m\u001b[1;33m)\u001b[0m\u001b[1;33m\u001b[0m\u001b[0m\n\u001b[1;32m---> 10\u001b[1;33m \u001b[1;32mprint\u001b[0m \u001b[1;34m'Using the maximum baseline specs, band %s (%s) requires %g FLOPS.'\u001b[0m \u001b[1;33m%\u001b[0m \u001b[1;33m(\u001b[0m\u001b[0mchosen_band\u001b[0m\u001b[1;33m,\u001b[0m \u001b[0mchosen_mode\u001b[0m\u001b[1;33m,\u001b[0m \u001b[0mresult_flops\u001b[0m\u001b[1;33m[\u001b[0m\u001b[0mchosen_mode\u001b[0m\u001b[1;33m]\u001b[0m\u001b[1;33m)\u001b[0m\u001b[1;33m\u001b[0m\u001b[0m\n\u001b[0m",
        "\u001b[1;31mTypeError\u001b[0m: 'float' object has no attribute '__getitem__'"
       ]
      }
     ],
     "prompt_number": 11
    },
    {
     "cell_type": "code",
     "collapsed": false,
     "input": [
      "print 'Using the maximum baseline specs, band %s (%s) requires %g FLOPS.' % (chosen_band, chosen_mode, result_flops)"
     ],
     "language": "python",
     "metadata": {},
     "outputs": [
      {
       "output_type": "stream",
       "stream": "stdout",
       "text": [
        "Using the maximum baseline specs, band Mid1 (Spectral) requires 4.05832e+16 FLOPS.\n"
       ]
      }
     ],
     "prompt_number": 12
    },
    {
     "cell_type": "code",
     "collapsed": false,
     "input": [
      "# We now make Bmax a free (undefined) parameter\n",
      "telescope_parameters.pop(Bmax)\n",
      "\n",
      "# And from here on we do the same type of optimization as before\n",
      "expression_to_minimise = abs(Rflop - Rflop_target).subs(telescope_parameters).subs(telescope_parameters)\n",
      "expr_eval = lambdify(Bmax, remove_units(expression_to_minimise),modules=\"sympy\")  # Define Lambda expression in one variable\n",
      "expr_eval_float = lambda x: float(expr_eval(x))  # Define deviation of RFlop from the set target as a function of one free variable: Bmax\n",
      "# We now minimize the desired expression (which equals absolute deviation from our target FLOP rate) by varying the free \n",
      "# parameter - which in this case is Bmax\n",
      "result = opt.minimize_scalar(expr_eval_float, bounds=(0, remove_units(telescope_params[Bmax_ref])), method='bounded')\n",
      "print result"
     ],
     "language": "python",
     "metadata": {},
     "outputs": [
      {
       "ename": "ValueError",
       "evalue": "array is too big.",
       "output_type": "pyerr",
       "traceback": [
        "\u001b[1;31m---------------------------------------------------------------------------\u001b[0m\n\u001b[1;31mValueError\u001b[0m                                Traceback (most recent call last)",
        "\u001b[1;32m<ipython-input-13-5f2d1d18c915>\u001b[0m in \u001b[0;36m<module>\u001b[1;34m()\u001b[0m\n\u001b[0;32m      3\u001b[0m \u001b[1;33m\u001b[0m\u001b[0m\n\u001b[0;32m      4\u001b[0m \u001b[1;31m# And from here on we do the same type of optimization as before\u001b[0m\u001b[1;33m\u001b[0m\u001b[1;33m\u001b[0m\u001b[0m\n\u001b[1;32m----> 5\u001b[1;33m \u001b[0mexpression_to_minimise\u001b[0m \u001b[1;33m=\u001b[0m \u001b[0mabs\u001b[0m\u001b[1;33m(\u001b[0m\u001b[0mRflop\u001b[0m \u001b[1;33m-\u001b[0m \u001b[0mRflop_target\u001b[0m\u001b[1;33m)\u001b[0m\u001b[1;33m.\u001b[0m\u001b[0msubs\u001b[0m\u001b[1;33m(\u001b[0m\u001b[0mtelescope_parameters\u001b[0m\u001b[1;33m)\u001b[0m\u001b[1;33m.\u001b[0m\u001b[0msubs\u001b[0m\u001b[1;33m(\u001b[0m\u001b[0mtelescope_parameters\u001b[0m\u001b[1;33m)\u001b[0m\u001b[1;33m\u001b[0m\u001b[0m\n\u001b[0m\u001b[0;32m      6\u001b[0m \u001b[0mexpr_eval\u001b[0m \u001b[1;33m=\u001b[0m \u001b[0mlambdify\u001b[0m\u001b[1;33m(\u001b[0m\u001b[0mBmax\u001b[0m\u001b[1;33m,\u001b[0m \u001b[0mremove_units\u001b[0m\u001b[1;33m(\u001b[0m\u001b[0mexpression_to_minimise\u001b[0m\u001b[1;33m)\u001b[0m\u001b[1;33m,\u001b[0m\u001b[0mmodules\u001b[0m\u001b[1;33m=\u001b[0m\u001b[1;34m\"sympy\"\u001b[0m\u001b[1;33m)\u001b[0m  \u001b[1;31m# Define Lambda expression in one variable\u001b[0m\u001b[1;33m\u001b[0m\u001b[0m\n\u001b[0;32m      7\u001b[0m \u001b[0mexpr_eval_float\u001b[0m \u001b[1;33m=\u001b[0m \u001b[1;32mlambda\u001b[0m \u001b[0mx\u001b[0m\u001b[1;33m:\u001b[0m \u001b[0mfloat\u001b[0m\u001b[1;33m(\u001b[0m\u001b[0mexpr_eval\u001b[0m\u001b[1;33m(\u001b[0m\u001b[0mx\u001b[0m\u001b[1;33m)\u001b[0m\u001b[1;33m)\u001b[0m  \u001b[1;31m# Define deviation of RFlop from the set target as a function of one free variable: Bmax\u001b[0m\u001b[1;33m\u001b[0m\u001b[0m\n",
        "\u001b[1;32mC:\\Anaconda\\lib\\site-packages\\sympy\\core\\basic.pyc\u001b[0m in \u001b[0;36msubs\u001b[1;34m(self, *args, **kwargs)\u001b[0m\n\u001b[0;32m    841\u001b[0m         \u001b[1;32mfor\u001b[0m \u001b[0mi\u001b[0m \u001b[1;32min\u001b[0m \u001b[0mrange\u001b[0m\u001b[1;33m(\u001b[0m\u001b[0mlen\u001b[0m\u001b[1;33m(\u001b[0m\u001b[0msequence\u001b[0m\u001b[1;33m)\u001b[0m\u001b[1;33m)\u001b[0m\u001b[1;33m:\u001b[0m\u001b[1;33m\u001b[0m\u001b[0m\n\u001b[0;32m    842\u001b[0m             \u001b[0mo\u001b[0m\u001b[1;33m,\u001b[0m \u001b[0mn\u001b[0m \u001b[1;33m=\u001b[0m \u001b[0msequence\u001b[0m\u001b[1;33m[\u001b[0m\u001b[0mi\u001b[0m\u001b[1;33m]\u001b[0m\u001b[1;33m\u001b[0m\u001b[0m\n\u001b[1;32m--> 843\u001b[1;33m             \u001b[0mso\u001b[0m\u001b[1;33m,\u001b[0m \u001b[0msn\u001b[0m \u001b[1;33m=\u001b[0m \u001b[0msympify\u001b[0m\u001b[1;33m(\u001b[0m\u001b[0mo\u001b[0m\u001b[1;33m)\u001b[0m\u001b[1;33m,\u001b[0m \u001b[0msympify\u001b[0m\u001b[1;33m(\u001b[0m\u001b[0mn\u001b[0m\u001b[1;33m)\u001b[0m\u001b[1;33m\u001b[0m\u001b[0m\n\u001b[0m\u001b[0;32m    844\u001b[0m             \u001b[1;32mif\u001b[0m \u001b[1;32mnot\u001b[0m \u001b[0misinstance\u001b[0m\u001b[1;33m(\u001b[0m\u001b[0mso\u001b[0m\u001b[1;33m,\u001b[0m \u001b[0mBasic\u001b[0m\u001b[1;33m)\u001b[0m\u001b[1;33m:\u001b[0m\u001b[1;33m\u001b[0m\u001b[0m\n\u001b[0;32m    845\u001b[0m                 \u001b[1;32mif\u001b[0m \u001b[0mtype\u001b[0m\u001b[1;33m(\u001b[0m\u001b[0mo\u001b[0m\u001b[1;33m)\u001b[0m \u001b[1;32mis\u001b[0m \u001b[0mstr\u001b[0m\u001b[1;33m:\u001b[0m\u001b[1;33m\u001b[0m\u001b[0m\n",
        "\u001b[1;32mC:\\Anaconda\\lib\\site-packages\\sympy\\core\\sympify.pyc\u001b[0m in \u001b[0;36msympify\u001b[1;34m(a, locals, convert_xor, strict, rational, evaluate)\u001b[0m\n\u001b[0;32m    275\u001b[0m         \u001b[1;32mtry\u001b[0m\u001b[1;33m:\u001b[0m\u001b[1;33m\u001b[0m\u001b[0m\n\u001b[0;32m    276\u001b[0m             return type(a)([sympify(x, locals=locals, convert_xor=convert_xor,\n\u001b[1;32m--> 277\u001b[1;33m                 rational=rational) for x in a])\n\u001b[0m\u001b[0;32m    278\u001b[0m         \u001b[1;32mexcept\u001b[0m \u001b[0mTypeError\u001b[0m\u001b[1;33m:\u001b[0m\u001b[1;33m\u001b[0m\u001b[0m\n\u001b[0;32m    279\u001b[0m             \u001b[1;31m# Not all iterables are rebuildable with their type.\u001b[0m\u001b[1;33m\u001b[0m\u001b[1;33m\u001b[0m\u001b[0m\n",
        "\u001b[1;31mValueError\u001b[0m: array is too big."
       ]
      }
     ],
     "prompt_number": 13
    },
    {
     "cell_type": "raw",
     "metadata": {},
     "source": [
      "Voila - there we have it. A baseline of ~ 157.2 km will give us the desired FLOP rate that will result in a power consumption of 2.5 MW"
     ]
    }
   ],
   "metadata": {}
  }
 ]
}