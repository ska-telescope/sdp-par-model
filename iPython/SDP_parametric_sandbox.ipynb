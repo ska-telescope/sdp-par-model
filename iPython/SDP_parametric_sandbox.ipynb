{
 "metadata": {
  "name": "",
  "signature": "sha256:fa183ac4205a4114b194b40977a02029c8b3181104d0380d9ff5492064d58723"
 },
 "nbformat": 3,
 "nbformat_minor": 0,
 "worksheets": [
  {
   "cells": [
    {
     "cell_type": "markdown",
     "metadata": {},
     "source": [
      "***The idea of this notebook is to provide an easy sandbox to play around with values for the SKA1 SDP***"
     ]
    },
    {
     "cell_type": "code",
     "collapsed": false,
     "input": [
      "from IPython.html.widgets import interact, interactive, fixed\n",
      "from IPython.html import widgets\n",
      "from IPython.display import clear_output, display, HTML\n",
      "'''\n",
      "The following commands import the python modules, methods and code fragments that are required to run this notebook. \n",
      "Please refer to the following python files for implementation details (omitted here for readability)\n",
      "* env_setup.py -- code for setting up the python environment\n",
      "* parameter_definitions.py -- contains definitions of variables, primary telescope parameters  \n",
      "* formulae.py -- contains formulae for defiving secondary telescope-specific parameters from input parameters\n",
      "* implementation.py -- contains methods for performing computations (i.e. crunching the numbers)\n",
      "'''\n",
      "from env_setup import *\n",
      "from parameter_definitions import *\n",
      "from formulae import *\n",
      "from implementation import *\n",
      "\n",
      "def show_table(title, **kwargs):\n",
      "    s = '<h3>%s:</h3><table>\\n' % title\n",
      "    for k,v in kwargs.items():\n",
      "        s += '<tr><td>{0}</td><td>{1}</td></tr>\\n'.format(k,v)\n",
      "    s += '</table>'\n",
      "    display(HTML(s))"
     ],
     "language": "python",
     "metadata": {},
     "outputs": [
      {
       "output_type": "stream",
       "stream": "stdout",
       "text": [
        "IPython console for SymPy 0.7.6 (Python 2.7.7-32-bit) (ground types: python)\n"
       ]
      }
     ],
     "prompt_number": 1
    },
    {
     "cell_type": "code",
     "collapsed": false,
     "input": [
      "band_lookup = {'SKA1-Low':'Low', 'SKA1-Mid (Band 1)':'Mid1', 'SKA1-Survey (Band 1)':'Sur1'}\n",
      "telescopes_pretty_print =('SKA1-Low', 'SKA1-Mid (Band 1)', 'SKA1-Survey (Band 1)')\n",
      "modes_pretty_print = ('Continuum', 'Spectral', 'SlowTrans')\n",
      "\n",
      "mode_lookup = {}\n",
      "for key in modes_pretty_print:\n",
      "    mode_lookup[key] = key\n",
      "\n",
      "def compute_flops(max_baseline, Nfacet, Tsnap, Telescope, Mode):\n",
      "    band = band_lookup[Telescope]\n",
      "    show_table(title='Arguments', max_baseline=max_baseline, Telescope=Telescope, Band=band, Mode=Mode, Tsnap=Tsnap, Nfacet=Nfacet)\n",
      "    \n",
      "    telescope_parameters = calc_tel_params(band=band, mode=mode_lookup[Mode])\n",
      "    #telescope_parameters.Bmax = max_baseline * u.km\n",
      "    \n",
      "    '''\n",
      "    (Tsnap_opt, Nfacet_opt) = find_optimal_Tsnap_Nfacet(telescope_parameters, verbose=True)\n",
      "    '''\n",
      "    expression = telescope_parameters.Rflop\n",
      "    expression_subst = expression.subs({telescope_parameters.Tsnap : Tsnap, telescope_parameters.Nfacet : Nfacet})\n",
      "    result = evaluate_binned_expression(expression_subst, telescope_parameters)\n",
      "    \n",
      "    show_table(title='Results', PetaFLOPS=result)"
     ],
     "language": "python",
     "metadata": {},
     "outputs": [],
     "prompt_number": 2
    },
    {
     "cell_type": "heading",
     "level": 2,
     "metadata": {},
     "source": [
      "Now we can interactively play with parameters"
     ]
    },
    {
     "cell_type": "code",
     "collapsed": false,
     "input": [
      "interact(compute_flops, max_baseline=(20,200), Nfacet=(1,3,1), Tsnap=(1.2,200), Telescope=telescopes_pretty_print, \n",
      "         Mode=modes_pretty_print);"
     ],
     "language": "python",
     "metadata": {},
     "outputs": [
      {
       "html": [
        "<h3>Arguments:</h3><table>\n",
        "<tr><td>max_baseline</td><td>160</td></tr>\n",
        "<tr><td>Telescope</td><td>SKA1-Low</td></tr>\n",
        "<tr><td>Nfacet</td><td>1</td></tr>\n",
        "<tr><td>Tsnap</td><td>183.9</td></tr>\n",
        "<tr><td>Band</td><td>Low</td></tr>\n",
        "<tr><td>Mode</td><td>Continuum</td></tr>\n",
        "</table>"
       ],
       "metadata": {},
       "output_type": "display_data",
       "text": [
        "<IPython.core.display.HTML at 0xc3fb588>"
       ]
      },
      {
       "html": [
        "<h3>Results:</h3><table>\n",
        "<tr><td>PetaFLOPS</td><td>23.2591656982</td></tr>\n",
        "</table>"
       ],
       "metadata": {},
       "output_type": "display_data",
       "text": [
        "<IPython.core.display.HTML at 0xc3fbac8>"
       ]
      }
     ],
     "prompt_number": 3
    },
    {
     "cell_type": "heading",
     "level": 1,
     "metadata": {},
     "source": [
      "Old code:"
     ]
    },
    {
     "cell_type": "code",
     "collapsed": false,
     "input": [
      "telescope_parameters = calc_tel_params(band='Low', mode='Continuum')\n",
      "#telescope_parameters.Bmax = max_baseline * u.km\n",
      "\n",
      "(Tsnap_opt, Nfacet_opt) = find_optimal_Tsnap_Nfacet(telescope_parameters, verbose=True)\n",
      "expression = telescope_parameters.Rflop\n",
      "expression_subst = expression.subs({telescope_parameters.Tsnap : Tsnap_opt, telescope_parameters.Nfacet : Nfacet_opt})\n",
      "result = evaluate_binned_expression(expression_subst, telescope_parameters)\n"
     ],
     "language": "python",
     "metadata": {},
     "outputs": [
      {
       "output_type": "stream",
       "stream": "stdout",
       "text": [
        "Evaluating Nfacets = 1\n",
        "Tsnap has been optimized as : 36.819960, yielding a minimum value of 0.000000 Peta-units"
       ]
      },
      {
       "output_type": "stream",
       "stream": "stdout",
       "text": [
        "\n",
        "Evaluating Nfacets = 2"
       ]
      },
      {
       "output_type": "stream",
       "stream": "stdout",
       "text": [
        "\n",
        "Tsnap has been optimized as : 61.758547, yielding a minimum value of 0.000000 Peta-units"
       ]
      },
      {
       "output_type": "stream",
       "stream": "stdout",
       "text": [
        "\n",
        "Evaluating Nfacets = 3"
       ]
      },
      {
       "output_type": "stream",
       "stream": "stdout",
       "text": [
        "\n",
        "Tsnap has been optimized as : 86.900112, yielding a minimum value of 0.000000 Peta-units"
       ]
      },
      {
       "output_type": "stream",
       "stream": "stdout",
       "text": [
        "\n",
        "Evaluating Nfacets = 4\n",
        "Tsnap has been optimized as : 109.984848, yielding a minimum value of 0.000000 Peta-units"
       ]
      },
      {
       "output_type": "stream",
       "stream": "stdout",
       "text": [
        "\n",
        "\n",
        "Expression increasing with number of facets; aborting exploration of Nfacets > 4\n",
        "\n",
        "0.000000 PetaFLOPS was the lowest FLOP value, found for (Nfacet, Tsnap) = (3, 86.90)\n"
       ]
      }
     ],
     "prompt_number": 19
    },
    {
     "cell_type": "code",
     "collapsed": false,
     "input": [
      "import time\n",
      "t0 = time.time()\n",
      "band = 'Low'\n",
      "mode = 'Spectral'\n",
      "telescope_parameters = calc_tel_params(band=band, mode=mode)\n",
      "(Tsnap_opt, Nfacet_opt) = find_optimal_Tsnap_Nfacet(telescope_parameters, verbose=True)\n",
      "print (Tsnap_opt, Nfacet_opt)\n",
      "#(Tsnap_opt, Nfacet_opt) = (87.16, 3)\n",
      "t1 = time.time()\n",
      "expression = telescope_parameters.Rflop\n",
      "expression_subst = expression.subs({telescope_parameters.Tsnap : Tsnap_opt, telescope_parameters.Nfacet : Nfacet_opt})\n",
      "result = evaluate_binned_expression(expression_subst, telescope_parameters)\n",
      "print 'Result of expression = %f Peta' % (result)\n",
      "t2 = time.time()\n",
      "print 'Optimization took %f seconds' % (t1-t0)\n",
      "print 'Evaluation took %f seconds' % (t2-t1)\n",
      "print 'Total time = %f seconds' % (t2-t0)"
     ],
     "language": "python",
     "metadata": {},
     "outputs": [
      {
       "output_type": "stream",
       "stream": "stdout",
       "text": [
        "Evaluating Nfacets = 1\n",
        "Tsnap has been optimized as : 117.742556, yielding a minimum value of 0.000000 Peta-units"
       ]
      },
      {
       "output_type": "stream",
       "stream": "stdout",
       "text": [
        "\n",
        "Evaluating Nfacets = 2\n",
        "Tsnap has been optimized as : 164.551134, yielding a minimum value of 0.000000 Peta-units"
       ]
      },
      {
       "output_type": "stream",
       "stream": "stdout",
       "text": [
        "\n",
        "\n",
        "Expression increasing with number of facets; aborting exploration of Nfacets > 2\n",
        "\n",
        "0.000000 PetaFLOPS was the lowest FLOP value, found for (Nfacet, Tsnap) = (1, 117.74)\n",
        "(117.742556400779, 1)\n",
        "Result of expression = 34.255293 Peta"
       ]
      },
      {
       "output_type": "stream",
       "stream": "stdout",
       "text": [
        "\n",
        "Optimization took 11.059000 seconds\n",
        "Evaluation took 0.441000 seconds\n",
        "Total time = 11.500000 seconds\n"
       ]
      }
     ],
     "prompt_number": 5
    }
   ],
   "metadata": {}
  }
 ]
}