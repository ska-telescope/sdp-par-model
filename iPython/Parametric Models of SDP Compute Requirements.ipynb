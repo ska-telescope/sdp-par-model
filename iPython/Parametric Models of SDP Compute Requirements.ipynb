{
 "metadata": {
  "name": "",
  "signature": "sha256:91042a9b8630c7a3824fa87559792e0c44561f5de30569a2d1c960992cb18d1e"
 },
 "nbformat": 3,
 "nbformat_minor": 0,
 "worksheets": [
  {
   "cells": [
    {
     "cell_type": "markdown",
     "metadata": {},
     "source": [
      "_This notebook is an iPython copy of **M7 Milestone document PDR05 (also known as SKA-TEL-SDP-0000003)**. It has since been updated to include the post-PDR additions by **Ronald Nijboer** in **v1.3** of the source document._\n",
      "\n",
      "_This is an interactive document that includes blocks of code that can be used to evaluate equations if **sympy** and **astropy** are available._\n",
      "\n",
      "_This iPython notebook was initially created by **Juande Santander Vela**. The current owner of this notebook document is **Francois Malan** of Space Advisory Company. _"
     ]
    },
    {
     "cell_type": "heading",
     "level": 1,
     "metadata": {},
     "source": [
      "PDR.05 PARAMETRIC MODELS OF SDP COMPUTE REQUIREMENTS"
     ]
    },
    {
     "cell_type": "heading",
     "level": 1,
     "metadata": {},
     "source": [
      "1\tLIST OF FIGURES"
     ]
    },
    {
     "cell_type": "markdown",
     "metadata": {},
     "source": [
      "Omitted"
     ]
    },
    {
     "cell_type": "heading",
     "level": 1,
     "metadata": {},
     "source": [
      "2\tLIST OF TABLES"
     ]
    },
    {
     "cell_type": "markdown",
     "metadata": {},
     "source": [
      "Omitted"
     ]
    },
    {
     "cell_type": "heading",
     "level": 1,
     "metadata": {},
     "source": [
      "3 List of Abbreviations"
     ]
    },
    {
     "cell_type": "markdown",
     "metadata": {},
     "source": [
      "<table>\n",
      "<col />\n",
      "<col />\n",
      "<thead>\n",
      "<tr>\n",
      "\t<th>Acronym or Abbreviation</th>\n",
      "\t<th>Expansion</th>\n",
      "</tr>\n",
      "</thead>\n",
      "<tbody>\n",
      "<tr>\n",
      "\t<td>AI</td>\n",
      "\t<td>Astronomer Interface</td>\n",
      "</tr>\n",
      "<tr>\n",
      "\t<td>ALMA</td>\n",
      "\t<td>Atacama Large Millimetre/submillimetre Array</td>\n",
      "</tr>\n",
      "<tr>\n",
      "\t<td>AN</td>\n",
      "\t<td>Another</td>\n",
      "</tr>\n",
      "<tr>\n",
      "\t<td>API</td>\n",
      "\t<td>Application programming interface</td>\n",
      "</tr>\n",
      "<tr>\n",
      "\t<td>AR1 ..</td>\n",
      "\t<td>Antenna Release</td>\n",
      "</tr>\n",
      "<tr>\n",
      "\t<td>ARCH</td>\n",
      "\t<td>Architecture (SDP Work Package)</td>\n",
      "</tr>\n",
      "<tr>\n",
      "\t<td>ASKAP</td>\n",
      "\t<td>Australian Square Kilometre Array Pathfinder</td>\n",
      "</tr>\n",
      "<tr>\n",
      "\t<td>BDA</td>\n",
      "\t<td>Baseline Dependent Averaging</td>\n",
      "</tr>\n",
      "<tr>\n",
      "\t<td>BDD</td>\n",
      "\t<td>Block Definition Diagram</td>\n",
      "</tr>\n",
      "<tr>\n",
      "\t<td>CA</td>\n",
      "\t<td>Consumer App</td>\n",
      "</tr>\n",
      "<tr>\n",
      "\t<td>Capex</td>\n",
      "\t<td>Capital Expenditure</td>\n",
      "</tr>\n",
      "<tr>\n",
      "\t<td>CAS</td>\n",
      "\t<td>Common Algorithm Software</td>\n",
      "</tr>\n",
      "<tr>\n",
      "\t<td>CASA</td>\n",
      "\t<td>The Common Astronomy Software Applications package</td>\n",
      "</tr>\n",
      "<tr>\n",
      "\t<td>CDR</td>\n",
      "\t<td>Critical Design Review</td>\n",
      "</tr>\n",
      "<tr>\n",
      "\t<td>CI</td>\n",
      "\t<td>Compute Island</td>\n",
      "</tr>\n",
      "<tr>\n",
      "\t<td>CLEAN</td>\n",
      "\t<td>A computational algorithm designed to perform a deconvolution on images</td>\n",
      "</tr>\n",
      "<tr>\n",
      "\t<td>COMP</td>\n",
      "\t<td>The Compute Platform (SDP work package)</td>\n",
      "</tr>\n",
      "<tr>\n",
      "\t<td>COTS</td>\n",
      "\t<td>Commercial Off The Shelf</td>\n",
      "</tr>\n",
      "<tr>\n",
      "\t<td>CPU</td>\n",
      "\t<td>Central Processing Unit</td>\n",
      "</tr>\n",
      "<tr>\n",
      "\t<td>CS</td>\n",
      "\t<td>Common Software</td>\n",
      "</tr>\n",
      "<tr>\n",
      "\t<td>CSP</td>\n",
      "\t<td>Central Signal Processor</td>\n",
      "</tr>\n",
      "<tr>\n",
      "\t<td>CTRL</td>\n",
      "\t<td>Control</td>\n",
      "</tr>\n",
      "<tr>\n",
      "\t<td>DATA</td>\n",
      "\t<td>Data Layer (SDP work package)</td>\n",
      "</tr>\n",
      "<tr>\n",
      "\t<td>DBA</td>\n",
      "\t<td>Database Administrator</td>\n",
      "</tr>\n",
      "<tr>\n",
      "\t<td>DDE</td>\n",
      "\t<td>Direction-dependent effects</td>\n",
      "</tr>\n",
      "<tr>\n",
      "\t<td>DDR3</td>\n",
      "\t<td>Double data rate 3rd generation dynamic random access memory</td>\n",
      "</tr>\n",
      "<tr>\n",
      "\t<td>DDR4</td>\n",
      "\t<td>Double data rate 4th generation dynamic random access memory</td>\n",
      "</tr>\n",
      "<tr>\n",
      "\t<td>DELIV</td>\n",
      "\t<td>Data Delivery (SDP work package)</td>\n",
      "</tr>\n",
      "<tr>\n",
      "\t<td>DFM</td>\n",
      "\t<td>Data Flow Manager</td>\n",
      "</tr>\n",
      "<tr>\n",
      "\t<td>DFMDL</td>\n",
      "\t<td>Data Flow Model</td>\n",
      "</tr>\n",
      "<tr>\n",
      "\t<td>DFT</td>\n",
      "\t<td>Discrete Fourier Transform</td>\n",
      "</tr>\n",
      "<tr>\n",
      "\t<td>DI</td>\n",
      "\t<td>Data Island</td>\n",
      "</tr>\n",
      "<tr>\n",
      "\t<td>DIMM</td>\n",
      "\t<td>Dual in-line memory module</td>\n",
      "</tr>\n",
      "<tr>\n",
      "\t<td>DLM</td>\n",
      "\t<td>Data Lifecycle Management</td>\n",
      "</tr>\n",
      "<tr>\n",
      "\t<td>DM</td>\n",
      "\t<td>Data Manager</td>\n",
      "</tr>\n",
      "<tr>\n",
      "\t<td>DO</td>\n",
      "\t<td>Data Object</td>\n",
      "</tr>\n",
      "<tr>\n",
      "\t<td>DP</td>\n",
      "\t<td>Double Precision Floating Point</td>\n",
      "</tr>\n",
      "<tr>\n",
      "\t<td>DRAM</td>\n",
      "\t<td>Dynamic Random Access Memory</td>\n",
      "</tr>\n",
      "<tr>\n",
      "\t<td>DSH</td>\n",
      "\t<td>Dish</td>\n",
      "</tr>\n",
      "<tr>\n",
      "\t<td>DSL</td>\n",
      "\t<td>Domain Specific Language</td>\n",
      "</tr>\n",
      "<tr>\n",
      "\t<td>EGI</td>\n",
      "\t<td>European Grid Infrastructure</td>\n",
      "</tr>\n",
      "<tr>\n",
      "\t<td>EI</td>\n",
      "\t<td>Engineering Interface</td>\n",
      "</tr>\n",
      "<tr>\n",
      "\t<td>EoR</td>\n",
      "\t<td>Epoch of Reionisation</td>\n",
      "</tr>\n",
      "<tr>\n",
      "\t<td>EPEL</td>\n",
      "\t<td>Extra Packages for Enterprise Linux</td>\n",
      "</tr>\n",
      "<tr>\n",
      "\t<td>FA</td>\n",
      "\t<td>Functional Analysis</td>\n",
      "</tr>\n",
      "<tr>\n",
      "\t<td>FDR</td>\n",
      "\t<td>Infiniband Fourteen Data Rate</td>\n",
      "</tr>\n",
      "<tr>\n",
      "\t<td>FFT</td>\n",
      "\t<td>Fast Fourier Transform</td>\n",
      "</tr>\n",
      "<tr>\n",
      "\t<td>FLOPS</td>\n",
      "\t<td>Floating point Operations</td>\n",
      "</tr>\n",
      "<tr>\n",
      "\t<td>FPGA</td>\n",
      "\t<td>Field-programmable gate array</td>\n",
      "</tr>\n",
      "<tr>\n",
      "\t<td>GB</td>\n",
      "\t<td>Gigabyte</td>\n",
      "</tr>\n",
      "<tr>\n",
      "\t<td>GbE</td>\n",
      "\t<td>Gigabit Ethernet</td>\n",
      "</tr>\n",
      "<tr>\n",
      "\t<td>GPGPU</td>\n",
      "\t<td>General Purpose Graphical Processing Unit</td>\n",
      "</tr>\n",
      "<tr>\n",
      "\t<td>GPU</td>\n",
      "\t<td>Graphical Processing Unit</td>\n",
      "</tr>\n",
      "<tr>\n",
      "\t<td>GSM</td>\n",
      "\t<td>Global Sky Model</td>\n",
      "</tr>\n",
      "<tr>\n",
      "\t<td>GW</td>\n",
      "\t<td>Gravitational Wave</td>\n",
      "</tr>\n",
      "<tr>\n",
      "\t<td>HCA</td>\n",
      "\t<td>Host Channel Adapter</td>\n",
      "</tr>\n",
      "<tr>\n",
      "\t<td>HI</td>\n",
      "\t<td>Neutral atomic hydrogen</td>\n",
      "</tr>\n",
      "<tr>\n",
      "\t<td>HM</td>\n",
      "\t<td>Health and Monitoring</td>\n",
      "</tr>\n",
      "<tr>\n",
      "\t<td>HPC</td>\n",
      "\t<td>High Performance Computing</td>\n",
      "</tr>\n",
      "<tr>\n",
      "\t<td>HSM</td>\n",
      "\t<td>Hierarchical Storage Management</td>\n",
      "</tr>\n",
      "<tr>\n",
      "\t<td>ICD</td>\n",
      "\t<td>Interface Control Document</td>\n",
      "</tr>\n",
      "<tr>\n",
      "\t<td>iFFT</td>\n",
      "\t<td>Inverse Fast Fourier Transforms</td>\n",
      "</tr>\n",
      "<tr>\n",
      "\t<td>INFRA</td>\n",
      "\t<td>Infrastructure</td>\n",
      "</tr>\n",
      "<tr>\n",
      "\t<td>IO</td>\n",
      "\t<td>Input / Output</td>\n",
      "</tr>\n",
      "<tr>\n",
      "\t<td>IP</td>\n",
      "\t<td>Internet Protocol</td>\n",
      "</tr>\n",
      "<tr>\n",
      "\t<td>IP</td>\n",
      "\t<td>Intellectual Property</td>\n",
      "</tr>\n",
      "<tr>\n",
      "\t<td>IVOA</td>\n",
      "\t<td>International Virtual Observatory Association</td>\n",
      "</tr>\n",
      "<tr>\n",
      "\t<td>LAN</td>\n",
      "\t<td>Local area network</td>\n",
      "</tr>\n",
      "<tr>\n",
      "\t<td>LFAA</td>\n",
      "\t<td>Low Frequency Aperture Array</td>\n",
      "</tr>\n",
      "<tr>\n",
      "\t<td>LHC</td>\n",
      "\t<td>Large Hadron Collider (CERN)</td>\n",
      "</tr>\n",
      "<tr>\n",
      "\t<td>LINFA</td>\n",
      "\t<td>Local Infrastructure (SDP work package)</td>\n",
      "</tr>\n",
      "<tr>\n",
      "\t<td>LMC</td>\n",
      "\t<td>Local Monitoring &amp; Control (SDP Work Package)</td>\n",
      "</tr>\n",
      "<tr>\n",
      "\t<td>LML</td>\n",
      "\t<td>Lifecycle Modeling Language</td>\n",
      "</tr>\n",
      "<tr>\n",
      "\t<td>LoC</td>\n",
      "\t<td>Lines of Code</td>\n",
      "</tr>\n",
      "<tr>\n",
      "\t<td>LoC</td>\n",
      "\t<td>Latency-optimised Cores</td>\n",
      "</tr>\n",
      "<tr>\n",
      "\t<td>LOFAR</td>\n",
      "\t<td>Low-Frequency Array Radio Telescope</td>\n",
      "</tr>\n",
      "<tr>\n",
      "\t<td>LSM</td>\n",
      "\t<td>Local Sky Model</td>\n",
      "</tr>\n",
      "<tr>\n",
      "\t<td>MeerKAT</td>\n",
      "\t<td>64 dish Karoo Array Telescope</td>\n",
      "</tr>\n",
      "<tr>\n",
      "\t<td>MLC</td>\n",
      "\t<td>Multi-level cell</td>\n",
      "</tr>\n",
      "<tr>\n",
      "\t<td>MPI</td>\n",
      "\t<td>Message Passing Interface</td>\n",
      "</tr>\n",
      "<tr>\n",
      "\t<td>MS</td>\n",
      "\t<td>Measurement Set</td>\n",
      "</tr>\n",
      "<tr>\n",
      "\t<td>MTR</td>\n",
      "\t<td>Metrics</td>\n",
      "</tr>\n",
      "<tr>\n",
      "\t<td>MWA</td>\n",
      "\t<td>Murchison Widefield Array</td>\n",
      "</tr>\n",
      "<tr>\n",
      "\t<td>NIC</td>\n",
      "\t<td>Network Interface Controller</td>\n",
      "</tr>\n",
      "<tr>\n",
      "\t<td>NVRAM</td>\n",
      "\t<td>Non-volatile Random Access Memory</td>\n",
      "</tr>\n",
      "<tr>\n",
      "\t<td>Opex</td>\n",
      "\t<td>Operational Expenditure</td>\n",
      "</tr>\n",
      "<tr>\n",
      "\t<td>OTS</td>\n",
      "\t<td>Off the shelf</td>\n",
      "</tr>\n",
      "<tr>\n",
      "\t<td>PA</td>\n",
      "\t<td>Producer App</td>\n",
      "</tr>\n",
      "<tr>\n",
      "\t<td>PAF</td>\n",
      "\t<td>Phased Array Feeds</td>\n",
      "</tr>\n",
      "<tr>\n",
      "\t<td>PB</td>\n",
      "\t<td>Petabyte</td>\n",
      "</tr>\n",
      "<tr>\n",
      "\t<td>PCI</td>\n",
      "\t<td>Peripheral Component Interconnect</td>\n",
      "</tr>\n",
      "<tr>\n",
      "\t<td>PCIe</td>\n",
      "\t<td>Peripheral Component Interconnect Express</td>\n",
      "</tr>\n",
      "<tr>\n",
      "\t<td>PCM</td>\n",
      "\t<td>Phase-change memory</td>\n",
      "</tr>\n",
      "<tr>\n",
      "\t<td>PDG</td>\n",
      "\t<td>Physical Deployment Graph</td>\n",
      "</tr>\n",
      "<tr>\n",
      "\t<td>PDR</td>\n",
      "\t<td>Preliminary Design Review</td>\n",
      "</tr>\n",
      "<tr>\n",
      "\t<td>PIP</td>\n",
      "\t<td>Pipelines (SDP Work Package)</td>\n",
      "</tr>\n",
      "<tr>\n",
      "\t<td>PIP.INP</td>\n",
      "\t<td>The SDP work package responsible for input conditioning which is a sub-element of the Pipeline work package</td>\n",
      "</tr>\n",
      "<tr>\n",
      "\t<td>PROT</td>\n",
      "\t<td>Prototyping (SDP Work Package)</td>\n",
      "</tr>\n",
      "<tr>\n",
      "\t<td>PS</td>\n",
      "\t<td>Persistent Storage</td>\n",
      "</tr>\n",
      "<tr>\n",
      "\t<td>PSF</td>\n",
      "\t<td>Point Spread Function</td>\n",
      "</tr>\n",
      "<tr>\n",
      "\t<td>PSRFITS</td>\n",
      "\t<td>A standard FITS-based format for pulsar data files</td>\n",
      "</tr>\n",
      "<tr>\n",
      "\t<td>QA</td>\n",
      "\t<td>Quality Assurance. Note that sometimes Quality Assessment can be abbreviated to QA, but the default interpretation is Quality Assurance.</td>\n",
      "</tr>\n",
      "<tr>\n",
      "\t<td>QoS</td>\n",
      "\t<td>Quality of Service</td>\n",
      "</tr>\n",
      "<tr>\n",
      "\t<td>QPI</td>\n",
      "\t<td>QuickPath Interconnect</td>\n",
      "</tr>\n",
      "<tr>\n",
      "\t<td>RA</td>\n",
      "\t<td>Requirements Analysis</td>\n",
      "</tr>\n",
      "<tr>\n",
      "\t<td>RC</td>\n",
      "\t<td>Regional Centre</td>\n",
      "</tr>\n",
      "<tr>\n",
      "\t<td>RDMA</td>\n",
      "\t<td>Remote direct memory access</td>\n",
      "</tr>\n",
      "<tr>\n",
      "\t<td>REST</td>\n",
      "\t<td>Representational state transfer</td>\n",
      "</tr>\n",
      "<tr>\n",
      "\t<td>RFI</td>\n",
      "\t<td>Radio Frequency Interference</td>\n",
      "</tr>\n",
      "<tr>\n",
      "\t<td>RMR-NIC</td>\n",
      "\t<td>RDMA network interface card</td>\n",
      "</tr>\n",
      "<tr>\n",
      "\t<td>SaDT</td>\n",
      "\t<td>Signal and Data Transport</td>\n",
      "</tr>\n",
      "<tr>\n",
      "\t<td>SD</td>\n",
      "\t<td>Sequence Diagram</td>\n",
      "</tr>\n",
      "<tr>\n",
      "\t<td>SDN</td>\n",
      "\t<td>Software Defined Network</td>\n",
      "</tr>\n",
      "<tr>\n",
      "\t<td>SDP</td>\n",
      "\t<td>Science Data Processor</td>\n",
      "</tr>\n",
      "<tr>\n",
      "\t<td>SE</td>\n",
      "\t<td>System Engineering (SDP Work Package)</td>\n",
      "</tr>\n",
      "<tr>\n",
      "\t<td>SIB</td>\n",
      "\t<td>Standards Information Base</td>\n",
      "</tr>\n",
      "<tr>\n",
      "\t<td>SKA</td>\n",
      "\t<td>Square Kilometre Array</td>\n",
      "</tr>\n",
      "<tr>\n",
      "\t<td>SKA1_Low</td>\n",
      "\t<td>A phased array of simple dipole antennas to cover the frequency range 50 to 350 MHz</td>\n",
      "</tr>\n",
      "<tr>\n",
      "\t<td>SKA1_Mid</td>\n",
      "\t<td>An array several thousand dish antennas to cover the frequency range 350 MHz to 14 GHz</td>\n",
      "</tr>\n",
      "<tr>\n",
      "\t<td>SKA1_Survey</td>\n",
      "\t<td>An array of dishes with capability of covering a huge field of view</td>\n",
      "</tr>\n",
      "<tr>\n",
      "\t<td>SKAO</td>\n",
      "\t<td>SKA Office</td>\n",
      "</tr>\n",
      "<tr>\n",
      "\t<td>SMF</td>\n",
      "\t<td>Single-mode optical fibre</td>\n",
      "</tr>\n",
      "<tr>\n",
      "\t<td>SoC</td>\n",
      "\t<td>System on a Chip</td>\n",
      "</tr>\n",
      "<tr>\n",
      "\t<td>SP</td>\n",
      "\t<td>Single Precision Floating Point</td>\n",
      "</tr>\n",
      "<tr>\n",
      "\t<td>SPEAD</td>\n",
      "\t<td>Streaming Protocol for Exchanging Astronomical Data</td>\n",
      "</tr>\n",
      "<tr>\n",
      "\t<td>SS</td>\n",
      "\t<td>Science Support</td>\n",
      "</tr>\n",
      "<tr>\n",
      "\t<td>SWE</td>\n",
      "\t<td>Software Engineering</td>\n",
      "</tr>\n",
      "<tr>\n",
      "\t<td>SysML</td>\n",
      "\t<td>Systems Modelling Language</td>\n",
      "</tr>\n",
      "<tr>\n",
      "\t<td>TB</td>\n",
      "\t<td>Terabyte</td>\n",
      "</tr>\n",
      "<tr>\n",
      "\t<td>TBC</td>\n",
      "\t<td>To be confirmed</td>\n",
      "</tr>\n",
      "<tr>\n",
      "\t<td>TBD</td>\n",
      "\t<td>To be decided</td>\n",
      "</tr>\n",
      "<tr>\n",
      "\t<td>TCD</td>\n",
      "\t<td>Telescope Configuration Data</td>\n",
      "</tr>\n",
      "<tr>\n",
      "\t<td>TCP</td>\n",
      "\t<td>Transmission Control Protocol</td>\n",
      "</tr>\n",
      "<tr>\n",
      "\t<td>TM</td>\n",
      "\t<td>Telescope Manager</td>\n",
      "</tr>\n",
      "<tr>\n",
      "\t<td>TM</td>\n",
      "\t<td>Telescope Model</td>\n",
      "</tr>\n",
      "<tr>\n",
      "\t<td>ToR</td>\n",
      "\t<td>Top of Rack</td>\n",
      "</tr>\n",
      "<tr>\n",
      "\t<td>UDP</td>\n",
      "\t<td>User Datagram Protocol</td>\n",
      "</tr>\n",
      "<tr>\n",
      "\t<td>UML</td>\n",
      "\t<td>Unified Modeling Language</td>\n",
      "</tr>\n",
      "<tr>\n",
      "\t<td>VDIF</td>\n",
      "\t<td>VLBI Data Interchange Format</td>\n",
      "</tr>\n",
      "<tr>\n",
      "\t<td>VLBI</td>\n",
      "\t<td>Very long baseline interferometry</td>\n",
      "</tr>\n",
      "<tr>\n",
      "\t<td>WAN</td>\n",
      "\t<td>Wide area network</td>\n",
      "</tr>\n",
      "<tr>\n",
      "\t<td>WBS</td>\n",
      "\t<td>Work breakdown structure</td>\n",
      "</tr>\n",
      "<tr>\n",
      "\t<td>YOT</td>\n",
      "\t<td>Year on Telescope</td>\n",
      "</tr>\n",
      "</tbody>\n",
      "</table>"
     ]
    },
    {
     "cell_type": "heading",
     "level": 1,
     "metadata": {},
     "source": [
      "4 List of Symbols"
     ]
    },
    {
     "cell_type": "markdown",
     "metadata": {},
     "source": [
      "<table>\n",
      "<col />\n",
      "<col />\n",
      "<col />\n",
      "<thead>\n",
      "<tr>\n",
      "\t<th>Symbol</th>\n",
      "\t<th>Python</th>\n",
      "\t<th>Description</th>\n",
      "</tr>\n",
      "</thead>\n",
      "<tbody>\n",
      "<tr>\n",
      "\t<td>$B_{max}$</td>\n",
      "\t<td><code>Bmax</code></td>\n",
      "\t<td>Maximum baseline of the array</td>\n",
      "</tr>\n",
      "<tr>\n",
      "\t<td>$B_{90}$</td>\n",
      "\t<td><code>B90</code></td>\n",
      "\t<td>Baseline length containing 90% of all baselines</td>\n",
      "</tr>\n",
      "<tr>\n",
      "\t<td>$N_a$</td>\n",
      "\t<td><code>Na</code></td>\n",
      "\t<td>Number of antennas or stations in the array</td>\n",
      "</tr>\n",
      "<tr>\n",
      "\t<td>$N_{beam}$</td>\n",
      "\t<td><code>Nbeam</code></td>\n",
      "\t<td>Number of beams simultaneously observed by the array</td>\n",
      "</tr>\n",
      "<tr>\n",
      "\t<td>$D_s$</td>\n",
      "\t<td><code>Ds</code></td>\n",
      "\t<td>Diameter of antennas/stations</td>\n",
      "</tr>\n",
      "<tr>\n",
      "\t<td>$N_{pp}$</td>\n",
      "\t<td><code>Npp</code></td>\n",
      "\t<td>Number of polarisation products that are processed</td>\n",
      "</tr>\n",
      "<tr>\n",
      "\t<td>$T_{dump}$</td>\n",
      "\t<td><code>Tdump</code></td>\n",
      "\t<td>Correlator dump time</td>\n",
      "</tr>\n",
      "<tr>\n",
      "\t<td>$N_{f,corr}$</td>\n",
      "\t<td><code>Nf</code></td>\n",
      "\t<td>Number of frequency channels output by the correlator</td>\n",
      "</tr>\n",
      "<tr>\n",
      "\t<td>$\u03a9_E$</td>\n",
      "\t<td><code>Omega_E</code></td>\n",
      "\t<td>Angular velocity of the Earth</td>\n",
      "</tr>\n",
      "<tr>\n",
      "\t<td>$R_{Earth}$</td>\n",
      "\t<td><code>R_Earth</code></td>\n",
      "\t<td>Radius of the Earth</td>\n",
      "</tr>\n",
      "<tr>\n",
      "\t<td>$W_{curve}$</td>\n",
      "\t<td><code>W_curve</code></td>\n",
      "\t<td>Minimum deviation of the W coordinate due to Earth\u2019s curvature</td>\n",
      "</tr>\n",
      "<tr>\n",
      "\t<td>$T_{snap,min}$</td>\n",
      "\t<td><code>Tsnap_min</code></td>\n",
      "\t<td>Minimum duration of a snapshot in which w-correction is not dominated by Earth\u2019s curvature</td>\n",
      "</tr>\n",
      "<tr>\n",
      "\t<td>$\\theta_{FoV}$</td>\n",
      "\t<td><code>fov_angle</code></td>\n",
      "\t<td>Diameter of the field of view to be imaged</td>\n",
      "</tr>\n",
      "<tr>\n",
      "\t<td>$Q_{FoV}$</td>\n",
      "\t<td><code>Qfov</code></td>\n",
      "\t<td>Quality factor defining how much bigger the diameter of the field of view is than the first zero of the Airy function</td>\n",
      "</tr>\n",
      "<tr>\n",
      "\t<td>$\\lambda_{max}$</td>\n",
      "\t<td><code>wl_max</code></td>\n",
      "\t<td>Maximum wavelength to be imaged</td>\n",
      "</tr>\n",
      "<tr>\n",
      "\t<td>$\\lambda_{min}$</td>\n",
      "\t<td><code>wl_min</code></td>\n",
      "\t<td>Minimum wavelength to be imaged</td>\n",
      "</tr>\n",
      "<tr>\n",
      "\t<td>$\\lambda_{sub,max}$</td>\n",
      "\t<td><code>wl_sub_max</code></td>\n",
      "\t<td>Maximum wavelength of an imaging sub-band (channels over which image and pixel size is matched)</td>\n",
      "</tr>\n",
      "<tr>\n",
      "\t<td>$\\lambda_{sub,min}$</td>\n",
      "\t<td><code>wl_sub_min</code></td>\n",
      "\t<td>Minimum wavelength of an imaging sub-band</td>\n",
      "</tr>\n",
      "<tr>\n",
      "\t<td>$\\theta_{PSF}$</td>\n",
      "\t<td><code>psf_angle</code></td>\n",
      "\t<td>Diameter of the synthesised beam</td>\n",
      "</tr>\n",
      "<tr>\n",
      "\t<td>$\\theta_{pix}$</td>\n",
      "\t<td><code>pix_angle</code></td>\n",
      "\t<td>Angular size of each pixel</td>\n",
      "</tr>\n",
      "<tr>\n",
      "\t<td>$Q_{pix}$</td>\n",
      "\t<td><code>Qpix</code></td>\n",
      "\t<td>Quality factor defining the oversampling of synthesised beam</td>\n",
      "</tr>\n",
      "<tr>\n",
      "\t<td>$N_{pix}$</td>\n",
      "\t<td><code>Npix</code></td>\n",
      "\t<td>Linear size of $uv$ grids and images in pixels</td>\n",
      "</tr>\n",
      "<tr>\n",
      "\t<td>$N_{GW}(w)$</td>\n",
      "\t<td><code>NGW</code></td>\n",
      "\t<td>Linear size of w convolution functions in pixels as function of the w</td>\n",
      "</tr>\n",
      "<tr>\n",
      "\t<td>$N_{major}$</td>\n",
      "\t<td><code>Nmajor</code></td>\n",
      "\t<td>Number of major CLEAN cycles to be done</td>\n",
      "</tr>\n",
      "<tr>\n",
      "\t<td>$N_{minor}$</td>\n",
      "\t<td><code>Nminor</code></td>\n",
      "\t<td>Number of minor CLEAN cycles</td>\n",
      "</tr>\n",
      "</tbody>\n",
      "</table>"
     ]
    },
    {
     "cell_type": "code",
     "collapsed": true,
     "input": [
      "from sympy import init_session\n",
      "init_session(\n",
      "    use_latex=True,\n",
      "    use_unicode=True,\n",
      "    pretty_print=True,\n",
      "    quiet=True,\n",
      ")\n",
      "\n",
      "import sympy.physics.units as u\n",
      "from astropy import constants as const\n",
      "import numpy as np\n",
      "\n",
      "c = const.c.value * u.m / u.s\n",
      "\n",
      "Bmax, B90 = symbols(\"B_max B_90\", positive=True)\n",
      "Na, Nbeam, Npp, Nf = symbols(\"N_a N_beam N_pp N_{f\\,corr}\", integer=True, positive=True)\n",
      "Ds, Tdump = symbols(\"D_s T_dump\", positive=True)\n",
      "Omega_E, R_Earth, W_curve = symbols(\"Omega_E, R_Earth, W_curve\", positive=True)\n",
      "Tsnap, Tsnap_min = symbols(\"T_snap T_{snap\\,min}\", positive=True)\n",
      "Qfov = symbols(\"Q_FoV\", positive=True)\n",
      "fov_angle = symbols(r\"\\theta_{FoV}\", positive=True)\n",
      "wl, wl_max, wl_min, wl_sub_max, wl_sub_min = symbols(\"\\lambda \\lambda_max \\lambda_max \\lambda_{sub\\,max} \\lambda_{sub\\,min}\", positive=True)\n",
      "Qpix = symbols(\"Q_pix\", positive=True)\n",
      "psf_angle= symbols(r\"\\theta_{PSF}\", positive=True)\n",
      "pix_angle  = symbols(r\"\\theta_{pix}\", positive=True)\n",
      "Npix, Nmajor, Nminor = symbols(\"N_pix N_major N_minor\", integer=True, positive=True)\n",
      "NAA, NGW = symbols(\"N_AA N_GW\", positive=True)"
     ],
     "language": "python",
     "metadata": {},
     "outputs": [
      {
       "output_type": "stream",
       "stream": "stdout",
       "text": [
        "IPython console for SymPy 0.7.5 (Python 2.7.7-32-bit) (ground types: python)\n"
       ]
      },
      {
       "output_type": "stream",
       "stream": "stderr",
       "text": [
        "WARNING: Hook shutdown_hook is deprecated. Use the atexit module instead.\n"
       ]
      }
     ],
     "prompt_number": 8
    },
    {
     "cell_type": "code",
     "collapsed": false,
     "input": [
      "Qfov, fov_angle, psf_angle, pix_angle"
     ],
     "language": "python",
     "metadata": {},
     "outputs": [
      {
       "latex": [
        "$$\\begin{pmatrix}Q_{FoV}, & \\theta_{{FoV}}, & \\theta_{{PSF}}, & \\theta_{{pix}}\\end{pmatrix}$$"
       ],
       "metadata": {},
       "output_type": "pyout",
       "png": "[encoded data removed]",
       "prompt_number": 2,
       "text": [
        "(Q_FoV, \\theta_{FoV}, \\theta_{PSF}, \\theta_{pix})"
       ]
      }
     ],
     "prompt_number": 2
    },
    {
     "cell_type": "code",
     "collapsed": false,
     "input": [
      "telescope_list = ['SKA1Low', 'SKA1Mid', 'SKA1Survey'] # list enumeration for later calculations\n",
      "\n",
      "telescope_labels = dict(\n",
      "    zip(\n",
      "        telescope_list,\n",
      "        symbols('SKA1_{Low}, SKA1_{Mid}, SKA1_{Survey}')\n",
      "    )\n",
      ")\n",
      "\n",
      "#telescope_labels = {\n",
      "#    'SKA1Low': telescope_symbols[0],\n",
      "#    'SKA1Mid': telescope_symbols[1],\n",
      "#    'SKA1Survey': telescope_symbols[2],\n",
      "#}\n",
      "\n",
      "telescope_info = {\n",
      "    'SKA1Low': {\n",
      "        Tdump: 0.6 * u.s, # seconds\n",
      "        Na: 1024,         # number of antennas\n",
      "        Nf: 256000,       # number of channels\n",
      "        Nbeam: 1,         # number of beams\n",
      "        Ds: 35 * u.m,     # station \"diameter\" in meters\n",
      "        wl: c/(100e6 * u.Hz), # lambda in meters for 100 MHz\n",
      "        Bmax: 100 * u.km, # kilometers of max baseline\n",
      "        NAA: 9,\n",
      "    },\n",
      "    'SKA1Mid': {\n",
      "        Tdump: 0.08 * u.s, # seconds\n",
      "        Na: 190+64,        # number of antennas\n",
      "        Nf: 256000,        # number of channels\n",
      "        Nbeam: 1,          # number of beams\n",
      "        Ds: 15 * u.m,      # station \"diameter\" in meters\n",
      "        wl: c/(1160e6 * u.Hz), # lambda in meters for 1.16 GHz\n",
      "        Bmax: 150 * u.km,  # kilometers of max baseline\n",
      "        NAA: 9,\n",
      "    },\n",
      "    'SKA1Survey': {\n",
      "        Tdump: 0.3 * u.s, # seconds\n",
      "        Na: 96,           # number of antennas\n",
      "        Nf: 256000,       # number of channels\n",
      "        Nbeam: 36,        # number of beams (36 because this is a PAF)\n",
      "        Ds: 15 * u.m,     # station \"diameter\" in meters\n",
      "        wl: c/(1160e6 * u.Hz), # lambda in meters for 1.16 GHz\n",
      "        Bmax: 100 * u.km,  # kilometers of max baseline\n",
      "        NAA: 9,\n",
      "    },\n",
      "}\n",
      "\n",
      "def calcTel(telescope=None, expr=None, late_subs={}, ev=None):\n",
      "    # Shortcut for doing it for just one telescope\n",
      "    return dict(\n",
      "        [(telescope_labels[telescope],expr.subs(telescope_info[telescope]))]\n",
      "    )\n",
      "\n",
      "def eval_for_telescopes(expr,late_subs={},ev=None):\n",
      "    # Take into account that substitutions in subs are done _after_ evaluating \n",
      "    # the telescope-dependent substitution. If you want to run them before, you'll\n",
      "    # have to do substitute them first\n",
      "    if ev == None:\n",
      "        result = {\n",
      "            telescope_labels[t]: expr.subs(telescope_info[t]).subs(late_subs)\n",
      "            for t in telescope_list\n",
      "        }\n",
      "    elif type(ev) == type(True):\n",
      "        result = {\n",
      "            telescope_labels[t]: expr.subs(telescope_info[t]).subs(late_subs).evalf()\n",
      "            for t in telescope_list\n",
      "        }\n",
      "    elif type(ev) == type(1) and ev > 0:\n",
      "        result = {\n",
      "            telescope_labels[t]: expr.subs(telescope_info[t]).subs(late_subs).evalf(ev)\n",
      "            for t in telescope_list\n",
      "        }\n",
      "\n",
      "    return result\n"
     ],
     "language": "python",
     "metadata": {},
     "outputs": [],
     "prompt_number": 3
    },
    {
     "cell_type": "heading",
     "level": 1,
     "metadata": {},
     "source": [
      "5 Introduction  *(Nijboer)*"
     ]
    },
    {
     "cell_type": "heading",
     "level": 2,
     "metadata": {},
     "source": [
      "5.1 Purpose of the document"
     ]
    },
    {
     "cell_type": "markdown",
     "metadata": {},
     "source": [
      "The current version of this document is a part of the SDP input into the SKA re-baselining process (SDP Milestone 7). The purpose of this document at this stage is primarily to inform the initial costing of the SDP compute platform and give the SKAO insight into the scaling of this cost with key system parameters and the breakdown of cost per telescope. The computing requirements analysis presented here is also an important input into the SDP architecture."
     ]
    },
    {
     "cell_type": "heading",
     "level": 2,
     "metadata": {},
     "source": [
      "5.2 Overview of SDP and context of the computing requirements models"
     ]
    },
    {
     "cell_type": "markdown",
     "metadata": {},
     "source": [
      "The SDP consists of a number of pipelines and processing stages. The processing pipelines are:\n",
      "\n",
      "1.\tFast Imaging (both for detection of slow transients and for the real-time calibration requirement)\n",
      "2.\tHigh Dynamic Range continuum imaging\n",
      "3.\tSpectroscopic imaging\n",
      "4.\tPulsar processing (candidate sieving and timing)\n",
      "\n",
      "All of the imaging pipelines have as their first stage the ingest stage where the RFI flagging, the de-mixing of bright sources and the binning of visibilities in frequency and potentially time is done. It was shown in [RD01] that the compute requirements for the ingest stage and for the Pulsar pipeline are likely to be significantly smaller than for imaging and so those are not analysed in detail here. The requirement for fast imaging was further developed after [RD01] was completed and so an analysis of fast imaging is included here for the first time. Our initial analysis in [RD01] also identified DFT source subtraction as a potentially important processing step for the epoch of re-ionisation data processing and also a significant computational cost for this science use case. Since this is specific to the epoch of re-ionisation data processing we defer the full analysis of it until we examine science use cases in fuller detail. Further information on the DFT subtract is available in [RD01] and [RD12].\n",
      "\n",
      "Current imaging and calibration algorithms require iterative processing of visibility data. SDP processing will therefore have a buffer system such that an entire observing track is written to a visibility buffer and then this is processed while the next one is being buffered. Additionally there will be a non-iterative near-real-time system for fast imaging and real-time calibration that will not make use of the buffer.\n",
      "\n",
      "The role SDP and its computational requirements are put in context of the overall digital processing of the SKA in [RD04].\n",
      "\n",
      "\n",
      "In the analysis presented here we investigate the computational requirements of the continuum and spectroscopic imaging. It is taken that the continuum imaging will be used for the self-calibration and for the subtraction of sources in the near sidelobes of the primary telescope beams as well as for the continuum science analysis. The spectral-line case is analysed, with the assumption that only the field of view corresponding to primary beam is imaged.\n",
      "\n",
      "The following necessary steps are **not yet** included in the parametric modelling:\n",
      "\n",
      "* The computation of the uvw coordinates if these are not stored\n",
      "* The computational cost of calibration solvers\n",
      "* The computational cost of the science extraction algorithms\n",
      "* The computational cost of computing the weights for visibilities is not estimated"
     ]
    },
    {
     "cell_type": "heading",
     "level": 2,
     "metadata": {},
     "source": [
      "5.3 Scope of the document"
     ]
    },
    {
     "cell_type": "markdown",
     "metadata": {},
     "source": [
      "This document sets out the assumptions used in the models, gives the basic equations relating the parameters with required performance and then provides the initial analysis and the key outputs of the models.\n",
      "\n",
      "Initial analyses for the computational costs of the image-based minor CLEAN cycle and for the faceting algorithm are given in Sections 9.7.1 and 11 respectively. The results of these are not yet included in the main results given in Section 15.2.\n",
      "\n",
      "A companion Excel spreadsheet has been produced implementing the models described here [RD19]. The authoritative copy of this spreadsheet is held by the SKA SDP Consortium System Engineer."
     ]
    },
    {
     "cell_type": "heading",
     "level": 1,
     "metadata": {},
     "source": [
      "6 References *(Nijboer)*"
     ]
    },
    {
     "cell_type": "heading",
     "level": 2,
     "metadata": {},
     "source": [
      "6.1 Applicable Documents"
     ]
    },
    {
     "cell_type": "markdown",
     "metadata": {},
     "source": [
      "The following documents are applicable to the extent stated herein. In the event of conflict between the contents of the applicable documents and this document, the applicable documents shall take precedence.\n",
      "\n",
      "* [AD1]\tDewdney, P. E. (2013). SKA1 SYSTEM BASELINE DESIGN. SKA Office\n",
      "* [AD2]\tMcCool, R., & Cornwell, T. (2013). MISCELLANEOUS CORRECTIONS TO THE BASELINE DESIGN\n",
      "* [AD3]\t\u201cSKA PHASE 1 SYSTEM (LEVEL 1) REQUIREMENTS SPECIFICATION\u201d, T.Cornwell, SKA-OFF.SE.ARC-SKO-SRS-001_2"
     ]
    },
    {
     "cell_type": "heading",
     "level": 2,
     "metadata": {},
     "source": [
      "6.2 Reference Documents"
     ]
    },
    {
     "cell_type": "markdown",
     "metadata": {},
     "source": [
      "The following documents are referenced in this document. In the event of conflict between the contents of the referenced documents and this document, this document shall take precedence.\n",
      "\n",
      "* [RD01] Nikolic et al (2014), \u201cAnalysis of the impact of SDP requirements on performance critical algorithms (including baseline-dependent averaging)\u201d, SKA SDP Memo 005\n",
      "* [RD02] S. Bhatnagar, T. J. (2008). Correcting direction-dependent gains in the deconvolution of radio interferometric images. A&A, 419-429\n",
      "* [RD03] Cornwell, T. J., Voronkov, M. A., & Humphreys, B. (2012). Wide field imaging for the Square Kilometre Array. \n",
      "* [RD04] Rik Jongerius, S. W. (2014). An End-to-End Computing Model for the Square Kilometre Array. IEEE Computer, volume 47, number 9\n",
      "* [RD05] FFT Benchmark Methodology. (2014). Retrieved from fftw.org: http://www.fftw.org/speed/method.html\n",
      "* [RD06] Mitchell, D. a. (2014). Analysis of w-projection kernel size. SKA SDP Consortium\n",
      "* [RD07] \u201cA PARAMETRIC MODEL FOR THE CALIBRATION AND IMAGING COSTS OF SKA1\u201d, T.J. Cornwell, 12 Feb 2013, SKA Draft Memo\n",
      "* [RD08] \u201cRoofline: An Insightful Visual Performance Model for Multicore Architectures\u201d, Williams, Waterman and Patterson, DOI:10.1145/1498765.1498785, APRIL 2009 | VOL. 52 | NO. 4 | COMMUNICATIONS OF THE ACM\n",
      "* [RD09] \u201cSDP Element Concept\u201d Paul Alexander, Chris Broekema, Simon Ratcliffe, Rosie Bolton, Bojan Nikolic, 2013, SDP-PROP-DR-001-1 (part of SKA SDP Consortium proposal)\n",
      "* [RD10] \u201cImager.cc\u201d C++ source , CASA source code SVN revision 30821, https://svn.cv.nrao.edu/svn/casa/trunk\n",
      "* [RD11] Tasse, C. a. (2013). Applying full polarization A-Projection to very wide field of view instruments: An imager for LOFAR. A&A.\n",
      "* [RD12] \u201c Calibratability-by-Design (for SKA's Low Frequency Aperture Array)\u201d, Stefan J. Wijnholds, Jaap Bregman, Jan Noordam, URSI General Assembly and Scientific Symposium, Beijing (China), 16-23 August 2014\n",
      "* [RD13] \u201cRadio-interferometric imaging of very large fields - The problem of non-coplanar arrays\u201d, Cornwell, T. J.; Perley, R. A., Astronomy and Astrophysics (ISSN 0004-6361), vol. 261, no. 1, p. 353-364\n",
      "* [RD14] \u201cWide Field Imaging at Low Frequencies\u201d, Sault, R. J.,  The Universe at Low Radio Frequencies, Proceedings of IAU Symposium 199, held 30 Nov - 4 Dec 1999, Pune, India. Edited by A. Pramesh Rao, G. Swarup, and Gopal-Krishna, 2002., p.508\n",
      "* [RD15] \u201cFaceted imaging in AIPS\u201d, Kogan & Greisen, AIPS Memo 113, 2009\n",
      "* [RD16] \u201cWPConvFunc.cc\u201d, C++ source code, CASA source code SVN revision 30821, https://svn.cv.nrao.edu/svn/casa/trunk\n",
      "* [RD17] \u201c Analysis of Convolutional Resampling Algorithm Performance\u201d, Humphreys & Cornwell, SKA Memo 132\n",
      "* [RD18] \u201cPARAMETERIZED DECONVOLUTION FOR WIDE-BAND RADIO SYNTHESIS IMAGING\u201d, Urvashi Rao Venkata, 2010, PhD thesis\n",
      "* [RD19] SKA-TEL-SDP-0000008 Parametric Model of Compute Requirements\n",
      "* [RD20] SKA-TEL.SDP-SDPC-MEMO-002 , \u201cTime and channel averaging\u201d, Chris Skipper,, 31 March 2014\n",
      "* [RD21] \u201cAn Efficient Work-Distribution Strategy for Gridding Radio-Telescope Data on GPUs\u201d, John W. Romein, ICS\u201912, June 25\u201329, 2012, San Servolo Island, Venice, Italy. Source code available at: ftp://ftp.astron.nl/outgoing/romein/Gridding-0.2.tar.bz\n",
      "* [RD22] \u201cFFT Analysis\u201d, S. Salvini, SDP Memo 8, https://sharepoint.skasdp.org/documentmanagement/DocumentManagementLibrary/SKA-TEL-SDP-MEMO-008-FFTs.docx\n",
      "* [RD23] https://developer.nvidia.com/cuFFT\n",
      "* [RD24] http://www.nvidia.com/object/tesla-servers.html\n",
      "* [RD25] SKA-TEL-SDP-0000002 PDR.01 Element Architecture Design\n",
      "* [RD26] SKA-TEL-SDP-0000009 PDR.07 Basis of Estimate"
     ]
    },
    {
     "cell_type": "heading",
     "level": 1,
     "metadata": {},
     "source": [
      "7 Overview of modelling strategy *(Nijboer)*"
     ]
    },
    {
     "cell_type": "heading",
     "level": 2,
     "metadata": {},
     "source": [
      "7.1 Comparison to other modelling"
     ]
    },
    {
     "cell_type": "markdown",
     "metadata": {},
     "source": [
      "The analysis in the current document differs from the analyses in [RD04] and [RD09] in a number of ways which are summarized here.\n",
      "\n",
      "[RD09] modeling was on analysis of individual science use cases. Here we primarily address the SKA baseline design [AD01] / L1 requirements [AD03] and so deal with the maximal processing case. [RD09] assumes baseline-dependent averaging where we do not make this assumption here (see [AD02]). [RD09] analyses only the w-projection algorithm not w-snapshots as we do here. [RD09] does not analyse the continuum imaging out to the second zero of the primary beam function as is done here. [RD09] does not analyse the computation of the convolution functions or the effect of the full Mueller matrix computation. [RD04] follows a similar approach to RD09 except that it considers the maximal processing case. \n",
      "\n",
      "Following [RD07] we analyse the w-snapshots algorithm. The overall approach is different in that we express the processor requirements as two quantities: the number floating point operations and as the required memory bandwidth. In contrast [RD07] categorises operations at a higher level (gridding operation, re-projection operation, FFT operation) and uses empirical timings on a current processors for each of those. Here, we assume the memory bandwidth required is proportional to FLOP operation count and estimate the constant of proportionality for two of the algorithmic steps (gridding and FFT operations) empirically. The two approaches are similar but the advantage of the approach used here of deriving the required memory bandwidth is that it is less tied on the current processor/memory architectures and therefore allows for novel solutions, for example the advance of 3D stacked memory giving a leap in memory bandwidth. The ratio of empirical timings of gridding and FFT operations in [RD07] is discrepant to the ratio of estimated required memory bandwidth by about a factor of 3 and this being followed up in the work ongoing now.\n",
      "\n",
      "Here we express most of the processing requirement as FLOP and memory access rates required to keep up with the telescope while [RD07] introduces observation time. The reason for our approach is that for observations longer than a few snapshots computing requirements are linear in duration. "
     ]
    },
    {
     "cell_type": "heading",
     "level": 2,
     "metadata": {},
     "source": [
      "7.2\tOverview of processing pipelines"
     ]
    },
    {
     "cell_type": "raw",
     "metadata": {},
     "source": [
      "Include pipeline flow diagrams form PDR.02"
     ]
    },
    {
     "cell_type": "heading",
     "level": 1,
     "metadata": {},
     "source": [
      "8 Sample rates and sample sizes (Nijboer)"
     ]
    },
    {
     "cell_type": "heading",
     "level": 2,
     "metadata": {},
     "source": [
      "8.1 Sample rates and resolution (Nijboer)"
     ]
    },
    {
     "cell_type": "markdown",
     "metadata": {},
     "source": [
      "As defined by\n",
      "* Smearing requirements (time / frequency)\n",
      "* RFI requirements\n",
      "* Science requirements\n",
      "\n",
      "Remark on baseline dependent averaging. Refer to separate document.\n",
      "\n",
      "Communications rates (especially between Compute Islands)."
     ]
    },
    {
     "cell_type": "heading",
     "level": 3,
     "metadata": {},
     "source": [
      "8.1.1\tNumber of frequency channels for gridding"
     ]
    },
    {
     "cell_type": "markdown",
     "metadata": {},
     "source": [
      "In the spectral line imaging case we are required to retain the full frequency resolution output by the correlator. It is therefore necessary the grid visibilities in frequency channels as received from correlator and hence:\n",
      "\n",
      "$$N_{f,grid}^{spec} = N_{f,corr}$$\n",
      "\n",
      "In the case of continuum imaging and fast imaging the visibilities can generally be binned in frequency to an extent determined by the bandwidth smearing condition and the required output frequency resolution. The bandwidth smearing limit is given by:\n",
      "\n",
      "$$\\frac{\\Delta f}{f} = \\frac{\\theta_{beam}}{\\theta_{FoV}} \\frac{1}{Q_{bw}} = \\frac{0.6 D_s}{B Q_{FoV}} \\frac{1}{Q_{bw}}$$\n",
      "\n",
      "where $\\frac{\\Delta f}{f}$ is the fractional bandwidth to avoid bandwidth smearing, $Q_{bw}$ is a quality factor controlling how well this condition is to be satisfied, $B$ is the baseline length, and $\\theta_{FoV}$ is the full field of view as defined previously (sometimes half field-of-view is used in this expression but full field of view is more conservative and is what is used in [RD17]). Since the bandwidth condition is a fractional bandwidth condition it is most efficient to bin frequency in logarithmically spaced bins. At a single baseline length the number of frequency channels required is:\n",
      "\n",
      "$$N_f(B) = \\frac{\\log \\left( \\frac{\\lambda_{max}}{\\lambda_{min}} \\right)}{\\log \\left( 1 + \\frac{0.6 D_s}{B Q_{FoV}} \\frac{1}{Q_{bw}} \\right) }$$\n",
      "\n",
      "Such logarithmic binning of visibilities provides a substantial computational saving for ultra wide bandwidth telescope like SKA.\n",
      "\n",
      "There is an additional significant gain to be made by making use of the fact that SKA telescopes are centrally condensed a large fraction of the baselines they form are therefore also centrally condensed. The maximum fractional frequency bandwidth on these baselines is much larger than on the long baselines of the array. To make use of this we identify three zones of baselines<sup>1</sup>:\n",
      "\n",
      "1.\tBaselines that are short enough that their binning is not limited by the bandwidth smearing but the requirement for $N_{f,out}$ frequency channels at the output of the imaging process. The fraction of such baselines is denoted by $f_{B,short}$.\n",
      "1.\tBaselines in the intermediate zone, which we define to be up the zone containing the inner 90% of all baselines. The frequency binning is for these baselines is set by the length of the baseline containing 90% of all baseline which we denote $B_{90}$. By definition the fraction of baselines in this zone is $0.9-f_{B,short}$.\n",
      "1.\tLong baselines for which binning is set by the bandwidth smearing limit on the longest baseline. The fraction of baselines in this zone is by definition 0.1\n",
      "\n",
      "<sup>1</sup>The concept presented here is not the same as two-zone time averaging in the correlator introduced in [AD01] and removed in [AD02]. The concept here is for binning in frequency space only, inside the SDP system and only for the continuum imaging case where multiple correlator frequency channels will anyway be combined on the same uv grids before the FFT step. The spectral line pipeline is assumed to run on unbinned data as received from the correlator. The concept here does cause a small loss of flexibility in calibration, i.e., it not possible to apply A functions that are varying fast as a function of frequency but for relatively large values of $N_{f,out}$ as used below this should not be a problem.\n",
      "\n",
      "Adopting this scheme means that visibilities from various baselines will be binned to frequency resolutions $N_{f,out},N_{f,bmax} =N_f(B_{max})$  and $N_{f,bmid}$ where $N_{f,bmid} = N_f (B_{mid})$ is derived from the bandwidth smearing criterion at B_mid. The sum of these numbers of channels weighted by the fraction of baselines that they apply to gives the effective number of channels which can be used for gridding and data volume calculations in continuum and fast imaging pipelines:\n",
      "\n",
      "$$N_{f,grid} = \\left( 0.1 N_{f,bmax} + (0.9 - f_{B,short}) N_{f,b90} + f_{B,short} N_{f,out} \\right)$$\n",
      "\n",
      "The concept used here allows for easy parametric formulation of the computational impact of the frequency binning for the continuum imaging. Simulations showing detailed impact are being prepared in [RD19]."
     ]
    },
    {
     "cell_type": "heading",
     "level": 2,
     "metadata": {},
     "source": [
      "8.2\tData format, precision, and data size (van Diepen)"
     ]
    },
    {
     "cell_type": "markdown",
     "metadata": {},
     "source": [
      "Including (?):\n",
      "* Visibilities\n",
      "* Weights\n",
      "* UVW coordinates\n",
      "* Flags\n",
      "* Other meta data?\n"
     ]
    },
    {
     "cell_type": "heading",
     "level": 3,
     "metadata": {},
     "source": [
      "8.2.1 Size of images and u,v planes"
     ]
    },
    {
     "cell_type": "markdown",
     "metadata": {},
     "source": [
      "The size of the images and the associated $uv$ planes depend on the angular size of pixels, the angular size of field to be imaged (and, if faceting is used, the faceting strategy).\n",
      "\n",
      "The full-width half-maximum of the primary beam size depends on the diameter ($D_s$) and the illumination pattern/element weighting strategy of the telescope. For example, it is about $1.17 \\frac{\\lambda}{D_s}$ for -12dB Gaussian tapered illumination and it is about $1.4 \\frac{\\lambda}{D_s}$ for LOFAR. Here $D_s$ is the diameter of dish or  station. The area to be imaged must necessarily include the FWHM in order to retain all of the information that the telescope is collecting. It is however usually necessary to image a larger area in order to be able to subtract accurately the sidelobes of sources outside the primary beam.\n",
      "\n",
      "We therefore define the diameter of the field of view $\\theta_{FoV}$ to be some factor $Q_{FoV}$ larger than the diameter of the first null of the Airy function:\n",
      "\n",
      "$$\\theta_{FoV} = \\frac{7.6 \\lambda_{max} Q_{FoV}}{\\pi D_s}$$\n",
      "\n",
      "where the relevant wavelength is the maximum wavelength to be used in imaging of the single sub-band over which pixel sizes are going to be matched, $lambda_{sub,max}$.  Therefore $Q_{FoV}=1$ corresponds to a field of view that encloses the first zero of the Bessel function of first kind and $Q_{FoV}=1.8$ to the field of view that encloses the second zero, $Q_{FoV}=0.48$ corresponds to full-width half-maximum of a 12db Gaussain tapered illumination and $Q_{FoV}=0.57$ corresponds to full-width half-maximum of LOFAR beam.\n",
      "\n",
      "The size of the synthetized beam depends on the weighting scheme with a minimum of about $\\frac{\\lambda}{B_{max}}$, but in practice for well-filled arrays it is usually well approximated by a diameter of $\\theta_{beam} = \\frac{3}{2} \\frac{\\lambda}{B_{max}}$. The size of the pixels can then be defined in terms of this practical synthetized beam size as:\n",
      "\n",
      "$$\\theta_{pix} = \\frac{3}{4} \\frac{\\lambda_{sub,min}}{B_{max} Q_{pix}}$$\n",
      "\n",
      "where the relevant wavelength is the shortest wavelength to be used in the sub-band imaging, $\\lambda_{sub,min}$ and $Q_{pix}$ is the oversampling factor. Value $Q_{pix} = 1.5$ corresponds to 3 pixels per synthetized beam which is the minimum used in practice and value $Q_{pix} = 2.5$ corresponds to 5 pixels per synthetized beam. For comparison CASA routine `Imager::advise` [RD10] gives pixel size as the inverse of twice the maximum $uv$ distance, giving $\u03b8^{CASA}_{pix} = \\frac{\\lambda_{sub,min}}{2 B_{max}}$ which corresponds to $\\theta_{pix}=1.5$ in the relation above.\n",
      "\n",
      "The linear size of the uv planes and images is then:\n",
      "\n",
      "$$N_{pix} = \\frac{\\theta_{FoV}}{\\theta_{pix}} = \\frac{10 B_{max} Q_{pix} Q_{FoV}}{\\pi D_s} \\frac{\\lambda_{sub,max}}{\\lambda_{sub,min}}$$\n",
      "\n",
      "where $B_{max}$ is the maximum baseline length and $D_s$ is the diameter of dish or station. As described above the use of $\\lambda_{sub,max}$ and $\\lambda_{sub,min}$  is to allow sub-bands over which pixel size is matched, decreasing the apparent efficiency but making operations across different frequency channels significantly easier to implement. In the case $\\lambda_{sub,max} = \\lambda_{sub,min}$ is equivalent to having just a single fiducial wavelength."
     ]
    },
    {
     "cell_type": "code",
     "collapsed": false,
     "input": [
      "fov_angle = 7.60 * wl_sub_max*Qfov/pi/Ds\n",
      "fov_angle"
     ],
     "language": "python",
     "metadata": {},
     "outputs": [
      {
       "latex": [
        "$$\\frac{7.6 Q_{FoV} \\lambda_{{sub,max}}}{\\pi D_{s}}$$"
       ],
       "metadata": {},
       "output_type": "pyout",
       "png": "[encoded data removed]",
       "prompt_number": 8,
       "text": [
        "7.6\u22c5Q_FoV\u22c5\\lambda_{sub,max}\n",
        "\u2500\u2500\u2500\u2500\u2500\u2500\u2500\u2500\u2500\u2500\u2500\u2500\u2500\u2500\u2500\u2500\u2500\u2500\u2500\u2500\u2500\u2500\u2500\u2500\u2500\u2500\u2500\n",
        "           \u03c0\u22c5D_s           "
       ]
      }
     ],
     "prompt_number": 8
    },
    {
     "cell_type": "code",
     "collapsed": false,
     "input": [
      "pix_angle = Rational(3,4)*wl_sub_min/Qpix/Bmax\n",
      "pix_angle"
     ],
     "language": "python",
     "metadata": {},
     "outputs": [
      {
       "latex": [
        "$$\\frac{3 \\lambda_{{sub,min}}}{4 B_{max} Q_{pix}}$$"
       ],
       "metadata": {},
       "output_type": "pyout",
       "png": "[encoded data removed]",
       "prompt_number": 9,
       "text": [
        "3\u22c5\\lambda_{sub,min}\n",
        "\u2500\u2500\u2500\u2500\u2500\u2500\u2500\u2500\u2500\u2500\u2500\u2500\u2500\u2500\u2500\u2500\u2500\u2500\u2500\n",
        "   4\u22c5B_max\u22c5Q_pix   "
       ]
      }
     ],
     "prompt_number": 9
    },
    {
     "cell_type": "code",
     "collapsed": false,
     "input": [
      "Npix = fov_angle/pix_angle\n",
      "Npix"
     ],
     "language": "python",
     "metadata": {},
     "outputs": [
      {
       "latex": [
        "$$\\frac{10.1333333333333 B_{max} Q_{FoV} Q_{pix} \\lambda_{{sub,max}}}{\\pi D_{s} \\lambda_{{sub,min}}}$$"
       ],
       "metadata": {},
       "output_type": "pyout",
       "png": "[encoded data removed]",
       "prompt_number": 10,
       "text": [
        "10.1333333333333\u22c5B_max\u22c5Q_FoV\u22c5Q_pix\u22c5\\lambda_{sub,max}\n",
        "\u2500\u2500\u2500\u2500\u2500\u2500\u2500\u2500\u2500\u2500\u2500\u2500\u2500\u2500\u2500\u2500\u2500\u2500\u2500\u2500\u2500\u2500\u2500\u2500\u2500\u2500\u2500\u2500\u2500\u2500\u2500\u2500\u2500\u2500\u2500\u2500\u2500\u2500\u2500\u2500\u2500\u2500\u2500\u2500\u2500\u2500\u2500\u2500\u2500\u2500\u2500\u2500\n",
        "              \u03c0\u22c5D_s\u22c5\\lambda_{sub,min}               "
       ]
      }
     ],
     "prompt_number": 10
    },
    {
     "cell_type": "heading",
     "level": 3,
     "metadata": {},
     "source": [
      "8.2.2\tu,v Grid"
     ]
    },
    {
     "cell_type": "markdown",
     "metadata": {},
     "source": [
      "Each uv grid has $\ud835\udc41_{pix}^2$ pixels which have to be double precision complex values requiring 16 bytes of storage.\n",
      "\n",
      "$$M_{uv\\,grid} = 16 N_{pix}^2 \\textrm{byte}$$\n",
      "\n",
      "This size of working memory is required for gridding of the visibilities, for gridding of the PSFs and for the FFTs (which are taken to be in-place here). \n",
      "\n",
      "The grids used for accumulating weights are real-valued so:\n",
      "\n",
      "$$M_{weight\\,grid}=8  N_{pix}^2  \\, \\mathrm{byte}$$\n",
      "\n",
      "This is the working memory requirement for the image weight calculation.\n",
      "\n",
      "The images used in the intermediate processing are also real valued so they require:\n",
      "\n",
      "$$M_{image} = 8 N_{pix}^2 \\, \\mathrm{byte}$$\n",
      "\n",
      "This is the required working memory for any whole-image calculations. Re-projection requires minimum $M_{image}$ if it operates on whole images but can relatively easily be decomposed onto operations onto sections of images. Minor cycle CLEAN likewise works on $M_{image}$ working set in the most straightforward implementation."
     ]
    },
    {
     "cell_type": "raw",
     "metadata": {},
     "source": [
      "It is beneficial to include additional padding for the FFT operations, typically 20-30% in linear size. This is not yet included in the relations here but will be addressed in next revisions of this document"
     ]
    },
    {
     "cell_type": "code",
     "collapsed": false,
     "input": [
      "Muvgrid, byte = symbols(\"M_{uv\\,grid} \\mathrm{byte}\", positive=True)\n",
      "Muvgrid = (2*(8*byte))*Npix**2\n",
      "Muvgrid"
     ],
     "language": "python",
     "metadata": {},
     "outputs": [
      {
       "latex": [
        "$$\\frac{3285.90222222222 B_{{max}}^{2} Q_{{FoV}}^{2} Q_{{pix}}^{2} \\lambda_{{max}}^{2} \\mathrm{byte}}{\\pi^{2} D_{s}^{2} \\lambda_{{min}}^{2}}$$"
       ],
       "metadata": {},
       "output_type": "pyout",
       "png": "[encoded data removed]",
       "prompt_number": 22,
       "text": [
        "                        2        2        2              2              \n",
        "3285.90222222222\u22c5B_{max} \u22c5Q_{FoV} \u22c5Q_{pix} \u22c5\\lambda_{max} \u22c5\\mathrm{byte}\n",
        "\u2500\u2500\u2500\u2500\u2500\u2500\u2500\u2500\u2500\u2500\u2500\u2500\u2500\u2500\u2500\u2500\u2500\u2500\u2500\u2500\u2500\u2500\u2500\u2500\u2500\u2500\u2500\u2500\u2500\u2500\u2500\u2500\u2500\u2500\u2500\u2500\u2500\u2500\u2500\u2500\u2500\u2500\u2500\u2500\u2500\u2500\u2500\u2500\u2500\u2500\u2500\u2500\u2500\u2500\u2500\u2500\u2500\u2500\u2500\u2500\u2500\u2500\u2500\u2500\u2500\u2500\u2500\u2500\u2500\u2500\u2500\u2500\n",
        "                          2    2              2                         \n",
        "                         \u03c0 \u22c5D_s \u22c5\\lambda_{min}                          "
       ]
      }
     ],
     "prompt_number": 22
    },
    {
     "cell_type": "heading",
     "level": 1,
     "metadata": {},
     "source": [
      "9 Modelling of Common Algorithms (Salvini)"
     ]
    },
    {
     "cell_type": "markdown",
     "metadata": {},
     "source": [
      "Summary of and reference to FFT memo by Salvini."
     ]
    },
    {
     "cell_type": "heading",
     "level": 2,
     "metadata": {},
     "source": [
      "9.1 FFTs"
     ]
    },
    {
     "cell_type": "markdown",
     "metadata": {},
     "source": [
      "The number of floating point operations for all two-dimensional FFTs is assumed to be [RD5]:\n",
      "$$F_{FFT}(N) = 5 N \\log_2 N$$\n",
      "where N is the total number of pixels in the grid to be transformed (i.e., the square of the linear dimension of the grid)."
     ]
    },
    {
     "cell_type": "code",
     "collapsed": false,
     "input": [
      "Ops, N, F_FFT = symbols(\"\\mathrm{Ops}, N, F_{FFT}\", positive=True)\n",
      "F_FFT = 5*Ops*N*log(N,2)\n",
      "F_FFT"
     ],
     "language": "python",
     "metadata": {},
     "outputs": [
      {
       "latex": [
        "$$\\frac{5 N \\mathrm{Ops} \\log{\\left (N \\right )}}{\\log{\\left (2 \\right )}}$$"
       ],
       "metadata": {},
       "output_type": "pyout",
       "png": "[encoded data removed]",
       "prompt_number": 6,
       "text": [
        "5\u22c5N\u22c5\\mathrm{Ops}\u22c5log(N)\n",
        "\u2500\u2500\u2500\u2500\u2500\u2500\u2500\u2500\u2500\u2500\u2500\u2500\u2500\u2500\u2500\u2500\u2500\u2500\u2500\u2500\u2500\u2500\u2500\n",
        "         log(2)        "
       ]
      }
     ],
     "prompt_number": 6
    },
    {
     "cell_type": "heading",
     "level": 4,
     "metadata": {},
     "source": [
      "9.1.1.1 FFTs"
     ]
    },
    {
     "cell_type": "markdown",
     "metadata": {},
     "source": [
      "Large FFTs 1D FFTs on modern NVidia Kepler K40 GPUs achieve [RD23] 160 GigaFLOPS useful in double precision. Measurements of 2D FFT performance [RD 22] are about the same, potentially with slightly higher result (200 GigaFLOPS) for optimal transform sizes. Memory bandwidth of K40 GPUs is 288 GigaBytes/s [RD 24]. If we assume large FFTs are limited by memory bandwidth and using the more conservative estimate of 160 GigaFLOPS gives computational intensity of 1.8 Bytes per FLOP for large FFTs. This value is consistent with direct measurements by the authors done by using CPU performance counters to estimate memory access for FFTs running on Xeon processors. "
     ]
    },
    {
     "cell_type": "heading",
     "level": 2,
     "metadata": {},
     "source": [
      "9.2\tRe-projection (Scaife)"
     ]
    },
    {
     "cell_type": "raw",
     "metadata": {},
     "source": [
      "In uv-space and in image space."
     ]
    },
    {
     "cell_type": "markdown",
     "metadata": {},
     "source": [
      "The w-snapshot technique involves splitting the dataset in time, making multiple images each with different tangent points and hence different coordinate systems and then recombining these images. Re-projection is the process of bringing these images back to a common coordinate system so that they can be combined together.\n",
      "\n",
      "The number of floating point operations is assumed to be directly to the total number of pixels in the grid. As a rough-estimate a pre-factor of 50 is assumed (e.g., allowing 30 to compute the weights and 20 to compute weighted sum of a 3 by 3 pixel region), giving an expression:\n",
      "$$F_{RP}(N) = 50 N$$\n",
      "where $N$ is again the total number of pixels in the grid (i.e., the square of the linear dimension of the grid). Pixel weights should be re-usable for each of the polarization products, allowing a useful efficiency saving."
     ]
    },
    {
     "cell_type": "code",
     "collapsed": false,
     "input": [
      "F_RP = 50*Ops*N\n",
      "F_RP"
     ],
     "language": "python",
     "metadata": {},
     "outputs": [
      {
       "latex": [
        "$$50 N \\mathrm{Ops}$$"
       ],
       "metadata": {},
       "output_type": "pyout",
       "png": "[encoded data removed]",
       "prompt_number": 7,
       "text": [
        "50\u22c5N\u22c5\\mathrm{Ops}"
       ]
      }
     ],
     "prompt_number": 7
    },
    {
     "cell_type": "heading",
     "level": 1,
     "metadata": {},
     "source": [
      "10\tModelling of Ingest (Boonstra)"
     ]
    },
    {
     "cell_type": "raw",
     "metadata": {},
     "source": [
      "From M4, memo 5."
     ]
    },
    {
     "cell_type": "markdown",
     "metadata": {},
     "source": [
      "If flagging is done in a way similar to how it is done in current telescopes, it is not expected to be a significant computational load. For example, LOFAR, having a relatively worse RFI environment needs about 300 FLOP/visibility for flagging (Offringa A. R., 2010). This is much less than the expected work load for gridding.\n",
      "One note of caution is RFI at around L band from satellites, which is a growing problem. If it was found necessary to implement \u201cspatial filtering\u201d to remove these signals then the computational load of RFI rejection would be drastically increased.\n",
      "Other steps of the INP are not expected to be computationally significant.\n"
     ]
    },
    {
     "cell_type": "heading",
     "level": 3,
     "metadata": {},
     "source": [
      "10.1.1 Overview"
     ]
    },
    {
     "cell_type": "markdown",
     "metadata": {},
     "source": [
      "Ingest in -> handle missing and out of order packets -> receive, retrieve and merge metadata from TM -> partial gather and transpose -> RFI flagging and excision -> strong source removal -> integrate in time and frequency"
     ]
    },
    {
     "cell_type": "code",
     "collapsed": false,
     "input": [
      "%load_ext diagmagic"
     ],
     "language": "python",
     "metadata": {},
     "outputs": [],
     "prompt_number": 1
    },
    {
     "cell_type": "code",
     "collapsed": false,
     "input": [
      "%%blockdiag \n",
      "{\n",
      "   \"ingest in\" -> \"receive and buffer\\n (~ 0.5 s)\" ->\n",
      "   \"receive, retrieve and merge metadata from TM\" ->\n",
      "   \"RFI flagging\\n and excision\" -> \"strong source\\n removal\" -> \n",
      "   \"integrate in time and frequency\" -> \"ingest out\"\n",
      "}"
     ],
     "language": "python",
     "metadata": {},
     "outputs": [
      {
       "metadata": {},
       "output_type": "display_data",
       "png": "[encoded data removed]"
      }
     ],
     "prompt_number": 11
    },
    {
     "cell_type": "heading",
     "level": 3,
     "metadata": {},
     "source": [
      "10.1.2\tMerging of meta-data"
     ]
    },
    {
     "cell_type": "heading",
     "level": 4,
     "metadata": {},
     "source": [
      "10.1.2.1\tComputation of u,v,w coordinates"
     ]
    },
    {
     "cell_type": "heading",
     "level": 4,
     "metadata": {},
     "source": [
      "10.1.2.2 Computation of weights"
     ]
    },
    {
     "cell_type": "heading",
     "level": 3,
     "metadata": {},
     "source": [
      "10.1.3 Flagging"
     ]
    },
    {
     "cell_type": "raw",
     "metadata": {},
     "source": [
      "Include MWA analysis, include I/O (access patterns)"
     ]
    },
    {
     "cell_type": "raw",
     "metadata": {},
     "source": [
      "Do we have information @ 1.4 GHz (VLA? WSRT?)"
     ]
    },
    {
     "cell_type": "markdown",
     "metadata": {},
     "source": [
      "The AO flagger (Offringa A. R., 2010) applied to LOFAR mentions $N_{fps} \\approx 279~ \\rm FLOPS/sample$ (floating operations per sample), and an estimated total processing load of  $N_{ops} = 0.1~ \\rm TFLOPS$. This $N_{ops}$ is computed using $N_{ops}=N_{pol} N_f N_{vis} N_{beams} F_s$, with $N_{pol}$ the number of visibility polarizations ($XX^*$, $YY^*$, $XY^*$, $YX^*$); $N_{vis}=\\frac{1}{2} N_{rt}(N_{rt}+1)$ is the number of visibilities including autocorrelations, and $N_{rt}$ is the number of telescopes; $N_f$ is the number of frequency bins; $F_s$ is the correlator output rate in samples per second, and $N_{beams}$ is the number of beams. This leads to\n",
      "$$N_{ops} \\approx 0.5N_{pol}  N_f N_{rt} (N_{rt}+1) F_s N_fps N_{beams}$$\n",
      "For LOFAR, assuming $N_{rt}=38$, $N_f=256 \\times 248$, $N_{pol}=4$, $F_s=1$, $N_{beams}=1$ leads to $N_{ops}=39~\\rm GFLOPS$. The LOFAR paper (Offringa A. R., 2010) (Offringa A. R., 2012) mentions $0.1~ \\rm TFLOPS$, but this assumes $N_{rt}=50$. Naively scaling this to SKA1 (disregarding data access) would yield the following (assuming the SKA1 numbers given in the SKA L1 requirements):\n",
      "* $N_f=256000$, for all three SKA concepts \n",
      "* $N_{rt}=1024,254,96$ for respectively SKA1 Low, Mid, and Survey\n",
      "* $N_{beams}  = 1,1,36$ for respectively SKA1 Low, Mid, and Survey\n",
      "* $T_s  = 0.6 \\ldots 6,0.08 \\ldots 0.8,0.3 \\ldots 3 s$ for respectively SKA1 Low, Mid, and Survey\n",
      "\n",
      "Using $N_{fps}  = 279$, $N_{pol}=4$, this would lead to:\n",
      "* SKA1-Low:\t$N_{\\rm FLOPS} \\approx 25 - 250$ TFLOPS\n",
      "* SKA1-Mid: $N_{\\rm FLOPS} \\approx 12 - 116$ TFLOPS\n",
      "* SKA1-Sur: $N_{\\rm FLOPS} \\approx 16 - 160$ TFLOPS"
     ]
    },
    {
     "cell_type": "heading",
     "level": 3,
     "metadata": {},
     "source": [
      "10.1.4\tSpatial filtering (null-steering)"
     ]
    },
    {
     "cell_type": "raw",
     "metadata": {},
     "source": [
      "This does not seem to be part of the pipeline of Section 10.1. Is this an alternative?"
     ]
    },
    {
     "cell_type": "markdown",
     "metadata": {},
     "source": [
      "Null steering makes use of the side lobes and nulls in the reception pattern of phased arrays. By adjusting the beam-former weights, these nulls can be positioned in the direction of known RFI sources (both fixed and mobile).  However, fast variations in the side lobe gains can confound the calibration algorithm. Therefore, these variations need to be known and often only fixed or slowly varying nulls are allowed (ITU, 2007). In terms of (u,v) data, a spatial filter can be applied by pre- and post- multiplying the correlation matrix by a spatial filtering matrix (e.g. a projection matrix). \n",
      "\n",
      "The null-forming algorithms applied in radio astronomy fall in the class of techniques called \u201csubspace projections\u201d.  These methods identify RFI in terms of correlations between the array elements. This information can then be used to determine the spatial filter coefficients which result in a pattern that rejects the interference. The algorithms aim at preserving the characteristics of the main lobe. \n",
      "\n",
      "Null-steering is an effective way of mitigating RFI from fixed transmitters but also from satellites. A crucial factor for moving transmitters is the update rate of the direction estimate and the spatial filter derived from it.  Propagation effects (scattering, multipath) may reduce the effectiveness of spatial filtering due e.g., to the fact that the apparent direction of incidence spreads out over a significant angular range. The effectiveness of null-forming techniques degrades in the presence of angle spread and with decreasing INR.\n",
      "\n",
      "The filtering process consists of the following steps (Boonstra A.-J. , 2005):\n",
      "1.\tForm short-term (1 to 100 ms) covariance estimates.\n",
      "2.\t If the spatial signature of the interferer is unknown, estimate it by doing an eigen-analysis of the covariance matrix.\n",
      "3.\tForm the projection matrix using the estimates on the interferer spatial signature vectors and interferer power.\n",
      "4.\tFilter the covariance matrix by applying the projection matrix. (Note that during this step the astronomical data will be modified as well. A correction has to be applied later.)\n",
      "5.\tNext, the modified short-term covariance matrices are averaged to yield the long-term (10 s) estimate.\n",
      "6.\tIn order to recover the unbiased estimate of the covariance matrix, a correction needs to be applied to the long-term estimate. This implies a multiplication by the inverse of the correction matrix (constructed from the long-term average of the Kronecker products of the transposed and unchanged filter matrices)."
     ]
    },
    {
     "cell_type": "heading",
     "level": 3,
     "metadata": {},
     "source": [
      "10.1.4.1\tEstimate of computational cost"
     ]
    },
    {
     "cell_type": "markdown",
     "metadata": {},
     "source": [
      "The most computationally expensive parts of the algorithm are the projection (step no. 4, see above) and the post-filtering correction (step no. 6, above).\n",
      "\n",
      "The projection step scales with the third power of the number of antennas.\n",
      "\n",
      "The correction step involves a matrix inversion and scales with the fourth power of the number of antennas.\n",
      "The computational costs can be greatly reduced if the properties of the interferer are known a priori. In this case the scaling is linear with the number of antennas. If only the direction of the interferer is known then the scaling is quadratic with the number of antennas.\n",
      "\n",
      "An alternative to spatial filtering is the application of de-mixing to the RFI sources (see below). In this case the interferer is considered to be an astronomical source, which is removed from the (u,v) snapshot just as ordinary sky sources would be treated.\n",
      "There exist various alternatives (of similar complexity) to the spatial filtering algorithm mentioned above.\n",
      "\n",
      "** Estimate **\n",
      "\n",
      "Let $N_{rt}$ be the number of telescopes, let $N_{beams}$ be the number of beams, let $N_f$ be the number of frequency channels, and let $T_s$ be the correlator dump-time. Then the number of covariance matrices R per dump time is $N_f$; the matrix $R$ is a $N_{rt} \\times N_{rt}$ matrix. Suppose that 10% of the frequency band needs a spatial filter, denote this fraction by $\\eta$. Naively scaling this to SKA1 (disregarding data access) would yield the following, assuming the SKA1 numbers given in the SKA L1 requirements:\n",
      "* $N_f=256000$, for all three SKA concepts \n",
      "* $N_{rt}=1024,254,96$ for respectively SKA1 Low, Mid, and Survey\n",
      "* $N_{beams}  = 1,1,36$ for respectively SKA1 Low, Mid, and Survey\n",
      "* $T_s  = 0.6 \\ldots 6,~0.08 \\ldots 0.8,~0.3 \\ldots 3~s$ for respectively SKA1 Low, Mid, and Survey\n",
      "\n",
      "*Applying a spatial filter*\n",
      "\n",
      "A spatial filter operation can be implemented by multiplying the covariance R matrix with a spatial filter matrix (projection matrix) $W_{filt}$ of size $N_{rt}\\times N_{rt}$:  $R_{filt}= W_{filt}  R W_{filt}$. This would require for each matrix multiplication $\\approx N_{rt}^3$ operations per multiplication. The total compute load would then be:\n",
      "$$N_{\\rm FLOPS} \\approx N_{beams}  \\eta N_{pol} N_f N_{rt}^3  T_s^{-1}$$\n",
      "This would yield for:\n",
      "* SKA1-Low:  $N_{\\rm FLOPS}\\approx 18 - 183 \\rm~TFLOPS$\n",
      "* SKA1-Mid: $N_{\\rm FLOPS}\\approx 2 - 21 \\rm~TFLOPS$\n",
      "* SKA1-Sur: $N_{\\rm FLOPS}\\approx 1 - 11 \\rm~TFLOPS$\n",
      "\n",
      "The ranges stem from the correlator dump time ranges. \n"
     ]
    },
    {
     "cell_type": "heading",
     "level": 4,
     "metadata": {},
     "source": [
      "10.1.4.2\tEstimating the spatial structure of an interferer"
     ]
    },
    {
     "cell_type": "markdown",
     "metadata": {},
     "source": [
      "The subspace of an interferer can be estimated \"fully\", requiring order $N_{rt}^3$ operations. Estimating the dominant subspace in case of strong RI would scale with N_rt^2.  In the first case the required flops would be similar to applying the filter itself. In the second case it would be a factor Nrt cheaper.\n",
      "\n",
      "*Correction matrix*\n",
      "\n",
      "The correction matrix $C$ mentioned in (Boonstra A.-J. v.-J., 2002) and (Boonstra A.-J. , 2005) is expensive as it scales with $(N_{rt}^2)^3$ (inverse of a Kronecker product of the matrix $R$). This correction matrix need only be applied at timescales of the order of minutes. There also exist alternatives which require less compute power, but which effectiveness needs to be confirmed. One such alternative is applying an oblique projector (Hellbourg, 2012) instead of an \"ordinary\" projection matrix. This oblique projector reduces unwanted distortions of the side lobe pattern caused by the filter.\n"
     ]
    },
    {
     "cell_type": "heading",
     "level": 3,
     "metadata": {},
     "source": [
      "10.1.5\tRemoval of very bright sources"
     ]
    },
    {
     "cell_type": "markdown",
     "metadata": {},
     "source": [
      "There exist several methods to suppress the contribution of off-axis sources (bright sources in the far side lobes) during either pre-processing or calibration. Such techniques are usually used to subtract the so-called A-team sources but they can also be applied for RFI mitigation. Below, we describe one such technique, called de-mixing."
     ]
    },
    {
     "cell_type": "heading",
     "level": 4,
     "metadata": {},
     "source": [
      "10.1.5.1\tDe-mixing basic assumptions"
     ]
    },
    {
     "cell_type": "markdown",
     "metadata": {},
     "source": [
      "* The data will be averaged to a resolution for which the time and frequency smearing for the sources in the FOV can be considered small.\n",
      "* The number of interfering sources is small. That is, small compared to the number of samples that will be summed up during the averaging step. **[Check explicitly!]**\n",
      "* Direction-dependent calibration at the original resolution is prohibitively expensive.\n",
      "* The time-frequency smearing suppresses the signal from the interfering sources to some extent, but does not completely remove it.\n",
      "* Calibrating the gains in the direction of the interfering sources on the averaged data is sub-optimal, because part of the signal is already lost due to time-frequency smearing.\n"
     ]
    },
    {
     "cell_type": "heading",
     "level": 4,
     "metadata": {},
     "source": [
      "10.1.5.2\tDe-mixing procedure"
     ]
    },
    {
     "cell_type": "markdown",
     "metadata": {},
     "source": [
      "The de-mixing algorithm consists of the following steps:\n",
      "1. Create multiple compressed data sets, phase shifted and averaged for the different directions of interest, i.e. the FOV plus a number $N_A$ of interfering directions (typically the three or four strongest \u201cA-team\u201d source directions). Time and frequency averaging is done over respectively $N_{f,av}$  and  $N_{t,av}$  bins.\n",
      "2. Compute a mixing matrix per baseline, which describes how much of the signal from each of the A-team source directions ends up in each of the averaged data sets.\n",
      "3. Multiply the averages with the inverse of the mixing matrix to obtain pure averages. This yields the correlations with the strong A-team source contributions subtracted. This procedure does not always work because the mixing matrix can be ill-conditioned. This situation occurs in particular for small domains, short baselines or if the separation between sources is small. There exists a solution for this, however it would require too much detail to include the description here.\n",
      "\n",
      "Given the issues mentioned above, it can be beneficial to incorporate de-mixing in the calibration (this is the approach used in LOFAR (van der Tol, 2007)). Since de-mixing works per baseline but calibration uses all baselines simultaneously, the latter is more robust  with respect to baseline-related problems. Here, the idea is to calibrate for all directions simultaneously on the joined set of compressed data sets. The following steps are taken:\n",
      "1. Predict the visibilities for each direction at the resolution of the averaged data.\n",
      "2. Multiply with the mixing matrix.\n",
      "3. Minimize the squared error, where the squared errors are summed over the averaged data sets.  \n"
     ]
    },
    {
     "cell_type": "heading",
     "level": 4,
     "metadata": {},
     "source": [
      "10.1.5.3\tDe-mixing computational cost"
     ]
    },
    {
     "cell_type": "heading",
     "level": 5,
     "metadata": {},
     "source": [
      "10.1.5.3.1\tDe-mixing in the ingest step"
     ]
    },
    {
     "cell_type": "markdown",
     "metadata": {},
     "source": [
      "The various steps in the de-mixing algorithm scale as follows. Please note that the compute cost of one operation is assumed to be one flop.\n",
      "\n",
      "Let $N_{bl} =  \\frac{1}{2} N_{rt} (N_{rt}-1)$ be the number of baselines.\n",
      "\t\n",
      "1. For each baseline create the $(N_{f,av} \\times N_{t,av},~N_A+1)$ re-phasing matrix $A$. Throughout the frequency band there are $N_f/N_{f,av}$ of such matrices needed. Creating these matrices requires in total for all baselines\n",
      " $$\\approx N_f N_{t,av} (N_A+1)N_{bl} {\\rm~FLOPS}$$ .\n",
      "2. Compute, for each baseline, the $(N_A+1,~N_A+1)$ mixing matrix M, including phase shifting and averaging: $M=  \\frac{1}{N_{f,av} N_{t,av}}  A^H A$. This requires in total for all baselines\n",
      "$$N_{flops}\\approx N_{f,av} N_{t,av}  {\\frac{1}{2} (N_A+1)(N_A )} N_{bl}$$\n",
      "This needs to be repeated $N_f/N_{f,av}$ times in order to cover the entire band, or:\n",
      "$$N_{flops}\\approx N_f N_{t,av}  {\\frac{1}{2} (N_A+1)(N_A )} N_{bl}$$\n",
      "3. Compute $M^{-1}$, this requires for all baselines, and for all frequency chunks $N_f/N_{f,av}$ :\n",
      "$$N_{flops}\\approx  N_f/N_{f,av} (N_A+1)^3 N_{bl}$$\n",
      "4. Correct the observed visibilities $\\nu$ (\"de-mixing\"), leading to $\\nu_{corr}= M^{-1} \\nu_{obs}$ requiring for all baselines and all frequency chunks (only one row of $M^{-1}$ is needed here)\n",
      "$$N_{flops}\\approx  N_f/N_{f,av} (N_A+1)N_{bl}$$\n",
      "\n",
      "Obviously, the dominating term is the second one. For the total number of operations this term needs to be multiplied with $N_{beams}$:\n",
      "$$N_{flops}\\approx N_f N_{t,av}  {\\frac{1}{2} (N_A+1)(N_A )} N_{bl} N_{beams}$$\n",
      "\n",
      "For LOFAR de-mixing, applied in the calibration pipeline, typical values are $N_{t,av}$ = 10 (1s to 10 s), and $N_{f,av}$ = 50 to 200 (1 kHz to 50 or 200 kHz).  Simulations show that for LOFAR 400 Gflops are needed per 5 seconds per sub-band of 200 kHz. For 50 MHz this would be (248 sub-bands)  99 Tflop for 5 seconds. Using StefCal this estimate is expected to reduce with a factor 10: roughly 2 TFLOPS. Please note that these numbers were derived by assuming 0.7 to 25 flops per operation (depending on the operation type).\n",
      "\n",
      "For SKA1 this would mean the following. Assumptions are:\n",
      "* $N_A=4$, the number of A-teams sources to subtract\n",
      "* $N_f=256000$, for all three SKA concepts \n",
      "* $N_{t,av}=10,~N_{f,av}=50$; these numbers need to be verified for SKA1 (depends on the maximum allowable integration in time and frequency).\n",
      "* $N_{rt}=1024,~254,~96$ for respectively SKA1 Low, Mid, and Survey\n",
      "* $N_{beams}  = 1,~1,~36$ for respectively SKA1 Low, Mid, and Survey\n",
      "* $T_s  = 0.6 \\ldots 6,~ 0.08 \\ldots 0.8,~ 0.3 \\ldots 3~ s$ for respectively SKA1 Low, Mid, and Survey, however for the de-mixing estimate it is assumed that  $T_s=1 s$ and that no further time averaging takes place.\n",
      "\n",
      "This would yield (assuming 1 flop per operation, regardless of the type of operation) for:\n",
      "* SKA1-Low:  $N_{flops}\\approx 2.0~\\rm TFLOPS$\n",
      "* SKA1-Mid: $N_{flops}\\approx 0.12~\\rm TFLOPS$\n",
      "* SKA1-Sur: $N_{flops}\\approx 0.63~\\rm TFLOPS$\n",
      "\n",
      "Scaling the simulated LOFAR calibration-de-mixing numbers to SKA1 exceed the de-mixing estimates in the ingest step by far. \n",
      "\n",
      "*De-mixing in the calibration step* \n",
      "\n",
      "This can be assessed when more detail is known about the calibration pipeline.\n"
     ]
    },
    {
     "cell_type": "heading",
     "level": 3,
     "metadata": {},
     "source": [
      "10.1.6\tBaseline-dependent averaging"
     ]
    },
    {
     "cell_type": "markdown",
     "metadata": {},
     "source": [
      "*Option*\n",
      "\n",
      "The ingest rate can be reduced by applying baseline-dependent averaging. The criterion for this is that the de-correlation due to integration in time and frequency is a (small) fraction of the L1 2% de-correlation requirement. The baseline-dependent averaging process, if conducted in SDP, is computationally not very intensive.\n"
     ]
    },
    {
     "cell_type": "heading",
     "level": 1,
     "metadata": {},
     "source": [
      "11\tModelling of Calibration (Nijboer)"
     ]
    },
    {
     "cell_type": "raw",
     "metadata": {},
     "source": [
      "From M4, memo 5"
     ]
    },
    {
     "cell_type": "markdown",
     "metadata": {},
     "source": [
      "The compute cost is of calibration is generally lower than that for the imaging steps and scales in similar way. The challenge of SKA calibration however means that there is some uncertainty in what the calibration costs will be (including the DFT predict step). \n"
     ]
    },
    {
     "cell_type": "heading",
     "level": 2,
     "metadata": {},
     "source": [
      "11.1\tDFT visibility predict and subtract "
     ]
    },
    {
     "cell_type": "markdown",
     "metadata": {},
     "source": [
      "From M4, memo 5\n",
      "\n",
      "In order to reach the thermal noise in the final image the other noise contributing effects have to be removed from the data. One of these contributions is the PSF sidelobe confusion noise [Wijnholds, 2014]. This noise contribution can be removed by deconvolving the foreground sources, so that we end up with a residual image that may be thermal noise limited. \n",
      "\n",
      "The number of sources that need to be deconvolved can potentially be large in deep observations such as needed for the EoR and Cosmic Dawn Science Cases. To understand the problem,  consider the following simplified sky model. If we have a log-N-log-S distribution with power 1 and there are (in some area of the sky) 1000 1-Jy sources, there will be\n",
      "\n",
      "- 10,000 0.1-Jy sources producing an RMS flux of $\\sqrt{10^4} * 0.1~{\\rm Jy} = 10~{\\rm Jy}$\n",
      "- 10e5 0.01-Jy sources producing an RMS flux of 3 Jy\n",
      "- 10e6 1-mJy  sources producing an RMS flux of 1 Jy\n",
      "- 10e7 0.1-mJy sources producing an RMS flux of 0.3 Jy\n",
      "- 10e8 10-uJy sources producing an RMS flux of 0.1 Jy\n",
      "\n",
      "Suppose that my psf has -40 dB sidelobe suppression and I try to image one of the 10e8 10-uJy sources. The psf sidelobes than have to suppress the RMS contribution of all other 10e8 (minus 1) 10-uJy sources. However, 0.1-Jy * 1e-4 (40 dB suppression) = 10-uJy, i.e. the same level as the source we are trying to image! If we want to make this a succes, we simply cannot effort to try this without first subtracting the 10e7 0.1-mJy sources.\n",
      "\n",
      "Of course, this is a much simplified argument. In reality, we are a bit more tolerant, for example since the main problem will be the near sidelobes of the psf, which do not cover the full field of view and therefore contain a much lower number of sources, thus having a lower RMS flux. However, the number of 10^8 sources per field-of-view is realistic. In deep continuum observations, the SKA will be able to detect virtually any galaxy in the universe, whose total number is estimated to be 10e11. Since a single FoV covers about 1/1000 of the sky, it will contain about 10^8 sources. This is about two orders of magnitude more than LOFAR if you follow currently available source statistics.\n",
      "\n",
      "Jaap Bregman and Stefan Wijnholds have done a more detailed analysis (using actual source statistics, attenuation by the primary beam, etc.) than the one sketched above. This analysis confirms the number of sources Sarod Yatawatta has to subtract for processing of the LOFAR EoR NCP field [Yatawatta, 2013]. Bregman and Wijnholds concluded that the SKA will have to subtract order 1e5 sources in deep observations [Wijnholds, private communication].\n",
      "\n",
      "Deconvolution of sources can be done in the Image domain or the Visibility domain. Hogbom CLEAN operates completely in the Image domain. More accurate CLEAN algorithms like Clark CLEAN or Cotton-Schwab CLEAN also deconvolve in the Visibility domain in the Major Cycle by means of a FFT / de-gridding step.  This, however, may not be accurate enough due to DD effects (both instrumental / atmospheric as well as the PSF), frequency dependent PSF, and image pixilation inaccuracies (the latter limits the DR to 10^4 [Yatawatta 2010, Cotton & Uson 2008]). For high accuracy, high DR images as needed for the EoR and Cosmic Dawn cases it may be necessary to deconvolve (i.e. subtract) the sources directly from the visibility data and combine this step with (direction dependent) calibration.\n",
      "\n",
      "The compute cost for deconvolution by using a Point Source DFT (i.e. source subtraction) is given by [Salvini 2014]:\n",
      "\n",
      "$$N_{flops} = 64 R^2 S+242 RS+128 R^2+6R$$\n",
      "\n",
      "per visibility, i.e. per time \u2013 frequency sample. Here R equals the number of stations / dishes, and S the number of sources. For R = 1000 and S = 10000 Nflops = 640 Gflops, which should be multiplied with the number of time slots and the number of frequency channels for a total flop count.\n"
     ]
    },
    {
     "cell_type": "heading",
     "level": 2,
     "metadata": {},
     "source": [
      "11.2\tSolvers"
     ]
    },
    {
     "cell_type": "markdown",
     "metadata": {},
     "source": [
      "Performance modelling of LM Solver, StefCal Solver, SAGECal approach.\n",
      "\n",
      "Local Solver / Distributed or Coupled Solver. Draft paper by Sarod. Impact on communication between Compute Islands."
     ]
    },
    {
     "cell_type": "heading",
     "level": 1,
     "metadata": {},
     "source": [
      "12\tModeling of Imaging (Scaife)"
     ]
    },
    {
     "cell_type": "raw",
     "metadata": {},
     "source": [
      "*Text from M4, memo 5 not included yet. Check whether this needs to be done*\n",
      "\n",
      "New structure:\n",
      "w-projection:\n",
      "** gridding / de-gridding\n",
      "** comp of conv kernels\n",
      "** FFT\n",
      "+\n",
      "** Minor Cycle\n",
      " \n",
      "w-snapshots: + reprojection cost (size of conv kernels change)\n",
      " \n",
      "mention A (AW)-Projection, I-Projection\n",
      " \n",
      "facetting: + facetting overhead (size of conv kernels change + data compression per facet)\n",
      " \n",
      "MS-MFS: part of minor cycle?\n",
      " \n",
      "Compressed Sensing as alternative in major cycle?\n",
      "\n",
      "Fast Imaging\n",
      "\n",
      "Address modeling of I/O, data access, communication (especially between Compute Islands)\n"
     ]
    },
    {
     "cell_type": "markdown",
     "metadata": {},
     "source": [
      "We assume imaging (see [RD18] for overview) is done using the AW-projection algorithm [RD02] together with the w-snapshots technique for controlling the size of the $w$ convolution kernels [RD03]. Work is ongoing to analyse alternative algorithms but we do not believe this would fundamentally alter the numbers presented here."
     ]
    },
    {
     "cell_type": "heading",
     "level": 2,
     "metadata": {},
     "source": [
      "12.1 Geometry assumption"
     ]
    },
    {
     "cell_type": "markdown",
     "metadata": {},
     "source": [
      "For the parametric modelling we assume the worst case scenario in which W is changing as fast as possible, i.e., the angular velocity of Earth ($\\Omega_E=7.27 \\times 10^{-5} \\mathrm{rad/s}$) times one half of the maximum baseline length.\n",
      "\n",
      "It is assumed that the curvature of the Earth dominates the array non-coplanarity according to:\n",
      "\n",
      "$$W_{curve}=\\frac{B_{max}^2}{8 R_{Earth} \\lambda}$$\n",
      "\n",
      "where $R_{Earth}= 6400 \\times 10^3 m$ is the radius of the Earth. This is for a plane with $w=0$ at the centre of array; smaller deviation are appropriate for a best-fitting plane but this depends on the distribution to the telescopes. This curvature limits the minimum useful w-snapshot time. We calculate this time to be the time that the change of w due to Earth\u2019s rotation is equal to the curvature of the earth giving:\n",
      "\n",
      "$$T_{snap,min} = \\frac{2 \\lambda W_{curve}}{B_{max} \\Omega_E}=\\frac{B_{max}}{4 \\Omega_E R_{Earth}}$$\n"
     ]
    },
    {
     "cell_type": "code",
     "collapsed": false,
     "input": [
      "W_curve = Bmax**2 / (8*R_Earth*wl)\n",
      "W_curve"
     ],
     "language": "python",
     "metadata": {},
     "outputs": [
      {
       "latex": [
        "$$\\frac{B_{max}^{2}}{8 R_{Earth} \\lambda}$$"
       ],
       "metadata": {},
       "output_type": "pyout",
       "png": "[encoded data removed]",
       "prompt_number": 4,
       "text": [
        "           2     \n",
        "      B_max      \n",
        "\u2500\u2500\u2500\u2500\u2500\u2500\u2500\u2500\u2500\u2500\u2500\u2500\u2500\u2500\u2500\u2500\u2500\n",
        "8\u22c5R_Earth\u22c5\\lambda"
       ]
      }
     ],
     "prompt_number": 4
    },
    {
     "cell_type": "code",
     "collapsed": false,
     "input": [
      "T_snap_min = 2*wl*W_curve/(Bmax*Omega_E)\n",
      "T_snap_min"
     ],
     "language": "python",
     "metadata": {},
     "outputs": [
      {
       "latex": [
        "$$\\frac{B_{max}}{4 \\Omega_{E} R_{Earth}}$$"
       ],
       "metadata": {},
       "output_type": "pyout",
       "png": "[encoded data removed]",
       "prompt_number": 5,
       "text": [
        "    B_max    \n",
        "\u2500\u2500\u2500\u2500\u2500\u2500\u2500\u2500\u2500\u2500\u2500\u2500\u2500\n",
        "4\u22c5\u03a9_E\u22c5R_Earth"
       ]
      }
     ],
     "prompt_number": 5
    },
    {
     "cell_type": "heading",
     "level": 2,
     "metadata": {},
     "source": [
      "12.2 Imaging algorithms"
     ]
    },
    {
     "cell_type": "markdown",
     "metadata": {},
     "source": [
      "A traditional major-cycle model for CLEAN and self-calibration is assumed with both the \u201cforward\u201d step (modelling observed visibilities from a trial sky) and the \u201cbackward\u201d step (estimating a sky brightness distribution from the observed visibilities) included in the performance model. \n",
      "\n",
      "The duration of the w-snapshot is optimised to maximize the overall processing throughput. Currently this optimisation is done by minimizing the FLOP count required for imaging.\n",
      "\n",
      "We assume that beams from the PAFs are imaged individually (as opposed to simultaneously as is currently the case in ASKAPSoft).\n",
      "\n",
      "It is assumed that the sizes of w and A kernels combine in quadrature. The more conservative assumption would be to assume that the sizes combine linearly, giving a maximum of \u221a2 increase in linear size and a factor of 2 increase in the FLOP requirement for gridding."
     ]
    },
    {
     "cell_type": "heading",
     "level": 2,
     "metadata": {},
     "source": [
      "12.3 FLOP count of basic operations"
     ]
    },
    {
     "cell_type": "markdown",
     "metadata": {},
     "source": [
      "The convention is that each floating point operation is one of the basic operations (addition or multiplication). Even when an obvious fused multiply & add is present it is counted as two operations. All floating point operations are assumed double-precision. Some efficiency savings may possible once an analysis of which steps are possible in single-precision is done."
     ]
    },
    {
     "cell_type": "heading",
     "level": 3,
     "metadata": {},
     "source": [
      "12.3.1 Gridding"
     ]
    },
    {
     "cell_type": "markdown",
     "metadata": {},
     "source": [
      "It is assumed that 8 floating point operations are required for update of each target grid point (i.e., per visibility and per pixel in the convolution kernel)."
     ]
    },
    {
     "cell_type": "heading",
     "level": 4,
     "metadata": {},
     "source": [
      "12.3.1.1\tGridding"
     ]
    },
    {
     "cell_type": "markdown",
     "metadata": {},
     "source": [
      "High performance for gridding on GPUs is demonstrated in [RD 21]. The tests were done with single precision on a range of GPUs. The peak performance achieved on AMD HD7970 GPU was 110 Giga Grid-Point Additions (single precision) per second, which corresponds to a useful 880 GigaFLOPS (single precision). This card has a theoretical peak of 3789 GigaFLOPS (single precision) and maximum bandwidth to on-board memory of 264 GigaBytes/second. \n",
      "\n",
      "The efficiency of useful operations to peak is therefore 23%. The ratio of useful FLOPS to memory bandwidth is about 13 Floating Operations per operand (4 bytes as this is single precision) to on-board memory. Assuming the computation is limited by access to main memory, for double precision this corresponds to computational intensity of about 0.6 Bytes per FLOP.\n"
     ]
    },
    {
     "cell_type": "heading",
     "level": 2,
     "metadata": {},
     "source": [
      "12.4 Size of convolution kernels"
     ]
    },
    {
     "cell_type": "markdown",
     "metadata": {},
     "source": [
      "The sizing of the w-projection kernels is given [RD6] by expression:"
     ]
    },
    {
     "cell_type": "markdown",
     "metadata": {},
     "source": [
      "$$|u| = \\sqrt{ \\left( \\frac{w \\, \\theta_{FoV}}{2} \\right)^2 + \\frac{w \\, \\theta_{FoV} / 2}{\\pi \\epsilon_w / \\sqrt{w} }}$$"
     ]
    },
    {
     "cell_type": "markdown",
     "metadata": {},
     "source": [
      "which shows the value of $u$ for which the envelope of the amplitude of the convolution function declines to $\\epsilon_w$ of the maximum value. This is taken to be radius of the convolution kernels. The linear size of the convolution functions in pixels is twice this radius divided by the size $uv$ plance cells (which is $1/\\theta_{FoV}$, giving an overall expression $N_{GW} (w)$ which is:"
     ]
    },
    {
     "cell_type": "markdown",
     "metadata": {},
     "source": [
      "$$N_{GW}(w) = 2 \\theta_{FoV} \\sqrt{ \\left(\\frac{w \\, \\theta_{FoV}}{2} \\right)^2 + \\frac{w^{3/2} \\, \\theta_{FoV}}{2 \\pi \\epsilon_w} }$$"
     ]
    },
    {
     "cell_type": "markdown",
     "metadata": {},
     "source": [
      "Here $\\theta_{FoV}$ is the field of view as previously and $\\epsilon_\ud835\udc64$ is the amplitude level of the $w$ function to which we want the\n",
      "kernel to extend to."
     ]
    },
    {
     "cell_type": "code",
     "collapsed": false,
     "input": [
      "w, epsilon_w = symbols(\"w \\epsilon_w\")\n",
      "NGW = 2*fov_angle*sqrt( (w * pix_angle/2)**2 + (w**(3/2) * fov_angle)/(2*pi*epsilon_w) )\n",
      "NGW"
     ],
     "language": "python",
     "metadata": {},
     "outputs": [
      {
       "latex": [
        "$$\\frac{15.2 Q_{FoV} \\lambda_{{sub,max}}}{\\pi D_{s}} \\sqrt{\\frac{3.8 Q_{FoV} \\lambda_{{sub,max}} w^{1.5}}{\\pi^{2} D_{s} \\epsilon_{w}} + \\frac{9 \\lambda_{{sub,min}}^{2} w^{2}}{64 B_{max}^{2} Q_{pix}^{2}}}$$"
       ],
       "metadata": {},
       "output_type": "pyout",
       "png": "[encoded data removed]",
       "prompt_number": 14,
       "text": [
        "                                   ___________________________________________\n",
        "                                  \u2571                              1.5          \n",
        "                                 \u2571  3.8\u22c5Q_FoV\u22c5\\lambda_{sub,max}\u22c5w      9\u22c5\\lamb\n",
        "15.2\u22c5Q_FoV\u22c5\\lambda_{sub,max}\u22c5   \u2571   \u2500\u2500\u2500\u2500\u2500\u2500\u2500\u2500\u2500\u2500\u2500\u2500\u2500\u2500\u2500\u2500\u2500\u2500\u2500\u2500\u2500\u2500\u2500\u2500\u2500\u2500\u2500\u2500\u2500\u2500\u2500\u2500 + \u2500\u2500\u2500\u2500\u2500\u2500\u2500\n",
        "                               \u2571            2                                 \n",
        "                             \u2572\u2571            \u03c0 \u22c5D_s\u22c5\\epsilon_w               64\u22c5\n",
        "\u2500\u2500\u2500\u2500\u2500\u2500\u2500\u2500\u2500\u2500\u2500\u2500\u2500\u2500\u2500\u2500\u2500\u2500\u2500\u2500\u2500\u2500\u2500\u2500\u2500\u2500\u2500\u2500\u2500\u2500\u2500\u2500\u2500\u2500\u2500\u2500\u2500\u2500\u2500\u2500\u2500\u2500\u2500\u2500\u2500\u2500\u2500\u2500\u2500\u2500\u2500\u2500\u2500\u2500\u2500\u2500\u2500\u2500\u2500\u2500\u2500\u2500\u2500\u2500\u2500\u2500\u2500\u2500\u2500\u2500\u2500\u2500\u2500\u2500\u2500\u2500\u2500\u2500\n",
        "                                             \u03c0\u22c5D_s                            \n",
        "\n",
        "_________________\n",
        "            2  2 \n",
        "da_{sub,min} \u22c5w  \n",
        "\u2500\u2500\u2500\u2500\u2500\u2500\u2500\u2500\u2500\u2500\u2500\u2500\u2500\u2500\u2500\u2500 \n",
        "     2      2    \n",
        "B_max \u22c5Q_pix     \n",
        "\u2500\u2500\u2500\u2500\u2500\u2500\u2500\u2500\u2500\u2500\u2500\u2500\u2500\u2500\u2500\u2500\u2500\n",
        "                 "
       ]
      }
     ],
     "prompt_number": 14
    },
    {
     "cell_type": "markdown",
     "metadata": {},
     "source": [
      "This use of the first order expansion in $\\epsilon_w$ of the support of the w convolution function is in contrast to previous work [RD04, RD07, RD09]. The impact of this change is to increase the size of the convolution function. "
     ]
    },
    {
     "cell_type": "markdown",
     "metadata": {},
     "source": [
      "It is conservatively assumed that same sized kernels are used for _all visibilities_, i.e., the kernel is not\n",
      "dependent on the actual $w$ value."
     ]
    },
    {
     "cell_type": "markdown",
     "metadata": {},
     "source": [
      "As described above we size the kernel for maximum $w$ deviation ($\\Delta \ud835\udc64_{max}$) given snapshot duration and\n",
      "maximum baseline length:"
     ]
    },
    {
     "cell_type": "markdown",
     "metadata": {},
     "source": [
      "$$\\Delta \ud835\udc64_{max} = \\frac{B_{max} \\Omega_E T_{snap} Q_w}{2 \\lambda_{min}}$$"
     ]
    },
    {
     "cell_type": "code",
     "collapsed": false,
     "input": [
      "wmax_delta, Qw = symbols(\"\\Delta{}w_{max} Q_w\")\n",
      "wmax_delta = Bmax*Omega_E*Tsnap*Qw/2/wl_sub_min\n",
      "wmax_delta"
     ],
     "language": "python",
     "metadata": {},
     "outputs": [
      {
       "latex": [
        "$$\\frac{B_{max} \\Omega_{E} Q_{w} T_{snap}}{2 \\lambda_{{sub,min}}}$$"
       ],
       "metadata": {},
       "output_type": "pyout",
       "png": "[encoded data removed]",
       "prompt_number": 26,
       "text": [
        "B_max\u22c5\u03a9_E\u22c5Q_w\u22c5T_snap\n",
        "\u2500\u2500\u2500\u2500\u2500\u2500\u2500\u2500\u2500\u2500\u2500\u2500\u2500\u2500\u2500\u2500\u2500\u2500\u2500\u2500\n",
        "2\u22c5\\lambda_{sub,min} "
       ]
      }
     ],
     "prompt_number": 26
    },
    {
     "cell_type": "markdown",
     "metadata": {},
     "source": [
      "Here factor of two in denominator accounts for fact that the distance from the centre of the array, which is approximately half the maximum baseline is the appropriate distance to use. Parameter $Q_w$ can take the range between 0 and 1 and allows for the possibility that w-correction is for less than maximal $w$ deviation, e.g., because high-w visibilities are to be discarded or imperfectly corrected, or to account for the fact that many visibilities will need kernels smaller than the kernel size set by $\\Delta{}w_{max}$ (e.g. [RD7] recommends range 0.1-0.3, see also [RD11] for discarding of high w visibilities)"
     ]
    },
    {
     "cell_type": "markdown",
     "metadata": {},
     "source": [
      "Assuming kernels combine in quadrature (Section 12.2) the total linear kernel size is:"
     ]
    },
    {
     "cell_type": "markdown",
     "metadata": {},
     "source": [
      "$$N_{kernel} = \\sqrt{N_{GW}^2 + N_{AA}^2}$$"
     ]
    },
    {
     "cell_type": "markdown",
     "metadata": {},
     "source": [
      "Here $N_{AA}$ is the size of the A convolution kernel and $N_{GW}$ is the size of the support of the w kernel evaluated at maximum $w$, i.e.,  $N_{GW}=N_{GW}(\\Delta{}w_{max})$."
     ]
    },
    {
     "cell_type": "code",
     "collapsed": false,
     "input": [
      "NAA = symbols(\"N_{AA}\", positive=True, integer=True)\n",
      "Nkernel = symbols(\"N_{kernel}\", positive=True)\n",
      "Nkernel = sqrt(NGW.subs({w: wmax_delta})**2 + NAA**2)\n",
      "Nkernel"
     ],
     "language": "python",
     "metadata": {},
     "outputs": [
      {
       "latex": [
        "$$\\sqrt{N_{{AA}}^{2} + \\frac{231.04 Q_{FoV}^{2} \\lambda_{{sub,max}}^{2}}{\\pi^{2} D_{s}^{2}} \\left(\\frac{3.8 B_{max}^{1.5} \\Omega_{E}^{1.5} Q_{FoV} Q_{w}^{1.5} T_{snap}^{1.5} \\lambda_{{sub,max}}}{2^{1.5} \\pi^{2} D_{s} \\epsilon_{w} \\lambda_{{sub,min}}^{1.5}} + \\frac{9 \\Omega_{E}^{2} Q_{w}^{2} T_{snap}^{2}}{256 Q_{pix}^{2}}\\right)}$$"
       ],
       "metadata": {},
       "output_type": "pyout",
       "png": "[encoded data removed]",
       "prompt_number": 27,
       "text": [
        "         _____________________________________________________________________\n",
        "        \u2571                                            \u239b     -1.5      1.5    1.\n",
        "       \u2571                        2                  2 \u239c3.8\u22c52    \u22c5B_max   \u22c5\u03a9_E  \n",
        "      \u2571             231.04\u22c5Q_FoV \u22c5\\lambda_{sub,max} \u22c5\u239c\u2500\u2500\u2500\u2500\u2500\u2500\u2500\u2500\u2500\u2500\u2500\u2500\u2500\u2500\u2500\u2500\u2500\u2500\u2500\u2500\u2500\u2500\u2500\u2500\n",
        "     \u2571                                               \u239c                        \n",
        "    \u2571           2                                    \u239d                        \n",
        "   \u2571      N_{AA}  + \u2500\u2500\u2500\u2500\u2500\u2500\u2500\u2500\u2500\u2500\u2500\u2500\u2500\u2500\u2500\u2500\u2500\u2500\u2500\u2500\u2500\u2500\u2500\u2500\u2500\u2500\u2500\u2500\u2500\u2500\u2500\u2500\u2500\u2500\u2500\u2500\u2500\u2500\u2500\u2500\u2500\u2500\u2500\u2500\u2500\u2500\u2500\u2500\u2500\u2500\u2500\u2500\u2500\u2500\u2500\u2500\u2500\u2500\n",
        "  \u2571                                                                           \n",
        "\u2572\u2571                                                                            \n",
        "\n",
        "______________________________________________________________________________\n",
        "5          1.5       1.5                                    -1.5        2    2\n",
        " \u22c5Q_FoV\u22c5Q_w   \u22c5T_snap   \u22c5\\lambda_{sub,max}\u22c5\\lambda_{sub,min}       9\u22c5\u03a9_E \u22c5Q_w \n",
        "\u2500\u2500\u2500\u2500\u2500\u2500\u2500\u2500\u2500\u2500\u2500\u2500\u2500\u2500\u2500\u2500\u2500\u2500\u2500\u2500\u2500\u2500\u2500\u2500\u2500\u2500\u2500\u2500\u2500\u2500\u2500\u2500\u2500\u2500\u2500\u2500\u2500\u2500\u2500\u2500\u2500\u2500\u2500\u2500\u2500\u2500\u2500\u2500\u2500\u2500\u2500\u2500\u2500\u2500\u2500\u2500\u2500\u2500\u2500\u2500\u2500\u2500\u2500\u2500 + \u2500\u2500\u2500\u2500\u2500\u2500\u2500\u2500\u2500\u2500\u2500\n",
        "            2                                                                 \n",
        "           \u03c0 \u22c5D_s\u22c5\\epsilon_w                                            256\u22c5Q_\n",
        "\u2500\u2500\u2500\u2500\u2500\u2500\u2500\u2500\u2500\u2500\u2500\u2500\u2500\u2500\u2500\u2500\u2500\u2500\u2500\u2500\u2500\u2500\u2500\u2500\u2500\u2500\u2500\u2500\u2500\u2500\u2500\u2500\u2500\u2500\u2500\u2500\u2500\u2500\u2500\u2500\u2500\u2500\u2500\u2500\u2500\u2500\u2500\u2500\u2500\u2500\u2500\u2500\u2500\u2500\u2500\u2500\u2500\u2500\u2500\u2500\u2500\u2500\u2500\u2500\u2500\u2500\u2500\u2500\u2500\u2500\u2500\u2500\u2500\u2500\u2500\u2500\u2500\u2500\n",
        "            2    2                                                            \n",
        "           \u03c0 \u22c5D_s                                                             \n",
        "\n",
        "__________\n",
        "       2\u239e \n",
        "\u22c5T_snap \u239f \n",
        "\u2500\u2500\u2500\u2500\u2500\u2500\u2500\u2500\u239f \n",
        "   2    \u239f \n",
        "pix     \u23a0 \n",
        "\u2500\u2500\u2500\u2500\u2500\u2500\u2500\u2500\u2500 \n",
        "          \n",
        "          "
       ]
      }
     ],
     "prompt_number": 27
    },
    {
     "cell_type": "code",
     "collapsed": false,
     "input": [
      "Nkernel_min = diff(Nkernel, Tsnap)\n",
      "Nkernel_min"
     ],
     "language": "python",
     "metadata": {},
     "outputs": [
      {
       "latex": [
        "$$\\frac{115.52 Q_{FoV}^{2} \\lambda_{{sub,max}}^{2} \\left(\\frac{5.7 B_{max}^{1.5} \\Omega_{E}^{1.5} Q_{FoV} Q_{w}^{1.5} T_{snap}^{0.5} \\lambda_{{sub,max}}}{2^{1.5} \\pi^{2} D_{s} \\epsilon_{w} \\lambda_{{sub,min}}^{1.5}} + \\frac{9 \\Omega_{E}^{2} Q_{w}^{2} T_{snap}}{128 Q_{pix}^{2}}\\right)}{\\pi^{2} D_{s}^{2} \\sqrt{N_{{AA}}^{2} + \\frac{231.04 Q_{FoV}^{2} \\lambda_{{sub,max}}^{2}}{\\pi^{2} D_{s}^{2}} \\left(\\frac{3.8 B_{max}^{1.5} \\Omega_{E}^{1.5} Q_{FoV} Q_{w}^{1.5} T_{snap}^{1.5} \\lambda_{{sub,max}}}{2^{1.5} \\pi^{2} D_{s} \\epsilon_{w} \\lambda_{{sub,min}}^{1.5}} + \\frac{9 \\Omega_{E}^{2} Q_{w}^{2} T_{snap}^{2}}{256 Q_{pix}^{2}}\\right)}}$$"
       ],
       "metadata": {},
       "output_type": "pyout",
       "png": "[encoded data removed]",
       "prompt_number": 29,
       "text": [
        "                                                \u239b     -1.5      1.5    1.5    \n",
        "                           2                  2 \u239c5.7\u22c52    \u22c5B_max   \u22c5\u03a9_E   \u22c5Q_F\n",
        "               115.52\u22c5Q_FoV \u22c5\\lambda_{sub,max} \u22c5\u239c\u2500\u2500\u2500\u2500\u2500\u2500\u2500\u2500\u2500\u2500\u2500\u2500\u2500\u2500\u2500\u2500\u2500\u2500\u2500\u2500\u2500\u2500\u2500\u2500\u2500\u2500\u2500\u2500\u2500\n",
        "                                                \u239c                             \n",
        "                                                \u239d                             \n",
        "\u2500\u2500\u2500\u2500\u2500\u2500\u2500\u2500\u2500\u2500\u2500\u2500\u2500\u2500\u2500\u2500\u2500\u2500\u2500\u2500\u2500\u2500\u2500\u2500\u2500\u2500\u2500\u2500\u2500\u2500\u2500\u2500\u2500\u2500\u2500\u2500\u2500\u2500\u2500\u2500\u2500\u2500\u2500\u2500\u2500\u2500\u2500\u2500\u2500\u2500\u2500\u2500\u2500\u2500\u2500\u2500\u2500\u2500\u2500\u2500\u2500\u2500\u2500\u2500\u2500\u2500\u2500\u2500\u2500\u2500\u2500\u2500\u2500\u2500\u2500\u2500\u2500\u2500\n",
        "                 _____________________________________________________________\n",
        "                \u2571                                            \u239b     -1.5      1\n",
        "               \u2571                        2                  2 \u239c3.8\u22c52    \u22c5B_max \n",
        "              \u2571             231.04\u22c5Q_FoV \u22c5\\lambda_{sub,max} \u22c5\u239c\u2500\u2500\u2500\u2500\u2500\u2500\u2500\u2500\u2500\u2500\u2500\u2500\u2500\u2500\u2500\u2500\n",
        "             \u2571                                               \u239c                \n",
        " 2    2     \u2571           2                                    \u239d                \n",
        "\u03c0 \u22c5D_s \u22c5   \u2571      N_{AA}  + \u2500\u2500\u2500\u2500\u2500\u2500\u2500\u2500\u2500\u2500\u2500\u2500\u2500\u2500\u2500\u2500\u2500\u2500\u2500\u2500\u2500\u2500\u2500\u2500\u2500\u2500\u2500\u2500\u2500\u2500\u2500\u2500\u2500\u2500\u2500\u2500\u2500\u2500\u2500\u2500\u2500\u2500\u2500\u2500\u2500\u2500\u2500\u2500\u2500\u2500\n",
        "          \u2571                                                                   \n",
        "        \u2572\u2571                                                                    \n",
        "\n",
        "      1.5       0.5                                    -1.5        2    2     \n",
        "oV\u22c5Q_w   \u22c5T_snap   \u22c5\\lambda_{sub,max}\u22c5\\lambda_{sub,min}       9\u22c5\u03a9_E \u22c5Q_w \u22c5T_sn\n",
        "\u2500\u2500\u2500\u2500\u2500\u2500\u2500\u2500\u2500\u2500\u2500\u2500\u2500\u2500\u2500\u2500\u2500\u2500\u2500\u2500\u2500\u2500\u2500\u2500\u2500\u2500\u2500\u2500\u2500\u2500\u2500\u2500\u2500\u2500\u2500\u2500\u2500\u2500\u2500\u2500\u2500\u2500\u2500\u2500\u2500\u2500\u2500\u2500\u2500\u2500\u2500\u2500\u2500\u2500\u2500\u2500\u2500\u2500\u2500 + \u2500\u2500\u2500\u2500\u2500\u2500\u2500\u2500\u2500\u2500\u2500\u2500\u2500\u2500\u2500\u2500\n",
        "       2                                                                   2  \n",
        "      \u03c0 \u22c5D_s\u22c5\\epsilon_w                                           128\u22c5Q_pix   \n",
        "\u2500\u2500\u2500\u2500\u2500\u2500\u2500\u2500\u2500\u2500\u2500\u2500\u2500\u2500\u2500\u2500\u2500\u2500\u2500\u2500\u2500\u2500\u2500\u2500\u2500\u2500\u2500\u2500\u2500\u2500\u2500\u2500\u2500\u2500\u2500\u2500\u2500\u2500\u2500\u2500\u2500\u2500\u2500\u2500\u2500\u2500\u2500\u2500\u2500\u2500\u2500\u2500\u2500\u2500\u2500\u2500\u2500\u2500\u2500\u2500\u2500\u2500\u2500\u2500\u2500\u2500\u2500\u2500\u2500\u2500\u2500\u2500\u2500\u2500\u2500\u2500\u2500\u2500\n",
        "______________________________________________________________________________\n",
        ".5    1.5          1.5       1.5                                    -1.5      \n",
        "  \u22c5\u03a9_E   \u22c5Q_FoV\u22c5Q_w   \u22c5T_snap   \u22c5\\lambda_{sub,max}\u22c5\\lambda_{sub,min}       9\u22c5\u03a9\n",
        "\u2500\u2500\u2500\u2500\u2500\u2500\u2500\u2500\u2500\u2500\u2500\u2500\u2500\u2500\u2500\u2500\u2500\u2500\u2500\u2500\u2500\u2500\u2500\u2500\u2500\u2500\u2500\u2500\u2500\u2500\u2500\u2500\u2500\u2500\u2500\u2500\u2500\u2500\u2500\u2500\u2500\u2500\u2500\u2500\u2500\u2500\u2500\u2500\u2500\u2500\u2500\u2500\u2500\u2500\u2500\u2500\u2500\u2500\u2500\u2500\u2500\u2500\u2500\u2500\u2500\u2500\u2500\u2500\u2500\u2500\u2500\u2500 + \u2500\u2500\u2500\n",
        "                    2                                                         \n",
        "                   \u03c0 \u22c5D_s\u22c5\\epsilon_w                                          \n",
        "\u2500\u2500\u2500\u2500\u2500\u2500\u2500\u2500\u2500\u2500\u2500\u2500\u2500\u2500\u2500\u2500\u2500\u2500\u2500\u2500\u2500\u2500\u2500\u2500\u2500\u2500\u2500\u2500\u2500\u2500\u2500\u2500\u2500\u2500\u2500\u2500\u2500\u2500\u2500\u2500\u2500\u2500\u2500\u2500\u2500\u2500\u2500\u2500\u2500\u2500\u2500\u2500\u2500\u2500\u2500\u2500\u2500\u2500\u2500\u2500\u2500\u2500\u2500\u2500\u2500\u2500\u2500\u2500\u2500\u2500\u2500\u2500\u2500\u2500\u2500\u2500\u2500\u2500\n",
        "                    2    2                                                    \n",
        "                   \u03c0 \u22c5D_s                                                     \n",
        "\n",
        "  \u239e               \n",
        "ap\u239f               \n",
        "\u2500\u2500\u239f               \n",
        "  \u239f               \n",
        "  \u23a0               \n",
        "\u2500\u2500\u2500\u2500\u2500\u2500\u2500\u2500\u2500\u2500\u2500\u2500\u2500\u2500\u2500\u2500\u2500\u2500\n",
        "__________________\n",
        "  2    2       2\u239e \n",
        "_E \u22c5Q_w \u22c5T_snap \u239f \n",
        "\u2500\u2500\u2500\u2500\u2500\u2500\u2500\u2500\u2500\u2500\u2500\u2500\u2500\u2500\u2500\u2500\u239f \n",
        "           2    \u239f \n",
        "  256\u22c5Q_pix     \u23a0 \n",
        "\u2500\u2500\u2500\u2500\u2500\u2500\u2500\u2500\u2500\u2500\u2500\u2500\u2500\u2500\u2500\u2500\u2500 \n",
        "                  \n",
        "                  "
       ]
      }
     ],
     "prompt_number": 29
    },
    {
     "cell_type": "code",
     "collapsed": false,
     "input": [
      "Nkernel_min_f = Nkernel_min.subs({NAA: 9, Qfov: 1, Qpix: 2.5, Qw: 1, epsilon_w: 1/100, Omega_E: 0.0000727*u.rad/u.s, wl_sub_max: wl, wl_sub_min: wl}).subs(telescope_info['SKA1Low']).subs({u.s: 1}).evalf()\n",
      "plot(Nkernel_min_f, xscale='log')"
     ],
     "language": "python",
     "metadata": {},
     "outputs": [
      {
       "metadata": {},
       "output_type": "pyout",
       "prompt_number": 46,
       "text": [
        "<sympy.plotting.plot.Plot at 0x1157ab390>"
       ]
      }
     ],
     "prompt_number": 46
    },
    {
     "cell_type": "code",
     "collapsed": false,
     "input": [
      "Nf_B = log(wl_sub_max/wl_sub_min)/log(1+pix_angle/fov_angle/Qbw)\n",
      "Nf_B"
     ],
     "language": "python",
     "metadata": {},
     "outputs": [
      {
       "latex": [
        "$$\\frac{\\log{\\left (\\frac{\\lambda_{{sub,max}}}{\\lambda_{{sub,min}}} \\right )}}{\\log{\\left (1 + \\frac{0.0986842105263158 \\pi D_{s} \\lambda_{{sub,min}}}{B_{max} Q_{FoV} Q_{bw} Q_{pix} \\lambda_{{sub,max}}} \\right )}}$$"
       ],
       "metadata": {},
       "output_type": "pyout",
       "png": "[encoded data removed]",
       "prompt_number": 23,
       "text": [
        "                  \u239b\\lambda_{sub,max}\u239e              \n",
        "               log\u239c\u2500\u2500\u2500\u2500\u2500\u2500\u2500\u2500\u2500\u2500\u2500\u2500\u2500\u2500\u2500\u2500\u2500\u239f              \n",
        "                  \u239d\\lambda_{sub,min}\u23a0              \n",
        "\u2500\u2500\u2500\u2500\u2500\u2500\u2500\u2500\u2500\u2500\u2500\u2500\u2500\u2500\u2500\u2500\u2500\u2500\u2500\u2500\u2500\u2500\u2500\u2500\u2500\u2500\u2500\u2500\u2500\u2500\u2500\u2500\u2500\u2500\u2500\u2500\u2500\u2500\u2500\u2500\u2500\u2500\u2500\u2500\u2500\u2500\u2500\u2500\u2500\u2500\u2500\n",
        "   \u239b    0.0986842105263158\u22c5\u03c0\u22c5D_s\u22c5\\lambda_{sub,min}\u239e\n",
        "log\u239c1 + \u2500\u2500\u2500\u2500\u2500\u2500\u2500\u2500\u2500\u2500\u2500\u2500\u2500\u2500\u2500\u2500\u2500\u2500\u2500\u2500\u2500\u2500\u2500\u2500\u2500\u2500\u2500\u2500\u2500\u2500\u2500\u2500\u2500\u2500\u2500\u2500\u2500\u2500\u2500\u2500\u2500\u2500\u239f\n",
        "   \u239d     B_max\u22c5Q_FoV\u22c5Q_bw\u22c5Q_pix\u22c5\\lambda_{sub,max} \u23a0"
       ]
      }
     ],
     "prompt_number": 23
    },
    {
     "cell_type": "heading",
     "level": 2,
     "metadata": {},
     "source": [
      "12.5 Floating Point operations requirements for continuum and spectral line imaging"
     ]
    },
    {
     "cell_type": "markdown",
     "metadata": {},
     "source": [
      "The number of floating point operations is calculated as the sum of:\n",
      "\n",
      "1.\tGridding (and degridding) of visibilities onto a uv grid\n",
      "1.\tComputing the convolution kernels for gridding/degridding\n",
      "1.\tFFT between sky images and uv grid\n",
      "1.\tRe-projection to account for snapshots\n",
      "\n",
      "In the case of spectral line imaging data processed on frequency channels as output from correlator and so $N_{f,corr}$ are used for each operation. In the case of continuum and fast imaging the gridding operations is performed on the effective number of channels $N_{f,grid}$  as described in the previous section. The FFT and reprojection operations are carried out on number of channels described by the output frequency resolution $N_{f,out}$. This number of channels is a free parameter.\n",
      "\n",
      "Since all operations are repeated for the four polarization products and each beam these are pre-factors of the expression for the total FLOP rate. Since operations for the gridding and de-gridding steps are similar total operation count is twice the number of major cycles. Hence:\n"
     ]
    },
    {
     "cell_type": "markdown",
     "metadata": {},
     "source": [
      "$$\ud835\udc45_{FLOP} = 2 \ud835\udc41_{major} \\times \ud835\udc41_{pp} \ud835\udc41_{beam} \\times ( \ud835\udc45_{grid} + \ud835\udc45_{FFT} + \ud835\udc45_{RP} + \ud835\udc45_{CCF})$$"
     ]
    },
    {
     "cell_type": "code",
     "collapsed": false,
     "input": [
      "Nmajor, Npp, Rflop, Rgrid, Rfft, Rrp, Rccf = symbols(\"N_{major} N_{pp} R_{FLOP} R_{grid} R_{FFT} R_{RP} R_{CCF}\", positive=True)\n",
      "Rflop = 2*Nmajor*Nbeam*(Rgrid+Rfft+Rrp+Rccf)\n",
      "Rflop"
     ],
     "language": "python",
     "metadata": {},
     "outputs": []
    },
    {
     "cell_type": "markdown",
     "metadata": {},
     "source": [
      "The gridding operation rate is the product of the number of visibilities in the gridding process and the area of the convolution kernel in pixels. The number of visibilities to be gridded per unit time is:"
     ]
    },
    {
     "cell_type": "markdown",
     "metadata": {},
     "source": [
      "$$N_{vis} = \\frac{N_a (N_a -1)}{2 T_{dump}} N_{f,grid}$$"
     ]
    },
    {
     "cell_type": "markdown",
     "metadata": {},
     "source": [
      "Giving the gridding FLOP rate of:"
     ]
    },
    {
     "cell_type": "markdown",
     "metadata": {},
     "source": [
      "$$R_{grid} = N_{vis} N_{kernel}^{2} N_{mm} 8\\,Ops$$"
     ]
    },
    {
     "cell_type": "markdown",
     "metadata": {},
     "source": [
      "Here $N_{mm}$ is a factor to account for the extra operations required for the gridding of off-diagonal elements of the Mueller matrix and $N_{kernel}$ is the linear size of the combined A and W kernels as defined above."
     ]
    },
    {
     "cell_type": "code",
     "collapsed": false,
     "input": [
      "Nmm = symbols(\"N_mm\", integer=True, positive=True)\n",
      "Rgrid = Na*(Na-1)/2/tdump* Nkernel**2 *Nmm*8*Ops\n",
      "Rgrid"
     ],
     "language": "python",
     "metadata": {},
     "outputs": [
      {
       "latex": [
        "$$\\frac{4 \\mathrm{Ops}}{T_{{dump}}} N_{a} N_{{mm}} \\left(N_{a} - 1\\right) \\left(N_{{AA}}^{2} + \\frac{231.04 Q_{{FoV}}^{2} \\lambda_{{max}}^{2}}{\\pi^{2} D_{s}^{2}} \\left(\\frac{1.2258064516129 Q_{{FoV}} \\lambda_{{max}} w^{1.5}}{\\pi D_{s} \\epsilon_{w}} + \\frac{14.44 Q_{{FoV}}^{2} \\lambda_{{max}}^{2} w^{2}}{\\pi^{2} D_{s}^{2}}\\right)\\right)$$"
       ],
       "metadata": {},
       "output_type": "pyout",
       "png": "[encoded data removed]",
       "prompt_number": 13,
       "text": [
        "                                  \u239b                                         \u239b \n",
        "                                  \u239c                        2              2 \u239c1\n",
        "                                  \u239c          231.04\u22c5Q_{FoV} \u22c5\\lambda_{max} \u22c5\u239c\u2500\n",
        "                                  \u239c                                         \u239c \n",
        "                                  \u239c      2                                  \u239d \n",
        "4\u22c5N\u2090\u22c5N_{mm}\u22c5\\mathrm{Ops}\u22c5(N\u2090 - 1)\u22c5\u239cN_{AA}  + \u2500\u2500\u2500\u2500\u2500\u2500\u2500\u2500\u2500\u2500\u2500\u2500\u2500\u2500\u2500\u2500\u2500\u2500\u2500\u2500\u2500\u2500\u2500\u2500\u2500\u2500\u2500\u2500\u2500\u2500\u2500\u2500\u2500\n",
        "                                  \u239c                                           \n",
        "                                  \u239d                                           \n",
        "\u2500\u2500\u2500\u2500\u2500\u2500\u2500\u2500\u2500\u2500\u2500\u2500\u2500\u2500\u2500\u2500\u2500\u2500\u2500\u2500\u2500\u2500\u2500\u2500\u2500\u2500\u2500\u2500\u2500\u2500\u2500\u2500\u2500\u2500\u2500\u2500\u2500\u2500\u2500\u2500\u2500\u2500\u2500\u2500\u2500\u2500\u2500\u2500\u2500\u2500\u2500\u2500\u2500\u2500\u2500\u2500\u2500\u2500\u2500\u2500\u2500\u2500\u2500\u2500\u2500\u2500\u2500\u2500\u2500\u2500\u2500\u2500\u2500\u2500\u2500\u2500\u2500\u2500\n",
        "                                                                          T_{d\n",
        "\n",
        "                                      1.5                2              2  2\u239e\u239e\n",
        ".2258064516129\u22c5Q_{FoV}\u22c5\\lambda_{max}\u22c5w      14.44\u22c5Q_{FoV} \u22c5\\lambda_{max} \u22c5w \u239f\u239f\n",
        "\u2500\u2500\u2500\u2500\u2500\u2500\u2500\u2500\u2500\u2500\u2500\u2500\u2500\u2500\u2500\u2500\u2500\u2500\u2500\u2500\u2500\u2500\u2500\u2500\u2500\u2500\u2500\u2500\u2500\u2500\u2500\u2500\u2500\u2500\u2500\u2500\u2500\u2500\u2500\u2500\u2500 + \u2500\u2500\u2500\u2500\u2500\u2500\u2500\u2500\u2500\u2500\u2500\u2500\u2500\u2500\u2500\u2500\u2500\u2500\u2500\u2500\u2500\u2500\u2500\u2500\u2500\u2500\u2500\u2500\u2500\u2500\u2500\u2500\u239f\u239f\n",
        "            \u03c0\u22c5D_s\u22c5\\epsilon_w                             2    2             \u239f\u239f\n",
        "                                                        \u03c0 \u22c5D_s              \u23a0\u239f\n",
        "\u2500\u2500\u2500\u2500\u2500\u2500\u2500\u2500\u2500\u2500\u2500\u2500\u2500\u2500\u2500\u2500\u2500\u2500\u2500\u2500\u2500\u2500\u2500\u2500\u2500\u2500\u2500\u2500\u2500\u2500\u2500\u2500\u2500\u2500\u2500\u2500\u2500\u2500\u2500\u2500\u2500\u2500\u2500\u2500\u2500\u2500\u2500\u2500\u2500\u2500\u2500\u2500\u2500\u2500\u2500\u2500\u2500\u2500\u2500\u2500\u2500\u2500\u2500\u2500\u2500\u2500\u2500\u2500\u2500\u2500\u2500\u2500\u2500\u2500\u2500\u2500\u2500\u239f\n",
        "                   2    2                                                    \u239f\n",
        "                  \u03c0 \u22c5D_s                                                     \u23a0\n",
        "\u2500\u2500\u2500\u2500\u2500\u2500\u2500\u2500\u2500\u2500\u2500\u2500\u2500\u2500\u2500\u2500\u2500\u2500\u2500\u2500\u2500\u2500\u2500\u2500\u2500\u2500\u2500\u2500\u2500\u2500\u2500\u2500\u2500\u2500\u2500\u2500\u2500\u2500\u2500\u2500\u2500\u2500\u2500\u2500\u2500\u2500\u2500\u2500\u2500\u2500\u2500\u2500\u2500\u2500\u2500\u2500\u2500\u2500\u2500\u2500\u2500\u2500\u2500\u2500\u2500\u2500\u2500\u2500\u2500\u2500\u2500\u2500\u2500\u2500\u2500\u2500\u2500\u2500\n",
        "ump}                                                                          "
       ]
      }
     ],
     "prompt_number": 13
    },
    {
     "cell_type": "markdown",
     "metadata": {},
     "source": [
      "We assume the PSFs are computed only once and not recomputed in every cycle. This means that the\n",
      "FFT rate and re-projection needs only be done on one grid. The FFT rate is:"
     ]
    },
    {
     "cell_type": "markdown",
     "metadata": {},
     "source": [
      "$$R_{FFT} = \\frac{N_{pix}^2 \\log_2 (N_{pix}^2)}{T_{snap}} 5 \\, Ops$$"
     ]
    },
    {
     "cell_type": "code",
     "collapsed": false,
     "input": [
      "Rfft = Npix**2 * log(Npix**2,2)*5*Ops/Tsnap\n",
      "Rfft"
     ],
     "language": "python",
     "metadata": {},
     "outputs": [
      {
       "latex": [
        "$$\\frac{513.422222222222 B_{{max}}^{2} Q_{{FoV}}^{2} Q_{{pix}}^{2} \\lambda_{{max}}^{2} \\mathrm{Ops} \\log{\\left (\\frac{102.684444444444 B_{{max}}^{2} Q_{{FoV}}^{2} Q_{{pix}}^{2} \\lambda_{{max}}^{2}}{\\pi^{2} D_{s}^{2} \\lambda_{{min}}^{2}} \\right )}}{\\pi^{2} D_{s}^{2} T_{{snap}} \\lambda_{{min}}^{2} \\log{\\left (2 \\right )}}$$"
       ],
       "metadata": {},
       "output_type": "pyout",
       "png": "[encoded data removed]",
       "prompt_number": 14,
       "text": [
        "                                                                           \u239b  \n",
        "                        2        2        2              2                 \u239c10\n",
        "513.422222222222\u22c5B_{max} \u22c5Q_{FoV} \u22c5Q_{pix} \u22c5\\lambda_{max} \u22c5\\mathrm{Ops}\u22c5log\u239c\u2500\u2500\n",
        "                                                                           \u239c  \n",
        "                                                                           \u239d  \n",
        "\u2500\u2500\u2500\u2500\u2500\u2500\u2500\u2500\u2500\u2500\u2500\u2500\u2500\u2500\u2500\u2500\u2500\u2500\u2500\u2500\u2500\u2500\u2500\u2500\u2500\u2500\u2500\u2500\u2500\u2500\u2500\u2500\u2500\u2500\u2500\u2500\u2500\u2500\u2500\u2500\u2500\u2500\u2500\u2500\u2500\u2500\u2500\u2500\u2500\u2500\u2500\u2500\u2500\u2500\u2500\u2500\u2500\u2500\u2500\u2500\u2500\u2500\u2500\u2500\u2500\u2500\u2500\u2500\u2500\u2500\u2500\u2500\u2500\u2500\u2500\u2500\u2500\u2500\n",
        "                                                  2    2                      \n",
        "                                                 \u03c0 \u22c5D_s \u22c5T_{snap}\u22c5\\lambda_{min\n",
        "\n",
        "                      2        2        2              2\u239e\n",
        "2.684444444444\u22c5B_{max} \u22c5Q_{FoV} \u22c5Q_{pix} \u22c5\\lambda_{max} \u239f\n",
        "\u2500\u2500\u2500\u2500\u2500\u2500\u2500\u2500\u2500\u2500\u2500\u2500\u2500\u2500\u2500\u2500\u2500\u2500\u2500\u2500\u2500\u2500\u2500\u2500\u2500\u2500\u2500\u2500\u2500\u2500\u2500\u2500\u2500\u2500\u2500\u2500\u2500\u2500\u2500\u2500\u2500\u2500\u2500\u2500\u2500\u2500\u2500\u2500\u2500\u2500\u2500\u2500\u2500\u2500\u2500\u2500\u239f\n",
        "                 2    2              2                  \u239f\n",
        "                \u03c0 \u22c5D_s \u22c5\\lambda_{min}                   \u23a0\n",
        "\u2500\u2500\u2500\u2500\u2500\u2500\u2500\u2500\u2500\u2500\u2500\u2500\u2500\u2500\u2500\u2500\u2500\u2500\u2500\u2500\u2500\u2500\u2500\u2500\u2500\u2500\u2500\u2500\u2500\u2500\u2500\u2500\u2500\u2500\u2500\u2500\u2500\u2500\u2500\u2500\u2500\u2500\u2500\u2500\u2500\u2500\u2500\u2500\u2500\u2500\u2500\u2500\u2500\u2500\u2500\u2500\u2500\n",
        " 2                                                       \n",
        "} \u22c5log(2)                                                "
       ]
      }
     ],
     "prompt_number": 14
    },
    {
     "cell_type": "markdown",
     "metadata": {},
     "source": [
      "The re-projection rate is:"
     ]
    },
    {
     "cell_type": "markdown",
     "metadata": {},
     "source": [
      "$$R_{RP} = \\frac{N_{pix}^2}{T_{snap}} 50 \\, Ops$$"
     ]
    },
    {
     "cell_type": "markdown",
     "metadata": {},
     "source": [
      "The assumption giving rise to estimate of 50 Ops/s is given in Section 12.3.2."
     ]
    },
    {
     "cell_type": "code",
     "collapsed": false,
     "input": [
      "Rrp = F_RP.subs({N: Npix**2})/Tsnap\n",
      "Rrp"
     ],
     "language": "python",
     "metadata": {},
     "outputs": [
      {
       "latex": [
        "$$\\frac{5134.22222222222 B_{{max}}^{2} Q_{{FoV}}^{2} Q_{{pix}}^{2} \\lambda_{{max}}^{2} \\mathrm{Ops}}{\\pi^{2} D_{s}^{2} T_{{snap}} \\lambda_{{min}}^{2}}$$"
       ],
       "metadata": {},
       "output_type": "pyout",
       "png": "[encoded data removed]",
       "prompt_number": 15,
       "text": [
        "                        2        2        2              2             \n",
        "5134.22222222222\u22c5B_{max} \u22c5Q_{FoV} \u22c5Q_{pix} \u22c5\\lambda_{max} \u22c5\\mathrm{Ops}\n",
        "\u2500\u2500\u2500\u2500\u2500\u2500\u2500\u2500\u2500\u2500\u2500\u2500\u2500\u2500\u2500\u2500\u2500\u2500\u2500\u2500\u2500\u2500\u2500\u2500\u2500\u2500\u2500\u2500\u2500\u2500\u2500\u2500\u2500\u2500\u2500\u2500\u2500\u2500\u2500\u2500\u2500\u2500\u2500\u2500\u2500\u2500\u2500\u2500\u2500\u2500\u2500\u2500\u2500\u2500\u2500\u2500\u2500\u2500\u2500\u2500\u2500\u2500\u2500\u2500\u2500\u2500\u2500\u2500\u2500\u2500\u2500\n",
        "                     2    2                       2                    \n",
        "                    \u03c0 \u22c5D_s \u22c5T_{snap}\u22c5\\lambda_{min}                     "
       ]
      }
     ],
     "prompt_number": 15
    },
    {
     "cell_type": "markdown",
     "metadata": {},
     "source": [
      "The FLOP rate required to recalculate the baseline-dependent convolution kernels is set by the size of\n",
      "the far-field in which the convolution functions are calculated. The linear size of the far field in pixels is:"
     ]
    },
    {
     "cell_type": "markdown",
     "metadata": {},
     "source": [
      "$$N_{cvff} = Q_{GCF} N_{kernel} = Q_{GCF} \\sqrt{N_{GW}^2 + N_{AA}^2}$$"
     ]
    },
    {
     "cell_type": "markdown",
     "metadata": {},
     "source": [
      "Here $Q_{GCF}$ is the oversampling factor, which is typically 8."
     ]
    },
    {
     "cell_type": "code",
     "collapsed": false,
     "input": [
      "Ncvff, Qgcf = symbols(\"N_{cvff} Q_{GCF}\")\n",
      "Ncvff = Qgcf*Nkernel\n",
      "Ncvff"
     ],
     "language": "python",
     "metadata": {},
     "outputs": [
      {
       "latex": [
        "$$Q_{{GCF}} \\sqrt{N_{{AA}}^{2} + \\frac{231.04 Q_{{FoV}}^{2} \\lambda_{{max}}^{2}}{\\pi^{2} D_{s}^{2}} \\left(\\frac{1.2258064516129 Q_{{FoV}} \\lambda_{{max}} w^{1.5}}{\\pi D_{s} \\epsilon_{w}} + \\frac{14.44 Q_{{FoV}}^{2} \\lambda_{{max}}^{2} w^{2}}{\\pi^{2} D_{s}^{2}}\\right)}$$"
       ],
       "metadata": {},
       "output_type": "pyout",
       "png": "[encoded data removed]",
       "prompt_number": 16,
       "text": [
        "                 _____________________________________________________________\n",
        "                \u2571                                          \u239b                  \n",
        "               \u2571                          2              2 \u239c1.2258064516129\u22c5Q_\n",
        "              \u2571             231.04\u22c5Q_{FoV} \u22c5\\lambda_{max} \u22c5\u239c\u2500\u2500\u2500\u2500\u2500\u2500\u2500\u2500\u2500\u2500\u2500\u2500\u2500\u2500\u2500\u2500\u2500\u2500\n",
        "             \u2571                                             \u239c             \u03c0\u22c5D_s\n",
        "            \u2571           2                                  \u239d                  \n",
        "Q_{GCF}\u22c5   \u2571      N_{AA}  + \u2500\u2500\u2500\u2500\u2500\u2500\u2500\u2500\u2500\u2500\u2500\u2500\u2500\u2500\u2500\u2500\u2500\u2500\u2500\u2500\u2500\u2500\u2500\u2500\u2500\u2500\u2500\u2500\u2500\u2500\u2500\u2500\u2500\u2500\u2500\u2500\u2500\u2500\u2500\u2500\u2500\u2500\u2500\u2500\u2500\u2500\u2500\u2500\u2500\u2500\n",
        "          \u2571                                                                   \n",
        "        \u2572\u2571                                                                    \n",
        "\n",
        "_____________________________________________________________\n",
        "                     1.5                2              2  2\u239e \n",
        "{FoV}\u22c5\\lambda_{max}\u22c5w      14.44\u22c5Q_{FoV} \u22c5\\lambda_{max} \u22c5w \u239f \n",
        "\u2500\u2500\u2500\u2500\u2500\u2500\u2500\u2500\u2500\u2500\u2500\u2500\u2500\u2500\u2500\u2500\u2500\u2500\u2500\u2500\u2500\u2500\u2500\u2500 + \u2500\u2500\u2500\u2500\u2500\u2500\u2500\u2500\u2500\u2500\u2500\u2500\u2500\u2500\u2500\u2500\u2500\u2500\u2500\u2500\u2500\u2500\u2500\u2500\u2500\u2500\u2500\u2500\u2500\u2500\u2500\u2500\u239f \n",
        "\u22c5\\epsilon_w                             2    2             \u239f \n",
        "                                       \u03c0 \u22c5D_s              \u23a0 \n",
        "\u2500\u2500\u2500\u2500\u2500\u2500\u2500\u2500\u2500\u2500\u2500\u2500\u2500\u2500\u2500\u2500\u2500\u2500\u2500\u2500\u2500\u2500\u2500\u2500\u2500\u2500\u2500\u2500\u2500\u2500\u2500\u2500\u2500\u2500\u2500\u2500\u2500\u2500\u2500\u2500\u2500\u2500\u2500\u2500\u2500\u2500\u2500\u2500\u2500\u2500\u2500\u2500\u2500\u2500\u2500\u2500\u2500\u2500\u2500\u2500 \n",
        "  2    2                                                     \n",
        " \u03c0 \u22c5D_s                                                      "
       ]
      }
     ],
     "prompt_number": 16
    },
    {
     "cell_type": "markdown",
     "metadata": {},
     "source": [
      "The rate is then:"
     ]
    },
    {
     "cell_type": "markdown",
     "metadata": {},
     "source": [
      "$$R_{CCF} = \\frac{N_a (N_a - 1)}{2} \\frac{N_{cvff}^2 \\log_2 (N_{cvff}^2) N_{mm} 5 Ops}{T_{ion} Q_{fcv}}$$"
     ]
    },
    {
     "cell_type": "markdown",
     "metadata": {},
     "source": [
      "Here $T_{ion}$ is the ionospheric timescale after which the functions must be recomputed, $Q_{fcv}$ is a factor that allow for reuse of functions between neighboring frequency channels and $N_{mm}$ is again a factor to account for the off-diagonal elements of the Mueller Matrix. $N_f$ is $N_{f,out}$ in case of spectral line imaging and N_{f,bmax} in case of continuum and fast imaging."
     ]
    },
    {
     "cell_type": "code",
     "collapsed": false,
     "input": [
      "Tion, Qfcv = symbols(\"T_{ion} Q_{fcv}\")\n",
      "Rccf = Na*(Na-1)/2 * F_FFT.subs({N: Ncvff**2}) * Nmm / Tion / Qfcv\n",
      "Rccf"
     ],
     "language": "python",
     "metadata": {},
     "outputs": [
      {
       "latex": [
        "$$\\frac{5 N_{a} N_{{mm}} Q_{{GCF}}^{2} \\mathrm{Ops}}{2 Q_{{fcv}} T_{{ion}} \\log{\\left (2 \\right )}} \\left(N_{a} - 1\\right) \\left(N_{{AA}}^{2} + \\frac{231.04 Q_{{FoV}}^{2} \\lambda_{{max}}^{2}}{\\pi^{2} D_{s}^{2}} \\left(\\frac{1.2258064516129 Q_{{FoV}} \\lambda_{{max}} w^{1.5}}{\\pi D_{s} \\epsilon_{w}} + \\frac{14.44 Q_{{FoV}}^{2} \\lambda_{{max}}^{2} w^{2}}{\\pi^{2} D_{s}^{2}}\\right)\\right) \\log{\\left (Q_{{GCF}}^{2} \\left(N_{{AA}}^{2} + \\frac{231.04 Q_{{FoV}}^{2} \\lambda_{{max}}^{2}}{\\pi^{2} D_{s}^{2}} \\left(\\frac{1.2258064516129 Q_{{FoV}} \\lambda_{{max}} w^{1.5}}{\\pi D_{s} \\epsilon_{w}} + \\frac{14.44 Q_{{FoV}}^{2} \\lambda_{{max}}^{2} w^{2}}{\\pi^{2} D_{s}^{2}}\\right)\\right) \\right )}$$"
       ],
       "metadata": {},
       "output_type": "pyout",
       "png": "[encoded data removed]",
       "prompt_number": 17,
       "text": [
        "                                           \u239b                                  \n",
        "                                           \u239c                        2         \n",
        "                                           \u239c          231.04\u22c5Q_{FoV} \u22c5\\lambda_\n",
        "                                           \u239c                                  \n",
        "                   2                       \u239c      2                           \n",
        "5\u22c5N\u2090\u22c5N_{mm}\u22c5Q_{GCF} \u22c5\\mathrm{Ops}\u22c5(N\u2090 - 1)\u22c5\u239cN_{AA}  + \u2500\u2500\u2500\u2500\u2500\u2500\u2500\u2500\u2500\u2500\u2500\u2500\u2500\u2500\u2500\u2500\u2500\u2500\u2500\u2500\u2500\u2500\u2500\u2500\n",
        "                                           \u239c                                  \n",
        "                                           \u239d                                  \n",
        "                                                                              \n",
        "\u2500\u2500\u2500\u2500\u2500\u2500\u2500\u2500\u2500\u2500\u2500\u2500\u2500\u2500\u2500\u2500\u2500\u2500\u2500\u2500\u2500\u2500\u2500\u2500\u2500\u2500\u2500\u2500\u2500\u2500\u2500\u2500\u2500\u2500\u2500\u2500\u2500\u2500\u2500\u2500\u2500\u2500\u2500\u2500\u2500\u2500\u2500\u2500\u2500\u2500\u2500\u2500\u2500\u2500\u2500\u2500\u2500\u2500\u2500\u2500\u2500\u2500\u2500\u2500\u2500\u2500\u2500\u2500\u2500\u2500\u2500\u2500\u2500\u2500\u2500\u2500\u2500\u2500\n",
        "                                                                              \n",
        "\n",
        "       \u239b                                       1.5                2           \n",
        "     2 \u239c1.2258064516129\u22c5Q_{FoV}\u22c5\\lambda_{max}\u22c5w      14.44\u22c5Q_{FoV} \u22c5\\lambda_{m\n",
        "{max} \u22c5\u239c\u2500\u2500\u2500\u2500\u2500\u2500\u2500\u2500\u2500\u2500\u2500\u2500\u2500\u2500\u2500\u2500\u2500\u2500\u2500\u2500\u2500\u2500\u2500\u2500\u2500\u2500\u2500\u2500\u2500\u2500\u2500\u2500\u2500\u2500\u2500\u2500\u2500\u2500\u2500\u2500\u2500\u2500 + \u2500\u2500\u2500\u2500\u2500\u2500\u2500\u2500\u2500\u2500\u2500\u2500\u2500\u2500\u2500\u2500\u2500\u2500\u2500\u2500\u2500\u2500\u2500\u2500\u2500\n",
        "       \u239c             \u03c0\u22c5D_s\u22c5\\epsilon_w                             2    2      \n",
        "       \u239d                                                         \u03c0 \u22c5D_s       \n",
        "\u2500\u2500\u2500\u2500\u2500\u2500\u2500\u2500\u2500\u2500\u2500\u2500\u2500\u2500\u2500\u2500\u2500\u2500\u2500\u2500\u2500\u2500\u2500\u2500\u2500\u2500\u2500\u2500\u2500\u2500\u2500\u2500\u2500\u2500\u2500\u2500\u2500\u2500\u2500\u2500\u2500\u2500\u2500\u2500\u2500\u2500\u2500\u2500\u2500\u2500\u2500\u2500\u2500\u2500\u2500\u2500\u2500\u2500\u2500\u2500\u2500\u2500\u2500\u2500\u2500\u2500\u2500\u2500\u2500\u2500\u2500\u2500\u2500\u2500\u2500\u2500\u2500\u2500\n",
        "                            2    2                                            \n",
        "                           \u03c0 \u22c5D_s                                             \n",
        "                                                                              \n",
        "\u2500\u2500\u2500\u2500\u2500\u2500\u2500\u2500\u2500\u2500\u2500\u2500\u2500\u2500\u2500\u2500\u2500\u2500\u2500\u2500\u2500\u2500\u2500\u2500\u2500\u2500\u2500\u2500\u2500\u2500\u2500\u2500\u2500\u2500\u2500\u2500\u2500\u2500\u2500\u2500\u2500\u2500\u2500\u2500\u2500\u2500\u2500\u2500\u2500\u2500\u2500\u2500\u2500\u2500\u2500\u2500\u2500\u2500\u2500\u2500\u2500\u2500\u2500\u2500\u2500\u2500\u2500\u2500\u2500\u2500\u2500\u2500\u2500\u2500\u2500\u2500\u2500\u2500\n",
        "                                                             2\u22c5Q_{fcv}\u22c5T_{ion}\n",
        "\n",
        "   2  2\u239e\u239e    \u239b         \u239b                                         \u239b            \n",
        "ax} \u22c5w \u239f\u239f    \u239c         \u239c                        2              2 \u239c1.2258064516\n",
        "\u2500\u2500\u2500\u2500\u2500\u2500\u2500\u239f\u239f    \u239c         \u239c          231.04\u22c5Q_{FoV} \u22c5\\lambda_{max} \u22c5\u239c\u2500\u2500\u2500\u2500\u2500\u2500\u2500\u2500\u2500\u2500\u2500\u2500\n",
        "       \u239f\u239f    \u239c         \u239c                                         \u239c            \n",
        "       \u23a0\u239f    \u239c       2 \u239c      2                                  \u239d            \n",
        "\u2500\u2500\u2500\u2500\u2500\u2500\u2500\u2500\u239f\u22c5   \u239cQ_{GCF} \u22c5\u239cN_{AA}  + \u2500\u2500\u2500\u2500\u2500\u2500\u2500\u2500\u2500\u2500\u2500\u2500\u2500\u2500\u2500\u2500\u2500\u2500\u2500\u2500\u2500\u2500\u2500\u2500\u2500\u2500\u2500\u2500\u2500\u2500\u2500\u2500\u2500\u2500\u2500\u2500\u2500\u2500\u2500\u2500\u2500\u2500\u2500\u2500\n",
        "        \u239f    \u239c         \u239c                                                      \n",
        "        \u23a0    \u239d         \u239d                                                      \n",
        "          log                                                                 \n",
        "\u2500\u2500\u2500\u2500\u2500\u2500\u2500\u2500\u2500\u2500\u2500\u2500\u2500\u2500\u2500\u2500\u2500\u2500\u2500\u2500\u2500\u2500\u2500\u2500\u2500\u2500\u2500\u2500\u2500\u2500\u2500\u2500\u2500\u2500\u2500\u2500\u2500\u2500\u2500\u2500\u2500\u2500\u2500\u2500\u2500\u2500\u2500\u2500\u2500\u2500\u2500\u2500\u2500\u2500\u2500\u2500\u2500\u2500\u2500\u2500\u2500\u2500\u2500\u2500\u2500\u2500\u2500\u2500\u2500\u2500\u2500\u2500\u2500\u2500\u2500\u2500\u2500\u2500\n",
        "\u22c5log(2)                                                                       \n",
        "\n",
        "                           1.5                2              2  2\u239e\u239e\u239e\n",
        "129\u22c5Q_{FoV}\u22c5\\lambda_{max}\u22c5w      14.44\u22c5Q_{FoV} \u22c5\\lambda_{max} \u22c5w \u239f\u239f\u239f\n",
        "\u2500\u2500\u2500\u2500\u2500\u2500\u2500\u2500\u2500\u2500\u2500\u2500\u2500\u2500\u2500\u2500\u2500\u2500\u2500\u2500\u2500\u2500\u2500\u2500\u2500\u2500\u2500\u2500\u2500\u2500 + \u2500\u2500\u2500\u2500\u2500\u2500\u2500\u2500\u2500\u2500\u2500\u2500\u2500\u2500\u2500\u2500\u2500\u2500\u2500\u2500\u2500\u2500\u2500\u2500\u2500\u2500\u2500\u2500\u2500\u2500\u2500\u2500\u239f\u239f\u239f\n",
        " \u03c0\u22c5D_s\u22c5\\epsilon_w                             2    2             \u239f\u239f\u239f\n",
        "                                             \u03c0 \u22c5D_s              \u23a0\u239f\u239f\n",
        "\u2500\u2500\u2500\u2500\u2500\u2500\u2500\u2500\u2500\u2500\u2500\u2500\u2500\u2500\u2500\u2500\u2500\u2500\u2500\u2500\u2500\u2500\u2500\u2500\u2500\u2500\u2500\u2500\u2500\u2500\u2500\u2500\u2500\u2500\u2500\u2500\u2500\u2500\u2500\u2500\u2500\u2500\u2500\u2500\u2500\u2500\u2500\u2500\u2500\u2500\u2500\u2500\u2500\u2500\u2500\u2500\u2500\u2500\u2500\u2500\u2500\u2500\u2500\u2500\u2500\u2500\u239f\u239f\n",
        "        2    2                                                    \u239f\u239f\n",
        "       \u03c0 \u22c5D_s                                                     \u23a0\u23a0\n",
        "                                                                    \n",
        "\u2500\u2500\u2500\u2500\u2500\u2500\u2500\u2500\u2500\u2500\u2500\u2500\u2500\u2500\u2500\u2500\u2500\u2500\u2500\u2500\u2500\u2500\u2500\u2500\u2500\u2500\u2500\u2500\u2500\u2500\u2500\u2500\u2500\u2500\u2500\u2500\u2500\u2500\u2500\u2500\u2500\u2500\u2500\u2500\u2500\u2500\u2500\u2500\u2500\u2500\u2500\u2500\u2500\u2500\u2500\u2500\u2500\u2500\u2500\u2500\u2500\u2500\u2500\u2500\u2500\u2500\u2500\u2500\n",
        "                                                                    "
       ]
      }
     ],
     "prompt_number": 17
    },
    {
     "cell_type": "markdown",
     "metadata": {},
     "source": [
      "The optimum snapshot duration is found by minimizing the FLOP count $R_{FLOP}$ with respect to $T_{snap}$ subject to the constraint that $T_{snap} > T_{snap,min}$."
     ]
    },
    {
     "cell_type": "markdown",
     "metadata": {},
     "source": [
      "A general caveat about these FLOP estimates should be noted: Even with highly optimized code it can be expected that SKA1 compute will execute at well below the peak FLOP throughput. The limiting factor for some steps of SKA1 compute is better described by memory access bandwidth than FLOP count and initial work to capture this is described below. The FLOP numbers derived in this way should not be over-interpreted."
     ]
    },
    {
     "cell_type": "markdown",
     "metadata": {},
     "source": [
      "The total rate is, then, again:"
     ]
    },
    {
     "cell_type": "code",
     "collapsed": false,
     "input": [
      "Rflop = 2*Nmajor*Nbeam*Nf*(Rgrid+Rfft+Rrp+Rccf)\n",
      "Rflop"
     ],
     "language": "python",
     "metadata": {},
     "outputs": [
      {
       "latex": [
        "$$2 N_{f} N_{{beam}} N_{{major}} \\left(\\frac{513.422222222222 B_{{max}}^{2} Q_{{FoV}}^{2} Q_{{pix}}^{2} \\lambda_{{max}}^{2} \\mathrm{Ops} \\log{\\left (\\frac{102.684444444444 B_{{max}}^{2} Q_{{FoV}}^{2} Q_{{pix}}^{2} \\lambda_{{max}}^{2}}{\\pi^{2} D_{s}^{2} \\lambda_{{min}}^{2}} \\right )}}{\\pi^{2} D_{s}^{2} T_{{snap}} \\lambda_{{min}}^{2} \\log{\\left (2 \\right )}} + \\frac{5134.22222222222 B_{{max}}^{2} Q_{{FoV}}^{2} Q_{{pix}}^{2} \\lambda_{{max}}^{2} \\mathrm{Ops}}{\\pi^{2} D_{s}^{2} T_{{snap}} \\lambda_{{min}}^{2}} + \\frac{5 N_{a} N_{{mm}} Q_{{GCF}}^{2} \\mathrm{Ops}}{2 Q_{{fcv}} T_{{ion}} \\log{\\left (2 \\right )}} \\left(N_{a} - 1\\right) \\left(N_{{AA}}^{2} + \\frac{231.04 Q_{{FoV}}^{2} \\lambda_{{max}}^{2}}{\\pi^{2} D_{s}^{2}} \\left(\\frac{1.2258064516129 Q_{{FoV}} \\lambda_{{max}} w^{1.5}}{\\pi D_{s} \\epsilon_{w}} + \\frac{14.44 Q_{{FoV}}^{2} \\lambda_{{max}}^{2} w^{2}}{\\pi^{2} D_{s}^{2}}\\right)\\right) \\log{\\left (Q_{{GCF}}^{2} \\left(N_{{AA}}^{2} + \\frac{231.04 Q_{{FoV}}^{2} \\lambda_{{max}}^{2}}{\\pi^{2} D_{s}^{2}} \\left(\\frac{1.2258064516129 Q_{{FoV}} \\lambda_{{max}} w^{1.5}}{\\pi D_{s} \\epsilon_{w}} + \\frac{14.44 Q_{{FoV}}^{2} \\lambda_{{max}}^{2} w^{2}}{\\pi^{2} D_{s}^{2}}\\right)\\right) \\right )} + \\frac{4 \\mathrm{Ops}}{T_{{dump}}} N_{a} N_{{mm}} \\left(N_{a} - 1\\right) \\left(N_{{AA}}^{2} + \\frac{231.04 Q_{{FoV}}^{2} \\lambda_{{max}}^{2}}{\\pi^{2} D_{s}^{2}} \\left(\\frac{1.2258064516129 Q_{{FoV}} \\lambda_{{max}} w^{1.5}}{\\pi D_{s} \\epsilon_{w}} + \\frac{14.44 Q_{{FoV}}^{2} \\lambda_{{max}}^{2} w^{2}}{\\pi^{2} D_{s}^{2}}\\right)\\right)\\right)$$"
       ],
       "metadata": {},
       "output_type": "pyout",
       "png": "[encoded data removed]",
       "prompt_number": 18,
       "text": [
        "                         \u239b                                                    \n",
        "                         \u239c                                                    \n",
        "                         \u239c                                                    \n",
        "                         \u239c                                                    \n",
        "                         \u239c                                                    \n",
        "                         \u239c                        2        2        2         \n",
        "                         \u239c513.422222222222\u22c5B_{max} \u22c5Q_{FoV} \u22c5Q_{pix} \u22c5\\lambda_\n",
        "                         \u239c                                                    \n",
        "                         \u239c                                                    \n",
        "2\u22c5N_f\u22c5N_{beam}\u22c5N_{major}\u22c5\u239c\u2500\u2500\u2500\u2500\u2500\u2500\u2500\u2500\u2500\u2500\u2500\u2500\u2500\u2500\u2500\u2500\u2500\u2500\u2500\u2500\u2500\u2500\u2500\u2500\u2500\u2500\u2500\u2500\u2500\u2500\u2500\u2500\u2500\u2500\u2500\u2500\u2500\u2500\u2500\u2500\u2500\u2500\u2500\u2500\u2500\u2500\u2500\u2500\u2500\u2500\u2500\u2500\n",
        "                         \u239c                                                  2 \n",
        "                         \u239d                                                 \u03c0 \u22c5\n",
        "\n",
        "                                                                              \n",
        "                                                                              \n",
        "                                                                              \n",
        "                                                                              \n",
        "                       \u239b                        2        2        2           \n",
        "     2                 \u239c102.684444444444\u22c5B_{max} \u22c5Q_{FoV} \u22c5Q_{pix} \u22c5\\lambda_{m\n",
        "{max} \u22c5\\mathrm{Ops}\u22c5log\u239c\u2500\u2500\u2500\u2500\u2500\u2500\u2500\u2500\u2500\u2500\u2500\u2500\u2500\u2500\u2500\u2500\u2500\u2500\u2500\u2500\u2500\u2500\u2500\u2500\u2500\u2500\u2500\u2500\u2500\u2500\u2500\u2500\u2500\u2500\u2500\u2500\u2500\u2500\u2500\u2500\u2500\u2500\u2500\u2500\u2500\u2500\u2500\u2500\u2500\u2500\u2500\u2500\u2500\u2500\n",
        "                       \u239c                   2    2              2              \n",
        "                       \u239d                  \u03c0 \u22c5D_s \u22c5\\lambda_{min}               \n",
        "\u2500\u2500\u2500\u2500\u2500\u2500\u2500\u2500\u2500\u2500\u2500\u2500\u2500\u2500\u2500\u2500\u2500\u2500\u2500\u2500\u2500\u2500\u2500\u2500\u2500\u2500\u2500\u2500\u2500\u2500\u2500\u2500\u2500\u2500\u2500\u2500\u2500\u2500\u2500\u2500\u2500\u2500\u2500\u2500\u2500\u2500\u2500\u2500\u2500\u2500\u2500\u2500\u2500\u2500\u2500\u2500\u2500\u2500\u2500\u2500\u2500\u2500\u2500\u2500\u2500\u2500\u2500\u2500\u2500\u2500\u2500\u2500\u2500\u2500\u2500\u2500\u2500\u2500\n",
        "   2                       2                                                  \n",
        "D_s \u22c5T_{snap}\u22c5\\lambda_{min} \u22c5log(2)                                           \n",
        "\n",
        "                                                                              \n",
        "                                                                              \n",
        "                                                                              \n",
        "                                                                              \n",
        "   2\u239e                                                                         \n",
        "ax} \u239f                                                                         \n",
        "\u2500\u2500\u2500\u2500\u239f                                                                         \n",
        "    \u239f                           2        2        2              2            \n",
        "    \u23a0   5134.22222222222\u22c5B_{max} \u22c5Q_{FoV} \u22c5Q_{pix} \u22c5\\lambda_{max} \u22c5\\mathrm{Ops\n",
        "\u2500\u2500\u2500\u2500\u2500 + \u2500\u2500\u2500\u2500\u2500\u2500\u2500\u2500\u2500\u2500\u2500\u2500\u2500\u2500\u2500\u2500\u2500\u2500\u2500\u2500\u2500\u2500\u2500\u2500\u2500\u2500\u2500\u2500\u2500\u2500\u2500\u2500\u2500\u2500\u2500\u2500\u2500\u2500\u2500\u2500\u2500\u2500\u2500\u2500\u2500\u2500\u2500\u2500\u2500\u2500\u2500\u2500\u2500\u2500\u2500\u2500\u2500\u2500\u2500\u2500\u2500\u2500\u2500\u2500\u2500\u2500\u2500\u2500\u2500\u2500\n",
        "                             2    2                       2                   \n",
        "                            \u03c0 \u22c5D_s \u22c5T_{snap}\u22c5\\lambda_{min}                    \n",
        "\n",
        "                                               \u239b                              \n",
        "                                               \u239c                        2     \n",
        "                                               \u239c          231.04\u22c5Q_{FoV} \u22c5\\lam\n",
        "                                               \u239c                              \n",
        "                       2                       \u239c      2                       \n",
        "    5\u22c5N\u2090\u22c5N_{mm}\u22c5Q_{GCF} \u22c5\\mathrm{Ops}\u22c5(N\u2090 - 1)\u22c5\u239cN_{AA}  + \u2500\u2500\u2500\u2500\u2500\u2500\u2500\u2500\u2500\u2500\u2500\u2500\u2500\u2500\u2500\u2500\u2500\u2500\u2500\u2500\n",
        "                                               \u239c                              \n",
        "                                               \u239d                              \n",
        "}                                                                             \n",
        "\u2500 + \u2500\u2500\u2500\u2500\u2500\u2500\u2500\u2500\u2500\u2500\u2500\u2500\u2500\u2500\u2500\u2500\u2500\u2500\u2500\u2500\u2500\u2500\u2500\u2500\u2500\u2500\u2500\u2500\u2500\u2500\u2500\u2500\u2500\u2500\u2500\u2500\u2500\u2500\u2500\u2500\u2500\u2500\u2500\u2500\u2500\u2500\u2500\u2500\u2500\u2500\u2500\u2500\u2500\u2500\u2500\u2500\u2500\u2500\u2500\u2500\u2500\u2500\u2500\u2500\u2500\u2500\u2500\u2500\u2500\u2500\u2500\u2500\u2500\u2500\n",
        "                                                                              \n",
        "                                                                              \n",
        "\n",
        "           \u239b                                       1.5                2       \n",
        "         2 \u239c1.2258064516129\u22c5Q_{FoV}\u22c5\\lambda_{max}\u22c5w      14.44\u22c5Q_{FoV} \u22c5\\lambd\n",
        "bda_{max} \u22c5\u239c\u2500\u2500\u2500\u2500\u2500\u2500\u2500\u2500\u2500\u2500\u2500\u2500\u2500\u2500\u2500\u2500\u2500\u2500\u2500\u2500\u2500\u2500\u2500\u2500\u2500\u2500\u2500\u2500\u2500\u2500\u2500\u2500\u2500\u2500\u2500\u2500\u2500\u2500\u2500\u2500\u2500\u2500 + \u2500\u2500\u2500\u2500\u2500\u2500\u2500\u2500\u2500\u2500\u2500\u2500\u2500\u2500\u2500\u2500\u2500\u2500\u2500\u2500\u2500\n",
        "           \u239c             \u03c0\u22c5D_s\u22c5\\epsilon_w                             2    2  \n",
        "           \u239d                                                         \u03c0 \u22c5D_s   \n",
        "\u2500\u2500\u2500\u2500\u2500\u2500\u2500\u2500\u2500\u2500\u2500\u2500\u2500\u2500\u2500\u2500\u2500\u2500\u2500\u2500\u2500\u2500\u2500\u2500\u2500\u2500\u2500\u2500\u2500\u2500\u2500\u2500\u2500\u2500\u2500\u2500\u2500\u2500\u2500\u2500\u2500\u2500\u2500\u2500\u2500\u2500\u2500\u2500\u2500\u2500\u2500\u2500\u2500\u2500\u2500\u2500\u2500\u2500\u2500\u2500\u2500\u2500\u2500\u2500\u2500\u2500\u2500\u2500\u2500\u2500\u2500\u2500\u2500\u2500\u2500\u2500\u2500\u2500\n",
        "                                2    2                                        \n",
        "                               \u03c0 \u22c5D_s                                         \n",
        "                                                                              \n",
        "\u2500\u2500\u2500\u2500\u2500\u2500\u2500\u2500\u2500\u2500\u2500\u2500\u2500\u2500\u2500\u2500\u2500\u2500\u2500\u2500\u2500\u2500\u2500\u2500\u2500\u2500\u2500\u2500\u2500\u2500\u2500\u2500\u2500\u2500\u2500\u2500\u2500\u2500\u2500\u2500\u2500\u2500\u2500\u2500\u2500\u2500\u2500\u2500\u2500\u2500\u2500\u2500\u2500\u2500\u2500\u2500\u2500\u2500\u2500\u2500\u2500\u2500\u2500\u2500\u2500\u2500\u2500\u2500\u2500\u2500\u2500\u2500\u2500\u2500\u2500\u2500\u2500\u2500\n",
        "                                                                 2\u22c5Q_{fcv}\u22c5T_{\n",
        "                                                                              \n",
        "\n",
        "       2  2\u239e\u239e    \u239b         \u239b                                         \u239b        \n",
        "a_{max} \u22c5w \u239f\u239f    \u239c         \u239c                        2              2 \u239c1.225806\n",
        "\u2500\u2500\u2500\u2500\u2500\u2500\u2500\u2500\u2500\u2500\u2500\u239f\u239f    \u239c         \u239c          231.04\u22c5Q_{FoV} \u22c5\\lambda_{max} \u22c5\u239c\u2500\u2500\u2500\u2500\u2500\u2500\u2500\u2500\n",
        "           \u239f\u239f    \u239c         \u239c                                         \u239c        \n",
        "           \u23a0\u239f    \u239c       2 \u239c      2                                  \u239d        \n",
        "\u2500\u2500\u2500\u2500\u2500\u2500\u2500\u2500\u2500\u2500\u2500\u2500\u239f\u22c5   \u239cQ_{GCF} \u22c5\u239cN_{AA}  + \u2500\u2500\u2500\u2500\u2500\u2500\u2500\u2500\u2500\u2500\u2500\u2500\u2500\u2500\u2500\u2500\u2500\u2500\u2500\u2500\u2500\u2500\u2500\u2500\u2500\u2500\u2500\u2500\u2500\u2500\u2500\u2500\u2500\u2500\u2500\u2500\u2500\u2500\u2500\u2500\n",
        "            \u239f    \u239c         \u239c                                                  \n",
        "            \u23a0    \u239d         \u239d                                                  \n",
        "              log                                                             \n",
        "\u2500\u2500\u2500\u2500\u2500\u2500\u2500\u2500\u2500\u2500\u2500\u2500\u2500\u2500\u2500\u2500\u2500\u2500\u2500\u2500\u2500\u2500\u2500\u2500\u2500\u2500\u2500\u2500\u2500\u2500\u2500\u2500\u2500\u2500\u2500\u2500\u2500\u2500\u2500\u2500\u2500\u2500\u2500\u2500\u2500\u2500\u2500\u2500\u2500\u2500\u2500\u2500\u2500\u2500\u2500\u2500\u2500\u2500\u2500\u2500\u2500\u2500\u2500\u2500\u2500\u2500\u2500\u2500\u2500\u2500\u2500\u2500\u2500\u2500\u2500\u2500\u2500\u2500\n",
        "ion}\u22c5log(2)                                                                   \n",
        "                                                                              \n",
        "\n",
        "                               1.5                2              2  2\u239e\u239e\u239e      \n",
        "4516129\u22c5Q_{FoV}\u22c5\\lambda_{max}\u22c5w      14.44\u22c5Q_{FoV} \u22c5\\lambda_{max} \u22c5w \u239f\u239f\u239f      \n",
        "\u2500\u2500\u2500\u2500\u2500\u2500\u2500\u2500\u2500\u2500\u2500\u2500\u2500\u2500\u2500\u2500\u2500\u2500\u2500\u2500\u2500\u2500\u2500\u2500\u2500\u2500\u2500\u2500\u2500\u2500\u2500\u2500\u2500\u2500 + \u2500\u2500\u2500\u2500\u2500\u2500\u2500\u2500\u2500\u2500\u2500\u2500\u2500\u2500\u2500\u2500\u2500\u2500\u2500\u2500\u2500\u2500\u2500\u2500\u2500\u2500\u2500\u2500\u2500\u2500\u2500\u2500\u239f\u239f\u239f      \n",
        "     \u03c0\u22c5D_s\u22c5\\epsilon_w                             2    2             \u239f\u239f\u239f      \n",
        "                                                 \u03c0 \u22c5D_s              \u23a0\u239f\u239f      \n",
        "\u2500\u2500\u2500\u2500\u2500\u2500\u2500\u2500\u2500\u2500\u2500\u2500\u2500\u2500\u2500\u2500\u2500\u2500\u2500\u2500\u2500\u2500\u2500\u2500\u2500\u2500\u2500\u2500\u2500\u2500\u2500\u2500\u2500\u2500\u2500\u2500\u2500\u2500\u2500\u2500\u2500\u2500\u2500\u2500\u2500\u2500\u2500\u2500\u2500\u2500\u2500\u2500\u2500\u2500\u2500\u2500\u2500\u2500\u2500\u2500\u2500\u2500\u2500\u2500\u2500\u2500\u2500\u2500\u2500\u2500\u239f\u239f      \n",
        "            2    2                                                    \u239f\u239f   4\u22c5N\n",
        "           \u03c0 \u22c5D_s                                                     \u23a0\u23a0      \n",
        "                                                                              \n",
        "\u2500\u2500\u2500\u2500\u2500\u2500\u2500\u2500\u2500\u2500\u2500\u2500\u2500\u2500\u2500\u2500\u2500\u2500\u2500\u2500\u2500\u2500\u2500\u2500\u2500\u2500\u2500\u2500\u2500\u2500\u2500\u2500\u2500\u2500\u2500\u2500\u2500\u2500\u2500\u2500\u2500\u2500\u2500\u2500\u2500\u2500\u2500\u2500\u2500\u2500\u2500\u2500\u2500\u2500\u2500\u2500\u2500\u2500\u2500\u2500\u2500\u2500\u2500\u2500\u2500\u2500\u2500\u2500\u2500\u2500\u2500\u2500 + \u2500\u2500\u2500\n",
        "                                                                              \n",
        "                                                                              \n",
        "\n",
        "                                                                              \n",
        "                               \u239b                                         \u239b    \n",
        "                               \u239c                        2              2 \u239c1.22\n",
        "                               \u239c          231.04\u22c5Q_{FoV} \u22c5\\lambda_{max} \u22c5\u239c\u2500\u2500\u2500\u2500\n",
        "                               \u239c                                         \u239c    \n",
        "                               \u239c      2                                  \u239d    \n",
        "\u2090\u22c5N_{mm}\u22c5\\mathrm{Ops}\u22c5(N\u2090 - 1)\u22c5\u239cN_{AA}  + \u2500\u2500\u2500\u2500\u2500\u2500\u2500\u2500\u2500\u2500\u2500\u2500\u2500\u2500\u2500\u2500\u2500\u2500\u2500\u2500\u2500\u2500\u2500\u2500\u2500\u2500\u2500\u2500\u2500\u2500\u2500\u2500\u2500\u2500\u2500\u2500\n",
        "                               \u239c                                              \n",
        "                               \u239d                                              \n",
        "\u2500\u2500\u2500\u2500\u2500\u2500\u2500\u2500\u2500\u2500\u2500\u2500\u2500\u2500\u2500\u2500\u2500\u2500\u2500\u2500\u2500\u2500\u2500\u2500\u2500\u2500\u2500\u2500\u2500\u2500\u2500\u2500\u2500\u2500\u2500\u2500\u2500\u2500\u2500\u2500\u2500\u2500\u2500\u2500\u2500\u2500\u2500\u2500\u2500\u2500\u2500\u2500\u2500\u2500\u2500\u2500\u2500\u2500\u2500\u2500\u2500\u2500\u2500\u2500\u2500\u2500\u2500\u2500\u2500\u2500\u2500\u2500\u2500\u2500\u2500\u2500\u2500\u2500\n",
        "                                                                       T_{dump\n",
        "                                                                              \n",
        "\n",
        "                                                                           \u239e\n",
        "                                   1.5                2              2  2\u239e\u239e\u239f\n",
        "58064516129\u22c5Q_{FoV}\u22c5\\lambda_{max}\u22c5w      14.44\u22c5Q_{FoV} \u22c5\\lambda_{max} \u22c5w \u239f\u239f\u239f\n",
        "\u2500\u2500\u2500\u2500\u2500\u2500\u2500\u2500\u2500\u2500\u2500\u2500\u2500\u2500\u2500\u2500\u2500\u2500\u2500\u2500\u2500\u2500\u2500\u2500\u2500\u2500\u2500\u2500\u2500\u2500\u2500\u2500\u2500\u2500\u2500\u2500\u2500\u2500 + \u2500\u2500\u2500\u2500\u2500\u2500\u2500\u2500\u2500\u2500\u2500\u2500\u2500\u2500\u2500\u2500\u2500\u2500\u2500\u2500\u2500\u2500\u2500\u2500\u2500\u2500\u2500\u2500\u2500\u2500\u2500\u2500\u239f\u239f\u239f\n",
        "         \u03c0\u22c5D_s\u22c5\\epsilon_w                             2    2             \u239f\u239f\u239f\n",
        "                                                     \u03c0 \u22c5D_s              \u23a0\u239f\u239f\n",
        "\u2500\u2500\u2500\u2500\u2500\u2500\u2500\u2500\u2500\u2500\u2500\u2500\u2500\u2500\u2500\u2500\u2500\u2500\u2500\u2500\u2500\u2500\u2500\u2500\u2500\u2500\u2500\u2500\u2500\u2500\u2500\u2500\u2500\u2500\u2500\u2500\u2500\u2500\u2500\u2500\u2500\u2500\u2500\u2500\u2500\u2500\u2500\u2500\u2500\u2500\u2500\u2500\u2500\u2500\u2500\u2500\u2500\u2500\u2500\u2500\u2500\u2500\u2500\u2500\u2500\u2500\u2500\u2500\u2500\u2500\u2500\u2500\u2500\u2500\u239f\u239f\n",
        "                2    2                                                    \u239f\u239f\n",
        "               \u03c0 \u22c5D_s                                                     \u23a0\u239f\n",
        "\u2500\u2500\u2500\u2500\u2500\u2500\u2500\u2500\u2500\u2500\u2500\u2500\u2500\u2500\u2500\u2500\u2500\u2500\u2500\u2500\u2500\u2500\u2500\u2500\u2500\u2500\u2500\u2500\u2500\u2500\u2500\u2500\u2500\u2500\u2500\u2500\u2500\u2500\u2500\u2500\u2500\u2500\u2500\u2500\u2500\u2500\u2500\u2500\u2500\u2500\u2500\u2500\u2500\u2500\u2500\u2500\u2500\u2500\u2500\u2500\u2500\u2500\u2500\u2500\u2500\u2500\u2500\u2500\u2500\u2500\u2500\u2500\u2500\u2500\u2500\u239f\n",
        "}                                                                          \u239f\n",
        "                                                                           \u23a0"
       ]
      }
     ],
     "prompt_number": 18
    },
    {
     "cell_type": "heading",
     "level": 2,
     "metadata": {},
     "source": [
      "12.6 Floating Point Operations Requirement for Fast Imaging"
     ]
    },
    {
     "cell_type": "markdown",
     "metadata": {},
     "source": [
      "The floating point operations requirement for fast imaging is different because the transformation to the sky plane must be done at each correlator dump time. The expression for the FFT rate is then:"
     ]
    },
    {
     "cell_type": "markdown",
     "metadata": {},
     "source": [
      "$$R_{FFT}^{fast} = N_{f,out} \\frac{N_{pix}^2 \\log_2 (N_{pix}^2)}{T_{dump}} \\, 5 \\, \\mathrm{Ops}$$"
     ]
    },
    {
     "cell_type": "markdown",
     "metadata": {},
     "source": [
      "Since snapshot do not need to be combined for fast imaging the re-projection step is not expected to be necessary (this in contrast to [RD7] where re-projection is included) giving the expression for the FLOP required to be:"
     ]
    },
    {
     "cell_type": "markdown",
     "metadata": {},
     "source": [
      "$$R_{FLOP}^{fast} = 2 \\times N_{pp} N_{beam} \\times (R_{grid} + R_{FFT}^{fast} + R_{CCF})$$"
     ]
    },
    {
     "cell_type": "markdown",
     "metadata": {},
     "source": [
      "Here the factor of 2 accounts for both the forward step to subtract the current sky model and the back step to estimate the residual sky."
     ]
    },
    {
     "cell_type": "heading",
     "level": 2,
     "metadata": {},
     "source": [
      "12.7 Working Memory Bandwidth Requirement"
     ]
    },
    {
     "cell_type": "markdown",
     "metadata": {},
     "source": [
      "In the current model we calculate the working memory bandwidth requirement to be simply a factor \ud835\udc39ci times the floating point operations requirement, i.e., we assume a single average computational intensity for all operations. The expression is therefore:"
     ]
    },
    {
     "cell_type": "markdown",
     "metadata": {},
     "source": [
      "$$R_{bw} = F_{ci} R_{FLOP}$$"
     ]
    },
    {
     "cell_type": "code",
     "collapsed": false,
     "input": [
      "Rbw, Fci = symbols(\"R_{bw} F_{ci}\", positive=True, real=True)\n",
      "Rbw = Fci*Rflop\n",
      "Rbw"
     ],
     "language": "python",
     "metadata": {},
     "outputs": [
      {
       "latex": [
        "$$2 F_{{ci}} N_{f} N_{{beam}} N_{{major}} \\left(\\frac{513.422222222222 B_{{max}}^{2} Q_{{FoV}}^{2} Q_{{pix}}^{2} \\lambda_{{max}}^{2} \\mathrm{Ops} \\log{\\left (\\frac{102.684444444444 B_{{max}}^{2} Q_{{FoV}}^{2} Q_{{pix}}^{2} \\lambda_{{max}}^{2}}{\\pi^{2} D_{s}^{2} \\lambda_{{min}}^{2}} \\right )}}{\\pi^{2} D_{s}^{2} T_{{snap}} \\lambda_{{min}}^{2} \\log{\\left (2 \\right )}} + \\frac{5134.22222222222 B_{{max}}^{2} Q_{{FoV}}^{2} Q_{{pix}}^{2} \\lambda_{{max}}^{2} \\mathrm{Ops}}{\\pi^{2} D_{s}^{2} T_{{snap}} \\lambda_{{min}}^{2}} + \\frac{5 N_{a} N_{{mm}} Q_{{GCF}}^{2} \\mathrm{Ops}}{2 Q_{{fcv}} T_{{ion}} \\log{\\left (2 \\right )}} \\left(N_{a} - 1\\right) \\left(N_{{AA}}^{2} + \\frac{231.04 Q_{{FoV}}^{2} \\lambda_{{max}}^{2}}{\\pi^{2} D_{s}^{2}} \\left(\\frac{1.2258064516129 Q_{{FoV}} \\lambda_{{max}} w^{1.5}}{\\pi D_{s} \\epsilon_{w}} + \\frac{14.44 Q_{{FoV}}^{2} \\lambda_{{max}}^{2} w^{2}}{\\pi^{2} D_{s}^{2}}\\right)\\right) \\log{\\left (Q_{{GCF}}^{2} \\left(N_{{AA}}^{2} + \\frac{231.04 Q_{{FoV}}^{2} \\lambda_{{max}}^{2}}{\\pi^{2} D_{s}^{2}} \\left(\\frac{1.2258064516129 Q_{{FoV}} \\lambda_{{max}} w^{1.5}}{\\pi D_{s} \\epsilon_{w}} + \\frac{14.44 Q_{{FoV}}^{2} \\lambda_{{max}}^{2} w^{2}}{\\pi^{2} D_{s}^{2}}\\right)\\right) \\right )} + \\frac{4 \\mathrm{Ops}}{T_{{dump}}} N_{a} N_{{mm}} \\left(N_{a} - 1\\right) \\left(N_{{AA}}^{2} + \\frac{231.04 Q_{{FoV}}^{2} \\lambda_{{max}}^{2}}{\\pi^{2} D_{s}^{2}} \\left(\\frac{1.2258064516129 Q_{{FoV}} \\lambda_{{max}} w^{1.5}}{\\pi D_{s} \\epsilon_{w}} + \\frac{14.44 Q_{{FoV}}^{2} \\lambda_{{max}}^{2} w^{2}}{\\pi^{2} D_{s}^{2}}\\right)\\right)\\right)$$"
       ],
       "metadata": {},
       "output_type": "pyout",
       "png": "[encoded data removed]",
       "prompt_number": 19,
       "text": [
        "                                \u239b                                             \n",
        "                                \u239c                                             \n",
        "                                \u239c                                             \n",
        "                                \u239c                                             \n",
        "                                \u239c                                             \n",
        "                                \u239c                        2        2        2  \n",
        "                                \u239c513.422222222222\u22c5B_{max} \u22c5Q_{FoV} \u22c5Q_{pix} \u22c5\\\n",
        "                                \u239c                                             \n",
        "                                \u239c                                             \n",
        "2\u22c5F_{ci}\u22c5N_f\u22c5N_{beam}\u22c5N_{major}\u22c5\u239c\u2500\u2500\u2500\u2500\u2500\u2500\u2500\u2500\u2500\u2500\u2500\u2500\u2500\u2500\u2500\u2500\u2500\u2500\u2500\u2500\u2500\u2500\u2500\u2500\u2500\u2500\u2500\u2500\u2500\u2500\u2500\u2500\u2500\u2500\u2500\u2500\u2500\u2500\u2500\u2500\u2500\u2500\u2500\u2500\u2500\n",
        "                                \u239c                                             \n",
        "                                \u239d                                             \n",
        "\n",
        "                                                                              \n",
        "                                                                              \n",
        "                                                                              \n",
        "                                                                              \n",
        "                              \u239b                        2        2        2    \n",
        "            2                 \u239c102.684444444444\u22c5B_{max} \u22c5Q_{FoV} \u22c5Q_{pix} \u22c5\\la\n",
        "lambda_{max} \u22c5\\mathrm{Ops}\u22c5log\u239c\u2500\u2500\u2500\u2500\u2500\u2500\u2500\u2500\u2500\u2500\u2500\u2500\u2500\u2500\u2500\u2500\u2500\u2500\u2500\u2500\u2500\u2500\u2500\u2500\u2500\u2500\u2500\u2500\u2500\u2500\u2500\u2500\u2500\u2500\u2500\u2500\u2500\u2500\u2500\u2500\u2500\u2500\u2500\u2500\u2500\u2500\u2500\n",
        "                              \u239c                   2    2              2       \n",
        "                              \u239d                  \u03c0 \u22c5D_s \u22c5\\lambda_{min}        \n",
        "\u2500\u2500\u2500\u2500\u2500\u2500\u2500\u2500\u2500\u2500\u2500\u2500\u2500\u2500\u2500\u2500\u2500\u2500\u2500\u2500\u2500\u2500\u2500\u2500\u2500\u2500\u2500\u2500\u2500\u2500\u2500\u2500\u2500\u2500\u2500\u2500\u2500\u2500\u2500\u2500\u2500\u2500\u2500\u2500\u2500\u2500\u2500\u2500\u2500\u2500\u2500\u2500\u2500\u2500\u2500\u2500\u2500\u2500\u2500\u2500\u2500\u2500\u2500\u2500\u2500\u2500\u2500\u2500\u2500\u2500\u2500\u2500\u2500\u2500\u2500\u2500\u2500\u2500\n",
        "     2    2                       2                                           \n",
        "    \u03c0 \u22c5D_s \u22c5T_{snap}\u22c5\\lambda_{min} \u22c5log(2)                                    \n",
        "\n",
        "                                                                              \n",
        "                                                                              \n",
        "                                                                              \n",
        "                                                                              \n",
        "          2\u239e                                                                  \n",
        "mbda_{max} \u239f                                                                  \n",
        "\u2500\u2500\u2500\u2500\u2500\u2500\u2500\u2500\u2500\u2500\u2500\u239f                                                                  \n",
        "           \u239f                           2        2        2              2     \n",
        "           \u23a0   5134.22222222222\u22c5B_{max} \u22c5Q_{FoV} \u22c5Q_{pix} \u22c5\\lambda_{max} \u22c5\\mat\n",
        "\u2500\u2500\u2500\u2500\u2500\u2500\u2500\u2500\u2500\u2500\u2500\u2500 + \u2500\u2500\u2500\u2500\u2500\u2500\u2500\u2500\u2500\u2500\u2500\u2500\u2500\u2500\u2500\u2500\u2500\u2500\u2500\u2500\u2500\u2500\u2500\u2500\u2500\u2500\u2500\u2500\u2500\u2500\u2500\u2500\u2500\u2500\u2500\u2500\u2500\u2500\u2500\u2500\u2500\u2500\u2500\u2500\u2500\u2500\u2500\u2500\u2500\u2500\u2500\u2500\u2500\u2500\u2500\u2500\u2500\u2500\u2500\u2500\u2500\u2500\u2500\n",
        "                                    2    2                       2            \n",
        "                                   \u03c0 \u22c5D_s \u22c5T_{snap}\u22c5\\lambda_{min}             \n",
        "\n",
        "                                                      \u239b                       \n",
        "                                                      \u239c                       \n",
        "                                                      \u239c          231.04\u22c5Q_{FoV\n",
        "                                                      \u239c                       \n",
        "                              2                       \u239c      2                \n",
        "           5\u22c5N\u2090\u22c5N_{mm}\u22c5Q_{GCF} \u22c5\\mathrm{Ops}\u22c5(N\u2090 - 1)\u22c5\u239cN_{AA}  + \u2500\u2500\u2500\u2500\u2500\u2500\u2500\u2500\u2500\u2500\u2500\u2500\u2500\n",
        "                                                      \u239c                       \n",
        "                                                      \u239d                       \n",
        "hrm{Ops}                                                                      \n",
        "\u2500\u2500\u2500\u2500\u2500\u2500\u2500\u2500 + \u2500\u2500\u2500\u2500\u2500\u2500\u2500\u2500\u2500\u2500\u2500\u2500\u2500\u2500\u2500\u2500\u2500\u2500\u2500\u2500\u2500\u2500\u2500\u2500\u2500\u2500\u2500\u2500\u2500\u2500\u2500\u2500\u2500\u2500\u2500\u2500\u2500\u2500\u2500\u2500\u2500\u2500\u2500\u2500\u2500\u2500\u2500\u2500\u2500\u2500\u2500\u2500\u2500\u2500\u2500\u2500\u2500\u2500\u2500\u2500\u2500\u2500\u2500\u2500\u2500\u2500\u2500\n",
        "                                                                              \n",
        "                                                                              \n",
        "\n",
        "                  \u239b                                       1.5                2\n",
        " 2              2 \u239c1.2258064516129\u22c5Q_{FoV}\u22c5\\lambda_{max}\u22c5w      14.44\u22c5Q_{FoV} \n",
        "} \u22c5\\lambda_{max} \u22c5\u239c\u2500\u2500\u2500\u2500\u2500\u2500\u2500\u2500\u2500\u2500\u2500\u2500\u2500\u2500\u2500\u2500\u2500\u2500\u2500\u2500\u2500\u2500\u2500\u2500\u2500\u2500\u2500\u2500\u2500\u2500\u2500\u2500\u2500\u2500\u2500\u2500\u2500\u2500\u2500\u2500\u2500\u2500 + \u2500\u2500\u2500\u2500\u2500\u2500\u2500\u2500\u2500\u2500\u2500\u2500\u2500\u2500\n",
        "                  \u239c             \u03c0\u22c5D_s\u22c5\\epsilon_w                             2\n",
        "                  \u239d                                                         \u03c0 \n",
        "\u2500\u2500\u2500\u2500\u2500\u2500\u2500\u2500\u2500\u2500\u2500\u2500\u2500\u2500\u2500\u2500\u2500\u2500\u2500\u2500\u2500\u2500\u2500\u2500\u2500\u2500\u2500\u2500\u2500\u2500\u2500\u2500\u2500\u2500\u2500\u2500\u2500\u2500\u2500\u2500\u2500\u2500\u2500\u2500\u2500\u2500\u2500\u2500\u2500\u2500\u2500\u2500\u2500\u2500\u2500\u2500\u2500\u2500\u2500\u2500\u2500\u2500\u2500\u2500\u2500\u2500\u2500\u2500\u2500\u2500\u2500\u2500\u2500\u2500\u2500\u2500\u2500\u2500\n",
        "                                       2    2                                 \n",
        "                                      \u03c0 \u22c5D_s                                  \n",
        "                                                                              \n",
        "\u2500\u2500\u2500\u2500\u2500\u2500\u2500\u2500\u2500\u2500\u2500\u2500\u2500\u2500\u2500\u2500\u2500\u2500\u2500\u2500\u2500\u2500\u2500\u2500\u2500\u2500\u2500\u2500\u2500\u2500\u2500\u2500\u2500\u2500\u2500\u2500\u2500\u2500\u2500\u2500\u2500\u2500\u2500\u2500\u2500\u2500\u2500\u2500\u2500\u2500\u2500\u2500\u2500\u2500\u2500\u2500\u2500\u2500\u2500\u2500\u2500\u2500\u2500\u2500\u2500\u2500\u2500\u2500\u2500\u2500\u2500\u2500\u2500\u2500\u2500\u2500\u2500\u2500\n",
        "                                                                        2\u22c5Q_{f\n",
        "                                                                              \n",
        "\n",
        "              2  2\u239e\u239e    \u239b         \u239b                                         \u239b \n",
        "\u22c5\\lambda_{max} \u22c5w \u239f\u239f    \u239c         \u239c                        2              2 \u239c1\n",
        "\u2500\u2500\u2500\u2500\u2500\u2500\u2500\u2500\u2500\u2500\u2500\u2500\u2500\u2500\u2500\u2500\u2500\u2500\u239f\u239f    \u239c         \u239c          231.04\u22c5Q_{FoV} \u22c5\\lambda_{max} \u22c5\u239c\u2500\n",
        "    2             \u239f\u239f    \u239c         \u239c                                         \u239c \n",
        "\u22c5D_s              \u23a0\u239f    \u239c       2 \u239c      2                                  \u239d \n",
        "\u2500\u2500\u2500\u2500\u2500\u2500\u2500\u2500\u2500\u2500\u2500\u2500\u2500\u2500\u2500\u2500\u2500\u2500\u2500\u239f\u22c5   \u239cQ_{GCF} \u22c5\u239cN_{AA}  + \u2500\u2500\u2500\u2500\u2500\u2500\u2500\u2500\u2500\u2500\u2500\u2500\u2500\u2500\u2500\u2500\u2500\u2500\u2500\u2500\u2500\u2500\u2500\u2500\u2500\u2500\u2500\u2500\u2500\u2500\u2500\u2500\u2500\n",
        "                   \u239f    \u239c         \u239c                                           \n",
        "                   \u23a0    \u239d         \u239d                                           \n",
        "                     log                                                      \n",
        "\u2500\u2500\u2500\u2500\u2500\u2500\u2500\u2500\u2500\u2500\u2500\u2500\u2500\u2500\u2500\u2500\u2500\u2500\u2500\u2500\u2500\u2500\u2500\u2500\u2500\u2500\u2500\u2500\u2500\u2500\u2500\u2500\u2500\u2500\u2500\u2500\u2500\u2500\u2500\u2500\u2500\u2500\u2500\u2500\u2500\u2500\u2500\u2500\u2500\u2500\u2500\u2500\u2500\u2500\u2500\u2500\u2500\u2500\u2500\u2500\u2500\u2500\u2500\u2500\u2500\u2500\u2500\u2500\u2500\u2500\u2500\u2500\u2500\u2500\u2500\u2500\u2500\u2500\n",
        "cv}\u22c5T_{ion}\u22c5log(2)                                                            \n",
        "                                                                              \n",
        "\n",
        "                                      1.5                2              2  2\u239e\u239e\n",
        ".2258064516129\u22c5Q_{FoV}\u22c5\\lambda_{max}\u22c5w      14.44\u22c5Q_{FoV} \u22c5\\lambda_{max} \u22c5w \u239f\u239f\n",
        "\u2500\u2500\u2500\u2500\u2500\u2500\u2500\u2500\u2500\u2500\u2500\u2500\u2500\u2500\u2500\u2500\u2500\u2500\u2500\u2500\u2500\u2500\u2500\u2500\u2500\u2500\u2500\u2500\u2500\u2500\u2500\u2500\u2500\u2500\u2500\u2500\u2500\u2500\u2500\u2500\u2500 + \u2500\u2500\u2500\u2500\u2500\u2500\u2500\u2500\u2500\u2500\u2500\u2500\u2500\u2500\u2500\u2500\u2500\u2500\u2500\u2500\u2500\u2500\u2500\u2500\u2500\u2500\u2500\u2500\u2500\u2500\u2500\u2500\u239f\u239f\n",
        "            \u03c0\u22c5D_s\u22c5\\epsilon_w                             2    2             \u239f\u239f\n",
        "                                                        \u03c0 \u22c5D_s              \u23a0\u239f\n",
        "\u2500\u2500\u2500\u2500\u2500\u2500\u2500\u2500\u2500\u2500\u2500\u2500\u2500\u2500\u2500\u2500\u2500\u2500\u2500\u2500\u2500\u2500\u2500\u2500\u2500\u2500\u2500\u2500\u2500\u2500\u2500\u2500\u2500\u2500\u2500\u2500\u2500\u2500\u2500\u2500\u2500\u2500\u2500\u2500\u2500\u2500\u2500\u2500\u2500\u2500\u2500\u2500\u2500\u2500\u2500\u2500\u2500\u2500\u2500\u2500\u2500\u2500\u2500\u2500\u2500\u2500\u2500\u2500\u2500\u2500\u2500\u2500\u2500\u2500\u2500\u2500\u2500\u239f\n",
        "                   2    2                                                    \u239f\n",
        "                  \u03c0 \u22c5D_s                                                     \u23a0\n",
        "                                                                              \n",
        "\u2500\u2500\u2500\u2500\u2500\u2500\u2500\u2500\u2500\u2500\u2500\u2500\u2500\u2500\u2500\u2500\u2500\u2500\u2500\u2500\u2500\u2500\u2500\u2500\u2500\u2500\u2500\u2500\u2500\u2500\u2500\u2500\u2500\u2500\u2500\u2500\u2500\u2500\u2500\u2500\u2500\u2500\u2500\u2500\u2500\u2500\u2500\u2500\u2500\u2500\u2500\u2500\u2500\u2500\u2500\u2500\u2500\u2500\u2500\u2500\u2500\u2500\u2500\u2500\u2500\u2500\u2500\u2500\u2500\u2500\u2500\u2500\u2500\u2500\u2500\u2500\u2500\u2500\n",
        "                                                                              \n",
        "                                                                              \n",
        "\n",
        "\u239e                                                                             \n",
        "\u239f                                     \u239b                                       \n",
        "\u239f                                     \u239c                        2              \n",
        "\u239f                                     \u239c          231.04\u22c5Q_{FoV} \u22c5\\lambda_{max}\n",
        "\u239f                                     \u239c                                       \n",
        "\u239f                                     \u239c      2                                \n",
        "\u239f   4\u22c5N\u2090\u22c5N_{mm}\u22c5\\mathrm{Ops}\u22c5(N\u2090 - 1)\u22c5\u239cN_{AA}  + \u2500\u2500\u2500\u2500\u2500\u2500\u2500\u2500\u2500\u2500\u2500\u2500\u2500\u2500\u2500\u2500\u2500\u2500\u2500\u2500\u2500\u2500\u2500\u2500\u2500\u2500\u2500\u2500\u2500\n",
        "\u23a0                                     \u239c                                       \n",
        "                                      \u239d                                       \n",
        "\u2500 + \u2500\u2500\u2500\u2500\u2500\u2500\u2500\u2500\u2500\u2500\u2500\u2500\u2500\u2500\u2500\u2500\u2500\u2500\u2500\u2500\u2500\u2500\u2500\u2500\u2500\u2500\u2500\u2500\u2500\u2500\u2500\u2500\u2500\u2500\u2500\u2500\u2500\u2500\u2500\u2500\u2500\u2500\u2500\u2500\u2500\u2500\u2500\u2500\u2500\u2500\u2500\u2500\u2500\u2500\u2500\u2500\u2500\u2500\u2500\u2500\u2500\u2500\u2500\u2500\u2500\u2500\u2500\u2500\u2500\u2500\u2500\u2500\u2500\u2500\n",
        "                                                                              \n",
        "                                                                              \n",
        "\n",
        "                                                                              \n",
        "  \u239b                                       1.5                2              2 \n",
        "2 \u239c1.2258064516129\u22c5Q_{FoV}\u22c5\\lambda_{max}\u22c5w      14.44\u22c5Q_{FoV} \u22c5\\lambda_{max} \u22c5\n",
        " \u22c5\u239c\u2500\u2500\u2500\u2500\u2500\u2500\u2500\u2500\u2500\u2500\u2500\u2500\u2500\u2500\u2500\u2500\u2500\u2500\u2500\u2500\u2500\u2500\u2500\u2500\u2500\u2500\u2500\u2500\u2500\u2500\u2500\u2500\u2500\u2500\u2500\u2500\u2500\u2500\u2500\u2500\u2500\u2500 + \u2500\u2500\u2500\u2500\u2500\u2500\u2500\u2500\u2500\u2500\u2500\u2500\u2500\u2500\u2500\u2500\u2500\u2500\u2500\u2500\u2500\u2500\u2500\u2500\u2500\u2500\u2500\u2500\u2500\u2500\n",
        "  \u239c             \u03c0\u22c5D_s\u22c5\\epsilon_w                             2    2           \n",
        "  \u239d                                                         \u03c0 \u22c5D_s            \n",
        "\u2500\u2500\u2500\u2500\u2500\u2500\u2500\u2500\u2500\u2500\u2500\u2500\u2500\u2500\u2500\u2500\u2500\u2500\u2500\u2500\u2500\u2500\u2500\u2500\u2500\u2500\u2500\u2500\u2500\u2500\u2500\u2500\u2500\u2500\u2500\u2500\u2500\u2500\u2500\u2500\u2500\u2500\u2500\u2500\u2500\u2500\u2500\u2500\u2500\u2500\u2500\u2500\u2500\u2500\u2500\u2500\u2500\u2500\u2500\u2500\u2500\u2500\u2500\u2500\u2500\u2500\u2500\u2500\u2500\u2500\u2500\u2500\u2500\u2500\u2500\u2500\u2500\u2500\n",
        "                       2    2                                                 \n",
        "                      \u03c0 \u22c5D_s                                                  \n",
        "\u2500\u2500\u2500\u2500\u2500\u2500\u2500\u2500\u2500\u2500\u2500\u2500\u2500\u2500\u2500\u2500\u2500\u2500\u2500\u2500\u2500\u2500\u2500\u2500\u2500\u2500\u2500\u2500\u2500\u2500\u2500\u2500\u2500\u2500\u2500\u2500\u2500\u2500\u2500\u2500\u2500\u2500\u2500\u2500\u2500\u2500\u2500\u2500\u2500\u2500\u2500\u2500\u2500\u2500\u2500\u2500\u2500\u2500\u2500\u2500\u2500\u2500\u2500\u2500\u2500\u2500\u2500\u2500\u2500\u2500\u2500\u2500\u2500\u2500\u2500\u2500\u2500\u2500\n",
        "T_{dump}                                                                      \n",
        "                                                                              \n",
        "\n",
        "    \u239e\n",
        " 2\u239e\u239e\u239f\n",
        "w \u239f\u239f\u239f\n",
        "\u2500\u2500\u239f\u239f\u239f\n",
        "  \u239f\u239f\u239f\n",
        "  \u23a0\u239f\u239f\n",
        "\u2500\u2500\u2500\u239f\u239f\n",
        "   \u239f\u239f\n",
        "   \u23a0\u239f\n",
        "\u2500\u2500\u2500\u2500\u239f\n",
        "    \u239f\n",
        "    \u23a0"
       ]
      }
     ],
     "prompt_number": 19
    },
    {
     "cell_type": "heading",
     "level": 2,
     "metadata": {},
     "source": [
      "12.8 Working memory requirements"
     ]
    },
    {
     "cell_type": "markdown",
     "metadata": {},
     "source": [
      "In this section some key working memory needs are identified and associated with particular steps in the imaging process. In general there may be efficiency savings by keeping several working memory areas together so that some intermediate results or cached items are reused. Additionally there are strategies of dividing grids such that smaller working memory sets can be used while retaining quite high efficiency. One example of this faceting but simpler schemes which operate only within a step are possible too. This is not yet analysed here, but rather the approach is identify the size of the individual grids assuming they are not further subdivided. This is appropriate so for example an FFT can be efficiently done, or gridding without any pre-filtering on uv coordinates. This is a first step in working out a comprehensive working memory requirement."
     ]
    },
    {
     "cell_type": "heading",
     "level": 3,
     "metadata": {},
     "source": [
      "12.8.1\tConvolution Kernel Cache Size"
     ]
    },
    {
     "cell_type": "markdown",
     "metadata": {},
     "source": [
      "Beside the target grids, another important memory requirement is the memory used to cache the w- convolution kernels.\n",
      "\n",
      "The cache size is calculated by assuming that the number of w-planes is the w-kernel oversampling times the size of the kernels in each angular direction, that the oversampling is 8 as previously assumed, and that there is a separate kernel for each beam and frequency channel:\n",
      "\n",
      "$$M_{w\\, cache} = N_{GW}^3  Q_{GCF}^3 \\times N_{beam} N_f \\times 8\\,\\mathrm{byte}$$\n",
      "\n",
      "Here $N_{GW}$ is the linear size of the convolution kernel in one of the angular dimensions and is evaluated at the optimal w-snapshot duration.\n",
      "\n",
      "The w-function cache above is sized to include the oversampled functions. When baseline-dependent kernels are recomputed repeatedly the oversampling of the uv directions is regenerated. So in the case of such recomputation of kernels on the fly there is no need to permanently cache the uv oversampling of the w functions. This oversampling at the point of computing the combined AW kernels is implemented in LOFAR software."
     ]
    },
    {
     "cell_type": "code",
     "collapsed": false,
     "input": [
      "Mwcache = symbols(\"M_{w\\,cache}\", positive=True)\n",
      "Mwcache = (NGW*8)**3 * Nbeam * Nf * (8 * byte)\n",
      "Mwcache"
     ],
     "language": "python",
     "metadata": {},
     "outputs": [
      {
       "latex": [
        "$$\\frac{14384365.568 N_{f} N_{{beam}} \\mathrm{byte}}{\\pi^{3} D_{s}^{3}} Q_{{FoV}}^{3} \\lambda_{{max}}^{3} \\left(\\frac{1.2258064516129 Q_{{FoV}} \\lambda_{{max}} w^{1.5}}{\\pi D_{s} \\epsilon_{w}} + \\frac{14.44 Q_{{FoV}}^{2} \\lambda_{{max}}^{2} w^{2}}{\\pi^{2} D_{s}^{2}}\\right)^{\\frac{3}{2}}$$"
       ],
       "metadata": {},
       "output_type": "pyout",
       "png": "[encoded data removed]",
       "prompt_number": 23,
       "text": [
        "                                                                              \n",
        "                                                                \u239b             \n",
        "                                 3              3               \u239c1.22580645161\n",
        "14384365.568\u22c5N_f\u22c5N_{beam}\u22c5Q_{FoV} \u22c5\\lambda_{max} \u22c5\\mathrm{byte}\u22c5\u239c\u2500\u2500\u2500\u2500\u2500\u2500\u2500\u2500\u2500\u2500\u2500\u2500\u2500\n",
        "                                                                \u239c             \n",
        "                                                                \u239d             \n",
        "\u2500\u2500\u2500\u2500\u2500\u2500\u2500\u2500\u2500\u2500\u2500\u2500\u2500\u2500\u2500\u2500\u2500\u2500\u2500\u2500\u2500\u2500\u2500\u2500\u2500\u2500\u2500\u2500\u2500\u2500\u2500\u2500\u2500\u2500\u2500\u2500\u2500\u2500\u2500\u2500\u2500\u2500\u2500\u2500\u2500\u2500\u2500\u2500\u2500\u2500\u2500\u2500\u2500\u2500\u2500\u2500\u2500\u2500\u2500\u2500\u2500\u2500\u2500\u2500\u2500\u2500\u2500\u2500\u2500\u2500\u2500\u2500\u2500\u2500\u2500\u2500\u2500\u2500\n",
        "                                                                      3    3  \n",
        "                                                                     \u03c0 \u22c5D_s   \n",
        "\n",
        "                                                                 3/2\n",
        "                          1.5                2              2  2\u239e   \n",
        "29\u22c5Q_{FoV}\u22c5\\lambda_{max}\u22c5w      14.44\u22c5Q_{FoV} \u22c5\\lambda_{max} \u22c5w \u239f   \n",
        "\u2500\u2500\u2500\u2500\u2500\u2500\u2500\u2500\u2500\u2500\u2500\u2500\u2500\u2500\u2500\u2500\u2500\u2500\u2500\u2500\u2500\u2500\u2500\u2500\u2500\u2500\u2500\u2500\u2500 + \u2500\u2500\u2500\u2500\u2500\u2500\u2500\u2500\u2500\u2500\u2500\u2500\u2500\u2500\u2500\u2500\u2500\u2500\u2500\u2500\u2500\u2500\u2500\u2500\u2500\u2500\u2500\u2500\u2500\u2500\u2500\u2500\u239f   \n",
        "\u03c0\u22c5D_s\u22c5\\epsilon_w                             2    2             \u239f   \n",
        "                                            \u03c0 \u22c5D_s              \u23a0   \n",
        "\u2500\u2500\u2500\u2500\u2500\u2500\u2500\u2500\u2500\u2500\u2500\u2500\u2500\u2500\u2500\u2500\u2500\u2500\u2500\u2500\u2500\u2500\u2500\u2500\u2500\u2500\u2500\u2500\u2500\u2500\u2500\u2500\u2500\u2500\u2500\u2500\u2500\u2500\u2500\u2500\u2500\u2500\u2500\u2500\u2500\u2500\u2500\u2500\u2500\u2500\u2500\u2500\u2500\u2500\u2500\u2500\u2500\u2500\u2500\u2500\u2500\u2500\u2500\u2500\u2500\u2500\u2500\u2500\n",
        "                                                                    \n",
        "                                                                    "
       ]
      }
     ],
     "prompt_number": 23
    },
    {
     "cell_type": "heading",
     "level": 2,
     "metadata": {},
     "source": [
      "12.9 Buffer Requirements"
     ]
    },
    {
     "cell_type": "heading",
     "level": 3,
     "metadata": {},
     "source": [
      "12.9.1 Visibilities Buffer"
     ]
    },
    {
     "cell_type": "markdown",
     "metadata": {},
     "source": [
      "The visibility buffer is sized by allowing space for two full observations of duration $T_{obs}$.\n",
      "\n",
      "Each visibility in the visibility buffer is assumed to consume $M_{vis}$ bytes. This is currently understood to be at minimum 12 bytes: 8 bytes for a single-precision complex floating point visibility value and 4 bytes for time centroid and flags. The value of $M_{vis} = 12 \\, \\mathrm{bytes}$, however, implies the uvw coordinates are re-calculated at each read.\n",
      "\n",
      "The size of the buffer is then:\n",
      "\n",
      "$$M_{bufvis} = 2 R_{vis} M_{vis} T_{obs}$$\n",
      "\n",
      "It is assumed that the UV data from the buffer are read once per full major cycle. The required read rate from the buffer is therefore:\n",
      "\n",
      "$$R_{io} = (1 + N_{major}) N_{vis} M_{vis}$$"
     ]
    },
    {
     "cell_type": "code",
     "collapsed": false,
     "input": [
      "Mvis, Mbufvis, Tobs = symbols(\"M_{vis} M_{bufvis} T_{obs}\", positive=True, real=True)\n",
      "Mbufvis = 2*Rvis*Mvis*Tobs\n",
      "Mbufvis"
     ],
     "language": "python",
     "metadata": {},
     "outputs": [
      {
       "latex": [
        "$$\\frac{4 M_{{vis}}}{T_{{dump}}} N_{a} N_{f} N_{{beam}} T_{{obs}} \\left(N_{a} - 1\\right)$$"
       ],
       "metadata": {},
       "output_type": "pyout",
       "png": "[encoded data removed]",
       "prompt_number": 24,
       "text": [
        "4\u22c5M_{vis}\u22c5N\u2090\u22c5N_f\u22c5N_{beam}\u22c5T_{obs}\u22c5(N\u2090 - 1)\n",
        "\u2500\u2500\u2500\u2500\u2500\u2500\u2500\u2500\u2500\u2500\u2500\u2500\u2500\u2500\u2500\u2500\u2500\u2500\u2500\u2500\u2500\u2500\u2500\u2500\u2500\u2500\u2500\u2500\u2500\u2500\u2500\u2500\u2500\u2500\u2500\u2500\u2500\u2500\u2500\u2500\u2500\u2500\n",
        "                 T_{dump}                 "
       ]
      }
     ],
     "prompt_number": 24
    },
    {
     "cell_type": "code",
     "collapsed": false,
     "input": [
      "Rio = symbols(\"R_{io}\", positive=True)\n",
      "Rio = Nmajor * Nvis * Mvis\n",
      "Rio"
     ],
     "language": "python",
     "metadata": {},
     "outputs": [
      {
       "latex": [
        "$$\\frac{2 M_{{vis}}}{T_{{dump}}} N_{a} N_{f} N_{{beam}} N_{{major}} \\left(N_{a} - 1\\right)$$"
       ],
       "metadata": {},
       "output_type": "pyout",
       "png": "[encoded data removed]",
       "prompt_number": 25,
       "text": [
        "2\u22c5M_{vis}\u22c5N\u2090\u22c5N_f\u22c5N_{beam}\u22c5N_{major}\u22c5(N\u2090 - 1)\n",
        "\u2500\u2500\u2500\u2500\u2500\u2500\u2500\u2500\u2500\u2500\u2500\u2500\u2500\u2500\u2500\u2500\u2500\u2500\u2500\u2500\u2500\u2500\u2500\u2500\u2500\u2500\u2500\u2500\u2500\u2500\u2500\u2500\u2500\u2500\u2500\u2500\u2500\u2500\u2500\u2500\u2500\u2500\u2500\u2500\n",
        "                  T_{dump}                  "
       ]
      }
     ],
     "prompt_number": 25
    },
    {
     "cell_type": "heading",
     "level": 3,
     "metadata": {},
     "source": [
      "12.9.2 Target grids buffer"
     ]
    },
    {
     "cell_type": "markdown",
     "metadata": {},
     "source": [
      "We also may need to buffer the target grids during reduction of an observation. The analysis of the buffering requirement for this has not yet been done and depends on the details of the image post-processing required. The analysis of this will be done in future iterations of this document."
     ]
    },
    {
     "cell_type": "heading",
     "level": 2,
     "metadata": {},
     "source": [
      "12.10\tMinor Cycle Computing Requirements"
     ]
    },
    {
     "cell_type": "markdown",
     "metadata": {},
     "source": [
      "The minor cycle processing load is dominated by subtraction of the identified sources in the image plane. The number of sources that need to be subtracted in the minor cycle is dependent on many characteristics of the observations being made, telescope parameters and the characteristics of the imaging algorithm. \n",
      "Normally some fraction of the synthesised point spread function is used as the beam patch that is used for subtraction. The number of pixels in the patch can be expressed:\n",
      "$$N_{patch,pix}= \\frac{\\theta_{beam}/f_{patch}}{\\theta_{pix}} = \\frac{2Q_{pix}}{f_{patch}}$$\n",
      "\n",
      "Intuitively $f_{patch}$  can be understood as the fraction of the maximum baseline below which the uv coverage is almost filled and so with appropriate weighting scheme sidelobes can be reduced to a very low level. For SKA1 telescopes $f_{patch}=0.01$ is probably a reasonable assumption, giving $N_{patch,pix}=500$ when $Q_{pix}=2.5$. \n",
      "The subtraction of each pixel requires two floating-point operations. To first order the FLOP count is then:\n",
      "$$R_{minor}=2 N_{f,out} \\frac{N_{MSMF} N_{minor} {N_{patch,pix}}^2}{T_{obs}} ~{\\rm Ops/s}$$\n",
      "\n",
      "\n",
      "where $N_{minor}$ is number of minor iterations, $N_{MSMF}$ is a factor to account for multiple subtractions in multi-frequency multi-scale clean and $R_{minor}$  is per polarisation product, major cycle and beam. We have assumed that minor clean is carried out for each of the $N_{f,out}$  output frequency channels. For example, if there are five scales and three Taylor terms then $N_{MSMF}=15$.\n",
      "Since $N_{minor}$ is a parameter which is difficult to constrain at the present stage of the design of the SDP, here we compare the minor cycle compute requirement to another important stage of processing, the FFT between uv-grids and dirty images. This allows us to establish when the computational costs of the minor cycle de-convolution are likely to be important to be included in the overall model. The ratio of computing operations need for the minor cycle vs the FFT step is:\n",
      "$$\\frac{R_{minor}}{R_{FFT}} = \\frac{4N_{MSMF} N_{minor} {Q_{pix}}^2}{{5N_{pix}}^2  \\log_2\u2061{N_{pix}}{f_{patch}}^2} \\frac{T_{snap}}{T_{obs}}$$\n",
      "\n",
      "\n",
      "By taking typical values of parameters which do not change much ($Q_{pix}$ and $\\log_2\u2061{N_{pix}}$) and rearranging we can derive condition:\n",
      "$$(N_{pix} f_{patch})^2  \\frac{T_{obs}}{T_{snap}} \\gg N_{MSMF} N_{minor}$$\n",
      "\n",
      "When this condition holds the computing requirements for FFTs are higher than for the minor cycle and therefore the minor cycle computation requirements are unlikely to significantly impact the total computing requirements. When the condition does not hold the minor cycle compute requirement probably create a significant additional requirement and should be included in the overall modeling.\n"
     ]
    },
    {
     "cell_type": "heading",
     "level": 2,
     "metadata": {},
     "source": [
      "12.11\tFaceting"
     ]
    },
    {
     "cell_type": "markdown",
     "metadata": {},
     "source": [
      "In this section an initial analysis of the computational requirements for implementing faceting is given. A description of the conventional faceting approach is given in [RD13] while a description of the uv faceting is given in [RD14]. It is likely that any faceting in SDP will be based on the uv faceting technique but at the initial level of analysis here the two approaches do not differ substantially."
     ]
    },
    {
     "cell_type": "heading",
     "level": 3,
     "metadata": {},
     "source": [
      "12.11.1\tFloating point operations"
     ]
    },
    {
     "cell_type": "markdown",
     "metadata": {},
     "source": [
      "In faceting each visibility datum must be phase rotated to the direction of each facet and its uvw coordinates recomputed. The coordinate computation corresponds to a 3x3 matrix multiply [RD15] (requiring 15 operations) and we allow 10 operations for the phase rotation giving a total of 25 operations per visibility per facet. If all polarisation products are kept together a significant efficiency saving can be had by sharing some of the computation across the polarisation products.\n",
      "\n",
      "The computational load for the phase rotation and coordinate transform is therefore:\n",
      "$$R_{phrot}=2N_{major} \\times N_{pp} N_{beam} \\times N_{vis} {N_{facet}}^2 ~{\\rm 25 Ops}$$\n",
      "where $N_{vis}$ is computed at the original frequency resolution as defined earlier for conventional single-field imaging. \n",
      "\n",
      "After visibilities have been transformed the imaging proceeds for each facet largely as before but for a field of view which is $N_{facet}$ smaller and obviously the whole imaging operation is repeated ${N_{facet}}^2$ times to account for the number of facets. The computational impact of imaging a smaller field of view at each facet can be straightforwardly calculated  by reducing $Q_{FoV}$ in the equations above: $Q^{facet}_{FoV}=Q_{FoV}/N_{facet}$. It is found that for spectral line imaging the FLOP requirements scales close to inverse square of the linear field of view so that the main extra computational load for faceting is the $R_{phrot}$   term. \n",
      "By comparing previous equations it can however be seen that $R_{phrot}$ is not going to be large compared to the gridding rate when $N_{facet} \\ll N_{kernel}$. Since the reason for using facets in SDP is to reduce working memory rather than control the $w$-terms relatively few facets should be sufficient (e.g., $N_{facet} \\approx 4$)  wbhile on other hand the faceting approach is most relevant at widest field of view where N_kernel  is typically greater than 50 . Therefore the condition above should hold and the extra computational cost of phase rotation is unlikely to be significant.\n"
     ]
    },
    {
     "cell_type": "raw",
     "metadata": {},
     "source": [
      "This does not include the possibility of additional efficiency saving of binning visibilities in time after they have been phase-rotated to each facet"
     ]
    },
    {
     "cell_type": "heading",
     "level": 3,
     "metadata": {},
     "source": [
      "12.11.2\tVisibility buffer I/O requirements"
     ]
    },
    {
     "cell_type": "markdown",
     "metadata": {},
     "source": [
      "In each outermost CLEAN loop of multi-facet imaging the current model must be subtracted from the original visibility dataset and new visibility datasets for each facet must be formed. Depending on the implementation of this process this may result in a significant increase in the I/O requirements for the storage subsystem. \n",
      "\n",
      "The simplest implementation is that the original visibilities are re-read from disk for each facet in turn, giving rise to an increase in read I/O requirements by a factor ${N_{facet}}^2$.  This would be the situation when the computing nodes are very limited in memory. The analysis above suggests the use of faceting is primarily required to fit efficiently onto the working memory of an accelerator so that processing steps can be carried out at maximum efficiency. In this situation it can be easily envisaged that streams for a number of facets are produced in parallel during a single read of the original dataset, leading to a proportional reduction in the I/O workload.\n"
     ]
    },
    {
     "cell_type": "heading",
     "level": 1,
     "metadata": {},
     "source": [
      "13\tModeling of Science Pipelines (Johnston-Hollit)"
     ]
    },
    {
     "cell_type": "raw",
     "metadata": {},
     "source": [
      "From M4, memo 5"
     ]
    },
    {
     "cell_type": "markdown",
     "metadata": {},
     "source": [
      "The full functional analysis of the PIP.SCI is still somewhat uncertain. However, experience with the LOFAR pipeline has already identified source-finding as potentially a significant computation step. Subtasks after source finding are expected to be less computationally taxing because the subsequent processing burden scales with the number of detected sources, not with the size of the input images."
     ]
    },
    {
     "cell_type": "code",
     "collapsed": false,
     "input": [
      "from IPython.display import Image\n",
      "i = Image(filename='images/13.1_PIP.SCI_Architecture.png')\n",
      "i"
     ],
     "language": "python",
     "metadata": {},
     "outputs": [
      {
       "metadata": {},
       "output_type": "pyout",
       "png": "[encoded data removed]",
       "prompt_number": 5,
       "text": [
        "<IPython.core.display.Image at 0x3690f28>"
       ]
      }
     ],
     "prompt_number": 5
    },
    {
     "cell_type": "heading",
     "level": 2,
     "metadata": {},
     "source": [
      "13.1\tSource Finding"
     ]
    },
    {
     "cell_type": "raw",
     "metadata": {},
     "source": [
      "From M4, memo 5"
     ]
    },
    {
     "cell_type": "markdown",
     "metadata": {},
     "source": [
      "\n",
      "All source finding techniques are assumed to operate on images or image cubes being produced by the PIP.IMG portion of the pipeline. We have assumed that cubes will arrive with the consistent spatial scaling of the channel images so that channel regridding is not required within the SCI portion of the pipeline.  We further more assume that images arise from single pointings of the telescope, not mosaicked images.\n",
      "\n",
      "The figure below contains an architectural overview of our proposed system showing the interrelated PIP.SCI subtasks for all three SKA elements. However, there remains some uncertainty about the operational model of the SCI pipeline\u2019s interaction with earlier portions of the pipeline that potentially impact on the overall computational demands of PIP.SCI. In particular the cadence with which image data will be processed at different points of the PIP.SCI pipeline is not yet decided. Source detection within PIP.SCI will be necessary for three different (though overlapping) purposes. \n",
      "\n",
      "1.\tAnalysis of bright point source morphology for updating the sky model. These data products would be fed back to earlier portions of the SDP pipeline.\n",
      "2.\tProduction of the various data products required by science use cases. Which of these data products are produced at any given time will depend on the particular observing campaign being pursued. \n",
      "3.\tProduction of data products required for quality assurance.\n",
      "\n",
      "The required cadence with which data will enter the various stages of this pipeline will clearly vary according to the varying use made of the data. Data products required to update the sky model will need to be processed much more frequently than science driven outputs to allow for real time feedback to the calibration and imaging stages of the pipeline.\n",
      "\n",
      "Data products motivated by science requirements only need be developed once observation of a region has been completed. That is, faint point source and extended source detection (and subsequent characterisation of detected sources) need only take place on complete imaging runs. This approach ensures that only images with the best possible signal-to-noise ratio are analysed, maximising the reliability of the resulting data products. As a result one would expect that science motivated data products will impose a significantly lighter computational load than the bright source detection required to update the sky model.\n",
      "\n",
      "For completeness, we mention an alternate operating model, broadly analogous to the MSSS survey with LOFAR (Heald et al. 2014), where there would be a shallow preliminary observation to establish a sky model before the main observations are undertaken. Under this model the entire PIP.SCI portion of the pipeline could operate at a lower cadence than earlier pipeline stages, which would result in an additional saving in PIP.SCI computation. In fact, given that most of the proposed use case experiments require many integrations on each target field, there will almost always (excepting for the very first pass) be a useable sky model to work from.\n",
      "\n",
      "Point source detection algorithms typically compare each image pixel with some threshold noise level and then grow any regions thought to contain emission (eg Whiting 2012, Hales et al. 2012, Hancock et al. 2013). Each pixel must be examined, so the computational demand of bright pixel detection scales with the size of the input image. Some computational saving is possible in the common case of oversampled images (where adjacent pixels are not independent), but this does not alter the underlying computational complexity. The overall cost of each growing operation scales with the size of the emission (ie the size of the synthesized beam) and the number of such growing operations required scales with the number of detected sources. If one assumes that the number of sources detected is (at worst) proportional to the input image size, then the overall computational complexity of point source detection will scale with image size, as well as with telescope sensitivity.\n",
      "\n",
      "$$N_{ops} \\propto N_{pol}  \\frac{n^2}{S}$$\n",
      "\n",
      "Where $N_{pol}$ is the number of polarisations (4 if independent search were conducted on each Stokes image), the input images have size $n \\times n$ and $S$ is the sensitivity of the instrument. Whiting and Humphries (2012) report two-dimensional point source finding within 4096\\times4096 images taking of order ten seconds with 35 processors and conclude that the computational demands of two dimensional point source detection are small compared with those of imaging.\n",
      "Point source detection algorithms in two dimensions can be parallelised by breaking the incoming images into regions for independent processing. Some overlap of the various regions is necessary to avoid difficulty with sources lying on region boundaries, but in practice the required overlap is relatively small. An overlap width equal to about twice the synthesized beam size is sufficient. The need for some double handling of sources in the overlap regions does impose some additional computational demands, but this has constant complexity given by the ratio of the overlap to the non-overlapped areas. It can consequently be neglected in the overall complexity calculation. \n",
      "\n",
      "Detection of extended sources of emission is more challenging than point source detection, as one must find anomalous collections of image pixels, rather than individual pixels. In addition one could be exploring a larger parameter space than in the point source case. It is therefore possible that such algorithms could scale more rapidly than the image size. For example, a Hough transform targeting ellipse detection in an n\\timesn image scales as n5. Such an approach is unlikely to be suitable for analysis of entire images arising from the SKA, but the inescapable point remains that extended source detection will have higher computational complexity than point source detection. Appropriate low surface brightness extended source detection algorithms suited for SKA use are in their infancy (Hollitt & Johnston-Hollitt 2012; Friedlander et al. 2013, Frean et al. 2014), as there has not previously been a strong motivation for their development. Only in the era of the SKA will human detection of such sources become infeasible. As a result there has been little published work on extended source detection, particularly near the instrumental noise floor and it is therefore impossible to provide estimates of scaling. Extended source detection is consequently an important aspect of PIP.SCI development and prototyping.\n",
      "\n",
      "It is likely that at least some of the extended source detection work would use hierarchical techniques using multi-scale representations of the input images. This leads to a computational requirement to rescale the input images, but this would only be contemplated if the required rescaling steps were offset by computational savings in the source finding algorithms. Any such rescaling would again be done on a region by region basis, so would share a parallelisation model with point source detection. Hierarchical methods can therefore be expected not to impose an additional computational burden on the SDP processor, though they would have a somewhat expanded memory footprint to hold the multi-scale images (no more than double a non-hierarchical approach).\n",
      "\n",
      "As far as possible we would avoid source detection directly in the three dimensional search space of input cubes. Rather, cubes would be projected into two dimensions for initial source detection, followed by a use case specific exploration of the third dimension. For spectral line observations this could require frequency channel localisation or spectral profile generation via line search. For continuum observations this might require spectral index or rotation measure synthesis. In either case, these follow up operations in the third dimension would scale with the number of \"interesting\u201d source pixels detected, not with the size of the incoming images. However, there may be spectral line use cases (particularly involving HI emission) where some limited search in three dimensions will be necessary. The large number of channels means that such searching will be computationally demanding, with $N_{ops} \\propto N_{ch} \\frac{n^2}{S}$, where $N_{ch}$ is the number of channels. Indicatively (Whiting and Humphries 2012) reports searching three dimensional data of size $1248 \\times 1248 \\times 4096$ taking of order of hundreds to a thousand seconds when processed with 168 processors, dropping to order ten seconds with 455 processors.\n",
      "\n",
      "For continuum observations it is necessary to capture the full polarisation characteristics of any detected sources. However, in the case of bright point sources this will not require independent analysis of each polarisation component. For such sources it is expected that source detection in Stokes I, followed by subsequent reporting of the other polarisation channels will be adequate. By contrast, weaker sources could benefit from the SNR improvement of using multiple polarisations and the improved confusion performance of the Stokes Q and U channels. (In the case where Stokes I images are confusion limited, Stokes Q and U images will not be.)\n",
      "As it is possible to measure extended polarisation features in the absence of appreciable Stokes I emission (eg Gaensler et al. 2011), extended source detection must be conducted independently on all polarisations. This factor, in combination with the more complicated algorithms required to locate extended emission suggests that extended source emission will prove more challenging than point source detection.\n",
      "The precise nature of epoch of re-ionisation processing remains undetermined. It certainly requires removal of foreground objects via the complete point and extended source detection stages described above. However, the EoR community is still trialling different processing strategies for optimal statistical detection (for example MWA has two distinct EoR pipelines proposed). It thus remains difficult to estimate computational requirements of this pipeline element at this stage.\n",
      "\n"
     ]
    },
    {
     "cell_type": "heading",
     "level": 2,
     "metadata": {},
     "source": [
      "13.2\tRM-Synthesis"
     ]
    },
    {
     "cell_type": "heading",
     "level": 1,
     "metadata": {},
     "source": [
      "14\tDerivations for Non-Imaging Pipelines (Stappers)"
     ]
    },
    {
     "cell_type": "raw",
     "metadata": {},
     "source": [
      "Include Single Pulse / Fast Transients\n",
      "\n",
      "From M4, memo 5"
     ]
    },
    {
     "cell_type": "markdown",
     "metadata": {},
     "source": [
      "There are two main tasks in PIP.NIP: sieving of pulsar candidates and timing of known pulsars.\n",
      "\n",
      "The compute costs are relatively low for pulsar candidate sieving. For example, one of the most demanding algorithms in use today is that of (Zhu & others, 2013) which requires approximately 250 GFLOP / candidate and it is expected that less computationally demanding algorithms will be used for the SDP. The computing load is then directly proportional to the rate at which candidates will be received by the SDP and this is subject to the ICD between CSP and SDP. This number is however expected about 200k candidates will be sent per 10minute observation leading to time averaged rate of less than 500/second. (We assume here that candidates will be buffered and sieved to smooth out computing demand).  At this rate of candidates the FLOP requirement for sieving will be much less than the imaging computing requirements. \n",
      "\n",
      "The main tasks of the SDP timing analysis will be to perform final RFI mitigation steps, final polarisation calibration, generation of a time of arrival for the observation in real-time through cross-correlation with a template, and other diagnostics of the data quality. Although these are important analyses they are not expected to be computing performance-critical.\n"
     ]
    },
    {
     "cell_type": "heading",
     "level": 2,
     "metadata": {},
     "source": [
      "14.1\tSieving of Pulsar Candidates"
     ]
    },
    {
     "cell_type": "heading",
     "level": 2,
     "metadata": {},
     "source": [
      "14.2\tSingle Pulse / Fast Transients"
     ]
    },
    {
     "cell_type": "heading",
     "level": 2,
     "metadata": {},
     "source": [
      "14.3\tTiming of known Pulsars"
     ]
    },
    {
     "cell_type": "heading",
     "level": 1,
     "metadata": {},
     "source": [
      "15\tResults \u2013 processing (Nijboer)"
     ]
    },
    {
     "cell_type": "heading",
     "level": 2,
     "metadata": {},
     "source": [
      "15.1 Justification for parameter choices"
     ]
    },
    {
     "cell_type": "heading",
     "level": 3,
     "metadata": {},
     "source": [
      "15.1.1\tSystem-Level Inputs"
     ]
    },
    {
     "cell_type": "markdown",
     "metadata": {},
     "source": [
      "The telescope system is as described in the SKA Baseline Design [AD01] and as amended in [AD02]. To be specific about some less clear areas:\n",
      "* A single correlator dump time is assumed for each telescope (no two-zone baseline dependent time averaging) [AD02]. \n",
      "* LFAA stations have 35 meter diameter and maximum baseline length is 100 km.\n",
      "* There are 1024 LFAA stations\n",
      "* 256 thousand frequency channels for each of the telescopes\n",
      "* It is assumed that 4 polarisation products are always received and are fully processed\n"
     ]
    },
    {
     "cell_type": "heading",
     "level": 3,
     "metadata": {},
     "source": [
      "15.1.2\tWavelengths used for baseline performance estimate"
     ]
    },
    {
     "cell_type": "markdown",
     "metadata": {},
     "source": [
      "For the baseline performance estimate a single frequency was used to calculate the baseline requirements. The values were chosen to be around the middle wavelength of each of the bands as analysis of computational requirements showed that the wavelength dependence of the computing requirements is approximately linear. The values used are given below.\n",
      "\n",
      "Wavelength assumed in models when there is a dependence:\n",
      "\n",
      "<table>\n",
      "<thead>\n",
      "<tr>\n",
      "\t<th> </th>\n",
      "\t<th>SKA1-Low</th>\n",
      "\t<th>SKA1-Mid</th>\n",
      "\t<th>SKA1-Survey</th>\n",
      "</tr>\n",
      "</thead>\n",
      "<tbody>\n",
      "<tr>\n",
      "\t<th>Fiducial/Representative wavelength (m)</th>\n",
      "\t<th>3</th>\n",
      "\t<th>0.57</th>\n",
      "\t<th>0.6</th>\n",
      "</tr>\n",
      "</tbody>\n",
      "</table>"
     ]
    },
    {
     "cell_type": "code",
     "collapsed": false,
     "input": [
      "[telescope_info[x][wl] for x in telescope_labels]"
     ],
     "language": "python",
     "metadata": {},
     "outputs": [
      {
       "latex": [
        "$$\\begin{bmatrix}0.258441774137931 m, & 2.99792458 m, & 0.258441774137931 m\\end{bmatrix}$$"
       ],
       "metadata": {},
       "output_type": "pyout",
       "png": "[encoded data removed]",
       "prompt_number": 28,
       "text": [
        "[0.258441774137931\u22c5m, 2.99792458\u22c5m, 0.258441774137931\u22c5m]"
       ]
      }
     ],
     "prompt_number": 28
    },
    {
     "cell_type": "heading",
     "level": 3,
     "metadata": {},
     "source": [
      "15.1.3 w-kernel size"
     ]
    },
    {
     "cell_type": "markdown",
     "metadata": {},
     "source": [
      "We assume that $\\epsilon_w = 0.01$, i.e., the kernels are sized to retain the convolution function down to the 1% amplitude level. Comparison of the kernel size produced by this choice in [RD6] shows that it gives approximately comparable kernels to what is found in CASA.  Inspection of CASA code [RD16] however suggests that w-kernels are there sized to the $10^{\u22123}$ of the peak. Further investigation of the appropriate choice of this parameter will need to be carried out. "
     ]
    },
    {
     "cell_type": "code",
     "collapsed": false,
     "input": [
      "assumed_values[eps_w] = 0.01"
     ],
     "language": "python",
     "metadata": {},
     "outputs": [],
     "prompt_number": 29
    },
    {
     "cell_type": "heading",
     "level": 3,
     "metadata": {},
     "source": [
      "15.1.4 w-kernel oversampling"
     ]
    },
    {
     "cell_type": "markdown",
     "metadata": {},
     "source": [
      "We use in the baseline requirements an estimate for the oversampling factor of 8 for the convolution kernels. This is based on typical usage in LOFAR processing. It is also the value used in benchmarks in [RD17]."
     ]
    },
    {
     "cell_type": "heading",
     "level": 3,
     "metadata": {},
     "source": [
      "15.1.5\tA-kernel oversampling"
     ]
    },
    {
     "cell_type": "heading",
     "level": 3,
     "metadata": {},
     "source": [
      "15.1.6 Field of view"
     ]
    },
    {
     "cell_type": "markdown",
     "metadata": {},
     "source": [
      "Experience of LOFAR and advice from ASKAP is that at least the first sidelobe of the primary beam should be imaged so that the interfering sources in the first sidelobe can be imaged, calibrated and subtracted. In order to image all of the first sidelobe and up to the second zero of the beam the quality factor should be set to $Q_{FoV}=1.8$. In the baseline performance requirement below we combine the requirements for continuum imaging with $Q_{FoV}=1.8$ and spectroscopic imaging with $Q_{FoV}=1$."
     ]
    },
    {
     "cell_type": "code",
     "collapsed": false,
     "input": [
      "assumed_values[Qfov] = 1.8"
     ],
     "language": "python",
     "metadata": {},
     "outputs": [],
     "prompt_number": 30
    },
    {
     "cell_type": "heading",
     "level": 3,
     "metadata": {},
     "source": [
      "15.1.7 Ionospheric timescale"
     ]
    },
    {
     "cell_type": "markdown",
     "metadata": {},
     "source": [
      "The experience of LOFAR is that this timescale can vary between 10 seconds and a few minutes, depending on frequency of interest and the atmospheric conditions. In the calculations here we assume an ionospheric time scale of 60 seconds. This parameter has significant impact on the computational requirements derived here as well on some aspects of the efficiency of algorithms and parallelization schemes. It should therefore be investigated further in the current design stage as well as during the commissioning process."
     ]
    },
    {
     "cell_type": "code",
     "collapsed": false,
     "input": [
      "assumed_values[Tion] = 60*u.s"
     ],
     "language": "python",
     "metadata": {},
     "outputs": [],
     "prompt_number": 31
    },
    {
     "cell_type": "heading",
     "level": 3,
     "metadata": {},
     "source": [
      "15.1.8\tComputational Intensity and Efficiency"
     ]
    },
    {
     "cell_type": "markdown",
     "metadata": {},
     "source": [
      "Below we consider the computational intensity of two critical steps of gridding and FFT and then consider the overall computational efficiency."
     ]
    },
    {
     "cell_type": "heading",
     "level": 4,
     "metadata": {},
     "source": [
      "15.1.8.1\tConsiderations for Design Equations"
     ]
    },
    {
     "cell_type": "markdown",
     "metadata": {},
     "source": [
      "Given the low computational intensities for the key steps of gridding and FFT we expect the processing of these steps to be memory bandwidth limited.  The parameter $F_{ci}$ gives the ratio between the required bandwidth to working memory and the FLOP count. \n",
      "\n",
      "We take a conservative approach and adopt a single value for $F_{ci}$ of 2 for both memory-bandwidth limited steps.  Furthermore we assume that the computational efficiency of a system which does not have the required memory bandwidth is determined by the ratio of the achieved to required memory bandwidth.  This ratio depends on the choice of processor architecture and is discussed in our Preliminary Architecture and System Description [RD25].\n",
      "\n",
      "The efficiency determined in this way is applied to all computational steps again as a conservative approach to determine the size of the SDP compute platform as discussed in the costing analysis [RD26].\n"
     ]
    },
    {
     "cell_type": "heading",
     "level": 2,
     "metadata": {},
     "source": [
      "15.2\tBaseline for costing "
     ]
    },
    {
     "cell_type": "markdown",
     "metadata": {},
     "source": [
      "The following tables provide the input parameters from which the baseline requirements for costing are determined"
     ]
    },
    {
     "cell_type": "markdown",
     "metadata": {},
     "source": [
      "|                                                                | Symbol | SKA1-Low | SKA1-Mid (B1) | SKA1-Survey (B1) ||\n",
      "|----------------------------------------------------------------|--------|----------|---------------|------------------|---|\n",
      "|\n",
      "|***Telescope parameters***\n",
      "| Maximum Baseline (km)                                          | $B_{max}$| $100$|$200$|$50$||\n",
      "| Number of Frequency Channels from Corellator                   |$N_{f,corr}$|$256000$|$256000$|$256000$||\n",
      "| Number of stations/antennas                                    |$N_{a}$|$1024$|$256$|$96$||\n",
      "| Number of beams                                                |$N_{beam}$|$1$|$1$|$36$||\n",
      "| Antenna/Station Diameter (m)                                   |$D_{s}$|$35$|$15^4$|$15^5$||\n",
      "| Correlator Dump Time (s)                                       |$T_{dump}$|$0.6$|$0.08$|$0.3$||\n",
      "| Number of polarisation products                                |$N_{pp}$|$4$|$4$|$4$||\n",
      "|***Parameters for both continuum and spectroscopic case***\n",
      "| Image-plane oversampling factor (in units of Nyquist sampling) |$Q_{pix}$|$2.5$|$2.5$|$2.5$|5 pixels per synthesised beam.|\n",
      "| Amplitude level of w-kernels to include                        |$\\epsilon_{w}$|$0.01$|$0.01$|$0.01$|Value 0.01 is used in [RD6] where it is shown to give kernel sizes in rough agreement with CASA package.|\n",
      "| Quality factor for w-projection correction                     |$Q_{w}$|$1$|$1$|$1$|Value 1 corresponds to correction of maximal w values.  For comparison [RD7] uses values 0.1\u20140.3 |\n",
      "| Linear size of A-kernel (pixels)                               |$N_{AA}$|$9$|$9$|$9$|This size is at the low end of the range 9-15 given by [RD11] in Section 4.4.2 of their paper.|\n",
      "| Ionospheric timescale (s)                                      |$T_{ion}$|$60$|$60$|$60$|Difficult to justify before detailed experience on site. Experience of LOFAR is timescale is from 15secs \u2013 few minutes.|\n",
      "| Oversampling factor of w-convolution kernels                   |$Q_{GCF}$|$8$|$8$|$8$||\n",
      "| Number of adjacent frequency channels for which baseline dependent kernels can be reused |$Q_{fcv}$|$10$|$10$|$10$||\n",
      "| Full Mueller Matrix gridding factor|$N_{mm}$|$4$|$4$|$4$||\n",
      "| Size of visibility datum in the buffer|$M_{vis}$|$12$|$12$|$12$||\n",
      "| Number of polarisation products|$N_{pp}$|$4$|$4$|$4$||\n",
      "| Maximum Baseline (km)|$100$|$200$|$50$||\n",
      "|***Continuum Parameters***\n",
      "| Maximum observing wavelength in band (m)|$\\lambda_{max }$|$6$|$0.857$|$0.86$||\n",
      "| Minimum observing wavelength (m)|$\\lambda_{min }$|$0.857$|$0.286$|$0.33$||\n",
      "| Number of Major Cycles|$N_{major}$|$10$|$10$|$10$|Previous estimates were based on this value. Difficult to justify before commissioning of the telescopes.|\n",
      "| Diameter of imaging field of view (in units of diameter to first zero)|$Q_{FoV}$|$1.8$|$1.8$|$1.8$|FoV to extend to the second zero of Airy function (Section 15.1.5)|\n",
      "| Number of output frequency channels|$N_{f,out}$|$500$|$500$|$500$||\n",
      "| Fraction of baselines that are short (and binned before gridding to $N_{f,out}$ frequency channels)|$f_{B,short}$|$0.5$|$0.5$|$0.1$|Derived by approximate analysis of layouts as sent to SDP by J. Green from SKAO on 2nd April 2014|\n",
      "| Baseline length encircling 90% of all baselines (km)|$B_{90}$|$20$|$20$|$20$|From analysis [AD01] and approximate analysis of layouts|\n",
      "|***Continuum Results***\n",
      "| Total FLOP Requirement (PetaFLOPs)|$R^{cont}_{FLOP}$|$62$|$187$|$21$||\n",
      "| Snapshot Duration(s)|$T_{snap}$|$53$|$107$|$57$||\n",
      "| Effective number of frequency channels at the gridding stage|$N_{f,grid}$|$3200$|$6200$|$4000$||\n",
      "| Target Grid Size (GB)|$M_{uv grid}$|$28$|$600$|$38$||\n",
      "| W convolution kernel cache (TeraByte)|$M_{w cache}$|$5$|$390$|$31$||\n",
      "| Visibility Buffer Size (PetaByte)|$M_{bufvis}$|$6$|$5$|$4.5$||\n",
      "| Visibility Buffer Bandwidth (TeraByte/s)|$R_{io}$|$1.4$|$1.3$|$1.1$||\n",
      "|***Spectral Line Parameters***\n",
      "| Number of Major Cycles|$N_{major}$|$1$|$1$|$1$||\n",
      "| Diameter of imaging field of view (in units of diameter to first zero)|$Q_{FoV}$|$1$|$1$|$1$|FoV to extend to the first zero of Airy function (Section 15.1.5)|\n",
      "| Number of output channels|$N_{f,out}$|$256000$|$256000$|$256000$||\n",
      "|***Spectral Line Results***\n",
      "| Total FLOP Requirement (PetaFLOPs)|$R^{spec}_{FLOP}$|$40$|$129$|$100$||\n",
      "| Snapshot Duration(s)|$T_{snap}$|$53$|$107$|$183$||\n",
      "| Target Grid Size (GB)|$M_{uv grid}$|$9$|$190$|$12$||\n",
      "| W convolution kernel cache (TeraByte)|$M_{w cache}$|$6$|$147$|$458$|When baseline-dependent convolutions kernels are used this cache is 16 times smaller, see Section 12.10.2|\n",
      "| Visibility Buffer Size (PetaByte)|$M_{bufvis}$|$463$|$213$|$290$||\n",
      "| Visibility Buffer Bandwidth (TeraByte/s)|$R_{io}$|$21$|$10$|$13$|**NB. Since there is only one major cycle these are significantly changed.**|\n",
      "|***Fast Imaging Parameters***\n",
      "| Number of output channels|$N_{f,out}$|$300$|$700$|$500$|To achieve 1MHz output frequency resolution|\n",
      "| Image-plane oversampling factor (in units of Nyquist sampling)|$Q_{pix}$|$1.5$|$1.5$|$1.5$|3 pixels per synthesised beam since dynamic range requirements are lower and self-cal will not be performed on this data|\n",
      "| Diameter of imaging field of view (in units of diameter to first zero)|$Q_{FoV}$|$0.9$|$0.9$|$0.9$|Image only the primary beam|\n",
      "|***Fast Imaging Results***\n",
      "| Total FLOP Requirement (PetaFLOPs)|$R^{fast}_{FLOP}$|$0.5$|$39$|$14$||"
     ]
    },
    {
     "cell_type": "raw",
     "metadata": {},
     "source": [
      "Some of the dishes comprising SKA1-Mid will be from MeerKAT with diameter 13.5m. This smaller diameter is not taken into account in the analysis presented here and all dishes are assumed to have 15m diameter."
     ]
    },
    {
     "cell_type": "raw",
     "metadata": {},
     "source": [
      "Some of the dishes comprising SKA1-Survery will be from ASKAP with diameter 12m. This smaller diameter is not taken into account in the analysis presented here and all dishes are assumed to have 15m diameter."
     ]
    },
    {
     "cell_type": "heading",
     "level": 1,
     "metadata": {},
     "source": [
      "16\tResults \u2013 Archive (Bolton)"
     ]
    },
    {
     "cell_type": "markdown",
     "metadata": {},
     "source": [
      "Calculating the size of the required archive is dependent on technical and operational aspects.  In this section we discuss these aspects so that they can be used as a basis by SKAO.  However in our formal costing we only provide a scalable unit of Science Archive costing as input to the overall system-level cost model."
     ]
    },
    {
     "cell_type": "heading",
     "level": 2,
     "metadata": {},
     "source": [
      "16.1 Archive Requirements"
     ]
    },
    {
     "cell_type": "markdown",
     "metadata": {},
     "source": [
      "The size basic image cube data products to be used in science analysis and archiving are related to the $N_{pix}$ parameter described above with following notes:\n",
      "\n",
      "* The field of view parameter $Q_{FoV}$ to be used is likely different as there is not much use in retaining the first sidelobe once it has been used for accurate subtraction of sources.\n",
      "* The pixel oversampling $Q_{pix}$ may be different as very accurate prediction of visibilities is no longer required.\n",
      "\n",
      "8 Bytes per pixel is assumed and that all 4 polarisation products plus one weight value for each pixel.\n",
      "\n",
      "$$M_{discovery} = 8\\,\\mathrm{byte} \\times (4_{(Pol)} + 1_{(weight)}) \\times N_f N_{pix}^2 F_{FOV}$$\n",
      "\n",
      "Here $F_{FOV}$ is the (2D) field of view increase factor, only non-unity for the SURVEY telescope, such that the total field of view values are 61, 18 and 3.1 square degrees in bands 1, 2 and 3 respectively (this gives $F_{FOV}$ a value of 5.7, 5.8 and 5.3 in each band, compared to the field of view at the maximum wavelength in each band)."
     ]
    },
    {
     "cell_type": "code",
     "collapsed": false,
     "input": [
      "Mdiscovery, Ffov = symbols(\"M_{discovery} F_{FOV}\", positive=True, real=True)\n",
      "Mdiscovery = 8*byte*(4+1)*Nf* Npix**2 * Ffov\n",
      "Mdiscovery"
     ],
     "language": "python",
     "metadata": {},
     "outputs": [
      {
       "latex": [
        "$$\\frac{4107.37777777778 B_{{max}}^{2} F_{{FOV}} N_{f} Q_{{FoV}}^{2} \\mathrm{byte}}{\\pi^{2} D_{s}^{2} \\lambda_{{min}}^{2}} Q_{{pix}}^{2} \\lambda_{{max}}^{2}$$"
       ],
       "metadata": {},
       "output_type": "pyout",
       "png": "[encoded data removed]",
       "prompt_number": 26,
       "text": [
        "                        2                    2        2              2        \n",
        "4107.37777777778\u22c5B_{max} \u22c5F_{FOV}\u22c5N_f\u22c5Q_{FoV} \u22c5Q_{pix} \u22c5\\lambda_{max} \u22c5\\mathrm\n",
        "\u2500\u2500\u2500\u2500\u2500\u2500\u2500\u2500\u2500\u2500\u2500\u2500\u2500\u2500\u2500\u2500\u2500\u2500\u2500\u2500\u2500\u2500\u2500\u2500\u2500\u2500\u2500\u2500\u2500\u2500\u2500\u2500\u2500\u2500\u2500\u2500\u2500\u2500\u2500\u2500\u2500\u2500\u2500\u2500\u2500\u2500\u2500\u2500\u2500\u2500\u2500\u2500\u2500\u2500\u2500\u2500\u2500\u2500\u2500\u2500\u2500\u2500\u2500\u2500\u2500\u2500\u2500\u2500\u2500\u2500\u2500\u2500\u2500\u2500\u2500\u2500\u2500\u2500\n",
        "                                2    2              2                         \n",
        "                               \u03c0 \u22c5D_s \u22c5\\lambda_{min}                          \n",
        "\n",
        "      \n",
        "{byte}\n",
        "\u2500\u2500\u2500\u2500\u2500\u2500\n",
        "      \n",
        "      "
       ]
      }
     ],
     "prompt_number": 26
    },
    {
     "cell_type": "heading",
     "level": 2,
     "metadata": {},
     "source": [
      "16.2\tDiscovery archive"
     ]
    },
    {
     "cell_type": "markdown",
     "metadata": {},
     "source": [
      "SKA1-LOW: Discovery Cube memory size\n",
      "$$=4.4~{\\rm PetaBytes} \\times \\left(\\frac{\\lambda_{max}}{\\lambda_{min}}\\frac{1}{6}\\right)^2\\times \\frac{N_f}{256000}\\times \\left(\\frac{B_{max}}{70~{\\rm km}}\\right)^2$$\n",
      "\n",
      "SKA1-MID, Band 2:\n",
      " Discovery Cube memory size\n",
      "$$=18.7~{\\rm PetaBytes} \\times \\left(\\frac{\\lambda_{max}}{\\lambda_{min}}\\frac{1}{1.85}\\right)^2\\times \\frac{N_f}{256000}\\times \\left(\\frac{B_{max}}{200~{\\rm km}}\\right)^2$$\n",
      "\n",
      "SKA1-SURVEY, Band 2:\n",
      "Discovery Cube memory size \n",
      "$$= 13.05~{\\rm PetaBytes} \\times \\left(\\frac{\\lambda_{max}}{\\lambda_{min}}\\frac{1}{2.57}\\right)^2\\times \\frac{N_f}{256000}\\times \\left(\\frac{B_{max}}{50~{\\rm km}}\\right)^2\\times \\frac{{\\rm Field~of~view~(2D)}}{{\\rm 18~square~degrees}}$$\n",
      "\n",
      "\n",
      "If we assume that the pointing direction changes every 6hrs of telescope time we can get estimates of the total telescope time it would take to map a full hemisphere (20,000 square degrees). In other words, the maximum eventual size of the discovery archive is the size of the image cubes times the number of pointing needed to cover the visible sky while the rate of growth of the discovery archive is approximately the the size of the image cubes times the number of pointings observed per year.\n",
      "\n",
      "Numbers for each instrument and each band are given in the table below. The main survey experiments are in band 2 for MID and SURVEY (since this band includes the HI line). For MID, a full hemisphere cube would need 260 Exabytes to store, and would require 9 \u00bd years on telescope to complete (27 Exabytes per year archive growth). For SURVEY a full hemisphere cube is 15 Exabytes and would take 9 months telescope time to complete.\n"
     ]
    },
    {
     "cell_type": "markdown",
     "metadata": {},
     "source": [
      "||Lambda (min)|Lambda (max)|FoV (square degrees)|FoV increase factor (2D)|N (pix)|Archive image cube, PetaByte)|Number of pointings to cover 20,000 square degrees|Time (YOT) to map hemisphere (6hrs per pointing)|Hemisphere archive size (ExaByte)|Exabytes/YOT Growth rate|\n",
      "|-|-|-|-|-|-|-|-|-|-|-||\n",
      "|\n",
      "|SKA1 LOW|1.000|6.000|96.49|1.0|36000|4.42|207|0.14|0.9|6.5|\n",
      "|SKA1 MID Band 1|0.286|0.857|10.72|1.0|120000|49.15|1866|1.28|92|72|\n",
      "|SKA1 MID Band 2|0.170|0.316|1.46|1.0|74105|18.74|13744|9.41|258|27|\n",
      "|SKA1 MID Band 3|0.098|0.182|0.48|1.0|73939|18.66|41460|28.4|774|27|\n",
      "|SKA1 MID Band 4|0.058|0.107|0.17|1.0|74000|18.69|119392|81.8|2232|27|\n",
      "|SKA1 MID Band 5|0.022|0.065|0.06|1.0|120000|49.15|322238|221|15800|72|\n",
      "|SKA1 SURVEY Band 1|0.333|0.857|61|5.7|25714|12.84|328|0.22|4|19|\n",
      "|SKA1 SURVEY Band 2|0.180|0.462|18|5.8|25692|13.05|1111|0.76|15|19|\n",
      "|SKA1 SURVEY Band 3|0.075|0.200|3.1|5.3|26667|12.89|6452|4.42|83|19|"
     ]
    },
    {
     "cell_type": "markdown",
     "metadata": {},
     "source": [
      "More realistic sizes for the discovery archive can be estimated by assuming a lower frequency resolution to store and of course by considering a better model for the year-in-the-life of the SKA as is being undertaken by the SKAO.  "
     ]
    },
    {
     "cell_type": "heading",
     "level": 2,
     "metadata": {},
     "source": [
      "16.3\tScience use case based archive"
     ]
    },
    {
     "cell_type": "markdown",
     "metadata": {},
     "source": [
      "The philosophy for these archive size estimates is based on identification of the archive growth rate (in TBytes/Year-On-Telescope, TBytes/YOT) for the different science use cases, and estimates of the fraction of the time that each instrument spends doing each use case (or alternative use cases with similar growth rates).\n",
      "Assumptions can be made or parameters tuned to alter the growth rates by orders of magnitude or more, and the numbers have been included to give guidance rather than to be prescriptive: the numbers are generally $O(1000)$ times smaller than the discovery archive shown above.  We include this analysis principally to illustrate the critical importance of the operational model in determining the scale and costs of the archive.\n"
     ]
    },
    {
     "cell_type": "markdown",
     "metadata": {},
     "source": [
      "|SKA1-Mid|Growth rate Tbytes/YOT|Fraction of time |\n",
      "|-|-|-|\n",
      "|\n",
      "|2:Pulsar Search|2.63E+04|0.35|\n",
      "|3:Pulsar timing (products only)|2.60E+03|0.15|\n",
      "|4:Deep HI single field, save to one map, 1000 hours|2.68E+04|0.1|\n",
      "|12: Protoplanetary disks|2.63E+01|0.1|\n",
      "|13: Nearby galaxies, RM synthesis|1.66E+03|0.1|\n",
      "|14: band 2 and 3 Deep Fields and Cosmic Magnetism|8.96E+02|0.1|\n",
      "|17: M83, cosmic web|4.40E+00|0.1|\n",
      "|\n",
      "|MID Average archive growth rate|$15.21~{\\rm PetaBytes/year}$|\n",
      "|Archive in 5 years|$76.04~{\\rm PetaBytes}$|"
     ]
    },
    {
     "cell_type": "markdown",
     "metadata": {},
     "source": [
      "|SKA1-Low|Growth rate Tbytes/YOT|Fraction of time|\n",
      "|-|-|-|\n",
      "|\n",
      "|EOR (SPECIAL CASE - OWN ARCHIVE?)|9.60E+05|0.25 but only for ~6 months, whilst experiment runs|\n",
      "|6: (Imaging mode) Exoplanets|1.75E+04|~1|\n",
      "|\n",
      "|Dedicated EOR ARCHIVE| $110.05~{\\rm Peta Bytes~Maximum.}$|\n",
      "|LOW General purpose archive growth rate|$17.50~{\\rm PetaBytes/year}$|\n",
      "|General Purpose archive in 5 years|$85.75~{\\rm PetaBytes}$|"
     ]
    },
    {
     "cell_type": "markdown",
     "metadata": {},
     "source": [
      "|SUR|Growth rate Tbytes/YOT|Max size (Tbytes)|Fraction of time |\n",
      "|-|-|-|\n",
      "|5: All sky Hi (COMPRESSED)|4.60E+03|4.4E+03|0.25|\n",
      "|9: Wide area, if not in all sky archive (COMPRESSED)|3.83E+03|3.6E+03|0.25|\n",
      "|16: medium deep. 160,000 channels, 25km baselines|4.49E+04|3.8E+04|0.25|\n",
      "|11: Cosmic web|6.87E+01|1.6E+01|0.25|\n",
      "|\n",
      "|SUR Average archive growth rate|$13~{\\rm PetaBytes/year}$|\n",
      "|Archive in 5 years|$67~{\\rm PetaBytes}$|"
     ]
    },
    {
     "cell_type": "heading",
     "level": 3,
     "metadata": {},
     "source": [
      "16.3.1\tNotes on Assumptions:"
     ]
    },
    {
     "cell_type": "heading",
     "level": 4,
     "metadata": {},
     "source": [
      "16.3.1.1\tSKA1-MID"
     ]
    },
    {
     "cell_type": "markdown",
     "metadata": {},
     "source": [
      "Use case 2: Pulsar search. We have assumed that the candidate data is stored for both successful and unsuccessful candidates. This is conservative and can be tuned down considerably, only keeping successful candidates\u2019 data, at the risk of needing to re-do the survey if algorithm developments mean that pulsars may have been missed.\n",
      "\n",
      "Use case 3:  It had been suggested to archive the raw pulsar timing data as well as the profile fits. This has been excluded here because it gives an archive growth rate of 1.5e5 TBytes/YOT. However, it may be possible to plan to store such raw data for a short period of time to allow GW detection alerts from other instruments to trickle through. For example, archiving 1 month\u2019s data (assuming 25 hours per week) would give a Pulsar Timing Archive size of 12,500TBytes.\n",
      "\n",
      "Use case 17: This use case requires only very short baselines (Bmax 1,000m). The archive rate therefore assumes very few pixels on the map (200x200) and requires only 4096 channels. The actual archive rate in these observing modes could be higher, depending on what other experiments are done simultaneously.\n"
     ]
    },
    {
     "cell_type": "heading",
     "level": 4,
     "metadata": {},
     "source": [
      "16.3.1.2\tSKA1-LOW"
     ]
    },
    {
     "cell_type": "markdown",
     "metadata": {},
     "source": [
      "Use case 1, the Epoch of Reionisation experiment, is treated as a special case. The proposers request to store all the calibrated uv-data, averaged to 10s time sampling, and, in addition one image cube at 25,000 channels and (we assume) full spatial resolution (8300 pixels on a side), for every 6 hour observing run. (We find that this image cube archive rate is about 10% of the uv rate.) \n",
      "\n",
      "Use case 6, Exoplanets. The use case here is a little unclear about the processing pipeline. We have assumed that postage stamp cubes (1/1000th of the field of view area, with 1,000 frequency channels) are made each second (in 4 pol products) and saved to the archive.\n",
      "\n",
      "Other considerations for LOW: The EoR experiment needs 1000hrs telescope time to complete, and will be observing a single patch of the night sky for this. As such, the experiment could be completed within ~6months and the archive growth rates derived for this experiment may not be typical. There are not many use case for SKA1 LOW yet. The growth rate for the EoR image cubes is 84 PBytes/YOT (saving each 6hr cube). Co-adding maps into 100hr cubes reduces this proportionally to 5 PBytes/YOT. Thus something between these two values might be normal, so we have simply taken the value for use case 6 (18 PBytes/YOT) as being typical.\n"
     ]
    },
    {
     "cell_type": "heading",
     "level": 4,
     "metadata": {},
     "source": [
      "16.3.1.3\tSKA1-SURVEY"
     ]
    },
    {
     "cell_type": "markdown",
     "metadata": {},
     "source": [
      "Use case 5, All sky HI survey: We suggest compression by only keeping postage stamps of detected Hi, and storage of coarser channelisation postage stamps for RM work: 1,000 channels, rather than 34,000. The use case states max 1,000 polarised sources per sq deg, allowing 10x10pixels per source gives 2e6 useful pixels per 20 square degree pointing. This gives 50x fewer pixels per map so the overall compression of 1,700 for RM synthesis data, giving 1706 TBytes/year. For the fine channelization, we also assume 1000x data reduction by postage stamp/cube selection of detected line sources giving: 2,900 TBytes/YOT. Combined, these give a total archive rate: 4,600 TBytes/year. This of course is at the cost of the stacking, intensity mapping and any other science that would reuse the data without detected HI. Alternatives that reduce the archive size include keeping full spectral resolution for the redshift range likely to contain HI in stacking experiments (e.g. 0 to 0.25 or 1420 to 1136 MHz) and the lower spectral resolution for the frequency range that is unlikely to contain detectable HI. Another approach would be to retain the possibility of HI stacking experiments looking for HI at the positions of galaxies at redshifts determined previously by optical redshift surveys. For example (Private communication WAVES Project Scientist Aaron Robotham taken from the AESOP bid, ARC LIEF proposal 2014) the WAVES project, which aims to be the most complete spectroscopic survey, expects about 10,000 detections per sq. deg., with accuracies of ~30km/s and detected velocity spans of up to 300km/s.\n",
      "\n",
      "Use case 9, Wide area HI survey:  The same compression analysis can be applied as for the previous use case, but with more source detections (~3x deeper), so less reduction. Assuming that source counts scale roughly as flux limit, S-2, we\u2019d have 10x more sources, so only O(100)x compression, not O(1,000). This gives an estimated compressed archive update rate: 3,827 TBytes/YOT.\n",
      "\n",
      "Several experiments for SKA1 will require many hours of integration on a single target, which may be from several (say up to 125) different synthesis runs. To store high spatial and spectral resolution image cubes or uv-grids for each separate run in the long term archive will be costly. In the archive growth rates here we have assumed that only the final co-added cubes are kept. However, there will need to be a medium term archive too, containing cubes or grids of data from each synthesis run, or co-added data from a handful of runs, in order to allow quality assessment tests to be done on close-to full sensitivity images. (This is instead of simply co-adding each ~8hr run\u2019s data onto the accumulated cube, which could perhaps lead to errors undetected in 8hrs\u2019 data corrupting all the accumulated data.) However, once the data had all been taken the final co-added map could be made and the intermediary ones deleted to free space for the next experiment. Another approach would be to set a limit on the number of hours\u2019 data that can be co-added to leave just one cube behind (say, never co-adding more than 100hrs\u2019 data together)\u2013 the trade-off is between archive cost and telescope time cost if corrupted data means repeating observations.\n"
     ]
    },
    {
     "cell_type": "heading",
     "level": 1,
     "metadata": {},
     "source": [
      "17\tDesign Equations (? Nijboer / Broekema)"
     ]
    },
    {
     "cell_type": "markdown",
     "metadata": {},
     "source": [
      "There are a significant number of possible choices in the design of the SDP compute hardware. Examples are: types and specifications of the processing units; number of units per compute node; number of nodes per rack; nature of the storage system and the network bandwidths and topologies. The design equations drive constraints on these free parameters of the design from the computational requirements analysis presented in this document. The feasible parameter space defined by the design equations and the evolution of available COTS hardware components defines the design space of the compute platform of the SDP. The final chosen design point will be selected to minimise the capital and operational expenditure, the risks to the project and to optimise the potential for future upgrades if relevant.\n",
      "\n",
      "The key quantities that are addressed in the design equations are:\n",
      "* $N_{cu}$: The number of compute units. These are defined as units with very high bandwidth to working memory and shared-memory parallelism. For example a compute unit may be an accelerator such as a GPGPU or a Xeon Phi, or it could simply be a multi-core CPU.\n",
      "* $R_{cu,FLOP}$: The peak FLOP capability of the compute unit\n",
      "* $R_{cu,bw}$: The maximum memory bandwidth of each compute unit to its main, high-throughput, working memory. For accelerator type compute units this memory is taken to be the on-board memory. \n",
      "* $R_{cu,io}$: The maximum I/O bandwidth of each compute unit to buffer\n",
      "* $M_{cu,work}$: Size of working memory of the compute unit. This is the memory with bandwidth as described by R_{cu,bw}\n",
      "* $M_{cu,pool}$ This is slower working memory to which working grids etc. are swapped out to when not being actively worked on. For accelerator based systems this could the DRAM on the main board, or eventually new high-throughput NVRAM technology.\n",
      "* $M_{cu,buf}$: Size of buffer attached to each compute unit (or its share of data-island local buffer)\n",
      "\n",
      "In the proceeding sections two processing stages are identified that need to be run consecutively: first the continuum imaging and then the spectral line imaging. It is assumed that floating point operations and memory bandwidth are the limitation for both; therefore the requirements for FLOP rate and memory bandwidth are the combination of the requirements for these two stages while other constraints are sized so that they are not a limiting factor. The simultaneous focus on both the peak FLOP capability and the memory bandwidth is along the lines of [RD8].\n",
      "\n",
      "The following relationships can be then established:\n",
      "1. The peak FLOP capability of the units taken together has to exceed the total FLOPS required for spectral line and continuum processing combined: $N_{cu} R_{cu,FLOP}> R^{spec}_{FLOP}+R^{cont}_{FLOP}+R^fast_{FLOP}$\n",
      "2. The total memory bandwidth required has to exceed the required memory bandwidth: $N_{cu} R_{cu,bw}> F_ci (R^{spec}_{FLOP}+R^{cont}_{FLOP}+R^fast_{FLOP})$\n",
      "3. The visibility buffer of all compute units together must be sufficiently large to hold both the full resolution visibilities and frequency binned visibilities for continuum processing : $N_{cu} M_{cu,buf} > M^{spec}_{bufvis}+M^{cont}_{bufvis}$\n",
      "4. The total bandwidth to the visibility buffer must exceed the greater of the bandwidth required for the continuum or spectral line case. If we assume that processing is limited by available FLOPs then the we can compute the rates as : $$ N_{cu} R_{cu,io} > \\max\u2061\\left(\\frac{R^{spec}_{io}(R^{spec}_{FLOP}+R^{cont}_{FLOP})}{R^{spec}_{FLOP}},~\\frac{R^{cont}_{io} (R^{spec}_{FLOP}+R^{cont}_{FLOP})}{R^{cont}_{FLOP} }\\right)$$\n",
      "5. If frequency-polarisation-beam parallelism only is to be used with no faceting or other image plane or uv plane division then:\n",
      "    1. Working memory per compute unit must be greater than the target grid memory: M_{cu,work}  > M_(uv grid)  \n",
      "    2. Each compute unit must have reasonably fast memory to keep the grids not being immediately worked on (M_(cu,pool )). The experience of ASKAPSoft is that about 10 copies are necessary, giving: M_{cu,pool}>10 M_(uv grid)\n",
      "    3. The FFT and Gridding computing steps are limited by available parallelism so that:  $$N_{f,out} R_{cu,FLOP}>2N_{major} (R_{FFT}+R_{RP} )$$ taken for the continuum case. \n",
      "6.\tFaceting on SKA1-MID: The working memory requirement for SKA1-Mid is very large (800 GB) so that it is unlikely to easily fit on a very high bandwidth memory subsystem of an accelerator although it probably is feasible on main DDR type memory. This suggests that the faceting should be used to provide an extra level of data parallelism and hence to reduce the minimum size of working memory per compute node.  The implications of adopting this approach will require further in-depth analysis, but we adopt this view in order to cost the working memory requirements. A 4 by 4 faceting scheme reduces the working memory requirement to 100 GigaBytes and the pool memory to 1 TeraByte and we adopt these figures for costing. For SKA1-Low and SKA1-Survey the non-faceting is used below and for the costings as working memory requirements fit on likely accelerator on-board memories.\n",
      "    \n",
      "With these assumptions the baseline requirements become: \n",
      "\n",
      "Assuming no faceting:\n",
      "\n",
      "|Design Equation|SKA1-Low|SKA1-Mid (Band 1)|SKA1-Survey (Band 1)|\n",
      "|-|-|-|-|\n",
      "|1|$N_{cu} R_{cu,FLOP}$ > 102 PetaFLOP|$N_{cu} R_{cu,FLOP}$ > 361 PetaFLOP|$N_{cu} R_{cu,FLOP}$ > 135 PetaFLOP|\n",
      "|2|$N_{cu} R_{cu,bw}$ >204 PetaByte/s|$N_{cu} R_{cu,bw}$ > 722 PetaByte/s|$N_{cu} R_{cu,bw}$ >270 PetaByte/s|\n",
      "|3|$N_{cu} M_{cu,buf}$ >470 PetaByte|$N_{cu} M_{cu,buf}$ > 220 PetaByte|$N_{cu} M_{cu,buf}$ >295 PetaByte|\n",
      "|4|$N_{cu} R_{cu,io}$ >58 TeraByte/s|$N_{cu} R_{cu,io}$ > 30 TeraByte/s|$N_{cu} R_{cu,io}$ >26 TeraByte/s|\n",
      "|5a|$M_{cu,work}$  > 37 GigaByte|$M_{cu,work}$  > 800 GigaByte |$M_{cu,work}$  > 50 GigaByte|\n",
      "|5b|$M_{cu,pool}$ > 370 GigaByte|$M_{cu,pool}$  > 8 TeraByte |$M_{cu,pool}$  > 500 GigaByte|\n",
      "|5c|$R_{cu,FLOP}$ > 132 GigaFLOP/s|$R_{cu,FLOP}$ > 1600 GigaFLOP/s|$R_{cu,FLOP}$ >171 GigaFLOP/s|\n",
      "\n",
      "Assuming faceting for SKA1-Mid (note that values largely identical):\n",
      "\n",
      "|Design Equation|SKA1-Low|SKA1-Mid (Band 1)|SKA1-Survey (Band 1)|\n",
      "|-|-|-|-|\n",
      "|1|$N_{cu} R_{cu,FLOP}$ > 102 PetaFLOP|$N_{cu} R_{cu,FLOP}$ > 361 PetaFLOP|$N_{cu} R_{cu,FLOP}$ > 135 PetaFLOP|\n",
      "|2|$N_{cu} R_{cu,bw}$ >204 PetaByte/s|$N_{cu} R_{cu,bw}$ > 722 PetaByte/s|$N_{cu} R_{cu,bw}$ >270 PetaByte/s|\n",
      "|3|$N_{cu} M_{cu,buf}$ >470 PetaByte|$N_{cu} M_{cu,buf}$ > 220 PetaByte|$N_{cu} M_{cu,buf}$ >295 PetaByte|\n",
      "|4|$N_{cu} R_{cu,io}$ >58 TeraByte/s|$N_{cu} R_{cu,io}$ > 30 TeraByte/s|$N_{cu} R_{cu,io}$ >26 TeraByte/s|\n",
      "|5a|$M_{cu,work}$  > 37 GigaByte|$M_{cu,work}$  > **100 GigaByte** |$M_{cu,work}$  > 50 GigaByte|\n",
      "|5b|$M_{cu,pool}$ > 370 GigaByte|$M_{cu,pool}$  > **1 TeraByte** |$M_{cu,pool}$  > 500 GigaByte|\n",
      "|5c|$R_{cu,FLOP}$ > 132 GigaFLOP/s|$R_{cu,FLOP}$ > 1600 GigaFLOP/s|$R_{cu,FLOP}$ >171 GigaFLOP/s|\n"
     ]
    },
    {
     "cell_type": "heading",
     "level": 1,
     "metadata": {},
     "source": [
      "18\tRisks (Nijboer)"
     ]
    },
    {
     "cell_type": "markdown",
     "metadata": {},
     "source": [
      "1. **Computing requirements do not correctly capture the relevant compute platform characteristics.** For example the requirements here have mostly been derived by counting FLOPs and using a simple constant computational intensity to obtain the necessary memory bandwidth. However it could turn out that other system characteristics such as cache hierarchies and the nature of the thread-level parallelism turn out to be critically important. This risk can be mitigated by validation of the models presented here and profiling as well as running key micro benchmarks on novel hardware when it becomes available.\n",
      "2. **Omission of important processing steps from the requirements analysis presented here.** We have based the analysis presented here on steps identified in [RD1] and previous work as described in the Introduction to this document. It could be that an important step has however been missed out. This risk is best mitigated by review of this document and by profiling existing software to identify any computationally intensive routines which have not been adequately examined here.\n",
      "3. **No agreed L2 requirements for SDP.** Many of the requirements depend critically on performance parameters (e.g., $Q_{FoV}$) that depend on the telescope-level allocation of performance characteristics. These will be fixed in the L2 SDP requirements but these have not yet been agreed.\n"
     ]
    }
   ],
   "metadata": {}
  }
 ]
}