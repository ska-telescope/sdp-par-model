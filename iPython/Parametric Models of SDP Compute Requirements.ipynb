{
 "metadata": {
  "name": "",
  "signature": "sha256:91042a9b8630c7a3824fa87559792e0c44561f5de30569a2d1c960992cb18d1e"
 },
 "nbformat": 3,
 "nbformat_minor": 0,
 "worksheets": [
  {
   "cells": [
    {
     "cell_type": "markdown",
     "metadata": {},
     "source": [
      "_This notebook is an iPython copy of M7 Milestone document PDR05 (also known as SKA-TEL-SDP-0000003). This iPython notebook was initially created by Juande Santander Vela. It was not updated to include post-PDR additions by Ronals Nijboer that has since resulted in v1.2 of this document._\n",
      "\n",
      "_The current owner of this document is Francois Malan of Space Advisory Company._\n",
      "\n",
      "_As an interactive document, it includes blocks of code that can be used to verify and/or manipulate the equations that are listed._\n",
      "\n",
      "_This notebook requires sympy and astropy_"
     ]
    },
    {
     "cell_type": "heading",
     "level": 1,
     "metadata": {},
     "source": [
      "List of Abbreviations"
     ]
    },
    {
     "cell_type": "markdown",
     "metadata": {},
     "source": [
      "<table>\n",
      "<col />\n",
      "<col />\n",
      "<thead>\n",
      "<tr>\n",
      "\t<th>Acronym or Abbreviation</th>\n",
      "\t<th>Expansion</th>\n",
      "</tr>\n",
      "</thead>\n",
      "<tbody>\n",
      "<tr>\n",
      "\t<td>AI</td>\n",
      "\t<td>Astronomer Interface</td>\n",
      "</tr>\n",
      "<tr>\n",
      "\t<td>ALMA</td>\n",
      "\t<td>Atacama Large Millimetre/submillimetre Array</td>\n",
      "</tr>\n",
      "<tr>\n",
      "\t<td>AN</td>\n",
      "\t<td>Another</td>\n",
      "</tr>\n",
      "<tr>\n",
      "\t<td>API</td>\n",
      "\t<td>Application programming interface</td>\n",
      "</tr>\n",
      "<tr>\n",
      "\t<td>AR1 ..</td>\n",
      "\t<td>Antenna Release</td>\n",
      "</tr>\n",
      "<tr>\n",
      "\t<td>ARCH</td>\n",
      "\t<td>Architecture (SDP Work Package)</td>\n",
      "</tr>\n",
      "<tr>\n",
      "\t<td>ASKAP</td>\n",
      "\t<td>Australian Square Kilometre Array Pathfinder</td>\n",
      "</tr>\n",
      "<tr>\n",
      "\t<td>BDA</td>\n",
      "\t<td>Baseline Dependent Averaging</td>\n",
      "</tr>\n",
      "<tr>\n",
      "\t<td>BDD</td>\n",
      "\t<td>Block Definition Diagram</td>\n",
      "</tr>\n",
      "<tr>\n",
      "\t<td>CA</td>\n",
      "\t<td>Consumer App</td>\n",
      "</tr>\n",
      "<tr>\n",
      "\t<td>Capex</td>\n",
      "\t<td>Capital Expenditure</td>\n",
      "</tr>\n",
      "<tr>\n",
      "\t<td>CAS</td>\n",
      "\t<td>Common Algorithm Software</td>\n",
      "</tr>\n",
      "<tr>\n",
      "\t<td>CASA</td>\n",
      "\t<td>The Common Astronomy Software Applications package</td>\n",
      "</tr>\n",
      "<tr>\n",
      "\t<td>CDR</td>\n",
      "\t<td>Critical Design Review</td>\n",
      "</tr>\n",
      "<tr>\n",
      "\t<td>CI</td>\n",
      "\t<td>Compute Island</td>\n",
      "</tr>\n",
      "<tr>\n",
      "\t<td>CLEAN</td>\n",
      "\t<td>A computational algorithm designed to perform a deconvolution on images</td>\n",
      "</tr>\n",
      "<tr>\n",
      "\t<td>COMP</td>\n",
      "\t<td>The Compute Platform (SDP work package)</td>\n",
      "</tr>\n",
      "<tr>\n",
      "\t<td>COTS</td>\n",
      "\t<td>Commercial Off The Shelf</td>\n",
      "</tr>\n",
      "<tr>\n",
      "\t<td>CPU</td>\n",
      "\t<td>Central Processing Unit</td>\n",
      "</tr>\n",
      "<tr>\n",
      "\t<td>CS</td>\n",
      "\t<td>Common Software</td>\n",
      "</tr>\n",
      "<tr>\n",
      "\t<td>CSP</td>\n",
      "\t<td>Central Signal Processor</td>\n",
      "</tr>\n",
      "<tr>\n",
      "\t<td>CTRL</td>\n",
      "\t<td>Control</td>\n",
      "</tr>\n",
      "<tr>\n",
      "\t<td>DATA</td>\n",
      "\t<td>Data Layer (SDP work package)</td>\n",
      "</tr>\n",
      "<tr>\n",
      "\t<td>DBA</td>\n",
      "\t<td>Database Administrator</td>\n",
      "</tr>\n",
      "<tr>\n",
      "\t<td>DDE</td>\n",
      "\t<td>Direction-dependent effects</td>\n",
      "</tr>\n",
      "<tr>\n",
      "\t<td>DDR3</td>\n",
      "\t<td>Double data rate 3rd generation dynamic random access memory</td>\n",
      "</tr>\n",
      "<tr>\n",
      "\t<td>DDR4</td>\n",
      "\t<td>Double data rate 4th generation dynamic random access memory</td>\n",
      "</tr>\n",
      "<tr>\n",
      "\t<td>DELIV</td>\n",
      "\t<td>Data Delivery (SDP work package)</td>\n",
      "</tr>\n",
      "<tr>\n",
      "\t<td>DFM</td>\n",
      "\t<td>Data Flow Manager</td>\n",
      "</tr>\n",
      "<tr>\n",
      "\t<td>DFMDL</td>\n",
      "\t<td>Data Flow Model</td>\n",
      "</tr>\n",
      "<tr>\n",
      "\t<td>DFT</td>\n",
      "\t<td>Discrete Fourier Transform</td>\n",
      "</tr>\n",
      "<tr>\n",
      "\t<td>DI</td>\n",
      "\t<td>Data Island</td>\n",
      "</tr>\n",
      "<tr>\n",
      "\t<td>DIMM</td>\n",
      "\t<td>Dual in-line memory module</td>\n",
      "</tr>\n",
      "<tr>\n",
      "\t<td>DLM</td>\n",
      "\t<td>Data Lifecycle Management</td>\n",
      "</tr>\n",
      "<tr>\n",
      "\t<td>DM</td>\n",
      "\t<td>Data Manager</td>\n",
      "</tr>\n",
      "<tr>\n",
      "\t<td>DO</td>\n",
      "\t<td>Data Object</td>\n",
      "</tr>\n",
      "<tr>\n",
      "\t<td>DP</td>\n",
      "\t<td>Double Precision Floating Point</td>\n",
      "</tr>\n",
      "<tr>\n",
      "\t<td>DRAM</td>\n",
      "\t<td>Dynamic Random Access Memory</td>\n",
      "</tr>\n",
      "<tr>\n",
      "\t<td>DSH</td>\n",
      "\t<td>Dish</td>\n",
      "</tr>\n",
      "<tr>\n",
      "\t<td>DSL</td>\n",
      "\t<td>Domain Specific Language</td>\n",
      "</tr>\n",
      "<tr>\n",
      "\t<td>EGI</td>\n",
      "\t<td>European Grid Infrastructure</td>\n",
      "</tr>\n",
      "<tr>\n",
      "\t<td>EI</td>\n",
      "\t<td>Engineering Interface</td>\n",
      "</tr>\n",
      "<tr>\n",
      "\t<td>EoR</td>\n",
      "\t<td>Epoch of Reionisation</td>\n",
      "</tr>\n",
      "<tr>\n",
      "\t<td>EPEL</td>\n",
      "\t<td>Extra Packages for Enterprise Linux</td>\n",
      "</tr>\n",
      "<tr>\n",
      "\t<td>FA</td>\n",
      "\t<td>Functional Analysis</td>\n",
      "</tr>\n",
      "<tr>\n",
      "\t<td>FDR</td>\n",
      "\t<td>Infiniband Fourteen Data Rate</td>\n",
      "</tr>\n",
      "<tr>\n",
      "\t<td>FFT</td>\n",
      "\t<td>Fast Fourier Transform</td>\n",
      "</tr>\n",
      "<tr>\n",
      "\t<td>FLOPS</td>\n",
      "\t<td>Floating point Operations</td>\n",
      "</tr>\n",
      "<tr>\n",
      "\t<td>FPGA</td>\n",
      "\t<td>Field-programmable gate array</td>\n",
      "</tr>\n",
      "<tr>\n",
      "\t<td>GB</td>\n",
      "\t<td>Gigabyte</td>\n",
      "</tr>\n",
      "<tr>\n",
      "\t<td>GbE</td>\n",
      "\t<td>Gigabit Ethernet</td>\n",
      "</tr>\n",
      "<tr>\n",
      "\t<td>GPGPU</td>\n",
      "\t<td>General Purpose Graphical Processing Unit</td>\n",
      "</tr>\n",
      "<tr>\n",
      "\t<td>GPU</td>\n",
      "\t<td>Graphical Processing Unit</td>\n",
      "</tr>\n",
      "<tr>\n",
      "\t<td>GSM</td>\n",
      "\t<td>Global Sky Model</td>\n",
      "</tr>\n",
      "<tr>\n",
      "\t<td>GW</td>\n",
      "\t<td>Gravitational Wave</td>\n",
      "</tr>\n",
      "<tr>\n",
      "\t<td>HCA</td>\n",
      "\t<td>Host Channel Adapter</td>\n",
      "</tr>\n",
      "<tr>\n",
      "\t<td>HI</td>\n",
      "\t<td>Neutral atomic hydrogen</td>\n",
      "</tr>\n",
      "<tr>\n",
      "\t<td>HM</td>\n",
      "\t<td>Health and Monitoring</td>\n",
      "</tr>\n",
      "<tr>\n",
      "\t<td>HPC</td>\n",
      "\t<td>High Performance Computing</td>\n",
      "</tr>\n",
      "<tr>\n",
      "\t<td>HSM</td>\n",
      "\t<td>Hierarchical Storage Management</td>\n",
      "</tr>\n",
      "<tr>\n",
      "\t<td>ICD</td>\n",
      "\t<td>Interface Control Document</td>\n",
      "</tr>\n",
      "<tr>\n",
      "\t<td>iFFT</td>\n",
      "\t<td>Inverse Fast Fourier Transforms</td>\n",
      "</tr>\n",
      "<tr>\n",
      "\t<td>INFRA</td>\n",
      "\t<td>Infrastructure</td>\n",
      "</tr>\n",
      "<tr>\n",
      "\t<td>IO</td>\n",
      "\t<td>Input / Output</td>\n",
      "</tr>\n",
      "<tr>\n",
      "\t<td>IP</td>\n",
      "\t<td>Internet Protocol</td>\n",
      "</tr>\n",
      "<tr>\n",
      "\t<td>IP</td>\n",
      "\t<td>Intellectual Property</td>\n",
      "</tr>\n",
      "<tr>\n",
      "\t<td>IVOA</td>\n",
      "\t<td>International Virtual Observatory Association</td>\n",
      "</tr>\n",
      "<tr>\n",
      "\t<td>LAN</td>\n",
      "\t<td>Local area network</td>\n",
      "</tr>\n",
      "<tr>\n",
      "\t<td>LFAA</td>\n",
      "\t<td>Low Frequency Aperture Array</td>\n",
      "</tr>\n",
      "<tr>\n",
      "\t<td>LHC</td>\n",
      "\t<td>Large Hadron Collider (CERN)</td>\n",
      "</tr>\n",
      "<tr>\n",
      "\t<td>LINFA</td>\n",
      "\t<td>Local Infrastructure (SDP work package)</td>\n",
      "</tr>\n",
      "<tr>\n",
      "\t<td>LMC</td>\n",
      "\t<td>Local Monitoring &amp; Control (SDP Work Package)</td>\n",
      "</tr>\n",
      "<tr>\n",
      "\t<td>LML</td>\n",
      "\t<td>Lifecycle Modeling Language</td>\n",
      "</tr>\n",
      "<tr>\n",
      "\t<td>LoC</td>\n",
      "\t<td>Lines of Code</td>\n",
      "</tr>\n",
      "<tr>\n",
      "\t<td>LoC</td>\n",
      "\t<td>Latency-optimised Cores</td>\n",
      "</tr>\n",
      "<tr>\n",
      "\t<td>LOFAR</td>\n",
      "\t<td>Low-Frequency Array Radio Telescope</td>\n",
      "</tr>\n",
      "<tr>\n",
      "\t<td>LSM</td>\n",
      "\t<td>Local Sky Model</td>\n",
      "</tr>\n",
      "<tr>\n",
      "\t<td>MeerKAT</td>\n",
      "\t<td>64 dish Karoo Array Telescope</td>\n",
      "</tr>\n",
      "<tr>\n",
      "\t<td>MLC</td>\n",
      "\t<td>Multi-level cell</td>\n",
      "</tr>\n",
      "<tr>\n",
      "\t<td>MPI</td>\n",
      "\t<td>Message Passing Interface</td>\n",
      "</tr>\n",
      "<tr>\n",
      "\t<td>MS</td>\n",
      "\t<td>Measurement Set</td>\n",
      "</tr>\n",
      "<tr>\n",
      "\t<td>MTR</td>\n",
      "\t<td>Metrics</td>\n",
      "</tr>\n",
      "<tr>\n",
      "\t<td>MWA</td>\n",
      "\t<td>Murchison Widefield Array</td>\n",
      "</tr>\n",
      "<tr>\n",
      "\t<td>NIC</td>\n",
      "\t<td>Network Interface Controller</td>\n",
      "</tr>\n",
      "<tr>\n",
      "\t<td>NVRAM</td>\n",
      "\t<td>Non-volatile Random Access Memory</td>\n",
      "</tr>\n",
      "<tr>\n",
      "\t<td>Opex</td>\n",
      "\t<td>Operational Expenditure</td>\n",
      "</tr>\n",
      "<tr>\n",
      "\t<td>OTS</td>\n",
      "\t<td>Off the shelf</td>\n",
      "</tr>\n",
      "<tr>\n",
      "\t<td>PA</td>\n",
      "\t<td>Producer App</td>\n",
      "</tr>\n",
      "<tr>\n",
      "\t<td>PAF</td>\n",
      "\t<td>Phased Array Feeds</td>\n",
      "</tr>\n",
      "<tr>\n",
      "\t<td>PB</td>\n",
      "\t<td>Petabyte</td>\n",
      "</tr>\n",
      "<tr>\n",
      "\t<td>PCI</td>\n",
      "\t<td>Peripheral Component Interconnect</td>\n",
      "</tr>\n",
      "<tr>\n",
      "\t<td>PCIe</td>\n",
      "\t<td>Peripheral Component Interconnect Express</td>\n",
      "</tr>\n",
      "<tr>\n",
      "\t<td>PCM</td>\n",
      "\t<td>Phase-change memory</td>\n",
      "</tr>\n",
      "<tr>\n",
      "\t<td>PDG</td>\n",
      "\t<td>Physical Deployment Graph</td>\n",
      "</tr>\n",
      "<tr>\n",
      "\t<td>PDR</td>\n",
      "\t<td>Preliminary Design Review</td>\n",
      "</tr>\n",
      "<tr>\n",
      "\t<td>PIP</td>\n",
      "\t<td>Pipelines (SDP Work Package)</td>\n",
      "</tr>\n",
      "<tr>\n",
      "\t<td>PIP.INP</td>\n",
      "\t<td>The SDP work package responsible for input conditioning which is a sub-element of the Pipeline work package</td>\n",
      "</tr>\n",
      "<tr>\n",
      "\t<td>PROT</td>\n",
      "\t<td>Prototyping (SDP Work Package)</td>\n",
      "</tr>\n",
      "<tr>\n",
      "\t<td>PS</td>\n",
      "\t<td>Persistent Storage</td>\n",
      "</tr>\n",
      "<tr>\n",
      "\t<td>PSF</td>\n",
      "\t<td>Point Spread Function</td>\n",
      "</tr>\n",
      "<tr>\n",
      "\t<td>PSRFITS</td>\n",
      "\t<td>A standard FITS-based format for pulsar data files</td>\n",
      "</tr>\n",
      "<tr>\n",
      "\t<td>QA</td>\n",
      "\t<td>Quality Assurance. Note that sometimes Quality Assessment can be abbreviated to QA, but the default interpretation is Quality Assurance.</td>\n",
      "</tr>\n",
      "<tr>\n",
      "\t<td>QoS</td>\n",
      "\t<td>Quality of Service</td>\n",
      "</tr>\n",
      "<tr>\n",
      "\t<td>QPI</td>\n",
      "\t<td>QuickPath Interconnect</td>\n",
      "</tr>\n",
      "<tr>\n",
      "\t<td>RA</td>\n",
      "\t<td>Requirements Analysis</td>\n",
      "</tr>\n",
      "<tr>\n",
      "\t<td>RC</td>\n",
      "\t<td>Regional Centre</td>\n",
      "</tr>\n",
      "<tr>\n",
      "\t<td>RDMA</td>\n",
      "\t<td>Remote direct memory access</td>\n",
      "</tr>\n",
      "<tr>\n",
      "\t<td>REST</td>\n",
      "\t<td>Representational state transfer</td>\n",
      "</tr>\n",
      "<tr>\n",
      "\t<td>RFI</td>\n",
      "\t<td>Radio Frequency Interference</td>\n",
      "</tr>\n",
      "<tr>\n",
      "\t<td>RMR-NIC</td>\n",
      "\t<td>RDMA network interface card</td>\n",
      "</tr>\n",
      "<tr>\n",
      "\t<td>SaDT</td>\n",
      "\t<td>Signal and Data Transport</td>\n",
      "</tr>\n",
      "<tr>\n",
      "\t<td>SD</td>\n",
      "\t<td>Sequence Diagram</td>\n",
      "</tr>\n",
      "<tr>\n",
      "\t<td>SDN</td>\n",
      "\t<td>Software Defined Network</td>\n",
      "</tr>\n",
      "<tr>\n",
      "\t<td>SDP</td>\n",
      "\t<td>Science Data Processor</td>\n",
      "</tr>\n",
      "<tr>\n",
      "\t<td>SE</td>\n",
      "\t<td>System Engineering (SDP Work Package)</td>\n",
      "</tr>\n",
      "<tr>\n",
      "\t<td>SIB</td>\n",
      "\t<td>Standards Information Base</td>\n",
      "</tr>\n",
      "<tr>\n",
      "\t<td>SKA</td>\n",
      "\t<td>Square Kilometre Array</td>\n",
      "</tr>\n",
      "<tr>\n",
      "\t<td>SKA1_Low</td>\n",
      "\t<td>A phased array of simple dipole antennas to cover the frequency range 50 to 350 MHz</td>\n",
      "</tr>\n",
      "<tr>\n",
      "\t<td>SKA1_Mid</td>\n",
      "\t<td>An array several thousand dish antennas to cover the frequency range 350 MHz to 14 GHz</td>\n",
      "</tr>\n",
      "<tr>\n",
      "\t<td>SKA1_Survey</td>\n",
      "\t<td>An array of dishes with capability of covering a huge field of view</td>\n",
      "</tr>\n",
      "<tr>\n",
      "\t<td>SKAO</td>\n",
      "\t<td>SKA Office</td>\n",
      "</tr>\n",
      "<tr>\n",
      "\t<td>SMF</td>\n",
      "\t<td>Single-mode optical fibre</td>\n",
      "</tr>\n",
      "<tr>\n",
      "\t<td>SoC</td>\n",
      "\t<td>System on a Chip</td>\n",
      "</tr>\n",
      "<tr>\n",
      "\t<td>SP</td>\n",
      "\t<td>Single Precision Floating Point</td>\n",
      "</tr>\n",
      "<tr>\n",
      "\t<td>SPEAD</td>\n",
      "\t<td>Streaming Protocol for Exchanging Astronomical Data</td>\n",
      "</tr>\n",
      "<tr>\n",
      "\t<td>SS</td>\n",
      "\t<td>Science Support</td>\n",
      "</tr>\n",
      "<tr>\n",
      "\t<td>SWE</td>\n",
      "\t<td>Software Engineering</td>\n",
      "</tr>\n",
      "<tr>\n",
      "\t<td>SysML</td>\n",
      "\t<td>Systems Modelling Language</td>\n",
      "</tr>\n",
      "<tr>\n",
      "\t<td>TB</td>\n",
      "\t<td>Terabyte</td>\n",
      "</tr>\n",
      "<tr>\n",
      "\t<td>TBC</td>\n",
      "\t<td>To be confirmed</td>\n",
      "</tr>\n",
      "<tr>\n",
      "\t<td>TBD</td>\n",
      "\t<td>To be decided</td>\n",
      "</tr>\n",
      "<tr>\n",
      "\t<td>TCD</td>\n",
      "\t<td>Telescope Configuration Data</td>\n",
      "</tr>\n",
      "<tr>\n",
      "\t<td>TCP</td>\n",
      "\t<td>Transmission Control Protocol</td>\n",
      "</tr>\n",
      "<tr>\n",
      "\t<td>TM</td>\n",
      "\t<td>Telescope Manager</td>\n",
      "</tr>\n",
      "<tr>\n",
      "\t<td>TM</td>\n",
      "\t<td>Telescope Model</td>\n",
      "</tr>\n",
      "<tr>\n",
      "\t<td>ToR</td>\n",
      "\t<td>Top of Rack</td>\n",
      "</tr>\n",
      "<tr>\n",
      "\t<td>UDP</td>\n",
      "\t<td>User Datagram Protocol</td>\n",
      "</tr>\n",
      "<tr>\n",
      "\t<td>UML</td>\n",
      "\t<td>Unified Modeling Language</td>\n",
      "</tr>\n",
      "<tr>\n",
      "\t<td>VDIF</td>\n",
      "\t<td>VLBI Data Interchange Format</td>\n",
      "</tr>\n",
      "<tr>\n",
      "\t<td>VLBI</td>\n",
      "\t<td>Very long baseline interferometry</td>\n",
      "</tr>\n",
      "<tr>\n",
      "\t<td>WAN</td>\n",
      "\t<td>Wide area network</td>\n",
      "</tr>\n",
      "<tr>\n",
      "\t<td>WBS</td>\n",
      "\t<td>Work breakdown structure</td>\n",
      "</tr>\n",
      "<tr>\n",
      "\t<td>YOT</td>\n",
      "\t<td>Year on Telescope</td>\n",
      "</tr>\n",
      "</tbody>\n",
      "</table>"
     ]
    },
    {
     "cell_type": "heading",
     "level": 1,
     "metadata": {},
     "source": [
      "List of Symbols"
     ]
    },
    {
     "cell_type": "markdown",
     "metadata": {},
     "source": [
      "<table>\n",
      "<col />\n",
      "<col />\n",
      "<col />\n",
      "<thead>\n",
      "<tr>\n",
      "\t<th>Symbol</th>\n",
      "\t<th>Python</th>\n",
      "\t<th>Description</th>\n",
      "</tr>\n",
      "</thead>\n",
      "<tbody>\n",
      "<tr>\n",
      "\t<td>$B_{max}$</td>\n",
      "\t<td><code>Bmax</code></td>\n",
      "\t<td>Maximum baseline of the array</td>\n",
      "</tr>\n",
      "<tr>\n",
      "\t<td>$B_{90}$</td>\n",
      "\t<td><code>B90</code></td>\n",
      "\t<td>Baseline length containing 90% of all baselines</td>\n",
      "</tr>\n",
      "<tr>\n",
      "\t<td>$N_a$</td>\n",
      "\t<td><code>Na</code></td>\n",
      "\t<td>Number of antennas or stations in the array</td>\n",
      "</tr>\n",
      "<tr>\n",
      "\t<td>$N_{beam}$</td>\n",
      "\t<td><code>Nbeam</code></td>\n",
      "\t<td>Number of beams simultaneously observed by the array</td>\n",
      "</tr>\n",
      "<tr>\n",
      "\t<td>$D_s$</td>\n",
      "\t<td><code>Ds</code></td>\n",
      "\t<td>Diameter of antennas/stations</td>\n",
      "</tr>\n",
      "<tr>\n",
      "\t<td>$N_{pp}$</td>\n",
      "\t<td><code>Npp</code></td>\n",
      "\t<td>Number of polarisation products that are processed</td>\n",
      "</tr>\n",
      "<tr>\n",
      "\t<td>$T_{dump}$</td>\n",
      "\t<td><code>Tdump</code></td>\n",
      "\t<td>Correlator dump time</td>\n",
      "</tr>\n",
      "<tr>\n",
      "\t<td>$N_{f,corr}$</td>\n",
      "\t<td><code>Nf</code></td>\n",
      "\t<td>Number of frequency channels output by the correlator</td>\n",
      "</tr>\n",
      "<tr>\n",
      "\t<td>$\u03a9_E$</td>\n",
      "\t<td><code>Omega_E</code></td>\n",
      "\t<td>Angular velocity of the Earth</td>\n",
      "</tr>\n",
      "<tr>\n",
      "\t<td>$R_{Earth}$</td>\n",
      "\t<td><code>R_Earth</code></td>\n",
      "\t<td>Radius of the Earth</td>\n",
      "</tr>\n",
      "<tr>\n",
      "\t<td>$W_{curve}$</td>\n",
      "\t<td><code>W_curve</code></td>\n",
      "\t<td>Minimum deviation of the W coordinate due to Earth\u2019s curvature</td>\n",
      "</tr>\n",
      "<tr>\n",
      "\t<td>$T_{snap,min}$</td>\n",
      "\t<td><code>Tsnap_min</code></td>\n",
      "\t<td>Minimum duration of a snapshot in which w-correction is not dominated by Earth\u2019s curvature</td>\n",
      "</tr>\n",
      "<tr>\n",
      "\t<td>$\\theta_{FoV}$</td>\n",
      "\t<td><code>fov_angle</code></td>\n",
      "\t<td>Diameter of the field of view to be imaged</td>\n",
      "</tr>\n",
      "<tr>\n",
      "\t<td>$Q_{FoV}$</td>\n",
      "\t<td><code>Qfov</code></td>\n",
      "\t<td>Quality factor defining how much bigger the diameter of the field of view is than the first zero of the Airy function</td>\n",
      "</tr>\n",
      "<tr>\n",
      "\t<td>$\\lambda_{max}$</td>\n",
      "\t<td><code>wl_max</code></td>\n",
      "\t<td>Maximum wavelength to be imaged</td>\n",
      "</tr>\n",
      "<tr>\n",
      "\t<td>$\\lambda_{min}$</td>\n",
      "\t<td><code>wl_min</code></td>\n",
      "\t<td>Minimum wavelength to be imaged</td>\n",
      "</tr>\n",
      "<tr>\n",
      "\t<td>$\\lambda_{sub,max}$</td>\n",
      "\t<td><code>wl_sub_max</code></td>\n",
      "\t<td>Maximum wavelength of an imaging sub-band (channels over which image and pixel size is matched)</td>\n",
      "</tr>\n",
      "<tr>\n",
      "\t<td>$\\lambda_{sub,min}$</td>\n",
      "\t<td><code>wl_sub_min</code></td>\n",
      "\t<td>Minimum wavelength of an imaging sub-band</td>\n",
      "</tr>\n",
      "<tr>\n",
      "\t<td>$\\theta_{PSF}$</td>\n",
      "\t<td><code>psf_angle</code></td>\n",
      "\t<td>Diameter of the synthesised beam</td>\n",
      "</tr>\n",
      "<tr>\n",
      "\t<td>$\\theta_{pix}$</td>\n",
      "\t<td><code>pix_angle</code></td>\n",
      "\t<td>Angular size of each pixel</td>\n",
      "</tr>\n",
      "<tr>\n",
      "\t<td>$Q_{pix}$</td>\n",
      "\t<td><code>Qpix</code></td>\n",
      "\t<td>Quality factor defining the oversampling of synthesised beam</td>\n",
      "</tr>\n",
      "<tr>\n",
      "\t<td>$N_{pix}$</td>\n",
      "\t<td><code>Npix</code></td>\n",
      "\t<td>Linear size of $uv$ grids and images in pixels</td>\n",
      "</tr>\n",
      "<tr>\n",
      "\t<td>$N_{GW}(w)$</td>\n",
      "\t<td><code>NGW</code></td>\n",
      "\t<td>Linear size of w convolution functions in pixels as function of the w</td>\n",
      "</tr>\n",
      "<tr>\n",
      "\t<td>$N_{major}$</td>\n",
      "\t<td><code>Nmajor</code></td>\n",
      "\t<td>Number of major CLEAN cycles to be done</td>\n",
      "</tr>\n",
      "<tr>\n",
      "\t<td>$N_{minor}$</td>\n",
      "\t<td><code>Nminor</code></td>\n",
      "\t<td>Number of minor CLEAN cycles</td>\n",
      "</tr>\n",
      "</tbody>\n",
      "</table>"
     ]
    },
    {
     "cell_type": "code",
     "collapsed": true,
     "input": [
      "from sympy import init_session\n",
      "init_session(\n",
      "    use_latex=True,\n",
      "    use_unicode=True,\n",
      "    pretty_print=True,\n",
      "    quiet=True,\n",
      ")\n",
      "\n",
      "import sympy.physics.units as u\n",
      "from astropy import constants as const\n",
      "import numpy as np\n",
      "\n",
      "c = const.c.value * u.m / u.s\n",
      "\n",
      "Bmax, B90 = symbols(\"B_max B_90\", positive=True)\n",
      "Na, Nbeam, Npp, Nf = symbols(\"N_a N_beam N_pp N_{f\\,corr}\", integer=True, positive=True)\n",
      "Ds, Tdump = symbols(\"D_s T_dump\", positive=True)\n",
      "Omega_E, R_Earth, W_curve = symbols(\"Omega_E, R_Earth, W_curve\", positive=True)\n",
      "Tsnap, Tsnap_min = symbols(\"T_snap T_{snap\\,min}\", positive=True)\n",
      "Qfov = symbols(\"Q_FoV\", positive=True)\n",
      "fov_angle = symbols(r\"\\theta_{FoV}\", positive=True)\n",
      "wl, wl_max, wl_min, wl_sub_max, wl_sub_min = symbols(\"\\lambda \\lambda_max \\lambda_max \\lambda_{sub\\,max} \\lambda_{sub\\,min}\", positive=True)\n",
      "Qpix = symbols(\"Q_pix\", positive=True)\n",
      "psf_angle= symbols(r\"\\theta_{PSF}\", positive=True)\n",
      "pix_angle  = symbols(r\"\\theta_{pix}\", positive=True)\n",
      "Npix, Nmajor, Nminor = symbols(\"N_pix N_major N_minor\", integer=True, positive=True)\n",
      "NAA, NGW = symbols(\"N_AA N_GW\", positive=True)"
     ],
     "language": "python",
     "metadata": {},
     "outputs": [
      {
       "output_type": "stream",
       "stream": "stdout",
       "text": [
        "IPython console for SymPy 0.7.5 (Python 2.7.6-64-bit) (ground types: python)\n"
       ]
      },
      {
       "output_type": "stream",
       "stream": "stderr",
       "text": [
        "WARNING: Hook shutdown_hook is deprecated. Use the atexit module instead.\n"
       ]
      }
     ],
     "prompt_number": 1
    },
    {
     "cell_type": "code",
     "collapsed": false,
     "input": [
      "Qfov, fov_angle, psf_angle, pix_angle"
     ],
     "language": "python",
     "metadata": {},
     "outputs": [
      {
       "latex": [
        "$$\\begin{pmatrix}Q_{FoV}, & \\theta_{{FoV}}, & \\theta_{{PSF}}, & \\theta_{{pix}}\\end{pmatrix}$$"
       ],
       "metadata": {},
       "output_type": "pyout",
       "png": "[encoded data removed]",
       "prompt_number": 2,
       "text": [
        "(Q_FoV, \\theta_{FoV}, \\theta_{PSF}, \\theta_{pix})"
       ]
      }
     ],
     "prompt_number": 2
    },
    {
     "cell_type": "code",
     "collapsed": false,
     "input": [
      "telescope_list = ['SKA1Low', 'SKA1Mid', 'SKA1Survey'] # list enumeration for later calculations\n",
      "\n",
      "telescope_labels = dict(\n",
      "    zip(\n",
      "        telescope_list,\n",
      "        symbols('SKA1_{Low}, SKA1_{Mid}, SKA1_{Survey}')\n",
      "    )\n",
      ")\n",
      "\n",
      "#telescope_labels = {\n",
      "#    'SKA1Low': telescope_symbols[0],\n",
      "#    'SKA1Mid': telescope_symbols[1],\n",
      "#    'SKA1Survey': telescope_symbols[2],\n",
      "#}\n",
      "\n",
      "telescope_info = {\n",
      "    'SKA1Low': {\n",
      "        Tdump: 0.6 * u.s, # seconds\n",
      "        Na: 1024,         # number of antennas\n",
      "        Nf: 256000,       # number of channels\n",
      "        Nbeam: 1,         # number of beams\n",
      "        Ds: 35 * u.m,     # station \"diameter\" in meters\n",
      "        wl: c/(100e6 * u.Hz), # lambda in meters for 100 MHz\n",
      "        Bmax: 100 * u.km, # kilometers of max baseline\n",
      "        NAA: 9,\n",
      "    },\n",
      "    'SKA1Mid': {\n",
      "        Tdump: 0.08 * u.s, # seconds\n",
      "        Na: 190+64,        # number of antennas\n",
      "        Nf: 256000,        # number of channels\n",
      "        Nbeam: 1,          # number of beams\n",
      "        Ds: 15 * u.m,      # station \"diameter\" in meters\n",
      "        wl: c/(1160e6 * u.Hz), # lambda in meters for 1.16 GHz\n",
      "        Bmax: 150 * u.km,  # kilometers of max baseline\n",
      "        NAA: 9,\n",
      "    },\n",
      "    'SKA1Survey': {\n",
      "        Tdump: 0.3 * u.s, # seconds\n",
      "        Na: 96,           # number of antennas\n",
      "        Nf: 256000,       # number of channels\n",
      "        Nbeam: 36,        # number of beams (36 because this is a PAF)\n",
      "        Ds: 15 * u.m,     # station \"diameter\" in meters\n",
      "        wl: c/(1160e6 * u.Hz), # lambda in meters for 1.16 GHz\n",
      "        Bmax: 100 * u.km,  # kilometers of max baseline\n",
      "        NAA: 9,\n",
      "    },\n",
      "}\n",
      "\n",
      "def calcTel(telescope=None, expr=None, late_subs={}, ev=None):\n",
      "    # Shortcut for doing it for just one telescope\n",
      "    return dict(\n",
      "        [(telescope_labels[telescope],expr.subs(telescope_info[telescope]))]\n",
      "    )\n",
      "\n",
      "def eval_for_telescopes(expr,late_subs={},ev=None):\n",
      "    # Take into account that substitutions in subs are done _after_ evaluating \n",
      "    # the telescope-dependent substitution. If you want to run them before, you'll\n",
      "    # have to do substitute them first\n",
      "    if ev == None:\n",
      "        result = {\n",
      "            telescope_labels[t]: expr.subs(telescope_info[t]).subs(late_subs)\n",
      "            for t in telescope_list\n",
      "        }\n",
      "    elif type(ev) == type(True):\n",
      "        result = {\n",
      "            telescope_labels[t]: expr.subs(telescope_info[t]).subs(late_subs).evalf()\n",
      "            for t in telescope_list\n",
      "        }\n",
      "    elif type(ev) == type(1) and ev > 0:\n",
      "        result = {\n",
      "            telescope_labels[t]: expr.subs(telescope_info[t]).subs(late_subs).evalf(ev)\n",
      "            for t in telescope_list\n",
      "        }\n",
      "\n",
      "    return result\n"
     ],
     "language": "python",
     "metadata": {},
     "outputs": [],
     "prompt_number": 3
    },
    {
     "cell_type": "heading",
     "level": 1,
     "metadata": {},
     "source": [
      "Introduction"
     ]
    },
    {
     "cell_type": "heading",
     "level": 2,
     "metadata": {},
     "source": [
      "Purpose of the document"
     ]
    },
    {
     "cell_type": "markdown",
     "metadata": {},
     "source": [
      "The current version of this document is a part of the SDP input into the SKA re-baselining process (SDP Milestone 7). The purpose of this document at this stage is primarily to inform the initial costing of the SDP compute platform and give the SKAO insight into the scaling of this cost with key system parameters and the breakdown of cost per telescope. The computing requirements analysis presented here is also an important input into the SDP architecture."
     ]
    },
    {
     "cell_type": "heading",
     "level": 2,
     "metadata": {},
     "source": [
      "Overview of SDP and context of the computing requirements models"
     ]
    },
    {
     "cell_type": "markdown",
     "metadata": {},
     "source": [
      "The SDP consists of a number of pipelines and processing stages. The processing pipelines are:\n",
      "\n",
      "1.\tFast Imaging (both for detection of slow transients and for the real-time calibration requirement)\n",
      "2.\tHigh Dynamic Range continuum imaging\n",
      "3.\tSpectroscopic imaging\n",
      "4.\tPulsar processing (candidate sieving and timing)\n",
      "\n",
      "All of the imaging pipelines have as their first stage the ingest stage where the RFI flagging, the de-mixing of bright sources and the binning of visibilities in frequency and potentially time is done. It was shown in [RD01] that the compute requirements for the ingest stage and for the Pulsar pipeline are likely to be significantly smaller than for imaging and so those are not analysed in detail here. The requirement for fast imaging was further developed after [RD01] was completed and so an analysis of fast imaging is included here for the first time. Our initial analysis in [RD01] also identified DFT source subtraction as a potentially important processing step for the epoch of re-ionisation data processing and also a significant computational cost for this science use case. Since this is specific to the epoch of re-ionisation data processing we defer the full analysis of it until we examine science use cases in fuller detail. Further information on the DFT subtract is available in [RD01] and [RD12].\n",
      "\n",
      "Current imaging and calibration algorithms require iterative processing of visibility data. SDP processing will therefore have a buffer system such that an entire observing track is written to a visibility buffer and then this is processed while the next one is being buffered. Additionally there will be a non-iterative near-real-time system for fast imaging and real-time calibration that will not make use of the buffer.\n",
      "\n",
      "The role SDP and its computational requirements are put in context of the overall digital processing of the SKA in [RD04].\n",
      "\n",
      "\n",
      "In the analysis presented here we investigate the computational requirements of the continuum and spectroscopic imaging. It is taken that the continuum imaging will be used for the self-calibration and for the subtraction of sources in the near sidelobes of the primary telescope beams as well as for the continuum science analysis. The spectral-line case is analysed, with the assumption that only the field of view corresponding to primary beam is imaged.\n",
      "\n",
      "The following necessary steps are **not yet** included in the parametric modelling:\n",
      "\n",
      "* The computation of the uvw coordinates if these are not stored\n",
      "* The computational cost of calibration solvers\n",
      "* The computational cost of the science extraction algorithms\n",
      "* The computational cost of computing the weights for visibilities is not estimated"
     ]
    },
    {
     "cell_type": "heading",
     "level": 2,
     "metadata": {},
     "source": [
      "Scope of the document"
     ]
    },
    {
     "cell_type": "markdown",
     "metadata": {},
     "source": [
      "This document sets out the assumptions used in the models, gives the basic equations relating the parameters with required performance and then provides the initial analysis and the key outputs of the models.\n",
      "\n",
      "Initial analyses for the computational costs of the image-based minor CLEAN cycle and for the faceting algorithm are given in Sections 9.7.1 and 11 respectively. The results of these are not yet included in the main results given in Section 12.2.\n",
      "\n",
      "A companion Excel spreadsheet has been produced implementing the models described here [RD19]. The authoritative copy of this spreadsheet is held by the SKA SDP Consortium System Engineer."
     ]
    },
    {
     "cell_type": "heading",
     "level": 1,
     "metadata": {},
     "source": [
      "References"
     ]
    },
    {
     "cell_type": "heading",
     "level": 2,
     "metadata": {},
     "source": [
      "Applicable Documents"
     ]
    },
    {
     "cell_type": "markdown",
     "metadata": {},
     "source": [
      "The following documents are applicable to the extent stated herein. In the event of conflict between the contents of the applicable documents and this document, the applicable documents shall take precedence.\n",
      "\n",
      "* [AD1]\tDewdney, P. E. (2013). SKA1 SYSTEM BASELINE DESIGN. SKA Office\n",
      "* [AD2]\tMcCool, R., & Cornwell, T. (2013). MISCELLANEOUS CORRECTIONS TO THE BASELINE DESIGN\n",
      "* [AD3]\t\u201cSKA PHASE 1 SYSTEM (LEVEL 1) REQUIREMENTS SPECIFICATION\u201d, T.Cornwell, SKA-OFF.SE.ARC-SKO-SRS-001_2"
     ]
    },
    {
     "cell_type": "heading",
     "level": 2,
     "metadata": {},
     "source": [
      "Reference Documents"
     ]
    },
    {
     "cell_type": "markdown",
     "metadata": {},
     "source": [
      "The following documents are referenced in this document. In the event of conflict between the contents of the referenced documents and this document, this document shall take precedence.\n",
      "\n",
      "* [RD01] Nikolic et al (2014), \u201cAnalysis of the impact of SDP requirements on performance critical algorithms (including baseline-dependent averaging)\u201d, SKA SDP Memo 005\n",
      "* [RD02] S. Bhatnagar, T. J. (2008). Correcting direction-dependent gains in the deconvolution of radio interferometric images. A&A, 419-429\n",
      "* [RD03] Cornwell, T. J., Voronkov, M. A., & Humphreys, B. (2012). Wide field imaging for the Square Kilometre Array. \n",
      "* [RD04] Rik Jongerius, S. W. (2014). An End-to-End Computing Model for the Square Kilometre Array. IEEE Computer, volume 47, number 9\n",
      "* [RD05] FFT Benchmark Methodology. (2014). Retrieved from fftw.org: http://www.fftw.org/speed/method.html\n",
      "* [RD06] Mitchell, D. a. (2014). Analysis of w-projection kernel size. SKA SDP Consortium\n",
      "* [RD07] \u201cA PARAMETRIC MODEL FOR THE CALIBRATION AND IMAGING COSTS OF SKA1\u201d, T.J. Cornwell, 12 Feb 2013, SKA Draft Memo\n",
      "* [RD08] \u201cRoofline: An Insightful Visual Performance Model for Multicore Architectures\u201d, Williams, Waterman and Patterson, DOI:10.1145/1498765.1498785, APRIL 2009 | VOL. 52 | NO. 4 | COMMUNICATIONS OF THE ACM\n",
      "* [RD09] \u201cSDP Element Concept\u201d Paul Alexander, Chris Broekema, Simon Ratcliffe, Rosie Bolton, Bojan Nikolic, 2013, SDP-PROP-DR-001-1 (part of SKA SDP Consortium proposal)\n",
      "* [RD10] \u201cImager.cc\u201d C++ source , CASA source code SVN revision 30821, https://svn.cv.nrao.edu/svn/casa/trunk\n",
      "* [RD11] Tasse, C. a. (2013). Applying full polarization A-Projection to very wide field of view instruments: An imager for LOFAR. A&A.\n",
      "* [RD12] \u201c Calibratability-by-Design (for SKA's Low Frequency Aperture Array)\u201d, Stefan J. Wijnholds, Jaap Bregman, Jan Noordam, URSI General Assembly and Scientific Symposium, Beijing (China), 16-23 August 2014\n",
      "* [RD13] \u201cRadio-interferometric imaging of very large fields - The problem of non-coplanar arrays\u201d, Cornwell, T. J.; Perley, R. A., Astronomy and Astrophysics (ISSN 0004-6361), vol. 261, no. 1, p. 353-364\n",
      "* [RD14] \u201cWide Field Imaging at Low Frequencies\u201d, Sault, R. J.,  The Universe at Low Radio Frequencies, Proceedings of IAU Symposium 199, held 30 Nov - 4 Dec 1999, Pune, India. Edited by A. Pramesh Rao, G. Swarup, and Gopal-Krishna, 2002., p.508\n",
      "* [RD15] \u201cFaceted imaging in AIPS\u201d, Kogan & Greisen, AIPS Memo 113, 2009\n",
      "* [RD16] \u201cWPConvFunc.cc\u201d, C++ source code, CASA source code SVN revision 30821, https://svn.cv.nrao.edu/svn/casa/trunk\n",
      "* [RD17] \u201c Analysis of Convolutional Resampling Algorithm Performance\u201d, Humphreys & Cornwell, SKA Memo 132\n",
      "* [RD18] \u201cPARAMETERIZED DECONVOLUTION FOR WIDE-BAND RADIO SYNTHESIS IMAGING\u201d, Urvashi Rao Venkata, 2010, PhD thesis\n",
      "* [RD19] SKA-TEL-SDP-0000008 Parametric Model of Compute Requirements\n",
      "* [RD20] SKA-TEL.SDP-SDPC-MEMO-002 , \u201cTime and channel averaging\u201d, Chris Skipper,, 31 March 2014\n",
      "* [RD21] \u201cAn Efficient Work-Distribution Strategy for Gridding Radio-Telescope Data on GPUs\u201d, John W. Romein, ICS\u201912, June 25\u201329, 2012, San Servolo Island, Venice, Italy. Source code available at: ftp://ftp.astron.nl/outgoing/romein/Gridding-0.2.tar.bz\n",
      "* [RD22] \u201cFFT Analysis\u201d, S. Salvini, SDP Memo 8, https://sharepoint.skasdp.org/documentmanagement/DocumentManagementLibrary/SKA-TEL-SDP-MEMO-008-FFTs.docx\n",
      "* [RD23] https://developer.nvidia.com/cuFFT\n",
      "* [RD24] http://www.nvidia.com/object/tesla-servers.html\n",
      "* [RD25] SKA-TEL-SDP-0000002 PDR.01 Element Architecture Design\n",
      "* [RD26] SKA-TEL-SDP-0000009 PDR.07 Basis of Estimate"
     ]
    },
    {
     "cell_type": "heading",
     "level": 1,
     "metadata": {},
     "source": [
      "Overview of modelling strategy"
     ]
    },
    {
     "cell_type": "heading",
     "level": 2,
     "metadata": {},
     "source": [
      "Comparison to other modelling"
     ]
    },
    {
     "cell_type": "markdown",
     "metadata": {},
     "source": [
      "The analysis in the current document differs from the analyses in [RD4] and [RD9] in a number of ways which are summarized here.\n",
      "\n",
      "[RD09] modeling was on analysis of individual science use cases. Here we primarily address the SKA baseline design [AD01] / L1 requirements [AD03] and so deals with the maximal processing case. [RD09] assumes baseline-dependent averaging where we do not make this assumption here (see [AD02]). [RD09] analyses only the w-projection algorithm not w-snapshots as we do here. [RD09] does not analyse the continuum imaging out to the second zero of the primary beam function as is done here. [RD09] does not analyse the computation of the convolution functions or the effect of the full Mueller matrix computation. RD04 follows a similar approach to RD09 except that it considers the maximal processing case. \n",
      "\n",
      "Following [RD07] we analyse the w-snapshots algorithm. The overall approach is different in that we express the processor requirements as two quantities: the number floating point operations and as the required memory bandwidth. In contrast [RD07] categorises operations at a higher level (gridding operation, re-projection operation, FFT operation) and uses empirical timings on a current processors for each of those. Here, we assume the memory bandwidth required is proportional to FLOP operation count and estimate the constant of proportionality for two of the algorithmic steps (gridding and FFT operations) empirically. The two approaches are similar but the advantage of the approach used here of deriving the required memory bandwidth is that it is less tied on the current processor/memory architectures and therefore allows for novel solutions, for example the advance of 3D stacked memory giving a leap in memory bandwidth. The ratio of empirical timings of gridding and FFT operations in [RD07] is discrepant to the ratio of estimated required memory bandwidth by about a factor of 3 and this being followed up in the work ongoing now.\n",
      "\n",
      "Here we express most of the processing requirement as FLOP and memory access rates required to keep up with the telescope while [RD07] introduces observation time. The reason for our approach is that for observations longer than a few snapshots computing requirements are linear in duration. "
     ]
    },
    {
     "cell_type": "heading",
     "level": 1,
     "metadata": {},
     "source": [
      "Assumptions underpinning the parametric models"
     ]
    },
    {
     "cell_type": "markdown",
     "metadata": {},
     "source": [
      "We assume imaging (see [RD18] for overview) is done using the AW-projection algorithm [RD02] together with the w-snapshots technique for controlling the size of the w convolution kernels [RD03]. Work is ongoing to analyse alternative algorithms but we do not believe this would fundamentally alter the numbers presented here."
     ]
    },
    {
     "cell_type": "heading",
     "level": 2,
     "metadata": {},
     "source": [
      "Geometry assumption"
     ]
    },
    {
     "cell_type": "markdown",
     "metadata": {},
     "source": [
      "For the parametric modelling we assume the worst case scenario in which W is changing as fast as possible, i.e., the angular velocity of Earth ($\\Omega_E=7.27 \\times 10^{-5} \\mathrm{rad/s}$) times one half of the maximum baseline length.\n",
      "\n",
      "It is assumed that the curvature of the Earth dominates the array non-coplanarity according to:\n",
      "\n",
      "$$W_{curve}=\\frac{B_{max}^2}{8 R_{Earth} \\lambda}$$\n",
      "\n",
      "where $R_{Earth}= 6400 \\times 10^3 m$ is the radius of the Earth. This is for a plane with $w=0$ at the centre of array; smaller deviation are appropriate for a best-fitting plane but this depends on the distribution to the telescopes. This curvature limits the minimum useful w-snapshot time. We calculate this time to be the time that the change of w due to Earth\u2019s rotation is equal to the curvature of the earth giving:\n",
      "\n",
      "$$T_{snap,min} = \\frac{2 \\lambda W_{curve}}{B_{max} \\Omega_E}=\\frac{B_{max}}{4 \\Omega_E R_{Earth}}$$\n"
     ]
    },
    {
     "cell_type": "code",
     "collapsed": false,
     "input": [
      "W_curve = Bmax**2 / (8*R_Earth*wl)\n",
      "W_curve"
     ],
     "language": "python",
     "metadata": {},
     "outputs": [
      {
       "latex": [
        "$$\\frac{B_{max}^{2}}{8 R_{Earth} \\lambda}$$"
       ],
       "metadata": {},
       "output_type": "pyout",
       "png": "[encoded data removed]",
       "prompt_number": 4,
       "text": [
        "           2     \n",
        "      B_max      \n",
        "\u2500\u2500\u2500\u2500\u2500\u2500\u2500\u2500\u2500\u2500\u2500\u2500\u2500\u2500\u2500\u2500\u2500\n",
        "8\u22c5R_Earth\u22c5\\lambda"
       ]
      }
     ],
     "prompt_number": 4
    },
    {
     "cell_type": "code",
     "collapsed": false,
     "input": [
      "T_snap_min = 2*wl*W_curve/(Bmax*Omega_E)\n",
      "T_snap_min"
     ],
     "language": "python",
     "metadata": {},
     "outputs": [
      {
       "latex": [
        "$$\\frac{B_{max}}{4 \\Omega_{E} R_{Earth}}$$"
       ],
       "metadata": {},
       "output_type": "pyout",
       "png": "[encoded data removed]",
       "prompt_number": 5,
       "text": [
        "    B_max    \n",
        "\u2500\u2500\u2500\u2500\u2500\u2500\u2500\u2500\u2500\u2500\u2500\u2500\u2500\n",
        "4\u22c5\u03a9_E\u22c5R_Earth"
       ]
      }
     ],
     "prompt_number": 5
    },
    {
     "cell_type": "heading",
     "level": 2,
     "metadata": {},
     "source": [
      "Imaging algorithms"
     ]
    },
    {
     "cell_type": "markdown",
     "metadata": {},
     "source": [
      "A traditional major-cycle model for CLEAN and self-calibration is assumed with both the \u201cforward\u201d step (modelling observed visibilities from a trial sky) and the \u201cbackward\u201d step (estimating a sky brightness distribution from the observed visibilities) included in the performance model. \n",
      "\n",
      "The duration of the w-snapshot is optimised to maximize the overall processing throughput. Currently this optimisation is done by minimizing the FLOP count required for imaging.\n",
      "\n",
      "We assume that beams from the PAFs are imaged individually (as opposed to simultaneously as is currently the case in ASKAPSoft).\n",
      "\n",
      "It is assumed that the sizes of w and A kernels combine in quadrature. The more conservative assumption would be to assume that the sizes combine linearly, giving a maximum of \u221a2 increase in linear size and a factor of 2 increase in the FLOP requirement for gridding."
     ]
    },
    {
     "cell_type": "heading",
     "level": 2,
     "metadata": {},
     "source": [
      "FLOP count of basic operations"
     ]
    },
    {
     "cell_type": "markdown",
     "metadata": {},
     "source": [
      "The convention is that each floating point operation is one of the basic operations (addition or multiplication). Even when an obvious fused multiply & add is present it is counted as two operations. All floating point operations are assumed double-precision. Some efficiency savings may possible once an analysis of which steps are possible in single-precision is done."
     ]
    },
    {
     "cell_type": "heading",
     "level": 3,
     "metadata": {},
     "source": [
      "FFTs"
     ]
    },
    {
     "cell_type": "markdown",
     "metadata": {},
     "source": [
      "The number of floating point operations for all two-dimensional FFTs is assumed to be [RD5]:"
     ]
    },
    {
     "cell_type": "markdown",
     "metadata": {},
     "source": [
      "$$F_{FFT}(N) = 5 N \\log_2 N \\label{eq1}$$"
     ]
    },
    {
     "cell_type": "markdown",
     "metadata": {},
     "source": [
      "where $N$ is the total number of pixels in the grid to be transformed (i.e., the square of the linear dimension of the grid)."
     ]
    },
    {
     "cell_type": "code",
     "collapsed": false,
     "input": [
      "Ops, N, F_FFT = symbols(\"\\mathrm{Ops}, N, F_{FFT}\", positive=True)\n",
      "F_FFT = 5*Ops*N*log(N,2)\n",
      "F_FFT"
     ],
     "language": "python",
     "metadata": {},
     "outputs": [
      {
       "latex": [
        "$$\\frac{5 N \\mathrm{Ops} \\log{\\left (N \\right )}}{\\log{\\left (2 \\right )}}$$"
       ],
       "metadata": {},
       "output_type": "pyout",
       "png": "[encoded data removed]",
       "prompt_number": 6,
       "text": [
        "5\u22c5N\u22c5\\mathrm{Ops}\u22c5log(N)\n",
        "\u2500\u2500\u2500\u2500\u2500\u2500\u2500\u2500\u2500\u2500\u2500\u2500\u2500\u2500\u2500\u2500\u2500\u2500\u2500\u2500\u2500\u2500\u2500\n",
        "         log(2)        "
       ]
      }
     ],
     "prompt_number": 6
    },
    {
     "cell_type": "heading",
     "level": 3,
     "metadata": {},
     "source": [
      "Re-projection"
     ]
    },
    {
     "cell_type": "markdown",
     "metadata": {},
     "source": [
      "The w-snapshot technique involves splitting the dataset in time, making multiple images each with different tangent points and hence different coordinate systems and then recombining these images. Re-projection is the process of bringing these images back to a common coordinate system so that they can be combined together.\n",
      "\n",
      "The number of floating point operations is assumed to be directly to the total number of pixels in the grid. As a rough-estimate a pre-factor of 50 is assumed (e.g., allowing 30 to compute the weights and 20 to compute weighted sum of a 3 by 3 pixel region), giving an expression:"
     ]
    },
    {
     "cell_type": "markdown",
     "metadata": {},
     "source": [
      "$$\ud835\udc39_{RP}(\ud835\udc41) = 50 \ud835\udc41$$"
     ]
    },
    {
     "cell_type": "markdown",
     "metadata": {},
     "source": [
      "where $N$ is again the total number of pixels in the grid (i.e., the square of the linear dimension of the grid). Pixel weights should be re-usable for each of the polarization products, allowing a useful efficiency saving."
     ]
    },
    {
     "cell_type": "code",
     "collapsed": false,
     "input": [
      "F_RP = 50*Ops*N\n",
      "F_RP"
     ],
     "language": "python",
     "metadata": {},
     "outputs": [
      {
       "latex": [
        "$$50 N \\mathrm{Ops}$$"
       ],
       "metadata": {},
       "output_type": "pyout",
       "png": "[encoded data removed]",
       "prompt_number": 7,
       "text": [
        "50\u22c5N\u22c5\\mathrm{Ops}"
       ]
      }
     ],
     "prompt_number": 7
    },
    {
     "cell_type": "heading",
     "level": 3,
     "metadata": {},
     "source": [
      "Gridding"
     ]
    },
    {
     "cell_type": "markdown",
     "metadata": {},
     "source": [
      "It is assumed that 8 floating point operations are required for update of each target grid point (i.e., per visibility and per pixel in the convolution kernel)."
     ]
    },
    {
     "cell_type": "heading",
     "level": 1,
     "metadata": {},
     "source": [
      "Derivations"
     ]
    },
    {
     "cell_type": "heading",
     "level": 2,
     "metadata": {},
     "source": [
      "Size of images and $uv$ planes "
     ]
    },
    {
     "cell_type": "markdown",
     "metadata": {},
     "source": [
      "The size of the images and the associated $uv$ planes depend on the angular size of pixels, the angular size of field to be imaged (and, if faceting is used, the faceting strategy).\n",
      "\n",
      "The full-width half-maximum of the primary beam size depends on the diameter ($D_s$) and the illumination pattern/element weighting strategy of the telescope. For example, it is about $1.17 \\frac{\\lambda}{D_s}$ for -12dB Gaussian tapered illumination and it is about $1.4 \\frac{\\lambda}{D_s}$ for LOFAR. Here $D_s$ is the diameter of dish or  station. The area to be imaged must necessarily include the FWHM in order to retain all of the information that the telescope is collecting. It is however usually necessary to image a larger area in order to be able to subtract accurately the sidelobes of sources outside the primary beam.\n",
      "\n",
      "We therefore define the diameter of the field of view $\\theta_{FoV}$ to be some factor $Q_{FoV}$ larger than the diameter of the first null of the Airy function:"
     ]
    },
    {
     "cell_type": "markdown",
     "metadata": {},
     "source": [
      "$$\\theta_{FoV} = \\frac{7.6 \\lambda_{max} Q_{FoV}}{\\pi D_s}$$"
     ]
    },
    {
     "cell_type": "markdown",
     "metadata": {},
     "source": [
      "where the relevant wavelength is the maximum wavelength to be used in imaging of the single sub-band over which pixel sizes are going to be matched, $lambda_{sub,max}$.  Therefore $Q_{FoV}=1$ corresponds to a field of view that encloses the first zero of the Bessel function of first kind and $Q_{FoV}=1.8$ to the field of view that encloses the second zero, $Q_{FoV}=0.48$ corresponds to full-width half-maximum of a 12db Gaussain tapered illumination and $Q_{FoV}=0.57$ corresponds to full-width half-maximum of LOFAR beam."
     ]
    },
    {
     "cell_type": "code",
     "collapsed": false,
     "input": [
      "fov_angle = 7.60 * wl_sub_max*Qfov/pi/Ds\n",
      "fov_angle"
     ],
     "language": "python",
     "metadata": {},
     "outputs": [
      {
       "latex": [
        "$$\\frac{7.6 Q_{FoV} \\lambda_{{sub,max}}}{\\pi D_{s}}$$"
       ],
       "metadata": {},
       "output_type": "pyout",
       "png": "[encoded data removed]",
       "prompt_number": 8,
       "text": [
        "7.6\u22c5Q_FoV\u22c5\\lambda_{sub,max}\n",
        "\u2500\u2500\u2500\u2500\u2500\u2500\u2500\u2500\u2500\u2500\u2500\u2500\u2500\u2500\u2500\u2500\u2500\u2500\u2500\u2500\u2500\u2500\u2500\u2500\u2500\u2500\u2500\n",
        "           \u03c0\u22c5D_s           "
       ]
      }
     ],
     "prompt_number": 8
    },
    {
     "cell_type": "markdown",
     "metadata": {},
     "source": [
      "The size of the synthetized beam depends on the weighting scheme with a minimum of about $\\frac{\\lambda}{B_{max}}$, but in practice for well-filled arrays it is usually well \ufffc\ufffc\ufffc\ufffcapproximated by a diameter of $\\theta_{beam} = \\frac{3}{2} \\frac{\\lambda}{B_{max}}$. The size of the pixels can then be defined in terms of this practical synthetized beam size as:"
     ]
    },
    {
     "cell_type": "markdown",
     "metadata": {},
     "source": [
      "$$\\theta_{pix} = \\frac{3}{4} \\frac{\\lambda_{sub,min}}{B_{max} Q_{pix}}$$"
     ]
    },
    {
     "cell_type": "code",
     "collapsed": false,
     "input": [
      "pix_angle = Rational(3,4)*wl_sub_min/Qpix/Bmax\n",
      "pix_angle"
     ],
     "language": "python",
     "metadata": {},
     "outputs": [
      {
       "latex": [
        "$$\\frac{3 \\lambda_{{sub,min}}}{4 B_{max} Q_{pix}}$$"
       ],
       "metadata": {},
       "output_type": "pyout",
       "png": "[encoded data removed]",
       "prompt_number": 9,
       "text": [
        "3\u22c5\\lambda_{sub,min}\n",
        "\u2500\u2500\u2500\u2500\u2500\u2500\u2500\u2500\u2500\u2500\u2500\u2500\u2500\u2500\u2500\u2500\u2500\u2500\u2500\n",
        "   4\u22c5B_max\u22c5Q_pix   "
       ]
      }
     ],
     "prompt_number": 9
    },
    {
     "cell_type": "markdown",
     "metadata": {},
     "source": [
      "where the relevant wavelength is the shortest wavelength to be used in the sub-band imaging, $\\lambda_{sub,min}$ and $Q_{pix}$ is the oversampling factor. Value $Q_{pix} = 1.5$ corresponds to 3 pixels per synthetized beam which is the minimum used in practice and value $Q_{pix} = 2.5$ corresponds to 5 pixels per synthetized beam. For comparison CASA routine `Imager::advise` [RD10] gives pixel size as the inverse of twice the maximum $uv$ distance, giving $\u03b8^{CASA}_{pix} = \\frac{\\lambda_{sub,min}}{2 B_{max}}$ which corresponds to $\\theta_{pix}=1.5$ in the relation above."
     ]
    },
    {
     "cell_type": "markdown",
     "metadata": {},
     "source": [
      "The linear size of the uv planes and images is then:"
     ]
    },
    {
     "cell_type": "markdown",
     "metadata": {},
     "source": [
      "$$N_{pix} = \\frac{\\theta_{FoV}}{\\theta_{pix}} = \\frac{10 B_{max} Q_{pix} Q_{FoV}}{\\pi D_s} \\frac{\\lambda_{sub,max}}{\\lambda_{sub,min}}$$"
     ]
    },
    {
     "cell_type": "markdown",
     "metadata": {},
     "source": [
      "where $B_{max}$ is the maximum baseline length and $D_s$ is the diameter of dish or station. As described above the use of $\\lambda_{sub,max}$ and $\\lambda_{sub,min}$  is to allow sub-bands over which pixel size is matched, decreasing the apparent efficiency but making operations across different frequency channels significantly easier to implement. In the case $\\lambda_{sub,max} = \\lambda_{sub,min}$ is equivalent to having just a single fiducial wavelength."
     ]
    },
    {
     "cell_type": "code",
     "collapsed": false,
     "input": [
      "Npix = fov_angle/pix_angle\n",
      "Npix"
     ],
     "language": "python",
     "metadata": {},
     "outputs": [
      {
       "latex": [
        "$$\\frac{10.1333333333333 B_{max} Q_{FoV} Q_{pix} \\lambda_{{sub,max}}}{\\pi D_{s} \\lambda_{{sub,min}}}$$"
       ],
       "metadata": {},
       "output_type": "pyout",
       "png": "[encoded data removed]",
       "prompt_number": 10,
       "text": [
        "10.1333333333333\u22c5B_max\u22c5Q_FoV\u22c5Q_pix\u22c5\\lambda_{sub,max}\n",
        "\u2500\u2500\u2500\u2500\u2500\u2500\u2500\u2500\u2500\u2500\u2500\u2500\u2500\u2500\u2500\u2500\u2500\u2500\u2500\u2500\u2500\u2500\u2500\u2500\u2500\u2500\u2500\u2500\u2500\u2500\u2500\u2500\u2500\u2500\u2500\u2500\u2500\u2500\u2500\u2500\u2500\u2500\u2500\u2500\u2500\u2500\u2500\u2500\u2500\u2500\u2500\u2500\n",
        "              \u03c0\u22c5D_s\u22c5\\lambda_{sub,min}               "
       ]
      }
     ],
     "prompt_number": 10
    },
    {
     "cell_type": "heading",
     "level": 2,
     "metadata": {},
     "source": [
      "Size of convolution kernels"
     ]
    },
    {
     "cell_type": "markdown",
     "metadata": {},
     "source": [
      "The sizing of the w-projection kernels is given [RD6] by expression:"
     ]
    },
    {
     "cell_type": "markdown",
     "metadata": {},
     "source": [
      "$$|u| = \\sqrt{ \\left( \\frac{w \\, \\theta_{FoV}}{2} \\right)^2 + \\frac{w \\, \\theta_{FoV} / 2}{\\pi \\epsilon_w / \\sqrt{w} }}$$"
     ]
    },
    {
     "cell_type": "markdown",
     "metadata": {},
     "source": [
      "which shows the value of $u$ for which the envelope of the amplitude of the convolution function declines to $\\epsilon_w$ of the maximum value. This is taken to be radius of the convolution kernels. The linear size of the convolution functions in pixels is twice this radius divided by the size $uv$ plance cells (which is $1/\\theta_{FoV}$, giving an overall expression $N_{GW} (w)$ which is:"
     ]
    },
    {
     "cell_type": "markdown",
     "metadata": {},
     "source": [
      "$$N_{GW}(w) = 2 \\theta_{FoV} \\sqrt{ \\left(\\frac{w \\, \\theta_{FoV}}{2} \\right)^2 + \\frac{w^{3/2} \\, \\theta_{FoV}}{2 \\pi \\epsilon_w} }$$"
     ]
    },
    {
     "cell_type": "markdown",
     "metadata": {},
     "source": [
      "Here $\\theta_{FoV}$ is the field of view as previously and $\\epsilon_\ud835\udc64$ is the amplitude level of the $w$ function to which we want the\n",
      "kernel to extend to."
     ]
    },
    {
     "cell_type": "code",
     "collapsed": false,
     "input": [
      "w, epsilon_w = symbols(\"w \\epsilon_w\")\n",
      "NGW = 2*fov_angle*sqrt( (w * pix_angle/2)**2 + (w**(3/2) * fov_angle)/(2*pi*epsilon_w) )\n",
      "NGW"
     ],
     "language": "python",
     "metadata": {},
     "outputs": [
      {
       "latex": [
        "$$\\frac{15.2 Q_{FoV} \\lambda_{{sub,max}}}{\\pi D_{s}} \\sqrt{\\frac{3.8 Q_{FoV} \\lambda_{{sub,max}} w^{1.5}}{\\pi^{2} D_{s} \\epsilon_{w}} + \\frac{9 \\lambda_{{sub,min}}^{2} w^{2}}{64 B_{max}^{2} Q_{pix}^{2}}}$$"
       ],
       "metadata": {},
       "output_type": "pyout",
       "png": "[encoded data removed]",
       "prompt_number": 14,
       "text": [
        "                                   ___________________________________________\n",
        "                                  \u2571                              1.5          \n",
        "                                 \u2571  3.8\u22c5Q_FoV\u22c5\\lambda_{sub,max}\u22c5w      9\u22c5\\lamb\n",
        "15.2\u22c5Q_FoV\u22c5\\lambda_{sub,max}\u22c5   \u2571   \u2500\u2500\u2500\u2500\u2500\u2500\u2500\u2500\u2500\u2500\u2500\u2500\u2500\u2500\u2500\u2500\u2500\u2500\u2500\u2500\u2500\u2500\u2500\u2500\u2500\u2500\u2500\u2500\u2500\u2500\u2500\u2500 + \u2500\u2500\u2500\u2500\u2500\u2500\u2500\n",
        "                               \u2571            2                                 \n",
        "                             \u2572\u2571            \u03c0 \u22c5D_s\u22c5\\epsilon_w               64\u22c5\n",
        "\u2500\u2500\u2500\u2500\u2500\u2500\u2500\u2500\u2500\u2500\u2500\u2500\u2500\u2500\u2500\u2500\u2500\u2500\u2500\u2500\u2500\u2500\u2500\u2500\u2500\u2500\u2500\u2500\u2500\u2500\u2500\u2500\u2500\u2500\u2500\u2500\u2500\u2500\u2500\u2500\u2500\u2500\u2500\u2500\u2500\u2500\u2500\u2500\u2500\u2500\u2500\u2500\u2500\u2500\u2500\u2500\u2500\u2500\u2500\u2500\u2500\u2500\u2500\u2500\u2500\u2500\u2500\u2500\u2500\u2500\u2500\u2500\u2500\u2500\u2500\u2500\u2500\u2500\n",
        "                                             \u03c0\u22c5D_s                            \n",
        "\n",
        "_________________\n",
        "            2  2 \n",
        "da_{sub,min} \u22c5w  \n",
        "\u2500\u2500\u2500\u2500\u2500\u2500\u2500\u2500\u2500\u2500\u2500\u2500\u2500\u2500\u2500\u2500 \n",
        "     2      2    \n",
        "B_max \u22c5Q_pix     \n",
        "\u2500\u2500\u2500\u2500\u2500\u2500\u2500\u2500\u2500\u2500\u2500\u2500\u2500\u2500\u2500\u2500\u2500\n",
        "                 "
       ]
      }
     ],
     "prompt_number": 14
    },
    {
     "cell_type": "markdown",
     "metadata": {},
     "source": [
      "This use of the first order expansion in $\\epsilon_w$ of the support of the w convolution function is in contrast to previous work [RD04, RD07, RD09]. The impact of this change is to increase the size of the convolution function. "
     ]
    },
    {
     "cell_type": "markdown",
     "metadata": {},
     "source": [
      "It is conservatively assumed that same sized kernels are used for _all visibilities_, i.e., the kernel is not\n",
      "dependent on the actual $w$ value."
     ]
    },
    {
     "cell_type": "markdown",
     "metadata": {},
     "source": [
      "As described above we size the kernel for maximum $w$ deviation ($\\Delta \ud835\udc64_{max}$) given snapshot duration and\n",
      "maximum baseline length:"
     ]
    },
    {
     "cell_type": "markdown",
     "metadata": {},
     "source": [
      "$$\\Delta \ud835\udc64_{max} = \\frac{B_{max} \\Omega_E T_{snap} Q_w}{2 \\lambda_{min}}$$"
     ]
    },
    {
     "cell_type": "code",
     "collapsed": false,
     "input": [
      "wmax_delta, Qw = symbols(\"\\Delta{}w_{max} Q_w\")\n",
      "wmax_delta = Bmax*Omega_E*Tsnap*Qw/2/wl_sub_min\n",
      "wmax_delta"
     ],
     "language": "python",
     "metadata": {},
     "outputs": [
      {
       "latex": [
        "$$\\frac{B_{max} \\Omega_{E} Q_{w} T_{snap}}{2 \\lambda_{{sub,min}}}$$"
       ],
       "metadata": {},
       "output_type": "pyout",
       "png": "[encoded data removed]",
       "prompt_number": 26,
       "text": [
        "B_max\u22c5\u03a9_E\u22c5Q_w\u22c5T_snap\n",
        "\u2500\u2500\u2500\u2500\u2500\u2500\u2500\u2500\u2500\u2500\u2500\u2500\u2500\u2500\u2500\u2500\u2500\u2500\u2500\u2500\n",
        "2\u22c5\\lambda_{sub,min} "
       ]
      }
     ],
     "prompt_number": 26
    },
    {
     "cell_type": "markdown",
     "metadata": {},
     "source": [
      "Here factor of two in denominator accounts for fact that the distance from the centre of the array, which is approximately half the maximum baseline is the appropriate distance to use. Parameter $Q_w$ can take the range between 0 and 1 and allows for the possibility that w-correction is for less than maximal $w$ deviation, e.g., because high-w visibilities are to be discarded or imperfectly corrected, or to account for the fact that many visibilities will need kernels smaller than the kernel size set by $\\Delta{}w_{max}$ (e.g. [RD7] recommends range 0.1-0.3, see also [RD11] for discarding of high w visibilities)"
     ]
    },
    {
     "cell_type": "markdown",
     "metadata": {},
     "source": [
      "Assuming kernels combine in quadrature (Section 8.2) the total linear kernel size is:"
     ]
    },
    {
     "cell_type": "markdown",
     "metadata": {},
     "source": [
      "$$N_{kernel} = \\sqrt{N_{GW}^2 + N_{AA}^2}$$"
     ]
    },
    {
     "cell_type": "markdown",
     "metadata": {},
     "source": [
      "Here $N_{AA}$ is the size of the A convolution kernel and $N_{GW}$ is the size of the support of the w kernel evaluated at maximum $w$, i.e.,  $N_{GW}=N_{GW}(\\Delta{}w_{max})$."
     ]
    },
    {
     "cell_type": "code",
     "collapsed": false,
     "input": [
      "NAA = symbols(\"N_{AA}\", positive=True, integer=True)\n",
      "Nkernel = symbols(\"N_{kernel}\", positive=True)\n",
      "Nkernel = sqrt(NGW.subs({w: wmax_delta})**2 + NAA**2)\n",
      "Nkernel"
     ],
     "language": "python",
     "metadata": {},
     "outputs": [
      {
       "latex": [
        "$$\\sqrt{N_{{AA}}^{2} + \\frac{231.04 Q_{FoV}^{2} \\lambda_{{sub,max}}^{2}}{\\pi^{2} D_{s}^{2}} \\left(\\frac{3.8 B_{max}^{1.5} \\Omega_{E}^{1.5} Q_{FoV} Q_{w}^{1.5} T_{snap}^{1.5} \\lambda_{{sub,max}}}{2^{1.5} \\pi^{2} D_{s} \\epsilon_{w} \\lambda_{{sub,min}}^{1.5}} + \\frac{9 \\Omega_{E}^{2} Q_{w}^{2} T_{snap}^{2}}{256 Q_{pix}^{2}}\\right)}$$"
       ],
       "metadata": {},
       "output_type": "pyout",
       "png": "[encoded data removed]",
       "prompt_number": 27,
       "text": [
        "         _____________________________________________________________________\n",
        "        \u2571                                            \u239b     -1.5      1.5    1.\n",
        "       \u2571                        2                  2 \u239c3.8\u22c52    \u22c5B_max   \u22c5\u03a9_E  \n",
        "      \u2571             231.04\u22c5Q_FoV \u22c5\\lambda_{sub,max} \u22c5\u239c\u2500\u2500\u2500\u2500\u2500\u2500\u2500\u2500\u2500\u2500\u2500\u2500\u2500\u2500\u2500\u2500\u2500\u2500\u2500\u2500\u2500\u2500\u2500\u2500\n",
        "     \u2571                                               \u239c                        \n",
        "    \u2571           2                                    \u239d                        \n",
        "   \u2571      N_{AA}  + \u2500\u2500\u2500\u2500\u2500\u2500\u2500\u2500\u2500\u2500\u2500\u2500\u2500\u2500\u2500\u2500\u2500\u2500\u2500\u2500\u2500\u2500\u2500\u2500\u2500\u2500\u2500\u2500\u2500\u2500\u2500\u2500\u2500\u2500\u2500\u2500\u2500\u2500\u2500\u2500\u2500\u2500\u2500\u2500\u2500\u2500\u2500\u2500\u2500\u2500\u2500\u2500\u2500\u2500\u2500\u2500\u2500\u2500\n",
        "  \u2571                                                                           \n",
        "\u2572\u2571                                                                            \n",
        "\n",
        "______________________________________________________________________________\n",
        "5          1.5       1.5                                    -1.5        2    2\n",
        " \u22c5Q_FoV\u22c5Q_w   \u22c5T_snap   \u22c5\\lambda_{sub,max}\u22c5\\lambda_{sub,min}       9\u22c5\u03a9_E \u22c5Q_w \n",
        "\u2500\u2500\u2500\u2500\u2500\u2500\u2500\u2500\u2500\u2500\u2500\u2500\u2500\u2500\u2500\u2500\u2500\u2500\u2500\u2500\u2500\u2500\u2500\u2500\u2500\u2500\u2500\u2500\u2500\u2500\u2500\u2500\u2500\u2500\u2500\u2500\u2500\u2500\u2500\u2500\u2500\u2500\u2500\u2500\u2500\u2500\u2500\u2500\u2500\u2500\u2500\u2500\u2500\u2500\u2500\u2500\u2500\u2500\u2500\u2500\u2500\u2500\u2500\u2500 + \u2500\u2500\u2500\u2500\u2500\u2500\u2500\u2500\u2500\u2500\u2500\n",
        "            2                                                                 \n",
        "           \u03c0 \u22c5D_s\u22c5\\epsilon_w                                            256\u22c5Q_\n",
        "\u2500\u2500\u2500\u2500\u2500\u2500\u2500\u2500\u2500\u2500\u2500\u2500\u2500\u2500\u2500\u2500\u2500\u2500\u2500\u2500\u2500\u2500\u2500\u2500\u2500\u2500\u2500\u2500\u2500\u2500\u2500\u2500\u2500\u2500\u2500\u2500\u2500\u2500\u2500\u2500\u2500\u2500\u2500\u2500\u2500\u2500\u2500\u2500\u2500\u2500\u2500\u2500\u2500\u2500\u2500\u2500\u2500\u2500\u2500\u2500\u2500\u2500\u2500\u2500\u2500\u2500\u2500\u2500\u2500\u2500\u2500\u2500\u2500\u2500\u2500\u2500\u2500\u2500\n",
        "            2    2                                                            \n",
        "           \u03c0 \u22c5D_s                                                             \n",
        "\n",
        "__________\n",
        "       2\u239e \n",
        "\u22c5T_snap \u239f \n",
        "\u2500\u2500\u2500\u2500\u2500\u2500\u2500\u2500\u239f \n",
        "   2    \u239f \n",
        "pix     \u23a0 \n",
        "\u2500\u2500\u2500\u2500\u2500\u2500\u2500\u2500\u2500 \n",
        "          \n",
        "          "
       ]
      }
     ],
     "prompt_number": 27
    },
    {
     "cell_type": "code",
     "collapsed": false,
     "input": [
      "Nkernel_min = diff(Nkernel, Tsnap)\n",
      "Nkernel_min"
     ],
     "language": "python",
     "metadata": {},
     "outputs": [
      {
       "latex": [
        "$$\\frac{115.52 Q_{FoV}^{2} \\lambda_{{sub,max}}^{2} \\left(\\frac{5.7 B_{max}^{1.5} \\Omega_{E}^{1.5} Q_{FoV} Q_{w}^{1.5} T_{snap}^{0.5} \\lambda_{{sub,max}}}{2^{1.5} \\pi^{2} D_{s} \\epsilon_{w} \\lambda_{{sub,min}}^{1.5}} + \\frac{9 \\Omega_{E}^{2} Q_{w}^{2} T_{snap}}{128 Q_{pix}^{2}}\\right)}{\\pi^{2} D_{s}^{2} \\sqrt{N_{{AA}}^{2} + \\frac{231.04 Q_{FoV}^{2} \\lambda_{{sub,max}}^{2}}{\\pi^{2} D_{s}^{2}} \\left(\\frac{3.8 B_{max}^{1.5} \\Omega_{E}^{1.5} Q_{FoV} Q_{w}^{1.5} T_{snap}^{1.5} \\lambda_{{sub,max}}}{2^{1.5} \\pi^{2} D_{s} \\epsilon_{w} \\lambda_{{sub,min}}^{1.5}} + \\frac{9 \\Omega_{E}^{2} Q_{w}^{2} T_{snap}^{2}}{256 Q_{pix}^{2}}\\right)}}$$"
       ],
       "metadata": {},
       "output_type": "pyout",
       "png": "[encoded data removed]",
       "prompt_number": 29,
       "text": [
        "                                                \u239b     -1.5      1.5    1.5    \n",
        "                           2                  2 \u239c5.7\u22c52    \u22c5B_max   \u22c5\u03a9_E   \u22c5Q_F\n",
        "               115.52\u22c5Q_FoV \u22c5\\lambda_{sub,max} \u22c5\u239c\u2500\u2500\u2500\u2500\u2500\u2500\u2500\u2500\u2500\u2500\u2500\u2500\u2500\u2500\u2500\u2500\u2500\u2500\u2500\u2500\u2500\u2500\u2500\u2500\u2500\u2500\u2500\u2500\u2500\n",
        "                                                \u239c                             \n",
        "                                                \u239d                             \n",
        "\u2500\u2500\u2500\u2500\u2500\u2500\u2500\u2500\u2500\u2500\u2500\u2500\u2500\u2500\u2500\u2500\u2500\u2500\u2500\u2500\u2500\u2500\u2500\u2500\u2500\u2500\u2500\u2500\u2500\u2500\u2500\u2500\u2500\u2500\u2500\u2500\u2500\u2500\u2500\u2500\u2500\u2500\u2500\u2500\u2500\u2500\u2500\u2500\u2500\u2500\u2500\u2500\u2500\u2500\u2500\u2500\u2500\u2500\u2500\u2500\u2500\u2500\u2500\u2500\u2500\u2500\u2500\u2500\u2500\u2500\u2500\u2500\u2500\u2500\u2500\u2500\u2500\u2500\n",
        "                 _____________________________________________________________\n",
        "                \u2571                                            \u239b     -1.5      1\n",
        "               \u2571                        2                  2 \u239c3.8\u22c52    \u22c5B_max \n",
        "              \u2571             231.04\u22c5Q_FoV \u22c5\\lambda_{sub,max} \u22c5\u239c\u2500\u2500\u2500\u2500\u2500\u2500\u2500\u2500\u2500\u2500\u2500\u2500\u2500\u2500\u2500\u2500\n",
        "             \u2571                                               \u239c                \n",
        " 2    2     \u2571           2                                    \u239d                \n",
        "\u03c0 \u22c5D_s \u22c5   \u2571      N_{AA}  + \u2500\u2500\u2500\u2500\u2500\u2500\u2500\u2500\u2500\u2500\u2500\u2500\u2500\u2500\u2500\u2500\u2500\u2500\u2500\u2500\u2500\u2500\u2500\u2500\u2500\u2500\u2500\u2500\u2500\u2500\u2500\u2500\u2500\u2500\u2500\u2500\u2500\u2500\u2500\u2500\u2500\u2500\u2500\u2500\u2500\u2500\u2500\u2500\u2500\u2500\n",
        "          \u2571                                                                   \n",
        "        \u2572\u2571                                                                    \n",
        "\n",
        "      1.5       0.5                                    -1.5        2    2     \n",
        "oV\u22c5Q_w   \u22c5T_snap   \u22c5\\lambda_{sub,max}\u22c5\\lambda_{sub,min}       9\u22c5\u03a9_E \u22c5Q_w \u22c5T_sn\n",
        "\u2500\u2500\u2500\u2500\u2500\u2500\u2500\u2500\u2500\u2500\u2500\u2500\u2500\u2500\u2500\u2500\u2500\u2500\u2500\u2500\u2500\u2500\u2500\u2500\u2500\u2500\u2500\u2500\u2500\u2500\u2500\u2500\u2500\u2500\u2500\u2500\u2500\u2500\u2500\u2500\u2500\u2500\u2500\u2500\u2500\u2500\u2500\u2500\u2500\u2500\u2500\u2500\u2500\u2500\u2500\u2500\u2500\u2500\u2500 + \u2500\u2500\u2500\u2500\u2500\u2500\u2500\u2500\u2500\u2500\u2500\u2500\u2500\u2500\u2500\u2500\n",
        "       2                                                                   2  \n",
        "      \u03c0 \u22c5D_s\u22c5\\epsilon_w                                           128\u22c5Q_pix   \n",
        "\u2500\u2500\u2500\u2500\u2500\u2500\u2500\u2500\u2500\u2500\u2500\u2500\u2500\u2500\u2500\u2500\u2500\u2500\u2500\u2500\u2500\u2500\u2500\u2500\u2500\u2500\u2500\u2500\u2500\u2500\u2500\u2500\u2500\u2500\u2500\u2500\u2500\u2500\u2500\u2500\u2500\u2500\u2500\u2500\u2500\u2500\u2500\u2500\u2500\u2500\u2500\u2500\u2500\u2500\u2500\u2500\u2500\u2500\u2500\u2500\u2500\u2500\u2500\u2500\u2500\u2500\u2500\u2500\u2500\u2500\u2500\u2500\u2500\u2500\u2500\u2500\u2500\u2500\n",
        "______________________________________________________________________________\n",
        ".5    1.5          1.5       1.5                                    -1.5      \n",
        "  \u22c5\u03a9_E   \u22c5Q_FoV\u22c5Q_w   \u22c5T_snap   \u22c5\\lambda_{sub,max}\u22c5\\lambda_{sub,min}       9\u22c5\u03a9\n",
        "\u2500\u2500\u2500\u2500\u2500\u2500\u2500\u2500\u2500\u2500\u2500\u2500\u2500\u2500\u2500\u2500\u2500\u2500\u2500\u2500\u2500\u2500\u2500\u2500\u2500\u2500\u2500\u2500\u2500\u2500\u2500\u2500\u2500\u2500\u2500\u2500\u2500\u2500\u2500\u2500\u2500\u2500\u2500\u2500\u2500\u2500\u2500\u2500\u2500\u2500\u2500\u2500\u2500\u2500\u2500\u2500\u2500\u2500\u2500\u2500\u2500\u2500\u2500\u2500\u2500\u2500\u2500\u2500\u2500\u2500\u2500\u2500 + \u2500\u2500\u2500\n",
        "                    2                                                         \n",
        "                   \u03c0 \u22c5D_s\u22c5\\epsilon_w                                          \n",
        "\u2500\u2500\u2500\u2500\u2500\u2500\u2500\u2500\u2500\u2500\u2500\u2500\u2500\u2500\u2500\u2500\u2500\u2500\u2500\u2500\u2500\u2500\u2500\u2500\u2500\u2500\u2500\u2500\u2500\u2500\u2500\u2500\u2500\u2500\u2500\u2500\u2500\u2500\u2500\u2500\u2500\u2500\u2500\u2500\u2500\u2500\u2500\u2500\u2500\u2500\u2500\u2500\u2500\u2500\u2500\u2500\u2500\u2500\u2500\u2500\u2500\u2500\u2500\u2500\u2500\u2500\u2500\u2500\u2500\u2500\u2500\u2500\u2500\u2500\u2500\u2500\u2500\u2500\n",
        "                    2    2                                                    \n",
        "                   \u03c0 \u22c5D_s                                                     \n",
        "\n",
        "  \u239e               \n",
        "ap\u239f               \n",
        "\u2500\u2500\u239f               \n",
        "  \u239f               \n",
        "  \u23a0               \n",
        "\u2500\u2500\u2500\u2500\u2500\u2500\u2500\u2500\u2500\u2500\u2500\u2500\u2500\u2500\u2500\u2500\u2500\u2500\n",
        "__________________\n",
        "  2    2       2\u239e \n",
        "_E \u22c5Q_w \u22c5T_snap \u239f \n",
        "\u2500\u2500\u2500\u2500\u2500\u2500\u2500\u2500\u2500\u2500\u2500\u2500\u2500\u2500\u2500\u2500\u239f \n",
        "           2    \u239f \n",
        "  256\u22c5Q_pix     \u23a0 \n",
        "\u2500\u2500\u2500\u2500\u2500\u2500\u2500\u2500\u2500\u2500\u2500\u2500\u2500\u2500\u2500\u2500\u2500 \n",
        "                  \n",
        "                  "
       ]
      }
     ],
     "prompt_number": 29
    },
    {
     "cell_type": "code",
     "collapsed": false,
     "input": [
      "Nkernel_min_f = Nkernel_min.subs({NAA: 9, Qfov: 1, Qpix: 2.5, Qw: 1, epsilon_w: 1/100, Omega_E: 0.0000727*u.rad/u.s, wl_sub_max: wl, wl_sub_min: wl}).subs(telescope_info['SKA1Low']).subs({u.s: 1}).evalf()\n",
      "plot(Nkernel_min_f, xscale='log')"
     ],
     "language": "python",
     "metadata": {},
     "outputs": [
      {
       "metadata": {},
       "output_type": "pyout",
       "prompt_number": 46,
       "text": [
        "<sympy.plotting.plot.Plot at 0x1157ab390>"
       ]
      }
     ],
     "prompt_number": 46
    },
    {
     "cell_type": "code",
     "collapsed": false,
     "input": [
      "help(plot)"
     ],
     "language": "python",
     "metadata": {},
     "outputs": [
      {
       "output_type": "stream",
       "stream": "stdout",
       "text": [
        "Help on function plot in module sympy.plotting.plot:\n",
        "\n",
        "plot(*args, **kwargs)\n",
        "    Plots a function of a single variable and returns an instance of\n",
        "    the ``Plot`` class (also, see the description of the\n",
        "    ``show`` keyword argument below).\n",
        "    \n",
        "    The plotting uses an adaptive algorithm which samples recursively to\n",
        "    accurately plot the plot. The adaptive algorithm uses a random point near\n",
        "    the midpoint of two points that has to be further sampled. Hence the same\n",
        "    plots can appear slightly different.\n",
        "    \n",
        "    Usage\n",
        "    =====\n",
        "    \n",
        "    Single Plot\n",
        "    \n",
        "    ``plot(expr, range, **kwargs)``\n",
        "    \n",
        "    If the range is not specified, then a default range of (-10, 10) is used.\n",
        "    \n",
        "    Multiple plots with same range.\n",
        "    \n",
        "    ``plot(expr1, expr2, ..., range, **kwargs)``\n",
        "    \n",
        "    If the range is not specified, then a default range of (-10, 10) is used.\n",
        "    \n",
        "    Multiple plots with different ranges.\n",
        "    \n",
        "    ``plot((expr1, range), (expr2, range), ..., **kwargs)``\n",
        "    \n",
        "    Range has to be specified for every expression.\n",
        "    \n",
        "    Default range may change in the future if a more advanced default range\n",
        "    detection algorithm is implemented.\n",
        "    \n",
        "    Arguments\n",
        "    =========\n",
        "    \n",
        "    ``expr`` : Expression representing the function of single variable\n",
        "    \n",
        "    ``range``: (x, 0, 5), A 3-tuple denoting the range of the free variable.\n",
        "    \n",
        "    Keyword Arguments\n",
        "    =================\n",
        "    \n",
        "    Arguments for ``plot`` function:\n",
        "    \n",
        "    ``show``: Boolean. The default value is set to ``True``. Set show to\n",
        "    ``False`` and the function will not display the plot. The returned\n",
        "    instance of the ``Plot`` class can then be used to save or display\n",
        "    the plot by calling the ``save()`` and ``show()`` methods\n",
        "    respectively.\n",
        "    \n",
        "    Arguments for ``LineOver1DRangeSeries`` class:\n",
        "    \n",
        "    ``adaptive``: Boolean. The default value is set to True. Set adaptive to False and\n",
        "    specify ``nb_of_points`` if uniform sampling is required.\n",
        "    \n",
        "    ``depth``: int Recursion depth of the adaptive algorithm. A depth of value ``n``\n",
        "    samples a maximum of `2^{n}` points.\n",
        "    \n",
        "    ``nb_of_points``: int. Used when the ``adaptive`` is set to False. The function\n",
        "    is uniformly sampled at ``nb_of_points`` number of points.\n",
        "    \n",
        "    Aesthetics options:\n",
        "    \n",
        "    ``line_color``: float. Specifies the color for the plot.\n",
        "    See ``Plot`` to see how to set color for the plots.\n",
        "    \n",
        "    If there are multiple plots, then the same series series are applied to\n",
        "    all the plots. If you want to set these options separately, you can index\n",
        "    the ``Plot`` object returned and set it.\n",
        "    \n",
        "    Arguments for ``Plot`` class:\n",
        "    \n",
        "    ``title`` : str. Title of the plot. It is set to the latex representation of\n",
        "    the expression, if the plot has only one expression.\n",
        "    \n",
        "    ``xlabel`` : str. Label for the x - axis.\n",
        "    \n",
        "    ``ylabel`` : str. Label for the y - axis.\n",
        "    \n",
        "    ``xscale``: {'linear', 'log'} Sets the scaling of the x - axis.\n",
        "    \n",
        "    ``yscale``: {'linear', 'log'} Sets the scaling if the y - axis.\n",
        "    \n",
        "    ``axis_center``: tuple of two floats denoting the coordinates of the center or\n",
        "    {'center', 'auto'}\n",
        "    \n",
        "    ``xlim`` : tuple of two floats, denoting the x - axis limits.\n",
        "    \n",
        "    ``ylim`` : tuple of two floats, denoting the y - axis limits.\n",
        "    \n",
        "    Examples\n",
        "    ========\n",
        "    \n",
        "    >>> from sympy import symbols\n",
        "    >>> from sympy.plotting import plot\n",
        "    >>> x = symbols('x')\n",
        "    \n",
        "    Single Plot\n",
        "    \n",
        "    >>> plot(x**2, (x, -5, 5))\n",
        "    Plot object containing:\n",
        "    [0]: cartesian line: x**2 for x over (-5.0, 5.0)\n",
        "    \n",
        "    Multiple plots with single range.\n",
        "    \n",
        "    >>> plot(x, x**2, x**3, (x, -5, 5))\n",
        "    Plot object containing:\n",
        "    [0]: cartesian line: x for x over (-5.0, 5.0)\n",
        "    [1]: cartesian line: x**2 for x over (-5.0, 5.0)\n",
        "    [2]: cartesian line: x**3 for x over (-5.0, 5.0)\n",
        "    \n",
        "    \n",
        "    Multiple plots with different ranges.\n",
        "    \n",
        "    >>> plot((x**2, (x, -6, 6)), (x, (x, -5, 5)))\n",
        "    Plot object containing:\n",
        "    [0]: cartesian line: x**2 for x over (-6.0, 6.0)\n",
        "    [1]: cartesian line: x for x over (-5.0, 5.0)\n",
        "    \n",
        "    No adaptive sampling.\n",
        "    \n",
        "    >>> plot(x**2, adaptive=False, nb_of_points=400)\n",
        "    Plot object containing:\n",
        "    [0]: cartesian line: x**2 for x over (-10.0, 10.0)\n",
        "    \n",
        "    See Also\n",
        "    ========\n",
        "    \n",
        "    Plot, LineOver1DRangeSeries.\n",
        "\n"
       ]
      }
     ],
     "prompt_number": 45
    },
    {
     "cell_type": "code",
     "collapsed": false,
     "input": [
      "nsolve(Nkernel_min_f, Tsnap, 50)"
     ],
     "language": "python",
     "metadata": {},
     "outputs": [
      {
       "ename": "ValueError",
       "evalue": "Could not find root within given tolerance. (16.1379 > 2.1684e-19)\nTry another starting point or tweak arguments.",
       "output_type": "pyerr",
       "traceback": [
        "\u001b[0;31m---------------------------------------------------------------------------\u001b[0m\n\u001b[0;31mValueError\u001b[0m                                Traceback (most recent call last)",
        "\u001b[0;32m<ipython-input-42-09bf66120a8d>\u001b[0m in \u001b[0;36m<module>\u001b[0;34m()\u001b[0m\n\u001b[0;32m----> 1\u001b[0;31m \u001b[0mnsolve\u001b[0m\u001b[0;34m(\u001b[0m\u001b[0mNkernel_min_f\u001b[0m\u001b[0;34m,\u001b[0m \u001b[0mTsnap\u001b[0m\u001b[0;34m,\u001b[0m \u001b[0;36m50\u001b[0m\u001b[0;34m)\u001b[0m\u001b[0;34m\u001b[0m\u001b[0m\n\u001b[0m",
        "\u001b[0;32m/Users/j.santander-vela/Library/Enthought/Canopy_64bit/User/lib/python2.7/site-packages/sympy/solvers/solvers.pyc\u001b[0m in \u001b[0;36mnsolve\u001b[0;34m(*args, **kwargs)\u001b[0m\n\u001b[1;32m   2456\u001b[0m \u001b[0;34m\u001b[0m\u001b[0m\n\u001b[1;32m   2457\u001b[0m         \u001b[0mf\u001b[0m \u001b[0;34m=\u001b[0m \u001b[0mlambdify\u001b[0m\u001b[0;34m(\u001b[0m\u001b[0mfargs\u001b[0m\u001b[0;34m,\u001b[0m \u001b[0mf\u001b[0m\u001b[0;34m,\u001b[0m \u001b[0mmodules\u001b[0m\u001b[0;34m)\u001b[0m\u001b[0;34m\u001b[0m\u001b[0m\n\u001b[0;32m-> 2458\u001b[0;31m         \u001b[0;32mreturn\u001b[0m \u001b[0mfindroot\u001b[0m\u001b[0;34m(\u001b[0m\u001b[0mf\u001b[0m\u001b[0;34m,\u001b[0m \u001b[0mx0\u001b[0m\u001b[0;34m,\u001b[0m \u001b[0;34m**\u001b[0m\u001b[0mkwargs\u001b[0m\u001b[0;34m)\u001b[0m\u001b[0;34m\u001b[0m\u001b[0m\n\u001b[0m\u001b[1;32m   2459\u001b[0m     \u001b[0;32mif\u001b[0m \u001b[0mlen\u001b[0m\u001b[0;34m(\u001b[0m\u001b[0mfargs\u001b[0m\u001b[0;34m)\u001b[0m \u001b[0;34m>\u001b[0m \u001b[0mf\u001b[0m\u001b[0;34m.\u001b[0m\u001b[0mcols\u001b[0m\u001b[0;34m:\u001b[0m\u001b[0;34m\u001b[0m\u001b[0m\n\u001b[1;32m   2460\u001b[0m         raise NotImplementedError(filldedent('''\n",
        "\u001b[0;32m/Users/j.santander-vela/Library/Enthought/Canopy_64bit/User/lib/python2.7/site-packages/sympy/mpmath/calculus/optimization.pyc\u001b[0m in \u001b[0;36mfindroot\u001b[0;34m(ctx, f, x0, solver, tol, verbose, verify, **kwargs)\u001b[0m\n\u001b[1;32m    973\u001b[0m                              \u001b[0;34m'(%g > %g)\\n'\u001b[0m\u001b[0;34m\u001b[0m\u001b[0m\n\u001b[1;32m    974\u001b[0m                              \u001b[0;34m'Try another starting point or tweak arguments.'\u001b[0m\u001b[0;34m\u001b[0m\u001b[0m\n\u001b[0;32m--> 975\u001b[0;31m                              % (norm(f(*xl))**2, tol))\n\u001b[0m\u001b[1;32m    976\u001b[0m         \u001b[0;32mreturn\u001b[0m \u001b[0mx\u001b[0m\u001b[0;34m\u001b[0m\u001b[0m\n\u001b[1;32m    977\u001b[0m     \u001b[0;32mfinally\u001b[0m\u001b[0;34m:\u001b[0m\u001b[0;34m\u001b[0m\u001b[0m\n",
        "\u001b[0;31mValueError\u001b[0m: Could not find root within given tolerance. (16.1379 > 2.1684e-19)\nTry another starting point or tweak arguments."
       ]
      }
     ],
     "prompt_number": 42
    },
    {
     "cell_type": "heading",
     "level": 2,
     "metadata": {},
     "source": [
      "Number of frequency channels for gridding"
     ]
    },
    {
     "cell_type": "markdown",
     "metadata": {},
     "source": [
      "In the spectral line imaging case we are required to retain the full frequency resolution output by the correlator. It is therefore necessary the grid visibilities in frequency channels as received from correlator and hence:"
     ]
    },
    {
     "cell_type": "markdown",
     "metadata": {},
     "source": [
      "$$N_{f,grid}^{spec} = N_{f,corr}$$"
     ]
    },
    {
     "cell_type": "markdown",
     "metadata": {},
     "source": [
      "In the case of continuum imaging and fast imaging the visibilities can generally be binned in frequency to an extent determined by the bandwidth smearing condition and the required output frequency resolution. The bandwidth smearing limit is given by:"
     ]
    },
    {
     "cell_type": "markdown",
     "metadata": {},
     "source": [
      "$$\\frac{\\Delta f}{f} = \\frac{\\theta_{beam}}{\\theta_{FoV}} \\frac{1}{Q_{bw}} = \\frac{0.6 D_s}{B Q_{FoV}} \\frac{1}{Q_{bw}}$$"
     ]
    },
    {
     "cell_type": "code",
     "collapsed": false,
     "input": [
      "Qbw = symbols('Q_bw')\n",
      "(pix_angle/fov_angle/Qbw).subs({wl_sub_min: wl, wl_sub_max: wl, Qpix: 1}).evalf(2)"
     ],
     "language": "python",
     "metadata": {},
     "outputs": [
      {
       "latex": [
        "$$\\frac{0.31 D_{s}}{B_{max} Q_{FoV} Q_{bw}}$$"
       ],
       "metadata": {},
       "output_type": "pyout",
       "png": "[encoded data removed]",
       "prompt_number": 18,
       "text": [
        "    0.31\u22c5D_s    \n",
        "\u2500\u2500\u2500\u2500\u2500\u2500\u2500\u2500\u2500\u2500\u2500\u2500\u2500\u2500\u2500\u2500\n",
        "B_max\u22c5Q_FoV\u22c5Q_bw"
       ]
      }
     ],
     "prompt_number": 18
    },
    {
     "cell_type": "markdown",
     "metadata": {},
     "source": [
      "where $\\frac{\\Delta f}{f}$ is the fractional bandwidth to avoid bandwidth smearing, $Q_{bw}$ is a quality factor controlling how well this condition is to be satisfied, $B$ is the baseline length, and $\\theta_{FoV}$ is the full field of view as defined previously (sometimes half field-of-view is used in this expression but full field of view is more conservative and is what is used in [RD17]). Since the bandwidth condition is a fractional bandwidth condition it is most efficient to bin frequency in logarithmically spaced bins. At a single baseline length the number of frequency channels required is:"
     ]
    },
    {
     "cell_type": "markdown",
     "metadata": {},
     "source": [
      "$$N_f(B) = \\frac{\\log \\left( \\frac{\\lambda_{max}}{\\lambda_{min}} \\right)}{\\log \\left( 1 + \\frac{0.6 D_s}{B Q_{FoV}} \\frac{1}{Q_{bw}} \\right) }$$"
     ]
    },
    {
     "cell_type": "code",
     "collapsed": false,
     "input": [
      "Nf_B = log(wl_sub_max/wl_sub_min)/log(1+pix_angle/fov_angle/Qbw)\n",
      "Nf_B"
     ],
     "language": "python",
     "metadata": {},
     "outputs": [
      {
       "latex": [
        "$$\\frac{\\log{\\left (\\frac{\\lambda_{{sub,max}}}{\\lambda_{{sub,min}}} \\right )}}{\\log{\\left (1 + \\frac{0.0986842105263158 \\pi D_{s} \\lambda_{{sub,min}}}{B_{max} Q_{FoV} Q_{bw} Q_{pix} \\lambda_{{sub,max}}} \\right )}}$$"
       ],
       "metadata": {},
       "output_type": "pyout",
       "png": "[encoded data removed]",
       "prompt_number": 23,
       "text": [
        "                  \u239b\\lambda_{sub,max}\u239e              \n",
        "               log\u239c\u2500\u2500\u2500\u2500\u2500\u2500\u2500\u2500\u2500\u2500\u2500\u2500\u2500\u2500\u2500\u2500\u2500\u239f              \n",
        "                  \u239d\\lambda_{sub,min}\u23a0              \n",
        "\u2500\u2500\u2500\u2500\u2500\u2500\u2500\u2500\u2500\u2500\u2500\u2500\u2500\u2500\u2500\u2500\u2500\u2500\u2500\u2500\u2500\u2500\u2500\u2500\u2500\u2500\u2500\u2500\u2500\u2500\u2500\u2500\u2500\u2500\u2500\u2500\u2500\u2500\u2500\u2500\u2500\u2500\u2500\u2500\u2500\u2500\u2500\u2500\u2500\u2500\u2500\n",
        "   \u239b    0.0986842105263158\u22c5\u03c0\u22c5D_s\u22c5\\lambda_{sub,min}\u239e\n",
        "log\u239c1 + \u2500\u2500\u2500\u2500\u2500\u2500\u2500\u2500\u2500\u2500\u2500\u2500\u2500\u2500\u2500\u2500\u2500\u2500\u2500\u2500\u2500\u2500\u2500\u2500\u2500\u2500\u2500\u2500\u2500\u2500\u2500\u2500\u2500\u2500\u2500\u2500\u2500\u2500\u2500\u2500\u2500\u2500\u239f\n",
        "   \u239d     B_max\u22c5Q_FoV\u22c5Q_bw\u22c5Q_pix\u22c5\\lambda_{sub,max} \u23a0"
       ]
      }
     ],
     "prompt_number": 23
    },
    {
     "cell_type": "markdown",
     "metadata": {},
     "source": [
      "Such logarithmic binning of visibilities provides a substantial computational saving for ultra wide bandwidth telescope like SKA."
     ]
    },
    {
     "cell_type": "markdown",
     "metadata": {},
     "source": [
      "There is an additional significant gain to be made by making use of the fact that SKA telescopes are centrally condensed a large fraction of the baselines they form are therefore also centrally condensed. The maximum fractional frequency bandwidth on these baselines is much larger than on the long baselines of the array. To make use of this we identify three zones of baselines<sup>1</sup>:\n",
      "\n",
      "1.\tBaselines that are short enough that their binning is not limited by the bandwidth smearing but the requirement for $N_{f,out}$ frequency channels at the output of the imaging process. The fraction of such baselines is denoted by $f_{B,short}$.\n",
      "1.\tBaselines in the intermediate zone, which we define to be up the zone containing the inner 90% of all baselines. The frequency binning is for these baselines is set by the length of the baseline containing 90% of all baseline which we denote $B_{90}$. By definition the fraction of baselines in this zone is $0.9-f_{B,short}$.\n",
      "1.\tLong baselines for which binning is set by the bandwidth smearing limit on the longest baseline. The fraction of baselines in this zone is by definition 0.1\n",
      "\n",
      "<sup>1</sup>The concept presented here is not the same as two-zone time averaging in the correlator introduced in [AD01] and removed in [AD02]. The concept here is for binning in frequency space only, inside the SDP system and only for the continuum imaging case where multiple correlator frequency channels will anyway be combined on the same uv grids before the FFT step. The spectral line pipeline is assumed to run on unbinned data as received from the correlator. The concept here does cause a small loss of flexibility in calibration, i.e., it not possible to apply A functions that are varying fast as a function of frequency but for relatively large values of $N_{f,out}$ as used below this should not be a problem."
     ]
    },
    {
     "cell_type": "markdown",
     "metadata": {},
     "source": [
      "Adopting this scheme means that visibilities from various baselines will be binned to frequency resolutions $N_{f,out},N_{f,bmax} =N_f(B_{max})$  and $N_{f,bmid}$ where $N_{f,bmid} = N_f (B_{mid})$ is derived from the bandwidth smearing criterion at B_mid. The sum of these numbers of channels weighted by the fraction of baselines that they apply to gives the effective number of channels which can be used for gridding and data volume calculations in continuum and fast imaging pipelines:"
     ]
    },
    {
     "cell_type": "markdown",
     "metadata": {},
     "source": [
      "$$N_{f,grid} = \\left( 0.1 N_{f,bmax} + (0.9 - f_{B,short}) N_{f,b90} + f_{B,short} N_{f,out} \\right)$$"
     ]
    },
    {
     "cell_type": "code",
     "collapsed": false,
     "input": [
      "Nf_bmax = Nf_B.subs({B: Bmax})\n",
      "Nf_bmax\n"
     ],
     "language": "python",
     "metadata": {},
     "outputs": [
      {
       "ename": "NameError",
       "evalue": "name 'B' is not defined",
       "output_type": "pyerr",
       "traceback": [
        "\u001b[0;31m---------------------------------------------------------------------------\u001b[0m\n\u001b[0;31mNameError\u001b[0m                                 Traceback (most recent call last)",
        "\u001b[0;32m<ipython-input-24-680c394d7e39>\u001b[0m in \u001b[0;36m<module>\u001b[0;34m()\u001b[0m\n\u001b[0;32m----> 1\u001b[0;31m \u001b[0mNf_bmax\u001b[0m \u001b[0;34m=\u001b[0m \u001b[0mNf_B\u001b[0m\u001b[0;34m.\u001b[0m\u001b[0msubs\u001b[0m\u001b[0;34m(\u001b[0m\u001b[0;34m{\u001b[0m\u001b[0mB\u001b[0m\u001b[0;34m:\u001b[0m \u001b[0mBmax\u001b[0m\u001b[0;34m}\u001b[0m\u001b[0;34m)\u001b[0m\u001b[0;34m\u001b[0m\u001b[0m\n\u001b[0m\u001b[1;32m      2\u001b[0m \u001b[0mNf_bmax\u001b[0m\u001b[0;34m\u001b[0m\u001b[0m\n",
        "\u001b[0;31mNameError\u001b[0m: name 'B' is not defined"
       ]
      }
     ],
     "prompt_number": 24
    },
    {
     "cell_type": "markdown",
     "metadata": {},
     "source": [
      "The concept used here allows for easy parametric formulation of the computational impact of the frequency binning for the continuum imaging. Simulations showing detailed impact are being prepared in [RD19]."
     ]
    },
    {
     "cell_type": "heading",
     "level": 2,
     "metadata": {},
     "source": [
      "Floating Point operations requirements for continuum and spectral line imaging"
     ]
    },
    {
     "cell_type": "markdown",
     "metadata": {},
     "source": [
      "The number of floating point operations is calculated as the sum of:\n",
      "\n",
      "1.\tGridding (and degridding) of visibilities onto a uv grid\n",
      "1.\tComputing the convolution kernels for gridding/degridding\n",
      "1.\tFFT between sky images and uv grid\n",
      "1.\tRe-projection to account for snapshots\n",
      "\n",
      "In the case of spectral line imaging data processed on frequency channels as output from correlator and so $N_{f,corr}$ are used for each operation. In the case of continuum and fast imaging the gridding operations is performed on the effective number of channels $N_{f,grid}$  as described in the previous section. The FFT and reprojection operations are carried out on number of channels described by the output frequency resolution $N_{f,out}$. This number of channels is a free parameter.\n",
      "\n",
      "Since all operations are repeated for the four polarization products and each beam these are pre-factors of the expression for the total FLOP rate. Since operations for the gridding and de-gridding steps are similar total operation count is twice the number of major cycles. Hence:\n"
     ]
    },
    {
     "cell_type": "markdown",
     "metadata": {},
     "source": [
      "$$\ud835\udc45_{FLOP} = 2 \ud835\udc41_{major} \\times \ud835\udc41_{pp} \ud835\udc41_{beam} \\times ( \ud835\udc45_{grid} + \ud835\udc45_{FFT} + \ud835\udc45_{RP} + \ud835\udc45_{CCF})$$"
     ]
    },
    {
     "cell_type": "code",
     "collapsed": false,
     "input": [
      "Nmajor, Npp, Rflop, Rgrid, Rfft, Rrp, Rccf = symbols(\"N_{major} N_{pp} R_{FLOP} R_{grid} R_{FFT} R_{RP} R_{CCF}\", positive=True)\n",
      "Rflop = 2*Nmajor*Nbeam*(Rgrid+Rfft+Rrp+Rccf)\n",
      "Rflop"
     ],
     "language": "python",
     "metadata": {},
     "outputs": []
    },
    {
     "cell_type": "markdown",
     "metadata": {},
     "source": [
      "The gridding operation rate is the product of the number of visibilities in the gridding process and the area of the convolution kernel in pixels. The number of visibilities to be gridded per unit time is:"
     ]
    },
    {
     "cell_type": "markdown",
     "metadata": {},
     "source": [
      "$$N_{vis} = \\frac{N_a (N_a -1)}{2 T_{dump}} N_{f,grid}$$"
     ]
    },
    {
     "cell_type": "markdown",
     "metadata": {},
     "source": [
      "Giving the gridding FLOP rate of:"
     ]
    },
    {
     "cell_type": "markdown",
     "metadata": {},
     "source": [
      "$$R_{grid} = N_{vis} N_{kernel}^{2} N_{mm} 8\\,Ops$$"
     ]
    },
    {
     "cell_type": "markdown",
     "metadata": {},
     "source": [
      "Here $N_{mm}$ is a factor to account for the extra operations required for the gridding of off-diagonal elements of the Mueller matrix and $N_{kernel}$ is the linear size of the combined A and W kernels as defined above."
     ]
    },
    {
     "cell_type": "code",
     "collapsed": false,
     "input": [
      "Nmm = symbols(\"N_mm\", integer=True, positive=True)\n",
      "Rgrid = Na*(Na-1)/2/tdump* Nkernel**2 *Nmm*8*Ops\n",
      "Rgrid"
     ],
     "language": "python",
     "metadata": {},
     "outputs": [
      {
       "latex": [
        "$$\\frac{4 \\mathrm{Ops}}{T_{{dump}}} N_{a} N_{{mm}} \\left(N_{a} - 1\\right) \\left(N_{{AA}}^{2} + \\frac{231.04 Q_{{FoV}}^{2} \\lambda_{{max}}^{2}}{\\pi^{2} D_{s}^{2}} \\left(\\frac{1.2258064516129 Q_{{FoV}} \\lambda_{{max}} w^{1.5}}{\\pi D_{s} \\epsilon_{w}} + \\frac{14.44 Q_{{FoV}}^{2} \\lambda_{{max}}^{2} w^{2}}{\\pi^{2} D_{s}^{2}}\\right)\\right)$$"
       ],
       "metadata": {},
       "output_type": "pyout",
       "png": "[encoded data removed]",
       "prompt_number": 13,
       "text": [
        "                                  \u239b                                         \u239b \n",
        "                                  \u239c                        2              2 \u239c1\n",
        "                                  \u239c          231.04\u22c5Q_{FoV} \u22c5\\lambda_{max} \u22c5\u239c\u2500\n",
        "                                  \u239c                                         \u239c \n",
        "                                  \u239c      2                                  \u239d \n",
        "4\u22c5N\u2090\u22c5N_{mm}\u22c5\\mathrm{Ops}\u22c5(N\u2090 - 1)\u22c5\u239cN_{AA}  + \u2500\u2500\u2500\u2500\u2500\u2500\u2500\u2500\u2500\u2500\u2500\u2500\u2500\u2500\u2500\u2500\u2500\u2500\u2500\u2500\u2500\u2500\u2500\u2500\u2500\u2500\u2500\u2500\u2500\u2500\u2500\u2500\u2500\n",
        "                                  \u239c                                           \n",
        "                                  \u239d                                           \n",
        "\u2500\u2500\u2500\u2500\u2500\u2500\u2500\u2500\u2500\u2500\u2500\u2500\u2500\u2500\u2500\u2500\u2500\u2500\u2500\u2500\u2500\u2500\u2500\u2500\u2500\u2500\u2500\u2500\u2500\u2500\u2500\u2500\u2500\u2500\u2500\u2500\u2500\u2500\u2500\u2500\u2500\u2500\u2500\u2500\u2500\u2500\u2500\u2500\u2500\u2500\u2500\u2500\u2500\u2500\u2500\u2500\u2500\u2500\u2500\u2500\u2500\u2500\u2500\u2500\u2500\u2500\u2500\u2500\u2500\u2500\u2500\u2500\u2500\u2500\u2500\u2500\u2500\u2500\n",
        "                                                                          T_{d\n",
        "\n",
        "                                      1.5                2              2  2\u239e\u239e\n",
        ".2258064516129\u22c5Q_{FoV}\u22c5\\lambda_{max}\u22c5w      14.44\u22c5Q_{FoV} \u22c5\\lambda_{max} \u22c5w \u239f\u239f\n",
        "\u2500\u2500\u2500\u2500\u2500\u2500\u2500\u2500\u2500\u2500\u2500\u2500\u2500\u2500\u2500\u2500\u2500\u2500\u2500\u2500\u2500\u2500\u2500\u2500\u2500\u2500\u2500\u2500\u2500\u2500\u2500\u2500\u2500\u2500\u2500\u2500\u2500\u2500\u2500\u2500\u2500 + \u2500\u2500\u2500\u2500\u2500\u2500\u2500\u2500\u2500\u2500\u2500\u2500\u2500\u2500\u2500\u2500\u2500\u2500\u2500\u2500\u2500\u2500\u2500\u2500\u2500\u2500\u2500\u2500\u2500\u2500\u2500\u2500\u239f\u239f\n",
        "            \u03c0\u22c5D_s\u22c5\\epsilon_w                             2    2             \u239f\u239f\n",
        "                                                        \u03c0 \u22c5D_s              \u23a0\u239f\n",
        "\u2500\u2500\u2500\u2500\u2500\u2500\u2500\u2500\u2500\u2500\u2500\u2500\u2500\u2500\u2500\u2500\u2500\u2500\u2500\u2500\u2500\u2500\u2500\u2500\u2500\u2500\u2500\u2500\u2500\u2500\u2500\u2500\u2500\u2500\u2500\u2500\u2500\u2500\u2500\u2500\u2500\u2500\u2500\u2500\u2500\u2500\u2500\u2500\u2500\u2500\u2500\u2500\u2500\u2500\u2500\u2500\u2500\u2500\u2500\u2500\u2500\u2500\u2500\u2500\u2500\u2500\u2500\u2500\u2500\u2500\u2500\u2500\u2500\u2500\u2500\u2500\u2500\u239f\n",
        "                   2    2                                                    \u239f\n",
        "                  \u03c0 \u22c5D_s                                                     \u23a0\n",
        "\u2500\u2500\u2500\u2500\u2500\u2500\u2500\u2500\u2500\u2500\u2500\u2500\u2500\u2500\u2500\u2500\u2500\u2500\u2500\u2500\u2500\u2500\u2500\u2500\u2500\u2500\u2500\u2500\u2500\u2500\u2500\u2500\u2500\u2500\u2500\u2500\u2500\u2500\u2500\u2500\u2500\u2500\u2500\u2500\u2500\u2500\u2500\u2500\u2500\u2500\u2500\u2500\u2500\u2500\u2500\u2500\u2500\u2500\u2500\u2500\u2500\u2500\u2500\u2500\u2500\u2500\u2500\u2500\u2500\u2500\u2500\u2500\u2500\u2500\u2500\u2500\u2500\u2500\n",
        "ump}                                                                          "
       ]
      }
     ],
     "prompt_number": 13
    },
    {
     "cell_type": "markdown",
     "metadata": {},
     "source": [
      "We assume the PSFs are computed only once and not recomputed in every cycle. This means that the\n",
      "FFT rate and re-projection needs only be done on one grid. The FFT rate is:"
     ]
    },
    {
     "cell_type": "markdown",
     "metadata": {},
     "source": [
      "$$R_{FFT} = \\frac{N_{pix}^2 \\log_2 (N_{pix}^2)}{T_{snap}} 5 \\, Ops$$"
     ]
    },
    {
     "cell_type": "code",
     "collapsed": false,
     "input": [
      "Rfft = Npix**2 * log(Npix**2,2)*5*Ops/Tsnap\n",
      "Rfft"
     ],
     "language": "python",
     "metadata": {},
     "outputs": [
      {
       "latex": [
        "$$\\frac{513.422222222222 B_{{max}}^{2} Q_{{FoV}}^{2} Q_{{pix}}^{2} \\lambda_{{max}}^{2} \\mathrm{Ops} \\log{\\left (\\frac{102.684444444444 B_{{max}}^{2} Q_{{FoV}}^{2} Q_{{pix}}^{2} \\lambda_{{max}}^{2}}{\\pi^{2} D_{s}^{2} \\lambda_{{min}}^{2}} \\right )}}{\\pi^{2} D_{s}^{2} T_{{snap}} \\lambda_{{min}}^{2} \\log{\\left (2 \\right )}}$$"
       ],
       "metadata": {},
       "output_type": "pyout",
       "png": "[encoded data removed]",
       "prompt_number": 14,
       "text": [
        "                                                                           \u239b  \n",
        "                        2        2        2              2                 \u239c10\n",
        "513.422222222222\u22c5B_{max} \u22c5Q_{FoV} \u22c5Q_{pix} \u22c5\\lambda_{max} \u22c5\\mathrm{Ops}\u22c5log\u239c\u2500\u2500\n",
        "                                                                           \u239c  \n",
        "                                                                           \u239d  \n",
        "\u2500\u2500\u2500\u2500\u2500\u2500\u2500\u2500\u2500\u2500\u2500\u2500\u2500\u2500\u2500\u2500\u2500\u2500\u2500\u2500\u2500\u2500\u2500\u2500\u2500\u2500\u2500\u2500\u2500\u2500\u2500\u2500\u2500\u2500\u2500\u2500\u2500\u2500\u2500\u2500\u2500\u2500\u2500\u2500\u2500\u2500\u2500\u2500\u2500\u2500\u2500\u2500\u2500\u2500\u2500\u2500\u2500\u2500\u2500\u2500\u2500\u2500\u2500\u2500\u2500\u2500\u2500\u2500\u2500\u2500\u2500\u2500\u2500\u2500\u2500\u2500\u2500\u2500\n",
        "                                                  2    2                      \n",
        "                                                 \u03c0 \u22c5D_s \u22c5T_{snap}\u22c5\\lambda_{min\n",
        "\n",
        "                      2        2        2              2\u239e\n",
        "2.684444444444\u22c5B_{max} \u22c5Q_{FoV} \u22c5Q_{pix} \u22c5\\lambda_{max} \u239f\n",
        "\u2500\u2500\u2500\u2500\u2500\u2500\u2500\u2500\u2500\u2500\u2500\u2500\u2500\u2500\u2500\u2500\u2500\u2500\u2500\u2500\u2500\u2500\u2500\u2500\u2500\u2500\u2500\u2500\u2500\u2500\u2500\u2500\u2500\u2500\u2500\u2500\u2500\u2500\u2500\u2500\u2500\u2500\u2500\u2500\u2500\u2500\u2500\u2500\u2500\u2500\u2500\u2500\u2500\u2500\u2500\u2500\u239f\n",
        "                 2    2              2                  \u239f\n",
        "                \u03c0 \u22c5D_s \u22c5\\lambda_{min}                   \u23a0\n",
        "\u2500\u2500\u2500\u2500\u2500\u2500\u2500\u2500\u2500\u2500\u2500\u2500\u2500\u2500\u2500\u2500\u2500\u2500\u2500\u2500\u2500\u2500\u2500\u2500\u2500\u2500\u2500\u2500\u2500\u2500\u2500\u2500\u2500\u2500\u2500\u2500\u2500\u2500\u2500\u2500\u2500\u2500\u2500\u2500\u2500\u2500\u2500\u2500\u2500\u2500\u2500\u2500\u2500\u2500\u2500\u2500\u2500\n",
        " 2                                                       \n",
        "} \u22c5log(2)                                                "
       ]
      }
     ],
     "prompt_number": 14
    },
    {
     "cell_type": "markdown",
     "metadata": {},
     "source": [
      "The re-projection rate is:"
     ]
    },
    {
     "cell_type": "markdown",
     "metadata": {},
     "source": [
      "$$R_{RP} = \\frac{N_{pix}^2}{T_{snap}} 50 \\, Ops$$"
     ]
    },
    {
     "cell_type": "markdown",
     "metadata": {},
     "source": [
      "The assumption giving rise to estimate of 50 Ops/s is given in Section 8.3.2."
     ]
    },
    {
     "cell_type": "code",
     "collapsed": false,
     "input": [
      "Rrp = F_RP.subs({N: Npix**2})/Tsnap\n",
      "Rrp"
     ],
     "language": "python",
     "metadata": {},
     "outputs": [
      {
       "latex": [
        "$$\\frac{5134.22222222222 B_{{max}}^{2} Q_{{FoV}}^{2} Q_{{pix}}^{2} \\lambda_{{max}}^{2} \\mathrm{Ops}}{\\pi^{2} D_{s}^{2} T_{{snap}} \\lambda_{{min}}^{2}}$$"
       ],
       "metadata": {},
       "output_type": "pyout",
       "png": "[encoded data removed]",
       "prompt_number": 15,
       "text": [
        "                        2        2        2              2             \n",
        "5134.22222222222\u22c5B_{max} \u22c5Q_{FoV} \u22c5Q_{pix} \u22c5\\lambda_{max} \u22c5\\mathrm{Ops}\n",
        "\u2500\u2500\u2500\u2500\u2500\u2500\u2500\u2500\u2500\u2500\u2500\u2500\u2500\u2500\u2500\u2500\u2500\u2500\u2500\u2500\u2500\u2500\u2500\u2500\u2500\u2500\u2500\u2500\u2500\u2500\u2500\u2500\u2500\u2500\u2500\u2500\u2500\u2500\u2500\u2500\u2500\u2500\u2500\u2500\u2500\u2500\u2500\u2500\u2500\u2500\u2500\u2500\u2500\u2500\u2500\u2500\u2500\u2500\u2500\u2500\u2500\u2500\u2500\u2500\u2500\u2500\u2500\u2500\u2500\u2500\u2500\n",
        "                     2    2                       2                    \n",
        "                    \u03c0 \u22c5D_s \u22c5T_{snap}\u22c5\\lambda_{min}                     "
       ]
      }
     ],
     "prompt_number": 15
    },
    {
     "cell_type": "markdown",
     "metadata": {},
     "source": [
      "The FLOP rate required to recalculate the baseline-dependent convolution kernels is set by the size of\n",
      "the far-field in which the convolution functions are calculated. The linear size of the far field in pixels is:"
     ]
    },
    {
     "cell_type": "markdown",
     "metadata": {},
     "source": [
      "$$N_{cvff} = Q_{GCF} N_{kernel} = Q_{GCF} \\sqrt{N_{GW}^2 + N_{AA}^2}$$"
     ]
    },
    {
     "cell_type": "markdown",
     "metadata": {},
     "source": [
      "Here $Q_{GCF}$ is the oversampling factor, which is typically 8."
     ]
    },
    {
     "cell_type": "code",
     "collapsed": false,
     "input": [
      "Ncvff, Qgcf = symbols(\"N_{cvff} Q_{GCF}\")\n",
      "Ncvff = Qgcf*Nkernel\n",
      "Ncvff"
     ],
     "language": "python",
     "metadata": {},
     "outputs": [
      {
       "latex": [
        "$$Q_{{GCF}} \\sqrt{N_{{AA}}^{2} + \\frac{231.04 Q_{{FoV}}^{2} \\lambda_{{max}}^{2}}{\\pi^{2} D_{s}^{2}} \\left(\\frac{1.2258064516129 Q_{{FoV}} \\lambda_{{max}} w^{1.5}}{\\pi D_{s} \\epsilon_{w}} + \\frac{14.44 Q_{{FoV}}^{2} \\lambda_{{max}}^{2} w^{2}}{\\pi^{2} D_{s}^{2}}\\right)}$$"
       ],
       "metadata": {},
       "output_type": "pyout",
       "png": "[encoded data removed]",
       "prompt_number": 16,
       "text": [
        "                 _____________________________________________________________\n",
        "                \u2571                                          \u239b                  \n",
        "               \u2571                          2              2 \u239c1.2258064516129\u22c5Q_\n",
        "              \u2571             231.04\u22c5Q_{FoV} \u22c5\\lambda_{max} \u22c5\u239c\u2500\u2500\u2500\u2500\u2500\u2500\u2500\u2500\u2500\u2500\u2500\u2500\u2500\u2500\u2500\u2500\u2500\u2500\n",
        "             \u2571                                             \u239c             \u03c0\u22c5D_s\n",
        "            \u2571           2                                  \u239d                  \n",
        "Q_{GCF}\u22c5   \u2571      N_{AA}  + \u2500\u2500\u2500\u2500\u2500\u2500\u2500\u2500\u2500\u2500\u2500\u2500\u2500\u2500\u2500\u2500\u2500\u2500\u2500\u2500\u2500\u2500\u2500\u2500\u2500\u2500\u2500\u2500\u2500\u2500\u2500\u2500\u2500\u2500\u2500\u2500\u2500\u2500\u2500\u2500\u2500\u2500\u2500\u2500\u2500\u2500\u2500\u2500\u2500\u2500\n",
        "          \u2571                                                                   \n",
        "        \u2572\u2571                                                                    \n",
        "\n",
        "_____________________________________________________________\n",
        "                     1.5                2              2  2\u239e \n",
        "{FoV}\u22c5\\lambda_{max}\u22c5w      14.44\u22c5Q_{FoV} \u22c5\\lambda_{max} \u22c5w \u239f \n",
        "\u2500\u2500\u2500\u2500\u2500\u2500\u2500\u2500\u2500\u2500\u2500\u2500\u2500\u2500\u2500\u2500\u2500\u2500\u2500\u2500\u2500\u2500\u2500\u2500 + \u2500\u2500\u2500\u2500\u2500\u2500\u2500\u2500\u2500\u2500\u2500\u2500\u2500\u2500\u2500\u2500\u2500\u2500\u2500\u2500\u2500\u2500\u2500\u2500\u2500\u2500\u2500\u2500\u2500\u2500\u2500\u2500\u239f \n",
        "\u22c5\\epsilon_w                             2    2             \u239f \n",
        "                                       \u03c0 \u22c5D_s              \u23a0 \n",
        "\u2500\u2500\u2500\u2500\u2500\u2500\u2500\u2500\u2500\u2500\u2500\u2500\u2500\u2500\u2500\u2500\u2500\u2500\u2500\u2500\u2500\u2500\u2500\u2500\u2500\u2500\u2500\u2500\u2500\u2500\u2500\u2500\u2500\u2500\u2500\u2500\u2500\u2500\u2500\u2500\u2500\u2500\u2500\u2500\u2500\u2500\u2500\u2500\u2500\u2500\u2500\u2500\u2500\u2500\u2500\u2500\u2500\u2500\u2500\u2500 \n",
        "  2    2                                                     \n",
        " \u03c0 \u22c5D_s                                                      "
       ]
      }
     ],
     "prompt_number": 16
    },
    {
     "cell_type": "markdown",
     "metadata": {},
     "source": [
      "The rate is then:"
     ]
    },
    {
     "cell_type": "markdown",
     "metadata": {},
     "source": [
      "$$R_{CCF} = \\frac{N_a (N_a - 1)}{2} \\frac{N_{cvff}^2 \\log_2 (N_{cvff}^2) N_{mm} 5 Ops}{T_{ion} Q_{fcv}}$$"
     ]
    },
    {
     "cell_type": "markdown",
     "metadata": {},
     "source": [
      "Here $T_{ion}$ is the ionospheric timescale after which the functions must be recomputed, $Q_{fcv}$ is a factor that allow for reuse of functions between neighboring frequency channels and $N_{mm}$ is again a factor to account for the off-diagonal elements of the Mueller Matrix. $N_f$ is $N_{f,out}$ in case of spectral line imaging and N_{f,bmax} in case of continuum and fast imaging."
     ]
    },
    {
     "cell_type": "code",
     "collapsed": false,
     "input": [
      "Tion, Qfcv = symbols(\"T_{ion} Q_{fcv}\")\n",
      "Rccf = Na*(Na-1)/2 * F_FFT.subs({N: Ncvff**2}) * Nmm / Tion / Qfcv\n",
      "Rccf"
     ],
     "language": "python",
     "metadata": {},
     "outputs": [
      {
       "latex": [
        "$$\\frac{5 N_{a} N_{{mm}} Q_{{GCF}}^{2} \\mathrm{Ops}}{2 Q_{{fcv}} T_{{ion}} \\log{\\left (2 \\right )}} \\left(N_{a} - 1\\right) \\left(N_{{AA}}^{2} + \\frac{231.04 Q_{{FoV}}^{2} \\lambda_{{max}}^{2}}{\\pi^{2} D_{s}^{2}} \\left(\\frac{1.2258064516129 Q_{{FoV}} \\lambda_{{max}} w^{1.5}}{\\pi D_{s} \\epsilon_{w}} + \\frac{14.44 Q_{{FoV}}^{2} \\lambda_{{max}}^{2} w^{2}}{\\pi^{2} D_{s}^{2}}\\right)\\right) \\log{\\left (Q_{{GCF}}^{2} \\left(N_{{AA}}^{2} + \\frac{231.04 Q_{{FoV}}^{2} \\lambda_{{max}}^{2}}{\\pi^{2} D_{s}^{2}} \\left(\\frac{1.2258064516129 Q_{{FoV}} \\lambda_{{max}} w^{1.5}}{\\pi D_{s} \\epsilon_{w}} + \\frac{14.44 Q_{{FoV}}^{2} \\lambda_{{max}}^{2} w^{2}}{\\pi^{2} D_{s}^{2}}\\right)\\right) \\right )}$$"
       ],
       "metadata": {},
       "output_type": "pyout",
       "png": "[encoded data removed]",
       "prompt_number": 17,
       "text": [
        "                                           \u239b                                  \n",
        "                                           \u239c                        2         \n",
        "                                           \u239c          231.04\u22c5Q_{FoV} \u22c5\\lambda_\n",
        "                                           \u239c                                  \n",
        "                   2                       \u239c      2                           \n",
        "5\u22c5N\u2090\u22c5N_{mm}\u22c5Q_{GCF} \u22c5\\mathrm{Ops}\u22c5(N\u2090 - 1)\u22c5\u239cN_{AA}  + \u2500\u2500\u2500\u2500\u2500\u2500\u2500\u2500\u2500\u2500\u2500\u2500\u2500\u2500\u2500\u2500\u2500\u2500\u2500\u2500\u2500\u2500\u2500\u2500\n",
        "                                           \u239c                                  \n",
        "                                           \u239d                                  \n",
        "                                                                              \n",
        "\u2500\u2500\u2500\u2500\u2500\u2500\u2500\u2500\u2500\u2500\u2500\u2500\u2500\u2500\u2500\u2500\u2500\u2500\u2500\u2500\u2500\u2500\u2500\u2500\u2500\u2500\u2500\u2500\u2500\u2500\u2500\u2500\u2500\u2500\u2500\u2500\u2500\u2500\u2500\u2500\u2500\u2500\u2500\u2500\u2500\u2500\u2500\u2500\u2500\u2500\u2500\u2500\u2500\u2500\u2500\u2500\u2500\u2500\u2500\u2500\u2500\u2500\u2500\u2500\u2500\u2500\u2500\u2500\u2500\u2500\u2500\u2500\u2500\u2500\u2500\u2500\u2500\u2500\n",
        "                                                                              \n",
        "\n",
        "       \u239b                                       1.5                2           \n",
        "     2 \u239c1.2258064516129\u22c5Q_{FoV}\u22c5\\lambda_{max}\u22c5w      14.44\u22c5Q_{FoV} \u22c5\\lambda_{m\n",
        "{max} \u22c5\u239c\u2500\u2500\u2500\u2500\u2500\u2500\u2500\u2500\u2500\u2500\u2500\u2500\u2500\u2500\u2500\u2500\u2500\u2500\u2500\u2500\u2500\u2500\u2500\u2500\u2500\u2500\u2500\u2500\u2500\u2500\u2500\u2500\u2500\u2500\u2500\u2500\u2500\u2500\u2500\u2500\u2500\u2500 + \u2500\u2500\u2500\u2500\u2500\u2500\u2500\u2500\u2500\u2500\u2500\u2500\u2500\u2500\u2500\u2500\u2500\u2500\u2500\u2500\u2500\u2500\u2500\u2500\u2500\n",
        "       \u239c             \u03c0\u22c5D_s\u22c5\\epsilon_w                             2    2      \n",
        "       \u239d                                                         \u03c0 \u22c5D_s       \n",
        "\u2500\u2500\u2500\u2500\u2500\u2500\u2500\u2500\u2500\u2500\u2500\u2500\u2500\u2500\u2500\u2500\u2500\u2500\u2500\u2500\u2500\u2500\u2500\u2500\u2500\u2500\u2500\u2500\u2500\u2500\u2500\u2500\u2500\u2500\u2500\u2500\u2500\u2500\u2500\u2500\u2500\u2500\u2500\u2500\u2500\u2500\u2500\u2500\u2500\u2500\u2500\u2500\u2500\u2500\u2500\u2500\u2500\u2500\u2500\u2500\u2500\u2500\u2500\u2500\u2500\u2500\u2500\u2500\u2500\u2500\u2500\u2500\u2500\u2500\u2500\u2500\u2500\u2500\n",
        "                            2    2                                            \n",
        "                           \u03c0 \u22c5D_s                                             \n",
        "                                                                              \n",
        "\u2500\u2500\u2500\u2500\u2500\u2500\u2500\u2500\u2500\u2500\u2500\u2500\u2500\u2500\u2500\u2500\u2500\u2500\u2500\u2500\u2500\u2500\u2500\u2500\u2500\u2500\u2500\u2500\u2500\u2500\u2500\u2500\u2500\u2500\u2500\u2500\u2500\u2500\u2500\u2500\u2500\u2500\u2500\u2500\u2500\u2500\u2500\u2500\u2500\u2500\u2500\u2500\u2500\u2500\u2500\u2500\u2500\u2500\u2500\u2500\u2500\u2500\u2500\u2500\u2500\u2500\u2500\u2500\u2500\u2500\u2500\u2500\u2500\u2500\u2500\u2500\u2500\u2500\n",
        "                                                             2\u22c5Q_{fcv}\u22c5T_{ion}\n",
        "\n",
        "   2  2\u239e\u239e    \u239b         \u239b                                         \u239b            \n",
        "ax} \u22c5w \u239f\u239f    \u239c         \u239c                        2              2 \u239c1.2258064516\n",
        "\u2500\u2500\u2500\u2500\u2500\u2500\u2500\u239f\u239f    \u239c         \u239c          231.04\u22c5Q_{FoV} \u22c5\\lambda_{max} \u22c5\u239c\u2500\u2500\u2500\u2500\u2500\u2500\u2500\u2500\u2500\u2500\u2500\u2500\n",
        "       \u239f\u239f    \u239c         \u239c                                         \u239c            \n",
        "       \u23a0\u239f    \u239c       2 \u239c      2                                  \u239d            \n",
        "\u2500\u2500\u2500\u2500\u2500\u2500\u2500\u2500\u239f\u22c5   \u239cQ_{GCF} \u22c5\u239cN_{AA}  + \u2500\u2500\u2500\u2500\u2500\u2500\u2500\u2500\u2500\u2500\u2500\u2500\u2500\u2500\u2500\u2500\u2500\u2500\u2500\u2500\u2500\u2500\u2500\u2500\u2500\u2500\u2500\u2500\u2500\u2500\u2500\u2500\u2500\u2500\u2500\u2500\u2500\u2500\u2500\u2500\u2500\u2500\u2500\u2500\n",
        "        \u239f    \u239c         \u239c                                                      \n",
        "        \u23a0    \u239d         \u239d                                                      \n",
        "          log                                                                 \n",
        "\u2500\u2500\u2500\u2500\u2500\u2500\u2500\u2500\u2500\u2500\u2500\u2500\u2500\u2500\u2500\u2500\u2500\u2500\u2500\u2500\u2500\u2500\u2500\u2500\u2500\u2500\u2500\u2500\u2500\u2500\u2500\u2500\u2500\u2500\u2500\u2500\u2500\u2500\u2500\u2500\u2500\u2500\u2500\u2500\u2500\u2500\u2500\u2500\u2500\u2500\u2500\u2500\u2500\u2500\u2500\u2500\u2500\u2500\u2500\u2500\u2500\u2500\u2500\u2500\u2500\u2500\u2500\u2500\u2500\u2500\u2500\u2500\u2500\u2500\u2500\u2500\u2500\u2500\n",
        "\u22c5log(2)                                                                       \n",
        "\n",
        "                           1.5                2              2  2\u239e\u239e\u239e\n",
        "129\u22c5Q_{FoV}\u22c5\\lambda_{max}\u22c5w      14.44\u22c5Q_{FoV} \u22c5\\lambda_{max} \u22c5w \u239f\u239f\u239f\n",
        "\u2500\u2500\u2500\u2500\u2500\u2500\u2500\u2500\u2500\u2500\u2500\u2500\u2500\u2500\u2500\u2500\u2500\u2500\u2500\u2500\u2500\u2500\u2500\u2500\u2500\u2500\u2500\u2500\u2500\u2500 + \u2500\u2500\u2500\u2500\u2500\u2500\u2500\u2500\u2500\u2500\u2500\u2500\u2500\u2500\u2500\u2500\u2500\u2500\u2500\u2500\u2500\u2500\u2500\u2500\u2500\u2500\u2500\u2500\u2500\u2500\u2500\u2500\u239f\u239f\u239f\n",
        " \u03c0\u22c5D_s\u22c5\\epsilon_w                             2    2             \u239f\u239f\u239f\n",
        "                                             \u03c0 \u22c5D_s              \u23a0\u239f\u239f\n",
        "\u2500\u2500\u2500\u2500\u2500\u2500\u2500\u2500\u2500\u2500\u2500\u2500\u2500\u2500\u2500\u2500\u2500\u2500\u2500\u2500\u2500\u2500\u2500\u2500\u2500\u2500\u2500\u2500\u2500\u2500\u2500\u2500\u2500\u2500\u2500\u2500\u2500\u2500\u2500\u2500\u2500\u2500\u2500\u2500\u2500\u2500\u2500\u2500\u2500\u2500\u2500\u2500\u2500\u2500\u2500\u2500\u2500\u2500\u2500\u2500\u2500\u2500\u2500\u2500\u2500\u2500\u239f\u239f\n",
        "        2    2                                                    \u239f\u239f\n",
        "       \u03c0 \u22c5D_s                                                     \u23a0\u23a0\n",
        "                                                                    \n",
        "\u2500\u2500\u2500\u2500\u2500\u2500\u2500\u2500\u2500\u2500\u2500\u2500\u2500\u2500\u2500\u2500\u2500\u2500\u2500\u2500\u2500\u2500\u2500\u2500\u2500\u2500\u2500\u2500\u2500\u2500\u2500\u2500\u2500\u2500\u2500\u2500\u2500\u2500\u2500\u2500\u2500\u2500\u2500\u2500\u2500\u2500\u2500\u2500\u2500\u2500\u2500\u2500\u2500\u2500\u2500\u2500\u2500\u2500\u2500\u2500\u2500\u2500\u2500\u2500\u2500\u2500\u2500\u2500\n",
        "                                                                    "
       ]
      }
     ],
     "prompt_number": 17
    },
    {
     "cell_type": "markdown",
     "metadata": {},
     "source": [
      "The optimum snapshot duration is found by minimizing the FLOP count $R_{FLOP}$ with respect to $T_{snap}$ subject to the constraint that $T_{snap} > T_{snap,min}$."
     ]
    },
    {
     "cell_type": "markdown",
     "metadata": {},
     "source": [
      "A general caveat about these FLOP estimates should be noted: Even with highly optimized code it can be expected that SKA1 compute will execute at well below the peak FLOP throughput. The limiting factor for some steps of SKA1 compute is better described by memory access bandwidth than FLOP count and initial work to capture this is described below. The FLOP numbers derived in this way should not be over-interpreted."
     ]
    },
    {
     "cell_type": "markdown",
     "metadata": {},
     "source": [
      "The total rate is, then, again:"
     ]
    },
    {
     "cell_type": "code",
     "collapsed": false,
     "input": [
      "Rflop = 2*Nmajor*Nbeam*Nf*(Rgrid+Rfft+Rrp+Rccf)\n",
      "Rflop"
     ],
     "language": "python",
     "metadata": {},
     "outputs": [
      {
       "latex": [
        "$$2 N_{f} N_{{beam}} N_{{major}} \\left(\\frac{513.422222222222 B_{{max}}^{2} Q_{{FoV}}^{2} Q_{{pix}}^{2} \\lambda_{{max}}^{2} \\mathrm{Ops} \\log{\\left (\\frac{102.684444444444 B_{{max}}^{2} Q_{{FoV}}^{2} Q_{{pix}}^{2} \\lambda_{{max}}^{2}}{\\pi^{2} D_{s}^{2} \\lambda_{{min}}^{2}} \\right )}}{\\pi^{2} D_{s}^{2} T_{{snap}} \\lambda_{{min}}^{2} \\log{\\left (2 \\right )}} + \\frac{5134.22222222222 B_{{max}}^{2} Q_{{FoV}}^{2} Q_{{pix}}^{2} \\lambda_{{max}}^{2} \\mathrm{Ops}}{\\pi^{2} D_{s}^{2} T_{{snap}} \\lambda_{{min}}^{2}} + \\frac{5 N_{a} N_{{mm}} Q_{{GCF}}^{2} \\mathrm{Ops}}{2 Q_{{fcv}} T_{{ion}} \\log{\\left (2 \\right )}} \\left(N_{a} - 1\\right) \\left(N_{{AA}}^{2} + \\frac{231.04 Q_{{FoV}}^{2} \\lambda_{{max}}^{2}}{\\pi^{2} D_{s}^{2}} \\left(\\frac{1.2258064516129 Q_{{FoV}} \\lambda_{{max}} w^{1.5}}{\\pi D_{s} \\epsilon_{w}} + \\frac{14.44 Q_{{FoV}}^{2} \\lambda_{{max}}^{2} w^{2}}{\\pi^{2} D_{s}^{2}}\\right)\\right) \\log{\\left (Q_{{GCF}}^{2} \\left(N_{{AA}}^{2} + \\frac{231.04 Q_{{FoV}}^{2} \\lambda_{{max}}^{2}}{\\pi^{2} D_{s}^{2}} \\left(\\frac{1.2258064516129 Q_{{FoV}} \\lambda_{{max}} w^{1.5}}{\\pi D_{s} \\epsilon_{w}} + \\frac{14.44 Q_{{FoV}}^{2} \\lambda_{{max}}^{2} w^{2}}{\\pi^{2} D_{s}^{2}}\\right)\\right) \\right )} + \\frac{4 \\mathrm{Ops}}{T_{{dump}}} N_{a} N_{{mm}} \\left(N_{a} - 1\\right) \\left(N_{{AA}}^{2} + \\frac{231.04 Q_{{FoV}}^{2} \\lambda_{{max}}^{2}}{\\pi^{2} D_{s}^{2}} \\left(\\frac{1.2258064516129 Q_{{FoV}} \\lambda_{{max}} w^{1.5}}{\\pi D_{s} \\epsilon_{w}} + \\frac{14.44 Q_{{FoV}}^{2} \\lambda_{{max}}^{2} w^{2}}{\\pi^{2} D_{s}^{2}}\\right)\\right)\\right)$$"
       ],
       "metadata": {},
       "output_type": "pyout",
       "png": "[encoded data removed]",
       "prompt_number": 18,
       "text": [
        "                         \u239b                                                    \n",
        "                         \u239c                                                    \n",
        "                         \u239c                                                    \n",
        "                         \u239c                                                    \n",
        "                         \u239c                                                    \n",
        "                         \u239c                        2        2        2         \n",
        "                         \u239c513.422222222222\u22c5B_{max} \u22c5Q_{FoV} \u22c5Q_{pix} \u22c5\\lambda_\n",
        "                         \u239c                                                    \n",
        "                         \u239c                                                    \n",
        "2\u22c5N_f\u22c5N_{beam}\u22c5N_{major}\u22c5\u239c\u2500\u2500\u2500\u2500\u2500\u2500\u2500\u2500\u2500\u2500\u2500\u2500\u2500\u2500\u2500\u2500\u2500\u2500\u2500\u2500\u2500\u2500\u2500\u2500\u2500\u2500\u2500\u2500\u2500\u2500\u2500\u2500\u2500\u2500\u2500\u2500\u2500\u2500\u2500\u2500\u2500\u2500\u2500\u2500\u2500\u2500\u2500\u2500\u2500\u2500\u2500\u2500\n",
        "                         \u239c                                                  2 \n",
        "                         \u239d                                                 \u03c0 \u22c5\n",
        "\n",
        "                                                                              \n",
        "                                                                              \n",
        "                                                                              \n",
        "                                                                              \n",
        "                       \u239b                        2        2        2           \n",
        "     2                 \u239c102.684444444444\u22c5B_{max} \u22c5Q_{FoV} \u22c5Q_{pix} \u22c5\\lambda_{m\n",
        "{max} \u22c5\\mathrm{Ops}\u22c5log\u239c\u2500\u2500\u2500\u2500\u2500\u2500\u2500\u2500\u2500\u2500\u2500\u2500\u2500\u2500\u2500\u2500\u2500\u2500\u2500\u2500\u2500\u2500\u2500\u2500\u2500\u2500\u2500\u2500\u2500\u2500\u2500\u2500\u2500\u2500\u2500\u2500\u2500\u2500\u2500\u2500\u2500\u2500\u2500\u2500\u2500\u2500\u2500\u2500\u2500\u2500\u2500\u2500\u2500\u2500\n",
        "                       \u239c                   2    2              2              \n",
        "                       \u239d                  \u03c0 \u22c5D_s \u22c5\\lambda_{min}               \n",
        "\u2500\u2500\u2500\u2500\u2500\u2500\u2500\u2500\u2500\u2500\u2500\u2500\u2500\u2500\u2500\u2500\u2500\u2500\u2500\u2500\u2500\u2500\u2500\u2500\u2500\u2500\u2500\u2500\u2500\u2500\u2500\u2500\u2500\u2500\u2500\u2500\u2500\u2500\u2500\u2500\u2500\u2500\u2500\u2500\u2500\u2500\u2500\u2500\u2500\u2500\u2500\u2500\u2500\u2500\u2500\u2500\u2500\u2500\u2500\u2500\u2500\u2500\u2500\u2500\u2500\u2500\u2500\u2500\u2500\u2500\u2500\u2500\u2500\u2500\u2500\u2500\u2500\u2500\n",
        "   2                       2                                                  \n",
        "D_s \u22c5T_{snap}\u22c5\\lambda_{min} \u22c5log(2)                                           \n",
        "\n",
        "                                                                              \n",
        "                                                                              \n",
        "                                                                              \n",
        "                                                                              \n",
        "   2\u239e                                                                         \n",
        "ax} \u239f                                                                         \n",
        "\u2500\u2500\u2500\u2500\u239f                                                                         \n",
        "    \u239f                           2        2        2              2            \n",
        "    \u23a0   5134.22222222222\u22c5B_{max} \u22c5Q_{FoV} \u22c5Q_{pix} \u22c5\\lambda_{max} \u22c5\\mathrm{Ops\n",
        "\u2500\u2500\u2500\u2500\u2500 + \u2500\u2500\u2500\u2500\u2500\u2500\u2500\u2500\u2500\u2500\u2500\u2500\u2500\u2500\u2500\u2500\u2500\u2500\u2500\u2500\u2500\u2500\u2500\u2500\u2500\u2500\u2500\u2500\u2500\u2500\u2500\u2500\u2500\u2500\u2500\u2500\u2500\u2500\u2500\u2500\u2500\u2500\u2500\u2500\u2500\u2500\u2500\u2500\u2500\u2500\u2500\u2500\u2500\u2500\u2500\u2500\u2500\u2500\u2500\u2500\u2500\u2500\u2500\u2500\u2500\u2500\u2500\u2500\u2500\u2500\n",
        "                             2    2                       2                   \n",
        "                            \u03c0 \u22c5D_s \u22c5T_{snap}\u22c5\\lambda_{min}                    \n",
        "\n",
        "                                               \u239b                              \n",
        "                                               \u239c                        2     \n",
        "                                               \u239c          231.04\u22c5Q_{FoV} \u22c5\\lam\n",
        "                                               \u239c                              \n",
        "                       2                       \u239c      2                       \n",
        "    5\u22c5N\u2090\u22c5N_{mm}\u22c5Q_{GCF} \u22c5\\mathrm{Ops}\u22c5(N\u2090 - 1)\u22c5\u239cN_{AA}  + \u2500\u2500\u2500\u2500\u2500\u2500\u2500\u2500\u2500\u2500\u2500\u2500\u2500\u2500\u2500\u2500\u2500\u2500\u2500\u2500\n",
        "                                               \u239c                              \n",
        "                                               \u239d                              \n",
        "}                                                                             \n",
        "\u2500 + \u2500\u2500\u2500\u2500\u2500\u2500\u2500\u2500\u2500\u2500\u2500\u2500\u2500\u2500\u2500\u2500\u2500\u2500\u2500\u2500\u2500\u2500\u2500\u2500\u2500\u2500\u2500\u2500\u2500\u2500\u2500\u2500\u2500\u2500\u2500\u2500\u2500\u2500\u2500\u2500\u2500\u2500\u2500\u2500\u2500\u2500\u2500\u2500\u2500\u2500\u2500\u2500\u2500\u2500\u2500\u2500\u2500\u2500\u2500\u2500\u2500\u2500\u2500\u2500\u2500\u2500\u2500\u2500\u2500\u2500\u2500\u2500\u2500\u2500\n",
        "                                                                              \n",
        "                                                                              \n",
        "\n",
        "           \u239b                                       1.5                2       \n",
        "         2 \u239c1.2258064516129\u22c5Q_{FoV}\u22c5\\lambda_{max}\u22c5w      14.44\u22c5Q_{FoV} \u22c5\\lambd\n",
        "bda_{max} \u22c5\u239c\u2500\u2500\u2500\u2500\u2500\u2500\u2500\u2500\u2500\u2500\u2500\u2500\u2500\u2500\u2500\u2500\u2500\u2500\u2500\u2500\u2500\u2500\u2500\u2500\u2500\u2500\u2500\u2500\u2500\u2500\u2500\u2500\u2500\u2500\u2500\u2500\u2500\u2500\u2500\u2500\u2500\u2500 + \u2500\u2500\u2500\u2500\u2500\u2500\u2500\u2500\u2500\u2500\u2500\u2500\u2500\u2500\u2500\u2500\u2500\u2500\u2500\u2500\u2500\n",
        "           \u239c             \u03c0\u22c5D_s\u22c5\\epsilon_w                             2    2  \n",
        "           \u239d                                                         \u03c0 \u22c5D_s   \n",
        "\u2500\u2500\u2500\u2500\u2500\u2500\u2500\u2500\u2500\u2500\u2500\u2500\u2500\u2500\u2500\u2500\u2500\u2500\u2500\u2500\u2500\u2500\u2500\u2500\u2500\u2500\u2500\u2500\u2500\u2500\u2500\u2500\u2500\u2500\u2500\u2500\u2500\u2500\u2500\u2500\u2500\u2500\u2500\u2500\u2500\u2500\u2500\u2500\u2500\u2500\u2500\u2500\u2500\u2500\u2500\u2500\u2500\u2500\u2500\u2500\u2500\u2500\u2500\u2500\u2500\u2500\u2500\u2500\u2500\u2500\u2500\u2500\u2500\u2500\u2500\u2500\u2500\u2500\n",
        "                                2    2                                        \n",
        "                               \u03c0 \u22c5D_s                                         \n",
        "                                                                              \n",
        "\u2500\u2500\u2500\u2500\u2500\u2500\u2500\u2500\u2500\u2500\u2500\u2500\u2500\u2500\u2500\u2500\u2500\u2500\u2500\u2500\u2500\u2500\u2500\u2500\u2500\u2500\u2500\u2500\u2500\u2500\u2500\u2500\u2500\u2500\u2500\u2500\u2500\u2500\u2500\u2500\u2500\u2500\u2500\u2500\u2500\u2500\u2500\u2500\u2500\u2500\u2500\u2500\u2500\u2500\u2500\u2500\u2500\u2500\u2500\u2500\u2500\u2500\u2500\u2500\u2500\u2500\u2500\u2500\u2500\u2500\u2500\u2500\u2500\u2500\u2500\u2500\u2500\u2500\n",
        "                                                                 2\u22c5Q_{fcv}\u22c5T_{\n",
        "                                                                              \n",
        "\n",
        "       2  2\u239e\u239e    \u239b         \u239b                                         \u239b        \n",
        "a_{max} \u22c5w \u239f\u239f    \u239c         \u239c                        2              2 \u239c1.225806\n",
        "\u2500\u2500\u2500\u2500\u2500\u2500\u2500\u2500\u2500\u2500\u2500\u239f\u239f    \u239c         \u239c          231.04\u22c5Q_{FoV} \u22c5\\lambda_{max} \u22c5\u239c\u2500\u2500\u2500\u2500\u2500\u2500\u2500\u2500\n",
        "           \u239f\u239f    \u239c         \u239c                                         \u239c        \n",
        "           \u23a0\u239f    \u239c       2 \u239c      2                                  \u239d        \n",
        "\u2500\u2500\u2500\u2500\u2500\u2500\u2500\u2500\u2500\u2500\u2500\u2500\u239f\u22c5   \u239cQ_{GCF} \u22c5\u239cN_{AA}  + \u2500\u2500\u2500\u2500\u2500\u2500\u2500\u2500\u2500\u2500\u2500\u2500\u2500\u2500\u2500\u2500\u2500\u2500\u2500\u2500\u2500\u2500\u2500\u2500\u2500\u2500\u2500\u2500\u2500\u2500\u2500\u2500\u2500\u2500\u2500\u2500\u2500\u2500\u2500\u2500\n",
        "            \u239f    \u239c         \u239c                                                  \n",
        "            \u23a0    \u239d         \u239d                                                  \n",
        "              log                                                             \n",
        "\u2500\u2500\u2500\u2500\u2500\u2500\u2500\u2500\u2500\u2500\u2500\u2500\u2500\u2500\u2500\u2500\u2500\u2500\u2500\u2500\u2500\u2500\u2500\u2500\u2500\u2500\u2500\u2500\u2500\u2500\u2500\u2500\u2500\u2500\u2500\u2500\u2500\u2500\u2500\u2500\u2500\u2500\u2500\u2500\u2500\u2500\u2500\u2500\u2500\u2500\u2500\u2500\u2500\u2500\u2500\u2500\u2500\u2500\u2500\u2500\u2500\u2500\u2500\u2500\u2500\u2500\u2500\u2500\u2500\u2500\u2500\u2500\u2500\u2500\u2500\u2500\u2500\u2500\n",
        "ion}\u22c5log(2)                                                                   \n",
        "                                                                              \n",
        "\n",
        "                               1.5                2              2  2\u239e\u239e\u239e      \n",
        "4516129\u22c5Q_{FoV}\u22c5\\lambda_{max}\u22c5w      14.44\u22c5Q_{FoV} \u22c5\\lambda_{max} \u22c5w \u239f\u239f\u239f      \n",
        "\u2500\u2500\u2500\u2500\u2500\u2500\u2500\u2500\u2500\u2500\u2500\u2500\u2500\u2500\u2500\u2500\u2500\u2500\u2500\u2500\u2500\u2500\u2500\u2500\u2500\u2500\u2500\u2500\u2500\u2500\u2500\u2500\u2500\u2500 + \u2500\u2500\u2500\u2500\u2500\u2500\u2500\u2500\u2500\u2500\u2500\u2500\u2500\u2500\u2500\u2500\u2500\u2500\u2500\u2500\u2500\u2500\u2500\u2500\u2500\u2500\u2500\u2500\u2500\u2500\u2500\u2500\u239f\u239f\u239f      \n",
        "     \u03c0\u22c5D_s\u22c5\\epsilon_w                             2    2             \u239f\u239f\u239f      \n",
        "                                                 \u03c0 \u22c5D_s              \u23a0\u239f\u239f      \n",
        "\u2500\u2500\u2500\u2500\u2500\u2500\u2500\u2500\u2500\u2500\u2500\u2500\u2500\u2500\u2500\u2500\u2500\u2500\u2500\u2500\u2500\u2500\u2500\u2500\u2500\u2500\u2500\u2500\u2500\u2500\u2500\u2500\u2500\u2500\u2500\u2500\u2500\u2500\u2500\u2500\u2500\u2500\u2500\u2500\u2500\u2500\u2500\u2500\u2500\u2500\u2500\u2500\u2500\u2500\u2500\u2500\u2500\u2500\u2500\u2500\u2500\u2500\u2500\u2500\u2500\u2500\u2500\u2500\u2500\u2500\u239f\u239f      \n",
        "            2    2                                                    \u239f\u239f   4\u22c5N\n",
        "           \u03c0 \u22c5D_s                                                     \u23a0\u23a0      \n",
        "                                                                              \n",
        "\u2500\u2500\u2500\u2500\u2500\u2500\u2500\u2500\u2500\u2500\u2500\u2500\u2500\u2500\u2500\u2500\u2500\u2500\u2500\u2500\u2500\u2500\u2500\u2500\u2500\u2500\u2500\u2500\u2500\u2500\u2500\u2500\u2500\u2500\u2500\u2500\u2500\u2500\u2500\u2500\u2500\u2500\u2500\u2500\u2500\u2500\u2500\u2500\u2500\u2500\u2500\u2500\u2500\u2500\u2500\u2500\u2500\u2500\u2500\u2500\u2500\u2500\u2500\u2500\u2500\u2500\u2500\u2500\u2500\u2500\u2500\u2500 + \u2500\u2500\u2500\n",
        "                                                                              \n",
        "                                                                              \n",
        "\n",
        "                                                                              \n",
        "                               \u239b                                         \u239b    \n",
        "                               \u239c                        2              2 \u239c1.22\n",
        "                               \u239c          231.04\u22c5Q_{FoV} \u22c5\\lambda_{max} \u22c5\u239c\u2500\u2500\u2500\u2500\n",
        "                               \u239c                                         \u239c    \n",
        "                               \u239c      2                                  \u239d    \n",
        "\u2090\u22c5N_{mm}\u22c5\\mathrm{Ops}\u22c5(N\u2090 - 1)\u22c5\u239cN_{AA}  + \u2500\u2500\u2500\u2500\u2500\u2500\u2500\u2500\u2500\u2500\u2500\u2500\u2500\u2500\u2500\u2500\u2500\u2500\u2500\u2500\u2500\u2500\u2500\u2500\u2500\u2500\u2500\u2500\u2500\u2500\u2500\u2500\u2500\u2500\u2500\u2500\n",
        "                               \u239c                                              \n",
        "                               \u239d                                              \n",
        "\u2500\u2500\u2500\u2500\u2500\u2500\u2500\u2500\u2500\u2500\u2500\u2500\u2500\u2500\u2500\u2500\u2500\u2500\u2500\u2500\u2500\u2500\u2500\u2500\u2500\u2500\u2500\u2500\u2500\u2500\u2500\u2500\u2500\u2500\u2500\u2500\u2500\u2500\u2500\u2500\u2500\u2500\u2500\u2500\u2500\u2500\u2500\u2500\u2500\u2500\u2500\u2500\u2500\u2500\u2500\u2500\u2500\u2500\u2500\u2500\u2500\u2500\u2500\u2500\u2500\u2500\u2500\u2500\u2500\u2500\u2500\u2500\u2500\u2500\u2500\u2500\u2500\u2500\n",
        "                                                                       T_{dump\n",
        "                                                                              \n",
        "\n",
        "                                                                           \u239e\n",
        "                                   1.5                2              2  2\u239e\u239e\u239f\n",
        "58064516129\u22c5Q_{FoV}\u22c5\\lambda_{max}\u22c5w      14.44\u22c5Q_{FoV} \u22c5\\lambda_{max} \u22c5w \u239f\u239f\u239f\n",
        "\u2500\u2500\u2500\u2500\u2500\u2500\u2500\u2500\u2500\u2500\u2500\u2500\u2500\u2500\u2500\u2500\u2500\u2500\u2500\u2500\u2500\u2500\u2500\u2500\u2500\u2500\u2500\u2500\u2500\u2500\u2500\u2500\u2500\u2500\u2500\u2500\u2500\u2500 + \u2500\u2500\u2500\u2500\u2500\u2500\u2500\u2500\u2500\u2500\u2500\u2500\u2500\u2500\u2500\u2500\u2500\u2500\u2500\u2500\u2500\u2500\u2500\u2500\u2500\u2500\u2500\u2500\u2500\u2500\u2500\u2500\u239f\u239f\u239f\n",
        "         \u03c0\u22c5D_s\u22c5\\epsilon_w                             2    2             \u239f\u239f\u239f\n",
        "                                                     \u03c0 \u22c5D_s              \u23a0\u239f\u239f\n",
        "\u2500\u2500\u2500\u2500\u2500\u2500\u2500\u2500\u2500\u2500\u2500\u2500\u2500\u2500\u2500\u2500\u2500\u2500\u2500\u2500\u2500\u2500\u2500\u2500\u2500\u2500\u2500\u2500\u2500\u2500\u2500\u2500\u2500\u2500\u2500\u2500\u2500\u2500\u2500\u2500\u2500\u2500\u2500\u2500\u2500\u2500\u2500\u2500\u2500\u2500\u2500\u2500\u2500\u2500\u2500\u2500\u2500\u2500\u2500\u2500\u2500\u2500\u2500\u2500\u2500\u2500\u2500\u2500\u2500\u2500\u2500\u2500\u2500\u2500\u239f\u239f\n",
        "                2    2                                                    \u239f\u239f\n",
        "               \u03c0 \u22c5D_s                                                     \u23a0\u239f\n",
        "\u2500\u2500\u2500\u2500\u2500\u2500\u2500\u2500\u2500\u2500\u2500\u2500\u2500\u2500\u2500\u2500\u2500\u2500\u2500\u2500\u2500\u2500\u2500\u2500\u2500\u2500\u2500\u2500\u2500\u2500\u2500\u2500\u2500\u2500\u2500\u2500\u2500\u2500\u2500\u2500\u2500\u2500\u2500\u2500\u2500\u2500\u2500\u2500\u2500\u2500\u2500\u2500\u2500\u2500\u2500\u2500\u2500\u2500\u2500\u2500\u2500\u2500\u2500\u2500\u2500\u2500\u2500\u2500\u2500\u2500\u2500\u2500\u2500\u2500\u2500\u239f\n",
        "}                                                                          \u239f\n",
        "                                                                           \u23a0"
       ]
      }
     ],
     "prompt_number": 18
    },
    {
     "cell_type": "heading",
     "level": 2,
     "metadata": {},
     "source": [
      "Floating Point Operations Requirement for Fast Imaging"
     ]
    },
    {
     "cell_type": "markdown",
     "metadata": {},
     "source": [
      "The floating point operations requirement for fast imaging is different because the transformation to the sky plane must be done at each correlator dump time. The expression for the FFT rate is then:"
     ]
    },
    {
     "cell_type": "markdown",
     "metadata": {},
     "source": [
      "$$R_{FFT}^{fast} = N_{f,out} \\frac{N_{pix}^2 \\log_2 (N_{pix}^2)}{T_{dump}} \\, 5 \\, \\mathrm{Ops}$$"
     ]
    },
    {
     "cell_type": "markdown",
     "metadata": {},
     "source": [
      "Since snapshot do not need to be combined for fast imaging the re-projection step is not expected to be necessary (this in contrast to [RD7] where re-projection is included) giving the expression for the FLOP required to be:"
     ]
    },
    {
     "cell_type": "markdown",
     "metadata": {},
     "source": [
      "$$R_{FLOP}^{fast} = 2 \\times N_{pp} N_{beam} \\times (R_{grid} + R_{FFT}^{fast} + R_{CCF})$$"
     ]
    },
    {
     "cell_type": "markdown",
     "metadata": {},
     "source": [
      "Here the factor of 2 accounts for both the forward step to subtract the current sky model and the back step to estimate the residual sky."
     ]
    },
    {
     "cell_type": "heading",
     "level": 2,
     "metadata": {},
     "source": [
      "Working Memory Bandwidth Requirement"
     ]
    },
    {
     "cell_type": "markdown",
     "metadata": {},
     "source": [
      "In the current model we calculate the working memory bandwidth requirement to be simply a factor \ud835\udc39ci times the floating point operations requirement, i.e., we assume a single average computational intensity for all operations. The expression is therefore:"
     ]
    },
    {
     "cell_type": "markdown",
     "metadata": {},
     "source": [
      "$$R_{bw} = F_{ci} R_{FLOP}$$"
     ]
    },
    {
     "cell_type": "code",
     "collapsed": false,
     "input": [
      "Rbw, Fci = symbols(\"R_{bw} F_{ci}\", positive=True, real=True)\n",
      "Rbw = Fci*Rflop\n",
      "Rbw"
     ],
     "language": "python",
     "metadata": {},
     "outputs": [
      {
       "latex": [
        "$$2 F_{{ci}} N_{f} N_{{beam}} N_{{major}} \\left(\\frac{513.422222222222 B_{{max}}^{2} Q_{{FoV}}^{2} Q_{{pix}}^{2} \\lambda_{{max}}^{2} \\mathrm{Ops} \\log{\\left (\\frac{102.684444444444 B_{{max}}^{2} Q_{{FoV}}^{2} Q_{{pix}}^{2} \\lambda_{{max}}^{2}}{\\pi^{2} D_{s}^{2} \\lambda_{{min}}^{2}} \\right )}}{\\pi^{2} D_{s}^{2} T_{{snap}} \\lambda_{{min}}^{2} \\log{\\left (2 \\right )}} + \\frac{5134.22222222222 B_{{max}}^{2} Q_{{FoV}}^{2} Q_{{pix}}^{2} \\lambda_{{max}}^{2} \\mathrm{Ops}}{\\pi^{2} D_{s}^{2} T_{{snap}} \\lambda_{{min}}^{2}} + \\frac{5 N_{a} N_{{mm}} Q_{{GCF}}^{2} \\mathrm{Ops}}{2 Q_{{fcv}} T_{{ion}} \\log{\\left (2 \\right )}} \\left(N_{a} - 1\\right) \\left(N_{{AA}}^{2} + \\frac{231.04 Q_{{FoV}}^{2} \\lambda_{{max}}^{2}}{\\pi^{2} D_{s}^{2}} \\left(\\frac{1.2258064516129 Q_{{FoV}} \\lambda_{{max}} w^{1.5}}{\\pi D_{s} \\epsilon_{w}} + \\frac{14.44 Q_{{FoV}}^{2} \\lambda_{{max}}^{2} w^{2}}{\\pi^{2} D_{s}^{2}}\\right)\\right) \\log{\\left (Q_{{GCF}}^{2} \\left(N_{{AA}}^{2} + \\frac{231.04 Q_{{FoV}}^{2} \\lambda_{{max}}^{2}}{\\pi^{2} D_{s}^{2}} \\left(\\frac{1.2258064516129 Q_{{FoV}} \\lambda_{{max}} w^{1.5}}{\\pi D_{s} \\epsilon_{w}} + \\frac{14.44 Q_{{FoV}}^{2} \\lambda_{{max}}^{2} w^{2}}{\\pi^{2} D_{s}^{2}}\\right)\\right) \\right )} + \\frac{4 \\mathrm{Ops}}{T_{{dump}}} N_{a} N_{{mm}} \\left(N_{a} - 1\\right) \\left(N_{{AA}}^{2} + \\frac{231.04 Q_{{FoV}}^{2} \\lambda_{{max}}^{2}}{\\pi^{2} D_{s}^{2}} \\left(\\frac{1.2258064516129 Q_{{FoV}} \\lambda_{{max}} w^{1.5}}{\\pi D_{s} \\epsilon_{w}} + \\frac{14.44 Q_{{FoV}}^{2} \\lambda_{{max}}^{2} w^{2}}{\\pi^{2} D_{s}^{2}}\\right)\\right)\\right)$$"
       ],
       "metadata": {},
       "output_type": "pyout",
       "png": "[encoded data removed]",
       "prompt_number": 19,
       "text": [
        "                                \u239b                                             \n",
        "                                \u239c                                             \n",
        "                                \u239c                                             \n",
        "                                \u239c                                             \n",
        "                                \u239c                                             \n",
        "                                \u239c                        2        2        2  \n",
        "                                \u239c513.422222222222\u22c5B_{max} \u22c5Q_{FoV} \u22c5Q_{pix} \u22c5\\\n",
        "                                \u239c                                             \n",
        "                                \u239c                                             \n",
        "2\u22c5F_{ci}\u22c5N_f\u22c5N_{beam}\u22c5N_{major}\u22c5\u239c\u2500\u2500\u2500\u2500\u2500\u2500\u2500\u2500\u2500\u2500\u2500\u2500\u2500\u2500\u2500\u2500\u2500\u2500\u2500\u2500\u2500\u2500\u2500\u2500\u2500\u2500\u2500\u2500\u2500\u2500\u2500\u2500\u2500\u2500\u2500\u2500\u2500\u2500\u2500\u2500\u2500\u2500\u2500\u2500\u2500\n",
        "                                \u239c                                             \n",
        "                                \u239d                                             \n",
        "\n",
        "                                                                              \n",
        "                                                                              \n",
        "                                                                              \n",
        "                                                                              \n",
        "                              \u239b                        2        2        2    \n",
        "            2                 \u239c102.684444444444\u22c5B_{max} \u22c5Q_{FoV} \u22c5Q_{pix} \u22c5\\la\n",
        "lambda_{max} \u22c5\\mathrm{Ops}\u22c5log\u239c\u2500\u2500\u2500\u2500\u2500\u2500\u2500\u2500\u2500\u2500\u2500\u2500\u2500\u2500\u2500\u2500\u2500\u2500\u2500\u2500\u2500\u2500\u2500\u2500\u2500\u2500\u2500\u2500\u2500\u2500\u2500\u2500\u2500\u2500\u2500\u2500\u2500\u2500\u2500\u2500\u2500\u2500\u2500\u2500\u2500\u2500\u2500\n",
        "                              \u239c                   2    2              2       \n",
        "                              \u239d                  \u03c0 \u22c5D_s \u22c5\\lambda_{min}        \n",
        "\u2500\u2500\u2500\u2500\u2500\u2500\u2500\u2500\u2500\u2500\u2500\u2500\u2500\u2500\u2500\u2500\u2500\u2500\u2500\u2500\u2500\u2500\u2500\u2500\u2500\u2500\u2500\u2500\u2500\u2500\u2500\u2500\u2500\u2500\u2500\u2500\u2500\u2500\u2500\u2500\u2500\u2500\u2500\u2500\u2500\u2500\u2500\u2500\u2500\u2500\u2500\u2500\u2500\u2500\u2500\u2500\u2500\u2500\u2500\u2500\u2500\u2500\u2500\u2500\u2500\u2500\u2500\u2500\u2500\u2500\u2500\u2500\u2500\u2500\u2500\u2500\u2500\u2500\n",
        "     2    2                       2                                           \n",
        "    \u03c0 \u22c5D_s \u22c5T_{snap}\u22c5\\lambda_{min} \u22c5log(2)                                    \n",
        "\n",
        "                                                                              \n",
        "                                                                              \n",
        "                                                                              \n",
        "                                                                              \n",
        "          2\u239e                                                                  \n",
        "mbda_{max} \u239f                                                                  \n",
        "\u2500\u2500\u2500\u2500\u2500\u2500\u2500\u2500\u2500\u2500\u2500\u239f                                                                  \n",
        "           \u239f                           2        2        2              2     \n",
        "           \u23a0   5134.22222222222\u22c5B_{max} \u22c5Q_{FoV} \u22c5Q_{pix} \u22c5\\lambda_{max} \u22c5\\mat\n",
        "\u2500\u2500\u2500\u2500\u2500\u2500\u2500\u2500\u2500\u2500\u2500\u2500 + \u2500\u2500\u2500\u2500\u2500\u2500\u2500\u2500\u2500\u2500\u2500\u2500\u2500\u2500\u2500\u2500\u2500\u2500\u2500\u2500\u2500\u2500\u2500\u2500\u2500\u2500\u2500\u2500\u2500\u2500\u2500\u2500\u2500\u2500\u2500\u2500\u2500\u2500\u2500\u2500\u2500\u2500\u2500\u2500\u2500\u2500\u2500\u2500\u2500\u2500\u2500\u2500\u2500\u2500\u2500\u2500\u2500\u2500\u2500\u2500\u2500\u2500\u2500\n",
        "                                    2    2                       2            \n",
        "                                   \u03c0 \u22c5D_s \u22c5T_{snap}\u22c5\\lambda_{min}             \n",
        "\n",
        "                                                      \u239b                       \n",
        "                                                      \u239c                       \n",
        "                                                      \u239c          231.04\u22c5Q_{FoV\n",
        "                                                      \u239c                       \n",
        "                              2                       \u239c      2                \n",
        "           5\u22c5N\u2090\u22c5N_{mm}\u22c5Q_{GCF} \u22c5\\mathrm{Ops}\u22c5(N\u2090 - 1)\u22c5\u239cN_{AA}  + \u2500\u2500\u2500\u2500\u2500\u2500\u2500\u2500\u2500\u2500\u2500\u2500\u2500\n",
        "                                                      \u239c                       \n",
        "                                                      \u239d                       \n",
        "hrm{Ops}                                                                      \n",
        "\u2500\u2500\u2500\u2500\u2500\u2500\u2500\u2500 + \u2500\u2500\u2500\u2500\u2500\u2500\u2500\u2500\u2500\u2500\u2500\u2500\u2500\u2500\u2500\u2500\u2500\u2500\u2500\u2500\u2500\u2500\u2500\u2500\u2500\u2500\u2500\u2500\u2500\u2500\u2500\u2500\u2500\u2500\u2500\u2500\u2500\u2500\u2500\u2500\u2500\u2500\u2500\u2500\u2500\u2500\u2500\u2500\u2500\u2500\u2500\u2500\u2500\u2500\u2500\u2500\u2500\u2500\u2500\u2500\u2500\u2500\u2500\u2500\u2500\u2500\u2500\n",
        "                                                                              \n",
        "                                                                              \n",
        "\n",
        "                  \u239b                                       1.5                2\n",
        " 2              2 \u239c1.2258064516129\u22c5Q_{FoV}\u22c5\\lambda_{max}\u22c5w      14.44\u22c5Q_{FoV} \n",
        "} \u22c5\\lambda_{max} \u22c5\u239c\u2500\u2500\u2500\u2500\u2500\u2500\u2500\u2500\u2500\u2500\u2500\u2500\u2500\u2500\u2500\u2500\u2500\u2500\u2500\u2500\u2500\u2500\u2500\u2500\u2500\u2500\u2500\u2500\u2500\u2500\u2500\u2500\u2500\u2500\u2500\u2500\u2500\u2500\u2500\u2500\u2500\u2500 + \u2500\u2500\u2500\u2500\u2500\u2500\u2500\u2500\u2500\u2500\u2500\u2500\u2500\u2500\n",
        "                  \u239c             \u03c0\u22c5D_s\u22c5\\epsilon_w                             2\n",
        "                  \u239d                                                         \u03c0 \n",
        "\u2500\u2500\u2500\u2500\u2500\u2500\u2500\u2500\u2500\u2500\u2500\u2500\u2500\u2500\u2500\u2500\u2500\u2500\u2500\u2500\u2500\u2500\u2500\u2500\u2500\u2500\u2500\u2500\u2500\u2500\u2500\u2500\u2500\u2500\u2500\u2500\u2500\u2500\u2500\u2500\u2500\u2500\u2500\u2500\u2500\u2500\u2500\u2500\u2500\u2500\u2500\u2500\u2500\u2500\u2500\u2500\u2500\u2500\u2500\u2500\u2500\u2500\u2500\u2500\u2500\u2500\u2500\u2500\u2500\u2500\u2500\u2500\u2500\u2500\u2500\u2500\u2500\u2500\n",
        "                                       2    2                                 \n",
        "                                      \u03c0 \u22c5D_s                                  \n",
        "                                                                              \n",
        "\u2500\u2500\u2500\u2500\u2500\u2500\u2500\u2500\u2500\u2500\u2500\u2500\u2500\u2500\u2500\u2500\u2500\u2500\u2500\u2500\u2500\u2500\u2500\u2500\u2500\u2500\u2500\u2500\u2500\u2500\u2500\u2500\u2500\u2500\u2500\u2500\u2500\u2500\u2500\u2500\u2500\u2500\u2500\u2500\u2500\u2500\u2500\u2500\u2500\u2500\u2500\u2500\u2500\u2500\u2500\u2500\u2500\u2500\u2500\u2500\u2500\u2500\u2500\u2500\u2500\u2500\u2500\u2500\u2500\u2500\u2500\u2500\u2500\u2500\u2500\u2500\u2500\u2500\n",
        "                                                                        2\u22c5Q_{f\n",
        "                                                                              \n",
        "\n",
        "              2  2\u239e\u239e    \u239b         \u239b                                         \u239b \n",
        "\u22c5\\lambda_{max} \u22c5w \u239f\u239f    \u239c         \u239c                        2              2 \u239c1\n",
        "\u2500\u2500\u2500\u2500\u2500\u2500\u2500\u2500\u2500\u2500\u2500\u2500\u2500\u2500\u2500\u2500\u2500\u2500\u239f\u239f    \u239c         \u239c          231.04\u22c5Q_{FoV} \u22c5\\lambda_{max} \u22c5\u239c\u2500\n",
        "    2             \u239f\u239f    \u239c         \u239c                                         \u239c \n",
        "\u22c5D_s              \u23a0\u239f    \u239c       2 \u239c      2                                  \u239d \n",
        "\u2500\u2500\u2500\u2500\u2500\u2500\u2500\u2500\u2500\u2500\u2500\u2500\u2500\u2500\u2500\u2500\u2500\u2500\u2500\u239f\u22c5   \u239cQ_{GCF} \u22c5\u239cN_{AA}  + \u2500\u2500\u2500\u2500\u2500\u2500\u2500\u2500\u2500\u2500\u2500\u2500\u2500\u2500\u2500\u2500\u2500\u2500\u2500\u2500\u2500\u2500\u2500\u2500\u2500\u2500\u2500\u2500\u2500\u2500\u2500\u2500\u2500\n",
        "                   \u239f    \u239c         \u239c                                           \n",
        "                   \u23a0    \u239d         \u239d                                           \n",
        "                     log                                                      \n",
        "\u2500\u2500\u2500\u2500\u2500\u2500\u2500\u2500\u2500\u2500\u2500\u2500\u2500\u2500\u2500\u2500\u2500\u2500\u2500\u2500\u2500\u2500\u2500\u2500\u2500\u2500\u2500\u2500\u2500\u2500\u2500\u2500\u2500\u2500\u2500\u2500\u2500\u2500\u2500\u2500\u2500\u2500\u2500\u2500\u2500\u2500\u2500\u2500\u2500\u2500\u2500\u2500\u2500\u2500\u2500\u2500\u2500\u2500\u2500\u2500\u2500\u2500\u2500\u2500\u2500\u2500\u2500\u2500\u2500\u2500\u2500\u2500\u2500\u2500\u2500\u2500\u2500\u2500\n",
        "cv}\u22c5T_{ion}\u22c5log(2)                                                            \n",
        "                                                                              \n",
        "\n",
        "                                      1.5                2              2  2\u239e\u239e\n",
        ".2258064516129\u22c5Q_{FoV}\u22c5\\lambda_{max}\u22c5w      14.44\u22c5Q_{FoV} \u22c5\\lambda_{max} \u22c5w \u239f\u239f\n",
        "\u2500\u2500\u2500\u2500\u2500\u2500\u2500\u2500\u2500\u2500\u2500\u2500\u2500\u2500\u2500\u2500\u2500\u2500\u2500\u2500\u2500\u2500\u2500\u2500\u2500\u2500\u2500\u2500\u2500\u2500\u2500\u2500\u2500\u2500\u2500\u2500\u2500\u2500\u2500\u2500\u2500 + \u2500\u2500\u2500\u2500\u2500\u2500\u2500\u2500\u2500\u2500\u2500\u2500\u2500\u2500\u2500\u2500\u2500\u2500\u2500\u2500\u2500\u2500\u2500\u2500\u2500\u2500\u2500\u2500\u2500\u2500\u2500\u2500\u239f\u239f\n",
        "            \u03c0\u22c5D_s\u22c5\\epsilon_w                             2    2             \u239f\u239f\n",
        "                                                        \u03c0 \u22c5D_s              \u23a0\u239f\n",
        "\u2500\u2500\u2500\u2500\u2500\u2500\u2500\u2500\u2500\u2500\u2500\u2500\u2500\u2500\u2500\u2500\u2500\u2500\u2500\u2500\u2500\u2500\u2500\u2500\u2500\u2500\u2500\u2500\u2500\u2500\u2500\u2500\u2500\u2500\u2500\u2500\u2500\u2500\u2500\u2500\u2500\u2500\u2500\u2500\u2500\u2500\u2500\u2500\u2500\u2500\u2500\u2500\u2500\u2500\u2500\u2500\u2500\u2500\u2500\u2500\u2500\u2500\u2500\u2500\u2500\u2500\u2500\u2500\u2500\u2500\u2500\u2500\u2500\u2500\u2500\u2500\u2500\u239f\n",
        "                   2    2                                                    \u239f\n",
        "                  \u03c0 \u22c5D_s                                                     \u23a0\n",
        "                                                                              \n",
        "\u2500\u2500\u2500\u2500\u2500\u2500\u2500\u2500\u2500\u2500\u2500\u2500\u2500\u2500\u2500\u2500\u2500\u2500\u2500\u2500\u2500\u2500\u2500\u2500\u2500\u2500\u2500\u2500\u2500\u2500\u2500\u2500\u2500\u2500\u2500\u2500\u2500\u2500\u2500\u2500\u2500\u2500\u2500\u2500\u2500\u2500\u2500\u2500\u2500\u2500\u2500\u2500\u2500\u2500\u2500\u2500\u2500\u2500\u2500\u2500\u2500\u2500\u2500\u2500\u2500\u2500\u2500\u2500\u2500\u2500\u2500\u2500\u2500\u2500\u2500\u2500\u2500\u2500\n",
        "                                                                              \n",
        "                                                                              \n",
        "\n",
        "\u239e                                                                             \n",
        "\u239f                                     \u239b                                       \n",
        "\u239f                                     \u239c                        2              \n",
        "\u239f                                     \u239c          231.04\u22c5Q_{FoV} \u22c5\\lambda_{max}\n",
        "\u239f                                     \u239c                                       \n",
        "\u239f                                     \u239c      2                                \n",
        "\u239f   4\u22c5N\u2090\u22c5N_{mm}\u22c5\\mathrm{Ops}\u22c5(N\u2090 - 1)\u22c5\u239cN_{AA}  + \u2500\u2500\u2500\u2500\u2500\u2500\u2500\u2500\u2500\u2500\u2500\u2500\u2500\u2500\u2500\u2500\u2500\u2500\u2500\u2500\u2500\u2500\u2500\u2500\u2500\u2500\u2500\u2500\u2500\n",
        "\u23a0                                     \u239c                                       \n",
        "                                      \u239d                                       \n",
        "\u2500 + \u2500\u2500\u2500\u2500\u2500\u2500\u2500\u2500\u2500\u2500\u2500\u2500\u2500\u2500\u2500\u2500\u2500\u2500\u2500\u2500\u2500\u2500\u2500\u2500\u2500\u2500\u2500\u2500\u2500\u2500\u2500\u2500\u2500\u2500\u2500\u2500\u2500\u2500\u2500\u2500\u2500\u2500\u2500\u2500\u2500\u2500\u2500\u2500\u2500\u2500\u2500\u2500\u2500\u2500\u2500\u2500\u2500\u2500\u2500\u2500\u2500\u2500\u2500\u2500\u2500\u2500\u2500\u2500\u2500\u2500\u2500\u2500\u2500\u2500\n",
        "                                                                              \n",
        "                                                                              \n",
        "\n",
        "                                                                              \n",
        "  \u239b                                       1.5                2              2 \n",
        "2 \u239c1.2258064516129\u22c5Q_{FoV}\u22c5\\lambda_{max}\u22c5w      14.44\u22c5Q_{FoV} \u22c5\\lambda_{max} \u22c5\n",
        " \u22c5\u239c\u2500\u2500\u2500\u2500\u2500\u2500\u2500\u2500\u2500\u2500\u2500\u2500\u2500\u2500\u2500\u2500\u2500\u2500\u2500\u2500\u2500\u2500\u2500\u2500\u2500\u2500\u2500\u2500\u2500\u2500\u2500\u2500\u2500\u2500\u2500\u2500\u2500\u2500\u2500\u2500\u2500\u2500 + \u2500\u2500\u2500\u2500\u2500\u2500\u2500\u2500\u2500\u2500\u2500\u2500\u2500\u2500\u2500\u2500\u2500\u2500\u2500\u2500\u2500\u2500\u2500\u2500\u2500\u2500\u2500\u2500\u2500\u2500\n",
        "  \u239c             \u03c0\u22c5D_s\u22c5\\epsilon_w                             2    2           \n",
        "  \u239d                                                         \u03c0 \u22c5D_s            \n",
        "\u2500\u2500\u2500\u2500\u2500\u2500\u2500\u2500\u2500\u2500\u2500\u2500\u2500\u2500\u2500\u2500\u2500\u2500\u2500\u2500\u2500\u2500\u2500\u2500\u2500\u2500\u2500\u2500\u2500\u2500\u2500\u2500\u2500\u2500\u2500\u2500\u2500\u2500\u2500\u2500\u2500\u2500\u2500\u2500\u2500\u2500\u2500\u2500\u2500\u2500\u2500\u2500\u2500\u2500\u2500\u2500\u2500\u2500\u2500\u2500\u2500\u2500\u2500\u2500\u2500\u2500\u2500\u2500\u2500\u2500\u2500\u2500\u2500\u2500\u2500\u2500\u2500\u2500\n",
        "                       2    2                                                 \n",
        "                      \u03c0 \u22c5D_s                                                  \n",
        "\u2500\u2500\u2500\u2500\u2500\u2500\u2500\u2500\u2500\u2500\u2500\u2500\u2500\u2500\u2500\u2500\u2500\u2500\u2500\u2500\u2500\u2500\u2500\u2500\u2500\u2500\u2500\u2500\u2500\u2500\u2500\u2500\u2500\u2500\u2500\u2500\u2500\u2500\u2500\u2500\u2500\u2500\u2500\u2500\u2500\u2500\u2500\u2500\u2500\u2500\u2500\u2500\u2500\u2500\u2500\u2500\u2500\u2500\u2500\u2500\u2500\u2500\u2500\u2500\u2500\u2500\u2500\u2500\u2500\u2500\u2500\u2500\u2500\u2500\u2500\u2500\u2500\u2500\n",
        "T_{dump}                                                                      \n",
        "                                                                              \n",
        "\n",
        "    \u239e\n",
        " 2\u239e\u239e\u239f\n",
        "w \u239f\u239f\u239f\n",
        "\u2500\u2500\u239f\u239f\u239f\n",
        "  \u239f\u239f\u239f\n",
        "  \u23a0\u239f\u239f\n",
        "\u2500\u2500\u2500\u239f\u239f\n",
        "   \u239f\u239f\n",
        "   \u23a0\u239f\n",
        "\u2500\u2500\u2500\u2500\u239f\n",
        "    \u239f\n",
        "    \u23a0"
       ]
      }
     ],
     "prompt_number": 19
    },
    {
     "cell_type": "heading",
     "level": 2,
     "metadata": {},
     "source": [
      "Working memory requirements"
     ]
    },
    {
     "cell_type": "markdown",
     "metadata": {},
     "source": [
      "In this section some key working memory needs are identified and associated with particular steps in the imaging process. In general there may be efficiency savings by keeping several working memory areas together so that some intermediate results or cached items are reused. This is not yet analysed here but rather only the minimum working memory requirements are identified."
     ]
    },
    {
     "cell_type": "heading",
     "level": 3,
     "metadata": {},
     "source": [
      "UV Grid"
     ]
    },
    {
     "cell_type": "markdown",
     "metadata": {},
     "source": [
      "Each uv grid has $\ud835\udc41_{pix}^2$ pixels which have to be double precision complex values requiring 16 bytes of storage."
     ]
    },
    {
     "cell_type": "markdown",
     "metadata": {},
     "source": [
      "$$M_{uv\\,grid} = 16 N_{pix}^2 \\textrm{byte}$$"
     ]
    },
    {
     "cell_type": "code",
     "collapsed": false,
     "input": [
      "Muvgrid, byte = symbols(\"M_{uv\\,grid} \\mathrm{byte}\", positive=True)\n",
      "Muvgrid = (2*(8*byte))*Npix**2\n",
      "Muvgrid"
     ],
     "language": "python",
     "metadata": {},
     "outputs": [
      {
       "latex": [
        "$$\\frac{3285.90222222222 B_{{max}}^{2} Q_{{FoV}}^{2} Q_{{pix}}^{2} \\lambda_{{max}}^{2} \\mathrm{byte}}{\\pi^{2} D_{s}^{2} \\lambda_{{min}}^{2}}$$"
       ],
       "metadata": {},
       "output_type": "pyout",
       "png": "[encoded data removed]",
       "prompt_number": 22,
       "text": [
        "                        2        2        2              2              \n",
        "3285.90222222222\u22c5B_{max} \u22c5Q_{FoV} \u22c5Q_{pix} \u22c5\\lambda_{max} \u22c5\\mathrm{byte}\n",
        "\u2500\u2500\u2500\u2500\u2500\u2500\u2500\u2500\u2500\u2500\u2500\u2500\u2500\u2500\u2500\u2500\u2500\u2500\u2500\u2500\u2500\u2500\u2500\u2500\u2500\u2500\u2500\u2500\u2500\u2500\u2500\u2500\u2500\u2500\u2500\u2500\u2500\u2500\u2500\u2500\u2500\u2500\u2500\u2500\u2500\u2500\u2500\u2500\u2500\u2500\u2500\u2500\u2500\u2500\u2500\u2500\u2500\u2500\u2500\u2500\u2500\u2500\u2500\u2500\u2500\u2500\u2500\u2500\u2500\u2500\u2500\u2500\n",
        "                          2    2              2                         \n",
        "                         \u03c0 \u22c5D_s \u22c5\\lambda_{min}                          "
       ]
      }
     ],
     "prompt_number": 22
    },
    {
     "cell_type": "markdown",
     "metadata": {},
     "source": [
      "This size of working memory is required for gridding of the visibilities, for gridding of the PSFs and for the FFTs (which are taken to be in-place here). \n",
      "\n",
      "The grids used for accumulating weights are real-valued so:"
     ]
    },
    {
     "cell_type": "markdown",
     "metadata": {},
     "source": [
      "$$M_{weight\\,grid}=8  N_{pix}^2  \\, \\mathrm{byte}$$"
     ]
    },
    {
     "cell_type": "markdown",
     "metadata": {},
     "source": [
      "This is the working memory requirement for the image weight calculation.\n",
      "\n",
      "The images used in the intermediate processing are also real valued so they require:\n"
     ]
    },
    {
     "cell_type": "markdown",
     "metadata": {},
     "source": [
      "$$M_{image} = 8 N_{pix}^2 \\, \\mathrm{byte}$$"
     ]
    },
    {
     "cell_type": "markdown",
     "metadata": {},
     "source": [
      "This is the required working memory for any whole-image calculations. Re-projection requires minimum $M_{image}$ if it operates on whole images but can relatively easily be decomposed onto operations onto sections of images. Minor cycle CLEAN likewise works on $M_{image}$ working set in the most straightforward implementation."
     ]
    },
    {
     "cell_type": "heading",
     "level": 3,
     "metadata": {},
     "source": [
      "\n",
      "Convolution Kernel Cache Size"
     ]
    },
    {
     "cell_type": "markdown",
     "metadata": {},
     "source": [
      "Beside the target grids, another important memory requirement is the memory used to cache the w- convolution kernels.\n",
      "\n",
      "The cache size is calculated by assuming that the number of w-planes is the w-kernel oversampling times the size of the kernels in each angular direction, that the oversampling is 8 as previously assumed, and that there is a separate kernel for each beam and frequency channel:"
     ]
    },
    {
     "cell_type": "markdown",
     "metadata": {},
     "source": [
      "$$M_{w\\, cache} = N_{GW}^3  Q_{GCF}^3 \\times N_{beam} N_f \\times 8\\,\\mathrm{byte}$$"
     ]
    },
    {
     "cell_type": "markdown",
     "metadata": {},
     "source": [
      "Here $N_{GW}$ is the linear size of the convolution kernel in one of the angular dimensions and is evaluated at the optimal w-snapshot duration."
     ]
    },
    {
     "cell_type": "code",
     "collapsed": false,
     "input": [
      "Mwcache = symbols(\"M_{w\\,cache}\", positive=True)\n",
      "Mwcache = (NGW*8)**3 * Nbeam * Nf * (8 * byte)\n",
      "Mwcache"
     ],
     "language": "python",
     "metadata": {},
     "outputs": [
      {
       "latex": [
        "$$\\frac{14384365.568 N_{f} N_{{beam}} \\mathrm{byte}}{\\pi^{3} D_{s}^{3}} Q_{{FoV}}^{3} \\lambda_{{max}}^{3} \\left(\\frac{1.2258064516129 Q_{{FoV}} \\lambda_{{max}} w^{1.5}}{\\pi D_{s} \\epsilon_{w}} + \\frac{14.44 Q_{{FoV}}^{2} \\lambda_{{max}}^{2} w^{2}}{\\pi^{2} D_{s}^{2}}\\right)^{\\frac{3}{2}}$$"
       ],
       "metadata": {},
       "output_type": "pyout",
       "png": "[encoded data removed]",
       "prompt_number": 23,
       "text": [
        "                                                                              \n",
        "                                                                \u239b             \n",
        "                                 3              3               \u239c1.22580645161\n",
        "14384365.568\u22c5N_f\u22c5N_{beam}\u22c5Q_{FoV} \u22c5\\lambda_{max} \u22c5\\mathrm{byte}\u22c5\u239c\u2500\u2500\u2500\u2500\u2500\u2500\u2500\u2500\u2500\u2500\u2500\u2500\u2500\n",
        "                                                                \u239c             \n",
        "                                                                \u239d             \n",
        "\u2500\u2500\u2500\u2500\u2500\u2500\u2500\u2500\u2500\u2500\u2500\u2500\u2500\u2500\u2500\u2500\u2500\u2500\u2500\u2500\u2500\u2500\u2500\u2500\u2500\u2500\u2500\u2500\u2500\u2500\u2500\u2500\u2500\u2500\u2500\u2500\u2500\u2500\u2500\u2500\u2500\u2500\u2500\u2500\u2500\u2500\u2500\u2500\u2500\u2500\u2500\u2500\u2500\u2500\u2500\u2500\u2500\u2500\u2500\u2500\u2500\u2500\u2500\u2500\u2500\u2500\u2500\u2500\u2500\u2500\u2500\u2500\u2500\u2500\u2500\u2500\u2500\u2500\n",
        "                                                                      3    3  \n",
        "                                                                     \u03c0 \u22c5D_s   \n",
        "\n",
        "                                                                 3/2\n",
        "                          1.5                2              2  2\u239e   \n",
        "29\u22c5Q_{FoV}\u22c5\\lambda_{max}\u22c5w      14.44\u22c5Q_{FoV} \u22c5\\lambda_{max} \u22c5w \u239f   \n",
        "\u2500\u2500\u2500\u2500\u2500\u2500\u2500\u2500\u2500\u2500\u2500\u2500\u2500\u2500\u2500\u2500\u2500\u2500\u2500\u2500\u2500\u2500\u2500\u2500\u2500\u2500\u2500\u2500\u2500 + \u2500\u2500\u2500\u2500\u2500\u2500\u2500\u2500\u2500\u2500\u2500\u2500\u2500\u2500\u2500\u2500\u2500\u2500\u2500\u2500\u2500\u2500\u2500\u2500\u2500\u2500\u2500\u2500\u2500\u2500\u2500\u2500\u239f   \n",
        "\u03c0\u22c5D_s\u22c5\\epsilon_w                             2    2             \u239f   \n",
        "                                            \u03c0 \u22c5D_s              \u23a0   \n",
        "\u2500\u2500\u2500\u2500\u2500\u2500\u2500\u2500\u2500\u2500\u2500\u2500\u2500\u2500\u2500\u2500\u2500\u2500\u2500\u2500\u2500\u2500\u2500\u2500\u2500\u2500\u2500\u2500\u2500\u2500\u2500\u2500\u2500\u2500\u2500\u2500\u2500\u2500\u2500\u2500\u2500\u2500\u2500\u2500\u2500\u2500\u2500\u2500\u2500\u2500\u2500\u2500\u2500\u2500\u2500\u2500\u2500\u2500\u2500\u2500\u2500\u2500\u2500\u2500\u2500\u2500\u2500\u2500\n",
        "                                                                    \n",
        "                                                                    "
       ]
      }
     ],
     "prompt_number": 23
    },
    {
     "cell_type": "markdown",
     "metadata": {},
     "source": [
      "The w-function cache above is sized to include the oversampled functions. When baseline-dependent kernels are recomputed repeatedly the oversampling of the uv directions is regenerated. So in the case of such recomputation of kernels on the fly there is no need to permanently cache the uv oversampling of the w functions. This oversampling at the point of computing the combined AW kernels is implemented in LOFAR software."
     ]
    },
    {
     "cell_type": "heading",
     "level": 2,
     "metadata": {},
     "source": [
      "Buffer Requirements"
     ]
    },
    {
     "cell_type": "heading",
     "level": 3,
     "metadata": {},
     "source": [
      "Visibilities Buffer"
     ]
    },
    {
     "cell_type": "markdown",
     "metadata": {},
     "source": [
      "The visibility buffer is sized by allowing space for two full observations of duration $T_{obs}$.\n",
      "\n",
      "Each visibility in the visibility buffer is assumed to consume $M_{vis}$ bytes. This is currently understood to be at minimum 12 bytes: 8 bytes for a single-precision complex floating point visibility value and 4 bytes for time centroid and flags. The value of $M_{vis} = 12 \\, \\mathrm{bytes}$, however, implies the uvw coordinates are re-calculated at each read.\n",
      "\n",
      "The size of the buffer is then:"
     ]
    },
    {
     "cell_type": "markdown",
     "metadata": {},
     "source": [
      "$$M_{bufvis} = 2 R_{vis} M_{vis} T_{obs}$$"
     ]
    },
    {
     "cell_type": "code",
     "collapsed": false,
     "input": [
      "Mvis, Mbufvis, Tobs = symbols(\"M_{vis} M_{bufvis} T_{obs}\", positive=True, real=True)\n",
      "Mbufvis = 2*Rvis*Mvis*Tobs\n",
      "Mbufvis"
     ],
     "language": "python",
     "metadata": {},
     "outputs": [
      {
       "latex": [
        "$$\\frac{4 M_{{vis}}}{T_{{dump}}} N_{a} N_{f} N_{{beam}} T_{{obs}} \\left(N_{a} - 1\\right)$$"
       ],
       "metadata": {},
       "output_type": "pyout",
       "png": "[encoded data removed]",
       "prompt_number": 24,
       "text": [
        "4\u22c5M_{vis}\u22c5N\u2090\u22c5N_f\u22c5N_{beam}\u22c5T_{obs}\u22c5(N\u2090 - 1)\n",
        "\u2500\u2500\u2500\u2500\u2500\u2500\u2500\u2500\u2500\u2500\u2500\u2500\u2500\u2500\u2500\u2500\u2500\u2500\u2500\u2500\u2500\u2500\u2500\u2500\u2500\u2500\u2500\u2500\u2500\u2500\u2500\u2500\u2500\u2500\u2500\u2500\u2500\u2500\u2500\u2500\u2500\u2500\n",
        "                 T_{dump}                 "
       ]
      }
     ],
     "prompt_number": 24
    },
    {
     "cell_type": "markdown",
     "metadata": {},
     "source": [
      "It is assumed that the UV data from the buffer are read once per full major cycle. The required read rate from the buffer is therefore:"
     ]
    },
    {
     "cell_type": "markdown",
     "metadata": {},
     "source": [
      "$$R_{io} = (1 + N_{major}) N_{vis} M_{vis}$$"
     ]
    },
    {
     "cell_type": "code",
     "collapsed": false,
     "input": [
      "Rio = symbols(\"R_{io}\", positive=True)\n",
      "Rio = Nmajor * Nvis * Mvis\n",
      "Rio"
     ],
     "language": "python",
     "metadata": {},
     "outputs": [
      {
       "latex": [
        "$$\\frac{2 M_{{vis}}}{T_{{dump}}} N_{a} N_{f} N_{{beam}} N_{{major}} \\left(N_{a} - 1\\right)$$"
       ],
       "metadata": {},
       "output_type": "pyout",
       "png": "[encoded data removed]",
       "prompt_number": 25,
       "text": [
        "2\u22c5M_{vis}\u22c5N\u2090\u22c5N_f\u22c5N_{beam}\u22c5N_{major}\u22c5(N\u2090 - 1)\n",
        "\u2500\u2500\u2500\u2500\u2500\u2500\u2500\u2500\u2500\u2500\u2500\u2500\u2500\u2500\u2500\u2500\u2500\u2500\u2500\u2500\u2500\u2500\u2500\u2500\u2500\u2500\u2500\u2500\u2500\u2500\u2500\u2500\u2500\u2500\u2500\u2500\u2500\u2500\u2500\u2500\u2500\u2500\u2500\u2500\n",
        "                  T_{dump}                  "
       ]
      }
     ],
     "prompt_number": 25
    },
    {
     "cell_type": "heading",
     "level": 3,
     "metadata": {},
     "source": [
      "Target grids buffer"
     ]
    },
    {
     "cell_type": "markdown",
     "metadata": {},
     "source": [
      "We also may need to buffer the target grids during reduction of an observation. The analysis of the buffering requirement for this has not yet been done and depend on the details of the image post- processing required."
     ]
    },
    {
     "cell_type": "heading",
     "level": 2,
     "metadata": {},
     "source": [
      "Archive Requirements"
     ]
    },
    {
     "cell_type": "markdown",
     "metadata": {},
     "source": [
      "The size basic image cube data products to be used in science analysis and archiving are related to the $N_{pix}$ parameter described above with following notes:\n",
      "\n",
      "* The field of view parameter $Q_{FoV}$ to be used is likely different as there is not much use in retaining the first sidelobe once it has been used for accurate subtraction of sources.\n",
      "* The pixel oversampling $Q_{pix}$ may be different as very accurate prediction of visibilities is no longer required."
     ]
    },
    {
     "cell_type": "markdown",
     "metadata": {},
     "source": [
      "8 Bytes per pixel is assumed and that all 4 polarisation products plus one weight value for each pixel."
     ]
    },
    {
     "cell_type": "markdown",
     "metadata": {},
     "source": [
      "$$M_{discovery} = 8\\,\\mathrm{byte} \\times (4_{(Pol)} + 1_{(weight)}) \\times N_f N_{pix}^2 F_{FOV}$$"
     ]
    },
    {
     "cell_type": "markdown",
     "metadata": {},
     "source": [
      "Here $F_{FOV}$ is the (2D) field of view increase factor, only non-unity for the SURVEY telescope, such that the total field of view values are 61, 18 and 3.1 square degrees in bands 1, 2 and 3 respectively (this gives $F_{FOV}$ a value of 5.7, 5.8 and 5.3 in each band, compared to the field of view at the maximum wavelength in each band)."
     ]
    },
    {
     "cell_type": "code",
     "collapsed": false,
     "input": [
      "Mdiscovery, Ffov = symbols(\"M_{discovery} F_{FOV}\", positive=True, real=True)\n",
      "Mdiscovery = 8*byte*(4+1)*Nf* Npix**2 * Ffov\n",
      "Mdiscovery"
     ],
     "language": "python",
     "metadata": {},
     "outputs": [
      {
       "latex": [
        "$$\\frac{4107.37777777778 B_{{max}}^{2} F_{{FOV}} N_{f} Q_{{FoV}}^{2} \\mathrm{byte}}{\\pi^{2} D_{s}^{2} \\lambda_{{min}}^{2}} Q_{{pix}}^{2} \\lambda_{{max}}^{2}$$"
       ],
       "metadata": {},
       "output_type": "pyout",
       "png": "[encoded data removed]",
       "prompt_number": 26,
       "text": [
        "                        2                    2        2              2        \n",
        "4107.37777777778\u22c5B_{max} \u22c5F_{FOV}\u22c5N_f\u22c5Q_{FoV} \u22c5Q_{pix} \u22c5\\lambda_{max} \u22c5\\mathrm\n",
        "\u2500\u2500\u2500\u2500\u2500\u2500\u2500\u2500\u2500\u2500\u2500\u2500\u2500\u2500\u2500\u2500\u2500\u2500\u2500\u2500\u2500\u2500\u2500\u2500\u2500\u2500\u2500\u2500\u2500\u2500\u2500\u2500\u2500\u2500\u2500\u2500\u2500\u2500\u2500\u2500\u2500\u2500\u2500\u2500\u2500\u2500\u2500\u2500\u2500\u2500\u2500\u2500\u2500\u2500\u2500\u2500\u2500\u2500\u2500\u2500\u2500\u2500\u2500\u2500\u2500\u2500\u2500\u2500\u2500\u2500\u2500\u2500\u2500\u2500\u2500\u2500\u2500\u2500\n",
        "                                2    2              2                         \n",
        "                               \u03c0 \u22c5D_s \u22c5\\lambda_{min}                          \n",
        "\n",
        "      \n",
        "{byte}\n",
        "\u2500\u2500\u2500\u2500\u2500\u2500\n",
        "      \n",
        "      "
       ]
      }
     ],
     "prompt_number": 26
    },
    {
     "cell_type": "heading",
     "level": 1,
     "metadata": {},
     "source": [
      "Results"
     ]
    },
    {
     "cell_type": "code",
     "collapsed": false,
     "input": [
      "assumed_values = {}"
     ],
     "language": "python",
     "metadata": {},
     "outputs": [],
     "prompt_number": 27
    },
    {
     "cell_type": "heading",
     "level": 2,
     "metadata": {},
     "source": [
      "Justification for parameter choices"
     ]
    },
    {
     "cell_type": "heading",
     "level": 3,
     "metadata": {},
     "source": [
      "Wavelengths used for baseline performance estimate"
     ]
    },
    {
     "cell_type": "markdown",
     "metadata": {},
     "source": [
      "For the baseline performance estimate a single frequency was used to calculate the baseline requirements. This was chosen according to be approximately where the key science is likely to be and also so that it is moderately challenging."
     ]
    },
    {
     "cell_type": "markdown",
     "metadata": {},
     "source": [
      "<table>\n",
      "<thead>\n",
      "<tr>\n",
      "\t<th> </th>\n",
      "\t<th>SKA1-Low</th>\n",
      "\t<th>SKA1-Mid</th>\n",
      "\t<th>SKA1-Survey</th>\n",
      "</tr>\n",
      "</thead>\n",
      "<tbody>\n",
      "<tr>\n",
      "\t<th>Representative wavelength (m)</th>\n",
      "\t<th>2.9</th>\n",
      "\t<th>0.2</th>\n",
      "\t<th>0.2</th>\n",
      "</tr>\n",
      "</tbody>\n",
      "</table>"
     ]
    },
    {
     "cell_type": "code",
     "collapsed": false,
     "input": [
      "[telescope_info[x][wl] for x in telescope_labels]"
     ],
     "language": "python",
     "metadata": {},
     "outputs": [
      {
       "latex": [
        "$$\\begin{bmatrix}0.258441774137931 m, & 2.99792458 m, & 0.258441774137931 m\\end{bmatrix}$$"
       ],
       "metadata": {},
       "output_type": "pyout",
       "png": "[encoded data removed]",
       "prompt_number": 28,
       "text": [
        "[0.258441774137931\u22c5m, 2.99792458\u22c5m, 0.258441774137931\u22c5m]"
       ]
      }
     ],
     "prompt_number": 28
    },
    {
     "cell_type": "heading",
     "level": 3,
     "metadata": {},
     "source": [
      "W-kernel size"
     ]
    },
    {
     "cell_type": "markdown",
     "metadata": {},
     "source": [
      "We assume that $\\epsilon_w = 0.01$, i.e., the kernels are sized to retain the convolution function down to the 1% amplitude level."
     ]
    },
    {
     "cell_type": "code",
     "collapsed": false,
     "input": [
      "assumed_values[eps_w] = 0.01"
     ],
     "language": "python",
     "metadata": {},
     "outputs": [],
     "prompt_number": 29
    },
    {
     "cell_type": "heading",
     "level": 3,
     "metadata": {},
     "source": [
      "W-kernel oversampling"
     ]
    },
    {
     "cell_type": "markdown",
     "metadata": {},
     "source": [
      "The oversampling factor is assumed to be 8, the value typically used in LOFAR processing."
     ]
    },
    {
     "cell_type": "heading",
     "level": 3,
     "metadata": {},
     "source": [
      "Field of view"
     ]
    },
    {
     "cell_type": "markdown",
     "metadata": {},
     "source": [
      "Experience of LOFAR and advice from ASKAP is that at least the first sidelobe of the primary beam should be imaged. In order to image all of the first side lobe and up to the second zero of the beam the quality factor should be set to $Q_{FoV} = 1.8$."
     ]
    },
    {
     "cell_type": "code",
     "collapsed": false,
     "input": [
      "assumed_values[Qfov] = 1.8"
     ],
     "language": "python",
     "metadata": {},
     "outputs": [],
     "prompt_number": 30
    },
    {
     "cell_type": "markdown",
     "metadata": {},
     "source": [
      "### Ionospheric timescale"
     ]
    },
    {
     "cell_type": "markdown",
     "metadata": {},
     "source": [
      "The experience of LOFAR is that this timescale can vary between 10 seconds and a few minutes, depending on frequency of interest and the atmospheric conditions. In the calculations here we assume an ionospheric time scale of 60 seconds."
     ]
    },
    {
     "cell_type": "code",
     "collapsed": false,
     "input": [
      "assumed_values[Tion] = 60*u.s"
     ],
     "language": "python",
     "metadata": {},
     "outputs": [],
     "prompt_number": 31
    },
    {
     "cell_type": "markdown",
     "metadata": {},
     "source": [
      "### Average Computational Intensity"
     ]
    },
    {
     "cell_type": "markdown",
     "metadata": {},
     "source": [
      "Parameter $F_{ci}$ determines the ratio between the required bandwidth to working memory and the FLOP count. For FFTs we have found experimentally (by measuring memory access instructions) to be about 2, i.e., 2 bytes of memory access per floating point operation. This is also consistent with measured FFT performance on GPUs and CPUs."
     ]
    },
    {
     "cell_type": "code",
     "collapsed": false,
     "input": [
      "assumed_values[Fci] = 2"
     ],
     "language": "python",
     "metadata": {},
     "outputs": [],
     "prompt_number": 32
    },
    {
     "cell_type": "code",
     "collapsed": false,
     "input": [
      "assumed_values"
     ],
     "language": "python",
     "metadata": {},
     "outputs": [
      {
       "latex": [
        "$$\\begin{Bmatrix}F_{{ci}} : 2, & Q_{{FoV}} : 1.8, & T_{{ion}} : 60 s, & \\epsilon_{w} : 0.01\\end{Bmatrix}$$"
       ],
       "metadata": {},
       "output_type": "pyout",
       "png": "[encoded data removed]",
       "prompt_number": 33,
       "text": [
        "{F_{ci}: 2, Q_{FoV}: 1.8, T_{ion}: 60\u22c5s, \\epsilon_w: 0.01}"
       ]
      }
     ],
     "prompt_number": 33
    },
    {
     "cell_type": "heading",
     "level": 2,
     "metadata": {},
     "source": [
      "Baseline for Costing"
     ]
    },
    {
     "cell_type": "code",
     "collapsed": false,
     "input": [
      "assumed_values[NAA]=9\n",
      "assumed_values[Nmajor]=10\n",
      "assumed_values[Qpix]=2.5\n",
      "assumed_values[Qgcf]=8\n",
      "assumed_values[Qfcv]=10\n",
      "assumed_values[Nmm]=4\n",
      "assumed_values[Mvis]=12*byte\n",
      "assumed_values[Npp]=4"
     ],
     "language": "python",
     "metadata": {},
     "outputs": [],
     "prompt_number": 34
    },
    {
     "cell_type": "code",
     "collapsed": false,
     "input": [
      "assumed_values_low = assumed_values.copy()\n",
      "assumed_values_low[Tsnap] = 21*u.s"
     ],
     "language": "python",
     "metadata": {},
     "outputs": [],
     "prompt_number": 35
    },
    {
     "cell_type": "code",
     "collapsed": false,
     "input": [
      "assumed_values_mid = assumed_values.copy()\n",
      "assumed_values_mid[Tsnap] = 110*u.s"
     ],
     "language": "python",
     "metadata": {},
     "outputs": [],
     "prompt_number": 36
    },
    {
     "cell_type": "code",
     "collapsed": false,
     "input": [
      "assumed_values_survey = assumed_values.copy()\n",
      "assumed_values_survey[Tsnap] = 280*u.s"
     ],
     "language": "python",
     "metadata": {},
     "outputs": [],
     "prompt_number": 37
    },
    {
     "cell_type": "code",
     "collapsed": false,
     "input": [],
     "language": "python",
     "metadata": {},
     "outputs": [],
     "prompt_number": 37
    },
    {
     "cell_type": "code",
     "collapsed": false,
     "input": [
      "Rflop_low = Rflop.subs({wl_min: wl, wl_max: wl}).subs(telescope_info['SKA1Low']).subs(assumed_values).evalf(4)"
     ],
     "language": "python",
     "metadata": {},
     "outputs": [],
     "prompt_number": 38
    },
    {
     "cell_type": "code",
     "collapsed": false,
     "input": [
      "Rflop_low_deriv = diff(Rflop_low,w).subs({Ops: 1, u.s: 1})\n",
      "Rflop_low_deriv"
     ],
     "language": "python",
     "metadata": {},
     "outputs": [
      {
       "latex": [
        "$$718206369005568.0 w^{0.5} + 5.536 \\cdot 10^{12} w + 8.254 \\cdot 10^{12} \\left(5.021484375 w^{0.5} + 0.03871 w\\right) \\log{\\left (\\frac{1}{\\pi^{2}} \\left(\\frac{120.652131238305 w^{2}}{\\pi^{2}} + \\frac{6643.00445509426 w^{1.5}}{\\pi}\\right) + 5184 \\right )} + \\frac{2.90112983953992 \\cdot 10^{15} \\left(\\frac{28.349037963871 w^{0.5}}{\\pi} + \\frac{0.686511025147906 w}{\\pi^{2}}\\right) \\left(0.01935 w^{2} + 3.348 w^{1.5} + 81.0\\right)}{\\pi^{2} \\left(\\frac{1}{\\pi^{2}} \\left(\\frac{120.652131238305 w^{2}}{\\pi^{2}} + \\frac{6643.00445509426 w^{1.5}}{\\pi}\\right) + 5184\\right)}$$"
       ],
       "metadata": {},
       "output_type": "pyout",
       "png": "[encoded data removed]",
       "prompt_number": 39,
       "text": [
        "                                                                              \n",
        "                                                                              \n",
        "                                                                              \n",
        "                                                                              \n",
        "                   0.5                           \u239b             0.5            \n",
        "718206369005568.0\u22c5w    + 5.536e+12\u22c5w + 8.254e+12\u22c5\u239d5.021484375\u22c5w    + 0.03871\u22c5w\n",
        "                                                                              \n",
        "                                                                              \n",
        "                                                                              \n",
        "                                                                              \n",
        "                                                                              \n",
        "                                                                              \n",
        "                                                                              \n",
        "                                                                              \n",
        "\n",
        "     \u239b                 \u239b                   2                     1.5\u239e       \u239e \n",
        "     \u239c                 \u239c0.343255512573953\u22c5w    18.8993586425806\u22c5w   \u239f       \u239f \n",
        "     \u239c351.493644875728\u22c5\u239c\u2500\u2500\u2500\u2500\u2500\u2500\u2500\u2500\u2500\u2500\u2500\u2500\u2500\u2500\u2500\u2500\u2500\u2500\u2500\u2500 + \u2500\u2500\u2500\u2500\u2500\u2500\u2500\u2500\u2500\u2500\u2500\u2500\u2500\u2500\u2500\u2500\u2500\u2500\u2500\u2500\u2500\u239f       \u239f \n",
        "     \u239c                 \u239c          2                      \u03c0          \u239f       \u239f \n",
        "\u239e    \u239c                 \u239d         \u03c0                                  \u23a0       \u239f \n",
        "\u23a0\u22c5   \u239c\u2500\u2500\u2500\u2500\u2500\u2500\u2500\u2500\u2500\u2500\u2500\u2500\u2500\u2500\u2500\u2500\u2500\u2500\u2500\u2500\u2500\u2500\u2500\u2500\u2500\u2500\u2500\u2500\u2500\u2500\u2500\u2500\u2500\u2500\u2500\u2500\u2500\u2500\u2500\u2500\u2500\u2500\u2500\u2500\u2500\u2500\u2500\u2500\u2500\u2500\u2500\u2500\u2500\u2500\u2500\u2500\u2500\u2500\u2500\u2500\u2500\u2500\u2500 + 5184\u239f \n",
        "     \u239c                                2                                     \u239f \n",
        "     \u239d                               \u03c0                                      \u23a0 \n",
        "  log                                                                         \n",
        "                                                                              \n",
        "                                                                              \n",
        "                                                                              \n",
        "                                                                              \n",
        "                                                                              \n",
        "\n",
        "                       \u239b                 0.5                      \u239e           \n",
        "                       \u239c28.349037963871\u22c5w      0.686511025147906\u22c5w\u239f \u239b         \n",
        "  2.90112983953992e+15\u22c5\u239c\u2500\u2500\u2500\u2500\u2500\u2500\u2500\u2500\u2500\u2500\u2500\u2500\u2500\u2500\u2500\u2500\u2500\u2500\u2500\u2500 + \u2500\u2500\u2500\u2500\u2500\u2500\u2500\u2500\u2500\u2500\u2500\u2500\u2500\u2500\u2500\u2500\u2500\u2500\u2500\u239f\u22c5\u239d0.01935\u22c5w\n",
        "                       \u239c         \u03c0                       2        \u239f           \n",
        "                       \u239d                                \u03c0         \u23a0           \n",
        "+ \u2500\u2500\u2500\u2500\u2500\u2500\u2500\u2500\u2500\u2500\u2500\u2500\u2500\u2500\u2500\u2500\u2500\u2500\u2500\u2500\u2500\u2500\u2500\u2500\u2500\u2500\u2500\u2500\u2500\u2500\u2500\u2500\u2500\u2500\u2500\u2500\u2500\u2500\u2500\u2500\u2500\u2500\u2500\u2500\u2500\u2500\u2500\u2500\u2500\u2500\u2500\u2500\u2500\u2500\u2500\u2500\u2500\u2500\u2500\u2500\u2500\u2500\u2500\u2500\u2500\u2500\u2500\u2500\u2500\u2500\u2500\u2500\u2500\u2500\u2500\u2500\n",
        "                \u239b                 \u239b                   2                     1.\n",
        "                \u239c                 \u239c0.343255512573953\u22c5w    18.8993586425806\u22c5w  \n",
        "                \u239c351.493644875728\u22c5\u239c\u2500\u2500\u2500\u2500\u2500\u2500\u2500\u2500\u2500\u2500\u2500\u2500\u2500\u2500\u2500\u2500\u2500\u2500\u2500\u2500 + \u2500\u2500\u2500\u2500\u2500\u2500\u2500\u2500\u2500\u2500\u2500\u2500\u2500\u2500\u2500\u2500\u2500\u2500\u2500\u2500\n",
        "                \u239c                 \u239c          2                      \u03c0         \n",
        "              2 \u239c                 \u239d         \u03c0                                 \n",
        "             \u03c0 \u22c5\u239c\u2500\u2500\u2500\u2500\u2500\u2500\u2500\u2500\u2500\u2500\u2500\u2500\u2500\u2500\u2500\u2500\u2500\u2500\u2500\u2500\u2500\u2500\u2500\u2500\u2500\u2500\u2500\u2500\u2500\u2500\u2500\u2500\u2500\u2500\u2500\u2500\u2500\u2500\u2500\u2500\u2500\u2500\u2500\u2500\u2500\u2500\u2500\u2500\u2500\u2500\u2500\u2500\u2500\u2500\u2500\u2500\u2500\u2500\u2500\u2500\u2500\n",
        "                \u239c                                2                            \n",
        "                \u239d                               \u03c0                             \n",
        "\n",
        "                      \n",
        "2          1.5       \u239e\n",
        "  + 3.348\u22c5w    + 81.0\u23a0\n",
        "                      \n",
        "                      \n",
        "\u2500\u2500\u2500\u2500\u2500\u2500\u2500\u2500\u2500\u2500\u2500\u2500\u2500\u2500\u2500\u2500\u2500\u2500\u2500\u2500\u2500\u2500\n",
        "5\u239e       \u239e            \n",
        " \u239f       \u239f            \n",
        "\u2500\u239f       \u239f            \n",
        " \u239f       \u239f            \n",
        " \u23a0       \u239f            \n",
        "\u2500\u2500 + 5184\u239f            \n",
        "         \u239f            \n",
        "         \u23a0            "
       ]
      }
     ],
     "prompt_number": 39
    },
    {
     "cell_type": "code",
     "collapsed": false,
     "input": [
      "Rflop_low.subs({Ops: 1, u.s:1})"
     ],
     "language": "python",
     "metadata": {},
     "outputs": [
      {
       "latex": [
        "$$2.768 \\cdot 10^{12} w^{2} + 4.788 \\cdot 10^{14} w^{1.5} + 8.254 \\cdot 10^{12} \\left(0.01935 w^{2} + 3.348 w^{1.5} + 81.0\\right) \\log{\\left (\\frac{1}{\\pi^{2}} \\left(\\frac{120.652131238305 w^{2}}{\\pi^{2}} + \\frac{6643.00445509426 w^{1.5}}{\\pi}\\right) + 5184 \\right )} + 1.159 \\cdot 10^{16} + \\frac{1}{T_{{snap}}} 1.791 \\cdot 10^{18}$$"
       ],
       "metadata": {},
       "output_type": "pyout",
       "png": "[encoded data removed]",
       "prompt_number": 41,
       "text": [
        "                                                                              \n",
        "                                                                              \n",
        "                                                                              \n",
        "                                                                              \n",
        "           2              1.5             \u239b         2          1.5       \u239e    \n",
        "2.768e+12\u22c5w  + 4.788e+14\u22c5w    + 8.254e+12\u22c5\u239d0.01935\u22c5w  + 3.348\u22c5w    + 81.0\u23a0\u22c5   \n",
        "                                                                              \n",
        "                                                                              \n",
        "                                                                           log\n",
        "\n",
        "\u239b                 \u239b                   2                     1.5\u239e       \u239e      \n",
        "\u239c                 \u239c0.343255512573953\u22c5w    18.8993586425806\u22c5w   \u239f       \u239f      \n",
        "\u239c351.493644875728\u22c5\u239c\u2500\u2500\u2500\u2500\u2500\u2500\u2500\u2500\u2500\u2500\u2500\u2500\u2500\u2500\u2500\u2500\u2500\u2500\u2500\u2500 + \u2500\u2500\u2500\u2500\u2500\u2500\u2500\u2500\u2500\u2500\u2500\u2500\u2500\u2500\u2500\u2500\u2500\u2500\u2500\u2500\u2500\u239f       \u239f      \n",
        "\u239c                 \u239c          2                      \u03c0          \u239f       \u239f      \n",
        "\u239c                 \u239d         \u03c0                                  \u23a0       \u239f      \n",
        "\u239c\u2500\u2500\u2500\u2500\u2500\u2500\u2500\u2500\u2500\u2500\u2500\u2500\u2500\u2500\u2500\u2500\u2500\u2500\u2500\u2500\u2500\u2500\u2500\u2500\u2500\u2500\u2500\u2500\u2500\u2500\u2500\u2500\u2500\u2500\u2500\u2500\u2500\u2500\u2500\u2500\u2500\u2500\u2500\u2500\u2500\u2500\u2500\u2500\u2500\u2500\u2500\u2500\u2500\u2500\u2500\u2500\u2500\u2500\u2500\u2500\u2500\u2500\u2500 + 5184\u239f + 1.1\n",
        "\u239c                                2                                     \u239f      \n",
        "\u239d                               \u03c0                                      \u23a0      \n",
        "                                                                              \n",
        "\n",
        "                  \n",
        "                  \n",
        "                  \n",
        "                  \n",
        "         1.791e+18\n",
        "59e+16 + \u2500\u2500\u2500\u2500\u2500\u2500\u2500\u2500\u2500\n",
        "          T_{snap}\n",
        "                  \n",
        "                  "
       ]
      }
     ],
     "prompt_number": 41
    },
    {
     "cell_type": "code",
     "collapsed": false,
     "input": [
      "Rfft.subs({wl_min: wl, wl_max: wl}).subs(telescope_info['SKA1Mid']).subs(assumed_values_mid).evalf(4)"
     ],
     "language": "python",
     "metadata": {},
     "outputs": []
    },
    {
     "cell_type": "code",
     "collapsed": false,
     "input": [
      "Rfft.subs({wl_min: wl, wl_max: wl}).subs(telescope_info['SKA1Survey']).subs(assumed_values_survey).evalf(4)"
     ],
     "language": "python",
     "metadata": {},
     "outputs": []
    },
    {
     "cell_type": "code",
     "collapsed": false,
     "input": [
      "eval_for_telescopes(Rfft.subs({wl_min: wl, wl_max: wl}), late_subs=assumed_values)"
     ],
     "language": "python",
     "metadata": {},
     "outputs": []
    },
    {
     "cell_type": "code",
     "collapsed": false,
     "input": [],
     "language": "python",
     "metadata": {},
     "outputs": []
    },
    {
     "cell_type": "code",
     "collapsed": false,
     "input": [],
     "language": "python",
     "metadata": {},
     "outputs": []
    }
   ],
   "metadata": {}
  }
 ]
}