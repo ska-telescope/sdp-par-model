{
 "cells": [
  {
   "cell_type": "markdown",
   "metadata": {},
   "source": [
    "# This notebook provides interactive widgets to play with the imaging requirements for the SKA1 SDP\n",
    "\n",
    "## First, do the necessary set-up (run the code block below, first)"
   ]
  },
  {
   "cell_type": "code",
   "execution_count": null,
   "metadata": {
    "collapsed": false
   },
   "outputs": [],
   "source": [
    "\"\"\" These first few lines below import the IPython definitions and methods that we will use. \n",
    "Please Refer to ipython_api.py for the implementation \"\"\"\n",
    "from ipywidgets import interact, interact_manual, fixed\n",
    "import ipywidgets as widgets\n",
    "from api_ipython import SkaIPythonAPI as iapi\n",
    "from parameter_definitions import *\n",
    "from parameter_definitions import Constants as c\n",
    "from implementation import Implementation as imp\n",
    "\n",
    "%matplotlib inline\n",
    "\n",
    "# The lines below define the available telescopes, bands and modes that may be chosen.\n",
    "\n",
    "available_teles = (Telescopes.SKA1_Low, Telescopes.SKA1_Low_old, Telescopes.SKA1_Mid, Telescopes.SKA1_Mid_old, \n",
    "                   Telescopes.SKA1_Sur_old, Telescopes.SKA2_Low, Telescopes.SKA2_Mid)\n",
    "available_bands = (Bands.Low, \n",
    "                   Bands.Mid1, Bands.Mid2, Bands.Mid5A, Bands.Mid5B, \n",
    "                   Bands.Sur1)\n",
    "available_modes     = (ImagingModes.Continuum, ImagingModes.Spectral, ImagingModes.FastImg)\n",
    "available_modes_all = (ImagingModes.Continuum, ImagingModes.Spectral, ImagingModes.FastImg, ImagingModes.All)\n",
    "verbose_display = False"
   ]
  },
  {
   "cell_type": "markdown",
   "metadata": {},
   "source": [
    "## Using default values, we can compare telescopes side-by-side"
   ]
  },
  {
   "cell_type": "code",
   "execution_count": null,
   "metadata": {
    "collapsed": false
   },
   "outputs": [],
   "source": [
    "interact_manual(iapi.compare_telescopes_default, \n",
    "                telescope_1=available_teles, telescope_2=available_teles, band_1=available_bands,\n",
    "                band_2=available_bands, mode_1=available_modes_all, mode_2=available_modes_all,\n",
    "                verbose=verbose_display);"
   ]
  },
  {
   "cell_type": "markdown",
   "metadata": {},
   "source": [
    "## We can also interactively play with parameters (via sliders)\n",
    "\n",
    "### The first option is automatic updating of results as the sliders are moved. This may be sluggish"
   ]
  },
  {
   "cell_type": "code",
   "execution_count": null,
   "metadata": {
    "collapsed": false
   },
   "outputs": [],
   "source": [
    "interact(iapi.evaluate_telescope_manual, max_baseline=(10000,200000), Nf_max = (1,256000,1), Nfacet=(1,10,1), Tsnap=(1.2,1800), \n",
    "         telescope=available_teles, band=available_bands, mode=available_modes_all, verbose=verbose_display);"
   ]
  },
  {
   "cell_type": "markdown",
   "metadata": {},
   "source": [
    "### The second option is manual triggering of recompute events (recommended). \n",
    "\n",
    "#### This allows more conveniently computing elaborate (slow) optimizations and visualizations per computation, as these are only run when required\n",
    "#### In this example, *Tsnap and Nfacet* are *automatically* chosen so as to minimize the value of Rflop"
   ]
  },
  {
   "cell_type": "code",
   "execution_count": null,
   "metadata": {
    "collapsed": false
   },
   "outputs": [],
   "source": [
    "interact_manual(iapi.evaluate_telescope_optimized, max_baseline=(10000,200000), Nf_max = (1,256000,1), telescope=available_teles, \n",
    "         band=available_bands, mode=available_modes_all, verbose=verbose_display);"
   ]
  },
  {
   "cell_type": "markdown",
   "metadata": {},
   "source": [
    "## illustrating 1D \"parameter sweep\" + visualization functionality."
   ]
  },
  {
   "cell_type": "code",
   "execution_count": null,
   "metadata": {
    "collapsed": false
   },
   "outputs": [],
   "source": [
    "from IPython.display import display, HTML\n",
    "\n",
    "expression = 'Rflop'\n",
    "parameter = 'Ds'\n",
    "param_val_min =10\n",
    "param_val_max = 50\n",
    "number_steps = 10\n",
    "telescope = Telescopes.SKA1_Low\n",
    "immode = ImagingModes.Continuum\n",
    "band=Bands.Low\n",
    "\n",
    "display(HTML('<font color=\"blue\">Computing the result -- this may take several (tens of) seconds.</font>'))\n",
    "(param_values, results) = iapi.eval_param_sweep_1d(telescope, immode, band=band, \n",
    "                                                   expression=expression, parameter=parameter, param_val_min=param_val_min,\n",
    "                                                   param_val_max=param_val_max, number_steps=number_steps, verbose=False)\n",
    "header = 'Plotting Spectral PetaFLOPS for %s in %s mode as a function of %s' % (telescope, immode, parameter)\n",
    "iapi.plot_line_datapoints(header, param_values, np.array(results)/c.peta, xlabel=parameter, ylabel=expression)\n",
    "\n",
    "for i in range(len(param_values)):\n",
    "               print param_values[i], \",\", (results[i])/c.peta"
   ]
  },
  {
   "cell_type": "markdown",
   "metadata": {},
   "source": [
    "## illustrating 2D \"parameter sweep\" + visualization functionality."
   ]
  },
  {
   "cell_type": "code",
   "execution_count": null,
   "metadata": {
    "collapsed": false
   },
   "outputs": [],
   "source": [
    "from IPython.display import display, HTML\n",
    "\n",
    "telescope = Telescopes.SKA1_Low\n",
    "band = Bands.Low\n",
    "immode = ImagingModes.Spectral\n",
    "expression = 'Rflop'\n",
    "parameters = ('Na', 'Ds')\n",
    "parameter_ranges = ((500,3000),(10,35))\n",
    "number_steps = 5\n",
    "verbose = False\n",
    "\n",
    "display(HTML('<font color=\"blue\">Computing the result -- this may take several (tens of) seconds.</font>'))\n",
    "(p1_values, p2_values, results) = iapi.eval_param_sweep_2d(telescope, immode, band=band, \n",
    "                                                           expression=expression, parameters=parameters, \n",
    "                                                           params_ranges=parameter_ranges, number_steps=number_steps, \n",
    "                                                           verbose=verbose)\n",
    "\n",
    "\n",
    "iapi.plot_2D_surface('PetaFLOP rate vs #Channels & Max Baseline', p1_values, p2_values, results/1e15, xlabel=parameters[0], \n",
    "                     ylabel=parameters[1], contours=np.array((0.5, 1.0)))\n",
    "iapi.plot_3D_surface('PetaFLOP rate vs #Channels & Max Baseline', p1_values, p2_values, results/1e15, xlabel=parameters[0], \n",
    "                     ylabel=parameters[1], zlabel=expression, contours=np.array((0.5, 1.0)))"
   ]
  },
  {
   "cell_type": "code",
   "execution_count": null,
   "metadata": {
    "collapsed": true
   },
   "outputs": [],
   "source": []
  }
 ],
 "metadata": {
  "kernelspec": {
   "display_name": "Python 2",
   "language": "python",
   "name": "python2"
  },
  "language_info": {
   "codemirror_mode": {
    "name": "ipython",
    "version": 2
   },
   "file_extension": ".py",
   "mimetype": "text/x-python",
   "name": "python",
   "nbconvert_exporter": "python",
   "pygments_lexer": "ipython2",
   "version": "2.7.10"
  }
 },
 "nbformat": 4,
 "nbformat_minor": 0
}
