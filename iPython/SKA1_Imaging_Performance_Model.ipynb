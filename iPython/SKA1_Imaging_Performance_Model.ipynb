{
 "cells": [
  {
   "cell_type": "markdown",
   "metadata": {},
   "source": [
    "# This notebook provides interactive widgets to play with the imaging requirements for the SKA1 SDP\n",
    "\n",
    "## This notebook was last tested with IPython notebook 4.1.0 using Python 2.7\n",
    "### (If you have trouble running this notebook, please check version compatibility)\n",
    "\n",
    "## First, do the necessary set-up (run the code block below, first)"
   ]
  },
  {
   "cell_type": "code",
   "execution_count": 1,
   "metadata": {
    "collapsed": false
   },
   "outputs": [],
   "source": [
    "\"\"\" These first few lines below import the IPython definitions and methods that we will use. \n",
    "Please Refer to ipython_api.py for the implementation \"\"\"\n",
    "from ipywidgets import interact, interact_manual, fixed, SelectMultiple\n",
    "\n",
    "from api_ipython import SkaIPythonAPI as iapi\n",
    "from parameter_definitions import *\n",
    "from parameter_definitions import Constants as c\n",
    "from implementation import Implementation as imp, PipelineConfig\n",
    "%matplotlib inline\n",
    "\n",
    "# The lines below define the available telescopes, bands and modes that may be chosen.\n",
    "\n",
    "available_teles = (Telescopes.SKA1_Low, Telescopes.SKA1_Mid)\n",
    "\n",
    "available_bands = (Bands.Low, \n",
    "                   Bands.Mid1, Bands.Mid2, Bands.Mid5A, Bands.Mid5B, Bands.Mid5C,\n",
    "                   Bands.Sur1)\n",
    "\n",
    "# The High Priority Science Objective list below includes the HPSOs that were originally intended for \n",
    "# The Survey telescope. These have since been reassigned to Mid.\n",
    "available_hpsos = [HPSOs.hpso_max_Low_c, HPSOs.hpso_max_Low_s, HPSOs.hpso_max_Mid_c, HPSOs.hpso_max_Mid_s, \n",
    "                   HPSOs.hpso_max_band5_Mid_c, HPSOs.hpso_max_band5_Mid_s, \n",
    "                   HPSOs.hpso01c, HPSOs.hpso01s, HPSOs.hpso02A, HPSOs.hpso02B, HPSOs.hpso14, HPSOs.hpso14c, HPSOs.hpso14s, \n",
    "                   HPSOs.hpso22, HPSOs.hpso37a, HPSOs.hpso37b, HPSOs.hpso38a, HPSOs.hpso38b, \n",
    "                   HPSOs.hpso13c, HPSOs.hpso13s, HPSOs.hpso15c, HPSOs.hpso15s, \n",
    "                   HPSOs.hpso27, HPSOs.hpso33, HPSOs.hpso37c]\n",
    "\n",
    "available_hpsos.sort()\n",
    "\n",
    "available_modes     = (ImagingModes.Continuum, ImagingModes.Spectral, ImagingModes.FastImg)\n",
    "available_modes_all = available_modes + (ImagingModes.All,)\n",
    "verbose_display = False"
   ]
  },
  {
   "cell_type": "markdown",
   "metadata": {},
   "source": [
    "## Using default values, we can compare telescopes side-by-side"
   ]
  },
  {
   "cell_type": "code",
   "execution_count": 2,
   "metadata": {
    "collapsed": false,
    "scrolled": true
   },
   "outputs": [
    {
     "data": {
      "text/html": [
       "<font color=\"blue\">Computing the result -- this may take several seconds.</font>"
      ],
      "text/plain": [
       "<IPython.core.display.HTML object>"
      ]
     },
     "metadata": {},
     "output_type": "display_data"
    },
    {
     "data": {
      "text/html": [
       "<font color=\"blue\">Done computing.</font>"
      ],
      "text/plain": [
       "<IPython.core.display.HTML object>"
      ]
     },
     "metadata": {},
     "output_type": "display_data"
    },
    {
     "data": {
      "text/html": [
       "<h4>Computed Values:</h4><table>\n",
       "<tr><th colspan=\"4\">-- Parameters --</th></tr><tr><td>Telescope</td><td><font color=\"darkcyan\">SKA1_Low_rebaselined</font></td><td><font color=\"blue\">SKA1_Low_rebaselined</font></td><td></td></tr>\n",
       "<tr><td>Band</td><td><font color=\"darkcyan\">Low</font></td><td><font color=\"blue\">Low</font></td><td></td></tr>\n",
       "<tr><td>Mode</td><td><font color=\"darkcyan\">Continuum</font></td><td><font color=\"blue\">Continuum</font></td><td></td></tr>\n",
       "<tr><td>BL-dependent averaging</td><td><font color=\"darkcyan\">True</font></td><td><font color=\"blue\">True</font></td><td></td></tr>\n",
       "<tr><td>On-the-fly kernels</td><td><font color=\"darkcyan\">False</font></td><td><font color=\"blue\">False</font></td><td></td></tr>\n",
       "<tr><td>Max # of channels</td><td><font color=\"darkcyan\">65536</font></td><td><font color=\"blue\">65536</font></td><td></td></tr>\n",
       "<tr><td>Max Baseline</td><td><font color=\"darkcyan\">80000</font></td><td><font color=\"blue\">80000</font></td><td>m</td></tr>\n",
       "<tr><td>Observation Time</td><td><font color=\"darkcyan\">21600</font></td><td><font color=\"blue\">21600</font></td><td>s</td></tr>\n",
       "<tr><td>Snapshot Time</td><td><font color=\"darkcyan\">44.1</font></td><td><font color=\"blue\">44.1</font></td><td>s</td></tr>\n",
       "<tr><td>Facets</td><td><font color=\"darkcyan\">1</font></td><td><font color=\"blue\">1</font></td><td></td></tr>\n",
       "<tr><td>Stations/antennas</td><td><font color=\"darkcyan\">512</font></td><td><font color=\"blue\">512</font></td><td></td></tr>\n",
       "<tr><td>Max Baseline [per bin]</td><td><font color=\"darkcyan\">[4900, 7100, 10400, 15100, 22100, 32200, 47000, 80000]</font></td><td><font color=\"blue\">[4900, 7100, 10400, 15100, 22100, 32200, 47000, 80000]</font></td><td>m</td></tr>\n",
       "<tr><td>Baseline fraction [per bin]</td><td><font color=\"darkcyan\">[0.524, 0.0791, 0.0592, 0.0915, 0.074, 0.106, 0.0609, 0.00543]</font></td><td><font color=\"blue\">[0.524, 0.0791, 0.0592, 0.0915, 0.074, 0.106, 0.0609, 0.00543]</font></td><td></td></tr>\n",
       "<tr><th colspan=\"4\">-- Image --</th></tr><tr><td>Facet FoV size</td><td><font color=\"darkcyan\">28.3</font></td><td><font color=\"blue\">28.3</font></td><td>deg</td></tr>\n",
       "<tr><td>PSF size</td><td><font color=\"darkcyan\">11.5</font></td><td><font color=\"blue\">11.5</font></td><td>arcs</td></tr>\n",
       "<tr><td>Pixel size</td><td><font color=\"darkcyan\">2.31</font></td><td><font color=\"blue\">2.31</font></td><td>arcs</td></tr>\n",
       "<tr><td>Facet side length</td><td><font color=\"darkcyan\">4.42e+04</font></td><td><font color=\"blue\">4.42e+04</font></td><td>pixels</td></tr>\n",
       "<tr><td>Image side length</td><td><font color=\"darkcyan\">4.42e+04</font></td><td><font color=\"blue\">4.42e+04</font></td><td>pixels</td></tr>\n",
       "<tr><td>Epsilon (approx)</td><td><font color=\"darkcyan\">0.667</font></td><td><font color=\"blue\">0.667</font></td><td></td></tr>\n",
       "<tr><td>Qbw</td><td><font color=\"darkcyan\">2.2</font></td><td><font color=\"blue\">2.2</font></td><td></td></tr>\n",
       "<tr><td>Max subband ratio</td><td><font color=\"darkcyan\">1.35</font></td><td><font color=\"blue\">1.35</font></td><td></td></tr>\n",
       "<tr><td>Number subbands</td><td><font color=\"darkcyan\">7</font></td><td><font color=\"blue\">7</font></td><td></td></tr>\n",
       "<tr><td>Station/antenna diameter</td><td><font color=\"darkcyan\">35</font></td><td><font color=\"blue\">35</font></td><td></td></tr>\n",
       "<tr><th colspan=\"4\">-- Channelization --</th></tr><tr><td>Ionospheric timescale</td><td><font color=\"darkcyan\">10</font></td><td><font color=\"blue\">10</font></td><td>s</td></tr>\n",
       "<tr><td>Coalesce time pred</td><td><font color=\"darkcyan\">[1.2, 1.2, 1.2, 1.2, 1.2, 1.2, 0.9, 0.9]</font></td><td><font color=\"blue\">[1.2, 1.2, 1.2, 1.2, 1.2, 1.2, 0.9, 0.9]</font></td><td>s</td></tr>\n",
       "<tr><td>Coalesce time bw</td><td><font color=\"darkcyan\">[10, 8.1, 5.4, 3.6, 2.7, 1.8, 0.9, 0.9]</font></td><td><font color=\"blue\">[10, 8.1, 5.4, 3.6, 2.7, 1.8, 0.9, 0.9]</font></td><td>s</td></tr>\n",
       "<tr><td>Combined Samples</td><td><font color=\"darkcyan\">[14, 9, 6, 4, 3, 2, 1, 1]</font></td><td><font color=\"blue\">[14, 9, 6, 4, 3, 2, 1, 1]</font></td><td></td></tr>\n",
       "<tr><td>Number of frequencies predict ifft</td><td><font color=\"darkcyan\">3.3e+04</font></td><td><font color=\"blue\">3.3e+04</font></td><td></td></tr>\n",
       "<tr><td>Number of freqs for predict (de-gridding) convoution kernels gcf</td><td><font color=\"darkcyan\">[500, 500, 500, 500, 556, 693, 887, 1.29e+03]</font></td><td><font color=\"blue\">[500, 500, 500, 500, 556, 693, 887, 1.29e+03]</font></td><td></td></tr>\n",
       "<tr><td>Channels to de-grid (predict)</td><td><font color=\"darkcyan\">3.3e+04</font></td><td><font color=\"blue\">3.3e+04</font></td><td></td></tr>\n",
       "<tr><td>Number of freqs for backward (gridding) convolution kernels gcf</td><td><font color=\"darkcyan\">[500, 500, 500, 500, 556, 693, 887, 1.29e+03]</font></td><td><font color=\"blue\">[500, 500, 500, 500, 556, 693, 887, 1.29e+03]</font></td><td></td></tr>\n",
       "<tr><td>Channels to grid (backward)</td><td><font color=\"darkcyan\">[2.02e+03, 2.93e+03, 4.29e+03, 6.22e+03, 9.11e+03, 1.33e+04, 1.94e+04, 3.3e+04]</font></td><td><font color=\"blue\">[2.02e+03, 2.93e+03, 4.29e+03, 6.22e+03, 9.11e+03, 1.33e+04, 1.94e+04, 3.3e+04]</font></td><td></td></tr>\n",
       "<tr><td>Number of frequencies backward fft</td><td><font color=\"darkcyan\">500</font></td><td><font color=\"blue\">500</font></td><td></td></tr>\n",
       "<tr><td>Channels out</td><td><font color=\"darkcyan\">500</font></td><td><font color=\"blue\">500</font></td><td></td></tr>\n",
       "<tr><td>Visibilities pred</td><td><font color=\"darkcyan\">[1.88e+09, 2.84e+08, 2.13e+08, 3.29e+08, 2.66e+08, 3.8e+08, 2.92e+08, 2.6e+07]</font></td><td><font color=\"blue\">[1.88e+09, 2.84e+08, 2.13e+08, 3.29e+08, 2.66e+08, 3.8e+08, 2.92e+08, 2.6e+07]</font></td><td></td></tr>\n",
       "<tr><td>Visibilities bw</td><td><font color=\"darkcyan\">[1.39e+07, 3.74e+06, 6.14e+06, 2.07e+07, 3.26e+07, 1.02e+08, 1.72e+08, 2.6e+07]</font></td><td><font color=\"blue\">[1.39e+07, 3.74e+06, 6.14e+06, 2.07e+07, 3.26e+07, 1.02e+08, 1.72e+08, 2.6e+07]</font></td><td></td></tr>\n",
       "<tr><th colspan=\"4\">-- Geometry --</th></tr><tr><td>Delta W earth</td><td><font color=\"darkcyan\">[0.137, 0.288, 0.619, 1.3, 2.79, 5.93, 12.6, 36.6]</font></td><td><font color=\"blue\">[0.137, 0.288, 0.619, 1.3, 2.79, 5.93, 12.6, 36.6]</font></td><td>lambda</td></tr>\n",
       "<tr><td>Delta W snapshot</td><td><font color=\"darkcyan\">[2.3, 3.33, 4.88, 7.08, 10.4, 15.1, 22, 37.5]</font></td><td><font color=\"blue\">[2.3, 3.33, 4.88, 7.08, 10.4, 15.1, 22, 37.5]</font></td><td>lambda</td></tr>\n",
       "<tr><td>Delta W max</td><td><font color=\"darkcyan\">[2.3, 3.33, 4.88, 7.08, 10.4, 15.1, 22, 37.5]</font></td><td><font color=\"blue\">[2.3, 3.33, 4.88, 7.08, 10.4, 15.1, 22, 37.5]</font></td><td>lambda</td></tr>\n",
       "<tr><th colspan=\"4\">-- Kernel Sizes --</th></tr><tr><td>W kernel support pred</td><td><font color=\"darkcyan\">[5.2, 6.87, 9.16, 12.1, 16.2, 21.5, 28.7, 42.9]</font></td><td><font color=\"blue\">[5.2, 6.87, 9.16, 12.1, 16.2, 21.5, 28.7, 42.9]</font></td><td>uv-pixels</td></tr>\n",
       "<tr><td>AW kernel support pred</td><td><font color=\"darkcyan\">[11.3, 12.1, 13.6, 15.7, 19, 23.7, 30.4, 44.1]</font></td><td><font color=\"blue\">[11.3, 12.1, 13.6, 15.7, 19, 23.7, 30.4, 44.1]</font></td><td>uv-pixels</td></tr>\n",
       "<tr><td>W kernel support bw</td><td><font color=\"darkcyan\">[5.2, 6.87, 9.16, 12.1, 16.2, 21.5, 28.7, 42.9]</font></td><td><font color=\"blue\">[5.2, 6.87, 9.16, 12.1, 16.2, 21.5, 28.7, 42.9]</font></td><td>uv-pixels</td></tr>\n",
       "<tr><td>AW kernel support bw</td><td><font color=\"darkcyan\">[11.3, 12.1, 13.6, 15.7, 19, 23.7, 30.4, 44.1]</font></td><td><font color=\"blue\">[11.3, 12.1, 13.6, 15.7, 19, 23.7, 30.4, 44.1]</font></td><td>uv-pixels</td></tr>\n",
       "<tr><th colspan=\"4\">-- I/O --</th></tr><tr><td>Visibility Buffer</td><td><font color=\"darkcyan\">8.28</font></td><td><font color=\"blue\">8.28</font></td><td>PetaBytes</td></tr>\n",
       "<tr><td>Working (cache) memory</td><td><font color=\"darkcyan\">16.2</font></td><td><font color=\"blue\">16.2</font></td><td>TeraBytes</td></tr>\n",
       "<tr><td>I/O Rate</td><td><font color=\"darkcyan\">2.11</font></td><td><font color=\"blue\">2.11</font></td><td>TeraBytes/s</td></tr>\n",
       "<tr><th colspan=\"4\">-- Compute --</th></tr><tr><td>Total Compute Requirement</td><td><font color=\"darkcyan\">8.04</font></td><td><font color=\"blue\">8.04</font></td><td>PetaFLOPS</td></tr>\n",
       "<tr><td>-> Gridding</td><td><font color=\"darkcyan\">1.69</font></td><td><font color=\"blue\">1.69</font></td><td>PetaFLOPS</td></tr>\n",
       "<tr><td>-> FFT</td><td><font color=\"darkcyan\">4.57</font></td><td><font color=\"blue\">4.57</font></td><td>PetaFLOPS</td></tr>\n",
       "<tr><td>-> Phase Rotation</td><td><font color=\"darkcyan\">0</font></td><td><font color=\"blue\">0</font></td><td>PetaFLOPS</td></tr>\n",
       "<tr><td>-> Projection</td><td><font color=\"darkcyan\">0.0443</font></td><td><font color=\"blue\">0.0443</font></td><td>PetaFLOPS</td></tr>\n",
       "<tr><td>-> Convolution</td><td><font color=\"darkcyan\">1.74</font></td><td><font color=\"blue\">1.74</font></td><td>PetaFLOPS</td></tr>\n",
       "</table>"
      ],
      "text/plain": [
       "<IPython.core.display.HTML object>"
      ]
     },
     "metadata": {},
     "output_type": "display_data"
    },
    {
     "data": {
      "image/png": "[encoded data removed]",
      "text/plain": [
       "<matplotlib.figure.Figure at 0x1120c7d90>"
      ]
     },
     "metadata": {},
     "output_type": "display_data"
    }
   ],
   "source": [
    "interact_manual(iapi.compare_telescopes_default,\n",
    "                telescope_1=available_teles,telescope_2=available_teles,\n",
    "                band_1=available_bands,\n",
    "                band_2=available_bands,\n",
    "                mode_1=available_modes_all,\n",
    "                mode_2=available_modes_all,\n",
    "                verbose=verbose_display,\n",
    "                rows=SelectMultiple(value=iapi.DEFAULT_ROWS, options=iapi.ALL_ROWS))"
   ]
  },
  {
   "cell_type": "markdown",
   "metadata": {},
   "source": [
    "## Using default values, can compute results for the High Priority Science Objectives"
   ]
  },
  {
   "cell_type": "code",
   "execution_count": null,
   "metadata": {
    "collapsed": false,
    "scrolled": false
   },
   "outputs": [],
   "source": [
    "interact_manual(iapi.evaluate_hpso_optimized, hpso_key=available_hpsos, verbose=verbose_display,\n",
    "                rows=SelectMultiple(value=iapi.DEFAULT_ROWS, options=iapi.ALL_ROWS));"
   ]
  },
  {
   "cell_type": "markdown",
   "metadata": {},
   "source": [
    "## We can also interactively play with parameters (via sliders)\n",
    "\n",
    "### The first option is automatic updating of results as the sliders are moved. This may be sluggish"
   ]
  },
  {
   "cell_type": "code",
   "execution_count": null,
   "metadata": {
    "collapsed": false,
    "scrolled": false
   },
   "outputs": [],
   "source": [
    "interact(iapi.evaluate_telescope_manual, max_baseline=(10000,200000), Nf_max = (1,2**17,1), Nfacet=(1,10,1), Tsnap=(1.2,1800), \n",
    "         telescope=available_teles, band=available_bands, mode=available_modes_all, verbose=verbose_display,\n",
    "         rows=SelectMultiple(value=iapi.DEFAULT_ROWS, options=iapi.ALL_ROWS));"
   ]
  },
  {
   "cell_type": "markdown",
   "metadata": {},
   "source": [
    "### The second option is manual triggering of recompute events (recommended). \n",
    "\n",
    "#### This allows more conveniently computing elaborate (slow) optimizations and visualizations per computation, as these are only run when required\n",
    "#### In this example, *Tsnap and Nfacet* are *automatically* chosen so as to minimize the value of Rflop"
   ]
  },
  {
   "cell_type": "code",
   "execution_count": null,
   "metadata": {
    "collapsed": false
   },
   "outputs": [],
   "source": [
    "interact_manual(iapi.evaluate_telescope_optimized, max_baseline=(10000,200000), Nf_max = (1,256000,1), telescope=available_teles, \n",
    "                band=available_bands, mode=available_modes_all, verbose=verbose_display,\n",
    "                rows=SelectMultiple(value=iapi.DEFAULT_ROWS, options=iapi.ALL_ROWS));"
   ]
  },
  {
   "cell_type": "markdown",
   "metadata": {},
   "source": [
    "## illustrating 1D \"parameter sweep\" + visualization functionality."
   ]
  },
  {
   "cell_type": "code",
   "execution_count": 5,
   "metadata": {
    "collapsed": false
   },
   "outputs": [
    {
     "data": {
      "text/html": [
       "<font color=\"blue\">Computing the result -- this may take several (tens of) seconds.</font>"
      ],
      "text/plain": [
       "<IPython.core.display.HTML object>"
      ]
     },
     "metadata": {},
     "output_type": "display_data"
    },
    {
     "name": "stdout",
     "output_type": "stream",
     "text": [
      "Starting sweep of parameter Bmax, evaluating expression Rflop over range (20000, 150000) in 100 steps (i.e. 101 data points)\n",
      "using 2x2.5GHz subbands from 4.6-9.6GHz for band 5\n",
      "> 0.0% done: Evaluating Rflop for Bmax = 20000\n",
      "using 2x2.5GHz subbands from 4.6-9.6GHz for band 5\n",
      "> 1.0% done: Evaluating Rflop for Bmax = 21300\n",
      "using 2x2.5GHz subbands from 4.6-9.6GHz for band 5\n",
      "> 2.0% done: Evaluating Rflop for Bmax = 22600\n",
      "using 2x2.5GHz subbands from 4.6-9.6GHz for band 5\n",
      "> 3.0% done: Evaluating Rflop for Bmax = 23900\n",
      "using 2x2.5GHz subbands from 4.6-9.6GHz for band 5\n",
      "> 4.0% done: Evaluating Rflop for Bmax = 25200\n",
      "using 2x2.5GHz subbands from 4.6-9.6GHz for band 5\n",
      "> 5.0% done: Evaluating Rflop for Bmax = 26500\n",
      "using 2x2.5GHz subbands from 4.6-9.6GHz for band 5\n",
      "> 5.9% done: Evaluating Rflop for Bmax = 27800\n",
      "using 2x2.5GHz subbands from 4.6-9.6GHz for band 5\n",
      "> 6.9% done: Evaluating Rflop for Bmax = 29100\n",
      "using 2x2.5GHz subbands from 4.6-9.6GHz for band 5\n",
      "> 7.9% done: Evaluating Rflop for Bmax = 30400\n",
      "using 2x2.5GHz subbands from 4.6-9.6GHz for band 5\n",
      "> 8.9% done: Evaluating Rflop for Bmax = 31700\n",
      "using 2x2.5GHz subbands from 4.6-9.6GHz for band 5\n",
      "> 9.9% done: Evaluating Rflop for Bmax = 33000\n",
      "using 2x2.5GHz subbands from 4.6-9.6GHz for band 5\n",
      "> 10.9% done: Evaluating Rflop for Bmax = 34300\n",
      "using 2x2.5GHz subbands from 4.6-9.6GHz for band 5\n",
      "> 11.9% done: Evaluating Rflop for Bmax = 35600\n",
      "using 2x2.5GHz subbands from 4.6-9.6GHz for band 5\n",
      "> 12.9% done: Evaluating Rflop for Bmax = 36900\n",
      "using 2x2.5GHz subbands from 4.6-9.6GHz for band 5\n",
      "> 13.9% done: Evaluating Rflop for Bmax = 38200\n",
      "using 2x2.5GHz subbands from 4.6-9.6GHz for band 5\n",
      "> 14.9% done: Evaluating Rflop for Bmax = 39500\n",
      "using 2x2.5GHz subbands from 4.6-9.6GHz for band 5\n",
      "> 15.8% done: Evaluating Rflop for Bmax = 40800\n",
      "using 2x2.5GHz subbands from 4.6-9.6GHz for band 5\n",
      "> 16.8% done: Evaluating Rflop for Bmax = 42100\n",
      "using 2x2.5GHz subbands from 4.6-9.6GHz for band 5\n",
      "> 17.8% done: Evaluating Rflop for Bmax = 43400\n",
      "using 2x2.5GHz subbands from 4.6-9.6GHz for band 5\n",
      "> 18.8% done: Evaluating Rflop for Bmax = 44700\n",
      "using 2x2.5GHz subbands from 4.6-9.6GHz for band 5\n",
      "> 19.8% done: Evaluating Rflop for Bmax = 46000\n",
      "using 2x2.5GHz subbands from 4.6-9.6GHz for band 5\n",
      "> 20.8% done: Evaluating Rflop for Bmax = 47300\n",
      "using 2x2.5GHz subbands from 4.6-9.6GHz for band 5\n",
      "> 21.8% done: Evaluating Rflop for Bmax = 48600\n",
      "using 2x2.5GHz subbands from 4.6-9.6GHz for band 5\n",
      "> 22.8% done: Evaluating Rflop for Bmax = 49900\n",
      "using 2x2.5GHz subbands from 4.6-9.6GHz for band 5\n",
      "> 23.8% done: Evaluating Rflop for Bmax = 51200\n",
      "using 2x2.5GHz subbands from 4.6-9.6GHz for band 5\n",
      "> 24.8% done: Evaluating Rflop for Bmax = 52500\n",
      "using 2x2.5GHz subbands from 4.6-9.6GHz for band 5\n",
      "> 25.7% done: Evaluating Rflop for Bmax = 53800\n",
      "using 2x2.5GHz subbands from 4.6-9.6GHz for band 5\n",
      "> 26.7% done: Evaluating Rflop for Bmax = 55100\n",
      "using 2x2.5GHz subbands from 4.6-9.6GHz for band 5\n",
      "> 27.7% done: Evaluating Rflop for Bmax = 56400\n",
      "using 2x2.5GHz subbands from 4.6-9.6GHz for band 5\n",
      "> 28.7% done: Evaluating Rflop for Bmax = 57700\n",
      "using 2x2.5GHz subbands from 4.6-9.6GHz for band 5\n",
      "> 29.7% done: Evaluating Rflop for Bmax = 59000\n",
      "using 2x2.5GHz subbands from 4.6-9.6GHz for band 5\n",
      "> 30.7% done: Evaluating Rflop for Bmax = 60300\n",
      "using 2x2.5GHz subbands from 4.6-9.6GHz for band 5\n",
      "> 31.7% done: Evaluating Rflop for Bmax = 61600\n",
      "using 2x2.5GHz subbands from 4.6-9.6GHz for band 5\n",
      "> 32.7% done: Evaluating Rflop for Bmax = 62900\n",
      "using 2x2.5GHz subbands from 4.6-9.6GHz for band 5\n",
      "> 33.7% done: Evaluating Rflop for Bmax = 64200\n",
      "using 2x2.5GHz subbands from 4.6-9.6GHz for band 5\n",
      "> 34.7% done: Evaluating Rflop for Bmax = 65500\n",
      "using 2x2.5GHz subbands from 4.6-9.6GHz for band 5\n",
      "> 35.6% done: Evaluating Rflop for Bmax = 66800\n",
      "using 2x2.5GHz subbands from 4.6-9.6GHz for band 5\n",
      "> 36.6% done: Evaluating Rflop for Bmax = 68100\n",
      "using 2x2.5GHz subbands from 4.6-9.6GHz for band 5\n",
      "> 37.6% done: Evaluating Rflop for Bmax = 69400\n",
      "using 2x2.5GHz subbands from 4.6-9.6GHz for band 5\n",
      "> 38.6% done: Evaluating Rflop for Bmax = 70700\n",
      "using 2x2.5GHz subbands from 4.6-9.6GHz for band 5\n",
      "> 39.6% done: Evaluating Rflop for Bmax = 72000\n",
      "using 2x2.5GHz subbands from 4.6-9.6GHz for band 5\n",
      "> 40.6% done: Evaluating Rflop for Bmax = 73300\n",
      "using 2x2.5GHz subbands from 4.6-9.6GHz for band 5\n",
      "> 41.6% done: Evaluating Rflop for Bmax = 74600\n",
      "using 2x2.5GHz subbands from 4.6-9.6GHz for band 5\n",
      "> 42.6% done: Evaluating Rflop for Bmax = 75900\n",
      "using 2x2.5GHz subbands from 4.6-9.6GHz for band 5\n",
      "> 43.6% done: Evaluating Rflop for Bmax = 77200\n",
      "using 2x2.5GHz subbands from 4.6-9.6GHz for band 5\n",
      "> 44.6% done: Evaluating Rflop for Bmax = 78500\n",
      "using 2x2.5GHz subbands from 4.6-9.6GHz for band 5\n",
      "> 45.5% done: Evaluating Rflop for Bmax = 79800\n",
      "using 2x2.5GHz subbands from 4.6-9.6GHz for band 5\n",
      "> 46.5% done: Evaluating Rflop for Bmax = 81100\n",
      "using 2x2.5GHz subbands from 4.6-9.6GHz for band 5\n",
      "> 47.5% done: Evaluating Rflop for Bmax = 82400\n",
      "using 2x2.5GHz subbands from 4.6-9.6GHz for band 5\n",
      "> 48.5% done: Evaluating Rflop for Bmax = 83700\n",
      "using 2x2.5GHz subbands from 4.6-9.6GHz for band 5\n",
      "> 49.5% done: Evaluating Rflop for Bmax = 85000\n",
      "using 2x2.5GHz subbands from 4.6-9.6GHz for band 5\n",
      "> 50.5% done: Evaluating Rflop for Bmax = 86300\n",
      "using 2x2.5GHz subbands from 4.6-9.6GHz for band 5\n",
      "> 51.5% done: Evaluating Rflop for Bmax = 87600\n",
      "using 2x2.5GHz subbands from 4.6-9.6GHz for band 5\n",
      "> 52.5% done: Evaluating Rflop for Bmax = 88900\n",
      "using 2x2.5GHz subbands from 4.6-9.6GHz for band 5\n",
      "> 53.5% done: Evaluating Rflop for Bmax = 90200\n",
      "using 2x2.5GHz subbands from 4.6-9.6GHz for band 5\n",
      "> 54.5% done: Evaluating Rflop for Bmax = 91500\n",
      "using 2x2.5GHz subbands from 4.6-9.6GHz for band 5\n",
      "> 55.4% done: Evaluating Rflop for Bmax = 92800\n",
      "using 2x2.5GHz subbands from 4.6-9.6GHz for band 5\n",
      "> 56.4% done: Evaluating Rflop for Bmax = 94100\n",
      "using 2x2.5GHz subbands from 4.6-9.6GHz for band 5\n",
      "> 57.4% done: Evaluating Rflop for Bmax = 95400\n",
      "using 2x2.5GHz subbands from 4.6-9.6GHz for band 5\n",
      "> 58.4% done: Evaluating Rflop for Bmax = 96700\n",
      "using 2x2.5GHz subbands from 4.6-9.6GHz for band 5\n",
      "> 59.4% done: Evaluating Rflop for Bmax = 98000\n",
      "using 2x2.5GHz subbands from 4.6-9.6GHz for band 5\n",
      "> 60.4% done: Evaluating Rflop for Bmax = 99300\n",
      "using 2x2.5GHz subbands from 4.6-9.6GHz for band 5\n",
      "> 61.4% done: Evaluating Rflop for Bmax = 100600\n",
      "using 2x2.5GHz subbands from 4.6-9.6GHz for band 5\n",
      "> 62.4% done: Evaluating Rflop for Bmax = 101900\n",
      "using 2x2.5GHz subbands from 4.6-9.6GHz for band 5\n",
      "> 63.4% done: Evaluating Rflop for Bmax = 103200\n",
      "using 2x2.5GHz subbands from 4.6-9.6GHz for band 5\n",
      "> 64.4% done: Evaluating Rflop for Bmax = 104500\n",
      "using 2x2.5GHz subbands from 4.6-9.6GHz for band 5\n",
      "> 65.3% done: Evaluating Rflop for Bmax = 105800\n",
      "using 2x2.5GHz subbands from 4.6-9.6GHz for band 5\n",
      "> 66.3% done: Evaluating Rflop for Bmax = 107100\n",
      "using 2x2.5GHz subbands from 4.6-9.6GHz for band 5\n",
      "> 67.3% done: Evaluating Rflop for Bmax = 108400\n",
      "using 2x2.5GHz subbands from 4.6-9.6GHz for band 5\n",
      "> 68.3% done: Evaluating Rflop for Bmax = 109700\n",
      "using 2x2.5GHz subbands from 4.6-9.6GHz for band 5\n",
      "> 69.3% done: Evaluating Rflop for Bmax = 111000\n",
      "using 2x2.5GHz subbands from 4.6-9.6GHz for band 5\n",
      "> 70.3% done: Evaluating Rflop for Bmax = 112300\n",
      "using 2x2.5GHz subbands from 4.6-9.6GHz for band 5\n",
      "> 71.3% done: Evaluating Rflop for Bmax = 113600\n",
      "using 2x2.5GHz subbands from 4.6-9.6GHz for band 5\n",
      "> 72.3% done: Evaluating Rflop for Bmax = 114900\n",
      "using 2x2.5GHz subbands from 4.6-9.6GHz for band 5\n",
      "> 73.3% done: Evaluating Rflop for Bmax = 116200\n",
      "using 2x2.5GHz subbands from 4.6-9.6GHz for band 5\n",
      "> 74.3% done: Evaluating Rflop for Bmax = 117500\n",
      "using 2x2.5GHz subbands from 4.6-9.6GHz for band 5\n",
      "> 75.2% done: Evaluating Rflop for Bmax = 118800\n",
      "using 2x2.5GHz subbands from 4.6-9.6GHz for band 5\n",
      "> 76.2% done: Evaluating Rflop for Bmax = 120100\n",
      "using 2x2.5GHz subbands from 4.6-9.6GHz for band 5\n",
      "> 77.2% done: Evaluating Rflop for Bmax = 121400\n",
      "using 2x2.5GHz subbands from 4.6-9.6GHz for band 5\n",
      "> 78.2% done: Evaluating Rflop for Bmax = 122700\n",
      "using 2x2.5GHz subbands from 4.6-9.6GHz for band 5\n",
      "> 79.2% done: Evaluating Rflop for Bmax = 124000\n",
      "using 2x2.5GHz subbands from 4.6-9.6GHz for band 5\n",
      "> 80.2% done: Evaluating Rflop for Bmax = 125300\n",
      "using 2x2.5GHz subbands from 4.6-9.6GHz for band 5\n",
      "> 81.2% done: Evaluating Rflop for Bmax = 126600\n",
      "using 2x2.5GHz subbands from 4.6-9.6GHz for band 5\n",
      "> 82.2% done: Evaluating Rflop for Bmax = 127900\n",
      "using 2x2.5GHz subbands from 4.6-9.6GHz for band 5\n",
      "> 83.2% done: Evaluating Rflop for Bmax = 129200\n",
      "using 2x2.5GHz subbands from 4.6-9.6GHz for band 5\n",
      "> 84.2% done: Evaluating Rflop for Bmax = 130500\n",
      "using 2x2.5GHz subbands from 4.6-9.6GHz for band 5\n",
      "> 85.1% done: Evaluating Rflop for Bmax = 131800\n",
      "using 2x2.5GHz subbands from 4.6-9.6GHz for band 5\n",
      "> 86.1% done: Evaluating Rflop for Bmax = 133100\n",
      "using 2x2.5GHz subbands from 4.6-9.6GHz for band 5\n",
      "> 87.1% done: Evaluating Rflop for Bmax = 134400\n",
      "using 2x2.5GHz subbands from 4.6-9.6GHz for band 5\n",
      "> 88.1% done: Evaluating Rflop for Bmax = 135700\n",
      "using 2x2.5GHz subbands from 4.6-9.6GHz for band 5\n",
      "> 89.1% done: Evaluating Rflop for Bmax = 137000\n",
      "using 2x2.5GHz subbands from 4.6-9.6GHz for band 5\n",
      "> 90.1% done: Evaluating Rflop for Bmax = 138300\n",
      "using 2x2.5GHz subbands from 4.6-9.6GHz for band 5\n",
      "> 91.1% done: Evaluating Rflop for Bmax = 139600\n",
      "using 2x2.5GHz subbands from 4.6-9.6GHz for band 5\n",
      "> 92.1% done: Evaluating Rflop for Bmax = 140900\n",
      "using 2x2.5GHz subbands from 4.6-9.6GHz for band 5\n",
      "> 93.1% done: Evaluating Rflop for Bmax = 142200\n",
      "using 2x2.5GHz subbands from 4.6-9.6GHz for band 5\n",
      "> 94.1% done: Evaluating Rflop for Bmax = 143500\n",
      "using 2x2.5GHz subbands from 4.6-9.6GHz for band 5\n",
      "> 95.0% done: Evaluating Rflop for Bmax = 144800\n",
      "using 2x2.5GHz subbands from 4.6-9.6GHz for band 5\n",
      "> 96.0% done: Evaluating Rflop for Bmax = 146100\n",
      "using 2x2.5GHz subbands from 4.6-9.6GHz for band 5\n",
      "> 97.0% done: Evaluating Rflop for Bmax = 147400\n",
      "using 2x2.5GHz subbands from 4.6-9.6GHz for band 5\n",
      "> 98.0% done: Evaluating Rflop for Bmax = 148700\n",
      "using 2x2.5GHz subbands from 4.6-9.6GHz for band 5\n",
      "> 99.0% done: Evaluating Rflop for Bmax = 150000\n",
      "done with parameter sweep!\n"
     ]
    },
    {
     "data": {
      "image/png": "[encoded data removed]",
      "text/plain": [
       "<matplotlib.figure.Figure at 0x10d77bcd0>"
      ]
     },
     "metadata": {},
     "output_type": "display_data"
    },
    {
     "name": "stdout",
     "output_type": "stream",
     "text": [
      "20000.0 , 0.173995760207\n",
      "21300.0 , 0.195443888745\n",
      "22600.0 , 0.219939101393\n",
      "23900.0 , 0.247841431059\n",
      "25200.0 , 0.278446520754\n",
      "26500.0 , 0.304349225253\n",
      "27800.0 , 0.334831844948\n",
      "29100.0 , 0.368231141904\n",
      "30400.0 , 0.405272453448\n",
      "31700.0 , 0.445631725745\n",
      "33000.0 , 0.490556093804\n",
      "34300.0 , 0.539960313222\n",
      "35600.0 , 0.5909685409\n",
      "36900.0 , 0.642537640302\n",
      "38200.0 , 0.686615196461\n",
      "39500.0 , 0.746671096947\n",
      "40800.0 , 0.811974007957\n",
      "42100.0 , 0.882900580052\n",
      "43400.0 , 0.959829936597\n",
      "44700.0 , 1.04282469803\n",
      "46000.0 , 1.13289654879\n",
      "47300.0 , 1.23012137355\n",
      "48600.0 , 1.33477725474\n",
      "49900.0 , 1.44747260921\n",
      "51200.0 , 1.56804921233\n",
      "52500.0 , 1.69778618635\n",
      "53800.0 , 1.83665005206\n",
      "55100.0 , 1.9833800802\n",
      "56400.0 , 2.11922411833\n",
      "57700.0 , 2.25641898737\n",
      "59000.0 , 2.41016958064\n",
      "60300.0 , 2.57372900051\n",
      "61600.0 , 2.74756823302\n",
      "62900.0 , 2.93215908614\n",
      "64200.0 , 3.05496702267\n",
      "65500.0 , 3.26040349066\n",
      "66800.0 , 3.47798685358\n",
      "68100.0 , 3.70833012499\n",
      "69400.0 , 3.95183936244\n",
      "70700.0 , 4.20880514179\n",
      "72000.0 , 4.48007734813\n",
      "73300.0 , 4.76595464191\n",
      "74600.0 , 5.06692255003\n",
      "75900.0 , 5.32938279987\n",
      "77200.0 , 5.57219103831\n",
      "78500.0 , 5.83090364145\n",
      "79800.0 , 6.09993109633\n",
      "81100.0 , 6.37965306133\n",
      "82400.0 , 6.67030221909\n",
      "83700.0 , 6.97257459551\n",
      "85000.0 , 7.28671692882\n",
      "86300.0 , 7.61307929895\n",
      "87600.0 , 7.95217314548\n",
      "88900.0 , 8.19252963025\n",
      "90200.0 , 8.54926134467\n",
      "91500.0 , 8.8849473041\n",
      "92800.0 , 9.2316614514\n",
      "94100.0 , 9.58974576816\n",
      "95400.0 , 9.90413480923\n",
      "96700.0 , 10.284404158\n",
      "98000.0 , 10.6770987075\n",
      "99300.0 , 11.0825836931\n",
      "100600.0 , 11.5012291627\n",
      "101900.0 , 11.9332083009\n",
      "103200.0 , 12.3793000685\n",
      "104500.0 , 12.8396888367\n",
      "105800.0 , 13.3147178444\n",
      "107100.0 , 13.8048641688\n",
      "108400.0 , 14.3103598921\n",
      "109700.0 , 14.8318383518\n",
      "111000.0 , 15.1601695353\n",
      "112300.0 , 15.4510343591\n",
      "113600.0 , 15.7444311597\n",
      "114900.0 , 16.0349249531\n",
      "116200.0 , 16.3333245067\n",
      "117500.0 , 16.6342833077\n",
      "118800.0 , 16.9378113824\n",
      "120100.0 , 17.2439191538\n",
      "121400.0 , 17.5525096798\n",
      "122700.0 , 17.8638083089\n",
      "124000.0 , 18.1776829684\n",
      "125300.0 , 18.4942196387\n",
      "126600.0 , 18.8133938829\n",
      "127900.0 , 19.0934423883\n",
      "129200.0 , 19.4172902996\n",
      "130500.0 , 19.7407679041\n",
      "131800.0 , 20.0617788982\n",
      "133100.0 , 20.3025073732\n",
      "134400.0 , 20.6267956801\n",
      "135700.0 , 20.9533328551\n",
      "137000.0 , 21.282121654\n",
      "138300.0 , 21.6131650539\n",
      "139600.0 , 21.0988433587\n",
      "140900.0 , 21.4215743224\n",
      "142200.0 , 21.7465104257\n",
      "143500.0 , 22.0736220594\n",
      "144800.0 , 22.4029824316\n",
      "146100.0 , 22.7344701546\n",
      "147400.0 , 23.0682748142\n",
      "148700.0 , 23.4043103682\n",
      "150000.0 , 23.7425825942\n"
     ]
    }
   ],
   "source": [
    "from IPython.display import display, HTML\n",
    "\n",
    "expression = 'Rflop'\n",
    "parameter = 'Bmax'\n",
    "param_val_min =20000\n",
    "param_val_max = 150000\n",
    "number_steps = 100\n",
    "telescope = Telescopes.SKA1_Mid\n",
    "immode = ImagingModes.Continuum\n",
    "band=Bands.Mid5C\n",
    "\n",
    "display(HTML('<font color=\"blue\">Computing the result -- this may take several (tens of) seconds.</font>'))\n",
    "cfg = PipelineConfig(telescope=telescope, mode=immode, band=band)\n",
    "(param_values, results) = iapi.eval_param_sweep_1d(cfg, expression=expression, parameter=parameter, param_val_min=param_val_min,\n",
    "                                                   param_val_max=param_val_max, number_steps=number_steps, verbose=False)\n",
    "header = 'Plotting Spectral PetaFLOPS for %s in %s mode as a function of %s' % (telescope, immode, parameter)\n",
    "iapi.plot_line_datapoints(header, param_values, np.array(results)/c.peta, xlabel=parameter, ylabel=expression)\n",
    "\n",
    "for i in range(len(param_values)):\n",
    "               print param_values[i], \",\", (results[i])/c.peta"
   ]
  },
  {
   "cell_type": "markdown",
   "metadata": {},
   "source": [
    "## illustrating 2D \"parameter sweep\" + visualization functionality."
   ]
  },
  {
   "cell_type": "code",
   "execution_count": null,
   "metadata": {
    "collapsed": false,
    "scrolled": true
   },
   "outputs": [],
   "source": [
    "from IPython.display import display, HTML\n",
    "\n",
    "telescope = Telescopes.SKA1_Mid\n",
    "band = Bands.Mid1\n",
    "immode = ImagingModes.FastImg\n",
    "expression = 'Rflop'\n",
    "parameters = ('Bmax', 'Tobs')\n",
    "parameter_ranges = ((30000,150000),(0.15,2.0))\n",
    "number_steps = 4\n",
    "verbose = False\n",
    "\n",
    "display(HTML('<font color=\"blue\">Computing the result -- this may take several (tens of) seconds.</font>'))\n",
    "cfg = PipelineConfig(telescope=telescope, mode=immode, band=band)\n",
    "(p1_values, p2_values, results) = iapi.eval_param_sweep_2d(cfg, expression=expression, parameters=parameters, \n",
    "                                                           params_ranges=parameter_ranges, number_steps=number_steps, \n",
    "                                                           verbose=verbose)\n",
    "\n",
    "\n",
    "iapi.plot_2D_surface('PetaFLOP rate vs #Channels & Max Baseline', p1_values, p2_values, results/1e15, xlabel=parameters[0], \n",
    "                     ylabel=parameters[1], contours=np.array((0.5, 1.0)))\n",
    "iapi.plot_3D_surface('PetaFLOP rate vs #Channels & Max Baseline', p1_values, p2_values, results/1e15, xlabel=parameters[0], \n",
    "                     ylabel=parameters[1], zlabel=expression, contours=np.array((0.5, 1.0)))"
   ]
  },
  {
   "cell_type": "code",
   "execution_count": null,
   "metadata": {
    "collapsed": true
   },
   "outputs": [],
   "source": []
  }
 ],
 "metadata": {
  "kernelspec": {
   "display_name": "Python 2",
   "language": "python",
   "name": "python2"
  },
  "language_info": {
   "codemirror_mode": {
    "name": "ipython",
    "version": 2
   },
   "file_extension": ".py",
   "mimetype": "text/x-python",
   "name": "python",
   "nbconvert_exporter": "python",
   "pygments_lexer": "ipython2",
   "version": "2.7.11"
  }
 },
 "nbformat": 4,
 "nbformat_minor": 0
}
