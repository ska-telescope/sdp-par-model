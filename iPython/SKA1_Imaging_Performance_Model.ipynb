{
 "cells": [
  {
   "cell_type": "markdown",
   "metadata": {},
   "source": [
    "# This notebook provides interactive widgets to play with the imaging requirements for the SKA1 SDP"
   ]
  },
  {
   "cell_type": "markdown",
   "metadata": {},
   "source": [
    "## First, do the necessary set-up (run this code block first)"
   ]
  },
  {
   "cell_type": "code",
   "execution_count": 1,
   "metadata": {
    "collapsed": false,
    "scrolled": false
   },
   "outputs": [
    {
     "name": "stdout",
     "output_type": "stream",
     "text": [
      "IPython console for SymPy 0.7.6 (Python 2.7.7-32-bit) (ground types: python)\n"
     ]
    },
    {
     "name": "stderr",
     "output_type": "stream",
     "text": [
      ":0: FutureWarning: IPython widgets are experimental and may change in the future.\n"
     ]
    }
   ],
   "source": [
    "'''\n",
    "The following commands import the python modules, methods and code fragments that are required to run this notebook. \n",
    "Please refer to the following python files for implementation details (omitted here for readability)\n",
    "* env_setup.py -- code for setting up the python environment\n",
    "* parameter_definitions.py -- contains definitions of variables, primary telescope parameters  \n",
    "* formulae.py -- contains formulae for defiving secondary telescope-specific parameters from input parameters\n",
    "* implementation.py -- contains methods for performing computations (i.e. crunching the numbers)\n",
    "'''\n",
    "\n",
    "from IPython.html.widgets import interact, interactive, fixed\n",
    "from IPython.html.widgets.interaction import interact_manual\n",
    "from IPython.html import widgets\n",
    "from IPython.display import clear_output, display, HTML\n",
    "\n",
    "from env_setup import *\n",
    "from parameter_definitions import *\n",
    "from formulae import *\n",
    "from implementation import Implementation as imp\n",
    "\n",
    "def show_table(header, titles, values, units):\n",
    "    s = '<h3>%s:</h3><table>\\n' % header\n",
    "    assert len(titles) == len(values)\n",
    "    assert len(titles) == len(units)\n",
    "    for i in range(len(titles)):\n",
    "        s += '<tr><td>{0}</td><td><font color=\"blue\">{1}</font> {2}</td></tr>\\n'.format(titles[i], values[i], units[i])\n",
    "    s += '</table>'\n",
    "    display(HTML(s))\n",
    "\n",
    "band_lookup = {'SKA1-Low':'Low', 'SKA1-Mid (Band 1)':'Mid1', 'SKA1-Survey (Band 1)':'Sur1'}\n",
    "telescopes_pretty_print =('SKA1-Low', 'SKA1-Mid (Band 1)', 'SKA1-Survey (Band 1)')\n",
    "modes_pretty_print = ('Continuum', 'Spectral', 'SlowTrans')\n",
    "\n",
    "mode_lookup = {}\n",
    "for key in modes_pretty_print:\n",
    "    mode_lookup[key] = key\n",
    "\n",
    "def evaluate_expressions(expressions, tp, Tsnap, Nfacet):\n",
    "    \"\"\"\n",
    "    Evaluate a sequence of expressions by substituting the telescope_parameters into them. Returns the result\n",
    "    \"\"\"    \n",
    "    results = []\n",
    "    for expression in expressions:\n",
    "        expression_subst = -1\n",
    "        try:\n",
    "            expression_subst = expression.subs({tp.Tsnap : Tsnap, tp.Nfacet : Nfacet})\n",
    "            result = imp.evaluate_binned_expression(expression_subst, tp)\n",
    "        except Exception as e:\n",
    "            result = expression\n",
    "            \n",
    "        results.append(result)\n",
    "    return results\n",
    "\n",
    "def compute_flops_subset(max_baseline, Nf_max, Nfacet, Tsnap, Telescope, Mode):    \n",
    "    # First we plot a table with all the provided parameters\n",
    "    band = band_lookup[Telescope]\n",
    "    param_titles = ('Max Baseline', 'Max # of channels', 'Telescope', 'Band', 'Mode', 'Tsnap', 'Nfacet')\n",
    "    param_values = (max_baseline, Nf_max, Telescope, band, Mode, Tsnap, Nfacet)\n",
    "    param_units = ('km', '', '', '', '', 'sec', '')\n",
    "    show_table('Arguments', param_titles, param_values, param_units)\n",
    "    \n",
    "    # And now the results:\n",
    "    tp = imp.calc_tel_params(band=band, mode=mode_lookup[Mode])  # Calculate the telescope parameters        \n",
    "    max_allowed_baseline = tp.baseline_bins[-1] / u.km    \n",
    "    if max_baseline <= max_allowed_baseline:\n",
    "        tp.Bmax = max_baseline * u.km\n",
    "        tp.Nf_max = Nf_max\n",
    "        imp.update_derived_parameters(tp, mode=mode_lookup[Mode])\n",
    "        # The result expressions need to be defined here as they depend on tp (updated in the line above)\n",
    "        result_expressions = (tp.Mbuf_vis/u.peta, tp.Mw_cache/u.tera, tp.Npix_linear, tp.Rio/u.tera, \n",
    "                              tp.Rflop/u.peta)\n",
    "        result_titles = ('Visibility Buffer', 'Working (cache) memory', 'Image side length', 'I/O Rate', \n",
    "                         'Total Compute Requirement')\n",
    "        result_units = ('PetaBytes', 'TeraBytes', 'pixels', 'TeraBytes/s','PetaFLOPS')\n",
    "        result_values = evaluate_expressions(result_expressions, tp, Tsnap, Nfacet)\n",
    "        result_value_string = []\n",
    "        for i in range(len(result_values)):\n",
    "            expression = result_expressions[i]\n",
    "            if expression is not tp.Npix_linear: \n",
    "                result_value_string.append('%.3g' % result_values[i])\n",
    "            else:\n",
    "                result_value_string.append('%d' % result_values[i])\n",
    "\n",
    "        show_table('Computed Values', result_titles, result_value_string, result_units)\n",
    "    else :\n",
    "        msg = 'ERROR: max_baseline exceeds the maximum allowed baseline of %g km for this telescope.' % max_allowed_baseline\n",
    "        s = '<font color=\"red\"><b>{0}</b>.<br>Adjust to recompute.</font>'.format(msg)\n",
    "        display(HTML(s))\n",
    "\n",
    "def compute_flops_full(max_baseline, Nf_max, Telescope, Mode):\n",
    "    # First we plot a table with all the provided parameters\n",
    "    band = band_lookup[Telescope]\n",
    "    param_titles = ('Max Baseline', 'Max # of channels', 'Telescope', 'Band', 'Mode')\n",
    "    param_values = (max_baseline, Nf_max, Telescope, band, Mode)\n",
    "    param_units = ('km', '', '', '', '')\n",
    "    show_table('Arguments', param_titles, param_values, param_units)\n",
    "    \n",
    "    # And now the results:\n",
    "    display(HTML('<font color=\"blue\">Computing the result -- this may take several (tens of) seconds.</font>'))\n",
    "    tp = imp.calc_tel_params(band=band, mode=mode_lookup[Mode])  # Calculate the telescope parameters        \n",
    "    max_allowed_baseline = tp.baseline_bins[-1] / u.km    \n",
    "    if max_baseline <= max_allowed_baseline:\n",
    "        tp.Bmax = max_baseline * u.km\n",
    "        tp.Nf_max = Nf_max\n",
    "        imp.update_derived_parameters(tp, mode=mode_lookup[Mode])\n",
    "        (Tsnap, Nfacet) = imp.find_optimal_Tsnap_Nfacet(tp, verbose=True)\n",
    "        \n",
    "        # The result expressions need to be defined here as they depend on tp (updated in the line above)\n",
    "        result_expressions = (tp.Mbuf_vis/u.peta, tp.Mw_cache/u.tera, tp.Npix_linear, tp.Rio/u.tera, \n",
    "                              tp.Rflop/u.peta)\n",
    "        result_titles = ('Number of Facets', 'Snapshot Time', 'Visibility Buffer', 'Working (cache) memory', \n",
    "                         'Image side length', 'I/O Rate', 'Total Compute Requirement',)\n",
    "        result_units = ('', 'sec.', 'PetaBytes', 'TeraBytes', 'pixels', 'TeraBytes/s','PetaFLOPS',)\n",
    "        \n",
    "        result_value_string = []\n",
    "        result_value_string.append('%d' % Nfacet)\n",
    "        result_value_string.append('%.3g' % Tsnap)\n",
    "        result_values = evaluate_expressions(result_expressions, tp, Tsnap, Nfacet)\n",
    "        for i in range(len(result_values)):\n",
    "            expression = result_expressions[i]\n",
    "            if expression is not tp.Npix_linear: \n",
    "                result_value_string.append('%.3g' % result_values[i])\n",
    "            else:\n",
    "                result_value_string.append('%d' % result_values[i])\n",
    "\n",
    "        show_table('Computed Values', result_titles, result_value_string, result_units)\n",
    "    else :\n",
    "        msg = 'ERROR: max_baseline exceeds the maximum allowed baseline of %g km for this telescope.' % max_allowed_baseline\n",
    "        s = '<font color=\"red\"><b>{0}</b>.<br>Adjust to recompute.</font>'.format(msg)\n",
    "        display(HTML(s))"
   ]
  },
  {
   "cell_type": "code",
   "execution_count": 1,
   "metadata": {
    "collapsed": true
   },
   "outputs": [],
   "source": [
    "import matplotlib.pyplot as plt\n",
    "%matplotlib inline\n",
    "import matplotlib.pylab as pylab\n",
    "\n",
    "def plot_flops(title, rflop_grid, rflop_fft, rflop_proj, rflop_conv):\n",
    "    pylab.rcParams['figure.figsize'] = 8, 6  # that's default image size for this interactive session\n",
    "\n",
    "    values = results_per_tel[tel]\n",
    "\n",
    "    # The slices will be ordered and plotted counter-clockwise.\n",
    "    labels = '(de)Gridding', '(i)FFT', '(Re)Projection', 'Convolution'\n",
    "    sizes = [rflop_grid, rflop_fft, rflop_proj, rflop_conv]\n",
    "    colors = ['yellowgreen', 'gold', 'lightskyblue', 'lightcoral']\n",
    "    explode = (0.05, 0.05, 0.05, 0.05) # Radial offset of the slices\n",
    "\n",
    "    plt.pie(sizes, explode=explode, labels=labels, colors=colors,\n",
    "            autopct='%1.1f%%', shadow=True, startangle=90)\n",
    "    # Set aspect ratio to be equal so that pie is drawn as a circle.\n",
    "    plt.axis('equal')\n",
    "    plt.title('%s\\n' % title)\n",
    "\n",
    "    plt.show()"
   ]
  },
  {
   "cell_type": "markdown",
   "metadata": {},
   "source": [
    "## Now, we can interactively play with parameters"
   ]
  },
  {
   "cell_type": "markdown",
   "metadata": {},
   "source": [
    "### The first option is automatic updating of results as the sliders are moved. This may be sluggish"
   ]
  },
  {
   "cell_type": "code",
   "execution_count": 2,
   "metadata": {
    "collapsed": false
   },
   "outputs": [
    {
     "data": {
      "text/html": [
       "<h3>Arguments:</h3><table>\n",
       "<tr><td>Max Baseline</td><td><font color=\"blue\">88</font> km</td></tr>\n",
       "<tr><td>Max # of channels</td><td><font color=\"blue\">128000</font> </td></tr>\n",
       "<tr><td>Telescope</td><td><font color=\"blue\">SKA1-Low</font> </td></tr>\n",
       "<tr><td>Band</td><td><font color=\"blue\">Low</font> </td></tr>\n",
       "<tr><td>Mode</td><td><font color=\"blue\">Continuum</font> </td></tr>\n",
       "<tr><td>Tsnap</td><td><font color=\"blue\">78.5</font> sec</td></tr>\n",
       "<tr><td>Nfacet</td><td><font color=\"blue\">3</font> </td></tr>\n",
       "</table>"
      ],
      "text/plain": [
       "<IPython.core.display.HTML object>"
      ]
     },
     "metadata": {},
     "output_type": "display_data"
    },
    {
     "data": {
      "text/html": [
       "<h3>Computed Values:</h3><table>\n",
       "<tr><td>Visibility Buffer</td><td><font color=\"blue\">1</font> PetaBytes</td></tr>\n",
       "<tr><td>Working (cache) memory</td><td><font color=\"blue\">0.0418</font> TeraBytes</td></tr>\n",
       "<tr><td>Image side length</td><td><font color=\"blue\">110348</font> pixels</td></tr>\n",
       "<tr><td>I/O Rate</td><td><font color=\"blue\">2.3</font> TeraBytes/s</td></tr>\n",
       "<tr><td>Total Compute Requirement</td><td><font color=\"blue\">2.86</font> PetaFLOPS</td></tr>\n",
       "</table>"
      ],
      "text/plain": [
       "<IPython.core.display.HTML object>"
      ]
     },
     "metadata": {},
     "output_type": "display_data"
    }
   ],
   "source": [
    "interact(compute_flops_subset, max_baseline=(10,200), Nf_max = (1,256000,1), Nfacet=(1,10,1), Tsnap=(1.2,1800), Telescope=telescopes_pretty_print, \n",
    "         Mode=modes_pretty_print);"
   ]
  },
  {
   "cell_type": "markdown",
   "metadata": {},
   "source": [
    "### The second option is manual triggering of recompute events (recommended). "
   ]
  },
  {
   "cell_type": "markdown",
   "metadata": {},
   "source": [
    "**This allows more conveniently computing elaborate (slow) optimizations and visualizations per computation, as these are only run when required**"
   ]
  },
  {
   "cell_type": "code",
   "execution_count": 3,
   "metadata": {
    "collapsed": false
   },
   "outputs": [
    {
     "data": {
      "text/html": [
       "<h3>Arguments:</h3><table>\n",
       "<tr><td>Max Baseline</td><td><font color=\"blue\">88</font> km</td></tr>\n",
       "<tr><td>Max # of channels</td><td><font color=\"blue\">128000</font> </td></tr>\n",
       "<tr><td>Telescope</td><td><font color=\"blue\">SKA1-Low</font> </td></tr>\n",
       "<tr><td>Band</td><td><font color=\"blue\">Low</font> </td></tr>\n",
       "<tr><td>Mode</td><td><font color=\"blue\">Continuum</font> </td></tr>\n",
       "</table>"
      ],
      "text/plain": [
       "<IPython.core.display.HTML object>"
      ]
     },
     "metadata": {},
     "output_type": "display_data"
    },
    {
     "data": {
      "text/html": [
       "<font color=\"blue\">Computing the result -- this may take several (tens of) seconds.</font>"
      ],
      "text/plain": [
       "<IPython.core.display.HTML object>"
      ]
     },
     "metadata": {},
     "output_type": "display_data"
    },
    {
     "name": "stdout",
     "output_type": "stream",
     "text": [
      "Evaluating Nfacets = 1\n",
      "Tsnap has been optimized as : 33.520121, yielding a minimum value of 4.355135 Peta-units\n",
      "Evaluating Nfacets = 2\n",
      "Tsnap has been optimized as : 53.223321, yielding a minimum value of 2.949260 Peta-units\n",
      "Evaluating Nfacets = 3\n",
      "Tsnap has been optimized as : 75.169219, yielding a minimum value of 2.854483 Peta-units\n",
      "Evaluating Nfacets = 4\n",
      "Tsnap has been optimized as : 95.490156, yielding a minimum value of 3.036833 Peta-units\n",
      "\n",
      "Expression increasing with number of facets; aborting exploration of Nfacets > 4\n",
      "\n",
      "2.854483 PetaFLOPS was the lowest FLOP value, found for (Nfacet, Tsnap) = (3, 75.17)\n",
      "(7, 7, 7)\n"
     ]
    },
    {
     "data": {
      "text/html": [
       "<h3>Computed Values:</h3><table>\n",
       "<tr><td>Number of Facets</td><td><font color=\"blue\">3</font> </td></tr>\n",
       "<tr><td>Snapshot Time</td><td><font color=\"blue\">75.2</font> sec.</td></tr>\n",
       "<tr><td>Visibility Buffer</td><td><font color=\"blue\">1</font> PetaBytes</td></tr>\n",
       "<tr><td>Working (cache) memory</td><td><font color=\"blue\">0.0379</font> TeraBytes</td></tr>\n",
       "<tr><td>Image side length</td><td><font color=\"blue\">110348</font> pixels</td></tr>\n",
       "<tr><td>I/O Rate</td><td><font color=\"blue\">2.3</font> TeraBytes/s</td></tr>\n",
       "<tr><td>Total Compute Requirement</td><td><font color=\"blue\">2.85</font> PetaFLOPS</td></tr>\n",
       "</table>"
      ],
      "text/plain": [
       "<IPython.core.display.HTML object>"
      ]
     },
     "metadata": {},
     "output_type": "display_data"
    }
   ],
   "source": [
    "# In this example, Tsnap and Nfacet are *automatically* chosen so as to minimize the value of Rflop\n",
    "\n",
    "interact_manual(compute_flops_full, max_baseline=(10,200), Nf_max = (1,256000,1), Telescope=telescopes_pretty_print, \n",
    "         Mode=modes_pretty_print);"
   ]
  },
  {
   "cell_type": "code",
   "execution_count": null,
   "metadata": {
    "collapsed": true
   },
   "outputs": [],
   "source": []
  }
 ],
 "metadata": {
  "kernelspec": {
   "display_name": "Python 2",
   "language": "python",
   "name": "python2"
  },
  "language_info": {
   "codemirror_mode": {
    "name": "ipython",
    "version": 2
   },
   "file_extension": ".py",
   "mimetype": "text/x-python",
   "name": "python",
   "nbconvert_exporter": "python",
   "pygments_lexer": "ipython2",
   "version": "2.7.7"
  }
 },
 "nbformat": 4,
 "nbformat_minor": 0
}
