{
 "cells": [
  {
   "cell_type": "markdown",
   "metadata": {},
   "source": [
    "# This notebook provides interactive widgets to play with the imaging requirements for the SKA1 SDP\n",
    "\n",
    "## This notebook was last tested with IPython notebook 4.1.0 using Python 2.7\n",
    "### (If you have trouble running this notebook, please check version compatibility)\n",
    "\n",
    "## First, do the necessary set-up (run the code block below, first)"
   ]
  },
  {
   "cell_type": "code",
   "execution_count": 1,
   "metadata": {
    "collapsed": false
   },
   "outputs": [],
   "source": [
    "\"\"\" These first few lines below import the IPython definitions and methods that we will use. \n",
    "Please Refer to ipython_api.py for the implementation \"\"\"\n",
    "from ipywidgets import interact, interact_manual, fixed\n",
    "from api_ipython import SkaIPythonAPI as iapi\n",
    "from parameter_definitions import *\n",
    "from parameter_definitions import Constants as c\n",
    "from implementation import Implementation as imp\n",
    "%matplotlib inline\n",
    "\n",
    "# The lines below define the available telescopes, bands and modes that may be chosen.\n",
    "\n",
    "available_teles = (Telescopes.SKA1_Low, Telescopes.SKA1_Mid)\n",
    "\n",
    "available_bands = (Bands.Low, \n",
    "                   Bands.Mid1, Bands.Mid2, Bands.Mid5A, Bands.Mid5B, Bands.Mid5C,\n",
    "                   Bands.Sur1)\n",
    "\n",
    "# The High Priority Science Objective list below includes the HPSOs that were originally intended for \n",
    "# The Survey telescope. These have since been reassigned to Mid.\n",
    "available_hpsos = [HPSOs.hpso_max_Low_c, HPSOs.hpso_max_Low_s, HPSOs.hpso_max_Mid_c, HPSOs.hpso_max_Mid_s, \n",
    "                   HPSOs.hpso_max_band5_Mid_c, HPSOs.hpso_max_band5_Mid_s, \n",
    "                   HPSOs.hpso01c, HPSOs.hpso01s, HPSOs.hpso02A, HPSOs.hpso02B, HPSOs.hpso14, HPSOs.hpso14c, HPSOs.hpso14s, \n",
    "                   HPSOs.hpso22, HPSOs.hpso37a, HPSOs.hpso37b, HPSOs.hpso38a, HPSOs.hpso38b, \n",
    "                   HPSOs.hpso13c, HPSOs.hpso13s, HPSOs.hpso15c, HPSOs.hpso15s, \n",
    "                   HPSOs.hpso27, HPSOs.hpso33, HPSOs.hpso37c]\n",
    "\n",
    "available_hpsos.sort()\n",
    "\n",
    "available_modes     = (ImagingModes.Continuum, ImagingModes.Spectral, ImagingModes.FastImg)\n",
    "available_modes_all = available_modes + (ImagingModes.All,)\n",
    "verbose_display = False"
   ]
  },
  {
   "cell_type": "markdown",
   "metadata": {},
   "source": [
    "## Using default values, we can compare telescopes side-by-side"
   ]
  },
  {
   "cell_type": "code",
   "execution_count": 2,
   "metadata": {
    "collapsed": false
   },
   "outputs": [
    {
     "data": {
      "text/html": [
       "<font color=\"blue\">Computing the result -- this may take several (tens of) seconds.</font>"
      ],
      "text/plain": [
       "<IPython.core.display.HTML object>"
      ]
     },
     "metadata": {},
     "output_type": "display_data"
    },
    {
     "name": "stdout",
     "output_type": "stream",
     "text": [
      "Image Characteristics:\n",
      "----------------------\n",
      "\n",
      "Facet FOV:  0.00909456817667973*(5.42847785319555*sign(N_facet - 1) + 27.1423892659778)/N_facet  rads\n",
      "PSF size:   5.59048872933426e-5  rads\n",
      "Pixel size: 1.86349624311142e-5  rads\n",
      "No. pixels on facet side: 488.037913159128*(5.42847785319555*sign(N_facet - 1) + 27.1423892659778)/N_facet\n",
      "Epsilon approx : 0.342997170285018\n",
      "Found Qbw =    4.286, and cell frac error, epsilon,     0.343\n",
      "Max subband ratio 1.35\n",
      "Subband Freq ratio used: 1.32046924776\n",
      "Number subbands use in imaging 7.0\n",
      "Maximum baseline 80000\n",
      "Station (or antenna) diameter 35\n",
      "Number of stations (or antennas) 512\n",
      "\n",
      "---------------------\n",
      "\n",
      "Channelization Characteristics:\n",
      "-------------------------------\n",
      "\n",
      "Ionospheric timescale (for updating kernels and limiting any time averaging):  10.0  sec\n",
      "Coalesce Time predict:  Min(1.2, 0.9*Max(1.0, floor(72539.9097466661/Bmax,bin)))  sec\n",
      "Coalesce Time backward:  Min(10.0, 0.9*N_facet*Max(1.0, floor(72539.9097466661/Bmax,bin))/(0.2*sign(N_facet - 1) + 1))  sec\n",
      "\n",
      "No. freq channels for predict:  32046.3817637588\n",
      "No. freq channels for backward step:  1.94591014905531/log(1 + 131.854521916301*N_facet/(Bmax,bin*(5.42847785319555*sign(N_facet - 1) + 27.1423892659778)))\n",
      "\n",
      "USING BASELINE DEPENDENT TIME AVERAGING\n",
      "Not using on-the-fly kernels...\n",
      "\n",
      "------------------------------\n",
      "\n",
      "Geometry Assumptions:\n",
      "-------------------------------\n",
      "\n",
      "Delta W Earth:  5.7200995576604e-9*Bmax,bin**2  lambda\n",
      "Delta W Snapshot:  1.06416963714944e-5*Bmax,bin*T_snap  lambda\n",
      "Delta W max:  1.0*Max(5.7200995576604e-9*Bmax,bin**2, 1.06416963714944e-5*Bmax,bin*T_snap)  lambda\n",
      "\n",
      "------------------------------\n",
      "\n",
      "Kernel Sizes:\n",
      "-------------------------------\n",
      "\n",
      "Support of w-kernel:  0.49369661931483*sqrt(0.0152335219951808*Max(5.7200995576604e-9*Bmax,bin**2, 1.06416963714944e-5*Bmax,bin*T_snap)**2 + 3.92871286758564*Max(5.7200995576604e-9*Bmax,bin**2, 1.06416963714944e-5*Bmax,bin*T_snap)**1.5)  pixels\n",
      "Support of combined, oversampled GCF at far field:  8.0*sqrt(0.0037129630780425*Max(5.7200995576604e-9*Bmax,bin**2, 1.06416963714944e-5*Bmax,bin*T_snap)**2 + 0.95757014209785*Max(5.7200995576604e-9*Bmax,bin**2, 1.06416963714944e-5*Bmax,bin*T_snap)**1.5 + 100)  sub-pixels\n",
      "\n",
      "------------------------------\n",
      "\n",
      "Number of kernels to cover freq axis is Nf_gcf_backward:  Max(500, Min(65536, 1.94591014905531/log(1.0 + 0.0342997170285018/sqrt(100 + 0.000330844681281103*(0.144744548060483*(5.42847785319555*sign(N_facet - 1) + 27.1423892659778)*Max(5.7200995576604e-9*Bmax,bin**2, 1.06416963714944e-5*Bmax,bin*T_snap)**1.5/N_facet + 2.06777925800689e-5*(5.42847785319555*sign(N_facet - 1) + 27.1423892659778)**2*Max(5.7200995576604e-9*Bmax,bin**2, 1.06416963714944e-5*Bmax,bin*T_snap)**2/N_facet**2)*(5.42847785319555*sign(N_facet - 1) + 27.1423892659778)**2/N_facet**2))))\n",
      "Number of kernels to cover freq axis is Nf_gcf_predict:  Max(500, Min(65536, 1.94591014905531/log(1.0 + 0.0342997170285018/sqrt(0.0037129630780425*Max(5.7200995576604e-9*Bmax,bin**2, 1.06416963714944e-5*Bmax,bin*T_snap)**2 + 0.95757014209785*Max(5.7200995576604e-9*Bmax,bin**2, 1.06416963714944e-5*Bmax,bin*T_snap)**1.5 + 100))))\n",
      "Max baseline = 80000\n",
      "Evaluating Nfacets = 1\n",
      "Tsnap has been optimized as : 1.000000. (Cost function = 2.475822)\n",
      "Evaluating Nfacets = 2\n",
      "Tsnap has been optimized as : 1.000000. (Cost function = 2.595623)\n",
      "Evaluating Nfacets = 3\n",
      "Tsnap has been optimized as : 1.000000. (Cost function = 2.765464)\n",
      "\n",
      "Expression increasing with number of facets; aborting exploration of Nfacets > 3\n",
      "\n",
      "(Nfacet, Tsnap) = (1, 1.00) yielded the lowest value of Rflop = 2.47582e+15\n",
      "Image Characteristics:\n",
      "----------------------\n",
      "\n",
      "Facet FOV:  0.0235785100876882*(0.903239311623932*sign(N_facet - 1) + 4.51619655811966)/N_facet  rads\n",
      "PSF size:   4.97761431429680e-6  rads\n",
      "Pixel size: 1.65920477143227e-6  rads\n",
      "No. pixels on facet side: 14210.7294371717*(0.903239311623932*sign(N_facet - 1) + 4.51619655811966)/N_facet\n",
      "Epsilon approx : 0.342997170285018\n",
      "Found Qbw =    4.286, and cell frac error, epsilon,     0.343\n",
      "Max subband ratio 1.35\n",
      "Subband Freq ratio used: 1.31607401295\n",
      "Number subbands use in imaging 4.0\n",
      "Maximum baseline 150000\n",
      "Station (or antenna) diameter 13.5\n",
      "Number of stations (or antennas) 197\n",
      "\n",
      "---------------------\n",
      "\n",
      "Channelization Characteristics:\n",
      "-------------------------------\n",
      "\n",
      "Ionospheric timescale (for updating kernels and limiting any time averaging):  10.0  sec\n",
      "Coalesce Time predict:  Min(1.2, 0.14*Max(1.0, floor(180169.468625599/Bmax,bin)))  sec\n",
      "Coalesce Time backward:  Min(10.0, 0.14*N_facet*Max(1.0, floor(180169.468625599/Bmax,bin))/(0.2*sign(N_facet - 1) + 1))  sec\n",
      "\n",
      "No. freq channels for predict:  87801.4649224931\n",
      "No. freq channels for backward step:  1.09861228866811/log(1 + 8.47636212319079*N_facet/(Bmax,bin*(0.903239311623932*sign(N_facet - 1) + 4.51619655811966)))\n",
      "\n",
      "USING BASELINE DEPENDENT TIME AVERAGING\n",
      "Not using on-the-fly kernels...\n",
      "\n",
      "------------------------------\n",
      "\n",
      "Geometry Assumptions:\n",
      "-------------------------------\n",
      "\n",
      "Delta W Earth:  3.43205973459624e-8*Bmax,bin**2  lambda\n",
      "Delta W Snapshot:  6.38501782289667e-5*Bmax,bin*T_snap  lambda\n",
      "Delta W max:  1.0*Max(3.43205973459624e-8*Bmax,bin**2, 6.38501782289667e-5*Bmax,bin*T_snap)  lambda\n",
      "\n",
      "------------------------------\n",
      "\n",
      "Kernel Sizes:\n",
      "-------------------------------\n",
      "\n",
      "Support of w-kernel:  0.212970372207214*sqrt(0.00283477371487996*Max(3.43205973459624e-8*Bmax,bin**2, 6.38501782289667e-5*Bmax,bin*T_snap)**2 + 1.69476437344495*Max(3.43205973459624e-8*Bmax,bin**2, 6.38501782289667e-5*Bmax,bin*T_snap)**1.5)  pixels\n",
      "Support of combined, oversampled GCF at far field:  8.0*sqrt(0.000128575072233189*Max(3.43205973459624e-8*Bmax,bin**2, 6.38501782289667e-5*Bmax,bin*T_snap)**2 + 0.0768683759801079*Max(3.43205973459624e-8*Bmax,bin**2, 6.38501782289667e-5*Bmax,bin*T_snap)**1.5 + 100)  sub-pixels\n",
      "\n",
      "------------------------------\n",
      "\n",
      "Number of kernels to cover freq axis is Nf_gcf_backward:  Max(500, Min(65536, 1.09861228866811/log(1.0 + 0.0342997170285018/sqrt(100 + 0.00222378455182086*(0.37526364311977*(0.903239311623932*sign(N_facet - 1) + 4.51619655811966)*Max(3.43205973459624e-8*Bmax,bin**2, 6.38501782289667e-5*Bmax,bin*T_snap)**1.5/N_facet + 0.000138986534488804*(0.903239311623932*sign(N_facet - 1) + 4.51619655811966)**2*Max(3.43205973459624e-8*Bmax,bin**2, 6.38501782289667e-5*Bmax,bin*T_snap)**2/N_facet**2)*(0.903239311623932*sign(N_facet - 1) + 4.51619655811966)**2/N_facet**2))))\n",
      "Number of kernels to cover freq axis is Nf_gcf_predict:  Max(500, Min(65536, 1.09861228866811/log(1.0 + 0.0342997170285018/sqrt(0.000128575072233189*Max(3.43205973459624e-8*Bmax,bin**2, 6.38501782289667e-5*Bmax,bin*T_snap)**2 + 0.0768683759801079*Max(3.43205973459624e-8*Bmax,bin**2, 6.38501782289667e-5*Bmax,bin*T_snap)**1.5 + 100))))\n",
      "Max baseline = 150000\n",
      "Evaluating Nfacets = 1\n",
      "Tsnap has been optimized as : 1.000000. (Cost function = 127.182635)\n",
      "Evaluating Nfacets = 2\n",
      "Tsnap has been optimized as : 1.000000. (Cost function = 127.159016)\n",
      "Evaluating Nfacets = 3\n",
      "Tsnap has been optimized as : 1.000000. (Cost function = 127.156057)\n",
      "Evaluating Nfacets = 4\n",
      "Tsnap has been optimized as : 1.000000. (Cost function = 127.166046)\n",
      "\n",
      "Expression increasing with number of facets; aborting exploration of Nfacets > 4\n",
      "\n",
      "(Nfacet, Tsnap) = (3, 1.00) yielded the lowest value of Rflop = 1.27156e+17\n"
     ]
    },
    {
     "data": {
      "text/html": [
       "<font color=\"blue\">Done computing. Results follow:</font>"
      ],
      "text/plain": [
       "<IPython.core.display.HTML object>"
      ]
     },
     "metadata": {},
     "output_type": "display_data"
    },
    {
     "data": {
      "text/html": [
       "<h4>Computed Values:</h4><table>\n",
       "<tr><td>Telescope</td><td><font color=\"darkcyan\">SKA1_Low_rebaselined</font></td><td><font color=\"blue\">SKA1_Mid_rebaselined</font></td><td></td></tr>\n",
       "<tr><td>Band</td><td><font color=\"darkcyan\">Low</font></td><td><font color=\"blue\">Mid1</font></td><td></td></tr>\n",
       "<tr><td>Mode</td><td><font color=\"darkcyan\">Fast Imaging</font></td><td><font color=\"blue\">Fast Imaging</font></td><td></td></tr>\n",
       "<tr><td>Baseline Dependent Time Avg.</td><td><font color=\"darkcyan\">True</font></td><td><font color=\"blue\">True</font></td><td></td></tr>\n",
       "<tr><td>Max Baseline</td><td><font color=\"darkcyan\">80000</font></td><td><font color=\"blue\">150000</font></td><td>m</td></tr>\n",
       "<tr><td>Max # channels</td><td><font color=\"darkcyan\">65536</font></td><td><font color=\"blue\">65536</font></td><td></td></tr>\n",
       "<tr><td>Optimal Number of Facets</td><td><font color=\"darkcyan\">1</font></td><td><font color=\"blue\">3</font></td><td></td></tr>\n",
       "<tr><td>Optimal Snapshot Time</td><td><font color=\"darkcyan\">1.0</font></td><td><font color=\"blue\">1.0</font></td><td>sec.</td></tr>\n",
       "<tr><td>Image side length</td><td><font color=\"darkcyan\">13246</font></td><td><font color=\"blue\">25671</font></td><td>pixels</td></tr>\n",
       "<tr><td>Visibility Buffer</td><td><font color=\"darkcyan\">0.000373</font></td><td><font color=\"blue\">0.000723</font></td><td>PetaBytes</td></tr>\n",
       "<tr><td>Working (cache) memory</td><td><font color=\"darkcyan\">0.466</font></td><td><font color=\"blue\">36.9</font></td><td>TeraBytes</td></tr>\n",
       "<tr><td>I/O Rate</td><td><font color=\"darkcyan\">0.373</font></td><td><font color=\"blue\">6.51</font></td><td>TeraBytes/s</td></tr>\n",
       "<tr><td>Total Compute Requirement</td><td><font color=\"darkcyan\">1.67</font></td><td><font color=\"blue\">127</font></td><td>PetaFLOPS</td></tr>\n",
       "<tr><td>-> Gridding</td><td><font color=\"darkcyan\">0.0554</font></td><td><font color=\"blue\">0.0588</font></td><td>PetaFLOPS</td></tr>\n",
       "<tr><td>-> FFT</td><td><font color=\"darkcyan\">1.56</font></td><td><font color=\"blue\">127</font></td><td>PetaFLOPS</td></tr>\n",
       "<tr><td>-> Projection</td><td><font color=\"darkcyan\">0</font></td><td><font color=\"blue\">0.00151</font></td><td>PetaFLOPS</td></tr>\n",
       "<tr><td>-> Convolution</td><td><font color=\"darkcyan\">0</font></td><td><font color=\"blue\">0</font></td><td>PetaFLOPS</td></tr>\n",
       "<tr><td>-> Phase Rotation</td><td><font color=\"darkcyan\">0.0535</font></td><td><font color=\"blue\">0.034</font></td><td>PetaFLOPS</td></tr>\n",
       "</table>"
      ],
      "text/plain": [
       "<IPython.core.display.HTML object>"
      ]
     },
     "metadata": {},
     "output_type": "display_data"
    },
    {
     "data": {
      "image/png": "[encoded data removed]",
      "text/plain": [
       "<matplotlib.figure.Figure at 0x10dd75350>"
      ]
     },
     "metadata": {},
     "output_type": "display_data"
    }
   ],
   "source": [
    "interact_manual(iapi.compare_telescopes_default, \n",
    "                telescope_1=available_teles, telescope_2=available_teles, band_1=available_bands,\n",
    "                band_2=available_bands, mode_1=available_modes_all, mode_2=available_modes_all,\n",
    "                verbose=verbose_display);"
   ]
  },
  {
   "cell_type": "markdown",
   "metadata": {},
   "source": [
    "## Using default values, can compute results for the High Priority Science Objectives"
   ]
  },
  {
   "cell_type": "code",
   "execution_count": 2,
   "metadata": {
    "collapsed": false,
    "scrolled": true
   },
   "outputs": [],
   "source": [
    "interact_manual(iapi.evaluate_hpso_optimized, hpso_key=available_hpsos, verbose=verbose_display);"
   ]
  },
  {
   "cell_type": "markdown",
   "metadata": {},
   "source": [
    "## We can also interactively play with parameters (via sliders)\n",
    "\n",
    "### The first option is automatic updating of results as the sliders are moved. This may be sluggish"
   ]
  },
  {
   "cell_type": "code",
   "execution_count": null,
   "metadata": {
    "collapsed": false
   },
   "outputs": [],
   "source": [
    "interact(iapi.evaluate_telescope_manual, max_baseline=(10000,200000), Nf_max = (1,256000,1), Nfacet=(1,10,1), Tsnap=(1.2,1800), \n",
    "         telescope=available_teles, band=available_bands, mode=available_modes_all, verbose=verbose_display);"
   ]
  },
  {
   "cell_type": "markdown",
   "metadata": {},
   "source": [
    "### The second option is manual triggering of recompute events (recommended). \n",
    "\n",
    "#### This allows more conveniently computing elaborate (slow) optimizations and visualizations per computation, as these are only run when required\n",
    "#### In this example, *Tsnap and Nfacet* are *automatically* chosen so as to minimize the value of Rflop"
   ]
  },
  {
   "cell_type": "code",
   "execution_count": null,
   "metadata": {
    "collapsed": false
   },
   "outputs": [],
   "source": [
    "interact_manual(iapi.evaluate_telescope_optimized, max_baseline=(10000,200000), Nf_max = (1,256000,1), telescope=available_teles, \n",
    "         band=available_bands, mode=available_modes_all, verbose=verbose_display);"
   ]
  },
  {
   "cell_type": "markdown",
   "metadata": {},
   "source": [
    "## illustrating 1D \"parameter sweep\" + visualization functionality."
   ]
  },
  {
   "cell_type": "code",
   "execution_count": 4,
   "metadata": {
    "collapsed": false
   },
   "outputs": [
    {
     "data": {
      "text/html": [
       "<font color=\"blue\">Computing the result -- this may take several (tens of) seconds.</font>"
      ],
      "text/plain": [
       "<IPython.core.display.HTML object>"
      ]
     },
     "metadata": {},
     "output_type": "display_data"
    },
    {
     "name": "stdout",
     "output_type": "stream",
     "text": [
      "Starting sweep of parameter Bmax, evaluating expression Rflop over range (30000, 150000) in 10 steps (i.e. 11 data points)\n",
      "using 2x2.5GHz subbands from 4.6-9.6GHz for band 5\n",
      "> 0.0% done: Evaluating Rflop for Bmax = 30000\n",
      "> 9.1% done: Evaluating Rflop for Bmax = 42000\n",
      "> 18.2% done: Evaluating Rflop for Bmax = 54000\n",
      "> 27.3% done: Evaluating Rflop for Bmax = 66000\n",
      "> 36.4% done: Evaluating Rflop for Bmax = 78000\n",
      "> 45.5% done: Evaluating Rflop for Bmax = 90000\n",
      "> 54.5% done: Evaluating Rflop for Bmax = 102000\n",
      "> 63.6% done: Evaluating Rflop for Bmax = 114000\n",
      "> 72.7% done: Evaluating Rflop for Bmax = 126000\n",
      "> 81.8% done: Evaluating Rflop for Bmax = 138000\n",
      "> 90.9% done: Evaluating Rflop for Bmax = 150000\n",
      "done with parameter sweep!\n"
     ]
    },
    {
     "data": {
      "image/png": "[encoded data removed]",
      "text/plain": [
       "<matplotlib.figure.Figure at 0x1132c0710>"
      ]
     },
     "metadata": {},
     "output_type": "display_data"
    },
    {
     "name": "stdout",
     "output_type": "stream",
     "text": [
      "30000.0 , 0.520447651131\n",
      "42000.0 , 1.44619412305\n",
      "54000.0 , 3.12071117767\n",
      "66000.0 , 5.77874546931\n",
      "78000.0 , 9.65845619023\n",
      "90000.0 , 15.000357222\n",
      "102000.0 , 22.050549863\n",
      "114000.0 , 45.4477822008\n",
      "126000.0 , 61.8475539098\n",
      "138000.0 , 81.8454297872\n",
      "150000.0 , 105.792592726\n"
     ]
    }
   ],
   "source": [
    "from IPython.display import display, HTML\n",
    "\n",
    "expression = 'Rflop'\n",
    "parameter = 'Bmax'\n",
    "param_val_min =30000\n",
    "param_val_max = 150000\n",
    "number_steps = 10\n",
    "telescope = Telescopes.SKA1_Mid\n",
    "immode = ImagingModes.FastImg\n",
    "band=Bands.Mid5C\n",
    "\n",
    "display(HTML('<font color=\"blue\">Computing the result -- this may take several (tens of) seconds.</font>'))\n",
    "(param_values, results) = iapi.eval_param_sweep_1d(telescope, immode, band=band, \n",
    "                                                   expression=expression, parameter=parameter, param_val_min=param_val_min,\n",
    "                                                   param_val_max=param_val_max, number_steps=number_steps, verbose=False)\n",
    "header = 'Plotting Spectral PetaFLOPS for %s in %s mode as a function of %s' % (telescope, immode, parameter)\n",
    "iapi.plot_line_datapoints(header, param_values, np.array(results)/c.peta, xlabel=parameter, ylabel=expression)\n",
    "\n",
    "for i in range(len(param_values)):\n",
    "               print param_values[i], \",\", (results[i])/c.peta"
   ]
  },
  {
   "cell_type": "markdown",
   "metadata": {},
   "source": [
    "## illustrating 2D \"parameter sweep\" + visualization functionality."
   ]
  },
  {
   "cell_type": "code",
   "execution_count": null,
   "metadata": {
    "collapsed": false
   },
   "outputs": [
    {
     "data": {
      "text/html": [
       "<font color=\"blue\">Computing the result -- this may take several (tens of) seconds.</font>"
      ],
      "text/plain": [
       "<IPython.core.display.HTML object>"
      ]
     },
     "metadata": {},
     "output_type": "display_data"
    },
    {
     "name": "stdout",
     "output_type": "stream",
     "text": [
      "Evaluating expression Rflop while\n",
      "sweeping parameters Bmax and Tobs over 2D domain [30000, 150000] x [0.15, 2.0] in 4 steps each,\n",
      "for a total of 25 data evaluation points\n",
      "Warning: Tsnap_min overwritten in equations.py file because observation was shorter than 10s\n",
      "> 0.0% done: Evaluating Rflop for (Bmax, Tobs) = (30000.0, 0.15)\n",
      "Warning: Tsnap_min overwritten in equations.py file because observation was shorter than 10s\n",
      "> 4.0% done: Evaluating Rflop for (Bmax, Tobs) = (30000.0, 0.6125)\n",
      "Warning: Tsnap_min overwritten in equations.py file because observation was shorter than 10s\n",
      "> 8.0% done: Evaluating Rflop for (Bmax, Tobs) = (30000.0, 1.075)\n",
      "Warning: Tsnap_min overwritten in equations.py file because observation was shorter than 10s\n",
      "> 12.0% done: Evaluating Rflop for (Bmax, Tobs) = (30000.0, 1.5375)\n",
      "Warning: Tsnap_min overwritten in equations.py file because observation was shorter than 10s\n",
      "> 16.0% done: Evaluating Rflop for (Bmax, Tobs) = (30000.0, 2.0)\n",
      "Warning: Tsnap_min overwritten in equations.py file because observation was shorter than 10s\n",
      "> 20.0% done: Evaluating Rflop for (Bmax, Tobs) = (60000.0, 0.15)\n",
      "Warning: Tsnap_min overwritten in equations.py file because observation was shorter than 10s\n",
      "> 24.0% done: Evaluating Rflop for (Bmax, Tobs) = (60000.0, 0.6125)\n",
      "Warning: Tsnap_min overwritten in equations.py file because observation was shorter than 10s\n",
      "> 28.0% done: Evaluating Rflop for (Bmax, Tobs) = (60000.0, 1.075)\n",
      "Warning: Tsnap_min overwritten in equations.py file because observation was shorter than 10s\n",
      "> 32.0% done: Evaluating Rflop for (Bmax, Tobs) = (60000.0, 1.5375)\n",
      "Warning: Tsnap_min overwritten in equations.py file because observation was shorter than 10s\n",
      "> 36.0% done: Evaluating Rflop for (Bmax, Tobs) = (60000.0, 2.0)\n",
      "Warning: Tsnap_min overwritten in equations.py file because observation was shorter than 10s\n",
      "> 40.0% done: Evaluating Rflop for (Bmax, Tobs) = (90000.0, 0.15)"
     ]
    }
   ],
   "source": [
    "from IPython.display import display, HTML\n",
    "\n",
    "telescope = Telescopes.SKA1_Mid\n",
    "band = Bands.Mid1\n",
    "immode = ImagingModes.FastImg\n",
    "expression = 'Rflop'\n",
    "parameters = ('Bmax', 'Tobs')\n",
    "parameter_ranges = ((30000,150000),(0.15,2.0))\n",
    "number_steps = 4\n",
    "verbose = False\n",
    "\n",
    "display(HTML('<font color=\"blue\">Computing the result -- this may take several (tens of) seconds.</font>'))\n",
    "(p1_values, p2_values, results) = iapi.eval_param_sweep_2d(telescope, immode, band=band, \n",
    "                                                           expression=expression, parameters=parameters, \n",
    "                                                           params_ranges=parameter_ranges, number_steps=number_steps, \n",
    "                                                           verbose=verbose)\n",
    "\n",
    "\n",
    "iapi.plot_2D_surface('PetaFLOP rate vs #Channels & Max Baseline', p1_values, p2_values, results/1e15, xlabel=parameters[0], \n",
    "                     ylabel=parameters[1], contours=np.array((0.5, 1.0)))\n",
    "iapi.plot_3D_surface('PetaFLOP rate vs #Channels & Max Baseline', p1_values, p2_values, results/1e15, xlabel=parameters[0], \n",
    "                     ylabel=parameters[1], zlabel=expression, contours=np.array((0.5, 1.0)))\n",
    "print results/1e15"
   ]
  },
  {
   "cell_type": "code",
   "execution_count": 3,
   "metadata": {
    "collapsed": false
   },
   "outputs": [
    {
     "name": "stdout",
     "output_type": "stream",
     "text": [
      "[[  40.13265587  254.19929784]\n",
      " [   5.51404566   50.92312652]]\n"
     ]
    }
   ],
   "source": [
    "print results/1e15"
   ]
  },
  {
   "cell_type": "code",
   "execution_count": null,
   "metadata": {
    "collapsed": true
   },
   "outputs": [],
   "source": []
  }
 ],
 "metadata": {
  "kernelspec": {
   "display_name": "Python 2",
   "language": "python",
   "name": "python2"
  },
  "language_info": {
   "codemirror_mode": {
    "name": "ipython",
    "version": 2
   },
   "file_extension": ".py",
   "mimetype": "text/x-python",
   "name": "python",
   "nbconvert_exporter": "python",
   "pygments_lexer": "ipython2",
   "version": "2.7.11"
  }
 },
 "nbformat": 4,
 "nbformat_minor": 0
}
