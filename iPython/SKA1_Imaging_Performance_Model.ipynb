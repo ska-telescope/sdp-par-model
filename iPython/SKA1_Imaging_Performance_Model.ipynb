{
 "cells": [
  {
   "cell_type": "markdown",
   "metadata": {},
   "source": [
    "# This notebook provides interactive widgets to play with the imaging requirements for the SKA1 SDP\n",
    "\n",
    "This notebook was previously tested with IPython notebook 4.1.0 using Python 2.7. If you have trouble running this notebook, please check version compatibility.\n",
    "\n",
    "Last run with Jupyter Notebook 5.0.0 running Python 3.5.2\n",
    "\n",
    "## First, do the necessary set-up (run the code block below, first)\n",
    "\n",
    "These first few lines below import the IPython definitions and methods that we will use. \n",
    "Please Refer to `ipython_api.py` for the implementation:"
   ]
  },
  {
   "cell_type": "code",
   "execution_count": null,
   "metadata": {
    "collapsed": true,
    "scrolled": true
   },
   "outputs": [],
   "source": [
    "from __future__ import print_function\n",
    "import sys\n",
    "from ipywidgets import interact, interact_manual, fixed, ToggleButtons, Select, SelectMultiple, Text, Layout\n",
    "sys.path+=['..']\n",
    "from sdp_par_model import reports as iapi\n",
    "from sdp_par_model.config import PipelineConfig\n",
    "from sdp_par_model.parameters.definitions import *\n",
    "from sdp_par_model.parameters.definitions import Constants as c\n",
    "%matplotlib inline\n",
    "\n",
    "verbose_display     = ['Overview', 'Details', 'Debug']\n",
    "def toggles(opts, *args, **kwargs): return ToggleButtons(options=opts, *args, **kwargs)\n",
    "def adjusts(): return Text(placeholder='e.g. blcoal=False Bmax=40*1000 Nsource=100', layout=Layout(width='95%'))"
   ]
  },
  {
   "cell_type": "code",
   "execution_count": null,
   "metadata": {},
   "outputs": [],
   "source": [
    "%%javascript\n",
    "IPython.OutputArea.prototype._should_scroll = function(lines) {return false;}"
   ]
  },
  {
   "cell_type": "markdown",
   "metadata": {},
   "source": [
    "## Using default values, we can compare telescopes side-by-side"
   ]
  },
  {
   "cell_type": "code",
   "execution_count": null,
   "metadata": {
    "collapsed": true,
    "scrolled": false
   },
   "outputs": [],
   "source": [
    "interact_manual(iapi.compare_telescopes_default,\n",
    "                telescope_1=toggles(Telescopes.available_teles, description=\"telescope1\"),\n",
    "                telescope_2=toggles(Telescopes.available_teles, description=\"telescope2\"),\n",
    "                band_1=toggles(Bands.available_bands),\n",
    "                band_2=toggles(Bands.available_bands),\n",
    "                pipeline_1=toggles(Pipelines.available_pipelines),\n",
    "                pipeline_2=toggles(Pipelines.available_pipelines),\n",
    "                adjusts_1=adjusts(),\n",
    "                adjusts_2=adjusts(),\n",
    "                verbosity=toggles(verbose_display));"
   ]
  },
  {
   "cell_type": "markdown",
   "metadata": {},
   "source": [
    "## Using default values, can compute results for the High Priority Science Objectives"
   ]
  },
  {
   "cell_type": "code",
   "execution_count": null,
   "metadata": {
    "collapsed": true,
    "scrolled": false
   },
   "outputs": [],
   "source": [
    "interact(iapi.evaluate_hpso_optimized,\n",
    "         hpso_pipe=toggles(HPSOs.available_hpsos),\n",
    "         verbosity=toggles(verbose_display));"
   ]
  },
  {
   "cell_type": "markdown",
   "metadata": {},
   "source": [
    "## We can also interactively play with parameters (via sliders)\n",
    "\n",
    "The first option is automatic updating of results as the sliders are moved. This may be sluggish"
   ]
  },
  {
   "cell_type": "code",
   "execution_count": null,
   "metadata": {
    "collapsed": true,
    "scrolled": false
   },
   "outputs": [],
   "source": [
    "interact(iapi.evaluate_telescope_manual,\n",
    "         max_baseline=(10000,200000), Nf_max = (1,2**17,1), Nfacet=(1,10,1), Tsnap=(1.2,1800), \n",
    "         telescope=toggles(Telescopes.available_teles), band=toggles(Bands.available_bands),\n",
    "         pipeline=toggles(Pipelines.available_pipelines), verbosity=toggles(verbose_display));"
   ]
  },
  {
   "cell_type": "markdown",
   "metadata": {},
   "source": [
    "### The second option is manual triggering of recompute events (recommended). \n",
    "\n",
    "This allows more conveniently computing elaborate (slow) optimizations and visualizations per computation, as these are only run when required\n",
    "In this example, *Tsnap and Nfacet* are *automatically* chosen so as to minimize the value of Rflop"
   ]
  },
  {
   "cell_type": "code",
   "execution_count": null,
   "metadata": {
    "collapsed": true
   },
   "outputs": [],
   "source": [
    "interact_manual(iapi.evaluate_telescope_optimized,\n",
    "                max_baseline=(10000,200000), Nf_max = (1,256000,1), telescope=toggles(Telescopes.available_teles), \n",
    "                band=toggles(Bands.available_bands), pipeline=toggles(Pipelines.available_pipelines),\n",
    "                verbosity=toggles(verbose_display));"
   ]
  },
  {
   "cell_type": "markdown",
   "metadata": {},
   "source": [
    "## 1D \"parameter sweep\" + visualization functionality\n",
    "\n",
    "Tests a range of values for some parameter and generates a graph for an expression."
   ]
  },
  {
   "cell_type": "code",
   "execution_count": null,
   "metadata": {
    "collapsed": true
   },
   "outputs": [],
   "source": [
    "from IPython.display import display, HTML\n",
    "\n",
    "expression = 'Rflop'\n",
    "parameter = 'Tobs'\n",
    "param_val_min = 3600\n",
    "param_val_max = 360000\n",
    "number_steps = 99\n",
    "telescope = Telescopes.SKA1_Low\n",
    "pipeline = Pipelines.ICAL\n",
    "expr_scale = c.peta\n",
    "band=Bands.Low\n",
    "\n",
    "display(HTML('<font color=\"blue\">Computing the result -- this may take several (tens of) seconds.</font>'))\n",
    "cfg = PipelineConfig(telescope=telescope, pipeline=pipeline, band=band)\n",
    "(param_values, results) = cfg.eval_param_sweep_1d(expression_string=expression, parameter_string=parameter, \n",
    "                                                   param_val_min=param_val_min, param_val_max=param_val_max, \n",
    "                                                   number_steps=number_steps, verbose=False)\n",
    "header = 'Plotting %s/%g for %s in pipeline %s as a function of %s' % \\\n",
    "   (expression, expr_scale, telescope, pipeline, parameter)\n",
    "iapi.plot_line_datapoints(header, param_values, np.array(results)/expr_scale, xlabel=parameter, ylabel=expression)\n",
    "\n",
    "for i in range(len(param_values)):\n",
    "    print(param_values[i], \",\", (results[i])/c.peta)"
   ]
  },
  {
   "cell_type": "markdown",
   "metadata": {},
   "source": [
    "## 2D \"parameter sweep\" + visualization functionality\n",
    "\n",
    "Same as 1D sweep, but varies two parameters to build a 2D graph."
   ]
  },
  {
   "cell_type": "code",
   "execution_count": null,
   "metadata": {
    "collapsed": true,
    "scrolled": true
   },
   "outputs": [],
   "source": [
    "from IPython.display import display, HTML\n",
    "\n",
    "telescope = Telescopes.SKA1_Mid\n",
    "band = Bands.Mid1\n",
    "pipeline = Pipelines.FastImg\n",
    "expression = 'Rflop'\n",
    "parameters = ('Bmax', 'Tobs')\n",
    "parameter_ranges = ((30000,150000),(0.15,2.0))\n",
    "number_steps = 4\n",
    "verbose = False\n",
    "\n",
    "display(HTML('<font color=\"blue\">Computing the result -- this may take several (tens of) seconds.</font>'))\n",
    "cfg = PipelineConfig(telescope=telescope, pipeline=pipeline, band=band)\n",
    "(p1_values, p2_values, results) = cfg.eval_param_sweep_2d(expression_string=expression, parameters=parameters, \n",
    "                                                           params_ranges=parameter_ranges, number_steps=number_steps, \n",
    "                                                           verbose=verbose)\n",
    "\n",
    "\n",
    "iapi.plot_2D_surface('%s/1e15 rate vs #Channels & Max Baseline' % expression,\n",
    "                     p1_values, p2_values, results/1e15, xlabel=parameters[0], \n",
    "                     ylabel=parameters[1], contours=np.array((0.5, 1.0)))\n",
    "iapi.plot_3D_surface('%s/1e15 rate vs #Channels & Max Baseline' % expression,\n",
    "                     p1_values, p2_values, results/1e15, xlabel=parameters[0], \n",
    "                     ylabel=parameters[1], zlabel=expression, contours=np.array((0.5, 1.0)))"
   ]
  },
  {
   "cell_type": "code",
   "execution_count": null,
   "metadata": {
    "collapsed": true
   },
   "outputs": [],
   "source": []
  }
 ],
 "metadata": {
  "anaconda-cloud": {},
  "kernelspec": {
   "display_name": "Python [default]",
   "language": "python",
   "name": "python3"
  },
  "language_info": {
   "codemirror_mode": {
    "name": "ipython",
    "version": 3
   },
   "file_extension": ".py",
   "mimetype": "text/x-python",
   "name": "python",
   "nbconvert_exporter": "python",
   "pygments_lexer": "ipython3",
   "version": "3.5.2"
  }
 },
 "nbformat": 4,
 "nbformat_minor": 1
}
