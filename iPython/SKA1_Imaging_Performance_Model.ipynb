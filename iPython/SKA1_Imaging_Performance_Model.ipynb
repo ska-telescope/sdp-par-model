{
 "cells": [
  {
   "cell_type": "markdown",
   "metadata": {},
   "source": [
    "# This notebook provides interactive widgets to play with the imaging requirements for the SKA1 SDP\n",
    "\n",
    "## First, do the necessary set-up (run the code block below, first)"
   ]
  },
  {
   "cell_type": "code",
   "execution_count": 1,
   "metadata": {
    "collapsed": false
   },
   "outputs": [
    {
     "name": "stderr",
     "output_type": "stream",
     "text": [
      "C:\\Anaconda\\lib\\site-packages\\IPython\\html.py:14: ShimWarning: The `IPython.html` package has been deprecated. You should import from `notebook` instead. `IPython.html.widgets` has moved to `ipywidgets`.\n",
      "  \"`IPython.html.widgets` has moved to `ipywidgets`.\", ShimWarning)\n"
     ]
    }
   ],
   "source": [
    "\"\"\" These first few lines below import the IPython definitions and methods that we will use. \n",
    "Please Refer to ipython_api.py for the implementation \"\"\"\n",
    "# NB Recent versions of IPython require that \"ipywidgets\" be installed separately for the import line below to work.\n",
    "from IPython.html.widgets import interact, interactive, fixed\n",
    "from IPython.html.widgets.interaction import interact_manual\n",
    "from IPython.html import widgets\n",
    "from api_ipython import SkaIPythonAPI as iapi\n",
    "from parameter_definitions import *\n",
    "from parameter_definitions import Constants as c\n",
    "from implementation import Implementation as imp\n",
    "\n",
    "%matplotlib inline\n",
    "\n",
    "# The lines below define the available telescopes, bands and modes that may be chosen.\n",
    "\n",
    "available_teles = (Telescopes.SKA1_Low, Telescopes.SKA1_Low_old, Telescopes.SKA1_Mid, Telescopes.SKA1_Mid_old, \n",
    "                   Telescopes.SKA1_Sur_old, Telescopes.SKA2_Low, Telescopes.SKA2_Mid)\n",
    "available_bands = (Bands.Low, \n",
    "                   Bands.Mid1, Bands.Mid2, Bands.Mid5A, Bands.Mid5B, \n",
    "                   Bands.Sur1)\n",
    "available_modes     = (ImagingModes.Continuum, ImagingModes.Spectral, ImagingModes.FastImg)\n",
    "available_modes_all = (ImagingModes.Continuum, ImagingModes.Spectral, ImagingModes.FastImg, ImagingModes.All)\n",
    "verbose_display = False"
   ]
  },
  {
   "cell_type": "markdown",
   "metadata": {},
   "source": [
    "## Debug"
   ]
  },
  {
   "cell_type": "code",
   "execution_count": null,
   "metadata": {
    "collapsed": false
   },
   "outputs": [],
   "source": [
    "from IPython.display import display, HTML\n",
    "\n",
    "expression = 'x*y'\n",
    "parameters = ('x', 'y')\n",
    "parameter_ranges = ((-1,2),(-1,2))\n",
    "number_steps = 15\n",
    "verbose = False\n",
    "\n",
    "display(HTML('<font color=\"blue\">Computing the result -- this may take several (tens of) seconds.</font>'))\n",
    "(p1_values, p2_values, results) = iapi.eval_param_sweep_2d_dummy(expression=expression, parameters=parameters, \n",
    "                                                           params_ranges=parameter_ranges, number_steps=number_steps)\n",
    "\n",
    "\n",
    "iapi.plot_2D_surface('Test 2D', p1_values, p2_values, results, xlabel=parameters[0], \n",
    "                     ylabel=parameters[1], contours=np.array((0.5, 1.0)))\n",
    "iapi.plot_3D_surface('Test 3D', p1_values, p2_values, results, xlabel=parameters[0], \n",
    "                     ylabel=parameters[1], zlabel=expression, contours=np.array((0.5, 1.0)))"
   ]
  },
  {
   "cell_type": "markdown",
   "metadata": {},
   "source": [
    "## Using default values, we can compare telescopes side-by-side"
   ]
  },
  {
   "cell_type": "code",
   "execution_count": 2,
   "metadata": {
    "collapsed": false
   },
   "outputs": [
    {
     "data": {
      "text/html": [
       "<font color=\"blue\">Computing the result -- this may take several (tens of) seconds.</font>"
      ],
      "text/plain": [
       "<IPython.core.display.HTML object>"
      ]
     },
     "metadata": {},
     "output_type": "display_data"
    },
    {
     "data": {
      "text/html": [
       "<font color=\"blue\">Done computing. Results follow:</font>"
      ],
      "text/plain": [
       "<IPython.core.display.HTML object>"
      ]
     },
     "metadata": {},
     "output_type": "display_data"
    },
    {
     "data": {
      "text/html": [
       "<h4>Computed Values:</h4><table>\n",
       "<tr><td>Telescope</td><td><font color=\"darkcyan\">SKA1_Mid_rebaselined</font></td><td><font color=\"blue\">SKA1_Mid_rebaselined</font></td><td></td></tr>\n",
       "<tr><td>Band</td><td><font color=\"darkcyan\">Mid1</font></td><td><font color=\"blue\">Mid1</font></td><td></td></tr>\n",
       "<tr><td>Mode</td><td><font color=\"darkcyan\">Continuum</font></td><td><font color=\"blue\">Spectral</font></td><td></td></tr>\n",
       "<tr><td>Baseline Dependent Time Avg.</td><td><font color=\"darkcyan\">True</font></td><td><font color=\"blue\">True</font></td><td></td></tr>\n",
       "<tr><td>Max Baseline</td><td><font color=\"darkcyan\">150000</font></td><td><font color=\"blue\">150000</font></td><td>m</td></tr>\n",
       "<tr><td>Max # channels</td><td><font color=\"darkcyan\">65536</font></td><td><font color=\"blue\">65536</font></td><td></td></tr>\n",
       "<tr><td>Optimal Number of Facets</td><td><font color=\"darkcyan\">4</font></td><td><font color=\"blue\">4</font></td><td></td></tr>\n",
       "<tr><td>Optimal Snapshot Time</td><td><font color=\"darkcyan\">210.3</font></td><td><font color=\"blue\">573.0</font></td><td>sec.</td></tr>\n",
       "<tr><td>Visibility Buffer</td><td><font color=\"darkcyan\">4</font></td><td><font color=\"blue\">4</font></td><td>PetaBytes</td></tr>\n",
       "<tr><td>Working (cache) memory</td><td><font color=\"darkcyan\">4e+03</font></td><td><font color=\"blue\">2.68e+03</font></td><td>TeraBytes</td></tr>\n",
       "<tr><td>Image side length</td><td><font color=\"darkcyan\">4.39e+04</font></td><td><font color=\"blue\">2.44e+04</font></td><td>pixels</td></tr>\n",
       "<tr><td>I/O Rate</td><td><font color=\"darkcyan\">17.4</font></td><td><font color=\"blue\">3.96</font></td><td>TeraBytes/s</td></tr>\n",
       "<tr><td>Total Compute Requirement</td><td><font color=\"darkcyan\">57.5</font></td><td><font color=\"blue\">8.09</font></td><td>PetaFLOPS</td></tr>\n",
       "<tr><td>-> Gridding</td><td><font color=\"darkcyan\">17</font></td><td><font color=\"blue\">2.25</font></td><td>PetaFLOPS</td></tr>\n",
       "<tr><td>-> FFT</td><td><font color=\"darkcyan\">33.7</font></td><td><font color=\"blue\">1.02</font></td><td>PetaFLOPS</td></tr>\n",
       "<tr><td>-> Projection</td><td><font color=\"darkcyan\">0.0344</font></td><td><font color=\"blue\">0.00612</font></td><td>PetaFLOPS</td></tr>\n",
       "<tr><td>-> Convolution</td><td><font color=\"darkcyan\">1.76</font></td><td><font color=\"blue\">3.92</font></td><td>PetaFLOPS</td></tr>\n",
       "<tr><td>-> Phase Rotation</td><td><font color=\"darkcyan\">5.05</font></td><td><font color=\"blue\">0.897</font></td><td>PetaFLOPS</td></tr>\n",
       "</table>"
      ],
      "text/plain": [
       "<IPython.core.display.HTML object>"
      ]
     },
     "metadata": {},
     "output_type": "display_data"
    },
    {
     "data": {
      "image/png": "[encoded data removed]",
      "text/plain": [
       "<matplotlib.figure.Figure at 0x1edeadd8>"
      ]
     },
     "metadata": {},
     "output_type": "display_data"
    }
   ],
   "source": [
    "interact_manual(iapi.compare_telescopes_default, \n",
    "                telescope_1=available_teles, telescope_2=available_teles, band_1=available_bands,\n",
    "                band_2=available_bands, mode_1=available_modes_all, mode_2=available_modes_all,\n",
    "                verbose=verbose_display);"
   ]
  },
  {
   "cell_type": "markdown",
   "metadata": {},
   "source": [
    "## We can also interactively play with parameters (via sliders)\n",
    "\n",
    "### The first option is automatic updating of results as the sliders are moved. This may be sluggish"
   ]
  },
  {
   "cell_type": "code",
   "execution_count": 2,
   "metadata": {
    "collapsed": false
   },
   "outputs": [
    {
     "data": {
      "text/html": [
       "<h3>Arguments:</h3><table>\n",
       "<tr><td>Max Baseline</td><td><font color=\"blue\">54839</font> m</td></tr>\n",
       "<tr><td>Max # of channels</td><td><font color=\"blue\">128000</font> </td></tr>\n",
       "<tr><td>Telescope</td><td><font color=\"blue\">SKA1_Low_rebaselined</font> </td></tr>\n",
       "<tr><td>Band</td><td><font color=\"blue\">Low</font> </td></tr>\n",
       "<tr><td>Mode</td><td><font color=\"blue\">All, Summed (Cont+Spec+FastImg)</font> </td></tr>\n",
       "<tr><td>Tsnap</td><td><font color=\"blue\">900.6</font> sec</td></tr>\n",
       "<tr><td>Nfacet</td><td><font color=\"blue\">5</font> </td></tr>\n",
       "</table>"
      ],
      "text/plain": [
       "<IPython.core.display.HTML object>"
      ]
     },
     "metadata": {},
     "output_type": "display_data"
    },
    {
     "ename": "Exception",
     "evalue": "Unknown mode: All, Summed (Cont+Spec+FastImg)!",
     "output_type": "error",
     "traceback": [
      "\u001b[1;31m---------------------------------------------------------------------------\u001b[0m",
      "\u001b[1;31mException\u001b[0m                                 Traceback (most recent call last)",
      "\u001b[1;32mW:\\sdp-par-model\\iPython\\api_ipython.py\u001b[0m in \u001b[0;36mevaluate_telescope_manual\u001b[1;34m(telescope, band, mode, max_baseline, Nf_max, Nfacet, Tsnap, bldta, on_the_fly, verbose)\u001b[0m\n\u001b[0;32m    402\u001b[0m             tp = imp.calc_tel_params(telescope=telescope, mode=mode, band=band, bldta=bldta,\n\u001b[0;32m    403\u001b[0m                                      \u001b[0mmax_baseline\u001b[0m\u001b[1;33m=\u001b[0m\u001b[0mmax_baseline\u001b[0m\u001b[1;33m,\u001b[0m \u001b[0mnr_frequency_channels\u001b[0m\u001b[1;33m=\u001b[0m\u001b[0mNf_max\u001b[0m\u001b[1;33m,\u001b[0m \u001b[0motfk\u001b[0m\u001b[1;33m=\u001b[0m\u001b[0mon_the_fly\u001b[0m\u001b[1;33m,\u001b[0m\u001b[1;33m\u001b[0m\u001b[0m\n\u001b[1;32m--> 404\u001b[1;33m                                      verbose=verbose)  # Calculate the telescope parameters\n\u001b[0m\u001b[0;32m    405\u001b[0m \u001b[1;33m\u001b[0m\u001b[0m\n\u001b[0;32m    406\u001b[0m             \u001b[1;31m# The result expressions need to be defined here as they depend on tp (updated in the line above)\u001b[0m\u001b[1;33m\u001b[0m\u001b[1;33m\u001b[0m\u001b[0m\n",
      "\u001b[1;32mW:\\sdp-par-model\\iPython\\implementation.pyc\u001b[0m in \u001b[0;36mcalc_tel_params\u001b[1;34m(telescope, mode, band, hpso, bldta, otfk, max_baseline, nr_frequency_channels, verbose)\u001b[0m\n\u001b[0;32m     83\u001b[0m         \u001b[1;32mif\u001b[0m \u001b[0mband\u001b[0m \u001b[1;32mis\u001b[0m \u001b[1;32mnot\u001b[0m \u001b[0mNone\u001b[0m\u001b[1;33m:\u001b[0m\u001b[1;33m\u001b[0m\u001b[0m\n\u001b[0;32m     84\u001b[0m             \u001b[0mp\u001b[0m\u001b[1;33m.\u001b[0m\u001b[0mapply_band_parameters\u001b[0m\u001b[1;33m(\u001b[0m\u001b[0mtelescope_params\u001b[0m\u001b[1;33m,\u001b[0m \u001b[0mband\u001b[0m\u001b[1;33m)\u001b[0m\u001b[1;33m\u001b[0m\u001b[0m\n\u001b[1;32m---> 85\u001b[1;33m             \u001b[0mp\u001b[0m\u001b[1;33m.\u001b[0m\u001b[0mapply_imaging_mode_parameters\u001b[0m\u001b[1;33m(\u001b[0m\u001b[0mtelescope_params\u001b[0m\u001b[1;33m,\u001b[0m \u001b[0mmode\u001b[0m\u001b[1;33m)\u001b[0m\u001b[1;33m\u001b[0m\u001b[0m\n\u001b[0m\u001b[0;32m     86\u001b[0m         \u001b[1;32melse\u001b[0m\u001b[1;33m:\u001b[0m\u001b[1;33m\u001b[0m\u001b[0m\n\u001b[0;32m     87\u001b[0m             \u001b[1;31m# This has to be an HPSO case\u001b[0m\u001b[1;33m\u001b[0m\u001b[1;33m\u001b[0m\u001b[0m\n",
      "\u001b[1;32mW:\\sdp-par-model\\iPython\\parameter_definitions.pyc\u001b[0m in \u001b[0;36mapply_imaging_mode_parameters\u001b[1;34m(o, mode)\u001b[0m\n\u001b[0;32m    424\u001b[0m \u001b[1;33m\u001b[0m\u001b[0m\n\u001b[0;32m    425\u001b[0m         \u001b[1;32melse\u001b[0m\u001b[1;33m:\u001b[0m\u001b[1;33m\u001b[0m\u001b[0m\n\u001b[1;32m--> 426\u001b[1;33m             \u001b[1;32mraise\u001b[0m \u001b[0mException\u001b[0m\u001b[1;33m(\u001b[0m\u001b[1;34m'Unknown mode: %s!'\u001b[0m \u001b[1;33m%\u001b[0m \u001b[0mstr\u001b[0m\u001b[1;33m(\u001b[0m\u001b[0mmode\u001b[0m\u001b[1;33m)\u001b[0m\u001b[1;33m)\u001b[0m\u001b[1;33m\u001b[0m\u001b[0m\n\u001b[0m\u001b[0;32m    427\u001b[0m \u001b[1;33m\u001b[0m\u001b[0m\n\u001b[0;32m    428\u001b[0m         \u001b[1;32mreturn\u001b[0m \u001b[0mo\u001b[0m\u001b[1;33m\u001b[0m\u001b[0m\n",
      "\u001b[1;31mException\u001b[0m: Unknown mode: All, Summed (Cont+Spec+FastImg)!"
     ]
    }
   ],
   "source": [
    "interact(iapi.evaluate_telescope_manual, max_baseline=(10000,200000), Nf_max = (1,256000,1), Nfacet=(1,10,1), Tsnap=(1.2,1800), \n",
    "         telescope=available_teles, band=available_bands, mode=available_modes_all, verbose=verbose_display);"
   ]
  },
  {
   "cell_type": "markdown",
   "metadata": {},
   "source": [
    "### The second option is manual triggering of recompute events (recommended). \n",
    "\n",
    "#### This allows more conveniently computing elaborate (slow) optimizations and visualizations per computation, as these are only run when required\n",
    "#### In this example, *Tsnap and Nfacet* are *automatically* chosen so as to minimize the value of Rflop"
   ]
  },
  {
   "cell_type": "code",
   "execution_count": 3,
   "metadata": {
    "collapsed": false
   },
   "outputs": [
    {
     "data": {
      "text/html": [
       "<h3>Arguments:</h3><table>\n",
       "<tr><td>Max Baseline</td><td><font color=\"blue\">49780</font> m</td></tr>\n",
       "<tr><td>Max # of channels</td><td><font color=\"blue\">128000</font> </td></tr>\n",
       "<tr><td>Telescope</td><td><font color=\"blue\">SKA1_Low_rebaselined</font> </td></tr>\n",
       "<tr><td>Band</td><td><font color=\"blue\">Low</font> </td></tr>\n",
       "<tr><td>Mode</td><td><font color=\"blue\">All, Summed (Cont+Spec+FastImg)</font> </td></tr>\n",
       "</table>"
      ],
      "text/plain": [
       "<IPython.core.display.HTML object>"
      ]
     },
     "metadata": {},
     "output_type": "display_data"
    },
    {
     "data": {
      "text/html": [
       "<font color=\"blue\">Computing the result -- this may take several (tens of) seconds.</font>"
      ],
      "text/plain": [
       "<IPython.core.display.HTML object>"
      ]
     },
     "metadata": {},
     "output_type": "display_data"
    }
   ],
   "source": [
    "interact_manual(iapi.evaluate_telescope_optimized, max_baseline=(10000,200000), Nf_max = (1,256000,1), telescope=available_teles, \n",
    "         band=available_bands, mode=available_modes_all, verbose=verbose_display);"
   ]
  },
  {
   "cell_type": "markdown",
   "metadata": {},
   "source": [
    "## illustrating 1D \"parameter sweep\" + visualization functionality."
   ]
  },
  {
   "cell_type": "code",
   "execution_count": null,
   "metadata": {
    "collapsed": false
   },
   "outputs": [],
   "source": [
    "from IPython.display import display, HTML\n",
    "\n",
    "expression = 'Rflop'\n",
    "parameter = 'amp_f_max'\n",
    "param_val_min = 1.01\n",
    "param_val_max = 1.06\n",
    "number_steps = 7\n",
    "telescope = Telescopes.SKA1_Mid\n",
    "immode = ImagingModes.Continuum\n",
    "band=Bands.Mid1\n",
    "\n",
    "display(HTML('<font color=\"blue\">Computing the result -- this may take several (tens of) seconds.</font>'))\n",
    "(param_values, results) = iapi.eval_param_sweep_1d(telescope, immode, band=band, \n",
    "                                                   expression=expression, parameter=parameter, param_val_min=param_val_min,\n",
    "                                                   param_val_max=param_val_max, number_steps=number_steps, verbose=False)\n",
    "header = 'Plotting Spectral PetaFLOPS for %s in %s mode as a function of %s' % (telescope, immode, parameter)\n",
    "iapi.plot_line_datapoints(header, param_values, np.array(results)/c.peta, xlabel=parameter, ylabel=expression)"
   ]
  },
  {
   "cell_type": "markdown",
   "metadata": {},
   "source": [
    "## illustrating 2D \"parameter sweep\" + visualization functionality."
   ]
  },
  {
   "cell_type": "code",
   "execution_count": null,
   "metadata": {
    "collapsed": false
   },
   "outputs": [],
   "source": [
    "from IPython.display import display, HTML\n",
    "\n",
    "telescope = Telescopes.SKA1_Low\n",
    "band = Bands.Low\n",
    "immode = ImagingModes.Spectral\n",
    "expression = 'Rflop'\n",
    "parameters = ('Na', 'Bmax')\n",
    "parameter_ranges = ((100,512),(40000,80000))\n",
    "number_steps = 5\n",
    "verbose = False\n",
    "\n",
    "display(HTML('<font color=\"blue\">Computing the result -- this may take several (tens of) seconds.</font>'))\n",
    "(p1_values, p2_values, results) = iapi.eval_param_sweep_2d(telescope, immode, band=band, \n",
    "                                                           expression=expression, parameters=parameters, \n",
    "                                                           params_ranges=parameter_ranges, number_steps=number_steps, \n",
    "                                                           verbose=verbose)\n",
    "\n",
    "\n",
    "iapi.plot_2D_surface('PetaFLOP rate vs #Channels & Max Baseline', p1_values, p2_values, results/1e15, xlabel=parameters[0], \n",
    "                     ylabel=parameters[1], contours=np.array((0.5, 1.0)))\n",
    "iapi.plot_3D_surface('PetaFLOP rate vs #Channels & Max Baseline', p1_values, p2_values, results/1e15, xlabel=parameters[0], \n",
    "                     ylabel=parameters[1], zlabel=expression, contours=np.array((0.5, 1.0)))"
   ]
  },
  {
   "cell_type": "code",
   "execution_count": null,
   "metadata": {
    "collapsed": true
   },
   "outputs": [],
   "source": []
  }
 ],
 "metadata": {
  "kernelspec": {
   "display_name": "Python 2",
   "language": "python",
   "name": "python2"
  },
  "language_info": {
   "codemirror_mode": {
    "name": "ipython",
    "version": 2
   },
   "file_extension": ".py",
   "mimetype": "text/x-python",
   "name": "python",
   "nbconvert_exporter": "python",
   "pygments_lexer": "ipython2",
   "version": "2.7.10"
  }
 },
 "nbformat": 4,
 "nbformat_minor": 0
}
