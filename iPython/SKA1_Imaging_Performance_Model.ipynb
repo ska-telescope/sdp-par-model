{
 "cells": [
  {
   "cell_type": "markdown",
   "metadata": {},
   "source": [
    "# This notebook provides interactive widgets to play with the imaging requirements for the SKA1 SDP\n",
    "\n",
    "## This notebook was last tested with IPython notebook 4.1.0 using Python 2.7\n",
    "### (If you have trouble running this notebook, please check version compatibility)\n",
    "\n",
    "## First, do the necessary set-up (run the code block below, first)"
   ]
  },
  {
   "cell_type": "code",
   "execution_count": 1,
   "metadata": {
    "collapsed": false
   },
   "outputs": [],
   "source": [
    "\"\"\" These first few lines below import the IPython definitions and methods that we will use. \n",
    "Please Refer to ipython_api.py for the implementation \"\"\"\n",
    "from ipywidgets import interact, interact_manual, fixed, SelectMultiple\n",
    "\n",
    "from api_ipython import SkaIPythonAPI as iapi\n",
    "from parameter_definitions import *\n",
    "from parameter_definitions import Constants as c\n",
    "from implementation import Implementation as imp, PipelineConfig\n",
    "%matplotlib inline\n",
    "\n",
    "# The lines below define the available telescopes, bands and modes that may be chosen.\n",
    "\n",
    "available_teles = (Telescopes.SKA1_Low, Telescopes.SKA1_Mid)\n",
    "\n",
    "available_bands = (Bands.Low, \n",
    "                   Bands.Mid1, Bands.Mid2, Bands.Mid5A, Bands.Mid5B, Bands.Mid5C,\n",
    "                   Bands.Sur1)\n",
    "\n",
    "# The High Priority Science Objective list below includes the HPSOs that were originally intended for \n",
    "# The Survey telescope. These have since been reassigned to Mid.\n",
    "available_hpsos = [HPSOs.hpso_max_Low_c, HPSOs.hpso_max_Low_s, HPSOs.hpso_max_Mid_c, HPSOs.hpso_max_Mid_s, \n",
    "                   HPSOs.hpso_max_band5_Mid_c, HPSOs.hpso_max_band5_Mid_s, \n",
    "                   HPSOs.hpso01c, HPSOs.hpso01s, HPSOs.hpso02A, HPSOs.hpso02B, HPSOs.hpso14, HPSOs.hpso14c, HPSOs.hpso14s, \n",
    "                   HPSOs.hpso22, HPSOs.hpso37a, HPSOs.hpso37b, HPSOs.hpso38a, HPSOs.hpso38b, \n",
    "                   HPSOs.hpso13c, HPSOs.hpso13s, HPSOs.hpso15c, HPSOs.hpso15s, \n",
    "                   HPSOs.hpso27, HPSOs.hpso33, HPSOs.hpso37c]\n",
    "\n",
    "available_hpsos.sort()\n",
    "\n",
    "available_modes     = (ImagingModes.Continuum, ImagingModes.Spectral, ImagingModes.FastImg)\n",
    "available_modes_all = available_modes + (ImagingModes.All,)\n",
    "verbose_display = False"
   ]
  },
  {
   "cell_type": "markdown",
   "metadata": {},
   "source": [
    "## Using default values, we can compare telescopes side-by-side"
   ]
  },
  {
   "cell_type": "code",
   "execution_count": 2,
   "metadata": {
    "collapsed": false,
    "scrolled": true
   },
   "outputs": [
    {
     "data": {
      "text/html": [
       "<font color=\"blue\">Computing the result -- this may take several seconds.</font>"
      ],
      "text/plain": [
       "<IPython.core.display.HTML object>"
      ]
     },
     "metadata": {},
     "output_type": "display_data"
    },
    {
     "data": {
      "text/html": [
       "<font color=\"blue\">Done computing.</font>"
      ],
      "text/plain": [
       "<IPython.core.display.HTML object>"
      ]
     },
     "metadata": {},
     "output_type": "display_data"
    },
    {
     "data": {
      "text/html": [
       "<h4>Computed Values:</h4><table>\n",
       "<tr><th colspan=\"4\">-- Parameters --</th></tr><tr><td>Telescope</td><td><font color=\"darkcyan\">SKA1_Low_rebaselined</font></td><td><font color=\"blue\">SKA1_Mid_rebaselined</font></td><td></td></tr>\n",
       "<tr><td>Band</td><td><font color=\"darkcyan\">Low</font></td><td><font color=\"blue\">Mid1</font></td><td></td></tr>\n",
       "<tr><td>Mode</td><td><font color=\"darkcyan\">Continuum</font></td><td><font color=\"blue\">Continuum</font></td><td></td></tr>\n",
       "<tr><td>BL-dependent averaging</td><td><font color=\"darkcyan\">True</font></td><td><font color=\"blue\">True</font></td><td></td></tr>\n",
       "<tr><td>On-the-fly kernels</td><td><font color=\"darkcyan\">False</font></td><td><font color=\"blue\">False</font></td><td></td></tr>\n",
       "<tr><td>Max # of channels</td><td><font color=\"darkcyan\">65536</font></td><td><font color=\"blue\">65536</font></td><td></td></tr>\n",
       "<tr><td>Max Baseline</td><td><font color=\"darkcyan\">80000</font></td><td><font color=\"blue\">150000</font></td><td>m</td></tr>\n",
       "<tr><td>Observation Time</td><td><font color=\"darkcyan\">21600</font></td><td><font color=\"blue\">21600</font></td><td>s</td></tr>\n",
       "<tr><td>Snapshot Time</td><td><font color=\"darkcyan\">17.3</font></td><td><font color=\"blue\">46</font></td><td>s</td></tr>\n",
       "<tr><td>Facets</td><td><font color=\"darkcyan\">1</font></td><td><font color=\"blue\">4</font></td><td></td></tr>\n",
       "<tr><td>Stations/antennas</td><td><font color=\"darkcyan\">512</font></td><td><font color=\"blue\">197</font></td><td></td></tr>\n",
       "<tr><td>Max Baseline [per bin]</td><td><font color=\"darkcyan\">[4900, 7100, 10400, 15100, 22100, 32200, 47000, 80000]</font></td><td><font color=\"blue\">[5e+03, 7.5e+03, 1e+04, 1.5e+04, 2.5e+04, 3.5e+04, 5.5e+04, 7.5e+04, 9e+04, 1.1e+05, 1.3e+05, 1.5e+05]</font></td><td>m</td></tr>\n",
       "<tr><td>Baseline fraction [per bin]</td><td><font color=\"darkcyan\">[0.524, 0.0791, 0.0592, 0.0915, 0.074, 0.106, 0.0609, 0.00543]</font></td><td><font color=\"blue\">[0.615, 0.0506, 0.0284, 0.0509, 0.0714, 0.0376, 0.0574, 0.0548, 0.0174, 0.0152, 0.00109, 0.000466]</font></td><td></td></tr>\n",
       "<tr><th colspan=\"4\">-- Image --</th></tr><tr><td>Facet FoV size</td><td><font color=\"darkcyan\">28.3</font></td><td><font color=\"blue\">3.66</font></td><td>deg</td></tr>\n",
       "<tr><td>PSF size</td><td><font color=\"darkcyan\">11.5</font></td><td><font color=\"blue\">1.03</font></td><td>arcs</td></tr>\n",
       "<tr><td>Pixel size</td><td><font color=\"darkcyan\">2.31</font></td><td><font color=\"blue\">0.205</font></td><td>arcs</td></tr>\n",
       "<tr><td>Facet side length</td><td><font color=\"darkcyan\">4.42e+04</font></td><td><font color=\"blue\">6.42e+04</font></td><td>pixels</td></tr>\n",
       "<tr><td>Image side length</td><td><font color=\"darkcyan\">4.42e+04</font></td><td><font color=\"blue\">2.57e+05</font></td><td>pixels</td></tr>\n",
       "<tr><td>Epsilon (approx)</td><td><font color=\"darkcyan\">0.667</font></td><td><font color=\"blue\">0.444</font></td><td></td></tr>\n",
       "<tr><td>Qbw</td><td><font color=\"darkcyan\">2.2</font></td><td><font color=\"blue\">3.31</font></td><td></td></tr>\n",
       "<tr><td>Max subband ratio</td><td><font color=\"darkcyan\">1.35</font></td><td><font color=\"blue\">1.35</font></td><td></td></tr>\n",
       "<tr><td>Number subbands</td><td><font color=\"darkcyan\">7</font></td><td><font color=\"blue\">4</font></td><td></td></tr>\n",
       "<tr><td>Station/antenna diameter</td><td><font color=\"darkcyan\">35</font></td><td><font color=\"blue\">13.5</font></td><td></td></tr>\n",
       "<tr><th colspan=\"4\">-- Channelization --</th></tr><tr><td>Ionospheric timescale</td><td><font color=\"darkcyan\">10</font></td><td><font color=\"blue\">10</font></td><td>s</td></tr>\n",
       "<tr><td>Coalesce time pred</td><td><font color=\"darkcyan\">[1.2, 1.2, 1.2, 1.2, 1.2, 1.2, 0.9, 0.9]</font></td><td><font color=\"blue\">[1.2, 1.2, 1.2, 0.98, 0.56, 0.42, 0.28, 0.14, 0.14, 0.14, 0.14, 0.14]</font></td><td>s</td></tr>\n",
       "<tr><td>Coalesce time bw</td><td><font color=\"darkcyan\">[10, 8.1, 5.4, 3.6, 2.7, 1.8, 0.9, 0.9]</font></td><td><font color=\"blue\">[10, 7, 5.13, 3.27, 1.87, 1.4, 0.933, 0.467, 0.467, 0.467, 0.467, 0.467]</font></td><td>s</td></tr>\n",
       "<tr><td>Combined Samples</td><td><font color=\"darkcyan\">[14, 9, 6, 4, 3, 2, 1, 1]</font></td><td><font color=\"blue\">[23, 15, 11, 7, 4, 3, 2, 1, 1, 1, 1, 1]</font></td><td></td></tr>\n",
       "<tr><td>Number of frequencies predict ifft</td><td><font color=\"darkcyan\">3.3e+04</font></td><td><font color=\"blue\">6.55e+04</font></td><td></td></tr>\n",
       "<tr><td>Number of freqs for predict (de-gridding) convoution kernels gcf</td><td><font color=\"darkcyan\">[500, 500, 500, 500, 500, 500, 623, 1.27e+03]</font></td><td><font color=\"blue\">[500, 500, 500, 500, 553, 684, 932, 1.16e+03, 1.38e+03, 1.86e+03, 2.4e+03, 2.98e+03]</font></td><td></td></tr>\n",
       "<tr><td>Channels to de-grid (predict)</td><td><font color=\"darkcyan\">3.3e+04</font></td><td><font color=\"blue\">6.55e+04</font></td><td></td></tr>\n",
       "<tr><td>Number of freqs for backward (gridding) convolution kernels gcf</td><td><font color=\"darkcyan\">[500, 500, 500, 500, 500, 500, 623, 1.27e+03]</font></td><td><font color=\"blue\">[500, 500, 500, 500, 500, 500, 500, 500, 500, 500, 500, 535]</font></td><td></td></tr>\n",
       "<tr><td>Channels to grid (backward)</td><td><font color=\"darkcyan\">[2.02e+03, 2.93e+03, 4.29e+03, 6.22e+03, 9.11e+03, 1.33e+04, 1.94e+04, 3.3e+04]</font></td><td><font color=\"blue\">[1.36e+03, 2.03e+03, 2.71e+03, 4.07e+03, 6.78e+03, 9.49e+03, 1.49e+04, 2.03e+04, 2.44e+04, 2.98e+04, 3.53e+04, 4.07e+04]</font></td><td></td></tr>\n",
       "<tr><td>Number of frequencies backward fft</td><td><font color=\"darkcyan\">500</font></td><td><font color=\"blue\">500</font></td><td></td></tr>\n",
       "<tr><td>Channels out</td><td><font color=\"darkcyan\">500</font></td><td><font color=\"blue\">500</font></td><td></td></tr>\n",
       "<tr><td>Visibilities pred</td><td><font color=\"darkcyan\">[1.88e+09, 2.84e+08, 2.13e+08, 3.29e+08, 2.66e+08, 3.8e+08, 2.92e+08, 2.6e+07]</font></td><td><font color=\"blue\">[6.48e+08, 5.34e+07, 2.99e+07, 6.57e+07, 1.61e+08, 1.13e+08, 2.59e+08, 4.95e+08, 1.57e+08, 1.37e+08, 9.83e+06, 4.21e+06]</font></td><td></td></tr>\n",
       "<tr><td>Visibilities bw</td><td><font color=\"darkcyan\">[1.39e+07, 3.74e+06, 6.14e+06, 2.07e+07, 3.26e+07, 1.02e+08, 1.72e+08, 2.6e+07]</font></td><td><font color=\"blue\">[1.61e+06, 2.84e+05, 2.9e+05, 1.22e+06, 5.01e+06, 4.92e+06, 1.77e+07, 4.61e+07, 1.75e+07, 1.87e+07, 1.59e+06, 7.85e+05]</font></td><td></td></tr>\n",
       "<tr><th colspan=\"4\">-- Geometry --</th></tr><tr><td>Delta W earth</td><td><font color=\"darkcyan\">[0.137, 0.288, 0.619, 1.3, 2.79, 5.93, 12.6, 36.6]</font></td><td><font color=\"blue\">[0.858, 1.93, 3.43, 7.72, 21.5, 42, 104, 193, 278, 415, 580, 772]</font></td><td>lambda</td></tr>\n",
       "<tr><td>Delta W snapshot</td><td><font color=\"darkcyan\">[0.903, 1.31, 1.92, 2.78, 4.07, 5.93, 8.66, 14.7]</font></td><td><font color=\"blue\">[14.7, 22, 29.4, 44.1, 73.5, 103, 162, 220, 265, 323, 382, 441]</font></td><td>lambda</td></tr>\n",
       "<tr><td>Delta W max</td><td><font color=\"darkcyan\">[0.903, 1.31, 1.92, 2.78, 4.07, 5.93, 12.6, 36.6]</font></td><td><font color=\"blue\">[14.7, 22, 29.4, 44.1, 73.5, 103, 162, 220, 278, 415, 580, 772]</font></td><td>lambda</td></tr>\n",
       "<tr><th colspan=\"4\">-- Kernel Sizes --</th></tr><tr><td>W kernel support pred</td><td><font color=\"darkcyan\">[2.57, 3.4, 4.53, 6, 7.99, 10.6, 18.8, 42.1]</font></td><td><font color=\"blue\">[5.92, 8.04, 9.99, 13.6, 20, 25.8, 36.3, 46, 54.9, 74.6, 96.3, 120]</font></td><td>uv-pixels</td></tr>\n",
       "<tr><td>AW kernel support pred</td><td><font color=\"darkcyan\">[10.3, 10.6, 11, 11.7, 12.8, 14.6, 21.3, 43.3]</font></td><td><font color=\"blue\">[11.6, 12.8, 14.1, 16.9, 22.3, 27.6, 37.7, 47, 55.8, 75.2, 96.9, 121]</font></td><td>uv-pixels</td></tr>\n",
       "<tr><td>W kernel support bw</td><td><font color=\"darkcyan\">[2.57, 3.4, 4.53, 6, 7.99, 10.6, 18.8, 42.1]</font></td><td><font color=\"blue\">[0.969, 1.31, 1.63, 2.21, 3.25, 4.18, 5.88, 7.43, 8.85, 12, 15.4, 19.1]</font></td><td>uv-pixels</td></tr>\n",
       "<tr><td>AW kernel support bw</td><td><font color=\"darkcyan\">[10.3, 10.6, 11, 11.7, 12.8, 14.6, 21.3, 43.3]</font></td><td><font color=\"blue\">[10, 10.1, 10.1, 10.2, 10.5, 10.8, 11.6, 12.5, 13.4, 15.6, 18.4, 21.6]</font></td><td>uv-pixels</td></tr>\n",
       "<tr><th colspan=\"4\">-- I/O --</th></tr><tr><td>Visibility Buffer</td><td><font color=\"darkcyan\">8.28</font></td><td><font color=\"blue\">15.6</font></td><td>PetaBytes</td></tr>\n",
       "<tr><td>Working (cache) memory</td><td><font color=\"darkcyan\">11.3</font></td><td><font color=\"blue\">907</font></td><td>TeraBytes</td></tr>\n",
       "<tr><td>I/O Rate</td><td><font color=\"darkcyan\">2.11</font></td><td><font color=\"blue\">63.6</font></td><td>TeraBytes/s</td></tr>\n",
       "<tr><th colspan=\"4\">-- Compute --</th></tr><tr><td>Total Compute Requirement</td><td><font color=\"darkcyan\">2.11</font></td><td><font color=\"blue\">9.74</font></td><td>PetaFLOPS</td></tr>\n",
       "<tr><td>-> Gridding - bw</td><td><font color=\"darkcyan\">0.204</font></td><td><font color=\"blue\">0.402</font></td><td>PetaFLOPS</td></tr>\n",
       "<tr><td>-> Gridding - fw</td><td><font color=\"darkcyan\">0.779</font></td><td><font color=\"blue\">4.06</font></td><td>PetaFLOPS</td></tr>\n",
       "<tr><td>-> Gridding - tot</td><td><font color=\"darkcyan\">0.983</font></td><td><font color=\"blue\">4.46</font></td><td>PetaFLOPS</td></tr>\n",
       "<tr><td>-> FFT - bw</td><td><font color=\"darkcyan\">0.174</font></td><td><font color=\"blue\">2.29</font></td><td>PetaFLOPS</td></tr>\n",
       "<tr><td>-> FFT - fw</td><td><font color=\"darkcyan\">0.00919</font></td><td><font color=\"blue\">0.492</font></td><td>PetaFLOPS</td></tr>\n",
       "<tr><td>-> FFT</td><td><font color=\"darkcyan\">0.183</font></td><td><font color=\"blue\">2.78</font></td><td>PetaFLOPS</td></tr>\n",
       "<tr><td>-> Phase Rotation</td><td><font color=\"darkcyan\">0</font></td><td><font color=\"blue\">0.00185</font></td><td>PetaFLOPS</td></tr>\n",
       "<tr><td>-> Projection</td><td><font color=\"darkcyan\">0.113</font></td><td><font color=\"blue\">1.43</font></td><td>PetaFLOPS</td></tr>\n",
       "<tr><td>-> Convolution - bw</td><td><font color=\"darkcyan\">0.418</font></td><td><font color=\"blue\">0.565</font></td><td>PetaFLOPS</td></tr>\n",
       "<tr><td>-> Convolution - fw</td><td><font color=\"darkcyan\">0.418</font></td><td><font color=\"blue\">0.501</font></td><td>PetaFLOPS</td></tr>\n",
       "<tr><td>-> Convolution - tot</td><td><font color=\"darkcyan\">0.836</font></td><td><font color=\"blue\">1.07</font></td><td>PetaFLOPS</td></tr>\n",
       "</table>"
      ],
      "text/plain": [
       "<IPython.core.display.HTML object>"
      ]
     },
     "metadata": {},
     "output_type": "display_data"
    }
   ],
   "source": [
    "interact_manual(iapi.compare_telescopes_default,\n",
    "                telescope_1=available_teles,telescope_2=available_teles,\n",
    "                band_1=available_bands,\n",
    "                band_2=available_bands,\n",
    "                mode_1=available_modes_all,\n",
    "                mode_2=available_modes_all,\n",
    "                verbose=verbose_display,\n",
    "                rows=SelectMultiple(value=iapi.DEFAULT_ROWS, options=iapi.ALL_ROWS))"
   ]
  },
  {
   "cell_type": "markdown",
   "metadata": {},
   "source": [
    "## Using default values, can compute results for the High Priority Science Objectives"
   ]
  },
  {
   "cell_type": "code",
   "execution_count": null,
   "metadata": {
    "collapsed": false,
    "scrolled": false
   },
   "outputs": [],
   "source": [
    "interact_manual(iapi.evaluate_hpso_optimized, hpso_key=available_hpsos, verbose=verbose_display,\n",
    "                rows=SelectMultiple(value=iapi.DEFAULT_ROWS, options=iapi.ALL_ROWS));"
   ]
  },
  {
   "cell_type": "markdown",
   "metadata": {},
   "source": [
    "## We can also interactively play with parameters (via sliders)\n",
    "\n",
    "### The first option is automatic updating of results as the sliders are moved. This may be sluggish"
   ]
  },
  {
   "cell_type": "code",
   "execution_count": 24,
   "metadata": {
    "collapsed": false,
    "scrolled": false
   },
   "outputs": [
    {
     "data": {
      "text/html": [
       "<font color=\"blue\">Computing the result -- this may take several seconds.</font>"
      ],
      "text/plain": [
       "<IPython.core.display.HTML object>"
      ]
     },
     "metadata": {},
     "output_type": "display_data"
    },
    {
     "data": {
      "text/html": [
       "<font color=\"blue\">Done computing. Results follow:</font>"
      ],
      "text/plain": [
       "<IPython.core.display.HTML object>"
      ]
     },
     "metadata": {},
     "output_type": "display_data"
    },
    {
     "data": {
      "text/html": [
       "<h3>Computed Values:</h3><table>\n",
       "<tr><td>I/O Rate</td><td><font color=\"blue\">3.98</font> TeraBytes/s</td></tr>\n",
       "</table>"
      ],
      "text/plain": [
       "<IPython.core.display.HTML object>"
      ]
     },
     "metadata": {},
     "output_type": "display_data"
    },
    {
     "ename": "AssertionError",
     "evalue": "",
     "output_type": "error",
     "traceback": [
      "\u001b[0;31m---------------------------------------------------------------------------\u001b[0m",
      "\u001b[0;31mAssertionError\u001b[0m                            Traceback (most recent call last)",
      "\u001b[0;32m/Users/rosiebolton/Documents/SDP-PAR-MODEL/sdp-par-model/iPython/api_ipython.py\u001b[0m in \u001b[0;36mevaluate_telescope_manual\u001b[0;34m(telescope, band, mode, max_baseline, Nf_max, Nfacet, Tsnap, bldta, on_the_fly, verbose, rows)\u001b[0m\n\u001b[1;32m    569\u001b[0m         \u001b[0mcolours\u001b[0m \u001b[0;34m=\u001b[0m \u001b[0mSkaIPythonAPI\u001b[0m\u001b[0;34m.\u001b[0m\u001b[0mdefualt_rflop_plotting_colours\u001b[0m\u001b[0;34m(\u001b[0m\u001b[0;34m)\u001b[0m\u001b[0;34m\u001b[0m\u001b[0m\n\u001b[1;32m    570\u001b[0m         \u001b[0mvalues\u001b[0m \u001b[0;34m=\u001b[0m \u001b[0mresult_values\u001b[0m\u001b[0;34m[\u001b[0m\u001b[0;34m-\u001b[0m\u001b[0;36m5\u001b[0m\u001b[0;34m:\u001b[0m\u001b[0;34m]\u001b[0m  \u001b[0;31m# the last five values\u001b[0m\u001b[0;34m\u001b[0m\u001b[0m\n\u001b[0;32m--> 571\u001b[0;31m         \u001b[0mSkaIPythonAPI\u001b[0m\u001b[0;34m.\u001b[0m\u001b[0mplot_pie\u001b[0m\u001b[0;34m(\u001b[0m\u001b[0;34m'FLOP breakdown for %s'\u001b[0m \u001b[0;34m%\u001b[0m \u001b[0mtelescope\u001b[0m\u001b[0;34m,\u001b[0m \u001b[0mlabels\u001b[0m\u001b[0;34m,\u001b[0m \u001b[0mvalues\u001b[0m\u001b[0;34m,\u001b[0m \u001b[0mcolours\u001b[0m\u001b[0;34m)\u001b[0m\u001b[0;34m\u001b[0m\u001b[0m\n\u001b[0m\u001b[1;32m    572\u001b[0m \u001b[0;34m\u001b[0m\u001b[0m\n\u001b[1;32m    573\u001b[0m     \u001b[0;34m@\u001b[0m\u001b[0mstaticmethod\u001b[0m\u001b[0;34m\u001b[0m\u001b[0m\n",
      "\u001b[0;32m/Users/rosiebolton/Documents/SDP-PAR-MODEL/sdp-par-model/iPython/api_ipython.py\u001b[0m in \u001b[0;36mplot_pie\u001b[0;34m(title, labels, values, colours)\u001b[0m\n\u001b[1;32m    347\u001b[0m         \u001b[0;34m@\u001b[0m\u001b[0mparam\u001b[0m \u001b[0mcolous\u001b[0m\u001b[0;34m:\u001b[0m\u001b[0;34m\u001b[0m\u001b[0m\n\u001b[1;32m    348\u001b[0m         \"\"\"\n\u001b[0;32m--> 349\u001b[0;31m         \u001b[0;32massert\u001b[0m \u001b[0mlen\u001b[0m\u001b[0;34m(\u001b[0m\u001b[0mlabels\u001b[0m\u001b[0;34m)\u001b[0m \u001b[0;34m==\u001b[0m \u001b[0mlen\u001b[0m\u001b[0;34m(\u001b[0m\u001b[0mvalues\u001b[0m\u001b[0;34m)\u001b[0m\u001b[0;34m\u001b[0m\u001b[0m\n\u001b[0m\u001b[1;32m    350\u001b[0m         \u001b[0;32mif\u001b[0m \u001b[0mcolours\u001b[0m \u001b[0;32mis\u001b[0m \u001b[0;32mnot\u001b[0m \u001b[0mNone\u001b[0m\u001b[0;34m:\u001b[0m\u001b[0;34m\u001b[0m\u001b[0m\n\u001b[1;32m    351\u001b[0m             \u001b[0;32massert\u001b[0m \u001b[0mlen\u001b[0m\u001b[0;34m(\u001b[0m\u001b[0mcolours\u001b[0m\u001b[0;34m)\u001b[0m \u001b[0;34m==\u001b[0m \u001b[0mlen\u001b[0m\u001b[0;34m(\u001b[0m\u001b[0mvalues\u001b[0m\u001b[0;34m)\u001b[0m\u001b[0;34m\u001b[0m\u001b[0m\n",
      "\u001b[0;31mAssertionError\u001b[0m: "
     ]
    }
   ],
   "source": [
    "interact(iapi.evaluate_telescope_manual, max_baseline=(10000,150000), Nf_max = (1,2**17,1), Nfacet=(1,10,1), Tsnap=(1.2,1800), \n",
    "         telescope=available_teles, band=available_bands, mode=available_modes_all, verbose=verbose_display,\n",
    "         rows=SelectMultiple(value=iapi.DEFAULT_ROWS, options=iapi.ALL_ROWS));"
   ]
  },
  {
   "cell_type": "markdown",
   "metadata": {},
   "source": [
    "### The second option is manual triggering of recompute events (recommended). \n",
    "\n",
    "#### This allows more conveniently computing elaborate (slow) optimizations and visualizations per computation, as these are only run when required\n",
    "#### In this example, *Tsnap and Nfacet* are *automatically* chosen so as to minimize the value of Rflop"
   ]
  },
  {
   "cell_type": "code",
   "execution_count": null,
   "metadata": {
    "collapsed": false
   },
   "outputs": [],
   "source": [
    "interact_manual(iapi.evaluate_telescope_optimized, max_baseline=(10000,200000), Nf_max = (1,256000,1), telescope=available_teles, \n",
    "                band=available_bands, mode=available_modes_all, verbose=verbose_display,\n",
    "                rows=SelectMultiple(value=iapi.DEFAULT_ROWS, options=iapi.ALL_ROWS));"
   ]
  },
  {
   "cell_type": "markdown",
   "metadata": {},
   "source": [
    "## illustrating 1D \"parameter sweep\" + visualization functionality."
   ]
  },
  {
   "cell_type": "code",
   "execution_count": 6,
   "metadata": {
    "collapsed": false
   },
   "outputs": [
    {
     "data": {
      "text/html": [
       "<font color=\"blue\">Computing the result -- this may take several (tens of) seconds.</font>"
      ],
      "text/plain": [
       "<IPython.core.display.HTML object>"
      ]
     },
     "metadata": {},
     "output_type": "display_data"
    },
    {
     "name": "stdout",
     "output_type": "stream",
     "text": [
      "Starting sweep of parameter minimum_channels, evaluating expression Rflop_fft over range (100, 1000) in 9 steps (i.e. 10 data points)\n",
      "> 0.0% done: Evaluating Rflop_fft for minimum_channels = 100\n",
      "> 10.0% done: Evaluating Rflop_fft for minimum_channels = 200\n",
      "> 20.0% done: Evaluating Rflop_fft for minimum_channels = 300\n",
      "> 30.0% done: Evaluating Rflop_fft for minimum_channels = 400\n",
      "> 40.0% done: Evaluating Rflop_fft for minimum_channels = 500\n",
      "> 50.0% done: Evaluating Rflop_fft for minimum_channels = 600\n",
      "> 60.0% done: Evaluating Rflop_fft for minimum_channels = 700\n",
      "> 70.0% done: Evaluating Rflop_fft for minimum_channels = 800\n",
      "> 80.0% done: Evaluating Rflop_fft for minimum_channels = 900\n",
      "> 90.0% done: Evaluating Rflop_fft for minimum_channels = 1000\n",
      "done with parameter sweep!\n"
     ]
    },
    {
     "data": {
      "image/png": "[encoded data removed]",
      "text/plain": [
       "<matplotlib.figure.Figure at 0x10d395210>"
      ]
     },
     "metadata": {},
     "output_type": "display_data"
    },
    {
     "name": "stdout",
     "output_type": "stream",
     "text": [
      "100.0 , 0.731724398463\n",
      "200.0 , 1.20238660912\n",
      "300.0 , 1.67304858087\n",
      "400.0 , 2.02105462682\n",
      "500.0 , 2.28943345508\n",
      "600.0 , 2.57161330502\n",
      "700.0 , 2.96395670595\n",
      "800.0 , 3.30008585466\n",
      "900.0 , 3.68031169357\n",
      "1000.0 , 3.92410352236\n"
     ]
    }
   ],
   "source": [
    "from IPython.display import display, HTML\n",
    "\n",
    "expression = 'Rflop_fft'\n",
    "parameter = 'minimum_channels'\n",
    "param_val_min =100\n",
    "param_val_max = 1000\n",
    "number_steps = 9\n",
    "telescope = Telescopes.SKA1_Mid\n",
    "immode = ImagingModes.Continuum\n",
    "band=Bands.Mid1\n",
    "\n",
    "display(HTML('<font color=\"blue\">Computing the result -- this may take several (tens of) seconds.</font>'))\n",
    "cfg = PipelineConfig(telescope=telescope, mode=immode, band=band)\n",
    "(param_values, results) = iapi.eval_param_sweep_1d(cfg, expression=expression, parameter=parameter, param_val_min=param_val_min,\n",
    "                                                   param_val_max=param_val_max, number_steps=number_steps, verbose=False)\n",
    "header = 'Plotting Spectral PetaFLOPS for %s in %s mode as a function of %s' % (telescope, immode, parameter)\n",
    "iapi.plot_line_datapoints(header, param_values, np.array(results)/c.peta, xlabel=parameter, ylabel=expression)\n",
    "\n",
    "for i in range(len(param_values)):\n",
    "               print param_values[i], \",\", (results[i])/c.peta"
   ]
  },
  {
   "cell_type": "markdown",
   "metadata": {},
   "source": [
    "## illustrating 2D \"parameter sweep\" + visualization functionality."
   ]
  },
  {
   "cell_type": "code",
   "execution_count": 13,
   "metadata": {
    "collapsed": false,
    "scrolled": true
   },
   "outputs": [
    {
     "data": {
      "text/html": [
       "<font color=\"blue\">Computing the result -- this may take several (tens of) seconds.</font>"
      ],
      "text/plain": [
       "<IPython.core.display.HTML object>"
      ]
     },
     "metadata": {},
     "output_type": "display_data"
    },
    {
     "name": "stdout",
     "output_type": "stream",
     "text": [
      "Evaluating expression Rflop while\n",
      "sweeping parameters minimum_channels and Nfacet over 2D domain [100, 700] x [1, 7] in 6 steps each,\n",
      "for a total of 49 data evaluation points\n",
      "> 0.0% done: Evaluating Rflop for (minimum_channels, Nfacet) = (100.0, 1.0)\n"
     ]
    },
    {
     "ename": "SyntaxError",
     "evalue": "invalid syntax (<string>, line 1)",
     "output_type": "error",
     "traceback": [
      "\u001b[0;36m  File \u001b[0;32m\"<string>\"\u001b[0;36m, line \u001b[0;32m1\u001b[0m\n\u001b[0;31m    lambda 1.0:lambda T_snap:189937.191211838*(0.00822880462292412*max(0.85801493364906, 0.319250891144833*T_snap)**2 + 4.9195760627269*max(0.85801493364906, 0.319250891144833*T_snap)**1.5 + 6400.0)*math.log(8.0*math.sqrt(0.000128575072233189*max(0.85801493364906, 0.319250891144833*T_snap)**2 + 0.0768683759801079*max(0.85801493364906, 0.319250891144833*T_snap)**1.5 + 100))*max(100.0, min(65536, 1.09861228866811/math.log(1.0 + 0.0342997170285018/math.sqrt(0.000128575072233189*max(0.85801493364906, 0.319250891144833*T_snap)**2 + 0.0768683759801079*max(0.85801493364906, 0.319250891144833*T_snap)**1.5 + 100))))/math.log(2) + 15636.0495325783*(0.00822880462292412*max(1.93053360071039, 0.47887633671725*T_snap)**2 + 4.9195760627269*max(1.93053360071039, 0.47887633671725*T_snap)**1.5 + 6400.0)*math.log(8.0*math.sqrt(0.000128575072233189*max(1.93053360071039, 0.47887633671725*T_snap)**2 + 0.0768683759801079*max(1.93053360071039, 0.47887633671725*T_snap)**1.5 + 100))*max(100.0, min(65536, 1.09861228866811/math.log(1.0 + 0.0342997170285018/math.sqrt(0.000128575072233189*max(1.93053360071039, 0.47887633671725*T_snap)**2 + 0.0768683759801079*max(1.93053360071039, 0.47887633671725*T_snap)**1.5 + 100))))/math.log(2) + 8770.27139296484*(0.00822880462292412*max(3.43205973459624, 0.638501782289667*T_snap)**2 + 4.9195760627269*max(3.43205973459624, 0.638501782289667*T_snap)**1.5 + 6400.0)*math.log(8.0*math.sqrt(0.000128575072233189*max(3.43205973459624, 0.638501782289667*T_snap)**2 + 0.0768683759801079*max(3.43205973459624, 0.638501782289667*T_snap)**1.5 + 100))*max(100.0, min(65536, 1.09861228866811/math.log(1.0 + 0.0342997170285018/math.sqrt(0.000128575072233189*max(3.43205973459624, 0.638501782289667*T_snap)**2 + 0.0768683759801079*max(3.43205973459624, 0.638501782289667*T_snap)**1.5 + 100))))/math.log(2) + 15716.0702460877*(0.00822880462292412*max(7.72213440284154, 0.9577526734345*T_snap)**2 + 4.9195760627269*max(7.72213440284154, 0.9577526734345*T_snap)**1.5 + 6400.0)*math.log(8.0*math.sqrt(0.000128575072233189*max(7.72213440284154, 0.9577526734345*T_snap)**2 + 0.0768683759801079*max(7.72213440284154, 0.9577526734345*T_snap)**1.5 + 100))*max(100.0, min(65536, 1.09861228866811/math.log(1.0 + 0.0342997170285018/math.sqrt(0.000128575072233189*max(7.72213440284154, 0.9577526734345*T_snap)**2 + 0.0768683759801079*max(7.72213440284154, 0.9577526734345*T_snap)**1.5 + 100))))/math.log(2) + 22053.711627116*(0.00822880462292412*max(21.4503733412265, 1.59625445572417*T_snap)**2 + 4.9195760627269*max(21.4503733412265, 1.59625445572417*T_snap)**1.5 + 6400.0)*math.log(8.0*math.sqrt(0.000128575072233189*max(21.4503733412265, 1.59625445572417*T_snap)**2 + 0.0768683759801079*max(21.4503733412265, 1.59625445572417*T_snap)**1.5 + 100))*max(100.0, min(65536, 1.09861228866811/math.log(1.0 + 0.0342997170285018/math.sqrt(0.000128575072233189*max(21.4503733412265, 1.59625445572417*T_snap)**2 + 0.0768683759801079*max(21.4503733412265, 1.59625445572417*T_snap)**1.5 + 100))))/math.log(2) + 11603.0050342274*(0.00822880462292412*max(42.042731748804, 2.23475623801383*T_snap)**2 + 4.9195760627269*max(42.042731748804, 2.23475623801383*T_snap)**1.5 + 6400.0)*math.log(8.0*math.sqrt(0.000128575072233189*max(42.042731748804, 2.23475623801383*T_snap)**2 + 0.0768683759801079*max(42.042731748804, 2.23475623801383*T_snap)**1.5 + 100))*max(100.0, min(65536, 1.09861228866811/math.log(1.0 + 0.0342997170285018/math.sqrt(0.000128575072233189*max(42.042731748804, 2.23475623801383*T_snap)**2 + 0.0768683759801079*max(42.042731748804, 2.23475623801383*T_snap)**1.5 + 100))))/math.log(2) + 17716.5883618282*(0.00822880462292412*max(103.819806971536, 3.51175980259317*T_snap)**2 + 4.9195760627269*max(103.819806971536, 3.51175980259317*T_snap)**1.5 + 6400.0)*math.log(8.0*math.sqrt(0.000128575072233189*max(103.819806971536, 3.51175980259317*T_snap)**2 + 0.0768683759801079*max(103.819806971536, 3.51175980259317*T_snap)**1.5 + 100))*max(100.0, min(65536, 1.09861228866811/math.log(1.0 + 0.0342997170285018/math.sqrt(0.000128575072233189*max(103.819806971536, 3.51175980259317*T_snap)**2 + 0.0768683759801079*max(103.819806971536, 3.51175980259317*T_snap)**1.5 + 100))))/math.log(2) + 16932.3852829456*(0.00822880462292412*max(193.053360071039, 4.7887633671725*T_snap)**2 + 4.9195760627269*max(193.053360071039, 4.7887633671725*T_snap)**1.5 + 6400.0)*math.log(8.0*math.sqrt(0.000128575072233189*max(193.053360071039, 4.7887633671725*T_snap)**2 + 0.0768683759801079*max(193.053360071039, 4.7887633671725*T_snap)**1.5 + 100))*max(100.0, min(65536, 1.09861228866811/math.log(1.0 + 0.0342997170285018/math.sqrt(0.000128575072233189*max(193.053360071039, 4.7887633671725*T_snap)**2 + 0.0768683759801079*max(193.053360071039, 4.7887633671725*T_snap)**1.5 + 100))))/math.log(2) + 5361.38851558818*(0.00822880462292412*max(277.996838502296, 5.746516040607*T_snap)**2 + 4.9195760627269*max(277.996838502296, 5.746516040607*T_snap)**1.5 + 6400.0)*math.log(8.0*math.sqrt(0.000128575072233189*max(277.996838502296, 5.746516040607*T_snap)**2 + 0.0768683759801079*max(277.996838502296, 5.746516040607*T_snap)**1.5 + 100))*max(100.0, min(65536, 1.09861228866811/math.log(1.0 + 0.0342997170285018/math.sqrt(0.000128575072233189*max(277.996838502296, 5.746516040607*T_snap)**2 + 0.0768683759801079*max(277.996838502296, 5.746516040607*T_snap)**1.5 + 100))))/math.log(2) + 4689.21444797448*(0.00822880462292412*max(415.279227886145, 7.02351960518633*T_snap)**2 + 4.9195760627269*max(415.279227886145, 7.02351960518633*T_snap)**1.5 + 6400.0)*math.log(8.0*math.sqrt(0.000128575072233189*max(415.279227886145, 7.02351960518633*T_snap)**2 + 0.0768683759801079*max(415.279227886145, 7.02351960518633*T_snap)**1.5 + 100))*max(100.0, min(65536, 1.09861228866811/math.log(1.0 + 0.0342997170285018/math.sqrt(0.000128575072233189*max(415.279227886145, 7.02351960518633*T_snap)**2 + 0.0768683759801079*max(415.279227886145, 7.02351960518633*T_snap)**1.5 + 100))))/math.log(2) + 336.087043073728*(0.00822880462292412*max(580.018095146765, 8.30052316976566*T_snap)**2 + 4.9195760627269*max(580.018095146765, 8.30052316976566*T_snap)**1.5 + 6400.0)*math.log(8.0*math.sqrt(0.000128575072233189*max(580.018095146765, 8.30052316976566*T_snap)**2 + 0.0768683759801079*max(580.018095146765, 8.30052316976566*T_snap)**1.5 + 100))*max(100.0, min(65536, 1.09861228866811/math.log(1.0 + 0.0342997170285018/math.sqrt(0.000128575072233189*max(580.018095146765, 8.30052316976566*T_snap)**2 + 0.0768683759801079*max(580.018095146765, 8.30052316976566*T_snap)**1.5 + 100))))/math.log(2) + 144.037303777303*(0.00822880462292412*max(772.213440284154, 9.577526734345*T_snap)**2 + 4.9195760627269*max(772.213440284154, 9.577526734345*T_snap)**1.5 + 6400.0)*math.log(8.0*math.sqrt(0.000128575072233189*max(772.213440284154, 9.577526734345*T_snap)**2 + 0.0768683759801079*max(772.213440284154, 9.577526734345*T_snap)**1.5 + 100))*max(100.0, min(65536, 1.09861228866811/math.log(1.0 + 0.0342997170285018/math.sqrt(0.000128575072233189*max(772.213440284154, 9.577526734345*T_snap)**2 + 0.0768683759801079*max(772.213440284154, 9.577526734345*T_snap)**1.5 + 100))))/math.log(2) + 10783251.0487794*max(0.85801493364906, 0.319250891144833*T_snap)**2 + 6446747269.96969*max(0.85801493364906, 0.319250891144833*T_snap)**1.5 + 899376.250488561*max(1.93053360071039, 0.47887633671725*T_snap)**2 + 537690475.839288*max(1.93053360071039, 0.47887633671725*T_snap)**1.5 + 513628.652457407*max(3.43205973459624, 0.638501782289667*T_snap)**2 + 307071967.260078*max(3.43205973459624, 0.638501782289667*T_snap)**1.5 + 967345.515447767*max(7.72213440284154, 0.9577526734345*T_snap)**2 + 578325778.804548*max(7.72213440284154, 0.9577526734345*T_snap)**1.5 + 1855728.57090337*max(21.4503733412265, 1.59625445572417*T_snap)**2 + 1109443992.74004*max(21.4503733412265, 1.59625445572417*T_snap)**1.5 + 1466681.98548206*max(42.042731748804, 2.23475623801383*T_snap)**2 + 876853190.475473*max(42.042731748804, 2.23475623801383*T_snap)**1.5 + 4240396.20664749*max(103.819806971536, 3.51175980259317*T_snap)**2 + 2535113255.28203*max(103.819806971536, 3.51175980259317*T_snap)**1.5 + 6807240.30395743*max(193.053360071039, 4.7887633671725*T_snap)**2 + 4069696388.1345*max(193.053360071039, 4.7887633671725*T_snap)**1.5 + 2328339.51563085*max(277.996838502296, 5.746516040607*T_snap)**2 + 1391993597.11233*max(277.996838502296, 5.746516040607*T_snap)**1.5 + 4476182.9560461*max(415.279227886145, 7.02351960518633*T_snap)**2 + 2676077939.87523*max(415.279227886145, 7.02351960518633*T_snap)**1.5 + 323653.586797713*max(580.018095146765, 8.30052316976566*T_snap)**2 + 193495715.500404*max(580.018095146765, 8.30052316976566*T_snap)**1.5 + 138708.679673703*max(772.213440284154, 9.577526734345*T_snap)**2 + 82926734.9858062*max(772.213440284154, 9.577526734345*T_snap)**1.5 + 27066314385728.0 + 6.02163101384548e+16/(T_snap*math.log(2))\u001b[0m\n\u001b[0m             ^\u001b[0m\n\u001b[0;31mSyntaxError\u001b[0m\u001b[0;31m:\u001b[0m invalid syntax\n"
     ]
    }
   ],
   "source": [
    "from IPython.display import display, HTML\n",
    "\n",
    "telescope = Telescopes.SKA1_Mid\n",
    "band = Bands.Mid1\n",
    "immode = ImagingModes.FastImg\n",
    "expression = 'Rflop'\n",
    "parameters = ('minimum_channels', 'Nfacet')\n",
    "parameter_ranges = ((100,700),(1,7))\n",
    "number_steps = 6\n",
    "verbose = False\n",
    "\n",
    "display(HTML('<font color=\"blue\">Computing the result -- this may take several (tens of) seconds.</font>'))\n",
    "cfg = PipelineConfig(telescope=telescope, mode=immode, band=band)\n",
    "(p1_values, p2_values, results) = iapi.eval_param_sweep_2d(cfg, expression=expression, parameters=parameters, \n",
    "                                                           params_ranges=parameter_ranges, number_steps=number_steps, \n",
    "                                                           verbose=verbose)\n",
    "\n",
    "\n",
    "iapi.plot_2D_surface('PetaFLOP rate vs #Channels & Max Baseline', p1_values, p2_values, results/1e15, xlabel=parameters[0], \n",
    "                     ylabel=parameters[1], contours=np.array((0.5, 1.0)))\n",
    "iapi.plot_3D_surface('PetaFLOP rate vs #Channels & Max Baseline', p1_values, p2_values, results/1e15, xlabel=parameters[0], \n",
    "                     ylabel=parameters[1], zlabel=expression, contours=np.array((0.5, 1.0)))"
   ]
  },
  {
   "cell_type": "code",
   "execution_count": null,
   "metadata": {
    "collapsed": true
   },
   "outputs": [],
   "source": []
  }
 ],
 "metadata": {
  "kernelspec": {
   "display_name": "Python 2",
   "language": "python",
   "name": "python2"
  },
  "language_info": {
   "codemirror_mode": {
    "name": "ipython",
    "version": 2
   },
   "file_extension": ".py",
   "mimetype": "text/x-python",
   "name": "python",
   "nbconvert_exporter": "python",
   "pygments_lexer": "ipython2",
   "version": "2.7.11"
  }
 },
 "nbformat": 4,
 "nbformat_minor": 0
}
