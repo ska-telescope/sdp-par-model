{
 "cells": [
  {
   "cell_type": "markdown",
   "metadata": {},
   "source": [
    "# This notebook provides interactive widgets to play with the imaging requirements for the SKA1 SDP\n",
    "\n",
    "## This notebook was last tested with IPython notebook 4.1.0 using Python 2.7\n",
    "### (If you have trouble running this notebook, please check version compatibility)\n",
    "\n",
    "## First, do the necessary set-up (run the code block below, first)"
   ]
  },
  {
   "cell_type": "code",
   "execution_count": 5,
   "metadata": {
    "collapsed": false,
    "scrolled": true
   },
   "outputs": [],
   "source": [
    "\"\"\" These first few lines below import the IPython definitions and methods that we will use. \n",
    "Please Refer to ipython_api.py for the implementation \"\"\"\n",
    "from ipywidgets import interact, interact_manual, fixed, ToggleButtons, SelectMultiple\n",
    "\n",
    "from api_ipython import SkaIPythonAPI as iapi\n",
    "from parameter_definitions import *\n",
    "from parameter_definitions import Constants as c\n",
    "from implementation import Implementation as imp, PipelineConfig\n",
    "%matplotlib inline\n",
    "\n",
    "# The lines below define the available telescopes, bands and modes that may be chosen.\n",
    "\n",
    "available_teles = (Telescopes.SKA1_Low, Telescopes.SKA1_Mid)\n",
    "\n",
    "available_bands = (Bands.Low, \n",
    "                   Bands.Mid1, Bands.Mid2, Bands.Mid5A, Bands.Mid5B, Bands.Mid5C,\n",
    "                   Bands.Sur1)\n",
    "\n",
    "# The High Priority Science Objective list below includes the HPSOs that were originally intended for \n",
    "# The Survey telescope. These have since been reassigned to Mid.\n",
    "available_hpsos = [HPSOs.hpso_max_Low_c, HPSOs.hpso_max_Low_s, HPSOs.hpso_max_Mid_c, HPSOs.hpso_max_Mid_s, \n",
    "                   HPSOs.hpso_max_band5_Mid_c, HPSOs.hpso_max_band5_Mid_s, \n",
    "                   HPSOs.hpso01c, HPSOs.hpso01s, HPSOs.hpso02A, HPSOs.hpso02B, \n",
    "                   #HPSOs.hpso14, \n",
    "                   HPSOs.hpso14c, HPSOs.hpso14s, \n",
    "                   HPSOs.hpso22, HPSOs.hpso37a, HPSOs.hpso37b, HPSOs.hpso38a, HPSOs.hpso38b, \n",
    "                   HPSOs.hpso13c, HPSOs.hpso13s, HPSOs.hpso15c, HPSOs.hpso15s, \n",
    "                   HPSOs.hpso27, HPSOs.hpso33, HPSOs.hpso37c]\n",
    "\n",
    "available_hpsos.sort()\n",
    "\n",
    "available_pipelines     = (Pipelines.DPrepA, Pipelines.DPrepC, Pipelines.Fast_Img)\n",
    "available_pipelines_all = Pipelines.all\n",
    "\n",
    "verbose_display     = ['Overview', 'Details', 'Debug']\n",
    "def toggles(opts, *args): return ToggleButtons(options=opts, *args)"
   ]
  },
  {
   "cell_type": "markdown",
   "metadata": {},
   "source": [
    "## Using default values, we can compare telescopes side-by-side"
   ]
  },
  {
   "cell_type": "code",
   "execution_count": 6,
   "metadata": {
    "collapsed": false,
    "scrolled": false
   },
   "outputs": [
    {
     "data": {
      "text/html": [
       "<font color=\"blue\">Computing the result -- this may take several seconds.</font>"
      ],
      "text/plain": [
       "<IPython.core.display.HTML object>"
      ]
     },
     "metadata": {},
     "output_type": "display_data"
    },
    {
     "data": {
      "text/html": [
       "<font color=\"blue\">Done computing.</font>"
      ],
      "text/plain": [
       "<IPython.core.display.HTML object>"
      ]
     },
     "metadata": {},
     "output_type": "display_data"
    },
    {
     "data": {
      "text/html": [
       "<h4>Computed Values:</h4><table>\n",
       "<tr><th colspan=\"4\">-- Parameters --</th></tr><tr><td>Telescope</td><td><font color=\"darkcyan\">SKA1_Low_rebaselined</font></td><td><font color=\"blue\">SKA1_Low_rebaselined</font></td><td></td></tr>\n",
       "<tr><td>Band</td><td><font color=\"darkcyan\">Low</font></td><td><font color=\"blue\">Low</font></td><td></td></tr>\n",
       "<tr><td>Pipeline</td><td><font color=\"darkcyan\">ICAL</font></td><td><font color=\"blue\">DPrepC</font></td><td></td></tr>\n",
       "<tr><td>BL-dependent averaging</td><td><font color=\"darkcyan\">True</font></td><td><font color=\"blue\">True</font></td><td></td></tr>\n",
       "<tr><td>On-the-fly kernels</td><td><font color=\"darkcyan\">False</font></td><td><font color=\"blue\">False</font></td><td></td></tr>\n",
       "<tr><td>Scale predict by facet</td><td><font color=\"darkcyan\">True</font></td><td><font color=\"blue\">True</font></td><td></td></tr>\n",
       "<tr><td>Max # of channels</td><td><font color=\"darkcyan\">65536</font></td><td><font color=\"blue\">65536</font></td><td></td></tr>\n",
       "<tr><td>Max Baseline</td><td><font color=\"darkcyan\">80000</font></td><td><font color=\"blue\">80000</font></td><td>m</td></tr>\n",
       "<tr><td>Snapshot Time</td><td><font color=\"darkcyan\">43</font></td><td><font color=\"blue\">82.7</font></td><td>s</td></tr>\n",
       "<tr><td>Facets</td><td><font color=\"darkcyan\">4</font></td><td><font color=\"blue\">1</font></td><td></td></tr>\n",
       "<tr><th colspan=\"4\">-- Image --</th></tr><tr><td>Facet side length</td><td><font color=\"darkcyan\">1.99e+04</font></td><td><font color=\"blue\">2.45e+04</font></td><td>pixels</td></tr>\n",
       "<tr><td>Image side length</td><td><font color=\"darkcyan\">6.62e+04</font></td><td><font color=\"blue\">2.45e+04</font></td><td>pixels</td></tr>\n",
       "<tr><th colspan=\"4\">-- I/O --</th></tr><tr><td>Visibility Buffer</td><td><font color=\"darkcyan\">12.4</font></td><td><font color=\"blue\">16.5</font></td><td>PetaBytes</td></tr>\n",
       "<tr><td>Working (cache) memory</td><td><font color=\"darkcyan\">0.151</font></td><td><font color=\"blue\">9.28</font></td><td>TeraBytes</td></tr>\n",
       "<tr><td>Visibility I/O Rate</td><td><font color=\"darkcyan\">46</font></td><td><font color=\"blue\">4.57</font></td><td>TeraBytes/s</td></tr>\n",
       "<tr><td>Inter-Facet I/O Rate</td><td><font color=\"darkcyan\">0.00632</font></td><td><font color=\"blue\">0.482</font></td><td>TeraBytes/s</td></tr>\n",
       "<tr><th colspan=\"4\">-- Compute --</th></tr><tr><td>Total Compute Requirement</td><td><font color=\"darkcyan\">4.9</font></td><td><font color=\"blue\">12.1</font></td><td>PetaFLOPS</td></tr>\n",
       "<tr><td>-> Reprojection</td><td><font color=\"darkcyan\">0.0529</font></td><td><font color=\"blue\">2.1</font></td><td>PetaFLOPS</td></tr>\n",
       "<tr><td>-> DFT</td><td><font color=\"darkcyan\">3.72</font></td><td><font color=\"blue\">4.93</font></td><td>PetaFLOPS</td></tr>\n",
       "<tr><td>-> Phase Rotation</td><td><font color=\"darkcyan\">0.207</font></td><td><font color=\"blue\">0</font></td><td>PetaFLOPS</td></tr>\n",
       "<tr><td>-> Subtract Image Component</td><td><font color=\"darkcyan\">2.8e-06</font></td><td><font color=\"blue\">0</font></td><td>PetaFLOPS</td></tr>\n",
       "<tr><td>-> Solve</td><td><font color=\"darkcyan\">5.1e-05</font></td><td><font color=\"blue\">0</font></td><td>PetaFLOPS</td></tr>\n",
       "<tr><td>-> Subtract Visibility</td><td><font color=\"darkcyan\">0.00207</font></td><td><font color=\"blue\">0.00335</font></td><td>PetaFLOPS</td></tr>\n",
       "<tr><td>-> IFFT</td><td><font color=\"darkcyan\">0.189</font></td><td><font color=\"blue\">0.0117</font></td><td>PetaFLOPS</td></tr>\n",
       "<tr><td>-> Source Find</td><td><font color=\"darkcyan\">8.33e-13</font></td><td><font color=\"blue\">0</font></td><td>PetaFLOPS</td></tr>\n",
       "<tr><td>-> Gridding Kernel Update</td><td><font color=\"darkcyan\">0.281</font></td><td><font color=\"blue\">1.48</font></td><td>PetaFLOPS</td></tr>\n",
       "<tr><td>-> FFT</td><td><font color=\"darkcyan\">0.0378</font></td><td><font color=\"blue\">1.53</font></td><td>PetaFLOPS</td></tr>\n",
       "<tr><td>-> Flag</td><td><font color=\"darkcyan\">0.00201</font></td><td><font color=\"blue\">0.00266</font></td><td>PetaFLOPS</td></tr>\n",
       "<tr><td>-> Degrid</td><td><font color=\"darkcyan\">0.201</font></td><td><font color=\"blue\">0.915</font></td><td>PetaFLOPS</td></tr>\n",
       "<tr><td>-> Grid</td><td><font color=\"darkcyan\">0.201</font></td><td><font color=\"blue\">0.915</font></td><td>PetaFLOPS</td></tr>\n",
       "<tr><td>-> Identify Component</td><td><font color=\"darkcyan\">0.000211</font></td><td><font color=\"blue\">0.158</font></td><td>PetaFLOPS</td></tr>\n",
       "</table>"
      ],
      "text/plain": [
       "<IPython.core.display.HTML object>"
      ]
     },
     "metadata": {},
     "output_type": "display_data"
    },
    {
     "data": {
      "image/png": "[encoded data removed]",
      "text/plain": [
       "<matplotlib.figure.Figure at 0x111693b50>"
      ]
     },
     "metadata": {},
     "output_type": "display_data"
    }
   ],
   "source": [
    "interact_manual(iapi.compare_telescopes_default,\n",
    "                telescope_1=toggles(available_teles),\n",
    "                telescope_2=toggles(available_teles),\n",
    "                band_1=toggles(available_bands),\n",
    "                band_2=toggles(available_bands),\n",
    "                pipeline_1=toggles(available_pipelines_all),\n",
    "                pipeline_2=toggles(available_pipelines_all),\n",
    "                verbosity=toggles(verbose_display))"
   ]
  },
  {
   "cell_type": "markdown",
   "metadata": {},
   "source": [
    "## Using default values, can compute results for the High Priority Science Objectives"
   ]
  },
  {
   "cell_type": "code",
   "execution_count": 6,
   "metadata": {
    "collapsed": false,
    "scrolled": false
   },
   "outputs": [
    {
     "data": {
      "text/html": [
       "<h3>Parameters:</h3><table>\n",
       "<tr><td>HPSO Number</td><td><font color=\"blue\">14c</font> </td></tr>\n",
       "<tr><td>Telescope</td><td><font color=\"blue\">SKA1_Mid_rebaselined</font> </td></tr>\n",
       "<tr><td>Pipeline</td><td><font color=\"blue\">DPrepA</font> </td></tr>\n",
       "<tr><td>Max Baseline</td><td><font color=\"blue\">150000</font> m</td></tr>\n",
       "<tr><td>Max # of channels</td><td><font color=\"blue\">65536</font> </td></tr>\n",
       "<tr><td>Observation time</td><td><font color=\"blue\">6 hr 0 min 0 sec</font> </td></tr>\n",
       "<tr><td>Texp (not used in calc)</td><td><font color=\"blue\">2000 hr 0 min 0 sec</font> </td></tr>\n",
       "<tr><td>Tpoint (not used in calc)</td><td><font color=\"blue\">10 hr 0 min 0 sec</font> </td></tr>\n",
       "</table>"
      ],
      "text/plain": [
       "<IPython.core.display.HTML object>"
      ]
     },
     "metadata": {},
     "output_type": "display_data"
    },
    {
     "data": {
      "text/html": [
       "<font color=\"blue\">Done computing. Results follow:</font>"
      ],
      "text/plain": [
       "<IPython.core.display.HTML object>"
      ]
     },
     "metadata": {},
     "output_type": "display_data"
    },
    {
     "data": {
      "text/html": [
       "<h3>Computed Values:</h3><table>\n",
       "<tr><th colspan=\"2\">-- Parameters --</th></tr><tr><td>Telescope</td><td><font color=\"blue\">SKA1_Mid_rebaselined</font> </td></tr>\n",
       "<tr><td>Band</td><td><font color=\"blue\">HPSO 14c</font> </td></tr>\n",
       "<tr><td>Pipeline</td><td><font color=\"blue\">DPrepA</font> </td></tr>\n",
       "<tr><td>BL-dependent averaging</td><td><font color=\"blue\">True</font> </td></tr>\n",
       "<tr><td>On-the-fly kernels</td><td><font color=\"blue\">False</font> </td></tr>\n",
       "<tr><td>Scale predict by facet</td><td><font color=\"blue\">True</font> </td></tr>\n",
       "<tr><td>Max # of channels</td><td><font color=\"blue\">65536</font> </td></tr>\n",
       "<tr><td>Max Baseline</td><td><font color=\"blue\">150000</font> m</td></tr>\n",
       "<tr><td>Observation Time</td><td><font color=\"blue\">2.16e+04</font> s</td></tr>\n",
       "<tr><td>Snapshot Time</td><td><font color=\"blue\">1.48e+03</font> s</td></tr>\n",
       "<tr><td>Facets</td><td><font color=\"blue\">16</font> </td></tr>\n",
       "<tr><td>Stations/antennas</td><td><font color=\"blue\">197</font> </td></tr>\n",
       "<tr><td>Max Baseline [per bin]</td><td><font color=\"blue\">[5e+03, 7.5e+03, 1e+04, 1.5e+04, 2.5e+04, 3.5e+04, 5.5e+04, 7.5e+04, 9e+04, 1.1e+05, 1.3e+05, 1.5e+05]</font> m</td></tr>\n",
       "<tr><td>Baseline fraction [per bin]</td><td><font color=\"blue\">[0.615, 0.0506, 0.0284, 0.0509, 0.0714, 0.0376, 0.0574, 0.0548, 0.0174, 0.0152, 0.00109, 0.000466]</font> </td></tr>\n",
       "<tr><th colspan=\"2\">-- Image --</th></tr><tr><td>Facet FoV size</td><td><font color=\"blue\">0.351</font> deg</td></tr>\n",
       "<tr><td>Total FoV size</td><td><font color=\"blue\">4.68</font> deg</td></tr>\n",
       "<tr><td>PSF size</td><td><font color=\"blue\">0.415</font> arcs</td></tr>\n",
       "<tr><td>Pixel size</td><td><font color=\"blue\">0.083</font> arcs</td></tr>\n",
       "<tr><td>Facet side length</td><td><font color=\"blue\">1.52e+04</font> pixels</td></tr>\n",
       "<tr><td>Image side length</td><td><font color=\"blue\">2.03e+05</font> pixels</td></tr>\n",
       "<tr><td>Epsilon (approx)</td><td><font color=\"blue\">0.444</font> </td></tr>\n",
       "<tr><td>Qbw</td><td><font color=\"blue\">3.31</font> </td></tr>\n",
       "<tr><td>Max subband ratio</td><td><font color=\"blue\">1.35</font> </td></tr>\n",
       "<tr><td>Number subbands</td><td><font color=\"blue\">1</font> </td></tr>\n",
       "<tr><td>Station/antenna diameter</td><td><font color=\"blue\">13.5</font> </td></tr>\n",
       "<tr><th colspan=\"2\">-- Channelization --</th></tr><tr><td>Ionospheric timescale</td><td><font color=\"blue\">10</font> s</td></tr>\n",
       "<tr><td>Coalesce time pred</td><td><font color=\"blue\">[10, 10, 10, 10, 7.47, 5.6, 3.73, 1.87, 1.87, 1.87, 1.87, 1.87]</font> s</td></tr>\n",
       "<tr><td>Coalesce time bw</td><td><font color=\"blue\">[10, 10, 10, 10, 7.47, 5.6, 3.73, 1.87, 1.87, 1.87, 1.87, 1.87]</font> s</td></tr>\n",
       "<tr><td>Combined Samples</td><td><font color=\"blue\">[23, 15, 11, 7, 4, 3, 2, 1, 1, 1, 1, 1]</font> </td></tr>\n",
       "<tr><td>Channels predict, no-smear</td><td><font color=\"blue\">[67.2, 101, 134, 201, 336, 470, 738, 1.01e+03, 1.21e+03, 1.48e+03, 1.74e+03, 2.01e+03]</font> </td></tr>\n",
       "<tr><td>Channels backward, no-smear</td><td><font color=\"blue\">[67.2, 101, 134, 201, 336, 470, 738, 1.01e+03, 1.21e+03, 1.48e+03, 1.74e+03, 2.01e+03]</font> </td></tr>\n",
       "<tr><td>Frequencies predict ifft</td><td><font color=\"blue\">500</font> </td></tr>\n",
       "<tr><td>Frequencies predict kernels</td><td><font color=\"blue\">[100, 100, 100, 100, 100, 100, 100, 100, 100, 100, 100, 100]</font> </td></tr>\n",
       "<tr><td>Frequencies predict de-grid</td><td><font color=\"blue\">[500, 500, 500, 500, 500, 500, 738, 1.01e+03, 1.21e+03, 1.48e+03, 1.74e+03, 2.01e+03]</font> </td></tr>\n",
       "<tr><td>Frequencies backward kernels</td><td><font color=\"blue\">[100, 100, 100, 100, 100, 100, 100, 100, 100, 100, 100, 100]</font> </td></tr>\n",
       "<tr><td>Frequencies backward grid</td><td><font color=\"blue\">[500, 500, 500, 500, 500, 500, 738, 1.01e+03, 1.21e+03, 1.48e+03, 1.74e+03, 2.01e+03]</font> </td></tr>\n",
       "<tr><td>Frequencies backward fft</td><td><font color=\"blue\">500</font> </td></tr>\n",
       "<tr><td>Channels out</td><td><font color=\"blue\">500</font> </td></tr>\n",
       "<tr><td>Visibilities pred</td><td><font color=\"blue\">[5.94e+05, 4.89e+04, 2.74e+04, 4.91e+04, 9.23e+04, 6.47e+04, 2.19e+05, 5.71e+05, 2.17e+05, 2.32e+05, 1.96e+04, 9.71e+03]</font> </td></tr>\n",
       "<tr><td>Visibilities bw</td><td><font color=\"blue\">[5.94e+05, 4.89e+04, 2.74e+04, 4.91e+04, 9.23e+04, 6.47e+04, 2.19e+05, 5.71e+05, 2.17e+05, 2.32e+05, 1.96e+04, 9.71e+03]</font> </td></tr>\n",
       "<tr><th colspan=\"2\">-- Geometry --</th></tr><tr><td>Delta W earth</td><td><font color=\"blue\">[2.18, 4.9, 8.72, 19.6, 54.5, 107, 264, 490, 706, 1.05e+03, 1.47e+03, 1.96e+03]</font> lambda</td></tr>\n",
       "<tr><td>Delta W snapshot</td><td><font color=\"blue\">[1.2e+03, 1.8e+03, 2.4e+03, 3.6e+03, 5.99e+03, 8.39e+03, 1.32e+04, 1.8e+04, 2.16e+04, 2.64e+04, 3.12e+04, 3.6e+04]</font> lambda</td></tr>\n",
       "<tr><td>Delta W max</td><td><font color=\"blue\">[1.2e+03, 1.8e+03, 2.4e+03, 3.6e+03, 5.99e+03, 8.39e+03, 1.32e+04, 1.8e+04, 2.16e+04, 2.64e+04, 3.12e+04, 3.6e+04]</font> lambda</td></tr>\n",
       "<tr><th colspan=\"2\">-- Kernel Sizes --</th></tr><tr><td>W kernel support pred</td><td><font color=\"blue\">[0.781, 1.06, 1.31, 1.78, 2.62, 3.37, 4.74, 5.98, 6.86, 7.98, 9.06, 10.1]</font> uv-pixels</td></tr>\n",
       "<tr><td>AW kernel support pred</td><td><font color=\"blue\">[10, 10.1, 10.1, 10.2, 10.3, 10.6, 11.1, 11.7, 12.1, 12.8, 13.5, 14.2]</font> uv-pixels</td></tr>\n",
       "<tr><td>W kernel support pred, ff</td><td><font color=\"blue\">[80.2, 80.4, 80.7, 81.3, 82.7, 84.4, 88.5, 93.2, 97, 102, 108, 114]</font> pixels</td></tr>\n",
       "<tr><td>W kernel support bw</td><td><font color=\"blue\">[0.781, 1.06, 1.31, 1.78, 2.62, 3.37, 4.74, 5.98, 6.86, 7.98, 9.06, 10.1]</font> uv-pixels</td></tr>\n",
       "<tr><td>AW kernel support bw</td><td><font color=\"blue\">[10, 10.1, 10.1, 10.2, 10.3, 10.6, 11.1, 11.7, 12.1, 12.8, 13.5, 14.2]</font> uv-pixels</td></tr>\n",
       "<tr><td>W kernel support bw, ff</td><td><font color=\"blue\">[80.2, 80.4, 80.7, 81.3, 82.7, 84.4, 88.5, 93.2, 97, 102, 108, 114]</font> pixels</td></tr>\n",
       "<tr><th colspan=\"2\">-- I/O --</th></tr><tr><td>Visibility Buffer</td><td><font color=\"blue\">0.24</font> PetaBytes</td></tr>\n",
       "<tr><td>Working (cache) memory</td><td><font color=\"blue\">0.0198</font> TeraBytes</td></tr>\n",
       "<tr><td>Visibility I/O Rate</td><td><font color=\"blue\">17.1</font> TeraBytes/s</td></tr>\n",
       "<tr><td>Inter-Facet I/O Rate</td><td><font color=\"blue\">0.363</font> TeraBytes/s</td></tr>\n",
       "<tr><th colspan=\"2\">-- Compute --</th></tr><tr><td>Total Compute Requirement</td><td><font color=\"blue\">0.794</font> PetaFLOPS</td></tr>\n",
       "<tr><td>-> DFT</td><td><font color=\"blue\">0.073</font> PetaFLOPS</td></tr>\n",
       "<tr><td>-> Degrid</td><td><font color=\"blue\">0.243</font> PetaFLOPS</td></tr>\n",
       "<tr><td>-> FFT</td><td><font color=\"blue\">0.0307</font> PetaFLOPS</td></tr>\n",
       "<tr><td>-> Flag</td><td><font color=\"blue\">7.75e-05</font> PetaFLOPS</td></tr>\n",
       "<tr><td>-> Grid</td><td><font color=\"blue\">0.243</font> PetaFLOPS</td></tr>\n",
       "<tr><td>-> Gridding Kernel Update</td><td><font color=\"blue\">0.0074</font> PetaFLOPS</td></tr>\n",
       "<tr><td>-> IFFT</td><td><font color=\"blue\">0.0307</font> PetaFLOPS</td></tr>\n",
       "<tr><td>-> Identify Component</td><td><font color=\"blue\">0.000121</font> PetaFLOPS</td></tr>\n",
       "<tr><td>-> Phase Rotation</td><td><font color=\"blue\">0.0782</font> PetaFLOPS</td></tr>\n",
       "<tr><td>-> Reprojection</td><td><font color=\"blue\">0.0885</font> PetaFLOPS</td></tr>\n",
       "<tr><td>-> Subtract Image Component</td><td><font color=\"blue\">1.71e-07</font> PetaFLOPS</td></tr>\n",
       "<tr><td>-> Subtract Visibility</td><td><font color=\"blue\">4.89e-05</font> PetaFLOPS</td></tr>\n",
       "</table>"
      ],
      "text/plain": [
       "<IPython.core.display.HTML object>"
      ]
     },
     "metadata": {},
     "output_type": "display_data"
    },
    {
     "data": {
      "image/png": "[encoded data removed]",
      "text/plain": [
       "<matplotlib.figure.Figure at 0x10c053490>"
      ]
     },
     "metadata": {},
     "output_type": "display_data"
    }
   ],
   "source": [
    "interact_manual(iapi.evaluate_hpso_optimized, hpso_key=toggles(available_hpsos), verbosity=toggles(verbose_display));"
   ]
  },
  {
   "cell_type": "markdown",
   "metadata": {},
   "source": [
    "## We can also interactively play with parameters (via sliders)\n",
    "\n",
    "### The first option is automatic updating of results as the sliders are moved. This may be sluggish"
   ]
  },
  {
   "cell_type": "code",
   "execution_count": null,
   "metadata": {
    "collapsed": false,
    "scrolled": false
   },
   "outputs": [],
   "source": [
    "interact(iapi.evaluate_telescope_manual, max_baseline=(10000,200000), Nf_max = (1,2**17,1), Nfacet=(1,10,1), Tsnap=(1.2,1800), \n",
    "         telescope=toggles(available_teles), band=toggles(available_bands),\n",
    "         pipeline=toggles(available_pipelines_all), verbosity=toggles(verbose_display));"
   ]
  },
  {
   "cell_type": "markdown",
   "metadata": {},
   "source": [
    "### The second option is manual triggering of recompute events (recommended). \n",
    "\n",
    "#### This allows more conveniently computing elaborate (slow) optimizations and visualizations per computation, as these are only run when required\n",
    "#### In this example, *Tsnap and Nfacet* are *automatically* chosen so as to minimize the value of Rflop"
   ]
  },
  {
   "cell_type": "code",
   "execution_count": null,
   "metadata": {
    "collapsed": false
   },
   "outputs": [],
   "source": [
    "interact_manual(iapi.evaluate_telescope_optimized, max_baseline=(10000,200000), Nf_max = (1,256000,1), telescope=toggles(available_teles), \n",
    "                band=toggles(available_bands), pipeline=toggles(available_pipelines_all), verbosity=toggles(verbose_display));"
   ]
  },
  {
   "cell_type": "markdown",
   "metadata": {},
   "source": [
    "## illustrating 1D \"parameter sweep\" + visualization functionality."
   ]
  },
  {
   "cell_type": "code",
   "execution_count": 9,
   "metadata": {
    "collapsed": false
   },
   "outputs": [
    {
     "data": {
      "text/html": [
       "<font color=\"blue\">Computing the result -- this may take several (tens of) seconds.</font>"
      ],
      "text/plain": [
       "<IPython.core.display.HTML object>"
      ]
     },
     "metadata": {},
     "output_type": "display_data"
    },
    {
     "name": "stdout",
     "output_type": "stream",
     "text": [
      "Starting sweep of parameter Nsource, evaluating expression Rflop over range (100, 10000) in 10 steps (i.e. 11 data points)\n",
      "> 0.0% done: Evaluating Rflop for Nsource = 100\n",
      "> 9.1% done: Evaluating Rflop for Nsource = 1090\n",
      "> 18.2% done: Evaluating Rflop for Nsource = 2080\n",
      "> 27.3% done: Evaluating Rflop for Nsource = 3070\n",
      "> 36.4% done: Evaluating Rflop for Nsource = 4060\n",
      "> 45.5% done: Evaluating Rflop for Nsource = 5050\n",
      "> 54.5% done: Evaluating Rflop for Nsource = 6040\n",
      "> 63.6% done: Evaluating Rflop for Nsource = 7030\n",
      "> 72.7% done: Evaluating Rflop for Nsource = 8020\n",
      "> 81.8% done: Evaluating Rflop for Nsource = 9010\n",
      "> 90.9% done: Evaluating Rflop for Nsource = 10000\n",
      "done with parameter sweep!\n"
     ]
    },
    {
     "data": {
      "image/png": "[encoded data removed]",
      "text/plain": [
       "<matplotlib.figure.Figure at 0x1115a0850>"
      ]
     },
     "metadata": {},
     "output_type": "display_data"
    },
    {
     "name": "stdout",
     "output_type": "stream",
     "text": [
      "100.0 , 1.5522166987\n",
      "1090.0 , 5.23050335769\n",
      "2080.0 , 8.90879001669\n",
      "3070.0 , 12.5870766757\n",
      "4060.0 , 16.2653633347\n",
      "5050.0 , 19.9436499937\n",
      "6040.0 , 23.6219366527\n",
      "7030.0 , 27.3002233117\n",
      "8020.0 , 30.9785099707\n",
      "9010.0 , 34.6567966296\n",
      "10000.0 , 38.3350832886\n"
     ]
    }
   ],
   "source": [
    "from IPython.display import display, HTML\n",
    "\n",
    "expression = 'Rflop'\n",
    "parameter = 'Nsource'\n",
    "param_val_min =100\n",
    "param_val_max = 10000\n",
    "number_steps = 10\n",
    "telescope = Telescopes.SKA1_Low\n",
    "pipeline = Pipelines.ICAL\n",
    "band=Bands.Low\n",
    "\n",
    "display(HTML('<font color=\"blue\">Computing the result -- this may take several (tens of) seconds.</font>'))\n",
    "cfg = PipelineConfig(telescope=telescope, pipeline=pipeline, band=band)\n",
    "(param_values, results) = iapi.eval_param_sweep_1d(cfg, expression=expression, parameter=parameter, param_val_min=param_val_min,\n",
    "                                                   param_val_max=param_val_max, number_steps=number_steps, verbose=False)\n",
    "header = 'Plotting %s/1e50 for %s in pipeline %s as a function of %s' % (expression, telescope, pipeline, parameter)\n",
    "iapi.plot_line_datapoints(header, param_values, np.array(results)/c.peta, xlabel=parameter, ylabel=expression)\n",
    "\n",
    "for i in range(len(param_values)):\n",
    "               print param_values[i], \",\", (results[i])/c.peta"
   ]
  },
  {
   "cell_type": "markdown",
   "metadata": {},
   "source": [
    "## illustrating 2D \"parameter sweep\" + visualization functionality."
   ]
  },
  {
   "cell_type": "code",
   "execution_count": null,
   "metadata": {
    "collapsed": false,
    "scrolled": true
   },
   "outputs": [],
   "source": [
    "from IPython.display import display, HTML\n",
    "\n",
    "telescope = Telescopes.SKA1_Mid\n",
    "band = Bands.Mid1\n",
    "pipeline = Pipelines.Fast_Img\n",
    "expression = 'Rflop'\n",
    "parameters = ('Bmax', 'Tobs')\n",
    "parameter_ranges = ((30000,150000),(0.15,2.0))\n",
    "number_steps = 4\n",
    "verbose = False\n",
    "\n",
    "display(HTML('<font color=\"blue\">Computing the result -- this may take several (tens of) seconds.</font>'))\n",
    "cfg = PipelineConfig(telescope=telescope, pipeline=pipeline, band=band)\n",
    "(p1_values, p2_values, results) = iapi.eval_param_sweep_2d(cfg, expression=expression, parameters=parameters, \n",
    "                                                           params_ranges=parameter_ranges, number_steps=number_steps, \n",
    "                                                           verbose=verbose)\n",
    "\n",
    "\n",
    "iapi.plot_2D_surface('%s/1e15 rate vs #Channels & Max Baseline' % expression,\n",
    "                     p1_values, p2_values, results/1e15, xlabel=parameters[0], \n",
    "                     ylabel=parameters[1], contours=np.array((0.5, 1.0)))\n",
    "iapi.plot_3D_surface('%s/1e15 rate vs #Channels & Max Baseline' % expression,\n",
    "                     p1_values, p2_values, results/1e15, xlabel=parameters[0], \n",
    "                     ylabel=parameters[1], zlabel=expression, contours=np.array((0.5, 1.0)))"
   ]
  },
  {
   "cell_type": "markdown",
   "metadata": {},
   "source": [
    "## Calculation results can be exported as CSV"
   ]
  },
  {
   "cell_type": "code",
   "execution_count": null,
   "metadata": {
    "collapsed": false,
    "scrolled": true
   },
   "outputs": [],
   "source": [
    "interact_manual(iapi.write_csv_hpsos,\n",
    "                filename=\"current_hpsos.csv\",\n",
    "                hpsos=SelectMultiple(options=available_hpsos, value=available_hpsos))"
   ]
  },
  {
   "cell_type": "code",
   "execution_count": 10,
   "metadata": {
    "collapsed": false,
    "scrolled": true
   },
   "outputs": [
    {
     "data": {
      "text/html": [
       "<font color=\"blue\">Calculating pipelines -- this may take quite a while.</font>"
      ],
      "text/plain": [
       "<IPython.core.display.HTML object>"
      ]
     },
     "metadata": {},
     "output_type": "display_data"
    },
    {
     "data": {
      "text/html": [
       "<p>Calculating Ingest (Low) [bldta] [spbf]...</p>"
      ],
      "text/plain": [
       "<IPython.core.display.HTML object>"
      ]
     },
     "metadata": {},
     "output_type": "display_data"
    },
    {
     "name": "stdout",
     "output_type": "stream",
     "text": [
      "Ingest not imaging - no need to optimise Tsnap and Nfacet\n"
     ]
    },
    {
     "data": {
      "text/html": [
       "<p>Calculating ICAL (Low) [bldta] [spbf]...</p>"
      ],
      "text/plain": [
       "<IPython.core.display.HTML object>"
      ]
     },
     "metadata": {},
     "output_type": "display_data"
    },
    {
     "data": {
      "text/html": [
       "<p>Calculating RCAL (Low) [bldta] [spbf]...</p>"
      ],
      "text/plain": [
       "<IPython.core.display.HTML object>"
      ]
     },
     "metadata": {},
     "output_type": "display_data"
    },
    {
     "name": "stdout",
     "output_type": "stream",
     "text": [
      "RCAL not imaging - no need to optimise Tsnap and Nfacet\n"
     ]
    },
    {
     "data": {
      "text/html": [
       "<p>Calculating DPrepA (Low) [bldta] [spbf]...</p>"
      ],
      "text/plain": [
       "<IPython.core.display.HTML object>"
      ]
     },
     "metadata": {},
     "output_type": "display_data"
    },
    {
     "data": {
      "text/html": [
       "<p>Calculating DPrepA_Image (Low) [bldta] [spbf]...</p>"
      ],
      "text/plain": [
       "<IPython.core.display.HTML object>"
      ]
     },
     "metadata": {},
     "output_type": "display_data"
    },
    {
     "data": {
      "text/html": [
       "<p>Calculating DPrepB (Low) [bldta] [spbf]...</p>"
      ],
      "text/plain": [
       "<IPython.core.display.HTML object>"
      ]
     },
     "metadata": {},
     "output_type": "display_data"
    },
    {
     "data": {
      "text/html": [
       "<p>Calculating DPrepC (Low) [bldta] [spbf]...</p>"
      ],
      "text/plain": [
       "<IPython.core.display.HTML object>"
      ]
     },
     "metadata": {},
     "output_type": "display_data"
    },
    {
     "data": {
      "text/html": [
       "<p>Calculating DPrepD (Low) [bldta] [spbf]...</p>"
      ],
      "text/plain": [
       "<IPython.core.display.HTML object>"
      ]
     },
     "metadata": {},
     "output_type": "display_data"
    },
    {
     "name": "stdout",
     "output_type": "stream",
     "text": [
      "DPrepD not imaging - no need to optimise Tsnap and Nfacet\n"
     ]
    },
    {
     "data": {
      "text/html": [
       "<p>Calculating Fast_Img (Low) [bldta] [spbf]...</p>"
      ],
      "text/plain": [
       "<IPython.core.display.HTML object>"
      ]
     },
     "metadata": {},
     "output_type": "display_data"
    },
    {
     "data": {
      "text/html": [
       "<p>Calculating Ingest (Mid1) [bldta] [spbf]...</p>"
      ],
      "text/plain": [
       "<IPython.core.display.HTML object>"
      ]
     },
     "metadata": {},
     "output_type": "display_data"
    },
    {
     "name": "stdout",
     "output_type": "stream",
     "text": [
      "Ingest not imaging - no need to optimise Tsnap and Nfacet\n"
     ]
    },
    {
     "data": {
      "text/html": [
       "<p>Calculating ICAL (Mid1) [bldta] [spbf]...</p>"
      ],
      "text/plain": [
       "<IPython.core.display.HTML object>"
      ]
     },
     "metadata": {},
     "output_type": "display_data"
    },
    {
     "data": {
      "text/html": [
       "<p>Calculating RCAL (Mid1) [bldta] [spbf]...</p>"
      ],
      "text/plain": [
       "<IPython.core.display.HTML object>"
      ]
     },
     "metadata": {},
     "output_type": "display_data"
    },
    {
     "name": "stdout",
     "output_type": "stream",
     "text": [
      "RCAL not imaging - no need to optimise Tsnap and Nfacet\n"
     ]
    },
    {
     "data": {
      "text/html": [
       "<p>Calculating DPrepA (Mid1) [bldta] [spbf]...</p>"
      ],
      "text/plain": [
       "<IPython.core.display.HTML object>"
      ]
     },
     "metadata": {},
     "output_type": "display_data"
    },
    {
     "data": {
      "text/html": [
       "<p>Calculating DPrepA_Image (Mid1) [bldta] [spbf]...</p>"
      ],
      "text/plain": [
       "<IPython.core.display.HTML object>"
      ]
     },
     "metadata": {},
     "output_type": "display_data"
    },
    {
     "data": {
      "text/html": [
       "<p>Calculating DPrepB (Mid1) [bldta] [spbf]...</p>"
      ],
      "text/plain": [
       "<IPython.core.display.HTML object>"
      ]
     },
     "metadata": {},
     "output_type": "display_data"
    },
    {
     "data": {
      "text/html": [
       "<p>Calculating DPrepC (Mid1) [bldta] [spbf]...</p>"
      ],
      "text/plain": [
       "<IPython.core.display.HTML object>"
      ]
     },
     "metadata": {},
     "output_type": "display_data"
    },
    {
     "data": {
      "text/html": [
       "<p>Calculating DPrepD (Mid1) [bldta] [spbf]...</p>"
      ],
      "text/plain": [
       "<IPython.core.display.HTML object>"
      ]
     },
     "metadata": {},
     "output_type": "display_data"
    },
    {
     "name": "stdout",
     "output_type": "stream",
     "text": [
      "DPrepD not imaging - no need to optimise Tsnap and Nfacet\n"
     ]
    },
    {
     "data": {
      "text/html": [
       "<p>Calculating Fast_Img (Mid1) [bldta] [spbf]...</p>"
      ],
      "text/plain": [
       "<IPython.core.display.HTML object>"
      ]
     },
     "metadata": {},
     "output_type": "display_data"
    },
    {
     "data": {
      "text/html": [
       "<p>Calculating Ingest (Mid2) [bldta] [spbf]...</p>"
      ],
      "text/plain": [
       "<IPython.core.display.HTML object>"
      ]
     },
     "metadata": {},
     "output_type": "display_data"
    },
    {
     "name": "stdout",
     "output_type": "stream",
     "text": [
      "Ingest not imaging - no need to optimise Tsnap and Nfacet\n"
     ]
    },
    {
     "data": {
      "text/html": [
       "<p>Calculating ICAL (Mid2) [bldta] [spbf]...</p>"
      ],
      "text/plain": [
       "<IPython.core.display.HTML object>"
      ]
     },
     "metadata": {},
     "output_type": "display_data"
    },
    {
     "data": {
      "text/html": [
       "<p>Calculating RCAL (Mid2) [bldta] [spbf]...</p>"
      ],
      "text/plain": [
       "<IPython.core.display.HTML object>"
      ]
     },
     "metadata": {},
     "output_type": "display_data"
    },
    {
     "name": "stdout",
     "output_type": "stream",
     "text": [
      "RCAL not imaging - no need to optimise Tsnap and Nfacet\n"
     ]
    },
    {
     "data": {
      "text/html": [
       "<p>Calculating DPrepA (Mid2) [bldta] [spbf]...</p>"
      ],
      "text/plain": [
       "<IPython.core.display.HTML object>"
      ]
     },
     "metadata": {},
     "output_type": "display_data"
    },
    {
     "data": {
      "text/html": [
       "<p>Calculating DPrepA_Image (Mid2) [bldta] [spbf]...</p>"
      ],
      "text/plain": [
       "<IPython.core.display.HTML object>"
      ]
     },
     "metadata": {},
     "output_type": "display_data"
    },
    {
     "data": {
      "text/html": [
       "<p>Calculating DPrepB (Mid2) [bldta] [spbf]...</p>"
      ],
      "text/plain": [
       "<IPython.core.display.HTML object>"
      ]
     },
     "metadata": {},
     "output_type": "display_data"
    },
    {
     "data": {
      "text/html": [
       "<p>Calculating DPrepC (Mid2) [bldta] [spbf]...</p>"
      ],
      "text/plain": [
       "<IPython.core.display.HTML object>"
      ]
     },
     "metadata": {},
     "output_type": "display_data"
    },
    {
     "data": {
      "text/html": [
       "<p>Calculating DPrepD (Mid2) [bldta] [spbf]...</p>"
      ],
      "text/plain": [
       "<IPython.core.display.HTML object>"
      ]
     },
     "metadata": {},
     "output_type": "display_data"
    },
    {
     "name": "stdout",
     "output_type": "stream",
     "text": [
      "DPrepD not imaging - no need to optimise Tsnap and Nfacet\n"
     ]
    },
    {
     "data": {
      "text/html": [
       "<p>Calculating Fast_Img (Mid2) [bldta] [spbf]...</p>"
      ],
      "text/plain": [
       "<IPython.core.display.HTML object>"
      ]
     },
     "metadata": {},
     "output_type": "display_data"
    },
    {
     "data": {
      "text/html": [
       "<p>Calculating Ingest (Mid5A) [bldta] [spbf]...</p>"
      ],
      "text/plain": [
       "<IPython.core.display.HTML object>"
      ]
     },
     "metadata": {},
     "output_type": "display_data"
    },
    {
     "name": "stdout",
     "output_type": "stream",
     "text": [
      "Ingest not imaging - no need to optimise Tsnap and Nfacet\n"
     ]
    },
    {
     "data": {
      "text/html": [
       "<p>Calculating ICAL (Mid5A) [bldta] [spbf]...</p>"
      ],
      "text/plain": [
       "<IPython.core.display.HTML object>"
      ]
     },
     "metadata": {},
     "output_type": "display_data"
    },
    {
     "data": {
      "text/html": [
       "<p>Calculating RCAL (Mid5A) [bldta] [spbf]...</p>"
      ],
      "text/plain": [
       "<IPython.core.display.HTML object>"
      ]
     },
     "metadata": {},
     "output_type": "display_data"
    },
    {
     "name": "stdout",
     "output_type": "stream",
     "text": [
      "RCAL not imaging - no need to optimise Tsnap and Nfacet\n"
     ]
    },
    {
     "data": {
      "text/html": [
       "<p>Calculating DPrepA (Mid5A) [bldta] [spbf]...</p>"
      ],
      "text/plain": [
       "<IPython.core.display.HTML object>"
      ]
     },
     "metadata": {},
     "output_type": "display_data"
    },
    {
     "data": {
      "text/html": [
       "<p>Calculating DPrepA_Image (Mid5A) [bldta] [spbf]...</p>"
      ],
      "text/plain": [
       "<IPython.core.display.HTML object>"
      ]
     },
     "metadata": {},
     "output_type": "display_data"
    },
    {
     "data": {
      "text/html": [
       "<p>Calculating DPrepB (Mid5A) [bldta] [spbf]...</p>"
      ],
      "text/plain": [
       "<IPython.core.display.HTML object>"
      ]
     },
     "metadata": {},
     "output_type": "display_data"
    },
    {
     "data": {
      "text/html": [
       "<p>Calculating DPrepC (Mid5A) [bldta] [spbf]...</p>"
      ],
      "text/plain": [
       "<IPython.core.display.HTML object>"
      ]
     },
     "metadata": {},
     "output_type": "display_data"
    },
    {
     "data": {
      "text/html": [
       "<p>Calculating DPrepD (Mid5A) [bldta] [spbf]...</p>"
      ],
      "text/plain": [
       "<IPython.core.display.HTML object>"
      ]
     },
     "metadata": {},
     "output_type": "display_data"
    },
    {
     "name": "stdout",
     "output_type": "stream",
     "text": [
      "DPrepD not imaging - no need to optimise Tsnap and Nfacet\n"
     ]
    },
    {
     "data": {
      "text/html": [
       "<p>Calculating Fast_Img (Mid5A) [bldta] [spbf]...</p>"
      ],
      "text/plain": [
       "<IPython.core.display.HTML object>"
      ]
     },
     "metadata": {},
     "output_type": "display_data"
    },
    {
     "data": {
      "text/html": [
       "<p>Calculating Ingest (Mid5B) [bldta] [spbf]...</p>"
      ],
      "text/plain": [
       "<IPython.core.display.HTML object>"
      ]
     },
     "metadata": {},
     "output_type": "display_data"
    },
    {
     "name": "stdout",
     "output_type": "stream",
     "text": [
      "Ingest not imaging - no need to optimise Tsnap and Nfacet\n"
     ]
    },
    {
     "data": {
      "text/html": [
       "<p>Calculating ICAL (Mid5B) [bldta] [spbf]...</p>"
      ],
      "text/plain": [
       "<IPython.core.display.HTML object>"
      ]
     },
     "metadata": {},
     "output_type": "display_data"
    },
    {
     "data": {
      "text/html": [
       "<p>Calculating RCAL (Mid5B) [bldta] [spbf]...</p>"
      ],
      "text/plain": [
       "<IPython.core.display.HTML object>"
      ]
     },
     "metadata": {},
     "output_type": "display_data"
    },
    {
     "name": "stdout",
     "output_type": "stream",
     "text": [
      "RCAL not imaging - no need to optimise Tsnap and Nfacet\n"
     ]
    },
    {
     "data": {
      "text/html": [
       "<p>Calculating DPrepA (Mid5B) [bldta] [spbf]...</p>"
      ],
      "text/plain": [
       "<IPython.core.display.HTML object>"
      ]
     },
     "metadata": {},
     "output_type": "display_data"
    },
    {
     "data": {
      "text/html": [
       "<p>Calculating DPrepA_Image (Mid5B) [bldta] [spbf]...</p>"
      ],
      "text/plain": [
       "<IPython.core.display.HTML object>"
      ]
     },
     "metadata": {},
     "output_type": "display_data"
    },
    {
     "data": {
      "text/html": [
       "<p>Calculating DPrepB (Mid5B) [bldta] [spbf]...</p>"
      ],
      "text/plain": [
       "<IPython.core.display.HTML object>"
      ]
     },
     "metadata": {},
     "output_type": "display_data"
    },
    {
     "data": {
      "text/html": [
       "<p>Calculating DPrepC (Mid5B) [bldta] [spbf]...</p>"
      ],
      "text/plain": [
       "<IPython.core.display.HTML object>"
      ]
     },
     "metadata": {},
     "output_type": "display_data"
    },
    {
     "data": {
      "text/html": [
       "<p>Calculating DPrepD (Mid5B) [bldta] [spbf]...</p>"
      ],
      "text/plain": [
       "<IPython.core.display.HTML object>"
      ]
     },
     "metadata": {},
     "output_type": "display_data"
    },
    {
     "name": "stdout",
     "output_type": "stream",
     "text": [
      "DPrepD not imaging - no need to optimise Tsnap and Nfacet\n"
     ]
    },
    {
     "data": {
      "text/html": [
       "<p>Calculating Fast_Img (Mid5B) [bldta] [spbf]...</p>"
      ],
      "text/plain": [
       "<IPython.core.display.HTML object>"
      ]
     },
     "metadata": {},
     "output_type": "display_data"
    },
    {
     "data": {
      "text/html": [
       "<p>Calculating Ingest (Mid5C) [bldta] [spbf]...</p>"
      ],
      "text/plain": [
       "<IPython.core.display.HTML object>"
      ]
     },
     "metadata": {},
     "output_type": "display_data"
    },
    {
     "name": "stdout",
     "output_type": "stream",
     "text": [
      "using 2x2.5GHz subbands from 4.6-9.6GHz for band 5\n",
      "Ingest not imaging - no need to optimise Tsnap and Nfacet\n"
     ]
    },
    {
     "data": {
      "text/html": [
       "<p>Calculating ICAL (Mid5C) [bldta] [spbf]...</p>"
      ],
      "text/plain": [
       "<IPython.core.display.HTML object>"
      ]
     },
     "metadata": {},
     "output_type": "display_data"
    },
    {
     "name": "stdout",
     "output_type": "stream",
     "text": [
      "using 2x2.5GHz subbands from 4.6-9.6GHz for band 5\n"
     ]
    },
    {
     "data": {
      "text/html": [
       "<p>Calculating RCAL (Mid5C) [bldta] [spbf]...</p>"
      ],
      "text/plain": [
       "<IPython.core.display.HTML object>"
      ]
     },
     "metadata": {},
     "output_type": "display_data"
    },
    {
     "name": "stdout",
     "output_type": "stream",
     "text": [
      "using 2x2.5GHz subbands from 4.6-9.6GHz for band 5\n",
      "RCAL not imaging - no need to optimise Tsnap and Nfacet\n"
     ]
    },
    {
     "data": {
      "text/html": [
       "<p>Calculating DPrepA (Mid5C) [bldta] [spbf]...</p>"
      ],
      "text/plain": [
       "<IPython.core.display.HTML object>"
      ]
     },
     "metadata": {},
     "output_type": "display_data"
    },
    {
     "name": "stdout",
     "output_type": "stream",
     "text": [
      "using 2x2.5GHz subbands from 4.6-9.6GHz for band 5\n"
     ]
    },
    {
     "data": {
      "text/html": [
       "<p>Calculating DPrepA_Image (Mid5C) [bldta] [spbf]...</p>"
      ],
      "text/plain": [
       "<IPython.core.display.HTML object>"
      ]
     },
     "metadata": {},
     "output_type": "display_data"
    },
    {
     "name": "stdout",
     "output_type": "stream",
     "text": [
      "using 2x2.5GHz subbands from 4.6-9.6GHz for band 5\n"
     ]
    },
    {
     "data": {
      "text/html": [
       "<p>Calculating DPrepB (Mid5C) [bldta] [spbf]...</p>"
      ],
      "text/plain": [
       "<IPython.core.display.HTML object>"
      ]
     },
     "metadata": {},
     "output_type": "display_data"
    },
    {
     "name": "stdout",
     "output_type": "stream",
     "text": [
      "using 2x2.5GHz subbands from 4.6-9.6GHz for band 5\n"
     ]
    },
    {
     "data": {
      "text/html": [
       "<p>Calculating DPrepC (Mid5C) [bldta] [spbf]...</p>"
      ],
      "text/plain": [
       "<IPython.core.display.HTML object>"
      ]
     },
     "metadata": {},
     "output_type": "display_data"
    },
    {
     "name": "stdout",
     "output_type": "stream",
     "text": [
      "using 2x2.5GHz subbands from 4.6-9.6GHz for band 5\n"
     ]
    },
    {
     "data": {
      "text/html": [
       "<p>Calculating DPrepD (Mid5C) [bldta] [spbf]...</p>"
      ],
      "text/plain": [
       "<IPython.core.display.HTML object>"
      ]
     },
     "metadata": {},
     "output_type": "display_data"
    },
    {
     "name": "stdout",
     "output_type": "stream",
     "text": [
      "using 2x2.5GHz subbands from 4.6-9.6GHz for band 5\n",
      "DPrepD not imaging - no need to optimise Tsnap and Nfacet\n"
     ]
    },
    {
     "data": {
      "text/html": [
       "<p>Calculating Fast_Img (Mid5C) [bldta] [spbf]...</p>"
      ],
      "text/plain": [
       "<IPython.core.display.HTML object>"
      ]
     },
     "metadata": {},
     "output_type": "display_data"
    },
    {
     "name": "stdout",
     "output_type": "stream",
     "text": [
      "using 2x2.5GHz subbands from 4.6-9.6GHz for band 5\n"
     ]
    },
    {
     "data": {
      "text/html": [
       "<font color=\"blue\">Results written to current_pipelines.csv.</font>"
      ],
      "text/plain": [
       "<IPython.core.display.HTML object>"
      ]
     },
     "metadata": {},
     "output_type": "display_data"
    }
   ],
   "source": [
    "interact_manual(iapi.write_csv_pipelines,\n",
    "                filename=\"current_pipelines.csv\",\n",
    "                telescopes=SelectMultiple(options=available_teles, value=available_teles),\n",
    "                bands=SelectMultiple(options=available_bands, value=available_bands),\n",
    "                pipelines=SelectMultiple(options=available_pipelines_all, value=available_pipelines_all))"
   ]
  },
  {
   "cell_type": "code",
   "execution_count": 11,
   "metadata": {
    "collapsed": false,
    "scrolled": true
   },
   "outputs": [
    {
     "data": {
      "text/html": [
       "<font color=\"blue\">Reading current_pipelines.csv...</font>"
      ],
      "text/plain": [
       "<IPython.core.display.HTML object>"
      ]
     },
     "metadata": {},
     "output_type": "display_data"
    },
    {
     "data": {
      "text/html": [
       "<font color=\"blue\">Reading reference_pipelines.csv...</font>"
      ],
      "text/plain": [
       "<IPython.core.display.HTML object>"
      ]
     },
     "metadata": {},
     "output_type": "display_data"
    },
    {
     "ename": "IOError",
     "evalue": "[Errno 2] No such file or directory: u'reference_pipelines.csv'",
     "output_type": "error",
     "traceback": [
      "\u001b[0;31m---------------------------------------------------------------------------\u001b[0m",
      "\u001b[0;31mIOError\u001b[0m                                   Traceback (most recent call last)",
      "\u001b[0;32m/Users/rosiebolton/Documents/SDP-PAR-MODEL/sdp-par-model/iPython/api_ipython.py\u001b[0m in \u001b[0;36mcompare_csv\u001b[0;34m(result_file, ref_file, ignore_modifiers)\u001b[0m\n\u001b[1;32m    908\u001b[0m         \u001b[0;31m# Read results and reference. Make lookup dictionary for the latter.\u001b[0m\u001b[0;34m\u001b[0m\u001b[0;34m\u001b[0m\u001b[0m\n\u001b[1;32m    909\u001b[0m         \u001b[0mresults\u001b[0m \u001b[0;34m=\u001b[0m \u001b[0mSkaIPythonAPI\u001b[0m\u001b[0;34m.\u001b[0m\u001b[0m_read_csv\u001b[0m\u001b[0;34m(\u001b[0m\u001b[0mresult_file\u001b[0m\u001b[0;34m)\u001b[0m\u001b[0;34m\u001b[0m\u001b[0m\n\u001b[0;32m--> 910\u001b[0;31m         \u001b[0mref\u001b[0m \u001b[0;34m=\u001b[0m \u001b[0mdict\u001b[0m\u001b[0;34m(\u001b[0m\u001b[0mSkaIPythonAPI\u001b[0m\u001b[0;34m.\u001b[0m\u001b[0m_read_csv\u001b[0m\u001b[0;34m(\u001b[0m\u001b[0mref_file\u001b[0m\u001b[0;34m)\u001b[0m\u001b[0;34m)\u001b[0m\u001b[0;34m\u001b[0m\u001b[0m\n\u001b[0m\u001b[1;32m    911\u001b[0m \u001b[0;34m\u001b[0m\u001b[0m\n\u001b[1;32m    912\u001b[0m         \u001b[0;32mdef\u001b[0m \u001b[0mstrip_modifiers\u001b[0m\u001b[0;34m(\u001b[0m\u001b[0mhead\u001b[0m\u001b[0;34m)\u001b[0m\u001b[0;34m:\u001b[0m\u001b[0;34m\u001b[0m\u001b[0m\n",
      "\u001b[0;32m/Users/rosiebolton/Documents/SDP-PAR-MODEL/sdp-par-model/iPython/api_ipython.py\u001b[0m in \u001b[0;36m_read_csv\u001b[0;34m(filename)\u001b[0m\n\u001b[1;32m    879\u001b[0m \u001b[0;34m\u001b[0m\u001b[0m\n\u001b[1;32m    880\u001b[0m         \u001b[0mdisplay\u001b[0m\u001b[0;34m(\u001b[0m\u001b[0mHTML\u001b[0m\u001b[0;34m(\u001b[0m\u001b[0;34m'<font color=\"blue\">Reading %s...</font>'\u001b[0m \u001b[0;34m%\u001b[0m \u001b[0mfilename\u001b[0m\u001b[0;34m)\u001b[0m\u001b[0;34m)\u001b[0m\u001b[0;34m\u001b[0m\u001b[0m\n\u001b[0;32m--> 881\u001b[0;31m         \u001b[0;32mwith\u001b[0m \u001b[0mopen\u001b[0m\u001b[0;34m(\u001b[0m\u001b[0mfilename\u001b[0m\u001b[0;34m,\u001b[0m \u001b[0;34m'rb'\u001b[0m\u001b[0;34m)\u001b[0m \u001b[0;32mas\u001b[0m \u001b[0mcsvfile\u001b[0m\u001b[0;34m:\u001b[0m\u001b[0;34m\u001b[0m\u001b[0m\n\u001b[0m\u001b[1;32m    882\u001b[0m             \u001b[0mr\u001b[0m \u001b[0;34m=\u001b[0m \u001b[0mcsv\u001b[0m\u001b[0;34m.\u001b[0m\u001b[0mreader\u001b[0m\u001b[0;34m(\u001b[0m\u001b[0mcsvfile\u001b[0m\u001b[0;34m)\u001b[0m\u001b[0;34m\u001b[0m\u001b[0m\n\u001b[1;32m    883\u001b[0m             \u001b[0mit\u001b[0m \u001b[0;34m=\u001b[0m \u001b[0miter\u001b[0m\u001b[0;34m(\u001b[0m\u001b[0mr\u001b[0m\u001b[0;34m)\u001b[0m\u001b[0;34m\u001b[0m\u001b[0m\n",
      "\u001b[0;31mIOError\u001b[0m: [Errno 2] No such file or directory: u'reference_pipelines.csv'"
     ]
    }
   ],
   "source": [
    "interact_manual(iapi.compare_csv,\n",
    "                result_file=\"current_pipelines.csv\",\n",
    "                ref_file=\"reference_pipelines.csv\")"
   ]
  },
  {
   "cell_type": "code",
   "execution_count": null,
   "metadata": {
    "collapsed": true
   },
   "outputs": [],
   "source": []
  }
 ],
 "metadata": {
  "kernelspec": {
   "display_name": "Python 2",
   "language": "python",
   "name": "python2"
  },
  "language_info": {
   "codemirror_mode": {
    "name": "ipython",
    "version": 2
   },
   "file_extension": ".py",
   "mimetype": "text/x-python",
   "name": "python",
   "nbconvert_exporter": "python",
   "pygments_lexer": "ipython2",
   "version": "2.7.11"
  }
 },
 "nbformat": 4,
 "nbformat_minor": 0
}
