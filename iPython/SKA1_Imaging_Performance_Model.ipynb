{
 "cells": [
  {
   "cell_type": "markdown",
   "metadata": {},
   "source": [
    "# This notebook provides interactive widgets to play with the imaging requirements for the SKA1 SDP\n",
    "\n",
    "This notebook was last tested with IPython notebook 4.1.0 using Python 2.7. If you have trouble running this notebook, please check version compatibility.\n",
    "\n",
    "## First, do the necessary set-up (run the code block below, first)\n",
    "\n",
    "These first few lines below import the IPython definitions and methods that we will use. \n",
    "Please Refer to `ipython_api.py` for the implementation:"
   ]
  },
  {
   "cell_type": "code",
   "execution_count": null,
   "metadata": {
    "collapsed": false,
    "scrolled": true
   },
   "outputs": [],
   "source": [
    "from __future__ import print_function\n",
    "from api_ipython import SkaIPythonAPI as iapi\n",
    "from ipywidgets import interact, interact_manual, fixed, ToggleButtons, Select, SelectMultiple\n",
    "from parameter_definitions import *\n",
    "from parameter_definitions import Constants as c\n",
    "from implementation import Implementation as imp, PipelineConfig\n",
    "%matplotlib inline\n",
    "\n",
    "verbose_display     = ['Overview', 'Details', 'Debug']\n",
    "def toggles(opts, *args, **kwargs): return ToggleButtons(options=opts, *args, **kwargs)"
   ]
  },
  {
   "cell_type": "markdown",
   "metadata": {},
   "source": [
    "## Using default values, we can compare telescopes side-by-side"
   ]
  },
  {
   "cell_type": "code",
   "execution_count": null,
   "metadata": {
    "collapsed": false,
    "scrolled": false
   },
   "outputs": [],
   "source": [
    "interact(iapi.compare_telescopes_default,\n",
    "                telescope_1=toggles(Telescopes.available_teles, description=\"telescope1\"),\n",
    "                telescope_2=toggles(Telescopes.available_teles, description=\"telescope2\"),\n",
    "                band_1=toggles(Bands.available_bands),\n",
    "                band_2=toggles(Bands.available_bands),\n",
    "                pipeline_1=toggles(Pipelines.available_pipelines),\n",
    "                pipeline_2=toggles(Pipelines.available_pipelines),\n",
    "                verbosity=toggles(verbose_display))"
   ]
  },
  {
   "cell_type": "markdown",
   "metadata": {},
   "source": [
    "## Using default values, can compute results for the High Priority Science Objectives"
   ]
  },
  {
   "cell_type": "code",
   "execution_count": null,
   "metadata": {
    "collapsed": false,
    "scrolled": false
   },
   "outputs": [],
   "source": [
    "interact(iapi.evaluate_hpso_optimized,\n",
    "         hpso_key=toggles(HPSOs.available_hpsos),\n",
    "         verbosity=toggles(verbose_display));"
   ]
  },
  {
   "cell_type": "markdown",
   "metadata": {},
   "source": [
    "## We can also interactively play with parameters (via sliders)\n",
    "\n",
    "The first option is automatic updating of results as the sliders are moved. This may be sluggish"
   ]
  },
  {
   "cell_type": "code",
   "execution_count": null,
   "metadata": {
    "collapsed": false,
    "scrolled": false
   },
   "outputs": [],
   "source": [
    "interact(iapi.evaluate_telescope_manual,\n",
    "         max_baseline=(10000,200000), Nf_max = (1,2**17,1), Nfacet=(1,10,1), Tsnap=(1.2,1800), \n",
    "         telescope=toggles(Telescopes.available_teles), band=toggles(Bands.available_bands),\n",
    "         pipeline=toggles(Pipelines.available_pipelines), verbosity=toggles(verbose_display));"
   ]
  },
  {
   "cell_type": "markdown",
   "metadata": {},
   "source": [
    "### The second option is manual triggering of recompute events (recommended). \n",
    "\n",
    "This allows more conveniently computing elaborate (slow) optimizations and visualizations per computation, as these are only run when required\n",
    "In this example, *Tsnap and Nfacet* are *automatically* chosen so as to minimize the value of Rflop"
   ]
  },
  {
   "cell_type": "code",
   "execution_count": null,
   "metadata": {
    "collapsed": false
   },
   "outputs": [],
   "source": [
    "interact_manual(iapi.evaluate_telescope_optimized,\n",
    "                max_baseline=(10000,200000), Nf_max = (1,256000,1), telescope=toggles(Telescopes.available_teles), \n",
    "                band=toggles(Bands.available_bands), pipeline=toggles(Pipelines.available_pipelines),\n",
    "                verbosity=toggles(verbose_display));"
   ]
  },
  {
   "cell_type": "markdown",
   "metadata": {},
   "source": [
    "## 1D \"parameter sweep\" + visualization functionality\n",
    "\n",
    "Tests a range of values for some parameter and generates a graph for an expression."
   ]
  },
  {
   "cell_type": "code",
   "execution_count": null,
   "metadata": {
    "collapsed": false
   },
   "outputs": [],
   "source": [
    "from IPython.display import display, HTML\n",
    "\n",
    "expression = 'Rflop'\n",
    "parameter = 'Tobs'\n",
    "param_val_min = 3600\n",
    "param_val_max = 360000\n",
    "number_steps = 99\n",
    "telescope = Telescopes.SKA1_Low\n",
    "pipeline = Pipelines.ICAL\n",
    "band=Bands.Low\n",
    "\n",
    "display(HTML('<font color=\"blue\">Computing the result -- this may take several (tens of) seconds.</font>'))\n",
    "cfg = PipelineConfig(telescope=telescope, pipeline=pipeline, band=band)\n",
    "(param_values, results) = iapi.eval_param_sweep_1d(cfg, expression_string=expression, parameter_string=parameter, \n",
    "                                                   param_val_min=param_val_min, param_val_max=param_val_max, \n",
    "                                                   number_steps=number_steps, verbose=False)\n",
    "header = 'Plotting %s/1e50 for %s in pipeline %s as a function of %s' % (expression, telescope, pipeline, parameter)\n",
    "iapi.plot_line_datapoints(header, param_values, np.array(results)/c.peta, xlabel=parameter, ylabel=expression)\n",
    "\n",
    "for i in range(len(param_values)):\n",
    "    print(param_values[i], \",\", (results[i])/c.peta)"
   ]
  },
  {
   "cell_type": "markdown",
   "metadata": {},
   "source": [
    "## 2D \"parameter sweep\" + visualization functionality\n",
    "\n",
    "Same as 1D sweep, but varies two parameters to build a 2D graph."
   ]
  },
  {
   "cell_type": "code",
   "execution_count": null,
   "metadata": {
    "collapsed": false,
    "scrolled": true
   },
   "outputs": [],
   "source": [
    "from IPython.display import display, HTML\n",
    "\n",
    "telescope = Telescopes.SKA1_Mid\n",
    "band = Bands.Mid1\n",
    "pipeline = Pipelines.Fast_Img\n",
    "expression = 'Rflop'\n",
    "parameters = ('Bmax', 'Tobs')\n",
    "parameter_ranges = ((30000,150000),(0.15,2.0))\n",
    "number_steps = 4\n",
    "verbose = False\n",
    "\n",
    "display(HTML('<font color=\"blue\">Computing the result -- this may take several (tens of) seconds.</font>'))\n",
    "cfg = PipelineConfig(telescope=telescope, pipeline=pipeline, band=band)\n",
    "(p1_values, p2_values, results) = iapi.eval_param_sweep_2d(cfg, expression_string=expression, parameters=parameters, \n",
    "                                                           params_ranges=parameter_ranges, number_steps=number_steps, \n",
    "                                                           verbose=verbose)\n",
    "\n",
    "\n",
    "iapi.plot_2D_surface('%s/1e15 rate vs #Channels & Max Baseline' % expression,\n",
    "                     p1_values, p2_values, results/1e15, xlabel=parameters[0], \n",
    "                     ylabel=parameters[1], contours=np.array((0.5, 1.0)))\n",
    "iapi.plot_3D_surface('%s/1e15 rate vs #Channels & Max Baseline' % expression,\n",
    "                     p1_values, p2_values, results/1e15, xlabel=parameters[0], \n",
    "                     ylabel=parameters[1], zlabel=expression, contours=np.array((0.5, 1.0)))"
   ]
  }
 ],
 "metadata": {
  "kernelspec": {
   "display_name": "Python 2",
   "language": "python",
   "name": "python2"
  },
  "language_info": {
   "codemirror_mode": {
    "name": "ipython",
    "version": 2
   },
   "file_extension": ".py",
   "mimetype": "text/x-python",
   "name": "python",
   "nbconvert_exporter": "python",
   "pygments_lexer": "ipython2",
   "version": "2.7.11"
  },
  "widgets": {
   "state": {
    "0116b5afd70543f59c259cc68b2ec9a9": {
     "views": []
    },
    "022ad2fcae5a441d9d531aa35365de87": {
     "views": []
    },
    "0c840938007a49abba37d5a7cb58ef41": {
     "views": []
    },
    "148a0d8f8ae648bd942cc9ecac57ace4": {
     "views": []
    },
    "14ea15a6c18a4f559fafa0c9cd411982": {
     "views": []
    },
    "16fefc704e964aee892df83faed6d508": {
     "views": []
    },
    "2142c1563b8e41fabe12ae467bd5e156": {
     "views": []
    },
    "38160cb3a3394ef793431668bc8479e8": {
     "views": []
    },
    "4246d5fb57a7415f8ad7b2acd54937d7": {
     "views": []
    },
    "4d005349a923441a8db67838023e98a9": {
     "views": []
    },
    "5295ed36cb02445fa54d6722808a013a": {
     "views": [
      {
       "cell_index": 3
      }
     ]
    },
    "5d997c305e8f4a75827ce41c925f95da": {
     "views": []
    },
    "6416f98561044b3e9299f038eb74c132": {
     "views": []
    },
    "6881818856ec4c7ea90f550c659eb192": {
     "views": []
    },
    "68e46a9dec144df3bfdc39c6f1b82a8d": {
     "views": []
    },
    "6c9e5cf798da4264abf1597676bc8465": {
     "views": []
    },
    "7a8be165d9e24dbb86e9509847b5543c": {
     "views": []
    },
    "7b416ceb702a4cb8ad77e7b79685f583": {
     "views": []
    },
    "8a2a25b532894136b0fd12fae7aa6d19": {
     "views": []
    },
    "8f6e48aae5b6477dbf8de48e046c745d": {
     "views": []
    },
    "9047446c5f6049a9a6aa33e94a02714d": {
     "views": []
    },
    "930a804b80104caa882d7a248e2c7f32": {
     "views": []
    },
    "94b436e737c946ac9465a309ad35dc38": {
     "views": []
    },
    "9737145444004d4abd85a784c2bef5e0": {
     "views": []
    },
    "977d6e4bf0af45419543f2bfb8c620c2": {
     "views": []
    },
    "99cef9e2009b428abc91421c7e660eec": {
     "views": []
    },
    "a4c5f209c7d748a5bad3ebedafe40b13": {
     "views": []
    },
    "a5fb3a41dfbf40f5a1cf1796908f53e5": {
     "views": []
    },
    "a99fc18053f445358210e768a1a09f66": {
     "views": []
    },
    "aa7c7484d3ee4bfeb2a6c66137bfaf7c": {
     "views": []
    },
    "ac0294952e944a98bce94e2e0c5ea561": {
     "views": []
    },
    "b1d80e3ab0364ac7979494ff82e002e4": {
     "views": []
    },
    "b7998d4e5cfb4a2ebb15c34d4634792a": {
     "views": []
    },
    "b96d4731d2de485ab88c1f807f88accf": {
     "views": [
      {
       "cell_index": 5
      }
     ]
    },
    "c59047bf688448139545dafec6a01b7f": {
     "views": []
    },
    "d745237b0cf9419b98e66a9cc7f5163a": {
     "views": []
    },
    "dbc6175e332a45eab5b40bba8de5e25e": {
     "views": []
    },
    "e185c22c6c18445dadfea58a112e51eb": {
     "views": []
    }
   },
   "version": "1.1.2"
  }
 },
 "nbformat": 4,
 "nbformat_minor": 0
}
