{
 "metadata": {
  "name": "",
  "signature": "sha256:2afd9dc3090d03975cb92e0c9b34a4ccfbcad58afa8862e0c5e18a82017f5905"
 },
 "nbformat": 3,
 "nbformat_minor": 0,
 "worksheets": [
  {
   "cells": [
    {
     "cell_type": "markdown",
     "metadata": {},
     "source": [
      "_This notebook is an iPython translation of the M7 PDR05 Excel Spreadsheet, interpreted along the same iPython notebook template as originally done by **Juande Santander-Vela** in his separate analysis of M7 Milestone document PDR05._\n",
      "\n",
      "_This is an interactive document that includes blocks of code that can be used to evaluate equations if **sympy** and **astropy** are available. While overlapping in scope with \"Full Computational Requirements for SDP.ipynb\" and \"Parametric Models of SDP Compute Requirements.ipynb\", the equations in this document have been independently derived and should (where possible) be tested against the source Excel Spreadsheet, as well as the other reference documents._ \n",
      "\n",
      "_Equations may be evaluated for the different telescopes and imaging modes, either numerically or symbolically_ \n",
      "\n",
      "_The owner of this notebook document is **Francois Malan** of Space Advisory Company._"
     ]
    },
    {
     "cell_type": "code",
     "collapsed": true,
     "input": [
      "# When running this code block, make sure that it finishes before running the following block. \n",
      "# When execution starts, the Cell nr is shown as \"In [*]\" (in the left-hand margin). It updates to \"In [1]\" when done.\n",
      "# Only then, you can run the rest as a batch by selecting Cell -> Run All Below from the iPy Notebook menu.%t\n",
      "\n",
      "from sympy import init_session\n",
      "init_session(\n",
      "    use_latex=True,\n",
      "    use_unicode=True,\n",
      "    pretty_print=True,\n",
      "    quiet=True,\n",
      ")\n",
      "\n",
      "import sympy.physics.units as u\n",
      "from astropy import constants as const\n",
      "import numpy as np"
     ],
     "language": "python",
     "metadata": {},
     "outputs": [
      {
       "output_type": "stream",
       "stream": "stdout",
       "text": [
        "IPython console for SymPy 0.7.6 (Python 2.7.7-32-bit) (ground types: python)\n"
       ]
      }
     ],
     "prompt_number": 1
    },
    {
     "cell_type": "heading",
     "level": 1,
     "metadata": {},
     "source": [
      "1. Definitions:"
     ]
    },
    {
     "cell_type": "heading",
     "level": 2,
     "metadata": {},
     "source": [
      "Output Parameters we are interested in:"
     ]
    },
    {
     "cell_type": "markdown",
     "metadata": {},
     "source": [
      "|**Symbol**|**Python**|**Description**|\n",
      "|-|-|-|\n",
      "| $R_{FLOP}$ | Rflop | Overall flop rate |\n",
      "| $M_{buf,vis}$ | Mbuf_vis | Buffer size (bytes) |\n",
      "| $R_{IO}$ | Rio | Overall I/O rate, Bytes/s |"
     ]
    },
    {
     "cell_type": "code",
     "collapsed": false,
     "input": [
      "Rflop, Mbuf_vis, Rio = symbols(\"R_flop, M_buf\\,vis, R_io\", positive=True)"
     ],
     "language": "python",
     "metadata": {},
     "outputs": [],
     "prompt_number": 2
    },
    {
     "cell_type": "heading",
     "level": 2,
     "metadata": {},
     "source": [
      "Fixed values"
     ]
    },
    {
     "cell_type": "markdown",
     "metadata": {},
     "source": [
      "|**Symbol**|**Python**|**Description**|\n",
      "|-|-|-|\n",
      "| $c$ | c | Speed of light in a vacuum |\n",
      "| $\\Omega_E$ | Omega_E | Angular rotational velocity of the Earth |\n",
      "| $R_{Earth}$ | R_Earth | Radius of the Earth |"
     ]
    },
    {
     "cell_type": "code",
     "collapsed": false,
     "input": [
      "c = const.c.value * u.m / u.s\n",
      "Omega_E, R_Earth = symbols(\"Omega_E, R_Earth\", positive=True)"
     ],
     "language": "python",
     "metadata": {},
     "outputs": [],
     "prompt_number": 3
    },
    {
     "cell_type": "heading",
     "level": 2,
     "metadata": {},
     "source": [
      "Assumed values"
     ]
    },
    {
     "cell_type": "heading",
     "level": 3,
     "metadata": {},
     "source": [
      "All telescopes"
     ]
    },
    {
     "cell_type": "markdown",
     "metadata": {},
     "source": [
      "*May need global tweaking*"
     ]
    },
    {
     "cell_type": "markdown",
     "metadata": {},
     "source": [
      "|**Symbol**|**Python**|**Value**|**Description**|\n",
      "|-|-|-|-|\n",
      "| $N_{kernel}$ | Naa | 9 | Linear size of the combined $A$ and $W$ kernels (pixels). This size is at the low end of the range 9-15 given by [RD11] in Section 4.4.2 of their paper. |\n",
      "| $N_{mm}$ | Nmm | 4| |\n",
      "| $N_{pp}$ | Npp | 4| Number of polarisation products that are processed |\n",
      "| $T_{ion}$ | T_ion | 60 | Ionospheric timescale |\n",
      "| $\\epsilon_{w}$ | epsilon_w | 0.01 | Amplitude level of w-kernels to include. Value 0.01 is used in [RD6] where it is shown to give kernel sizes in rough agreement with CASA package.|\n",
      "|$M_{vis}$| Mvis | 12 | Size of visibility datum in the buffer |\n",
      "|$W_{curve}$|Wcurve||Minimum deviation of the W coordinate due to Earth\u2019s curvature|\n",
      "|$Q_{bw}$|Qbw|1 |Bandwidth quality factor, determining how well bandwidth smearing can be controlled|\n",
      "|$Q_{w}$|Qw|1 | Quality factor for w-projection correction. Value 1 corresponds to correction of maximal w values.  For comparison [RD7] uses values 0.1\u20140.3 |\n",
      "|$Q_{GCF}$|Qgcf|8|Oversampling factor of w-convolution kernels|\n",
      "|$Q_{fcw}$|Qfcw|10|Number of adjacent frequency channels for which baseline dependent kernels can be reused|\n"
     ]
    },
    {
     "cell_type": "code",
     "collapsed": false,
     "input": [
      "Naa, Nmm, Npp = symbols(\"N_k N_mm N_pp\", integer=True, positive=True)\n",
      "Tion = symbols(\"T_ion\", positive=True)\n",
      "epsilon_w = symbols(\"\\epsilon_w\", positive=True)\n",
      "Mvis = symbols(\"M_vis\", positive=True)\n",
      "Wcurve = symbols(\"W_curve\", positive=True)\n",
      "Qbw, Qw, Qgcf, Qfcv = symbols(\"Q_bw, Q_w, Q_GCF, Q_fcv\", positive=True)"
     ],
     "language": "python",
     "metadata": {},
     "outputs": [],
     "prompt_number": 4
    },
    {
     "cell_type": "heading",
     "level": 3,
     "metadata": {},
     "source": [
      "Spectral vs Continuum vs Fast Imaging (i.e. slow transients)"
     ]
    },
    {
     "cell_type": "markdown",
     "metadata": {},
     "source": [
      "*This is the same for all telescopes and bands*"
     ]
    },
    {
     "cell_type": "markdown",
     "metadata": {},
     "source": [
      "|***Telescope parameters***\n",
      "|-|-|-|-|-|-|\n",
      "| | Symbol | Python | Continuum | Spectral | SlowTrans |\n",
      "| Baseline length that (Fbshort+Fbmid), i.e. 90% of baselines are shorter than | $B_{lim,mid}$ | Blim_mid | $20000$ | n/a | $20000$\n",
      "| Field of view factor | $Q_{FoV}$| Qfov | $1.8$ | $1$ | $0.9$ |\n",
      "| Number of output map channels | $N_{f, out}$ | Nf_out | $500$ | *computed* | *computed*|\n",
      "| Number of channels for gridding at longest baseline | $N_{f, used}$ | Nf_used | *computed* | *computed* | *computed*|\n",
      "| Number of major CLEAN cycles to be done | $N_{major}$ | Nmajor | $10$ | $1$ | $1$ |\n",
      "| Observation length in hours |$T_{obs}$ | Tobs  | $6$  | $6$  | $0$  |\n",
      "| Quality factor defining the oversampling of synthesised beam | $Q_{pix}$ | Qpix | $2.5$ | $2.5$ | $1.5$\n"
     ]
    },
    {
     "cell_type": "code",
     "collapsed": false,
     "input": [
      "Blim_mid = symbols(\"B_lim\\,mid\", positive=True)\n",
      "Qfov = symbols(\"Q_FoV\", positive=True)\n",
      "Nf_out, Nf_used, Nmajor = symbols(\"N_f\\,out N_f\\,used N_major\", integer=True, positive=True)\n",
      "Tobs = symbols(\"T_obs\", positive=True)\n",
      "Qpix = symbols(\"Q_pix\", positive=True)"
     ],
     "language": "python",
     "metadata": {},
     "outputs": [],
     "prompt_number": 5
    },
    {
     "cell_type": "heading",
     "level": 3,
     "metadata": {},
     "source": [
      "Per-telescope parameters"
     ]
    },
    {
     "cell_type": "markdown",
     "metadata": {},
     "source": [
      "*Subject to change*"
     ]
    },
    {
     "cell_type": "markdown",
     "metadata": {},
     "source": [
      "|***Telescope parameters***\n",
      "|-|-|-|-|-|-|\n",
      "| | Symbol | Python | SKA1-Low | SKA1-Mid | SKA1-Survey |\n",
      "| Originally specified maximum baseline according to SKAO (km)     | $B_{max,ref}$|Bmax_ref| $100$|$200$|$50$|\n",
      "|Maximum baseline chosen for calculations (km)                     | $B_{max}$|Bmax| $100$|$120$|$50$|\n",
      "| Fraction of baselines short enough for data to be averaged to frequency resolution of output prior to gridding. (Only relevant for continuum modes) | $F_{b,short}$ | Fb_short | $0.5$ | $0.5$ | $0.1$ |\n",
      "| Minimum frequency (of the chosen band) | $f_{min}$ | freq_min | 50 Mhz | depends on band | depends on band |\n",
      "| Maximum frequency (of the chosen band) | $f_{max}$ | freq_max | 350 Mhz | depends on band | depends on band |\n",
      "| Originally specified number of frequency channels from corellator    |$N_{f,max}$||$256000$|$256000$|$256000$|\n",
      "| Number of frequency channels from corellator                   |$N_{f,max}$|Nf_max|$64000$|$96000$|$64000$|\n",
      "| Number of stations/antennas                                    |$N_{a}$|Na|$1024$|$256$|$96$|\n",
      "| Number of beams                                                |$N_{beam}$|Nbeam|$1$|$1$|$36$|\n",
      "| Antenna/Station Diameter (m)                                   |$D_{s}$|Ds|$35$|$15$|$15$|\n",
      "| Correlator dump time appropriate for original maximum baseline (s)                                     |$T_{dump,ref}$|Tdump_ref|$0.6$|$0.08$|$0.3$|"
     ]
    },
    {
     "cell_type": "code",
     "collapsed": false,
     "input": [
      "Bmax_ref, Bmax = symbols(\"B_max\\,ref B_max\", positive=True)\n",
      "Fb_short, Fb_short_tel, Fb_mid = symbols(\"F_b\\,short F_b\\,short\\,tel F_b\\,mid\")\n",
      "freq_min, freq_max = symbols(\"f_min f_max\")\n",
      "Nf_max, Nf_used, Nf_no_smear = symbols(\"N_{f\\,max} N_{f\\,used} N_{f\\,no-smear}\")\n",
      "Na, Nbeam = symbols(\"N_a N_beam\", integer=True, positive=True)\n",
      "Ds, Tdump_ref = symbols(\"D_s T_dump\\,ref\", positive=True)\n",
      "wl, wl_max, wl_min, wl_sub_max, wl_sub_min = symbols(\"\\lambda \\lambda_max \\lambda_max \\lambda_{sub\\,max} \\lambda_{sub\\,min}\", positive=True)\n"
     ],
     "language": "python",
     "metadata": {},
     "outputs": [],
     "prompt_number": 6
    },
    {
     "cell_type": "heading",
     "level": 2,
     "metadata": {},
     "source": [
      "Derived parameters"
     ]
    },
    {
     "cell_type": "heading",
     "level": 3,
     "metadata": {},
     "source": [
      "definitions"
     ]
    },
    {
     "cell_type": "code",
     "collapsed": false,
     "input": [
      "# Orphaned variables (may be needed later on)\n",
      "Tsnap, Tsnap_min = symbols(\"T_snap T_{snap\\,min}\", positive=True)  # Snapshot timescale implemented\n",
      "Tdump = symbols(\"T_dump\", positive=True)  # Correlator dump time (s)\n",
      "psf_angle= symbols(r\"\\theta_{PSF}\", positive=True)\n",
      "pix_angle  = symbols(r\"\\theta_{pix}\", positive=True)\n",
      "Npix, Nminor = symbols(\"N_pix N_minor\", integer=True, positive=True)\n",
      "Ngw = symbols(\"N_gw\", positive=True)\n",
      "Theta_beam = symbols(r\"\\theta_{beam}\", positive=True)\n",
      "Theta_fov = symbols(r\"\\theta_{FoV}\", positive=True)\n",
      "Rrp = symbols(\"R_rp\", positive=True) # Reprojection Flop rate, per output channel"
     ],
     "language": "python",
     "metadata": {},
     "outputs": [],
     "prompt_number": 7
    },
    {
     "cell_type": "heading",
     "level": 3,
     "metadata": {},
     "source": [
      "computations"
     ]
    },
    {
     "cell_type": "code",
     "collapsed": false,
     "input": [
      "Tdump = Tdump_ref * Bmax_ref / Bmax # Correlator dump time\n",
      "wl_max = u.c / freq_min             # Maximum Wavelength\n",
      "wl_min = u.c / freq_max             # Minimum Wavelength\n",
      "wl = 0.5*(wl_max + wl_min)          # Representative Wavelength\n",
      "Theta_fov = 7.66 * wl * Qfov / (pi * Ds)\n",
      "Theta_beam = 3 * wl/(2*Bmax)\n",
      "Theta_pix = Theta_beam/(2*Qpix)\n",
      "Npix = Theta_fov / Theta_pix\n",
      "Rfft = 10 * Npix**2 * log(Npix,2) / Tsnap\n",
      "\n",
      "DeltaW_max = Qw * Max(Bmax*Tsnap*Omega_E/(2*wl), Bmax**2/(8*R_Earth*wl)) #W deviation catered for by W kernel, in units of typical wavelength\n",
      "Ngw = 2*Theta_fov * sqrt((DeltaW_max**2 * Theta_fov**2/4.0)+(DeltaW_max**1.5*Theta_fov/(epsilon_w*2*pi)))\n",
      "Ncvff = Qgcf*sqrt(Naa**2+Ngw**2)\n",
      "\n",
      "Nf_vis=(Nf_out*Fb_short)+(Nf_used*(1-Fb_short-Fb_mid))+(Nf_no_smear*Fb_mid)\n",
      "Cr=Nf_used/Nf_vis\n",
      "Nvis = Na*(Na-1)*Nf_used/(2*Tdump)/Cr * u.s # Number of visibilities per second to be gridded (after averaging short baselines to coarser freq resolution). Note multiplication by u.s to get rid of /s\n",
      "Rgrid = 8*Nmm*Nvis*(Ngw**2+Naa**2)\n",
      "\n",
      "Rccf = 5 *(Na-1)*Na*Nmm*Ncvff**2 * log(Ncvff,2)/(Tion*Qfcv)\n",
      "\n",
      "Rflop = 2 * Nmajor*Nbeam*Npp*((Nf_out*(Rrp + Rfft)+(Nf_used*Rccf)+Rgrid)) # Overall flop rate\n",
      "Mbuf_vis = 2 * Mvis * Nbeam * Npp * Nvis * Tobs / u.s # Note the division by u.s to get rid of pesky SI unit\n",
      "Rio = Mvis * Nmajor * Nbeam * Npp * Nvis"
     ],
     "language": "python",
     "metadata": {},
     "outputs": [],
     "prompt_number": 8
    },
    {
     "cell_type": "heading",
     "level": 1,
     "metadata": {},
     "source": [
      "2. Implementation:"
     ]
    },
    {
     "cell_type": "heading",
     "level": 2,
     "metadata": {},
     "source": [
      "Definitions & Methods for performing calculations"
     ]
    },
    {
     "cell_type": "code",
     "collapsed": false,
     "input": [
      "telescope_list = ['SKA1_Low', 'SKA1_Mid', 'SKA1_Survey'] \n",
      "imaging_modes = ['Continuum', 'Spectral', 'SlowTrans']\n",
      "\n",
      "bands_mid = {'1', '2', '3', '4', '5A', '5B'}\n",
      "bands_sur = {'1', '2A', '2B', '3A', '3B'}\n",
      "\n",
      "telescope_labels = dict(\n",
      "    zip(\n",
      "        telescope_list,\n",
      "        symbols('Low, Mid, Sur')\n",
      "    )\n",
      ")\n",
      "\n",
      "mode_labels = dict(\n",
      "    zip(\n",
      "        imaging_modes,\n",
      "        symbols('Continuum, Spectral, SlowTrans')\n",
      "    )\n",
      ")\n",
      "\n",
      "universal = {Omega_E : 0.0000727, # Used PDR05 Excel value, but should actually be 7.2921e-5,\n",
      "             R_Earth : 6400000 * u.m, # Used PDR05 Excel value, but should actually be  6.371e6,\n",
      "             Naa   : 9,\n",
      "             Npp  : 4,\n",
      "             Nmm  : 4,\n",
      "             Nf_max: 256000,        # maximum number of channels\n",
      "             Tion : 60.0,\n",
      "             epsilon_w : 0.01,\n",
      "             Mvis : 12.0,\n",
      "             Qbw  : 1.0,\n",
      "             Qw   : 1.0,\n",
      "             Qgcf : 8.0,\n",
      "             Qfcv : 10.0,\n",
      "             Blim_mid : 20000}  # Baseline length that(Fbshort+Fbmid, i.e. 90%) of baselines are shorter than\n",
      "\n",
      "telescope_info = {\n",
      "    'SKA1_Low': {\n",
      "        Tdump_ref: 0.6* u.s, # Correlator dump time in reference design\n",
      "        Na: 1024,            # number of antennas\n",
      "        Nbeam: 1,            # number of beams\n",
      "        Ds: 35 * u.m,        # station \"diameter\" in meters\n",
      "        Bmax: 66 * u.km,      # kilometers of max baseline\n",
      "        Bmax_ref: 100 * u.km, # kilometers of max baseline in reference design\n",
      "        Fb_short_tel : 0.5,   # Fraction of baselines short enough for data to be averaged to frequency\n",
      "                              # resolution of output prior to gridding. Only relevant for continuum modes\n",
      "    },\n",
      "    'SKA1_Mid': {  # Assuming band 1, for the moment. TODO: allow all bands to be computed.\n",
      "        Tdump_ref: 0.08 * u.s, # Correlator dump time in reference design\n",
      "        Na: 190+64,            # number of antennas\n",
      "        Nbeam: 1,          # number of beams\n",
      "        Ds: 15 * u.m,      # station \"diameter\" in meters\n",
      "        Bmax: 141 * u.km,     # kilometers of max baseline\n",
      "        Bmax_ref: 200 * u.km, # kilometers of max baseline in reference design\n",
      "        Fb_short_tel : 0.5, # Fraction of baselines short enough for data to be averaged to frequency\n",
      "                            # resolution of output prior to gridding. Only relevant for continuum modes\n",
      "    },\n",
      "    'SKA1_Survey': { # Assuming band 1, for the moment. TODO: allow all bands to be computed.\n",
      "        Tdump_ref: 0.3 * u.s, # Correlator dump time in reference design\n",
      "        Na: 96,               # number of antennas\n",
      "        Nbeam: 36,            # number of beams (36 because this is a PAF)\n",
      "        Ds: 15 * u.m,         # station \"diameter\" in meters\n",
      "        Bmax: 50 * u.km,     # kilometers of max baseline\n",
      "        Bmax_ref: 50 * u.km, # kilometers of max baseline in reference design\n",
      "        Fb_short_tel : 0.1,  # Fraction of baselines short enough for data to be averaged to frequency\n",
      "                             # resolution of output prior to gridding. Only relevant for continuum modes\n",
      "    },\n",
      "}\n",
      "\n",
      "band_info = {\n",
      "    'Low' : {\n",
      "        freq_min :  50e6 * u.Hz,\n",
      "        freq_max : 350e6 * u.Hz,\n",
      "    },\n",
      "    'Mid1' : {\n",
      "        freq_min :  350e6 * u.Hz,\n",
      "        freq_max : 1.05e9 * u.Hz,\n",
      "    },\n",
      "    'Mid2' : {\n",
      "        freq_min : 949.367e6 * u.Hz,\n",
      "        freq_max : 1.7647e9 * u.Hz,\n",
      "    },\n",
      "    'Mid3' : {\n",
      "        freq_min : 1.65e9 * u.Hz,\n",
      "        freq_max : 3.05e9 * u.Hz,\n",
      "    },\n",
      "    'Mid4' : {\n",
      "        freq_min : 2.80e9 * u.Hz,\n",
      "        freq_max : 5.18e9 * u.Hz,\n",
      "    },\n",
      "    'Mid5A' : {\n",
      "        freq_min : 4.60e9 * u.Hz,\n",
      "        freq_max : 7.10e9 * u.Hz,\n",
      "    },\n",
      "    'Mid5B' : {\n",
      "        freq_min : 11.3e9 * u.Hz,\n",
      "        freq_max : 13.8e9 * u.Hz,\n",
      "    },\n",
      "    'Sur1' : {\n",
      "        freq_min : 350e6 * u.Hz,\n",
      "        freq_max : 850e6 * u.Hz,\n",
      "    },\n",
      "    'Sur2A' : {\n",
      "        freq_min :  650e6 * u.Hz,\n",
      "        freq_max : 1.35e9 * u.Hz,\n",
      "    },\n",
      "    'Sur2B' : {\n",
      "        freq_min : 1.17e9 * u.Hz,\n",
      "        freq_max : 1.67e9 * u.Hz,\n",
      "    },\n",
      "    'Sur3A' : {\n",
      "        freq_min : 1.5e9 * u.Hz,\n",
      "        freq_max : 2.0e9 * u.Hz,\n",
      "    },\n",
      "    'Sur3B' : {\n",
      "        freq_min : 3.5e9 * u.Hz,\n",
      "        freq_max : 4.0e9 * u.Hz,\n",
      "    },\n",
      "}\n",
      "\n",
      "imaging_mode_info = {\n",
      "    'Continuum': {\n",
      "        Qfov:  1.8, # Field of view factor\n",
      "        Nmajor: 10, # Number of major CLEAN cycles to be done\n",
      "        Qpix:  2.5, # Quality factor of synthesised beam oversampling\n",
      "        Nf_out : 500,\n",
      "        Nf_used : ln(wl_max / wl_min) / ln((Theta_beam/(Theta_fov*Qbw)+1)), #Number of bands for gridding at longest baseline\n",
      "        Fb_short : Fb_short_tel,\n",
      "        Tobs : 6 * u.hours,\n",
      "        Fb_mid  : 1-0.1-Fb_short,\n",
      "        Nf_no_smear : log(wl_max/wl_min) / log(3*(wl/u.m) /(2*Blim_mid)/(Theta_fov*Qbw)+1) ,\n",
      "        #Tsnap : 75.761,  # Temporarily --> TODO remove.\n",
      "        Rrp : 50 * Npix**2 / Tsnap,\n",
      "    },\n",
      "    'Spectral': {\n",
      "        Qfov: 1.0, # Field of view factor\n",
      "        Nmajor: 1, # Number of major CLEAN cycles to be done        \n",
      "        Qpix: 2.5, # Quality factor of synthesised beam oversampling\n",
      "        Nf_out : Nf_max, #The same as the number of bands\n",
      "        Nf_used : Nf_max,\n",
      "        Fb_short : 0 * Fb_short_tel, # Need a symbolic expression to be able to be substuted; hence multiply by 0 \n",
      "        Tobs : 6 * u.hours,\n",
      "        Fb_mid : Fb_short,\n",
      "        Nf_no_smear : Nf_used * 0,\n",
      "        #Tsnap : 79.198,  # Temporarily --> TODO remove.\n",
      "        Rrp : 50 * Npix**2 / Tsnap,\n",
      "    },\n",
      "    'SlowTrans': {\n",
      "        Qfov: 0.9, # Field of view factor\n",
      "        Nmajor: 1, # Number of major CLEAN cycles to be done\n",
      "        Qpix: 1.5, # Quality factor of synthesised beam oversampling\n",
      "        Nf_out : ((u.c/wl_min)-(u.c/wl_max)) * u.s / 1.0e6,  # According to PDR05's spreadsheet. Had to manually multiply in the u.s to make units match\n",
      "        Nf_used : ln(wl_max / wl_min) / ln((Theta_beam/(Theta_fov*Qbw)+1)), #Number of bands for gridding at longest baseline\n",
      "        Fb_short : Fb_short_tel,\n",
      "        Tobs : Tdump,\n",
      "        Fb_mid  : 1-0.1-Fb_short,\n",
      "        Nf_no_smear : log(wl_max/wl_min) / log(3*(wl/u.m)/(2*Blim_mid)/(Theta_fov*Qbw)+1),\n",
      "        #Tsnap : 0.11348,  # Temporarily --> TODO remove.\n",
      "        Rrp : 0 * Tsnap,\n",
      "    },\n",
      "}\n",
      "\n",
      "def calc_tel(telescope=None, band=None, mode=None, expr=None):\n",
      "    '''\n",
      "    Evaluate an expression for a single telescope\n",
      "    '''\n",
      "    freq_range = {}\n",
      "    if telescope == 'SKA1_Low':\n",
      "        freq_range = band_info['Low']\n",
      "    elif telescope == 'SKA1_Mid':\n",
      "        if band == '1':\n",
      "            freq_range = band_info['Mid1']\n",
      "        elif band == '2':\n",
      "            freq_range = band_info['Mid2']\n",
      "        elif band == '3':\n",
      "            freq_range = band_info['Mid3']\n",
      "        elif band == '4':\n",
      "            freq_range = band_info['Mid4']\n",
      "        elif band == '5A':\n",
      "            freq_range = band_info['Mid5A']\n",
      "        elif band == '5B':\n",
      "            freq_range = band_info['Mid5B']\n",
      "        else:\n",
      "            raise Exception(\"Unknown band for Mid: %s\" % band)\n",
      "    elif telescope == 'SKA1_Sur':\n",
      "        if band == '1':\n",
      "            freq_range = band_info['Sur1']\n",
      "        elif band == '2A':\n",
      "            freq_range = band_info['Sur2A']\n",
      "        elif band == '2B':\n",
      "            freq_range = band_info['Sur2B']\n",
      "        elif band == '3A':\n",
      "            freq_range = band_info['Sur3A']\n",
      "        elif band == '3B':\n",
      "            freq_range = band_info['Sur3B']\n",
      "        else:\n",
      "            raise Exception(\"Unknown band for Sur: %s\" % band)\n",
      "    else:\n",
      "        raise Exception()\n",
      "        \n",
      "    # Concatenate all relevant dicionaries to make a unified dictionary for this combination\n",
      "    telescope_params = dict(dict(dict(telescope_info[telescope], **freq_range),**imaging_mode_info[mode]), **universal)\n",
      "    \n",
      "    # Shortcut for computing an expression for one mode of one telescope\n",
      "    return dict(\n",
      "        [('SKA1_%s-%s' % (telescope_labels[telescope], mode_labels[mode]), expr.subs(telescope_params).subs(telescope_params))]\n",
      "    )\n",
      "\n",
      "def eval_for_telescopes(expr,ev=None):\n",
      "    # Take into account that substitutions in subs are done _after_ evaluating \n",
      "    # the telescope-dependent substitution. If you want to run them before, you'll\n",
      "    # have to do substitute them first\n",
      "    result = {}\n",
      "    for t in telescope_list:\n",
      "        for m in imaging_modes: \n",
      "            telescope_params = dict(dict(telescope_info[t],**imaging_mode_info[m]), **universal)\n",
      "            tm = 'SKA1_%s-%s' % (telescope_labels[t], mode_labels[m])\n",
      "            if ev == None:\n",
      "                result[tm] = expr.subs(telescope_params).subs(telescope_params)\n",
      "            elif type(ev) == type(True):\n",
      "                result[tm] = expr.subs(telescope_params).subs(telescope_params).evalf()\n",
      "            elif type(ev) == type(1) and ev > 0:\n",
      "                result[tm] = expr.subs(telescope_params).subs(telescope_params).evalf(ev)                            \n",
      "    return result"
     ],
     "language": "python",
     "metadata": {},
     "outputs": [],
     "prompt_number": 9
    },
    {
     "cell_type": "heading",
     "level": 2,
     "metadata": {},
     "source": [
      "Example Computations:"
     ]
    },
    {
     "cell_type": "heading",
     "level": 2,
     "metadata": {},
     "source": [
      "Checking a symbolic expression"
     ]
    },
    {
     "cell_type": "code",
     "collapsed": false,
     "input": [],
     "language": "python",
     "metadata": {},
     "outputs": [],
     "prompt_number": 9
    },
    {
     "cell_type": "code",
     "collapsed": false,
     "input": [
      "blah = calc_tel('SKA1_Mid', band='3', mode='Spectral', expr=DeltaW_max)\n",
      "blah"
     ],
     "language": "python",
     "metadata": {},
     "outputs": [
      {
       "metadata": {},
       "output_type": "pyout",
       "prompt_number": 11,
       "text": [
        "{'SKA1_Mid-Spectral': 1.0*Max(2773.72552243292, 36.6116031511373*T_snap)}"
       ]
      }
     ],
     "prompt_number": 11
    },
    {
     "cell_type": "heading",
     "level": 3,
     "metadata": {},
     "source": [
      "For specific telescopes:"
     ]
    },
    {
     "cell_type": "code",
     "collapsed": false,
     "input": [
      "antwoord = calc_tel('SKA1_Mid', band='1', mode='Continuum', expr=Rflop)\n",
      "antwoord2 = calc_tel('SKA1_Mid', band='1', mode='Spectral', expr=Rflop)\n",
      "antwoord3 = calc_tel('SKA1_Mid', band='1', mode='SlowTrans', expr=Rflop)\n",
      "#print '\\n= %f, %f, %f' % (float(antwoord['SKA1_Mid-Continuum']), float(antwoord2['SKA1_Mid-Spectral']), float(antwoord3['SKA1_Mid-SlowTrans']))\n",
      "[antwoord, antwoord2, antwoord3]"
     ],
     "language": "python",
     "metadata": {},
     "outputs": [
      {
       "metadata": {},
       "output_type": "pyout",
       "prompt_number": 12,
       "text": [
        "[{'SKA1_Mid-Continuum': 12048899.9073092*(1.10205386429106*(0.0688783665181911*Max(679.996793502557, 8.97557186045021*T_snap)**2/pi**2 + 26.2446883232*Max(679.996793502557, 8.97557186045021*T_snap)**1.5/pi**2)/pi**2 + 81)*log(8.0*sqrt(1.10205386429106*(0.0688783665181911*Max(679.996793502557, 8.97557186045021*T_snap)**2/pi**2 + 26.2446883232*Max(679.996793502557, 8.97557186045021*T_snap)**1.5/pi**2)/pi**2 + 81))/(log(2)*log(1.15734311056793e-5*pi + 1)) + 724875360.0*(1.10205386429106*(0.0688783665181911*Max(679.996793502557, 8.97557186045021*T_snap)**2/pi**2 + 26.2446883232*Max(679.996793502557, 8.97557186045021*T_snap)**1.5/pi**2)/pi**2 + 81)*(250.0 + 0.439444915467244/log(8.15926892950392e-5*pi + 1) + 0.109861228866811/log(1.15734311056793e-5*pi + 1)) + 3.73289473152e+17/(pi**2*T_snap) + 7.46578946304e+16*log(432024.0/pi)/(pi**2*T_snap*log(2))},\n",
        " {'SKA1_Mid-Spectral': 280764962133.333*(0.340140081571314*(0.0212587550982071*Max(679.996793502557, 8.97557186045021*T_snap)**2/pi**2 + 14.5803824017778*Max(679.996793502557, 8.97557186045021*T_snap)**1.5/pi**2)/pi**2 + 81)*log(8.0*sqrt(0.340140081571314*(0.0212587550982071*Max(679.996793502557, 8.97557186045021*T_snap)**2/pi**2 + 14.5803824017778*Max(679.996793502557, 8.97557186045021*T_snap)**1.5/pi**2)/pi**2 + 81))/log(2) + 6311914600433.55*(0.0212587550982071*Max(679.996793502557, 8.97557186045021*T_snap)**2/pi**2 + 14.5803824017778*Max(679.996793502557, 8.97557186045021*T_snap)**1.5/pi**2)/pi**2 + 1.503101546496e+15 + 5.89889537820445e+18/(pi**2*T_snap) + 1.17977907564089e+18*log(240013.333333333/pi)/(pi**2*T_snap*log(2))},\n",
        " {'SKA1_Mid-SlowTrans': 1204889.99073092*(0.275513466072764*(0.0172195916295478*Max(679.996793502557, 8.97557186045021*T_snap)**2/pi**2 + 13.1223441616*Max(679.996793502557, 8.97557186045021*T_snap)**1.5/pi**2)/pi**2 + 81)*log(8.0*sqrt(0.275513466072764*(0.0172195916295478*Max(679.996793502557, 8.97557186045021*T_snap)**2/pi**2 + 13.1223441616*Max(679.996793502557, 8.97557186045021*T_snap)**1.5/pi**2)/pi**2 + 81))/(log(2)*log(2.31468622113586e-5*pi + 1)) + 72487536.0*(0.275513466072764*(0.0172195916295478*Max(679.996793502557, 8.97557186045021*T_snap)**2/pi**2 + 13.1223441616*Max(679.996793502557, 8.97557186045021*T_snap)**1.5/pi**2)/pi**2 + 81)*(350.0 + 0.439444915467244/log(0.000163185378590078*pi + 1) + 0.109861228866811/log(2.31468622113586e-5*pi + 1)) + 940689472343040.0*log(129607.2/pi)/(pi**2*T_snap*log(2))}]"
       ]
      }
     ],
     "prompt_number": 12
    },
    {
     "cell_type": "heading",
     "level": 3,
     "metadata": {},
     "source": [
      "For all telescopes:"
     ]
    },
    {
     "cell_type": "raw",
     "metadata": {},
     "source": [
      "Note: this has not yet been updated to compute all bands explicitly (currently only permutes telescopes and modes)"
     ]
    },
    {
     "cell_type": "code",
     "collapsed": false,
     "input": [
      "eval_for_telescopes(Nf_max)"
     ],
     "language": "python",
     "metadata": {},
     "outputs": [
      {
       "metadata": {},
       "output_type": "pyout",
       "prompt_number": 13,
       "text": [
        "{'SKA1_Low-Continuum': 256000,\n",
        " 'SKA1_Low-SlowTrans': 256000,\n",
        " 'SKA1_Low-Spectral': 256000,\n",
        " 'SKA1_Mid-Continuum': 256000,\n",
        " 'SKA1_Mid-SlowTrans': 256000,\n",
        " 'SKA1_Mid-Spectral': 256000,\n",
        " 'SKA1_Sur-Continuum': 256000,\n",
        " 'SKA1_Sur-SlowTrans': 256000,\n",
        " 'SKA1_Sur-Spectral': 256000}"
       ]
      }
     ],
     "prompt_number": 13
    },
    {
     "cell_type": "heading",
     "level": 1,
     "metadata": {},
     "source": [
      "3. Results:"
     ]
    },
    {
     "cell_type": "heading",
     "level": 2,
     "metadata": {},
     "source": [
      "Evaluating the FLOP count analytically"
     ]
    },
    {
     "cell_type": "code",
     "collapsed": false,
     "input": [
      "Rflop"
     ],
     "language": "python",
     "metadata": {},
     "outputs": [
      {
       "latex": [
        "$$2 N_{beam} N_{major} N_{pp} \\left(\\frac{4 B_{max} N_{a} N_{mm}}{B_{max,ref} T_{dump,ref}} s \\left(N_{a} - 1\\right) \\left(N_{k}^{2} + \\frac{4 Q_{FoV}^{2}}{\\pi^{2} D_{s}^{2}} \\left(\\frac{1148205114.14 m}{f_{min} s} + \\frac{1148205114.14 m}{f_{max} s}\\right)^{2} \\left(\\frac{Q_{FoV} Q_{w}^{1.5}}{2 \\pi^{2} D_{s} \\epsilon_{w}} \\left(\\frac{1148205114.14 m}{f_{min} s} + \\frac{1148205114.14 m}{f_{max} s}\\right) \\max\\left(\\frac{B_{max}^{2}}{8 R_{Earth} \\left(\\frac{149896229.0 m}{f_{min} s} + \\frac{149896229.0 m}{f_{max} s}\\right)}, \\frac{B_{max} \\Omega_{E} T_{snap}}{\\frac{299792458.0 m}{f_{min} s} + \\frac{299792458.0 m}{f_{max} s}}\\right)^{1.5} + \\frac{0.25 Q_{FoV}^{2} Q_{w}^{2}}{\\pi^{2} D_{s}^{2}} \\left(\\frac{1148205114.14 m}{f_{min} s} + \\frac{1148205114.14 m}{f_{max} s}\\right)^{2} \\max\\left(\\frac{B_{max}^{2}}{8 R_{Earth} \\left(\\frac{149896229.0 m}{f_{min} s} + \\frac{149896229.0 m}{f_{max} s}\\right)}, \\frac{B_{max} \\Omega_{E} T_{snap}}{\\frac{299792458.0 m}{f_{min} s} + \\frac{299792458.0 m}{f_{max} s}}\\right)^{2}\\right)\\right) \\left(F_{b,mid} N_{{f,no-smear}} + F_{b,short} N_{f,out} + N_{{f,used}} \\left(- F_{b,mid} - F_{b,short} + 1\\right)\\right) + \\frac{N_{a} N_{mm} N_{{f,used}} Q_{GCF}^{2}}{Q_{fcv} T_{ion} \\log{\\left (2 \\right )}} \\left(5 N_{a} - 5\\right) \\left(N_{k}^{2} + \\frac{4 Q_{FoV}^{2}}{\\pi^{2} D_{s}^{2}} \\left(\\frac{1148205114.14 m}{f_{min} s} + \\frac{1148205114.14 m}{f_{max} s}\\right)^{2} \\left(\\frac{Q_{FoV} Q_{w}^{1.5}}{2 \\pi^{2} D_{s} \\epsilon_{w}} \\left(\\frac{1148205114.14 m}{f_{min} s} + \\frac{1148205114.14 m}{f_{max} s}\\right) \\max\\left(\\frac{B_{max}^{2}}{8 R_{Earth} \\left(\\frac{149896229.0 m}{f_{min} s} + \\frac{149896229.0 m}{f_{max} s}\\right)}, \\frac{B_{max} \\Omega_{E} T_{snap}}{\\frac{299792458.0 m}{f_{min} s} + \\frac{299792458.0 m}{f_{max} s}}\\right)^{1.5} + \\frac{0.25 Q_{FoV}^{2} Q_{w}^{2}}{\\pi^{2} D_{s}^{2}} \\left(\\frac{1148205114.14 m}{f_{min} s} + \\frac{1148205114.14 m}{f_{max} s}\\right)^{2} \\max\\left(\\frac{B_{max}^{2}}{8 R_{Earth} \\left(\\frac{149896229.0 m}{f_{min} s} + \\frac{149896229.0 m}{f_{max} s}\\right)}, \\frac{B_{max} \\Omega_{E} T_{snap}}{\\frac{299792458.0 m}{f_{min} s} + \\frac{299792458.0 m}{f_{max} s}}\\right)^{2}\\right)\\right) \\log{\\left (Q_{GCF} \\sqrt{N_{k}^{2} + \\frac{4 Q_{FoV}^{2}}{\\pi^{2} D_{s}^{2}} \\left(\\frac{1148205114.14 m}{f_{min} s} + \\frac{1148205114.14 m}{f_{max} s}\\right)^{2} \\left(\\frac{Q_{FoV} Q_{w}^{1.5}}{2 \\pi^{2} D_{s} \\epsilon_{w}} \\left(\\frac{1148205114.14 m}{f_{min} s} + \\frac{1148205114.14 m}{f_{max} s}\\right) \\max\\left(\\frac{B_{max}^{2}}{8 R_{Earth} \\left(\\frac{149896229.0 m}{f_{min} s} + \\frac{149896229.0 m}{f_{max} s}\\right)}, \\frac{B_{max} \\Omega_{E} T_{snap}}{\\frac{299792458.0 m}{f_{min} s} + \\frac{299792458.0 m}{f_{max} s}}\\right)^{1.5} + \\frac{0.25 Q_{FoV}^{2} Q_{w}^{2}}{\\pi^{2} D_{s}^{2}} \\left(\\frac{1148205114.14 m}{f_{min} s} + \\frac{1148205114.14 m}{f_{max} s}\\right)^{2} \\max\\left(\\frac{B_{max}^{2}}{8 R_{Earth} \\left(\\frac{149896229.0 m}{f_{min} s} + \\frac{149896229.0 m}{f_{max} s}\\right)}, \\frac{B_{max} \\Omega_{E} T_{snap}}{\\frac{299792458.0 m}{f_{min} s} + \\frac{299792458.0 m}{f_{max} s}}\\right)^{2}\\right)} \\right )} + N_{f,out} \\left(\\frac{160 B_{max}^{2} Q_{FoV}^{2} Q_{pix}^{2} \\left(\\frac{1148205114.14 m}{f_{min} s} + \\frac{1148205114.14 m}{f_{max} s}\\right)^{2}}{\\pi^{2} D_{s}^{2} T_{snap} \\left(\\frac{449688687.0 m}{f_{min} s} + \\frac{449688687.0 m}{f_{max} s}\\right)^{2} \\log{\\left (2 \\right )}} \\log{\\left (\\frac{4 B_{max} Q_{FoV} Q_{pix} \\left(\\frac{1148205114.14 m}{f_{min} s} + \\frac{1148205114.14 m}{f_{max} s}\\right)}{\\pi D_{s} \\left(\\frac{449688687.0 m}{f_{min} s} + \\frac{449688687.0 m}{f_{max} s}\\right)} \\right )} + R_{rp}\\right)\\right)$$"
       ],
       "metadata": {},
       "output_type": "pyout",
       "png": "[encoded data removed]",
       "prompt_number": 14,
       "text": [
        "                      \u239b                                                       \n",
        "                      \u239c                                                       \n",
        "                      \u239c                                                       \n",
        "                      \u239c                           \u239b                           \n",
        "                      \u239c                           \u239c                           \n",
        "                      \u239c                           \u239c                           \n",
        "                      \u239c                           \u239c              2 \u239b1148205114\n",
        "                      \u239c                           \u239c       4\u22c5Q_FoV \u22c5\u239c\u2500\u2500\u2500\u2500\u2500\u2500\u2500\u2500\u2500\u2500\n",
        "                      \u239c                           \u239c                \u239d    f_min\u22c5\n",
        "                      \u239c                           \u239c   2                       \n",
        "                      \u239c4\u22c5B_max\u22c5N\u2090\u22c5N_mm\u22c5s\u22c5(N\u2090 - 1)\u22c5\u239cN_k  + \u2500\u2500\u2500\u2500\u2500\u2500\u2500\u2500\u2500\u2500\u2500\u2500\u2500\u2500\u2500\u2500\u2500\u2500\u2500\u2500\n",
        "                      \u239c                           \u239c                           \n",
        "                      \u239c                           \u239d                           \n",
        "2\u22c5N_beam\u22c5N_major\u22c5N_pp\u22c5\u239c\u2500\u2500\u2500\u2500\u2500\u2500\u2500\u2500\u2500\u2500\u2500\u2500\u2500\u2500\u2500\u2500\u2500\u2500\u2500\u2500\u2500\u2500\u2500\u2500\u2500\u2500\u2500\u2500\u2500\u2500\u2500\u2500\u2500\u2500\u2500\u2500\u2500\u2500\u2500\u2500\u2500\u2500\u2500\u2500\u2500\u2500\u2500\u2500\u2500\u2500\u2500\u2500\u2500\u2500\u2500\n",
        "                      \u239c                                                       \n",
        "                      \u239c                                                       \n",
        "                      \u239c                                                       \n",
        "                      \u239d                                                       \n",
        "\n",
        "                                                                              \n",
        "                                                                              \n",
        "                                                                              \n",
        "                          \u239b                                                   \n",
        "                          \u239c         1.5 \u239b1148205114.14\u22c5m   1148205114.14\u22c5m\u239e   \n",
        "                        2 \u239cQ_FoV\u22c5Q_w   \u22c5\u239c\u2500\u2500\u2500\u2500\u2500\u2500\u2500\u2500\u2500\u2500\u2500\u2500\u2500\u2500\u2500 + \u2500\u2500\u2500\u2500\u2500\u2500\u2500\u2500\u2500\u2500\u2500\u2500\u2500\u2500\u2500\u239f\u22c5Ma\n",
        ".14\u22c5m   1148205114.14\u22c5m\u239e  \u239c             \u239d    f_min\u22c5s           f_max\u22c5s    \u23a0   \n",
        "\u2500\u2500\u2500\u2500\u2500 + \u2500\u2500\u2500\u2500\u2500\u2500\u2500\u2500\u2500\u2500\u2500\u2500\u2500\u2500\u2500\u239f \u22c5\u239c\u2500\u2500\u2500\u2500\u2500\u2500\u2500\u2500\u2500\u2500\u2500\u2500\u2500\u2500\u2500\u2500\u2500\u2500\u2500\u2500\u2500\u2500\u2500\u2500\u2500\u2500\u2500\u2500\u2500\u2500\u2500\u2500\u2500\u2500\u2500\u2500\u2500\u2500\u2500\u2500\u2500\u2500\u2500\u2500\u2500\u2500\u2500\u2500\u2500\u2500\u2500\n",
        "s           f_max\u22c5s    \u23a0  \u239c                                                   \n",
        "                          \u239d                                                   \n",
        "\u2500\u2500\u2500\u2500\u2500\u2500\u2500\u2500\u2500\u2500\u2500\u2500\u2500\u2500\u2500\u2500\u2500\u2500\u2500\u2500\u2500\u2500\u2500\u2500\u2500\u2500\u2500\u2500\u2500\u2500\u2500\u2500\u2500\u2500\u2500\u2500\u2500\u2500\u2500\u2500\u2500\u2500\u2500\u2500\u2500\u2500\u2500\u2500\u2500\u2500\u2500\u2500\u2500\u2500\u2500\u2500\u2500\u2500\u2500\u2500\u2500\u2500\u2500\u2500\u2500\u2500\u2500\u2500\u2500\u2500\u2500\u2500\u2500\u2500\u2500\u2500\u2500\u2500\n",
        "                                                                              \n",
        "                                                                              \n",
        "\u2500\u2500\u2500\u2500\u2500\u2500\u2500\u2500\u2500\u2500\u2500\u2500\u2500\u2500\u2500\u2500\u2500\u2500\u2500\u2500\u2500\u2500\u2500\u2500\u2500\u2500\u2500\u2500\u2500\u2500\u2500\u2500\u2500\u2500\u2500\u2500\u2500\u2500\u2500\u2500\u2500\u2500\u2500\u2500\u2500\u2500\u2500\u2500\u2500\u2500\u2500\u2500\u2500\u2500\u2500\u2500\u2500\u2500\u2500\u2500\u2500\u2500\u2500\u2500\u2500\u2500\u2500\u2500\u2500\u2500\u2500\u2500\u2500\u2500\u2500\u2500\u2500\u2500\n",
        "                                                                              \n",
        "                                                                              \n",
        "                                                                              \n",
        "                                                                              \n",
        "\n",
        "                                                                              \n",
        "                                                                              \n",
        "                                                                              \n",
        "                                                                              \n",
        "                                                                              \n",
        "x(B_max**2/(8*R_Earth*(149896229.0*m/(f_min*s) + 149896229.0*m/(f_max*s))), B_\n",
        "                                                                              \n",
        "\u2500\u2500\u2500\u2500\u2500\u2500\u2500\u2500\u2500\u2500\u2500\u2500\u2500\u2500\u2500\u2500\u2500\u2500\u2500\u2500\u2500\u2500\u2500\u2500\u2500\u2500\u2500\u2500\u2500\u2500\u2500\u2500\u2500\u2500\u2500\u2500\u2500\u2500\u2500\u2500\u2500\u2500\u2500\u2500\u2500\u2500\u2500\u2500\u2500\u2500\u2500\u2500\u2500\u2500\u2500\u2500\u2500\u2500\u2500\u2500\u2500\u2500\u2500\u2500\u2500\u2500\u2500\u2500\u2500\u2500\u2500\u2500\u2500\u2500\u2500\u2500\u2500\u2500\n",
        "                                            2                                 \n",
        "                                         2\u22c5\u03c0 \u22c5D_s\u22c5\\epsilon_w                  \n",
        "\u2500\u2500\u2500\u2500\u2500\u2500\u2500\u2500\u2500\u2500\u2500\u2500\u2500\u2500\u2500\u2500\u2500\u2500\u2500\u2500\u2500\u2500\u2500\u2500\u2500\u2500\u2500\u2500\u2500\u2500\u2500\u2500\u2500\u2500\u2500\u2500\u2500\u2500\u2500\u2500\u2500\u2500\u2500\u2500\u2500\u2500\u2500\u2500\u2500\u2500\u2500\u2500\u2500\u2500\u2500\u2500\u2500\u2500\u2500\u2500\u2500\u2500\u2500\u2500\u2500\u2500\u2500\u2500\u2500\u2500\u2500\u2500\u2500\u2500\u2500\u2500\u2500\u2500\n",
        "                                                                              \n",
        "                                                                              \n",
        "\u2500\u2500\u2500\u2500\u2500\u2500\u2500\u2500\u2500\u2500\u2500\u2500\u2500\u2500\u2500\u2500\u2500\u2500\u2500\u2500\u2500\u2500\u2500\u2500\u2500\u2500\u2500\u2500\u2500\u2500\u2500\u2500\u2500\u2500\u2500\u2500\u2500\u2500\u2500\u2500\u2500\u2500\u2500\u2500\u2500\u2500\u2500\u2500\u2500\u2500\u2500\u2500\u2500\u2500\u2500\u2500\u2500\u2500\u2500\u2500\u2500\u2500\u2500\u2500\u2500\u2500\u2500\u2500\u2500\u2500\u2500\u2500\u2500\u2500\u2500\u2500\u2500\u2500\n",
        "                                                                              \n",
        "                                                                              \n",
        "                                                                              \n",
        "                                                                              \n",
        "\n",
        "                                                                              \n",
        "                                                                              \n",
        "                                                                              \n",
        "                                                                              \n",
        "                                                                       1.5    \n",
        "max*Omega_E*T_snap/(299792458.0*m/(f_min*s) + 299792458.0*m/(f_max*s)))      0\n",
        "                                                                              \n",
        "\u2500\u2500\u2500\u2500\u2500\u2500\u2500\u2500\u2500\u2500\u2500\u2500\u2500\u2500\u2500\u2500\u2500\u2500\u2500\u2500\u2500\u2500\u2500\u2500\u2500\u2500\u2500\u2500\u2500\u2500\u2500\u2500\u2500\u2500\u2500\u2500\u2500\u2500\u2500\u2500\u2500\u2500\u2500\u2500\u2500\u2500\u2500\u2500\u2500\u2500\u2500\u2500\u2500\u2500\u2500\u2500\u2500\u2500\u2500\u2500\u2500\u2500\u2500\u2500\u2500\u2500\u2500\u2500\u2500\u2500\u2500\u2500\u2500\u2500 + \u2500\n",
        "                                                                              \n",
        "                                                                              \n",
        "\u2500\u2500\u2500\u2500\u2500\u2500\u2500\u2500\u2500\u2500\u2500\u2500\u2500\u2500\u2500\u2500\u2500\u2500\u2500\u2500\u2500\u2500\u2500\u2500\u2500\u2500\u2500\u2500\u2500\u2500\u2500\u2500\u2500\u2500\u2500\u2500\u2500\u2500\u2500\u2500\u2500\u2500\u2500\u2500\u2500\u2500\u2500\u2500\u2500\u2500\u2500\u2500\u2500\u2500\u2500\u2500\u2500\u2500\u2500\u2500\u2500\u2500\u2500\u2500\u2500\u2500\u2500\u2500\u2500\u2500\u2500\u2500\u2500\u2500\u2500\u2500\u2500\u2500\n",
        "                                                   2    2                     \n",
        "                                                  \u03c0 \u22c5D_s                      \n",
        "\u2500\u2500\u2500\u2500\u2500\u2500\u2500\u2500\u2500\u2500\u2500\u2500\u2500\u2500\u2500\u2500\u2500\u2500\u2500\u2500\u2500\u2500\u2500\u2500\u2500\u2500\u2500\u2500\u2500\u2500\u2500\u2500\u2500\u2500\u2500\u2500\u2500\u2500\u2500\u2500\u2500\u2500\u2500\u2500\u2500\u2500\u2500\u2500\u2500\u2500\u2500\u2500\u2500\u2500\u2500\u2500\u2500\u2500\u2500\u2500\u2500\u2500\u2500\u2500\u2500\u2500\u2500\u2500\u2500\u2500\u2500\u2500\u2500\u2500\u2500\u2500\u2500\u2500\n",
        "                                                                      B_max,re\n",
        "                                                                              \n",
        "                                                                              \n",
        "                                                                              \n",
        "\n",
        "                                                                              \n",
        "                                                                              \n",
        "                                                                              \n",
        "                                                   2                          \n",
        "         2    2 \u239b1148205114.14\u22c5m   1148205114.14\u22c5m\u239e                           \n",
        ".25\u22c5Q_FoV \u22c5Q_w \u22c5\u239c\u2500\u2500\u2500\u2500\u2500\u2500\u2500\u2500\u2500\u2500\u2500\u2500\u2500\u2500\u2500 + \u2500\u2500\u2500\u2500\u2500\u2500\u2500\u2500\u2500\u2500\u2500\u2500\u2500\u2500\u2500\u239f \u22c5Max(B_max**2/(8*R_Earth*(\n",
        "                \u239d    f_min\u22c5s           f_max\u22c5s    \u23a0                           \n",
        "\u2500\u2500\u2500\u2500\u2500\u2500\u2500\u2500\u2500\u2500\u2500\u2500\u2500\u2500\u2500\u2500\u2500\u2500\u2500\u2500\u2500\u2500\u2500\u2500\u2500\u2500\u2500\u2500\u2500\u2500\u2500\u2500\u2500\u2500\u2500\u2500\u2500\u2500\u2500\u2500\u2500\u2500\u2500\u2500\u2500\u2500\u2500\u2500\u2500\u2500\u2500\u2500\u2500\u2500\u2500\u2500\u2500\u2500\u2500\u2500\u2500\u2500\u2500\u2500\u2500\u2500\u2500\u2500\u2500\u2500\u2500\u2500\u2500\u2500\u2500\u2500\u2500\u2500\n",
        "                                                                              \n",
        "                                                                              \n",
        "\u2500\u2500\u2500\u2500\u2500\u2500\u2500\u2500\u2500\u2500\u2500\u2500\u2500\u2500\u2500\u2500\u2500\u2500\u2500\u2500\u2500\u2500\u2500\u2500\u2500\u2500\u2500\u2500\u2500\u2500\u2500\u2500\u2500\u2500\u2500\u2500\u2500\u2500\u2500\u2500\u2500\u2500\u2500\u2500\u2500\u2500\u2500\u2500\u2500\u2500\u2500\u2500\u2500\u2500\u2500\u2500\u2500\u2500\u2500\u2500\u2500\u2500\u2500\u2500\u2500\u2500\u2500\u2500\u2500\u2500\u2500\u2500\u2500\u2500\u2500\u2500\u2500\u2500\n",
        "                                                                              \n",
        "                                                                              \n",
        "\u2500\u2500\u2500\u2500\u2500\u2500\u2500\u2500\u2500\u2500\u2500\u2500\u2500\u2500\u2500\u2500\u2500\u2500\u2500\u2500\u2500\u2500\u2500\u2500\u2500\u2500\u2500\u2500\u2500\u2500\u2500\u2500\u2500\u2500\u2500\u2500\u2500\u2500\u2500\u2500\u2500\u2500\u2500\u2500\u2500\u2500\u2500\u2500\u2500\u2500\u2500\u2500\u2500\u2500\u2500\u2500\u2500\u2500\u2500\u2500\u2500\u2500\u2500\u2500\u2500\u2500\u2500\u2500\u2500\u2500\u2500\u2500\u2500\u2500\u2500\u2500\u2500\u2500\n",
        "f\u22c5T_dump,ref                                                                  \n",
        "                                                                              \n",
        "                                                                              \n",
        "                                                                              \n",
        "\n",
        "                                                                              \n",
        "                                                                              \n",
        "                                                                              \n",
        "                                                                              \n",
        "                                                                              \n",
        "149896229.0*m/(f_min*s) + 149896229.0*m/(f_max*s))), B_max*Omega_E*T_snap/(299\n",
        "                                                                              \n",
        "\u2500\u2500\u2500\u2500\u2500\u2500\u2500\u2500\u2500\u2500\u2500\u2500\u2500\u2500\u2500\u2500\u2500\u2500\u2500\u2500\u2500\u2500\u2500\u2500\u2500\u2500\u2500\u2500\u2500\u2500\u2500\u2500\u2500\u2500\u2500\u2500\u2500\u2500\u2500\u2500\u2500\u2500\u2500\u2500\u2500\u2500\u2500\u2500\u2500\u2500\u2500\u2500\u2500\u2500\u2500\u2500\u2500\u2500\u2500\u2500\u2500\u2500\u2500\u2500\u2500\u2500\u2500\u2500\u2500\u2500\u2500\u2500\u2500\u2500\u2500\u2500\u2500\u2500\n",
        "                     2    2                                                   \n",
        "                    \u03c0 \u22c5D_s                                                    \n",
        "\u2500\u2500\u2500\u2500\u2500\u2500\u2500\u2500\u2500\u2500\u2500\u2500\u2500\u2500\u2500\u2500\u2500\u2500\u2500\u2500\u2500\u2500\u2500\u2500\u2500\u2500\u2500\u2500\u2500\u2500\u2500\u2500\u2500\u2500\u2500\u2500\u2500\u2500\u2500\u2500\u2500\u2500\u2500\u2500\u2500\u2500\u2500\u2500\u2500\u2500\u2500\u2500\u2500\u2500\u2500\u2500\u2500\u2500\u2500\u2500\u2500\u2500\u2500\u2500\u2500\u2500\u2500\u2500\u2500\u2500\u2500\u2500\u2500\u2500\u2500\u2500\u2500\u2500\n",
        "                                                                              \n",
        "                                                                              \n",
        "\u2500\u2500\u2500\u2500\u2500\u2500\u2500\u2500\u2500\u2500\u2500\u2500\u2500\u2500\u2500\u2500\u2500\u2500\u2500\u2500\u2500\u2500\u2500\u2500\u2500\u2500\u2500\u2500\u2500\u2500\u2500\u2500\u2500\u2500\u2500\u2500\u2500\u2500\u2500\u2500\u2500\u2500\u2500\u2500\u2500\u2500\u2500\u2500\u2500\u2500\u2500\u2500\u2500\u2500\u2500\u2500\u2500\u2500\u2500\u2500\u2500\u2500\u2500\u2500\u2500\u2500\u2500\u2500\u2500\u2500\u2500\u2500\u2500\u2500\u2500\u2500\u2500\u2500\n",
        "                                                                              \n",
        "                                                                              \n",
        "                                                                              \n",
        "                                                                              \n",
        "\n",
        "                                                                              \n",
        "                                                                              \n",
        "                                                                              \n",
        "                                                 \u239e\u239e                           \n",
        "                                                2\u239f\u239f                           \n",
        "792458.0*m/(f_min*s) + 299792458.0*m/(f_max*s))) \u239f\u239f                           \n",
        "                                                 \u239f\u239f                           \n",
        "\u2500\u2500\u2500\u2500\u2500\u2500\u2500\u2500\u2500\u2500\u2500\u2500\u2500\u2500\u2500\u2500\u2500\u2500\u2500\u2500\u2500\u2500\u2500\u2500\u2500\u2500\u2500\u2500\u2500\u2500\u2500\u2500\u2500\u2500\u2500\u2500\u2500\u2500\u2500\u2500\u2500\u2500\u2500\u2500\u2500\u2500\u2500\u2500\u2500\u239f\u239f                           \n",
        "                                                 \u239f\u239f                           \n",
        "                                                 \u23a0\u239f                           \n",
        "\u2500\u2500\u2500\u2500\u2500\u2500\u2500\u2500\u2500\u2500\u2500\u2500\u2500\u2500\u2500\u2500\u2500\u2500\u2500\u2500\u2500\u2500\u2500\u2500\u2500\u2500\u2500\u2500\u2500\u2500\u2500\u2500\u2500\u2500\u2500\u2500\u2500\u2500\u2500\u2500\u2500\u2500\u2500\u2500\u2500\u2500\u2500\u2500\u2500\u2500\u239f\u22c5(F_b,mid\u22c5N_{f,no-smear} + \n",
        "                                                  \u239f                           \n",
        "                                                  \u23a0                           \n",
        "\u2500\u2500\u2500\u2500\u2500\u2500\u2500\u2500\u2500\u2500\u2500\u2500\u2500\u2500\u2500\u2500\u2500\u2500\u2500\u2500\u2500\u2500\u2500\u2500\u2500\u2500\u2500\u2500\u2500\u2500\u2500\u2500\u2500\u2500\u2500\u2500\u2500\u2500\u2500\u2500\u2500\u2500\u2500\u2500\u2500\u2500\u2500\u2500\u2500\u2500\u2500\u2500\u2500\u2500\u2500\u2500\u2500\u2500\u2500\u2500\u2500\u2500\u2500\u2500\u2500\u2500\u2500\u2500\u2500\u2500\u2500\u2500\u2500\u2500\u2500\u2500\u2500\u2500\n",
        "                                                                              \n",
        "                                                                              \n",
        "                                                                              \n",
        "                                                                              \n",
        "\n",
        "                                                                              \n",
        "                                                                              \n",
        "                                                                              \n",
        "                                                                              \n",
        "                                                                              \n",
        "                                                                              \n",
        "                                                                              \n",
        "                                                                              \n",
        "                                                             N\u2090\u22c5N_mm\u22c5N_{f,used\n",
        "                                                                              \n",
        "F_b,short\u22c5N_f,out + N_{f,used}\u22c5(-F_b,mid - F_b,short + 1))                    \n",
        "                                                                              \n",
        "                                                                              \n",
        "\u2500\u2500\u2500\u2500\u2500\u2500\u2500\u2500\u2500\u2500\u2500\u2500\u2500\u2500\u2500\u2500\u2500\u2500\u2500\u2500\u2500\u2500\u2500\u2500\u2500\u2500\u2500\u2500\u2500\u2500\u2500\u2500\u2500\u2500\u2500\u2500\u2500\u2500\u2500\u2500\u2500\u2500\u2500\u2500\u2500\u2500\u2500\u2500\u2500\u2500\u2500\u2500\u2500\u2500\u2500\u2500\u2500\u2500 + \u2500\u2500\u2500\u2500\u2500\u2500\u2500\u2500\u2500\u2500\u2500\u2500\u2500\u2500\u2500\u2500\u2500\n",
        "                                                                              \n",
        "                                                                              \n",
        "                                                                              \n",
        "                                                                              \n",
        "\n",
        "                                                                              \n",
        "                    \u239b                                                     \u239b   \n",
        "                    \u239c                                                     \u239c   \n",
        "                    \u239c                                                   2 \u239cQ_F\n",
        "                    \u239c              2 \u239b1148205114.14\u22c5m   1148205114.14\u22c5m\u239e  \u239c   \n",
        "                    \u239c       4\u22c5Q_FoV \u22c5\u239c\u2500\u2500\u2500\u2500\u2500\u2500\u2500\u2500\u2500\u2500\u2500\u2500\u2500\u2500\u2500 + \u2500\u2500\u2500\u2500\u2500\u2500\u2500\u2500\u2500\u2500\u2500\u2500\u2500\u2500\u2500\u239f \u22c5\u239c\u2500\u2500\u2500\n",
        "                    \u239c                \u239d    f_min\u22c5s           f_max\u22c5s    \u23a0  \u239c   \n",
        "       2            \u239c   2                                                 \u239d   \n",
        "}\u22c5Q_GCF \u22c5(5\u22c5N\u2090 - 5)\u22c5\u239cN_k  + \u2500\u2500\u2500\u2500\u2500\u2500\u2500\u2500\u2500\u2500\u2500\u2500\u2500\u2500\u2500\u2500\u2500\u2500\u2500\u2500\u2500\u2500\u2500\u2500\u2500\u2500\u2500\u2500\u2500\u2500\u2500\u2500\u2500\u2500\u2500\u2500\u2500\u2500\u2500\u2500\u2500\u2500\u2500\u2500\u2500\u2500\u2500\u2500\u2500\u2500\n",
        "                    \u239c                                                         \n",
        "                    \u239d                                                         \n",
        "                                                                              \n",
        "                                                                              \n",
        "\u2500\u2500\u2500\u2500\u2500\u2500\u2500\u2500\u2500\u2500\u2500\u2500\u2500\u2500\u2500\u2500\u2500\u2500\u2500\u2500\u2500\u2500\u2500\u2500\u2500\u2500\u2500\u2500\u2500\u2500\u2500\u2500\u2500\u2500\u2500\u2500\u2500\u2500\u2500\u2500\u2500\u2500\u2500\u2500\u2500\u2500\u2500\u2500\u2500\u2500\u2500\u2500\u2500\u2500\u2500\u2500\u2500\u2500\u2500\u2500\u2500\u2500\u2500\u2500\u2500\u2500\u2500\u2500\u2500\u2500\u2500\u2500\u2500\u2500\u2500\u2500\u2500\u2500\n",
        "                                                                              \n",
        "                                                                              \n",
        "                                                                              \n",
        "                                                                              \n",
        "\n",
        "                                                                              \n",
        "                                                                              \n",
        "      1.5 \u239b1148205114.14\u22c5m   1148205114.14\u22c5m\u239e                                 \n",
        "oV\u22c5Q_w   \u22c5\u239c\u2500\u2500\u2500\u2500\u2500\u2500\u2500\u2500\u2500\u2500\u2500\u2500\u2500\u2500\u2500 + \u2500\u2500\u2500\u2500\u2500\u2500\u2500\u2500\u2500\u2500\u2500\u2500\u2500\u2500\u2500\u239f\u22c5Max(B_max**2/(8*R_Earth*(1498962\n",
        "          \u239d    f_min\u22c5s           f_max\u22c5s    \u23a0                                 \n",
        "\u2500\u2500\u2500\u2500\u2500\u2500\u2500\u2500\u2500\u2500\u2500\u2500\u2500\u2500\u2500\u2500\u2500\u2500\u2500\u2500\u2500\u2500\u2500\u2500\u2500\u2500\u2500\u2500\u2500\u2500\u2500\u2500\u2500\u2500\u2500\u2500\u2500\u2500\u2500\u2500\u2500\u2500\u2500\u2500\u2500\u2500\u2500\u2500\u2500\u2500\u2500\u2500\u2500\u2500\u2500\u2500\u2500\u2500\u2500\u2500\u2500\u2500\u2500\u2500\u2500\u2500\u2500\u2500\u2500\u2500\u2500\u2500\u2500\u2500\u2500\u2500\u2500\u2500\n",
        "                                                                              \n",
        "                                                                              \n",
        "\u2500\u2500\u2500\u2500\u2500\u2500\u2500\u2500\u2500\u2500\u2500\u2500\u2500\u2500\u2500\u2500\u2500\u2500\u2500\u2500\u2500\u2500\u2500\u2500\u2500\u2500\u2500\u2500\u2500\u2500\u2500\u2500\u2500\u2500\u2500\u2500\u2500\u2500\u2500\u2500\u2500\u2500\u2500\u2500\u2500\u2500\u2500\u2500\u2500\u2500\u2500\u2500\u2500\u2500\u2500\u2500\u2500\u2500\u2500\u2500\u2500\u2500\u2500\u2500\u2500\u2500\u2500\u2500\u2500\u2500\u2500\u2500\u2500\u2500\u2500\u2500\u2500\u2500\n",
        "                                                                              \n",
        "                                                                              \n",
        "                                                                              \n",
        "                                                                              \n",
        "\u2500\u2500\u2500\u2500\u2500\u2500\u2500\u2500\u2500\u2500\u2500\u2500\u2500\u2500\u2500\u2500\u2500\u2500\u2500\u2500\u2500\u2500\u2500\u2500\u2500\u2500\u2500\u2500\u2500\u2500\u2500\u2500\u2500\u2500\u2500\u2500\u2500\u2500\u2500\u2500\u2500\u2500\u2500\u2500\u2500\u2500\u2500\u2500\u2500\u2500\u2500\u2500\u2500\u2500\u2500\u2500\u2500\u2500\u2500\u2500\u2500\u2500\u2500\u2500\u2500\u2500\u2500\u2500\u2500\u2500\u2500\u2500\u2500\u2500\u2500\u2500\u2500\u2500\n",
        "                                                                              \n",
        "                                                                              \n",
        "                                                                              \n",
        "                                                                              \n",
        "\n",
        "                                                                              \n",
        "                                                                              \n",
        "                                                                              \n",
        "29.0*m/(f_min*s) + 149896229.0*m/(f_max*s))), B_max*Omega_E*T_snap/(299792458.\n",
        "                                                                              \n",
        "\u2500\u2500\u2500\u2500\u2500\u2500\u2500\u2500\u2500\u2500\u2500\u2500\u2500\u2500\u2500\u2500\u2500\u2500\u2500\u2500\u2500\u2500\u2500\u2500\u2500\u2500\u2500\u2500\u2500\u2500\u2500\u2500\u2500\u2500\u2500\u2500\u2500\u2500\u2500\u2500\u2500\u2500\u2500\u2500\u2500\u2500\u2500\u2500\u2500\u2500\u2500\u2500\u2500\u2500\u2500\u2500\u2500\u2500\u2500\u2500\u2500\u2500\u2500\u2500\u2500\u2500\u2500\u2500\u2500\u2500\u2500\u2500\u2500\u2500\u2500\u2500\u2500\u2500\n",
        "              2                                                               \n",
        "           2\u22c5\u03c0 \u22c5D_s\u22c5\\epsilon_w                                                \n",
        "\u2500\u2500\u2500\u2500\u2500\u2500\u2500\u2500\u2500\u2500\u2500\u2500\u2500\u2500\u2500\u2500\u2500\u2500\u2500\u2500\u2500\u2500\u2500\u2500\u2500\u2500\u2500\u2500\u2500\u2500\u2500\u2500\u2500\u2500\u2500\u2500\u2500\u2500\u2500\u2500\u2500\u2500\u2500\u2500\u2500\u2500\u2500\u2500\u2500\u2500\u2500\u2500\u2500\u2500\u2500\u2500\u2500\u2500\u2500\u2500\u2500\u2500\u2500\u2500\u2500\u2500\u2500\u2500\u2500\u2500\u2500\u2500\u2500\u2500\u2500\u2500\u2500\u2500\n",
        "                                                                              \n",
        "                                                                              \n",
        "                                                                              \n",
        "                                                                              \n",
        "\u2500\u2500\u2500\u2500\u2500\u2500\u2500\u2500\u2500\u2500\u2500\u2500\u2500\u2500\u2500\u2500\u2500\u2500\u2500\u2500\u2500\u2500\u2500\u2500\u2500\u2500\u2500\u2500\u2500\u2500\u2500\u2500\u2500\u2500\u2500\u2500\u2500\u2500\u2500\u2500\u2500\u2500\u2500\u2500\u2500\u2500\u2500\u2500\u2500\u2500\u2500\u2500\u2500\u2500\u2500\u2500\u2500\u2500\u2500\u2500\u2500\u2500\u2500\u2500\u2500\u2500\u2500\u2500\u2500\u2500\u2500\u2500\u2500\u2500\u2500\u2500\u2500\u2500\n",
        "                                                                              \n",
        "                                                                              \n",
        "                                                                              \n",
        "                                                                              \n",
        "\n",
        "                                                                              \n",
        "                                                                              \n",
        "                                         1.5             2    2 \u239b1148205114.14\n",
        "0*m/(f_min*s) + 299792458.0*m/(f_max*s)))      0.25\u22c5Q_FoV \u22c5Q_w \u22c5\u239c\u2500\u2500\u2500\u2500\u2500\u2500\u2500\u2500\u2500\u2500\u2500\u2500\u2500\n",
        "                                                                \u239d    f_min\u22c5s  \n",
        "\u2500\u2500\u2500\u2500\u2500\u2500\u2500\u2500\u2500\u2500\u2500\u2500\u2500\u2500\u2500\u2500\u2500\u2500\u2500\u2500\u2500\u2500\u2500\u2500\u2500\u2500\u2500\u2500\u2500\u2500\u2500\u2500\u2500\u2500\u2500\u2500\u2500\u2500\u2500\u2500\u2500\u2500\u2500\u2500 + \u2500\u2500\u2500\u2500\u2500\u2500\u2500\u2500\u2500\u2500\u2500\u2500\u2500\u2500\u2500\u2500\u2500\u2500\u2500\u2500\u2500\u2500\u2500\u2500\u2500\u2500\u2500\u2500\u2500\u2500\u2500\n",
        "                                                                              \n",
        "                                                                              \n",
        "\u2500\u2500\u2500\u2500\u2500\u2500\u2500\u2500\u2500\u2500\u2500\u2500\u2500\u2500\u2500\u2500\u2500\u2500\u2500\u2500\u2500\u2500\u2500\u2500\u2500\u2500\u2500\u2500\u2500\u2500\u2500\u2500\u2500\u2500\u2500\u2500\u2500\u2500\u2500\u2500\u2500\u2500\u2500\u2500\u2500\u2500\u2500\u2500\u2500\u2500\u2500\u2500\u2500\u2500\u2500\u2500\u2500\u2500\u2500\u2500\u2500\u2500\u2500\u2500\u2500\u2500\u2500\u2500\u2500\u2500\u2500\u2500\u2500\u2500\u2500\u2500\u2500\u2500\n",
        "                     2    2                                                   \n",
        "                    \u03c0 \u22c5D_s                                                    \n",
        "                                                                              \n",
        "                                                                              \n",
        "\u2500\u2500\u2500\u2500\u2500\u2500\u2500\u2500\u2500\u2500\u2500\u2500\u2500\u2500\u2500\u2500\u2500\u2500\u2500\u2500\u2500\u2500\u2500\u2500\u2500\u2500\u2500\u2500\u2500\u2500\u2500\u2500\u2500\u2500\u2500\u2500\u2500\u2500\u2500\u2500\u2500\u2500\u2500\u2500\u2500\u2500\u2500\u2500\u2500\u2500\u2500\u2500\u2500\u2500\u2500\u2500\u2500\u2500\u2500\u2500\u2500\u2500\u2500\u2500\u2500\u2500\u2500\u2500\u2500\u2500\u2500\u2500\u2500\u2500\u2500\u2500\u2500\u2500\n",
        "                                                                              \n",
        "                                                                              \n",
        "                                                                              \n",
        "                                                                              \n",
        "\n",
        "                                                                              \n",
        "                     2                                                        \n",
        "\u22c5m   1148205114.14\u22c5m\u239e                                                         \n",
        "\u2500\u2500 + \u2500\u2500\u2500\u2500\u2500\u2500\u2500\u2500\u2500\u2500\u2500\u2500\u2500\u2500\u2500\u239f \u22c5Max(B_max**2/(8*R_Earth*(149896229.0*m/(f_min*s) + 1498\n",
        "         f_max\u22c5s    \u23a0                                                         \n",
        "\u2500\u2500\u2500\u2500\u2500\u2500\u2500\u2500\u2500\u2500\u2500\u2500\u2500\u2500\u2500\u2500\u2500\u2500\u2500\u2500\u2500\u2500\u2500\u2500\u2500\u2500\u2500\u2500\u2500\u2500\u2500\u2500\u2500\u2500\u2500\u2500\u2500\u2500\u2500\u2500\u2500\u2500\u2500\u2500\u2500\u2500\u2500\u2500\u2500\u2500\u2500\u2500\u2500\u2500\u2500\u2500\u2500\u2500\u2500\u2500\u2500\u2500\u2500\u2500\u2500\u2500\u2500\u2500\u2500\u2500\u2500\u2500\u2500\u2500\u2500\u2500\u2500\u2500\n",
        "                                                                     2    2   \n",
        "                                                                    \u03c0 \u22c5D_s    \n",
        "\u2500\u2500\u2500\u2500\u2500\u2500\u2500\u2500\u2500\u2500\u2500\u2500\u2500\u2500\u2500\u2500\u2500\u2500\u2500\u2500\u2500\u2500\u2500\u2500\u2500\u2500\u2500\u2500\u2500\u2500\u2500\u2500\u2500\u2500\u2500\u2500\u2500\u2500\u2500\u2500\u2500\u2500\u2500\u2500\u2500\u2500\u2500\u2500\u2500\u2500\u2500\u2500\u2500\u2500\u2500\u2500\u2500\u2500\u2500\u2500\u2500\u2500\u2500\u2500\u2500\u2500\u2500\u2500\u2500\u2500\u2500\u2500\u2500\u2500\u2500\u2500\u2500\u2500\n",
        "                                                                              \n",
        "                                                                              \n",
        "                                                                              \n",
        "                                                                              \n",
        "\u2500\u2500\u2500\u2500\u2500\u2500\u2500\u2500\u2500\u2500\u2500\u2500\u2500\u2500\u2500\u2500\u2500\u2500\u2500\u2500\u2500\u2500\u2500\u2500\u2500\u2500\u2500\u2500\u2500\u2500\u2500\u2500\u2500\u2500\u2500\u2500\u2500\u2500\u2500\u2500\u2500\u2500\u2500\u2500\u2500\u2500\u2500\u2500\u2500\u2500\u2500\u2500\u2500\u2500\u2500\u2500\u2500\u2500\u2500\u2500\u2500\u2500\u2500\u2500\u2500\u2500\u2500\u2500\u2500\u2500\u2500\u2500\u2500\u2500\u2500\u2500\u2500\u2500\n",
        "                                                                              \n",
        "                                                                              \n",
        "                                                                              \n",
        "                                                                              \n",
        "\n",
        "                                                                              \n",
        "                                                                              \n",
        "                                                                              \n",
        "96229.0*m/(f_max*s))), B_max*Omega_E*T_snap/(299792458.0*m/(f_min*s) + 2997924\n",
        "                                                                              \n",
        "\u2500\u2500\u2500\u2500\u2500\u2500\u2500\u2500\u2500\u2500\u2500\u2500\u2500\u2500\u2500\u2500\u2500\u2500\u2500\u2500\u2500\u2500\u2500\u2500\u2500\u2500\u2500\u2500\u2500\u2500\u2500\u2500\u2500\u2500\u2500\u2500\u2500\u2500\u2500\u2500\u2500\u2500\u2500\u2500\u2500\u2500\u2500\u2500\u2500\u2500\u2500\u2500\u2500\u2500\u2500\u2500\u2500\u2500\u2500\u2500\u2500\u2500\u2500\u2500\u2500\u2500\u2500\u2500\u2500\u2500\u2500\u2500\u2500\u2500\u2500\u2500\u2500\u2500\n",
        "                                                                              \n",
        "                                                                              \n",
        "\u2500\u2500\u2500\u2500\u2500\u2500\u2500\u2500\u2500\u2500\u2500\u2500\u2500\u2500\u2500\u2500\u2500\u2500\u2500\u2500\u2500\u2500\u2500\u2500\u2500\u2500\u2500\u2500\u2500\u2500\u2500\u2500\u2500\u2500\u2500\u2500\u2500\u2500\u2500\u2500\u2500\u2500\u2500\u2500\u2500\u2500\u2500\u2500\u2500\u2500\u2500\u2500\u2500\u2500\u2500\u2500\u2500\u2500\u2500\u2500\u2500\u2500\u2500\u2500\u2500\u2500\u2500\u2500\u2500\u2500\u2500\u2500\u2500\u2500\u2500\u2500\u2500\u2500\n",
        "                                                                              \n",
        "                                                                              \n",
        "                                                                              \n",
        "                                                                              \n",
        "\u2500\u2500\u2500\u2500\u2500\u2500\u2500\u2500\u2500\u2500\u2500\u2500\u2500\u2500\u2500\u2500\u2500\u2500\u2500\u2500\u2500\u2500\u2500\u2500\u2500\u2500\u2500\u2500\u2500\u2500\u2500\u2500\u2500\u2500\u2500\u2500\u2500\u2500\u2500\u2500\u2500\u2500\u2500\u2500\u2500\u2500\u2500\u2500\u2500\u2500\u2500\u2500\u2500\u2500\u2500\u2500\u2500\u2500\u2500\u2500\u2500\u2500\u2500\u2500\u2500\u2500\u2500\u2500\u2500\u2500\u2500\u2500\u2500\u2500\u2500\u2500\u2500\u2500\n",
        "                                                                              \n",
        "                                                                              \n",
        "                                                                              \n",
        "                                                                              \n",
        "\n",
        "                         \u239b                 ___________________________________\n",
        "                   \u239e\u239e    \u239c                \u2571                                   \n",
        "                  2\u239f\u239f    \u239c               \u2571                                    \n",
        "58.0*m/(f_max*s))) \u239f\u239f    \u239c              \u2571                                     \n",
        "                   \u239f\u239f    \u239c             \u2571                  2 \u239b1148205114.14\u22c5m  \n",
        "\u2500\u2500\u2500\u2500\u2500\u2500\u2500\u2500\u2500\u2500\u2500\u2500\u2500\u2500\u2500\u2500\u2500\u2500\u2500\u239f\u239f    \u239c            \u2571            4\u22c5Q_FoV \u22c5\u239c\u2500\u2500\u2500\u2500\u2500\u2500\u2500\u2500\u2500\u2500\u2500\u2500\u2500\u2500\u2500 +\n",
        "                   \u239f\u239f    \u239c           \u2571                      \u239d    f_min\u22c5s      \n",
        "                   \u23a0\u239f    \u239c          \u2571          2                              \n",
        "\u2500\u2500\u2500\u2500\u2500\u2500\u2500\u2500\u2500\u2500\u2500\u2500\u2500\u2500\u2500\u2500\u2500\u2500\u2500\u2500\u239f\u22c5   \u239cQ_GCF\u22c5   \u2571        N_k  + \u2500\u2500\u2500\u2500\u2500\u2500\u2500\u2500\u2500\u2500\u2500\u2500\u2500\u2500\u2500\u2500\u2500\u2500\u2500\u2500\u2500\u2500\u2500\u2500\u2500\u2500\u2500\n",
        "                    \u239f    \u239c        \u2571                                           \n",
        "                    \u23a0    \u239d      \u2572\u2571                                            \n",
        "                                                                              \n",
        "                      log                                                     \n",
        "\u2500\u2500\u2500\u2500\u2500\u2500\u2500\u2500\u2500\u2500\u2500\u2500\u2500\u2500\u2500\u2500\u2500\u2500\u2500\u2500\u2500\u2500\u2500\u2500\u2500\u2500\u2500\u2500\u2500\u2500\u2500\u2500\u2500\u2500\u2500\u2500\u2500\u2500\u2500\u2500\u2500\u2500\u2500\u2500\u2500\u2500\u2500\u2500\u2500\u2500\u2500\u2500\u2500\u2500\u2500\u2500\u2500\u2500\u2500\u2500\u2500\u2500\u2500\u2500\u2500\u2500\u2500\u2500\u2500\u2500\u2500\u2500\u2500\u2500\u2500\u2500\u2500\u2500\n",
        "     Q_fcv\u22c5T_ion\u22c5log(2)                                                       \n",
        "                                                                              \n",
        "                                                                              \n",
        "                                                                              \n",
        "\n",
        "______________________________________________________________________________\n",
        "                   \u239b                                                          \n",
        "                   \u239c         1.5 \u239b1148205114.14\u22c5m   1148205114.14\u22c5m\u239e          \n",
        "                 2 \u239cQ_FoV\u22c5Q_w   \u22c5\u239c\u2500\u2500\u2500\u2500\u2500\u2500\u2500\u2500\u2500\u2500\u2500\u2500\u2500\u2500\u2500 + \u2500\u2500\u2500\u2500\u2500\u2500\u2500\u2500\u2500\u2500\u2500\u2500\u2500\u2500\u2500\u239f\u22c5Max(B_max\n",
        " 1148205114.14\u22c5m\u239e  \u239c             \u239d    f_min\u22c5s           f_max\u22c5s    \u23a0          \n",
        " \u2500\u2500\u2500\u2500\u2500\u2500\u2500\u2500\u2500\u2500\u2500\u2500\u2500\u2500\u2500\u239f \u22c5\u239c\u2500\u2500\u2500\u2500\u2500\u2500\u2500\u2500\u2500\u2500\u2500\u2500\u2500\u2500\u2500\u2500\u2500\u2500\u2500\u2500\u2500\u2500\u2500\u2500\u2500\u2500\u2500\u2500\u2500\u2500\u2500\u2500\u2500\u2500\u2500\u2500\u2500\u2500\u2500\u2500\u2500\u2500\u2500\u2500\u2500\u2500\u2500\u2500\u2500\u2500\u2500\u2500\u2500\u2500\u2500\u2500\u2500\u2500\n",
        "     f_max\u22c5s    \u23a0  \u239c                                                          \n",
        "                   \u239d                                                          \n",
        "\u2500\u2500\u2500\u2500\u2500\u2500\u2500\u2500\u2500\u2500\u2500\u2500\u2500\u2500\u2500\u2500\u2500\u2500\u2500\u2500\u2500\u2500\u2500\u2500\u2500\u2500\u2500\u2500\u2500\u2500\u2500\u2500\u2500\u2500\u2500\u2500\u2500\u2500\u2500\u2500\u2500\u2500\u2500\u2500\u2500\u2500\u2500\u2500\u2500\u2500\u2500\u2500\u2500\u2500\u2500\u2500\u2500\u2500\u2500\u2500\u2500\u2500\u2500\u2500\u2500\u2500\u2500\u2500\u2500\u2500\u2500\u2500\u2500\u2500\u2500\u2500\u2500\u2500\n",
        "                                                                              \n",
        "                                                                              \n",
        "                                                                              \n",
        "                                                                              \n",
        "\u2500\u2500\u2500\u2500\u2500\u2500\u2500\u2500\u2500\u2500\u2500\u2500\u2500\u2500\u2500\u2500\u2500\u2500\u2500\u2500\u2500\u2500\u2500\u2500\u2500\u2500\u2500\u2500\u2500\u2500\u2500\u2500\u2500\u2500\u2500\u2500\u2500\u2500\u2500\u2500\u2500\u2500\u2500\u2500\u2500\u2500\u2500\u2500\u2500\u2500\u2500\u2500\u2500\u2500\u2500\u2500\u2500\u2500\u2500\u2500\u2500\u2500\u2500\u2500\u2500\u2500\u2500\u2500\u2500\u2500\u2500\u2500\u2500\u2500\u2500\u2500\u2500\u2500\n",
        "                                                                              \n",
        "                                                                              \n",
        "                                                                              \n",
        "                                                                              \n",
        "\n",
        "______________________________________________________________________________\n",
        "                                                                              \n",
        "                                                                              \n",
        "**2/(8*R_Earth*(149896229.0*m/(f_min*s) + 149896229.0*m/(f_max*s))), B_max*Ome\n",
        "                                                                              \n",
        "\u2500\u2500\u2500\u2500\u2500\u2500\u2500\u2500\u2500\u2500\u2500\u2500\u2500\u2500\u2500\u2500\u2500\u2500\u2500\u2500\u2500\u2500\u2500\u2500\u2500\u2500\u2500\u2500\u2500\u2500\u2500\u2500\u2500\u2500\u2500\u2500\u2500\u2500\u2500\u2500\u2500\u2500\u2500\u2500\u2500\u2500\u2500\u2500\u2500\u2500\u2500\u2500\u2500\u2500\u2500\u2500\u2500\u2500\u2500\u2500\u2500\u2500\u2500\u2500\u2500\u2500\u2500\u2500\u2500\u2500\u2500\u2500\u2500\u2500\u2500\u2500\u2500\u2500\n",
        "                                     2                                        \n",
        "                                  2\u22c5\u03c0 \u22c5D_s\u22c5\\epsilon_w                         \n",
        "\u2500\u2500\u2500\u2500\u2500\u2500\u2500\u2500\u2500\u2500\u2500\u2500\u2500\u2500\u2500\u2500\u2500\u2500\u2500\u2500\u2500\u2500\u2500\u2500\u2500\u2500\u2500\u2500\u2500\u2500\u2500\u2500\u2500\u2500\u2500\u2500\u2500\u2500\u2500\u2500\u2500\u2500\u2500\u2500\u2500\u2500\u2500\u2500\u2500\u2500\u2500\u2500\u2500\u2500\u2500\u2500\u2500\u2500\u2500\u2500\u2500\u2500\u2500\u2500\u2500\u2500\u2500\u2500\u2500\u2500\u2500\u2500\u2500\u2500\u2500\u2500\u2500\u2500\n",
        "                                                                              \n",
        "                                                                              \n",
        "                                                                              \n",
        "                                                                              \n",
        "\u2500\u2500\u2500\u2500\u2500\u2500\u2500\u2500\u2500\u2500\u2500\u2500\u2500\u2500\u2500\u2500\u2500\u2500\u2500\u2500\u2500\u2500\u2500\u2500\u2500\u2500\u2500\u2500\u2500\u2500\u2500\u2500\u2500\u2500\u2500\u2500\u2500\u2500\u2500\u2500\u2500\u2500\u2500\u2500\u2500\u2500\u2500\u2500\u2500\u2500\u2500\u2500\u2500\u2500\u2500\u2500\u2500\u2500\u2500\u2500\u2500\u2500\u2500\u2500\u2500\u2500\u2500\u2500\u2500\u2500\u2500\u2500\u2500\u2500\u2500\u2500\u2500\u2500\n",
        "                                                                              \n",
        "                                                                              \n",
        "                                                                              \n",
        "                                                                              \n",
        "\n",
        "______________________________________________________________________________\n",
        "                                                                              \n",
        "                                                                1.5           \n",
        "ga_E*T_snap/(299792458.0*m/(f_min*s) + 299792458.0*m/(f_max*s)))      0.25\u22c5Q_F\n",
        "                                                                              \n",
        "\u2500\u2500\u2500\u2500\u2500\u2500\u2500\u2500\u2500\u2500\u2500\u2500\u2500\u2500\u2500\u2500\u2500\u2500\u2500\u2500\u2500\u2500\u2500\u2500\u2500\u2500\u2500\u2500\u2500\u2500\u2500\u2500\u2500\u2500\u2500\u2500\u2500\u2500\u2500\u2500\u2500\u2500\u2500\u2500\u2500\u2500\u2500\u2500\u2500\u2500\u2500\u2500\u2500\u2500\u2500\u2500\u2500\u2500\u2500\u2500\u2500\u2500\u2500\u2500\u2500\u2500\u2500 + \u2500\u2500\u2500\u2500\u2500\u2500\u2500\u2500\n",
        "                                                                              \n",
        "                                                                              \n",
        "\u2500\u2500\u2500\u2500\u2500\u2500\u2500\u2500\u2500\u2500\u2500\u2500\u2500\u2500\u2500\u2500\u2500\u2500\u2500\u2500\u2500\u2500\u2500\u2500\u2500\u2500\u2500\u2500\u2500\u2500\u2500\u2500\u2500\u2500\u2500\u2500\u2500\u2500\u2500\u2500\u2500\u2500\u2500\u2500\u2500\u2500\u2500\u2500\u2500\u2500\u2500\u2500\u2500\u2500\u2500\u2500\u2500\u2500\u2500\u2500\u2500\u2500\u2500\u2500\u2500\u2500\u2500\u2500\u2500\u2500\u2500\u2500\u2500\u2500\u2500\u2500\u2500\u2500\n",
        "                                            2    2                            \n",
        "                                           \u03c0 \u22c5D_s                             \n",
        "                                                                              \n",
        "                                                                              \n",
        "\u2500\u2500\u2500\u2500\u2500\u2500\u2500\u2500\u2500\u2500\u2500\u2500\u2500\u2500\u2500\u2500\u2500\u2500\u2500\u2500\u2500\u2500\u2500\u2500\u2500\u2500\u2500\u2500\u2500\u2500\u2500\u2500\u2500\u2500\u2500\u2500\u2500\u2500\u2500\u2500\u2500\u2500\u2500\u2500\u2500\u2500\u2500\u2500\u2500\u2500\u2500\u2500\u2500\u2500\u2500\u2500\u2500\u2500\u2500\u2500\u2500\u2500\u2500\u2500\u2500\u2500\u2500\u2500\u2500\u2500\u2500\u2500\u2500\u2500\u2500\u2500\u2500\u2500\n",
        "                                                                              \n",
        "                                                                              \n",
        "                                                                              \n",
        "                                                                              \n",
        "\n",
        "______________________________________________________________________________\n",
        "                                            2                                 \n",
        "  2    2 \u239b1148205114.14\u22c5m   1148205114.14\u22c5m\u239e                                  \n",
        "oV \u22c5Q_w \u22c5\u239c\u2500\u2500\u2500\u2500\u2500\u2500\u2500\u2500\u2500\u2500\u2500\u2500\u2500\u2500\u2500 + \u2500\u2500\u2500\u2500\u2500\u2500\u2500\u2500\u2500\u2500\u2500\u2500\u2500\u2500\u2500\u239f \u22c5Max(B_max**2/(8*R_Earth*(1498962\n",
        "         \u239d    f_min\u22c5s           f_max\u22c5s    \u23a0                                  \n",
        "\u2500\u2500\u2500\u2500\u2500\u2500\u2500\u2500\u2500\u2500\u2500\u2500\u2500\u2500\u2500\u2500\u2500\u2500\u2500\u2500\u2500\u2500\u2500\u2500\u2500\u2500\u2500\u2500\u2500\u2500\u2500\u2500\u2500\u2500\u2500\u2500\u2500\u2500\u2500\u2500\u2500\u2500\u2500\u2500\u2500\u2500\u2500\u2500\u2500\u2500\u2500\u2500\u2500\u2500\u2500\u2500\u2500\u2500\u2500\u2500\u2500\u2500\u2500\u2500\u2500\u2500\u2500\u2500\u2500\u2500\u2500\u2500\u2500\u2500\u2500\u2500\u2500\u2500\n",
        "                                                                              \n",
        "                                                                              \n",
        "\u2500\u2500\u2500\u2500\u2500\u2500\u2500\u2500\u2500\u2500\u2500\u2500\u2500\u2500\u2500\u2500\u2500\u2500\u2500\u2500\u2500\u2500\u2500\u2500\u2500\u2500\u2500\u2500\u2500\u2500\u2500\u2500\u2500\u2500\u2500\u2500\u2500\u2500\u2500\u2500\u2500\u2500\u2500\u2500\u2500\u2500\u2500\u2500\u2500\u2500\u2500\u2500\u2500\u2500\u2500\u2500\u2500\u2500\u2500\u2500\u2500\u2500\u2500\u2500\u2500\u2500\u2500\u2500\u2500\u2500\u2500\u2500\u2500\u2500\u2500\u2500\u2500\u2500\n",
        "                                                                              \n",
        "                                                                              \n",
        "                                                                              \n",
        "                                                                              \n",
        "\u2500\u2500\u2500\u2500\u2500\u2500\u2500\u2500\u2500\u2500\u2500\u2500\u2500\u2500\u2500\u2500\u2500\u2500\u2500\u2500\u2500\u2500\u2500\u2500\u2500\u2500\u2500\u2500\u2500\u2500\u2500\u2500\u2500\u2500\u2500\u2500\u2500\u2500\u2500\u2500\u2500\u2500\u2500\u2500\u2500\u2500\u2500\u2500\u2500\u2500\u2500\u2500\u2500\u2500\u2500\u2500\u2500\u2500\u2500\u2500\u2500\u2500\u2500\u2500\u2500\u2500\u2500\u2500\u2500\u2500\u2500\u2500\u2500\u2500\u2500\u2500\u2500\u2500\n",
        "                                                                              \n",
        "                                                                              \n",
        "                                                                              \n",
        "                                                                              \n",
        "\n",
        "______________________________________________________________________________\n",
        "                                                                              \n",
        "                                                                              \n",
        "29.0*m/(f_min*s) + 149896229.0*m/(f_max*s))), B_max*Omega_E*T_snap/(299792458.\n",
        "                                                                              \n",
        "\u2500\u2500\u2500\u2500\u2500\u2500\u2500\u2500\u2500\u2500\u2500\u2500\u2500\u2500\u2500\u2500\u2500\u2500\u2500\u2500\u2500\u2500\u2500\u2500\u2500\u2500\u2500\u2500\u2500\u2500\u2500\u2500\u2500\u2500\u2500\u2500\u2500\u2500\u2500\u2500\u2500\u2500\u2500\u2500\u2500\u2500\u2500\u2500\u2500\u2500\u2500\u2500\u2500\u2500\u2500\u2500\u2500\u2500\u2500\u2500\u2500\u2500\u2500\u2500\u2500\u2500\u2500\u2500\u2500\u2500\u2500\u2500\u2500\u2500\u2500\u2500\u2500\u2500\n",
        "              2    2                                                          \n",
        "             \u03c0 \u22c5D_s                                                           \n",
        "\u2500\u2500\u2500\u2500\u2500\u2500\u2500\u2500\u2500\u2500\u2500\u2500\u2500\u2500\u2500\u2500\u2500\u2500\u2500\u2500\u2500\u2500\u2500\u2500\u2500\u2500\u2500\u2500\u2500\u2500\u2500\u2500\u2500\u2500\u2500\u2500\u2500\u2500\u2500\u2500\u2500\u2500\u2500\u2500\u2500\u2500\u2500\u2500\u2500\u2500\u2500\u2500\u2500\u2500\u2500\u2500\u2500\u2500\u2500\u2500\u2500\u2500\u2500\u2500\u2500\u2500\u2500\u2500\u2500\u2500\u2500\u2500\u2500\u2500\u2500\u2500\u2500\u2500\n",
        "                                                                              \n",
        "                                                                              \n",
        "                                                                              \n",
        "                                                                              \n",
        "\u2500\u2500\u2500\u2500\u2500\u2500\u2500\u2500\u2500\u2500\u2500\u2500\u2500\u2500\u2500\u2500\u2500\u2500\u2500\u2500\u2500\u2500\u2500\u2500\u2500\u2500\u2500\u2500\u2500\u2500\u2500\u2500\u2500\u2500\u2500\u2500\u2500\u2500\u2500\u2500\u2500\u2500\u2500\u2500\u2500\u2500\u2500\u2500\u2500\u2500\u2500\u2500\u2500\u2500\u2500\u2500\u2500\u2500\u2500\u2500\u2500\u2500\u2500\u2500\u2500\u2500\u2500\u2500\u2500\u2500\u2500\u2500\u2500\u2500\u2500\u2500\u2500\u2500\n",
        "                                                                              \n",
        "                                                                              \n",
        "                                                                              \n",
        "                                                                              \n",
        "\n",
        "____________________________________________\u239e                                 \n",
        "                                          \u239e \u239f                                 \n",
        "                                         2\u239f \u239f                                 \n",
        "0*m/(f_min*s) + 299792458.0*m/(f_max*s))) \u239f \u239f                                 \n",
        "                                          \u239f \u239f                                 \n",
        "\u2500\u2500\u2500\u2500\u2500\u2500\u2500\u2500\u2500\u2500\u2500\u2500\u2500\u2500\u2500\u2500\u2500\u2500\u2500\u2500\u2500\u2500\u2500\u2500\u2500\u2500\u2500\u2500\u2500\u2500\u2500\u2500\u2500\u2500\u2500\u2500\u2500\u2500\u2500\u2500\u2500\u2500\u239f \u239f                                 \n",
        "                                          \u239f \u239f           \u239b                     \n",
        "                                          \u23a0 \u239f           \u239c                     \n",
        "\u2500\u2500\u2500\u2500\u2500\u2500\u2500\u2500\u2500\u2500\u2500\u2500\u2500\u2500\u2500\u2500\u2500\u2500\u2500\u2500\u2500\u2500\u2500\u2500\u2500\u2500\u2500\u2500\u2500\u2500\u2500\u2500\u2500\u2500\u2500\u2500\u2500\u2500\u2500\u2500\u2500\u2500\u2500 \u239f           \u239c         2      2    \n",
        "                                            \u239f           \u239c160\u22c5B_max \u22c5Q_FoV \u22c5Q_p\n",
        "                                            \u23a0           \u239c                     \n",
        "                                                        \u239c                     \n",
        "                                                        \u239c                     \n",
        "\u2500\u2500\u2500\u2500\u2500\u2500\u2500\u2500\u2500\u2500\u2500\u2500\u2500\u2500\u2500\u2500\u2500\u2500\u2500\u2500\u2500\u2500\u2500\u2500\u2500\u2500\u2500\u2500\u2500\u2500\u2500\u2500\u2500\u2500\u2500\u2500\u2500\u2500\u2500\u2500\u2500\u2500\u2500\u2500\u2500 + N_f,out\u22c5\u239c\u2500\u2500\u2500\u2500\u2500\u2500\u2500\u2500\u2500\u2500\u2500\u2500\u2500\u2500\u2500\u2500\u2500\u2500\u2500\u2500\u2500\n",
        "                                                        \u239c                     \n",
        "                                                        \u239c                     \n",
        "                                                        \u239c                     \n",
        "                                                        \u239d                     \n",
        "\n",
        "                                                                              \n",
        "                                                                              \n",
        "                                                                              \n",
        "                                                                              \n",
        "                                                                              \n",
        "                                                                              \n",
        "                                            \u239b                    \u239b1148205114.1\n",
        "                                       2    \u239c4\u22c5B_max\u22c5Q_FoV\u22c5Q_pix\u22c5\u239c\u2500\u2500\u2500\u2500\u2500\u2500\u2500\u2500\u2500\u2500\u2500\u2500\n",
        "  2 \u239b1148205114.14\u22c5m   1148205114.14\u22c5m\u239e     \u239c                    \u239d    f_min\u22c5s \n",
        "ix \u22c5\u239c\u2500\u2500\u2500\u2500\u2500\u2500\u2500\u2500\u2500\u2500\u2500\u2500\u2500\u2500\u2500 + \u2500\u2500\u2500\u2500\u2500\u2500\u2500\u2500\u2500\u2500\u2500\u2500\u2500\u2500\u2500\u239f \u22c5   \u239c\u2500\u2500\u2500\u2500\u2500\u2500\u2500\u2500\u2500\u2500\u2500\u2500\u2500\u2500\u2500\u2500\u2500\u2500\u2500\u2500\u2500\u2500\u2500\u2500\u2500\u2500\u2500\u2500\u2500\u2500\u2500\u2500\u2500\n",
        "    \u239d    f_min\u22c5s           f_max\u22c5s    \u23a0     \u239c               \u239b449688687.0\u22c5m   4\n",
        "                                         log\u239c         \u03c0\u22c5D_s\u22c5\u239c\u2500\u2500\u2500\u2500\u2500\u2500\u2500\u2500\u2500\u2500\u2500\u2500\u2500 + \u2500\n",
        "                                            \u239d               \u239d   f_min\u22c5s       \n",
        "\u2500\u2500\u2500\u2500\u2500\u2500\u2500\u2500\u2500\u2500\u2500\u2500\u2500\u2500\u2500\u2500\u2500\u2500\u2500\u2500\u2500\u2500\u2500\u2500\u2500\u2500\u2500\u2500\u2500\u2500\u2500\u2500\u2500\u2500\u2500\u2500\u2500\u2500\u2500\u2500\u2500\u2500\u2500\u2500\u2500\u2500\u2500\u2500\u2500\u2500\u2500\u2500\u2500\u2500\u2500\u2500\u2500\u2500\u2500\u2500\u2500\u2500\u2500\u2500\u2500\u2500\u2500\u2500\u2500\u2500\u2500\u2500\u2500\u2500\u2500\u2500\u2500\u2500\n",
        "                                                           2                  \n",
        "              2    2        \u239b449688687.0\u22c5m   449688687.0\u22c5m\u239e                   \n",
        "             \u03c0 \u22c5D_s \u22c5T_snap\u22c5\u239c\u2500\u2500\u2500\u2500\u2500\u2500\u2500\u2500\u2500\u2500\u2500\u2500\u2500 + \u2500\u2500\u2500\u2500\u2500\u2500\u2500\u2500\u2500\u2500\u2500\u2500\u2500\u239f \u22c5log(2)           \n",
        "                            \u239d   f_min\u22c5s         f_max\u22c5s   \u23a0                   \n",
        "\n",
        "                               \u239e\n",
        "                               \u239f\n",
        "                               \u239f\n",
        "                               \u239f\n",
        "                               \u239f\n",
        "                               \u239f\n",
        "4\u22c5m   1148205114.14\u22c5m\u239e\u239e       \u239e\u239f\n",
        "\u2500\u2500\u2500 + \u2500\u2500\u2500\u2500\u2500\u2500\u2500\u2500\u2500\u2500\u2500\u2500\u2500\u2500\u2500\u239f\u239f       \u239f\u239f\n",
        "          f_max\u22c5s    \u23a0\u239f       \u239f\u239f\n",
        "\u2500\u2500\u2500\u2500\u2500\u2500\u2500\u2500\u2500\u2500\u2500\u2500\u2500\u2500\u2500\u2500\u2500\u2500\u2500\u2500\u2500\u2500\u239f       \u239f\u239f\n",
        "49688687.0\u22c5m\u239e         \u239f       \u239f\u239f\n",
        "\u2500\u2500\u2500\u2500\u2500\u2500\u2500\u2500\u2500\u2500\u2500\u2500\u239f         \u239f       \u239f\u239f\n",
        "  f_max\u22c5s   \u23a0         \u23a0       \u239f\u239f\n",
        "\u2500\u2500\u2500\u2500\u2500\u2500\u2500\u2500\u2500\u2500\u2500\u2500\u2500\u2500\u2500\u2500\u2500\u2500\u2500\u2500\u2500\u2500\u2500 + R_rp\u239f\u239f\n",
        "                              \u239f\u239f\n",
        "                              \u239f\u239f\n",
        "                              \u239f\u239f\n",
        "                              \u23a0\u23a0"
       ]
      }
     ],
     "prompt_number": 14
    },
    {
     "cell_type": "heading",
     "level": 2,
     "metadata": {},
     "source": [
      "Minimizing a variable (e.g. Rflop) by finding an optimal value for a free input variable (e.g. Tsnap)"
     ]
    },
    {
     "cell_type": "code",
     "collapsed": false,
     "input": [
      "from scipy import optimize as opt"
     ],
     "language": "python",
     "metadata": {},
     "outputs": [],
     "prompt_number": 15
    },
    {
     "cell_type": "code",
     "collapsed": false,
     "input": [
      "antwoord = calc_tel('SKA1_Mid', band='3', mode='Continuum', expr=Rflop)"
     ],
     "language": "python",
     "metadata": {},
     "outputs": [],
     "prompt_number": 16
    },
    {
     "cell_type": "code",
     "collapsed": false,
     "input": [
      "antwoord"
     ],
     "language": "python",
     "metadata": {},
     "outputs": [
      {
       "metadata": {},
       "output_type": "pyout",
       "prompt_number": 17,
       "text": [
        "{'SKA1_Mid-Continuum': 6737989.52013592*(0.066235311935568*(0.004139706995973*Max(2773.72552243292, 36.6116031511373*T_snap)**2/pi**2 + 6.43405548310939*Max(2773.72552243292, 36.6116031511373*T_snap)**1.5/pi**2)/pi**2 + 81)*log(8.0*sqrt(0.066235311935568*(0.004139706995973*Max(2773.72552243292, 36.6116031511373*T_snap)**2/pi**2 + 6.43405548310939*Max(2773.72552243292, 36.6116031511373*T_snap)**1.5/pi**2)/pi**2 + 81))/(log(2)*log(1.15734311056793e-5*pi + 1)) + 724875360.0*(0.066235311935568*(0.004139706995973*Max(2773.72552243292, 36.6116031511373*T_snap)**2/pi**2 + 6.43405548310939*Max(2773.72552243292, 36.6116031511373*T_snap)**1.5/pi**2)/pi**2 + 81)*(250.0 + 0.245746521082732/log(8.15926892950392e-5*pi + 1) + 0.0614366302706831/log(1.15734311056793e-5*pi + 1)) + 3.73289473152e+17/(pi**2*T_snap) + 7.46578946304e+16*log(432024.0/pi)/(pi**2*T_snap*log(2))}"
       ]
      }
     ],
     "prompt_number": 17
    },
    {
     "cell_type": "code",
     "collapsed": false,
     "input": [
      "# This elegant little line removes all SI units from the result (Rflop), which enables lambdification.\n",
      "# Rflop_no_units = Rflop.replace(lambda el: hasattr(u, str(el)), lambda el: 1)"
     ],
     "language": "python",
     "metadata": {},
     "outputs": [],
     "prompt_number": 18
    },
    {
     "cell_type": "code",
     "collapsed": false,
     "input": [
      "Rflop_eval = lambdify(Tsnap, antwoord['SKA1_Mid-Continuum'], modules=(\"sympy\",))\n",
      "Rflop_eval_f = lambda x: float(Rflop_eval(x))"
     ],
     "language": "python",
     "metadata": {},
     "outputs": [],
     "prompt_number": 19
    },
    {
     "cell_type": "raw",
     "metadata": {},
     "source": [
      "Now that it is \"lambdified\", we can evaluate Rflop_eval_f for any numerical value of Tsnap"
     ]
    },
    {
     "cell_type": "code",
     "collapsed": false,
     "input": [
      "float(Rflop_eval_f(140.761))"
     ],
     "language": "python",
     "metadata": {},
     "outputs": [
      {
       "latex": [
        "$$7.67494408963e+15$$"
       ],
       "metadata": {},
       "output_type": "pyout",
       "png": "[encoded data removed]",
       "prompt_number": 20,
       "text": [
        "7.67494408963e+15"
       ]
      }
     ],
     "prompt_number": 20
    },
    {
     "cell_type": "markdown",
     "metadata": {},
     "source": [
      "***A solution can be found in a bounded range, as follows:***"
     ]
    },
    {
     "cell_type": "code",
     "collapsed": false,
     "input": [
      "res = opt.minimize_scalar(Rflop_eval_f, bounds=(0.1, 200), method='bounded')\n",
      "print 'Using Tsnap = %.5g yields a value of Rflop = %.5g' % (res.x, res.fun)"
     ],
     "language": "python",
     "metadata": {},
     "outputs": [
      {
       "output_type": "stream",
       "stream": "stdout",
       "text": [
        "Using Tsnap = 75.761 yields a value of Rflop = 4.8298e+15\n"
       ]
      }
     ],
     "prompt_number": 21
    },
    {
     "cell_type": "code",
     "collapsed": false,
     "input": [
      "float(Rflop_eval_f(res.x)) "
     ],
     "language": "python",
     "metadata": {},
     "outputs": [
      {
       "latex": [
        "$$4.82978474692e+15$$"
       ],
       "metadata": {},
       "output_type": "pyout",
       "png": "[encoded data removed]",
       "prompt_number": 22,
       "text": [
        "4.82978474692e+15"
       ]
      }
     ],
     "prompt_number": 22
    }
   ],
   "metadata": {}
  }
 ]
}