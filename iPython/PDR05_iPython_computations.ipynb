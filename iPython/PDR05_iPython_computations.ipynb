{
 "metadata": {
  "name": "",
  "signature": "sha256:d464588d71e78a6c2c904ea1434798fd51e2a6f9fa374aa625937a04e4a3df28"
 },
 "nbformat": 3,
 "nbformat_minor": 0,
 "worksheets": [
  {
   "cells": [
    {
     "cell_type": "markdown",
     "metadata": {},
     "source": [
      "_This notebook is an iPython translation of the M7 PDR05 Excel Spreadsheet, interpreted along the same iPython notebook template as originally done by **Juande Santander-Vela** in his separate analysis of M7 Milestone document PDR05.\n",
      "\n",
      "_This is an interactive document that includes blocks of code that can be used to evaluate equations if **sympy** and **astropy** are available._\n",
      "\n",
      "The owner of this notebook document is **Francois Malan** of Space Advisory Company. _"
     ]
    },
    {
     "cell_type": "code",
     "collapsed": true,
     "input": [
      "from sympy import init_session\n",
      "init_session(\n",
      "    use_latex=True,\n",
      "    use_unicode=True,\n",
      "    pretty_print=True,\n",
      "    quiet=True,\n",
      ")\n",
      "\n",
      "import sympy.physics.units as u\n",
      "from astropy import constants as const\n",
      "import numpy as np"
     ],
     "language": "python",
     "metadata": {},
     "outputs": [
      {
       "output_type": "stream",
       "stream": "stdout",
       "text": [
        "IPython console for SymPy 0.7.6 (Python 2.7.7-32-bit) (ground types: python)\n"
       ]
      }
     ],
     "prompt_number": 1
    },
    {
     "cell_type": "heading",
     "level": 1,
     "metadata": {},
     "source": [
      "List of Symbols"
     ]
    },
    {
     "cell_type": "heading",
     "level": 2,
     "metadata": {},
     "source": [
      "Fixed values"
     ]
    },
    {
     "cell_type": "markdown",
     "metadata": {},
     "source": [
      "|**Symbol**|**Python**|**Description**|\n",
      "|-|-|-|\n",
      "| $c$ | c | Speed of light in a vacuum |\n",
      "| $\\Omega_E$ | Omega_E | Angular rotational velocity of the Earth |\n",
      "| $R_{Earth}$ | R_Earth | Radius of the Earth |"
     ]
    },
    {
     "cell_type": "code",
     "collapsed": false,
     "input": [
      "c = const.c.value * u.m / u.s\n",
      "Omega_E, R_Earth = symbols(\"Omega_E, R_Earth\", positive=True)"
     ],
     "language": "python",
     "metadata": {},
     "outputs": [],
     "prompt_number": 3
    },
    {
     "cell_type": "heading",
     "level": 2,
     "metadata": {},
     "source": [
      "Assumed values"
     ]
    },
    {
     "cell_type": "heading",
     "level": 3,
     "metadata": {},
     "source": [
      "For all telescopes"
     ]
    },
    {
     "cell_type": "markdown",
     "metadata": {},
     "source": [
      "*May need global tweaking*"
     ]
    },
    {
     "cell_type": "markdown",
     "metadata": {},
     "source": [
      "|**Symbol**|**Python**|**Value**|**Description**|\n",
      "|-|-|-|-|\n",
      "| $N_{kernel}$ | Nk | 9 | Linear size of the combined $A$ and $W$ kernels (pixels). This size is at the low end of the range 9-15 given by [RD11] in Section 4.4.2 of their paper. |\n",
      "| $N_{pp}$ | Npp | 4| Number of polarisation products that are processed |\n",
      "| $T_{ion}$ | T_ion | 60 | Ionospheric timescale |\n",
      "| $\\epsilon_{w}$ | epsilon_w | 0.01 | Amplitude level of w-kernels to include. Value 0.01 is used in [RD6] where it is shown to give kernel sizes in rough agreement with CASA package.|\n",
      "|$M_{vis}$| Mvis | 12 | Size of visibility datum in the buffer |\n",
      "|$W_{curve}$|W_urve||Minimum deviation of the W coordinate due to Earth\u2019s curvature|\n",
      "|$Q_{bw}$|Qbw|1 |Bandwidth quality factor, determining how well bandwidth smearing can be controlled|\n",
      "|$Q_{w}$|Qw|1 | Quality factor for w-projection correction. Value 1 corresponds to correction of maximal w values.  For comparison [RD7] uses values 0.1\u20140.3 |\n",
      "|$Q_{GCF}$|Qgcf|8|Oversampling factor of w-convolution kernels|\n",
      "|$Q_{fcw}$|Qfcw|10|Number of adjacent frequency channels for which baseline dependent kernels can be reused|\n"
     ]
    },
    {
     "cell_type": "code",
     "collapsed": false,
     "input": [
      "Nk, Npp = symbols(\"N_k N_pp\", integer=True, positive=True)\n",
      "Tion = symbols(\"T_ion\", positive=True)\n",
      "epsilon_w = symbols(\"\\epsilon_w\", positive=True)\n",
      "Mvis = symbols(\"M_vis\", positive=True)\n",
      "Qbw, Qw, Qgcf, Qfcv = symbols(\"Q_bw, Q_w, Q_GCF, Q_fcv\", positive=True)\n",
      "Wcurve = symbols(\"W_curve\", positive=True)\n",
      "# et cetera"
     ],
     "language": "python",
     "metadata": {},
     "outputs": [],
     "prompt_number": 105
    },
    {
     "cell_type": "heading",
     "level": 3,
     "metadata": {},
     "source": [
      "Per-telescope parameters"
     ]
    },
    {
     "cell_type": "markdown",
     "metadata": {},
     "source": [
      "*Subject to change*"
     ]
    },
    {
     "cell_type": "markdown",
     "metadata": {},
     "source": [
      "|***Telescope parameters***\n",
      "|-|-|-|-|-|-|\n",
      "| | Symbol | Python | SKA1-Low | SKA1-Mid | SKA1-Survey |\n",
      "| Originally specified maximum baseline according to SKAO (km)     | $B_{max,ref}$|Bmax_ref| $100$|$200$|$50$|\n",
      "|Maximum baseline chosen for calculations (km)                     | $B_{max}$|Bmax| $100$|$120$|$50$|\n",
      "| Originally specified number of frequency channels from corellator                   |$N_{f,corr}$||$256000$|$256000$|$256000$|\n",
      "| Number of frequency channels from corellator                   |$N_{f,corr}$|Nf|$64000$|$96000$|$64000$|\n",
      "| Number of stations/antennas                                    |$N_{a}$|Na|$1024$|$256$|$96$|\n",
      "| Number of beams                                                |$N_{beam}$||$1$|$1$|$36$|\n",
      "| Antenna/Station Diameter (m)                                   |$D_{s}$||$35$|$15$|$15$|\n",
      "| Representative wavelength | $\\lambda$ | wl | $3$ | $0.024-0.57$ | $0.08-0.605$ |\n",
      "| Correlator dump time appropriate for original maximum baseline (s)                                     |$T_{dump,ref}$|Tdump_ref|$0.6$|$0.08$|$0.3$|"
     ]
    },
    {
     "cell_type": "code",
     "collapsed": false,
     "input": [
      "Bmax_ref, Bmax, B90, Blim_mid = symbols(\"B_max\\,ref B_max B_90 Blim_mid\", positive=True)\n",
      "Cr = symbols(\"C_r\", positive=True)\n",
      "Fb_short_tel, Fb_short = symbols(\"Fb_short_tel Fb_short\")\n",
      "Na, Nbeam, Npp, Nmm, Nk = symbols(\"N_a N_beam N_pp N_mm N_k\", integer=True, positive=True)\n",
      "Nf, Nf_out, Nf_out_slowtrans, Nf_used, Nf_vis = symbols(\"N_{f\\,corr} N_{f\\,out} N_{f\\,out-slowtrans} N_{f\\,used} N_{f\\,vis}\")\n",
      "Ds, Tdump_ref, Tdump = symbols(\"D_s T_dump\\,ref T_dump\", positive=True)\n",
      "Tsnap, Tsnap_min = symbols(\"T_snap T_{snap\\,min}\", positive=True)\n",
      "Qfov = symbols(\"Q_FoV\", positive=True)\n",
      "fov_angle = symbols(r\"\\theta_{FoV}\", positive=True)\n",
      "wl, wl_max, wl_min, wl_sub_max, wl_sub_min = symbols(\"\\lambda \\lambda_max \\lambda_max \\lambda_{sub\\,max} \\lambda_{sub\\,min}\", positive=True)\n",
      "Qpix = symbols(\"Q_pix\", positive=True)\n",
      "psf_angle= symbols(r\"\\theta_{PSF}\", positive=True)\n",
      "pix_angle  = symbols(r\"\\theta_{pix}\", positive=True)\n",
      "Npix, Nmajor, Nminor = symbols(\"N_pix N_major N_minor\", integer=True, positive=True)\n",
      "NAA, NGW = symbols(\"N_AA N_GW\", positive=True)"
     ],
     "language": "python",
     "metadata": {},
     "outputs": [],
     "prompt_number": 139
    },
    {
     "cell_type": "heading",
     "level": 2,
     "metadata": {},
     "source": [
      "Spectral vs Continuum vs Fast Imaging (i.e. slow transients)"
     ]
    },
    {
     "cell_type": "markdown",
     "metadata": {},
     "source": [
      "***This is the same for all telescopes and bands***"
     ]
    },
    {
     "cell_type": "markdown",
     "metadata": {},
     "source": [
      "|***Telescope parameters***\n",
      "|-|-|-|-|-|-|\n",
      "| | Symbol | Python | Continuum | Spectral | SlowTrans |\n",
      "| Field of view factor | $Q_{FoV}$| Qfov |1.8|1|0.9|\n",
      "| Number of major CLEAN cycles to be done | $N_{major}$ | Nmajor |10|1|1|\n",
      "| Quality factor defining the oversampling of synthesised beam | $Q_{pix}$ | Qpix | 2.5 | 2.5 | 1.5\n"
     ]
    },
    {
     "cell_type": "code",
     "collapsed": false,
     "input": [
      "telescope_list = ['SKA1Low', 'SKA1Mid', 'SKA1Survey'] \n",
      "imaging_modes = ['Continuum', 'Spectral', 'SlowTrans']\n",
      "\n",
      "telescope_labels = dict(\n",
      "    zip(\n",
      "        telescope_list,\n",
      "        symbols('Low, Mid, Sur')\n",
      "    )\n",
      ")\n",
      "\n",
      "mode_labels = dict(\n",
      "    zip(\n",
      "        imaging_modes,\n",
      "        symbols('Cont, Spec, ST')\n",
      "    )\n",
      ")\n",
      "\n",
      "universal = {Omega_E : 7.2921e-5,\n",
      "             R_Earth : 6.371e6,\n",
      "             Nk   : 9,\n",
      "             Npp  : 4,\n",
      "             Nmm  : 4,\n",
      "             T_ion : 60.0,\n",
      "             epsilon_w : 0.01,\n",
      "             Mvis : 12.0,\n",
      "             Qbw  : 1.0,\n",
      "             Qw   : 1.0,\n",
      "             Qgcf : 8.0,\n",
      "             Qfcv : 10.0,\n",
      "             Blim_mid : 20000}  # Baseline length that(Fbshort+Fbmid, i.e. 90%) of baselines are shorter than\n",
      "\n",
      "telescope_info = {\n",
      "    'SKA1Low': {\n",
      "        Tdump_ref: 0.6 * u.s, # Correlator dump time in reference design\n",
      "        Na: 1024,         # number of antennas\n",
      "        Nf: 64000,       # number of channels\n",
      "        Nbeam: 1,         # number of beams\n",
      "        Ds: 35 * u.m,     # station \"diameter\" in meters\n",
      "        wl: c /(100e6 * u.Hz), # lambda in meters for 100 MHz\n",
      "        Bmax: 100 * u.km, # kilometers of max baseline\n",
      "        Bmax_ref: 100 * u.km, # kilometers of max baseline in reference design\n",
      "        Nf_out_slowtrans : 300,\n",
      "        Fb_short_tel : 0.5, # Fraction of baselines short enough for data to be averaged to frequency\n",
      "                           # resolution of output prior to gridding. Only relevant for continuum modes\n",
      "    },\n",
      "    'SKA1Mid': {\n",
      "        Tdump_ref: 0.08 * u.s, # Correlator dump time in reference design\n",
      "        Na: 190+64,        # number of antennas\n",
      "        Nf: 96000,        # number of channels\n",
      "        Nbeam: 1,          # number of beams\n",
      "        Ds: 15 * u.m,      # station \"diameter\" in meters\n",
      "        wl: c /(1160e6 * u.Hz), # lambda in meters for 1.16 GHz\n",
      "        Bmax: 120 * u.km,  # kilometers of max baseline\n",
      "        Bmax_ref: 200 * u.km, # kilometers of max baseline in reference design\n",
      "        Nf_out_slowtrans : 700,\n",
      "        Fb_short_tel : 0.5, # Fraction of baselines short enough for data to be averaged to frequency\n",
      "                           # resolution of output prior to gridding. Only relevant for continuum modes\n",
      "    },\n",
      "    'SKA1Survey': {\n",
      "        Tdump_ref: 0.3 * u.s, # Correlator dump time in reference design\n",
      "        Na: 96,           # number of antennas\n",
      "        Nf: 64000,       # number of channels\n",
      "        Nbeam: 36,        # number of beams (36 because this is a PAF)\n",
      "        Ds: 15 * u.m,     # station \"diameter\" in meters\n",
      "        wl: c /(1160e6 * u.Hz), # lambda in meters for 1.16 GHz\n",
      "        Bmax: 50 * u.km,  # kilometers of max baseline\n",
      "        Bmax_ref: 50 * u.km, # kilometers of max baseline in reference design\n",
      "        Nf_out_slowtrans : 500,\n",
      "        Fb_short_tel : 0.1, # Fraction of baselines short enough for data to be averaged to frequency\n",
      "                           # resolution of output prior to gridding. Only relevant for continuum modes\n",
      "    },\n",
      "}\n",
      "\n",
      "imaging_mode_info = {\n",
      "    'Continuum': {\n",
      "        Qfov:  1.8, # Field of view factor\n",
      "        Nmajor: 10, # Number of major CLEAN cycles to be done\n",
      "        Qpix:  2.5, # Quality factor of synthesised beam oversampling\n",
      "        Nf_out : 500,\n",
      "        Nf_used : None, #Need to be computed separately\n",
      "        Fb_short : Fb_short_tel,\n",
      "    },\n",
      "    'Spectral': {\n",
      "        Qfov: 1.0, # Field of view factor\n",
      "        Nmajor: 1, # Number of major CLEAN cycles to be done        \n",
      "        Qpix: 2.5, # Quality factor of synthesised beam oversampling\n",
      "        Nf_out : Nf, #The same as the number of channels\n",
      "        Nf_used : Nf,\n",
      "        Fb_short : 0*Fb_short_tel,\n",
      "    },\n",
      "    'SlowTrans': {\n",
      "        Qfov: 0.9, # Field of view factor\n",
      "        Nmajor: 1, # Number of major CLEAN cycles to be done\n",
      "        Qpix: 1.5, # Quality factor of synthesised beam oversampling\n",
      "        Nf_out : Nf_out_slowtrans,\n",
      "        Nf_used : None, #Need to be computed separately\n",
      "        Fb_short : Fb_short_tel,\n",
      "    },\n",
      "}\n",
      "\n",
      "def calc_tel(telescope=None, mode=None, expr=None):\n",
      "    '''\n",
      "    Evaluate an expression for a single telescope\n",
      "    '''\n",
      "    # Concatenate all relevant dicionaries to make a unified dictionary for this combination\n",
      "    telescope_params = dict(dict(telescope_info[telescope],**imaging_mode_info[mode]), **universal)\n",
      "    # Shortcut for computing an expression for one mode of one telescope\n",
      "    return dict(\n",
      "        [('SKA1_%s-%s' % (telescope_labels[telescope], mode_labels[mode]), expr.subs(telescope_params).subs(telescope_params))]\n",
      "    )\n",
      "\n",
      "def eval_for_telescopes(expr,ev=None):\n",
      "    # Take into account that substitutions in subs are done _after_ evaluating \n",
      "    # the telescope-dependent substitution. If you want to run them before, you'll\n",
      "    # have to do substitute them first\n",
      "    result = {}\n",
      "    for t in telescope_list:\n",
      "        for m in telescope_modes: \n",
      "            telescope_params = dict(dict(telescope_info[t],**imaging_mode_info[m]), **universal)\n",
      "            tm = 'SKA1_%s-%s' % (telescope_labels[t], mode_labels[m])\n",
      "            if ev == None:\n",
      "                result[tm] = expr.subs(telescope_params).subs(telescope_params)\n",
      "            elif type(ev) == type(True):\n",
      "                result[tm] = expr.subs(telescope_params).subs(telescope_params).evalf()\n",
      "            elif type(ev) == type(1) and ev > 0:\n",
      "                result[tm] = expr.subs(telescope_params).subs(telescope_params).evalf(ev)                            \n",
      "    return result"
     ],
     "language": "python",
     "metadata": {},
     "outputs": [],
     "prompt_number": 140
    },
    {
     "cell_type": "code",
     "collapsed": false,
     "input": [
      "Theta_fov = 7.66 * wl * Qfov / (pi * Ds)\n",
      "Theta_beam = 3 * wl/(2*Bmax)\n",
      "Theta_pix = Theta_beam/(2*Qpix)\n",
      "Npix = Theta_fov / Theta_pix\n",
      "Rfft = 10 * Npix**2 * log(Npix,2) / Tsnap\n",
      "Deltaw_max = 1  #temporary\n",
      "#Deltaw_max = max(Bmax*Qw*Tsnap*Omega_E/(2*wl), Bmax**2/(8*R_Earth*wl))\n",
      "Ngw = 2*Theta_fov * sqrt((Deltaw_max**2 * Theta_fov**2/4.0)+(Deltaw_max**1.5*Deltaw_max/(epsilon_w*2*pi)))\n",
      "Ncvff = Qgcf*sqrt(Nk**2+Ngw**2)\n",
      "Rccf = 5 *(Na-1)*Na*Nmm*Ncvff**2 * log(Ncvff,2)/(Tion*Qfcv)\n",
      "if Nf_used == None:  # iff not Spectral mode\n",
      "    Nf_used = ln(wl_max/wl_min) / ln((Theta_beam/(Theta_fov*Qbw)+1))\n",
      "\n",
      "Fb_mid=1-0.1-Fb_short\n",
      "Nf_vis=(Nf_out*Fb_short)+(Nf_used*(1-Fb_short-Fb_mid))+(Blim_mid*Fb_short)\n",
      "Cr=Nf_used/Nf_vis\n",
      "#Tdump = calc_tel('SKA1Low','Continuum', Tdump_ref*Bmax_ref/Bmax)\n",
      "Nvis = Na*(Na-1)*Nf_used/(2*Tdump)/Cr\n",
      "Rgrid = 8*Nmm*Nvis*(Ngw**2+Nk**2)\n",
      "Rflop = 2 * Nmajor*Nbeam*Npp*((Nf_out*(Rfft + Rgrid)+(Nf_used*Rccf)+Rgrid))"
     ],
     "language": "python",
     "metadata": {},
     "outputs": [],
     "prompt_number": 149
    },
    {
     "cell_type": "code",
     "collapsed": false,
     "input": [
      "Rflop"
     ],
     "language": "python",
     "metadata": {},
     "outputs": [
      {
       "latex": [
        "$$2 N_{beam} N_{major} N_{pp} \\left(\\frac{N_{a} N_{mm} N_{{f,used}} Q_{GCF}^{2}}{Q_{fcv} T_{ion} \\log{\\left (2 \\right )}} \\left(5 N_{a} - 5\\right) \\left(N_{k}^{2} + \\frac{234.7024 Q_{FoV}^{2} \\lambda^{2}}{\\pi^{2} D_{s}^{2}} \\left(\\frac{0.5}{\\pi \\epsilon_{w}} + \\frac{14.6689 Q_{FoV}^{2} \\lambda^{2}}{\\pi^{2} D_{s}^{2}}\\right)\\right) \\log{\\left (Q_{GCF} \\sqrt{N_{k}^{2} + \\frac{234.7024 Q_{FoV}^{2} \\lambda^{2}}{\\pi^{2} D_{s}^{2}} \\left(\\frac{0.5}{\\pi \\epsilon_{w}} + \\frac{14.6689 Q_{FoV}^{2} \\lambda^{2}}{\\pi^{2} D_{s}^{2}}\\right)} \\right )} + \\frac{4 N_{a}}{T_{dump}} N_{mm} \\left(N_{a} - 1\\right) \\left(N_{k}^{2} + \\frac{234.7024 Q_{FoV}^{2} \\lambda^{2}}{\\pi^{2} D_{s}^{2}} \\left(\\frac{0.5}{\\pi \\epsilon_{w}} + \\frac{14.6689 Q_{FoV}^{2} \\lambda^{2}}{\\pi^{2} D_{s}^{2}}\\right)\\right) \\left(Blim_{mid} Fb_{short} + Fb_{short} N_{{f,out}} + 0.1 N_{{f,used}}\\right) + N_{{f,out}} \\left(\\frac{1043.12177777778 B_{max}^{2} Q_{FoV}^{2} Q_{pix}^{2} \\log{\\left (\\frac{10.2133333333333 B_{max} Q_{FoV} Q_{pix}}{\\pi D_{s}} \\right )}}{\\pi^{2} D_{s}^{2} T_{snap} \\log{\\left (2 \\right )}} + \\frac{4 N_{a}}{T_{dump}} N_{mm} \\left(N_{a} - 1\\right) \\left(N_{k}^{2} + \\frac{234.7024 Q_{FoV}^{2} \\lambda^{2}}{\\pi^{2} D_{s}^{2}} \\left(\\frac{0.5}{\\pi \\epsilon_{w}} + \\frac{14.6689 Q_{FoV}^{2} \\lambda^{2}}{\\pi^{2} D_{s}^{2}}\\right)\\right) \\left(Blim_{mid} Fb_{short} + Fb_{short} N_{{f,out}} + 0.1 N_{{f,used}}\\right)\\right)\\right)$$"
       ],
       "metadata": {},
       "output_type": "pyout",
       "png": "[encoded data removed]",
       "prompt_number": 150,
       "text": [
        "                      \u239b                                                       \n",
        "                      \u239c                                     \u239b                 \n",
        "                      \u239c                                     \u239c                 \n",
        "                      \u239c                                     \u239c       234.7024\u22c5Q\n",
        "                      \u239c                                     \u239c                 \n",
        "                      \u239c                        2            \u239c   2             \n",
        "                      \u239cN\u2090\u22c5N_mm\u22c5N_{f,used}\u22c5Q_GCF \u22c5(5\u22c5N\u2090 - 5)\u22c5\u239cN_k  + \u2500\u2500\u2500\u2500\u2500\u2500\u2500\u2500\u2500\u2500\n",
        "                      \u239c                                     \u239c                 \n",
        "                      \u239c                                     \u239d                 \n",
        "                      \u239c                                                       \n",
        "2\u22c5N_beam\u22c5N_major\u22c5N_pp\u22c5\u239c\u2500\u2500\u2500\u2500\u2500\u2500\u2500\u2500\u2500\u2500\u2500\u2500\u2500\u2500\u2500\u2500\u2500\u2500\u2500\u2500\u2500\u2500\u2500\u2500\u2500\u2500\u2500\u2500\u2500\u2500\u2500\u2500\u2500\u2500\u2500\u2500\u2500\u2500\u2500\u2500\u2500\u2500\u2500\u2500\u2500\u2500\u2500\u2500\u2500\u2500\u2500\u2500\u2500\u2500\u2500\n",
        "                      \u239c                                                       \n",
        "                      \u239d                                                       \n",
        "\n",
        "                                                            \u239b               __\n",
        "               \u239b                            2        2\u239e\u239e    \u239c              \u2571  \n",
        "    2        2 \u239c    0.5        14.6689\u22c5Q_FoV \u22c5\\lambda \u239f\u239f    \u239c             \u2571   \n",
        "_FoV \u22c5\\lambda \u22c5\u239c\u2500\u2500\u2500\u2500\u2500\u2500\u2500\u2500\u2500\u2500\u2500\u2500 + \u2500\u2500\u2500\u2500\u2500\u2500\u2500\u2500\u2500\u2500\u2500\u2500\u2500\u2500\u2500\u2500\u2500\u2500\u2500\u2500\u2500\u2500\u2500\u239f\u239f    \u239c            \u2571    \n",
        "               \u239c\u03c0\u22c5\\epsilon_w            2    2        \u239f\u239f    \u239c           \u2571     \n",
        "               \u239d                       \u03c0 \u22c5D_s         \u23a0\u239f    \u239c          \u2571      \n",
        "\u2500\u2500\u2500\u2500\u2500\u2500\u2500\u2500\u2500\u2500\u2500\u2500\u2500\u2500\u2500\u2500\u2500\u2500\u2500\u2500\u2500\u2500\u2500\u2500\u2500\u2500\u2500\u2500\u2500\u2500\u2500\u2500\u2500\u2500\u2500\u2500\u2500\u2500\u2500\u2500\u2500\u2500\u2500\u2500\u2500\u2500\u2500\u2500\u2500\u2500\u2500\u2500\u2500\u2500\u2500\u239f\u22c5   \u239cQ_GCF\u22c5   \u2571      N\n",
        "                    2    2                             \u239f    \u239c        \u2571        \n",
        "                   \u03c0 \u22c5D_s                              \u23a0    \u239d      \u2572\u2571         \n",
        "                                                         log                  \n",
        "\u2500\u2500\u2500\u2500\u2500\u2500\u2500\u2500\u2500\u2500\u2500\u2500\u2500\u2500\u2500\u2500\u2500\u2500\u2500\u2500\u2500\u2500\u2500\u2500\u2500\u2500\u2500\u2500\u2500\u2500\u2500\u2500\u2500\u2500\u2500\u2500\u2500\u2500\u2500\u2500\u2500\u2500\u2500\u2500\u2500\u2500\u2500\u2500\u2500\u2500\u2500\u2500\u2500\u2500\u2500\u2500\u2500\u2500\u2500\u2500\u2500\u2500\u2500\u2500\u2500\u2500\u2500\u2500\u2500\u2500\u2500\u2500\u2500\u2500\u2500\u2500\u2500\u2500\n",
        "                                       Q_fcv\u22c5T_ion\u22c5log(2)                     \n",
        "                                                                              \n",
        "\n",
        "________________________________________________________________________\u239e     \n",
        "                               \u239b                            2        2\u239e \u239f     \n",
        "                    2        2 \u239c    0.5        14.6689\u22c5Q_FoV \u22c5\\lambda \u239f \u239f     \n",
        "      234.7024\u22c5Q_FoV \u22c5\\lambda \u22c5\u239c\u2500\u2500\u2500\u2500\u2500\u2500\u2500\u2500\u2500\u2500\u2500\u2500 + \u2500\u2500\u2500\u2500\u2500\u2500\u2500\u2500\u2500\u2500\u2500\u2500\u2500\u2500\u2500\u2500\u2500\u2500\u2500\u2500\u2500\u2500\u2500\u239f \u239f     \n",
        "                               \u239c\u03c0\u22c5\\epsilon_w            2    2        \u239f \u239f     \n",
        "  2                            \u239d                       \u03c0 \u22c5D_s         \u23a0 \u239f     \n",
        "_k  + \u2500\u2500\u2500\u2500\u2500\u2500\u2500\u2500\u2500\u2500\u2500\u2500\u2500\u2500\u2500\u2500\u2500\u2500\u2500\u2500\u2500\u2500\u2500\u2500\u2500\u2500\u2500\u2500\u2500\u2500\u2500\u2500\u2500\u2500\u2500\u2500\u2500\u2500\u2500\u2500\u2500\u2500\u2500\u2500\u2500\u2500\u2500\u2500\u2500\u2500\u2500\u2500\u2500\u2500\u2500\u2500\u2500\u2500\u2500\u2500\u2500\u2500\u2500\u2500\u2500 \u239f     \n",
        "                                    2    2                              \u239f   4\u22c5\n",
        "                                   \u03c0 \u22c5D_s                               \u23a0     \n",
        "                                                                              \n",
        "\u2500\u2500\u2500\u2500\u2500\u2500\u2500\u2500\u2500\u2500\u2500\u2500\u2500\u2500\u2500\u2500\u2500\u2500\u2500\u2500\u2500\u2500\u2500\u2500\u2500\u2500\u2500\u2500\u2500\u2500\u2500\u2500\u2500\u2500\u2500\u2500\u2500\u2500\u2500\u2500\u2500\u2500\u2500\u2500\u2500\u2500\u2500\u2500\u2500\u2500\u2500\u2500\u2500\u2500\u2500\u2500\u2500\u2500\u2500\u2500\u2500\u2500\u2500\u2500\u2500\u2500\u2500\u2500\u2500\u2500\u2500\u2500\u2500 + \u2500\u2500\n",
        "                                                                              \n",
        "                                                                              \n",
        "\n",
        "                                                                              \n",
        "                                                                              \n",
        "                 \u239b                                \u239b                           \n",
        "                 \u239c                     2        2 \u239c    0.5        14.6689\u22c5Q_Fo\n",
        "                 \u239c       234.7024\u22c5Q_FoV \u22c5\\lambda \u22c5\u239c\u2500\u2500\u2500\u2500\u2500\u2500\u2500\u2500\u2500\u2500\u2500\u2500 + \u2500\u2500\u2500\u2500\u2500\u2500\u2500\u2500\u2500\u2500\u2500\u2500\n",
        "                 \u239c                                \u239c\u03c0\u22c5\\epsilon_w            2  \n",
        "                 \u239c   2                            \u239d                       \u03c0 \u22c5D\n",
        "N\u2090\u22c5N_mm\u22c5(N\u2090 - 1)\u22c5\u239cN_k  + \u2500\u2500\u2500\u2500\u2500\u2500\u2500\u2500\u2500\u2500\u2500\u2500\u2500\u2500\u2500\u2500\u2500\u2500\u2500\u2500\u2500\u2500\u2500\u2500\u2500\u2500\u2500\u2500\u2500\u2500\u2500\u2500\u2500\u2500\u2500\u2500\u2500\u2500\u2500\u2500\u2500\u2500\u2500\u2500\u2500\u2500\u2500\u2500\u2500\u2500\u2500\u2500\u2500\n",
        "                 \u239c                                     2    2                 \n",
        "                 \u239d                                    \u03c0 \u22c5D_s                  \n",
        "\u2500\u2500\u2500\u2500\u2500\u2500\u2500\u2500\u2500\u2500\u2500\u2500\u2500\u2500\u2500\u2500\u2500\u2500\u2500\u2500\u2500\u2500\u2500\u2500\u2500\u2500\u2500\u2500\u2500\u2500\u2500\u2500\u2500\u2500\u2500\u2500\u2500\u2500\u2500\u2500\u2500\u2500\u2500\u2500\u2500\u2500\u2500\u2500\u2500\u2500\u2500\u2500\u2500\u2500\u2500\u2500\u2500\u2500\u2500\u2500\u2500\u2500\u2500\u2500\u2500\u2500\u2500\u2500\u2500\u2500\u2500\u2500\u2500\u2500\u2500\u2500\u2500\u2500\n",
        "                                                                       T_dump \n",
        "                                                                              \n",
        "\n",
        "                                                                              \n",
        "                                                                              \n",
        " 2        2\u239e\u239e                                                                 \n",
        "V \u22c5\\lambda \u239f\u239f                                                                 \n",
        "\u2500\u2500\u2500\u2500\u2500\u2500\u2500\u2500\u2500\u2500\u2500\u239f\u239f                                                                 \n",
        "  2        \u239f\u239f                                                                 \n",
        "_s         \u23a0\u239f                                                                 \n",
        "\u2500\u2500\u2500\u2500\u2500\u2500\u2500\u2500\u2500\u2500\u2500\u2500\u239f\u22c5(Blim_mid\u22c5Fb_short + Fb_short\u22c5N_{f,out} + 0.1\u22c5N_{f,used})       \n",
        "            \u239f                                                                 \n",
        "            \u23a0                                                                 \n",
        "\u2500\u2500\u2500\u2500\u2500\u2500\u2500\u2500\u2500\u2500\u2500\u2500\u2500\u2500\u2500\u2500\u2500\u2500\u2500\u2500\u2500\u2500\u2500\u2500\u2500\u2500\u2500\u2500\u2500\u2500\u2500\u2500\u2500\u2500\u2500\u2500\u2500\u2500\u2500\u2500\u2500\u2500\u2500\u2500\u2500\u2500\u2500\u2500\u2500\u2500\u2500\u2500\u2500\u2500\u2500\u2500\u2500\u2500\u2500\u2500\u2500\u2500\u2500\u2500\u2500\u2500\u2500\u2500\u2500\u2500\u2500 + N_{f\n",
        "                                                                              \n",
        "                                                                              \n",
        "\n",
        "                                                                              \n",
        "                                                                              \n",
        "      \u239b                                                                       \n",
        "      \u239c                                                                       \n",
        "      \u239c                                                                       \n",
        "      \u239c                                                                       \n",
        "      \u239c                                                                       \n",
        "      \u239c                      2      2      2    \u239b10.2133333333333\u22c5B_max\u22c5Q_FoV\u22c5\n",
        "      \u239c1043.12177777778\u22c5B_max \u22c5Q_FoV \u22c5Q_pix \u22c5log\u239c\u2500\u2500\u2500\u2500\u2500\u2500\u2500\u2500\u2500\u2500\u2500\u2500\u2500\u2500\u2500\u2500\u2500\u2500\u2500\u2500\u2500\u2500\u2500\u2500\u2500\u2500\u2500\u2500\u2500\n",
        "      \u239c                                         \u239d              \u03c0\u22c5D_s          \n",
        ",out}\u22c5\u239c\u2500\u2500\u2500\u2500\u2500\u2500\u2500\u2500\u2500\u2500\u2500\u2500\u2500\u2500\u2500\u2500\u2500\u2500\u2500\u2500\u2500\u2500\u2500\u2500\u2500\u2500\u2500\u2500\u2500\u2500\u2500\u2500\u2500\u2500\u2500\u2500\u2500\u2500\u2500\u2500\u2500\u2500\u2500\u2500\u2500\u2500\u2500\u2500\u2500\u2500\u2500\u2500\u2500\u2500\u2500\u2500\u2500\u2500\u2500\u2500\u2500\u2500\u2500\u2500\u2500\u2500\u2500\u2500\u2500\u2500\u2500\n",
        "      \u239c                             2    2                                    \n",
        "      \u239d                            \u03c0 \u22c5D_s \u22c5T_snap\u22c5log(2)                      \n",
        "\n",
        "                                                                              \n",
        "                                                                              \n",
        "                            \u239b                                \u239b                \n",
        "                            \u239c                     2        2 \u239c    0.5        1\n",
        "                            \u239c       234.7024\u22c5Q_FoV \u22c5\\lambda \u22c5\u239c\u2500\u2500\u2500\u2500\u2500\u2500\u2500\u2500\u2500\u2500\u2500\u2500 + \u2500\n",
        "                            \u239c                                \u239c\u03c0\u22c5\\epsilon_w    \n",
        "                            \u239c   2                            \u239d                \n",
        "Q_pix\u239e   4\u22c5N\u2090\u22c5N_mm\u22c5(N\u2090 - 1)\u22c5\u239cN_k  + \u2500\u2500\u2500\u2500\u2500\u2500\u2500\u2500\u2500\u2500\u2500\u2500\u2500\u2500\u2500\u2500\u2500\u2500\u2500\u2500\u2500\u2500\u2500\u2500\u2500\u2500\u2500\u2500\u2500\u2500\u2500\u2500\u2500\u2500\u2500\u2500\u2500\u2500\u2500\u2500\u2500\u2500\n",
        "\u2500\u2500\u2500\u2500\u2500\u239f                      \u239c                                     2    2      \n",
        "     \u23a0                      \u239d                                    \u03c0 \u22c5D_s       \n",
        "\u2500\u2500\u2500\u2500\u2500\u2500 + \u2500\u2500\u2500\u2500\u2500\u2500\u2500\u2500\u2500\u2500\u2500\u2500\u2500\u2500\u2500\u2500\u2500\u2500\u2500\u2500\u2500\u2500\u2500\u2500\u2500\u2500\u2500\u2500\u2500\u2500\u2500\u2500\u2500\u2500\u2500\u2500\u2500\u2500\u2500\u2500\u2500\u2500\u2500\u2500\u2500\u2500\u2500\u2500\u2500\u2500\u2500\u2500\u2500\u2500\u2500\u2500\u2500\u2500\u2500\u2500\u2500\u2500\u2500\u2500\u2500\u2500\u2500\u2500\u2500\n",
        "                                                                              \n",
        "                                                                              \n",
        "\n",
        "                                                                              \n",
        "                                                                              \n",
        "            2        2\u239e\u239e                                                      \n",
        "4.6689\u22c5Q_FoV \u22c5\\lambda \u239f\u239f                                                      \n",
        "\u2500\u2500\u2500\u2500\u2500\u2500\u2500\u2500\u2500\u2500\u2500\u2500\u2500\u2500\u2500\u2500\u2500\u2500\u2500\u2500\u2500\u2500\u239f\u239f                                                      \n",
        "        2    2        \u239f\u239f                                                      \n",
        "       \u03c0 \u22c5D_s         \u23a0\u239f                                                      \n",
        "\u2500\u2500\u2500\u2500\u2500\u2500\u2500\u2500\u2500\u2500\u2500\u2500\u2500\u2500\u2500\u2500\u2500\u2500\u2500\u2500\u2500\u2500\u2500\u239f\u22c5(Blim_mid\u22c5Fb_short + Fb_short\u22c5N_{f,out} + 0.1\u22c5N_{f,us\n",
        "                       \u239f                                                      \n",
        "                       \u23a0                                                      \n",
        "\u2500\u2500\u2500\u2500\u2500\u2500\u2500\u2500\u2500\u2500\u2500\u2500\u2500\u2500\u2500\u2500\u2500\u2500\u2500\u2500\u2500\u2500\u2500\u2500\u2500\u2500\u2500\u2500\u2500\u2500\u2500\u2500\u2500\u2500\u2500\u2500\u2500\u2500\u2500\u2500\u2500\u2500\u2500\u2500\u2500\u2500\u2500\u2500\u2500\u2500\u2500\u2500\u2500\u2500\u2500\u2500\u2500\u2500\u2500\u2500\u2500\u2500\u2500\u2500\u2500\u2500\u2500\u2500\u2500\u2500\u2500\u2500\u2500\u2500\u2500\u2500\u2500\u2500\n",
        "    T_dump                                                                    \n",
        "                                                                              \n",
        "\n",
        "     \u239e\n",
        "     \u239f\n",
        "    \u239e\u239f\n",
        "    \u239f\u239f\n",
        "    \u239f\u239f\n",
        "    \u239f\u239f\n",
        "    \u239f\u239f\n",
        "ed})\u239f\u239f\n",
        "    \u239f\u239f\n",
        "    \u239f\u239f\n",
        "\u2500\u2500\u2500\u2500\u239f\u239f\n",
        "    \u239f\u239f\n",
        "    \u23a0\u23a0"
       ]
      }
     ],
     "prompt_number": 150
    },
    {
     "cell_type": "code",
     "collapsed": false,
     "input": [
      "Rflop_eval = calc_tel('SKA1Low','Continuum', Npix)\n",
      "Rflop_eval"
     ],
     "language": "python",
     "metadata": {},
     "outputs": [
      {
       "metadata": {},
       "output_type": "pyout",
       "prompt_number": 158,
       "text": [
        "{'SKA1_Low-Cont': 131314.285714286/pi}"
       ]
      }
     ],
     "prompt_number": 158
    },
    {
     "cell_type": "code",
     "collapsed": false,
     "input": [
      "float(Rflop_eval['SKA1_Low-Cont'])"
     ],
     "language": "python",
     "metadata": {},
     "outputs": [
      {
       "latex": [
        "$$41798.63534$$"
       ],
       "metadata": {},
       "output_type": "pyout",
       "png": "[encoded data removed]",
       "prompt_number": 157,
       "text": [
        "41798.63534"
       ]
      }
     ],
     "prompt_number": 157
    },
    {
     "cell_type": "code",
     "collapsed": false,
     "input": [
      "Rflop_eval = calc_tel('SKA1Low','Continuum', Rflop)"
     ],
     "language": "python",
     "metadata": {},
     "outputs": [
      {
       "ename": "SympifyError",
       "evalue": "SympifyError: None",
       "output_type": "pyerr",
       "traceback": [
        "\u001b[1;31m---------------------------------------------------------------------------\u001b[0m\n\u001b[1;31mSympifyError\u001b[0m                              Traceback (most recent call last)",
        "\u001b[1;32m<ipython-input-151-97de1280039e>\u001b[0m in \u001b[0;36m<module>\u001b[1;34m()\u001b[0m\n\u001b[1;32m----> 1\u001b[1;33m \u001b[0mRflop_eval\u001b[0m \u001b[1;33m=\u001b[0m \u001b[0mcalc_tel\u001b[0m\u001b[1;33m(\u001b[0m\u001b[1;34m'SKA1Low'\u001b[0m\u001b[1;33m,\u001b[0m\u001b[1;34m'Continuum'\u001b[0m\u001b[1;33m,\u001b[0m \u001b[0mRflop\u001b[0m\u001b[1;33m)\u001b[0m\u001b[1;33m\u001b[0m\u001b[0m\n\u001b[0m",
        "\u001b[1;32m<ipython-input-140-36398f23951f>\u001b[0m in \u001b[0;36mcalc_tel\u001b[1;34m(telescope, mode, expr)\u001b[0m\n\u001b[0;32m    107\u001b[0m     \u001b[1;31m# Shortcut for computing an expression for one mode of one telescope\u001b[0m\u001b[1;33m\u001b[0m\u001b[1;33m\u001b[0m\u001b[0m\n\u001b[0;32m    108\u001b[0m     return dict(\n\u001b[1;32m--> 109\u001b[1;33m         \u001b[1;33m[\u001b[0m\u001b[1;33m(\u001b[0m\u001b[1;34m'SKA1_%s-%s'\u001b[0m \u001b[1;33m%\u001b[0m \u001b[1;33m(\u001b[0m\u001b[0mtelescope_labels\u001b[0m\u001b[1;33m[\u001b[0m\u001b[0mtelescope\u001b[0m\u001b[1;33m]\u001b[0m\u001b[1;33m,\u001b[0m \u001b[0mmode_labels\u001b[0m\u001b[1;33m[\u001b[0m\u001b[0mmode\u001b[0m\u001b[1;33m]\u001b[0m\u001b[1;33m)\u001b[0m\u001b[1;33m,\u001b[0m \u001b[0mexpr\u001b[0m\u001b[1;33m.\u001b[0m\u001b[0msubs\u001b[0m\u001b[1;33m(\u001b[0m\u001b[0mtelescope_params\u001b[0m\u001b[1;33m)\u001b[0m\u001b[1;33m.\u001b[0m\u001b[0msubs\u001b[0m\u001b[1;33m(\u001b[0m\u001b[0mtelescope_params\u001b[0m\u001b[1;33m)\u001b[0m\u001b[1;33m)\u001b[0m\u001b[1;33m]\u001b[0m\u001b[1;33m\u001b[0m\u001b[0m\n\u001b[0m\u001b[0;32m    110\u001b[0m     )\n\u001b[0;32m    111\u001b[0m \u001b[1;33m\u001b[0m\u001b[0m\n",
        "\u001b[1;32mC:\\Anaconda\\lib\\site-packages\\sympy\\core\\basic.pyc\u001b[0m in \u001b[0;36msubs\u001b[1;34m(self, *args, **kwargs)\u001b[0m\n\u001b[0;32m    890\u001b[0m             \u001b[0mrv\u001b[0m \u001b[1;33m=\u001b[0m \u001b[0mself\u001b[0m\u001b[1;33m\u001b[0m\u001b[0m\n\u001b[0;32m    891\u001b[0m             \u001b[1;32mfor\u001b[0m \u001b[0mold\u001b[0m\u001b[1;33m,\u001b[0m \u001b[0mnew\u001b[0m \u001b[1;32min\u001b[0m \u001b[0msequence\u001b[0m\u001b[1;33m:\u001b[0m\u001b[1;33m\u001b[0m\u001b[0m\n\u001b[1;32m--> 892\u001b[1;33m                 \u001b[0mrv\u001b[0m \u001b[1;33m=\u001b[0m \u001b[0mrv\u001b[0m\u001b[1;33m.\u001b[0m\u001b[0m_subs\u001b[0m\u001b[1;33m(\u001b[0m\u001b[0mold\u001b[0m\u001b[1;33m,\u001b[0m \u001b[0mnew\u001b[0m\u001b[1;33m,\u001b[0m \u001b[1;33m**\u001b[0m\u001b[0mkwargs\u001b[0m\u001b[1;33m)\u001b[0m\u001b[1;33m\u001b[0m\u001b[0m\n\u001b[0m\u001b[0;32m    893\u001b[0m                 \u001b[1;32mif\u001b[0m \u001b[1;32mnot\u001b[0m \u001b[0misinstance\u001b[0m\u001b[1;33m(\u001b[0m\u001b[0mrv\u001b[0m\u001b[1;33m,\u001b[0m \u001b[0mBasic\u001b[0m\u001b[1;33m)\u001b[0m\u001b[1;33m:\u001b[0m\u001b[1;33m\u001b[0m\u001b[0m\n\u001b[0;32m    894\u001b[0m                     \u001b[1;32mbreak\u001b[0m\u001b[1;33m\u001b[0m\u001b[0m\n",
        "\u001b[1;32mC:\\Anaconda\\lib\\site-packages\\sympy\\core\\cache.pyc\u001b[0m in \u001b[0;36mwrapper\u001b[1;34m(*args, **kwargs)\u001b[0m\n\u001b[0;32m     89\u001b[0m             \u001b[1;32mdef\u001b[0m \u001b[0mwrapper\u001b[0m\u001b[1;33m(\u001b[0m\u001b[1;33m*\u001b[0m\u001b[0margs\u001b[0m\u001b[1;33m,\u001b[0m \u001b[1;33m**\u001b[0m\u001b[0mkwargs\u001b[0m\u001b[1;33m)\u001b[0m\u001b[1;33m:\u001b[0m\u001b[1;33m\u001b[0m\u001b[0m\n\u001b[0;32m     90\u001b[0m                 \u001b[1;32mtry\u001b[0m\u001b[1;33m:\u001b[0m\u001b[1;33m\u001b[0m\u001b[0m\n\u001b[1;32m---> 91\u001b[1;33m                     \u001b[0mretval\u001b[0m \u001b[1;33m=\u001b[0m \u001b[0mcfunc\u001b[0m\u001b[1;33m(\u001b[0m\u001b[1;33m*\u001b[0m\u001b[0margs\u001b[0m\u001b[1;33m,\u001b[0m \u001b[1;33m**\u001b[0m\u001b[0mkwargs\u001b[0m\u001b[1;33m)\u001b[0m\u001b[1;33m\u001b[0m\u001b[0m\n\u001b[0m\u001b[0;32m     92\u001b[0m                 \u001b[1;32mexcept\u001b[0m \u001b[0mTypeError\u001b[0m\u001b[1;33m:\u001b[0m\u001b[1;33m\u001b[0m\u001b[0m\n\u001b[0;32m     93\u001b[0m                     \u001b[0mretval\u001b[0m \u001b[1;33m=\u001b[0m \u001b[0mfunc\u001b[0m\u001b[1;33m(\u001b[0m\u001b[1;33m*\u001b[0m\u001b[0margs\u001b[0m\u001b[1;33m,\u001b[0m \u001b[1;33m**\u001b[0m\u001b[0mkwargs\u001b[0m\u001b[1;33m)\u001b[0m\u001b[1;33m\u001b[0m\u001b[0m\n",
        "\u001b[1;32mC:\\Anaconda\\lib\\site-packages\\sympy\\core\\compatibility.pyc\u001b[0m in \u001b[0;36mwrapper\u001b[1;34m(*args, **kwds)\u001b[0m\n\u001b[0;32m    870\u001b[0m                         \u001b[0mstats\u001b[0m\u001b[1;33m[\u001b[0m\u001b[0mHITS\u001b[0m\u001b[1;33m]\u001b[0m \u001b[1;33m+=\u001b[0m \u001b[1;36m1\u001b[0m\u001b[1;33m\u001b[0m\u001b[0m\n\u001b[0;32m    871\u001b[0m                         \u001b[1;32mreturn\u001b[0m \u001b[0mresult\u001b[0m\u001b[1;33m\u001b[0m\u001b[0m\n\u001b[1;32m--> 872\u001b[1;33m                 \u001b[0mresult\u001b[0m \u001b[1;33m=\u001b[0m \u001b[0muser_function\u001b[0m\u001b[1;33m(\u001b[0m\u001b[1;33m*\u001b[0m\u001b[0margs\u001b[0m\u001b[1;33m,\u001b[0m \u001b[1;33m**\u001b[0m\u001b[0mkwds\u001b[0m\u001b[1;33m)\u001b[0m\u001b[1;33m\u001b[0m\u001b[0m\n\u001b[0m\u001b[0;32m    873\u001b[0m                 \u001b[1;32mwith\u001b[0m \u001b[0mlock\u001b[0m\u001b[1;33m:\u001b[0m\u001b[1;33m\u001b[0m\u001b[0m\n\u001b[0;32m    874\u001b[0m                     \u001b[0mroot\u001b[0m\u001b[1;33m,\u001b[0m \u001b[1;33m=\u001b[0m \u001b[0mnonlocal_root\u001b[0m\u001b[1;33m\u001b[0m\u001b[0m\n",
        "\u001b[1;32mC:\\Anaconda\\lib\\site-packages\\sympy\\core\\basic.pyc\u001b[0m in \u001b[0;36m_subs\u001b[1;34m(self, old, new, **hints)\u001b[0m\n\u001b[0;32m   1004\u001b[0m         \u001b[0mrv\u001b[0m \u001b[1;33m=\u001b[0m \u001b[0mself\u001b[0m\u001b[1;33m.\u001b[0m\u001b[0m_eval_subs\u001b[0m\u001b[1;33m(\u001b[0m\u001b[0mold\u001b[0m\u001b[1;33m,\u001b[0m \u001b[0mnew\u001b[0m\u001b[1;33m)\u001b[0m\u001b[1;33m\u001b[0m\u001b[0m\n\u001b[0;32m   1005\u001b[0m         \u001b[1;32mif\u001b[0m \u001b[0mrv\u001b[0m \u001b[1;32mis\u001b[0m \u001b[0mNone\u001b[0m\u001b[1;33m:\u001b[0m\u001b[1;33m\u001b[0m\u001b[0m\n\u001b[1;32m-> 1006\u001b[1;33m             \u001b[0mrv\u001b[0m \u001b[1;33m=\u001b[0m \u001b[0mfallback\u001b[0m\u001b[1;33m(\u001b[0m\u001b[0mself\u001b[0m\u001b[1;33m,\u001b[0m \u001b[0mold\u001b[0m\u001b[1;33m,\u001b[0m \u001b[0mnew\u001b[0m\u001b[1;33m)\u001b[0m\u001b[1;33m\u001b[0m\u001b[0m\n\u001b[0m\u001b[0;32m   1007\u001b[0m         \u001b[1;32mreturn\u001b[0m \u001b[0mrv\u001b[0m\u001b[1;33m\u001b[0m\u001b[0m\n\u001b[0;32m   1008\u001b[0m \u001b[1;33m\u001b[0m\u001b[0m\n",
        "\u001b[1;32mC:\\Anaconda\\lib\\site-packages\\sympy\\core\\basic.pyc\u001b[0m in \u001b[0;36mfallback\u001b[1;34m(self, old, new)\u001b[0m\n\u001b[0;32m    976\u001b[0m                 \u001b[1;32mif\u001b[0m \u001b[1;32mnot\u001b[0m \u001b[0mhasattr\u001b[0m\u001b[1;33m(\u001b[0m\u001b[0marg\u001b[0m\u001b[1;33m,\u001b[0m \u001b[1;34m'_eval_subs'\u001b[0m\u001b[1;33m)\u001b[0m\u001b[1;33m:\u001b[0m\u001b[1;33m\u001b[0m\u001b[0m\n\u001b[0;32m    977\u001b[0m                     \u001b[1;32mcontinue\u001b[0m\u001b[1;33m\u001b[0m\u001b[0m\n\u001b[1;32m--> 978\u001b[1;33m                 \u001b[0marg\u001b[0m \u001b[1;33m=\u001b[0m \u001b[0marg\u001b[0m\u001b[1;33m.\u001b[0m\u001b[0m_subs\u001b[0m\u001b[1;33m(\u001b[0m\u001b[0mold\u001b[0m\u001b[1;33m,\u001b[0m \u001b[0mnew\u001b[0m\u001b[1;33m,\u001b[0m \u001b[1;33m**\u001b[0m\u001b[0mhints\u001b[0m\u001b[1;33m)\u001b[0m\u001b[1;33m\u001b[0m\u001b[0m\n\u001b[0m\u001b[0;32m    979\u001b[0m                 \u001b[1;32mif\u001b[0m \u001b[1;32mnot\u001b[0m \u001b[0m_aresame\u001b[0m\u001b[1;33m(\u001b[0m\u001b[0marg\u001b[0m\u001b[1;33m,\u001b[0m \u001b[0margs\u001b[0m\u001b[1;33m[\u001b[0m\u001b[0mi\u001b[0m\u001b[1;33m]\u001b[0m\u001b[1;33m)\u001b[0m\u001b[1;33m:\u001b[0m\u001b[1;33m\u001b[0m\u001b[0m\n\u001b[0;32m    980\u001b[0m                     \u001b[0mhit\u001b[0m \u001b[1;33m=\u001b[0m \u001b[0mTrue\u001b[0m\u001b[1;33m\u001b[0m\u001b[0m\n",
        "\u001b[1;32mC:\\Anaconda\\lib\\site-packages\\sympy\\core\\cache.pyc\u001b[0m in \u001b[0;36mwrapper\u001b[1;34m(*args, **kwargs)\u001b[0m\n\u001b[0;32m     89\u001b[0m             \u001b[1;32mdef\u001b[0m \u001b[0mwrapper\u001b[0m\u001b[1;33m(\u001b[0m\u001b[1;33m*\u001b[0m\u001b[0margs\u001b[0m\u001b[1;33m,\u001b[0m \u001b[1;33m**\u001b[0m\u001b[0mkwargs\u001b[0m\u001b[1;33m)\u001b[0m\u001b[1;33m:\u001b[0m\u001b[1;33m\u001b[0m\u001b[0m\n\u001b[0;32m     90\u001b[0m                 \u001b[1;32mtry\u001b[0m\u001b[1;33m:\u001b[0m\u001b[1;33m\u001b[0m\u001b[0m\n\u001b[1;32m---> 91\u001b[1;33m                     \u001b[0mretval\u001b[0m \u001b[1;33m=\u001b[0m \u001b[0mcfunc\u001b[0m\u001b[1;33m(\u001b[0m\u001b[1;33m*\u001b[0m\u001b[0margs\u001b[0m\u001b[1;33m,\u001b[0m \u001b[1;33m**\u001b[0m\u001b[0mkwargs\u001b[0m\u001b[1;33m)\u001b[0m\u001b[1;33m\u001b[0m\u001b[0m\n\u001b[0m\u001b[0;32m     92\u001b[0m                 \u001b[1;32mexcept\u001b[0m \u001b[0mTypeError\u001b[0m\u001b[1;33m:\u001b[0m\u001b[1;33m\u001b[0m\u001b[0m\n\u001b[0;32m     93\u001b[0m                     \u001b[0mretval\u001b[0m \u001b[1;33m=\u001b[0m \u001b[0mfunc\u001b[0m\u001b[1;33m(\u001b[0m\u001b[1;33m*\u001b[0m\u001b[0margs\u001b[0m\u001b[1;33m,\u001b[0m \u001b[1;33m**\u001b[0m\u001b[0mkwargs\u001b[0m\u001b[1;33m)\u001b[0m\u001b[1;33m\u001b[0m\u001b[0m\n",
        "\u001b[1;32mC:\\Anaconda\\lib\\site-packages\\sympy\\core\\compatibility.pyc\u001b[0m in \u001b[0;36mwrapper\u001b[1;34m(*args, **kwds)\u001b[0m\n\u001b[0;32m    870\u001b[0m                         \u001b[0mstats\u001b[0m\u001b[1;33m[\u001b[0m\u001b[0mHITS\u001b[0m\u001b[1;33m]\u001b[0m \u001b[1;33m+=\u001b[0m \u001b[1;36m1\u001b[0m\u001b[1;33m\u001b[0m\u001b[0m\n\u001b[0;32m    871\u001b[0m                         \u001b[1;32mreturn\u001b[0m \u001b[0mresult\u001b[0m\u001b[1;33m\u001b[0m\u001b[0m\n\u001b[1;32m--> 872\u001b[1;33m                 \u001b[0mresult\u001b[0m \u001b[1;33m=\u001b[0m \u001b[0muser_function\u001b[0m\u001b[1;33m(\u001b[0m\u001b[1;33m*\u001b[0m\u001b[0margs\u001b[0m\u001b[1;33m,\u001b[0m \u001b[1;33m**\u001b[0m\u001b[0mkwds\u001b[0m\u001b[1;33m)\u001b[0m\u001b[1;33m\u001b[0m\u001b[0m\n\u001b[0m\u001b[0;32m    873\u001b[0m                 \u001b[1;32mwith\u001b[0m \u001b[0mlock\u001b[0m\u001b[1;33m:\u001b[0m\u001b[1;33m\u001b[0m\u001b[0m\n\u001b[0;32m    874\u001b[0m                     \u001b[0mroot\u001b[0m\u001b[1;33m,\u001b[0m \u001b[1;33m=\u001b[0m \u001b[0mnonlocal_root\u001b[0m\u001b[1;33m\u001b[0m\u001b[0m\n",
        "\u001b[1;32mC:\\Anaconda\\lib\\site-packages\\sympy\\core\\basic.pyc\u001b[0m in \u001b[0;36m_subs\u001b[1;34m(self, old, new, **hints)\u001b[0m\n\u001b[0;32m   1004\u001b[0m         \u001b[0mrv\u001b[0m \u001b[1;33m=\u001b[0m \u001b[0mself\u001b[0m\u001b[1;33m.\u001b[0m\u001b[0m_eval_subs\u001b[0m\u001b[1;33m(\u001b[0m\u001b[0mold\u001b[0m\u001b[1;33m,\u001b[0m \u001b[0mnew\u001b[0m\u001b[1;33m)\u001b[0m\u001b[1;33m\u001b[0m\u001b[0m\n\u001b[0;32m   1005\u001b[0m         \u001b[1;32mif\u001b[0m \u001b[0mrv\u001b[0m \u001b[1;32mis\u001b[0m \u001b[0mNone\u001b[0m\u001b[1;33m:\u001b[0m\u001b[1;33m\u001b[0m\u001b[0m\n\u001b[1;32m-> 1006\u001b[1;33m             \u001b[0mrv\u001b[0m \u001b[1;33m=\u001b[0m \u001b[0mfallback\u001b[0m\u001b[1;33m(\u001b[0m\u001b[0mself\u001b[0m\u001b[1;33m,\u001b[0m \u001b[0mold\u001b[0m\u001b[1;33m,\u001b[0m \u001b[0mnew\u001b[0m\u001b[1;33m)\u001b[0m\u001b[1;33m\u001b[0m\u001b[0m\n\u001b[0m\u001b[0;32m   1007\u001b[0m         \u001b[1;32mreturn\u001b[0m \u001b[0mrv\u001b[0m\u001b[1;33m\u001b[0m\u001b[0m\n\u001b[0;32m   1008\u001b[0m \u001b[1;33m\u001b[0m\u001b[0m\n",
        "\u001b[1;32mC:\\Anaconda\\lib\\site-packages\\sympy\\core\\basic.pyc\u001b[0m in \u001b[0;36mfallback\u001b[1;34m(self, old, new)\u001b[0m\n\u001b[0;32m    976\u001b[0m                 \u001b[1;32mif\u001b[0m \u001b[1;32mnot\u001b[0m \u001b[0mhasattr\u001b[0m\u001b[1;33m(\u001b[0m\u001b[0marg\u001b[0m\u001b[1;33m,\u001b[0m \u001b[1;34m'_eval_subs'\u001b[0m\u001b[1;33m)\u001b[0m\u001b[1;33m:\u001b[0m\u001b[1;33m\u001b[0m\u001b[0m\n\u001b[0;32m    977\u001b[0m                     \u001b[1;32mcontinue\u001b[0m\u001b[1;33m\u001b[0m\u001b[0m\n\u001b[1;32m--> 978\u001b[1;33m                 \u001b[0marg\u001b[0m \u001b[1;33m=\u001b[0m \u001b[0marg\u001b[0m\u001b[1;33m.\u001b[0m\u001b[0m_subs\u001b[0m\u001b[1;33m(\u001b[0m\u001b[0mold\u001b[0m\u001b[1;33m,\u001b[0m \u001b[0mnew\u001b[0m\u001b[1;33m,\u001b[0m \u001b[1;33m**\u001b[0m\u001b[0mhints\u001b[0m\u001b[1;33m)\u001b[0m\u001b[1;33m\u001b[0m\u001b[0m\n\u001b[0m\u001b[0;32m    979\u001b[0m                 \u001b[1;32mif\u001b[0m \u001b[1;32mnot\u001b[0m \u001b[0m_aresame\u001b[0m\u001b[1;33m(\u001b[0m\u001b[0marg\u001b[0m\u001b[1;33m,\u001b[0m \u001b[0margs\u001b[0m\u001b[1;33m[\u001b[0m\u001b[0mi\u001b[0m\u001b[1;33m]\u001b[0m\u001b[1;33m)\u001b[0m\u001b[1;33m:\u001b[0m\u001b[1;33m\u001b[0m\u001b[0m\n\u001b[0;32m    980\u001b[0m                     \u001b[0mhit\u001b[0m \u001b[1;33m=\u001b[0m \u001b[0mTrue\u001b[0m\u001b[1;33m\u001b[0m\u001b[0m\n",
        "\u001b[1;32mC:\\Anaconda\\lib\\site-packages\\sympy\\core\\cache.pyc\u001b[0m in \u001b[0;36mwrapper\u001b[1;34m(*args, **kwargs)\u001b[0m\n\u001b[0;32m     89\u001b[0m             \u001b[1;32mdef\u001b[0m \u001b[0mwrapper\u001b[0m\u001b[1;33m(\u001b[0m\u001b[1;33m*\u001b[0m\u001b[0margs\u001b[0m\u001b[1;33m,\u001b[0m \u001b[1;33m**\u001b[0m\u001b[0mkwargs\u001b[0m\u001b[1;33m)\u001b[0m\u001b[1;33m:\u001b[0m\u001b[1;33m\u001b[0m\u001b[0m\n\u001b[0;32m     90\u001b[0m                 \u001b[1;32mtry\u001b[0m\u001b[1;33m:\u001b[0m\u001b[1;33m\u001b[0m\u001b[0m\n\u001b[1;32m---> 91\u001b[1;33m                     \u001b[0mretval\u001b[0m \u001b[1;33m=\u001b[0m \u001b[0mcfunc\u001b[0m\u001b[1;33m(\u001b[0m\u001b[1;33m*\u001b[0m\u001b[0margs\u001b[0m\u001b[1;33m,\u001b[0m \u001b[1;33m**\u001b[0m\u001b[0mkwargs\u001b[0m\u001b[1;33m)\u001b[0m\u001b[1;33m\u001b[0m\u001b[0m\n\u001b[0m\u001b[0;32m     92\u001b[0m                 \u001b[1;32mexcept\u001b[0m \u001b[0mTypeError\u001b[0m\u001b[1;33m:\u001b[0m\u001b[1;33m\u001b[0m\u001b[0m\n\u001b[0;32m     93\u001b[0m                     \u001b[0mretval\u001b[0m \u001b[1;33m=\u001b[0m \u001b[0mfunc\u001b[0m\u001b[1;33m(\u001b[0m\u001b[1;33m*\u001b[0m\u001b[0margs\u001b[0m\u001b[1;33m,\u001b[0m \u001b[1;33m**\u001b[0m\u001b[0mkwargs\u001b[0m\u001b[1;33m)\u001b[0m\u001b[1;33m\u001b[0m\u001b[0m\n",
        "\u001b[1;32mC:\\Anaconda\\lib\\site-packages\\sympy\\core\\compatibility.pyc\u001b[0m in \u001b[0;36mwrapper\u001b[1;34m(*args, **kwds)\u001b[0m\n\u001b[0;32m    870\u001b[0m                         \u001b[0mstats\u001b[0m\u001b[1;33m[\u001b[0m\u001b[0mHITS\u001b[0m\u001b[1;33m]\u001b[0m \u001b[1;33m+=\u001b[0m \u001b[1;36m1\u001b[0m\u001b[1;33m\u001b[0m\u001b[0m\n\u001b[0;32m    871\u001b[0m                         \u001b[1;32mreturn\u001b[0m \u001b[0mresult\u001b[0m\u001b[1;33m\u001b[0m\u001b[0m\n\u001b[1;32m--> 872\u001b[1;33m                 \u001b[0mresult\u001b[0m \u001b[1;33m=\u001b[0m \u001b[0muser_function\u001b[0m\u001b[1;33m(\u001b[0m\u001b[1;33m*\u001b[0m\u001b[0margs\u001b[0m\u001b[1;33m,\u001b[0m \u001b[1;33m**\u001b[0m\u001b[0mkwds\u001b[0m\u001b[1;33m)\u001b[0m\u001b[1;33m\u001b[0m\u001b[0m\n\u001b[0m\u001b[0;32m    873\u001b[0m                 \u001b[1;32mwith\u001b[0m \u001b[0mlock\u001b[0m\u001b[1;33m:\u001b[0m\u001b[1;33m\u001b[0m\u001b[0m\n\u001b[0;32m    874\u001b[0m                     \u001b[0mroot\u001b[0m\u001b[1;33m,\u001b[0m \u001b[1;33m=\u001b[0m \u001b[0mnonlocal_root\u001b[0m\u001b[1;33m\u001b[0m\u001b[0m\n",
        "\u001b[1;32mC:\\Anaconda\\lib\\site-packages\\sympy\\core\\basic.pyc\u001b[0m in \u001b[0;36m_subs\u001b[1;34m(self, old, new, **hints)\u001b[0m\n\u001b[0;32m   1004\u001b[0m         \u001b[0mrv\u001b[0m \u001b[1;33m=\u001b[0m \u001b[0mself\u001b[0m\u001b[1;33m.\u001b[0m\u001b[0m_eval_subs\u001b[0m\u001b[1;33m(\u001b[0m\u001b[0mold\u001b[0m\u001b[1;33m,\u001b[0m \u001b[0mnew\u001b[0m\u001b[1;33m)\u001b[0m\u001b[1;33m\u001b[0m\u001b[0m\n\u001b[0;32m   1005\u001b[0m         \u001b[1;32mif\u001b[0m \u001b[0mrv\u001b[0m \u001b[1;32mis\u001b[0m \u001b[0mNone\u001b[0m\u001b[1;33m:\u001b[0m\u001b[1;33m\u001b[0m\u001b[0m\n\u001b[1;32m-> 1006\u001b[1;33m             \u001b[0mrv\u001b[0m \u001b[1;33m=\u001b[0m \u001b[0mfallback\u001b[0m\u001b[1;33m(\u001b[0m\u001b[0mself\u001b[0m\u001b[1;33m,\u001b[0m \u001b[0mold\u001b[0m\u001b[1;33m,\u001b[0m \u001b[0mnew\u001b[0m\u001b[1;33m)\u001b[0m\u001b[1;33m\u001b[0m\u001b[0m\n\u001b[0m\u001b[0;32m   1007\u001b[0m         \u001b[1;32mreturn\u001b[0m \u001b[0mrv\u001b[0m\u001b[1;33m\u001b[0m\u001b[0m\n\u001b[0;32m   1008\u001b[0m \u001b[1;33m\u001b[0m\u001b[0m\n",
        "\u001b[1;32mC:\\Anaconda\\lib\\site-packages\\sympy\\core\\basic.pyc\u001b[0m in \u001b[0;36mfallback\u001b[1;34m(self, old, new)\u001b[0m\n\u001b[0;32m    976\u001b[0m                 \u001b[1;32mif\u001b[0m \u001b[1;32mnot\u001b[0m \u001b[0mhasattr\u001b[0m\u001b[1;33m(\u001b[0m\u001b[0marg\u001b[0m\u001b[1;33m,\u001b[0m \u001b[1;34m'_eval_subs'\u001b[0m\u001b[1;33m)\u001b[0m\u001b[1;33m:\u001b[0m\u001b[1;33m\u001b[0m\u001b[0m\n\u001b[0;32m    977\u001b[0m                     \u001b[1;32mcontinue\u001b[0m\u001b[1;33m\u001b[0m\u001b[0m\n\u001b[1;32m--> 978\u001b[1;33m                 \u001b[0marg\u001b[0m \u001b[1;33m=\u001b[0m \u001b[0marg\u001b[0m\u001b[1;33m.\u001b[0m\u001b[0m_subs\u001b[0m\u001b[1;33m(\u001b[0m\u001b[0mold\u001b[0m\u001b[1;33m,\u001b[0m \u001b[0mnew\u001b[0m\u001b[1;33m,\u001b[0m \u001b[1;33m**\u001b[0m\u001b[0mhints\u001b[0m\u001b[1;33m)\u001b[0m\u001b[1;33m\u001b[0m\u001b[0m\n\u001b[0m\u001b[0;32m    979\u001b[0m                 \u001b[1;32mif\u001b[0m \u001b[1;32mnot\u001b[0m \u001b[0m_aresame\u001b[0m\u001b[1;33m(\u001b[0m\u001b[0marg\u001b[0m\u001b[1;33m,\u001b[0m \u001b[0margs\u001b[0m\u001b[1;33m[\u001b[0m\u001b[0mi\u001b[0m\u001b[1;33m]\u001b[0m\u001b[1;33m)\u001b[0m\u001b[1;33m:\u001b[0m\u001b[1;33m\u001b[0m\u001b[0m\n\u001b[0;32m    980\u001b[0m                     \u001b[0mhit\u001b[0m \u001b[1;33m=\u001b[0m \u001b[0mTrue\u001b[0m\u001b[1;33m\u001b[0m\u001b[0m\n",
        "\u001b[1;32mC:\\Anaconda\\lib\\site-packages\\sympy\\core\\cache.pyc\u001b[0m in \u001b[0;36mwrapper\u001b[1;34m(*args, **kwargs)\u001b[0m\n\u001b[0;32m     89\u001b[0m             \u001b[1;32mdef\u001b[0m \u001b[0mwrapper\u001b[0m\u001b[1;33m(\u001b[0m\u001b[1;33m*\u001b[0m\u001b[0margs\u001b[0m\u001b[1;33m,\u001b[0m \u001b[1;33m**\u001b[0m\u001b[0mkwargs\u001b[0m\u001b[1;33m)\u001b[0m\u001b[1;33m:\u001b[0m\u001b[1;33m\u001b[0m\u001b[0m\n\u001b[0;32m     90\u001b[0m                 \u001b[1;32mtry\u001b[0m\u001b[1;33m:\u001b[0m\u001b[1;33m\u001b[0m\u001b[0m\n\u001b[1;32m---> 91\u001b[1;33m                     \u001b[0mretval\u001b[0m \u001b[1;33m=\u001b[0m \u001b[0mcfunc\u001b[0m\u001b[1;33m(\u001b[0m\u001b[1;33m*\u001b[0m\u001b[0margs\u001b[0m\u001b[1;33m,\u001b[0m \u001b[1;33m**\u001b[0m\u001b[0mkwargs\u001b[0m\u001b[1;33m)\u001b[0m\u001b[1;33m\u001b[0m\u001b[0m\n\u001b[0m\u001b[0;32m     92\u001b[0m                 \u001b[1;32mexcept\u001b[0m \u001b[0mTypeError\u001b[0m\u001b[1;33m:\u001b[0m\u001b[1;33m\u001b[0m\u001b[0m\n\u001b[0;32m     93\u001b[0m                     \u001b[0mretval\u001b[0m \u001b[1;33m=\u001b[0m \u001b[0mfunc\u001b[0m\u001b[1;33m(\u001b[0m\u001b[1;33m*\u001b[0m\u001b[0margs\u001b[0m\u001b[1;33m,\u001b[0m \u001b[1;33m**\u001b[0m\u001b[0mkwargs\u001b[0m\u001b[1;33m)\u001b[0m\u001b[1;33m\u001b[0m\u001b[0m\n",
        "\u001b[1;32mC:\\Anaconda\\lib\\site-packages\\sympy\\core\\compatibility.pyc\u001b[0m in \u001b[0;36mwrapper\u001b[1;34m(*args, **kwds)\u001b[0m\n\u001b[0;32m    870\u001b[0m                         \u001b[0mstats\u001b[0m\u001b[1;33m[\u001b[0m\u001b[0mHITS\u001b[0m\u001b[1;33m]\u001b[0m \u001b[1;33m+=\u001b[0m \u001b[1;36m1\u001b[0m\u001b[1;33m\u001b[0m\u001b[0m\n\u001b[0;32m    871\u001b[0m                         \u001b[1;32mreturn\u001b[0m \u001b[0mresult\u001b[0m\u001b[1;33m\u001b[0m\u001b[0m\n\u001b[1;32m--> 872\u001b[1;33m                 \u001b[0mresult\u001b[0m \u001b[1;33m=\u001b[0m \u001b[0muser_function\u001b[0m\u001b[1;33m(\u001b[0m\u001b[1;33m*\u001b[0m\u001b[0margs\u001b[0m\u001b[1;33m,\u001b[0m \u001b[1;33m**\u001b[0m\u001b[0mkwds\u001b[0m\u001b[1;33m)\u001b[0m\u001b[1;33m\u001b[0m\u001b[0m\n\u001b[0m\u001b[0;32m    873\u001b[0m                 \u001b[1;32mwith\u001b[0m \u001b[0mlock\u001b[0m\u001b[1;33m:\u001b[0m\u001b[1;33m\u001b[0m\u001b[0m\n\u001b[0;32m    874\u001b[0m                     \u001b[0mroot\u001b[0m\u001b[1;33m,\u001b[0m \u001b[1;33m=\u001b[0m \u001b[0mnonlocal_root\u001b[0m\u001b[1;33m\u001b[0m\u001b[0m\n",
        "\u001b[1;32mC:\\Anaconda\\lib\\site-packages\\sympy\\core\\basic.pyc\u001b[0m in \u001b[0;36m_subs\u001b[1;34m(self, old, new, **hints)\u001b[0m\n\u001b[0;32m   1004\u001b[0m         \u001b[0mrv\u001b[0m \u001b[1;33m=\u001b[0m \u001b[0mself\u001b[0m\u001b[1;33m.\u001b[0m\u001b[0m_eval_subs\u001b[0m\u001b[1;33m(\u001b[0m\u001b[0mold\u001b[0m\u001b[1;33m,\u001b[0m \u001b[0mnew\u001b[0m\u001b[1;33m)\u001b[0m\u001b[1;33m\u001b[0m\u001b[0m\n\u001b[0;32m   1005\u001b[0m         \u001b[1;32mif\u001b[0m \u001b[0mrv\u001b[0m \u001b[1;32mis\u001b[0m \u001b[0mNone\u001b[0m\u001b[1;33m:\u001b[0m\u001b[1;33m\u001b[0m\u001b[0m\n\u001b[1;32m-> 1006\u001b[1;33m             \u001b[0mrv\u001b[0m \u001b[1;33m=\u001b[0m \u001b[0mfallback\u001b[0m\u001b[1;33m(\u001b[0m\u001b[0mself\u001b[0m\u001b[1;33m,\u001b[0m \u001b[0mold\u001b[0m\u001b[1;33m,\u001b[0m \u001b[0mnew\u001b[0m\u001b[1;33m)\u001b[0m\u001b[1;33m\u001b[0m\u001b[0m\n\u001b[0m\u001b[0;32m   1007\u001b[0m         \u001b[1;32mreturn\u001b[0m \u001b[0mrv\u001b[0m\u001b[1;33m\u001b[0m\u001b[0m\n\u001b[0;32m   1008\u001b[0m \u001b[1;33m\u001b[0m\u001b[0m\n",
        "\u001b[1;32mC:\\Anaconda\\lib\\site-packages\\sympy\\core\\basic.pyc\u001b[0m in \u001b[0;36mfallback\u001b[1;34m(self, old, new)\u001b[0m\n\u001b[0;32m    981\u001b[0m                     \u001b[0margs\u001b[0m\u001b[1;33m[\u001b[0m\u001b[0mi\u001b[0m\u001b[1;33m]\u001b[0m \u001b[1;33m=\u001b[0m \u001b[0marg\u001b[0m\u001b[1;33m\u001b[0m\u001b[0m\n\u001b[0;32m    982\u001b[0m             \u001b[1;32mif\u001b[0m \u001b[0mhit\u001b[0m\u001b[1;33m:\u001b[0m\u001b[1;33m\u001b[0m\u001b[0m\n\u001b[1;32m--> 983\u001b[1;33m                 \u001b[0mrv\u001b[0m \u001b[1;33m=\u001b[0m \u001b[0mself\u001b[0m\u001b[1;33m.\u001b[0m\u001b[0mfunc\u001b[0m\u001b[1;33m(\u001b[0m\u001b[1;33m*\u001b[0m\u001b[0margs\u001b[0m\u001b[1;33m)\u001b[0m\u001b[1;33m\u001b[0m\u001b[0m\n\u001b[0m\u001b[0;32m    984\u001b[0m                 \u001b[0mhack2\u001b[0m \u001b[1;33m=\u001b[0m \u001b[0mhints\u001b[0m\u001b[1;33m.\u001b[0m\u001b[0mget\u001b[0m\u001b[1;33m(\u001b[0m\u001b[1;34m'hack2'\u001b[0m\u001b[1;33m,\u001b[0m \u001b[0mFalse\u001b[0m\u001b[1;33m)\u001b[0m\u001b[1;33m\u001b[0m\u001b[0m\n\u001b[0;32m    985\u001b[0m                 \u001b[1;32mif\u001b[0m \u001b[0mhack2\u001b[0m \u001b[1;32mand\u001b[0m \u001b[0mself\u001b[0m\u001b[1;33m.\u001b[0m\u001b[0mis_Mul\u001b[0m \u001b[1;32mand\u001b[0m \u001b[1;32mnot\u001b[0m \u001b[0mrv\u001b[0m\u001b[1;33m.\u001b[0m\u001b[0mis_Mul\u001b[0m\u001b[1;33m:\u001b[0m  \u001b[1;31m# 2-arg hack\u001b[0m\u001b[1;33m\u001b[0m\u001b[0m\n",
        "\u001b[1;32mC:\\Anaconda\\lib\\site-packages\\sympy\\core\\cache.pyc\u001b[0m in \u001b[0;36mwrapper\u001b[1;34m(*args, **kwargs)\u001b[0m\n\u001b[0;32m     89\u001b[0m             \u001b[1;32mdef\u001b[0m \u001b[0mwrapper\u001b[0m\u001b[1;33m(\u001b[0m\u001b[1;33m*\u001b[0m\u001b[0margs\u001b[0m\u001b[1;33m,\u001b[0m \u001b[1;33m**\u001b[0m\u001b[0mkwargs\u001b[0m\u001b[1;33m)\u001b[0m\u001b[1;33m:\u001b[0m\u001b[1;33m\u001b[0m\u001b[0m\n\u001b[0;32m     90\u001b[0m                 \u001b[1;32mtry\u001b[0m\u001b[1;33m:\u001b[0m\u001b[1;33m\u001b[0m\u001b[0m\n\u001b[1;32m---> 91\u001b[1;33m                     \u001b[0mretval\u001b[0m \u001b[1;33m=\u001b[0m \u001b[0mcfunc\u001b[0m\u001b[1;33m(\u001b[0m\u001b[1;33m*\u001b[0m\u001b[0margs\u001b[0m\u001b[1;33m,\u001b[0m \u001b[1;33m**\u001b[0m\u001b[0mkwargs\u001b[0m\u001b[1;33m)\u001b[0m\u001b[1;33m\u001b[0m\u001b[0m\n\u001b[0m\u001b[0;32m     92\u001b[0m                 \u001b[1;32mexcept\u001b[0m \u001b[0mTypeError\u001b[0m\u001b[1;33m:\u001b[0m\u001b[1;33m\u001b[0m\u001b[0m\n\u001b[0;32m     93\u001b[0m                     \u001b[0mretval\u001b[0m \u001b[1;33m=\u001b[0m \u001b[0mfunc\u001b[0m\u001b[1;33m(\u001b[0m\u001b[1;33m*\u001b[0m\u001b[0margs\u001b[0m\u001b[1;33m,\u001b[0m \u001b[1;33m**\u001b[0m\u001b[0mkwargs\u001b[0m\u001b[1;33m)\u001b[0m\u001b[1;33m\u001b[0m\u001b[0m\n",
        "\u001b[1;32mC:\\Anaconda\\lib\\site-packages\\sympy\\core\\compatibility.pyc\u001b[0m in \u001b[0;36mwrapper\u001b[1;34m(*args, **kwds)\u001b[0m\n\u001b[0;32m    870\u001b[0m                         \u001b[0mstats\u001b[0m\u001b[1;33m[\u001b[0m\u001b[0mHITS\u001b[0m\u001b[1;33m]\u001b[0m \u001b[1;33m+=\u001b[0m \u001b[1;36m1\u001b[0m\u001b[1;33m\u001b[0m\u001b[0m\n\u001b[0;32m    871\u001b[0m                         \u001b[1;32mreturn\u001b[0m \u001b[0mresult\u001b[0m\u001b[1;33m\u001b[0m\u001b[0m\n\u001b[1;32m--> 872\u001b[1;33m                 \u001b[0mresult\u001b[0m \u001b[1;33m=\u001b[0m \u001b[0muser_function\u001b[0m\u001b[1;33m(\u001b[0m\u001b[1;33m*\u001b[0m\u001b[0margs\u001b[0m\u001b[1;33m,\u001b[0m \u001b[1;33m**\u001b[0m\u001b[0mkwds\u001b[0m\u001b[1;33m)\u001b[0m\u001b[1;33m\u001b[0m\u001b[0m\n\u001b[0m\u001b[0;32m    873\u001b[0m                 \u001b[1;32mwith\u001b[0m \u001b[0mlock\u001b[0m\u001b[1;33m:\u001b[0m\u001b[1;33m\u001b[0m\u001b[0m\n\u001b[0;32m    874\u001b[0m                     \u001b[0mroot\u001b[0m\u001b[1;33m,\u001b[0m \u001b[1;33m=\u001b[0m \u001b[0mnonlocal_root\u001b[0m\u001b[1;33m\u001b[0m\u001b[0m\n",
        "\u001b[1;32mC:\\Anaconda\\lib\\site-packages\\sympy\\core\\operations.pyc\u001b[0m in \u001b[0;36m__new__\u001b[1;34m(cls, *args, **options)\u001b[0m\n\u001b[0;32m     28\u001b[0m     \u001b[1;33m@\u001b[0m\u001b[0mcacheit\u001b[0m\u001b[1;33m\u001b[0m\u001b[0m\n\u001b[0;32m     29\u001b[0m     \u001b[1;32mdef\u001b[0m \u001b[0m__new__\u001b[0m\u001b[1;33m(\u001b[0m\u001b[0mcls\u001b[0m\u001b[1;33m,\u001b[0m \u001b[1;33m*\u001b[0m\u001b[0margs\u001b[0m\u001b[1;33m,\u001b[0m \u001b[1;33m**\u001b[0m\u001b[0moptions\u001b[0m\u001b[1;33m)\u001b[0m\u001b[1;33m:\u001b[0m\u001b[1;33m\u001b[0m\u001b[0m\n\u001b[1;32m---> 30\u001b[1;33m         \u001b[0margs\u001b[0m \u001b[1;33m=\u001b[0m \u001b[0mlist\u001b[0m\u001b[1;33m(\u001b[0m\u001b[0mmap\u001b[0m\u001b[1;33m(\u001b[0m\u001b[0m_sympify\u001b[0m\u001b[1;33m,\u001b[0m \u001b[0margs\u001b[0m\u001b[1;33m)\u001b[0m\u001b[1;33m)\u001b[0m\u001b[1;33m\u001b[0m\u001b[0m\n\u001b[0m\u001b[0;32m     31\u001b[0m         \u001b[0margs\u001b[0m \u001b[1;33m=\u001b[0m \u001b[1;33m[\u001b[0m\u001b[0ma\u001b[0m \u001b[1;32mfor\u001b[0m \u001b[0ma\u001b[0m \u001b[1;32min\u001b[0m \u001b[0margs\u001b[0m \u001b[1;32mif\u001b[0m \u001b[0ma\u001b[0m \u001b[1;32mis\u001b[0m \u001b[1;32mnot\u001b[0m \u001b[0mcls\u001b[0m\u001b[1;33m.\u001b[0m\u001b[0midentity\u001b[0m\u001b[1;33m]\u001b[0m\u001b[1;33m\u001b[0m\u001b[0m\n\u001b[0;32m     32\u001b[0m \u001b[1;33m\u001b[0m\u001b[0m\n",
        "\u001b[1;32mC:\\Anaconda\\lib\\site-packages\\sympy\\core\\sympify.pyc\u001b[0m in \u001b[0;36m_sympify\u001b[1;34m(a)\u001b[0m\n\u001b[0;32m    348\u001b[0m \u001b[1;33m\u001b[0m\u001b[0m\n\u001b[0;32m    349\u001b[0m     \"\"\"\n\u001b[1;32m--> 350\u001b[1;33m     \u001b[1;32mreturn\u001b[0m \u001b[0msympify\u001b[0m\u001b[1;33m(\u001b[0m\u001b[0ma\u001b[0m\u001b[1;33m,\u001b[0m \u001b[0mstrict\u001b[0m\u001b[1;33m=\u001b[0m\u001b[0mTrue\u001b[0m\u001b[1;33m)\u001b[0m\u001b[1;33m\u001b[0m\u001b[0m\n\u001b[0m\u001b[0;32m    351\u001b[0m \u001b[1;33m\u001b[0m\u001b[0m\n\u001b[0;32m    352\u001b[0m \u001b[1;33m\u001b[0m\u001b[0m\n",
        "\u001b[1;32mC:\\Anaconda\\lib\\site-packages\\sympy\\core\\sympify.pyc\u001b[0m in \u001b[0;36msympify\u001b[1;34m(a, locals, convert_xor, strict, rational, evaluate)\u001b[0m\n\u001b[0;32m    241\u001b[0m     \u001b[1;32mif\u001b[0m \u001b[0mcls\u001b[0m \u001b[1;32mis\u001b[0m \u001b[0mtype\u001b[0m\u001b[1;33m(\u001b[0m\u001b[0mNone\u001b[0m\u001b[1;33m)\u001b[0m\u001b[1;33m:\u001b[0m\u001b[1;33m\u001b[0m\u001b[0m\n\u001b[0;32m    242\u001b[0m         \u001b[1;32mif\u001b[0m \u001b[0mstrict\u001b[0m\u001b[1;33m:\u001b[0m\u001b[1;33m\u001b[0m\u001b[0m\n\u001b[1;32m--> 243\u001b[1;33m             \u001b[1;32mraise\u001b[0m \u001b[0mSympifyError\u001b[0m\u001b[1;33m(\u001b[0m\u001b[0ma\u001b[0m\u001b[1;33m)\u001b[0m\u001b[1;33m\u001b[0m\u001b[0m\n\u001b[0m\u001b[0;32m    244\u001b[0m         \u001b[1;32melse\u001b[0m\u001b[1;33m:\u001b[0m\u001b[1;33m\u001b[0m\u001b[0m\n\u001b[0;32m    245\u001b[0m             \u001b[1;32mreturn\u001b[0m \u001b[0ma\u001b[0m\u001b[1;33m\u001b[0m\u001b[0m\n",
        "\u001b[1;31mSympifyError\u001b[0m: SympifyError: None"
       ]
      }
     ],
     "prompt_number": 151
    },
    {
     "cell_type": "heading",
     "level": 1,
     "metadata": {},
     "source": [
      "-=-=-=-=-=-=-=-=-=-=-=-=-=-=-=-=-=-=-"
     ]
    },
    {
     "cell_type": "code",
     "collapsed": false,
     "input": [
      "T_dump_c = calc_tel('SKA1Low','Continuum', Tdump_ref*Bmax_ref/Bmax)\n",
      "T_dump_s = calc_tel('SKA1Survey','Spectral', Tdump_ref*Bmax_ref/Bmax)\n",
      "T_dump_s"
     ],
     "language": "python",
     "metadata": {},
     "outputs": [
      {
       "metadata": {},
       "output_type": "pyout",
       "prompt_number": 43,
       "text": [
        "{'SKA1_Sur-Spec': 0.3*s}"
       ]
      }
     ],
     "prompt_number": 43
    },
    {
     "cell_type": "code",
     "collapsed": false,
     "input": [
      "tt = calc_tel('SKA1Survey','Spectral', Nf_out)\n",
      "tt = calc_tel('SKA1Survey','Continuum', Nf_out)\n",
      "tt"
     ],
     "language": "python",
     "metadata": {},
     "outputs": [
      {
       "metadata": {},
       "output_type": "pyout",
       "prompt_number": 51,
       "text": [
        "{'SKA1_Sur-Cont': 500}"
       ]
      }
     ],
     "prompt_number": 51
    }
   ],
   "metadata": {}
  }
 ]
}