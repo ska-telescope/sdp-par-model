{
 "metadata": {
  "name": "",
  "signature": "sha256:7c8d8804e5560137ed104196c12858d26c07dff759ba580277872243486cb740"
 },
 "nbformat": 3,
 "nbformat_minor": 0,
 "worksheets": [
  {
   "cells": [
    {
     "cell_type": "markdown",
     "metadata": {},
     "source": [
      "_This notebook is an iPython translation of the M7 PDR05 Excel Spreadsheet, interpreted along the same iPython notebook template as originally done by **Juande Santander-Vela** in his separate analysis of M7 Milestone document PDR05._\n",
      "\n",
      "_This is an interactive document that includes blocks of code that can be used to evaluate equations if **sympy** and **astropy** are available. While overlapping in scope with \"Full Computational Requirements for SDP.ipynb\" and \"Parametric Models of SDP Compute Requirements.ipynb\", the equations in this document have been independently derived and should (where possible) be tested against the source Excel Spreadsheet, as well as the other reference documents._ \n",
      "\n",
      "_Equations may be evaluated for the different telescopes and imaging modes, either numerically or symbolically_ \n",
      "\n",
      "_The owner of this notebook document is **Francois Malan** of Space Advisory Company._"
     ]
    },
    {
     "cell_type": "code",
     "collapsed": true,
     "input": [
      "# When running this code block, make sure that it finishes before running the following block. \n",
      "# When execution starts, the Cell nr is shown as \"In [*]\" (in the left-hand margin). It updates to \"In [1]\" when done.\n",
      "# Only then, you can run the rest as a batch by selecting Cell -> Run All Below from the iPy Notebook menu.%t\n",
      "\n",
      "from sympy import init_session\n",
      "init_session(\n",
      "    use_latex=True,\n",
      "    use_unicode=True,\n",
      "    pretty_print=True,\n",
      "    quiet=True,\n",
      ")\n",
      "\n",
      "import sympy.physics.units as u\n",
      "from astropy import constants as const\n",
      "import numpy as np\n",
      "from scipy import optimize as opt"
     ],
     "language": "python",
     "metadata": {},
     "outputs": [
      {
       "output_type": "stream",
       "stream": "stdout",
       "text": [
        "IPython console for SymPy 0.7.6 (Python 2.7.7-32-bit) (ground types: python)\n"
       ]
      }
     ],
     "prompt_number": 1
    },
    {
     "cell_type": "heading",
     "level": 1,
     "metadata": {},
     "source": [
      "1. Definitions:"
     ]
    },
    {
     "cell_type": "heading",
     "level": 2,
     "metadata": {},
     "source": [
      "Output Parameters we are interested in:"
     ]
    },
    {
     "cell_type": "markdown",
     "metadata": {},
     "source": [
      "|**Symbol**|**Python**|**Description**|\n",
      "|-|-|-|\n",
      "| $R_{FLOP}$ | Rflop | Overall flop rate |\n",
      "| $M_{buf,vis}$ | Mbuf_vis | Buffer size (bytes) |\n",
      "| $R_{IO}$ | Rio | Overall I/O rate, Bytes/s |"
     ]
    },
    {
     "cell_type": "code",
     "collapsed": false,
     "input": [
      "Rflop, Mbuf_vis, Rio = symbols(\"R_flop, M_buf\\,vis, R_io\", positive=True)"
     ],
     "language": "python",
     "metadata": {},
     "outputs": [],
     "prompt_number": 2
    },
    {
     "cell_type": "heading",
     "level": 2,
     "metadata": {},
     "source": [
      "Fixed values"
     ]
    },
    {
     "cell_type": "markdown",
     "metadata": {},
     "source": [
      "|**Symbol**|**Python**|**Description**|\n",
      "|-|-|-|\n",
      "| $c$ | c | Speed of light in a vacuum |\n",
      "| $\\Omega_E$ | Omega_E | Angular rotational velocity of the Earth |\n",
      "| $R_{Earth}$ | R_Earth | Radius of the Earth |"
     ]
    },
    {
     "cell_type": "code",
     "collapsed": false,
     "input": [
      "c = const.c.value * u.m / u.s\n",
      "Omega_E, R_Earth = symbols(\"Omega_E, R_Earth\", positive=True)"
     ],
     "language": "python",
     "metadata": {},
     "outputs": [],
     "prompt_number": 3
    },
    {
     "cell_type": "heading",
     "level": 2,
     "metadata": {},
     "source": [
      "Assumed values"
     ]
    },
    {
     "cell_type": "heading",
     "level": 3,
     "metadata": {},
     "source": [
      "All telescopes"
     ]
    },
    {
     "cell_type": "markdown",
     "metadata": {},
     "source": [
      "*May need global tweaking*"
     ]
    },
    {
     "cell_type": "markdown",
     "metadata": {},
     "source": [
      "|**Symbol**|**Python**|**Value**|**Description**|\n",
      "|-|-|-|-|\n",
      "| $N_{kernel}$ | Naa | 9 | Linear size of the combined $A$ and $W$ kernels (pixels). This size is at the low end of the range 9-15 given by [RD11] in Section 4.4.2 of their paper. |\n",
      "| $N_{mm}$ | Nmm | 4| |\n",
      "| $N_{pp}$ | Npp | 4| Number of polarisation products that are processed |\n",
      "| $T_{ion}$ | T_ion | 60 | Ionospheric timescale |\n",
      "| $\\epsilon_{w}$ | epsilon_w | 0.01 | Amplitude level of w-kernels to include. Value 0.01 is used in [RD6] where it is shown to give kernel sizes in rough agreement with CASA package.|\n",
      "|$M_{vis}$| Mvis | 12 | Size of visibility datum in the buffer |\n",
      "|$W_{curve}$|Wcurve||Minimum deviation of the W coordinate due to Earth\u2019s curvature|\n",
      "|$Q_{bw}$|Qbw|1 |Bandwidth quality factor, determining how well bandwidth smearing can be controlled|\n",
      "|$Q_{w}$|Qw|1 | Quality factor for w-projection correction. Value 1 corresponds to correction of maximal w values.  For comparison [RD7] uses values 0.1\u20140.3 |\n",
      "|$Q_{GCF}$|Qgcf|8|Oversampling factor of w-convolution kernels|\n",
      "|$Q_{fcw}$|Qfcw|10|Number of adjacent frequency channels for which baseline dependent kernels can be reused|\n"
     ]
    },
    {
     "cell_type": "code",
     "collapsed": false,
     "input": [
      "Naa, Nmm, Npp = symbols(\"N_k N_mm N_pp\", integer=True, positive=True)\n",
      "Tion = symbols(\"T_ion\", positive=True)\n",
      "epsilon_w = symbols(\"\\epsilon_w\", positive=True)\n",
      "Mvis = symbols(\"M_vis\", positive=True)\n",
      "Wcurve = symbols(\"W_curve\", positive=True)\n",
      "Qbw, Qw, Qgcf, Qfcv = symbols(\"Q_bw, Q_w, Q_GCF, Q_fcv\", positive=True)"
     ],
     "language": "python",
     "metadata": {},
     "outputs": [],
     "prompt_number": 4
    },
    {
     "cell_type": "heading",
     "level": 3,
     "metadata": {},
     "source": [
      "Spectral vs Continuum vs Fast Imaging (i.e. slow transients)"
     ]
    },
    {
     "cell_type": "markdown",
     "metadata": {},
     "source": [
      "*This is the same for all telescopes and bands*, but may be overwritten by HPSOs"
     ]
    },
    {
     "cell_type": "markdown",
     "metadata": {},
     "source": [
      "|***Imaging-mode telescope parameters***\n",
      "|-|-|-|-|-|-|\n",
      "| | Symbol | Python | Continuum | Spectral | SlowTrans |\n",
      "| Baseline length that (Fbshort+Fbmid), i.e. 90% of baselines are shorter than | $B_{lim,mid}$ | Blim_mid | $20000$ | n/a | $20000$\n",
      "| Field of view factor | $Q_{FoV}$| Qfov | $1.8$ | $1$ | $0.9$ |\n",
      "| Number of output map channels | $N_{f, out}$ | Nf_out | $500$ | *computed* | *computed*|\n",
      "| Number of channels for gridding at longest baseline | $N_{f, used}$ | Nf_used | *computed* | *computed* | *computed*|\n",
      "| Number of major CLEAN cycles to be done | $N_{major}$ | Nmajor | $10$ | $1$ | $1$ |\n",
      "| Observation length in hours |$T_{obs}$ | Tobs  | $6$  | $6$  | $0$  |\n",
      "| Quality factor defining the oversampling of synthesised beam | $Q_{pix}$ | Qpix | $2.5$ | $2.5$ | $1.5$"
     ]
    },
    {
     "cell_type": "code",
     "collapsed": false,
     "input": [
      "Blim_mid = symbols(\"B_lim\\,mid\", positive=True)\n",
      "Qfov = symbols(\"Q_FoV\", positive=True)\n",
      "Nf_out, Nf_used, Nmajor = symbols(\"N_f\\,out N_f\\,used N_major\", integer=True, positive=True)\n",
      "Tobs = symbols(\"T_obs\", positive=True)\n",
      "Qpix = symbols(\"Q_pix\", positive=True)\n",
      "\n",
      "mode = symbols(\"mode\")"
     ],
     "language": "python",
     "metadata": {},
     "outputs": [],
     "prompt_number": 5
    },
    {
     "cell_type": "heading",
     "level": 3,
     "metadata": {},
     "source": [
      "Per-telescope parameters"
     ]
    },
    {
     "cell_type": "markdown",
     "metadata": {},
     "source": [
      "*Subject to change*"
     ]
    },
    {
     "cell_type": "markdown",
     "metadata": {},
     "source": [
      "|***Telescope parameters***\n",
      "|-|-|-|-|-|-|\n",
      "| | Symbol | Python | SKA1-Low | SKA1-Mid | SKA1-Survey |\n",
      "| Originally specified maximum baseline according to SKAO (km)     | $B_{max,ref}$|Bmax_ref| $100$|$200$|$50$|\n",
      "| Actually implemented maximum baseline chosen for calculations (km) | $B_{max}$|Bmax| $100$|$120$|$50$|\n",
      "| Antenna/Station Diameter (m)                                   |$D_{s}$|Ds|$35$|$15$|$15$|\n",
      "| Fraction of baselines short enough for data to be averaged to frequency resolution of output prior to gridding. (Only relevant for continuum modes) | $F_{b,short}$ | Fb_short | $0.5$ | $0.5$ | $0.1$ |\n",
      "| Minimum frequency (of the chosen band) | $f_{min}$ | freq_min | 50 Mhz | depends on band | depends on band |\n",
      "| Maximum frequency (of the chosen band) | $f_{max}$ | freq_max | 350 Mhz | depends on band | depends on band |\n",
      "| Originally specified number of frequency channels from corellator    |$N_{f,max}$||$256000$|$256000$|$256000$|\n",
      "| Number of frequency channels from corellator                   |$N_{f,max}$|Nf_max|$64000$|$96000$|$64000$|\n",
      "| Number of stations/antennas                                    |$N_{a}$|Na|$1024$|$256$|$96$|\n",
      "| Number of beams                                                |$N_{beam}$|Nbeam|$1$|$1$|$36$|\n",
      "| Baseline length distribution-dependent value (ask Rosie) | $Q_{w2}$ | Qw2 | $0.0458053$ | $0.0278115$ | $0.0569392$ |\n",
      "| Baseline length distribution-dependent value (ask Rosie) | $Q_{w32}$ | Qw32 | $0.0750938$ | $0.0462109$ | $0.0929806$  \n",
      "| Correlator dump time appropriate for $B_{max,ref}$ (seconds) |$T_{dump,ref}$|Tdump_ref|$0.6$|$0.08$|$0.3$|\n",
      "| Telescope | $\\rm tel_{name}$ | telescope | Low | Mid | Sur |\n"
     ]
    },
    {
     "cell_type": "code",
     "collapsed": false,
     "input": [
      "Ds = symbols(\"D_s\", positive=True)\n",
      "Bmax_ref, Bmax = symbols(\"B_max\\,ref B_max\", positive=True)\n",
      "Fb_short, Fb_short_tel, Fb_mid = symbols(\"F_b\\,short F_b\\,short\\,tel F_b\\,mid\") #_short_tel and #mid needed for intermediate computations\n",
      "freq_min, freq_max = symbols(\"f_min f_max\")\n",
      "Nf_max, Nf_used, Nf_no_smear = symbols(\"N_{f\\,max} N_{f\\,used} N_{f\\,no-smear}\")\n",
      "Na, Nbeam = symbols(\"N_a N_beam\", integer=True, positive=True)\n",
      "Tdump_ref = symbols(\"T_dump\\,ref\", positive=True)\n",
      "Qw2, Qw32 = symbols(\"Q_w2 Q_w32\", positive=True)\n",
      "telescope = symbols(\"tel_name\")\n",
      "\n",
      "# Wavelength variables, not (yet) enumerated in the table above\n",
      "wl, wl_max, wl_min, wl_sub_max, wl_sub_min = symbols(\"\\lambda \\lambda_max \\lambda_max \\lambda_{sub\\,max} \\lambda_{sub\\,min}\", positive=True)"
     ],
     "language": "python",
     "metadata": {},
     "outputs": [],
     "prompt_number": 6
    },
    {
     "cell_type": "heading",
     "level": 2,
     "metadata": {},
     "source": [
      "Derived parameters"
     ]
    },
    {
     "cell_type": "heading",
     "level": 3,
     "metadata": {},
     "source": [
      "definitions"
     ]
    },
    {
     "cell_type": "code",
     "collapsed": false,
     "input": [
      "# Orphaned variables (may be needed later on)\n",
      "Tsnap, Tsnap_min = symbols(\"T_snap T_{snap\\,min}\", positive=True)  # Snapshot timescale implemented\n",
      "Tdump = symbols(\"T_dump\", positive=True)  # Correlator dump time (s)\n",
      "psf_angle= symbols(r\"\\theta_{PSF}\", positive=True)\n",
      "pix_angle  = symbols(r\"\\theta_{pix}\", positive=True)\n",
      "Npix, Nminor = symbols(\"N_pix N_minor\", integer=True, positive=True)\n",
      "Ngw = symbols(\"N_gw\", positive=True)\n",
      "Theta_beam = symbols(r\"\\theta_{beam}\", positive=True)\n",
      "Theta_fov = symbols(r\"\\theta_{FoV}\", positive=True)\n",
      "Rrp = symbols(\"R_rp\", positive=True) # Reprojection Flop rate, per output channel"
     ],
     "language": "python",
     "metadata": {},
     "outputs": [],
     "prompt_number": 7
    },
    {
     "cell_type": "heading",
     "level": 3,
     "metadata": {},
     "source": [
      "computations"
     ]
    },
    {
     "cell_type": "code",
     "collapsed": false,
     "input": [
      "Tdump = Tdump_ref * Bmax_ref / Bmax # Correlator dump time\n",
      "wl_max = u.c / freq_min             # Maximum Wavelength\n",
      "wl_min = u.c / freq_max             # Minimum Wavelength\n",
      "wl = 0.5*(wl_max + wl_min)          # Representative Wavelength\n",
      "Theta_fov = 7.66 * wl * Qfov / (pi * Ds)\n",
      "Theta_beam = 3 * wl/(2*Bmax)\n",
      "Theta_pix = Theta_beam/(2*Qpix)\n",
      "Npix = Theta_fov / Theta_pix\n",
      "Rfft = 10 * Npix**2 * log(Npix,2) / Tsnap\n",
      "\n",
      "DeltaW_max = Qw * Max(Bmax*Tsnap*Omega_E/(2*wl), Bmax**2/(8*R_Earth*wl)) #W deviation catered for by W kernel, in units of typical wavelength\n",
      "Ngw = 2*Theta_fov * sqrt((Qw2 * DeltaW_max**2 * Theta_fov**2/4.0)+(Qw32 * DeltaW_max**1.5 * Theta_fov/(epsilon_w*2*pi)))\n",
      "Ncvff = Qgcf*sqrt(Naa**2+Ngw**2)\n",
      "\n",
      "Nf_vis=(Nf_out*Fb_short)+(Nf_used*(1-Fb_short-Fb_mid))+(Nf_no_smear*Fb_mid)\n",
      "Cr=Nf_used/Nf_vis\n",
      "Nvis = Na*(Na-1)*Nf_used/(2*Tdump)/Cr * u.s # Number of visibilities per second to be gridded (after averaging short baselines to coarser freq resolution). Note multiplication by u.s to get rid of /s\n",
      "Rgrid = 8*Nmm*Nvis*(Ngw**2+Naa**2)\n",
      "\n",
      "Rccf = 5 *(Na-1)*Na*Nmm*Ncvff**2 * log(Ncvff,2)/(Tion*Qfcv)\n",
      "\n",
      "Rflop = 2 * Nmajor*Nbeam*Npp*((Nf_out*(Rrp + Rfft)+(Nf_used*Rccf)+Rgrid)) # Overall flop rate\n",
      "Mbuf_vis = 2 * Mvis * Nbeam * Npp * Nvis * Tobs / u.s # Note the division by u.s to get rid of pesky SI unit\n",
      "Rio = Mvis * Nmajor * Nbeam * Npp * Nvis"
     ],
     "language": "python",
     "metadata": {},
     "outputs": [],
     "prompt_number": 8
    },
    {
     "cell_type": "heading",
     "level": 1,
     "metadata": {},
     "source": [
      "2. Implementation:"
     ]
    },
    {
     "cell_type": "heading",
     "level": 2,
     "metadata": {},
     "source": [
      "Telescopes & modes"
     ]
    },
    {
     "cell_type": "heading",
     "level": 3,
     "metadata": {},
     "source": [
      "Telescope parameters"
     ]
    },
    {
     "cell_type": "code",
     "collapsed": false,
     "input": [
      "universal = {Omega_E : 0.0000727, # Used PDR05 Excel value, but should actually be 7.2921e-5,\n",
      "             R_Earth : 6400000 * u.m, # Used PDR05 Excel value, but should actually be  6.371e6,\n",
      "             Naa   : 9,\n",
      "             Npp  : 4,\n",
      "             Nmm  : 4,\n",
      "             Nf_max: 256000,        # maximum number of channels\n",
      "             Tion : 60.0,\n",
      "             epsilon_w : 0.01,\n",
      "             Mvis : 12.0,\n",
      "             Qbw  : 1.0,\n",
      "             Qw   : 1.0,\n",
      "             Qgcf : 8.0,\n",
      "             Qfcv : 10.0,\n",
      "             Blim_mid : 20000 # Baseline length that(Fbshort+Fbmid, i.e. 90%) of baselines are shorter than.\n",
      "             # ** Is this value valid ?? Especially for all telescopes, as they have different baselines ** ??? \n",
      "             }  \n",
      "\n",
      "telescope_info = {\n",
      "    'SKA1_Low': {\n",
      "        Qw2  : 0.0458053,  # Weighing value for baseline length distribution (Ask Rosie Bolton for interpretation)\n",
      "        Qw32 : 0.0750938,  # Weighing value for baseline length distribution (Ask Rosie Bolton for interpretation)\n",
      "        Tdump_ref: 0.6* u.s, # Correlator dump time in reference design\n",
      "        Na: 1024,            # number of antennas\n",
      "        Nbeam: 1,            # number of beams\n",
      "        Ds: 35 * u.m,        # station \"diameter\" in meters\n",
      "        Bmax: 100 * u.km,     # Actually constructed kilometers of max baseline\n",
      "        Bmax_ref: 100 * u.km, # kilometers of max baseline in reference design\n",
      "        Fb_short_tel : 0.5,   # Fraction of baselines short enough for data to be averaged to frequency\n",
      "                              # resolution of output prior to gridding. Only relevant for continuum modes\n",
      "    },\n",
      "    'SKA1_Mid': {  # Assuming band 1, for the moment. TODO: allow all bands to be computed.\n",
      "        Qw2  : 0.0278115,  # Weighing value for baseline length distribution (Ask Rosie Bolton for interpretation)\n",
      "        Qw32 : 0.0462109,  # Weighing value for baseline length distribution (Ask Rosie Bolton for interpretation)\n",
      "        Tdump_ref: 0.08 * u.s, # Correlator dump time in reference design\n",
      "        Na: 190+64,            # number of antennas\n",
      "        Nbeam: 1,          # number of beams\n",
      "        Ds: 15 * u.m,      # station \"diameter\" in meters\n",
      "        Bmax: 200 * u.km,     # Actually constructed kilometers of max baseline\n",
      "        Bmax_ref: 200 * u.km, # kilometers of max baseline in reference design\n",
      "        Fb_short_tel : 0.5, # Fraction of baselines short enough for data to be averaged to frequency\n",
      "                            # resolution of output prior to gridding. Only relevant for continuum modes\n",
      "    },\n",
      "    'SKA1_Survey': { # Assuming band 1, for the moment. TODO: allow all bands to be computed.\n",
      "        Qw2  : 0.0569392,  # Weighing value for baseline length distribution (Ask Rosie Bolton for interpretation)\n",
      "        Qw32 : 0.0929806,  # Weighing value for baseline length distribution (Ask Rosie Bolton for interpretation)\n",
      "        Tdump_ref: 0.3 * u.s, # Correlator dump time in reference design\n",
      "        Na: 96,               # number of antennas\n",
      "        Nbeam: 36,            # number of beams (36 because this is a PAF)\n",
      "        Ds: 15 * u.m,         # station \"diameter\" in meters\n",
      "        Bmax: 50 * u.km,     # Actually constructed kilometers of max baseline\n",
      "        Bmax_ref: 50 * u.km, # kilometers of max baseline in reference design\n",
      "        Fb_short_tel : 0.1,  # Fraction of baselines short enough for data to be averaged to frequency\n",
      "                             # resolution of output prior to gridding. Only relevant for continuum modes\n",
      "    },\n",
      "}"
     ],
     "language": "python",
     "metadata": {},
     "outputs": [],
     "prompt_number": 9
    },
    {
     "cell_type": "heading",
     "level": 3,
     "metadata": {},
     "source": [
      "The 'standard' bands"
     ]
    },
    {
     "cell_type": "code",
     "collapsed": false,
     "input": [
      "band_info = {\n",
      "    'Low' : {\n",
      "        freq_min :  50e6 * u.Hz,\n",
      "        freq_max : 350e6 * u.Hz,\n",
      "    },\n",
      "    'Mid1' : {\n",
      "        freq_min :  350e6 * u.Hz,\n",
      "        freq_max : 1.05e9 * u.Hz,\n",
      "    },\n",
      "    'Mid2' : {\n",
      "        freq_min : 949.367e6 * u.Hz,\n",
      "        freq_max : 1.7647e9 * u.Hz,\n",
      "    },\n",
      "    'Mid3' : {\n",
      "        freq_min : 1.65e9 * u.Hz,\n",
      "        freq_max : 3.05e9 * u.Hz,\n",
      "    },\n",
      "    'Mid4' : {\n",
      "        freq_min : 2.80e9 * u.Hz,\n",
      "        freq_max : 5.18e9 * u.Hz,\n",
      "    },\n",
      "    'Mid5A' : {\n",
      "        freq_min : 4.60e9 * u.Hz,\n",
      "        freq_max : 7.10e9 * u.Hz,\n",
      "    },\n",
      "    'Mid5B' : {\n",
      "        freq_min : 11.3e9 * u.Hz,\n",
      "        freq_max : 13.8e9 * u.Hz,\n",
      "    },\n",
      "    'Sur1' : {\n",
      "        freq_min : 350e6 * u.Hz,\n",
      "        freq_max : 850e6 * u.Hz,\n",
      "    },\n",
      "    'Sur2A' : {\n",
      "        freq_min :  650e6 * u.Hz,\n",
      "        freq_max : 1.35e9 * u.Hz,\n",
      "    },\n",
      "    'Sur2B' : {\n",
      "        freq_min : 1.17e9 * u.Hz,\n",
      "        freq_max : 1.67e9 * u.Hz,\n",
      "    },\n",
      "    'Sur3A' : {\n",
      "        freq_min : 1.5e9 * u.Hz,\n",
      "        freq_max : 2.0e9 * u.Hz,\n",
      "    },\n",
      "    'Sur3B' : {\n",
      "        freq_min : 3.5e9 * u.Hz,\n",
      "        freq_max : 4.0e9 * u.Hz,\n",
      "    },\n",
      "}"
     ],
     "language": "python",
     "metadata": {},
     "outputs": [],
     "prompt_number": 10
    },
    {
     "cell_type": "heading",
     "level": 3,
     "metadata": {},
     "source": [
      "Imaging modes"
     ]
    },
    {
     "cell_type": "code",
     "collapsed": false,
     "input": [
      "imaging_mode_info = {\n",
      "    'Continuum': {\n",
      "        Qfov:  1.8, # Field of view factor\n",
      "        Nmajor: 10, # Number of major CLEAN cycles to be done\n",
      "        Qpix:  2.5, # Quality factor of synthesised beam oversampling\n",
      "        Nf_out : 500,\n",
      "        Nf_used : ln(wl_max / wl_min) / ln((Theta_beam/(Theta_fov*Qbw)+1)), #Number of bands for gridding at longest baseline\n",
      "        Fb_short : Fb_short_tel,\n",
      "        Tobs : 6 * u.hours,\n",
      "        Fb_mid  : 1-0.1-Fb_short,\n",
      "        Nf_no_smear : log(wl_max/wl_min) / log(3*(wl/u.m) /(2*Blim_mid)/(Theta_fov*Qbw)+1) ,\n",
      "        Rrp : 50 * Npix**2 / Tsnap,\n",
      "    },\n",
      "    'Spectral': {\n",
      "        Qfov: 1.0, # Field of view factor\n",
      "        Nmajor: 1, # Number of major CLEAN cycles to be done        \n",
      "        Qpix: 2.5, # Quality factor of synthesised beam oversampling\n",
      "        Nf_out : Nf_max, #The same as the number of bands\n",
      "        Nf_used : Nf_max,\n",
      "        Fb_short : 0 * Fb_short_tel, # Need a symbolic expression to be able to be substuted; hence multiply by 0 \n",
      "        Tobs : 6 * u.hours,\n",
      "        Fb_mid : Fb_short,\n",
      "        Nf_no_smear : Nf_used * 0,\n",
      "        Rrp : 50 * Npix**2 / Tsnap,\n",
      "    },\n",
      "    'SlowTrans': {\n",
      "        Qfov: 0.9, # Field of view factor\n",
      "        Nmajor: 1, # Number of major CLEAN cycles to be done\n",
      "        Qpix: 1.5, # Quality factor of synthesised beam oversampling\n",
      "        Nf_out : ((u.c/wl_min)-(u.c/wl_max)) * u.s / 1.0e6,  # According to PDR05's spreadsheet. Had to manually multiply in the u.s to make units match\n",
      "        Nf_used : ln(wl_max / wl_min) / ln((Theta_beam/(Theta_fov*Qbw)+1)), #Number of bands for gridding at longest baseline\n",
      "        Fb_short : Fb_short_tel,\n",
      "        Tobs : Tdump,\n",
      "        Fb_mid  : 1-0.1-Fb_short,\n",
      "        Nf_no_smear : log(wl_max/wl_min) / log(3*(wl/u.m)/(2*Blim_mid)/(Theta_fov*Qbw)+1),\n",
      "        Rrp : 0 * Tsnap,\n",
      "    },\n",
      "}"
     ],
     "language": "python",
     "metadata": {},
     "outputs": [],
     "prompt_number": 11
    },
    {
     "cell_type": "heading",
     "level": 3,
     "metadata": {},
     "source": [
      "High Priority Science Objectives (overwrite any other settings)"
     ]
    },
    {
     "cell_type": "code",
     "collapsed": false,
     "input": [
      "hpsos = {\n",
      "    '1' : {\n",
      "        'telescope' : 'SKA1_Low',\n",
      "        'mode'      : 'Continuum',\n",
      "        'band'      : '1', \n",
      "        freq_min  :  50e6 * u.Hz,\n",
      "        freq_max  : 200e6 * u.Hz,\n",
      "        Tobs      : 6 * u.hours,\n",
      "        Nf_max    : 256000,\n",
      "        Bmax      : 100 * u.kilometer,\n",
      "        Fb_mid    : 0, # Check\n",
      "        Texp      : 2500 * u.hours,\n",
      "        Tpoint    : 1000,\n",
      "    }\n",
      "    '2A' : {\n",
      "        'telescope' : 'SKA1_Low',\n",
      "        'mode'      : 'Continuum',\n",
      "        'band'      : '1', \n",
      "        freq_min  :  50e6 * u.Hz,\n",
      "        freq_max  : 200e6 * u.Hz,\n",
      "        Tobs      : 6 * u.hours,\n",
      "        Nf_max    : 256000,\n",
      "        Bmax      : 100 * u.kilometer,\n",
      "        Fb_mid    : 0, # Check\n",
      "        Texp      : 2500 * u.hours,\n",
      "        Tpoint    : 100,\n",
      "    }\n",
      "    '2B' : {\n",
      "        'telescope' : 'SKA1_Low',\n",
      "        'mode'      : 'Continuum',\n",
      "        'band'      : '1', \n",
      "        freq_min  :  50e6 * u.Hz,\n",
      "        freq_max  : 200e6 * u.Hz,\n",
      "        Tobs      : 6 * u.hours,\n",
      "        Nf_max    : 256000,\n",
      "        Bmax      : 100 * u.kilometer,\n",
      "        Fb_mid    : 0, # Check\n",
      "        Texp      : 2500 * u.hours,\n",
      "        Tpoint    : 10,\n",
      "    }\n",
      "    '13' : {\n",
      "        'telescope' : 'SKA1_Survey',\n",
      "        'mode'      : 'CS',\n",
      "        'band'      : '2A', \n",
      "        freq_min  : 790e6 * u.Hz,\n",
      "        freq_max  : 950e6 * u.Hz,\n",
      "        Tobs      : 6 * u.hours,\n",
      "        Nf_max    : 3200,\n",
      "        Bmax      : 40 * u.kilometer,\n",
      "        Fb_mid    : 0, # Check\n",
      "        Texp      : 5000 * u.hours,\n",
      "        Tpoint    : 2500,\n",
      "    }\n",
      "    '14' : {\n",
      "        'telescope' : 'SKA1_Mid',\n",
      "        'mode'      : 'CS',\n",
      "        'band'      : '?', \n",
      "        freq_min  :  1.3e9 * u.Hz,\n",
      "        freq_max  :  1.4e9 * u.Hz,\n",
      "        Tobs      : 6 * u.hours,\n",
      "        Nf_max    : 50000,\n",
      "        Bmax      : 200 * u.kilometer,\n",
      "        Fb_mid    : 0, # Check\n",
      "        Texp      : 2000 * u.hours,\n",
      "        Tpoint    : 10,\n",
      "    }\n",
      "    '15' : {\n",
      "        'telescope' : 'SKA1_Survey',\n",
      "        'mode'      : 'CS',\n",
      "        'band'      : '2A', \n",
      "        freq_min  :  1.415e9 * u.Hz,\n",
      "        freq_max  :  1.425e9 * u.Hz,\n",
      "        Tobs      : 6 * u.hours,\n",
      "        Nf_max    : 2500,\n",
      "        Bmax      : 13 * u.kilometer,\n",
      "        Fb_mid    : 0, # Check\n",
      "        Texp      : 2000 * u.hours,\n",
      "        Tpoint    : 10,\n",
      "    }\n",
      "    '22' : {\n",
      "        'telescope' : 'SKA1_Mid',\n",
      "        'mode'      : 'Continuum',\n",
      "        'band'      : '5', \n",
      "        freq_min  :  10e9 * u.Hz,\n",
      "        freq_max  :  12e9 * u.Hz,\n",
      "        Tobs      : 6 * u.hours,\n",
      "        Nf_max    : 256000,\n",
      "        Bmax      : 200 * u.kilometer,\n",
      "        Fb_mid    : 0, # Check\n",
      "        Texp      : 6000 * u.hours,\n",
      "        Tpoint    : 600,\n",
      "    }\n",
      "    '27' : {\n",
      "        'telescope' : 'SKA1_Survey',\n",
      "        'mode'      : 'Continuum',\n",
      "        'band'      : '2A', \n",
      "        freq_min  :  1.0e9 * u.Hz,\n",
      "        freq_max  :  1.5e9 * u.Hz,\n",
      "        Tobs      : 6 * u.hours,\n",
      "        Nf_max    : 256000,\n",
      "        Bmax      : 50 * u.kilometer,\n",
      "        Fb_mid    : 0, # Check\n",
      "        Texp      : 17500 * u.hours,\n",
      "        Tpoint    : 10,\n",
      "    }\n",
      "    '33' : {\n",
      "        'telescope' : 'SKA1_Survey',\n",
      "        'mode'      : 'Continuum',\n",
      "        'band'      : '2A', \n",
      "        freq_min  :  1.0e9 * u.Hz,\n",
      "        freq_max  :  1.5e9 * u.Hz,\n",
      "        Tobs      : 6 * u.hours,\n",
      "        Nf_max    : 256000,\n",
      "        Bmax      : 50 * u.kilometer,\n",
      "        Fb_mid    : 0, # Check\n",
      "        Texp      : 17500 * u.hours,\n",
      "        Tpoint    : 10,\n",
      "    }\n",
      "    '35' : {\n",
      "        'telescope' : 'SKA1_Survey',\n",
      "        'mode'      : 'SlowTrans',\n",
      "        'band'      : '2A', \n",
      "        freq_min  :   650e6 * u.Hz,\n",
      "        freq_max  :  1.15e9 * u.Hz,\n",
      "        Tobs      : 0 * u.hours,\n",
      "        Nf_max    : 256000,\n",
      "        Bmax      : 10 * u.kilometer,\n",
      "        Fb_mid    : 0, # Check\n",
      "        Texp      : 5500 * u.hours,\n",
      "        Tpoint    : 3.3,\n",
      "    }\n",
      "    '37a' : {\n",
      "        'telescope' : 'SKA1_Mid',\n",
      "        'mode'      : 'Continuum',\n",
      "        'band'      : '2', \n",
      "        freq_min  :  1e9 * u.Hz,\n",
      "        freq_max  :  1.7e9 * u.Hz,\n",
      "        Tobs      : 6 * u.hours,\n",
      "        Nf_max    : 256000,\n",
      "        Bmax      : 200 * u.kilometer,\n",
      "        Fb_mid    : 0, # Check\n",
      "        Texp      : 2000 * u.hours,\n",
      "        Tpoint    : 95,\n",
      "    }\n",
      "    '37b' : {\n",
      "        'telescope' : 'SKA1_Mid',\n",
      "        'mode'      : 'Continuum',\n",
      "        'band'      : '2', \n",
      "        freq_min  :  1e9 * u.Hz,\n",
      "        freq_max  :  1.7e9 * u.Hz,\n",
      "        Tobs      : 6 * u.hours,\n",
      "        Nf_max    : 256000,\n",
      "        Bmax      : 200 * u.kilometer,\n",
      "        Fb_mid    : 0, # Check\n",
      "        Texp      : 2000 * u.hours,\n",
      "        Tpoint    : 2000,\n",
      "    }\n",
      "    '37c' : {\n",
      "        'telescope' : 'SKA1_Mid',\n",
      "        'mode'      : 'Survey',\n",
      "        'band'      : '2A', \n",
      "        freq_min  :  1e9 * u.Hz,\n",
      "        freq_max  :  1.5e9 * u.Hz,\n",
      "        Tobs      : 6 * u.hours,\n",
      "        Nf_max    : 256000,\n",
      "        Bmax      : 50 * u.kilometer,\n",
      "        Fb_mid    : 0, # Check\n",
      "        Texp      : 5300 * u.hours,\n",
      "        Tpoint    : 95,\n",
      "    }\n",
      "    '38a' : {\n",
      "        'telescope' : 'SKA1_Mid',\n",
      "        'mode'      : 'Continuum',\n",
      "        'band'      : '2', \n",
      "        freq_min  :  7e9 * u.Hz,\n",
      "        freq_max  :  11e9 * u.Hz,\n",
      "        Tobs      : 6 * u.hours,\n",
      "        Nf_max    : 256000,\n",
      "        Bmax      : 200 * u.kilometer,\n",
      "        Fb_mid    : 0, # Check\n",
      "        Texp      : 1000 * u.hours,\n",
      "        Tpoint    : 16.4,\n",
      "    }\n",
      "    '38b' : {\n",
      "        'telescope' : 'SKA1_Mid',\n",
      "        'mode'      : 'Continuum',\n",
      "        'band'      : '2', \n",
      "        freq_min  :  7e9 * u.Hz,\n",
      "        freq_max  :  11e9 * u.Hz,\n",
      "        Tobs      : 6 * u.hours,\n",
      "        Nf_max    : 256000,\n",
      "        Bmax      : 200 * u.kilometer,\n",
      "        Fb_mid    : 0, # Check\n",
      "        Texp      : 1000 * u.hours,\n",
      "        Tpoint    : 1000,\n",
      "    }\n",
      "}"
     ],
     "language": "python",
     "metadata": {},
     "outputs": [],
     "prompt_number": 12
    },
    {
     "cell_type": "heading",
     "level": 2,
     "metadata": {},
     "source": [
      "Code to perform evaluations"
     ]
    },
    {
     "cell_type": "code",
     "collapsed": false,
     "input": [
      "telescope_list = ['SKA1_Low', 'SKA1_Mid', 'SKA1_Survey'] \n",
      "imaging_modes = ['Continuum', 'Spectral', 'SlowTrans', 'CS']   # CS = Continuum, followed by spectral\n",
      "\n",
      "bands_mid = {'1', '2', '3', '4', '5A', '5B'}\n",
      "bands_sur = {'1', '2A', '2B', '3A', '3B'}\n",
      "\n",
      "telescope_labels = dict(\n",
      "    zip(\n",
      "        telescope_list,\n",
      "        symbols('Low, Mid, Sur')\n",
      "    )\n",
      ")\n",
      "\n",
      "mode_labels = dict(\n",
      "    zip(\n",
      "        imaging_modes,\n",
      "        symbols('C, S, ST, C+S')\n",
      "    )\n",
      ")\n",
      "\n",
      "def optimize_Tsnap(telescope_params):\n",
      "    for token in ('mode', 'band', 'telescope'):\n",
      "        if token in telescope_params:\n",
      "            telescope_params.pop(token)\n",
      "\n",
      "    rflop_expression = Rflop.subs(telescope_params).subs(telescope_params)\n",
      "    Rflop_eval = lambdify(Tsnap, rflop_expression, modules=(\"sympy\",))\n",
      "    Rflop_eval_f = lambda x: float(Rflop_eval(x))\n",
      "    \n",
      "    # Remove the string literals from the telescope_params, as they can't be evaluated by lambdify\n",
      "    Tdump_val = Tdump.subs(telescope_params).subs(telescope_params).replace(lambda el: hasattr(u, str(el)), lambda el: 1)\n",
      "    Tobs_val = Tobs.subs(telescope_params).subs(telescope_params).replace(lambda el: hasattr(u, str(el)), lambda el: 1)        \n",
      "\n",
      "    result = opt.minimize_scalar(Rflop_eval_f, bounds=(Tdump_val, 0.5 * Tobs_val), method='bounded')\n",
      "    if not result.success:\n",
      "        print 'WARNING! : Was unable to optimize Tsnap. Using a value of: %f' % result.x \n",
      "    else:\n",
      "        print 'Optimized T_snap = %f' % result.x\n",
      "    return result.x\n",
      "\n",
      "def calc_tel(telescope=None, band=None, mode=None, hpso=None, expr=None):\n",
      "    '''\n",
      "    Evaluate an expression for a single telescope\n",
      "    '''\n",
      "    freq_range = {}\n",
      "    hpso_params = None\n",
      "    if hpso is not None:\n",
      "        assert hpso in hpsos\n",
      "        hpso_params = hpsos[hpso]\n",
      "        assert hpso_params is not None\n",
      "        assert 'telescope' in hpso_params\n",
      "        assert 'mode' in hpso_params\n",
      "        assert 'band' in hpso_params\n",
      "        mode = hpso_params['mode']\n",
      "        band = hpso_params['band']\n",
      "        telescope = hpso_params['telescope']\n",
      "    if telescope == 'SKA1_Low':\n",
      "        freq_range = band_info['Low']\n",
      "    elif telescope == 'SKA1_Mid':\n",
      "        if band == '1':\n",
      "            freq_range = band_info['Mid1']\n",
      "        elif band == '2':\n",
      "            freq_range = band_info['Mid2']\n",
      "        elif band == '3':\n",
      "            freq_range = band_info['Mid3']\n",
      "        elif band == '4':\n",
      "            freq_range = band_info['Mid4']\n",
      "        elif band == '5A':\n",
      "            freq_range = band_info['Mid5A']\n",
      "        elif band == '5B':\n",
      "            freq_range = band_info['Mid5B']\n",
      "        else:\n",
      "            raise Exception(\"Unknown band for Mid: %s\" % band)\n",
      "    elif telescope == 'SKA1_Survey':\n",
      "        if band == '1':\n",
      "            freq_range = band_info['Sur1']\n",
      "        elif band == '2A':\n",
      "            freq_range = band_info['Sur2A']\n",
      "        elif band == '2B':\n",
      "            freq_range = band_info['Sur2B']\n",
      "        elif band == '3A':\n",
      "            freq_range = band_info['Sur3A']\n",
      "        elif band == '3B':\n",
      "            freq_range = band_info['Sur3B']\n",
      "        else:\n",
      "            raise Exception(\"Unknown band for Sur: %s\" % band)\n",
      "    else:\n",
      "        raise Exception()\n",
      "        \n",
      "    # Concatenate all relevant dicionaries to make a unified dictionary for this combination\n",
      "    # Subsequently added dictionaries overwrite any duplicate values.\n",
      "    telescope_params = dict(universal, **telescope_info[telescope])  # universal and telescope parameters\n",
      "    telescope_params = dict(telescope_params, **freq_range)  # Overwrite specific frequency range information\n",
      "        \n",
      "    answer = None\n",
      "    if mode == 'CS':\n",
      "        telescope_params = dict(telescope_params, **imaging_mode_info['Continuum'])\n",
      "        if hpso_params is not None:\n",
      "            telescope_params = dict(telescope_params, **hpso_params)\n",
      "            \n",
      "        Tsnap_optimal = optimize_Tsnap(telescope_params)  # Solution to Tsnap has to be bounded \n",
      "        telescope_params[Tsnap] = Tsnap_optimal \n",
      "        answer_C = expr.subs(telescope_params).subs(telescope_params)\n",
      "        telescope_params.pop(Tsnap) # need to clear the value again for other experiments\n",
      "        \n",
      "        telescope_params = dict(telescope_params, **imaging_mode_info['Spectral'])\n",
      "        if hpso_params is not None:\n",
      "            telescope_params = dict(telescope_params, **hpso_params)\n",
      "        Tsnap_optimal = optimize_Tsnap(telescope_params)  # Solution to Tsnap has to be bounded \n",
      "        telescope_params[Tsnap] = Tsnap_optimal \n",
      "        answer_S = expr.subs(telescope_params).subs(telescope_params)\n",
      "        telescope_params.pop(Tsnap) # need to clear the value again for other experiments\n",
      "\n",
      "        answer = {'Continuum' : answer_C, \n",
      "                  'Spectral'  : answer_S}\n",
      "    else:\n",
      "        telescope_params = dict(telescope_params, **imaging_mode_info[mode])\n",
      "        if hpso_params is not None:\n",
      "            telescope_params = dict(telescope_params, **hpso_params)\n",
      "        \n",
      "        Tsnap_optimal = optimize_Tsnap(telescope_params)  # Solution to Tsnap has to be bounded \n",
      "        telescope_params[Tsnap] = Tsnap_optimal\n",
      "        answer = expr.subs(telescope_params).subs(telescope_params)\n",
      "        \n",
      "    return answer\n",
      "\n",
      "def eval_for_telescopes(expr,ev=None):\n",
      "    # Take into account that substitutions in subs are done _after_ evaluating \n",
      "    # the telescope-dependent substitution. If you want to run them before, you'll\n",
      "    # have to do substitute them first\n",
      "    result = {}\n",
      "    for t in telescope_list:\n",
      "        for m in imaging_modes: \n",
      "            telescope_params = dict(dict(telescope_info[t],**imaging_mode_info[m]), **universal)\n",
      "            tm = 'SKA1_%s-%s' % (telescope_labels[t], mode_labels[m])\n",
      "            if ev == None:\n",
      "                result[tm] = expr.subs(telescope_params).subs(telescope_params)\n",
      "            elif type(ev) == type(True):\n",
      "                result[tm] = expr.subs(telescope_params).subs(telescope_params).evalf()\n",
      "            elif type(ev) == type(1) and ev > 0:\n",
      "                result[tm] = expr.subs(telescope_params).subs(telescope_params).evalf(ev)                            \n",
      "    return result"
     ],
     "language": "python",
     "metadata": {},
     "outputs": [],
     "prompt_number": 15
    },
    {
     "cell_type": "heading",
     "level": 1,
     "metadata": {},
     "source": [
      "3. Results:"
     ]
    },
    {
     "cell_type": "heading",
     "level": 2,
     "metadata": {},
     "source": [
      "For a specific telescope & mode:"
     ]
    },
    {
     "cell_type": "code",
     "collapsed": false,
     "input": [
      "result = calc_tel(hpso='13', expr=Rflop)\n",
      "print [float(result['Continuum']), float(result['Spectral'])/1e15]\n",
      "#print [float(result['Continuum'])/1e15, float(result['Spectral'])/1e15]\n",
      "print 'Experiment requires %f PetaFLOPS' % (float(result['Continuum']+result['Spectral'])/1e15)\n",
      "\n",
      "#result = calc_tel('SKA1_Survey', band='2A', mode='Spectral', expr=Rflop)\n",
      "#float(result)\n"
     ],
     "language": "python",
     "metadata": {},
     "outputs": [
      {
       "output_type": "stream",
       "stream": "stdout",
       "text": [
        "CS\n",
        "Optimized T_snap = 359.120920"
       ]
      },
      {
       "output_type": "stream",
       "stream": "stdout",
       "text": [
        "\n",
        "Optimized T_snap = 676.225358"
       ]
      },
      {
       "output_type": "stream",
       "stream": "stdout",
       "text": [
        "\n",
        "[2198582209289645.5, 0.24329934567305292]"
       ]
      },
      {
       "output_type": "stream",
       "stream": "stdout",
       "text": [
        "\n",
        "Experiment requires 2.441882 PetaFLOPS\n"
       ]
      }
     ],
     "prompt_number": 16
    },
    {
     "cell_type": "heading",
     "level": 3,
     "metadata": {},
     "source": [
      "For all telescopes:"
     ]
    },
    {
     "cell_type": "raw",
     "metadata": {},
     "source": [
      "Note: this has not yet been updated to compute all bands explicitly (currently only permutes telescopes and modes)"
     ]
    },
    {
     "cell_type": "raw",
     "metadata": {},
     "source": [
      "eval_for_telescopes(Nf_max)"
     ]
    },
    {
     "cell_type": "heading",
     "level": 2,
     "metadata": {},
     "source": [
      "Computing a symbolic expression for a given variable"
     ]
    },
    {
     "cell_type": "code",
     "collapsed": false,
     "input": [
      "Rflop"
     ],
     "language": "python",
     "metadata": {},
     "outputs": []
    }
   ],
   "metadata": {}
  }
 ]
}