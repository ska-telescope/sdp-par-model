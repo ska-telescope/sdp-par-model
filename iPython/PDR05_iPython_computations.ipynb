{
 "metadata": {
  "name": "",
  "signature": "sha256:dca4892d078c389f1cc7eb9a2c0461830b48cb04c67df4a703314a7cfb314eef"
 },
 "nbformat": 3,
 "nbformat_minor": 0,
 "worksheets": [
  {
   "cells": [
    {
     "cell_type": "markdown",
     "metadata": {},
     "source": [
      "_This notebook is an iPython translation of the M7 PDR05 Excel Spreadsheet, interpreted along the same iPython notebook template as originally done by **Juande Santander-Vela** in his separate analysis of M7 Milestone document PDR05._\n",
      "\n",
      "_This is an interactive document that includes blocks of code that can be used to evaluate equations if **sympy** and **astropy** are available. While overlapping in scope with \"Full Computational Requirements for SDP.ipynb\" and \"Parametric Models of SDP Compute Requirements.ipynb\", the equations in this document have been independently derived and should (where possible) be tested against the source Excel Spreadsheet, as well as the other reference documents._ \n",
      "\n",
      "_Equations may be evaluated for the different telescopes and imaging modes, either numerically or symbolically_ \n",
      "\n",
      "_The owner of this notebook document is **Francois Malan** of Space Advisory Company._"
     ]
    },
    {
     "cell_type": "code",
     "collapsed": true,
     "input": [
      "from sympy import init_session\n",
      "init_session(\n",
      "    use_latex=True,\n",
      "    use_unicode=True,\n",
      "    pretty_print=True,\n",
      "    quiet=True,\n",
      ")\n",
      "\n",
      "import sympy.physics.units as u\n",
      "from astropy import constants as const\n",
      "import numpy as np"
     ],
     "language": "python",
     "metadata": {},
     "outputs": [
      {
       "output_type": "stream",
       "stream": "stdout",
       "text": [
        "IPython console for SymPy 0.7.5 (Python 2.7.7-32-bit) (ground types: python)\n"
       ]
      },
      {
       "output_type": "stream",
       "stream": "stderr",
       "text": [
        "WARNING: Hook shutdown_hook is deprecated. Use the atexit module instead.\n"
       ]
      }
     ],
     "prompt_number": 1
    },
    {
     "cell_type": "heading",
     "level": 1,
     "metadata": {},
     "source": [
      "1. Definitions:"
     ]
    },
    {
     "cell_type": "heading",
     "level": 2,
     "metadata": {},
     "source": [
      "Fixed values"
     ]
    },
    {
     "cell_type": "markdown",
     "metadata": {},
     "source": [
      "|**Symbol**|**Python**|**Description**|\n",
      "|-|-|-|\n",
      "| $c$ | c | Speed of light in a vacuum |\n",
      "| $\\Omega_E$ | Omega_E | Angular rotational velocity of the Earth |\n",
      "| $R_{Earth}$ | R_Earth | Radius of the Earth |"
     ]
    },
    {
     "cell_type": "code",
     "collapsed": false,
     "input": [
      "c = const.c.value * u.m / u.s\n",
      "Omega_E, R_Earth = symbols(\"Omega_E, R_Earth\", positive=True)"
     ],
     "language": "python",
     "metadata": {},
     "outputs": [],
     "prompt_number": 2
    },
    {
     "cell_type": "heading",
     "level": 2,
     "metadata": {},
     "source": [
      "Assumed values"
     ]
    },
    {
     "cell_type": "heading",
     "level": 3,
     "metadata": {},
     "source": [
      "All telescopes"
     ]
    },
    {
     "cell_type": "markdown",
     "metadata": {},
     "source": [
      "*May need global tweaking*"
     ]
    },
    {
     "cell_type": "markdown",
     "metadata": {},
     "source": [
      "|**Symbol**|**Python**|**Value**|**Description**|\n",
      "|-|-|-|-|\n",
      "| $N_{kernel}$ | Nk | 9 | Linear size of the combined $A$ and $W$ kernels (pixels). This size is at the low end of the range 9-15 given by [RD11] in Section 4.4.2 of their paper. |\n",
      "| $N_{mm}$ | Nmm | 4| |\n",
      "| $N_{pp}$ | Npp | 4| Number of polarisation products that are processed |\n",
      "| $T_{ion}$ | T_ion | 60 | Ionospheric timescale |\n",
      "| $\\epsilon_{w}$ | epsilon_w | 0.01 | Amplitude level of w-kernels to include. Value 0.01 is used in [RD6] where it is shown to give kernel sizes in rough agreement with CASA package.|\n",
      "|$M_{vis}$| Mvis | 12 | Size of visibility datum in the buffer |\n",
      "|$W_{curve}$|Wcurve||Minimum deviation of the W coordinate due to Earth\u2019s curvature|\n",
      "|$Q_{bw}$|Qbw|1 |Bandwidth quality factor, determining how well bandwidth smearing can be controlled|\n",
      "|$Q_{w}$|Qw|1 | Quality factor for w-projection correction. Value 1 corresponds to correction of maximal w values.  For comparison [RD7] uses values 0.1\u20140.3 |\n",
      "|$Q_{GCF}$|Qgcf|8|Oversampling factor of w-convolution kernels|\n",
      "|$Q_{fcw}$|Qfcw|10|Number of adjacent frequency channels for which baseline dependent kernels can be reused|\n"
     ]
    },
    {
     "cell_type": "code",
     "collapsed": false,
     "input": [
      "Nk, Nmm, Npp = symbols(\"N_k N_mm N_pp\", integer=True, positive=True)\n",
      "Tion = symbols(\"T_ion\", positive=True)\n",
      "epsilon_w = symbols(\"\\epsilon_w\", positive=True)\n",
      "Mvis = symbols(\"M_vis\", positive=True)\n",
      "Wcurve = symbols(\"W_curve\", positive=True)\n",
      "Qbw, Qw, Qgcf, Qfcv = symbols(\"Q_bw, Q_w, Q_GCF, Q_fcv\", positive=True)"
     ],
     "language": "python",
     "metadata": {},
     "outputs": [],
     "prompt_number": 3
    },
    {
     "cell_type": "heading",
     "level": 3,
     "metadata": {},
     "source": [
      "Spectral vs Continuum vs Fast Imaging (i.e. slow transients)"
     ]
    },
    {
     "cell_type": "markdown",
     "metadata": {},
     "source": [
      "*This is the same for all telescopes and bands*"
     ]
    },
    {
     "cell_type": "markdown",
     "metadata": {},
     "source": [
      "|***Telescope parameters***\n",
      "|-|-|-|-|-|-|\n",
      "| | Symbol | Python | Continuum | Spectral | SlowTrans |\n",
      "| Baseline length that (Fbshort+Fbmid), i.e. 90% of baselines are shorter than | $B_{lim,mid}$ | Blim_mid | $20000$ | n/a | $20000$\n",
      "| Field of view factor | $Q_{FoV}$| Qfov | $1.8$ | $1$ | $0.9$ |\n",
      "| Number of output map channels | $N_{f, out}$ | Nf_out | $500$ | *computed* | *computed*|\n",
      "| Number of channels for gridding at longest baseline | $N_{f, used}$ | Nf_used | *computed* | *computed* | *computed*|\n",
      "| Number of major CLEAN cycles to be done | $N_{major}$ | Nmajor | $10$ | $1$ | $1$ |\n",
      "| Observation length in hours |$T_{obs}$ | ObsLength  | $6$  | $6$  | $0$  |\n",
      "| Quality factor defining the oversampling of synthesised beam | $Q_{pix}$ | Qpix | $2.5$ | $2.5$ | $1.5$\n"
     ]
    },
    {
     "cell_type": "code",
     "collapsed": false,
     "input": [
      "Blim_mid = symbols(\"B_lim\\,mid\", positive=True)\n",
      "Qfov = symbols(\"Q_FoV\", positive=True)\n",
      "Nf_out, Nf_used, Nmajor = symbols(\"N_f\\,out N_f\\,used N_major\", integer=True, positive=True)\n",
      "ObsLength = symbols(\"T_obs\", positive=True)\n",
      "Qpix = symbols(\"Q_pix\", positive=True)"
     ],
     "language": "python",
     "metadata": {},
     "outputs": [],
     "prompt_number": 4
    },
    {
     "cell_type": "heading",
     "level": 3,
     "metadata": {},
     "source": [
      "Per-telescope parameters"
     ]
    },
    {
     "cell_type": "markdown",
     "metadata": {},
     "source": [
      "*Subject to change*"
     ]
    },
    {
     "cell_type": "markdown",
     "metadata": {},
     "source": [
      "|***Telescope parameters***\n",
      "|-|-|-|-|-|-|\n",
      "| | Symbol | Python | SKA1-Low | SKA1-Mid | SKA1-Survey |\n",
      "| Originally specified maximum baseline according to SKAO (km)     | $B_{max,ref}$|Bmax_ref| $100$|$200$|$50$|\n",
      "|Maximum baseline chosen for calculations (km)                     | $B_{max}$|Bmax| $100$|$120$|$50$|\n",
      "| Fraction of baselines short enough for data to be averaged to frequency resolution of output prior to gridding. (Only relevant for continuum modes) | $F_{b,short}$ | Fb_short | $0.5$ | $0.5$ | $0.1$ |\n",
      "| Minimum frequency (of the chosen band) | $f_{min}$ | freq_min | 50 Mhz | depends on band | depends on band |\n",
      "| Maximum frequency (of the chosen band) | $f_{max}$ | freq_max | 350 Mhz | depends on band | depends on band |\n",
      "| Originally specified number of frequency channels from corellator    |$N_{f,max}$||$256000$|$256000$|$256000$|\n",
      "| Number of frequency channels from corellator                   |$N_{f,max}$|Nf_max|$64000$|$96000$|$64000$|\n",
      "| Number of stations/antennas                                    |$N_{a}$|Na|$1024$|$256$|$96$|\n",
      "| Number of beams                                                |$N_{beam}$|Nbeam|$1$|$1$|$36$|\n",
      "| Antenna/Station Diameter (m)                                   |$D_{s}$|Ds|$35$|$15$|$15$|\n",
      "| Correlator dump time appropriate for original maximum baseline (s)                                     |$T_{dump,ref}$|Tdump_ref|$0.6$|$0.08$|$0.3$|"
     ]
    },
    {
     "cell_type": "code",
     "collapsed": false,
     "input": [
      "Bmax_ref, Bmax = symbols(\"B_max\\,ref B_max\", positive=True)\n",
      "Fb_short, Fb_short_tel = symbols(\"F_b\\,short F_b\\,short\\,tel\")\n",
      "freq_min, freq_max = symbols(\"f_min f_max\")\n",
      "Nf_max, Nf_used = symbols(\"N_{f\\,max} N_{f\\,used}\")\n",
      "Na, Nbeam = symbols(\"N_a N_beam\", integer=True, positive=True)\n",
      "Ds, Tdump_ref = symbols(\"D_s T_dump\\,ref\", positive=True)\n",
      "wl, wl_max, wl_min, wl_sub_max, wl_sub_min = symbols(\"\\lambda \\lambda_max \\lambda_max \\lambda_{sub\\,max} \\lambda_{sub\\,min}\", positive=True)\n"
     ],
     "language": "python",
     "metadata": {},
     "outputs": [],
     "prompt_number": 5
    },
    {
     "cell_type": "heading",
     "level": 2,
     "metadata": {},
     "source": [
      "Derived parameters"
     ]
    },
    {
     "cell_type": "code",
     "collapsed": false,
     "input": [
      "# Orphaned variables (may be needed later on)\n",
      "Tsnap, Tsnap_min = symbols(\"T_snap T_{snap\\,min}\", positive=True)  # Snapshot timescale implemented\n",
      "Tdump = symbols(\"T_dump\", positive=True)  # Correlator dump time (s)\n",
      "fov_angle = symbols(r\"\\theta_{FoV}\", positive=True)\n",
      "psf_angle= symbols(r\"\\theta_{PSF}\", positive=True)\n",
      "pix_angle  = symbols(r\"\\theta_{pix}\", positive=True)\n",
      "Npix, Nminor = symbols(\"N_pix N_minor\", integer=True, positive=True)\n",
      "NAA, NGW = symbols(\"N_AA N_GW\", positive=True)\n"
     ],
     "language": "python",
     "metadata": {},
     "outputs": [],
     "prompt_number": 6
    },
    {
     "cell_type": "heading",
     "level": 1,
     "metadata": {},
     "source": [
      "2. Implementation:"
     ]
    },
    {
     "cell_type": "heading",
     "level": 2,
     "metadata": {},
     "source": [
      "Definitions & Methods for performing calculations"
     ]
    },
    {
     "cell_type": "code",
     "collapsed": false,
     "input": [
      "telescope_list = ['SKA1_Low', 'SKA1_Mid', 'SKA1_Survey'] \n",
      "imaging_modes = ['Continuum', 'Spectral', 'SlowTrans']\n",
      "\n",
      "channels_mid = {'1', '2', '3', '4', '5A', '5B'}\n",
      "channels_sur = {'1', '2A', '2B', '3A', '3B'}\n",
      "\n",
      "telescope_labels = dict(\n",
      "    zip(\n",
      "        telescope_list,\n",
      "        symbols('Low, Mid, Sur')\n",
      "    )\n",
      ")\n",
      "\n",
      "mode_labels = dict(\n",
      "    zip(\n",
      "        imaging_modes,\n",
      "        symbols('Continuum, Spectral, SlowTrans')\n",
      "    )\n",
      ")\n",
      "\n",
      "universal = {Omega_E : 7.2921e-5,\n",
      "             R_Earth : 6.371e6,\n",
      "             Nk   : 9,\n",
      "             Npp  : 4,\n",
      "             Nmm  : 4,\n",
      "             Tion : 60.0,\n",
      "             epsilon_w : 0.01,\n",
      "             Mvis : 12.0,\n",
      "             Qbw  : 1.0,\n",
      "             Qw   : 1.0,\n",
      "             Qgcf : 8.0,\n",
      "             Qfcv : 10.0,\n",
      "             Blim_mid : 20000}  # Baseline length that(Fbshort+Fbmid, i.e. 90%) of baselines are shorter than\n",
      "\n",
      "telescope_info = {\n",
      "    'SKA1_Low': {\n",
      "        Tdump_ref: 0.6* u.s, # Correlator dump time in reference design\n",
      "        Na: 1024,            # number of antennas\n",
      "        Nf_max: 64000,           # number of channels\n",
      "        Nbeam: 1,            # number of beams\n",
      "        Ds: 35 * u.m,        # station \"diameter\" in meters\n",
      "        Bmax: 66 * u.km,      # kilometers of max baseline\n",
      "        Bmax_ref: 100 * u.km, # kilometers of max baseline in reference design\n",
      "        Fb_short_tel : 0.5,   # Fraction of baselines short enough for data to be averaged to frequency\n",
      "                              # resolution of output prior to gridding. Only relevant for continuum modes\n",
      "    },\n",
      "    'SKA1_Mid': {  # Assuming band 1, for the moment. TODO: allow all bands to be computed.\n",
      "        Tdump_ref: 0.08 * u.s, # Correlator dump time in reference design\n",
      "        Na: 190+64,            # number of antennas\n",
      "        Nf_max: 96000,             # number of channels\n",
      "        Nbeam: 1,          # number of beams\n",
      "        Ds: 15 * u.m,      # station \"diameter\" in meters\n",
      "        Bmax: 141 * u.km,     # kilometers of max baseline\n",
      "        Bmax_ref: 200 * u.km, # kilometers of max baseline in reference design\n",
      "        Fb_short_tel : 0.5, # Fraction of baselines short enough for data to be averaged to frequency\n",
      "                            # resolution of output prior to gridding. Only relevant for continuum modes\n",
      "    },\n",
      "    'SKA1_Survey': { # Assuming band 1, for the moment. TODO: allow all bands to be computed.\n",
      "        Tdump_ref: 0.3 * u.s, # Correlator dump time in reference design\n",
      "        Na: 96,               # number of antennas\n",
      "        Nf_max: 64000,            # number of channels\n",
      "        Nbeam: 36,            # number of beams (36 because this is a PAF)\n",
      "        Ds: 15 * u.m,         # station \"diameter\" in meters\n",
      "        Bmax: 50 * u.km,     # kilometers of max baseline\n",
      "        Bmax_ref: 50 * u.km, # kilometers of max baseline in reference design\n",
      "        Fb_short_tel : 0.1,  # Fraction of baselines short enough for data to be averaged to frequency\n",
      "                             # resolution of output prior to gridding. Only relevant for continuum modes\n",
      "    },\n",
      "}\n",
      "\n",
      "channel_info = {\n",
      "    'Low' : {\n",
      "        freq_min :  50e6 * u.Hz,\n",
      "        freq_max : 350e6 * u.Hz,\n",
      "    },\n",
      "    'Mid1' : {\n",
      "        freq_min :  350e6 * u.Hz,\n",
      "        freq_max : 1.05e9 * u.Hz,\n",
      "    },\n",
      "    'Mid2' : {\n",
      "        freq_min : 949.367e6 * u.Hz,\n",
      "        freq_max : 1.7647e9 * u.Hz,\n",
      "    },\n",
      "    'Mid3' : {\n",
      "        freq_min : 1.65e9 * u.Hz,\n",
      "        freq_max : 3.05e9 * u.Hz,\n",
      "    },\n",
      "    'Mid4' : {\n",
      "        freq_min : 2.80e9 * u.Hz,\n",
      "        freq_max : 5.18e9 * u.Hz,\n",
      "    },\n",
      "    'Mid5A' : {\n",
      "        freq_min : 4.60e9 * u.Hz,\n",
      "        freq_max : 7.10e9 * u.Hz,\n",
      "    },\n",
      "    'Mid5B' : {\n",
      "        freq_min : 11.3e9 * u.Hz,\n",
      "        freq_max : 13.8e9 * u.Hz,\n",
      "    },\n",
      "    'Sur1' : {\n",
      "        freq_min : 350e6 * u.Hz,\n",
      "        freq_max : 850e6 * u.Hz,\n",
      "    },\n",
      "    'Sur2A' : {\n",
      "        freq_min :  650e6 * u.Hz,\n",
      "        freq_max : 1.35e9 * u.Hz,\n",
      "    },\n",
      "    'Sur2B' : {\n",
      "        freq_min : 1.17e9 * u.Hz,\n",
      "        freq_max : 1.67e9 * u.Hz,\n",
      "    },\n",
      "    'Sur3A' : {\n",
      "        freq_min : 1.5e9 * u.Hz,\n",
      "        freq_max : 2.0e9 * u.Hz,\n",
      "    },\n",
      "    'Sur3B' : {\n",
      "        freq_min : 3.5e9 * u.Hz,\n",
      "        freq_max : 4.0e9 * u.Hz,\n",
      "    },\n",
      "}\n",
      "\n",
      "imaging_mode_info = {\n",
      "    'Continuum': {\n",
      "        Qfov:  1.8, # Field of view factor\n",
      "        Nmajor: 10, # Number of major CLEAN cycles to be done\n",
      "        Qpix:  2.5, # Quality factor of synthesised beam oversampling\n",
      "        Nf_out : 500,\n",
      "        Nf_used : log(wl_max), # LN(N15/O15)/LN((S15/(R15*AV15)+1)), #Need to be computed separately\n",
      "        Fb_short : Fb_short_tel,\n",
      "        ObsLength : 6 * u.hours,\n",
      "    },\n",
      "    'Spectral': {\n",
      "        Qfov: 1.0, # Field of view factor\n",
      "        Nmajor: 1, # Number of major CLEAN cycles to be done        \n",
      "        Qpix: 2.5, # Quality factor of synthesised beam oversampling\n",
      "        Nf_out : Nf_max, #The same as the number of channels\n",
      "        Nf_used : Nf_max,\n",
      "        Fb_short : 0*Fb_short_tel,\n",
      "        ObsLength : 6 * u.hours,\n",
      "    },\n",
      "    'SlowTrans': {\n",
      "        Qfov: 0.9, # Field of view factor\n",
      "        Nmajor: 1, # Number of major CLEAN cycles to be done\n",
      "        Qpix: 1.5, # Quality factor of synthesised beam oversampling\n",
      "        Nf_out : ((u.c/wl_min)-(u.c/wl_max)) / 1.0e6,  # According to PDR05's spreadsheet\n",
      "        Nf_used : -1, #Need to be computed separately\n",
      "        Fb_short : Fb_short_tel,\n",
      "        ObsLength : 0 * u.hours,\n",
      "    },\n",
      "}\n",
      "\n",
      "def calc_tel(telescope=None, channel=None, mode=None, expr=None):\n",
      "    '''\n",
      "    Evaluate an expression for a single telescope\n",
      "    '''\n",
      "    freq_range = {}\n",
      "    if telescope == 'SKA1_Low':\n",
      "        freq_range = channel_info['Low']\n",
      "    elif telescope == 'SKA1_Mid':\n",
      "        if channel == '1':\n",
      "            freq_range = channel_info['Mid1']\n",
      "        elif channel == '2':\n",
      "            freq_range = channel_info['Mid2']\n",
      "        elif channel == '3':\n",
      "            freq_range = channel_info['Mid3']\n",
      "        elif channel == '4':\n",
      "            freq_range = channel_info['Mid4']\n",
      "        elif channel == '5A':\n",
      "            freq_range = channel_info['Mid5A']\n",
      "        elif channel == '5B':\n",
      "            freq_range = channel_info['Mid5B']\n",
      "        else:\n",
      "            raise Exception(\"Unknown Channel for Mid: %s\" % channel)\n",
      "    elif telescope == 'SKA1_Sur':\n",
      "        if channel == '1':\n",
      "            freq_range = channel_info['Sur1']\n",
      "        elif channel == '2A':\n",
      "            freq_range = channel_info['Sur2A']\n",
      "        elif channel == '2B':\n",
      "            freq_range = channel_info['Sur2B']\n",
      "        elif channel == '3A':\n",
      "            freq_range = channel_info['Sur3A']\n",
      "        elif channel == '3B':\n",
      "            freq_range = channel_info['Sur3B']\n",
      "        else:\n",
      "            raise Exception(\"Unknown Channel for Sur: %s\" % channel)\n",
      "    else:\n",
      "        raise Exception()\n",
      "        \n",
      "    # Concatenate all relevant dicionaries to make a unified dictionary for this combination\n",
      "    telescope_params = dict(dict(dict(telescope_info[telescope], **freq_range),**imaging_mode_info[mode]), **universal)\n",
      "\n",
      "    # Shortcut for computing an expression for one mode of one telescope\n",
      "    return dict(\n",
      "        [('SKA1_%s-%s' % (telescope_labels[telescope], mode_labels[mode]), expr.subs(telescope_params).subs(telescope_params))]\n",
      "    )\n",
      "\n",
      "def eval_for_telescopes(expr,ev=None):\n",
      "    # Take into account that substitutions in subs are done _after_ evaluating \n",
      "    # the telescope-dependent substitution. If you want to run them before, you'll\n",
      "    # have to do substitute them first\n",
      "    result = {}\n",
      "    for t in telescope_list:\n",
      "        for m in imaging_modes: \n",
      "            telescope_params = dict(dict(telescope_info[t],**imaging_mode_info[m]), **universal)\n",
      "            tm = 'SKA1_%s-%s' % (telescope_labels[t], mode_labels[m])\n",
      "            if ev == None:\n",
      "                result[tm] = expr.subs(telescope_params).subs(telescope_params)\n",
      "            elif type(ev) == type(True):\n",
      "                result[tm] = expr.subs(telescope_params).subs(telescope_params).evalf()\n",
      "            elif type(ev) == type(1) and ev > 0:\n",
      "                result[tm] = expr.subs(telescope_params).subs(telescope_params).evalf(ev)                            \n",
      "    return result"
     ],
     "language": "python",
     "metadata": {},
     "outputs": [],
     "prompt_number": 11
    },
    {
     "cell_type": "heading",
     "level": 2,
     "metadata": {},
     "source": [
      "Computations:"
     ]
    },
    {
     "cell_type": "code",
     "collapsed": false,
     "input": [
      "Tdump = Tdump_ref * Bmax_ref / Bmax # Correlator dump time\n",
      "wl_max = u.c / freq_min             # Maximum Wavelength\n",
      "wl_min = u.c / freq_max             # Minimum Wavelength\n",
      "wl = 0.5*(wl_max + wl_min)          # Representative Wavelength\n",
      "Theta_fov = 7.66 * wl * Qfov / (pi * Ds)\n",
      "Theta_beam = 3 * wl/(2*Bmax)\n",
      "Theta_pix = Theta_beam/(2*Qpix)\n",
      "Npix = Theta_fov / Theta_pix\n",
      "Rfft = 10 * Npix**2 * log(Npix,2) / Tsnap\n",
      "Deltaw_max = 1  #temporary\n",
      "#Deltaw_max = max(Bmax*Qw*Tsnap*Omega_E/(2*wl), Bmax**2/(8*R_Earth*wl))\n",
      "Ngw = 2*Theta_fov * sqrt((Deltaw_max**2 * Theta_fov**2/4.0)+(Deltaw_max**1.5*Deltaw_max/(epsilon_w*2*pi)))\n",
      "Ncvff = Qgcf*sqrt(Nk**2+Ngw**2)\n",
      "Rccf = 5 *(Na-1)*Na*Nmm*Ncvff**2 * log(Ncvff,2)/(Tion*Qfcv)\n",
      "if Nf_used == -1:  # iff not Spectral mode\n",
      "    Nf_used = ln(wl_max/wl_min) / ln((Theta_beam/(Theta_fov*Qbw)+1))\n",
      "\n",
      "Fb_mid=1-0.1-Fb_short\n",
      "Nf_vis=(Nf_out*Fb_short)+(Nf_used*(1-Fb_short-Fb_mid))+(Blim_mid*Fb_short)\n",
      "Cr=Nf_used/Nf_vis\n",
      "Nvis = Na*(Na-1)*Nf_used/(2*Tdump)/Cr\n",
      "Rgrid = 8*Nmm*Nvis*(Ngw**2+Nk**2)\n",
      "Rflop = 2 * Nmajor*Nbeam*Npp*((Nf_out*(Rfft + Rgrid)+(Nf_used*Rccf)+Rgrid))"
     ],
     "language": "python",
     "metadata": {},
     "outputs": [],
     "prompt_number": 19
    },
    {
     "cell_type": "code",
     "collapsed": false,
     "input": [
      "antwoord = calc_tel('SKA1_Mid', channel='1', mode='Continuum', expr=Tdump)\n",
      "#antwoord = eval_for_telescopes(wl_max)\n",
      "antwoord"
     ],
     "language": "python",
     "metadata": {},
     "outputs": [
      {
       "metadata": {},
       "output_type": "pyout",
       "prompt_number": 20,
       "text": [
        "{'SKA1_Mid-Continuum': 0.113475177304965*s}"
       ]
      }
     ],
     "prompt_number": 20
    },
    {
     "cell_type": "code",
     "collapsed": true,
     "input": [
      "?? lambdify"
     ],
     "language": "python",
     "metadata": {},
     "outputs": [],
     "prompt_number": 12
    },
    {
     "cell_type": "code",
     "collapsed": false,
     "input": [
      "#Tdump = Tdump_ref*Bmax_ref/Bmax\n",
      "Tdump"
     ],
     "language": "python",
     "metadata": {},
     "outputs": [
      {
       "latex": [
        "$$\\frac{B_{max,ref} T_{dump,ref}}{B_{max}}$$"
       ],
       "metadata": {},
       "output_type": "pyout",
       "png": "[encoded data removed]",
       "prompt_number": 21,
       "text": [
        "B_max,ref\u22c5T_dump,ref\n",
        "\u2500\u2500\u2500\u2500\u2500\u2500\u2500\u2500\u2500\u2500\u2500\u2500\u2500\u2500\u2500\u2500\u2500\u2500\u2500\u2500\n",
        "       B_max        "
       ]
      }
     ],
     "prompt_number": 21
    },
    {
     "cell_type": "code",
     "collapsed": false,
     "input": [
      "Nf_max"
     ],
     "language": "python",
     "metadata": {},
     "outputs": [
      {
       "latex": [
        "$$N_{{f,max}}$$"
       ],
       "metadata": {},
       "output_type": "pyout",
       "png": "[encoded data removed]",
       "prompt_number": 20,
       "text": [
        "N_{f,max}"
       ]
      }
     ],
     "prompt_number": 20
    },
    {
     "cell_type": "code",
     "collapsed": false,
     "input": [
      "antwoord = eval_for_telescopes(Nf_max)\n",
      "antwoord"
     ],
     "language": "python",
     "metadata": {},
     "outputs": [
      {
       "ename": "NameError",
       "evalue": "name 'Nf_max' is not defined",
       "output_type": "pyerr",
       "traceback": [
        "\u001b[1;31m---------------------------------------------------------------------------\u001b[0m\n\u001b[1;31mNameError\u001b[0m                                 Traceback (most recent call last)",
        "\u001b[1;32m<ipython-input-18-b952c55ccb3c>\u001b[0m in \u001b[0;36m<module>\u001b[1;34m()\u001b[0m\n\u001b[1;32m----> 1\u001b[1;33m \u001b[0mantwoord\u001b[0m \u001b[1;33m=\u001b[0m \u001b[0meval_for_telescopes\u001b[0m\u001b[1;33m(\u001b[0m\u001b[0mNf_max\u001b[0m\u001b[1;33m)\u001b[0m\u001b[1;33m\u001b[0m\u001b[0m\n\u001b[0m\u001b[0;32m      2\u001b[0m \u001b[0mantwoord\u001b[0m\u001b[1;33m\u001b[0m\u001b[0m\n",
        "\u001b[1;31mNameError\u001b[0m: name 'Nf_max' is not defined"
       ]
      }
     ],
     "prompt_number": 18
    },
    {
     "cell_type": "heading",
     "level": 3,
     "metadata": {},
     "source": [
      "More computations"
     ]
    },
    {
     "cell_type": "code",
     "collapsed": false,
     "input": [
      "# Tdump = calc_tel('SKA1Low','Continuum', Tdump_ref*Bmax_ref/Bmax)"
     ],
     "language": "python",
     "metadata": {},
     "outputs": []
    },
    {
     "cell_type": "heading",
     "level": 2,
     "metadata": {},
     "source": [
      "Computations for specific telescopes:"
     ]
    },
    {
     "cell_type": "heading",
     "level": 1,
     "metadata": {},
     "source": [
      "3. Results:"
     ]
    },
    {
     "cell_type": "heading",
     "level": 2,
     "metadata": {},
     "source": [
      "Evaluating the FLOP count analytically"
     ]
    },
    {
     "cell_type": "code",
     "collapsed": false,
     "input": [
      "Rflop"
     ],
     "language": "python",
     "metadata": {},
     "outputs": [
      {
       "latex": [
        "$$2 N_{beam} N_{major} N_{pp} \\left(\\frac{N_{a} N_{mm} N_{{f,used}} Q_{GCF}^{2}}{Q_{fcv} T_{ion} \\log{\\left (2 \\right )}} \\left(5 N_{a} - 5\\right) \\left(N_{k}^{2} + \\frac{234.7024 Q_{FoV}^{2} \\lambda^{2}}{\\pi^{2} D_{s}^{2}} \\left(\\frac{0.5}{\\pi \\epsilon_{w}} + \\frac{14.6689 Q_{FoV}^{2} \\lambda^{2}}{\\pi^{2} D_{s}^{2}}\\right)\\right) \\log{\\left (Q_{GCF} \\sqrt{N_{k}^{2} + \\frac{234.7024 Q_{FoV}^{2} \\lambda^{2}}{\\pi^{2} D_{s}^{2}} \\left(\\frac{0.5}{\\pi \\epsilon_{w}} + \\frac{14.6689 Q_{FoV}^{2} \\lambda^{2}}{\\pi^{2} D_{s}^{2}}\\right)} \\right )} + \\frac{4 N_{a}}{T_{dump}} N_{mm} \\left(N_{a} - 1\\right) \\left(N_{k}^{2} + \\frac{234.7024 Q_{FoV}^{2} \\lambda^{2}}{\\pi^{2} D_{s}^{2}} \\left(\\frac{0.5}{\\pi \\epsilon_{w}} + \\frac{14.6689 Q_{FoV}^{2} \\lambda^{2}}{\\pi^{2} D_{s}^{2}}\\right)\\right) \\left(Blim_{mid} Fb_{short} + Fb_{short} N_{{f,out}} + 0.1 N_{{f,used}}\\right) + N_{{f,out}} \\left(\\frac{1043.12177777778 B_{max}^{2} Q_{FoV}^{2} Q_{pix}^{2} \\log{\\left (\\frac{10.2133333333333 B_{max} Q_{FoV} Q_{pix}}{\\pi D_{s}} \\right )}}{\\pi^{2} D_{s}^{2} T_{snap} \\log{\\left (2 \\right )}} + \\frac{4 N_{a}}{T_{dump}} N_{mm} \\left(N_{a} - 1\\right) \\left(N_{k}^{2} + \\frac{234.7024 Q_{FoV}^{2} \\lambda^{2}}{\\pi^{2} D_{s}^{2}} \\left(\\frac{0.5}{\\pi \\epsilon_{w}} + \\frac{14.6689 Q_{FoV}^{2} \\lambda^{2}}{\\pi^{2} D_{s}^{2}}\\right)\\right) \\left(Blim_{mid} Fb_{short} + Fb_{short} N_{{f,out}} + 0.1 N_{{f,used}}\\right)\\right)\\right)$$"
       ],
       "metadata": {},
       "output_type": "pyout",
       "png": "[encoded data removed]",
       "prompt_number": 12,
       "text": [
        "                      \u239b                                                       \n",
        "                      \u239c                                     \u239b                 \n",
        "                      \u239c                                     \u239c                 \n",
        "                      \u239c                                     \u239c       234.7024\u22c5Q\n",
        "                      \u239c                                     \u239c                 \n",
        "                      \u239c                        2            \u239c   2             \n",
        "                      \u239cN\u2090\u22c5N_mm\u22c5N_{f,used}\u22c5Q_GCF \u22c5(5\u22c5N\u2090 - 5)\u22c5\u239cN_k  + \u2500\u2500\u2500\u2500\u2500\u2500\u2500\u2500\u2500\u2500\n",
        "                      \u239c                                     \u239c                 \n",
        "                      \u239c                                     \u239d                 \n",
        "                      \u239c                                                       \n",
        "2\u22c5N_beam\u22c5N_major\u22c5N_pp\u22c5\u239c\u2500\u2500\u2500\u2500\u2500\u2500\u2500\u2500\u2500\u2500\u2500\u2500\u2500\u2500\u2500\u2500\u2500\u2500\u2500\u2500\u2500\u2500\u2500\u2500\u2500\u2500\u2500\u2500\u2500\u2500\u2500\u2500\u2500\u2500\u2500\u2500\u2500\u2500\u2500\u2500\u2500\u2500\u2500\u2500\u2500\u2500\u2500\u2500\u2500\u2500\u2500\u2500\u2500\u2500\u2500\n",
        "                      \u239c                                                       \n",
        "                      \u239d                                                       \n",
        "\n",
        "                                                            \u239b               __\n",
        "               \u239b                            2        2\u239e\u239e    \u239c              \u2571  \n",
        "    2        2 \u239c    0.5        14.6689\u22c5Q_FoV \u22c5\\lambda \u239f\u239f    \u239c             \u2571   \n",
        "_FoV \u22c5\\lambda \u22c5\u239c\u2500\u2500\u2500\u2500\u2500\u2500\u2500\u2500\u2500\u2500\u2500\u2500 + \u2500\u2500\u2500\u2500\u2500\u2500\u2500\u2500\u2500\u2500\u2500\u2500\u2500\u2500\u2500\u2500\u2500\u2500\u2500\u2500\u2500\u2500\u2500\u239f\u239f    \u239c            \u2571    \n",
        "               \u239c\u03c0\u22c5\\epsilon_w            2    2        \u239f\u239f    \u239c           \u2571     \n",
        "               \u239d                       \u03c0 \u22c5D_s         \u23a0\u239f    \u239c          \u2571      \n",
        "\u2500\u2500\u2500\u2500\u2500\u2500\u2500\u2500\u2500\u2500\u2500\u2500\u2500\u2500\u2500\u2500\u2500\u2500\u2500\u2500\u2500\u2500\u2500\u2500\u2500\u2500\u2500\u2500\u2500\u2500\u2500\u2500\u2500\u2500\u2500\u2500\u2500\u2500\u2500\u2500\u2500\u2500\u2500\u2500\u2500\u2500\u2500\u2500\u2500\u2500\u2500\u2500\u2500\u2500\u2500\u239f\u22c5   \u239cQ_GCF\u22c5   \u2571      N\n",
        "                    2    2                             \u239f    \u239c        \u2571        \n",
        "                   \u03c0 \u22c5D_s                              \u23a0    \u239d      \u2572\u2571         \n",
        "                                                         log                  \n",
        "\u2500\u2500\u2500\u2500\u2500\u2500\u2500\u2500\u2500\u2500\u2500\u2500\u2500\u2500\u2500\u2500\u2500\u2500\u2500\u2500\u2500\u2500\u2500\u2500\u2500\u2500\u2500\u2500\u2500\u2500\u2500\u2500\u2500\u2500\u2500\u2500\u2500\u2500\u2500\u2500\u2500\u2500\u2500\u2500\u2500\u2500\u2500\u2500\u2500\u2500\u2500\u2500\u2500\u2500\u2500\u2500\u2500\u2500\u2500\u2500\u2500\u2500\u2500\u2500\u2500\u2500\u2500\u2500\u2500\u2500\u2500\u2500\u2500\u2500\u2500\u2500\u2500\u2500\n",
        "                                       Q_fcv\u22c5T_ion\u22c5log(2)                     \n",
        "                                                                              \n",
        "\n",
        "________________________________________________________________________\u239e     \n",
        "                               \u239b                            2        2\u239e \u239f     \n",
        "                    2        2 \u239c    0.5        14.6689\u22c5Q_FoV \u22c5\\lambda \u239f \u239f     \n",
        "      234.7024\u22c5Q_FoV \u22c5\\lambda \u22c5\u239c\u2500\u2500\u2500\u2500\u2500\u2500\u2500\u2500\u2500\u2500\u2500\u2500 + \u2500\u2500\u2500\u2500\u2500\u2500\u2500\u2500\u2500\u2500\u2500\u2500\u2500\u2500\u2500\u2500\u2500\u2500\u2500\u2500\u2500\u2500\u2500\u239f \u239f     \n",
        "                               \u239c\u03c0\u22c5\\epsilon_w            2    2        \u239f \u239f     \n",
        "  2                            \u239d                       \u03c0 \u22c5D_s         \u23a0 \u239f     \n",
        "_k  + \u2500\u2500\u2500\u2500\u2500\u2500\u2500\u2500\u2500\u2500\u2500\u2500\u2500\u2500\u2500\u2500\u2500\u2500\u2500\u2500\u2500\u2500\u2500\u2500\u2500\u2500\u2500\u2500\u2500\u2500\u2500\u2500\u2500\u2500\u2500\u2500\u2500\u2500\u2500\u2500\u2500\u2500\u2500\u2500\u2500\u2500\u2500\u2500\u2500\u2500\u2500\u2500\u2500\u2500\u2500\u2500\u2500\u2500\u2500\u2500\u2500\u2500\u2500\u2500\u2500 \u239f     \n",
        "                                    2    2                              \u239f   4\u22c5\n",
        "                                   \u03c0 \u22c5D_s                               \u23a0     \n",
        "                                                                              \n",
        "\u2500\u2500\u2500\u2500\u2500\u2500\u2500\u2500\u2500\u2500\u2500\u2500\u2500\u2500\u2500\u2500\u2500\u2500\u2500\u2500\u2500\u2500\u2500\u2500\u2500\u2500\u2500\u2500\u2500\u2500\u2500\u2500\u2500\u2500\u2500\u2500\u2500\u2500\u2500\u2500\u2500\u2500\u2500\u2500\u2500\u2500\u2500\u2500\u2500\u2500\u2500\u2500\u2500\u2500\u2500\u2500\u2500\u2500\u2500\u2500\u2500\u2500\u2500\u2500\u2500\u2500\u2500\u2500\u2500\u2500\u2500\u2500\u2500 + \u2500\u2500\n",
        "                                                                              \n",
        "                                                                              \n",
        "\n",
        "                                                                              \n",
        "                                                                              \n",
        "                 \u239b                                \u239b                           \n",
        "                 \u239c                     2        2 \u239c    0.5        14.6689\u22c5Q_Fo\n",
        "                 \u239c       234.7024\u22c5Q_FoV \u22c5\\lambda \u22c5\u239c\u2500\u2500\u2500\u2500\u2500\u2500\u2500\u2500\u2500\u2500\u2500\u2500 + \u2500\u2500\u2500\u2500\u2500\u2500\u2500\u2500\u2500\u2500\u2500\u2500\n",
        "                 \u239c                                \u239c\u03c0\u22c5\\epsilon_w            2  \n",
        "                 \u239c   2                            \u239d                       \u03c0 \u22c5D\n",
        "N\u2090\u22c5N_mm\u22c5(N\u2090 - 1)\u22c5\u239cN_k  + \u2500\u2500\u2500\u2500\u2500\u2500\u2500\u2500\u2500\u2500\u2500\u2500\u2500\u2500\u2500\u2500\u2500\u2500\u2500\u2500\u2500\u2500\u2500\u2500\u2500\u2500\u2500\u2500\u2500\u2500\u2500\u2500\u2500\u2500\u2500\u2500\u2500\u2500\u2500\u2500\u2500\u2500\u2500\u2500\u2500\u2500\u2500\u2500\u2500\u2500\u2500\u2500\u2500\n",
        "                 \u239c                                     2    2                 \n",
        "                 \u239d                                    \u03c0 \u22c5D_s                  \n",
        "\u2500\u2500\u2500\u2500\u2500\u2500\u2500\u2500\u2500\u2500\u2500\u2500\u2500\u2500\u2500\u2500\u2500\u2500\u2500\u2500\u2500\u2500\u2500\u2500\u2500\u2500\u2500\u2500\u2500\u2500\u2500\u2500\u2500\u2500\u2500\u2500\u2500\u2500\u2500\u2500\u2500\u2500\u2500\u2500\u2500\u2500\u2500\u2500\u2500\u2500\u2500\u2500\u2500\u2500\u2500\u2500\u2500\u2500\u2500\u2500\u2500\u2500\u2500\u2500\u2500\u2500\u2500\u2500\u2500\u2500\u2500\u2500\u2500\u2500\u2500\u2500\u2500\u2500\n",
        "                                                                       T_dump \n",
        "                                                                              \n",
        "\n",
        "                                                                              \n",
        "                                                                              \n",
        " 2        2\u239e\u239e                                                                 \n",
        "V \u22c5\\lambda \u239f\u239f                                                                 \n",
        "\u2500\u2500\u2500\u2500\u2500\u2500\u2500\u2500\u2500\u2500\u2500\u239f\u239f                                                                 \n",
        "  2        \u239f\u239f                                                                 \n",
        "_s         \u23a0\u239f                                                                 \n",
        "\u2500\u2500\u2500\u2500\u2500\u2500\u2500\u2500\u2500\u2500\u2500\u2500\u239f\u22c5(Blim_mid\u22c5Fb_short + Fb_short\u22c5N_{f,out} + 0.1\u22c5N_{f,used})       \n",
        "            \u239f                                                                 \n",
        "            \u23a0                                                                 \n",
        "\u2500\u2500\u2500\u2500\u2500\u2500\u2500\u2500\u2500\u2500\u2500\u2500\u2500\u2500\u2500\u2500\u2500\u2500\u2500\u2500\u2500\u2500\u2500\u2500\u2500\u2500\u2500\u2500\u2500\u2500\u2500\u2500\u2500\u2500\u2500\u2500\u2500\u2500\u2500\u2500\u2500\u2500\u2500\u2500\u2500\u2500\u2500\u2500\u2500\u2500\u2500\u2500\u2500\u2500\u2500\u2500\u2500\u2500\u2500\u2500\u2500\u2500\u2500\u2500\u2500\u2500\u2500\u2500\u2500\u2500\u2500 + N_{f\n",
        "                                                                              \n",
        "                                                                              \n",
        "\n",
        "                                                                              \n",
        "                                                                              \n",
        "      \u239b                                                                       \n",
        "      \u239c                                                                       \n",
        "      \u239c                                                                       \n",
        "      \u239c                                                                       \n",
        "      \u239c                                                                       \n",
        "      \u239c                      2      2      2    \u239b10.2133333333333\u22c5B_max\u22c5Q_FoV\u22c5\n",
        "      \u239c1043.12177777778\u22c5B_max \u22c5Q_FoV \u22c5Q_pix \u22c5log\u239c\u2500\u2500\u2500\u2500\u2500\u2500\u2500\u2500\u2500\u2500\u2500\u2500\u2500\u2500\u2500\u2500\u2500\u2500\u2500\u2500\u2500\u2500\u2500\u2500\u2500\u2500\u2500\u2500\u2500\n",
        "      \u239c                                         \u239d              \u03c0\u22c5D_s          \n",
        ",out}\u22c5\u239c\u2500\u2500\u2500\u2500\u2500\u2500\u2500\u2500\u2500\u2500\u2500\u2500\u2500\u2500\u2500\u2500\u2500\u2500\u2500\u2500\u2500\u2500\u2500\u2500\u2500\u2500\u2500\u2500\u2500\u2500\u2500\u2500\u2500\u2500\u2500\u2500\u2500\u2500\u2500\u2500\u2500\u2500\u2500\u2500\u2500\u2500\u2500\u2500\u2500\u2500\u2500\u2500\u2500\u2500\u2500\u2500\u2500\u2500\u2500\u2500\u2500\u2500\u2500\u2500\u2500\u2500\u2500\u2500\u2500\u2500\u2500\n",
        "      \u239c                             2    2                                    \n",
        "      \u239d                            \u03c0 \u22c5D_s \u22c5T_snap\u22c5log(2)                      \n",
        "\n",
        "                                                                              \n",
        "                                                                              \n",
        "                            \u239b                                \u239b                \n",
        "                            \u239c                     2        2 \u239c    0.5        1\n",
        "                            \u239c       234.7024\u22c5Q_FoV \u22c5\\lambda \u22c5\u239c\u2500\u2500\u2500\u2500\u2500\u2500\u2500\u2500\u2500\u2500\u2500\u2500 + \u2500\n",
        "                            \u239c                                \u239c\u03c0\u22c5\\epsilon_w    \n",
        "                            \u239c   2                            \u239d                \n",
        "Q_pix\u239e   4\u22c5N\u2090\u22c5N_mm\u22c5(N\u2090 - 1)\u22c5\u239cN_k  + \u2500\u2500\u2500\u2500\u2500\u2500\u2500\u2500\u2500\u2500\u2500\u2500\u2500\u2500\u2500\u2500\u2500\u2500\u2500\u2500\u2500\u2500\u2500\u2500\u2500\u2500\u2500\u2500\u2500\u2500\u2500\u2500\u2500\u2500\u2500\u2500\u2500\u2500\u2500\u2500\u2500\u2500\n",
        "\u2500\u2500\u2500\u2500\u2500\u239f                      \u239c                                     2    2      \n",
        "     \u23a0                      \u239d                                    \u03c0 \u22c5D_s       \n",
        "\u2500\u2500\u2500\u2500\u2500\u2500 + \u2500\u2500\u2500\u2500\u2500\u2500\u2500\u2500\u2500\u2500\u2500\u2500\u2500\u2500\u2500\u2500\u2500\u2500\u2500\u2500\u2500\u2500\u2500\u2500\u2500\u2500\u2500\u2500\u2500\u2500\u2500\u2500\u2500\u2500\u2500\u2500\u2500\u2500\u2500\u2500\u2500\u2500\u2500\u2500\u2500\u2500\u2500\u2500\u2500\u2500\u2500\u2500\u2500\u2500\u2500\u2500\u2500\u2500\u2500\u2500\u2500\u2500\u2500\u2500\u2500\u2500\u2500\u2500\u2500\n",
        "                                                                              \n",
        "                                                                              \n",
        "\n",
        "                                                                              \n",
        "                                                                              \n",
        "            2        2\u239e\u239e                                                      \n",
        "4.6689\u22c5Q_FoV \u22c5\\lambda \u239f\u239f                                                      \n",
        "\u2500\u2500\u2500\u2500\u2500\u2500\u2500\u2500\u2500\u2500\u2500\u2500\u2500\u2500\u2500\u2500\u2500\u2500\u2500\u2500\u2500\u2500\u239f\u239f                                                      \n",
        "        2    2        \u239f\u239f                                                      \n",
        "       \u03c0 \u22c5D_s         \u23a0\u239f                                                      \n",
        "\u2500\u2500\u2500\u2500\u2500\u2500\u2500\u2500\u2500\u2500\u2500\u2500\u2500\u2500\u2500\u2500\u2500\u2500\u2500\u2500\u2500\u2500\u2500\u239f\u22c5(Blim_mid\u22c5Fb_short + Fb_short\u22c5N_{f,out} + 0.1\u22c5N_{f,us\n",
        "                       \u239f                                                      \n",
        "                       \u23a0                                                      \n",
        "\u2500\u2500\u2500\u2500\u2500\u2500\u2500\u2500\u2500\u2500\u2500\u2500\u2500\u2500\u2500\u2500\u2500\u2500\u2500\u2500\u2500\u2500\u2500\u2500\u2500\u2500\u2500\u2500\u2500\u2500\u2500\u2500\u2500\u2500\u2500\u2500\u2500\u2500\u2500\u2500\u2500\u2500\u2500\u2500\u2500\u2500\u2500\u2500\u2500\u2500\u2500\u2500\u2500\u2500\u2500\u2500\u2500\u2500\u2500\u2500\u2500\u2500\u2500\u2500\u2500\u2500\u2500\u2500\u2500\u2500\u2500\u2500\u2500\u2500\u2500\u2500\u2500\u2500\n",
        "    T_dump                                                                    \n",
        "                                                                              \n",
        "\n",
        "     \u239e\n",
        "     \u239f\n",
        "    \u239e\u239f\n",
        "    \u239f\u239f\n",
        "    \u239f\u239f\n",
        "    \u239f\u239f\n",
        "    \u239f\u239f\n",
        "ed})\u239f\u239f\n",
        "    \u239f\u239f\n",
        "    \u239f\u239f\n",
        "\u2500\u2500\u2500\u2500\u239f\u239f\n",
        "    \u239f\u239f\n",
        "    \u23a0\u23a0"
       ]
      }
     ],
     "prompt_number": 12
    },
    {
     "cell_type": "heading",
     "level": 2,
     "metadata": {},
     "source": [
      "Computing the Correlator Dump Time"
     ]
    },
    {
     "cell_type": "code",
     "collapsed": false,
     "input": [
      "T_dump = calc_tel('SKA1Low','Continuum', Tdump_ref*Bmax_ref/Bmax)\n",
      "T_dump"
     ],
     "language": "python",
     "metadata": {},
     "outputs": [
      {
       "metadata": {},
       "output_type": "pyout",
       "prompt_number": 13,
       "text": [
        "{'SKA1_Low-Cont': 0.909090909090909}"
       ]
      }
     ],
     "prompt_number": 13
    },
    {
     "cell_type": "heading",
     "level": 2,
     "metadata": {},
     "source": [
      "Comuting numerical values for arbitrary variables for a given telescope & mode:"
     ]
    },
    {
     "cell_type": "code",
     "collapsed": false,
     "input": [
      "antwoord = calc_tel('SKA1Low','Continuum', Tdump)\n",
      "antwoord"
     ],
     "language": "python",
     "metadata": {},
     "outputs": [
      {
       "metadata": {},
       "output_type": "pyout",
       "prompt_number": 14,
       "text": [
        "{'SKA1_Low-Cont': T_dump}"
       ]
      }
     ],
     "prompt_number": 14
    },
    {
     "cell_type": "code",
     "collapsed": false,
     "input": [
      "T_dump = calc_tel('SKA1Low','Continuum', Tdump_ref*Bmax_ref/Bmax)\n",
      "Rflop_eval = calc_tel('SKA1Low','Continuum', Npix)\n",
      "Rflop_eval"
     ],
     "language": "python",
     "metadata": {},
     "outputs": [
      {
       "metadata": {},
       "output_type": "pyout",
       "prompt_number": 214,
       "text": [
        "{'SKA1_Low-Cont': 131.314285714286/pi}"
       ]
      }
     ],
     "prompt_number": 214
    },
    {
     "cell_type": "code",
     "collapsed": false,
     "input": [
      "float(Rflop_eval['SKA1_Low-Cont'])"
     ],
     "language": "python",
     "metadata": {},
     "outputs": [
      {
       "latex": [
        "$$41.79863534$$"
       ],
       "metadata": {},
       "output_type": "pyout",
       "png": "[encoded data removed]",
       "prompt_number": 215,
       "text": [
        "41.79863534"
       ]
      }
     ],
     "prompt_number": 215
    },
    {
     "cell_type": "code",
     "collapsed": false,
     "input": [
      "T_dump = calc_tel('SKA1Low','Continuum', Tdump_ref*Bmax_ref/Bmax)\n",
      "Rflop_eval = calc_tel('SKA1Low','Continuum', Rflop)\n",
      "Rflop_eval = Rflop_eval['SKA1_Low-Cont'].subs({Tdump : T_dump['SKA1_Low-Cont']})\n",
      "Rflop_eval\n"
     ],
     "language": "python",
     "metadata": {},
     "outputs": [
      {
       "latex": [
        "$$- \\frac{178782208.0}{\\log{\\left (2 \\right )}} \\left(\\frac{1}{\\pi^{2}} \\left(\\frac{1.94543055776374}{\\pi^{2}} + \\frac{278.957384398674}{\\pi}\\right) + 81\\right) \\log{\\left (8.0 \\sqrt{\\frac{1}{\\pi^{2}} \\left(\\frac{1.94543055776374}{\\pi^{2}} + \\frac{278.957384398674}{\\pi}\\right) + 81} \\right )} + \\frac{1}{\\pi^{2}} \\left(\\frac{1}{\\pi^{2}} 2.23258188758298 \\cdot 10^{16} + \\frac{1}{\\pi} 3.20132323063694 \\cdot 10^{18}\\right) + 9.29558406351421 \\cdot 10^{17} + \\frac{6897376653.06122 \\log{\\left (\\frac{131.314285714286}{\\pi} \\right )}}{\\pi^{2} T_{snap} \\log{\\left (2 \\right )}}$$"
       ],
       "metadata": {},
       "output_type": "pyout",
       "png": "[encoded data removed]",
       "prompt_number": 216,
       "text": [
        "                                                                          \u239b   \n",
        "                    \u239b                 \u239b0.348696730498342   50.0\u239e     \u239e    \u239c   \n",
        "                    \u239c5.57914768797348\u22c5\u239c\u2500\u2500\u2500\u2500\u2500\u2500\u2500\u2500\u2500\u2500\u2500\u2500\u2500\u2500\u2500\u2500\u2500 + \u2500\u2500\u2500\u2500\u239f     \u239f    \u239c   \n",
        "                    \u239c                 \u239c         2           \u03c0  \u239f     \u239f    \u239c   \n",
        "                    \u239c                 \u239d        \u03c0               \u23a0     \u239f    \u239c   \n",
        "  -178782208.0\u22c5(-1)\u22c5\u239c\u2500\u2500\u2500\u2500\u2500\u2500\u2500\u2500\u2500\u2500\u2500\u2500\u2500\u2500\u2500\u2500\u2500\u2500\u2500\u2500\u2500\u2500\u2500\u2500\u2500\u2500\u2500\u2500\u2500\u2500\u2500\u2500\u2500\u2500\u2500\u2500\u2500\u2500\u2500\u2500\u2500\u2500\u2500 + 81\u239f\u22c5   \u239c8.0\n",
        "                    \u239c                      2                         \u239f    \u239c   \n",
        "                    \u239d                     \u03c0                          \u23a0    \u239d   \n",
        "                                                                       log    \n",
        "- \u2500\u2500\u2500\u2500\u2500\u2500\u2500\u2500\u2500\u2500\u2500\u2500\u2500\u2500\u2500\u2500\u2500\u2500\u2500\u2500\u2500\u2500\u2500\u2500\u2500\u2500\u2500\u2500\u2500\u2500\u2500\u2500\u2500\u2500\u2500\u2500\u2500\u2500\u2500\u2500\u2500\u2500\u2500\u2500\u2500\u2500\u2500\u2500\u2500\u2500\u2500\u2500\u2500\u2500\u2500\u2500\u2500\u2500\u2500\u2500\u2500\u2500\u2500\u2500\u2500\u2500\u2500\u2500\u2500\u2500\u2500\u2500\u2500\u2500\u2500\u2500\n",
        "                                                                   log(2)     \n",
        "                                                                              \n",
        "\n",
        "         __________________________________________________\u239e                  \n",
        "        \u2571                  \u239b0.348696730498342   50.0\u239e      \u239f                  \n",
        "       \u2571  5.57914768797348\u22c5\u239c\u2500\u2500\u2500\u2500\u2500\u2500\u2500\u2500\u2500\u2500\u2500\u2500\u2500\u2500\u2500\u2500\u2500 + \u2500\u2500\u2500\u2500\u239f      \u239f                  \n",
        "      \u2571                    \u239c         2           \u03c0  \u239f      \u239f                  \n",
        "     \u2571                     \u239d        \u03c0               \u23a0      \u239f                  \n",
        "\u22c5   \u2571     \u2500\u2500\u2500\u2500\u2500\u2500\u2500\u2500\u2500\u2500\u2500\u2500\u2500\u2500\u2500\u2500\u2500\u2500\u2500\u2500\u2500\u2500\u2500\u2500\u2500\u2500\u2500\u2500\u2500\u2500\u2500\u2500\u2500\u2500\u2500\u2500\u2500\u2500\u2500\u2500\u2500\u2500\u2500 + 81 \u239f                  \n",
        "   \u2571                            2                          \u239f   6.4026464612738\n",
        " \u2572\u2571                            \u03c0                           \u23a0                  \n",
        "                                                                              \n",
        "\u2500\u2500\u2500\u2500\u2500\u2500\u2500\u2500\u2500\u2500\u2500\u2500\u2500\u2500\u2500\u2500\u2500\u2500\u2500\u2500\u2500\u2500\u2500\u2500\u2500\u2500\u2500\u2500\u2500\u2500\u2500\u2500\u2500\u2500\u2500\u2500\u2500\u2500\u2500\u2500\u2500\u2500\u2500\u2500\u2500\u2500\u2500\u2500\u2500\u2500\u2500\u2500\u2500\u2500\u2500\u2500\u2500\u2500\u2500\u2500 + \u2500\u2500\u2500\u2500\u2500\u2500\u2500\u2500\u2500\u2500\u2500\u2500\u2500\u2500\u2500\n",
        "                                                                              \n",
        "                                                                              \n",
        "\n",
        "                                                                              \n",
        "                                                                              \n",
        "                                                                              \n",
        "                                                                              \n",
        "                                                                              \n",
        "      \u239b0.348696730498342   50.0\u239e                                              \n",
        "8e+16\u22c5\u239c\u2500\u2500\u2500\u2500\u2500\u2500\u2500\u2500\u2500\u2500\u2500\u2500\u2500\u2500\u2500\u2500\u2500 + \u2500\u2500\u2500\u2500\u239f                                              \n",
        "      \u239c         2           \u03c0  \u239f                          6897376653.06122\u22c5log\n",
        "      \u239d        \u03c0               \u23a0                                              \n",
        "\u2500\u2500\u2500\u2500\u2500\u2500\u2500\u2500\u2500\u2500\u2500\u2500\u2500\u2500\u2500\u2500\u2500\u2500\u2500\u2500\u2500\u2500\u2500\u2500\u2500\u2500\u2500\u2500\u2500\u2500\u2500\u2500 + 9.29558406351421e+17 + \u2500\u2500\u2500\u2500\u2500\u2500\u2500\u2500\u2500\u2500\u2500\u2500\u2500\u2500\u2500\u2500\u2500\u2500\u2500\u2500\n",
        "         2                                                            2       \n",
        "        \u03c0                                                            \u03c0 \u22c5T_snap\n",
        "\n",
        "                  \n",
        "                  \n",
        "                  \n",
        "                  \n",
        "                  \n",
        "                  \n",
        "\u239b131.314285714286\u239e\n",
        "\u239c\u2500\u2500\u2500\u2500\u2500\u2500\u2500\u2500\u2500\u2500\u2500\u2500\u2500\u2500\u2500\u2500\u239f\n",
        "\u239d       \u03c0        \u23a0\n",
        "\u2500\u2500\u2500\u2500\u2500\u2500\u2500\u2500\u2500\u2500\u2500\u2500\u2500\u2500\u2500\u2500\u2500\u2500\n",
        "                  \n",
        "\u22c5log(2)           "
       ]
      }
     ],
     "prompt_number": 216
    },
    {
     "cell_type": "code",
     "collapsed": false,
     "input": [
      "Rflop_eval_f = lambdify(Tsnap, Rflop_eval)"
     ],
     "language": "python",
     "metadata": {},
     "outputs": [],
     "prompt_number": 217
    },
    {
     "cell_type": "code",
     "collapsed": false,
     "input": [
      "Rflop_eval_f(1.2)"
     ],
     "language": "python",
     "metadata": {},
     "outputs": [
      {
       "latex": [
        "$$1.03303509183e+18$$"
       ],
       "metadata": {},
       "output_type": "pyout",
       "png": "[encoded data removed]",
       "prompt_number": 226,
       "text": [
        "1.03303509183e+18"
       ]
      }
     ],
     "prompt_number": 226
    },
    {
     "cell_type": "heading",
     "level": 2,
     "metadata": {},
     "source": [
      "Minimizing a variable (e.g. Rflop) by finding an optimal value for a free input variable (e.g. Tsnap)"
     ]
    },
    {
     "cell_type": "code",
     "collapsed": false,
     "input": [
      "from scipy import optimize as opt"
     ],
     "language": "python",
     "metadata": {},
     "outputs": [],
     "prompt_number": 219
    },
    {
     "cell_type": "markdown",
     "metadata": {},
     "source": [
      "***A solution can be found in a bounded range, as follows:***"
     ]
    },
    {
     "cell_type": "code",
     "collapsed": false,
     "input": [
      "opt.minimize_scalar(Rflop_eval_f, bounds=(0.1, 3), method='bounded')"
     ],
     "language": "python",
     "metadata": {},
     "outputs": [
      {
       "metadata": {},
       "output_type": "pyout",
       "prompt_number": 224,
       "text": [
        "  status: 0\n",
        "    nfev: 28\n",
        " success: True\n",
        "     fun: 1.0330350899506931e+18\n",
        "       x: 2.9999959971165069\n",
        " message: 'Solution found.'"
       ]
      }
     ],
     "prompt_number": 224
    }
   ],
   "metadata": {}
  }
 ]
}