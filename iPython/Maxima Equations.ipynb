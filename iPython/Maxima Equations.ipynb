{
 "metadata": {
  "name": "",
  "signature": "sha256:c0720e2e4d95824ad16a1e440aadde6b48d03e994ec2db16c03bb0215415fea7"
 },
 "nbformat": 3,
 "nbformat_minor": 0,
 "worksheets": [
  {
   "cells": [
    {
     "cell_type": "heading",
     "level": 1,
     "metadata": {},
     "source": [
      "Variable Glossary:"
     ]
    },
    {
     "cell_type": "markdown",
     "metadata": {},
     "source": [
      "\n",
      "$$We = Omega_{\\rm E}$$\n",
      "\n",
      "$$ThetaFOV = Theta_{\\rm FoV}$$\n",
      "$$FOVBeam = frac{Theta_{\\rm beam}}{Theta_{\\rm FoV}}$$ \n",
      "$$ThetaPix = Theta_{\\rm pix}$$\n",
      "$$ThetaBeam = Theta_{\\rm beam}$$ \n",
      "$$NPix = N_{\\rm pix}$$ \n",
      "$$Qfov = Q_{\\rm FoV}$$\n",
      "$$Qbw = Q_{\\rm bw}$$ \n",
      "$$QPix = Q_{\\rm pix}$$\n",
      "$$QGCF = Q_{\\rm GCF}$$\n",
      "$$QFCV = Q_{\\rm FCV}$$ \n",
      "\n",
      "$$lambdamax = lambda_{\\rm band, max}$$ \n",
      "$$lambdamin = lambda_{\\rm band, min}$$\n",
      "\n",
      "$$lambdasubmax = lambda_{\\rm subband, max}$$ \n",
      "$$lambdasubmin = lambda_{\\rm subband, min}$$ \n",
      "\n",
      "$$Ds = D_{\\rm s}$$ \n",
      "$$Bmax = B_{\\rm max}$$\n",
      "$$Nbeam = N_{\\rm beam}$$\n",
      "$$Na = N_{\\rm a}$$\n",
      "\n",
      "$$Nfcorr = N_{\\rm f,corr}$$\n",
      "$$Nfin = N_{\\rm f,in}$$\n",
      "$$Nfout = N_{\\rm f,out}$$\n",
      "\n",
      "$$Nmm = N_{\\rm mm}$$\n",
      "$$Npp = N_{\\rm pp}$$\n",
      "$$NMajor = N_{\\rm major}$$\n",
      "$$NAA = N_{\\rm AA}$$\n",
      "$$NGW = N_{\\rm GW}$$\n",
      "$$NCVFF = N_{\\rm CVFF}$$\n",
      "$$Ncrpd = N_{\\rm crpd}$$\n",
      "$$etaw = epsilon_{\\rm w}$$\n",
      "\n",
      "$$Tsnap = T_{\\rm snap}$$\n",
      "$$TSnapMin = T_{\\rm snap,min}$$\n",
      "$$TIon = T_{\\rm ion}$$\n",
      "$$TDump = T_{\\rm dump}$$\n",
      "$$TObs = T_{\\rm obs}$$\n",
      "\n",
      "$$WCurve = W_{\\rm curve}$$\n",
      "$$DeltaWMax = Delta w_{\\rm max}$$\n",
      "\n",
      "$$RGrid = R_{\\rm grid}$$\n",
      "$$RFFT = R_{\\rm FFT}$$\n",
      "$$RRP = R_{\\rm RP}$$\n",
      "$$RCCF = R_{\\rm CCF}$$\n",
      "$$RFLOP = R_{\\rm FLOP}$$\n",
      "$$RIO = R_{\\rm io}$$\n",
      "$$Rvis = R_{\\rm vis}$$\n",
      "$$Re = R_{\\rm Earth}$$\n",
      "\n",
      "$$MVis = M_{\\rm vis}$$\n",
      "$$MBufVis = M_{\\rm buf,vis}$$\n",
      "$$MWCache = M_{\\rm w,cache}$$\n",
      "$$MUVGrid = M_{\\rm uv grid}$$\n",
      "\n",
      "\n",
      "\n",
      "$$DeltaNu = Deltanu$$\n"
     ]
    },
    {
     "cell_type": "heading",
     "level": 1,
     "metadata": {},
     "source": [
      "Input Values:"
     ]
    },
    {
     "cell_type": "heading",
     "level": 2,
     "metadata": {},
     "source": [
      "General Baseline:"
     ]
    },
    {
     "cell_type": "code",
     "collapsed": false,
     "input": [
      "MVis = 12\n",
      "TObs = 6 * 3600 \n",
      "NAA = 9 \n",
      "Nmm = 4\n",
      "etaw = 0.01\n",
      "QGCF = 8\n",
      "QFCV = 10\n",
      "TIon = 60\n",
      "Qw = 1\n",
      "Npp = 4\n",
      "Nfcorr = 256000"
     ],
     "language": "python",
     "metadata": {},
     "outputs": []
    },
    {
     "cell_type": "heading",
     "level": 3,
     "metadata": {},
     "source": [
      "Workingmem :"
     ]
    },
    {
     "cell_type": "code",
     "collapsed": false,
     "input": [
      "MUVGrid = 16 * NPix*NPix \n",
      "MWCache = (NGW*NGW*NGW) * (QGCF*QGCF*QGCF) * Nbeam * Nfin * 8, \n",
      "MBufVis= 2 * Npp* Nbeam *Nvis * MVis  * TObs\n",
      "RIO = (1+NMajor) * Npp* Nbeam *Nvis * MVis"
     ],
     "language": "python",
     "metadata": {},
     "outputs": []
    },
    {
     "cell_type": "heading",
     "level": 3,
     "metadata": {},
     "source": [
      "fast :"
     ]
    },
    {
     "cell_type": "code",
     "collapsed": false,
     "input": [
      "RFLOPFast = 2* Npp * Nbeam *  ( RGrid  + NfoutFast * FFTSnap / TDump + Nfin * RCCF )\n"
     ],
     "language": "python",
     "metadata": {},
     "outputs": []
    },
    {
     "cell_type": "heading",
     "level": 3,
     "metadata": {},
     "source": [
      "SpecBaseline:"
     ]
    },
    {
     "cell_type": "markdown",
     "metadata": {},
     "source": [
      "*Overwrite General Baseline values as appropriate:*"
     ]
    },
    {
     "cell_type": "code",
     "collapsed": false,
     "input": [
      "# Spectral line case has only major cycle, Field-of-view only up to first null\n",
      "NMajor=1\n",
      "Qfov=1\n",
      "Nfin=Nfcorr\n",
      "Nfout=Nfcorr\n",
      "Nfmid= Nfcorr\n",
      "QPix=2.5"
     ],
     "language": "python",
     "metadata": {},
     "outputs": []
    },
    {
     "cell_type": "heading",
     "level": 3,
     "metadata": {},
     "source": [
      "ContBaseline:"
     ]
    },
    {
     "cell_type": "markdown",
     "metadata": {},
     "source": [
      "*Overwrite General Baseline values as appropriate:*"
     ]
    },
    {
     "cell_type": "code",
     "collapsed": false,
     "input": [
      "Nfin = Nfbw\n",
      "Nfmid =  Nfbwmid\n",
      "Qbw = 1\n",
      "Qfov = 1.8\n",
      "Nfout = 500\n",
      "NMajor = 10\n",
      "QPix = 2.5"
     ],
     "language": "python",
     "metadata": {},
     "outputs": []
    },
    {
     "cell_type": "heading",
     "level": 3,
     "metadata": {},
     "source": [
      "FastBaseline:"
     ]
    },
    {
     "cell_type": "markdown",
     "metadata": {},
     "source": [
      "*Overwrite General Baseline values as appropriate:*"
     ]
    },
    {
     "cell_type": "code",
     "collapsed": false,
     "input": [
      "Nfin = Nfbw\n",
      "Nfmid =  Nfbwmid\n",
      "Qbw = 1\n",
      "Qfov = 0.9\n",
      "QPix = 1.5\n",
      "Nfout = 500\n",
      "NMajor = 1"
     ],
     "language": "python",
     "metadata": {},
     "outputs": []
    },
    {
     "cell_type": "heading",
     "level": 3,
     "metadata": {},
     "source": [
      "dftsub :"
     ]
    },
    {
     "cell_type": "markdown",
     "metadata": {},
     "source": [
      "*Not yet included in totals, subject to confirmation of the number\n",
      "of sources that need to be subtracted*"
     ]
    },
    {
     "cell_type": "code",
     "collapsed": false,
     "input": [
      "RDFTSub = 64 * Ns * Nvis * Npp  * NMajor * Nbeam "
     ],
     "language": "python",
     "metadata": {},
     "outputs": []
    },
    {
     "cell_type": "heading",
     "level": 3,
     "metadata": {},
     "source": [
      "SKA1LowBase:"
     ]
    },
    {
     "cell_type": "markdown",
     "metadata": {},
     "source": [
      "*Overwrite General Baseline values as appropriate:*"
     ]
    },
    {
     "cell_type": "code",
     "collapsed": false,
     "input": [
      "TDump = 0.6\n",
      "Na = 1024\n",
      "Nbeam=1\n",
      "Ds=35\n",
      "lambdamax = 6\n",
      "lambdamin = 0.857, \n",
      "lambdasubmax = 3\n",
      "lambdasubmin = 3, \n",
      "Bmax=1e5\n",
      "fBShort=0.5\n",
      "Bmid=2e4\n",
      "fBMid=0.4\n",
      "NfoutFast=300"
     ],
     "language": "python",
     "metadata": {},
     "outputs": []
    },
    {
     "cell_type": "heading",
     "level": 3,
     "metadata": {},
     "source": [
      "SKA1MidBase:"
     ]
    },
    {
     "cell_type": "markdown",
     "metadata": {},
     "source": [
      "*Overwrite General Baseline values as appropriate:*"
     ]
    },
    {
     "cell_type": "code",
     "collapsed": false,
     "input": [
      "TDump = 0.08\n",
      "Na = 254\n",
      "Nbeam=1\n",
      "Ds=15\n",
      "Bmax=2e5\n",
      "fBShort=0.5\n",
      "Bmid=2e4\n",
      "fBMid=0.4 "
     ],
     "language": "python",
     "metadata": {},
     "outputs": []
    },
    {
     "cell_type": "heading",
     "level": 4,
     "metadata": {},
     "source": [
      "SKA1MidB1:"
     ]
    },
    {
     "cell_type": "markdown",
     "metadata": {},
     "source": [
      "*Overwrite General Baseline values as appropriate:*"
     ]
    },
    {
     "cell_type": "code",
     "collapsed": false,
     "input": [
      "lambdamax = 0.857\n",
      "lambdamin = 0.286, \n",
      "lambdasubmax = 0.57\n",
      "lambdasubmin = 0.57\n",
      "NfoutFast=700"
     ],
     "language": "python",
     "metadata": {},
     "outputs": []
    },
    {
     "cell_type": "heading",
     "level": 4,
     "metadata": {},
     "source": [
      "SKA1MidB1:"
     ]
    },
    {
     "cell_type": "markdown",
     "metadata": {},
     "source": [
      "*Append to / overwrite SKA1MidBase*"
     ]
    },
    {
     "cell_type": "code",
     "collapsed": false,
     "input": [
      "lambdamax = 0.316\n",
      "lambdamin = 0.17\n",
      "lambdasubmax = 0.3\n",
      "lambdasubmin = 0.3"
     ],
     "language": "python",
     "metadata": {},
     "outputs": []
    },
    {
     "cell_type": "heading",
     "level": 3,
     "metadata": {},
     "source": [
      "SKA1SurveyBase:"
     ]
    },
    {
     "cell_type": "markdown",
     "metadata": {},
     "source": [
      "*Overwrite General Baseline values as appropriate:*"
     ]
    },
    {
     "cell_type": "code",
     "collapsed": false,
     "input": [
      "TDump = 0.3\n",
      "Na = 96 \n",
      "Nbeam = 36\n",
      "Ds = 15\n",
      "lambdamax = 0.86\n",
      "lambdamin = 0.33\n",
      "lambdasubmax = 0.6\n",
      "lambdasubmin = 0.6\n",
      "lambda = 0.6\n",
      "Bmax = 0.5e5\n",
      "fBShort = 0.1\n",
      "Bmid = 2e4\n",
      "fBMid = 0.8\n",
      "NfoutFast = 500"
     ],
     "language": "python",
     "metadata": {},
     "outputs": []
    },
    {
     "cell_type": "heading",
     "level": 4,
     "metadata": {},
     "source": [
      "SKA1SurveyCont :"
     ]
    },
    {
     "cell_type": "markdown",
     "metadata": {},
     "source": [
      "*Append to / overwrite SKA1SurveyBase*"
     ]
    },
    {
     "cell_type": "code",
     "collapsed": false,
     "input": [
      "TDump  =  0.3\n",
      "Na  =  96 \n",
      "Nbeam = 36\n",
      "Ds = 15\n",
      "lambdamax  =  0.46\n",
      "lambdamin  =  0.18\n",
      "lambdasubmax  =  0.3\n",
      "lambdasubmin  =  0.3\n",
      "lambda  =  0.3\n",
      "Bmax = 0.5e5fBShort = 0.1"
     ],
     "language": "python",
     "metadata": {},
     "outputs": []
    },
    {
     "cell_type": "heading",
     "level": 1,
     "metadata": {},
     "source": [
      "Computations / Derived Quatities:"
     ]
    },
    {
     "cell_type": "heading",
     "level": 2,
     "metadata": {},
     "source": [
      "Geometry:"
     ]
    },
    {
     "cell_type": "code",
     "collapsed": false,
     "input": [
      "We = 7.27e-5\n",
      "Re = 6400e3\n",
      "WCurve= (Bmax/2)**2 / (2*Re) \n",
      "TSnapMin = WCurve / ( Bmax * We /2)"
     ],
     "language": "python",
     "metadata": {},
     "outputs": []
    },
    {
     "cell_type": "heading",
     "level": 2,
     "metadata": {},
     "source": [
      "continuum :"
     ]
    },
    {
     "cell_type": "code",
     "collapsed": false,
     "input": [
      "# Ratio of FoV / Beam at single frequencydifferent to ThetaBeam/ThetaFOV\n",
      "FOVBeam =  1/ ((2*(3.83/ math.pi) * Qfov / Ds) /  ( 1 / (Bmax * 2/3)))\n",
      "\n",
      "# Ratio of FOV / Beam  at Bmid\n",
      "FOVBeamMid =  1/ ((2*(3.83/ math.pi) * Qfov / Ds) /  ( 1 / (Bmid * 2/3)))\n",
      "\n",
      "# Rao thesis Eq 5.2\n",
      "# log-spaced channels\n",
      "Nfbw = log(lambdamax/lambdamin)/ log(1+FOVBeam/ Qbw)\n",
      "Nfbwmid = log(lambdamax/lambdamin) / log(1+FOVBeamMid/Qbw)]"
     ],
     "language": "python",
     "metadata": {},
     "outputs": []
    },
    {
     "cell_type": "heading",
     "level": 2,
     "metadata": {},
     "source": [
      "uvsize :"
     ]
    },
    {
     "cell_type": "code",
     "collapsed": false,
     "input": [
      "ThetaFOV = lambdasubmax / Ds * 2*(3.83 / math.pi) * Qfov\n",
      "ThetaBeam = lambdasubmin / (Bmax * (2/3))\n",
      "ThetaPix = ThetaBeam  / 2 / QPix\n",
      "NPix = ThetaFOV / ThetaPi"
     ],
     "language": "python",
     "metadata": {},
     "outputs": []
    },
    {
     "cell_type": "heading",
     "level": 2,
     "metadata": {},
     "source": [
      "convksize :"
     ]
    },
    {
     "cell_type": "code",
     "collapsed": false,
     "input": [
      "def NGWfn(w, eta):\n",
      "    val = 2 * math.sqrt( math.pow(w * 0.5 * ThetaFOV, 2) + (w * 0.5 * ThetaFOV)/(3.14 *eta/math.sqrt(w))) * ThetaFOV\n",
      "    return val"
     ],
     "language": "python",
     "metadata": {},
     "outputs": []
    },
    {
     "cell_type": "code",
     "collapsed": false,
     "input": [
      "DeltaWMax = (Bmax * We * Tsnap *Qw )/(2 * lambdasubmin)"
     ],
     "language": "python",
     "metadata": {},
     "outputs": []
    },
    {
     "cell_type": "heading",
     "level": 2,
     "metadata": {},
     "source": [
      "floprate :"
     ]
    },
    {
     "cell_type": "code",
     "collapsed": false,
     "input": [
      "RFLOP = 2 * NMajor * Npp * Nbeam * (RGrid + Nfin *  RCCF  + Nfout * (RFFT + RRP))  \n",
      "RGrid = Nvis   * (math.pow(NGW, 2)  + math.pow(NAA, 2)) * Nmm * 8\n",
      "Nvis  =  (Nfout * fBShort + Nfmid * fBMid + Nfin*(1-fBShort -fBMid) ) * Na * (Na -1)  /(2*TDump) \n",
      "NGW = NGWfn(DeltaWMaxetaw)\n",
      "FFTSnap = math.pow(NPix, 2) * log(math.pow(NPix, 2)) / log(2) * 5\n",
      "RFFT = FFTSnap / Tsnap\n",
      "RRP = math.pow(NPix, 2) / Tsnap * 50 \n",
      "RCCF =  (Na * (Na -1) /2) * math.pow(NCVFF, 2) * log(math.pow(NCVFF, 2)) / log(2) * Nmm * 5 / (TIon * QFCV)\n",
      "NCVFF = QGCF * sqrt(math.pow(NGW, 2) + math.pow(NAA, 2))\n",
      "Npatch = 2 * Qpix / fPatch\n",
      "RMinor = Nminor * math.pow(Npatch, 2) * 2 * Nmsmf / TObs\n",
      "# exp \n",
      "RFLOPFacet = 25* Nvis * 2 * NMajor * Npp * Nbeam"
     ],
     "language": "python",
     "metadata": {},
     "outputs": []
    },
    {
     "cell_type": "code",
     "collapsed": false,
     "input": [],
     "language": "python",
     "metadata": {},
     "outputs": []
    }
   ],
   "metadata": {}
  }
 ]
}