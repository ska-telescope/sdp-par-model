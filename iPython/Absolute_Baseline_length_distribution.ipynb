{
 "cells": [
  {
   "cell_type": "markdown",
   "metadata": {},
   "source": [
    "# Distribution of absolute baseline lengths\n",
    "\n",
    "Last run with Jupyter Notebook 5.7.4 running Python 3.7.2"
   ]
  },
  {
   "cell_type": "code",
   "execution_count": 1,
   "metadata": {},
   "outputs": [],
   "source": [
    "import numpy as np\n",
    "import os\n",
    "import matplotlib.pyplot as plt\n",
    "%matplotlib inline"
   ]
  },
  {
   "cell_type": "markdown",
   "metadata": {},
   "source": [
    "## Get information on the available layouts"
   ]
  },
  {
   "cell_type": "code",
   "execution_count": 2,
   "metadata": {},
   "outputs": [],
   "source": [
    "layout_dir = os.path.join('..', 'data', 'layouts')"
   ]
  },
  {
   "cell_type": "code",
   "execution_count": 3,
   "metadata": {},
   "outputs": [
    {
     "name": "stdout",
     "output_type": "stream",
     "text": [
      "SKA1_Low_rev_02.txt       SKA1_Mid_rev_03.txt       readme.txt\r\n",
      "SKA1_Low_rev_03.txt       SKA1_Mid_rev_04.txt\r\n",
      "SKA1_Mid_rev_02.txt       SKA1_Mid_rev_05_prop.txt\r\n"
     ]
    }
   ],
   "source": [
    "ls $layout_dir"
   ]
  },
  {
   "cell_type": "code",
   "execution_count": 4,
   "metadata": {},
   "outputs": [
    {
     "name": "stdout",
     "output_type": "stream",
     "text": [
      "SKA Telescope Layouts\r\n",
      "=====================\r\n",
      "\r\n",
      "SKA1-Low\r\n",
      "--------\r\n",
      "\r\n",
      "SKA1-Low coordinates are given in SKA-TEL-SKO-0000422. The revisions\r\n",
      "of the document are as follows:\r\n",
      "\r\n",
      "Rev 01 - corresponding to ECP-150037. This predates the CDR design\r\n",
      "         baseline, so this layout is not included here.\r\n",
      "\r\n",
      "Rev 02 - corresponding to ECP-160015.\r\n",
      "\r\n",
      "Rev 03 - corresponding to ECP-170049.\r\n",
      "\r\n",
      "\r\n",
      "SKA1-Mid\r\n",
      "--------\r\n",
      "\r\n",
      "SKA1-Mid coordinates are given in SKA‐TEL‐INSA‐0000537. The revisions\r\n",
      "of the document are as follows:\r\n",
      "\r\n",
      "Rev 01 - no ECP. This predates the CDR design baseline, so this layout\r\n",
      "         is not included here.\r\n",
      "\r\n",
      "Rev 02 - no ECP.\r\n",
      "\r\n",
      "Rev 03 - no ECP.\r\n",
      "\r\n",
      "Rev 04 - corresponding to ECP-180002. Note the Excel spreadsheet\r\n",
      "         accompanying this revision has one extra decimal place in the\r\n",
      "         longitude values compared to the PDF version. The values from\r\n",
      "         the PDF have been used here.\r\n",
      "\r\n",
      "Rev 05 (prop) - potential revision, corresponding to the changes proposed in\r\n",
      "                ECP-180018.\r\n"
     ]
    }
   ],
   "source": [
    "cat $layout_dir/readme.txt"
   ]
  },
  {
   "cell_type": "markdown",
   "metadata": {},
   "source": [
    "## Define functions for reading the layouts\n",
    "\n",
    "They return two values:\n",
    "- position of array centre;\n",
    "- array of element positions.\n",
    "\n",
    "The SKA1-Low layouts define the array centre explictly as the first entry in the file. The SKA1-Mid layouts use the first array element (MeerKAT antenna M000) as the position of the array centre."
   ]
  },
  {
   "cell_type": "code",
   "execution_count": 5,
   "metadata": {},
   "outputs": [],
   "source": [
    "dtype_pos = np.dtype([('name', 'U10'), ('lon', 'f8'), ('lat', 'f8')])"
   ]
  },
  {
   "cell_type": "code",
   "execution_count": 6,
   "metadata": {},
   "outputs": [],
   "source": [
    "def read_low_layout(filename):\n",
    "    pos = np.loadtxt(filename, usecols=(1, 2, 3), dtype=dtype_pos)\n",
    "    cpos = pos[0]\n",
    "    epos = pos[1:]\n",
    "    return cpos, epos    "
   ]
  },
  {
   "cell_type": "code",
   "execution_count": 7,
   "metadata": {},
   "outputs": [],
   "source": [
    "def read_mid_layout(filename):\n",
    "    pos = np.loadtxt(filename, usecols=(0, 1, 2), dtype=dtype_pos)\n",
    "    cpos = pos[0]\n",
    "    cpos['name'] = 'Centre'\n",
    "    epos = pos\n",
    "    return cpos, epos"
   ]
  },
  {
   "cell_type": "markdown",
   "metadata": {},
   "source": [
    "## Define functions for computing the baseline length distribution."
   ]
  },
  {
   "cell_type": "markdown",
   "metadata": {},
   "source": [
    "This version doesn't do projection of the baselines."
   ]
  },
  {
   "cell_type": "code",
   "execution_count": 8,
   "metadata": {},
   "outputs": [],
   "source": [
    "def baseline_distribution(cpos, epos, bins):\n",
    "\n",
    "    Rearth = 6371010.0/1000.0\n",
    "    degtorad = np.pi/180.0\n",
    "\n",
    "    array_x_centre = Rearth * np.cos(cpos['lat']*degtorad) * np.cos(cpos['lon']*degtorad)\n",
    "    array_y_centre = Rearth * np.cos(cpos['lat']*degtorad) * np.sin(cpos['lon']*degtorad)\n",
    "    array_z_centre = Rearth * np.sin(cpos['lat']*degtorad)\n",
    "\n",
    "    Array_dx = []\n",
    "    Array_dy = []\n",
    "    Array_dz = []\n",
    "    Array_r = []\n",
    "    Baseline_lengths_uv = []\n",
    "\n",
    "    Number_positions = len(epos)\n",
    "    print('Number of positions:', Number_positions)\n",
    "\n",
    "    for i in range(Number_positions):\n",
    "        Array_dx.append(Rearth*np.cos(epos['lat'][i]*degtorad)*np.cos(epos['lon'][i]*degtorad)-array_x_centre)\n",
    "        Array_dy.append(Rearth*np.cos(epos['lat'][i]*degtorad)*np.sin(epos['lon'][i]*degtorad)-array_y_centre)\n",
    "        Array_dz.append(Rearth*np.sin(epos['lat'][i]*degtorad)-array_z_centre)\n",
    "        Array_r.append(np.sqrt(Array_dx[i]**2+Array_dy[i]**2+Array_dz[i]**2))\n",
    "\n",
    "    Baseline_lengths = []\n",
    "    for i in range(Number_positions):\n",
    "        for j in range(Number_positions):\n",
    "            if j > i:\n",
    "                blength=(np.sqrt((Array_dx[j]-Array_dx[i])**2 + (Array_dy[j]-Array_dy[i])**2 + (Array_dz[j]-Array_dz[i])**2))\n",
    "                Baseline_lengths.append(blength)\n",
    "    \n",
    "    print('Number of baselines:', len(Baseline_lengths))\n",
    "    print('Number of bins used:', len(bins)-1)\n",
    "\n",
    "    n, bins, patches = plt.hist(Baseline_lengths, bins, density=False, histtype='stepfilled')\n",
    "    plt.ylabel('Number of baselines')\n",
    "    plt.xlabel('Baseline length, km')\n",
    "    plt.yscale('log')\n",
    "    plt.show()\n",
    "\n",
    "    percents = 100 * n / sum(n)\n",
    "\n",
    "    print('Bin upper edges:', 1000.0 * bins[1:])\n",
    "    print('Percentage baselines per bin:', percents)"
   ]
  },
  {
   "cell_type": "markdown",
   "metadata": {},
   "source": [
    "This version does do projection of the baselines (in a somewhat haphazard way)."
   ]
  },
  {
   "cell_type": "code",
   "execution_count": 9,
   "metadata": {},
   "outputs": [],
   "source": [
    "def baseline_distribution_with_projection(cpos, epos, bins):\n",
    "\n",
    "    Rearth = 6371010.0/1000.0\n",
    "    degtorad = np.pi/180.0\n",
    "\n",
    "    array_x_centre = Rearth * np.cos(cpos['lat']*degtorad) * np.cos(cpos['lon']*degtorad)\n",
    "    array_y_centre = Rearth * np.cos(cpos['lat']*degtorad) * np.sin(cpos['lon']*degtorad)\n",
    "    array_z_centre = Rearth * np.sin(cpos['lat']*degtorad)\n",
    "\n",
    "    Array_dx = []\n",
    "    Array_dy = []\n",
    "    Array_dz = []\n",
    "    Array_r = []\n",
    "    Baseline_lengths_uv = []\n",
    "\n",
    "    Number_positions = len(epos)\n",
    "    \n",
    "    for i in range(Number_positions):\n",
    "        Array_dx.append(Rearth*np.cos(epos['lat'][i]*degtorad)*np.cos(epos['lon'][i]*degtorad)-array_x_centre)\n",
    "        Array_dy.append(Rearth*np.cos(epos['lat'][i]*degtorad)*np.sin(epos['lon'][i]*degtorad)-array_y_centre)\n",
    "        Array_dz.append(Rearth*np.sin(epos['lat'][i]*degtorad)-array_z_centre)\n",
    "        Array_r.append(np.sqrt(Array_dx[i]**2+Array_dy[i]**2+Array_dz[i]**2))\n",
    "\n",
    "    phi_degrees = [-40, -30, -10, 0, 10, 20, 30, 40]\n",
    "    elevation_degrees = [50, 60, 70]\n",
    "\n",
    "    for k in range(len(phi_degrees)):\n",
    "        phi = phi_degrees[k] / 57.3 \n",
    "        #print('phi is', phi * 57.3)\n",
    "        for l in range(len(elevation_degrees)):\n",
    "            elevation=elevation_degrees[l] / 57.3\n",
    "            #print('elevation is', elevation * 57.3)\n",
    "            for i in range(Number_positions):\n",
    "                for j in range(Number_positions):\n",
    "                    if j > i:\n",
    "                        #rotate baselines to phi position (phi=0 means looking eastwards, phi=pi/2 means looking north)\n",
    "                        #then reduce baseline lengths in direction of view by elevation factor\n",
    "                        a = (Array_dx[j]-Array_dx[i])*np.cos(phi) - (Array_dy[j]-Array_dy[i])*np.sin(phi)\n",
    "                        b = (Array_dx[j]-Array_dx[i])*np.sin(phi) + (Array_dy[j]-Array_dy[i])*np.cos(phi)\n",
    "                        blength_uv = np.sqrt((a*np.sin(elevation))**2 + (b)**2)\n",
    "                        Baseline_lengths_uv.append(blength_uv)\n",
    "                                        \n",
    "    print('Total number of baselines in all projections:', len(Baseline_lengths_uv))\n",
    "    print('Number of bins used:', len(bins)-1)\n",
    "\n",
    "    n, bins, patches = plt.hist(Baseline_lengths_uv, bins, density=False, histtype='stepfilled')\n",
    "    plt.ylabel('Number of baselines')\n",
    "    plt.xlabel('Baseline length, km')\n",
    "    plt.yscale('log')\n",
    "    plt.show()\n",
    "\n",
    "    percents = 100 * n / sum(n)\n",
    "\n",
    "    print('Bin upper edges:', 1000.0 * bins[1:])\n",
    "    print('Percentage baselines per bin:', percents)"
   ]
  },
  {
   "cell_type": "markdown",
   "metadata": {},
   "source": [
    "## Baseline distribution for SKA1-Low"
   ]
  },
  {
   "cell_type": "code",
   "execution_count": 10,
   "metadata": {},
   "outputs": [
    {
     "name": "stdout",
     "output_type": "stream",
     "text": [
      "Number of positions: 512\n",
      "Number of baselines: 130816\n",
      "Number of bins used: 5\n"
     ]
    },
    {
     "data": {
      "image/png": "[encoded data removed]",
      "text/plain": [
       "<Figure size 432x288 with 1 Axes>"
      ]
     },
     "metadata": {
      "needs_background": "light"
     },
     "output_type": "display_data"
    },
    {
     "name": "stdout",
     "output_type": "stream",
     "text": [
      "Bin upper edges: [ 4062.5  8125.  16250.  32500.  65000. ]\n",
      "Percentage baselines per bin: [46.30065759 13.06774736 14.78360606 18.58770454  7.26028445]\n"
     ]
    }
   ],
   "source": [
    "layout = 'SKA1_Low_rev_03.txt'\n",
    "layout_file = os.path.join(layout_dir, layout)\n",
    "cpos, epos = read_low_layout(layout_file)\n",
    "baseline_bins = np.array((0.0, 65.0/16.0, 65.0/8.0, 65.0/4.0, 65.0/2.0, 65.0))\n",
    "baseline_distribution(cpos, epos, baseline_bins)"
   ]
  },
  {
   "cell_type": "markdown",
   "metadata": {},
   "source": [
    "## Baseline distribution for SKA1-Mid"
   ]
  },
  {
   "cell_type": "code",
   "execution_count": 11,
   "metadata": {},
   "outputs": [
    {
     "name": "stdout",
     "output_type": "stream",
     "text": [
      "Number of positions: 197\n",
      "Number of baselines: 19306\n",
      "Number of bins used: 12\n"
     ]
    },
    {
     "data": {
      "image/png": "[encoded data removed]",
      "text/plain": [
       "<Figure size 432x288 with 1 Axes>"
      ]
     },
     "metadata": {
      "needs_background": "light"
     },
     "output_type": "display_data"
    },
    {
     "name": "stdout",
     "output_type": "stream",
     "text": [
      "Bin upper edges: [  5000.   7500.  10000.  15000.  25000.  35000.  55000.  75000.  90000.\n",
      " 110000. 130000. 150000.]\n",
      "Percentage baselines per bin: [6.13646961e+01 5.16553546e+00 2.87031760e+00 4.98937879e+00\n",
      " 6.32609709e+00 4.63706544e+00 5.73545412e+00 5.50230558e+00\n",
      " 1.80301539e+00 1.45070204e+00 1.08802653e-01 4.66297083e-02]\n"
     ]
    }
   ],
   "source": [
    "layout = 'SKA1_Mid_rev_04.txt'\n",
    "layout_file = os.path.join(layout_dir, layout)\n",
    "cpos, epos = read_mid_layout(layout_file)\n",
    "baseline_bins = np.array((0.0, 5.0, 7.5, 10.0, 15.0, 25.0, 35.0, 55.0, 75.0, 90.0, 110.0, 130.0, 150.0))\n",
    "baseline_distribution(cpos, epos, baseline_bins)"
   ]
  }
 ],
 "metadata": {
  "kernelspec": {
   "display_name": "Python 3",
   "language": "python",
   "name": "python3"
  },
  "language_info": {
   "codemirror_mode": {
    "name": "ipython",
    "version": 3
   },
   "file_extension": ".py",
   "mimetype": "text/x-python",
   "name": "python",
   "nbconvert_exporter": "python",
   "pygments_lexer": "ipython3",
   "version": "3.7.2"
  },
  "widgets": {
   "state": {},
   "version": "1.1.2"
  }
 },
 "nbformat": 4,
 "nbformat_minor": 2
}
