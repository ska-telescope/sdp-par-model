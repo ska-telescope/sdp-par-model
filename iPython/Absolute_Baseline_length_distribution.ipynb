{
 "cells": [
  {
   "cell_type": "markdown",
   "metadata": {},
   "source": [
    "# Distribution of absolute baseline lengths\n",
    "\n",
    "Last run with Jupyter Notebook 5.7.2 running Python 3.7.1"
   ]
  },
  {
   "cell_type": "code",
   "execution_count": null,
   "metadata": {},
   "outputs": [],
   "source": [
    "import numpy as np\n",
    "import os\n",
    "import matplotlib.pyplot as plt\n",
    "%matplotlib inline"
   ]
  },
  {
   "cell_type": "code",
   "execution_count": null,
   "metadata": {},
   "outputs": [],
   "source": [
    "# This version doesn't do projection of the baselines.\n",
    "\n",
    "def baseline_distribution(layout_file, bins):\n",
    "\n",
    "    Rearth = 6371010.0/1000.0\n",
    "\n",
    "    # Read positions from layout file.\n",
    "\n",
    "    dish_diameter, dish_longitude, dish_latitude = np.loadtxt(layout_file, usecols=(0, 1, 2), unpack=True)\n",
    "    Number_positions = len(dish_diameter) - 1\n",
    "    print('File used for layout:', layout_file)\n",
    "    print('Number of positions:', Number_positions)\n",
    "    \n",
    "    array_centre_diameter = dish_diameter[Number_positions]\n",
    "    array_long_centre = dish_longitude[Number_positions]\n",
    "    array_lat_centre = dish_latitude[Number_positions]\n",
    "\n",
    "    if array_centre_diameter != 0.0: print('Array centre diameter:', array_centre_diameter, '(should be zero, just a check)')\n",
    "    print('Longitude of array centre:', array_long_centre)\n",
    "    print('Latitude of array centre:', array_lat_centre)\n",
    "\n",
    "    degtorad = np.pi/180.0\n",
    "\n",
    "    array_x_centre = Rearth * np.cos(array_lat_centre*degtorad) * np.cos(array_long_centre*degtorad)\n",
    "    array_y_centre = Rearth * np.cos(array_lat_centre*degtorad) * np.sin(array_long_centre*degtorad)\n",
    "    array_z_centre = Rearth * np.sin(array_lat_centre*degtorad)\n",
    "\n",
    "    Array_dx = []\n",
    "    Array_dy = []\n",
    "    Array_dz = []\n",
    "    Array_r = []\n",
    "    Baseline_lengths_uv = []\n",
    "\n",
    "    for i in range(Number_positions):\n",
    "        Array_dx.append(Rearth*np.cos(dish_latitude[i]*degtorad)*np.cos(dish_longitude[i]*degtorad)-array_x_centre)\n",
    "        Array_dy.append(Rearth*np.cos(dish_latitude[i]*degtorad)*np.sin(dish_longitude[i]*degtorad)-array_y_centre)\n",
    "        Array_dz.append(Rearth*np.sin(dish_latitude[i]*degtorad)-array_z_centre)\n",
    "        Array_r.append(np.sqrt(Array_dx[i]**2+Array_dy[i]**2+Array_dz[i]**2))\n",
    "\n",
    "    phi_degrees = [-40, -30, -10, 0, 10, 20, 30, 40]\n",
    "    elevation_degrees = [50, 60, 70]\n",
    "\n",
    "    Baseline_lengths=[]\n",
    "    for i in range(Number_positions):\n",
    "        for j in range(Number_positions):\n",
    "            if j > i:\n",
    "                blength=(np.sqrt((Array_dx[j]-Array_dx[i])**2 + (Array_dy[j]-Array_dy[i])**2 + (Array_dz[j]-Array_dz[i])**2))\n",
    "                Baseline_lengths.append(blength)\n",
    "    \n",
    "    print('Number of baselines:', len(Baseline_lengths))\n",
    "    print('Number of bins used:', len(bins)-1)\n",
    "\n",
    "    n, bins, patches = plt.hist(Baseline_lengths, bins, density=False, histtype='stepfilled')\n",
    "    plt.ylabel('Number of baselines')\n",
    "    plt.xlabel('Baseline length, km')\n",
    "    plt.yscale('log')\n",
    "    plt.show()\n",
    "\n",
    "    percents = 100 * n / sum(n)\n",
    "\n",
    "    print('Bin upper edges:', 1000.0 * bins[1:])\n",
    "    print('Percentage baselines per bin:', percents)"
   ]
  },
  {
   "cell_type": "code",
   "execution_count": null,
   "metadata": {},
   "outputs": [],
   "source": [
    "# This version does do projection of the baselines (in a somewhat haphazard way).\n",
    "\n",
    "def baseline_distribution_with_projection(layout_file, bins):\n",
    "\n",
    "    Rearth = 6371010.0/1000.0\n",
    "\n",
    "    # Read positions from layout file.\n",
    "\n",
    "    dish_diameter, dish_longitude, dish_latitude = np.loadtxt(layout_file, usecols=(0, 1, 2), unpack=True)\n",
    "    Number_positions = len(dish_diameter) - 1\n",
    "    print('File used for layout:', layout_file)\n",
    "    print('Number of positions:', Number_positions)\n",
    "    \n",
    "    array_centre_diameter = dish_diameter[Number_positions]\n",
    "    array_long_centre = dish_longitude[Number_positions]\n",
    "    array_lat_centre = dish_latitude[Number_positions]\n",
    "\n",
    "    if array_centre_diameter != 0.0: print('Array centre diameter:', array_centre_diameter, '(should be zero, just a check)')\n",
    "    print('Longitude of array centre:', array_long_centre)\n",
    "    print('Latitude of array centre:', array_lat_centre)\n",
    "\n",
    "    degtorad = np.pi/180.0\n",
    "\n",
    "    array_x_centre = Rearth * np.cos(array_lat_centre*degtorad) * np.cos(array_long_centre*degtorad)\n",
    "    array_y_centre = Rearth * np.cos(array_lat_centre*degtorad) * np.sin(array_long_centre*degtorad)\n",
    "    array_z_centre = Rearth * np.sin(array_lat_centre*degtorad)\n",
    "\n",
    "    Array_dx = []\n",
    "    Array_dy = []\n",
    "    Array_dz = []\n",
    "    Array_r = []\n",
    "    Baseline_lengths_uv = []\n",
    "\n",
    "    for i in range(Number_positions):\n",
    "        Array_dx.append(Rearth*np.cos(dish_latitude[i]*degtorad)*np.cos(dish_longitude[i]*degtorad)-array_x_centre)\n",
    "        Array_dy.append(Rearth*np.cos(dish_latitude[i]*degtorad)*np.sin(dish_longitude[i]*degtorad)-array_y_centre)\n",
    "        Array_dz.append(Rearth*np.sin(dish_latitude[i]*degtorad)-array_z_centre)\n",
    "        Array_r.append(np.sqrt(Array_dx[i]**2+Array_dy[i]**2+Array_dz[i]**2))\n",
    "\n",
    "    phi_degrees = [-40, -30, -10, 0, 10, 20, 30, 40]\n",
    "    elevation_degrees = [50, 60, 70]\n",
    "\n",
    "    for k in range(len(phi_degrees)):\n",
    "        phi = phi_degrees[k] / 57.3 \n",
    "        #print('phi is', phi * 57.3)\n",
    "        for l in range(len(elevation_degrees)):\n",
    "            elevation=elevation_degrees[l] / 57.3\n",
    "            #print('elevation is', elevation * 57.3)\n",
    "            for i in range(Number_positions):\n",
    "                for j in range(Number_positions):\n",
    "                    if j > i:\n",
    "                        #rotate baselines to phi position (phi=0 means looking eastwards, phi=pi/2 means looking north)\n",
    "                        #then reduce baseline lengths in direction of view by elevation factor\n",
    "                        a = (Array_dx[j]-Array_dx[i])*np.cos(phi) - (Array_dy[j]-Array_dy[i])*np.sin(phi)\n",
    "                        b = (Array_dx[j]-Array_dx[i])*np.sin(phi) + (Array_dy[j]-Array_dy[i])*np.cos(phi)\n",
    "                        blength_uv = np.sqrt((a*np.sin(elevation))**2 + (b)**2)\n",
    "                        Baseline_lengths_uv.append(blength_uv)\n",
    "                                        \n",
    "    print('Total number of baselines in all projections:', len(Baseline_lengths_uv))\n",
    "    print('Number of bins used:', len(bins)-1)\n",
    "\n",
    "    n, bins, patches = plt.hist(Baseline_lengths_uv, bins, density=False, histtype='stepfilled')\n",
    "    plt.ylabel('Number of baselines')\n",
    "    plt.xlabel('Baseline length, km')\n",
    "    plt.yscale('log')\n",
    "    plt.show()\n",
    "\n",
    "    percents = 100 * n / sum(n)\n",
    "\n",
    "    print('Bin upper edges:', 1000.0 * bins[1:])\n",
    "    print('Percentage baselines per bin:', percents)"
   ]
  },
  {
   "cell_type": "markdown",
   "metadata": {},
   "source": [
    "## Baseline distribution for Low"
   ]
  },
  {
   "cell_type": "code",
   "execution_count": null,
   "metadata": {},
   "outputs": [],
   "source": [
    "layout = 'LOW_SKA-TEL-SKO-0000422_Rev3.txt'\n",
    "layout_file = os.path.join('..', 'data', 'layouts', layout)\n",
    "baseline_bins = np.array((0.0, 65.0/16.0, 65.0/8.0, 65.0/4.0, 65.0/2.0, 65.0))\n",
    "baseline_distribution(layout_file, bins=baseline_bins)"
   ]
  },
  {
   "cell_type": "markdown",
   "metadata": {},
   "source": [
    "## Baseline distribution for Mid"
   ]
  },
  {
   "cell_type": "code",
   "execution_count": null,
   "metadata": {},
   "outputs": [],
   "source": [
    "layout = 'MID_SKA-TEL-INSA-0000537_Rev05.txt'\n",
    "layout_file = os.path.join('..', 'data', 'layouts', layout)\n",
    "baseline_bins = np.array((0.0, 5.0, 7.5, 10.0, 15.0, 25.0, 35.0, 55.0, 75.0, 90.0, 110.0, 130.0, 150.0))\n",
    "baseline_distribution(layout_file, bins=baseline_bins)"
   ]
  }
 ],
 "metadata": {
  "kernelspec": {
   "display_name": "Python 3",
   "language": "python",
   "name": "python3"
  },
  "language_info": {
   "codemirror_mode": {
    "name": "ipython",
    "version": 3
   },
   "file_extension": ".py",
   "mimetype": "text/x-python",
   "name": "python",
   "nbconvert_exporter": "python",
   "pygments_lexer": "ipython3",
   "version": "3.5.1"
  },
  "widgets": {
   "state": {},
   "version": "1.1.2"
  }
 },
 "nbformat": 4,
 "nbformat_minor": 2
}
