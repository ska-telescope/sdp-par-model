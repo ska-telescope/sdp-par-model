{
 "cells": [
  {
   "cell_type": "markdown",
   "metadata": {},
   "source": [
    "# SDP HPSO Scheduling\n",
    "\n",
    "Last run with Jupyter Notebook 5.0.0 running Python 3.5.2"
   ]
  },
  {
   "cell_type": "code",
   "execution_count": null,
   "metadata": {
    "collapsed": true
   },
   "outputs": [],
   "source": [
    "# Imports\n",
    "import matplotlib.pyplot as plt\n",
    "import sys\n",
    "import os\n",
    "import pickle\n",
    "\n",
    "sys.path += ['..']\n",
    "from sdp_par_model import reports as iapi\n",
    "from sdp_par_model.parameters.definitions import *\n",
    "from sdp_par_model.parameters.definitions import Constants as c\n",
    "\n",
    "from sdp_par_model.scheduler import Definitions as sdefs\n",
    "from sdp_par_model.scheduler import Scheduler\n",
    "\n",
    "import collections\n",
    "import warnings\n",
    "import bisect\n",
    "\n",
    "%matplotlib inline\n",
    "plt.rcParams['figure.figsize'] = 16, 8"
   ]
  },
  {
   "cell_type": "markdown",
   "metadata": {},
   "source": [
    "## Create a Scheduler object\n",
    "At the moment the Scheduler object contains the functionality of the SDP simulator, the scheduling code itself, as well as the generated schedule objects. In future we may wish to split them into separate classes and objects "
   ]
  },
  {
   "cell_type": "code",
   "execution_count": null,
   "metadata": {
    "collapsed": true
   },
   "outputs": [],
   "source": [
    "sdp_scheduler = Scheduler()"
   ]
  },
  {
   "cell_type": "markdown",
   "metadata": {},
   "source": [
    "## Read  performace requirement lookup for all HPSOs. \n",
    "### If this lookup table does not exist, we create it, and save it to disk (to save time re-computing)"
   ]
  },
  {
   "cell_type": "code",
   "execution_count": null,
   "metadata": {
    "collapsed": true,
    "scrolled": false
   },
   "outputs": [],
   "source": [
    "performance_lookup_filename = \"performance_dict.data\"\n",
    "if os.path.isfile(performance_lookup_filename):\n",
    "    performance_dict = None\n",
    "    with open(performance_lookup_filename, \"rb\") as f:\n",
    "        performance_dict = pickle.load(f)\n",
    "    sdp_scheduler.set_performance_dictionary(performance_dict)\n",
    "else:\n",
    "    # Create a performance dictionary and write it to file\n",
    "    performance_dict = sdp_scheduler.compute_performance_dictionary()\n",
    "    with open(performance_lookup_filename, \"wb\") as f:\n",
    "        pickle.dump(performance_dict, f, pickle.HIGHEST_PROTOCOL)"
   ]
  },
  {
   "cell_type": "markdown",
   "metadata": {},
   "source": [
    "## Let's create a sequence of tasks\n",
    "### This can be modified so that the list is read from e.g. a CSV file"
   ]
  },
  {
   "cell_type": "code",
   "execution_count": null,
   "metadata": {
    "collapsed": true
   },
   "outputs": [],
   "source": [
    "seqL = ('A','A','B','B','B','B','B','B','B','B','B','B','B','B','B','B','B','B','B','B','B','B','B','B','B','B','B','B','B','B','B','B','B','B','B','B','B','B','B','B','B','B','B','B','B','B','B','B','B','B','B','B','B','B','B','B','B','B','B','B','B','B','B','B','B','B','B','B','B','B','B','B','A','A','B','B','B','B','B','B','B','B','B','B','B','B','B','B','B','B','B','B','B','B','B','B','B','B','B','B','B','B','B','B','B','B','B','B','B','B','B','B','B','B','B','B','B','B','B','B','B','B','B','B','B','B','B','B','B','B','B','B','B','B','B','B','B','B','B','B','B','B','B','B','B','B','B','A','B','B','B','B','B','B','B','B','B','B','B','B','B','B','B','B','B','B','B','B','B','B','B','B','B','B','B','B','B','B','B','B','B','B','B','B','B','B','B','B','B','B','B')\n",
    "seqM = ('B','G','B','B','B','B','B','B','B','B','B','B','B','B','B','B','B','B','B','B','B','B','B','B','B','B','B','B','B','B','B','B','B','B','B','B','G','C','F','B','B','B','B','B','B','B','B','B','B','B','B','B','B','B','B','B','B','B','B','B','B','B','B','B','B','B','B','B','B','B','B','B','B','B','B','B','B','B','B','B','B','B','B','B','B','B','B','B','B','B','B','B','B','B','B','B','B','B','B','B','B','B','B','B','B','B','B','B','B','B','B','B','B','B','B','B','B','B','B','B','B','B','B','B','B','B','B','B','B','B','B','B','B','B','B','B','B','B','B','B','B','B','B','B','B','B','B','B','B','F','F','F','F','F','F','F','F','F','F','F','F','F','F','F','F','F','F','F','F','F','F','F','F','F','F','F','F','F','F','F','F','F','F','F','F','F','F','F','F','F','F','F','F','F','F','F','F','F','F','F','F','F','F','F','F','F','F','F','F','F','F','F','F','F','F','F','F','F','F','F','F','F','F','F','F','F','F','F','F','F','F','F','F','F','F','F','F','F','F','F','G','G','E','E','E','E','D')\n",
    "test_seq = ('A','B','B','B','A')\n",
    "\n",
    "squence_to_simulate = seqM\n",
    "\n",
    "task_list = sdp_scheduler.task_letters_to_sdp_task_list(squence_to_simulate)\n",
    "'''To show how the tasks are created, can print the sequence of Task objects.'''\n",
    "\n",
    "# for task in task_list:\n",
    "#    print(task)"
   ]
  },
  {
   "cell_type": "markdown",
   "metadata": {},
   "source": [
    "## Schedule the tasks on the SDP using the Scheduler"
   ]
  },
  {
   "cell_type": "code",
   "execution_count": null,
   "metadata": {},
   "outputs": [],
   "source": [
    "schedule = sdp_scheduler.schedule(task_list, sdp_flops=22.8, assign_flops_fraction=0.5, assign_bandwidth_fraction=0.5, \n",
    "                                  max_nr_iterations=1000)\n",
    "last_preservation_timestamp = sorted(schedule.preserve_deltas.keys())[-1]\n",
    "max_t = last_preservation_timestamp\n",
    "print(\"SDP task sequence completes at t = %g hrs\" % (max_t / 3600))"
   ]
  },
  {
   "cell_type": "code",
   "execution_count": null,
   "metadata": {
    "scrolled": false
   },
   "outputs": [],
   "source": [
    "max_preservation = sorted(schedule.preserve_deltas.values())[-1]\n",
    "last_preservation_timestamp = sorted(schedule.preserve_deltas.keys())[-1]\n",
    "xrange = [0, last_preservation_timestamp * 1.05]\n",
    "preserv_yrange = [0, max(max_preservation * 1.05, 1)]\n",
    "\n",
    "max_t = last_preservation_timestamp\n",
    "print(\"SDP task sequence completes at t = %g hrs\" % (max_t / 3600))\n",
    "\n",
    "iapi.plot_deltas(schedule.flops_deltas, xrange=xrange, max_t=max_t, \n",
    "                 title='Evolution of SDP FLOP/s', xlabel='wall clock time (hours)', ylabel='PetaFLOP/s')\n",
    "iapi.plot_deltas(schedule.memory_deltas, xrange=xrange, max_t=max_t, \n",
    "                 title='Evolution of SDP working memory (RAM)', xlabel='wall clock time (hours)', ylabel='TeraByte')\n",
    "iapi.plot_deltas(schedule.cold_buffer_deltas, xrange=xrange, max_t=max_t, \n",
    "                 title='Evolution of SDP Cold buffer', xlabel='wall clock time (hours)', ylabel='TeraByte')\n",
    "iapi.plot_deltas(schedule.hot_buffer_deltas, xrange=xrange, max_t=max_t, \n",
    "                 title='Evolution of SDP Hot buffer', xlabel='wall clock time (hours)', ylabel='TeraByte')\n",
    "iapi.plot_deltas(schedule.preserve_deltas, xrange=xrange, yrange=preserv_yrange, max_t=max_t, \n",
    "                 title='Evolution of SDP Preservation storage', xlabel='wall clock time (hours)', ylabel='TeraByte')\n",
    "\n",
    "iapi.plot_deltas(schedule.ingest_cold_pipe_deltas, xrange=xrange, max_t=max_t, \n",
    "                 title='Bandwidth usage of pipeline flowing into cold buffer', \n",
    "                 xlabel='wall clock time (hours)', ylabel='TeraByte/s', colour='c')\n",
    "iapi.plot_deltas(schedule.cold_hot_pipe_deltas, xrange=xrange, max_t=max_t, \n",
    "                 title='Bandwidth usage of pipeline flowing into hot buffer', \n",
    "                 xlabel='wall clock time (hours)', ylabel='TeraByte/s', colour='c')\n",
    "iapi.plot_deltas(schedule.hot_mem_pipe_delta, xrange=xrange, max_t=max_t, \n",
    "                 title='Bandwidth usage of pipeline from hot buffer to working memory', \n",
    "                 xlabel='wall clock time (hours)', ylabel='TeraByte/s', colour='c')\n",
    "iapi.plot_deltas(schedule.mem_hot_pipe_delta, xrange=xrange, max_t=max_t, \n",
    "                 title='Bandwidth usage of pipeline from working memory to hot buffer', \n",
    "                 xlabel='wall clock time (hours)', ylabel='TeraByte/s', colour='c')\n",
    "iapi.plot_deltas(schedule.hot_preserve_pipe_delta, xrange=xrange, max_t=max_t, \n",
    "                 title='Bandwidth usage of pipeline flowing into Preservation', \n",
    "                 xlabel='wall clock time (hours)', ylabel='TeraByte/s', colour='c')"
   ]
  },
  {
   "cell_type": "markdown",
   "metadata": {},
   "source": [
    "## Hard-coded performace costs and requirements from Rosie's Excel sheet\n",
    "### These were previously used in rev [3372fdd] to approximately replicate Rosie's results. Check (rerun) the notebook at that repository revision to regenerate those results - not repeated here."
   ]
  },
  {
   "cell_type": "code",
   "execution_count": null,
   "metadata": {
    "collapsed": true
   },
   "outputs": [],
   "source": [
    "# The following sets of values should be computed using the parametric model. Just hard-coded for now (from Excel)\n",
    "hpso_ingest_rates = {'A':0.459, 'B':3e-3, 'C':0.117, 'D':0.112, 'E':0.0603, 'F':0.244, 'G':0.438}  # in TeraByte/s\n",
    "# FLOPcounts below are the PetaFLOPs required to process one second of ingested data\n",
    "hpso_flopcounts = {'A':50.4, 'B':2.0, 'C':7.5, 'D':6.2, 'E':2.9833, 'F':17.689, 'G':27.698}  # in PetaFLOP/s\n",
    "hpso_durations  = {'A':6, 'B':0.17, 'C':6, 'D':6, 'E':4.4, 'F':0.1233, 'G':6}  # in hours -- TODO check whether correct\n",
    "\n",
    "sdp_setup_time = 60  # the minimum amount of time between processing tasks on the SDP (seconds)\n",
    "telecope_setup_time = 0  # TODO is this correct?"
   ]
  }
 ],
 "metadata": {
  "anaconda-cloud": {},
  "kernelspec": {
   "display_name": "Python 3",
   "language": "python",
   "name": "python3"
  },
  "language_info": {
   "codemirror_mode": {
    "name": "ipython",
    "version": 3
   },
   "file_extension": ".py",
   "mimetype": "text/x-python",
   "name": "python",
   "nbconvert_exporter": "python",
   "pygments_lexer": "ipython3",
   "version": "3.5.2"
  }
 },
 "nbformat": 4,
 "nbformat_minor": 1
}
