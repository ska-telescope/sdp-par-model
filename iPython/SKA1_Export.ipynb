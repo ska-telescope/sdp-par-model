{
 "cells": [
  {
   "cell_type": "markdown",
   "metadata": {},
   "source": [
    "# SDP Parametric Model Data Export\n",
    "\n",
    "(Last tested with Jupyter Notebook 5.7.4 using Python 3.7.2 - if you have trouble, check version compatibility)"
   ]
  },
  {
   "cell_type": "code",
   "execution_count": null,
   "metadata": {
    "scrolled": true
   },
   "outputs": [],
   "source": [
    "from __future__ import print_function\n",
    "import functools\n",
    "import sys\n",
    "import os\n",
    "import re\n",
    "from ipywidgets import interact_manual, Select, SelectMultiple\n",
    "from IPython.display import display, Markdown\n",
    "sys.path+=['..']\n",
    "from sdp_par_model import reports\n",
    "from sdp_par_model.parameters.definitions import *\n",
    "\n",
    "import subprocess, string\n",
    "git_date = subprocess.check_output([\"git\", \"log\", \"-1\", \"--format=%ci\"]).split()[0].decode()\n",
    "git_rev = subprocess.check_output([\"git\", \"rev-parse\", \"--short\", \"HEAD\"]).split()[0].decode()\n",
    "\n",
    "# Check for changes in Python. We assume notebooks and other files don't matter for the result\n",
    "changed_python = [ line[3:]\n",
    "   for line in subprocess.check_output([\"git\", \"status\", \"--porcelain\"]).decode().split('\\n')\n",
    "   if line.startswith(' M ') and line.endswith('.py')]\n",
    "if len(changed_python) > 0:\n",
    "    print(\"Unclean Git revision %s from %s (files changes: %s)\" % (git_rev, git_date, \",\".join(changed_python)))\n",
    "    git_rev += \"_HEAD\"    \n",
    "else:\n",
    "    print(\"Clean Git revision %s from %s\" % (git_rev, git_date))\n",
    "    \n",
    "csv_path = os.path.join('..','data','csv','')\n",
    "if not os.path.isdir(csv_path):\n",
    "    os.makedirs(csv_path)\n",
    "output_pipelines_filename = csv_path + git_date + \"-\" + git_rev + \"_pipelines.csv\"\n",
    "output_hpsos_filename = csv_path + git_date + \"-\" + git_rev + \"_hpsos.csv\"\n",
    "\n",
    "out_path = \"out\"\n",
    "if not os.path.isdir(out_path):\n",
    "    os.makedirs(out_path)"
   ]
  },
  {
   "cell_type": "code",
   "execution_count": null,
   "metadata": {},
   "outputs": [],
   "source": [
    "parallel = 0\n",
    "try:\n",
    "    import pymp\n",
    "    import multiprocessing\n",
    "    parallel = multiprocessing.cpu_count()\n",
    "    print(\"Using parallelism degree of %d\" % parallel)\n",
    "except Exception as e:\n",
    "    print(\"Not utilising parallelism (%s)\" % e)"
   ]
  },
  {
   "cell_type": "markdown",
   "metadata": {
    "collapsed": true
   },
   "source": [
    "## Generate CSV data for HPSOs and Pipelines\n",
    "\n",
    "Equivalent to leaving all HPSOs/pipelines selected above. This might take a bit of time!"
   ]
  },
  {
   "cell_type": "code",
   "execution_count": null,
   "metadata": {
    "scrolled": true
   },
   "outputs": [],
   "source": [
    "reports.write_csv_hpsos(output_hpsos_filename, HPSOs.available_hpsos, parallel=parallel, verbose=False)"
   ]
  },
  {
   "cell_type": "code",
   "execution_count": null,
   "metadata": {
    "scrolled": true
   },
   "outputs": [],
   "source": [
    "reports.write_csv_pipelines(output_pipelines_filename,Telescopes.available_teles,Bands.available_bands,\n",
    "                            Pipelines.available_pipelines, parallel=parallel, verbose=False)"
   ]
  },
  {
   "cell_type": "markdown",
   "metadata": {},
   "source": [
    "## Calculation results can be exported as CSV\n",
    "\n",
    "These files can be opened by standard spreadsheet programs such as LibreOffice Calc or Microsoft Excel."
   ]
  },
  {
   "cell_type": "code",
   "execution_count": null,
   "metadata": {
    "scrolled": true
   },
   "outputs": [],
   "source": [
    "interact_manual(reports.write_csv_hpsos,\n",
    "                filename=output_hpsos_filename,\n",
    "                hpsos=SelectMultiple(options=sorted(tuple(HPSOs.available_hpsos)), value=tuple(HPSOs.available_hpsos)),\n",
    "                parallel=(0,32,1));"
   ]
  },
  {
   "cell_type": "code",
   "execution_count": null,
   "metadata": {
    "scrolled": true
   },
   "outputs": [],
   "source": [
    "interact_manual(reports.write_csv_pipelines,\n",
    "                filename=output_pipelines_filename,\n",
    "                telescopes=SelectMultiple(options=sorted(tuple(Telescopes.available_teles)), value=tuple(Telescopes.available_teles)),\n",
    "                bands=SelectMultiple(options=sorted(tuple(Bands.available_bands)), value=tuple(Bands.available_bands)),\n",
    "                pipelines=SelectMultiple(options=sorted(tuple(Pipelines.available_pipelines)), value=tuple(Pipelines.available_pipelines)),\n",
    "                parallel=(0,32,1));"
   ]
  },
  {
   "cell_type": "markdown",
   "metadata": {},
   "source": [
    "## CSV tables can be compared to track changes\n",
    "\n",
    "Note that you might have to re-execute the cell if freshly generated CSV files don't appear in the list. The reference files selected by default is the last one that was checked into version control."
   ]
  },
  {
   "cell_type": "code",
   "execution_count": null,
   "metadata": {
    "scrolled": false
   },
   "outputs": [],
   "source": [
    "ls = [ csv_path+\"%s\" % n for n in os.listdir(csv_path) if n.endswith(\".csv\") ]\n",
    "ls = sorted(ls, key=lambda n: os.stat(n).st_mtime)\n",
    "results = list(reversed(ls))\n",
    "refs = subprocess.check_output([\"git\", \"log\", \"--pretty=format:\", \"--name-only\", csv_path]).split()\n",
    "refs = [os.path.relpath(r.decode(), \"iPython\") for r in refs]\n",
    "result_refs = list([ r for r in results if r in refs ])\n",
    "interact_manual(reports.compare_csv,\n",
    "                result_file=Select(options=results, value=results[0]),\n",
    "                ref_file=Select(options=results, value=result_refs[0]))"
   ]
  },
  {
   "cell_type": "markdown",
   "metadata": {},
   "source": [
    "## Compare *all* pipelines and HPSO versions\n",
    "\n",
    "We go back in (Git) history and pairwise compare them. Starts with some routines for interacting with Git:"
   ]
  },
  {
   "cell_type": "code",
   "execution_count": null,
   "metadata": {
    "scrolled": true
   },
   "outputs": [],
   "source": [
    "def get_ref(file):\n",
    "    \"\"\" Identify Git revision that corresponds to the given historical file. \"\"\"\n",
    "    if file in [output_pipelines_filename, output_hpsos_filename]:\n",
    "        return \"HEAD\"\n",
    "    # Has a git revision in the name?\n",
    "    match = re.search(r\"-([0-9A-Fa-f]+)_\", file)\n",
    "    if match is None:\n",
    "        # Otherwise use the revision where the CSV file was checked in\n",
    "        out = subprocess.check_output([\"git\", \"log\", \"--follow\", \"--format=%h\", file]).decode().split('\\n')\n",
    "        out = list(filter(lambda l: l != '', out))\n",
    "        return out[-1]\n",
    "    return match.group(1)\n",
    "def get_log(file0, file1):\n",
    "    ref0 = get_ref(file0)\n",
    "    ref1 = get_ref(file1)\n",
    "    if ref0 == '' or ref1 == '': return ''\n",
    "    return subprocess.check_output([\"git\", \"log\", ref0 + \"..\" + ref1, '--format=%h %ci %cn: %s']).decode()\n",
    "def cmp(file0, file1):\n",
    "    ref0 = get_ref(file0)\n",
    "    ref1 = get_ref(file1)\n",
    "    if ref0 == ref1: return 0\n",
    "    if get_log(file0, file1) != '':\n",
    "        return 1\n",
    "    return -1"
   ]
  },
  {
   "cell_type": "markdown",
   "metadata": {},
   "source": [
    "Finally compare each against their closest parent:"
   ]
  },
  {
   "cell_type": "code",
   "execution_count": null,
   "metadata": {
    "scrolled": false
   },
   "outputs": [],
   "source": [
    "ref_map = reports.find_csvs()\n",
    "csvsCurrent = True\n",
    "for typ in ['hpsos', 'pipelines']:\n",
    "\n",
    "    # Add current HPSOs (generated above) to the list, if we did not skip it\n",
    "    suffix = \"_%s.csv\" % typ\n",
    "    my_refs = list(filter(lambda n: n[1].endswith(suffix), ref_map.items()))\n",
    "    if os.path.isfile(output_hpsos_filename) and output_hpsos_filename.endswith(suffix):\n",
    "        my_refs.insert(0, (('HEAD', typ), output_hpsos_filename))\n",
    "    if os.path.isfile(output_pipelines_filename) and output_pipelines_filename.endswith(suffix):\n",
    "        my_refs.insert(0, (('HEAD', typ), output_pipelines_filename))\n",
    "\n",
    "    # First sort all CVSs. The check-ins should already be in roughly the right order, but the few exceptions\n",
    "    # are bothersome enough to sacrifice a few seconds doing this.\n",
    "    print('Sorting...')\n",
    "    my_refs = sorted(my_refs, key=functools.cmp_to_key(lambda n1, n2: cmp(n1[1], n2[1])))\n",
    "\n",
    "    # Compare pairwise, track changes\n",
    "    for i, ((rev,_), results) in enumerate(my_refs):\n",
    "        reference = reports.newest_csv(ref_map, typ, rev+'^')\n",
    "        if reference is None:\n",
    "            continue\n",
    "        \n",
    "        display(Markdown(\"### Comparing %s with %s\" % (results, reference)))\n",
    "        diff = reports.compare_csv(results, reference, return_diffs=True,\n",
    "                                   export_html=os.path.join(out_path,\"compare_%s_%d.html\" % (typ,i)))\n",
    "        for row, me,mi,ma in diff:\n",
    "            if 'Total Compute' not in row: continue\n",
    "            display(Markdown(\"%s: mean %+.5f%% (min %+.5f%% max %+.5f%%)\" % (row, me,mi,ma)))\n",
    "            if (abs(mi) > 1e-6 or abs(ma) > 1e-6) and results in [output_hpsos_filename, output_pipelines_filename]:\n",
    "                display(Markdown('### <span style=\"color:red\">Result mismatch. Commit %s, or Jenkins will complain!</span>'\n",
    "                                 % results))\n",
    "                csvsCurrent = False\n",
    "        print(get_log(reference, results))"
   ]
  },
  {
   "cell_type": "markdown",
   "metadata": {},
   "source": [
    "We always want to keep the current numbers under source control for easy comparisons. Therefore, the CSV file checked into Git should exactly match the current results."
   ]
  },
  {
   "cell_type": "code",
   "execution_count": null,
   "metadata": {},
   "outputs": [],
   "source": [
    "assert csvsCurrent, \"Last checked in CSV does not match current results!\""
   ]
  }
 ],
 "metadata": {
  "anaconda-cloud": {},
  "kernelspec": {
   "display_name": "Python 3",
   "language": "python",
   "name": "python3"
  },
  "language_info": {
   "codemirror_mode": {
    "name": "ipython",
    "version": 3
   },
   "file_extension": ".py",
   "mimetype": "text/x-python",
   "name": "python",
   "nbconvert_exporter": "python",
   "pygments_lexer": "ipython3",
   "version": "3.7.2"
  },
  "latex_envs": {
   "LaTeX_envs_menu_present": true,
   "autoclose": false,
   "autocomplete": true,
   "bibliofile": "biblio.bib",
   "cite_by": "apalike",
   "current_citInitial": 1,
   "eqLabelWithNumbers": true,
   "eqNumInitial": 1,
   "hotkeys": {
    "equation": "Ctrl-E",
    "itemize": "Ctrl-I"
   },
   "labels_anchors": false,
   "latex_user_defs": false,
   "report_style_numbering": false,
   "user_envs_cfg": false
  }
 },
 "nbformat": 4,
 "nbformat_minor": 1
}
