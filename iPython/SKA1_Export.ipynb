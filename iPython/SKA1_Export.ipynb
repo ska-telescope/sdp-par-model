{
 "cells": [
  {
   "cell_type": "markdown",
   "metadata": {},
   "source": [
    "# SDP Parametric Model Data Export\n",
    "\n",
    "(Last tested with IPython 4.2.0 using Python 3.5 - if you have trouble, check version compatibility)"
   ]
  },
  {
   "cell_type": "code",
   "execution_count": null,
   "metadata": {
    "collapsed": false,
    "scrolled": true
   },
   "outputs": [],
   "source": [
    "from __future__ import print_function\n",
    "import sys\n",
    "import os\n",
    "from ipywidgets import interact_manual, Select, SelectMultiple\n",
    "from IPython.display import display, Markdown\n",
    "sys.path+=['..']\n",
    "from sdp_par_model import reports as iapi\n",
    "from sdp_par_model.parameters.definitions import *\n",
    "\n",
    "import subprocess, string\n",
    "git_date = subprocess.check_output([\"git\", \"log\", \"-1\", \"--format=%ci\"]).split()[0].decode()\n",
    "git_rev = subprocess.check_output([\"git\", \"rev-parse\", \"--short\", \"HEAD\"]).split()[0].decode()\n",
    "csv_path = os.path.join('..','data','csv','')"
   ]
  },
  {
   "cell_type": "markdown",
   "metadata": {},
   "source": [
    "## Calculation results can be exported as CSV\n",
    "\n",
    "These files can be opened by standard spreadsheet programs such as LibreOffice Calc or Microsoft Excel."
   ]
  },
  {
   "cell_type": "code",
   "execution_count": null,
   "metadata": {
    "collapsed": false,
    "scrolled": true
   },
   "outputs": [],
   "source": [
    "interact_manual(iapi.write_csv_hpsos,\n",
    "                filename=csv_path + git_date + \"-\" + git_rev + \"_hpsos.csv\",\n",
    "                hpsos=SelectMultiple(options=HPSOs.available_hpsos, value=HPSOs.available_hpsos));"
   ]
  },
  {
   "cell_type": "code",
   "execution_count": null,
   "metadata": {
    "collapsed": false,
    "scrolled": true
   },
   "outputs": [],
   "source": [
    "interact_manual(iapi.write_csv_pipelines,\n",
    "                filename=csv_path + git_date + \"-\" + git_rev + \"_pipelines.csv\",\n",
    "                telescopes=SelectMultiple(options=Telescopes.available_teles, value=Telescopes.available_teles),\n",
    "                bands=SelectMultiple(options=Bands.available_bands, value=Bands.available_bands),\n",
    "                pipelines=SelectMultiple(options=Pipelines.available_pipelines, value=Pipelines.available_pipelines));"
   ]
  },
  {
   "cell_type": "markdown",
   "metadata": {
    "collapsed": true
   },
   "source": [
    "## Generate CSV data for all pipelines and HPSOs\n",
    "\n",
    "This might take a bit of time!"
   ]
  },
  {
   "cell_type": "code",
   "execution_count": null,
   "metadata": {
    "collapsed": false,
    "scrolled": false
   },
   "outputs": [],
   "source": [
    "out_path = os.path.join('out', 'csv')\n",
    "if not os.path.isdir(out_path):\n",
    "    os.makedirs(out_path);\n",
    "iapi.write_csv_hpsos(os.path.join(out_path, 'current_hpsos.csv'), HPSOs.available_hpsos)\n",
    "iapi.write_csv_pipelines(os.path.join(out_path, 'current_pipelines.csv'),\n",
    "                         Telescopes.available_teles, Bands.available_bands, Pipelines.available_pipelines)"
   ]
  },
  {
   "cell_type": "markdown",
   "metadata": {},
   "source": [
    "## CSV tables can be compared to track changes\n",
    "\n",
    "Note that you might have to re-execute the cell if freshly generated CSV files don't appear in the list. The reference files selected by default is the last one that was checked into version control."
   ]
  },
  {
   "cell_type": "code",
   "execution_count": null,
   "metadata": {
    "collapsed": false,
    "scrolled": false
   },
   "outputs": [],
   "source": [
    "ls = [ csv_path+\"%s\" % n for n in os.listdir(csv_path) if n.endswith(\".csv\") ]\n",
    "ls = sorted(ls, key=lambda n: os.stat(n).st_mtime)\n",
    "results = list(reversed(ls))\n",
    "refs = subprocess.check_output([\"git\", \"log\", \"--pretty=format:\", \"--name-only\", csv_path]).split()\n",
    "refs = [os.path.relpath(r.decode(), \"iPython\") for r in refs]\n",
    "result_refs = list([ r for r in results if r in refs ])\n",
    "interact_manual(iapi.compare_csv,\n",
    "                result_file=Select(options=results, value=results[0]),\n",
    "                ref_file=Select(options=results, value=result_refs[0]))"
   ]
  },
  {
   "cell_type": "markdown",
   "metadata": {},
   "source": [
    "## Compare *all* pipelines and HPSO versions\n",
    "\n",
    "We go back in (Git) history and pairwise compare them. The current results (see above) are included."
   ]
  },
  {
   "cell_type": "code",
   "execution_count": null,
   "metadata": {
    "collapsed": false,
    "scrolled": false
   },
   "outputs": [],
   "source": [
    "out_path = os.path.join('out', 'csv')\n",
    "# Get all reference files from Git history\n",
    "refs = subprocess.check_output([\"git\", \"log\", \"--pretty=format:\", \"--name-only\", \"--reverse\", \"../data/csv\"]).split()\n",
    "refs = list(map(lambda r: os.path.relpath(r.decode(), \"iPython\"), reversed(refs)))\n",
    "hpso_refs = list(filter(lambda n: n.endswith('_hpsos.csv'), refs))\n",
    "all_hpsos = [os.path.join(out_path, 'current_hpsos.csv')] + hpso_refs\n",
    "pipelines_refs = list(filter(lambda n: n.endswith('_pipelines.csv'), refs))\n",
    "all_pipelines = [os.path.join(out_path, 'current_pipelines.csv')] + pipelines_refs\n",
    "\n",
    "# Quick and dirty way to get the piece of history\n",
    "import re\n",
    "def git_log(file0, file1):\n",
    "    display(Markdown(\"### Comparing %s with %s\" % (file1, file0)))\n",
    "\n",
    "    match0 = re.search(r\"-([0-9A-Fa-f]+)_\", file0)\n",
    "    if match0 is None: return\n",
    "    ref0 = match0.group(1)\n",
    "\n",
    "    if file1.startswith(out_path): # current\n",
    "        ref1 = \"HEAD\"\n",
    "    else:\n",
    "        match1 = re.search(r\"-([0-9A-Fa-f]+)_\", file1)\n",
    "        if match1 is None: return\n",
    "        ref1 = match1.group(1)\n",
    "\n",
    "    print(subprocess.check_output([\"git\", \"log\", ref0 + \"..\" + ref1, '--format=%h %ci %cn: %s']).decode())\n",
    "\n",
    "# Compare pairwise, track changes\n",
    "diffs_hpsos = []\n",
    "for i, (results, reference) in enumerate(zip(all_hpsos, all_hpsos[1:])):\n",
    "    git_log(reference, results)\n",
    "    diffs_hpsos.append(iapi.compare_csv(results, reference,\n",
    "                                        export_html=os.path.join(out_path,\"compare_hpsos_%d.html\" % i)))\n",
    "diffs_pipelines = []\n",
    "for i, (results, reference) in enumerate(zip(all_pipelines, all_pipelines[1:])):\n",
    "    git_log(reference, results)\n",
    "    diffs_pipelines.append(iapi.compare_csv(results, reference,\n",
    "                                            export_html=os.path.join(out_path,\"compare_pipelines_%d.html\" % i)))"
   ]
  },
  {
   "cell_type": "markdown",
   "metadata": {},
   "source": [
    "We always want to keep the current numbers under source control for easy comparisons. Therefore, the CSV file checked into Git should exactly match the current results."
   ]
  },
  {
   "cell_type": "code",
   "execution_count": null,
   "metadata": {
    "collapsed": false
   },
   "outputs": [],
   "source": [
    "assert diffs_hpsos[0] < 1e-6, \"%s does not match (%g)! Forgot to check in new results?\" % (all_hpsos[1], diffs_hpsos[0])\n",
    "assert diffs_pipelines[0] < 1e-6, \"%s does not match (%g)! Forgot to check in  new results?\" % (all_pipelines[1], diffs_pipelines[0])"
   ]
  }
 ],
 "metadata": {
  "kernelspec": {
   "display_name": "Python 3",
   "language": "python",
   "name": "python3"
  },
  "language_info": {
   "codemirror_mode": {
    "name": "ipython",
    "version": 3
   },
   "file_extension": ".py",
   "mimetype": "text/x-python",
   "name": "python",
   "nbconvert_exporter": "python",
   "pygments_lexer": "ipython3",
   "version": "3.5.1"
  },
  "widgets": {
   "state": {},
   "version": "1.1.2"
  }
 },
 "nbformat": 4,
 "nbformat_minor": 0
}
