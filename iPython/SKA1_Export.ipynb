{
 "cells": [
  {
   "cell_type": "markdown",
   "metadata": {},
   "source": [
    "# SDP Parametric Model Data Export\n",
    "\n",
    "(Last tested with IPython 4.2.0 using Python 3.5 - if you have trouble, check version compatibility)"
   ]
  },
  {
   "cell_type": "code",
   "execution_count": null,
   "metadata": {
    "collapsed": false,
    "scrolled": true
   },
   "outputs": [],
   "source": [
    "from __future__ import print_function\n",
    "import functools\n",
    "import sys\n",
    "import os\n",
    "import re\n",
    "from ipywidgets import interact_manual, Select, SelectMultiple\n",
    "from IPython.display import display, Markdown\n",
    "sys.path+=['..']\n",
    "from sdp_par_model import reports as iapi\n",
    "from sdp_par_model.parameters.definitions import *\n",
    "\n",
    "import subprocess, string\n",
    "git_date = subprocess.check_output([\"git\", \"log\", \"-1\", \"--format=%ci\"]).split()[0].decode()\n",
    "git_rev = subprocess.check_output([\"git\", \"rev-parse\", \"--short\", \"HEAD\"]).split()[0].decode()\n",
    "csv_path = os.path.join('..','data','csv','')\n",
    "current_pipelines = csv_path + git_date + \"-\" + git_rev + \"_pipelines.csv\"\n",
    "current_hpsos = csv_path + git_date + \"-\" + git_rev + \"_hpsos.csv\""
   ]
  },
  {
   "cell_type": "markdown",
   "metadata": {},
   "source": [
    "## Calculation results can be exported as CSV\n",
    "\n",
    "These files can be opened by standard spreadsheet programs such as LibreOffice Calc or Microsoft Excel."
   ]
  },
  {
   "cell_type": "code",
   "execution_count": null,
   "metadata": {
    "collapsed": false,
    "scrolled": true
   },
   "outputs": [],
   "source": [
    "interact_manual(iapi.write_csv_hpsos,\n",
    "                filename=current_hpsos,\n",
    "                hpsos=SelectMultiple(options=HPSOs.available_hpsos, value=HPSOs.available_hpsos),\n",
    "                parallel=(0,32,1));"
   ]
  },
  {
   "cell_type": "code",
   "execution_count": null,
   "metadata": {
    "collapsed": false,
    "scrolled": true
   },
   "outputs": [],
   "source": [
    "interact_manual(iapi.write_csv_pipelines,\n",
    "                filename=current_pipelines,\n",
    "                telescopes=SelectMultiple(options=Telescopes.available_teles, value=Telescopes.available_teles),\n",
    "                bands=SelectMultiple(options=Bands.available_bands, value=Bands.available_bands),\n",
    "                pipelines=SelectMultiple(options=Pipelines.available_pipelines, value=Pipelines.available_pipelines),\n",
    "                parallel=(0,32,1));"
   ]
  },
  {
   "cell_type": "markdown",
   "metadata": {},
   "source": [
    "## CSV tables can be compared to track changes\n",
    "\n",
    "Note that you might have to re-execute the cell if freshly generated CSV files don't appear in the list. The reference files selected by default is the last one that was checked into version control."
   ]
  },
  {
   "cell_type": "code",
   "execution_count": null,
   "metadata": {
    "collapsed": false,
    "scrolled": false
   },
   "outputs": [],
   "source": [
    "ls = [ csv_path+\"%s\" % n for n in os.listdir(csv_path) if n.endswith(\".csv\") ]\n",
    "ls = sorted(ls, key=lambda n: os.stat(n).st_mtime)\n",
    "results = list(reversed(ls))\n",
    "refs = subprocess.check_output([\"git\", \"log\", \"--pretty=format:\", \"--name-only\", csv_path]).split()\n",
    "refs = [os.path.relpath(r.decode(), \"iPython\") for r in refs]\n",
    "result_refs = list([ r for r in results if r in refs ])\n",
    "interact_manual(iapi.compare_csv,\n",
    "                result_file=Select(options=results, value=results[0]),\n",
    "                ref_file=Select(options=results, value=result_refs[0]))"
   ]
  },
  {
   "cell_type": "markdown",
   "metadata": {
    "collapsed": true
   },
   "source": [
    "## Generate CSV data for all pipelines and HPSOs\n",
    "\n",
    "Equivalent to leaving all HPSOs/pipelines selected above. This might take a bit of time!"
   ]
  },
  {
   "cell_type": "code",
   "execution_count": null,
   "metadata": {
    "collapsed": false,
    "scrolled": true
   },
   "outputs": [],
   "source": [
    "out_path = os.path.join('out', 'csv')\n",
    "if not os.path.isdir(out_path):\n",
    "    os.makedirs(out_path);\n",
    "iapi.write_csv_hpsos(current_hpsos, HPSOs.available_hpsos, parallel=parallel)\n",
    "iapi.write_csv_pipelines(current_pipelines,Telescopes.available_teles,Bands.available_bands,Pipelines.available_pipelines,\n",
    "                         parallel=parallel)\n",
   ]
  },
  {
   "cell_type": "markdown",
   "metadata": {},
   "source": [
    "## Compare *all* pipelines and HPSO versions\n",
    "\n",
    "We go back in (Git) history and pairwise compare them. The current results (see above) are included."
   ]
  },
  {
   "cell_type": "code",
   "execution_count": null,
   "metadata": {
    "collapsed": false,
    "scrolled": true
   },
   "outputs": [],
   "source": [
    "out_path = os.path.join('out', 'csv')\n",
    "\n",
    "def get_ref(file):\n",
    "    \"\"\" Identify Git revision that corresponds to the given historical file. \"\"\"\n",
    "    if file in [current_pipelines, current_hpsos]:\n",
    "        return \"HEAD\"\n",
    "    # Has a git revision in the name?\n",
    "    match = re.search(r\"-([0-9A-Fa-f]+)_\", file)\n",
    "    if match is None:\n",
    "        # Otherwise use the revision where the CSV file was checked in\n",
    "        out = subprocess.check_output([\"git\", \"log\", \"--follow\", \"--format=%h\", file]).decode().split('\\n')\n",
    "        out = list(filter(lambda l: l != '', out))\n",
    "        return out[-1]\n",
    "    return match.group(1)\n",
    "def get_log(file0, file1):\n",
    "    ref0 = get_ref(file0)\n",
    "    ref1 = get_ref(file1)\n",
    "    if ref0 == '' or ref1 == '': return ''\n",
    "    return subprocess.check_output([\"git\", \"log\", ref0 + \"..\" + ref1, '--format=%h %ci %cn: %s']).decode()\n",
    "def cmp(file0, file1):\n",
    "    ref0 = get_ref(file0)\n",
    "    ref1 = get_ref(file1)\n",
    "    if ref0 == ref1: return 0\n",
    "    if get_log(file0, file1) != '':\n",
    "        return 1\n",
    "    return -1\n",
    "\n",
    "# Get all reference files from Git history\n",
    "refs = subprocess.check_output([\"git\", \"log\", \"--pretty=format:\", \"--name-only\", \"--reverse\", \"../data/csv\"]).split()\n",
    "refs = list(map(lambda r: os.path.relpath(r.decode(), \"iPython\"), reversed(refs)))\n",
    "\n",
    "csvsCurrent = True\n",
    "for typ in ['hpsos', 'pipelines']:\n",
    "\n",
    "    # Add current HPSOs (generated above) to the list, if we did not skip it\n",
    "    suffix = \"_%s.csv\" % typ\n",
    "    my_refs = list(filter(lambda n: n.endswith(suffix), refs))\n",
    "    if os.path.isfile(current_hpsos) and current_hpsos.endswith(suffix):\n",
    "        my_refs.insert(0, current_hpsos)\n",
    "    if os.path.isfile(current_pipelines) and current_pipelines.endswith(suffix):\n",
    "        my_refs.insert(0, current_pipelines)\n",
    "\n",
    "    # First sort all CVSs. The check-ins should already be in roughly the right order, but the few exceptions\n",
    "    # are bothersome enough to sacrifice a few seconds doing this.\n",
    "    print('Sorting...')\n",
    "    my_refs = sorted(my_refs, key=functools.cmp_to_key(cmp))\n",
    "\n",
    "    # Compare pairwise, track changes\n",
    "    for i, (results, reference) in enumerate(zip(my_refs, my_refs[1:])):\n",
    "        display(Markdown(\"### Comparing %s with %s\" % (results, reference)))\n",
    "        diff = iapi.compare_csv(results, reference,\n",
    "                                export_html=os.path.join(out_path,\"compare_%s_%d.html\" % (typ,i)))\n",
    "        if results in [current_hpsos, current_pipelines] and diff > 1e-6:\n",
    "            display(Markdown('### <span style=\"color:red\">Result mismatch. Commit %s, or Jenkins will complain!</span>'\n",
    "                             % results))\n",
    "            csvsCurrent = False\n",
    "        print(get_log(reference, results))"
   ]
  },
  {
   "cell_type": "markdown",
   "metadata": {},
   "source": [
    "We always want to keep the current numbers under source control for easy comparisons. Therefore, the CSV file checked into Git should exactly match the current results."
   ]
  },
  {
   "cell_type": "code",
   "execution_count": null,
   "metadata": {
    "collapsed": false
   },
   "outputs": [],
   "source": [
    "assert csvsCurrent, \"Last checked in CSV does not match current results!\""
   ]
  }
 ],
 "metadata": {
  "kernelspec": {
   "display_name": "Python 3",
   "language": "python",
   "name": "python3"
  },
  "language_info": {
   "codemirror_mode": {
    "name": "ipython",
    "version": 3
   },
   "file_extension": ".py",
   "mimetype": "text/x-python",
   "name": "python",
   "nbconvert_exporter": "python",
   "pygments_lexer": "ipython3",
   "version": "3.5.1"
  },
  "widgets": {
   "state": {},
   "version": "1.1.2"
  }
 },
 "nbformat": 4,
 "nbformat_minor": 0
}
