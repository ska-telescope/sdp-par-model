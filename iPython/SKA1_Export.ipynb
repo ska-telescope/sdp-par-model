{
 "cells": [
  {
   "cell_type": "markdown",
   "metadata": {},
   "source": [
    "# SDP Parametric Model Data Export\n",
    "\n",
    "(Last tested with IPython 4.2.0 using Python 3.5 - if you have trouble, check version compatibility)"
   ]
  },
  {
   "cell_type": "code",
   "execution_count": null,
   "metadata": {
    "collapsed": false,
    "scrolled": true
   },
   "outputs": [],
   "source": [
    "from api_ipython import SkaIPythonAPI as iapi\n",
    "from ipywidgets import interact_manual, Select, SelectMultiple\n",
    "from IPython.display import display, Markdown\n",
    "from parameter_definitions import *\n",
    "import os\n",
    "\n",
    "import subprocess, string\n",
    "git_date = subprocess.check_output([\"git\", \"log\", \"-1\", \"--format=%ci\"]).split()[0].decode()\n",
    "git_rev = subprocess.check_output([\"git\", \"rev-parse\", \"--short\", \"HEAD\"]).split()[0].decode()"
   ]
  },
  {
   "cell_type": "markdown",
   "metadata": {},
   "source": [
    "## Calculation results can be exported as CSV\n",
    "\n",
    "These files can be opened by standard spreadsheet programs such as LibreOffice Calc or Microsoft Excel."
   ]
  },
  {
   "cell_type": "code",
   "execution_count": null,
   "metadata": {
    "collapsed": false,
    "scrolled": true
   },
   "outputs": [],
   "source": [
    "interact_manual(iapi.write_csv_hpsos,\n",
    "                filename=\"history/\" + git_date + \"-\" + git_rev + \"_hpsos.csv\",\n",
    "                hpsos=SelectMultiple(options=HPSOs.available_hpsos, value=HPSOs.available_hpsos));"
   ]
  },
  {
   "cell_type": "code",
   "execution_count": null,
   "metadata": {
    "collapsed": false,
    "scrolled": true
   },
   "outputs": [],
   "source": [
    "interact_manual(iapi.write_csv_pipelines,\n",
    "                filename=\"history/\" + git_date + \"-\" + git_rev + \"_pipelines.csv\",\n",
    "                telescopes=SelectMultiple(options=Telescopes.available_teles, value=Telescopes.available_teles),\n",
    "                bands=SelectMultiple(options=Bands.available_bands, value=Bands.available_bands),\n",
    "                pipelines=SelectMultiple(options=Pipelines.available_pipelines, value=Pipelines.available_pipelines));"
   ]
  },
  {
   "cell_type": "markdown",
   "metadata": {
    "collapsed": true
   },
   "source": [
    "## Generate CSV data for all pipelines and HPSOs\n",
    "\n",
    "This might take a bit of time!"
   ]
  },
  {
   "cell_type": "code",
   "execution_count": null,
   "metadata": {
    "collapsed": false,
    "scrolled": false
   },
   "outputs": [],
   "source": [
    "iapi.write_csv_hpsos(\"current_hpsos.csv\", HPSOs.available_hpsos)\n",
    "iapi.write_csv_pipelines(\"current_pipelines.csv\",\n",
    "                         Telescopes.available_teles, Bands.available_bands, Pipelines.available_pipelines)"
   ]
  },
  {
   "cell_type": "markdown",
   "metadata": {},
   "source": [
    "## CSV tables can be compared to track changes\n",
    "\n",
    "Note that you might have to re-execute the cell if freshly generated CSV files don't appear in the list. The reference files selected by default is the last one that was checked into version control."
   ]
  },
  {
   "cell_type": "code",
   "execution_count": null,
   "metadata": {
    "collapsed": false,
    "scrolled": false
   },
   "outputs": [],
   "source": [
    "ls = [ \"history/%s\" % n for n in os.listdir(\"history\") if n.endswith(\".csv\") ]\n",
    "ls = sorted(ls, key=lambda n: os.stat(n).st_mtime)\n",
    "results = list(reversed(ls))\n",
    "refs = subprocess.check_output([\"git\", \"log\", \"--pretty=format:\", \"--name-only\", \"history\"]).split()\n",
    "refs = [os.path.relpath(r.decode(), \"iPython\") for r in refs]\n",
    "result_refs = list([ r for r in results if r in refs ])\n",
    "interact_manual(iapi.compare_csv,\n",
    "                result_file=Select(options=results, value=results[0]),\n",
    "                ref_file=Select(options=results, value=result_refs[0]))"
   ]
  },
  {
   "cell_type": "markdown",
   "metadata": {},
   "source": [
    "## Compare *all* pipelines and HPSO versions\n",
    "\n",
    "We go back in (Git) history and pairwise compare them. The current results (see above) are included."
   ]
  },
  {
   "cell_type": "code",
   "execution_count": null,
   "metadata": {
    "collapsed": false,
    "scrolled": false
   },
   "outputs": [],
   "source": [
    "# Get all reference files from Git history\n",
    "refs = subprocess.check_output([\"git\", \"log\", \"--pretty=format:\", \"--name-only\", \"--reverse\", \"history\"]).split()\n",
    "refs = list(map(lambda r: os.path.relpath(r.decode(), \"iPython\"), reversed(refs)))\n",
    "hpso_refs = list(filter(lambda n: n.endswith('_hpsos.csv'), refs))\n",
    "all_hpsos = [\"current_hpsos.csv\"] + hpso_refs\n",
    "pipelines_refs = list(filter(lambda n: n.endswith('_pipelines.csv'), refs))\n",
    "all_pipelines = [\"current_pipelines.csv\"] + pipelines_refs\n",
    "\n",
    "# Quick and dirty way to get the piece of history\n",
    "import re\n",
    "def git_log(file0, file1):\n",
    "    display(Markdown(\"### Comparing %s with %s\" % (file1, file0)))\n",
    "\n",
    "    match0 = re.search(r\"-([0-9A-Fa-f]+)_\", file0)\n",
    "    if match0 is None: return\n",
    "    ref0 = match0.group(1)\n",
    "\n",
    "    if file1.startswith(\"current\"):\n",
    "        ref1 = \"HEAD\"\n",
    "    else:\n",
    "        match1 = re.search(r\"-([0-9A-Fa-f]+)_\", file1)\n",
    "        if match1 is None: return\n",
    "        ref1 = match1.group(1)\n",
    "\n",
    "    print(subprocess.check_output([\"git\", \"log\", ref0 + \"..\" + ref1, '--format=%h %ci %cn: %s']).decode())\n",
    "\n",
    "# Compare pairwise, track changes\n",
    "diffs_hpsos = []\n",
    "for i, (results, reference) in enumerate(zip(all_hpsos, all_hpsos[1:])):\n",
    "    git_log(reference, results)\n",
    "    diffs_hpsos.append(iapi.compare_csv(results, reference, export_html=\"compare_hpsos_%d.html\" % i))\n",
    "diffs_pipelines = []\n",
    "for i, (results, reference) in enumerate(zip(all_pipelines, all_pipelines[1:])):\n",
    "    git_log(reference, results)\n",
    "    diffs_pipelines.append(iapi.compare_csv(results, reference, export_html=\"compare_pipelines_%d.html\" % i))"
   ]
  },
  {
   "cell_type": "markdown",
   "metadata": {},
   "source": [
    "We always want to keep the current numbers under source control for easy comparisons. Therefore, the CSV file checked into Git should exactly match the current results."
   ]
  },
  {
   "cell_type": "code",
   "execution_count": null,
   "metadata": {
    "collapsed": false
   },
   "outputs": [],
   "source": [
    "assert diffs_hpsos[0] < 1e-10, \"%s does not match! Forgot to check in new results?\" % all_hpsos[1]\n",
    "assert diffs_pipelines[0] < 1e-10, \"%s does not match! Forgot to check in  new results?\" % all_pipelines[1]"
   ]
  }
 ],
 "metadata": {
  "kernelspec": {
   "display_name": "Python 3",
   "language": "python",
   "name": "python3"
  },
  "language_info": {
   "codemirror_mode": {
    "name": "ipython",
    "version": 3
   },
   "file_extension": ".py",
   "mimetype": "text/x-python",
   "name": "python",
   "nbconvert_exporter": "python",
   "pygments_lexer": "ipython3",
   "version": "3.5.1"
  },
  "widgets": {
   "state": {
    "0582ef61be454c08a858853eb635efac": {
     "views": []
    },
    "0596d5902393497b83693cbf25e95e9b": {
     "views": []
    },
    "060aa4a1aa1044868708fdeafba3a790": {
     "views": []
    },
    "079f8c4eeed1483a87503b9df1f699b1": {
     "views": []
    },
    "0863de7fb81d42d197b95e90478dbcbf": {
     "views": []
    },
    "086570dff76f46589e2a57ff7c4e1007": {
     "views": []
    },
    "0873096d4d144d878c17ffebcecd1852": {
     "views": []
    },
    "08f05dc9359941239d9160a234ab140d": {
     "views": []
    },
    "0980cb2ba7c34b0dac00d62e61904d3b": {
     "views": []
    },
    "09f335852b2f49a6800476b91c572670": {
     "views": []
    },
    "0a11d8b6612b4ab9ba9d53ecff2e502b": {
     "views": []
    },
    "0a9f81e20a0147769d1e3fcae3f5a426": {
     "views": []
    },
    "0c97997d45684005a4aab4f6d8a301cc": {
     "views": []
    },
    "0e6d0d0752304591aa38b1cadbf173d0": {
     "views": []
    },
    "131f099f140647239cefb46a8c5b2b16": {
     "views": []
    },
    "160000a7f7384ea4b5a8ea31d7fdf3d4": {
     "views": []
    },
    "1781da8d21494583ba43eabfb8ad81bd": {
     "views": []
    },
    "1826ead44da04c4ab44e2eab0a831047": {
     "views": []
    },
    "1b20c3207bad4022bbce65b9674d28e8": {
     "views": []
    },
    "1c1c6824c76f442eb6e658764adfd515": {
     "views": []
    },
    "21769954553c414d84625434664a000c": {
     "views": []
    },
    "2228897a64c542e2942edf1745a10a39": {
     "views": []
    },
    "285bb10cbc39495b8f7d9725930b15d9": {
     "views": []
    },
    "2b31f56a36a942908b099028313f9d4c": {
     "views": []
    },
    "2ba740c64137462686e6002cb4b48560": {
     "views": []
    },
    "2e03d170a3db40d7810030de4523346d": {
     "views": []
    },
    "314c3c27ebf34f448fbbca29d628aec9": {
     "views": []
    },
    "320fec30e90f4f49933e2f65109ac92e": {
     "views": []
    },
    "333d64de1efc499a8d0be0e886726975": {
     "views": []
    },
    "353e426a1cd44e6dbe09cff225190a7d": {
     "views": []
    },
    "3899a9597f9f43bab4c1a9c87b9cfa81": {
     "views": []
    },
    "38b4ce99b9b5499a8e08cf6ca45b68de": {
     "views": []
    },
    "3a8f75fb7ac547b2b5d544a064e5e8b5": {
     "views": []
    },
    "3ceffc64762148d7802ee01a9b61c003": {
     "views": []
    },
    "3d55d8a6d2ab43cb8d32e0a4a4c4b4c7": {
     "views": []
    },
    "3f0a5730ab024d5692972f02dec3d473": {
     "views": []
    },
    "419f4c8a7f6042dc832c13b91657f301": {
     "views": []
    },
    "42be9fb60f664076a18a4ad28ce24e18": {
     "views": []
    },
    "4364481cd9954bee866a28c64d7a014e": {
     "views": []
    },
    "44a1db64ea0a4766a2e6b7a71e7775cd": {
     "views": []
    },
    "45f186a2c3804b2fb39da372fc24721f": {
     "views": []
    },
    "461ee938e24e419ea6d5367036c35f20": {
     "views": []
    },
    "4a6d232af69d4da995e84a78868fae93": {
     "views": []
    },
    "5440411802ae4e43b4eac11881871fde": {
     "views": []
    },
    "585390219f314093b5a6414ca89e8ecb": {
     "views": []
    },
    "59e53583fef7407f8de5369a9c750180": {
     "views": []
    },
    "59fff3535c5b440ea3de90ae8798264a": {
     "views": []
    },
    "5de9306a61bd411d977aea2583fd9a66": {
     "views": []
    },
    "609394747c3b4c8792bdc40924d33e93": {
     "views": []
    },
    "6148429510e84c59addbf92e2cda168b": {
     "views": []
    },
    "645b1ccfc8f747a69fbdfc8a30ea21ac": {
     "views": []
    },
    "68a1095c891b45a49c182e510eeba8f0": {
     "views": []
    },
    "68f604a768004179829ae6f3f0b3461b": {
     "views": []
    },
    "6900108d0bd44a72b5a7a5329dca523f": {
     "views": []
    },
    "6a521bdf1cf84d17a043a96deb9787a9": {
     "views": []
    },
    "6aba94d18c234758a2ca9699673d626e": {
     "views": []
    },
    "6c155027f8424e7b86473249eca9c62f": {
     "views": [
      {
       "cell_index": 3
      }
     ]
    },
    "705493e963da46a48b023fa2e5a43ae8": {
     "views": []
    },
    "79b70c00948249c09e4aae051eaff0ac": {
     "views": []
    },
    "7ac781e1d1574919b2c6a5ff73a12e0e": {
     "views": []
    },
    "7b9382aca82e4298acf5d3b059de2e98": {
     "views": []
    },
    "7bf84c0514604132b3a49f8444f88b30": {
     "views": []
    },
    "7e2e5100c9184064bc61a59c9e8a0df6": {
     "views": []
    },
    "7fb4a06b14f2452d8ab7e46fc198996c": {
     "views": []
    },
    "80bc69cdef0042288d9d6bc0192b3a3c": {
     "views": []
    },
    "8379df4eda104963bdd62b33a78411c1": {
     "views": []
    },
    "8394076b188e4fe598ef149189a4b3f1": {
     "views": []
    },
    "8509aeabf9d340419ad0d7c06b3b0055": {
     "views": []
    },
    "88c27c9594864c3ca4a928970fce59ae": {
     "views": []
    },
    "8ab3e7ccf9b549298cedecde87571030": {
     "views": []
    },
    "8c9f191332c744eca67dd3486524d78a": {
     "views": []
    },
    "8d17df57db3c4f4b828302dcd9288cfd": {
     "views": []
    },
    "8d9ddd8a5713400ba86f422ebecbbf11": {
     "views": []
    },
    "8dd4f77120c244b5b193b367c54c84f4": {
     "views": []
    },
    "9260044d9dba4b9db1556287ef42e8c0": {
     "views": []
    },
    "959ed8d99ed445afafd41cf38a1a4b61": {
     "views": []
    },
    "96b202c0af4045e2b1bbc8f2ed6700d9": {
     "views": []
    },
    "9b4e12abaa2a4a41b9ec38babc378364": {
     "views": []
    },
    "9f7aa418ae504efab8ce4cdb19ed7552": {
     "views": []
    },
    "a09ef4bd372347dfab8d6f451c72a091": {
     "views": []
    },
    "a2a339278b27405db985fe4a198bae7c": {
     "views": []
    },
    "a4ab5e9d52c143e798248b38690903f6": {
     "views": []
    },
    "ac0213cdb9da439ba61e471504c349a0": {
     "views": []
    },
    "ae81cee7fe6447d780d9bb7698549933": {
     "views": []
    },
    "b434c754a0284a0f8b2dee25be7c1a86": {
     "views": []
    },
    "b80da54d8c8048a79218af8f6937d1cb": {
     "views": []
    },
    "b8697ed01c9f4b6aad762c8cd6850536": {
     "views": []
    },
    "b8768c26623944c6947e717c12d3b398": {
     "views": []
    },
    "b9c72604bec94fc6be937280d6c61157": {
     "views": []
    },
    "b9ed528fee904123bf020dafa79434e5": {
     "views": []
    },
    "bd0a09382fed491685a93841079bcb90": {
     "views": []
    },
    "c5e4b5ad98b44bb7a0fe985dbd2ecc44": {
     "views": []
    },
    "c69dcfa7921c4517910e48785ca6c2e6": {
     "views": []
    },
    "c72ad632f5fd4da290172e4bb1c8571a": {
     "views": []
    },
    "c73cb3b40985427dbfc89da08f39bb97": {
     "views": [
      {
       "cell_index": 8
      }
     ]
    },
    "c8f448dfaa824f3a996576284ea18960": {
     "views": []
    },
    "c91d3775ea364faa9015137ee81a57dc": {
     "views": []
    },
    "cb6f470ac80a43458d13a4c1a8c1034f": {
     "views": []
    },
    "cc661b01cca8471dbfb9a9e49010a847": {
     "views": []
    },
    "cc7f1b3336f443cebf8a61ca3edd4583": {
     "views": []
    },
    "cc99eb00c7aa4bc195bd0217abe19af7": {
     "views": []
    },
    "d0d0db211b0744869a553ed6c897f66a": {
     "views": []
    },
    "d2f0d29b458742c4a8fa0424f4635db4": {
     "views": []
    },
    "d2f5f604a2fe493082ad59ebaae6a8fc": {
     "views": []
    },
    "d3eec4b1de4c49c187750a09e2306739": {
     "views": []
    },
    "d98e190e1fca42fe971f5e5cf18fbe83": {
     "views": []
    },
    "dad4f82d17544da0b7832dd80d80f1db": {
     "views": []
    },
    "dba551fef8844232bab551c5c15c8e43": {
     "views": []
    },
    "de796f4bd1e746a7bdcd103fa871a5bf": {
     "views": []
    },
    "e00ed3a8b38a4c4a8b098c0b08bee344": {
     "views": []
    },
    "e5abd96d38da4d2696c9380304279551": {
     "views": []
    },
    "e7d52e7cef624e20a5eb7477c1746aad": {
     "views": []
    },
    "ece220319da54582901d76e1cff15a2a": {
     "views": []
    },
    "ef62dddea6324f69a31e6522c7bcecf7": {
     "views": []
    },
    "f3cd5fba5a5f4354b9de04b7e33820c0": {
     "views": []
    },
    "f783430e6e92415aab88ce15bf0c6547": {
     "views": []
    },
    "f79e6674d4de4274b2f6c0269a476f03": {
     "views": []
    },
    "f7e4f60e150a4a4fb8090c6e377f0f77": {
     "views": []
    },
    "fa96a19e448548c9ae59fda09d5ed3d1": {
     "views": [
      {
       "cell_index": 4
      }
     ]
    },
    "fe9895a8874f4dd5a69f62bc65117e61": {
     "views": []
    }
   },
   "version": "1.1.2"
  }
 },
 "nbformat": 4,
 "nbformat_minor": 0
}
