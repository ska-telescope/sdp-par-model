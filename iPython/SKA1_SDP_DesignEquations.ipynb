{
 "cells": [
  {
   "cell_type": "markdown",
   "metadata": {},
   "source": [
    "# This notebook explores the SKA1 SDP Design Equations\n",
    "\n",
    "## Source: PDR05 v1.85\n",
    "\n",
    "This notebook was previously tested with IPython notebook 4.1.0 using Python 2.7. If you have trouble running this notebook, please check version compatibility.\n",
    "\n",
    "Last run with Jupyter Notebook 5.0.0 running Python 3.5.2"
   ]
  },
  {
   "cell_type": "code",
   "execution_count": null,
   "metadata": {
    "collapsed": true
   },
   "outputs": [],
   "source": [
    "\n",
    "\n",
    "\"\"\" These first few lines below import the IPython definitions and methods that we will use, including the ability to\n",
    "display them nicely\"\"\"\n",
    "import subprocess\n",
    "import sys\n",
    "from sympy import *\n",
    "sys.path+=['..']\n",
    "from sdp_par_model import reports as iapi\n",
    "from sdp_par_model.config import PipelineConfig\n",
    "from sdp_par_model.parameters.definitions import *\n",
    "from sdp_par_model.parameters.definitions import Constants as c\n",
    "from sdp_par_model.parameters import definitions as ParameterDefinitions\n",
    "\n",
    "print(\"Working from Git repository %s\" % subprocess.check_output([\"git\",  \"describe\", \"--long\"]))\n",
    "\n",
    "# Pipeline configurations used in this document\n",
    "scale_predict_by_facet=True\n",
    "blcoal = True\n",
    "otf = False\n",
    "verbose=False\n",
    "\n",
    "cfg_all_low = PipelineConfig(Telescopes.SKA1_Low, Pipelines.imaging, Bands.Low,\n",
    "                             blcoal=blcoal, on_the_fly=otf, scale_predict_by_facet=scale_predict_by_facet)\n",
    "cfg_all_mid1 = PipelineConfig(Telescopes.SKA1_Mid, Pipelines.imaging, Bands.Mid1,\n",
    "                              blcoal=blcoal, on_the_fly=otf, scale_predict_by_facet=scale_predict_by_facet)\n",
    "cfg_all_mid2 = PipelineConfig(Telescopes.SKA1_Mid, Pipelines.imaging, Bands.Mid2,\n",
    "                              blcoal=blcoal, on_the_fly=otf, scale_predict_by_facet=scale_predict_by_facet)\n",
    "\n",
    "cfg_co_sp_low = PipelineConfig(Telescopes.SKA1_Low, [Pipelines.DPrepA,Pipelines.DPrepC], Bands.Low,\n",
    "                          blcoal=blcoal, on_the_fly=otf, scale_predict_by_facet=scale_predict_by_facet)\n",
    "cfg_co_sp_mid1 = PipelineConfig(Telescopes.SKA1_Mid, [Pipelines.DPrepA,Pipelines.DPrepC], Bands.Mid1,\n",
    "                           blcoal=blcoal, on_the_fly=otf, scale_predict_by_facet=scale_predict_by_facet)\n",
    "cfg_co_sp_mid2 = PipelineConfig(Telescopes.SKA1_Mid, [Pipelines.DPrepA,Pipelines.DPrepC], Bands.Mid2,\n",
    "                           blcoal=blcoal, on_the_fly=otf, scale_predict_by_facet=scale_predict_by_facet)\n",
    "\n",
    "cfg_cont_low = PipelineConfig(Telescopes.SKA1_Low, Pipelines.DPrepA, Bands.Low,\n",
    "                               blcoal=blcoal, on_the_fly=otf, scale_predict_by_facet=scale_predict_by_facet)\n",
    "cfg_spec_low = PipelineConfig(Telescopes.SKA1_Low, Pipelines.DPrepC, Bands.Low,\n",
    "                               blcoal=blcoal, on_the_fly=otf, scale_predict_by_facet=scale_predict_by_facet)\n",
    "cfg_cont_mid1 = PipelineConfig(Telescopes.SKA1_Mid, Pipelines.DPrepA, Bands.Mid1,\n",
    "                                blcoal=blcoal, on_the_fly=otf, scale_predict_by_facet=scale_predict_by_facet)\n",
    "cfg_spec_mid1 = PipelineConfig(Telescopes.SKA1_Mid, Pipelines.DPrepC, Bands.Mid1,\n",
    "                                blcoal=blcoal, on_the_fly=otf, scale_predict_by_facet=scale_predict_by_facet)\n",
    "cfg_cont_mid2 = PipelineConfig(Telescopes.SKA1_Mid, Pipelines.DPrepA, Bands.Mid2,\n",
    "                                blcoal=blcoal, on_the_fly=otf, scale_predict_by_facet=scale_predict_by_facet)\n",
    "cfg_spec_mid2 = PipelineConfig(Telescopes.SKA1_Mid, Pipelines.DPrepC, Bands.Mid2,\n",
    "                                blcoal=blcoal, on_the_fly=otf, scale_predict_by_facet=scale_predict_by_facet)\n"
   ]
  },
  {
   "cell_type": "markdown",
   "metadata": {},
   "source": [
    "### 1.\tThe peak FLOP capability of the units taken together has to exceed the total FLOPS required for spectral line and continuum processing combined "
   ]
  },
  {
   "cell_type": "code",
   "execution_count": null,
   "metadata": {
    "collapsed": true,
    "scrolled": true
   },
   "outputs": [],
   "source": [
    "o = ParameterContainer()\n",
    "define_design_equations_variables(o)  # o is updated in-place\n",
    "o.Ncu * o.RcuFLOP > o.RspecFLOP + o.RcontFLOP + o.RfastFLOP"
   ]
  },
  {
   "cell_type": "code",
   "execution_count": null,
   "metadata": {
    "collapsed": true
   },
   "outputs": [],
   "source": [
    "#Or numerically\n",
    "result1_low = cfg_all_low.eval_expression('Rflop', verbose=verbose)\n",
    "result1_mid1 = cfg_all_mid1.eval_expression('Rflop', verbose=verbose)\n",
    "result1_mid2 = cfg_all_mid2.eval_expression('Rflop', verbose=verbose)\n",
    "print('\\nDesign Equation 1 evaluates to:\\n')\n",
    "print('%s > %.2f PetaFLOPS \\tfor SKA1 LOW' % (str(o.Ncu * o.RcuFLOP), result1_low / c.peta))\n",
    "print('%s > %.2f PetaFLOPS \\tfor SKA1 MID (Band 1)' % (str(o.Ncu * o.RcuFLOP), result1_mid1 / c.peta))\n",
    "print('%s > %.2f PetaFLOPS \\tfor SKA1 MID (Band 2)' % (str(o.Ncu * o.RcuFLOP), result1_mid2 / c.peta))"
   ]
  },
  {
   "cell_type": "markdown",
   "metadata": {},
   "source": [
    "### 2.\tThe total memory bandwidth required has to exceed the required memory bandwidth"
   ]
  },
  {
   "cell_type": "code",
   "execution_count": null,
   "metadata": {
    "collapsed": true,
    "scrolled": true
   },
   "outputs": [],
   "source": [
    "o.Ncu * o.RcuIo > o.Fci*(o.RspecFLOP + o.RcontFLOP + o.RfastFLOP)"
   ]
  },
  {
   "cell_type": "code",
   "execution_count": null,
   "metadata": {
    "collapsed": true
   },
   "outputs": [],
   "source": [
    "#Or numerically\n",
    "print('\\nDesign Equation 2 evaluates to:\\n')\n",
    "Fci = 2\n",
    "result2_low = result1_low*Fci\n",
    "result2_mid1 = result1_mid1*Fci\n",
    "result2_mid2 = result1_mid2*Fci\n",
    "\n",
    "print('%s > %.2f PetaBytes/s \\tfor SKA1 LOW' % (str(o.Ncu * o.RcuIo), result2_low / c.peta))\n",
    "print('%s > %.2f PetaBytes/s \\tfor SKA1 MID (Band 1)' % (str(o.Ncu * o.RcuIo), result2_mid1 / c.peta))\n",
    "print('%s > %.2f PetaBytes/s \\tfor SKA1 MID (Band 2)' % (str(o.Ncu * o.RcuIo), result2_mid2 / c.peta))"
   ]
  },
  {
   "cell_type": "markdown",
   "metadata": {},
   "source": [
    "### 3.\tThe visibility buffer of all compute units together must be sufficiently large to hold both the full resolution visibilities and frequency binned visibilities for continuum processing "
   ]
  },
  {
   "cell_type": "code",
   "execution_count": null,
   "metadata": {
    "collapsed": true
   },
   "outputs": [],
   "source": [
    "o.Ncu * o.McuBuf > o.MspecBufVis + o.McontBufVis"
   ]
  },
  {
   "cell_type": "code",
   "execution_count": null,
   "metadata": {
    "collapsed": true
   },
   "outputs": [],
   "source": [
    "result3_low = cfg_co_sp_low.eval_expression('Mbuf_vis', verbose=verbose)\n",
    "result3_mid1 = cfg_co_sp_mid1.eval_expression('Mbuf_vis', verbose=verbose)\n",
    "result3_mid2 = cfg_co_sp_mid2.eval_expression('Mbuf_vis', verbose=verbose)\n",
    "\n",
    "#Or numerically\n",
    "print('\\nDesign Equation 3 evaluates to:\\n')\n",
    "Fci = 2\n",
    "print('%s > %.2f PetaBytes \\tfor SKA1 LOW' % (str(o.Ncu * o.McuBuf), result3_low / c.peta))\n",
    "print('%s > %.2f PetaBytes \\tfor SKA1 MID (Band 1)' % (str(o.Ncu * o.McuBuf), result3_mid1 / c.peta))\n",
    "print('%s > %.2f PetaBytes \\tfor SKA1 MID (Band 2)' % (str(o.Ncu * o.McuBuf), result3_mid2 / c.peta))"
   ]
  },
  {
   "cell_type": "markdown",
   "metadata": {},
   "source": [
    "### 4.\tThe total bandwidth to the visibility buffer must exceed the greater of the bandwidth required for the continuum or spectral line case. If we assume that processing is limited by available FLOPs then the we can compute the rates as"
   ]
  },
  {
   "cell_type": "code",
   "execution_count": null,
   "metadata": {
    "collapsed": true,
    "scrolled": true
   },
   "outputs": [],
   "source": [
    "o.Ncu * o.RcuIo > Max(o.RspecIo*(o.RspecFLOP + o.RcontFLOP)/o.RspecFLOP, o.RcontIo*(o.RspecFLOP + o.RcontFLOP)/o.RcontFLOP)"
   ]
  },
  {
   "cell_type": "code",
   "execution_count": null,
   "metadata": {
    "collapsed": true
   },
   "outputs": [],
   "source": [
    "\n",
    "Rflop_cont_low = cfg_cont_low.eval_expression('Rflop', verbose=verbose)\n",
    "Rflop_spec_low = cfg_spec_low.eval_expression('Rflop', verbose=verbose)\n",
    "Rio_cont_low = cfg_cont_low.eval_expression('Rio', verbose=verbose)\n",
    "Rio_spec_low = cfg_spec_low.eval_expression('Rio', verbose=verbose)\n",
    "\n",
    "Rflop_cont_mid1 = cfg_cont_mid1.eval_expression('Rflop', verbose=verbose)\n",
    "Rflop_spec_mid1 = cfg_spec_mid1.eval_expression('Rflop', verbose=verbose)\n",
    "Rio_cont_mid1 = cfg_cont_mid1.eval_expression('Rio', verbose=verbose)\n",
    "Rio_spec_mid1 = cfg_spec_mid1.eval_expression('Rio', verbose=verbose)\n",
    "\n",
    "Rflop_cont_mid2 = cfg_cont_mid2.eval_expression('Rflop', verbose=verbose)\n",
    "Rflop_spec_mid2 = cfg_spec_mid2.eval_expression('Rflop', verbose=verbose)\n",
    "Rio_cont_mid2 = cfg_cont_mid2.eval_expression('Rio', verbose=verbose)\n",
    "Rio_spec_mid2 = cfg_spec_mid2.eval_expression('Rio', verbose=verbose)\n",
    "\n",
    "\n",
    "result4_low = Max((Rio_cont_low/Rflop_cont_low)*(Rflop_cont_low + Rflop_spec_low), (Rio_spec_low/Rflop_spec_low)*(Rflop_cont_low + Rflop_spec_low))\n",
    "result4_mid1 = Max((Rio_cont_mid1/Rflop_cont_mid1)*(Rflop_cont_mid1 + Rflop_spec_mid1), (Rio_spec_mid1/Rflop_spec_mid1)*(Rflop_cont_mid1 + Rflop_spec_mid1))\n",
    "result4_mid2 = Max((Rio_cont_mid2/Rflop_cont_mid2)*(Rflop_cont_mid2 + Rflop_spec_mid2), (Rio_spec_mid2/Rflop_spec_mid2)*(Rflop_cont_mid2 + Rflop_spec_mid2))\n",
    "\n",
    "\n",
    "#Or numerically\n",
    "print('\\nDesign Equation 4 evaluates to:\\n')\n",
    "print('%s > %.2f TB/s \\tfor SKA1 LOW' % (str(o.Ncu * o.RcuIo), result4_low / c.tera))\n",
    "print('%s > %.2f TB/s \\tfor SKA1 MID (Band 1)' % (str(o.Ncu * o.RcuIo), result4_mid1 / c.tera))\n",
    "print('%s > %.2f TB/s \\tfor SKA1 MID (Band 2)' % (str(o.Ncu * o.RcuIo), result4_mid2 / c.tera))"
   ]
  },
  {
   "cell_type": "markdown",
   "metadata": {},
   "source": [
    "### 5.\tIf frequency-polarisation-beam parallelism only is to be used with no faceting or other image plane or uv plane division then"
   ]
  },
  {
   "cell_type": "code",
   "execution_count": null,
   "metadata": {
    "collapsed": true
   },
   "outputs": [],
   "source": [
    "# Working memory per compute unit must be greater than the target grid memory\n",
    "o.McuWork > o.MuvGrid"
   ]
  },
  {
   "cell_type": "code",
   "execution_count": null,
   "metadata": {
    "collapsed": true,
    "scrolled": true
   },
   "outputs": [],
   "source": [
    "bldta = True\n",
    "otf = False\n",
    "Npix_low = cfg_all_low.eval_expression('Npix_linear', verbose=verbose)\n",
    "Npix_mid1 = cfg_all_mid1.eval_expression('Npix_linear', verbose=verbose)\n",
    "Npix_mid2 = cfg_all_mid2.eval_expression('Npix_linear', verbose=verbose)\n",
    "result4_low = 16 * Npix_low**2 # Eq 9, in bytes\n",
    "result4_mid1 = 16 * Npix_mid1**2 # Eq 9, in bytes\n",
    "result4_mid2 = 16 * Npix_mid2**2 # Eq 9, in bytes\n",
    "\n",
    "\n",
    "print('\\nDesign Equation 5a evaluates to:\\n')\n",
    "Fci = 2\n",
    "print('%s > %.2f TB \\tfor SKA1 LOW' % (str(o.McuWork), result4_low / c.tera))\n",
    "print('%s > %.2f TB \\tfor SKA1 MID (Band 1)' % (str(o.McuWork), result4_mid1 / c.tera))\n",
    "print('%s > %.2f TB \\tfor SKA1 MID (Band 2)' % (str(o.McuWork), result4_mid2 / c.tera))"
   ]
  },
  {
   "cell_type": "code",
   "execution_count": null,
   "metadata": {
    "collapsed": true
   },
   "outputs": [],
   "source": [
    "# Each compute unit must have reasonably fast memory to keep the grids not being immediately worked on (M_(cu,pool )). \n",
    "# The experience of ASKAPSoft is that about 10 copies are necessary\n",
    "o.McuPool > 10 * o.MuvGrid "
   ]
  },
  {
   "cell_type": "code",
   "execution_count": null,
   "metadata": {
    "collapsed": true
   },
   "outputs": [],
   "source": [
    "#Or numerically\n",
    "print('\\nDesign Equation 5b evaluates to:\\n')\n",
    "Fci = 2\n",
    "print('%s > %.2f TB \\tfor SKA1 LOW' % (str(o.McuPool), 10*result4_low / c.tera))\n",
    "print('%s > %.2f TB \\tfor SKA1 MID (Band 1)' % (str(o.McuPool), 10*result4_mid1 / c.tera))\n",
    "print('%s > %.2f TB \\tfor SKA1 MID (Band 2)' % (str(o.McuPool), 10*result4_mid2 / c.tera))"
   ]
  },
  {
   "cell_type": "code",
   "execution_count": null,
   "metadata": {
    "collapsed": true
   },
   "outputs": [],
   "source": [
    "# The FFT and Gridding computing steps are limited by available \n",
    "o.NfOut * o.RcuFLOP > 2 * o.Nmajor * (o.Rfft + o.Rrp)  "
   ]
  },
  {
   "cell_type": "code",
   "execution_count": null,
   "metadata": {
    "collapsed": true
   },
   "outputs": [],
   "source": [
    "bldta = True\n",
    "otf = False\n",
    "\n",
    "Nmajor_low = cfg_all_low.eval_expression('Nmajor', verbose=verbose)\n",
    "Rfft_low = cfg_all_low.eval_product(Products.IFFT, 'Rflop', verbose=verbose)\n",
    "Rrp_low = cfg_all_low.eval_product(Products.Reprojection, 'Rflop', verbose=verbose)\n",
    "\n",
    "Nmajor_mid1 = cfg_all_mid1.eval_expression('Nmajor', verbose=verbose)\n",
    "Rfft_mid1 = cfg_all_mid1.eval_product(Products.IFFT, 'Rflop', verbose=verbose)\n",
    "Rrp_mid1 = cfg_all_mid1.eval_product(Products.Reprojection, 'Rflop', verbose=verbose)\n",
    "\n",
    "Nmajor_mid2 = cfg_all_mid2.eval_expression('Nmajor', verbose=verbose)\n",
    "Rfft_mid2 = cfg_all_mid2.eval_product(Products.IFFT, 'Rflop', verbose=verbose)\n",
    "Rrp_mid2 = cfg_all_mid2.eval_product(Products.Reprojection, 'Rflop', verbose=verbose)\n",
    "\n",
    "tp = ParameterContainer()\n",
    "ParameterDefinitions.apply_global_parameters(tp)\n",
    "ParameterDefinitions.apply_telescope_parameters(tp, Telescopes.SKA1_Low)\n",
    "ParameterDefinitions.apply_pipeline_parameters(tp, Pipelines.DPrepA)\n",
    "Nf_out_low = tp.Nf_out\n",
    "ParameterDefinitions.apply_pipeline_parameters(tp, Pipelines.DPrepC)\n",
    "Nf_out_low += tp.Nf_out\n",
    "ParameterDefinitions.apply_pipeline_parameters(tp, Pipelines.Fast_Img)\n",
    "Nf_out_low += tp.Nf_out\n",
    "\n",
    "tp = ParameterContainer()\n",
    "ParameterDefinitions.apply_global_parameters(tp)\n",
    "ParameterDefinitions.apply_telescope_parameters(tp, Telescopes.SKA1_Mid)\n",
    "ParameterDefinitions.apply_pipeline_parameters(tp, Pipelines.DPrepA)\n",
    "Nf_out_mid1 = tp.Nf_out\n",
    "ParameterDefinitions.apply_pipeline_parameters(tp, Pipelines.DPrepC)\n",
    "Nf_out_mid1 += tp.Nf_out\n",
    "ParameterDefinitions.apply_pipeline_parameters(tp, Pipelines.Fast_Img)\n",
    "Nf_out_mid1 += tp.Nf_out\n",
    "\n",
    "\n",
    "tp = ParameterContainer()\n",
    "ParameterDefinitions.apply_global_parameters(tp)\n",
    "ParameterDefinitions.apply_telescope_parameters(tp, Telescopes.SKA1_Mid)\n",
    "ParameterDefinitions.apply_pipeline_parameters(tp, Pipelines.DPrepA)\n",
    "Nf_out_mid2 = tp.Nf_out\n",
    "ParameterDefinitions.apply_pipeline_parameters(tp, Pipelines.DPrepC)\n",
    "Nf_out_mid2 += tp.Nf_out\n",
    "ParameterDefinitions.apply_pipeline_parameters(tp, Pipelines.Fast_Img)\n",
    "Nf_out_mid2 += tp.Nf_out\n",
    "\n",
    "\n",
    "result5c_low = 2*Nmajor_low*(Rfft_low + Rrp_low)/Nf_out_low\n",
    "result5c_mid1 = 2*Nmajor_mid1*(Rfft_mid1 + Rrp_mid1)/Nf_out_mid1\n",
    "result5c_mid2 = 2*Nmajor_mid2*(Rfft_mid2 + Rrp_mid2)/Nf_out_mid2\n",
    "\n",
    "\n",
    "#Or numerically\n",
    "print('\\nDesign Equation 5c evaluates to:\\n')\n",
    "print('%s > %.2f TFLOP/s \\tfor SKA1 LOW' % (str(o.RcuFLOP), result5c_low / c.tera))\n",
    "print('%s > %.2f TFLOP/s \\tfor SKA1 MID (Band1)' % (str(o.RcuFLOP), result5c_mid1 / c.tera))\n",
    "print('%s > %.2f TFLOP/s \\tfor SKA1 MID (Band2)' % (str(o.RcuFLOP), result5c_mid2 / c.tera))"
   ]
  },
  {
   "cell_type": "code",
   "execution_count": null,
   "metadata": {
    "collapsed": true
   },
   "outputs": [],
   "source": [
    "# Or, display them as a table\n",
    "labels = ('Design eqn', '1', '2', '3')\n",
    "values_1 = ('SKA1-Low', round(result1_low / c.peta, 2), round(result2_low / c.peta, 2), round(result3_low / c.peta, 2))\n",
    "values_2 = ('SKA1-Mid (Band1)', round(result1_mid1 / c.peta, 2), round(result2_mid1 / c.peta, 2), round(result3_mid1 / c.peta, 2))\n",
    "values_3 = ('SKA1-Mid (Band2)', round(result1_mid2 / c.peta, 2), round(result2_mid2 / c.peta, 2), round(result3_mid2 / c.peta, 2))\n",
    "\n",
    "units = ('', 'PFLOP', 'PB/s', 'PB')\n",
    "\n",
    "iapi.show_table_compare3('\"Table 10\" in PDR05 v1.85', labels, values_1, values_2, values_3, units)\n",
    "print('etc...')"
   ]
  },
  {
   "cell_type": "markdown",
   "metadata": {
    "collapsed": true
   },
   "source": [
    "### 6. The total interconnect bandwidth must exceed that needed for faceting"
   ]
  },
  {
   "cell_type": "code",
   "execution_count": null,
   "metadata": {
    "collapsed": true,
    "scrolled": true
   },
   "outputs": [],
   "source": [
    "o.Ncu * o.RcuInter > o.Rinterfacet"
   ]
  },
  {
   "cell_type": "code",
   "execution_count": null,
   "metadata": {
    "collapsed": true,
    "scrolled": false
   },
   "outputs": [],
   "source": [
    "bldta = True\n",
    "otf = False\n",
    "Rinterfacet_low = cfg_all_low.eval_expression('Rinterfacet', verbose=verbose)\n",
    "RInterfacet_mid1 = cfg_all_mid1.eval_expression('Rinterfacet', verbose=verbose)\n",
    "RInterfacet_mid2 = cfg_all_mid2.eval_expression('Rinterfacet', verbose=verbose)\n",
    "\n",
    "\n",
    "#Or numerically\n",
    "print('\\nDesign Equation for continuum faceting evaluates to:\\n')\n",
    "print('%s > %.2f TB/s \\tfor SKA1 LOW, all modes' % (str(o.Ncu * o.RcuInter), Rinterfacet_low / c.tera))\n",
    "print('%s > %.2f TB/s \\tfor SKA1 MID (Band1), all modes' % (str(o.Ncu * o.RcuInter), RInterfacet_mid1 / c.tera))\n",
    "print('%s > %.2f TB/s \\tfor SKA1 MID (Band2), all modes' % (str(o.Ncu * o.RcuInter), RInterfacet_mid2 / c.tera))"
   ]
  }
 ],
 "metadata": {
  "anaconda-cloud": {},
  "kernelspec": {
   "display_name": "Python [default]",
   "language": "python",
   "name": "python3"
  },
  "language_info": {
   "codemirror_mode": {
    "name": "ipython",
    "version": 3
   },
   "file_extension": ".py",
   "mimetype": "text/x-python",
   "name": "python",
   "nbconvert_exporter": "python",
   "pygments_lexer": "ipython3",
   "version": "3.5.2"
  }
 },
 "nbformat": 4,
 "nbformat_minor": 1
}
