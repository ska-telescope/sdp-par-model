{
 "cells": [
  {
   "cell_type": "markdown",
   "metadata": {},
   "source": [
    "# This notebook explores the SKA1 SDP Design Equations\n",
    "\n",
    "## Source: PDR05 v1.85"
   ]
  },
  {
   "cell_type": "code",
   "execution_count": null,
   "metadata": {
    "collapsed": false
   },
   "outputs": [],
   "source": [
    "\"\"\" These first few lines below import the IPython definitions and methods that we will use, including the ability to\n",
    "display them nicely\"\"\"\n",
    "from sympy import init_session\n",
    "init_session(\n",
    "    use_latex=True,\n",
    "    use_unicode=True,\n",
    "    pretty_print=True,\n",
    "    quiet=True,\n",
    ")\n",
    "from parameter_definitions import ParameterContainer\n",
    "# Currently this file below (design_equations.py) only contains variable definitions that are used for display purposes.\n",
    "# All computations are performed in the notebook itself for now. This was the same way we initially did the approached \n",
    "# the imaging equations. When they become complex it is usually necessary and desirable to move the code from the notebook\n",
    "# to the dedicated Python code files.\n",
    "from design_equations import DesignEquations as de \n",
    "o = ParameterContainer()\n",
    "de.define_symbolic_variables(o)  # o is updated in-place\n",
    "\n",
    "from api_ipython import SkaIPythonAPI as iapi\n",
    "from parameter_definitions import *\n",
    "from parameter_definitions import Constants as c\n",
    "from implementation import PipelineConfig"
   ]
  },
  {
   "cell_type": "markdown",
   "metadata": {},
   "source": [
    "### 1.\tThe peak FLOP capability of the units taken together has to exceed the total FLOPS required for spectral line and continuum processing combined "
   ]
  },
  {
   "cell_type": "code",
   "execution_count": null,
   "metadata": {
    "collapsed": false,
    "scrolled": true
   },
   "outputs": [],
   "source": [
    "o.Ncu * o.RcuFLOP > o.RspecFLOP + o.RcontFLOP + o.RfastFLOP"
   ]
  },
  {
   "cell_type": "code",
   "execution_count": null,
   "metadata": {
    "collapsed": false
   },
   "outputs": [],
   "source": [
    "#Or numerically\n",
    "cfg1_low = PipelineConfig(Telescopes.SKA1_Low, ImagingModes.All, Bands.Low, bldta=True, on_the_fly=False)\n",
    "cfg1_mid = PipelineConfig(Telescopes.SKA1_Mid, ImagingModes.All, Bands.Mid1, bldta=True, on_the_fly=False)\n",
    "cfg1_sur = PipelineConfig(Telescopes.SKA1_Sur_old, ImagingModes.All, Bands.Sur1, bldta=True, on_the_fly=False)\n",
    "result1_low = iapi.eval_expression_default(cfg1_low, expression='Rflop')\n",
    "result1_mid = iapi.eval_expression_default(cfg1_mid, expression='Rflop')\n",
    "result1_sur = iapi.eval_expression_default(cfg1_sur, expression='Rflop')\n",
    "print '\\nDesign Equation 1 evaluates to:\\n'\n",
    "print '%s > %.2f PetaFLOPS \\tfor SKA1 LOW' % (str(o.Ncu * o.RcuFLOP), result1_low / c.peta)\n",
    "print '%s > %.2f PetaFLOPS \\tfor SKA1 MID (Band 1)' % (str(o.Ncu * o.RcuFLOP), result1_mid / c.peta)\n",
    "print '\\n%s > %.2f PetaFLOPS \\tfor SKA1 SURVEY (Band 1) (pre-rebaselining)' % (str(o.Ncu * o.RcuFLOP), result1_sur / c.peta)"
   ]
  },
  {
   "cell_type": "markdown",
   "metadata": {},
   "source": [
    "### 2.\tThe total memory bandwidth required has to exceed the required memory bandwidth"
   ]
  },
  {
   "cell_type": "code",
   "execution_count": null,
   "metadata": {
    "collapsed": false,
    "scrolled": true
   },
   "outputs": [],
   "source": [
    "o.Ncu * o.RcuBw > o.Fci*(o.RspecFLOP + o.RcontFLOP + o.RfastFLOP)"
   ]
  },
  {
   "cell_type": "code",
   "execution_count": null,
   "metadata": {
    "collapsed": false
   },
   "outputs": [],
   "source": [
    "#Or numerically\n",
    "print '\\nDesign Equation 2 evaluates to:\\n'\n",
    "Fci = 2\n",
    "result2_low = result1_low*Fci\n",
    "result2_mid = result1_mid*Fci\n",
    "result2_sur = result1_sur*Fci\n",
    "print '%s > %.2f PetaBytes/s \\tfor SKA1 LOW' % (str(o.Ncu * o.RcuBw), result2_low / c.peta)\n",
    "print '%s > %.2f PetaBytes/s \\tfor SKA1 MID (Band 1)' % (str(o.Ncu * o.RcuBw), result2_mid / c.peta)\n",
    "print '\\n%s > %.2f PetaBytes/s \\tfor SKA1 Survey (Band 1) (pre-rebaselining)' % (str(o.Ncu * o.RcuBw), result2_sur / c.peta)"
   ]
  },
  {
   "cell_type": "markdown",
   "metadata": {},
   "source": [
    "### 3.\tThe visibility buffer of all compute units together must be sufficiently large to hold both the full resolution visibilities and frequency binned visibilities for continuum processing "
   ]
  },
  {
   "cell_type": "code",
   "execution_count": null,
   "metadata": {
    "collapsed": false
   },
   "outputs": [],
   "source": [
    "o.Ncu * o.McuBuf > o.MspecBufVis + o.McontBufVis"
   ]
  },
  {
   "cell_type": "code",
   "execution_count": null,
   "metadata": {
    "collapsed": false
   },
   "outputs": [],
   "source": [
    "cfg3_low = PipelineConfig(Telescopes.SKA1_Low, ImagingModes.ContAndSpectral, Bands.Low, bldta=True, on_the_fly=False)\n",
    "cfg3_mid = PipelineConfig(Telescopes.SKA1_Mid, ImagingModes.ContAndSpectral, Bands.Mid1, bldta=True, on_the_fly=False)\n",
    "cfg3_sur = PipelineConfig(Telescopes.SKA1_Sur_old, ImagingModes.ContAndSpectral, Bands.Sur1, bldta=True, on_the_fly=False)\n",
    "result3_low = iapi.eval_expression_default(cfg3_low, expression='Mbuf_vis')\n",
    "result3_mid = iapi.eval_expression_default(cfg3_mid, expression='Mbuf_vis')\n",
    "result3_sur = iapi.eval_expression_default(cfg3_sur, expression='Mbuf_vis')\n",
    "\n",
    "#Or numerically\n",
    "print '\\nDesign Equation 3 evaluates to:\\n'\n",
    "Fci = 2\n",
    "print '%s > %.2f PetaBytes \\tfor SKA1 LOW' % (str(o.Ncu * o.McuBuf), result3_low / c.peta)\n",
    "print '%s > %.2f PetaBytes \\tfor SKA1 MID (Band 1)' % (str(o.Ncu * o.McuBuf), result3_mid / c.peta)\n",
    "print '%s > %.2f PetaBytes \\tfor SKA1 Survey (Band 1) (pre-rebaselining)' % (str(o.Ncu * o.McuBuf), result3_sur / c.peta)"
   ]
  },
  {
   "cell_type": "markdown",
   "metadata": {},
   "source": [
    "### 4.\tThe total bandwidth to the visibility buffer must exceed the greater of the bandwidth required for the continuum or spectral line case. If we assume that processing is limited by available FLOPs then the we can compute the rates as"
   ]
  },
  {
   "cell_type": "code",
   "execution_count": null,
   "metadata": {
    "collapsed": false
   },
   "outputs": [],
   "source": [
    "o.Ncu * o.RcuIo > Max(o.RspecIo*(o.RspecFLOP + o.RcontFLOP)/o.RspecFLOP, o.RcontIo*(o.RspecFLOP + o.RcontFLOP)/o.RcontFLOP)"
   ]
  },
  {
   "cell_type": "code",
   "execution_count": null,
   "metadata": {
    "collapsed": false
   },
   "outputs": [],
   "source": [
    "bldta = True\n",
    "otf = False\n",
    "\n",
    "cfg4_cont_low = PipelineConfig(Telescopes.SKA1_Low, ImagingModes.Continuum, Bands.Low, bldta=True, on_the_fly=False)\n",
    "cfg4_spec_low = PipelineConfig(Telescopes.SKA1_Low, ImagingModes.Spectral, Bands.Low, bldta=True, on_the_fly=False)\n",
    "cfg4_cont_mid = PipelineConfig(Telescopes.SKA1_Mid, ImagingModes.Continuum, Bands.Mid1, bldta=True, on_the_fly=False)\n",
    "cfg4_spec_mid = PipelineConfig(Telescopes.SKA1_Mid, ImagingModes.Spectral, Bands.Mid1, bldta=True, on_the_fly=False)\n",
    "\n",
    "Rflop_cont_low = iapi.eval_expression_default(cfg4_cont_low, expression='Rflop')\n",
    "Rflop_spec_low = iapi.eval_expression_default(cfg4_spec_low, expression='Rflop')\n",
    "Rio_cont_low = iapi.eval_expression_default(cfg4_cont_low, expression='Rio')\n",
    "Rio_spec_low = iapi.eval_expression_default(cfg4_spec_low, expression='Rio')\n",
    "\n",
    "Rflop_cont_mid = iapi.eval_expression_default(cfg4_cont_mid, expression='Rflop')\n",
    "Rflop_spec_mid = iapi.eval_expression_default(cfg4_spec_mid, expression='Rflop')\n",
    "Rio_cont_mid = iapi.eval_expression_default(cfg4_cont_mid, expression='Rio')\n",
    "Rio_spec_mid = iapi.eval_expression_default(cfg4_spec_mid, expression='Rio')\n",
    "\n",
    "\n",
    "result4_low = Max((Rio_cont_low/Rflop_cont_low)*(Rflop_cont_low + Rflop_spec_low), (Rio_spec_low/Rflop_spec_low)*(Rflop_cont_low + Rflop_spec_low))\n",
    "result4_mid = Max((Rio_cont_mid/Rflop_cont_mid)*(Rflop_cont_mid + Rflop_spec_mid), (Rio_spec_mid/Rflop_spec_mid)*(Rflop_cont_mid + Rflop_spec_mid))\n",
    "\n",
    "#Or numerically\n",
    "print '\\nDesign Equation 4 evaluates to:\\n'\n",
    "print '%s > %.2f TB/s \\tfor SKA1 LOW' % (str(o.Ncu * o.RcuIo), result4_low / c.tera)\n",
    "print '%s > %.2f TB/s \\tfor SKA1 MID (Band 1)' % (str(o.Ncu * o.RcuIo), result4_mid / c.tera)"
   ]
  },
  {
   "cell_type": "markdown",
   "metadata": {},
   "source": [
    "### 5.\tIf frequency-polarisation-beam parallelism only is to be used with no faceting or other image plane or uv plane division then"
   ]
  },
  {
   "cell_type": "code",
   "execution_count": null,
   "metadata": {
    "collapsed": false
   },
   "outputs": [],
   "source": [
    "# Working memory per compute unit must be greater than the target grid memory\n",
    "o.McuWork > o.MuvGrid"
   ]
  },
  {
   "cell_type": "code",
   "execution_count": null,
   "metadata": {
    "collapsed": false
   },
   "outputs": [],
   "source": [
    "bldta = True\n",
    "otf = False\n",
    "cfg4_low = PipelineConfig(Telescopes.SKA1_Low, ImagingModes.All, Bands.Low, bldta=bldta, on_the_fly=otf)\n",
    "cfg4_mid = PipelineConfig(Telescopes.SKA1_Mid, ImagingModes.All, Bands.Mid1, bldta=bldta, on_the_fly=otf)\n",
    "Npix_low = iapi.eval_expression_default(cfg4_low, expression='Npix_linear')\n",
    "Npix_mid = iapi.eval_expression_default(cfg4_mid, expression='Npix_linear')\n",
    "result4_low = 16 * Npix_low**2 # Eq 9, in bytes\n",
    "result4_mid = 16 * Npix_mid**2 # Eq 9, in bytes\n",
    "\n",
    "#Or numerically\n",
    "print '\\nDesign Equation 5a evaluates to:\\n'\n",
    "Fci = 2\n",
    "print '%s > %.2f GB \\tfor SKA1 LOW' % (str(o.McuWork), result4_low / c.giga)\n",
    "print '%s > %.2f GB \\tfor SKA1 MID (Band 1)' % (str(o.McuWork), result4_mid / c.giga)"
   ]
  },
  {
   "cell_type": "code",
   "execution_count": null,
   "metadata": {
    "collapsed": false
   },
   "outputs": [],
   "source": [
    "# Each compute unit must have reasonably fast memory to keep the grids not being immediately worked on (M_(cu,pool )). \n",
    "# The experience of ASKAPSoft is that about 10 copies are necessary\n",
    "o.McuPool > 10 * o.MuvGrid "
   ]
  },
  {
   "cell_type": "code",
   "execution_count": null,
   "metadata": {
    "collapsed": false
   },
   "outputs": [],
   "source": [
    "#Or numerically\n",
    "print '\\nDesign Equation 5b evaluates to:\\n'\n",
    "Fci = 2\n",
    "print '%s > %.2f GB \\tfor SKA1 LOW' % (str(o.McuPool), 10*result4_low / c.giga)\n",
    "print '%s > %.2f GB \\tfor SKA1 MID (Band 1)' % (str(o.McuPool), 10*result4_mid / c.giga)"
   ]
  },
  {
   "cell_type": "code",
   "execution_count": null,
   "metadata": {
    "collapsed": false
   },
   "outputs": [],
   "source": [
    "# The FFT and Gridding computing steps are limited by available \n",
    "o.NfOut * o.RcuFLOP > 2 * o.Nmajor * (o.Rfft + o.Rrp)  "
   ]
  },
  {
   "cell_type": "code",
   "execution_count": null,
   "metadata": {
    "collapsed": false
   },
   "outputs": [],
   "source": [
    "bldta = True\n",
    "otf = False\n",
    "\n",
    "cfg5_low = PipelineConfig(Telescopes.SKA1_Low, ImagingModes.All, Bands.Low, bldta=bldta, on_the_fly=otf)\n",
    "cfg5_mid = PipelineConfig(Telescopes.SKA1_Mid, ImagingModes.All, Bands.Mid1, bldta=bldta, on_the_fly=otf)\n",
    "\n",
    "Nmajor_low = iapi.eval_expression_default(cfg5_low, expression='Nmajor')\n",
    "Rfft_low = iapi.eval_expression_default(cfg5_low, expression='Rflop_fft')\n",
    "Rrp_low = iapi.eval_expression_default(cfg5_low, expression='Rrp')\n",
    "\n",
    "Nmajor_mid = iapi.eval_expression_default(cfg5_mid, expression='Nmajor')\n",
    "Rfft_mid = iapi.eval_expression_default(cfg5_mid, expression='Rflop_fft')\n",
    "Rrp_mid = iapi.eval_expression_default(cfg5_mid, expression='Rrp')\n",
    "\n",
    "tp = ParameterContainer()\n",
    "ParameterDefinitions.apply_global_parameters(tp)\n",
    "ParameterDefinitions.apply_telescope_parameters(tp, Telescopes.SKA1_Low)\n",
    "ParameterDefinitions.apply_imaging_mode_parameters(tp, ImagingModes.Continuum)\n",
    "Nf_out_low = tp.Nf_out\n",
    "ParameterDefinitions.apply_imaging_mode_parameters(tp, ImagingModes.Spectral)\n",
    "Nf_out_low += tp.Nf_out\n",
    "ParameterDefinitions.apply_imaging_mode_parameters(tp, ImagingModes.FastImg)\n",
    "Nf_out_low += tp.Nf_out\n",
    "\n",
    "tp = ParameterContainer()\n",
    "ParameterDefinitions.apply_global_parameters(tp)\n",
    "ParameterDefinitions.apply_telescope_parameters(tp, Telescopes.SKA1_Mid)\n",
    "ParameterDefinitions.apply_imaging_mode_parameters(tp, ImagingModes.Continuum)\n",
    "Nf_out_mid = tp.Nf_out\n",
    "ParameterDefinitions.apply_imaging_mode_parameters(tp, ImagingModes.Spectral)\n",
    "Nf_out_mid += tp.Nf_out\n",
    "ParameterDefinitions.apply_imaging_mode_parameters(tp, ImagingModes.FastImg)\n",
    "Nf_out_mid += tp.Nf_out\n",
    "\n",
    "result5c_low = 2*Nmajor_low*(Rfft_low + Rrp_low)/Nf_out_low\n",
    "result5c_mid = 2*Nmajor_mid*(Rfft_mid + Rrp_mid)/Nf_out_mid\n",
    "\n",
    "#Or numerically\n",
    "print '\\nDesign Equation 5c evaluates to:\\n'\n",
    "print '%s > %.2f TFLOP/s \\tfor SKA1 LOW' % (str(o.RcuFLOP), result5c_low / c.tera)\n",
    "print '%s > %.2f TFLOP/s \\tfor SKA1 MID (Band1)' % (str(o.RcuFLOP), result5c_mid / c.tera)"
   ]
  },
  {
   "cell_type": "code",
   "execution_count": null,
   "metadata": {
    "collapsed": false
   },
   "outputs": [],
   "source": [
    "# Or, display them as a table\n",
    "labels = ('Design eqn', '1', '2', '3')\n",
    "values_1 = ('SKA1-Low', round(result1_low / c.peta, 2), round(result2_low / c.peta, 2), round(result3_low / c.peta, 2))\n",
    "values_2 = ('SKA1-Mid (Band1)', round(result1_mid / c.peta, 2), round(result2_mid / c.peta, 2), round(result3_mid / c.peta, 2))\n",
    "values_3 = ('Old SKA1-Survey (Band1)', round(result1_sur / c.peta), round(result2_sur / c.peta), round(result3_sur / c.peta))\n",
    "units = ('', 'PFLOP', 'PB/s', 'PB')\n",
    "\n",
    "iapi.show_table_compare3('\"Table 10\" in PDR05 v1.85', labels, values_1, values_2, values_3, units)\n",
    "print 'etc...'"
   ]
  },
  {
   "cell_type": "markdown",
   "metadata": {},
   "source": [
    "## 15.1\tInterconnect Requirements"
   ]
  },
  {
   "cell_type": "code",
   "execution_count": null,
   "metadata": {
    "collapsed": true
   },
   "outputs": [],
   "source": [
    "peak_efficiency = 0.25\n"
   ]
  }
 ],
 "metadata": {
  "kernelspec": {
   "display_name": "Python 2",
   "language": "python",
   "name": "python2"
  },
  "language_info": {
   "codemirror_mode": {
    "name": "ipython",
    "version": 2
   },
   "file_extension": ".py",
   "mimetype": "text/x-python",
   "name": "python",
   "nbconvert_exporter": "python",
   "pygments_lexer": "ipython2",
   "version": "2.7.3"
  }
 },
 "nbformat": 4,
 "nbformat_minor": 0
}
