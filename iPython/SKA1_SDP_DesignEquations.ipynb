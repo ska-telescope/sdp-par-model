{
 "cells": [
  {
   "cell_type": "markdown",
   "metadata": {},
   "source": [
    "# This notebook explores the SKA1 SDP Design Equations\n",
    "\n",
    "## Source: PDR05 v1.85"
   ]
  },
  {
   "cell_type": "code",
   "execution_count": 3,
   "metadata": {
    "collapsed": false
   },
   "outputs": [
    {
     "name": "stdout",
     "output_type": "stream",
     "text": [
      "IPython console for SymPy 0.7.6 (Python 2.7.7-32-bit) (ground types: python)\n"
     ]
    }
   ],
   "source": [
    "\"\"\" These first few lines below import the IPython definitions and methods that we will use, including the ability to\n",
    "display\"\"\"\n",
    "from sympy import init_session\n",
    "init_session(\n",
    "    use_latex=True,\n",
    "    use_unicode=True,\n",
    "    pretty_print=True,\n",
    "    quiet=True,\n",
    ")\n",
    "from parameter_definitions import ParameterContainer\n",
    "from design_equations import DesignEquations as de\n",
    "\n",
    "o = ParameterContainer()\n",
    "de.define_symbolic_variables(o)\n",
    "\n",
    "from api_ipython import SkaIPythonAPI as iapi\n",
    "from parameter_definitions import *\n",
    "from parameter_definitions import Constants as c"
   ]
  },
  {
   "cell_type": "markdown",
   "metadata": {},
   "source": [
    "### 1.\tThe peak FLOP capability of the units taken together has to exceed the total FLOPS required for spectral line and continuum processing combined "
   ]
  },
  {
   "cell_type": "code",
   "execution_count": 4,
   "metadata": {
    "collapsed": false,
    "scrolled": true
   },
   "outputs": [
    {
     "data": {
      "image/png": "[encoded data removed]",
      "text/latex": [
       "$$N_{cu} R_{cu,FLOP} > R^{cont}_{FLOP} + R^{fast}_{FLOP} + R^{spec}_{FLOP}$$"
      ],
      "text/plain": [
       "N_cu⋅R_cu,FLOP > R_FLOP__cont + R_FLOP__fast + R_FLOP__spec"
      ]
     },
     "execution_count": 4,
     "metadata": {},
     "output_type": "execute_result"
    }
   ],
   "source": [
    "o.Ncu * o.RcuFLOP > o.RspecFLOP + o.RcontFLOP + o.RfastFLOP"
   ]
  },
  {
   "cell_type": "code",
   "execution_count": 5,
   "metadata": {
    "collapsed": false
   },
   "outputs": [
    {
     "name": "stdout",
     "output_type": "stream",
     "text": [
      "\n",
      "Design Equation 1 evaluates to:\n",
      "\n",
      "N_cu*R_cu,FLOP > 11.60 PetaFLOPS \tfor SKA1 LOW\n",
      "N_cu*R_cu,FLOP > 111.73 PetaFLOPS \tfor SKA1 MID (Band 1)\n",
      "\n",
      "N_cu*R_cu,FLOP > 177.46 PetaFLOPS \tfor SKA1 SURVEY (Band 1) (pre-rebaselining)\n"
     ]
    }
   ],
   "source": [
    "#Or numerically\n",
    "result1_low = iapi.eval_expression_default(Telescopes.SKA1_Low, ImagingModes.All, Bands.Low, bldta=True, on_the_fly=False\n",
    "                                          , expression='Rflop')\n",
    "result1_mid = iapi.eval_expression_default(Telescopes.SKA1_Mid, ImagingModes.All, Bands.Mid1, bldta=True, on_the_fly=False\n",
    "                                          , expression='Rflop')\n",
    "result1_sur = iapi.eval_expression_default(Telescopes.SKA1_Sur_old, ImagingModes.All, Bands.Sur1, bldta=False, on_the_fly=False\n",
    "                                          , expression='Rflop')\n",
    "print '\\nDesign Equation 1 evaluates to:\\n'\n",
    "print '%s > %.2f PetaFLOPS \\tfor SKA1 LOW' % (str(o.Ncu * o.RcuFLOP), result_low / c.peta)\n",
    "print '%s > %.2f PetaFLOPS \\tfor SKA1 MID (Band 1)' % (str(o.Ncu * o.RcuFLOP), result_mid / c.peta)\n",
    "print '\\n%s > %.2f PetaFLOPS \\tfor SKA1 SURVEY (Band 1) (pre-rebaselining)' % (str(o.Ncu * o.RcuFLOP), result_sur / c.peta)"
   ]
  },
  {
   "cell_type": "markdown",
   "metadata": {},
   "source": [
    "### 2.\tThe total memory bandwidth required has to exceed the required memory bandwidth"
   ]
  },
  {
   "cell_type": "code",
   "execution_count": 3,
   "metadata": {
    "collapsed": false,
    "scrolled": true
   },
   "outputs": [
    {
     "data": {
      "image/png": "[encoded data removed]",
      "text/latex": [
       "$$N_{cu} R_{cu,bw} > F_{ci} \\left(R^{cont}_{FLOP} + R^{fast}_{FLOP} + R^{spec}_{FLOP}\\right)$$"
      ],
      "text/plain": [
       "N_cu⋅R_cu,bw > F_ci⋅(R_FLOP__cont + R_FLOP__fast + R_FLOP__spec)"
      ]
     },
     "execution_count": 3,
     "metadata": {},
     "output_type": "execute_result"
    }
   ],
   "source": [
    "o.Ncu * o.RcuBw > o.Fci*(o.RspecFLOP + o.RcontFLOP + o.RfastFLOP)"
   ]
  },
  {
   "cell_type": "code",
   "execution_count": 8,
   "metadata": {
    "collapsed": false
   },
   "outputs": [
    {
     "name": "stdout",
     "output_type": "stream",
     "text": [
      "\n",
      "Design Equation 2 evaluates to:\n",
      "\n",
      "N_cu*R_cu,bw > 23.20 PetaBytes/s \tfor SKA1 LOW\n",
      "N_cu*R_cu,bw > 223.46 PetaBytes/s \tfor SKA1 MID (Band 1)\n",
      "\n",
      "N_cu*R_cu,bw > 354.93 PetaBytes/s \tfor SKA1 Survey (Band 1) (pre-rebaselining)\n"
     ]
    }
   ],
   "source": [
    "#Or numerically\n",
    "print '\\nDesign Equation 2 evaluates to:\\n'\n",
    "Fci = 2\n",
    "print '%s > %.2f PetaBytes/s \\tfor SKA1 LOW' % (str(o.Ncu * o.RcuBw), result1_low*Fci / c.peta)\n",
    "print '%s > %.2f PetaBytes/s \\tfor SKA1 MID (Band 1)' % (str(o.Ncu * o.RcuBw), result1_mid*Fci / c.peta)\n",
    "print '\\n%s > %.2f PetaBytes/s \\tfor SKA1 Survey (Band 1) (pre-rebaselining)' % (str(o.Ncu * o.RcuBw), result1_sur*Fci / c.peta)"
   ]
  },
  {
   "cell_type": "markdown",
   "metadata": {},
   "source": [
    "### 3.\tThe visibility buffer of all compute units together must be sufficiently large to hold both the full resolution visibilities and frequency binned visibilities for continuum processing "
   ]
  },
  {
   "cell_type": "code",
   "execution_count": 9,
   "metadata": {
    "collapsed": false
   },
   "outputs": [
    {
     "data": {
      "image/png": "[encoded data removed]",
      "text/latex": [
       "$$M_{cu,buf} N_{cu} > M^{cont}_{buf,vis} + M^{spec}_{buf,vis}$$"
      ],
      "text/plain": [
       "M_cu,buf⋅N_cu > M_buf,vis__cont + M_buf,vis__spec"
      ]
     },
     "execution_count": 9,
     "metadata": {},
     "output_type": "execute_result"
    }
   ],
   "source": [
    "o.Ncu * o.McuBuf > o.MspecBufVis + o.McontBufVis"
   ]
  },
  {
   "cell_type": "code",
   "execution_count": 3,
   "metadata": {
    "collapsed": false
   },
   "outputs": [
    {
     "name": "stdout",
     "output_type": "stream",
     "text": [
      "\n",
      "Design Equation 3 evaluates to:\n",
      "\n",
      "M_cu,buf*N_cu > 29.67 PetaBytes \tfor SKA1 LOW\n",
      "M_cu,buf*N_cu > 14.01 PetaBytes \tfor SKA1 MID (Band 1)\n"
     ]
    }
   ],
   "source": [
    "result3_low = iapi.eval_expression_default(Telescopes.SKA1_Low, ImagingModes.ContAndSpectral, Bands.Low, bldta=True\n",
    "                                           , on_the_fly=False, expression='Mbuf_vis')\n",
    "result3_mid = iapi.eval_expression_default(Telescopes.SKA1_Mid, ImagingModes.ContAndSpectral, Bands.Mid1, bldta=True\n",
    "                                           , on_the_fly=False, expression='Mbuf_vis')\n",
    "#Or numerically\n",
    "print '\\nDesign Equation 3 evaluates to:\\n'\n",
    "Fci = 2\n",
    "print '%s > %.2f PetaBytes \\tfor SKA1 LOW' % (str(o.Ncu * o.McuBuf), result3_low / c.peta)\n",
    "print '%s > %.2f PetaBytes \\tfor SKA1 MID (Band 1)' % (str(o.Ncu * o.McuBuf), result3_mid / c.peta)"
   ]
  },
  {
   "cell_type": "markdown",
   "metadata": {},
   "source": [
    "### 4.\tThe total bandwidth to the visibility buffer must exceed the greater of the bandwidth required for the continuum or spectral line case. If we assume that processing is limited by available FLOPs then the we can compute the rates as"
   ]
  },
  {
   "cell_type": "code",
   "execution_count": 2,
   "metadata": {
    "collapsed": false
   },
   "outputs": [
    {
     "data": {
      "image/png": "[encoded data removed]",
      "text/latex": [
       "$$N_{cu} R_{cu,io} > \\max\\left(\\frac{R^{cont}_{io}}{R^{cont}_{FLOP}} \\left(R^{cont}_{FLOP} + R^{spec}_{FLOP}\\right), \\frac{R^{spec}_{io}}{R^{spec}_{FLOP}} \\left(R^{cont}_{FLOP} + R^{spec}_{FLOP}\\right)\\right)$$"
      ],
      "text/plain": [
       "N_cu⋅R_cu,io > Max(R^cont_io*(R^cont_FLOP + R^spec_FLOP)/R^cont_FLOP, R^spec_i\n",
       "o*(R^cont_FLOP + R^spec_FLOP)/R^spec_FLOP)"
      ]
     },
     "execution_count": 2,
     "metadata": {},
     "output_type": "execute_result"
    }
   ],
   "source": [
    "o.Ncu * o.RcuIo > Max(o.RspecIo*(o.RspecFLOP + o.RcontFLOP)/o.RspecFLOP, o.RcontIo*(o.RspecFLOP + o.RcontFLOP)/o.RcontFLOP)"
   ]
  },
  {
   "cell_type": "code",
   "execution_count": 11,
   "metadata": {
    "collapsed": false
   },
   "outputs": [
    {
     "name": "stdout",
     "output_type": "stream",
     "text": [
      "\n",
      "Design Equation 4 evaluates to:\n",
      "\n",
      "N_cu*R_cu,io > 7.59 TB/s \tfor SKA1 LOW\n",
      "N_cu*R_cu,io > 66.69 TB/s \tfor SKA1 MID (Band 1)\n"
     ]
    }
   ],
   "source": [
    "bldta = True\n",
    "otf = False\n",
    "Rflop_cont_low = iapi.eval_expression_default(Telescopes.SKA1_Low, ImagingModes.Continuum, Bands.Low, bldta=bldta\n",
    "                                           , on_the_fly=otf, expression='Rflop')\n",
    "Rflop_spec_low = iapi.eval_expression_default(Telescopes.SKA1_Low, ImagingModes.Spectral, Bands.Low, bldta=bldta\n",
    "                                           , on_the_fly=otf, expression='Rflop')\n",
    "Rio_cont_low = iapi.eval_expression_default(Telescopes.SKA1_Low, ImagingModes.Continuum, Bands.Low, bldta=bldta\n",
    "                                           , on_the_fly=otf, expression='Rio')\n",
    "Rio_spec_low = iapi.eval_expression_default(Telescopes.SKA1_Low, ImagingModes.Spectral, Bands.Low, bldta=bldta\n",
    "                                           , on_the_fly=otf, expression='Rio')\n",
    "\n",
    "Rflop_cont_mid = iapi.eval_expression_default(Telescopes.SKA1_Mid, ImagingModes.Continuum, Bands.Mid1, bldta=bldta\n",
    "                                           , on_the_fly=otf, expression='Rflop')\n",
    "Rflop_spec_mid = iapi.eval_expression_default(Telescopes.SKA1_Mid, ImagingModes.Spectral, Bands.Mid1, bldta=bldta\n",
    "                                           , on_the_fly=otf, expression='Rflop')\n",
    "Rio_cont_mid = iapi.eval_expression_default(Telescopes.SKA1_Mid, ImagingModes.Continuum, Bands.Mid1, bldta=bldta\n",
    "                                           , on_the_fly=otf, expression='Rio')\n",
    "Rio_spec_mid = iapi.eval_expression_default(Telescopes.SKA1_Mid, ImagingModes.Spectral, Bands.Mid1, bldta=bldta\n",
    "                                           , on_the_fly=otf, expression='Rio')\n",
    "\n",
    "\n",
    "result4_low = Max((Rio_cont_low/Rflop_cont_low)*(Rflop_cont_low + Rflop_spec_low), (Rio_spec_low/Rflop_spec_low)*(Rflop_cont_low + Rflop_spec_low))\n",
    "result4_mid = Max((Rio_cont_mid/Rflop_cont_mid)*(Rflop_cont_mid + Rflop_spec_mid), (Rio_spec_mid/Rflop_spec_mid)*(Rflop_cont_mid + Rflop_spec_mid))\n",
    "\n",
    "#Or numerically\n",
    "print '\\nDesign Equation 4 evaluates to:\\n'\n",
    "print '%s > %.2f TB/s \\tfor SKA1 LOW' % (str(o.Ncu * o.RcuIo), result4_low / c.tera)\n",
    "print '%s > %.2f TB/s \\tfor SKA1 MID (Band 1)' % (str(o.Ncu * o.RcuIo), result4_mid / c.tera)"
   ]
  },
  {
   "cell_type": "markdown",
   "metadata": {},
   "source": [
    "### 5.\tIf frequency-polarisation-beam parallelism only is to be used with no faceting or other image plane or uv plane division then"
   ]
  },
  {
   "cell_type": "code",
   "execution_count": 7,
   "metadata": {
    "collapsed": false
   },
   "outputs": [
    {
     "data": {
      "image/png": "[encoded data removed]",
      "text/latex": [
       "$$M_{cu,work} > M_{uv,grid}$$"
      ],
      "text/plain": [
       "M_cu,work > M_uv,grid"
      ]
     },
     "execution_count": 7,
     "metadata": {},
     "output_type": "execute_result"
    }
   ],
   "source": [
    "# Working memory per compute unit must be greater than the target grid memory\n",
    "o.McuWork > o.MuvGrid"
   ]
  },
  {
   "cell_type": "code",
   "execution_count": 17,
   "metadata": {
    "collapsed": false
   },
   "outputs": [
    {
     "name": "stdout",
     "output_type": "stream",
     "text": [
      "\n",
      "Design Equation 5a evaluates to:\n",
      "\n",
      "M_cu,work > 61.60 GB \tfor SKA1 LOW\n",
      "M_cu,work > 162.51 GB \tfor SKA1 MID (Band 1)\n"
     ]
    }
   ],
   "source": [
    "bldta = True\n",
    "otf = False\n",
    "Npix_low = iapi.eval_expression_default(Telescopes.SKA1_Low, ImagingModes.All, Bands.Low, bldta=bldta\n",
    "                                           , on_the_fly=otf, expression='Npix_linear')\n",
    "Npix_mid = iapi.eval_expression_default(Telescopes.SKA1_Mid, ImagingModes.All, Bands.Mid1, bldta=bldta\n",
    "                                           , on_the_fly=otf, expression='Npix_linear')\n",
    "result4_low = 16 * Npix_low**2 # Eq 9, in bytes\n",
    "result4_mid = 16 * Npix_mid**2 # Eq 9, in bytes\n",
    "\n",
    "#Or numerically\n",
    "print '\\nDesign Equation 5a evaluates to:\\n'\n",
    "Fci = 2\n",
    "print '%s > %.2f GB \\tfor SKA1 LOW' % (str(o.McuWork), result4_low / c.giga)\n",
    "print '%s > %.2f GB \\tfor SKA1 MID (Band 1)' % (str(o.McuWork), result4_mid / c.giga)"
   ]
  },
  {
   "cell_type": "code",
   "execution_count": 18,
   "metadata": {
    "collapsed": false
   },
   "outputs": [
    {
     "data": {
      "image/png": "[encoded data removed]",
      "text/latex": [
       "$$M_{cu,pool} > 10 M_{uv,grid}$$"
      ],
      "text/plain": [
       "M_cu,pool > 10⋅M_uv,grid"
      ]
     },
     "execution_count": 18,
     "metadata": {},
     "output_type": "execute_result"
    }
   ],
   "source": [
    "# Each compute unit must have reasonably fast memory to keep the grids not being immediately worked on (M_(cu,pool )). \n",
    "# The experience of ASKAPSoft is that about 10 copies are necessary\n",
    "o.McuPool > 10 * o.MuvGrid "
   ]
  },
  {
   "cell_type": "code",
   "execution_count": 19,
   "metadata": {
    "collapsed": false
   },
   "outputs": [
    {
     "name": "stdout",
     "output_type": "stream",
     "text": [
      "\n",
      "Design Equation 5b evaluates to:\n",
      "\n",
      "M_cu,pool > 615.99 GB \tfor SKA1 LOW\n",
      "M_cu,pool > 1625.09 GB \tfor SKA1 MID (Band 1)\n"
     ]
    }
   ],
   "source": [
    "#Or numerically\n",
    "print '\\nDesign Equation 5b evaluates to:\\n'\n",
    "Fci = 2\n",
    "print '%s > %.2f GB \\tfor SKA1 LOW' % (str(o.McuPool), 10*result4_low / c.giga)\n",
    "print '%s > %.2f GB \\tfor SKA1 MID (Band 1)' % (str(o.McuPool), 10*result4_mid / c.giga)"
   ]
  },
  {
   "cell_type": "code",
   "execution_count": 20,
   "metadata": {
    "collapsed": false
   },
   "outputs": [
    {
     "data": {
      "image/png": "[encoded data removed]",
      "text/latex": [
       "$$N_{f,out} R_{cu,FLOP} > 2 N_{major} \\left(R_{FFT} + R_{RP}\\right)$$"
      ],
      "text/plain": [
       "N_f,out⋅R_cu,FLOP > 2⋅N_major⋅(R_FFT + R_RP)"
      ]
     },
     "execution_count": 20,
     "metadata": {},
     "output_type": "execute_result"
    }
   ],
   "source": [
    "# The FFT and Gridding computing steps are limited by available \n",
    "o.NfOut * o.RcuFLOP > 2 * o.Nmajor * (o.Rfft + o.Rrp)  "
   ]
  },
  {
   "cell_type": "code",
   "execution_count": 16,
   "metadata": {
    "collapsed": false
   },
   "outputs": [
    {
     "name": "stdout",
     "output_type": "stream",
     "text": [
      "\n",
      "Design Equation 5c evaluates to:\n",
      "\n",
      "R_cu,FLOP > 2.07 TFLOP/s \tfor SKA1 LOW\n",
      "R_cu,FLOP > 27.99 TFLOP/s \tfor SKA1 MID (Band1)\n"
     ]
    }
   ],
   "source": [
    "bldta = True\n",
    "otf = False\n",
    "Nmajor_low = iapi.eval_expression_default(Telescopes.SKA1_Low, ImagingModes.All, Bands.Low, bldta=bldta\n",
    "                                           , on_the_fly=otf, expression='Nmajor')\n",
    "Rfft_low = iapi.eval_expression_default(Telescopes.SKA1_Low, ImagingModes.All, Bands.Low, bldta=bldta\n",
    "                                           , on_the_fly=otf, expression='Rflop_fft')\n",
    "Rrp_low = iapi.eval_expression_default(Telescopes.SKA1_Low, ImagingModes.All, Bands.Low, bldta=bldta\n",
    "                                           , on_the_fly=otf, expression='Rrp')\n",
    "\n",
    "Nmajor_mid = iapi.eval_expression_default(Telescopes.SKA1_Mid, ImagingModes.All, Bands.Mid1, bldta=bldta\n",
    "                                           , on_the_fly=otf, expression='Nmajor')\n",
    "Rfft_mid = iapi.eval_expression_default(Telescopes.SKA1_Mid, ImagingModes.All, Bands.Mid1, bldta=bldta\n",
    "                                           , on_the_fly=otf, expression='Rflop_fft')\n",
    "Rrp_mid = iapi.eval_expression_default(Telescopes.SKA1_Mid, ImagingModes.All, Bands.Mid1, bldta=bldta\n",
    "                                           , on_the_fly=otf, expression='Rrp')\n",
    "\n",
    "tp = ParameterContainer()\n",
    "ParameterDefinitions.apply_global_parameters(tp)\n",
    "ParameterDefinitions.apply_telescope_parameters(tp, Telescopes.SKA1_Low)\n",
    "ParameterDefinitions.apply_imaging_mode_parameters(tp, ImagingModes.Continuum)\n",
    "Nf_out_low = tp.Nf_out\n",
    "ParameterDefinitions.apply_imaging_mode_parameters(tp, ImagingModes.Spectral)\n",
    "Nf_out_low += tp.Nf_out\n",
    "ParameterDefinitions.apply_imaging_mode_parameters(tp, ImagingModes.FastImg)\n",
    "Nf_out_low += tp.Nf_out\n",
    "\n",
    "tp = ParameterContainer()\n",
    "ParameterDefinitions.apply_global_parameters(tp)\n",
    "ParameterDefinitions.apply_telescope_parameters(tp, Telescopes.SKA1_Mid)\n",
    "ParameterDefinitions.apply_imaging_mode_parameters(tp, ImagingModes.Continuum)\n",
    "Nf_out_mid = tp.Nf_out\n",
    "ParameterDefinitions.apply_imaging_mode_parameters(tp, ImagingModes.Spectral)\n",
    "Nf_out_mid += tp.Nf_out\n",
    "ParameterDefinitions.apply_imaging_mode_parameters(tp, ImagingModes.FastImg)\n",
    "Nf_out_mid += tp.Nf_out\n",
    "\n",
    "result5c_low = 2*Nmajor_low*(Rfft_low + Rrp_low)/Nf_out_low\n",
    "result5c_mid = 2*Nmajor_mid*(Rfft_mid + Rrp_mid)/Nf_out_mid\n",
    "\n",
    "#Or numerically\n",
    "print '\\nDesign Equation 5c evaluates to:\\n'\n",
    "print '%s > %.2f TFLOP/s \\tfor SKA1 LOW' % (str(o.RcuFLOP), result5c_low / c.tera)\n",
    "print '%s > %.2f TFLOP/s \\tfor SKA1 MID (Band1)' % (str(o.RcuFLOP), result5c_mid / c.tera)"
   ]
  },
  {
   "cell_type": "markdown",
   "metadata": {},
   "source": [
    "## 15.1\tInterconnect Requirements ... to be continued...."
   ]
  },
  {
   "cell_type": "code",
   "execution_count": null,
   "metadata": {
    "collapsed": true
   },
   "outputs": [],
   "source": []
  }
 ],
 "metadata": {
  "kernelspec": {
   "display_name": "Python 2",
   "language": "python",
   "name": "python2"
  },
  "language_info": {
   "codemirror_mode": {
    "name": "ipython",
    "version": 2
   },
   "file_extension": ".py",
   "mimetype": "text/x-python",
   "name": "python",
   "nbconvert_exporter": "python",
   "pygments_lexer": "ipython2",
   "version": "2.7.7"
  }
 },
 "nbformat": 4,
 "nbformat_minor": 0
}
