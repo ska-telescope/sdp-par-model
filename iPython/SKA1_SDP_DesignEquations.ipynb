{
 "cells": [
  {
   "cell_type": "markdown",
   "metadata": {},
   "source": [
    "# This notebook explores the SKA1 SDP Design Equations\n",
    "\n",
    "## Source: PDR05 v1.85"
   ]
  },
  {
   "cell_type": "code",
   "execution_count": 1,
   "metadata": {
    "collapsed": false
   },
   "outputs": [
    {
     "name": "stdout",
     "output_type": "stream",
     "text": [
      "IPython console for SymPy 0.7.6.1 (Python 2.7.11-64-bit) (ground types: python)\n",
      "Working from Git repository deltaPDR-3-g874c056\n",
      "\n",
      "Working from Git repository deltaPDR-3-g874c056\n",
      "\n"
     ]
    },
    {
     "name": "stderr",
     "output_type": "stream",
     "text": [
      "//anaconda/lib/python2.7/site-packages/matplotlib/font_manager.py:273: UserWarning: Matplotlib is building the font cache using fc-list. This may take a moment.\n",
      "  warnings.warn('Matplotlib is building the font cache using fc-list. This may take a moment.')\n"
     ]
    }
   ],
   "source": [
    "\"\"\" These first few lines below import the IPython definitions and methods that we will use, including the ability to\n",
    "display them nicely\"\"\"\n",
    "from sympy import init_session\n",
    "init_session(\n",
    "    use_latex=True,\n",
    "    use_unicode=True,\n",
    "    pretty_print=True,\n",
    "    quiet=True,\n",
    ")\n",
    "from parameter_definitions import ParameterContainer\n",
    "# Currently this file below (design_equations.py) only contains variable definitions that are used for display purposes.\n",
    "# All computations are performed in the notebook itself for now. This was the same way we initially did the approached \n",
    "# the imaging equations. When they become complex it is usually necessary and desirable to move the code from the notebook\n",
    "# to the dedicated Python code files.\n",
    "from design_equations import DesignEquations as de \n",
    "o = ParameterContainer()\n",
    "de.define_symbolic_variables(o)  # o is updated in-place\n",
    "\n",
    "from api_ipython import SkaIPythonAPI as iapi\n",
    "from parameter_definitions import *\n",
    "from parameter_definitions import Constants as c\n",
    "from implementation import PipelineConfig\n",
    "verbose=False\n",
    "\n",
    "import subprocess\n",
    "print \"Working from Git repository %s\" % subprocess.check_output([\"git\",  \"describe\", \"--long\"])\n",
    "\n",
    "# Pipeline configurations used in this document\n",
    "scale_predict_by_facet=True\n",
    "bldta = True\n",
    "otf = False\n",
    "\n",
    "cfg_all_low = PipelineConfig(Telescopes.SKA1_Low, Pipelines.imaging, Bands.Low,\n",
    "                             bldta=bldta, on_the_fly=otf, scale_predict_by_facet=scale_predict_by_facet)\n",
    "cfg_all_mid1 = PipelineConfig(Telescopes.SKA1_Mid, Pipelines.imaging, Bands.Mid1,\n",
    "                              bldta=bldta, on_the_fly=otf, scale_predict_by_facet=scale_predict_by_facet)\n",
    "cfg_all_mid2 = PipelineConfig(Telescopes.SKA1_Mid, Pipelines.imaging, Bands.Mid2,\n",
    "                              bldta=bldta, on_the_fly=otf, scale_predict_by_facet=scale_predict_by_facet)\n",
    "\n",
    "cfg_co_sp_low = PipelineConfig(Telescopes.SKA1_Low, [Pipelines.DPrepA,Pipelines.DPrepC], Bands.Low,\n",
    "                          bldta=bldta, on_the_fly=otf, scale_predict_by_facet=scale_predict_by_facet)\n",
    "cfg_co_sp_mid1 = PipelineConfig(Telescopes.SKA1_Mid, [Pipelines.DPrepA,Pipelines.DPrepC], Bands.Mid1,\n",
    "                           bldta=bldta, on_the_fly=otf, scale_predict_by_facet=scale_predict_by_facet)\n",
    "cfg_co_sp_mid2 = PipelineConfig(Telescopes.SKA1_Mid, [Pipelines.DPrepA,Pipelines.DPrepC], Bands.Mid2,\n",
    "                           bldta=bldta, on_the_fly=otf, scale_predict_by_facet=scale_predict_by_facet)\n",
    "\n",
    "cfg_cont_low = PipelineConfig(Telescopes.SKA1_Low, Pipelines.DPrepA, Bands.Low,\n",
    "                               bldta=bldta, on_the_fly=otf, scale_predict_by_facet=scale_predict_by_facet)\n",
    "cfg_spec_low = PipelineConfig(Telescopes.SKA1_Low, Pipelines.DPrepC, Bands.Low,\n",
    "                               bldta=bldta, on_the_fly=otf, scale_predict_by_facet=scale_predict_by_facet)\n",
    "cfg_cont_mid1 = PipelineConfig(Telescopes.SKA1_Mid, Pipelines.DPrepA, Bands.Mid1,\n",
    "                                bldta=bldta, on_the_fly=otf, scale_predict_by_facet=scale_predict_by_facet)\n",
    "cfg_spec_mid1 = PipelineConfig(Telescopes.SKA1_Mid, Pipelines.DPrepC, Bands.Mid1,\n",
    "                                bldta=bldta, on_the_fly=otf, scale_predict_by_facet=scale_predict_by_facet)\n",
    "cfg_cont_mid2 = PipelineConfig(Telescopes.SKA1_Mid, Pipelines.DPrepA, Bands.Mid2,\n",
    "                                bldta=bldta, on_the_fly=otf, scale_predict_by_facet=scale_predict_by_facet)\n",
    "cfg_spec_mid2 = PipelineConfig(Telescopes.SKA1_Mid, Pipelines.DPrepC, Bands.Mid2,\n",
    "                                bldta=bldta, on_the_fly=otf, scale_predict_by_facet=scale_predict_by_facet)\n"
   ]
  },
  {
   "cell_type": "markdown",
   "metadata": {},
   "source": [
    "### 1.\tThe peak FLOP capability of the units taken together has to exceed the total FLOPS required for spectral line and continuum processing combined "
   ]
  },
  {
   "cell_type": "code",
   "execution_count": 2,
   "metadata": {
    "collapsed": false,
    "scrolled": true
   },
   "outputs": [
    {
     "data": {
      "image/png": "[encoded data removed]",
      "text/latex": [
       "$$N_{cu} R_{cu,FLOP} > R^{cont}_{FLOP} + R^{fast}_{FLOP} + R^{spec}_{FLOP}$$"
      ],
      "text/plain": [
       "N_cu⋅R_cu,FLOP > R_FLOP__cont + R_FLOP__fast + R_FLOP__spec"
      ]
     },
     "execution_count": 2,
     "metadata": {},
     "output_type": "execute_result"
    }
   ],
   "source": [
    "o.Ncu * o.RcuFLOP > o.RspecFLOP + o.RcontFLOP + o.RfastFLOP"
   ]
  },
  {
   "cell_type": "code",
   "execution_count": 3,
   "metadata": {
    "collapsed": false
   },
   "outputs": [
    {
     "name": "stdout",
     "output_type": "stream",
     "text": [
      "\n",
      "Design Equation 1 evaluates to:\n",
      "\n",
      "N_cu*R_cu,FLOP > 34.66 PetaFLOPS \tfor SKA1 LOW\n",
      "N_cu*R_cu,FLOP > 74.17 PetaFLOPS \tfor SKA1 MID (Band 1)\n",
      "N_cu*R_cu,FLOP > 57.37 PetaFLOPS \tfor SKA1 MID (Band 2)\n"
     ]
    }
   ],
   "source": [
    "#Or numerically\n",
    "result1_low = iapi.eval_expression_default(cfg_all_low, expression='Rflop', verbose=verbose)\n",
    "result1_mid1 = iapi.eval_expression_default(cfg_all_mid1, expression='Rflop', verbose=verbose)\n",
    "result1_mid2 = iapi.eval_expression_default(cfg_all_mid2, expression='Rflop', verbose=verbose)\n",
    "print '\\nDesign Equation 1 evaluates to:\\n'\n",
    "print '%s > %.2f PetaFLOPS \\tfor SKA1 LOW' % (str(o.Ncu * o.RcuFLOP), result1_low / c.peta)\n",
    "print '%s > %.2f PetaFLOPS \\tfor SKA1 MID (Band 1)' % (str(o.Ncu * o.RcuFLOP), result1_mid1 / c.peta)\n",
    "print '%s > %.2f PetaFLOPS \\tfor SKA1 MID (Band 2)' % (str(o.Ncu * o.RcuFLOP), result1_mid2 / c.peta)"
   ]
  },
  {
   "cell_type": "markdown",
   "metadata": {},
   "source": [
    "### 2.\tThe total memory bandwidth required has to exceed the required memory bandwidth"
   ]
  },
  {
   "cell_type": "code",
   "execution_count": 4,
   "metadata": {
    "collapsed": false,
    "scrolled": true
   },
   "outputs": [
    {
     "data": {
      "image/png": "[encoded data removed]",
      "text/latex": [
       "$$N_{cu} R_{cu,io} > F_{ci} \\left(R^{cont}_{FLOP} + R^{fast}_{FLOP} + R^{spec}_{FLOP}\\right)$$"
      ],
      "text/plain": [
       "N_cu⋅R_cu,io > F_ci⋅(R_FLOP__cont + R_FLOP__fast + R_FLOP__spec)"
      ]
     },
     "execution_count": 4,
     "metadata": {},
     "output_type": "execute_result"
    }
   ],
   "source": [
    "o.Ncu * o.RcuIo > o.Fci*(o.RspecFLOP + o.RcontFLOP + o.RfastFLOP)"
   ]
  },
  {
   "cell_type": "code",
   "execution_count": 5,
   "metadata": {
    "collapsed": false
   },
   "outputs": [
    {
     "name": "stdout",
     "output_type": "stream",
     "text": [
      "\n",
      "Design Equation 2 evaluates to:\n",
      "\n",
      "N_cu*R_cu,io > 69.32 PetaBytes/s \tfor SKA1 LOW\n",
      "N_cu*R_cu,io > 148.33 PetaBytes/s \tfor SKA1 MID (Band 1)\n",
      "N_cu*R_cu,io > 114.73 PetaBytes/s \tfor SKA1 MID (Band 2)\n"
     ]
    }
   ],
   "source": [
    "#Or numerically\n",
    "print '\\nDesign Equation 2 evaluates to:\\n'\n",
    "Fci = 2\n",
    "result2_low = result1_low*Fci\n",
    "result2_mid1 = result1_mid1*Fci\n",
    "result2_mid2 = result1_mid2*Fci\n",
    "\n",
    "print '%s > %.2f PetaBytes/s \\tfor SKA1 LOW' % (str(o.Ncu * o.RcuIo), result2_low / c.peta)\n",
    "print '%s > %.2f PetaBytes/s \\tfor SKA1 MID (Band 1)' % (str(o.Ncu * o.RcuIo), result2_mid1 / c.peta)\n",
    "print '%s > %.2f PetaBytes/s \\tfor SKA1 MID (Band 2)' % (str(o.Ncu * o.RcuIo), result2_mid2 / c.peta)"
   ]
  },
  {
   "cell_type": "markdown",
   "metadata": {},
   "source": [
    "### 3.\tThe visibility buffer of all compute units together must be sufficiently large to hold both the full resolution visibilities and frequency binned visibilities for continuum processing "
   ]
  },
  {
   "cell_type": "code",
   "execution_count": 6,
   "metadata": {
    "collapsed": false
   },
   "outputs": [
    {
     "data": {
      "image/png": "[encoded data removed]",
      "text/latex": [
       "$$M_{cu,buf} N_{cu} > M^{cont}_{buf,vis} + M^{spec}_{buf,vis}$$"
      ],
      "text/plain": [
       "M_cu,buf⋅N_cu > M_buf,vis__cont + M_buf,vis__spec"
      ]
     },
     "execution_count": 6,
     "metadata": {},
     "output_type": "execute_result"
    }
   ],
   "source": [
    "o.Ncu * o.McuBuf > o.MspecBufVis + o.McontBufVis"
   ]
  },
  {
   "cell_type": "code",
   "execution_count": 7,
   "metadata": {
    "collapsed": false
   },
   "outputs": [
    {
     "name": "stdout",
     "output_type": "stream",
     "text": [
      "\n",
      "Design Equation 3 evaluates to:\n",
      "\n",
      "M_cu,buf*N_cu > 22.67 PetaBytes \tfor SKA1 LOW\n",
      "M_cu,buf*N_cu > 23.42 PetaBytes \tfor SKA1 MID (Band 1)\n",
      "M_cu,buf*N_cu > 23.42 PetaBytes \tfor SKA1 MID (Band 2)\n"
     ]
    }
   ],
   "source": [
    "result3_low = iapi.eval_expression_default(cfg_co_sp_low, expression='Mbuf_vis', verbose=verbose)\n",
    "result3_mid1 = iapi.eval_expression_default(cfg_co_sp_mid1, expression='Mbuf_vis', verbose=verbose)\n",
    "result3_mid2 = iapi.eval_expression_default(cfg_co_sp_mid2, expression='Mbuf_vis', verbose=verbose)\n",
    "\n",
    "#Or numerically\n",
    "print '\\nDesign Equation 3 evaluates to:\\n'\n",
    "Fci = 2\n",
    "print '%s > %.2f PetaBytes \\tfor SKA1 LOW' % (str(o.Ncu * o.McuBuf), result3_low / c.peta)\n",
    "print '%s > %.2f PetaBytes \\tfor SKA1 MID (Band 1)' % (str(o.Ncu * o.McuBuf), result3_mid1 / c.peta)\n",
    "print '%s > %.2f PetaBytes \\tfor SKA1 MID (Band 2)' % (str(o.Ncu * o.McuBuf), result3_mid2 / c.peta)"
   ]
  },
  {
   "cell_type": "markdown",
   "metadata": {},
   "source": [
    "### 4.\tThe total bandwidth to the visibility buffer must exceed the greater of the bandwidth required for the continuum or spectral line case. If we assume that processing is limited by available FLOPs then the we can compute the rates as"
   ]
  },
  {
   "cell_type": "code",
   "execution_count": 8,
   "metadata": {
    "collapsed": false,
    "scrolled": true
   },
   "outputs": [
    {
     "data": {
      "image/png": "[encoded data removed]",
      "text/latex": [
       "$$N_{cu} R_{cu,io} > \\max\\left(\\frac{R^{cont}_{io}}{R^{cont}_{FLOP}} \\left(R^{cont}_{FLOP} + R^{spec}_{FLOP}\\right), \\frac{R^{spec}_{io}}{R^{spec}_{FLOP}} \\left(R^{cont}_{FLOP} + R^{spec}_{FLOP}\\right)\\right)$$"
      ],
      "text/plain": [
       "N_cu⋅R_cu,io > Max(R^cont_io*(R^cont_FLOP + R^spec_FLOP)/R^cont_FLOP, R^spec_i\n",
       "o*(R^cont_FLOP + R^spec_FLOP)/R^spec_FLOP)"
      ]
     },
     "execution_count": 8,
     "metadata": {},
     "output_type": "execute_result"
    }
   ],
   "source": [
    "o.Ncu * o.RcuIo > Max(o.RspecIo*(o.RspecFLOP + o.RcontFLOP)/o.RspecFLOP, o.RcontIo*(o.RspecFLOP + o.RcontFLOP)/o.RcontFLOP)"
   ]
  },
  {
   "cell_type": "code",
   "execution_count": 9,
   "metadata": {
    "collapsed": false
   },
   "outputs": [
    {
     "name": "stdout",
     "output_type": "stream",
     "text": [
      "\n",
      "Design Equation 4 evaluates to:\n",
      "\n",
      "N_cu*R_cu,io > 184.88 TB/s \tfor SKA1 LOW\n",
      "N_cu*R_cu,io > 1526.12 TB/s \tfor SKA1 MID (Band 1)\n",
      "N_cu*R_cu,io > 986.88 TB/s \tfor SKA1 MID (Band 2)\n"
     ]
    }
   ],
   "source": [
    "\n",
    "Rflop_cont_low = iapi.eval_expression_default(cfg_cont_low, expression='Rflop', verbose=verbose)\n",
    "Rflop_spec_low = iapi.eval_expression_default(cfg_spec_low, expression='Rflop', verbose=verbose)\n",
    "Rio_cont_low = iapi.eval_expression_default(cfg_cont_low, expression='Rio', verbose=verbose)\n",
    "Rio_spec_low = iapi.eval_expression_default(cfg_spec_low, expression='Rio', verbose=verbose)\n",
    "\n",
    "Rflop_cont_mid1 = iapi.eval_expression_default(cfg_cont_mid1, expression='Rflop', verbose=verbose)\n",
    "Rflop_spec_mid1 = iapi.eval_expression_default(cfg_spec_mid1, expression='Rflop', verbose=verbose)\n",
    "Rio_cont_mid1 = iapi.eval_expression_default(cfg_cont_mid1, expression='Rio', verbose=verbose)\n",
    "Rio_spec_mid1 = iapi.eval_expression_default(cfg_spec_mid1, expression='Rio', verbose=verbose)\n",
    "\n",
    "Rflop_cont_mid2 = iapi.eval_expression_default(cfg_cont_mid2, expression='Rflop', verbose=verbose)\n",
    "Rflop_spec_mid2 = iapi.eval_expression_default(cfg_spec_mid2, expression='Rflop', verbose=verbose)\n",
    "Rio_cont_mid2 = iapi.eval_expression_default(cfg_cont_mid2, expression='Rio', verbose=verbose)\n",
    "Rio_spec_mid2 = iapi.eval_expression_default(cfg_spec_mid2, expression='Rio', verbose=verbose)\n",
    "\n",
    "\n",
    "result4_low = Max((Rio_cont_low/Rflop_cont_low)*(Rflop_cont_low + Rflop_spec_low), (Rio_spec_low/Rflop_spec_low)*(Rflop_cont_low + Rflop_spec_low))\n",
    "result4_mid1 = Max((Rio_cont_mid1/Rflop_cont_mid1)*(Rflop_cont_mid1 + Rflop_spec_mid1), (Rio_spec_mid1/Rflop_spec_mid1)*(Rflop_cont_mid1 + Rflop_spec_mid1))\n",
    "result4_mid2 = Max((Rio_cont_mid2/Rflop_cont_mid2)*(Rflop_cont_mid2 + Rflop_spec_mid2), (Rio_spec_mid2/Rflop_spec_mid2)*(Rflop_cont_mid2 + Rflop_spec_mid2))\n",
    "\n",
    "\n",
    "#Or numerically\n",
    "print '\\nDesign Equation 4 evaluates to:\\n'\n",
    "print '%s > %.2f TB/s \\tfor SKA1 LOW' % (str(o.Ncu * o.RcuIo), result4_low / c.tera)\n",
    "print '%s > %.2f TB/s \\tfor SKA1 MID (Band 1)' % (str(o.Ncu * o.RcuIo), result4_mid1 / c.tera)\n",
    "print '%s > %.2f TB/s \\tfor SKA1 MID (Band 2)' % (str(o.Ncu * o.RcuIo), result4_mid2 / c.tera)"
   ]
  },
  {
   "cell_type": "markdown",
   "metadata": {},
   "source": [
    "### 5.\tIf frequency-polarisation-beam parallelism only is to be used with no faceting or other image plane or uv plane division then"
   ]
  },
  {
   "cell_type": "code",
   "execution_count": 10,
   "metadata": {
    "collapsed": false
   },
   "outputs": [
    {
     "data": {
      "image/png": "[encoded data removed]",
      "text/latex": [
       "$$M_{cu,work} > M_{uv,grid}$$"
      ],
      "text/plain": [
       "M_cu,work > M_uv,grid"
      ]
     },
     "execution_count": 10,
     "metadata": {},
     "output_type": "execute_result"
    }
   ],
   "source": [
    "# Working memory per compute unit must be greater than the target grid memory\n",
    "o.McuWork > o.MuvGrid"
   ]
  },
  {
   "cell_type": "code",
   "execution_count": 11,
   "metadata": {
    "collapsed": false,
    "scrolled": true
   },
   "outputs": [
    {
     "name": "stdout",
     "output_type": "stream",
     "text": [
      "\n",
      "Design Equation 5a evaluates to:\n",
      "\n",
      "M_cu,work > 0.28 TB \tfor SKA1 LOW\n",
      "M_cu,work > 1.23 TB \tfor SKA1 MID (Band 1)\n",
      "M_cu,work > 1.73 TB \tfor SKA1 MID (Band 2)\n"
     ]
    }
   ],
   "source": [
    "bldta = True\n",
    "otf = False\n",
    "Npix_low = iapi.eval_expression_default(cfg_all_low, expression='Npix_linear', verbose=verbose)\n",
    "Npix_mid1 = iapi.eval_expression_default(cfg_all_mid1, expression='Npix_linear', verbose=verbose)\n",
    "Npix_mid2 = iapi.eval_expression_default(cfg_all_mid2, expression='Npix_linear', verbose=verbose)\n",
    "result4_low = 16 * Npix_low**2 # Eq 9, in bytes\n",
    "result4_mid1 = 16 * Npix_mid1**2 # Eq 9, in bytes\n",
    "result4_mid2 = 16 * Npix_mid2**2 # Eq 9, in bytes\n",
    "\n",
    "\n",
    "print '\\nDesign Equation 5a evaluates to:\\n'\n",
    "Fci = 2\n",
    "print '%s > %.2f TB \\tfor SKA1 LOW' % (str(o.McuWork), result4_low / c.tera)\n",
    "print '%s > %.2f TB \\tfor SKA1 MID (Band 1)' % (str(o.McuWork), result4_mid1 / c.tera)\n",
    "print '%s > %.2f TB \\tfor SKA1 MID (Band 2)' % (str(o.McuWork), result4_mid2 / c.tera)"
   ]
  },
  {
   "cell_type": "code",
   "execution_count": 12,
   "metadata": {
    "collapsed": false
   },
   "outputs": [
    {
     "data": {
      "image/png": "[encoded data removed]",
      "text/latex": [
       "$$M_{cu,pool} > 10 M_{uv,grid}$$"
      ],
      "text/plain": [
       "M_cu,pool > 10⋅M_uv,grid"
      ]
     },
     "execution_count": 12,
     "metadata": {},
     "output_type": "execute_result"
    }
   ],
   "source": [
    "# Each compute unit must have reasonably fast memory to keep the grids not being immediately worked on (M_(cu,pool )). \n",
    "# The experience of ASKAPSoft is that about 10 copies are necessary\n",
    "o.McuPool > 10 * o.MuvGrid "
   ]
  },
  {
   "cell_type": "code",
   "execution_count": 13,
   "metadata": {
    "collapsed": false
   },
   "outputs": [
    {
     "name": "stdout",
     "output_type": "stream",
     "text": [
      "\n",
      "Design Equation 5b evaluates to:\n",
      "\n",
      "M_cu,pool > 2.84 TB \tfor SKA1 LOW\n",
      "M_cu,pool > 12.33 TB \tfor SKA1 MID (Band 1)\n",
      "M_cu,pool > 17.33 TB \tfor SKA1 MID (Band 2)\n"
     ]
    }
   ],
   "source": [
    "#Or numerically\n",
    "print '\\nDesign Equation 5b evaluates to:\\n'\n",
    "Fci = 2\n",
    "print '%s > %.2f TB \\tfor SKA1 LOW' % (str(o.McuPool), 10*result4_low / c.tera)\n",
    "print '%s > %.2f TB \\tfor SKA1 MID (Band 1)' % (str(o.McuPool), 10*result4_mid1 / c.tera)\n",
    "print '%s > %.2f TB \\tfor SKA1 MID (Band 2)' % (str(o.McuPool), 10*result4_mid2 / c.tera)"
   ]
  },
  {
   "cell_type": "code",
   "execution_count": 14,
   "metadata": {
    "collapsed": false
   },
   "outputs": [
    {
     "data": {
      "image/png": "[encoded data removed]",
      "text/latex": [
       "$$N_{f,out} R_{cu,FLOP} > 2 N_{major} \\left(R_{FFT} + R_{RP}\\right)$$"
      ],
      "text/plain": [
       "N_f,out⋅R_cu,FLOP > 2⋅N_major⋅(R_FFT + R_RP)"
      ]
     },
     "execution_count": 14,
     "metadata": {},
     "output_type": "execute_result"
    }
   ],
   "source": [
    "# The FFT and Gridding computing steps are limited by available \n",
    "o.NfOut * o.RcuFLOP > 2 * o.Nmajor * (o.Rfft + o.Rrp)  "
   ]
  },
  {
   "cell_type": "code",
   "execution_count": 15,
   "metadata": {
    "collapsed": false
   },
   "outputs": [
    {
     "name": "stdout",
     "output_type": "stream",
     "text": [
      "\n",
      "Design Equation 5c evaluates to:\n",
      "\n",
      "R_cu,FLOP > 2.83 TFLOP/s \tfor SKA1 LOW\n",
      "R_cu,FLOP > 8.10 TFLOP/s \tfor SKA1 MID (Band1)\n",
      "R_cu,FLOP > 5.43 TFLOP/s \tfor SKA1 MID (Band2)\n"
     ]
    }
   ],
   "source": [
    "bldta = True\n",
    "otf = False\n",
    "\n",
    "Nmajor_low = iapi.eval_expression_default(cfg_all_low, expression='Nmajor', verbose=verbose)\n",
    "Rfft_low = iapi.eval_expression_default(cfg_all_low, expression='Rflop_fft_bw', verbose=verbose)\n",
    "Rrp_low = iapi.eval_expression_default(cfg_all_low, expression='Rrp', verbose=verbose)\n",
    "\n",
    "Nmajor_mid1 = iapi.eval_expression_default(cfg_all_mid1, expression='Nmajor', verbose=verbose)\n",
    "Rfft_mid1 = iapi.eval_expression_default(cfg_all_mid1, expression='Rflop_fft_bw', verbose=verbose)\n",
    "Rrp_mid1 = iapi.eval_expression_default(cfg_all_mid1, expression='Rrp', verbose=verbose)\n",
    "\n",
    "Nmajor_mid2 = iapi.eval_expression_default(cfg_all_mid2, expression='Nmajor', verbose=verbose)\n",
    "Rfft_mid2 = iapi.eval_expression_default(cfg_all_mid2, expression='Rflop_fft_bw', verbose=verbose)\n",
    "Rrp_mid2 = iapi.eval_expression_default(cfg_all_mid2, expression='Rrp', verbose=verbose)\n",
    "\n",
    "tp = ParameterContainer()\n",
    "ParameterDefinitions.apply_global_parameters(tp)\n",
    "ParameterDefinitions.apply_telescope_parameters(tp, Telescopes.SKA1_Low)\n",
    "ParameterDefinitions.apply_pipeline_parameters(tp, Pipelines.DPrepA)\n",
    "Nf_out_low = tp.Nf_out\n",
    "ParameterDefinitions.apply_pipeline_parameters(tp, Pipelines.DPrepC)\n",
    "Nf_out_low += tp.Nf_out\n",
    "ParameterDefinitions.apply_pipeline_parameters(tp, Pipelines.Fast_Img)\n",
    "Nf_out_low += tp.Nf_out\n",
    "\n",
    "tp = ParameterContainer()\n",
    "ParameterDefinitions.apply_global_parameters(tp)\n",
    "ParameterDefinitions.apply_telescope_parameters(tp, Telescopes.SKA1_Mid)\n",
    "ParameterDefinitions.apply_pipeline_parameters(tp, Pipelines.DPrepA)\n",
    "Nf_out_mid1 = tp.Nf_out\n",
    "ParameterDefinitions.apply_pipeline_parameters(tp, Pipelines.DPrepC)\n",
    "Nf_out_mid1 += tp.Nf_out\n",
    "ParameterDefinitions.apply_pipeline_parameters(tp, Pipelines.Fast_Img)\n",
    "Nf_out_mid1 += tp.Nf_out\n",
    "\n",
    "\n",
    "tp = ParameterContainer()\n",
    "ParameterDefinitions.apply_global_parameters(tp)\n",
    "ParameterDefinitions.apply_telescope_parameters(tp, Telescopes.SKA1_Mid)\n",
    "ParameterDefinitions.apply_pipeline_parameters(tp, Pipelines.DPrepA)\n",
    "Nf_out_mid2 = tp.Nf_out\n",
    "ParameterDefinitions.apply_pipeline_parameters(tp, Pipelines.DPrepC)\n",
    "Nf_out_mid2 += tp.Nf_out\n",
    "ParameterDefinitions.apply_pipeline_parameters(tp, Pipelines.Fast_Img)\n",
    "Nf_out_mid2 += tp.Nf_out\n",
    "\n",
    "\n",
    "result5c_low = 2*Nmajor_low*(Rfft_low + Rrp_low)/Nf_out_low\n",
    "result5c_mid1 = 2*Nmajor_mid1*(Rfft_mid1 + Rrp_mid1)/Nf_out_mid1\n",
    "result5c_mid2 = 2*Nmajor_mid2*(Rfft_mid2 + Rrp_mid2)/Nf_out_mid2\n",
    "\n",
    "\n",
    "#Or numerically\n",
    "print '\\nDesign Equation 5c evaluates to:\\n'\n",
    "print '%s > %.2f TFLOP/s \\tfor SKA1 LOW' % (str(o.RcuFLOP), result5c_low / c.tera)\n",
    "print '%s > %.2f TFLOP/s \\tfor SKA1 MID (Band1)' % (str(o.RcuFLOP), result5c_mid1 / c.tera)\n",
    "print '%s > %.2f TFLOP/s \\tfor SKA1 MID (Band2)' % (str(o.RcuFLOP), result5c_mid2 / c.tera)"
   ]
  },
  {
   "cell_type": "code",
   "execution_count": 16,
   "metadata": {
    "collapsed": false
   },
   "outputs": [
    {
     "data": {
      "text/html": [
       "<h5>\"Table 10\" in PDR05 v1.85:</h5><table>\n",
       "<tr><td>Design eqn</td><td><font color=\"darkcyan\">SKA1-Low</font></td><td><font color=\"blue\">SKA1-Mid (Band1)</font></td><td><font color=\"purple\">SKA1-Mid (Band2)</font></td><td></td></tr>\n",
       "<tr><td>1</td><td><font color=\"darkcyan\">34.7</font></td><td><font color=\"blue\">74.2</font></td><td><font color=\"purple\">57.4</font></td><td>PFLOP</td></tr>\n",
       "<tr><td>2</td><td><font color=\"darkcyan\">69.3</font></td><td><font color=\"blue\">148</font></td><td><font color=\"purple\">115</font></td><td>PB/s</td></tr>\n",
       "<tr><td>3</td><td><font color=\"darkcyan\">22.7</font></td><td><font color=\"blue\">23.4</font></td><td><font color=\"purple\">23.4</font></td><td>PB</td></tr>\n",
       "</table>"
      ],
      "text/plain": [
       "<IPython.core.display.HTML object>"
      ]
     },
     "metadata": {},
     "output_type": "display_data"
    },
    {
     "name": "stdout",
     "output_type": "stream",
     "text": [
      "etc...\n"
     ]
    }
   ],
   "source": [
    "# Or, display them as a table\n",
    "labels = ('Design eqn', '1', '2', '3')\n",
    "values_1 = ('SKA1-Low', round(result1_low / c.peta, 2), round(result2_low / c.peta, 2), round(result3_low / c.peta, 2))\n",
    "values_2 = ('SKA1-Mid (Band1)', round(result1_mid1 / c.peta, 2), round(result2_mid1 / c.peta, 2), round(result3_mid1 / c.peta, 2))\n",
    "values_3 = ('SKA1-Mid (Band2)', round(result1_mid2 / c.peta, 2), round(result2_mid2 / c.peta, 2), round(result3_mid2 / c.peta, 2))\n",
    "\n",
    "units = ('', 'PFLOP', 'PB/s', 'PB')\n",
    "\n",
    "iapi.show_table_compare3('\"Table 10\" in PDR05 v1.85', labels, values_1, values_2, values_3, units)\n",
    "print 'etc...'"
   ]
  },
  {
   "cell_type": "markdown",
   "metadata": {
    "collapsed": true
   },
   "source": [
    "### 6. The total interconnect bandwidth must exceed that needed for faceting"
   ]
  },
  {
   "cell_type": "code",
   "execution_count": 17,
   "metadata": {
    "collapsed": false,
    "scrolled": true
   },
   "outputs": [
    {
     "data": {
      "image/png": "[encoded data removed]",
      "text/latex": [
       "$$N_{cu} R_{cu,inter} > R_{interfacet}$$"
      ],
      "text/plain": [
       "N_cu⋅R_cu,inter > R_interfacet"
      ]
     },
     "execution_count": 17,
     "metadata": {},
     "output_type": "execute_result"
    }
   ],
   "source": [
    "o.Ncu * o.RcuInter > o.Rinterfacet"
   ]
  },
  {
   "cell_type": "code",
   "execution_count": 18,
   "metadata": {
    "collapsed": false,
    "scrolled": false
   },
   "outputs": [
    {
     "name": "stdout",
     "output_type": "stream",
     "text": [
      "\n",
      "Design Equation for continuum faceting evaluates to:\n",
      "\n",
      "N_cu*R_cu,inter > 5.14 TB/s \tfor SKA1 LOW, all modes\n",
      "N_cu*R_cu,inter > 125.74 TB/s \tfor SKA1 MID (Band1), all modes\n",
      "N_cu*R_cu,inter > 109.75 TB/s \tfor SKA1 MID (Band2), all modes\n"
     ]
    }
   ],
   "source": [
    "bldta = True\n",
    "otf = False\n",
    "Rinterfacet_low = iapi.eval_expression_default(cfg_all_low, expression='Rinterfacet', verbose=verbose)\n",
    "RInterfacet_mid1 = iapi.eval_expression_default(cfg_all_mid1, expression='Rinterfacet', verbose=verbose)\n",
    "RInterfacet_mid2 = iapi.eval_expression_default(cfg_all_mid2, expression='Rinterfacet', verbose=verbose)\n",
    "\n",
    "\n",
    "#Or numerically\n",
    "print '\\nDesign Equation for continuum faceting evaluates to:\\n'\n",
    "print '%s > %.2f TB/s \\tfor SKA1 LOW, all modes' % (str(o.Ncu * o.RcuInter), Rinterfacet_low / c.tera)\n",
    "print '%s > %.2f TB/s \\tfor SKA1 MID (Band1), all modes' % (str(o.Ncu * o.RcuInter), RInterfacet_mid1 / c.tera)\n",
    "print '%s > %.2f TB/s \\tfor SKA1 MID (Band2), all modes' % (str(o.Ncu * o.RcuInter), RInterfacet_mid2 / c.tera)"
   ]
  },
  {
   "cell_type": "code",
   "execution_count": null,
   "metadata": {
    "collapsed": true
   },
   "outputs": [],
   "source": []
  },
  {
   "cell_type": "code",
   "execution_count": null,
   "metadata": {
    "collapsed": true
   },
   "outputs": [],
   "source": []
  }
 ],
 "metadata": {
  "kernelspec": {
   "display_name": "Python 2",
   "language": "python",
   "name": "python2"
  },
  "language_info": {
   "codemirror_mode": {
    "name": "ipython",
    "version": 2
   },
   "file_extension": ".py",
   "mimetype": "text/x-python",
   "name": "python",
   "nbconvert_exporter": "python",
   "pygments_lexer": "ipython2",
   "version": "2.7.11"
  }
 },
 "nbformat": 4,
 "nbformat_minor": 0
}
