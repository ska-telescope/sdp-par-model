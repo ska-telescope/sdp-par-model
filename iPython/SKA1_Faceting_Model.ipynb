{
 "cells": [
  {
   "cell_type": "markdown",
   "metadata": {},
   "source": [
    "# Investigation of faceting in the SKA Performance Model\n",
    "## This notebook provides the plots for the TCC memo TCC-SDP-151123-1-1\n",
    "## First, do the necessary set-up (run the code block below, first)"
   ]
  },
  {
   "cell_type": "code",
   "execution_count": null,
   "metadata": {
    "collapsed": false
   },
   "outputs": [],
   "source": [
    "\"\"\" These first few lines below import the IPython definitions and methods that we will use. \n",
    "Please Refer to ipython_api.py for the implementation \"\"\"\n",
    "from ipywidgets import interact, interact_manual, fixed\n",
    "import sys\n",
    "sys.path+=['..']\n",
    "from sdp_par_model import reports as iapi\n",
    "from sdp_par_model.config import PipelineConfig\n",
    "from sdp_par_model.parameters.definitions import *\n",
    "from sdp_par_model.parameters.definitions import Constants as c\n",
    "# Do plotting inline since sending to a specific file in jupyter/matplotlib is fiddly\n",
    "%matplotlib inline\n",
    "\n",
    "\n",
    "\"\"\"\n",
    "# NB Recent versions of IPython (4.x.x) require that ipywidgets be installed separately for the \n",
    "import lines below to work. Additionally, IPython.html has been deprecated. Only kept here for \n",
    "backward-compatibility (for the time being)\n",
    "\"\"\"\n",
    "#from IPython.html.widgets import interact, interactive, fixed\n",
    "#from IPython.html.widgets.interaction import interact_manual\n",
    "#from IPython.html import widgets\n",
    "\n",
    "# The lines below define the available telescopes, bands and modes that may be chosen.\n",
    "\n",
    "available_teles = (Telescopes.SKA1_Low, Telescopes.SKA1_Low_old, Telescopes.SKA1_Mid, Telescopes.SKA1_Mid_old, \n",
    "                   Telescopes.SKA1_Sur_old, Telescopes.SKA2_Low, Telescopes.SKA2_Mid)\n",
    "available_bands = (Bands.Low, \n",
    "                   Bands.Mid1, Bands.Mid2, Bands.Mid5A, Bands.Mid5B, \n",
    "                   Bands.Sur1)\n",
    "verbose = False\n",
    "# Scale the predict step according to the facet size not the FOV : See TCC-SDP-151123-1-1\n",
    "scale_predict_by_facet = True\n",
    "adjusts = 'scale_predict_by_facet=%s' % scale_predict_by_facet\n"
   ]
  },
  {
   "cell_type": "markdown",
   "metadata": {},
   "source": [
    "## Get summaries"
   ]
  },
  {
   "cell_type": "code",
   "execution_count": null,
   "metadata": {
    "collapsed": false,
    "scrolled": false
   },
   "outputs": [],
   "source": [
    "verbosity='Overview'\n",
    "\n",
    "for spbf in [True]:\n",
    " for telescope, band in [(Telescopes.SKA1_Low, Bands.Low),\n",
    "                         (Telescopes.SKA1_Mid, Bands.Mid1),\n",
    "                         (Telescopes.SKA1_Mid, Bands.Mid2)]:\n",
    "  for pipeline1, pipeline2 in [(Pipelines.DPrepA, Pipelines.DPrepA), # TODO: DPrepA_Image\n",
    "                               (Pipelines.Fast_Img, Pipelines.DPrepC)]:\n",
    "    iapi.compare_telescopes_default(telescope, band, pipeline1, adjusts,\\\n",
    "                                    telescope, band, pipeline2, adjusts,\\\n",
    "                                    verbosity=verbosity)\n",
    "\n"
   ]
  },
  {
   "cell_type": "markdown",
   "metadata": {
    "collapsed": true
   },
   "source": [
    "## Evaluate Rflop, Rio, Mw_cache as function of tsnap and nfacet over all combinations"
   ]
  },
  {
   "cell_type": "code",
   "execution_count": null,
   "metadata": {
    "collapsed": false,
    "scrolled": false
   },
   "outputs": [],
   "source": [
    "from IPython.display import display, HTML\n",
    "import matplotlib.pyplot as plt\n",
    "import matplotlib.pylab as pylab\n",
    "import numpy as np\n",
    "\n",
    "expressions = ['Rflop', 'Rio', 'Rinterfacet', 'Mw_cache']\n",
    "\n",
    "verbose = False\n",
    "\n",
    "display(HTML('<font color=\"blue\">Computing the result -- this may take several (tens of) seconds.</font>'))\n",
    "for telescope in [Telescopes.SKA1_Mid]:\n",
    "    for pipeline in [Pipelines.DPrepA, Pipelines.DPrepC, Pipelines.Fast_Img]:\n",
    "        if telescope==Telescopes.SKA1_Low:\n",
    "            band=Bands.Low\n",
    "            tsnaps=(10,180)\n",
    "            nfacets=(1,10)\n",
    "            nsteps=10\n",
    "        else:\n",
    "            band=Bands.Mid1\n",
    "            tsnaps=(10,3600)\n",
    "            nfacets=(1,21)\n",
    "            nsteps=20\n",
    "\n",
    "\n",
    "        for expression in expressions:\n",
    "            cfg = PipelineConfig(telescope=telescope, pipeline=pipeline, band=band,\n",
    "                                 scale_predict_by_facet=scale_predict_by_facet)\n",
    "            (p1_values, p2_values, results) = cfg.eval_param_sweep_2d(expression_string=expression,\n",
    "                                                                      parameters=['Tsnap', 'Nfacet'],\n",
    "                                                                      params_ranges=[tsnaps, nfacets],\n",
    "                                                                      number_steps=nsteps, verbose=verbose)\n",
    "            ptitle = 'Log(%s/peta) %s %s %s %s' % (expression, telescope, pipeline, band, scale_predict_by_facet)\n",
    "            iapi.plot_2D_surface(ptitle, p2_values, p1_values, np.log10(results/1e15), ylabel='Tsnap', \n",
    "                                 xlabel='Nfacet', nlevels=100)"
   ]
  },
  {
   "cell_type": "markdown",
   "metadata": {},
   "source": [
    "## Evaluate Rflop, Rio, Mw_cache as function of nfacet (tsnap optimised) over all combinations"
   ]
  },
  {
   "cell_type": "code",
   "execution_count": null,
   "metadata": {
    "collapsed": false,
    "scrolled": false
   },
   "outputs": [],
   "source": [
    "from IPython.display import display, HTML\n",
    "\n",
    "parameter = 'Nfacet'\n",
    "param_val_min =1\n",
    "param_val_max = 7\n",
    "number_steps = 6\n",
    "\n",
    "for telescope in [Telescopes.SKA1_Low, Telescopes.SKA1_Mid]:\n",
    "    if telescope==Telescopes.SKA1_Low:\n",
    "        band=Bands.Low\n",
    "    else:\n",
    "        band=Bands.Mid1\n",
    "    for pipeline in [Pipelines.DPrepA]:\n",
    "        for expression in [ 'Rflop', 'Rio', 'Rinterfacet', 'Mw_cache']:\n",
    "            print(telescope, pipeline, expression)\n",
    "            display(HTML('<font color=\"blue\">Computing the result -- this may take several (tens of) seconds.</font>'))\n",
    "            cfg = PipelineConfig(telescope=telescope, pipeline=pipeline, band=band,\n",
    "                                 scale_predict_by_facet=scale_predict_by_facet)\n",
    "            (param_values, results) = cfg.eval_param_sweep_1d(expression_string=expression, parameter_string=parameter, param_val_min=param_val_min,\n",
    "                                                              param_val_max=param_val_max, number_steps=number_steps, \n",
    "                                                              verbose=False)\n",
    "            header = 'Plotting %s for %s in pipeline %s as a function of %s' % (expression, telescope, pipeline, parameter)\n",
    "            iapi.plot_line_datapoints(header, param_values, np.array(results)/1e15, xlabel=parameter, ylabel=expression)"
   ]
  },
  {
   "cell_type": "code",
   "execution_count": null,
   "metadata": {
    "collapsed": true
   },
   "outputs": [],
   "source": []
  }
 ],
 "metadata": {
  "kernelspec": {
   "display_name": "Python 3",
   "language": "python",
   "name": "python3"
  },
  "language_info": {
   "codemirror_mode": {
    "name": "ipython",
    "version": 3
   },
   "file_extension": ".py",
   "mimetype": "text/x-python",
   "name": "python",
   "nbconvert_exporter": "python",
   "pygments_lexer": "ipython3",
   "version": "3.5.1"
  },
  "widgets": {
   "state": {},
   "version": "1.1.2"
  }
 },
 "nbformat": 4,
 "nbformat_minor": 0
}
