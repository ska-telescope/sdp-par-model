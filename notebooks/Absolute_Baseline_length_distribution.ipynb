{
 "cells": [
  {
   "cell_type": "markdown",
   "metadata": {},
   "source": [
    "# Distribution of absolute baseline lengths"
   ]
  },
  {
   "cell_type": "code",
   "execution_count": null,
   "metadata": {},
   "outputs": [],
   "source": [
    "import numpy as np\n",
    "import os\n",
    "import matplotlib.pyplot as plt\n",
    "from ipywidgets import interact_manual,Textarea\n",
    "%matplotlib inline"
   ]
  },
  {
   "cell_type": "markdown",
   "metadata": {},
   "source": [
    "## Get information on the available layouts"
   ]
  },
  {
   "cell_type": "code",
   "execution_count": null,
   "metadata": {},
   "outputs": [],
   "source": [
    "layout_dir = os.path.join('..', 'data', 'layouts')"
   ]
  },
  {
   "cell_type": "code",
   "execution_count": null,
   "metadata": {},
   "outputs": [],
   "source": [
    "ls $layout_dir"
   ]
  },
  {
   "cell_type": "code",
   "execution_count": null,
   "metadata": {},
   "outputs": [],
   "source": [
    "cat $layout_dir/readme.txt"
   ]
  },
  {
   "cell_type": "markdown",
   "metadata": {},
   "source": [
    "## Define function for reading the layouts\n",
    "\n",
    "It returns two values:\n",
    "- position of array centre;\n",
    "- array of element positions.\n",
    "\n",
    "The layout files define the position of the array centre explictly in the first entry in the file. The SKA1-Mid layouts use the first array element (MeerKAT antenna M000) as the position of the array centre."
   ]
  },
  {
   "cell_type": "code",
   "execution_count": null,
   "metadata": {},
   "outputs": [],
   "source": [
    "dtype_pos = np.dtype([('name', 'U10'), ('lon', 'f8'), ('lat', 'f8')])"
   ]
  },
  {
   "cell_type": "code",
   "execution_count": null,
   "metadata": {},
   "outputs": [],
   "source": [
    "def read_layout(filename):\n",
    "    pos = np.loadtxt(filename, usecols=(0, 1, 2), dtype=dtype_pos)\n",
    "    assert pos[0]['name'] == 'Centre', 'First entry in layout file must be the centre of the array'\n",
    "    cpos = pos[0]\n",
    "    epos = pos[1:]\n",
    "    return cpos, epos"
   ]
  },
  {
   "cell_type": "markdown",
   "metadata": {},
   "source": [
    "## Define functions for computing the baseline length distribution."
   ]
  },
  {
   "cell_type": "markdown",
   "metadata": {},
   "source": [
    "This version doesn't do projection of the baselines."
   ]
  },
  {
   "cell_type": "code",
   "execution_count": null,
   "metadata": {},
   "outputs": [],
   "source": [
    "def baseline_distribution(cpos, epos, bins):\n",
    "\n",
    "    Rearth = 6371010.0/1000.0\n",
    "    degtorad = np.pi/180.0\n",
    "\n",
    "    array_x_centre = Rearth * np.cos(cpos['lat']*degtorad) * np.cos(cpos['lon']*degtorad)\n",
    "    array_y_centre = Rearth * np.cos(cpos['lat']*degtorad) * np.sin(cpos['lon']*degtorad)\n",
    "    array_z_centre = Rearth * np.sin(cpos['lat']*degtorad)\n",
    "\n",
    "    Array_dx = []\n",
    "    Array_dy = []\n",
    "    Array_dz = []\n",
    "    Array_r = []\n",
    "    Baseline_lengths_uv = []\n",
    "\n",
    "    Number_positions = len(epos)\n",
    "    print('Number of positions:', Number_positions)\n",
    "\n",
    "    for i in range(Number_positions):\n",
    "        Array_dx.append(Rearth*np.cos(epos['lat'][i]*degtorad)*np.cos(epos['lon'][i]*degtorad)-array_x_centre)\n",
    "        Array_dy.append(Rearth*np.cos(epos['lat'][i]*degtorad)*np.sin(epos['lon'][i]*degtorad)-array_y_centre)\n",
    "        Array_dz.append(Rearth*np.sin(epos['lat'][i]*degtorad)-array_z_centre)\n",
    "        Array_r.append(np.sqrt(Array_dx[i]**2+Array_dy[i]**2+Array_dz[i]**2))\n",
    "\n",
    "    Baseline_lengths = []\n",
    "    for i in range(Number_positions):\n",
    "        for j in range(Number_positions):\n",
    "            if j > i:\n",
    "                blength=(np.sqrt((Array_dx[j]-Array_dx[i])**2 + (Array_dy[j]-Array_dy[i])**2 + (Array_dz[j]-Array_dz[i])**2))\n",
    "                Baseline_lengths.append(blength)\n",
    "    \n",
    "    print('Number of baselines:', len(Baseline_lengths))\n",
    "    print(f'Maximum length: {max(*Baseline_lengths):.2f} km')\n",
    "    print('Number of bins used:', len(bins)-1)\n",
    "\n",
    "    n, _ = np.histogram(Baseline_lengths, bins=bins, density=False)\n",
    "    \n",
    "    #n, bins, patches = plt.hist(Baseline_lengths, bins, density=False, histtype='stepfilled')\n",
    "    #plt.ylabel('Number of baselines')\n",
    "    #plt.xlabel('Baseline length, km')\n",
    "    #plt.yscale('log')\n",
    "    #plt.show()\n",
    "\n",
    "    percents = 100 * n / sum(n)\n",
    "\n",
    "    print('Bin upper edges:', 1000.0 * bins[1:])\n",
    "    print('Percentage baselines per bin:', percents)"
   ]
  },
  {
   "cell_type": "markdown",
   "metadata": {},
   "source": [
    "This version does do projection of the baselines (in a somewhat haphazard way)."
   ]
  },
  {
   "cell_type": "code",
   "execution_count": null,
   "metadata": {},
   "outputs": [],
   "source": [
    "def baseline_distribution_with_projection(cpos, epos, bins):\n",
    "\n",
    "    Rearth = 6371010.0/1000.0\n",
    "    degtorad = np.pi/180.0\n",
    "\n",
    "    array_x_centre = Rearth * np.cos(cpos['lat']*degtorad) * np.cos(cpos['lon']*degtorad)\n",
    "    array_y_centre = Rearth * np.cos(cpos['lat']*degtorad) * np.sin(cpos['lon']*degtorad)\n",
    "    array_z_centre = Rearth * np.sin(cpos['lat']*degtorad)\n",
    "\n",
    "    Array_dx = []\n",
    "    Array_dy = []\n",
    "    Array_dz = []\n",
    "    Array_r = []\n",
    "    Baseline_lengths_uv = []\n",
    "\n",
    "    Number_positions = len(epos)\n",
    "    \n",
    "    for i in range(Number_positions):\n",
    "        Array_dx.append(Rearth*np.cos(epos['lat'][i]*degtorad)*np.cos(epos['lon'][i]*degtorad)-array_x_centre)\n",
    "        Array_dy.append(Rearth*np.cos(epos['lat'][i]*degtorad)*np.sin(epos['lon'][i]*degtorad)-array_y_centre)\n",
    "        Array_dz.append(Rearth*np.sin(epos['lat'][i]*degtorad)-array_z_centre)\n",
    "        Array_r.append(np.sqrt(Array_dx[i]**2+Array_dy[i]**2+Array_dz[i]**2))\n",
    "\n",
    "    phi_degrees = [-40, -30, -10, 0, 10, 20, 30, 40]\n",
    "    elevation_degrees = [50, 60, 70]\n",
    "\n",
    "    for k in range(len(phi_degrees)):\n",
    "        phi = phi_degrees[k] / 57.3 \n",
    "        #print('phi is', phi * 57.3)\n",
    "        for l in range(len(elevation_degrees)):\n",
    "            elevation=elevation_degrees[l] / 57.3\n",
    "            #print('elevation is', elevation * 57.3)\n",
    "            for i in range(Number_positions):\n",
    "                for j in range(Number_positions):\n",
    "                    if j > i:\n",
    "                        #rotate baselines to phi position (phi=0 means looking eastwards, phi=pi/2 means looking north)\n",
    "                        #then reduce baseline lengths in direction of view by elevation factor\n",
    "                        a = (Array_dx[j]-Array_dx[i])*np.cos(phi) - (Array_dy[j]-Array_dy[i])*np.sin(phi)\n",
    "                        b = (Array_dx[j]-Array_dx[i])*np.sin(phi) + (Array_dy[j]-Array_dy[i])*np.cos(phi)\n",
    "                        blength_uv = np.sqrt((a*np.sin(elevation))**2 + (b)**2)\n",
    "                        Baseline_lengths_uv.append(blength_uv)\n",
    "                                        \n",
    "    print('Total number of baselines in all projections:', len(Baseline_lengths_uv))\n",
    "    print('Number of bins used:', len(bins)-1)\n",
    "\n",
    "    n, _ = np.histogram(Baseline_lengths_uv, bins=bins, density=False)\n",
    "    \n",
    "    #n, bins, patches = plt.hist(Baseline_lengths, bins, density=False, histtype='stepfilled')\n",
    "    #plt.ylabel('Number of baselines')\n",
    "    #plt.xlabel('Baseline length, km')\n",
    "    #plt.yscale('log')\n",
    "    #plt.show()\n",
    "\n",
    "    percents = 100 * n / sum(n)\n",
    "\n",
    "    print('Bin upper edges:', 1000.0 * bins[1:])\n",
    "    print('Percentage baselines per bin:', percents)"
   ]
  },
  {
   "cell_type": "markdown",
   "metadata": {},
   "source": [
    "## Baseline distribution for SKA1-Low"
   ]
  },
  {
   "cell_type": "code",
   "execution_count": null,
   "metadata": {},
   "outputs": [],
   "source": [
    "layout = 'SKA1_Low_rev_04.txt'\n",
    "layout_file = os.path.join(layout_dir, layout)\n",
    "cpos, epos = read_layout(layout_file)\n",
    "baseline_bins = np.array((0.0, 65.0/16.0, 65.0/8.0, 65.0/4.0, 65.0/2.0, 65.0))\n",
    "baseline_distribution(cpos, epos, baseline_bins)"
   ]
  },
  {
   "cell_type": "markdown",
   "metadata": {},
   "source": [
    "## Baseline distribution for SKA1-Mid"
   ]
  },
  {
   "cell_type": "code",
   "execution_count": null,
   "metadata": {},
   "outputs": [],
   "source": [
    "layout = 'SKA1_Mid_rev_04.txt'\n",
    "layout_file = os.path.join(layout_dir, layout)\n",
    "cpos, epos = read_layout(layout_file)\n",
    "baseline_bins = np.array((0.0, 5.0, 7.5, 10.0, 15.0, 25.0, 35.0, 55.0, 75.0, 90.0, 110.0, 130.0, 150.0))\n",
    "baseline_distribution(cpos, epos, baseline_bins)"
   ]
  },
  {
   "cell_type": "markdown",
   "metadata": {},
   "source": [
    "# Subsetting\n",
    "\n",
    "Use for identify sub-layouts for array assemblies. For Low stations, any non-centre station name is assumed to select the group (i.e. 'N4' selects 'N4-1' through to 'N4-6')."
   ]
  },
  {
   "cell_type": "code",
   "execution_count": null,
   "metadata": {},
   "outputs": [],
   "source": [
    "import os\n",
    "import re\n",
    "@interact_manual(receptors=Textarea(placeholder='Type receptor names - separators are ignored'))\n",
    "def save_subset(receptors='', output_file=os.path.splitext(layout)[0]+\"_var.txt\", low_stations=False):\n",
    "    receptors = [ r for r in re.split(\"[,;\\s]+\", receptors) if r ]\n",
    "    if low_stations:\n",
    "        re_re = re.compile(r\"|\".join( 'C' + station if str.isdigit(station[0]) else station + r'\\-\\d+'\n",
    "                                      for station in receptors ))    \n",
    "        baseline_bins = np.array((0.0, 65.0/16.0, 65.0/8.0, 65.0/4.0, 65.0/2.0, 65.0)) / 10\n",
    "    else:\n",
    "        re_re = re.compile(r\"|\".join( dish for dish in receptors ))\n",
    "        baseline_bins = np.array((0.0, 5.0, 7.5, 10.0, 15.0, 25.0, 35.0, 55.0, 75.0, 90.0, 110.0, 130.0, 150.0))\n",
    "    epos_new = epos[ [ re_re.fullmatch(name) is not None for name in epos['name']] ]\n",
    "    baseline_distribution(cpos, epos_new, baseline_bins)\n",
    "    np.savetxt(os.path.join('..', 'data', 'layouts', output_file),\n",
    "               np.hstack([cpos, epos_new]),\n",
    "               fmt=[\"%s\", \"%.6f\", \"%.6f\"], delimiter='\\t', header=f'Generated from {layout}')"
   ]
  }
 ],
 "metadata": {
  "kernelspec": {
   "display_name": "Python 3 (ipykernel)",
   "language": "python",
   "name": "python3"
  },
  "language_info": {
   "codemirror_mode": {
    "name": "ipython",
    "version": 3
   },
   "file_extension": ".py",
   "mimetype": "text/x-python",
   "name": "python",
   "nbconvert_exporter": "python",
   "pygments_lexer": "ipython3",
   "version": "3.9.18"
  },
  "widgets": {
   "state": {},
   "version": "1.1.2"
  }
 },
 "nbformat": 4,
 "nbformat_minor": 4
}
