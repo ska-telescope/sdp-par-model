{
 "cells": [
  {
   "cell_type": "markdown",
   "metadata": {},
   "source": [
    "# SDP Imaging Requirements"
   ]
  },
  {
   "cell_type": "code",
   "execution_count": null,
   "metadata": {},
   "outputs": [],
   "source": [
    "import sys\n",
    "sys.path.insert(0, \"..\")\n",
    "\n",
    "from ipywidgets import interact_manual\n",
    "from sdp_par_model import reports\n",
    "from sdp_par_model.parameters.definitions import Pipelines\n",
    "%matplotlib inline"
   ]
  },
  {
   "cell_type": "markdown",
   "metadata": {},
   "source": [
    "## Compute requirements for two different telescope configurations\n",
    "\n",
    "Choose a combination of telescope, band, pipeline, and any additional adjusts for each telescope. The output verbosity also needs to be set and `save_filename` is an optional argument for saving the output plot as a PDF.\n",
    "\n",
    "Once the object is created, the `run` method can be called to compute the requirements. If `interactive` is True, a widget is displayed to select the inputs."
   ]
  },
  {
   "cell_type": "code",
   "execution_count": null,
   "metadata": {},
   "outputs": [],
   "source": [
    "app = reports.CompareTelescopes(\n",
    "    telescope_1='SKA1_Low',\n",
    "    band_1='Low',\n",
    "    pipeline_1='DPrepA',\n",
    "    adjusts_1='',\n",
    "    telescope_2='SKA1_Low',\n",
    "    band_2='Low',\n",
    "    pipeline_2='DPrepA',\n",
    "    adjusts_2='',\n",
    "    verbose='Overview',\n",
    "    save_filename=None,\n",
    ")\n",
    "app.run(interactive=False)"
   ]
  },
  {
   "cell_type": "markdown",
   "metadata": {},
   "source": [
    "## Compute requirements for a custom telescope and pipeline configuration\n",
    "\n",
    "A yaml file needs to be created that contains the custom telescope observation attributes. Examples are provided in the `/data/yaml/` directory. The output verbosity also needs to be set.\n",
    "\n",
    "A custom telescope array configuration can be used by creating a txt file that contains each antenna's latitude and longitude coordinates - `array_config_file` must be set in the yaml file to use a custom telescope array. Example layout files are provided in the `/data/layouts/` directory. A baseline histogram is created from the antenna positions to simplify calculations and `array_config_bins` must be specified in the yaml which sets the number of histogram bins used. More bins makes the parametric model more accurate but increases the computation time.\n",
    "\n",
    "Once the object is created, the `run` method can be called to compute the requirements. There's no interactive mode for this case."
   ]
  },
  {
   "cell_type": "code",
   "execution_count": null,
   "metadata": {},
   "outputs": [],
   "source": [
    "app = reports.Observation(\n",
    "    use_yaml=True,\n",
    "    yaml_path=\"../data/yaml/hpso_max_mid_band1_ICal.yml\",\n",
    "    verbose='Overview',\n",
    ")\n",
    "app.run()"
   ]
  },
  {
   "cell_type": "markdown",
   "metadata": {},
   "source": [
    "# Compute requirements for a hard-coded HPSO\n",
    "\n",
    "The following cell shows the Observation class being used with a specified HPSO, rather than a custom observation without an interactive interface."
   ]
  },
  {
   "cell_type": "code",
   "execution_count": null,
   "metadata": {},
   "outputs": [],
   "source": [
    "app = reports.Observation(\n",
    "    pipeline='Ingest',\n",
    "    hpso='hpso04b',\n",
    "    verbose='Overview',\n",
    ")\n",
    "app.run()"
   ]
  },
  {
   "cell_type": "markdown",
   "metadata": {},
   "source": [
    "## Compute requirements for a High Priority Science Objective (HPSO)\n",
    "\n",
    "Interactively choose a HPSO, pipeline, and adjusts."
   ]
  },
  {
   "cell_type": "code",
   "execution_count": null,
   "metadata": {},
   "outputs": [],
   "source": [
    "hpso_toggles, pipeline_toggles = reports.make_hpso_pipeline_toggles()\n",
    "interact_manual(reports.evaluate_hpso_optimized, adjusts=reports.get_adjusts(),\n",
    "                hpso=hpso_toggles, hpso_pipe=pipeline_toggles, verbosity=reports.get_toggles(reports.VERBOSE_DISPLAY))"
   ]
  },
  {
   "cell_type": "markdown",
   "metadata": {},
   "source": [
    "## Compute requirements for a telescope configuration with a maximum baseline and frequency channels\n",
    "\n",
    "Choose a combination of telescope, band, pipeline, maximum baseline, and maximum number of frequency channels. This allows a convenient way of computing elaborate (slow) optimizations and visualizations per computation."
   ]
  },
  {
   "cell_type": "code",
   "execution_count": null,
   "metadata": {},
   "outputs": [],
   "source": [
    "tel_toggles, band_toggles = reports.make_band_toggles()\n",
    "interact_manual(reports.evaluate_telescope_optimized,\n",
    "                max_baseline=(10000,200000), Nf_max = (1,128000,1), telescope=tel_toggles,\n",
    "                band=band_toggles, pipeline=reports.get_toggles(sorted(Pipelines.available_pipelines)),\n",
    "                verbosity=reports.get_toggles(reports.VERBOSE_DISPLAY))"
   ]
  },
  {
   "cell_type": "code",
   "execution_count": null,
   "metadata": {},
   "outputs": [],
   "source": []
  }
 ],
 "metadata": {
  "anaconda-cloud": {},
  "kernelspec": {
   "display_name": "Python 3 (ipykernel)",
   "language": "python",
   "name": "python3"
  },
  "language_info": {
   "codemirror_mode": {
    "name": "ipython",
    "version": 3
   },
   "file_extension": ".py",
   "mimetype": "text/x-python",
   "name": "python",
   "nbconvert_exporter": "python",
   "pygments_lexer": "ipython3",
   "version": "3.11.5"
  }
 },
 "nbformat": 4,
 "nbformat_minor": 4
}
