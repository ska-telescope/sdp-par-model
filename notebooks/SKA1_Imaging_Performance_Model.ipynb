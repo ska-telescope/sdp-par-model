{
 "cells": [
  {
   "cell_type": "markdown",
   "metadata": {},
   "source": [
    "# Interactive evaluation of SKA1 SDP imaging requirements\n"
   ]
  },
  {
   "cell_type": "code",
   "execution_count": null,
   "metadata": {},
   "outputs": [],
   "source": [
    "import sys\n",
    "sys.path.insert(0, \"..\")\n",
    "\n",
    "from ipywidgets import interact_manual\n",
    "from sdp_par_model import reports\n",
    "from sdp_par_model.parameters.definitions import Pipelines\n",
    "%matplotlib inline"
   ]
  },
  {
   "cell_type": "markdown",
   "metadata": {},
   "source": [
    "## Compare telescopes side-by-side\n",
    "\n",
    "Choose a (valid) combination of telescope, band and pipeline below. This generally calculates telescope parameters for maximum use cases, override values as appropriate."
   ]
  },
  {
   "cell_type": "code",
   "execution_count": null,
   "metadata": {},
   "outputs": [],
   "source": [
    "app = reports.CompareTelescopes(\n",
    "    telescope_1='SKA1_Low',\n",
    "    band_1='Low',\n",
    "    pipeline_1='DPrepA',\n",
    "    adjusts_1='',\n",
    "    telescope_2='SKA1_Low',\n",
    "    band_2='Low',\n",
    "    pipeline_2='DPrepA',\n",
    "    adjusts_2='',\n",
    "    verbose='Overview',\n",
    ")\n",
    "app.run(interactive=False)"
   ]
  },
  {
   "cell_type": "markdown",
   "metadata": {},
   "source": [
    "## Compute results for custom Telescope and Pipeline Configurations\n",
    "\n",
    "An input yaml file is required."
   ]
  },
  {
   "cell_type": "code",
   "execution_count": null,
   "metadata": {},
   "outputs": [],
   "source": [
    "app = reports.CustomObservation(\n",
    "    \"../data/yaml/hpso_max_mid_band1_ICal.yml\",\n",
    "    custom_array=True,\n",
    "    array_txt_file=\"../data/layouts/SKA1_Mid_rev_02.txt\",\n",
    "    num_bins=10,\n",
    ")\n",
    "app.run()"
   ]
  },
  {
   "cell_type": "markdown",
   "metadata": {},
   "source": [
    "## Compute results for the High Priority Science Objectives"
   ]
  },
  {
   "cell_type": "code",
   "execution_count": null,
   "metadata": {},
   "outputs": [],
   "source": [
    "hpso_toggles, pipeline_toggles = reports.make_hpso_pipeline_toggles()\n",
    "interact_manual(reports.evaluate_hpso_optimized, adjusts=reports.get_adjusts(),\n",
    "                hpso=hpso_toggles, hpso_pipe=pipeline_toggles, verbosity=reports.get_toggles(reports.VERBOSE_DISPLAY))"
   ]
  },
  {
   "cell_type": "markdown",
   "metadata": {},
   "source": [
    "## We can also interactively play with parameters (via sliders)\n",
    "\n",
    "This allows more conveniently computing elaborate (slow) optimizations and visualizations per computation"
   ]
  },
  {
   "cell_type": "code",
   "execution_count": null,
   "metadata": {},
   "outputs": [],
   "source": [
    "tel_toggles, band_toggles = reports.make_band_toggles()\n",
    "interact_manual(reports.evaluate_telescope_optimized,\n",
    "                max_baseline=(10000,200000), Nf_max = (1,128000,1), telescope=tel_toggles,\n",
    "                band=band_toggles, pipeline=reports.get_toggles(sorted(Pipelines.available_pipelines)),\n",
    "                verbosity=reports.get_toggles(reports.VERBOSE_DISPLAY))"
   ]
  },
  {
   "cell_type": "code",
   "execution_count": null,
   "metadata": {},
   "outputs": [],
   "source": []
  }
 ],
 "metadata": {
  "anaconda-cloud": {},
  "kernelspec": {
   "display_name": "Python 3 (ipykernel)",
   "language": "python",
   "name": "python3"
  },
  "language_info": {
   "codemirror_mode": {
    "name": "ipython",
    "version": 3
   },
   "file_extension": ".py",
   "mimetype": "text/x-python",
   "name": "python",
   "nbconvert_exporter": "python",
   "pygments_lexer": "ipython3",
   "version": "3.9.18"
  }
 },
 "nbformat": 4,
 "nbformat_minor": 4
}
